{
 "cells": [
  {
   "cell_type": "markdown",
   "metadata": {
    "id": "E0vqbgi9ay0H"
   },
   "source": [
    "# Яндекс.Музыка"
   ]
  },
  {
   "cell_type": "markdown",
   "metadata": {
    "id": "VUC88oWjTJw2"
   },
   "source": [
    "### Сравнение Москвы и Петербурга окружено мифами. Например:\n",
    " * Москва — мегаполис, подчинённый жёсткому ритму рабочей недели;\n",
    " * Петербург — культурная столица, со своими вкусами.\n",
    "\n",
    "На данных Яндекс.Музыки мы сравним поведение пользователей двух столиц.\n",
    "\n",
    "**Цель исследования** — проверим три гипотезы:\n",
    "1. Активность пользователей зависит от дня недели. Причём в Москве и Петербурге это проявляется по-разному.\n",
    "2. В понедельник утром в Москве преобладают одни жанры, а в Петербурге — другие. Так же и вечером пятницы преобладают разные жанры — в зависимости от города. \n",
    "3. Москва и Петербург предпочитают разные жанры музыки. В Москве чаще слушают поп-музыку, в Петербурге — русский рэп.\n",
    "\n",
    "**Ход исследования**\n",
    "\n",
    "Данные о поведении пользователей мы получим из файла `yandex_music_project.csv`. О качестве данных ничего не известно. Поэтому перед проверкой гипотез понадобится обзор данных. \n",
    "\n",
    "Мы проверим данные на ошибки и оценим их влияние на исследование. Затем, на этапе предобработки мы поищем возможность исправить самые критичные ошибки данных.\n",
    " \n",
    "Таким образом, исследование пройдёт в три этапа:\n",
    " 1. Обзор данных.\n",
    " 2. Предобработка данных.\n",
    " 3. Проверка гипотез.\n",
    "\n"
   ]
  },
  {
   "cell_type": "markdown",
   "metadata": {
    "id": "Ml1hmfXC_Zcs"
   },
   "source": [
    "## Обзор данных\n",
    "\n",
    "Составим первое представление о данных Яндекс.Музыки.\n",
    "\n",
    "\n"
   ]
  },
  {
   "cell_type": "markdown",
   "metadata": {
    "id": "57eAOGIz_Zcs"
   },
   "source": [
    "Импортируем эту библиотеку `pandas`."
   ]
  },
  {
   "cell_type": "code",
   "execution_count": 1,
   "metadata": {
    "id": "AXN7PHPN_Zcs"
   },
   "outputs": [],
   "source": [
    "# импорт библиотеки pandas, обозначив её как  перменная pd\n",
    "import pandas as pd "
   ]
  },
  {
   "cell_type": "markdown",
   "metadata": {
    "id": "SG23P8tt_Zcs"
   },
   "source": [
    "Прочитаем файл `yandex_music_project.csv` из папки `/datasets` и сохраним его в переменной `df`:"
   ]
  },
  {
   "cell_type": "code",
   "execution_count": 2,
   "metadata": {
    "id": "fFVu7vqh_Zct"
   },
   "outputs": [],
   "source": [
    "# переменная для пути к файлу с базой данных на локальном устройстве(можно заменить)\n",
    "path_to_db = '/users/danielnodelman/yandex_ds/yandex_projects/yandex_music_project/'\n",
    "# чтение файла с данными и сохранение в df\n",
    "df = pd.read_csv(path_to_db+'yandex_music_project.csv') "
   ]
  },
  {
   "cell_type": "markdown",
   "metadata": {
    "id": "rDoOMd3uTqnZ"
   },
   "source": [
    "Выведем на экран первые десять строк таблицы:"
   ]
  },
  {
   "cell_type": "code",
   "execution_count": 3,
   "metadata": {
    "id": "oWTVX3gW_Zct"
   },
   "outputs": [
    {
     "data": {
      "text/html": [
       "<div>\n",
       "<style scoped>\n",
       "    .dataframe tbody tr th:only-of-type {\n",
       "        vertical-align: middle;\n",
       "    }\n",
       "\n",
       "    .dataframe tbody tr th {\n",
       "        vertical-align: top;\n",
       "    }\n",
       "\n",
       "    .dataframe thead th {\n",
       "        text-align: right;\n",
       "    }\n",
       "</style>\n",
       "<table border=\"1\" class=\"dataframe\">\n",
       "  <thead>\n",
       "    <tr style=\"text-align: right;\">\n",
       "      <th></th>\n",
       "      <th>userID</th>\n",
       "      <th>Track</th>\n",
       "      <th>artist</th>\n",
       "      <th>genre</th>\n",
       "      <th>City</th>\n",
       "      <th>time</th>\n",
       "      <th>Day</th>\n",
       "    </tr>\n",
       "  </thead>\n",
       "  <tbody>\n",
       "    <tr>\n",
       "      <th>0</th>\n",
       "      <td>FFB692EC</td>\n",
       "      <td>Kamigata To Boots</td>\n",
       "      <td>The Mass Missile</td>\n",
       "      <td>rock</td>\n",
       "      <td>Saint-Petersburg</td>\n",
       "      <td>20:28:33</td>\n",
       "      <td>Wednesday</td>\n",
       "    </tr>\n",
       "    <tr>\n",
       "      <th>1</th>\n",
       "      <td>55204538</td>\n",
       "      <td>Delayed Because of Accident</td>\n",
       "      <td>Andreas Rönnberg</td>\n",
       "      <td>rock</td>\n",
       "      <td>Moscow</td>\n",
       "      <td>14:07:09</td>\n",
       "      <td>Friday</td>\n",
       "    </tr>\n",
       "    <tr>\n",
       "      <th>2</th>\n",
       "      <td>20EC38</td>\n",
       "      <td>Funiculì funiculà</td>\n",
       "      <td>Mario Lanza</td>\n",
       "      <td>pop</td>\n",
       "      <td>Saint-Petersburg</td>\n",
       "      <td>20:58:07</td>\n",
       "      <td>Wednesday</td>\n",
       "    </tr>\n",
       "    <tr>\n",
       "      <th>3</th>\n",
       "      <td>A3DD03C9</td>\n",
       "      <td>Dragons in the Sunset</td>\n",
       "      <td>Fire + Ice</td>\n",
       "      <td>folk</td>\n",
       "      <td>Saint-Petersburg</td>\n",
       "      <td>08:37:09</td>\n",
       "      <td>Monday</td>\n",
       "    </tr>\n",
       "    <tr>\n",
       "      <th>4</th>\n",
       "      <td>E2DC1FAE</td>\n",
       "      <td>Soul People</td>\n",
       "      <td>Space Echo</td>\n",
       "      <td>dance</td>\n",
       "      <td>Moscow</td>\n",
       "      <td>08:34:34</td>\n",
       "      <td>Monday</td>\n",
       "    </tr>\n",
       "    <tr>\n",
       "      <th>5</th>\n",
       "      <td>842029A1</td>\n",
       "      <td>Преданная</td>\n",
       "      <td>IMPERVTOR</td>\n",
       "      <td>rusrap</td>\n",
       "      <td>Saint-Petersburg</td>\n",
       "      <td>13:09:41</td>\n",
       "      <td>Friday</td>\n",
       "    </tr>\n",
       "    <tr>\n",
       "      <th>6</th>\n",
       "      <td>4CB90AA5</td>\n",
       "      <td>True</td>\n",
       "      <td>Roman Messer</td>\n",
       "      <td>dance</td>\n",
       "      <td>Moscow</td>\n",
       "      <td>13:00:07</td>\n",
       "      <td>Wednesday</td>\n",
       "    </tr>\n",
       "    <tr>\n",
       "      <th>7</th>\n",
       "      <td>F03E1C1F</td>\n",
       "      <td>Feeling This Way</td>\n",
       "      <td>Polina Griffith</td>\n",
       "      <td>dance</td>\n",
       "      <td>Moscow</td>\n",
       "      <td>20:47:49</td>\n",
       "      <td>Wednesday</td>\n",
       "    </tr>\n",
       "    <tr>\n",
       "      <th>8</th>\n",
       "      <td>8FA1D3BE</td>\n",
       "      <td>И вновь продолжается бой</td>\n",
       "      <td>NaN</td>\n",
       "      <td>ruspop</td>\n",
       "      <td>Moscow</td>\n",
       "      <td>09:17:40</td>\n",
       "      <td>Friday</td>\n",
       "    </tr>\n",
       "    <tr>\n",
       "      <th>9</th>\n",
       "      <td>E772D5C0</td>\n",
       "      <td>Pessimist</td>\n",
       "      <td>NaN</td>\n",
       "      <td>dance</td>\n",
       "      <td>Saint-Petersburg</td>\n",
       "      <td>21:20:49</td>\n",
       "      <td>Wednesday</td>\n",
       "    </tr>\n",
       "  </tbody>\n",
       "</table>\n",
       "</div>"
      ],
      "text/plain": [
       "     userID                        Track            artist   genre  \\\n",
       "0  FFB692EC            Kamigata To Boots  The Mass Missile    rock   \n",
       "1  55204538  Delayed Because of Accident  Andreas Rönnberg    rock   \n",
       "2    20EC38            Funiculì funiculà       Mario Lanza     pop   \n",
       "3  A3DD03C9        Dragons in the Sunset        Fire + Ice    folk   \n",
       "4  E2DC1FAE                  Soul People        Space Echo   dance   \n",
       "5  842029A1                    Преданная         IMPERVTOR  rusrap   \n",
       "6  4CB90AA5                         True      Roman Messer   dance   \n",
       "7  F03E1C1F             Feeling This Way   Polina Griffith   dance   \n",
       "8  8FA1D3BE     И вновь продолжается бой               NaN  ruspop   \n",
       "9  E772D5C0                    Pessimist               NaN   dance   \n",
       "\n",
       "             City        time        Day  \n",
       "0  Saint-Petersburg  20:28:33  Wednesday  \n",
       "1            Moscow  14:07:09     Friday  \n",
       "2  Saint-Petersburg  20:58:07  Wednesday  \n",
       "3  Saint-Petersburg  08:37:09     Monday  \n",
       "4            Moscow  08:34:34     Monday  \n",
       "5  Saint-Petersburg  13:09:41     Friday  \n",
       "6            Moscow  13:00:07  Wednesday  \n",
       "7            Moscow  20:47:49  Wednesday  \n",
       "8            Moscow  09:17:40     Friday  \n",
       "9  Saint-Petersburg  21:20:49  Wednesday  "
      ]
     },
     "execution_count": 3,
     "metadata": {},
     "output_type": "execute_result"
    }
   ],
   "source": [
    "# получение первых 10 строк таблицы df\n",
    "df.head(10) "
   ]
  },
  {
   "cell_type": "markdown",
   "metadata": {
    "id": "EO73Kwic_Zct"
   },
   "source": [
    "Получаем общую информацию о таблице:"
   ]
  },
  {
   "cell_type": "code",
   "execution_count": 4,
   "metadata": {
    "id": "DSf2kIb-_Zct"
   },
   "outputs": [
    {
     "name": "stdout",
     "output_type": "stream",
     "text": [
      "<class 'pandas.core.frame.DataFrame'>\n",
      "RangeIndex: 65079 entries, 0 to 65078\n",
      "Data columns (total 7 columns):\n",
      " #   Column    Non-Null Count  Dtype \n",
      "---  ------    --------------  ----- \n",
      " 0     userID  65079 non-null  object\n",
      " 1   Track     63848 non-null  object\n",
      " 2   artist    57876 non-null  object\n",
      " 3   genre     63881 non-null  object\n",
      " 4     City    65079 non-null  object\n",
      " 5   time      65079 non-null  object\n",
      " 6   Day       65079 non-null  object\n",
      "dtypes: object(7)\n",
      "memory usage: 3.5+ MB\n"
     ]
    }
   ],
   "source": [
    "# получение общей информации о данных в таблице df\n",
    "df.info()"
   ]
  },
  {
   "cell_type": "markdown",
   "metadata": {
    "id": "TaQ2Iwbr_Zct"
   },
   "source": [
    "Итак, в таблице семь столбцов. Тип данных во всех столбцах — `object`.\n",
    "\n",
    "Согласно документации к данным:\n",
    "* `userID` — идентификатор пользователя;\n",
    "* `Track` — название трека;  \n",
    "* `artist` — имя исполнителя;\n",
    "* `genre` — название жанра;\n",
    "* `City` — город пользователя;\n",
    "* `time` — время начала прослушивания;\n",
    "* `Day` — день недели.\n",
    "\n",
    "В названиях колонок видны три нарушения стиля:\n",
    "1. Строчные буквы сочетаются с прописными.\n",
    "2. Встречаются пробелы.\n",
    "3. Отсутсвует «змеиный регистр».\n",
    "\n",
    "\n",
    "\n",
    "Количество значений в столбцах различается. Значит, в данных есть пропущенные значения.\n"
   ]
  },
  {
   "cell_type": "markdown",
   "metadata": {
    "id": "MCB6-dXG_Zct"
   },
   "source": [
    "**Выводы**\n",
    "\n",
    "В каждой строке таблицы — данные о прослушанном треке. Часть колонок описывает саму композицию: название, исполнителя и жанр. Остальные данные рассказывают о пользователе: из какого он города, когда он слушал музыку. \n",
    "\n",
    "Предварительно можно утверждать, что, данных достаточно для проверки гипотез. Но встречаются пропуски в данных, а в названиях колонок — расхождения с хорошим стилем.\n",
    "\n",
    "Чтобы двигаться дальше, нужно устранить проблемы в данных."
   ]
  },
  {
   "cell_type": "markdown",
   "metadata": {
    "id": "SjYF6Ub9_Zct"
   },
   "source": [
    "## Предобработка данных\n",
    "Исправим стиль в заголовках столбцов, исключим пропуски. Затем проверим данные на дубликаты."
   ]
  },
  {
   "cell_type": "markdown",
   "metadata": {
    "id": "dIaKXr29_Zct"
   },
   "source": [
    "### Стиль заголовков\n",
    "Выводим на экран названия столбцов:"
   ]
  },
  {
   "cell_type": "code",
   "execution_count": 5,
   "metadata": {
    "id": "oKOTdF_Q_Zct"
   },
   "outputs": [
    {
     "data": {
      "text/plain": [
       "Index(['  userID', 'Track', 'artist', 'genre', '  City  ', 'time', 'Day'], dtype='object')"
      ]
     },
     "execution_count": 5,
     "metadata": {},
     "output_type": "execute_result"
    }
   ],
   "source": [
    "# перечень названий столбцов таблицы df\n",
    "df.columns "
   ]
  },
  {
   "cell_type": "markdown",
   "metadata": {
    "id": "FPZA3ki8xe7T"
   },
   "source": []
  },
  {
   "cell_type": "markdown",
   "metadata": {
    "id": "zj5534cv_Zct"
   },
   "source": [
    "Приводим названия в соответствие с хорошим стилем:\n"
   ]
  },
  {
   "cell_type": "code",
   "execution_count": 6,
   "metadata": {
    "id": "ISlFqs5y_Zct"
   },
   "outputs": [],
   "source": [
    "# переименование стобцов\n",
    "df.set_axis(['user_id','track','artist','genre','city','time','day'],axis='columns',inplace=True)"
   ]
  },
  {
   "cell_type": "markdown",
   "metadata": {
    "id": "1dqbh00J_Zct"
   },
   "source": [
    "Проверим результат. "
   ]
  },
  {
   "cell_type": "code",
   "execution_count": 7,
   "metadata": {
    "id": "d4NOAmTW_Zct"
   },
   "outputs": [
    {
     "data": {
      "text/plain": [
       "['user_id', 'track', 'artist', 'genre', 'city', 'time', 'day']"
      ]
     },
     "execution_count": 7,
     "metadata": {},
     "output_type": "execute_result"
    }
   ],
   "source": [
    "# проверка результатов - перечень названий столбцов\n",
    "list(df)"
   ]
  },
  {
   "cell_type": "markdown",
   "metadata": {
    "id": "5ISfbcfY_Zct"
   },
   "source": [
    "### Пропуски значений\n",
    "Посчитаем, сколько в таблице пропущенных значений. "
   ]
  },
  {
   "cell_type": "code",
   "execution_count": 8,
   "metadata": {
    "id": "RskX29qr_Zct",
    "scrolled": true
   },
   "outputs": [
    {
     "data": {
      "text/plain": [
       "user_id       0\n",
       "track      1231\n",
       "artist     7203\n",
       "genre      1198\n",
       "city          0\n",
       "time          0\n",
       "day           0\n",
       "dtype: int64"
      ]
     },
     "execution_count": 8,
     "metadata": {},
     "output_type": "execute_result"
    }
   ],
   "source": [
    "# подсчёт пропусков\n",
    "df.isna().sum()"
   ]
  },
  {
   "cell_type": "markdown",
   "metadata": {
    "id": "qubhgnlO_Zct"
   },
   "source": [
    "Не все пропущенные значения влияют на исследование. Так в `track` и `artist` пропуски не важны для работы. Достаточно заменить их явными обозначениями.\n",
    "\n",
    "Пропуски в `genre` могут помешать сравнению музыкальных вкусов в Москве и Санкт-Петербурге.\n",
    "Придётся:\n",
    "* заполнить и эти пропуски явными обозначениями,\n",
    "* оценить, насколько они повредят расчётам. "
   ]
  },
  {
   "cell_type": "markdown",
   "metadata": {
    "id": "fSv2laPA_Zct"
   },
   "source": [
    "Заменим пропущенные значения в столбцах `track`, `artist` и `genre` на строку `'unknown'`. Для этого создадим список `columns_to_replace`, переберем его элементы циклом `for` и для каждого столбца выполним замену пропущенных значений:"
   ]
  },
  {
   "cell_type": "code",
   "execution_count": 9,
   "metadata": {
    "id": "KplB5qWs_Zct"
   },
   "outputs": [],
   "source": [
    "# перебор названий столбцов в цикле и замена пропущенных значений на 'unknown'\n",
    "columns_to_replace = ['track','artist','genre']\n",
    "for value in columns_to_replace:\n",
    "    df[value] = df[value].fillna('unknown')\n",
    "        \n",
    "    \n",
    "   "
   ]
  },
  {
   "cell_type": "markdown",
   "metadata": {
    "id": "Ilsm-MZo_Zct"
   },
   "source": [
    "Убедимся, что в таблице не осталось пропусков."
   ]
  },
  {
   "cell_type": "code",
   "execution_count": 10,
   "metadata": {
    "id": "Tq4nYRX4_Zct",
    "scrolled": true
   },
   "outputs": [
    {
     "data": {
      "text/plain": [
       "user_id    0\n",
       "track      0\n",
       "artist     0\n",
       "genre      0\n",
       "city       0\n",
       "time       0\n",
       "day        0\n",
       "dtype: int64"
      ]
     },
     "execution_count": 10,
     "metadata": {},
     "output_type": "execute_result"
    }
   ],
   "source": [
    "# повторный подсчёт пропусков\n",
    "df.isna().sum() "
   ]
  },
  {
   "cell_type": "markdown",
   "metadata": {
    "id": "BWKRtBJ3_Zct"
   },
   "source": [
    "### Дубликаты\n",
    "Посчитаем явные дубликаты в таблице :"
   ]
  },
  {
   "cell_type": "code",
   "execution_count": 11,
   "metadata": {
    "id": "36eES_S0_Zct"
   },
   "outputs": [
    {
     "data": {
      "text/plain": [
       "3826"
      ]
     },
     "execution_count": 11,
     "metadata": {},
     "output_type": "execute_result"
    }
   ],
   "source": [
    "# подсчёт явных дубликатов\n",
    "df.duplicated().sum()"
   ]
  },
  {
   "cell_type": "markdown",
   "metadata": {
    "id": "Ot25h6XR_Zct"
   },
   "source": [
    "Удалим явные дубликаты"
   ]
  },
  {
   "cell_type": "code",
   "execution_count": 12,
   "metadata": {
    "id": "exFHq6tt_Zct"
   },
   "outputs": [],
   "source": [
    "# удаление явных дубликатов (с удалением старых индексов и формированием новых)\n",
    "df = df.drop_duplicates().reset_index(drop=True)"
   ]
  },
  {
   "cell_type": "markdown",
   "metadata": {
    "id": "Im2YwBEG_Zct"
   },
   "source": [
    "Убедимся, что полностью от них избавились:"
   ]
  },
  {
   "cell_type": "code",
   "execution_count": 13,
   "metadata": {
    "id": "-8PuNWQ0_Zct"
   },
   "outputs": [
    {
     "data": {
      "text/plain": [
       "0"
      ]
     },
     "execution_count": 13,
     "metadata": {},
     "output_type": "execute_result"
    }
   ],
   "source": [
    "# проверка на отсутствие дубликатов\n",
    "df.duplicated().sum()"
   ]
  },
  {
   "cell_type": "markdown",
   "metadata": {
    "id": "QlFBsxAr_Zct"
   },
   "source": [
    "Теперь избавимся от неявных дубликатов в колонке `genre`. Например, название одного и того же жанра может быть записано немного по-разному. Такие ошибки тоже повлияют на результат исследования."
   ]
  },
  {
   "cell_type": "markdown",
   "metadata": {
    "id": "eSjWwsOh_Zct"
   },
   "source": [
    "Выведем на экран список уникальных названий жанров, отсортированный в алфавитном порядке."
   ]
  },
  {
   "cell_type": "code",
   "execution_count": 14,
   "metadata": {
    "id": "JIUcqzZN_Zct"
   },
   "outputs": [
    {
     "data": {
      "text/plain": [
       "array(['acid', 'acoustic', 'action', 'adult', 'africa', 'afrikaans',\n",
       "       'alternative', 'alternativepunk', 'ambient', 'americana',\n",
       "       'animated', 'anime', 'arabesk', 'arabic', 'arena',\n",
       "       'argentinetango', 'art', 'audiobook', 'author', 'avantgarde',\n",
       "       'axé', 'baile', 'balkan', 'beats', 'bigroom', 'black', 'bluegrass',\n",
       "       'blues', 'bollywood', 'bossa', 'brazilian', 'breakbeat', 'breaks',\n",
       "       'broadway', 'cantautori', 'cantopop', 'canzone', 'caribbean',\n",
       "       'caucasian', 'celtic', 'chamber', 'chanson', 'children', 'chill',\n",
       "       'chinese', 'choral', 'christian', 'christmas', 'classical',\n",
       "       'classicmetal', 'club', 'colombian', 'comedy', 'conjazz',\n",
       "       'contemporary', 'country', 'cuban', 'dance', 'dancehall',\n",
       "       'dancepop', 'dark', 'death', 'deep', 'deutschrock', 'deutschspr',\n",
       "       'dirty', 'disco', 'dnb', 'documentary', 'downbeat', 'downtempo',\n",
       "       'drum', 'dub', 'dubstep', 'eastern', 'easy', 'electronic',\n",
       "       'electropop', 'emo', 'entehno', 'epicmetal', 'estrada', 'ethnic',\n",
       "       'eurofolk', 'european', 'experimental', 'extrememetal', 'fado',\n",
       "       'fairytail', 'film', 'fitness', 'flamenco', 'folk', 'folklore',\n",
       "       'folkmetal', 'folkrock', 'folktronica', 'forró', 'frankreich',\n",
       "       'französisch', 'french', 'funk', 'future', 'gangsta', 'garage',\n",
       "       'german', 'ghazal', 'gitarre', 'glitch', 'gospel', 'gothic',\n",
       "       'grime', 'grunge', 'gypsy', 'handsup', \"hard'n'heavy\", 'hardcore',\n",
       "       'hardstyle', 'hardtechno', 'hip', 'hip-hop', 'hiphop',\n",
       "       'historisch', 'holiday', 'hop', 'horror', 'house', 'hymn', 'idm',\n",
       "       'independent', 'indian', 'indie', 'indipop', 'industrial',\n",
       "       'inspirational', 'instrumental', 'international', 'irish', 'jam',\n",
       "       'japanese', 'jazz', 'jewish', 'jpop', 'jungle', 'k-pop',\n",
       "       'karadeniz', 'karaoke', 'kayokyoku', 'korean', 'laiko', 'latin',\n",
       "       'latino', 'leftfield', 'local', 'lounge', 'loungeelectronic',\n",
       "       'lovers', 'malaysian', 'mandopop', 'marschmusik', 'meditative',\n",
       "       'mediterranean', 'melodic', 'metal', 'metalcore', 'mexican',\n",
       "       'middle', 'minimal', 'miscellaneous', 'modern', 'mood', 'mpb',\n",
       "       'muslim', 'native', 'neoklassik', 'neue', 'new', 'newage',\n",
       "       'newwave', 'nu', 'nujazz', 'numetal', 'oceania', 'old', 'opera',\n",
       "       'orchestral', 'other', 'piano', 'podcasts', 'pop', 'popdance',\n",
       "       'popelectronic', 'popeurodance', 'poprussian', 'post',\n",
       "       'posthardcore', 'postrock', 'power', 'progmetal', 'progressive',\n",
       "       'psychedelic', 'punjabi', 'punk', 'quebecois', 'ragga', 'ram',\n",
       "       'rancheras', 'rap', 'rave', 'reggae', 'reggaeton', 'regional',\n",
       "       'relax', 'religious', 'retro', 'rhythm', 'rnb', 'rnr', 'rock',\n",
       "       'rockabilly', 'rockalternative', 'rockindie', 'rockother',\n",
       "       'romance', 'roots', 'ruspop', 'rusrap', 'rusrock', 'russian',\n",
       "       'salsa', 'samba', 'scenic', 'schlager', 'self', 'sertanejo',\n",
       "       'shanson', 'shoegazing', 'showtunes', 'singer', 'ska', 'skarock',\n",
       "       'slow', 'smooth', 'soft', 'soul', 'soulful', 'sound', 'soundtrack',\n",
       "       'southern', 'specialty', 'speech', 'spiritual', 'sport',\n",
       "       'stonerrock', 'surf', 'swing', 'synthpop', 'synthrock',\n",
       "       'sängerportrait', 'tango', 'tanzorchester', 'taraftar', 'tatar',\n",
       "       'tech', 'techno', 'teen', 'thrash', 'top', 'traditional',\n",
       "       'tradjazz', 'trance', 'tribal', 'trip', 'triphop', 'tropical',\n",
       "       'türk', 'türkçe', 'ukrrock', 'unknown', 'urban', 'uzbek',\n",
       "       'variété', 'vi', 'videogame', 'vocal', 'western', 'world',\n",
       "       'worldbeat', 'ïîï', 'электроника'], dtype=object)"
      ]
     },
     "execution_count": 14,
     "metadata": {},
     "output_type": "execute_result"
    }
   ],
   "source": [
    "# Просмотр уникальных названий жанров\n",
    "df['genre'].sort_values().unique()"
   ]
  },
  {
   "cell_type": "markdown",
   "metadata": {
    "id": "qej-Qmuo_Zct"
   },
   "source": [
    "Просмотрим список и найдём неявные дубликаты названия `hiphop`. Это могут быть названия с ошибками или альтернативные названия того же жанра.\n",
    "\n",
    "Мы видим следующие неявные дубликаты:\n",
    "* *hip*,\n",
    "* *hop*,\n",
    "* *hip-hop*.\n",
    "\n",
    "Чтобы очистить от них таблицу, напишем функцию `replace_wrong_genres()` с двумя параметрами: \n",
    "* `wrong_genres` — список дубликатов,\n",
    "* `correct_genre` — строка с правильным значением.\n",
    "\n",
    "Функция должна исправить колонку `genre` в таблице `df`: заменить каждое значение из списка `wrong_genres` на значение из `correct_genre`."
   ]
  },
  {
   "cell_type": "code",
   "execution_count": 15,
   "metadata": {
    "id": "ErNDkmns_Zct"
   },
   "outputs": [],
   "source": [
    "# Функция для замены неявных дубликатов\n",
    "def replace_wrong_genres(wrong_genres, correct_genre):\n",
    "    for wrong_genre in wrong_genres:\n",
    "        df['genre'] = df['genre'].replace(wrong_genre, correct_genre)\n",
    "wrong_genres = ['hip','hop','hip-hop']\n",
    "correct_genre = 'hiphop'"
   ]
  },
  {
   "cell_type": "markdown",
   "metadata": {
    "id": "aDoBJxbA_Zct"
   },
   "source": [
    "Вызовем `replace_wrong_genres()` и передадим ей такие аргументы, чтобы она устранила неявные дубликаты: вместо `hip`, `hop` и `hip-hop` в таблице должно быть значение `hiphop`:"
   ]
  },
  {
   "cell_type": "code",
   "execution_count": 16,
   "metadata": {
    "id": "YN5i2hpmSo09"
   },
   "outputs": [],
   "source": [
    "# Устранение неявных дубликатов\n",
    "replace_wrong_genres(wrong_genres, correct_genre)"
   ]
  },
  {
   "cell_type": "markdown",
   "metadata": {
    "id": "zQKF16_RG15m"
   },
   "source": [
    "Проверим, что заменили неправильные названия:\n",
    "\n",
    "*   hip\n",
    "*   hop\n",
    "*   hip-hop\n",
    "\n",
    "Выведем отсортированный список уникальных значений столбца `genre`:"
   ]
  },
  {
   "cell_type": "code",
   "execution_count": 17,
   "metadata": {
    "id": "wvixALnFG15m"
   },
   "outputs": [
    {
     "data": {
      "text/plain": [
       "array(['acid', 'acoustic', 'action', 'adult', 'africa', 'afrikaans',\n",
       "       'alternative', 'alternativepunk', 'ambient', 'americana',\n",
       "       'animated', 'anime', 'arabesk', 'arabic', 'arena',\n",
       "       'argentinetango', 'art', 'audiobook', 'author', 'avantgarde',\n",
       "       'axé', 'baile', 'balkan', 'beats', 'bigroom', 'black', 'bluegrass',\n",
       "       'blues', 'bollywood', 'bossa', 'brazilian', 'breakbeat', 'breaks',\n",
       "       'broadway', 'cantautori', 'cantopop', 'canzone', 'caribbean',\n",
       "       'caucasian', 'celtic', 'chamber', 'chanson', 'children', 'chill',\n",
       "       'chinese', 'choral', 'christian', 'christmas', 'classical',\n",
       "       'classicmetal', 'club', 'colombian', 'comedy', 'conjazz',\n",
       "       'contemporary', 'country', 'cuban', 'dance', 'dancehall',\n",
       "       'dancepop', 'dark', 'death', 'deep', 'deutschrock', 'deutschspr',\n",
       "       'dirty', 'disco', 'dnb', 'documentary', 'downbeat', 'downtempo',\n",
       "       'drum', 'dub', 'dubstep', 'eastern', 'easy', 'electronic',\n",
       "       'electropop', 'emo', 'entehno', 'epicmetal', 'estrada', 'ethnic',\n",
       "       'eurofolk', 'european', 'experimental', 'extrememetal', 'fado',\n",
       "       'fairytail', 'film', 'fitness', 'flamenco', 'folk', 'folklore',\n",
       "       'folkmetal', 'folkrock', 'folktronica', 'forró', 'frankreich',\n",
       "       'französisch', 'french', 'funk', 'future', 'gangsta', 'garage',\n",
       "       'german', 'ghazal', 'gitarre', 'glitch', 'gospel', 'gothic',\n",
       "       'grime', 'grunge', 'gypsy', 'handsup', \"hard'n'heavy\", 'hardcore',\n",
       "       'hardstyle', 'hardtechno', 'hiphop', 'historisch', 'holiday',\n",
       "       'horror', 'house', 'hymn', 'idm', 'independent', 'indian', 'indie',\n",
       "       'indipop', 'industrial', 'inspirational', 'instrumental',\n",
       "       'international', 'irish', 'jam', 'japanese', 'jazz', 'jewish',\n",
       "       'jpop', 'jungle', 'k-pop', 'karadeniz', 'karaoke', 'kayokyoku',\n",
       "       'korean', 'laiko', 'latin', 'latino', 'leftfield', 'local',\n",
       "       'lounge', 'loungeelectronic', 'lovers', 'malaysian', 'mandopop',\n",
       "       'marschmusik', 'meditative', 'mediterranean', 'melodic', 'metal',\n",
       "       'metalcore', 'mexican', 'middle', 'minimal', 'miscellaneous',\n",
       "       'modern', 'mood', 'mpb', 'muslim', 'native', 'neoklassik', 'neue',\n",
       "       'new', 'newage', 'newwave', 'nu', 'nujazz', 'numetal', 'oceania',\n",
       "       'old', 'opera', 'orchestral', 'other', 'piano', 'podcasts', 'pop',\n",
       "       'popdance', 'popelectronic', 'popeurodance', 'poprussian', 'post',\n",
       "       'posthardcore', 'postrock', 'power', 'progmetal', 'progressive',\n",
       "       'psychedelic', 'punjabi', 'punk', 'quebecois', 'ragga', 'ram',\n",
       "       'rancheras', 'rap', 'rave', 'reggae', 'reggaeton', 'regional',\n",
       "       'relax', 'religious', 'retro', 'rhythm', 'rnb', 'rnr', 'rock',\n",
       "       'rockabilly', 'rockalternative', 'rockindie', 'rockother',\n",
       "       'romance', 'roots', 'ruspop', 'rusrap', 'rusrock', 'russian',\n",
       "       'salsa', 'samba', 'scenic', 'schlager', 'self', 'sertanejo',\n",
       "       'shanson', 'shoegazing', 'showtunes', 'singer', 'ska', 'skarock',\n",
       "       'slow', 'smooth', 'soft', 'soul', 'soulful', 'sound', 'soundtrack',\n",
       "       'southern', 'specialty', 'speech', 'spiritual', 'sport',\n",
       "       'stonerrock', 'surf', 'swing', 'synthpop', 'synthrock',\n",
       "       'sängerportrait', 'tango', 'tanzorchester', 'taraftar', 'tatar',\n",
       "       'tech', 'techno', 'teen', 'thrash', 'top', 'traditional',\n",
       "       'tradjazz', 'trance', 'tribal', 'trip', 'triphop', 'tropical',\n",
       "       'türk', 'türkçe', 'ukrrock', 'unknown', 'urban', 'uzbek',\n",
       "       'variété', 'vi', 'videogame', 'vocal', 'western', 'world',\n",
       "       'worldbeat', 'ïîï', 'электроника'], dtype=object)"
      ]
     },
     "execution_count": 17,
     "metadata": {},
     "output_type": "execute_result"
    }
   ],
   "source": [
    "# Проверка на неявные дубликаты\n",
    "df['genre'].sort_values().unique()"
   ]
  },
  {
   "cell_type": "markdown",
   "metadata": {
    "id": "jz6a9-7HQUDd"
   },
   "source": [
    "**Выводы**\n",
    "\n",
    "Предобработка обнаружила три проблемы в данных:\n",
    "\n",
    "- нарушения в стиле заголовков,\n",
    "- пропущенные значения,\n",
    "- дубликаты — явные и неявные.\n",
    "\n",
    "Мы исправили заголовки, чтобы упростить работу с таблицей. Без дубликатов исследование станет более точным.\n",
    "\n",
    "Пропущенные значения мы заменили на `'unknown'`. Ещё предстоит увидеть, не повредят ли исследованию пропуски в колонке `genre`.\n",
    "\n",
    "Теперь можно перейти к проверке гипотез. "
   ]
  },
  {
   "cell_type": "markdown",
   "metadata": {
    "id": "WttZHXH0SqKk"
   },
   "source": [
    "## Проверка гипотез"
   ]
  },
  {
   "cell_type": "markdown",
   "metadata": {
    "id": "Im936VVi_Zcu"
   },
   "source": [
    "### Сравнение поведения пользователей двух столиц"
   ]
  },
  {
   "cell_type": "markdown",
   "metadata": {
    "id": "nwt_MuaL_Zcu"
   },
   "source": [
    "Первая гипотеза утверждает, что пользователи по-разному слушают музыку в Москве и Санкт-Петербурге. Проверим это предположение по данным о трёх днях недели — понедельнике, среде и пятнице. "
   ]
  },
  {
   "cell_type": "markdown",
   "metadata": {
    "id": "8Dw_YMmT_Zcu"
   },
   "source": [
    "Оценим активность пользователей в каждом городе. Сгруппируем данные по городу и посчитаем прослушивания в каждой группе.\n",
    "\n"
   ]
  },
  {
   "cell_type": "code",
   "execution_count": 18,
   "metadata": {
    "id": "0_Qs96oh_Zcu"
   },
   "outputs": [
    {
     "data": {
      "text/plain": [
       "city\n",
       "Moscow              42741\n",
       "Saint-Petersburg    18512\n",
       "Name: track, dtype: int64"
      ]
     },
     "execution_count": 18,
     "metadata": {},
     "output_type": "execute_result"
    }
   ],
   "source": [
    "# Подсчёт прослушиваний в каждом городе\n",
    "df.groupby('city')['track'].count()\n"
   ]
  },
  {
   "cell_type": "markdown",
   "metadata": {
    "id": "dzli3w8o_Zcu"
   },
   "source": [
    "В Москве прослушиваний больше, чем в Петербурге. Из этого не следует, что московские пользователи чаще слушают музыку. Просто самих пользователей в Москве больше.\n",
    "\n",
    "Теперь сгруппируем данные по дню недели и подсчитаем прослушивания в понедельник, среду и пятницу. "
   ]
  },
  {
   "cell_type": "code",
   "execution_count": 19,
   "metadata": {
    "id": "uZMKjiJz_Zcu"
   },
   "outputs": [
    {
     "data": {
      "text/plain": [
       "day\n",
       "Friday       21840\n",
       "Monday       21354\n",
       "Wednesday    18059\n",
       "Name: track, dtype: int64"
      ]
     },
     "execution_count": 19,
     "metadata": {},
     "output_type": "execute_result"
    }
   ],
   "source": [
    "# Подсчёт прослушиваний в каждый из трёх дней\n",
    "df.groupby('day')['track'].count()"
   ]
  },
  {
   "cell_type": "markdown",
   "metadata": {
    "id": "cC2tNrlL_Zcu"
   },
   "source": [
    "В среднем пользователи из двух городов менее активны по средам. Но картина может измениться, если рассмотреть каждый город в отдельности."
   ]
  },
  {
   "cell_type": "markdown",
   "metadata": {
    "id": "POzs8bGa_Zcu"
   },
   "source": [
    "\n",
    "Создадим функцию `number_tracks()`, которая посчитает прослушивания для заданного дня и города. Ей понадобятся два параметра:\n",
    "* день недели,\n",
    "* название города.\n",
    "\n",
    "В функции сохраним в переменную строки исходной таблицы, у которых значение:\n",
    "  * в колонке `day` равно параметру `day`,\n",
    "  * в колонке `city` равно параметру `city`.\n",
    "\n",
    "Затем посчитаем значения в столбце `user_id` получившейся таблицы. Результат сохраним в новую переменную. Вернём эту переменную из функции."
   ]
  },
  {
   "cell_type": "code",
   "execution_count": 20,
   "metadata": {
    "id": "Nz3GdQB1_Zcu"
   },
   "outputs": [],
   "source": [
    "# <создание функции number_tracks()>\n",
    "# Объявляется функция с двумя параметрами: day, city.\n",
    "def number_tracks(day, city):\n",
    "    # track_list поможет выбрать искомые соответствия\n",
    "    track_list = df[(df['day'] == day) & (df['city'] == city)]\n",
    "    # Возвращаем функцию\n",
    "    return(track_list['user_id'].count())"
   ]
  },
  {
   "cell_type": "markdown",
   "metadata": {
    "id": "ytf7xFrFJQ2r"
   },
   "source": [
    "Вызовем `number_tracks()` шесть раз, меняя значение параметров — так, чтобы получить данные для каждого города в каждый из трёх дней."
   ]
  },
  {
   "cell_type": "code",
   "execution_count": 21,
   "metadata": {
    "id": "rJcRATNQ_Zcu"
   },
   "outputs": [
    {
     "data": {
      "text/plain": [
       "15740"
      ]
     },
     "execution_count": 21,
     "metadata": {},
     "output_type": "execute_result"
    }
   ],
   "source": [
    "# количество прослушиваний в Москве по понедельникам\n",
    "number_tracks('Monday','Moscow')"
   ]
  },
  {
   "cell_type": "code",
   "execution_count": 22,
   "metadata": {
    "id": "hq_ncZ5T_Zcu"
   },
   "outputs": [
    {
     "data": {
      "text/plain": [
       "5614"
      ]
     },
     "execution_count": 22,
     "metadata": {},
     "output_type": "execute_result"
    }
   ],
   "source": [
    "# количество прослушиваний в Санкт-Петербурге по понедельникам\n",
    "number_tracks('Monday','Saint-Petersburg')"
   ]
  },
  {
   "cell_type": "code",
   "execution_count": 23,
   "metadata": {
    "id": "_NTy2VPU_Zcu"
   },
   "outputs": [
    {
     "data": {
      "text/plain": [
       "11056"
      ]
     },
     "execution_count": 23,
     "metadata": {},
     "output_type": "execute_result"
    }
   ],
   "source": [
    "# количество прослушиваний в Москве по средам\n",
    "number_tracks('Wednesday','Moscow')"
   ]
  },
  {
   "cell_type": "code",
   "execution_count": 24,
   "metadata": {
    "id": "j2y3TAwo_Zcu"
   },
   "outputs": [
    {
     "data": {
      "text/plain": [
       "7003"
      ]
     },
     "execution_count": 24,
     "metadata": {},
     "output_type": "execute_result"
    }
   ],
   "source": [
    "# количество прослушиваний в Санкт-Петербурге по средам\n",
    "number_tracks('Wednesday','Saint-Petersburg')"
   ]
  },
  {
   "cell_type": "code",
   "execution_count": 25,
   "metadata": {
    "id": "vYDw5u_K_Zcu"
   },
   "outputs": [
    {
     "data": {
      "text/plain": [
       "15945"
      ]
     },
     "execution_count": 25,
     "metadata": {},
     "output_type": "execute_result"
    }
   ],
   "source": [
    "# количество прослушиваний в Москве по пятницам\n",
    "number_tracks('Friday','Moscow')"
   ]
  },
  {
   "cell_type": "code",
   "execution_count": 26,
   "metadata": {
    "id": "8_yzFtW3_Zcu"
   },
   "outputs": [
    {
     "data": {
      "text/plain": [
       "5895"
      ]
     },
     "execution_count": 26,
     "metadata": {},
     "output_type": "execute_result"
    }
   ],
   "source": [
    "# количество прослушиваний в Санкт-Петербурге по пятницам\n",
    "number_tracks('Friday','Saint-Petersburg')"
   ]
  },
  {
   "cell_type": "markdown",
   "metadata": {
    "id": "7QXffbO-_Zcu"
   },
   "source": [
    "Создадим c помощью конструктора `pd.DataFrame` таблицу, где\n",
    "* названия колонок — `['city', 'monday', 'wednesday', 'friday']`;\n",
    "* данные — результаты, которые вы получили с помощью `number_tracks`."
   ]
  },
  {
   "cell_type": "code",
   "execution_count": 27,
   "metadata": {
    "id": "APAcLpOr_Zcu"
   },
   "outputs": [
    {
     "data": {
      "text/html": [
       "<div>\n",
       "<style scoped>\n",
       "    .dataframe tbody tr th:only-of-type {\n",
       "        vertical-align: middle;\n",
       "    }\n",
       "\n",
       "    .dataframe tbody tr th {\n",
       "        vertical-align: top;\n",
       "    }\n",
       "\n",
       "    .dataframe thead th {\n",
       "        text-align: right;\n",
       "    }\n",
       "</style>\n",
       "<table border=\"1\" class=\"dataframe\">\n",
       "  <thead>\n",
       "    <tr style=\"text-align: right;\">\n",
       "      <th></th>\n",
       "      <th>city</th>\n",
       "      <th>monday</th>\n",
       "      <th>wednesday</th>\n",
       "      <th>friday</th>\n",
       "    </tr>\n",
       "  </thead>\n",
       "  <tbody>\n",
       "    <tr>\n",
       "      <th>0</th>\n",
       "      <td>Moscow</td>\n",
       "      <td>15740</td>\n",
       "      <td>11056</td>\n",
       "      <td>15945</td>\n",
       "    </tr>\n",
       "    <tr>\n",
       "      <th>1</th>\n",
       "      <td>Saint-Petersburg</td>\n",
       "      <td>5614</td>\n",
       "      <td>7003</td>\n",
       "      <td>5895</td>\n",
       "    </tr>\n",
       "  </tbody>\n",
       "</table>\n",
       "</div>"
      ],
      "text/plain": [
       "               city  monday  wednesday  friday\n",
       "0            Moscow   15740      11056   15945\n",
       "1  Saint-Petersburg    5614       7003    5895"
      ]
     },
     "execution_count": 27,
     "metadata": {},
     "output_type": "execute_result"
    }
   ],
   "source": [
    "# Таблица с результатами\n",
    "#названия колонок\n",
    "number_tracks_columns = ['city', 'monday', 'wednesday', 'friday'] \n",
    "# Данные — результаты, которые вы получили с помощью number_tracks\n",
    "number_tracks_data = [['Moscow', 15740, 11056, 15945],['Saint-Petersburg', 5614, 7003, 5895]]\n",
    "# Создание таблицы\n",
    "pd.DataFrame(data=number_tracks_data,columns=number_tracks_columns)\n"
   ]
  },
  {
   "cell_type": "markdown",
   "metadata": {
    "id": "-EgPIHYu_Zcu"
   },
   "source": [
    "**Выводы**\n",
    "\n",
    "Данные показывают разницу поведения пользователей:\n",
    "\n",
    "- В Москве пик прослушиваний приходится на понедельник и пятницу, а в среду заметен спад.\n",
    "- В Петербурге, наоборот, больше слушают музыку по средам. Активность в понедельник и пятницу здесь почти в равной мере уступает среде.\n",
    "\n",
    "Значит, данные говорят в пользу первой гипотезы."
   ]
  },
  {
   "cell_type": "markdown",
   "metadata": {
    "id": "atZAxtq4_Zcu"
   },
   "source": [
    "### Музыка в начале и в конце недели"
   ]
  },
  {
   "cell_type": "markdown",
   "metadata": {
    "id": "eXrQqXFH_Zcu"
   },
   "source": [
    "Согласно второй гипотезе, утром в понедельник в Москве преобладают одни жанры, а в Петербурге — другие. Так же и вечером пятницы преобладают разные жанры — в зависимости от города."
   ]
  },
  {
   "cell_type": "markdown",
   "metadata": {
    "id": "S8UcW6Hw_Zcu"
   },
   "source": [
    "Сохраним таблицы с данными в две переменные:\n",
    "* по Москве — в `moscow_general`;\n",
    "* по Санкт-Петербургу — в `spb_general`."
   ]
  },
  {
   "cell_type": "code",
   "execution_count": 28,
   "metadata": {
    "id": "qeaFfM_P_Zcu"
   },
   "outputs": [],
   "source": [
    "# получение таблицы moscow_general из тех строк таблицы df, \n",
    "# для которых значение в столбце 'city' равно 'Moscow'\n",
    "moscow_general = df[df['city'] == 'Moscow']\n",
    "# (подойдет и метод query)\n"
   ]
  },
  {
   "cell_type": "code",
   "execution_count": 29,
   "metadata": {
    "id": "ORaVRKto_Zcu"
   },
   "outputs": [],
   "source": [
    "# получение таблицы spb_general из тех строк таблицы df,\n",
    "# для которых значение в столбце 'city' равно 'Saint-Petersburg'\n",
    "spb_general = df[df['city'] == 'Saint-Petersburg']\n"
   ]
  },
  {
   "cell_type": "markdown",
   "metadata": {
    "id": "MEJV-CX2_Zcu"
   },
   "source": [
    "Создадим функцию `genre_weekday()` с четырьмя параметрами:\n",
    "* таблица (датафрейм) с данными,\n",
    "* день недели,\n",
    "* начальная временная метка в формате 'hh:mm', \n",
    "* последняя временная метка в формате 'hh:mm'.\n",
    "\n",
    "Функция должна вернуть информацию о топ-10 жанров тех треков, которые прослушивали в указанный день, в промежутке между двумя отметками времени."
   ]
  },
  {
   "cell_type": "code",
   "execution_count": 30,
   "metadata": {
    "id": "laJT9BYl_Zcu"
   },
   "outputs": [],
   "source": [
    "# Объявление функции genre_weekday() с параметрами table, day, time1, time2,\n",
    "def genre_weekday(table, day, time1, time2):\n",
    "    genre_df = table[(table['day'] == day) & (table['time'] > time1) & (table['time'] < time2)]\n",
    "    genre_df_sorted = genre_df.groupby('genre')['genre'].count().sort_values(ascending = False).head(10)\n",
    "    return(genre_df_sorted)\n",
    "# которая возвращает информацию о самых популярных жанрах в указанный день в\n",
    "# заданное время:\n",
    "# 1) в переменную genre_df сохраняются те строки переданного датафрейма table, для\n",
    "#    которых одновременно:\n",
    "#    - значение в столбце day равно значению аргумента day\n",
    "#    - значение в столбце time больше значения аргумента time1\n",
    "#    - значение в столбце time меньше значения аргумента time2\n",
    "#    Используйте последовательную фильтрацию с помощью логической индексации.\n",
    "# 2) сгруппировать датафрейм genre_df по столбцу genre, взять один из его\n",
    "#    столбцов и посчитать методом count() количество записей для каждого из\n",
    "#    присутствующих жанров, получившийся Series записать в переменную\n",
    "#    genre_df_count\n",
    "# 3) отсортировать genre_df_count по убыванию встречаемости и сохранить\n",
    "#    в переменную genre_df_sorted\n",
    "# 4) вернуть Series из 10 первых значений genre_df_sorted, это будут топ-10\n",
    "#    популярных жанров (в указанный день, в заданное время)"
   ]
  },
  {
   "cell_type": "markdown",
   "metadata": {
    "id": "la2s2_PF_Zcu"
   },
   "source": [
    "Сравним результаты функции `genre_weekday()` для Москвы и Санкт-Петербурга в понедельник утром (с 7:00 до 11:00) и в пятницу вечером (с 17:00 до 23:00):"
   ]
  },
  {
   "cell_type": "code",
   "execution_count": 31,
   "metadata": {
    "id": "yz7itPUQ_Zcu"
   },
   "outputs": [
    {
     "data": {
      "text/plain": [
       "genre\n",
       "pop            781\n",
       "dance          549\n",
       "electronic     480\n",
       "rock           474\n",
       "hiphop         286\n",
       "ruspop         186\n",
       "world          181\n",
       "rusrap         175\n",
       "alternative    164\n",
       "unknown        161\n",
       "Name: genre, dtype: int64"
      ]
     },
     "execution_count": 31,
     "metadata": {},
     "output_type": "execute_result"
    }
   ],
   "source": [
    "# вызов функции для утра понедельника в Москве (вместо df — таблица moscow_general)\n",
    "# объекты, хранящие время, являются строками и сравниваются как строки\n",
    "# пример вызова: genre_weekday(moscow_general, 'Monday', '07:00', '11:00')\n",
    "genre_weekday(moscow_general, 'Monday', '07:00', '11:00')"
   ]
  },
  {
   "cell_type": "code",
   "execution_count": 32,
   "metadata": {
    "id": "kwUcHPdy_Zcu"
   },
   "outputs": [
    {
     "data": {
      "text/plain": [
       "genre\n",
       "pop            218\n",
       "dance          182\n",
       "rock           162\n",
       "electronic     147\n",
       "hiphop          80\n",
       "ruspop          64\n",
       "alternative     58\n",
       "rusrap          55\n",
       "jazz            44\n",
       "classical       40\n",
       "Name: genre, dtype: int64"
      ]
     },
     "execution_count": 32,
     "metadata": {},
     "output_type": "execute_result"
    }
   ],
   "source": [
    "# вызов функции для утра понедельника в Петербурге\n",
    "genre_weekday(spb_general, 'Monday', '07:00', '11:00')"
   ]
  },
  {
   "cell_type": "code",
   "execution_count": 33,
   "metadata": {
    "id": "EzXVRE1o_Zcu"
   },
   "outputs": [
    {
     "data": {
      "text/plain": [
       "genre\n",
       "pop            713\n",
       "rock           517\n",
       "dance          495\n",
       "electronic     482\n",
       "hiphop         273\n",
       "world          208\n",
       "ruspop         170\n",
       "alternative    163\n",
       "classical      163\n",
       "rusrap         142\n",
       "Name: genre, dtype: int64"
      ]
     },
     "execution_count": 33,
     "metadata": {},
     "output_type": "execute_result"
    }
   ],
   "source": [
    "# вызов функции для вечера пятницы в Москве\n",
    "genre_weekday(moscow_general, 'Friday', '17:00', '23:00')"
   ]
  },
  {
   "cell_type": "code",
   "execution_count": 34,
   "metadata": {
    "id": "JZaEKu5v_Zcu"
   },
   "outputs": [
    {
     "data": {
      "text/plain": [
       "genre\n",
       "pop            256\n",
       "electronic     216\n",
       "rock           216\n",
       "dance          210\n",
       "hiphop          97\n",
       "alternative     63\n",
       "jazz            61\n",
       "classical       60\n",
       "rusrap          59\n",
       "world           54\n",
       "Name: genre, dtype: int64"
      ]
     },
     "execution_count": 34,
     "metadata": {},
     "output_type": "execute_result"
    }
   ],
   "source": [
    "# вызов функции для вечера пятницы в Петербурге\n",
    "genre_weekday(spb_general, 'Friday', '17:00', '23:00')"
   ]
  },
  {
   "cell_type": "markdown",
   "metadata": {
    "id": "wrCe4MNX_Zcu"
   },
   "source": [
    "**Выводы**\n",
    "\n",
    "Если сравнить топ-10 жанров в понедельник утром, можно сделать такие выводы:\n",
    "\n",
    "1. В Москве и Петербурге слушают похожую музыку. Единственное отличие — в московский рейтинг вошёл жанр “world”, а в петербургский — джаз и классика.\n",
    "\n",
    "2. В Москве пропущенных значений оказалось так много, что значение `'unknown'` заняло десятое место среди самых популярных жанров. Значит, пропущенные значения занимают существенную долю в данных и угрожают достоверности исследования.\n",
    "\n",
    "Вечер пятницы не меняет эту картину. Некоторые жанры поднимаются немного выше, другие спускаются, но в целом топ-10 остаётся тем же самым.\n",
    "\n",
    "Таким образом, вторая гипотеза подтвердилась лишь частично:\n",
    "* Пользователи слушают похожую музыку в начале недели и в конце.\n",
    "* Разница между Москвой и Петербургом не слишком выражена. В Москве чаще слушают русскую популярную музыку, в Петербурге — джаз.\n",
    "\n",
    "Однако пропуски в данных ставят под сомнение этот результат. В Москве их так много, что рейтинг топ-10 мог бы выглядеть иначе, если бы не утерянные  данные о жанрах."
   ]
  },
  {
   "cell_type": "markdown",
   "metadata": {
    "id": "JolODAqr_Zcu"
   },
   "source": [
    "### Жанровые предпочтения в Москве и Петербурге\n",
    "\n",
    "Гипотеза: Петербург — столица рэпа, музыку этого жанра там слушают чаще, чем в Москве.  А Москва — город контрастов, в котором, тем не менее, преобладает поп-музыка."
   ]
  },
  {
   "cell_type": "markdown",
   "metadata": {
    "id": "DlegSvaT_Zcu"
   },
   "source": [
    "Сгруппируем таблицу `moscow_general` по жанру и посчитаем прослушивания треков каждого жанра методом `count()`. Затем отсортируем результат в порядке убывания и сохраним его в таблице `moscow_genres`."
   ]
  },
  {
   "cell_type": "code",
   "execution_count": 35,
   "metadata": {
    "id": "r19lIPke_Zcu"
   },
   "outputs": [],
   "source": [
    "moscow_genres = moscow_general.groupby('genre')['genre'].count().sort_values(ascending=False) "
   ]
  },
  {
   "cell_type": "markdown",
   "metadata": {
    "id": "6kMuomxTiIr8"
   },
   "source": [
    "Выведем на экран первые десять строк `moscow_genres`:"
   ]
  },
  {
   "cell_type": "code",
   "execution_count": 36,
   "metadata": {
    "id": "WhCSooF8_Zcv"
   },
   "outputs": [
    {
     "data": {
      "text/plain": [
       "genre\n",
       "pop            5892\n",
       "dance          4435\n",
       "rock           3965\n",
       "electronic     3786\n",
       "hiphop         2096\n",
       "classical      1616\n",
       "world          1432\n",
       "alternative    1379\n",
       "ruspop         1372\n",
       "rusrap         1161\n",
       "Name: genre, dtype: int64"
      ]
     },
     "execution_count": 36,
     "metadata": {},
     "output_type": "execute_result"
    }
   ],
   "source": [
    "moscow_genres.head(10)# просмотр первых 10 строк moscow_genres"
   ]
  },
  {
   "cell_type": "markdown",
   "metadata": {
    "id": "cnPG2vnN_Zcv"
   },
   "source": [
    "Теперь повторим то же и для Петербурга."
   ]
  },
  {
   "cell_type": "code",
   "execution_count": 37,
   "metadata": {
    "id": "gluLIpE7_Zcv"
   },
   "outputs": [],
   "source": [
    "spb_genres = spb_general.groupby('genre')['genre'].count().sort_values(ascending=False)"
   ]
  },
  {
   "cell_type": "markdown",
   "metadata": {
    "id": "5Doha_ODgyQ8"
   },
   "source": [
    "Выведем на экран первые десять строк `spb_genres`:"
   ]
  },
  {
   "cell_type": "code",
   "execution_count": 38,
   "metadata": {
    "id": "uaGJHjVU_Zcv"
   },
   "outputs": [
    {
     "data": {
      "text/plain": [
       "genre\n",
       "pop            2431\n",
       "dance          1932\n",
       "rock           1879\n",
       "electronic     1736\n",
       "hiphop          960\n",
       "alternative     649\n",
       "classical       646\n",
       "rusrap          564\n",
       "ruspop          538\n",
       "world           515\n",
       "Name: genre, dtype: int64"
      ]
     },
     "execution_count": 38,
     "metadata": {},
     "output_type": "execute_result"
    }
   ],
   "source": [
    "spb_genres.head(10)# просмотр первых 10 строк spb_genres"
   ]
  },
  {
   "cell_type": "markdown",
   "metadata": {
    "id": "RY51YJYu_Zcv"
   },
   "source": [
    "**Выводы**"
   ]
  },
  {
   "cell_type": "markdown",
   "metadata": {
    "id": "nVhnJEm__Zcv"
   },
   "source": [
    "Гипотеза частично подтвердилась:\n",
    "* Поп-музыка — самый популярный жанр в Москве, как и предполагала гипотеза. Более того, в топ-10 жанров встречается близкий жанр — русская популярная музыка.\n",
    "* Вопреки ожиданиям, рэп одинаково популярен в Москве и Петербурге. \n"
   ]
  },
  {
   "cell_type": "markdown",
   "metadata": {
    "id": "ykKQ0N65_Zcv"
   },
   "source": [
    "## Итоги исследования"
   ]
  },
  {
   "cell_type": "markdown",
   "metadata": {
    "id": "tjUwbHb3_Zcv"
   },
   "source": [
    "Мы проверили три гипотезы и установили:\n",
    "\n",
    "1. День недели по-разному влияет на активность пользователей в Москве и Петербурге. \n",
    "\n",
    "Первая гипотеза полностью подтвердилась.\n",
    "\n",
    "2. Музыкальные предпочтения не сильно меняются в течение недели — будь то Москва или Петербург. Небольшие различия заметны в начале недели, по понедельникам:\n",
    "* в Москве слушают музыку жанра “world”,\n",
    "* в Петербурге — джаз и классику.\n",
    "\n",
    "Таким образом, вторая гипотеза подтвердилась лишь отчасти. Этот результат мог оказаться иным, если бы не пропуски в данных.\n",
    "\n",
    "3. Во вкусах пользователей Москвы и Петербурга больше общего чем различий. Вопреки ожиданиям, предпочтения жанров в Петербурге напоминают московские.\n",
    "\n",
    "Третья гипотеза не подтвердилась. Если различия в предпочтениях и существуют, на основной массе пользователей они незаметны.\n"
   ]
  }
 ],
 "metadata": {
  "ExecuteTimeLog": [
   {
    "duration": 322,
    "start_time": "2021-08-23T21:46:01.855Z"
   },
   {
    "duration": 735,
    "start_time": "2021-08-23T21:46:11.475Z"
   },
   {
    "duration": 163,
    "start_time": "2021-08-23T21:46:21.620Z"
   },
   {
    "duration": 175,
    "start_time": "2021-08-23T21:46:24.467Z"
   },
   {
    "duration": 181,
    "start_time": "2021-08-23T21:46:26.856Z"
   },
   {
    "duration": 3,
    "start_time": "2021-08-23T21:46:29.050Z"
   },
   {
    "duration": 191,
    "start_time": "2021-08-23T21:46:30.131Z"
   },
   {
    "duration": 26,
    "start_time": "2021-08-23T21:47:05.417Z"
   },
   {
    "duration": 12,
    "start_time": "2021-08-23T21:47:27.838Z"
   },
   {
    "duration": 12,
    "start_time": "2021-08-23T21:47:37.731Z"
   },
   {
    "duration": 15,
    "start_time": "2021-08-23T21:47:46.871Z"
   },
   {
    "duration": 12,
    "start_time": "2021-08-23T21:47:48.962Z"
   },
   {
    "duration": 12,
    "start_time": "2021-08-23T21:48:02.441Z"
   },
   {
    "duration": 15,
    "start_time": "2021-08-23T21:48:14.258Z"
   },
   {
    "duration": 20,
    "start_time": "2021-08-23T21:48:35.145Z"
   },
   {
    "duration": 16,
    "start_time": "2021-08-23T21:48:56.247Z"
   },
   {
    "duration": 5,
    "start_time": "2021-08-24T08:54:19.022Z"
   },
   {
    "duration": 5,
    "start_time": "2021-08-24T08:56:15.140Z"
   },
   {
    "duration": 1239,
    "start_time": "2021-08-24T09:01:16.129Z"
   },
   {
    "duration": 4,
    "start_time": "2021-08-24T09:02:10.195Z"
   },
   {
    "duration": 5,
    "start_time": "2021-08-24T09:02:16.159Z"
   },
   {
    "duration": 5,
    "start_time": "2021-08-24T09:02:18.103Z"
   },
   {
    "duration": 29,
    "start_time": "2021-08-24T09:07:18.758Z"
   },
   {
    "duration": 29,
    "start_time": "2021-08-24T09:08:41.983Z"
   },
   {
    "duration": 30,
    "start_time": "2021-08-24T09:08:57.129Z"
   },
   {
    "duration": 32,
    "start_time": "2021-08-24T09:09:00.266Z"
   },
   {
    "duration": 25,
    "start_time": "2021-08-24T10:08:48.040Z"
   },
   {
    "duration": 29,
    "start_time": "2021-08-24T10:08:52.300Z"
   },
   {
    "duration": 24,
    "start_time": "2021-08-24T10:09:00.488Z"
   },
   {
    "duration": 36,
    "start_time": "2021-08-24T10:09:02.876Z"
   },
   {
    "duration": 23,
    "start_time": "2021-08-24T10:09:29.189Z"
   },
   {
    "duration": 37,
    "start_time": "2021-08-24T10:09:31.380Z"
   },
   {
    "duration": 44,
    "start_time": "2021-08-24T10:09:57.712Z"
   },
   {
    "duration": 16,
    "start_time": "2021-08-24T10:10:05.636Z"
   },
   {
    "duration": 85,
    "start_time": "2021-08-24T10:12:20.442Z"
   },
   {
    "duration": 29,
    "start_time": "2021-08-24T10:12:22.159Z"
   },
   {
    "duration": 78,
    "start_time": "2021-08-24T10:14:47.894Z"
   },
   {
    "duration": 19,
    "start_time": "2021-08-24T10:14:58.616Z"
   },
   {
    "duration": 29,
    "start_time": "2021-08-24T10:15:01.292Z"
   },
   {
    "duration": 28,
    "start_time": "2021-08-24T10:16:02.376Z"
   },
   {
    "duration": 8,
    "start_time": "2021-08-24T10:16:04.200Z"
   },
   {
    "duration": 3979,
    "start_time": "2021-08-24T10:16:11.474Z"
   },
   {
    "duration": -75,
    "start_time": "2021-08-24T10:16:15.531Z"
   },
   {
    "duration": 3980,
    "start_time": "2021-08-24T10:16:17.842Z"
   },
   {
    "duration": 3583,
    "start_time": "2021-08-24T10:17:01.249Z"
   },
   {
    "duration": 3476,
    "start_time": "2021-08-24T10:17:22.735Z"
   },
   {
    "duration": 406,
    "start_time": "2021-08-24T10:17:52.603Z"
   },
   {
    "duration": 764,
    "start_time": "2021-08-24T10:17:59.873Z"
   },
   {
    "duration": 186,
    "start_time": "2021-08-24T10:18:01.175Z"
   },
   {
    "duration": 24,
    "start_time": "2021-08-24T10:18:03.028Z"
   },
   {
    "duration": 12,
    "start_time": "2021-08-24T10:18:07.664Z"
   },
   {
    "duration": 6,
    "start_time": "2021-08-24T10:18:18.278Z"
   },
   {
    "duration": 5,
    "start_time": "2021-08-24T10:18:22.031Z"
   },
   {
    "duration": 5,
    "start_time": "2021-08-24T10:18:23.227Z"
   },
   {
    "duration": 31,
    "start_time": "2021-08-24T10:18:26.121Z"
   },
   {
    "duration": 19,
    "start_time": "2021-08-24T10:18:29.600Z"
   },
   {
    "duration": 38,
    "start_time": "2021-08-24T10:18:38.965Z"
   },
   {
    "duration": 22,
    "start_time": "2021-08-24T10:21:18.770Z"
   },
   {
    "duration": 29,
    "start_time": "2021-08-24T10:21:21.337Z"
   },
   {
    "duration": 19,
    "start_time": "2021-08-24T10:21:32.466Z"
   },
   {
    "duration": 10,
    "start_time": "2021-08-24T10:22:03.577Z"
   },
   {
    "duration": 32,
    "start_time": "2021-08-24T10:22:13.862Z"
   },
   {
    "duration": 351,
    "start_time": "2021-08-24T10:25:52.458Z"
   },
   {
    "duration": 285,
    "start_time": "2021-08-24T10:29:46.236Z"
   },
   {
    "duration": 283,
    "start_time": "2021-08-24T10:29:56.035Z"
   },
   {
    "duration": 357,
    "start_time": "2021-08-24T10:30:04.278Z"
   },
   {
    "duration": 292,
    "start_time": "2021-08-24T10:31:00.274Z"
   },
   {
    "duration": 19,
    "start_time": "2021-08-24T10:32:14.170Z"
   },
   {
    "duration": 24,
    "start_time": "2021-08-24T10:32:25.648Z"
   },
   {
    "duration": 8,
    "start_time": "2021-08-24T10:33:12.014Z"
   },
   {
    "duration": 19,
    "start_time": "2021-08-24T10:34:53.769Z"
   },
   {
    "duration": 18,
    "start_time": "2021-08-24T10:35:01.778Z"
   },
   {
    "duration": 30,
    "start_time": "2021-08-24T10:35:03.835Z"
   },
   {
    "duration": 28,
    "start_time": "2021-08-24T10:35:11.633Z"
   },
   {
    "duration": 24,
    "start_time": "2021-08-24T10:35:16.602Z"
   },
   {
    "duration": 27,
    "start_time": "2021-08-24T10:35:18.395Z"
   },
   {
    "duration": 89,
    "start_time": "2021-08-24T10:36:39.184Z"
   },
   {
    "duration": 94,
    "start_time": "2021-08-24T10:36:42.876Z"
   },
   {
    "duration": 30,
    "start_time": "2021-08-24T10:36:49.886Z"
   },
   {
    "duration": 18,
    "start_time": "2021-08-24T10:38:08.671Z"
   },
   {
    "duration": 29,
    "start_time": "2021-08-24T10:38:10.213Z"
   },
   {
    "duration": 167,
    "start_time": "2021-08-24T10:39:06.763Z"
   },
   {
    "duration": 142,
    "start_time": "2021-08-24T10:39:12.991Z"
   },
   {
    "duration": 30,
    "start_time": "2021-08-24T10:39:14.841Z"
   },
   {
    "duration": 145,
    "start_time": "2021-08-24T10:39:44.243Z"
   },
   {
    "duration": 29,
    "start_time": "2021-08-24T10:39:46.273Z"
   },
   {
    "duration": 313,
    "start_time": "2021-08-24T10:44:46.895Z"
   },
   {
    "duration": 4769,
    "start_time": "2021-08-24T10:46:04.912Z"
   },
   {
    "duration": -135,
    "start_time": "2021-08-24T10:46:09.819Z"
   },
   {
    "duration": 93,
    "start_time": "2021-08-24T10:47:59.954Z"
   },
   {
    "duration": 256,
    "start_time": "2021-08-24T10:48:06.771Z"
   },
   {
    "duration": 7357,
    "start_time": "2021-08-24T10:50:17.420Z"
   },
   {
    "duration": 257,
    "start_time": "2021-08-24T10:51:57.725Z"
   },
   {
    "duration": 427,
    "start_time": "2021-08-24T10:52:16.137Z"
   },
   {
    "duration": 20,
    "start_time": "2021-08-24T10:52:29.224Z"
   },
   {
    "duration": 19,
    "start_time": "2021-08-24T10:52:33.319Z"
   },
   {
    "duration": 19,
    "start_time": "2021-08-24T10:52:44.801Z"
   },
   {
    "duration": 29,
    "start_time": "2021-08-24T10:52:46.423Z"
   },
   {
    "duration": 276,
    "start_time": "2021-08-24T10:53:13.594Z"
   },
   {
    "duration": 29,
    "start_time": "2021-08-24T10:53:20.658Z"
   },
   {
    "duration": 1353,
    "start_time": "2021-08-24T10:53:31.348Z"
   },
   {
    "duration": 30,
    "start_time": "2021-08-24T10:53:40.112Z"
   },
   {
    "duration": 28,
    "start_time": "2021-08-24T10:55:54.289Z"
   },
   {
    "duration": 46,
    "start_time": "2021-08-24T10:55:56.742Z"
   },
   {
    "duration": 255,
    "start_time": "2021-08-24T10:57:07.380Z"
   },
   {
    "duration": 97,
    "start_time": "2021-08-24T10:57:34.815Z"
   },
   {
    "duration": 32,
    "start_time": "2021-08-24T10:57:50.817Z"
   },
   {
    "duration": 692,
    "start_time": "2021-08-24T10:59:47.808Z"
   },
   {
    "duration": 162,
    "start_time": "2021-08-24T10:59:48.503Z"
   },
   {
    "duration": 26,
    "start_time": "2021-08-24T10:59:48.952Z"
   },
   {
    "duration": 11,
    "start_time": "2021-08-24T10:59:49.546Z"
   },
   {
    "duration": 5,
    "start_time": "2021-08-24T10:59:51.094Z"
   },
   {
    "duration": 5,
    "start_time": "2021-08-24T10:59:53.691Z"
   },
   {
    "duration": 5,
    "start_time": "2021-08-24T10:59:55.324Z"
   },
   {
    "duration": 29,
    "start_time": "2021-08-24T11:00:11.576Z"
   },
   {
    "duration": 31,
    "start_time": "2021-08-24T11:00:20.616Z"
   },
   {
    "duration": 29,
    "start_time": "2021-08-24T11:00:28.018Z"
   },
   {
    "duration": 390,
    "start_time": "2021-08-24T11:01:48.742Z"
   },
   {
    "duration": 257,
    "start_time": "2021-08-24T11:02:05.375Z"
   },
   {
    "duration": 293,
    "start_time": "2021-08-24T11:03:05.233Z"
   },
   {
    "duration": 331,
    "start_time": "2021-08-24T11:03:17.922Z"
   },
   {
    "duration": 712,
    "start_time": "2021-08-24T11:03:21.505Z"
   },
   {
    "duration": 171,
    "start_time": "2021-08-24T11:03:22.219Z"
   },
   {
    "duration": 26,
    "start_time": "2021-08-24T11:03:22.393Z"
   },
   {
    "duration": 12,
    "start_time": "2021-08-24T11:03:22.643Z"
   },
   {
    "duration": 5,
    "start_time": "2021-08-24T11:03:23.526Z"
   },
   {
    "duration": 4,
    "start_time": "2021-08-24T11:03:24.673Z"
   },
   {
    "duration": 5,
    "start_time": "2021-08-24T11:03:26.415Z"
   },
   {
    "duration": 31,
    "start_time": "2021-08-24T11:03:28.645Z"
   },
   {
    "duration": 291,
    "start_time": "2021-08-24T11:03:35.280Z"
   },
   {
    "duration": 18,
    "start_time": "2021-08-24T11:03:50.132Z"
   },
   {
    "duration": 32,
    "start_time": "2021-08-24T11:03:53.730Z"
   },
   {
    "duration": 19,
    "start_time": "2021-08-24T11:04:38.022Z"
   },
   {
    "duration": 28,
    "start_time": "2021-08-24T11:04:38.526Z"
   },
   {
    "duration": 19,
    "start_time": "2021-08-24T12:03:56.716Z"
   },
   {
    "duration": 30,
    "start_time": "2021-08-24T12:04:00.419Z"
   },
   {
    "duration": 323,
    "start_time": "2021-08-24T12:07:14.228Z"
   },
   {
    "duration": 23,
    "start_time": "2021-08-24T12:07:37.252Z"
   },
   {
    "duration": 31,
    "start_time": "2021-08-24T12:07:40.503Z"
   },
   {
    "duration": 757,
    "start_time": "2021-08-24T12:14:02.290Z"
   },
   {
    "duration": 181,
    "start_time": "2021-08-24T12:14:03.291Z"
   },
   {
    "duration": 25,
    "start_time": "2021-08-24T12:14:10.220Z"
   },
   {
    "duration": 12,
    "start_time": "2021-08-24T12:14:17.067Z"
   },
   {
    "duration": 5,
    "start_time": "2021-08-24T12:14:23.049Z"
   },
   {
    "duration": 11,
    "start_time": "2021-08-24T12:15:01.948Z"
   },
   {
    "duration": 749,
    "start_time": "2021-08-24T12:15:19.198Z"
   },
   {
    "duration": 180,
    "start_time": "2021-08-24T12:15:21.285Z"
   },
   {
    "duration": 26,
    "start_time": "2021-08-24T12:15:25.543Z"
   },
   {
    "duration": 12,
    "start_time": "2021-08-24T12:15:31.827Z"
   },
   {
    "duration": 7,
    "start_time": "2021-08-24T12:15:45.399Z"
   },
   {
    "duration": 6,
    "start_time": "2021-08-24T12:16:22.764Z"
   },
   {
    "duration": 5,
    "start_time": "2021-08-24T12:16:26.401Z"
   },
   {
    "duration": 6,
    "start_time": "2021-08-24T12:16:28.743Z"
   },
   {
    "duration": 35,
    "start_time": "2021-08-24T12:16:32.069Z"
   },
   {
    "duration": 29,
    "start_time": "2021-08-24T12:16:35.368Z"
   },
   {
    "duration": 29,
    "start_time": "2021-08-24T12:16:37.154Z"
   },
   {
    "duration": 111,
    "start_time": "2021-08-24T12:17:22.635Z"
   },
   {
    "duration": 102,
    "start_time": "2021-08-24T12:23:50.497Z"
   },
   {
    "duration": 110,
    "start_time": "2021-08-24T12:24:26.531Z"
   },
   {
    "duration": 59,
    "start_time": "2021-08-24T12:26:50.876Z"
   },
   {
    "duration": 58,
    "start_time": "2021-08-24T12:31:10.204Z"
   },
   {
    "duration": 5,
    "start_time": "2021-08-24T12:56:26.011Z"
   },
   {
    "duration": 14,
    "start_time": "2021-08-24T12:56:34.930Z"
   },
   {
    "duration": 54,
    "start_time": "2021-08-24T12:56:38.443Z"
   },
   {
    "duration": 56,
    "start_time": "2021-08-24T12:58:22.442Z"
   },
   {
    "duration": 6,
    "start_time": "2021-08-24T13:13:15.718Z"
   },
   {
    "duration": 5,
    "start_time": "2021-08-24T13:13:41.296Z"
   },
   {
    "duration": 43,
    "start_time": "2021-08-24T13:15:51.926Z"
   },
   {
    "duration": 370,
    "start_time": "2021-08-24T13:16:23.384Z"
   },
   {
    "duration": 43,
    "start_time": "2021-08-24T13:16:29.382Z"
   },
   {
    "duration": 484,
    "start_time": "2021-08-24T13:17:42.137Z"
   },
   {
    "duration": 41,
    "start_time": "2021-08-24T13:17:50.279Z"
   },
   {
    "duration": 15,
    "start_time": "2021-08-24T13:19:09.988Z"
   },
   {
    "duration": 15,
    "start_time": "2021-08-24T13:19:47.081Z"
   },
   {
    "duration": 313,
    "start_time": "2021-08-24T13:30:45.142Z"
   },
   {
    "duration": 98,
    "start_time": "2021-08-24T13:30:59.322Z"
   },
   {
    "duration": 6,
    "start_time": "2021-08-24T13:31:07.943Z"
   },
   {
    "duration": 40,
    "start_time": "2021-08-24T13:31:17.831Z"
   },
   {
    "duration": 42,
    "start_time": "2021-08-24T13:31:23.167Z"
   },
   {
    "duration": 15,
    "start_time": "2021-08-24T13:31:38.469Z"
   },
   {
    "duration": 44,
    "start_time": "2021-08-24T13:32:05.118Z"
   },
   {
    "duration": 15,
    "start_time": "2021-08-24T13:32:18.524Z"
   },
   {
    "duration": 6,
    "start_time": "2021-08-24T14:12:19.394Z"
   },
   {
    "duration": 22,
    "start_time": "2021-08-24T14:15:18.604Z"
   },
   {
    "duration": 19,
    "start_time": "2021-08-24T14:15:20.965Z"
   },
   {
    "duration": 20,
    "start_time": "2021-08-24T14:15:23.019Z"
   },
   {
    "duration": 24,
    "start_time": "2021-08-24T14:15:24.627Z"
   },
   {
    "duration": 21,
    "start_time": "2021-08-24T14:15:27.268Z"
   },
   {
    "duration": 25,
    "start_time": "2021-08-24T14:15:28.971Z"
   },
   {
    "duration": 547,
    "start_time": "2021-08-24T14:22:02.186Z"
   },
   {
    "duration": 490,
    "start_time": "2021-08-24T14:27:43.154Z"
   },
   {
    "duration": 721,
    "start_time": "2021-08-24T14:28:33.798Z"
   },
   {
    "duration": 184,
    "start_time": "2021-08-24T14:28:36.014Z"
   },
   {
    "duration": 26,
    "start_time": "2021-08-24T14:28:36.727Z"
   },
   {
    "duration": 11,
    "start_time": "2021-08-24T14:28:37.250Z"
   },
   {
    "duration": 6,
    "start_time": "2021-08-24T14:28:38.072Z"
   },
   {
    "duration": 4,
    "start_time": "2021-08-24T14:28:38.574Z"
   },
   {
    "duration": 6,
    "start_time": "2021-08-24T14:28:38.912Z"
   },
   {
    "duration": 30,
    "start_time": "2021-08-24T14:28:39.231Z"
   },
   {
    "duration": 40,
    "start_time": "2021-08-24T14:28:39.727Z"
   },
   {
    "duration": 53,
    "start_time": "2021-08-24T14:28:40.083Z"
   },
   {
    "duration": 125,
    "start_time": "2021-08-24T14:28:40.399Z"
   },
   {
    "duration": 147,
    "start_time": "2021-08-24T14:28:40.747Z"
   },
   {
    "duration": 118,
    "start_time": "2021-08-24T14:28:41.898Z"
   },
   {
    "duration": 98,
    "start_time": "2021-08-24T14:28:42.406Z"
   },
   {
    "duration": 5,
    "start_time": "2021-08-24T14:28:42.741Z"
   },
   {
    "duration": 15,
    "start_time": "2021-08-24T14:28:43.116Z"
   },
   {
    "duration": 61,
    "start_time": "2021-08-24T14:28:43.894Z"
   },
   {
    "duration": 18,
    "start_time": "2021-08-24T14:28:49.684Z"
   },
   {
    "duration": 16,
    "start_time": "2021-08-24T14:28:50.860Z"
   },
   {
    "duration": 5,
    "start_time": "2021-08-24T14:28:55.357Z"
   },
   {
    "duration": 21,
    "start_time": "2021-08-24T14:28:56.073Z"
   },
   {
    "duration": 19,
    "start_time": "2021-08-24T14:28:56.542Z"
   },
   {
    "duration": 18,
    "start_time": "2021-08-24T14:28:56.917Z"
   },
   {
    "duration": 19,
    "start_time": "2021-08-24T14:28:57.943Z"
   },
   {
    "duration": 20,
    "start_time": "2021-08-24T14:28:58.455Z"
   },
   {
    "duration": 18,
    "start_time": "2021-08-24T14:28:59.022Z"
   },
   {
    "duration": 18,
    "start_time": "2021-08-24T14:36:42.756Z"
   },
   {
    "duration": 14,
    "start_time": "2021-08-24T14:58:33.283Z"
   },
   {
    "duration": 32,
    "start_time": "2021-08-24T14:59:00.229Z"
   },
   {
    "duration": 16,
    "start_time": "2021-08-24T14:59:13.597Z"
   },
   {
    "duration": 12,
    "start_time": "2021-08-24T14:59:43.529Z"
   },
   {
    "duration": 5,
    "start_time": "2021-08-24T16:16:22.732Z"
   },
   {
    "duration": 5,
    "start_time": "2021-08-24T16:16:29.468Z"
   },
   {
    "duration": 610,
    "start_time": "2021-08-24T16:17:48.366Z"
   },
   {
    "duration": 533,
    "start_time": "2021-08-24T16:18:57.558Z"
   },
   {
    "duration": 5,
    "start_time": "2021-08-24T16:19:53.960Z"
   },
   {
    "duration": 533,
    "start_time": "2021-08-24T16:19:57.066Z"
   },
   {
    "duration": 6,
    "start_time": "2021-08-24T16:20:29.222Z"
   },
   {
    "duration": 27,
    "start_time": "2021-08-24T16:20:30.825Z"
   },
   {
    "duration": 18,
    "start_time": "2021-08-24T16:37:33.114Z"
   },
   {
    "duration": 20,
    "start_time": "2021-08-24T16:37:37.127Z"
   },
   {
    "duration": 21,
    "start_time": "2021-08-24T16:38:01.233Z"
   },
   {
    "duration": 17,
    "start_time": "2021-08-24T16:38:03.384Z"
   },
   {
    "duration": 25,
    "start_time": "2021-08-24T16:39:48.513Z"
   },
   {
    "duration": 16,
    "start_time": "2021-08-24T16:39:50.495Z"
   },
   {
    "duration": 17,
    "start_time": "2021-08-24T16:40:11.345Z"
   },
   {
    "duration": 19,
    "start_time": "2021-08-24T16:40:25.371Z"
   },
   {
    "duration": 20,
    "start_time": "2021-08-24T16:40:26.908Z"
   },
   {
    "duration": 15,
    "start_time": "2021-08-24T16:40:29.746Z"
   },
   {
    "duration": 23,
    "start_time": "2021-08-24T16:40:58.244Z"
   },
   {
    "duration": 20,
    "start_time": "2021-08-24T16:41:07.283Z"
   },
   {
    "duration": 25,
    "start_time": "2021-08-24T16:41:27.806Z"
   },
   {
    "duration": 36,
    "start_time": "2021-08-24T16:41:33.723Z"
   },
   {
    "duration": 26,
    "start_time": "2021-08-24T16:41:38.635Z"
   },
   {
    "duration": 40,
    "start_time": "2021-08-24T16:41:42.718Z"
   },
   {
    "duration": 24,
    "start_time": "2021-08-24T16:41:48.602Z"
   },
   {
    "duration": 24,
    "start_time": "2021-08-24T16:41:55.006Z"
   },
   {
    "duration": 24,
    "start_time": "2021-08-24T16:41:58.217Z"
   },
   {
    "duration": 21,
    "start_time": "2021-08-24T16:42:01.222Z"
   },
   {
    "duration": 19,
    "start_time": "2021-08-24T16:42:04.540Z"
   },
   {
    "duration": 21,
    "start_time": "2021-08-24T16:42:10.354Z"
   },
   {
    "duration": 25,
    "start_time": "2021-08-24T16:42:25.488Z"
   },
   {
    "duration": 16,
    "start_time": "2021-08-24T16:42:35.463Z"
   },
   {
    "duration": 20,
    "start_time": "2021-08-24T16:42:39.903Z"
   },
   {
    "duration": 6,
    "start_time": "2021-08-24T16:43:08.606Z"
   },
   {
    "duration": 25,
    "start_time": "2021-08-24T16:43:11.455Z"
   },
   {
    "duration": 18,
    "start_time": "2021-08-24T16:43:13.960Z"
   },
   {
    "duration": 21,
    "start_time": "2021-08-24T16:43:17.017Z"
   },
   {
    "duration": 16,
    "start_time": "2021-08-24T16:43:19.521Z"
   },
   {
    "duration": 18,
    "start_time": "2021-08-24T16:43:27.261Z"
   },
   {
    "duration": 23,
    "start_time": "2021-08-24T16:46:19.189Z"
   },
   {
    "duration": 17,
    "start_time": "2021-08-24T16:46:21.574Z"
   },
   {
    "duration": 6,
    "start_time": "2021-08-24T16:51:35.772Z"
   },
   {
    "duration": 24,
    "start_time": "2021-08-24T16:51:38.632Z"
   },
   {
    "duration": 18,
    "start_time": "2021-08-24T16:51:41.419Z"
   },
   {
    "duration": 21,
    "start_time": "2021-08-24T16:51:43.852Z"
   },
   {
    "duration": 15,
    "start_time": "2021-08-24T16:51:45.883Z"
   },
   {
    "duration": 15,
    "start_time": "2021-08-24T16:51:48.219Z"
   },
   {
    "duration": 27,
    "start_time": "2021-08-24T16:54:23.193Z"
   },
   {
    "duration": 14,
    "start_time": "2021-08-24T16:54:30.275Z"
   },
   {
    "duration": 27,
    "start_time": "2021-08-24T16:54:36.921Z"
   },
   {
    "duration": 5,
    "start_time": "2021-08-24T16:55:41.414Z"
   },
   {
    "duration": 22,
    "start_time": "2021-08-24T16:56:50.183Z"
   },
   {
    "duration": 27,
    "start_time": "2021-08-24T16:56:51.887Z"
   },
   {
    "duration": 60,
    "start_time": "2021-08-24T16:58:18.300Z"
   },
   {
    "duration": 16,
    "start_time": "2021-08-24T16:59:06.721Z"
   },
   {
    "duration": 794,
    "start_time": "2021-08-24T17:00:24.176Z"
   },
   {
    "duration": 225,
    "start_time": "2021-08-24T17:00:25.045Z"
   },
   {
    "duration": 27,
    "start_time": "2021-08-24T17:00:25.909Z"
   },
   {
    "duration": 35,
    "start_time": "2021-08-24T17:00:30.658Z"
   },
   {
    "duration": 9,
    "start_time": "2021-08-24T17:00:33.108Z"
   },
   {
    "duration": 5,
    "start_time": "2021-08-24T17:00:33.615Z"
   },
   {
    "duration": 5,
    "start_time": "2021-08-24T17:00:33.967Z"
   },
   {
    "duration": 30,
    "start_time": "2021-08-24T17:00:34.296Z"
   },
   {
    "duration": 24,
    "start_time": "2021-08-24T17:00:34.804Z"
   },
   {
    "duration": 34,
    "start_time": "2021-08-24T17:00:35.143Z"
   },
   {
    "duration": 80,
    "start_time": "2021-08-24T17:00:35.450Z"
   },
   {
    "duration": 109,
    "start_time": "2021-08-24T17:00:35.773Z"
   },
   {
    "duration": 75,
    "start_time": "2021-08-24T17:00:36.093Z"
   },
   {
    "duration": 59,
    "start_time": "2021-08-24T17:00:36.601Z"
   },
   {
    "duration": 4,
    "start_time": "2021-08-24T17:00:36.961Z"
   },
   {
    "duration": 17,
    "start_time": "2021-08-24T17:00:37.323Z"
   },
   {
    "duration": 74,
    "start_time": "2021-08-24T17:00:37.655Z"
   },
   {
    "duration": 25,
    "start_time": "2021-08-24T17:00:39.227Z"
   },
   {
    "duration": 17,
    "start_time": "2021-08-24T17:00:40.294Z"
   },
   {
    "duration": 4,
    "start_time": "2021-08-24T17:00:41.328Z"
   },
   {
    "duration": 20,
    "start_time": "2021-08-24T17:00:42.283Z"
   },
   {
    "duration": 19,
    "start_time": "2021-08-24T17:00:42.891Z"
   },
   {
    "duration": 19,
    "start_time": "2021-08-24T17:00:43.497Z"
   },
   {
    "duration": 18,
    "start_time": "2021-08-24T17:00:44.091Z"
   },
   {
    "duration": 20,
    "start_time": "2021-08-24T17:00:44.552Z"
   },
   {
    "duration": 18,
    "start_time": "2021-08-24T17:00:44.921Z"
   },
   {
    "duration": 12,
    "start_time": "2021-08-24T17:00:46.745Z"
   },
   {
    "duration": 13,
    "start_time": "2021-08-24T17:00:49.107Z"
   },
   {
    "duration": 13,
    "start_time": "2021-08-24T17:00:50.107Z"
   },
   {
    "duration": 5,
    "start_time": "2021-08-24T17:00:53.186Z"
   },
   {
    "duration": 24,
    "start_time": "2021-08-24T17:00:55.364Z"
   },
   {
    "duration": 17,
    "start_time": "2021-08-24T17:00:56.505Z"
   },
   {
    "duration": 21,
    "start_time": "2021-08-24T17:00:57.131Z"
   },
   {
    "duration": 22,
    "start_time": "2021-08-24T17:00:57.910Z"
   },
   {
    "duration": 20,
    "start_time": "2021-08-24T17:02:25.217Z"
   },
   {
    "duration": 20,
    "start_time": "2021-08-24T17:02:29.093Z"
   },
   {
    "duration": 23,
    "start_time": "2021-08-24T17:02:30.217Z"
   },
   {
    "duration": 20,
    "start_time": "2021-08-24T17:02:34.496Z"
   },
   {
    "duration": 20,
    "start_time": "2021-08-24T17:02:37.825Z"
   },
   {
    "duration": 21,
    "start_time": "2021-08-24T17:02:43.920Z"
   },
   {
    "duration": 29,
    "start_time": "2021-08-24T17:02:47.861Z"
   },
   {
    "duration": 16,
    "start_time": "2021-08-24T17:03:06.489Z"
   },
   {
    "duration": 24,
    "start_time": "2021-08-24T17:04:43.624Z"
   },
   {
    "duration": 18,
    "start_time": "2021-08-24T17:04:45.182Z"
   },
   {
    "duration": 20,
    "start_time": "2021-08-24T17:04:50.069Z"
   },
   {
    "duration": 16,
    "start_time": "2021-08-24T17:04:54.814Z"
   },
   {
    "duration": 20,
    "start_time": "2021-08-24T17:04:57.637Z"
   },
   {
    "duration": 16,
    "start_time": "2021-08-24T17:04:59.009Z"
   },
   {
    "duration": 6,
    "start_time": "2021-08-24T17:05:06.139Z"
   },
   {
    "duration": 5,
    "start_time": "2021-08-24T17:05:25.468Z"
   },
   {
    "duration": 23,
    "start_time": "2021-08-24T17:05:28.412Z"
   },
   {
    "duration": 19,
    "start_time": "2021-08-24T17:05:29.179Z"
   },
   {
    "duration": 38,
    "start_time": "2021-08-24T17:05:30.018Z"
   },
   {
    "duration": 19,
    "start_time": "2021-08-24T17:05:32.182Z"
   },
   {
    "duration": 371,
    "start_time": "2021-08-24T17:23:04.594Z"
   },
   {
    "duration": 258,
    "start_time": "2021-08-24T17:23:21.780Z"
   },
   {
    "duration": 13,
    "start_time": "2021-08-24T17:24:41.761Z"
   },
   {
    "duration": 7,
    "start_time": "2021-08-24T17:24:45.819Z"
   },
   {
    "duration": 282,
    "start_time": "2021-08-24T17:26:38.711Z"
   },
   {
    "duration": 9,
    "start_time": "2021-08-24T17:27:07.291Z"
   },
   {
    "duration": 7,
    "start_time": "2021-08-24T17:27:11.703Z"
   },
   {
    "duration": 15,
    "start_time": "2021-08-24T17:35:14.114Z"
   },
   {
    "duration": 6,
    "start_time": "2021-08-24T17:37:42.450Z"
   },
   {
    "duration": 12,
    "start_time": "2021-08-24T17:38:16.594Z"
   },
   {
    "duration": 5,
    "start_time": "2021-08-24T17:40:46.060Z"
   },
   {
    "duration": 5,
    "start_time": "2021-08-24T17:40:47.349Z"
   },
   {
    "duration": 29,
    "start_time": "2021-08-24T17:40:52.404Z"
   },
   {
    "duration": 27,
    "start_time": "2021-08-24T17:41:08.216Z"
   },
   {
    "duration": 88,
    "start_time": "2021-08-24T17:41:50.992Z"
   },
   {
    "duration": 72,
    "start_time": "2021-08-24T17:42:03.406Z"
   },
   {
    "duration": 59,
    "start_time": "2021-08-24T17:42:42.586Z"
   },
   {
    "duration": 6,
    "start_time": "2021-08-24T17:43:42.466Z"
   },
   {
    "duration": 16,
    "start_time": "2021-08-24T17:44:13.340Z"
   },
   {
    "duration": 58,
    "start_time": "2021-08-24T17:44:36.723Z"
   },
   {
    "duration": 15,
    "start_time": "2021-08-24T17:45:45.739Z"
   },
   {
    "duration": 15,
    "start_time": "2021-08-24T17:46:13.131Z"
   },
   {
    "duration": 5,
    "start_time": "2021-08-24T17:47:46.281Z"
   },
   {
    "duration": 4,
    "start_time": "2021-08-24T17:48:48.965Z"
   },
   {
    "duration": 20,
    "start_time": "2021-08-24T17:49:09.820Z"
   },
   {
    "duration": 19,
    "start_time": "2021-08-24T17:49:10.690Z"
   },
   {
    "duration": 19,
    "start_time": "2021-08-24T17:49:10.938Z"
   },
   {
    "duration": 18,
    "start_time": "2021-08-24T17:49:11.148Z"
   },
   {
    "duration": 21,
    "start_time": "2021-08-24T17:49:11.859Z"
   },
   {
    "duration": 19,
    "start_time": "2021-08-24T17:49:12.297Z"
   },
   {
    "duration": 15,
    "start_time": "2021-08-24T17:49:27.180Z"
   },
   {
    "duration": 15,
    "start_time": "2021-08-24T17:49:30.681Z"
   },
   {
    "duration": 17,
    "start_time": "2021-08-24T17:50:10.695Z"
   },
   {
    "duration": 15,
    "start_time": "2021-08-24T17:50:11.077Z"
   },
   {
    "duration": 20,
    "start_time": "2021-08-24T17:50:16.183Z"
   },
   {
    "duration": 15,
    "start_time": "2021-08-24T17:50:16.552Z"
   },
   {
    "duration": 25,
    "start_time": "2021-08-24T17:51:12.447Z"
   },
   {
    "duration": 27,
    "start_time": "2021-08-24T17:51:18.272Z"
   },
   {
    "duration": 17,
    "start_time": "2021-08-24T17:51:18.802Z"
   },
   {
    "duration": 24,
    "start_time": "2021-08-24T17:51:19.420Z"
   },
   {
    "duration": 21,
    "start_time": "2021-08-24T17:51:19.893Z"
   },
   {
    "duration": 13,
    "start_time": "2021-08-24T17:52:15.418Z"
   },
   {
    "duration": 7,
    "start_time": "2021-08-24T17:52:27.446Z"
   },
   {
    "duration": 10,
    "start_time": "2021-08-24T17:52:41.588Z"
   },
   {
    "duration": 6,
    "start_time": "2021-08-24T17:52:49.167Z"
   },
   {
    "duration": 760,
    "start_time": "2021-08-25T08:14:53.429Z"
   },
   {
    "duration": 181,
    "start_time": "2021-08-25T08:14:54.191Z"
   },
   {
    "duration": 30,
    "start_time": "2021-08-25T08:14:54.375Z"
   },
   {
    "duration": 40,
    "start_time": "2021-08-25T08:14:54.407Z"
   },
   {
    "duration": 13,
    "start_time": "2021-08-25T08:14:54.450Z"
   },
   {
    "duration": 17,
    "start_time": "2021-08-25T08:14:54.465Z"
   },
   {
    "duration": 25,
    "start_time": "2021-08-25T08:14:54.487Z"
   },
   {
    "duration": 37,
    "start_time": "2021-08-25T08:14:54.515Z"
   },
   {
    "duration": 28,
    "start_time": "2021-08-25T08:14:54.556Z"
   },
   {
    "duration": 46,
    "start_time": "2021-08-25T08:14:54.587Z"
   },
   {
    "duration": 90,
    "start_time": "2021-08-25T08:14:54.636Z"
   },
   {
    "duration": 118,
    "start_time": "2021-08-25T08:14:54.728Z"
   },
   {
    "duration": 82,
    "start_time": "2021-08-25T08:14:54.849Z"
   },
   {
    "duration": 76,
    "start_time": "2021-08-25T08:14:54.934Z"
   },
   {
    "duration": 4,
    "start_time": "2021-08-25T08:14:55.012Z"
   },
   {
    "duration": 17,
    "start_time": "2021-08-25T08:14:55.019Z"
   },
   {
    "duration": 80,
    "start_time": "2021-08-25T08:14:55.039Z"
   },
   {
    "duration": 22,
    "start_time": "2021-08-25T08:14:55.122Z"
   },
   {
    "duration": 22,
    "start_time": "2021-08-25T08:14:55.147Z"
   },
   {
    "duration": 6,
    "start_time": "2021-08-25T08:14:55.201Z"
   },
   {
    "duration": 32,
    "start_time": "2021-08-25T08:14:55.210Z"
   },
   {
    "duration": 25,
    "start_time": "2021-08-25T08:14:55.245Z"
   },
   {
    "duration": 40,
    "start_time": "2021-08-25T08:14:55.272Z"
   },
   {
    "duration": 19,
    "start_time": "2021-08-25T08:14:55.314Z"
   },
   {
    "duration": 25,
    "start_time": "2021-08-25T08:14:55.336Z"
   },
   {
    "duration": 45,
    "start_time": "2021-08-25T08:14:55.363Z"
   },
   {
    "duration": 12,
    "start_time": "2021-08-25T08:14:55.413Z"
   },
   {
    "duration": 19,
    "start_time": "2021-08-25T08:14:55.427Z"
   },
   {
    "duration": 12,
    "start_time": "2021-08-25T08:14:55.449Z"
   },
   {
    "duration": 39,
    "start_time": "2021-08-25T08:14:55.464Z"
   },
   {
    "duration": 36,
    "start_time": "2021-08-25T08:14:55.506Z"
   },
   {
    "duration": 17,
    "start_time": "2021-08-25T08:14:55.545Z"
   },
   {
    "duration": 51,
    "start_time": "2021-08-25T08:14:55.566Z"
   },
   {
    "duration": 18,
    "start_time": "2021-08-25T08:14:55.620Z"
   },
   {
    "duration": 12,
    "start_time": "2021-08-25T08:14:55.641Z"
   },
   {
    "duration": 7,
    "start_time": "2021-08-25T08:14:55.655Z"
   },
   {
    "duration": 44,
    "start_time": "2021-08-25T08:14:55.664Z"
   },
   {
    "duration": 8,
    "start_time": "2021-08-25T08:14:55.712Z"
   }
  ],
  "colab": {
   "collapsed_sections": [
    "E0vqbgi9ay0H",
    "VUC88oWjTJw2"
   ],
   "name": "yandex_music_project_2021.2.ipynb",
   "provenance": []
  },
  "kernelspec": {
   "display_name": "Python 3 (ipykernel)",
   "language": "python",
   "name": "python3"
  },
  "language_info": {
   "codemirror_mode": {
    "name": "ipython",
    "version": 3
   },
   "file_extension": ".py",
   "mimetype": "text/x-python",
   "name": "python",
   "nbconvert_exporter": "python",
   "pygments_lexer": "ipython3",
   "version": "3.8.2"
  },
  "toc": {
   "base_numbering": 1,
   "nav_menu": {},
   "number_sections": true,
   "sideBar": true,
   "skip_h1_title": true,
   "title_cell": "Table of Contents",
   "title_sidebar": "Contents",
   "toc_cell": false,
   "toc_position": {
    "height": "calc(100% - 180px)",
    "left": "10px",
    "top": "150px",
    "width": "270.390625px"
   },
   "toc_section_display": true,
   "toc_window_display": true
  }
 },
 "nbformat": 4,
 "nbformat_minor": 1
}
