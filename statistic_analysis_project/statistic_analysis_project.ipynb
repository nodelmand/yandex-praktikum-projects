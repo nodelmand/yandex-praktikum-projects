{
 "cells": [
  {
   "cell_type": "markdown",
   "metadata": {},
   "source": [
    "<font color='DarkBlue' size=+2><b>Комментарий ревьюера</b></font><br>\n",
    "<font color='DarkBlue'>Привет, Даниил! <br>Меня зовут Олег Мазуренко, и я буду проверять этот проект. Спасибо за проделанную работу! <br>Ко мне можно обращаться на «ты». Как мне обращаться, напиши.</font><br>\n",
    "<font color='DarkBlue'>Я буду использовать различные цвета, чтобы было удобнее воспринимать мои комментарии:</font><br>\n",
    "<font color='DarkBlue'>Синий текст &mdash; просто текст комментария.</font><br>\n",
    "<font color='DarkGreen'>👌 Зеленый текст &mdash; все отлично.</font><br>\n",
    "<font color='DarkMagenta'>👉 Фиолетовый текст &mdash; сделано все правильно, однако есть рекомендации, на что стоит обратить внимание. Реализованные рекомендации позволят нам наработать опыт решения задачи разными способами или посмотреть на задачу под иным углом.</font><br>\n",
    "<font color='Red'>🛠 Красный текст &mdash; есть недочеты, они иногда бывают. </font><br><font color='DarkBlue'>Любая ошибка это возможность посмотреть на задачу с другой стороны и освоить новые знания, по этому не надо расстраиваться, если они есть.</font><br>\n",
    "<font color='DarkBlue'>Пожалуйста, не удаляй мои комментарии в случае возврата работы, так будет проще разобраться, какие были недочеты и сразу увидеть исправленное. <br>\n",
    "Ответы на мои комментарии лучше тоже помечать. \n",
    "Например: </font><font color='Blue'><b>Комментарий студента</b></font><br>\n",
    "<font color='DarkBlue'><b>Теперь посмотрим, что у нас получилось!</b></font>"
   ]
  },
  {
   "cell_type": "markdown",
   "metadata": {
    "toc": true
   },
   "source": [
    "<h1>Содержание <span class=\"tocSkip\"></span></h1>\n",
    "<div class=\"toc\"><ul class=\"toc-item\"><li><span><a href=\"#Описание-проекта\" data-toc-modified-id=\"Описание-проекта-1\">Описание проекта</a></span><ul class=\"toc-item\"><li><span><a href=\"#Описание-тарифов\" data-toc-modified-id=\"Описание-тарифов-1.1\">Описание тарифов</a></span><ul class=\"toc-item\"><li><span><a href=\"#Тариф-«Смарт»\" data-toc-modified-id=\"Тариф-«Смарт»-1.1.1\">Тариф «Смарт»</a></span></li><li><span><a href=\"#Тариф-«Ультра»\" data-toc-modified-id=\"Тариф-«Ультра»-1.1.2\">Тариф «Ультра»</a></span></li></ul></li></ul></li><li><span><a href=\"#Описание-данных\" data-toc-modified-id=\"Описание-данных-2\">Описание данных</a></span><ul class=\"toc-item\"><li><ul class=\"toc-item\"><li><span><a href=\"#Таблица-users-(информация-о-пользователях):\" data-toc-modified-id=\"Таблица-users-(информация-о-пользователях):-2.0.1\">Таблица users (информация о пользователях):</a></span></li><li><span><a href=\"#Таблица-calls-(информация-о-звонках):\" data-toc-modified-id=\"Таблица-calls-(информация-о-звонках):-2.0.2\">Таблица calls (информация о звонках):</a></span></li><li><span><a href=\"#Таблица-messages-(информация-о-сообщениях):\" data-toc-modified-id=\"Таблица-messages-(информация-о-сообщениях):-2.0.3\">Таблица messages (информация о сообщениях):</a></span></li><li><span><a href=\"#Таблица-internet-(информация-об-интернет-сессиях):\" data-toc-modified-id=\"Таблица-internet-(информация-об-интернет-сессиях):-2.0.4\">Таблица internet (информация об интернет-сессиях):</a></span></li><li><span><a href=\"#Таблица-tariffs-(информация-о-тарифах):\" data-toc-modified-id=\"Таблица-tariffs-(информация-о-тарифах):-2.0.5\">Таблица tariffs (информация о тарифах):</a></span></li></ul></li><li><span><a href=\"#Импорт-библиотек\" data-toc-modified-id=\"Импорт-библиотек-2.1\">Импорт библиотек</a></span></li></ul></li><li><span><a href=\"#Загружаем-и-изучаем-таблицы\" data-toc-modified-id=\"Загружаем-и-изучаем-таблицы-3\">Загружаем и изучаем таблицы</a></span><ul class=\"toc-item\"><li><span><a href=\"#Загружаем-данные-и-сохраняем-их-в-переменные\" data-toc-modified-id=\"Загружаем-данные-и-сохраняем-их-в-переменные-3.1\">Загружаем данные и сохраняем их в переменные</a></span></li><li><span><a href=\"#Метод-info()\" data-toc-modified-id=\"Метод-info()-3.2\">Метод info()</a></span><ul class=\"toc-item\"><li><span><a href=\"#Наблюдения-по-методу-info-()\" data-toc-modified-id=\"Наблюдения-по-методу-info-()-3.2.1\">Наблюдения по методу info ()</a></span></li></ul></li><li><span><a href=\"#Метод-describe()\" data-toc-modified-id=\"Метод-describe()-3.3\">Метод describe()</a></span><ul class=\"toc-item\"><li><span><a href=\"#Наблюдения-по-методу-describe()\" data-toc-modified-id=\"Наблюдения-по-методу-describe()-3.3.1\">Наблюдения по методу describe()</a></span></li></ul></li><li><span><a href=\"#Метод-head()\" data-toc-modified-id=\"Метод-head()-3.4\">Метод head()</a></span><ul class=\"toc-item\"><li><span><a href=\"#Наблюдения-по-методу-head()\" data-toc-modified-id=\"Наблюдения-по-методу-head()-3.4.1\">Наблюдения по методу head()</a></span></li></ul></li><li><span><a href=\"#Проверим-на-количество-явных-дубликатов\" data-toc-modified-id=\"Проверим-на-количество-явных-дубликатов-3.5\">Проверим на количество явных дубликатов</a></span><ul class=\"toc-item\"><li><span><a href=\"#Наблюдения-по-методу-duplicated()\" data-toc-modified-id=\"Наблюдения-по-методу-duplicated()-3.5.1\">Наблюдения по методу duplicated()</a></span></li></ul></li><li><span><a href=\"#Графическое-изучение-данных\" data-toc-modified-id=\"Графическое-изучение-данных-3.6\">Графическое изучение данных</a></span><ul class=\"toc-item\"><li><span><a href=\"#Гистограмма-распределения-длительности-звонков-по-таблице-calls\" data-toc-modified-id=\"Гистограмма-распределения-длительности-звонков-по-таблице-calls-3.6.1\">Гистограмма распределения длительности звонков по таблице calls</a></span></li><li><span><a href=\"#Наблюдения\" data-toc-modified-id=\"Наблюдения-3.6.2\">Наблюдения</a></span></li><li><span><a href=\"#Действия\" data-toc-modified-id=\"Действия-3.6.3\">Действия</a></span></li><li><span><a href=\"#Гистограмма-распределения-использованных-мегабайт-по-таблице-internet\" data-toc-modified-id=\"Гистограмма-распределения-использованных-мегабайт-по-таблице-internet-3.6.4\">Гистограмма распределения использованных мегабайт по таблице internet</a></span></li><li><span><a href=\"#Наблюдения\" data-toc-modified-id=\"Наблюдения-3.6.5\">Наблюдения</a></span></li><li><span><a href=\"#Действия\" data-toc-modified-id=\"Действия-3.6.6\">Действия</a></span></li></ul></li><li><span><a href=\"#Вывод\" data-toc-modified-id=\"Вывод-3.7\">Вывод</a></span></li></ul></li><li><span><a href=\"#Предобработка-данных\" data-toc-modified-id=\"Предобработка-данных-4\">Предобработка данных</a></span><ul class=\"toc-item\"><li><span><a href=\"#Приведение-данных-к-нужному-типу\" data-toc-modified-id=\"Приведение-данных-к-нужному-типу-4.1\">Приведение данных к нужному типу</a></span><ul class=\"toc-item\"><li><span><a href=\"#Преобразование-и-выделение-даты-при-помощи-функций.\" data-toc-modified-id=\"Преобразование-и-выделение-даты-при-помощи-функций.-4.1.1\">Преобразование и выделение даты при помощи функций.</a></span></li><li><span><a href=\"#Вывод\" data-toc-modified-id=\"Вывод-4.1.2\">Вывод</a></span></li></ul></li><li><span><a href=\"#Исправление-ошибок-в-данных\" data-toc-modified-id=\"Исправление-ошибок-в-данных-4.2\">Исправление ошибок в данных</a></span><ul class=\"toc-item\"><li><span><a href=\"#Удаление-столбца-Unnamed-0-из-таблицы-internet-(если-нет-,-index_col=False)\" data-toc-modified-id=\"Удаление-столбца-Unnamed-0-из-таблицы-internet-(если-нет-,-index_col=False)-4.2.1\">Удаление столбца Unnamed 0 из таблицы internet (если нет , index_col=False)</a></span></li><li><span><a href=\"#Вывод\" data-toc-modified-id=\"Вывод-4.2.2\">Вывод</a></span></li></ul></li><li><span><a href=\"#Количество-сделанных-звонков-и-израсходованных-минут-разговора-по-месяцам\" data-toc-modified-id=\"Количество-сделанных-звонков-и-израсходованных-минут-разговора-по-месяцам-4.3\">Количество сделанных звонков и израсходованных минут разговора по месяцам</a></span></li><li><span><a href=\"#Количество-отправленных-сообщений-по-месяцам\" data-toc-modified-id=\"Количество-отправленных-сообщений-по-месяцам-4.4\">Количество отправленных сообщений по месяцам</a></span></li><li><span><a href=\"#Объем-израсходованного-интернет-трафика-по-месяцам\" data-toc-modified-id=\"Объем-израсходованного-интернет-трафика-по-месяцам-4.5\">Объем израсходованного интернет-трафика по месяцам</a></span></li><li><span><a href=\"#Создание-общей-таблицы\" data-toc-modified-id=\"Создание-общей-таблицы-4.6\">Создание общей таблицы</a></span></li><li><span><a href=\"#Количество-пользователей-в-новой-таблице\" data-toc-modified-id=\"Количество-пользователей-в-новой-таблице-4.7\">Количество пользователей в новой таблице</a></span></li><li><span><a href=\"#Помесячная-выручка-с-каждого-пользователя\" data-toc-modified-id=\"Помесячная-выручка-с-каждого-пользователя-4.8\">Помесячная выручка с каждого пользователя</a></span></li><li><span><a href=\"#Создание-функций\" data-toc-modified-id=\"Создание-функций-4.9\">Создание функций</a></span></li><li><span><a href=\"#Проверка-на-наличие-пропусков\" data-toc-modified-id=\"Проверка-на-наличие-пропусков-4.10\">Проверка на наличие пропусков</a></span><ul class=\"toc-item\"><li><span><a href=\"#Посмотрим-сколько-клиентов-выходят-за-рамки-своих-лимитов-по-тарифу\" data-toc-modified-id=\"Посмотрим-сколько-клиентов-выходят-за-рамки-своих-лимитов-по-тарифу-4.10.1\">Посмотрим сколько клиентов выходят за рамки своих лимитов по тарифу</a></span></li></ul></li><li><span><a href=\"#Вывод\" data-toc-modified-id=\"Вывод-4.11\">Вывод</a></span></li></ul></li><li><span><a href=\"#Анализ-данных\" data-toc-modified-id=\"Анализ-данных-5\">Анализ данных</a></span><ul class=\"toc-item\"><li><span><a href=\"#Минуты-разговора-в-месяц\" data-toc-modified-id=\"Минуты-разговора-в-месяц-5.1\">Минуты разговора в месяц</a></span></li><li><span><a href=\"#Минуты-разговора-за-год\" data-toc-modified-id=\"Минуты-разговора-за-год-5.2\">Минуты разговора за год</a></span><ul class=\"toc-item\"><li><span><a href=\"#Наблюдения\" data-toc-modified-id=\"Наблюдения-5.2.1\">Наблюдения</a></span><ul class=\"toc-item\"><li><span><a href=\"#Тариф-смарт\" data-toc-modified-id=\"Тариф-смарт-5.2.1.1\"><strong>Тариф смарт</strong></a></span></li><li><span><a href=\"#Тариф-ультра\" data-toc-modified-id=\"Тариф-ультра-5.2.1.2\"><strong>Тариф ультра</strong></a></span></li></ul></li><li><span><a href=\"#Гистограмма-распределение-звонков\" data-toc-modified-id=\"Гистограмма-распределение-звонков-5.2.2\">Гистограмма распределение звонков</a></span></li><li><span><a href=\"#Наблюдения\" data-toc-modified-id=\"Наблюдения-5.2.3\">Наблюдения</a></span></li><li><span><a href=\"#Гистограмма-распределения-звонков-между-превысившими-лимит-минут-и-непривысившими-по-тарифам\" data-toc-modified-id=\"Гистограмма-распределения-звонков-между-превысившими-лимит-минут-и-непривысившими-по-тарифам-5.2.4\">Гистограмма распределения звонков между превысившими лимит минут и непривысившими по тарифам</a></span></li><li><span><a href=\"#Наблюдения\" data-toc-modified-id=\"Наблюдения-5.2.5\">Наблюдения</a></span><ul class=\"toc-item\"><li><span><a href=\"#Тариф-смарт\" data-toc-modified-id=\"Тариф-смарт-5.2.5.1\"><strong>Тариф смарт</strong></a></span></li><li><span><a href=\"#Тариф-ультра\" data-toc-modified-id=\"Тариф-ультра-5.2.5.2\"><strong>Тариф ультра</strong></a></span></li></ul></li><li><span><a href=\"#Вывод-по-длительности-звонков\" data-toc-modified-id=\"Вывод-по-длительности-звонков-5.2.6\">Вывод по длительности звонков</a></span><ul class=\"toc-item\"><li><span><a href=\"#Тариф-смарт\" data-toc-modified-id=\"Тариф-смарт-5.2.6.1\"><strong>Тариф смарт</strong></a></span></li><li><span><a href=\"#Тариф-ультра\" data-toc-modified-id=\"Тариф-ультра-5.2.6.2\"><strong>Тариф ультра</strong></a></span></li><li><span><a href=\"#Распределение\" data-toc-modified-id=\"Распределение-5.2.6.3\">Распределение</a></span></li></ul></li></ul></li><li><span><a href=\"#Количество-сообщений-в-месяц\" data-toc-modified-id=\"Количество-сообщений-в-месяц-5.3\">Количество сообщений в месяц</a></span></li><li><span><a href=\"#Количество-сообщений-за-год\" data-toc-modified-id=\"Количество-сообщений-за-год-5.4\">Количество сообщений за год</a></span><ul class=\"toc-item\"><li><span><a href=\"#Наблюдения\" data-toc-modified-id=\"Наблюдения-5.4.1\">Наблюдения</a></span><ul class=\"toc-item\"><li><span><a href=\"#Тариф-смарт\" data-toc-modified-id=\"Тариф-смарт-5.4.1.1\"><strong>Тариф смарт</strong></a></span></li><li><span><a href=\"#Тариф-ультра\" data-toc-modified-id=\"Тариф-ультра-5.4.1.2\"><strong>Тариф ультра</strong></a></span></li></ul></li><li><span><a href=\"#Гистограмма-распределение-количества-сообщений\" data-toc-modified-id=\"Гистограмма-распределение-количества-сообщений-5.4.2\">Гистограмма распределение количества сообщений</a></span></li><li><span><a href=\"#Наблюдения\" data-toc-modified-id=\"Наблюдения-5.4.3\">Наблюдения</a></span></li><li><span><a href=\"#Гистограмма-распределения-количества-сообщений-между-переплатившими-и-непереплатившими\" data-toc-modified-id=\"Гистограмма-распределения-количества-сообщений-между-переплатившими-и-непереплатившими-5.4.4\">Гистограмма распределения количества сообщений между переплатившими и непереплатившими</a></span></li><li><span><a href=\"#Наблюдения\" data-toc-modified-id=\"Наблюдения-5.4.5\">Наблюдения</a></span><ul class=\"toc-item\"><li><span><a href=\"#Тариф-смарт\" data-toc-modified-id=\"Тариф-смарт-5.4.5.1\"><strong>Тариф смарт</strong></a></span></li><li><span><a href=\"#Тариф-ультра\" data-toc-modified-id=\"Тариф-ультра-5.4.5.2\"><strong>Тариф ультра</strong></a></span></li></ul></li><li><span><a href=\"#Вывод-по-количеству-сообщений\" data-toc-modified-id=\"Вывод-по-количеству-сообщений-5.4.6\">Вывод по количеству сообщений</a></span><ul class=\"toc-item\"><li><span><a href=\"#Тариф-смарт\" data-toc-modified-id=\"Тариф-смарт-5.4.6.1\"><strong>Тариф смарт</strong></a></span></li><li><span><a href=\"#Тариф-ультра\" data-toc-modified-id=\"Тариф-ультра-5.4.6.2\"><strong>Тариф ультра</strong></a></span></li><li><span><a href=\"#Распределение\" data-toc-modified-id=\"Распределение-5.4.6.3\">Распределение</a></span></li></ul></li></ul></li><li><span><a href=\"#Объем-интернет---трафика-в-месяц\" data-toc-modified-id=\"Объем-интернет---трафика-в-месяц-5.5\">Объем интернет - трафика в месяц</a></span></li><li><span><a href=\"#Объем-интернет-трафика-в-год\" data-toc-modified-id=\"Объем-интернет-трафика-в-год-5.6\">Объем интернет трафика в год</a></span><ul class=\"toc-item\"><li><span><a href=\"#Наблюдения\" data-toc-modified-id=\"Наблюдения-5.6.1\">Наблюдения</a></span><ul class=\"toc-item\"><li><span><a href=\"#Тариф-смарт\" data-toc-modified-id=\"Тариф-смарт-5.6.1.1\"><strong>Тариф смарт</strong></a></span></li><li><span><a href=\"#Тариф-ультра\" data-toc-modified-id=\"Тариф-ультра-5.6.1.2\"><strong>Тариф ультра</strong></a></span></li></ul></li><li><span><a href=\"#Гистограмма-распределение-объема-интернет-трафика\" data-toc-modified-id=\"Гистограмма-распределение-объема-интернет-трафика-5.6.2\">Гистограмма распределение объема интернет трафика</a></span></li><li><span><a href=\"#Наблюдения\" data-toc-modified-id=\"Наблюдения-5.6.3\">Наблюдения</a></span></li><li><span><a href=\"#Гистограмма-распределения-объема-интернет-трафика-между-переплатившими-и-непереплатившими\" data-toc-modified-id=\"Гистограмма-распределения-объема-интернет-трафика-между-переплатившими-и-непереплатившими-5.6.4\">Гистограмма распределения объема интернет трафика между переплатившими и непереплатившими</a></span></li><li><span><a href=\"#Наблюдения\" data-toc-modified-id=\"Наблюдения-5.6.5\">Наблюдения</a></span><ul class=\"toc-item\"><li><span><a href=\"#Тариф-смарт\" data-toc-modified-id=\"Тариф-смарт-5.6.5.1\"><strong>Тариф смарт</strong></a></span></li><li><span><a href=\"#Тариф-ультра\" data-toc-modified-id=\"Тариф-ультра-5.6.5.2\"><strong>Тариф ультра</strong></a></span></li></ul></li><li><span><a href=\"#Вывод-по-объему-интернет-трафика\" data-toc-modified-id=\"Вывод-по-объему-интернет-трафика-5.6.6\">Вывод по объему интернет трафика</a></span><ul class=\"toc-item\"><li><span><a href=\"#Тариф-смарт\" data-toc-modified-id=\"Тариф-смарт-5.6.6.1\"><strong>Тариф смарт</strong></a></span></li><li><span><a href=\"#Тариф-ультра\" data-toc-modified-id=\"Тариф-ультра-5.6.6.2\"><strong>Тариф ультра</strong></a></span></li><li><span><a href=\"#Распределение\" data-toc-modified-id=\"Распределение-5.6.6.3\">Распределение</a></span></li></ul></li></ul></li><li><span><a href=\"#Анализ-выручки-в-разрезе-тарифа\" data-toc-modified-id=\"Анализ-выручки-в-разрезе-тарифа-5.7\">Анализ выручки в разрезе тарифа</a></span><ul class=\"toc-item\"><li><span><a href=\"#Объем-выручки-по-тарифам-за-каждый-месяц\" data-toc-modified-id=\"Объем-выручки-по-тарифам-за-каждый-месяц-5.7.1\">Объем выручки по тарифам за каждый месяц</a></span></li><li><span><a href=\"#Объем-выручки-по-тарифам-за-год\" data-toc-modified-id=\"Объем-выручки-по-тарифам-за-год-5.7.2\">Объем выручки по тарифам за год</a></span></li><li><span><a href=\"#Наблюдения\" data-toc-modified-id=\"Наблюдения-5.7.3\">Наблюдения</a></span></li><li><span><a href=\"#График-распределения-выручки-по-месяцам-между-тарифами-смарт-и-ультра\" data-toc-modified-id=\"График-распределения-выручки-по-месяцам-между-тарифами-смарт-и-ультра-5.7.4\">График распределения выручки по месяцам между тарифами смарт и ультра</a></span></li><li><span><a href=\"#Наблюдения-по-графику-(динамика)\" data-toc-modified-id=\"Наблюдения-по-графику-(динамика)-5.7.5\">Наблюдения по графику (динамика)</a></span><ul class=\"toc-item\"><li><span><a href=\"#Smart\" data-toc-modified-id=\"Smart-5.7.5.1\">Smart</a></span></li><li><span><a href=\"#Ultra\" data-toc-modified-id=\"Ultra-5.7.5.2\">Ultra</a></span></li></ul></li><li><span><a href=\"#Вывод\" data-toc-modified-id=\"Вывод-5.7.6\">Вывод</a></span></li></ul></li></ul></li><li><span><a href=\"#Проверка-гипотез\" data-toc-modified-id=\"Проверка-гипотез-6\">Проверка гипотез</a></span><ul class=\"toc-item\"><li><span><a href=\"#Средняя-выручка-пользователей-тарифов-«Ультра»-и-«Смарт»-различаются\" data-toc-modified-id=\"Средняя-выручка-пользователей-тарифов-«Ультра»-и-«Смарт»-различаются-6.1\">Средняя выручка пользователей тарифов «Ультра» и «Смарт» различаются</a></span><ul class=\"toc-item\"><li><span><a href=\"#Нулевая-гипотеза-H0-:\" data-toc-modified-id=\"Нулевая-гипотеза-H0-:-6.1.1\">Нулевая гипотеза H0 :</a></span></li><li><span><a href=\"#Альтернативная-двухстороняя-гипотеза-H1-:\" data-toc-modified-id=\"Альтернативная-двухстороняя-гипотеза-H1-:-6.1.2\">Альтернативная двухстороняя гипотеза H1 :</a></span></li><li><span><a href=\"#Вывод\" data-toc-modified-id=\"Вывод-6.1.3\">Вывод</a></span></li></ul></li><li><span><a href=\"#Cредняя-выручка-пользователей-из-Москвы-отличается-от-выручки-пользователей-из-других-регионов.\" data-toc-modified-id=\"Cредняя-выручка-пользователей-из-Москвы-отличается-от-выручки-пользователей-из-других-регионов.-6.2\">Cредняя выручка пользователей из Москвы отличается от выручки пользователей из других регионов.</a></span><ul class=\"toc-item\"><li><span><a href=\"#Нулевая-гипотеза-H0-:\" data-toc-modified-id=\"Нулевая-гипотеза-H0-:-6.2.1\">Нулевая гипотеза H0 :</a></span></li><li><span><a href=\"#Альтернативная-двухстороняя-гипотеза-H1-:\" data-toc-modified-id=\"Альтернативная-двухстороняя-гипотеза-H1-:-6.2.2\">Альтернативная двухстороняя гипотеза H1 :</a></span></li><li><span><a href=\"#Вывод\" data-toc-modified-id=\"Вывод-6.2.3\">Вывод</a></span></li></ul></li></ul></li><li><span><a href=\"#Общий-вывод\" data-toc-modified-id=\"Общий-вывод-7\">Общий вывод</a></span><ul class=\"toc-item\"><li><span><a href=\"#1-Загрузка-и-изучение-таблиц:\" data-toc-modified-id=\"1-Загрузка-и-изучение-таблиц:-7.1\">1 Загрузка и изучение таблиц:</a></span></li><li><span><a href=\"#2-Предобработка-данных\" data-toc-modified-id=\"2-Предобработка-данных-7.2\">2 Предобработка данных</a></span></li><li><span><a href=\"#3-Анализ-данных\" data-toc-modified-id=\"3-Анализ-данных-7.3\">3 Анализ данных</a></span><ul class=\"toc-item\"><li><span><a href=\"#Вывод-по-длительности-звонков\" data-toc-modified-id=\"Вывод-по-длительности-звонков-7.3.1\">Вывод по длительности звонков</a></span><ul class=\"toc-item\"><li><span><a href=\"#Тариф-смарт\" data-toc-modified-id=\"Тариф-смарт-7.3.1.1\"><strong>Тариф смарт</strong></a></span></li><li><span><a href=\"#Тариф-ультра\" data-toc-modified-id=\"Тариф-ультра-7.3.1.2\"><strong>Тариф ультра</strong></a></span></li><li><span><a href=\"#Распределение\" data-toc-modified-id=\"Распределение-7.3.1.3\">Распределение</a></span></li></ul></li><li><span><a href=\"#Вывод-по-количеству-сообщений\" data-toc-modified-id=\"Вывод-по-количеству-сообщений-7.3.2\">Вывод по количеству сообщений</a></span><ul class=\"toc-item\"><li><span><a href=\"#Тариф-смарт\" data-toc-modified-id=\"Тариф-смарт-7.3.2.1\"><strong>Тариф смарт</strong></a></span></li><li><span><a href=\"#Тариф-ультра\" data-toc-modified-id=\"Тариф-ультра-7.3.2.2\"><strong>Тариф ультра</strong></a></span></li><li><span><a href=\"#Распределение\" data-toc-modified-id=\"Распределение-7.3.2.3\">Распределение</a></span></li></ul></li><li><span><a href=\"#Вывод-по-объему-интернет-трафика\" data-toc-modified-id=\"Вывод-по-объему-интернет-трафика-7.3.3\">Вывод по объему интернет трафика</a></span><ul class=\"toc-item\"><li><span><a href=\"#Тариф-смарт\" data-toc-modified-id=\"Тариф-смарт-7.3.3.1\"><strong>Тариф смарт</strong></a></span></li><li><span><a href=\"#Тариф-ультра\" data-toc-modified-id=\"Тариф-ультра-7.3.3.2\"><strong>Тариф ультра</strong></a></span></li><li><span><a href=\"#Распределение\" data-toc-modified-id=\"Распределение-7.3.3.3\">Распределение</a></span></li></ul></li><li><span><a href=\"#Вывод-по-объему-выручки\" data-toc-modified-id=\"Вывод-по-объему-выручки-7.3.4\">Вывод по объему выручки</a></span></li></ul></li><li><span><a href=\"#4-Проверка-гипотез\" data-toc-modified-id=\"4-Проверка-гипотез-7.4\">4 Проверка гипотез</a></span><ul class=\"toc-item\"><li><span><a href=\"#Средняя-выручка-пользователей-тарифов-«Ультра»-и-«Смарт»-различаются\" data-toc-modified-id=\"Средняя-выручка-пользователей-тарифов-«Ультра»-и-«Смарт»-различаются-7.4.1\">Средняя выручка пользователей тарифов «Ультра» и «Смарт» различаются</a></span><ul class=\"toc-item\"><li><span><a href=\"#Вывод-по-первой-гипотезе:\" data-toc-modified-id=\"Вывод-по-первой-гипотезе:-7.4.1.1\">Вывод по первой гипотезе:</a></span></li></ul></li><li><span><a href=\"#Cредняя-выручка-пользователей-из-Москвы-отличается-от-выручки-пользователей-из-других-регионов.\" data-toc-modified-id=\"Cредняя-выручка-пользователей-из-Москвы-отличается-от-выручки-пользователей-из-других-регионов.-7.4.2\">Cредняя выручка пользователей из Москвы отличается от выручки пользователей из других регионов.</a></span><ul class=\"toc-item\"><li><span><a href=\"#Вывод-по-второй-гипотезе:\" data-toc-modified-id=\"Вывод-по-второй-гипотезе:-7.4.2.1\">Вывод по второй гипотезе:</a></span></li></ul></li></ul></li></ul></li></ul></div>"
   ]
  },
  {
   "cell_type": "markdown",
   "metadata": {},
   "source": [
    "# Определение перспективного тарифа для телеком-компании"
   ]
  },
  {
   "cell_type": "markdown",
   "metadata": {},
   "source": [
    "## Описание проекта "
   ]
  },
  {
   "cell_type": "markdown",
   "metadata": {},
   "source": [
    "Вы аналитик компании «Мегалайн» — федерального оператора сотовой связи. Клиентам предлагают два тарифных плана: «Смарт» и «Ультра». Чтобы скорректировать рекламный бюджет, коммерческий департамент хочет понять, какой тариф приносит больше денег.\n",
    "\n",
    "\n",
    "Вам предстоит сделать предварительный анализ тарифов на небольшой выборке клиентов. В вашем распоряжении данные 500 пользователей «Мегалайна»: кто они, откуда, каким тарифом пользуются, сколько звонков и сообщений каждый отправил за 2018 год. Нужно проанализировать поведение клиентов и сделать вывод — какой тариф лучше.\n",
    "\n",
    "### Описание тарифов\n",
    "\n",
    "#### Тариф «Смарт»\n",
    "- Ежемесячная плата: 550 рублей\n",
    "- Включено 500 минут разговора, 50 сообщений и 15 Гб интернет-трафика\n",
    "- Стоимость услуг сверх тарифного пакета:\n",
    "- минута разговора: 3 рубля\n",
    "- сообщение: 3 рубля\n",
    "- 1 Гб интернет-трафика: 200 рублей\n",
    "\n",
    "#### Тариф «Ультра»\n",
    "- Ежемесячная плата: 1950 рублей\n",
    "- Включено 3000 минут разговора, 1000 сообщений и 30 Гб интернет-трафика\n",
    "- Стоимость услуг сверх тарифного пакета:\n",
    "- минута разговора: 1 рубль\n",
    "- сообщение: 1 рубль\n",
    "- 1 Гб интернет-трафика: 150 рублей\n"
   ]
  },
  {
   "cell_type": "markdown",
   "metadata": {},
   "source": [
    "<font color='DarkBlue'><b>Комментарий ревьюера</b></font><br>\n",
    "<font color='DarkGreen'>👌 Хорошо сделано описание к проекту. 👍</font>"
   ]
  },
  {
   "cell_type": "markdown",
   "metadata": {},
   "source": [
    "## Описание данных"
   ]
  },
  {
   "cell_type": "markdown",
   "metadata": {},
   "source": [
    "#### Таблица users (информация о пользователях):\n",
    "- user_id — уникальный идентификатор пользователя\n",
    "- first_name — имя пользователя\n",
    "- last_name — фамилия пользователя\n",
    "- age — возраст пользователя (годы)\n",
    "- reg_date — дата подключения тарифа (день, месяц, год)\n",
    "- churn_date — дата прекращения пользования тарифом (если значение пропущено, то тариф ещё действовал на момент выгрузки данных)\n",
    "- city — город проживания пользователя\n",
    "- tariff — название тарифного плана\n",
    "\n",
    "#### Таблица calls (информация о звонках):\n",
    "- id — уникальный номер звонка\n",
    "- call_date — дата звонка\n",
    "- duration — длительность звонка в минутах\n",
    "- user_id — идентификатор пользователя, сделавшего звонок\n",
    "\n",
    "#### Таблица messages (информация о сообщениях):\n",
    "- id — уникальный номер сообщения\n",
    "- message_date — дата сообщения\n",
    "- user_id — идентификатор пользователя, отправившего сообщение\n",
    "\n",
    "#### Таблица internet (информация об интернет-сессиях):\n",
    "- id — уникальный номер сессии\n",
    "- mb_used — объём потраченного за сессию интернет-трафика (в мегабайтах)\n",
    "- session_date — дата интернет-сессии\n",
    "- user_id — идентификатор пользователя\n",
    "\n",
    "#### Таблица tariffs (информация о тарифах):\n",
    "- tariff_name — название тарифа\n",
    "- rub_monthly_fee — ежемесячная абонентская плата в рублях\n",
    "- minutes_included — количество минут разговора в месяц, включённых в абонентскую плату\n",
    "- messages_included — количество сообщений в месяц, включённых в абонентскую плату\n",
    "- mb_per_month_included — объём интернет-трафика, включённого в абонентскую плату (в мегабайтах)\n",
    "- rub_per_minute — стоимость минуты разговора сверх тарифного пакета (например, если в тарифе 100 минут разговора в месяц, то со 101 минуты будет взиматься плата)\n",
    "- rub_per_message — стоимость отправки сообщения сверх тарифного пакета\n",
    "- rub_per_gb — стоимость дополнительного гигабайта интернет-трафика сверх тарифного пакета (1 гигабайт = 1024 мегабайта)"
   ]
  },
  {
   "cell_type": "markdown",
   "metadata": {},
   "source": [
    "### Импорт библиотек"
   ]
  },
  {
   "cell_type": "code",
   "execution_count": 1,
   "metadata": {},
   "outputs": [],
   "source": [
    "import pandas as pd \n",
    "import numpy as np \n",
    "from scipy import stats as st\n",
    "import matplotlib.pyplot as plt\n",
    "from datetime import datetime as dt\n",
    "import requests as r\n",
    "from time import strptime\n",
    "from scipy import stats as st \n"
   ]
  },
  {
   "cell_type": "markdown",
   "metadata": {},
   "source": [
    "## Загружаем и изучаем таблицы"
   ]
  },
  {
   "cell_type": "markdown",
   "metadata": {},
   "source": [
    "### Загружаем данные и сохраняем их в переменные "
   ]
  },
  {
   "cell_type": "code",
   "execution_count": 2,
   "metadata": {},
   "outputs": [],
   "source": [
    "# Создаем переменную путь к файлу\n",
    "#(можно заменить на свои при работе на локальном устройстве)\n",
    "file_path = '/Users/danielnodelman/Downloads/'\n",
    "try:\n",
    "# Загружаем данные в переменные на локальном утройстве \n",
    "    calls, internet, messages, tariffs, users  = (pd.read_csv('/datasets/calls.csv', index_col=False),\n",
    "                                                  pd.read_csv('/datasets/internet.csv', index_col=False),\n",
    "                                                  pd.read_csv('/datasets/messages.csv', index_col=False),\n",
    "                                                  pd.read_csv('/datasets/tariffs.csv', index_col=False),\n",
    "                                                  pd.read_csv('/datasets/users.csv', index_col=False)\n",
    "                                                  )\n",
    "except:\n",
    "# Загружаем данные в переменные \n",
    "    calls, internet, messages, tariffs, users  = (pd.read_csv(file_path + 'calls.csv', index_col=False),\n",
    "                                                  pd.read_csv(file_path + 'internet.csv', index_col=False),\n",
    "                                                  pd.read_csv(file_path + 'messages.csv', index_col=False),\n",
    "                                                  pd.read_csv(file_path + 'tariffs.csv', index_col=False),\n",
    "                                                  pd.read_csv(file_path + 'users.csv', index_col=False)\n",
    "                                                  )                        "
   ]
  },
  {
   "cell_type": "markdown",
   "metadata": {},
   "source": [
    "### Метод info()"
   ]
  },
  {
   "cell_type": "code",
   "execution_count": 3,
   "metadata": {
    "scrolled": true
   },
   "outputs": [
    {
     "name": "stdout",
     "output_type": "stream",
     "text": [
      "<class 'pandas.core.frame.DataFrame'>\n",
      "RangeIndex: 202607 entries, 0 to 202606\n",
      "Data columns (total 4 columns):\n",
      " #   Column     Non-Null Count   Dtype  \n",
      "---  ------     --------------   -----  \n",
      " 0   id         202607 non-null  object \n",
      " 1   call_date  202607 non-null  object \n",
      " 2   duration   202607 non-null  float64\n",
      " 3   user_id    202607 non-null  int64  \n",
      "dtypes: float64(1), int64(1), object(2)\n",
      "memory usage: 6.2+ MB\n",
      "\n",
      "<class 'pandas.core.frame.DataFrame'>\n",
      "RangeIndex: 149396 entries, 0 to 149395\n",
      "Data columns (total 5 columns):\n",
      " #   Column        Non-Null Count   Dtype  \n",
      "---  ------        --------------   -----  \n",
      " 0   Unnamed: 0    149396 non-null  int64  \n",
      " 1   id            149396 non-null  object \n",
      " 2   mb_used       149396 non-null  float64\n",
      " 3   session_date  149396 non-null  object \n",
      " 4   user_id       149396 non-null  int64  \n",
      "dtypes: float64(1), int64(2), object(2)\n",
      "memory usage: 5.7+ MB\n",
      "\n",
      "<class 'pandas.core.frame.DataFrame'>\n",
      "RangeIndex: 123036 entries, 0 to 123035\n",
      "Data columns (total 3 columns):\n",
      " #   Column        Non-Null Count   Dtype \n",
      "---  ------        --------------   ----- \n",
      " 0   id            123036 non-null  object\n",
      " 1   message_date  123036 non-null  object\n",
      " 2   user_id       123036 non-null  int64 \n",
      "dtypes: int64(1), object(2)\n",
      "memory usage: 2.8+ MB\n",
      "\n",
      "<class 'pandas.core.frame.DataFrame'>\n",
      "RangeIndex: 2 entries, 0 to 1\n",
      "Data columns (total 8 columns):\n",
      " #   Column                 Non-Null Count  Dtype \n",
      "---  ------                 --------------  ----- \n",
      " 0   messages_included      2 non-null      int64 \n",
      " 1   mb_per_month_included  2 non-null      int64 \n",
      " 2   minutes_included       2 non-null      int64 \n",
      " 3   rub_monthly_fee        2 non-null      int64 \n",
      " 4   rub_per_gb             2 non-null      int64 \n",
      " 5   rub_per_message        2 non-null      int64 \n",
      " 6   rub_per_minute         2 non-null      int64 \n",
      " 7   tariff_name            2 non-null      object\n",
      "dtypes: int64(7), object(1)\n",
      "memory usage: 256.0+ bytes\n",
      "\n",
      "<class 'pandas.core.frame.DataFrame'>\n",
      "RangeIndex: 500 entries, 0 to 499\n",
      "Data columns (total 8 columns):\n",
      " #   Column      Non-Null Count  Dtype \n",
      "---  ------      --------------  ----- \n",
      " 0   user_id     500 non-null    int64 \n",
      " 1   age         500 non-null    int64 \n",
      " 2   churn_date  38 non-null     object\n",
      " 3   city        500 non-null    object\n",
      " 4   first_name  500 non-null    object\n",
      " 5   last_name   500 non-null    object\n",
      " 6   reg_date    500 non-null    object\n",
      " 7   tariff      500 non-null    object\n",
      "dtypes: int64(2), object(6)\n",
      "memory usage: 31.4+ KB\n",
      "\n"
     ]
    }
   ],
   "source": [
    "calls.info()\n",
    "print()\n",
    "internet.info()\n",
    "print()\n",
    "messages.info()\n",
    "print()\n",
    "tariffs.info()\n",
    "print()\n",
    "users.info()\n",
    "print()"
   ]
  },
  {
   "cell_type": "markdown",
   "metadata": {},
   "source": [
    "#### Наблюдения по методу info () \n",
    "**calls**\n",
    "- явных пропусков в столбцах нет \n",
    "- call_date из object  в datetime\n",
    "- нужно визуализировать распределение продолжительности звонков\n",
    "\n",
    "**internet**\n",
    "- '0   Unnamed: 0' странный столбец, его нет в документации к данным\n",
    "- явных пропусков в столбцах нет \n",
    "- нужно визуализировать распределение потребленных мегабайтов\n",
    "\n",
    "**messages**\n",
    "- message_date из object в datetime\n",
    "- явных пропусков в столбцах нет  \n",
    "\n",
    "**tariffs**\n",
    "- только 2 ненулевые записи \n",
    "\n",
    "**users**\n",
    "- churn_date из object в datetime\n",
    "- reg_date из object в datetime\n",
    "- нужно добавить столбцы с месяцем и годом\n",
    "- явных пропусков в столбцах нет "
   ]
  },
  {
   "cell_type": "markdown",
   "metadata": {},
   "source": [
    "### Метод describe()"
   ]
  },
  {
   "cell_type": "code",
   "execution_count": 4,
   "metadata": {},
   "outputs": [
    {
     "data": {
      "text/html": [
       "<div>\n",
       "<style scoped>\n",
       "    .dataframe tbody tr th:only-of-type {\n",
       "        vertical-align: middle;\n",
       "    }\n",
       "\n",
       "    .dataframe tbody tr th {\n",
       "        vertical-align: top;\n",
       "    }\n",
       "\n",
       "    .dataframe thead th {\n",
       "        text-align: right;\n",
       "    }\n",
       "</style>\n",
       "<table border=\"1\" class=\"dataframe\">\n",
       "  <thead>\n",
       "    <tr style=\"text-align: right;\">\n",
       "      <th></th>\n",
       "      <th>duration</th>\n",
       "      <th>user_id</th>\n",
       "    </tr>\n",
       "  </thead>\n",
       "  <tbody>\n",
       "    <tr>\n",
       "      <th>count</th>\n",
       "      <td>202607.000000</td>\n",
       "      <td>202607.000000</td>\n",
       "    </tr>\n",
       "    <tr>\n",
       "      <th>mean</th>\n",
       "      <td>6.755887</td>\n",
       "      <td>1253.940619</td>\n",
       "    </tr>\n",
       "    <tr>\n",
       "      <th>std</th>\n",
       "      <td>5.843365</td>\n",
       "      <td>144.722751</td>\n",
       "    </tr>\n",
       "    <tr>\n",
       "      <th>min</th>\n",
       "      <td>0.000000</td>\n",
       "      <td>1000.000000</td>\n",
       "    </tr>\n",
       "    <tr>\n",
       "      <th>25%</th>\n",
       "      <td>1.300000</td>\n",
       "      <td>1126.000000</td>\n",
       "    </tr>\n",
       "    <tr>\n",
       "      <th>50%</th>\n",
       "      <td>6.000000</td>\n",
       "      <td>1260.000000</td>\n",
       "    </tr>\n",
       "    <tr>\n",
       "      <th>75%</th>\n",
       "      <td>10.700000</td>\n",
       "      <td>1379.000000</td>\n",
       "    </tr>\n",
       "    <tr>\n",
       "      <th>max</th>\n",
       "      <td>38.000000</td>\n",
       "      <td>1499.000000</td>\n",
       "    </tr>\n",
       "  </tbody>\n",
       "</table>\n",
       "</div>"
      ],
      "text/plain": [
       "            duration        user_id\n",
       "count  202607.000000  202607.000000\n",
       "mean        6.755887    1253.940619\n",
       "std         5.843365     144.722751\n",
       "min         0.000000    1000.000000\n",
       "25%         1.300000    1126.000000\n",
       "50%         6.000000    1260.000000\n",
       "75%        10.700000    1379.000000\n",
       "max        38.000000    1499.000000"
      ]
     },
     "execution_count": 4,
     "metadata": {},
     "output_type": "execute_result"
    }
   ],
   "source": [
    "calls.describe()"
   ]
  },
  {
   "cell_type": "code",
   "execution_count": 5,
   "metadata": {},
   "outputs": [
    {
     "data": {
      "text/html": [
       "<div>\n",
       "<style scoped>\n",
       "    .dataframe tbody tr th:only-of-type {\n",
       "        vertical-align: middle;\n",
       "    }\n",
       "\n",
       "    .dataframe tbody tr th {\n",
       "        vertical-align: top;\n",
       "    }\n",
       "\n",
       "    .dataframe thead th {\n",
       "        text-align: right;\n",
       "    }\n",
       "</style>\n",
       "<table border=\"1\" class=\"dataframe\">\n",
       "  <thead>\n",
       "    <tr style=\"text-align: right;\">\n",
       "      <th></th>\n",
       "      <th>Unnamed: 0</th>\n",
       "      <th>mb_used</th>\n",
       "      <th>user_id</th>\n",
       "    </tr>\n",
       "  </thead>\n",
       "  <tbody>\n",
       "    <tr>\n",
       "      <th>count</th>\n",
       "      <td>149396.000000</td>\n",
       "      <td>149396.000000</td>\n",
       "      <td>149396.000000</td>\n",
       "    </tr>\n",
       "    <tr>\n",
       "      <th>mean</th>\n",
       "      <td>74697.500000</td>\n",
       "      <td>370.192426</td>\n",
       "      <td>1252.099842</td>\n",
       "    </tr>\n",
       "    <tr>\n",
       "      <th>std</th>\n",
       "      <td>43127.054745</td>\n",
       "      <td>278.300951</td>\n",
       "      <td>144.050823</td>\n",
       "    </tr>\n",
       "    <tr>\n",
       "      <th>min</th>\n",
       "      <td>0.000000</td>\n",
       "      <td>0.000000</td>\n",
       "      <td>1000.000000</td>\n",
       "    </tr>\n",
       "    <tr>\n",
       "      <th>25%</th>\n",
       "      <td>37348.750000</td>\n",
       "      <td>138.187500</td>\n",
       "      <td>1130.000000</td>\n",
       "    </tr>\n",
       "    <tr>\n",
       "      <th>50%</th>\n",
       "      <td>74697.500000</td>\n",
       "      <td>348.015000</td>\n",
       "      <td>1251.000000</td>\n",
       "    </tr>\n",
       "    <tr>\n",
       "      <th>75%</th>\n",
       "      <td>112046.250000</td>\n",
       "      <td>559.552500</td>\n",
       "      <td>1380.000000</td>\n",
       "    </tr>\n",
       "    <tr>\n",
       "      <th>max</th>\n",
       "      <td>149395.000000</td>\n",
       "      <td>1724.830000</td>\n",
       "      <td>1499.000000</td>\n",
       "    </tr>\n",
       "  </tbody>\n",
       "</table>\n",
       "</div>"
      ],
      "text/plain": [
       "          Unnamed: 0        mb_used        user_id\n",
       "count  149396.000000  149396.000000  149396.000000\n",
       "mean    74697.500000     370.192426    1252.099842\n",
       "std     43127.054745     278.300951     144.050823\n",
       "min         0.000000       0.000000    1000.000000\n",
       "25%     37348.750000     138.187500    1130.000000\n",
       "50%     74697.500000     348.015000    1251.000000\n",
       "75%    112046.250000     559.552500    1380.000000\n",
       "max    149395.000000    1724.830000    1499.000000"
      ]
     },
     "execution_count": 5,
     "metadata": {},
     "output_type": "execute_result"
    }
   ],
   "source": [
    "internet.describe()"
   ]
  },
  {
   "cell_type": "code",
   "execution_count": 6,
   "metadata": {},
   "outputs": [
    {
     "data": {
      "text/html": [
       "<div>\n",
       "<style scoped>\n",
       "    .dataframe tbody tr th:only-of-type {\n",
       "        vertical-align: middle;\n",
       "    }\n",
       "\n",
       "    .dataframe tbody tr th {\n",
       "        vertical-align: top;\n",
       "    }\n",
       "\n",
       "    .dataframe thead th {\n",
       "        text-align: right;\n",
       "    }\n",
       "</style>\n",
       "<table border=\"1\" class=\"dataframe\">\n",
       "  <thead>\n",
       "    <tr style=\"text-align: right;\">\n",
       "      <th></th>\n",
       "      <th>user_id</th>\n",
       "    </tr>\n",
       "  </thead>\n",
       "  <tbody>\n",
       "    <tr>\n",
       "      <th>count</th>\n",
       "      <td>123036.000000</td>\n",
       "    </tr>\n",
       "    <tr>\n",
       "      <th>mean</th>\n",
       "      <td>1256.989410</td>\n",
       "    </tr>\n",
       "    <tr>\n",
       "      <th>std</th>\n",
       "      <td>143.523967</td>\n",
       "    </tr>\n",
       "    <tr>\n",
       "      <th>min</th>\n",
       "      <td>1000.000000</td>\n",
       "    </tr>\n",
       "    <tr>\n",
       "      <th>25%</th>\n",
       "      <td>1134.000000</td>\n",
       "    </tr>\n",
       "    <tr>\n",
       "      <th>50%</th>\n",
       "      <td>1271.000000</td>\n",
       "    </tr>\n",
       "    <tr>\n",
       "      <th>75%</th>\n",
       "      <td>1381.000000</td>\n",
       "    </tr>\n",
       "    <tr>\n",
       "      <th>max</th>\n",
       "      <td>1499.000000</td>\n",
       "    </tr>\n",
       "  </tbody>\n",
       "</table>\n",
       "</div>"
      ],
      "text/plain": [
       "             user_id\n",
       "count  123036.000000\n",
       "mean     1256.989410\n",
       "std       143.523967\n",
       "min      1000.000000\n",
       "25%      1134.000000\n",
       "50%      1271.000000\n",
       "75%      1381.000000\n",
       "max      1499.000000"
      ]
     },
     "execution_count": 6,
     "metadata": {},
     "output_type": "execute_result"
    }
   ],
   "source": [
    "messages.describe()"
   ]
  },
  {
   "cell_type": "code",
   "execution_count": 7,
   "metadata": {},
   "outputs": [
    {
     "data": {
      "text/html": [
       "<div>\n",
       "<style scoped>\n",
       "    .dataframe tbody tr th:only-of-type {\n",
       "        vertical-align: middle;\n",
       "    }\n",
       "\n",
       "    .dataframe tbody tr th {\n",
       "        vertical-align: top;\n",
       "    }\n",
       "\n",
       "    .dataframe thead th {\n",
       "        text-align: right;\n",
       "    }\n",
       "</style>\n",
       "<table border=\"1\" class=\"dataframe\">\n",
       "  <thead>\n",
       "    <tr style=\"text-align: right;\">\n",
       "      <th></th>\n",
       "      <th>messages_included</th>\n",
       "      <th>mb_per_month_included</th>\n",
       "      <th>minutes_included</th>\n",
       "      <th>rub_monthly_fee</th>\n",
       "      <th>rub_per_gb</th>\n",
       "      <th>rub_per_message</th>\n",
       "      <th>rub_per_minute</th>\n",
       "    </tr>\n",
       "  </thead>\n",
       "  <tbody>\n",
       "    <tr>\n",
       "      <th>count</th>\n",
       "      <td>2.000000</td>\n",
       "      <td>2.000000</td>\n",
       "      <td>2.000000</td>\n",
       "      <td>2.000000</td>\n",
       "      <td>2.000000</td>\n",
       "      <td>2.000000</td>\n",
       "      <td>2.000000</td>\n",
       "    </tr>\n",
       "    <tr>\n",
       "      <th>mean</th>\n",
       "      <td>525.000000</td>\n",
       "      <td>23040.000000</td>\n",
       "      <td>1750.000000</td>\n",
       "      <td>1250.000000</td>\n",
       "      <td>175.000000</td>\n",
       "      <td>2.000000</td>\n",
       "      <td>2.000000</td>\n",
       "    </tr>\n",
       "    <tr>\n",
       "      <th>std</th>\n",
       "      <td>671.751442</td>\n",
       "      <td>10861.160159</td>\n",
       "      <td>1767.766953</td>\n",
       "      <td>989.949494</td>\n",
       "      <td>35.355339</td>\n",
       "      <td>1.414214</td>\n",
       "      <td>1.414214</td>\n",
       "    </tr>\n",
       "    <tr>\n",
       "      <th>min</th>\n",
       "      <td>50.000000</td>\n",
       "      <td>15360.000000</td>\n",
       "      <td>500.000000</td>\n",
       "      <td>550.000000</td>\n",
       "      <td>150.000000</td>\n",
       "      <td>1.000000</td>\n",
       "      <td>1.000000</td>\n",
       "    </tr>\n",
       "    <tr>\n",
       "      <th>25%</th>\n",
       "      <td>287.500000</td>\n",
       "      <td>19200.000000</td>\n",
       "      <td>1125.000000</td>\n",
       "      <td>900.000000</td>\n",
       "      <td>162.500000</td>\n",
       "      <td>1.500000</td>\n",
       "      <td>1.500000</td>\n",
       "    </tr>\n",
       "    <tr>\n",
       "      <th>50%</th>\n",
       "      <td>525.000000</td>\n",
       "      <td>23040.000000</td>\n",
       "      <td>1750.000000</td>\n",
       "      <td>1250.000000</td>\n",
       "      <td>175.000000</td>\n",
       "      <td>2.000000</td>\n",
       "      <td>2.000000</td>\n",
       "    </tr>\n",
       "    <tr>\n",
       "      <th>75%</th>\n",
       "      <td>762.500000</td>\n",
       "      <td>26880.000000</td>\n",
       "      <td>2375.000000</td>\n",
       "      <td>1600.000000</td>\n",
       "      <td>187.500000</td>\n",
       "      <td>2.500000</td>\n",
       "      <td>2.500000</td>\n",
       "    </tr>\n",
       "    <tr>\n",
       "      <th>max</th>\n",
       "      <td>1000.000000</td>\n",
       "      <td>30720.000000</td>\n",
       "      <td>3000.000000</td>\n",
       "      <td>1950.000000</td>\n",
       "      <td>200.000000</td>\n",
       "      <td>3.000000</td>\n",
       "      <td>3.000000</td>\n",
       "    </tr>\n",
       "  </tbody>\n",
       "</table>\n",
       "</div>"
      ],
      "text/plain": [
       "       messages_included  mb_per_month_included  minutes_included  \\\n",
       "count           2.000000               2.000000          2.000000   \n",
       "mean          525.000000           23040.000000       1750.000000   \n",
       "std           671.751442           10861.160159       1767.766953   \n",
       "min            50.000000           15360.000000        500.000000   \n",
       "25%           287.500000           19200.000000       1125.000000   \n",
       "50%           525.000000           23040.000000       1750.000000   \n",
       "75%           762.500000           26880.000000       2375.000000   \n",
       "max          1000.000000           30720.000000       3000.000000   \n",
       "\n",
       "       rub_monthly_fee  rub_per_gb  rub_per_message  rub_per_minute  \n",
       "count         2.000000    2.000000         2.000000        2.000000  \n",
       "mean       1250.000000  175.000000         2.000000        2.000000  \n",
       "std         989.949494   35.355339         1.414214        1.414214  \n",
       "min         550.000000  150.000000         1.000000        1.000000  \n",
       "25%         900.000000  162.500000         1.500000        1.500000  \n",
       "50%        1250.000000  175.000000         2.000000        2.000000  \n",
       "75%        1600.000000  187.500000         2.500000        2.500000  \n",
       "max        1950.000000  200.000000         3.000000        3.000000  "
      ]
     },
     "execution_count": 7,
     "metadata": {},
     "output_type": "execute_result"
    }
   ],
   "source": [
    "tariffs.describe()"
   ]
  },
  {
   "cell_type": "code",
   "execution_count": 8,
   "metadata": {},
   "outputs": [
    {
     "data": {
      "text/html": [
       "<div>\n",
       "<style scoped>\n",
       "    .dataframe tbody tr th:only-of-type {\n",
       "        vertical-align: middle;\n",
       "    }\n",
       "\n",
       "    .dataframe tbody tr th {\n",
       "        vertical-align: top;\n",
       "    }\n",
       "\n",
       "    .dataframe thead th {\n",
       "        text-align: right;\n",
       "    }\n",
       "</style>\n",
       "<table border=\"1\" class=\"dataframe\">\n",
       "  <thead>\n",
       "    <tr style=\"text-align: right;\">\n",
       "      <th></th>\n",
       "      <th>user_id</th>\n",
       "      <th>age</th>\n",
       "    </tr>\n",
       "  </thead>\n",
       "  <tbody>\n",
       "    <tr>\n",
       "      <th>count</th>\n",
       "      <td>500.000000</td>\n",
       "      <td>500.00000</td>\n",
       "    </tr>\n",
       "    <tr>\n",
       "      <th>mean</th>\n",
       "      <td>1249.500000</td>\n",
       "      <td>46.58800</td>\n",
       "    </tr>\n",
       "    <tr>\n",
       "      <th>std</th>\n",
       "      <td>144.481833</td>\n",
       "      <td>16.66763</td>\n",
       "    </tr>\n",
       "    <tr>\n",
       "      <th>min</th>\n",
       "      <td>1000.000000</td>\n",
       "      <td>18.00000</td>\n",
       "    </tr>\n",
       "    <tr>\n",
       "      <th>25%</th>\n",
       "      <td>1124.750000</td>\n",
       "      <td>32.00000</td>\n",
       "    </tr>\n",
       "    <tr>\n",
       "      <th>50%</th>\n",
       "      <td>1249.500000</td>\n",
       "      <td>46.00000</td>\n",
       "    </tr>\n",
       "    <tr>\n",
       "      <th>75%</th>\n",
       "      <td>1374.250000</td>\n",
       "      <td>62.00000</td>\n",
       "    </tr>\n",
       "    <tr>\n",
       "      <th>max</th>\n",
       "      <td>1499.000000</td>\n",
       "      <td>75.00000</td>\n",
       "    </tr>\n",
       "  </tbody>\n",
       "</table>\n",
       "</div>"
      ],
      "text/plain": [
       "           user_id        age\n",
       "count   500.000000  500.00000\n",
       "mean   1249.500000   46.58800\n",
       "std     144.481833   16.66763\n",
       "min    1000.000000   18.00000\n",
       "25%    1124.750000   32.00000\n",
       "50%    1249.500000   46.00000\n",
       "75%    1374.250000   62.00000\n",
       "max    1499.000000   75.00000"
      ]
     },
     "execution_count": 8,
     "metadata": {},
     "output_type": "execute_result"
    }
   ],
   "source": [
    "users.describe()"
   ]
  },
  {
   "cell_type": "markdown",
   "metadata": {},
   "source": [
    "#### Наблюдения по методу describe() \n",
    "**calls**\n",
    "- аномалий не выявлено\n",
    "\n",
    "**internet**\n",
    "- аномалий не выявлено\n",
    "\n",
    "**messages**\n",
    "- аномалий не выявлено\n",
    "\n",
    "**tariffs**\n",
    "- аномалий не выявлено\n",
    "\n",
    "**users**\n",
    "- аномалий не выявлено"
   ]
  },
  {
   "cell_type": "markdown",
   "metadata": {},
   "source": [
    "### Метод head()"
   ]
  },
  {
   "cell_type": "code",
   "execution_count": 9,
   "metadata": {
    "scrolled": true
   },
   "outputs": [
    {
     "data": {
      "text/html": [
       "<div>\n",
       "<style scoped>\n",
       "    .dataframe tbody tr th:only-of-type {\n",
       "        vertical-align: middle;\n",
       "    }\n",
       "\n",
       "    .dataframe tbody tr th {\n",
       "        vertical-align: top;\n",
       "    }\n",
       "\n",
       "    .dataframe thead th {\n",
       "        text-align: right;\n",
       "    }\n",
       "</style>\n",
       "<table border=\"1\" class=\"dataframe\">\n",
       "  <thead>\n",
       "    <tr style=\"text-align: right;\">\n",
       "      <th></th>\n",
       "      <th>id</th>\n",
       "      <th>call_date</th>\n",
       "      <th>duration</th>\n",
       "      <th>user_id</th>\n",
       "    </tr>\n",
       "  </thead>\n",
       "  <tbody>\n",
       "    <tr>\n",
       "      <th>0</th>\n",
       "      <td>1000_0</td>\n",
       "      <td>2018-07-25</td>\n",
       "      <td>0.00</td>\n",
       "      <td>1000</td>\n",
       "    </tr>\n",
       "    <tr>\n",
       "      <th>1</th>\n",
       "      <td>1000_1</td>\n",
       "      <td>2018-08-17</td>\n",
       "      <td>0.00</td>\n",
       "      <td>1000</td>\n",
       "    </tr>\n",
       "    <tr>\n",
       "      <th>2</th>\n",
       "      <td>1000_2</td>\n",
       "      <td>2018-06-11</td>\n",
       "      <td>2.85</td>\n",
       "      <td>1000</td>\n",
       "    </tr>\n",
       "    <tr>\n",
       "      <th>3</th>\n",
       "      <td>1000_3</td>\n",
       "      <td>2018-09-21</td>\n",
       "      <td>13.80</td>\n",
       "      <td>1000</td>\n",
       "    </tr>\n",
       "    <tr>\n",
       "      <th>4</th>\n",
       "      <td>1000_4</td>\n",
       "      <td>2018-12-15</td>\n",
       "      <td>5.18</td>\n",
       "      <td>1000</td>\n",
       "    </tr>\n",
       "    <tr>\n",
       "      <th>5</th>\n",
       "      <td>1000_5</td>\n",
       "      <td>2018-11-02</td>\n",
       "      <td>0.00</td>\n",
       "      <td>1000</td>\n",
       "    </tr>\n",
       "    <tr>\n",
       "      <th>6</th>\n",
       "      <td>1000_6</td>\n",
       "      <td>2018-10-18</td>\n",
       "      <td>0.00</td>\n",
       "      <td>1000</td>\n",
       "    </tr>\n",
       "    <tr>\n",
       "      <th>7</th>\n",
       "      <td>1000_7</td>\n",
       "      <td>2018-08-22</td>\n",
       "      <td>18.31</td>\n",
       "      <td>1000</td>\n",
       "    </tr>\n",
       "    <tr>\n",
       "      <th>8</th>\n",
       "      <td>1000_8</td>\n",
       "      <td>2018-09-15</td>\n",
       "      <td>18.44</td>\n",
       "      <td>1000</td>\n",
       "    </tr>\n",
       "    <tr>\n",
       "      <th>9</th>\n",
       "      <td>1000_9</td>\n",
       "      <td>2018-08-15</td>\n",
       "      <td>0.00</td>\n",
       "      <td>1000</td>\n",
       "    </tr>\n",
       "  </tbody>\n",
       "</table>\n",
       "</div>"
      ],
      "text/plain": [
       "       id   call_date  duration  user_id\n",
       "0  1000_0  2018-07-25      0.00     1000\n",
       "1  1000_1  2018-08-17      0.00     1000\n",
       "2  1000_2  2018-06-11      2.85     1000\n",
       "3  1000_3  2018-09-21     13.80     1000\n",
       "4  1000_4  2018-12-15      5.18     1000\n",
       "5  1000_5  2018-11-02      0.00     1000\n",
       "6  1000_6  2018-10-18      0.00     1000\n",
       "7  1000_7  2018-08-22     18.31     1000\n",
       "8  1000_8  2018-09-15     18.44     1000\n",
       "9  1000_9  2018-08-15      0.00     1000"
      ]
     },
     "execution_count": 9,
     "metadata": {},
     "output_type": "execute_result"
    }
   ],
   "source": [
    "calls.head(10)\n",
    "#calls.tail(10)"
   ]
  },
  {
   "cell_type": "code",
   "execution_count": 10,
   "metadata": {},
   "outputs": [
    {
     "data": {
      "text/html": [
       "<div>\n",
       "<style scoped>\n",
       "    .dataframe tbody tr th:only-of-type {\n",
       "        vertical-align: middle;\n",
       "    }\n",
       "\n",
       "    .dataframe tbody tr th {\n",
       "        vertical-align: top;\n",
       "    }\n",
       "\n",
       "    .dataframe thead th {\n",
       "        text-align: right;\n",
       "    }\n",
       "</style>\n",
       "<table border=\"1\" class=\"dataframe\">\n",
       "  <thead>\n",
       "    <tr style=\"text-align: right;\">\n",
       "      <th></th>\n",
       "      <th>Unnamed: 0</th>\n",
       "      <th>id</th>\n",
       "      <th>mb_used</th>\n",
       "      <th>session_date</th>\n",
       "      <th>user_id</th>\n",
       "    </tr>\n",
       "  </thead>\n",
       "  <tbody>\n",
       "    <tr>\n",
       "      <th>0</th>\n",
       "      <td>0</td>\n",
       "      <td>1000_0</td>\n",
       "      <td>112.95</td>\n",
       "      <td>2018-11-25</td>\n",
       "      <td>1000</td>\n",
       "    </tr>\n",
       "    <tr>\n",
       "      <th>1</th>\n",
       "      <td>1</td>\n",
       "      <td>1000_1</td>\n",
       "      <td>1052.81</td>\n",
       "      <td>2018-09-07</td>\n",
       "      <td>1000</td>\n",
       "    </tr>\n",
       "    <tr>\n",
       "      <th>2</th>\n",
       "      <td>2</td>\n",
       "      <td>1000_2</td>\n",
       "      <td>1197.26</td>\n",
       "      <td>2018-06-25</td>\n",
       "      <td>1000</td>\n",
       "    </tr>\n",
       "    <tr>\n",
       "      <th>3</th>\n",
       "      <td>3</td>\n",
       "      <td>1000_3</td>\n",
       "      <td>550.27</td>\n",
       "      <td>2018-08-22</td>\n",
       "      <td>1000</td>\n",
       "    </tr>\n",
       "    <tr>\n",
       "      <th>4</th>\n",
       "      <td>4</td>\n",
       "      <td>1000_4</td>\n",
       "      <td>302.56</td>\n",
       "      <td>2018-09-24</td>\n",
       "      <td>1000</td>\n",
       "    </tr>\n",
       "    <tr>\n",
       "      <th>5</th>\n",
       "      <td>5</td>\n",
       "      <td>1000_5</td>\n",
       "      <td>399.97</td>\n",
       "      <td>2018-10-02</td>\n",
       "      <td>1000</td>\n",
       "    </tr>\n",
       "    <tr>\n",
       "      <th>6</th>\n",
       "      <td>6</td>\n",
       "      <td>1000_6</td>\n",
       "      <td>540.08</td>\n",
       "      <td>2018-09-07</td>\n",
       "      <td>1000</td>\n",
       "    </tr>\n",
       "    <tr>\n",
       "      <th>7</th>\n",
       "      <td>7</td>\n",
       "      <td>1000_7</td>\n",
       "      <td>415.70</td>\n",
       "      <td>2018-07-11</td>\n",
       "      <td>1000</td>\n",
       "    </tr>\n",
       "    <tr>\n",
       "      <th>8</th>\n",
       "      <td>8</td>\n",
       "      <td>1000_8</td>\n",
       "      <td>505.40</td>\n",
       "      <td>2018-10-08</td>\n",
       "      <td>1000</td>\n",
       "    </tr>\n",
       "    <tr>\n",
       "      <th>9</th>\n",
       "      <td>9</td>\n",
       "      <td>1000_9</td>\n",
       "      <td>345.54</td>\n",
       "      <td>2018-09-03</td>\n",
       "      <td>1000</td>\n",
       "    </tr>\n",
       "  </tbody>\n",
       "</table>\n",
       "</div>"
      ],
      "text/plain": [
       "   Unnamed: 0      id  mb_used session_date  user_id\n",
       "0           0  1000_0   112.95   2018-11-25     1000\n",
       "1           1  1000_1  1052.81   2018-09-07     1000\n",
       "2           2  1000_2  1197.26   2018-06-25     1000\n",
       "3           3  1000_3   550.27   2018-08-22     1000\n",
       "4           4  1000_4   302.56   2018-09-24     1000\n",
       "5           5  1000_5   399.97   2018-10-02     1000\n",
       "6           6  1000_6   540.08   2018-09-07     1000\n",
       "7           7  1000_7   415.70   2018-07-11     1000\n",
       "8           8  1000_8   505.40   2018-10-08     1000\n",
       "9           9  1000_9   345.54   2018-09-03     1000"
      ]
     },
     "execution_count": 10,
     "metadata": {},
     "output_type": "execute_result"
    }
   ],
   "source": [
    "internet.head(10)\n",
    "#internet.tail(10)"
   ]
  },
  {
   "cell_type": "code",
   "execution_count": 11,
   "metadata": {
    "scrolled": true
   },
   "outputs": [
    {
     "data": {
      "text/html": [
       "<div>\n",
       "<style scoped>\n",
       "    .dataframe tbody tr th:only-of-type {\n",
       "        vertical-align: middle;\n",
       "    }\n",
       "\n",
       "    .dataframe tbody tr th {\n",
       "        vertical-align: top;\n",
       "    }\n",
       "\n",
       "    .dataframe thead th {\n",
       "        text-align: right;\n",
       "    }\n",
       "</style>\n",
       "<table border=\"1\" class=\"dataframe\">\n",
       "  <thead>\n",
       "    <tr style=\"text-align: right;\">\n",
       "      <th></th>\n",
       "      <th>id</th>\n",
       "      <th>message_date</th>\n",
       "      <th>user_id</th>\n",
       "    </tr>\n",
       "  </thead>\n",
       "  <tbody>\n",
       "    <tr>\n",
       "      <th>0</th>\n",
       "      <td>1000_0</td>\n",
       "      <td>2018-06-27</td>\n",
       "      <td>1000</td>\n",
       "    </tr>\n",
       "    <tr>\n",
       "      <th>1</th>\n",
       "      <td>1000_1</td>\n",
       "      <td>2018-10-08</td>\n",
       "      <td>1000</td>\n",
       "    </tr>\n",
       "    <tr>\n",
       "      <th>2</th>\n",
       "      <td>1000_2</td>\n",
       "      <td>2018-08-04</td>\n",
       "      <td>1000</td>\n",
       "    </tr>\n",
       "    <tr>\n",
       "      <th>3</th>\n",
       "      <td>1000_3</td>\n",
       "      <td>2018-06-16</td>\n",
       "      <td>1000</td>\n",
       "    </tr>\n",
       "    <tr>\n",
       "      <th>4</th>\n",
       "      <td>1000_4</td>\n",
       "      <td>2018-12-05</td>\n",
       "      <td>1000</td>\n",
       "    </tr>\n",
       "    <tr>\n",
       "      <th>5</th>\n",
       "      <td>1000_5</td>\n",
       "      <td>2018-06-20</td>\n",
       "      <td>1000</td>\n",
       "    </tr>\n",
       "    <tr>\n",
       "      <th>6</th>\n",
       "      <td>1000_6</td>\n",
       "      <td>2018-11-19</td>\n",
       "      <td>1000</td>\n",
       "    </tr>\n",
       "    <tr>\n",
       "      <th>7</th>\n",
       "      <td>1000_7</td>\n",
       "      <td>2018-10-29</td>\n",
       "      <td>1000</td>\n",
       "    </tr>\n",
       "    <tr>\n",
       "      <th>8</th>\n",
       "      <td>1000_8</td>\n",
       "      <td>2018-06-25</td>\n",
       "      <td>1000</td>\n",
       "    </tr>\n",
       "    <tr>\n",
       "      <th>9</th>\n",
       "      <td>1000_9</td>\n",
       "      <td>2018-12-18</td>\n",
       "      <td>1000</td>\n",
       "    </tr>\n",
       "  </tbody>\n",
       "</table>\n",
       "</div>"
      ],
      "text/plain": [
       "       id message_date  user_id\n",
       "0  1000_0   2018-06-27     1000\n",
       "1  1000_1   2018-10-08     1000\n",
       "2  1000_2   2018-08-04     1000\n",
       "3  1000_3   2018-06-16     1000\n",
       "4  1000_4   2018-12-05     1000\n",
       "5  1000_5   2018-06-20     1000\n",
       "6  1000_6   2018-11-19     1000\n",
       "7  1000_7   2018-10-29     1000\n",
       "8  1000_8   2018-06-25     1000\n",
       "9  1000_9   2018-12-18     1000"
      ]
     },
     "execution_count": 11,
     "metadata": {},
     "output_type": "execute_result"
    }
   ],
   "source": [
    "messages.head(10)\n",
    "#messages.tail(10)"
   ]
  },
  {
   "cell_type": "code",
   "execution_count": 12,
   "metadata": {},
   "outputs": [
    {
     "data": {
      "text/html": [
       "<div>\n",
       "<style scoped>\n",
       "    .dataframe tbody tr th:only-of-type {\n",
       "        vertical-align: middle;\n",
       "    }\n",
       "\n",
       "    .dataframe tbody tr th {\n",
       "        vertical-align: top;\n",
       "    }\n",
       "\n",
       "    .dataframe thead th {\n",
       "        text-align: right;\n",
       "    }\n",
       "</style>\n",
       "<table border=\"1\" class=\"dataframe\">\n",
       "  <thead>\n",
       "    <tr style=\"text-align: right;\">\n",
       "      <th></th>\n",
       "      <th>messages_included</th>\n",
       "      <th>mb_per_month_included</th>\n",
       "      <th>minutes_included</th>\n",
       "      <th>rub_monthly_fee</th>\n",
       "      <th>rub_per_gb</th>\n",
       "      <th>rub_per_message</th>\n",
       "      <th>rub_per_minute</th>\n",
       "      <th>tariff_name</th>\n",
       "    </tr>\n",
       "  </thead>\n",
       "  <tbody>\n",
       "    <tr>\n",
       "      <th>0</th>\n",
       "      <td>50</td>\n",
       "      <td>15360</td>\n",
       "      <td>500</td>\n",
       "      <td>550</td>\n",
       "      <td>200</td>\n",
       "      <td>3</td>\n",
       "      <td>3</td>\n",
       "      <td>smart</td>\n",
       "    </tr>\n",
       "    <tr>\n",
       "      <th>1</th>\n",
       "      <td>1000</td>\n",
       "      <td>30720</td>\n",
       "      <td>3000</td>\n",
       "      <td>1950</td>\n",
       "      <td>150</td>\n",
       "      <td>1</td>\n",
       "      <td>1</td>\n",
       "      <td>ultra</td>\n",
       "    </tr>\n",
       "  </tbody>\n",
       "</table>\n",
       "</div>"
      ],
      "text/plain": [
       "   messages_included  mb_per_month_included  minutes_included  \\\n",
       "0                 50                  15360               500   \n",
       "1               1000                  30720              3000   \n",
       "\n",
       "   rub_monthly_fee  rub_per_gb  rub_per_message  rub_per_minute tariff_name  \n",
       "0              550         200                3               3       smart  \n",
       "1             1950         150                1               1       ultra  "
      ]
     },
     "execution_count": 12,
     "metadata": {},
     "output_type": "execute_result"
    }
   ],
   "source": [
    "tariffs.head(10)\n",
    "#tariffs.tail(10)"
   ]
  },
  {
   "cell_type": "code",
   "execution_count": 13,
   "metadata": {},
   "outputs": [
    {
     "data": {
      "text/html": [
       "<div>\n",
       "<style scoped>\n",
       "    .dataframe tbody tr th:only-of-type {\n",
       "        vertical-align: middle;\n",
       "    }\n",
       "\n",
       "    .dataframe tbody tr th {\n",
       "        vertical-align: top;\n",
       "    }\n",
       "\n",
       "    .dataframe thead th {\n",
       "        text-align: right;\n",
       "    }\n",
       "</style>\n",
       "<table border=\"1\" class=\"dataframe\">\n",
       "  <thead>\n",
       "    <tr style=\"text-align: right;\">\n",
       "      <th></th>\n",
       "      <th>user_id</th>\n",
       "      <th>age</th>\n",
       "      <th>churn_date</th>\n",
       "      <th>city</th>\n",
       "      <th>first_name</th>\n",
       "      <th>last_name</th>\n",
       "      <th>reg_date</th>\n",
       "      <th>tariff</th>\n",
       "    </tr>\n",
       "  </thead>\n",
       "  <tbody>\n",
       "    <tr>\n",
       "      <th>0</th>\n",
       "      <td>1000</td>\n",
       "      <td>52</td>\n",
       "      <td>NaN</td>\n",
       "      <td>Краснодар</td>\n",
       "      <td>Рафаил</td>\n",
       "      <td>Верещагин</td>\n",
       "      <td>2018-05-25</td>\n",
       "      <td>ultra</td>\n",
       "    </tr>\n",
       "    <tr>\n",
       "      <th>1</th>\n",
       "      <td>1001</td>\n",
       "      <td>41</td>\n",
       "      <td>NaN</td>\n",
       "      <td>Москва</td>\n",
       "      <td>Иван</td>\n",
       "      <td>Ежов</td>\n",
       "      <td>2018-11-01</td>\n",
       "      <td>smart</td>\n",
       "    </tr>\n",
       "    <tr>\n",
       "      <th>2</th>\n",
       "      <td>1002</td>\n",
       "      <td>59</td>\n",
       "      <td>NaN</td>\n",
       "      <td>Стерлитамак</td>\n",
       "      <td>Евгений</td>\n",
       "      <td>Абрамович</td>\n",
       "      <td>2018-06-17</td>\n",
       "      <td>smart</td>\n",
       "    </tr>\n",
       "    <tr>\n",
       "      <th>3</th>\n",
       "      <td>1003</td>\n",
       "      <td>23</td>\n",
       "      <td>NaN</td>\n",
       "      <td>Москва</td>\n",
       "      <td>Белла</td>\n",
       "      <td>Белякова</td>\n",
       "      <td>2018-08-17</td>\n",
       "      <td>ultra</td>\n",
       "    </tr>\n",
       "    <tr>\n",
       "      <th>4</th>\n",
       "      <td>1004</td>\n",
       "      <td>68</td>\n",
       "      <td>NaN</td>\n",
       "      <td>Новокузнецк</td>\n",
       "      <td>Татьяна</td>\n",
       "      <td>Авдеенко</td>\n",
       "      <td>2018-05-14</td>\n",
       "      <td>ultra</td>\n",
       "    </tr>\n",
       "    <tr>\n",
       "      <th>5</th>\n",
       "      <td>1005</td>\n",
       "      <td>67</td>\n",
       "      <td>NaN</td>\n",
       "      <td>Набережные Челны</td>\n",
       "      <td>Афанасий</td>\n",
       "      <td>Горлов</td>\n",
       "      <td>2018-01-25</td>\n",
       "      <td>smart</td>\n",
       "    </tr>\n",
       "    <tr>\n",
       "      <th>6</th>\n",
       "      <td>1006</td>\n",
       "      <td>21</td>\n",
       "      <td>NaN</td>\n",
       "      <td>Ульяновск</td>\n",
       "      <td>Леонид</td>\n",
       "      <td>Ермолаев</td>\n",
       "      <td>2018-02-26</td>\n",
       "      <td>smart</td>\n",
       "    </tr>\n",
       "    <tr>\n",
       "      <th>7</th>\n",
       "      <td>1007</td>\n",
       "      <td>65</td>\n",
       "      <td>NaN</td>\n",
       "      <td>Москва</td>\n",
       "      <td>Юна</td>\n",
       "      <td>Березина</td>\n",
       "      <td>2018-04-19</td>\n",
       "      <td>smart</td>\n",
       "    </tr>\n",
       "    <tr>\n",
       "      <th>8</th>\n",
       "      <td>1008</td>\n",
       "      <td>63</td>\n",
       "      <td>NaN</td>\n",
       "      <td>Челябинск</td>\n",
       "      <td>Рустэм</td>\n",
       "      <td>Пономарёв</td>\n",
       "      <td>2018-12-19</td>\n",
       "      <td>smart</td>\n",
       "    </tr>\n",
       "    <tr>\n",
       "      <th>9</th>\n",
       "      <td>1009</td>\n",
       "      <td>24</td>\n",
       "      <td>NaN</td>\n",
       "      <td>Пермь</td>\n",
       "      <td>Василиса</td>\n",
       "      <td>Блинова</td>\n",
       "      <td>2018-03-22</td>\n",
       "      <td>smart</td>\n",
       "    </tr>\n",
       "  </tbody>\n",
       "</table>\n",
       "</div>"
      ],
      "text/plain": [
       "   user_id  age churn_date              city first_name  last_name  \\\n",
       "0     1000   52        NaN         Краснодар     Рафаил  Верещагин   \n",
       "1     1001   41        NaN            Москва       Иван       Ежов   \n",
       "2     1002   59        NaN       Стерлитамак    Евгений  Абрамович   \n",
       "3     1003   23        NaN            Москва      Белла   Белякова   \n",
       "4     1004   68        NaN       Новокузнецк    Татьяна   Авдеенко   \n",
       "5     1005   67        NaN  Набережные Челны   Афанасий     Горлов   \n",
       "6     1006   21        NaN         Ульяновск     Леонид   Ермолаев   \n",
       "7     1007   65        NaN            Москва        Юна   Березина   \n",
       "8     1008   63        NaN         Челябинск     Рустэм  Пономарёв   \n",
       "9     1009   24        NaN             Пермь   Василиса    Блинова   \n",
       "\n",
       "     reg_date tariff  \n",
       "0  2018-05-25  ultra  \n",
       "1  2018-11-01  smart  \n",
       "2  2018-06-17  smart  \n",
       "3  2018-08-17  ultra  \n",
       "4  2018-05-14  ultra  \n",
       "5  2018-01-25  smart  \n",
       "6  2018-02-26  smart  \n",
       "7  2018-04-19  smart  \n",
       "8  2018-12-19  smart  \n",
       "9  2018-03-22  smart  "
      ]
     },
     "execution_count": 13,
     "metadata": {},
     "output_type": "execute_result"
    }
   ],
   "source": [
    "users.head(10)\n",
    "#users.tail(10)"
   ]
  },
  {
   "cell_type": "markdown",
   "metadata": {},
   "source": [
    "#### Наблюдения по методу head()\n",
    "**calls**\n",
    "- явных пропусков в столбцах нет \n",
    "\n",
    "**internet**\n",
    "- явных пропусков в столбцах нет \n",
    "\n",
    "**messages**\n",
    "- явных пропусков в столбцах нет  \n",
    "\n",
    "**tariffs**\n",
    "- только 2 ненулевые записи \n",
    "\n",
    "**users**\n",
    "- явных пропусков в столбцах нет "
   ]
  },
  {
   "cell_type": "markdown",
   "metadata": {},
   "source": [
    "### Проверим на количество явных дубликатов"
   ]
  },
  {
   "cell_type": "code",
   "execution_count": 14,
   "metadata": {},
   "outputs": [
    {
     "name": "stdout",
     "output_type": "stream",
     "text": [
      "Количество дубликатов в таблице calls: 0\n",
      "Количество дубликатов в таблице internet: 0\n",
      "Количество дубликатов в таблице messages: 0\n",
      "Количество дубликатов в таблице tariffs: 0\n",
      "Количество дубликатов в таблице users: 0\n"
     ]
    }
   ],
   "source": [
    "print(\"Количество дубликатов в таблице calls:\", calls.duplicated().sum())\n",
    "print(\"Количество дубликатов в таблице internet:\", internet.duplicated().sum())\n",
    "print(\"Количество дубликатов в таблице messages:\", messages.duplicated().sum())\n",
    "print(\"Количество дубликатов в таблице tariffs:\", tariffs.duplicated().sum())\n",
    "print(\"Количество дубликатов в таблице users:\", users.duplicated().sum())"
   ]
  },
  {
   "cell_type": "markdown",
   "metadata": {},
   "source": [
    "#### Наблюдения по методу duplicated()\n",
    "- Явных дубликатов нет"
   ]
  },
  {
   "cell_type": "markdown",
   "metadata": {},
   "source": [
    "<font color='DarkBlue'><b>Комментарий ревьюера</b></font><br>\n",
    "<font color='DarkMagenta'>👉 Было бы правильно проверить на дубликаты, если мы это сделали и потом удалили код, то это не правильно.</font>"
   ]
  },
  {
   "cell_type": "markdown",
   "metadata": {},
   "source": [
    "<font color='Blue'><b>Комментарий студента</b></font><br>\n",
    "<font color='Blue'>Добавил проверку на дубликаты</font>"
   ]
  },
  {
   "cell_type": "markdown",
   "metadata": {},
   "source": [
    "<font color='DarkBlue'><b>Комментарий ревьюера 2</b></font><br>\n",
    "<font color='DarkGreen'>👌 Хорошо, теперь правильно. 👍</font>"
   ]
  },
  {
   "cell_type": "markdown",
   "metadata": {},
   "source": [
    "### Графическое изучение данных"
   ]
  },
  {
   "cell_type": "markdown",
   "metadata": {},
   "source": [
    "#### Гистограмма распределения длительности звонков по таблице calls "
   ]
  },
  {
   "cell_type": "markdown",
   "metadata": {},
   "source": [
    "- Посмотрим на график распределения длительности звонков из таблицы calls, попробуем обнаржуить какие - либо аномалии. Также посмотрим на срез звонок в между 0 и половиной минуты"
   ]
  },
  {
   "cell_type": "code",
   "execution_count": 15,
   "metadata": {
    "scrolled": true
   },
   "outputs": [
    {
     "data": {
      "text/plain": [
       "<AxesSubplot:>"
      ]
     },
     "execution_count": 15,
     "metadata": {},
     "output_type": "execute_result"
    },
    {
     "data": {
      "image/png": "[encoded data removed]",
      "text/plain": [
       "<Figure size 432x288 with 1 Axes>"
      ]
     },
     "metadata": {
      "needs_background": "light"
     },
     "output_type": "display_data"
    }
   ],
   "source": [
    "# График распределения длительности звонков \n",
    "calls['duration'].hist(bins = 50)\n",
    "# Срез значений звонков между нулем и половиной минуты\n",
    "#calls.query('0 < duration < 0.5')"
   ]
  },
  {
   "cell_type": "markdown",
   "metadata": {},
   "source": [
    "#### Наблюдения \n",
    "- Большинство звонков имеют продолжительность до и даже в половину меньше минуты\n",
    "\n",
    "#### Действия \n",
    "\n",
    "Округлим все значения до единицы, так как по условию компании, при расчете стоимости разговора все округляется в большую сторону. \n",
    "\n",
    "Также, для корректности отображаемых данных, стоит избавиться от звонков продолжительностью 0 минут, так как они не несут в себе значимости для предмета исследования и являются несостоявшимися звонками (абонент занят, технические неполадки)"
   ]
  },
  {
   "cell_type": "code",
   "execution_count": 16,
   "metadata": {},
   "outputs": [],
   "source": [
    "# Срез значений звоноков продолжительностью ноль минут \n",
    "#calls.query('duration == 0.0')\n",
    "calls['duration'] = calls['duration'].drop(0)\n",
    "calls = calls.dropna()"
   ]
  },
  {
   "cell_type": "markdown",
   "metadata": {},
   "source": [
    "<font color='DarkBlue'><b>Комментарий ревьюера</b></font><br>\n",
    "<font color='DarkMagenta'>👉 А зачем нули превращать в пропуски, а потом их удалять? Можно одной строкой кода уалить нулевые звонки.</font>\n",
    "\n",
    "<font color='Blue'><b>Комментарий студента</b></font><br>\n",
    "<font color='Blue'>Удалил нули</font>"
   ]
  },
  {
   "cell_type": "markdown",
   "metadata": {},
   "source": [
    "#### Гистограмма распределения использованных мегабайт по таблице internet "
   ]
  },
  {
   "cell_type": "code",
   "execution_count": 17,
   "metadata": {},
   "outputs": [
    {
     "data": {
      "text/plain": [
       "<AxesSubplot:>"
      ]
     },
     "execution_count": 17,
     "metadata": {},
     "output_type": "execute_result"
    },
    {
     "data": {
      "image/png": "[encoded data removed]",
      "text/plain": [
       "<Figure size 432x288 with 1 Axes>"
      ]
     },
     "metadata": {
      "needs_background": "light"
     },
     "output_type": "display_data"
    }
   ],
   "source": [
    "internet['mb_used'].hist(bins = 50)"
   ]
  },
  {
   "cell_type": "markdown",
   "metadata": {},
   "source": [
    "#### Наблюдения \n",
    "- Трафик в пределах 0 - 1 мб преобладает.\n",
    "\n",
    "#### Действия \n",
    "\n",
    "Поступаем по аналогии со звонками."
   ]
  },
  {
   "cell_type": "code",
   "execution_count": 18,
   "metadata": {},
   "outputs": [],
   "source": [
    "internet['mb_used'] = internet['mb_used'].drop(0)\n",
    "internet['gb_used'] = internet['mb_used'] / 1024\n",
    "internet = internet.dropna()"
   ]
  },
  {
   "cell_type": "markdown",
   "metadata": {},
   "source": [
    "<font color='DarkBlue'><b>Комментарий ревьюера</b></font><br>\n",
    "<font color='Red'>🛠 А нам не надо округлять мегабайты до целого по каждой сессии, нам надо суммарный месячный трафик округлять до гигабайтов. А так мы при суммировании добавим лишний трафик.</font>\n",
    "\n",
    "<font color='Blue'><b>Комментарий студента</b></font><br>\n",
    "    <font color='Blue'>Удалил нули одной строчкой, убрал округление. Создал столбец с гигабайтами, округленный. Он будет присоединен в сводной таблице вместо столбца с мб</font>"
   ]
  },
  {
   "attachments": {
    "image.png": {
     "image/png": "[encoded data removed]"
    }
   },
   "cell_type": "markdown",
   "metadata": {},
   "source": [
    "<font color='DarkBlue'><b>Комментарий ревьюера 2</b></font><br>\n",
    "<font color='Red'>🛠 Мы опять ошиблись, я же писал, что мы округляем до Гб суммарный месячный трафик, а не каждую сессию. В итоге мы каждому пользователю добавили лишние гигабайты. Не думаю, что они согласятся платил за него.</font>\n",
    "![image.png](attachment:image.png)"
   ]
  },
  {
   "cell_type": "code",
   "execution_count": 19,
   "metadata": {},
   "outputs": [
    {
     "data": {
      "text/html": [
       "<div>\n",
       "<style scoped>\n",
       "    .dataframe tbody tr th:only-of-type {\n",
       "        vertical-align: middle;\n",
       "    }\n",
       "\n",
       "    .dataframe tbody tr th {\n",
       "        vertical-align: top;\n",
       "    }\n",
       "\n",
       "    .dataframe thead th {\n",
       "        text-align: right;\n",
       "    }\n",
       "</style>\n",
       "<table border=\"1\" class=\"dataframe\">\n",
       "  <thead>\n",
       "    <tr style=\"text-align: right;\">\n",
       "      <th></th>\n",
       "      <th>Unnamed: 0</th>\n",
       "      <th>id</th>\n",
       "      <th>mb_used</th>\n",
       "      <th>session_date</th>\n",
       "      <th>user_id</th>\n",
       "      <th>gb_used</th>\n",
       "    </tr>\n",
       "  </thead>\n",
       "  <tbody>\n",
       "    <tr>\n",
       "      <th>1</th>\n",
       "      <td>1</td>\n",
       "      <td>1000_1</td>\n",
       "      <td>1052.81</td>\n",
       "      <td>2018-09-07</td>\n",
       "      <td>1000</td>\n",
       "      <td>1.028135</td>\n",
       "    </tr>\n",
       "    <tr>\n",
       "      <th>2</th>\n",
       "      <td>2</td>\n",
       "      <td>1000_2</td>\n",
       "      <td>1197.26</td>\n",
       "      <td>2018-06-25</td>\n",
       "      <td>1000</td>\n",
       "      <td>1.169199</td>\n",
       "    </tr>\n",
       "    <tr>\n",
       "      <th>3</th>\n",
       "      <td>3</td>\n",
       "      <td>1000_3</td>\n",
       "      <td>550.27</td>\n",
       "      <td>2018-08-22</td>\n",
       "      <td>1000</td>\n",
       "      <td>0.537373</td>\n",
       "    </tr>\n",
       "    <tr>\n",
       "      <th>4</th>\n",
       "      <td>4</td>\n",
       "      <td>1000_4</td>\n",
       "      <td>302.56</td>\n",
       "      <td>2018-09-24</td>\n",
       "      <td>1000</td>\n",
       "      <td>0.295469</td>\n",
       "    </tr>\n",
       "    <tr>\n",
       "      <th>5</th>\n",
       "      <td>5</td>\n",
       "      <td>1000_5</td>\n",
       "      <td>399.97</td>\n",
       "      <td>2018-10-02</td>\n",
       "      <td>1000</td>\n",
       "      <td>0.390596</td>\n",
       "    </tr>\n",
       "    <tr>\n",
       "      <th>6</th>\n",
       "      <td>6</td>\n",
       "      <td>1000_6</td>\n",
       "      <td>540.08</td>\n",
       "      <td>2018-09-07</td>\n",
       "      <td>1000</td>\n",
       "      <td>0.527422</td>\n",
       "    </tr>\n",
       "    <tr>\n",
       "      <th>7</th>\n",
       "      <td>7</td>\n",
       "      <td>1000_7</td>\n",
       "      <td>415.70</td>\n",
       "      <td>2018-07-11</td>\n",
       "      <td>1000</td>\n",
       "      <td>0.405957</td>\n",
       "    </tr>\n",
       "    <tr>\n",
       "      <th>8</th>\n",
       "      <td>8</td>\n",
       "      <td>1000_8</td>\n",
       "      <td>505.40</td>\n",
       "      <td>2018-10-08</td>\n",
       "      <td>1000</td>\n",
       "      <td>0.493555</td>\n",
       "    </tr>\n",
       "    <tr>\n",
       "      <th>9</th>\n",
       "      <td>9</td>\n",
       "      <td>1000_9</td>\n",
       "      <td>345.54</td>\n",
       "      <td>2018-09-03</td>\n",
       "      <td>1000</td>\n",
       "      <td>0.337441</td>\n",
       "    </tr>\n",
       "    <tr>\n",
       "      <th>10</th>\n",
       "      <td>10</td>\n",
       "      <td>1000_10</td>\n",
       "      <td>385.14</td>\n",
       "      <td>2018-09-27</td>\n",
       "      <td>1000</td>\n",
       "      <td>0.376113</td>\n",
       "    </tr>\n",
       "  </tbody>\n",
       "</table>\n",
       "</div>"
      ],
      "text/plain": [
       "    Unnamed: 0       id  mb_used session_date  user_id   gb_used\n",
       "1            1   1000_1  1052.81   2018-09-07     1000  1.028135\n",
       "2            2   1000_2  1197.26   2018-06-25     1000  1.169199\n",
       "3            3   1000_3   550.27   2018-08-22     1000  0.537373\n",
       "4            4   1000_4   302.56   2018-09-24     1000  0.295469\n",
       "5            5   1000_5   399.97   2018-10-02     1000  0.390596\n",
       "6            6   1000_6   540.08   2018-09-07     1000  0.527422\n",
       "7            7   1000_7   415.70   2018-07-11     1000  0.405957\n",
       "8            8   1000_8   505.40   2018-10-08     1000  0.493555\n",
       "9            9   1000_9   345.54   2018-09-03     1000  0.337441\n",
       "10          10  1000_10   385.14   2018-09-27     1000  0.376113"
      ]
     },
     "execution_count": 19,
     "metadata": {},
     "output_type": "execute_result"
    }
   ],
   "source": [
    "# Комментарий ревьюера 2\n",
    "internet.head(10)"
   ]
  },
  {
   "cell_type": "markdown",
   "metadata": {},
   "source": [
    "### Вывод"
   ]
  },
  {
   "cell_type": "markdown",
   "metadata": {},
   "source": [
    "**calls**\n",
    "- явных пропусков в столбцах нет \n",
    "- call_date из object  в datetime\n",
    "- данные преобразованы\n",
    "\n",
    "**internet**\n",
    "- '0   Unnamed: 0' странный столбец, его нет в документации к данным\n",
    "- явных пропусков в столбцах нет \n",
    "- данные преобразованы\n",
    "\n",
    "**messages**\n",
    "- message_date из object в datetime\n",
    "- явных пропусков в столбцах нет  \n",
    "\n",
    "**tariffs**\n",
    "- явных пропусков в столбцах нет \n",
    "- таблица носит справочный характер\n",
    "\n",
    "**users**\n",
    "- churn_date из object в datetime\n",
    "- reg_date из object в datetime\n",
    "- нужно добавить столбцы с месяцем и годом\n",
    "- явных пропусков в столбцах нет "
   ]
  },
  {
   "cell_type": "markdown",
   "metadata": {},
   "source": [
    "## Предобработка данных "
   ]
  },
  {
   "cell_type": "markdown",
   "metadata": {},
   "source": [
    "### Приведение данных к нужному типу"
   ]
  },
  {
   "cell_type": "markdown",
   "metadata": {},
   "source": [
    "#### Преобразование и выделение даты при помощи функций. "
   ]
  },
  {
   "cell_type": "code",
   "execution_count": 20,
   "metadata": {},
   "outputs": [],
   "source": [
    "#форматирование datetime и создание стобца с месяцем\n",
    "def datetimer(dfs):\n",
    "    for df in dfs:\n",
    "        for column in df.columns:\n",
    "            if 'date' in column and column != 'churn_date':\n",
    "                df[column] = pd.to_datetime(df[column],\n",
    "                                            format='%Y-%m-%d')\n",
    "                df['month'] = df[column].apply(lambda x: x.month)"
   ]
  },
  {
   "cell_type": "code",
   "execution_count": 21,
   "metadata": {},
   "outputs": [],
   "source": [
    "datetimer([users, calls, messages, internet])"
   ]
  },
  {
   "cell_type": "markdown",
   "metadata": {},
   "source": [
    "<font color='DarkBlue'><b>Комментарий ревьюера</b></font><br>\n",
    "<font color='DarkGreen'>👌 Хорошо, перевели даты в нужный формат и добавили колонку с категорией месяца.</font>"
   ]
  },
  {
   "cell_type": "markdown",
   "metadata": {},
   "source": [
    "#### Вывод\n",
    "- Исправили формат даты на datetime \n",
    "- Добавили столбец с номером месяца"
   ]
  },
  {
   "cell_type": "markdown",
   "metadata": {},
   "source": [
    "### Исправление ошибок в данных \n"
   ]
  },
  {
   "cell_type": "markdown",
   "metadata": {},
   "source": [
    "#### Удаление столбца Unnamed 0 из таблицы internet (если нет , index_col=False)"
   ]
  },
  {
   "cell_type": "code",
   "execution_count": 22,
   "metadata": {},
   "outputs": [],
   "source": [
    "del internet['Unnamed: 0']\n",
    "# можно избежать проблемы,если добавить к загрузке данных, index_col=False"
   ]
  },
  {
   "cell_type": "markdown",
   "metadata": {},
   "source": [
    "<font color='DarkBlue'><b>Комментарий ревьюера</b></font><br>\n",
    "<font color='DarkGreen'>👌 Хорошо, что удалили колонку Unnamed: 0, в принципе, от нее можно было избавиться на этапе загрузки датасета вот таким кодом: <br>`pd.read_csv(..., index_col=False)`. 😉</font>\n",
    "\n",
    "<font color='Blue'><b>Комментарий студента</b></font><br>\n",
    "<font color='Blue'> Изменил параметр загрузки данных, спасибо</font>"
   ]
  },
  {
   "cell_type": "markdown",
   "metadata": {},
   "source": [
    "#### Вывод \n",
    "- Столбец-ошибка удален"
   ]
  },
  {
   "cell_type": "markdown",
   "metadata": {},
   "source": [
    "### Количество сделанных звонков и израсходованных минут разговора по месяцам"
   ]
  },
  {
   "cell_type": "markdown",
   "metadata": {},
   "source": [
    "Создадим новые таблицы для расчета количества сделанных звонков, минут разговора, сообщений, интернет трафика по месяцам. \n",
    "\n",
    "Затем создадим новую таблицу. Назовем ее df_values и поместим в нее таблицы с подсчитанными данными"
   ]
  },
  {
   "cell_type": "code",
   "execution_count": 23,
   "metadata": {},
   "outputs": [
    {
     "data": {
      "text/html": [
       "<div>\n",
       "<style scoped>\n",
       "    .dataframe tbody tr th:only-of-type {\n",
       "        vertical-align: middle;\n",
       "    }\n",
       "\n",
       "    .dataframe tbody tr th {\n",
       "        vertical-align: top;\n",
       "    }\n",
       "\n",
       "    .dataframe thead th {\n",
       "        text-align: right;\n",
       "    }\n",
       "</style>\n",
       "<table border=\"1\" class=\"dataframe\">\n",
       "  <thead>\n",
       "    <tr style=\"text-align: right;\">\n",
       "      <th></th>\n",
       "      <th></th>\n",
       "      <th>count</th>\n",
       "      <th>sum</th>\n",
       "    </tr>\n",
       "    <tr>\n",
       "      <th>user_id</th>\n",
       "      <th>month</th>\n",
       "      <th></th>\n",
       "      <th></th>\n",
       "    </tr>\n",
       "  </thead>\n",
       "  <tbody>\n",
       "    <tr>\n",
       "      <th rowspan=\"5\" valign=\"top\">1000</th>\n",
       "      <th>5</th>\n",
       "      <td>22</td>\n",
       "      <td>159.0</td>\n",
       "    </tr>\n",
       "    <tr>\n",
       "      <th>6</th>\n",
       "      <td>43</td>\n",
       "      <td>172.0</td>\n",
       "    </tr>\n",
       "    <tr>\n",
       "      <th>7</th>\n",
       "      <td>46</td>\n",
       "      <td>340.0</td>\n",
       "    </tr>\n",
       "    <tr>\n",
       "      <th>8</th>\n",
       "      <td>52</td>\n",
       "      <td>408.0</td>\n",
       "    </tr>\n",
       "    <tr>\n",
       "      <th>9</th>\n",
       "      <td>58</td>\n",
       "      <td>466.0</td>\n",
       "    </tr>\n",
       "    <tr>\n",
       "      <th>...</th>\n",
       "      <th>...</th>\n",
       "      <td>...</td>\n",
       "      <td>...</td>\n",
       "    </tr>\n",
       "    <tr>\n",
       "      <th>1498</th>\n",
       "      <th>10</th>\n",
       "      <td>41</td>\n",
       "      <td>247.0</td>\n",
       "    </tr>\n",
       "    <tr>\n",
       "      <th rowspan=\"4\" valign=\"top\">1499</th>\n",
       "      <th>9</th>\n",
       "      <td>9</td>\n",
       "      <td>70.0</td>\n",
       "    </tr>\n",
       "    <tr>\n",
       "      <th>10</th>\n",
       "      <td>68</td>\n",
       "      <td>449.0</td>\n",
       "    </tr>\n",
       "    <tr>\n",
       "      <th>11</th>\n",
       "      <td>74</td>\n",
       "      <td>612.0</td>\n",
       "    </tr>\n",
       "    <tr>\n",
       "      <th>12</th>\n",
       "      <td>69</td>\n",
       "      <td>492.0</td>\n",
       "    </tr>\n",
       "  </tbody>\n",
       "</table>\n",
       "<p>3174 rows × 2 columns</p>\n",
       "</div>"
      ],
      "text/plain": [
       "               count    sum\n",
       "user_id month              \n",
       "1000    5         22  159.0\n",
       "        6         43  172.0\n",
       "        7         46  340.0\n",
       "        8         52  408.0\n",
       "        9         58  466.0\n",
       "...              ...    ...\n",
       "1498    10        41  247.0\n",
       "1499    9          9   70.0\n",
       "        10        68  449.0\n",
       "        11        74  612.0\n",
       "        12        69  492.0\n",
       "\n",
       "[3174 rows x 2 columns]"
      ]
     },
     "execution_count": 23,
     "metadata": {},
     "output_type": "execute_result"
    }
   ],
   "source": [
    "calls['duration'] = calls['duration'].apply(np.ceil)\n",
    "call_values = calls.groupby(['user_id', 'month'])['duration'].agg(['count', 'sum'])\n",
    "call_values"
   ]
  },
  {
   "cell_type": "markdown",
   "metadata": {},
   "source": [
    "<font color='DarkBlue'><b>Комментарий ревьюера</b></font><br>\n",
    "<font color='Red'>🛠 Мы забыли до суммирования округлить каждый звонок до целой минуты, так мы в сумме потеряем общее количество минут, которое тарифицируется.</font>\n",
    "\n",
    "<font color='Blue'><b>Комментарий студента</b></font><br>\n",
    "<font color='Blue'> Округлил."
   ]
  },
  {
   "cell_type": "markdown",
   "metadata": {},
   "source": [
    "<font color='DarkBlue'><b>Комментарий ревьюера 2</b></font><br>\n",
    "<font color='DarkGreen'>👌 Хорошо, теперь правильно. 👍</font>"
   ]
  },
  {
   "cell_type": "markdown",
   "metadata": {},
   "source": [
    "### Количество отправленных сообщений по месяцам"
   ]
  },
  {
   "cell_type": "code",
   "execution_count": 24,
   "metadata": {},
   "outputs": [],
   "source": [
    "messages_values = messages.groupby(['user_id', 'month'])['id'].count()"
   ]
  },
  {
   "cell_type": "markdown",
   "metadata": {},
   "source": [
    "### Объем израсходованного интернет-трафика по месяцам"
   ]
  },
  {
   "cell_type": "code",
   "execution_count": 25,
   "metadata": {},
   "outputs": [],
   "source": [
    "internet_values = internet.groupby(['user_id',\n",
    "                                    'month']).sum()['gb_used'].apply(np.ceil)"
   ]
  },
  {
   "cell_type": "markdown",
   "metadata": {},
   "source": [
    "<font color='DarkBlue'><b>Комментарий ревьюера</b></font><br>\n",
    "<font color='Red'>🛠 А мы забыли округлить гигабайты до целого.</font>\n",
    "\n",
    "<font color='Blue'><b>Комментарий студента</b></font><br>\n",
    "<font color='Blue'> Округлил</font>"
   ]
  },
  {
   "cell_type": "markdown",
   "metadata": {},
   "source": [
    "<font color='DarkBlue'><b>Комментарий ревьюера 2</b></font><br>\n",
    "<font color='DarkMagenta'>👉 Мы вот тут после суммирования должны были округлять.</font>\n",
    "\n",
    "<font color='Blue'><b>Комментарий студента</b></font><br>\n",
    "<font color='Blue'> Спасибо за замечание, округил тут</font>"
   ]
  },
  {
   "cell_type": "markdown",
   "metadata": {},
   "source": [
    "<font color='DarkBlue'><b>Комментарий ревьюера 3</b></font><br>\n",
    "<font color='DarkGreen'>👌 Хорошо, справились с гигабайтами. 😉</font>"
   ]
  },
  {
   "cell_type": "markdown",
   "metadata": {},
   "source": [
    "### Создание общей таблицы"
   ]
  },
  {
   "cell_type": "code",
   "execution_count": 26,
   "metadata": {},
   "outputs": [],
   "source": [
    "df_values = pd.concat([call_values, messages_values, internet_values], axis = 1)\n",
    "df_values = df_values.reset_index()\n",
    "# Добавим столбец с информацией о тарифе пользователя при помощи метода map\n",
    "df_values['tariff'] = df_values['user_id'].map(dict\n",
    "                                               (pd.Series\n",
    "                                                (users['tariff']\n",
    "                                                              .values,\n",
    "                                                              index = users['user_id']\n",
    "                                                         )))\n",
    "# Добавим столбец с информацией о городе пользователя при помощи метода map\n",
    "df_values['city'] = df_values['user_id'].map(dict\n",
    "                                               (pd.Series\n",
    "                                                (users['city']\n",
    "                                                              .values,\n",
    "                                                              index = users['user_id']\n",
    "                                                         )))\n",
    "# Добавим столбец с названием месяца\n",
    "import calendar\n",
    "df_values['month_name'] = df_values['month'].apply(lambda x: calendar.month_abbr[x])    \n",
    "# Переименуем столбцы\n",
    "df_values.columns = ['user_id', \n",
    "                     'month', \n",
    "                     'call_count', \n",
    "                     'minutes_sum',\n",
    "                     'sms_count', \n",
    "                     'gb_used',\n",
    "                     'tariff', \n",
    "                     'city', \n",
    "                     'month_name']\n",
    "#Добавим в таблицу столбец с информацией о сумме абонентской платы из таблицы tarrifs. \n",
    "#Методом map добавим информаию в таблицу df_values\n",
    "df_values['subscription fee'] = df_values['tariff'].map({'smart': 550, \n",
    "                                                         'ultra': 1950})"
   ]
  },
  {
   "cell_type": "code",
   "execution_count": 27,
   "metadata": {
    "scrolled": true
   },
   "outputs": [
    {
     "name": "stdout",
     "output_type": "stream",
     "text": [
      "<class 'pandas.core.frame.DataFrame'>\n",
      "RangeIndex: 3214 entries, 0 to 3213\n",
      "Data columns (total 10 columns):\n",
      " #   Column            Non-Null Count  Dtype  \n",
      "---  ------            --------------  -----  \n",
      " 0   user_id           3214 non-null   int64  \n",
      " 1   month             3214 non-null   int64  \n",
      " 2   call_count        3174 non-null   float64\n",
      " 3   minutes_sum       3174 non-null   float64\n",
      " 4   sms_count         2717 non-null   float64\n",
      " 5   gb_used           3203 non-null   float64\n",
      " 6   tariff            3214 non-null   object \n",
      " 7   city              3214 non-null   object \n",
      " 8   month_name        3214 non-null   object \n",
      " 9   subscription fee  3214 non-null   int64  \n",
      "dtypes: float64(4), int64(3), object(3)\n",
      "memory usage: 251.2+ KB\n"
     ]
    }
   ],
   "source": [
    "df_values.info()"
   ]
  },
  {
   "cell_type": "code",
   "execution_count": 28,
   "metadata": {},
   "outputs": [
    {
     "data": {
      "text/html": [
       "<div>\n",
       "<style scoped>\n",
       "    .dataframe tbody tr th:only-of-type {\n",
       "        vertical-align: middle;\n",
       "    }\n",
       "\n",
       "    .dataframe tbody tr th {\n",
       "        vertical-align: top;\n",
       "    }\n",
       "\n",
       "    .dataframe thead th {\n",
       "        text-align: right;\n",
       "    }\n",
       "</style>\n",
       "<table border=\"1\" class=\"dataframe\">\n",
       "  <thead>\n",
       "    <tr style=\"text-align: right;\">\n",
       "      <th></th>\n",
       "      <th>user_id</th>\n",
       "      <th>month</th>\n",
       "      <th>call_count</th>\n",
       "      <th>minutes_sum</th>\n",
       "      <th>sms_count</th>\n",
       "      <th>gb_used</th>\n",
       "      <th>tariff</th>\n",
       "      <th>city</th>\n",
       "      <th>month_name</th>\n",
       "      <th>subscription fee</th>\n",
       "    </tr>\n",
       "  </thead>\n",
       "  <tbody>\n",
       "    <tr>\n",
       "      <th>0</th>\n",
       "      <td>1000</td>\n",
       "      <td>5</td>\n",
       "      <td>22.0</td>\n",
       "      <td>159.0</td>\n",
       "      <td>22.0</td>\n",
       "      <td>3.0</td>\n",
       "      <td>ultra</td>\n",
       "      <td>Краснодар</td>\n",
       "      <td>May</td>\n",
       "      <td>1950</td>\n",
       "    </tr>\n",
       "    <tr>\n",
       "      <th>1</th>\n",
       "      <td>1000</td>\n",
       "      <td>6</td>\n",
       "      <td>43.0</td>\n",
       "      <td>172.0</td>\n",
       "      <td>60.0</td>\n",
       "      <td>23.0</td>\n",
       "      <td>ultra</td>\n",
       "      <td>Краснодар</td>\n",
       "      <td>Jun</td>\n",
       "      <td>1950</td>\n",
       "    </tr>\n",
       "    <tr>\n",
       "      <th>2</th>\n",
       "      <td>1000</td>\n",
       "      <td>7</td>\n",
       "      <td>46.0</td>\n",
       "      <td>340.0</td>\n",
       "      <td>75.0</td>\n",
       "      <td>14.0</td>\n",
       "      <td>ultra</td>\n",
       "      <td>Краснодар</td>\n",
       "      <td>Jul</td>\n",
       "      <td>1950</td>\n",
       "    </tr>\n",
       "    <tr>\n",
       "      <th>3</th>\n",
       "      <td>1000</td>\n",
       "      <td>8</td>\n",
       "      <td>52.0</td>\n",
       "      <td>408.0</td>\n",
       "      <td>81.0</td>\n",
       "      <td>14.0</td>\n",
       "      <td>ultra</td>\n",
       "      <td>Краснодар</td>\n",
       "      <td>Aug</td>\n",
       "      <td>1950</td>\n",
       "    </tr>\n",
       "    <tr>\n",
       "      <th>4</th>\n",
       "      <td>1000</td>\n",
       "      <td>9</td>\n",
       "      <td>58.0</td>\n",
       "      <td>466.0</td>\n",
       "      <td>57.0</td>\n",
       "      <td>15.0</td>\n",
       "      <td>ultra</td>\n",
       "      <td>Краснодар</td>\n",
       "      <td>Sep</td>\n",
       "      <td>1950</td>\n",
       "    </tr>\n",
       "    <tr>\n",
       "      <th>...</th>\n",
       "      <td>...</td>\n",
       "      <td>...</td>\n",
       "      <td>...</td>\n",
       "      <td>...</td>\n",
       "      <td>...</td>\n",
       "      <td>...</td>\n",
       "      <td>...</td>\n",
       "      <td>...</td>\n",
       "      <td>...</td>\n",
       "      <td>...</td>\n",
       "    </tr>\n",
       "    <tr>\n",
       "      <th>3209</th>\n",
       "      <td>1498</td>\n",
       "      <td>10</td>\n",
       "      <td>41.0</td>\n",
       "      <td>247.0</td>\n",
       "      <td>42.0</td>\n",
       "      <td>21.0</td>\n",
       "      <td>smart</td>\n",
       "      <td>Владикавказ</td>\n",
       "      <td>Oct</td>\n",
       "      <td>550</td>\n",
       "    </tr>\n",
       "    <tr>\n",
       "      <th>3210</th>\n",
       "      <td>1499</td>\n",
       "      <td>9</td>\n",
       "      <td>9.0</td>\n",
       "      <td>70.0</td>\n",
       "      <td>11.0</td>\n",
       "      <td>2.0</td>\n",
       "      <td>smart</td>\n",
       "      <td>Пермь</td>\n",
       "      <td>Sep</td>\n",
       "      <td>550</td>\n",
       "    </tr>\n",
       "    <tr>\n",
       "      <th>3211</th>\n",
       "      <td>1499</td>\n",
       "      <td>10</td>\n",
       "      <td>68.0</td>\n",
       "      <td>449.0</td>\n",
       "      <td>48.0</td>\n",
       "      <td>18.0</td>\n",
       "      <td>smart</td>\n",
       "      <td>Пермь</td>\n",
       "      <td>Oct</td>\n",
       "      <td>550</td>\n",
       "    </tr>\n",
       "    <tr>\n",
       "      <th>3212</th>\n",
       "      <td>1499</td>\n",
       "      <td>11</td>\n",
       "      <td>74.0</td>\n",
       "      <td>612.0</td>\n",
       "      <td>59.0</td>\n",
       "      <td>18.0</td>\n",
       "      <td>smart</td>\n",
       "      <td>Пермь</td>\n",
       "      <td>Nov</td>\n",
       "      <td>550</td>\n",
       "    </tr>\n",
       "    <tr>\n",
       "      <th>3213</th>\n",
       "      <td>1499</td>\n",
       "      <td>12</td>\n",
       "      <td>69.0</td>\n",
       "      <td>492.0</td>\n",
       "      <td>66.0</td>\n",
       "      <td>13.0</td>\n",
       "      <td>smart</td>\n",
       "      <td>Пермь</td>\n",
       "      <td>Dec</td>\n",
       "      <td>550</td>\n",
       "    </tr>\n",
       "  </tbody>\n",
       "</table>\n",
       "<p>3214 rows × 10 columns</p>\n",
       "</div>"
      ],
      "text/plain": [
       "      user_id  month  call_count  minutes_sum  sms_count  gb_used tariff  \\\n",
       "0        1000      5        22.0        159.0       22.0      3.0  ultra   \n",
       "1        1000      6        43.0        172.0       60.0     23.0  ultra   \n",
       "2        1000      7        46.0        340.0       75.0     14.0  ultra   \n",
       "3        1000      8        52.0        408.0       81.0     14.0  ultra   \n",
       "4        1000      9        58.0        466.0       57.0     15.0  ultra   \n",
       "...       ...    ...         ...          ...        ...      ...    ...   \n",
       "3209     1498     10        41.0        247.0       42.0     21.0  smart   \n",
       "3210     1499      9         9.0         70.0       11.0      2.0  smart   \n",
       "3211     1499     10        68.0        449.0       48.0     18.0  smart   \n",
       "3212     1499     11        74.0        612.0       59.0     18.0  smart   \n",
       "3213     1499     12        69.0        492.0       66.0     13.0  smart   \n",
       "\n",
       "             city month_name  subscription fee  \n",
       "0       Краснодар        May              1950  \n",
       "1       Краснодар        Jun              1950  \n",
       "2       Краснодар        Jul              1950  \n",
       "3       Краснодар        Aug              1950  \n",
       "4       Краснодар        Sep              1950  \n",
       "...           ...        ...               ...  \n",
       "3209  Владикавказ        Oct               550  \n",
       "3210        Пермь        Sep               550  \n",
       "3211        Пермь        Oct               550  \n",
       "3212        Пермь        Nov               550  \n",
       "3213        Пермь        Dec               550  \n",
       "\n",
       "[3214 rows x 10 columns]"
      ]
     },
     "execution_count": 28,
     "metadata": {},
     "output_type": "execute_result"
    }
   ],
   "source": [
    "df_values"
   ]
  },
  {
   "cell_type": "markdown",
   "metadata": {},
   "source": [
    "### Количество пользователей в новой таблице"
   ]
  },
  {
   "cell_type": "markdown",
   "metadata": {},
   "source": [
    "Посмотрим на количество уникальных user_id в новой таблице"
   ]
  },
  {
   "cell_type": "code",
   "execution_count": 29,
   "metadata": {
    "scrolled": true
   },
   "outputs": [
    {
     "data": {
      "text/plain": [
       "498"
      ]
     },
     "execution_count": 29,
     "metadata": {},
     "output_type": "execute_result"
    }
   ],
   "source": [
    "df_values.user_id.nunique()"
   ]
  },
  {
   "cell_type": "markdown",
   "metadata": {},
   "source": [
    "Теперь посмотрим на количество user_id в исходной таблице"
   ]
  },
  {
   "cell_type": "code",
   "execution_count": 30,
   "metadata": {
    "scrolled": true
   },
   "outputs": [
    {
     "data": {
      "text/plain": [
       "500"
      ]
     },
     "execution_count": 30,
     "metadata": {},
     "output_type": "execute_result"
    }
   ],
   "source": [
    "users.user_id.nunique()"
   ]
  },
  {
   "cell_type": "code",
   "execution_count": 31,
   "metadata": {
    "scrolled": true
   },
   "outputs": [
    {
     "data": {
      "text/plain": [
       "492"
      ]
     },
     "execution_count": 31,
     "metadata": {},
     "output_type": "execute_result"
    }
   ],
   "source": [
    "calls.user_id.nunique()"
   ]
  },
  {
   "cell_type": "markdown",
   "metadata": {},
   "source": [
    "Посмотрим, что это за пользователи"
   ]
  },
  {
   "cell_type": "code",
   "execution_count": 32,
   "metadata": {
    "scrolled": true
   },
   "outputs": [
    {
     "data": {
      "text/plain": [
       "[1128, 1371]"
      ]
     },
     "execution_count": 32,
     "metadata": {},
     "output_type": "execute_result"
    }
   ],
   "source": [
    "list1 = df_values['user_id'].unique()\n",
    "list2 = users['user_id'].unique()\n",
    "list3 = []\n",
    "for value in list2:\n",
    "    if value not in list1:\n",
    "        list3.append(value)\n",
    "list3"
   ]
  },
  {
   "cell_type": "markdown",
   "metadata": {},
   "source": [
    "Посмотрим есть ли значения по этим пользователям по исходным таблицам:"
   ]
  },
  {
   "cell_type": "code",
   "execution_count": 33,
   "metadata": {
    "scrolled": false
   },
   "outputs": [],
   "source": [
    "#users.query('user_id == 1128')\n",
    "#users.query('user_id == 1371')\n",
    "#calls.query('user_id == 1128')\n",
    "#calls.query('user_id == 1371')\n",
    "#messages.query('user_id == 1128')\n",
    "#messages.query('user_id == 1371')\n",
    "#internet.query('user_id == 1128')\n",
    "#internet.query('user_id == 1371')"
   ]
  },
  {
   "cell_type": "markdown",
   "metadata": {},
   "source": [
    "- Эти пользователи присуствуют только в таблице users. \n",
    "- Они не пользовались услугами.\n",
    "- По этим причинам они не попали в сводную таблицу для подсчета метрик. "
   ]
  },
  {
   "cell_type": "markdown",
   "metadata": {},
   "source": [
    "<font color='DarkBlue'><b>Комментарий ревьюера</b></font><br>\n",
    "<font color='Red'>🛠 Надо проанализировать куда у нас пропало два пользователя после объединения таблиц, см. код ниже. Вот только не надо их сразу включать в сводную таблицу и считать на них выручку. Надо по ним принять правильное решение. Подсказка: не все пользователи пользовались услугами, надо проверить по каждой услуге.</font>\n",
    "\n",
    "<font color='Blue'><b>Комментарий студента</b></font><br>\n",
    "<font color='Blue'> Рассмотрел эту ситуацию."
   ]
  },
  {
   "cell_type": "markdown",
   "metadata": {},
   "source": [
    "<font color='DarkBlue'><b>Комментарий ревьюера 2</b></font><br>\n",
    "<font color='DarkGreen'>👌 Хорошо. Наша задача подробно анализировать данные и стоило проверить при анализе датасетов, сколько клиентов используют каждую услугу. И мы бы еще на этом этапе обнаружили, что не все клиенты пользуются всеми тремя услугами. Тогда бы мы ранее обнаружили, что два клиента через 5 и 8 дней сбежали. Соответственно, в проекте мы должны отметить этот факт, так как эта информация будет полезна коммерческому департаменту для выяснения причин ухода клиентов. </font>"
   ]
  },
  {
   "cell_type": "code",
   "execution_count": 34,
   "metadata": {
    "scrolled": true
   },
   "outputs": [
    {
     "data": {
      "text/plain": [
       "(498,)"
      ]
     },
     "execution_count": 34,
     "metadata": {},
     "output_type": "execute_result"
    }
   ],
   "source": [
    "# Комментарий ревьюера\n",
    "df_values.user_id.unique().shape "
   ]
  },
  {
   "cell_type": "markdown",
   "metadata": {},
   "source": [
    "### Помесячная выручка с каждого пользователя\n",
    "- Вычтем бесплатный лимит из суммарного количества звонков, сообщений и интернет-трафика. Остаток умножим на значение из тарифного плана. Прибавим абонентскую плату, соответствующую тарифному плану."
   ]
  },
  {
   "cell_type": "markdown",
   "metadata": {},
   "source": [
    "### Создание функций "
   ]
  },
  {
   "cell_type": "markdown",
   "metadata": {},
   "source": [
    "Создадим функции. Они будут возвращать нам столбцы с подсчитанными данными. На их основании будет ясно насколько пользователи привысили лимиты. Информацию по тарифам будем брать из справочной таблицы tariffs. На основании полученных данных можно будет посчитать выручку.\n",
    "\n",
    "***можно было бы при помощи метода map, merge присоединить столбцы с подробной информацией по тарифу, но как мне кажется, таблицу df_values будет сложно воспринимать***"
   ]
  },
  {
   "cell_type": "markdown",
   "metadata": {},
   "source": [
    "### Проверка на наличие пропусков"
   ]
  },
  {
   "cell_type": "markdown",
   "metadata": {},
   "source": [
    "После объединения таблиц нужно проверить сводную таблицу на наличие пропусков и принять решение по по ним. "
   ]
  },
  {
   "cell_type": "code",
   "execution_count": 35,
   "metadata": {},
   "outputs": [
    {
     "data": {
      "text/plain": [
       "True"
      ]
     },
     "execution_count": 35,
     "metadata": {},
     "output_type": "execute_result"
    }
   ],
   "source": [
    "df_values.isnull().values.any()"
   ]
  },
  {
   "cell_type": "code",
   "execution_count": 36,
   "metadata": {
    "scrolled": true
   },
   "outputs": [
    {
     "name": "stdout",
     "output_type": "stream",
     "text": [
      "<class 'pandas.core.frame.DataFrame'>\n",
      "RangeIndex: 3214 entries, 0 to 3213\n",
      "Data columns (total 10 columns):\n",
      " #   Column            Non-Null Count  Dtype  \n",
      "---  ------            --------------  -----  \n",
      " 0   user_id           3214 non-null   int64  \n",
      " 1   month             3214 non-null   int64  \n",
      " 2   call_count        3214 non-null   float64\n",
      " 3   minutes_sum       3214 non-null   float64\n",
      " 4   sms_count         3214 non-null   float64\n",
      " 5   gb_used           3214 non-null   float64\n",
      " 6   tariff            3214 non-null   object \n",
      " 7   city              3214 non-null   object \n",
      " 8   month_name        3214 non-null   object \n",
      " 9   subscription fee  3214 non-null   int64  \n",
      "dtypes: float64(4), int64(3), object(3)\n",
      "memory usage: 251.2+ KB\n"
     ]
    }
   ],
   "source": [
    "#df_values['call_count'].isnull().sum()\n",
    "#df_values['minutes_sum'].isnull().sum()\n",
    "#df_values['sms_count'].isnull().sum()\n",
    "#df_values['gb_used'].isnull().sum()\n",
    "df_values['call_count'] = df_values['call_count'].fillna(0)\n",
    "df_values['minutes_sum'] = df_values['minutes_sum'].fillna(0)\n",
    "df_values['sms_count'] = df_values['sms_count'].fillna(0)\n",
    "df_values['gb_used'] = df_values['gb_used'].fillna(0)\n",
    "df_values.info()"
   ]
  },
  {
   "cell_type": "markdown",
   "metadata": {},
   "source": [
    "Заполним пропущенные значения нулями, так как все они относятся к затраченным ресурсам по тарифу"
   ]
  },
  {
   "cell_type": "markdown",
   "metadata": {},
   "source": [
    "<font color='DarkBlue'><b>Комментарий ревьюера</b></font><br>\n",
    "<font color='Red'>🛠 Но после объединения таблиц мы не проверили наличие пропусков и не приняли решения по ним. Надо это сделать.</font>\n",
    "\n",
    "<font color='Blue'><b>Комментарий студента</b></font><br>\n",
    "<font color='Blue'> Обнаружил пропуски, принял решения по ним."
   ]
  },
  {
   "cell_type": "markdown",
   "metadata": {},
   "source": [
    "<font color='DarkBlue'><b>Комментарий ревьюера 2</b></font><br>\n",
    "<font color='DarkGreen'>👌 Хорошо, исправили. 😉</font>"
   ]
  },
  {
   "cell_type": "code",
   "execution_count": 37,
   "metadata": {},
   "outputs": [],
   "source": [
    "# Создаем столбец с суммой по СМС сверх тарифа   \n",
    "def sms_over_plan(row):\n",
    "    if row['tariff'] == 'smart':\n",
    "        result = row['sms_count'] - 50\n",
    "        return np.where(result > 0,\n",
    "                        result, 0)\n",
    "    else:\n",
    "        result =  row['sms_count'] - 1000\n",
    "        return np.where(result > 0,\n",
    "                        result, 0)\n",
    "    \n",
    "# Создаем столбец с суммой по звонкам сверх тарифа\n",
    "def calls_over_plan(row):\n",
    "    if row['tariff'] == 'smart':\n",
    "        result = row['minutes_sum'] - 500\n",
    "        return np.where(result > 0,\n",
    "                        result, 0)\n",
    "    else:\n",
    "        result = row['minutes_sum'] - 3000\n",
    "        return np.where(result > 0,\n",
    "                        result, 0)\n",
    "    \n",
    "    \n",
    "# Создаем столбец с суммой по мегабайтам интернета сверх тарифа \n",
    "def internet_over_plan(row):\n",
    "    if row['tariff'] == 'smart':\n",
    "        result = row['gb_used'] - 15 \n",
    "        return np.where(result > 0,\n",
    "                        result, 0)\n",
    "    else:\n",
    "        result = row['gb_used'] - 30 \n",
    "        return np.where(result > 0,\n",
    "                        result, 0)\n",
    "    \n",
    "# Создаем столбец с месячным доходом   \n",
    "def month_revenue(row):\n",
    "    sum_per_month = 0\n",
    "    if row['tariff'] == 'smart':\n",
    "        sum_per_month += np.ceil(row['minutes_extra']) * 3\n",
    "        sum_per_month += row['sms_extra'] * 3\n",
    "        sum_per_month += np.ceil(row['gb_extra']\n",
    "                                 ) * 200\n",
    "        return sum_per_month\n",
    "    \n",
    "    else:\n",
    "        sum_per_month += np.ceil(row['minutes_extra']) * 1\n",
    "        sum_per_month += row['sms_extra'] * 1\n",
    "        sum_per_month += np.ceil(row['gb_extra']\n",
    "                                 ) * 150\n",
    "        return sum_per_month\n",
    "# Методом apply применяем функции к таблице и создаем столбцы с нужными значениями\n",
    "df_values['minutes_extra'] = df_values.apply(calls_over_plan,\n",
    "                                             axis = 1)\n",
    "df_values['sms_extra'] = df_values.apply(sms_over_plan,\n",
    "                                         axis = 1)\n",
    "df_values['gb_extra'] = df_values.apply(internet_over_plan,\n",
    "                                        axis = 1)\n",
    "\n",
    "df_values['payment_extra'] = df_values.apply(month_revenue,\n",
    "                                             axis = 1)\n",
    "                                             \n",
    "# Преобразовываем тип данных\n",
    "for column in ['sms_extra',\n",
    "               'payment_extra']:\n",
    "    df_values[column] = df_values[column].astype('int')        \n",
    "# Преобразовываем тип данных\n",
    "for column in ['minutes_extra',\n",
    "               'gb_extra']:\n",
    "    df_values[column] = df_values[column].astype('float')\n",
    "\n",
    "# Создаем столбец с помесячной суммой\n",
    "df_values['month_summ'] = df_values['subscription fee'] + df_values['payment_extra']"
   ]
  },
  {
   "cell_type": "markdown",
   "metadata": {},
   "source": [
    "<font color='DarkBlue'><b>Комментарий ревьюера</b></font><br>\n",
    "<font color='DarkMagenta'>👉 Рекомендуется не использовать в коде значения переменных, которые есть в датасете. Тогда при изменении тарифов мы можем использовать ранее написанный код при анализе просто загрузив новый датсет.</font>"
   ]
  },
  {
   "cell_type": "code",
   "execution_count": 38,
   "metadata": {
    "scrolled": false
   },
   "outputs": [
    {
     "data": {
      "text/html": [
       "<div>\n",
       "<style scoped>\n",
       "    .dataframe tbody tr th:only-of-type {\n",
       "        vertical-align: middle;\n",
       "    }\n",
       "\n",
       "    .dataframe tbody tr th {\n",
       "        vertical-align: top;\n",
       "    }\n",
       "\n",
       "    .dataframe thead th {\n",
       "        text-align: right;\n",
       "    }\n",
       "</style>\n",
       "<table border=\"1\" class=\"dataframe\">\n",
       "  <thead>\n",
       "    <tr style=\"text-align: right;\">\n",
       "      <th></th>\n",
       "      <th>user_id</th>\n",
       "      <th>month</th>\n",
       "      <th>call_count</th>\n",
       "      <th>minutes_sum</th>\n",
       "      <th>sms_count</th>\n",
       "      <th>gb_used</th>\n",
       "      <th>tariff</th>\n",
       "      <th>city</th>\n",
       "      <th>month_name</th>\n",
       "      <th>subscription fee</th>\n",
       "      <th>minutes_extra</th>\n",
       "      <th>sms_extra</th>\n",
       "      <th>gb_extra</th>\n",
       "      <th>payment_extra</th>\n",
       "      <th>month_summ</th>\n",
       "    </tr>\n",
       "  </thead>\n",
       "  <tbody>\n",
       "    <tr>\n",
       "      <th>0</th>\n",
       "      <td>1000</td>\n",
       "      <td>5</td>\n",
       "      <td>22.0</td>\n",
       "      <td>159.0</td>\n",
       "      <td>22.0</td>\n",
       "      <td>3.0</td>\n",
       "      <td>ultra</td>\n",
       "      <td>Краснодар</td>\n",
       "      <td>May</td>\n",
       "      <td>1950</td>\n",
       "      <td>0.0</td>\n",
       "      <td>0</td>\n",
       "      <td>0.0</td>\n",
       "      <td>0</td>\n",
       "      <td>1950</td>\n",
       "    </tr>\n",
       "    <tr>\n",
       "      <th>1</th>\n",
       "      <td>1000</td>\n",
       "      <td>6</td>\n",
       "      <td>43.0</td>\n",
       "      <td>172.0</td>\n",
       "      <td>60.0</td>\n",
       "      <td>23.0</td>\n",
       "      <td>ultra</td>\n",
       "      <td>Краснодар</td>\n",
       "      <td>Jun</td>\n",
       "      <td>1950</td>\n",
       "      <td>0.0</td>\n",
       "      <td>0</td>\n",
       "      <td>0.0</td>\n",
       "      <td>0</td>\n",
       "      <td>1950</td>\n",
       "    </tr>\n",
       "    <tr>\n",
       "      <th>2</th>\n",
       "      <td>1000</td>\n",
       "      <td>7</td>\n",
       "      <td>46.0</td>\n",
       "      <td>340.0</td>\n",
       "      <td>75.0</td>\n",
       "      <td>14.0</td>\n",
       "      <td>ultra</td>\n",
       "      <td>Краснодар</td>\n",
       "      <td>Jul</td>\n",
       "      <td>1950</td>\n",
       "      <td>0.0</td>\n",
       "      <td>0</td>\n",
       "      <td>0.0</td>\n",
       "      <td>0</td>\n",
       "      <td>1950</td>\n",
       "    </tr>\n",
       "    <tr>\n",
       "      <th>3</th>\n",
       "      <td>1000</td>\n",
       "      <td>8</td>\n",
       "      <td>52.0</td>\n",
       "      <td>408.0</td>\n",
       "      <td>81.0</td>\n",
       "      <td>14.0</td>\n",
       "      <td>ultra</td>\n",
       "      <td>Краснодар</td>\n",
       "      <td>Aug</td>\n",
       "      <td>1950</td>\n",
       "      <td>0.0</td>\n",
       "      <td>0</td>\n",
       "      <td>0.0</td>\n",
       "      <td>0</td>\n",
       "      <td>1950</td>\n",
       "    </tr>\n",
       "    <tr>\n",
       "      <th>4</th>\n",
       "      <td>1000</td>\n",
       "      <td>9</td>\n",
       "      <td>58.0</td>\n",
       "      <td>466.0</td>\n",
       "      <td>57.0</td>\n",
       "      <td>15.0</td>\n",
       "      <td>ultra</td>\n",
       "      <td>Краснодар</td>\n",
       "      <td>Sep</td>\n",
       "      <td>1950</td>\n",
       "      <td>0.0</td>\n",
       "      <td>0</td>\n",
       "      <td>0.0</td>\n",
       "      <td>0</td>\n",
       "      <td>1950</td>\n",
       "    </tr>\n",
       "    <tr>\n",
       "      <th>5</th>\n",
       "      <td>1000</td>\n",
       "      <td>10</td>\n",
       "      <td>57.0</td>\n",
       "      <td>350.0</td>\n",
       "      <td>73.0</td>\n",
       "      <td>15.0</td>\n",
       "      <td>ultra</td>\n",
       "      <td>Краснодар</td>\n",
       "      <td>Oct</td>\n",
       "      <td>1950</td>\n",
       "      <td>0.0</td>\n",
       "      <td>0</td>\n",
       "      <td>0.0</td>\n",
       "      <td>0</td>\n",
       "      <td>1950</td>\n",
       "    </tr>\n",
       "    <tr>\n",
       "      <th>6</th>\n",
       "      <td>1000</td>\n",
       "      <td>11</td>\n",
       "      <td>43.0</td>\n",
       "      <td>338.0</td>\n",
       "      <td>58.0</td>\n",
       "      <td>15.0</td>\n",
       "      <td>ultra</td>\n",
       "      <td>Краснодар</td>\n",
       "      <td>Nov</td>\n",
       "      <td>1950</td>\n",
       "      <td>0.0</td>\n",
       "      <td>0</td>\n",
       "      <td>0.0</td>\n",
       "      <td>0</td>\n",
       "      <td>1950</td>\n",
       "    </tr>\n",
       "    <tr>\n",
       "      <th>7</th>\n",
       "      <td>1000</td>\n",
       "      <td>12</td>\n",
       "      <td>46.0</td>\n",
       "      <td>333.0</td>\n",
       "      <td>70.0</td>\n",
       "      <td>10.0</td>\n",
       "      <td>ultra</td>\n",
       "      <td>Краснодар</td>\n",
       "      <td>Dec</td>\n",
       "      <td>1950</td>\n",
       "      <td>0.0</td>\n",
       "      <td>0</td>\n",
       "      <td>0.0</td>\n",
       "      <td>0</td>\n",
       "      <td>1950</td>\n",
       "    </tr>\n",
       "    <tr>\n",
       "      <th>8</th>\n",
       "      <td>1001</td>\n",
       "      <td>11</td>\n",
       "      <td>59.0</td>\n",
       "      <td>430.0</td>\n",
       "      <td>0.0</td>\n",
       "      <td>18.0</td>\n",
       "      <td>smart</td>\n",
       "      <td>Москва</td>\n",
       "      <td>Nov</td>\n",
       "      <td>550</td>\n",
       "      <td>0.0</td>\n",
       "      <td>0</td>\n",
       "      <td>3.0</td>\n",
       "      <td>600</td>\n",
       "      <td>1150</td>\n",
       "    </tr>\n",
       "    <tr>\n",
       "      <th>9</th>\n",
       "      <td>1001</td>\n",
       "      <td>12</td>\n",
       "      <td>63.0</td>\n",
       "      <td>414.0</td>\n",
       "      <td>0.0</td>\n",
       "      <td>14.0</td>\n",
       "      <td>smart</td>\n",
       "      <td>Москва</td>\n",
       "      <td>Dec</td>\n",
       "      <td>550</td>\n",
       "      <td>0.0</td>\n",
       "      <td>0</td>\n",
       "      <td>0.0</td>\n",
       "      <td>0</td>\n",
       "      <td>550</td>\n",
       "    </tr>\n",
       "  </tbody>\n",
       "</table>\n",
       "</div>"
      ],
      "text/plain": [
       "   user_id  month  call_count  minutes_sum  sms_count  gb_used tariff  \\\n",
       "0     1000      5        22.0        159.0       22.0      3.0  ultra   \n",
       "1     1000      6        43.0        172.0       60.0     23.0  ultra   \n",
       "2     1000      7        46.0        340.0       75.0     14.0  ultra   \n",
       "3     1000      8        52.0        408.0       81.0     14.0  ultra   \n",
       "4     1000      9        58.0        466.0       57.0     15.0  ultra   \n",
       "5     1000     10        57.0        350.0       73.0     15.0  ultra   \n",
       "6     1000     11        43.0        338.0       58.0     15.0  ultra   \n",
       "7     1000     12        46.0        333.0       70.0     10.0  ultra   \n",
       "8     1001     11        59.0        430.0        0.0     18.0  smart   \n",
       "9     1001     12        63.0        414.0        0.0     14.0  smart   \n",
       "\n",
       "        city month_name  subscription fee  minutes_extra  sms_extra  gb_extra  \\\n",
       "0  Краснодар        May              1950            0.0          0       0.0   \n",
       "1  Краснодар        Jun              1950            0.0          0       0.0   \n",
       "2  Краснодар        Jul              1950            0.0          0       0.0   \n",
       "3  Краснодар        Aug              1950            0.0          0       0.0   \n",
       "4  Краснодар        Sep              1950            0.0          0       0.0   \n",
       "5  Краснодар        Oct              1950            0.0          0       0.0   \n",
       "6  Краснодар        Nov              1950            0.0          0       0.0   \n",
       "7  Краснодар        Dec              1950            0.0          0       0.0   \n",
       "8     Москва        Nov               550            0.0          0       3.0   \n",
       "9     Москва        Dec               550            0.0          0       0.0   \n",
       "\n",
       "   payment_extra  month_summ  \n",
       "0              0        1950  \n",
       "1              0        1950  \n",
       "2              0        1950  \n",
       "3              0        1950  \n",
       "4              0        1950  \n",
       "5              0        1950  \n",
       "6              0        1950  \n",
       "7              0        1950  \n",
       "8            600        1150  \n",
       "9              0         550  "
      ]
     },
     "execution_count": 38,
     "metadata": {},
     "output_type": "execute_result"
    }
   ],
   "source": [
    "df_values.head(10)"
   ]
  },
  {
   "cell_type": "markdown",
   "metadata": {},
   "source": [
    "#### Посмотрим сколько клиентов выходят за рамки своих лимитов по тарифу\n",
    "- создаем методом query срезы по названию тарифа\n",
    "- проверяем привышения лимита"
   ]
  },
  {
   "cell_type": "code",
   "execution_count": 39,
   "metadata": {
    "scrolled": true
   },
   "outputs": [
    {
     "name": "stdout",
     "output_type": "stream",
     "text": [
      "пользователи тарифа смарт : 350\n",
      "пользователи тарифа ультра: 148\n"
     ]
    }
   ],
   "source": [
    "# Создаем таблицы по тарифам\n",
    "df_smart = df_values.query('tariff == \"smart\"')\n",
    "df_ultra = df_values.query('tariff == \"ultra\"')\n",
    "# Посмотрим сколько всего пользователей каждого тарифа\n",
    "print('пользователи тарифа смарт :',\n",
    "      df_smart['user_id'].nunique())\n",
    "print('пользователи тарифа ультра:',\n",
    "      df_ultra['user_id'].nunique())"
   ]
  },
  {
   "cell_type": "code",
   "execution_count": 40,
   "metadata": {},
   "outputs": [
    {
     "name": "stdout",
     "output_type": "stream",
     "text": [
      "пользователи тарифа смарт превысили тариф : 333\n",
      "пользователи тарифа ультра превысили тариф : 43\n"
     ]
    }
   ],
   "source": [
    "# Создаем условие и фильтруем таблицы на предмет превышения тарифа\n",
    "df_smart_extra = df_smart[df_smart['month_summ'] > 550]\n",
    "df_ultra_extra = df_ultra[df_ultra['month_summ'] > 1950]\n",
    "# Посмотрим сколько всего пользователей каждого тарифа превысили тариф\n",
    "print('пользователи тарифа смарт превысили тариф :',\n",
    "      df_smart_extra['user_id'].nunique())\n",
    "print('пользователи тарифа ультра превысили тариф :',\n",
    "      df_ultra_extra['user_id'].nunique())"
   ]
  },
  {
   "cell_type": "markdown",
   "metadata": {},
   "source": [
    "### Вывод\n",
    "\n",
    "Мы создали таблицу df_values со столбцами, в которых посчитали: \n",
    "\n",
    "- Кол-во звонков, минут разговора, смс, мб интернета по месяцам и пользователям\n",
    "- Сумму привышения лимитов по звонкам, минутам разговора, смс, мб интернета по месяцам и пользователям\n",
    "- Помесячную выручку с каждого пользователя"
   ]
  },
  {
   "cell_type": "markdown",
   "metadata": {},
   "source": [
    "## Анализ данных "
   ]
  },
  {
   "cell_type": "markdown",
   "metadata": {},
   "source": [
    "### Минуты разговора в месяц "
   ]
  },
  {
   "cell_type": "code",
   "execution_count": 41,
   "metadata": {
    "scrolled": false
   },
   "outputs": [
    {
     "data": {
      "text/html": [
       "<style  type=\"text/css\" >\n",
       "#T_347d9_row0_col0,#T_347d9_row0_col1,#T_347d9_row0_col2{\n",
       "            background-color:  #f7fcf5;\n",
       "            color:  #000000;\n",
       "        }#T_347d9_row1_col0{\n",
       "            background-color:  #c9eac2;\n",
       "            color:  #000000;\n",
       "        }#T_347d9_row1_col1,#T_347d9_row6_col2{\n",
       "            background-color:  #e3f4de;\n",
       "            color:  #000000;\n",
       "        }#T_347d9_row1_col2{\n",
       "            background-color:  #d5efcf;\n",
       "            color:  #000000;\n",
       "        }#T_347d9_row2_col0{\n",
       "            background-color:  #7cc87c;\n",
       "            color:  #000000;\n",
       "        }#T_347d9_row2_col1{\n",
       "            background-color:  #e2f4dd;\n",
       "            color:  #000000;\n",
       "        }#T_347d9_row2_col2{\n",
       "            background-color:  #d3eecd;\n",
       "            color:  #000000;\n",
       "        }#T_347d9_row3_col0{\n",
       "            background-color:  #91d28e;\n",
       "            color:  #000000;\n",
       "        }#T_347d9_row3_col1,#T_347d9_row4_col1,#T_347d9_row7_col1{\n",
       "            background-color:  #e6f5e1;\n",
       "            color:  #000000;\n",
       "        }#T_347d9_row3_col2,#T_347d9_row7_col2,#T_347d9_row11_col1{\n",
       "            background-color:  #dbf1d5;\n",
       "            color:  #000000;\n",
       "        }#T_347d9_row4_col0{\n",
       "            background-color:  #7fc97f;\n",
       "            color:  #000000;\n",
       "        }#T_347d9_row4_col2{\n",
       "            background-color:  #daf0d4;\n",
       "            color:  #000000;\n",
       "        }#T_347d9_row5_col0{\n",
       "            background-color:  #76c578;\n",
       "            color:  #000000;\n",
       "        }#T_347d9_row5_col1{\n",
       "            background-color:  #ecf8e8;\n",
       "            color:  #000000;\n",
       "        }#T_347d9_row5_col2{\n",
       "            background-color:  #e7f6e3;\n",
       "            color:  #000000;\n",
       "        }#T_347d9_row6_col0,#T_347d9_row12_col1{\n",
       "            background-color:  #6abf71;\n",
       "            color:  #000000;\n",
       "        }#T_347d9_row6_col1{\n",
       "            background-color:  #eaf7e6;\n",
       "            color:  #000000;\n",
       "        }#T_347d9_row7_col0{\n",
       "            background-color:  #5bb86a;\n",
       "            color:  #000000;\n",
       "        }#T_347d9_row8_col0,#T_347d9_row12_col0{\n",
       "            background-color:  #55b567;\n",
       "            color:  #000000;\n",
       "        }#T_347d9_row8_col1{\n",
       "            background-color:  #e8f6e4;\n",
       "            color:  #000000;\n",
       "        }#T_347d9_row8_col2{\n",
       "            background-color:  #def2d9;\n",
       "            color:  #000000;\n",
       "        }#T_347d9_row9_col0{\n",
       "            background-color:  #56b567;\n",
       "            color:  #000000;\n",
       "        }#T_347d9_row9_col1{\n",
       "            background-color:  #e5f5e1;\n",
       "            color:  #000000;\n",
       "        }#T_347d9_row9_col2{\n",
       "            background-color:  #d8f0d2;\n",
       "            color:  #000000;\n",
       "        }#T_347d9_row10_col0{\n",
       "            background-color:  #4db163;\n",
       "            color:  #000000;\n",
       "        }#T_347d9_row10_col1{\n",
       "            background-color:  #ebf7e7;\n",
       "            color:  #000000;\n",
       "        }#T_347d9_row10_col2{\n",
       "            background-color:  #e5f5e0;\n",
       "            color:  #000000;\n",
       "        }#T_347d9_row11_col0{\n",
       "            background-color:  #2e964d;\n",
       "            color:  #000000;\n",
       "        }#T_347d9_row11_col2,#T_347d9_row13_col0{\n",
       "            background-color:  #caeac3;\n",
       "            color:  #000000;\n",
       "        }#T_347d9_row12_col2{\n",
       "            background-color:  #45ad5f;\n",
       "            color:  #000000;\n",
       "        }#T_347d9_row13_col1{\n",
       "            background-color:  #329b51;\n",
       "            color:  #000000;\n",
       "        }#T_347d9_row13_col2,#T_347d9_row18_col1{\n",
       "            background-color:  #218944;\n",
       "            color:  #000000;\n",
       "        }#T_347d9_row14_col0{\n",
       "            background-color:  #268e47;\n",
       "            color:  #000000;\n",
       "        }#T_347d9_row14_col1{\n",
       "            background-color:  #005924;\n",
       "            color:  #f1f1f1;\n",
       "        }#T_347d9_row14_col2{\n",
       "            background-color:  #005221;\n",
       "            color:  #f1f1f1;\n",
       "        }#T_347d9_row15_col0{\n",
       "            background-color:  #3aa357;\n",
       "            color:  #000000;\n",
       "        }#T_347d9_row15_col1{\n",
       "            background-color:  #6ec173;\n",
       "            color:  #000000;\n",
       "        }#T_347d9_row15_col2{\n",
       "            background-color:  #4aaf61;\n",
       "            color:  #000000;\n",
       "        }#T_347d9_row16_col0,#T_347d9_row17_col2{\n",
       "            background-color:  #18823d;\n",
       "            color:  #f1f1f1;\n",
       "        }#T_347d9_row16_col1{\n",
       "            background-color:  #3da65a;\n",
       "            color:  #000000;\n",
       "        }#T_347d9_row16_col2{\n",
       "            background-color:  #2a924a;\n",
       "            color:  #000000;\n",
       "        }#T_347d9_row17_col0{\n",
       "            background-color:  #2d954d;\n",
       "            color:  #000000;\n",
       "        }#T_347d9_row17_col1{\n",
       "            background-color:  #29914a;\n",
       "            color:  #000000;\n",
       "        }#T_347d9_row18_col0{\n",
       "            background-color:  #006b2b;\n",
       "            color:  #f1f1f1;\n",
       "        }#T_347d9_row18_col2{\n",
       "            background-color:  #127c39;\n",
       "            color:  #f1f1f1;\n",
       "        }#T_347d9_row19_col0{\n",
       "            background-color:  #17813d;\n",
       "            color:  #f1f1f1;\n",
       "        }#T_347d9_row19_col1{\n",
       "            background-color:  #16803c;\n",
       "            color:  #f1f1f1;\n",
       "        }#T_347d9_row19_col2{\n",
       "            background-color:  #097532;\n",
       "            color:  #f1f1f1;\n",
       "        }#T_347d9_row20_col0{\n",
       "            background-color:  #03702e;\n",
       "            color:  #f1f1f1;\n",
       "        }#T_347d9_row20_col1{\n",
       "            background-color:  #006c2c;\n",
       "            color:  #f1f1f1;\n",
       "        }#T_347d9_row20_col2{\n",
       "            background-color:  #006227;\n",
       "            color:  #f1f1f1;\n",
       "        }#T_347d9_row21_col0{\n",
       "            background-color:  #006027;\n",
       "            color:  #f1f1f1;\n",
       "        }#T_347d9_row21_col1{\n",
       "            background-color:  #00692a;\n",
       "            color:  #f1f1f1;\n",
       "        }#T_347d9_row21_col2{\n",
       "            background-color:  #005f26;\n",
       "            color:  #f1f1f1;\n",
       "        }#T_347d9_row22_col0{\n",
       "            background-color:  #016e2d;\n",
       "            color:  #f1f1f1;\n",
       "        }#T_347d9_row22_col1{\n",
       "            background-color:  #1a843f;\n",
       "            color:  #000000;\n",
       "        }#T_347d9_row22_col2{\n",
       "            background-color:  #0c7735;\n",
       "            color:  #f1f1f1;\n",
       "        }#T_347d9_row23_col0,#T_347d9_row23_col1,#T_347d9_row23_col2{\n",
       "            background-color:  #00441b;\n",
       "            color:  #f1f1f1;\n",
       "        }</style><table id=\"T_347d9_\" ><caption>Минуты разговора в месяц</caption><thead>    <tr>        <th class=\"blank\" ></th>        <th class=\"blank level0\" ></th>        <th class=\"col_heading level0 col0\" >mean</th>        <th class=\"col_heading level0 col1\" >var</th>        <th class=\"col_heading level0 col2\" >std</th>    </tr>    <tr>        <th class=\"index_name level0\" >tariff</th>        <th class=\"index_name level1\" >month</th>        <th class=\"blank\" ></th>        <th class=\"blank\" ></th>        <th class=\"blank\" ></th>    </tr></thead><tbody>\n",
       "                <tr>\n",
       "                        <th id=\"T_347d9_level0_row0\" class=\"row_heading level0 row0\" rowspan=\"12\">smart</th>\n",
       "                        <th id=\"T_347d9_level1_row0\" class=\"row_heading level1 row0\" >1</th>\n",
       "                        <td id=\"T_347d9_row0_col0\" class=\"data row0 col0\" >203.852941</td>\n",
       "                        <td id=\"T_347d9_row0_col1\" class=\"data row0 col1\" >23787.341355</td>\n",
       "                        <td id=\"T_347d9_row0_col2\" class=\"data row0 col2\" >154.231454</td>\n",
       "            </tr>\n",
       "            <tr>\n",
       "                                <th id=\"T_347d9_level1_row1\" class=\"row_heading level1 row1\" >2</th>\n",
       "                        <td id=\"T_347d9_row1_col0\" class=\"data row1 col0\" >298.689655</td>\n",
       "                        <td id=\"T_347d9_row1_col1\" class=\"data row1 col1\" >36412.287961</td>\n",
       "                        <td id=\"T_347d9_row1_col2\" class=\"data row1 col2\" >190.820041</td>\n",
       "            </tr>\n",
       "            <tr>\n",
       "                                <th id=\"T_347d9_level1_row2\" class=\"row_heading level1 row2\" >3</th>\n",
       "                        <td id=\"T_347d9_row2_col0\" class=\"data row2 col0\" >390.051948</td>\n",
       "                        <td id=\"T_347d9_row2_col1\" class=\"data row2 col1\" >36823.155161</td>\n",
       "                        <td id=\"T_347d9_row2_col2\" class=\"data row2 col2\" >191.893604</td>\n",
       "            </tr>\n",
       "            <tr>\n",
       "                                <th id=\"T_347d9_level1_row3\" class=\"row_heading level1 row3\" >4</th>\n",
       "                        <td id=\"T_347d9_row3_col0\" class=\"data row3 col0\" >367.133929</td>\n",
       "                        <td id=\"T_347d9_row3_col1\" class=\"data row3 col1\" >34778.207127</td>\n",
       "                        <td id=\"T_347d9_row3_col2\" class=\"data row3 col2\" >186.489161</td>\n",
       "            </tr>\n",
       "            <tr>\n",
       "                                <th id=\"T_347d9_level1_row4\" class=\"row_heading level1 row4\" >5</th>\n",
       "                        <td id=\"T_347d9_row4_col0\" class=\"data row4 col0\" >387.361702</td>\n",
       "                        <td id=\"T_347d9_row4_col1\" class=\"data row4 col1\" >34820.061094</td>\n",
       "                        <td id=\"T_347d9_row4_col2\" class=\"data row4 col2\" >186.601343</td>\n",
       "            </tr>\n",
       "            <tr>\n",
       "                                <th id=\"T_347d9_level1_row5\" class=\"row_heading level1 row5\" >6</th>\n",
       "                        <td id=\"T_347d9_row5_col0\" class=\"data row5 col0\" >395.640244</td>\n",
       "                        <td id=\"T_347d9_row5_col1\" class=\"data row5 col1\" >30742.918861</td>\n",
       "                        <td id=\"T_347d9_row5_col2\" class=\"data row5 col2\" >175.336587</td>\n",
       "            </tr>\n",
       "            <tr>\n",
       "                                <th id=\"T_347d9_level1_row6\" class=\"row_heading level1 row6\" >7</th>\n",
       "                        <td id=\"T_347d9_row6_col0\" class=\"data row6 col0\" >408.353234</td>\n",
       "                        <td id=\"T_347d9_row6_col1\" class=\"data row6 col1\" >32250.269602</td>\n",
       "                        <td id=\"T_347d9_row6_col2\" class=\"data row6 col2\" >179.583601</td>\n",
       "            </tr>\n",
       "            <tr>\n",
       "                                <th id=\"T_347d9_level1_row7\" class=\"row_heading level1 row7\" >8</th>\n",
       "                        <td id=\"T_347d9_row7_col0\" class=\"data row7 col0\" >421.468085</td>\n",
       "                        <td id=\"T_347d9_row7_col1\" class=\"data row7 col1\" >34793.583379</td>\n",
       "                        <td id=\"T_347d9_row7_col2\" class=\"data row7 col2\" >186.530382</td>\n",
       "            </tr>\n",
       "            <tr>\n",
       "                                <th id=\"T_347d9_level1_row8\" class=\"row_heading level1 row8\" >9</th>\n",
       "                        <td id=\"T_347d9_row8_col0\" class=\"data row8 col0\" >428.611538</td>\n",
       "                        <td id=\"T_347d9_row8_col1\" class=\"data row8 col1\" >33535.342723</td>\n",
       "                        <td id=\"T_347d9_row8_col2\" class=\"data row8 col2\" >183.126576</td>\n",
       "            </tr>\n",
       "            <tr>\n",
       "                                <th id=\"T_347d9_level1_row9\" class=\"row_heading level1 row9\" >10</th>\n",
       "                        <td id=\"T_347d9_row9_col0\" class=\"data row9 col0\" >426.136054</td>\n",
       "                        <td id=\"T_347d9_row9_col1\" class=\"data row9 col1\" >35392.336375</td>\n",
       "                        <td id=\"T_347d9_row9_col2\" class=\"data row9 col2\" >188.128510</td>\n",
       "            </tr>\n",
       "            <tr>\n",
       "                                <th id=\"T_347d9_level1_row10\" class=\"row_heading level1 row10\" >11</th>\n",
       "                        <td id=\"T_347d9_row10_col0\" class=\"data row10 col0\" >435.265823</td>\n",
       "                        <td id=\"T_347d9_row10_col1\" class=\"data row10 col1\" >31605.237050</td>\n",
       "                        <td id=\"T_347d9_row10_col2\" class=\"data row10 col2\" >177.778618</td>\n",
       "            </tr>\n",
       "            <tr>\n",
       "                                <th id=\"T_347d9_level1_row11\" class=\"row_heading level1 row11\" >12</th>\n",
       "                        <td id=\"T_347d9_row11_col0\" class=\"data row11 col0\" >478.560831</td>\n",
       "                        <td id=\"T_347d9_row11_col1\" class=\"data row11 col1\" >39698.622033</td>\n",
       "                        <td id=\"T_347d9_row11_col2\" class=\"data row11 col2\" >199.245131</td>\n",
       "            </tr>\n",
       "            <tr>\n",
       "                        <th id=\"T_347d9_level0_row12\" class=\"row_heading level0 row12\" rowspan=\"12\">ultra</th>\n",
       "                        <th id=\"T_347d9_level1_row12\" class=\"row_heading level1 row12\" >1</th>\n",
       "                        <td id=\"T_347d9_row12_col0\" class=\"data row12 col0\" >428.111111</td>\n",
       "                        <td id=\"T_347d9_row12_col1\" class=\"data row12 col1\" >72769.361111</td>\n",
       "                        <td id=\"T_347d9_row12_col2\" class=\"data row12 col2\" >269.757968</td>\n",
       "            </tr>\n",
       "            <tr>\n",
       "                                <th id=\"T_347d9_level1_row13\" class=\"row_heading level1 row13\" >2</th>\n",
       "                        <td id=\"T_347d9_row13_col0\" class=\"data row13 col0\" >297.125000</td>\n",
       "                        <td id=\"T_347d9_row13_col1\" class=\"data row13 col1\" >87919.679348</td>\n",
       "                        <td id=\"T_347d9_row13_col2\" class=\"data row13 col2\" >296.512528</td>\n",
       "            </tr>\n",
       "            <tr>\n",
       "                                <th id=\"T_347d9_level1_row14\" class=\"row_heading level1 row14\" >3</th>\n",
       "                        <td id=\"T_347d9_row14_col0\" class=\"data row14 col0\" >489.648649</td>\n",
       "                        <td id=\"T_347d9_row14_col1\" class=\"data row14 col1\" >111384.900901</td>\n",
       "                        <td id=\"T_347d9_row14_col2\" class=\"data row14 col2\" >333.743765</td>\n",
       "            </tr>\n",
       "            <tr>\n",
       "                                <th id=\"T_347d9_level1_row15\" class=\"row_heading level1 row15\" >4</th>\n",
       "                        <td id=\"T_347d9_row15_col0\" class=\"data row15 col0\" >458.018182</td>\n",
       "                        <td id=\"T_347d9_row15_col1\" class=\"data row15 col1\" >71653.870034</td>\n",
       "                        <td id=\"T_347d9_row15_col2\" class=\"data row15 col2\" >267.682405</td>\n",
       "            </tr>\n",
       "            <tr>\n",
       "                                <th id=\"T_347d9_level1_row16\" class=\"row_heading level1 row16\" >5</th>\n",
       "                        <td id=\"T_347d9_row16_col0\" class=\"data row16 col0\" >510.328358</td>\n",
       "                        <td id=\"T_347d9_row16_col1\" class=\"data row16 col1\" >83870.193578</td>\n",
       "                        <td id=\"T_347d9_row16_col2\" class=\"data row16 col2\" >289.603511</td>\n",
       "            </tr>\n",
       "            <tr>\n",
       "                                <th id=\"T_347d9_level1_row17\" class=\"row_heading level1 row17\" >6</th>\n",
       "                        <td id=\"T_347d9_row17_col0\" class=\"data row17 col0\" >479.702381</td>\n",
       "                        <td id=\"T_347d9_row17_col1\" class=\"data row17 col1\" >91535.946500</td>\n",
       "                        <td id=\"T_347d9_row17_col2\" class=\"data row17 col2\" >302.549081</td>\n",
       "            </tr>\n",
       "            <tr>\n",
       "                                <th id=\"T_347d9_level1_row18\" class=\"row_heading level1 row18\" >7</th>\n",
       "                        <td id=\"T_347d9_row18_col0\" class=\"data row18 col0\" >545.791209</td>\n",
       "                        <td id=\"T_347d9_row18_col1\" class=\"data row18 col1\" >94322.278144</td>\n",
       "                        <td id=\"T_347d9_row18_col2\" class=\"data row18 col2\" >307.119322</td>\n",
       "            </tr>\n",
       "            <tr>\n",
       "                                <th id=\"T_347d9_level1_row19\" class=\"row_heading level1 row19\" >8</th>\n",
       "                        <td id=\"T_347d9_row19_col0\" class=\"data row19 col0\" >510.775701</td>\n",
       "                        <td id=\"T_347d9_row19_col1\" class=\"data row19 col1\" >97956.496385</td>\n",
       "                        <td id=\"T_347d9_row19_col2\" class=\"data row19 col2\" >312.980026</td>\n",
       "            </tr>\n",
       "            <tr>\n",
       "                                <th id=\"T_347d9_level1_row20\" class=\"row_heading level1 row20\" >9</th>\n",
       "                        <td id=\"T_347d9_row20_col0\" class=\"data row20 col0\" >539.443478</td>\n",
       "                        <td id=\"T_347d9_row20_col1\" class=\"data row20 col1\" >105716.775286</td>\n",
       "                        <td id=\"T_347d9_row20_col2\" class=\"data row20 col2\" >325.141162</td>\n",
       "            </tr>\n",
       "            <tr>\n",
       "                                <th id=\"T_347d9_level1_row21\" class=\"row_heading level1 row21\" >10</th>\n",
       "                        <td id=\"T_347d9_row21_col0\" class=\"data row21 col0\" >558.081301</td>\n",
       "                        <td id=\"T_347d9_row21_col1\" class=\"data row21 col1\" >106464.583500</td>\n",
       "                        <td id=\"T_347d9_row21_col2\" class=\"data row21 col2\" >326.289110</td>\n",
       "            </tr>\n",
       "            <tr>\n",
       "                                <th id=\"T_347d9_level1_row22\" class=\"row_heading level1 row22\" >11</th>\n",
       "                        <td id=\"T_347d9_row22_col0\" class=\"data row22 col0\" >541.380597</td>\n",
       "                        <td id=\"T_347d9_row22_col1\" class=\"data row22 col1\" >96570.057064</td>\n",
       "                        <td id=\"T_347d9_row22_col2\" class=\"data row22 col2\" >310.757232</td>\n",
       "            </tr>\n",
       "            <tr>\n",
       "                                <th id=\"T_347d9_level1_row23\" class=\"row_heading level1 row23\" >12</th>\n",
       "                        <td id=\"T_347d9_row23_col0\" class=\"data row23 col0\" >592.805755</td>\n",
       "                        <td id=\"T_347d9_row23_col1\" class=\"data row23 col1\" >117276.331561</td>\n",
       "                        <td id=\"T_347d9_row23_col2\" class=\"data row23 col2\" >342.456321</td>\n",
       "            </tr>\n",
       "    </tbody></table>"
      ],
      "text/plain": [
       "<pandas.io.formats.style.Styler at 0x7efddf799c70>"
      ]
     },
     "execution_count": 41,
     "metadata": {},
     "output_type": "execute_result"
    }
   ],
   "source": [
    "# Посчитаем среднее количество, дисперсию и стандартное отклонение.\n",
    "df_values_calls = df_values.pivot_table(index=['tariff','month'],\n",
    "                             values='minutes_sum',\n",
    "                             aggfunc=['mean', 'var', 'std'])\n",
    "df_values_calls.columns = ['mean', 'var', 'std']\n",
    "df_values_calls.reset_index()\n",
    "df_values_calls.style.background_gradient(cmap = 'Greens').set_caption(\"Минуты разговора в месяц\")\n",
    "#df_values_calls"
   ]
  },
  {
   "cell_type": "markdown",
   "metadata": {},
   "source": [
    "<font color='DarkBlue'><b>Комментарий ревьюера</b></font><br>\n",
    "<font color='DarkGreen'>👌 Хорошо, посчитали статистику по тарифам. 👍</font><br>\n",
    "<font color='DarkMagenta'>👉 Но у нас статистика разбита по месяцам, а общую за год?</font>\n",
    "\n",
    "<font color='Blue'><b>Комментарий студента</b></font><br>\n",
    "<font color='Blue'> Добавил за год."
   ]
  },
  {
   "cell_type": "markdown",
   "metadata": {},
   "source": [
    "### Минуты разговора за год "
   ]
  },
  {
   "cell_type": "code",
   "execution_count": 42,
   "metadata": {},
   "outputs": [
    {
     "data": {
      "text/html": [
       "<style  type=\"text/css\" >\n",
       "#T_c03e9_row0_col0,#T_c03e9_row0_col1,#T_c03e9_row0_col2{\n",
       "            background-color:  #f7fcf5;\n",
       "            color:  #000000;\n",
       "        }#T_c03e9_row1_col0,#T_c03e9_row1_col1,#T_c03e9_row1_col2{\n",
       "            background-color:  #00441b;\n",
       "            color:  #f1f1f1;\n",
       "        }</style><table id=\"T_c03e9_\" ><caption>Минуты разговора за год</caption><thead>    <tr>        <th class=\"blank level0\" ></th>        <th class=\"col_heading level0 col0\" >mean</th>        <th class=\"col_heading level0 col1\" >var</th>        <th class=\"col_heading level0 col2\" >std</th>    </tr>    <tr>        <th class=\"index_name level0\" >tariff</th>        <th class=\"blank\" ></th>        <th class=\"blank\" ></th>        <th class=\"blank\" ></th>    </tr></thead><tbody>\n",
       "                <tr>\n",
       "                        <th id=\"T_c03e9_level0_row0\" class=\"row_heading level0 row0\" >smart</th>\n",
       "                        <td id=\"T_c03e9_row0_col0\" class=\"data row0 col0\" >417.934948</td>\n",
       "                        <td id=\"T_c03e9_row0_col1\" class=\"data row0 col1\" >36219.315784</td>\n",
       "                        <td id=\"T_c03e9_row0_col2\" class=\"data row0 col2\" >190.313730</td>\n",
       "            </tr>\n",
       "            <tr>\n",
       "                        <th id=\"T_c03e9_level0_row1\" class=\"row_heading level0 row1\" >ultra</th>\n",
       "                        <td id=\"T_c03e9_row1_col0\" class=\"data row1 col0\" >526.623350</td>\n",
       "                        <td id=\"T_c03e9_row1_col1\" class=\"data row1 col1\" >100873.633397</td>\n",
       "                        <td id=\"T_c03e9_row1_col2\" class=\"data row1 col2\" >317.606098</td>\n",
       "            </tr>\n",
       "    </tbody></table>"
      ],
      "text/plain": [
       "<pandas.io.formats.style.Styler at 0x7efddf989e80>"
      ]
     },
     "execution_count": 42,
     "metadata": {},
     "output_type": "execute_result"
    }
   ],
   "source": [
    "# Посчитаем среднее количество, дисперсию и стандартное отклонение.\n",
    "df_values_calls_year = df_values.pivot_table(index=['tariff'],\n",
    "                             values='minutes_sum',\n",
    "                             aggfunc=['mean', 'var', 'std'])\n",
    "df_values_calls_year.columns = ['mean', 'var', 'std']\n",
    "df_values_calls_year.reset_index()\n",
    "df_values_calls_year.style.background_gradient(cmap = 'Greens').set_caption(\"Минуты разговора за год\")\n",
    "#df_values_calls"
   ]
  },
  {
   "cell_type": "markdown",
   "metadata": {},
   "source": [
    "#### Наблюдения\n",
    "\n",
    "##### **Тариф смарт**\n",
    "- Среднее значение: не привышает лимит\n",
    "- Дисперсия: аномалий не выявлено \n",
    "- Стандартное отклонение: аномалий не выявлено \n",
    "\n",
    "##### **Тариф ультра**\n",
    "- Среднее значение: не превышает лимит\n",
    "- Дисперсия: Значительно преобладает над значениями тарифа смарт\n",
    "- Стандартное отклонение: в марте значение максимальное\n",
    "\n",
    "Звонки по тарифу ультра по длительности предобладают над звонками по тарифу смарт. Наибольшая длителельность по обоим тарифам наблюдается в декабре. Возможно, это обусловленно новогодними праздниками."
   ]
  },
  {
   "cell_type": "markdown",
   "metadata": {},
   "source": [
    "#### Гистограмма распределение звонков"
   ]
  },
  {
   "cell_type": "code",
   "execution_count": 43,
   "metadata": {
    "scrolled": false
   },
   "outputs": [
    {
     "data": {
      "image/png": "[encoded data removed]",
      "text/plain": [
       "<Figure size 864x504 with 1 Axes>"
      ]
     },
     "metadata": {
      "needs_background": "light"
     },
     "output_type": "display_data"
    }
   ],
   "source": [
    "df_ultra['minutes_sum'].hist(bins=40, \n",
    "                             alpha=0.3, \n",
    "                             label='ultra',\n",
    "                             figsize=(12,7),\n",
    "                       ec='grey'\n",
    "                            )\n",
    "df_smart['minutes_sum'].hist(bins=40,\n",
    "                             alpha=0.3,\n",
    "                             label='smart',\n",
    "                            figsize=(12,7),\n",
    "                       ec='grey')\n",
    "plt.legend()\n",
    "plt.title('Распределение длительности звоноков')\n",
    "plt.xlabel(\"Длительность\")\n",
    "plt.ylabel(\"Количество клиентов\")\n",
    "plt.show()"
   ]
  },
  {
   "cell_type": "markdown",
   "metadata": {},
   "source": [
    "<font color='DarkBlue'><b>Комментарий ревьюера</b></font><br>\n",
    "<font color='DarkGreen'>👌 Хорошо, что графики обоих тарифов построены в одной координатной сетке.</font><br>\n",
    "<font color='DarkMagenta'>👉 А вот подписей осей на графике нет. 😢 И это относится ко всем графикам проекта.</font>\n",
    "\n",
    "<font color='Blue'><b>Комментарий студента</b></font><br>\n",
    "<font color='Blue'> Добавил подписи."
   ]
  },
  {
   "cell_type": "markdown",
   "metadata": {},
   "source": [
    "<font color='DarkBlue'><b>Комментарий ревьюера 2</b></font><br><font color='DarkGreen'>👌 Красивые и информативные графики всегда приветствуются, особенно когда на них есть все подписи осей, названия меток и название графика. В презентацию реального проекта в основном идут именно скрины графиков, таблицы мало информативны. По этому лучше сразу графики максимально описывать.</font>"
   ]
  },
  {
   "cell_type": "markdown",
   "metadata": {},
   "source": [
    "#### Наблюдения\n",
    "\n",
    "- Биноминальное распределение скошено вправо\n",
    "\n",
    "- Количество звонков по тарифу смарт значительно превышает количество звонков по тарифу ультра\n"
   ]
  },
  {
   "cell_type": "markdown",
   "metadata": {},
   "source": [
    "#### Гистограмма распределения звонков между превысившими лимит минут и непривысившими по тарифам"
   ]
  },
  {
   "cell_type": "code",
   "execution_count": 44,
   "metadata": {
    "scrolled": false
   },
   "outputs": [
    {
     "data": {
      "image/png": "[encoded data removed]",
      "text/plain": [
       "<Figure size 864x504 with 2 Axes>"
      ]
     },
     "metadata": {
      "needs_background": "light"
     },
     "output_type": "display_data"
    }
   ],
   "source": [
    "plt.subplot(2, 2, 1)\n",
    "df_smart['minutes_sum'].hist(bins=40, \n",
    "                             alpha=0.3, \n",
    "                             label='smart',\n",
    "                             figsize=(12,7),\n",
    "                       ec='grey'\n",
    "                            )\n",
    "df_smart_minutes_extra = df_smart.query('minutes_sum > 500')\n",
    "df_smart_minutes_extra['minutes_sum'].hist(bins=40, \n",
    "                             alpha=0.3, \n",
    "                             label='smart_extra',\n",
    "                             figsize=(12,7),\n",
    "                       ec='grey'\n",
    "                            )\n",
    "plt.legend()\n",
    "plt.title('Распределение длительности звоноков по тарифам смарт и ультра между видами абонентов')\n",
    "plt.xlabel(\"Длительность\")\n",
    "plt.ylabel(\"Количество клиентов\")\n",
    "plt.subplot(2, 2, 2)\n",
    "df_ultra['minutes_sum'].hist(bins=40, \n",
    "                             alpha=0.3, \n",
    "                             label='ultra',\n",
    "                             figsize=(12,7),\n",
    "                       ec='grey'\n",
    "                            )\n",
    "df_ultra_minutes_extra = df_ultra.query('minutes_sum > 3000')\n",
    "df_ultra_minutes_extra['minutes_sum'].hist(bins=40, \n",
    "                             alpha=0.3, \n",
    "                             label='ultra_extra',\n",
    "                             figsize=(12,7),\n",
    "                       ec='grey'\n",
    "                            )\n",
    "plt.legend()\n",
    "plt.xlabel(\"Длительность\")\n",
    "plt.ylabel(\"Количество клиентов\")\n",
    "#plt.title('Распределение длительности звоноков по тарифам смарт и ультра между видами абонентов')\n",
    "plt.show()"
   ]
  },
  {
   "cell_type": "markdown",
   "metadata": {},
   "source": [
    "#### Наблюдения\n",
    "\n",
    "##### **Тариф смарт**\n",
    "- Пользователи привышают лимит\n",
    "\n",
    "##### **Тариф ультра**\n",
    "- Пользователи не привышают лимит "
   ]
  },
  {
   "cell_type": "markdown",
   "metadata": {},
   "source": [
    "#### Вывод по длительности звонков\n",
    "\n",
    "##### **Тариф смарт**\n",
    "- Среднее значение: не привышает лимит\n",
    "- Клиенты склонны превышать лимит по длительности звонков\n",
    "- Много звонков\n",
    "\n",
    "##### **Тариф ультра**\n",
    "- Среднее значение: не превышает лимит\n",
    "- Дисперсия: Значительно преобладает над значениями тарифа смарт\n",
    "- Стандартное отклонение: в марте значение максимальное\n",
    "- Клиенты **не** склонны превышать лимит по длительности звонков\n",
    "\n",
    "Звонки по тарифу ультра по длительности предобладают над звонками по тарифу смарт. Наибольшая длителельность по обоим тарифам наблюдается в декабре. Возможно, это обусловленно новогодними праздниками.\n",
    "\n",
    "##### Распределение \n",
    "- Скошено вправо, биноминальное\n",
    "- Количество звонков по тарифу смарт значительно превышает количество звонков по тарифу ультра"
   ]
  },
  {
   "cell_type": "markdown",
   "metadata": {},
   "source": [
    "### Количество сообщений в месяц"
   ]
  },
  {
   "cell_type": "code",
   "execution_count": 45,
   "metadata": {
    "scrolled": false
   },
   "outputs": [
    {
     "data": {
      "text/html": [
       "<style  type=\"text/css\" >\n",
       "#T_b58e3_row0_col0,#T_b58e3_row0_col1,#T_b58e3_row0_col2{\n",
       "            background-color:  #f7fcf5;\n",
       "            color:  #000000;\n",
       "        }#T_b58e3_row1_col0,#T_b58e3_row3_col1{\n",
       "            background-color:  #e2f4dd;\n",
       "            color:  #000000;\n",
       "        }#T_b58e3_row1_col1,#T_b58e3_row13_col0{\n",
       "            background-color:  #ebf7e7;\n",
       "            color:  #000000;\n",
       "        }#T_b58e3_row1_col2{\n",
       "            background-color:  #def2d9;\n",
       "            color:  #000000;\n",
       "        }#T_b58e3_row2_col0{\n",
       "            background-color:  #b1e0ab;\n",
       "            color:  #000000;\n",
       "        }#T_b58e3_row2_col1,#T_b58e3_row13_col1{\n",
       "            background-color:  #d7efd1;\n",
       "            color:  #000000;\n",
       "        }#T_b58e3_row2_col2,#T_b58e3_row3_col0,#T_b58e3_row13_col2{\n",
       "            background-color:  #bae3b3;\n",
       "            color:  #000000;\n",
       "        }#T_b58e3_row3_col2{\n",
       "            background-color:  #cbebc5;\n",
       "            color:  #000000;\n",
       "        }#T_b58e3_row4_col0,#T_b58e3_row6_col0,#T_b58e3_row7_col0,#T_b58e3_row8_col0,#T_b58e3_row9_col0,#T_b58e3_row12_col0{\n",
       "            background-color:  #a4da9e;\n",
       "            color:  #000000;\n",
       "        }#T_b58e3_row4_col1{\n",
       "            background-color:  #d5efcf;\n",
       "            color:  #000000;\n",
       "        }#T_b58e3_row4_col2{\n",
       "            background-color:  #b7e2b1;\n",
       "            color:  #000000;\n",
       "        }#T_b58e3_row5_col0,#T_b58e3_row7_col2{\n",
       "            background-color:  #a7dba0;\n",
       "            color:  #000000;\n",
       "        }#T_b58e3_row5_col1,#T_b58e3_row10_col1{\n",
       "            background-color:  #cdecc7;\n",
       "            color:  #000000;\n",
       "        }#T_b58e3_row5_col2,#T_b58e3_row10_col2{\n",
       "            background-color:  #abdda5;\n",
       "            color:  #000000;\n",
       "        }#T_b58e3_row6_col1{\n",
       "            background-color:  #ceecc8;\n",
       "            color:  #000000;\n",
       "        }#T_b58e3_row6_col2{\n",
       "            background-color:  #acdea6;\n",
       "            color:  #000000;\n",
       "        }#T_b58e3_row7_col1{\n",
       "            background-color:  #cbeac4;\n",
       "            color:  #000000;\n",
       "        }#T_b58e3_row8_col1{\n",
       "            background-color:  #cfecc9;\n",
       "            color:  #000000;\n",
       "        }#T_b58e3_row8_col2{\n",
       "            background-color:  #aedea7;\n",
       "            color:  #000000;\n",
       "        }#T_b58e3_row9_col1{\n",
       "            background-color:  #ccebc6;\n",
       "            color:  #000000;\n",
       "        }#T_b58e3_row9_col2{\n",
       "            background-color:  #aadda4;\n",
       "            color:  #000000;\n",
       "        }#T_b58e3_row10_col0{\n",
       "            background-color:  #a2d99c;\n",
       "            color:  #000000;\n",
       "        }#T_b58e3_row11_col0{\n",
       "            background-color:  #91d28e;\n",
       "            color:  #000000;\n",
       "        }#T_b58e3_row11_col1{\n",
       "            background-color:  #c0e6b9;\n",
       "            color:  #000000;\n",
       "        }#T_b58e3_row11_col2,#T_b58e3_row12_col2{\n",
       "            background-color:  #97d492;\n",
       "            color:  #000000;\n",
       "        }#T_b58e3_row12_col1{\n",
       "            background-color:  #bee5b8;\n",
       "            color:  #000000;\n",
       "        }#T_b58e3_row14_col0{\n",
       "            background-color:  #afdfa8;\n",
       "            color:  #000000;\n",
       "        }#T_b58e3_row14_col1{\n",
       "            background-color:  #4aaf61;\n",
       "            color:  #000000;\n",
       "        }#T_b58e3_row14_col2,#T_b58e3_row19_col0{\n",
       "            background-color:  #2c944c;\n",
       "            color:  #000000;\n",
       "        }#T_b58e3_row15_col0{\n",
       "            background-color:  #b4e1ad;\n",
       "            color:  #000000;\n",
       "        }#T_b58e3_row15_col1{\n",
       "            background-color:  #7fc97f;\n",
       "            color:  #000000;\n",
       "        }#T_b58e3_row15_col2{\n",
       "            background-color:  #4db163;\n",
       "            color:  #000000;\n",
       "        }#T_b58e3_row16_col0{\n",
       "            background-color:  #81ca81;\n",
       "            color:  #000000;\n",
       "        }#T_b58e3_row16_col1{\n",
       "            background-color:  #5bb86a;\n",
       "            color:  #000000;\n",
       "        }#T_b58e3_row16_col2{\n",
       "            background-color:  #359e53;\n",
       "            color:  #000000;\n",
       "        }#T_b58e3_row17_col0{\n",
       "            background-color:  #5eb96b;\n",
       "            color:  #000000;\n",
       "        }#T_b58e3_row17_col1{\n",
       "            background-color:  #2d954d;\n",
       "            color:  #000000;\n",
       "        }#T_b58e3_row17_col2{\n",
       "            background-color:  #16803c;\n",
       "            color:  #f1f1f1;\n",
       "        }#T_b58e3_row18_col0{\n",
       "            background-color:  #248c46;\n",
       "            color:  #000000;\n",
       "        }#T_b58e3_row18_col1{\n",
       "            background-color:  #026f2e;\n",
       "            color:  #f1f1f1;\n",
       "        }#T_b58e3_row18_col2,#T_b58e3_row22_col1{\n",
       "            background-color:  #006227;\n",
       "            color:  #f1f1f1;\n",
       "        }#T_b58e3_row19_col1{\n",
       "            background-color:  #19833e;\n",
       "            color:  #f1f1f1;\n",
       "        }#T_b58e3_row19_col2{\n",
       "            background-color:  #077331;\n",
       "            color:  #f1f1f1;\n",
       "        }#T_b58e3_row20_col0{\n",
       "            background-color:  #147e3a;\n",
       "            color:  #f1f1f1;\n",
       "        }#T_b58e3_row20_col1{\n",
       "            background-color:  #1c8540;\n",
       "            color:  #000000;\n",
       "        }#T_b58e3_row20_col2{\n",
       "            background-color:  #087432;\n",
       "            color:  #f1f1f1;\n",
       "        }#T_b58e3_row21_col0{\n",
       "            background-color:  #005522;\n",
       "            color:  #f1f1f1;\n",
       "        }#T_b58e3_row21_col1,#T_b58e3_row21_col2,#T_b58e3_row23_col0{\n",
       "            background-color:  #00441b;\n",
       "            color:  #f1f1f1;\n",
       "        }#T_b58e3_row22_col0{\n",
       "            background-color:  #00692a;\n",
       "            color:  #f1f1f1;\n",
       "        }#T_b58e3_row22_col2{\n",
       "            background-color:  #005723;\n",
       "            color:  #f1f1f1;\n",
       "        }#T_b58e3_row23_col1,#T_b58e3_row23_col2{\n",
       "            background-color:  #00451c;\n",
       "            color:  #f1f1f1;\n",
       "        }</style><table id=\"T_b58e3_\" ><caption>Количество сообщений в месяц</caption><thead>    <tr>        <th class=\"blank\" ></th>        <th class=\"blank level0\" ></th>        <th class=\"col_heading level0 col0\" >mean</th>        <th class=\"col_heading level0 col1\" >var</th>        <th class=\"col_heading level0 col2\" >std</th>    </tr>    <tr>        <th class=\"index_name level0\" >tariff</th>        <th class=\"index_name level1\" >month</th>        <th class=\"blank\" ></th>        <th class=\"blank\" ></th>        <th class=\"blank\" ></th>    </tr></thead><tbody>\n",
       "                <tr>\n",
       "                        <th id=\"T_b58e3_level0_row0\" class=\"row_heading level0 row0\" rowspan=\"12\">smart</th>\n",
       "                        <th id=\"T_b58e3_level1_row0\" class=\"row_heading level1 row0\" >1</th>\n",
       "                        <td id=\"T_b58e3_row0_col0\" class=\"data row0 col0\" >18.235294</td>\n",
       "                        <td id=\"T_b58e3_row0_col1\" class=\"data row0 col1\" >262.367201</td>\n",
       "                        <td id=\"T_b58e3_row0_col2\" class=\"data row0 col2\" >16.197753</td>\n",
       "            </tr>\n",
       "            <tr>\n",
       "                                <th id=\"T_b58e3_level1_row1\" class=\"row_heading level1 row1\" >2</th>\n",
       "                        <td id=\"T_b58e3_row1_col0\" class=\"data row1 col0\" >24.086207</td>\n",
       "                        <td id=\"T_b58e3_row1_col1\" class=\"data row1 col1\" >473.097701</td>\n",
       "                        <td id=\"T_b58e3_row1_col2\" class=\"data row1 col2\" >21.750809</td>\n",
       "            </tr>\n",
       "            <tr>\n",
       "                                <th id=\"T_b58e3_level1_row2\" class=\"row_heading level1 row2\" >3</th>\n",
       "                        <td id=\"T_b58e3_row2_col0\" class=\"data row2 col0\" >31.857143</td>\n",
       "                        <td id=\"T_b58e3_row2_col1\" class=\"data row2 col1\" >718.492481</td>\n",
       "                        <td id=\"T_b58e3_row2_col2\" class=\"data row2 col2\" >26.804710</td>\n",
       "            </tr>\n",
       "            <tr>\n",
       "                                <th id=\"T_b58e3_level1_row3\" class=\"row_heading level1 row3\" >4</th>\n",
       "                        <td id=\"T_b58e3_row3_col0\" class=\"data row3 col0\" >30.741071</td>\n",
       "                        <td id=\"T_b58e3_row3_col1\" class=\"data row3 col1\" >602.139559</td>\n",
       "                        <td id=\"T_b58e3_row3_col2\" class=\"data row3 col2\" >24.538532</td>\n",
       "            </tr>\n",
       "            <tr>\n",
       "                                <th id=\"T_b58e3_level1_row4\" class=\"row_heading level1 row4\" >5</th>\n",
       "                        <td id=\"T_b58e3_row4_col0\" class=\"data row4 col0\" >33.773050</td>\n",
       "                        <td id=\"T_b58e3_row4_col1\" class=\"data row4 col1\" >730.990983</td>\n",
       "                        <td id=\"T_b58e3_row4_col2\" class=\"data row4 col2\" >27.036845</td>\n",
       "            </tr>\n",
       "            <tr>\n",
       "                                <th id=\"T_b58e3_level1_row5\" class=\"row_heading level1 row5\" >6</th>\n",
       "                        <td id=\"T_b58e3_row5_col0\" class=\"data row5 col0\" >33.402439</td>\n",
       "                        <td id=\"T_b58e3_row5_col1\" class=\"data row5 col1\" >806.806374</td>\n",
       "                        <td id=\"T_b58e3_row5_col2\" class=\"data row5 col2\" >28.404337</td>\n",
       "            </tr>\n",
       "            <tr>\n",
       "                                <th id=\"T_b58e3_level1_row6\" class=\"row_heading level1 row6\" >7</th>\n",
       "                        <td id=\"T_b58e3_row6_col0\" class=\"data row6 col0\" >33.751244</td>\n",
       "                        <td id=\"T_b58e3_row6_col1\" class=\"data row6 col1\" >799.887811</td>\n",
       "                        <td id=\"T_b58e3_row6_col2\" class=\"data row6 col2\" >28.282288</td>\n",
       "            </tr>\n",
       "            <tr>\n",
       "                                <th id=\"T_b58e3_level1_row7\" class=\"row_heading level1 row7\" >8</th>\n",
       "                        <td id=\"T_b58e3_row7_col0\" class=\"data row7 col0\" >33.638298</td>\n",
       "                        <td id=\"T_b58e3_row7_col1\" class=\"data row7 col1\" >838.257501</td>\n",
       "                        <td id=\"T_b58e3_row7_col2\" class=\"data row7 col2\" >28.952677</td>\n",
       "            </tr>\n",
       "            <tr>\n",
       "                                <th id=\"T_b58e3_level1_row8\" class=\"row_heading level1 row8\" >9</th>\n",
       "                        <td id=\"T_b58e3_row8_col0\" class=\"data row8 col0\" >33.638462</td>\n",
       "                        <td id=\"T_b58e3_row8_col1\" class=\"data row8 col1\" >790.617820</td>\n",
       "                        <td id=\"T_b58e3_row8_col2\" class=\"data row8 col2\" >28.117927</td>\n",
       "            </tr>\n",
       "            <tr>\n",
       "                                <th id=\"T_b58e3_level1_row9\" class=\"row_heading level1 row9\" >10</th>\n",
       "                        <td id=\"T_b58e3_row9_col0\" class=\"data row9 col0\" >33.765306</td>\n",
       "                        <td id=\"T_b58e3_row9_col1\" class=\"data row9 col1\" >816.111966</td>\n",
       "                        <td id=\"T_b58e3_row9_col2\" class=\"data row9 col2\" >28.567673</td>\n",
       "            </tr>\n",
       "            <tr>\n",
       "                                <th id=\"T_b58e3_level1_row10\" class=\"row_heading level1 row10\" >11</th>\n",
       "                        <td id=\"T_b58e3_row10_col0\" class=\"data row10 col0\" >34.075949</td>\n",
       "                        <td id=\"T_b58e3_row10_col1\" class=\"data row10 col1\" >805.937071</td>\n",
       "                        <td id=\"T_b58e3_row10_col2\" class=\"data row10 col2\" >28.389031</td>\n",
       "            </tr>\n",
       "            <tr>\n",
       "                                <th id=\"T_b58e3_level1_row11\" class=\"row_heading level1 row11\" >12</th>\n",
       "                        <td id=\"T_b58e3_row11_col0\" class=\"data row11 col0\" >35.994065</td>\n",
       "                        <td id=\"T_b58e3_row11_col1\" class=\"data row11 col1\" >934.952346</td>\n",
       "                        <td id=\"T_b58e3_row11_col2\" class=\"data row11 col2\" >30.576990</td>\n",
       "            </tr>\n",
       "            <tr>\n",
       "                        <th id=\"T_b58e3_level0_row12\" class=\"row_heading level0 row12\" rowspan=\"12\">ultra</th>\n",
       "                        <th id=\"T_b58e3_level1_row12\" class=\"row_heading level1 row12\" >1</th>\n",
       "                        <td id=\"T_b58e3_row12_col0\" class=\"data row12 col0\" >33.777778</td>\n",
       "                        <td id=\"T_b58e3_row12_col1\" class=\"data row12 col1\" >940.694444</td>\n",
       "                        <td id=\"T_b58e3_row12_col2\" class=\"data row12 col2\" >30.670742</td>\n",
       "            </tr>\n",
       "            <tr>\n",
       "                                <th id=\"T_b58e3_level1_row13\" class=\"row_heading level1 row13\" >2</th>\n",
       "                        <td id=\"T_b58e3_row13_col0\" class=\"data row13 col0\" >21.958333</td>\n",
       "                        <td id=\"T_b58e3_row13_col1\" class=\"data row13 col1\" >716.824275</td>\n",
       "                        <td id=\"T_b58e3_row13_col2\" class=\"data row13 col2\" >26.773574</td>\n",
       "            </tr>\n",
       "            <tr>\n",
       "                                <th id=\"T_b58e3_level1_row14\" class=\"row_heading level1 row14\" >3</th>\n",
       "                        <td id=\"T_b58e3_row14_col0\" class=\"data row14 col0\" >32.297297</td>\n",
       "                        <td id=\"T_b58e3_row14_col1\" class=\"data row14 col1\" >1732.381381</td>\n",
       "                        <td id=\"T_b58e3_row14_col2\" class=\"data row14 col2\" >41.621886</td>\n",
       "            </tr>\n",
       "            <tr>\n",
       "                                <th id=\"T_b58e3_level1_row15\" class=\"row_heading level1 row15\" >4</th>\n",
       "                        <td id=\"T_b58e3_row15_col0\" class=\"data row15 col0\" >31.563636</td>\n",
       "                        <td id=\"T_b58e3_row15_col1\" class=\"data row15 col1\" >1407.287542</td>\n",
       "                        <td id=\"T_b58e3_row15_col2\" class=\"data row15 col2\" >37.513831</td>\n",
       "            </tr>\n",
       "            <tr>\n",
       "                                <th id=\"T_b58e3_level1_row16\" class=\"row_heading level1 row16\" >5</th>\n",
       "                        <td id=\"T_b58e3_row16_col0\" class=\"data row16 col0\" >37.850746</td>\n",
       "                        <td id=\"T_b58e3_row16_col1\" class=\"data row16 col1\" >1624.644052</td>\n",
       "                        <td id=\"T_b58e3_row16_col2\" class=\"data row16 col2\" >40.306874</td>\n",
       "            </tr>\n",
       "            <tr>\n",
       "                                <th id=\"T_b58e3_level1_row17\" class=\"row_heading level1 row17\" >6</th>\n",
       "                        <td id=\"T_b58e3_row17_col0\" class=\"data row17 col0\" >41.726190</td>\n",
       "                        <td id=\"T_b58e3_row17_col1\" class=\"data row17 col1\" >1986.297619</td>\n",
       "                        <td id=\"T_b58e3_row17_col2\" class=\"data row17 col2\" >44.567899</td>\n",
       "            </tr>\n",
       "            <tr>\n",
       "                                <th id=\"T_b58e3_level1_row18\" class=\"row_heading level1 row18\" >7</th>\n",
       "                        <td id=\"T_b58e3_row18_col0\" class=\"data row18 col0\" >49.846154</td>\n",
       "                        <td id=\"T_b58e3_row18_col1\" class=\"data row18 col1\" >2372.042735</td>\n",
       "                        <td id=\"T_b58e3_row18_col2\" class=\"data row18 col2\" >48.703621</td>\n",
       "            </tr>\n",
       "            <tr>\n",
       "                                <th id=\"T_b58e3_level1_row19\" class=\"row_heading level1 row19\" >8</th>\n",
       "                        <td id=\"T_b58e3_row19_col0\" class=\"data row19 col0\" >48.439252</td>\n",
       "                        <td id=\"T_b58e3_row19_col1\" class=\"data row19 col1\" >2171.739199</td>\n",
       "                        <td id=\"T_b58e3_row19_col2\" class=\"data row19 col2\" >46.601923</td>\n",
       "            </tr>\n",
       "            <tr>\n",
       "                                <th id=\"T_b58e3_level1_row20\" class=\"row_heading level1 row20\" >9</th>\n",
       "                        <td id=\"T_b58e3_row20_col0\" class=\"data row20 col0\" >52.286957</td>\n",
       "                        <td id=\"T_b58e3_row20_col1\" class=\"data row20 col1\" >2152.855530</td>\n",
       "                        <td id=\"T_b58e3_row20_col2\" class=\"data row20 col2\" >46.398874</td>\n",
       "            </tr>\n",
       "            <tr>\n",
       "                                <th id=\"T_b58e3_level1_row21\" class=\"row_heading level1 row21\" >10</th>\n",
       "                        <td id=\"T_b58e3_row21_col0\" class=\"data row21 col0\" >58.430894</td>\n",
       "                        <td id=\"T_b58e3_row21_col1\" class=\"data row21 col1\" >2697.181661</td>\n",
       "                        <td id=\"T_b58e3_row21_col2\" class=\"data row21 col2\" >51.934398</td>\n",
       "            </tr>\n",
       "            <tr>\n",
       "                                <th id=\"T_b58e3_level1_row22\" class=\"row_heading level1 row22\" >11</th>\n",
       "                        <td id=\"T_b58e3_row22_col0\" class=\"data row22 col0\" >55.791045</td>\n",
       "                        <td id=\"T_b58e3_row22_col1\" class=\"data row22 col1\" >2476.948491</td>\n",
       "                        <td id=\"T_b58e3_row22_col2\" class=\"data row22 col2\" >49.768951</td>\n",
       "            </tr>\n",
       "            <tr>\n",
       "                                <th id=\"T_b58e3_level1_row23\" class=\"row_heading level1 row23\" >12</th>\n",
       "                        <td id=\"T_b58e3_row23_col0\" class=\"data row23 col0\" >60.611511</td>\n",
       "                        <td id=\"T_b58e3_row23_col1\" class=\"data row23 col1\" >2681.978417</td>\n",
       "                        <td id=\"T_b58e3_row23_col2\" class=\"data row23 col2\" >51.787821</td>\n",
       "            </tr>\n",
       "    </tbody></table>"
      ],
      "text/plain": [
       "<pandas.io.formats.style.Styler at 0x7efddeb49850>"
      ]
     },
     "execution_count": 45,
     "metadata": {},
     "output_type": "execute_result"
    }
   ],
   "source": [
    "# Посчитаем среднее количество, дисперсию и стандартное отклонение.\n",
    "df_values_sms = df_values.pivot_table(index=['tariff','month'],\n",
    "                             values='sms_count',\n",
    "                             aggfunc=['mean', 'var', 'std'])\n",
    "df_values_sms.columns = ['mean', 'var', 'std']\n",
    "df_values_sms.reset_index()\n",
    "df_values_sms.style.background_gradient(cmap = 'Greens').set_caption(\"Количество сообщений в месяц\")\n",
    "#df_values_sms"
   ]
  },
  {
   "cell_type": "markdown",
   "metadata": {},
   "source": [
    "### Количество сообщений за год "
   ]
  },
  {
   "cell_type": "code",
   "execution_count": 46,
   "metadata": {},
   "outputs": [
    {
     "data": {
      "text/html": [
       "<style  type=\"text/css\" >\n",
       "#T_d2b00_row0_col0,#T_d2b00_row0_col1,#T_d2b00_row0_col2{\n",
       "            background-color:  #f7fcf5;\n",
       "            color:  #000000;\n",
       "        }#T_d2b00_row1_col0,#T_d2b00_row1_col1,#T_d2b00_row1_col2{\n",
       "            background-color:  #00441b;\n",
       "            color:  #f1f1f1;\n",
       "        }</style><table id=\"T_d2b00_\" ><caption>Количество сообщений за год</caption><thead>    <tr>        <th class=\"blank level0\" ></th>        <th class=\"col_heading level0 col0\" >mean</th>        <th class=\"col_heading level0 col1\" >var</th>        <th class=\"col_heading level0 col2\" >std</th>    </tr>    <tr>        <th class=\"index_name level0\" >tariff</th>        <th class=\"blank\" ></th>        <th class=\"blank\" ></th>        <th class=\"blank\" ></th>    </tr></thead><tbody>\n",
       "                <tr>\n",
       "                        <th id=\"T_d2b00_level0_row0\" class=\"row_heading level0 row0\" >smart</th>\n",
       "                        <td id=\"T_d2b00_row0_col0\" class=\"data row0 col0\" >33.384029</td>\n",
       "                        <td id=\"T_d2b00_row0_col1\" class=\"data row0 col1\" >796.812958</td>\n",
       "                        <td id=\"T_d2b00_row0_col2\" class=\"data row0 col2\" >28.227876</td>\n",
       "            </tr>\n",
       "            <tr>\n",
       "                        <th id=\"T_d2b00_level0_row1\" class=\"row_heading level0 row1\" >ultra</th>\n",
       "                        <td id=\"T_d2b00_row1_col0\" class=\"data row1 col0\" >49.363452</td>\n",
       "                        <td id=\"T_d2b00_row1_col1\" class=\"data row1 col1\" >2285.266143</td>\n",
       "                        <td id=\"T_d2b00_row1_col2\" class=\"data row1 col2\" >47.804457</td>\n",
       "            </tr>\n",
       "    </tbody></table>"
      ],
      "text/plain": [
       "<pandas.io.formats.style.Styler at 0x7efddeda9550>"
      ]
     },
     "execution_count": 46,
     "metadata": {},
     "output_type": "execute_result"
    }
   ],
   "source": [
    "# Посчитаем среднее количество, дисперсию и стандартное отклонение.\n",
    "df_values_sms_year = df_values.pivot_table(index=['tariff'],\n",
    "                             values='sms_count',\n",
    "                             aggfunc=['mean', 'var', 'std'])\n",
    "df_values_sms_year.columns = ['mean', 'var', 'std']\n",
    "df_values_sms_year.reset_index()\n",
    "df_values_sms_year.style.background_gradient(cmap = 'Greens').set_caption(\"Количество сообщений за год\")\n",
    "#df_values_calls"
   ]
  },
  {
   "cell_type": "markdown",
   "metadata": {},
   "source": [
    "#### Наблюдения\n",
    "\n",
    "##### **Тариф смарт**\n",
    "- Среднее значение: не превышает лимит\n",
    "- Дисперсия: наибольшие значения к концу года\n",
    "- Стандартное отклонение:аномалий не обнаружено\n",
    "\n",
    "##### **Тариф ультра**\n",
    "- Среднее значение: не превышает лимит\n",
    "- Дисперсия: высокие значения к концу года, наибольшее значение в октябре\n",
    "- Стандартное отклонение: аномалий не обнаружено, максимальное значение в октябре \n",
    " \n",
    "Смс по тарифу ультра по по среднему количеству предобладают над звонками по тарифу смарт. Наибольшее количество по обоим тарифам наблюдается в декабре. Возможно, это обусловленно новогодними праздниками.\n"
   ]
  },
  {
   "cell_type": "markdown",
   "metadata": {},
   "source": [
    "#### Гистограмма распределение количества сообщений "
   ]
  },
  {
   "cell_type": "code",
   "execution_count": 47,
   "metadata": {
    "scrolled": false
   },
   "outputs": [
    {
     "data": {
      "image/png": "[encoded data removed]",
      "text/plain": [
       "<Figure size 864x504 with 1 Axes>"
      ]
     },
     "metadata": {
      "needs_background": "light"
     },
     "output_type": "display_data"
    }
   ],
   "source": [
    "df_ultra['sms_count'].hist(bins=40, \n",
    "                             alpha=0.3, \n",
    "                             label='ultra',\n",
    "                          figsize=(12,7),\n",
    "                       ec='grey')\n",
    "df_smart['sms_count'].hist(bins=40,\n",
    "                             alpha=0.3,\n",
    "                             label='smart',\n",
    "                          figsize=(12,7),\n",
    "                       ec='grey')\n",
    "plt.legend()\n",
    "plt.title('Распределение количества сообщений')\n",
    "plt.xlabel(\"Количество сообщений\")\n",
    "plt.ylabel(\"Количество клиентов\")\n",
    "plt.show()"
   ]
  },
  {
   "cell_type": "markdown",
   "metadata": {},
   "source": [
    "#### Наблюдения\n",
    "\n",
    "- Биноминальное распределение скошено вправо\n",
    "- Количество сообщений по тарифу смарт превышает количество сообщений по тарифу ультра"
   ]
  },
  {
   "cell_type": "markdown",
   "metadata": {},
   "source": [
    "#### Гистограмма распределения количества сообщений между переплатившими и непереплатившими"
   ]
  },
  {
   "cell_type": "code",
   "execution_count": 48,
   "metadata": {},
   "outputs": [
    {
     "data": {
      "image/png": "[encoded data removed]",
      "text/plain": [
       "<Figure size 864x504 with 2 Axes>"
      ]
     },
     "metadata": {
      "needs_background": "light"
     },
     "output_type": "display_data"
    }
   ],
   "source": [
    "plt.subplot(2, 2, 1)\n",
    "df_smart['sms_count'].hist(bins=40, \n",
    "                             alpha=0.3, \n",
    "                             label='smart',\n",
    "                             figsize=(12,7),\n",
    "                       ec='grey'\n",
    "                            )\n",
    "df_smart_sms_extra = df_smart.query('sms_count > 50')\n",
    "df_smart_sms_extra['sms_count'].hist(bins=40, \n",
    "                             alpha=0.3, \n",
    "                             label='smart_extra',\n",
    "                             figsize=(12,7),\n",
    "                       ec='grey'\n",
    "                            )\n",
    "plt.legend()\n",
    "plt.xlabel(\"Количество сообщений\")\n",
    "plt.ylabel(\"Количество клиентов\")\n",
    "plt.title('Распределение количества сообщений по тарифам смарт и ультра между видами абонентов')\n",
    "plt.subplot(2, 2, 2)\n",
    "df_ultra['minutes_sum'].hist(bins=40, \n",
    "                             alpha=0.3, \n",
    "                             label='ultra',\n",
    "                             figsize=(12,7),\n",
    "                       ec='grey'\n",
    "                            )\n",
    "df_ultra_sms_extra = df_ultra.query('sms_count > 1000')\n",
    "df_ultra_sms_extra['sms_count'].hist(bins=40, \n",
    "                             alpha=0.3, \n",
    "                             label='ultra_extra',\n",
    "                             figsize=(12,7),\n",
    "                       ec='grey'\n",
    "                            )\n",
    "plt.xlabel(\"Количество сообщений\")\n",
    "plt.ylabel(\"Количество клиентов\")\n",
    "plt.legend()\n",
    "#plt.title('Распределение длительности звоноков по тарифам смарт и ультра между видами абонентов')\n",
    "plt.show()"
   ]
  },
  {
   "cell_type": "markdown",
   "metadata": {},
   "source": [
    "#### Наблюдения\n",
    "\n",
    "\n",
    "##### **Тариф смарт**\n",
    "- Клиенты склонны превышать лимит по сообщениям\n",
    "\n",
    "##### **Тариф ультра**\n",
    "- Клиенты не склонны превышать лимит по сообщениям"
   ]
  },
  {
   "cell_type": "markdown",
   "metadata": {},
   "source": [
    "#### Вывод по количеству сообщений\n",
    "\n",
    "##### **Тариф смарт**\n",
    "- Среднее значение: не превышает лимит\n",
    "- Дисперсия: наибольшие значения к концу года\n",
    "- Клиенты склонны превышать лимит по сообщениям\n",
    "\n",
    "##### **Тариф ультра**\n",
    "- Среднее значение: не превышает лимит\n",
    "- Дисперсия: высокие значения к концу года, наибольшее значение в октябре\n",
    "- Стандартное отклонение: аномалий не обнаружено, максимальное значение в октябре \n",
    "- Клиенты **не** склонны превышать лимит по сообщениям\n",
    " \n",
    "Смс по тарифу ультра по по среднему количество предобладают над звонками по тарифу смарт. Наибольшее количество по обоим тарифам наблюдается в декабре. Возможно, это обусловленно новогодними праздниками.\n",
    "\n",
    "##### Распределение \n",
    "- Биноминальное распределение скошено вправо\n",
    "- Количество сообщений по тарифу смарт превышает количество сообщений по тарифу ультра"
   ]
  },
  {
   "cell_type": "markdown",
   "metadata": {},
   "source": [
    "### Объем интернет - трафика в месяц"
   ]
  },
  {
   "cell_type": "code",
   "execution_count": 49,
   "metadata": {
    "scrolled": false
   },
   "outputs": [
    {
     "data": {
      "text/html": [
       "<style  type=\"text/css\" >\n",
       "#T_83d49_row0_col0,#T_83d49_row8_col1,#T_83d49_row8_col2{\n",
       "            background-color:  #f7fcf5;\n",
       "            color:  #000000;\n",
       "        }#T_83d49_row0_col1{\n",
       "            background-color:  #def2d9;\n",
       "            color:  #000000;\n",
       "        }#T_83d49_row0_col2{\n",
       "            background-color:  #d0edca;\n",
       "            color:  #000000;\n",
       "        }#T_83d49_row1_col0{\n",
       "            background-color:  #caeac3;\n",
       "            color:  #000000;\n",
       "        }#T_83d49_row1_col1{\n",
       "            background-color:  #e5f5e0;\n",
       "            color:  #000000;\n",
       "        }#T_83d49_row1_col2{\n",
       "            background-color:  #d8f0d2;\n",
       "            color:  #000000;\n",
       "        }#T_83d49_row2_col0{\n",
       "            background-color:  #75c477;\n",
       "            color:  #000000;\n",
       "        }#T_83d49_row2_col1,#T_83d49_row9_col1{\n",
       "            background-color:  #ecf8e8;\n",
       "            color:  #000000;\n",
       "        }#T_83d49_row2_col2{\n",
       "            background-color:  #e7f6e3;\n",
       "            color:  #000000;\n",
       "        }#T_83d49_row3_col0{\n",
       "            background-color:  #a0d99b;\n",
       "            color:  #000000;\n",
       "        }#T_83d49_row3_col1{\n",
       "            background-color:  #eff9eb;\n",
       "            color:  #000000;\n",
       "        }#T_83d49_row3_col2{\n",
       "            background-color:  #eaf7e6;\n",
       "            color:  #000000;\n",
       "        }#T_83d49_row4_col0{\n",
       "            background-color:  #5eb96b;\n",
       "            color:  #000000;\n",
       "        }#T_83d49_row4_col1,#T_83d49_row5_col2{\n",
       "            background-color:  #e9f7e5;\n",
       "            color:  #000000;\n",
       "        }#T_83d49_row4_col2{\n",
       "            background-color:  #e2f4dd;\n",
       "            color:  #000000;\n",
       "        }#T_83d49_row5_col0{\n",
       "            background-color:  #5db96b;\n",
       "            color:  #000000;\n",
       "        }#T_83d49_row5_col1,#T_83d49_row7_col2{\n",
       "            background-color:  #edf8ea;\n",
       "            color:  #000000;\n",
       "        }#T_83d49_row6_col0{\n",
       "            background-color:  #60ba6c;\n",
       "            color:  #000000;\n",
       "        }#T_83d49_row6_col1{\n",
       "            background-color:  #ebf7e7;\n",
       "            color:  #000000;\n",
       "        }#T_83d49_row6_col2{\n",
       "            background-color:  #e5f5e1;\n",
       "            color:  #000000;\n",
       "        }#T_83d49_row7_col0{\n",
       "            background-color:  #45ad5f;\n",
       "            color:  #000000;\n",
       "        }#T_83d49_row7_col1{\n",
       "            background-color:  #f0f9ed;\n",
       "            color:  #000000;\n",
       "        }#T_83d49_row8_col0{\n",
       "            background-color:  #50b264;\n",
       "            color:  #000000;\n",
       "        }#T_83d49_row9_col0{\n",
       "            background-color:  #40aa5d;\n",
       "            color:  #000000;\n",
       "        }#T_83d49_row9_col2{\n",
       "            background-color:  #e7f6e2;\n",
       "            color:  #000000;\n",
       "        }#T_83d49_row10_col0{\n",
       "            background-color:  #3fa85b;\n",
       "            color:  #000000;\n",
       "        }#T_83d49_row10_col1{\n",
       "            background-color:  #f5fbf3;\n",
       "            color:  #000000;\n",
       "        }#T_83d49_row10_col2{\n",
       "            background-color:  #f4fbf2;\n",
       "            color:  #000000;\n",
       "        }#T_83d49_row11_col0{\n",
       "            background-color:  #289049;\n",
       "            color:  #000000;\n",
       "        }#T_83d49_row11_col1{\n",
       "            background-color:  #f1faee;\n",
       "            color:  #000000;\n",
       "        }#T_83d49_row11_col2{\n",
       "            background-color:  #eef8ea;\n",
       "            color:  #000000;\n",
       "        }#T_83d49_row12_col0{\n",
       "            background-color:  #aadda4;\n",
       "            color:  #000000;\n",
       "        }#T_83d49_row12_col1{\n",
       "            background-color:  #d1edcb;\n",
       "            color:  #000000;\n",
       "        }#T_83d49_row12_col2{\n",
       "            background-color:  #bde5b6;\n",
       "            color:  #000000;\n",
       "        }#T_83d49_row13_col0{\n",
       "            background-color:  #c7e9c0;\n",
       "            color:  #000000;\n",
       "        }#T_83d49_row13_col1{\n",
       "            background-color:  #005723;\n",
       "            color:  #f1f1f1;\n",
       "        }#T_83d49_row13_col2{\n",
       "            background-color:  #005221;\n",
       "            color:  #f1f1f1;\n",
       "        }#T_83d49_row14_col0{\n",
       "            background-color:  #329b51;\n",
       "            color:  #000000;\n",
       "        }#T_83d49_row14_col1,#T_83d49_row14_col2,#T_83d49_row23_col0{\n",
       "            background-color:  #00441b;\n",
       "            color:  #f1f1f1;\n",
       "        }#T_83d49_row15_col0{\n",
       "            background-color:  #3fa95c;\n",
       "            color:  #000000;\n",
       "        }#T_83d49_row15_col1{\n",
       "            background-color:  #2b934b;\n",
       "            color:  #000000;\n",
       "        }#T_83d49_row15_col2{\n",
       "            background-color:  #1a843f;\n",
       "            color:  #000000;\n",
       "        }#T_83d49_row16_col0,#T_83d49_row22_col2{\n",
       "            background-color:  #107a37;\n",
       "            color:  #f1f1f1;\n",
       "        }#T_83d49_row16_col1{\n",
       "            background-color:  #18823d;\n",
       "            color:  #f1f1f1;\n",
       "        }#T_83d49_row16_col2{\n",
       "            background-color:  #0a7633;\n",
       "            color:  #f1f1f1;\n",
       "        }#T_83d49_row17_col0{\n",
       "            background-color:  #19833e;\n",
       "            color:  #f1f1f1;\n",
       "        }#T_83d49_row17_col1{\n",
       "            background-color:  #3ea75a;\n",
       "            color:  #000000;\n",
       "        }#T_83d49_row17_col2{\n",
       "            background-color:  #2c944c;\n",
       "            color:  #000000;\n",
       "        }#T_83d49_row18_col0,#T_83d49_row23_col2{\n",
       "            background-color:  #006328;\n",
       "            color:  #f1f1f1;\n",
       "        }#T_83d49_row18_col1{\n",
       "            background-color:  #157f3b;\n",
       "            color:  #f1f1f1;\n",
       "        }#T_83d49_row18_col2{\n",
       "            background-color:  #087432;\n",
       "            color:  #f1f1f1;\n",
       "        }#T_83d49_row19_col0{\n",
       "            background-color:  #0b7734;\n",
       "            color:  #f1f1f1;\n",
       "        }#T_83d49_row19_col1{\n",
       "            background-color:  #006529;\n",
       "            color:  #f1f1f1;\n",
       "        }#T_83d49_row19_col2{\n",
       "            background-color:  #005e26;\n",
       "            color:  #f1f1f1;\n",
       "        }#T_83d49_row20_col0{\n",
       "            background-color:  #137d39;\n",
       "            color:  #f1f1f1;\n",
       "        }#T_83d49_row20_col1{\n",
       "            background-color:  #339c52;\n",
       "            color:  #000000;\n",
       "        }#T_83d49_row20_col2{\n",
       "            background-color:  #238b45;\n",
       "            color:  #000000;\n",
       "        }#T_83d49_row21_col0,#T_83d49_row23_col1{\n",
       "            background-color:  #006d2c;\n",
       "            color:  #f1f1f1;\n",
       "        }#T_83d49_row21_col1{\n",
       "            background-color:  #258d47;\n",
       "            color:  #000000;\n",
       "        }#T_83d49_row21_col2{\n",
       "            background-color:  #16803c;\n",
       "            color:  #f1f1f1;\n",
       "        }#T_83d49_row22_col0{\n",
       "            background-color:  #077331;\n",
       "            color:  #f1f1f1;\n",
       "        }#T_83d49_row22_col1{\n",
       "            background-color:  #1e8741;\n",
       "            color:  #000000;\n",
       "        }</style><table id=\"T_83d49_\" ><caption>Объем интернет - трафика в месяц</caption><thead>    <tr>        <th class=\"blank\" ></th>        <th class=\"blank level0\" ></th>        <th class=\"col_heading level0 col0\" >mean</th>        <th class=\"col_heading level0 col1\" >var</th>        <th class=\"col_heading level0 col2\" >std</th>    </tr>    <tr>        <th class=\"index_name level0\" >tariff</th>        <th class=\"index_name level1\" >month</th>        <th class=\"blank\" ></th>        <th class=\"blank\" ></th>        <th class=\"blank\" ></th>    </tr></thead><tbody>\n",
       "                <tr>\n",
       "                        <th id=\"T_83d49_level0_row0\" class=\"row_heading level0 row0\" rowspan=\"12\">smart</th>\n",
       "                        <th id=\"T_83d49_level1_row0\" class=\"row_heading level1 row0\" >1</th>\n",
       "                        <td id=\"T_83d49_row0_col0\" class=\"data row0 col0\" >8.735294</td>\n",
       "                        <td id=\"T_83d49_row0_col1\" class=\"data row0 col1\" >39.412656</td>\n",
       "                        <td id=\"T_83d49_row0_col2\" class=\"data row0 col2\" >6.277950</td>\n",
       "            </tr>\n",
       "            <tr>\n",
       "                                <th id=\"T_83d49_level1_row1\" class=\"row_heading level1 row1\" >2</th>\n",
       "                        <td id=\"T_83d49_row1_col0\" class=\"data row1 col0\" >11.844828</td>\n",
       "                        <td id=\"T_83d49_row1_col1\" class=\"data row1 col1\" >37.150938</td>\n",
       "                        <td id=\"T_83d49_row1_col2\" class=\"data row1 col2\" >6.095157</td>\n",
       "            </tr>\n",
       "            <tr>\n",
       "                                <th id=\"T_83d49_level1_row2\" class=\"row_heading level1 row2\" >3</th>\n",
       "                        <td id=\"T_83d49_row2_col0\" class=\"data row2 col0\" >15.233766</td>\n",
       "                        <td id=\"T_83d49_row2_col1\" class=\"data row2 col1\" >32.549897</td>\n",
       "                        <td id=\"T_83d49_row2_col2\" class=\"data row2 col2\" >5.705252</td>\n",
       "            </tr>\n",
       "            <tr>\n",
       "                                <th id=\"T_83d49_level1_row3\" class=\"row_heading level1 row3\" >4</th>\n",
       "                        <td id=\"T_83d49_row3_col0\" class=\"data row3 col0\" >13.625000</td>\n",
       "                        <td id=\"T_83d49_row3_col1\" class=\"data row3 col1\" >31.299550</td>\n",
       "                        <td id=\"T_83d49_row3_col2\" class=\"data row3 col2\" >5.594600</td>\n",
       "            </tr>\n",
       "            <tr>\n",
       "                                <th id=\"T_83d49_level1_row4\" class=\"row_heading level1 row4\" >5</th>\n",
       "                        <td id=\"T_83d49_row4_col0\" class=\"data row4 col0\" >15.907801</td>\n",
       "                        <td id=\"T_83d49_row4_col1\" class=\"data row4 col1\" >34.370010</td>\n",
       "                        <td id=\"T_83d49_row4_col2\" class=\"data row4 col2\" >5.862594</td>\n",
       "            </tr>\n",
       "            <tr>\n",
       "                                <th id=\"T_83d49_level1_row5\" class=\"row_heading level1 row5\" >6</th>\n",
       "                        <td id=\"T_83d49_row5_col0\" class=\"data row5 col0\" >15.951220</td>\n",
       "                        <td id=\"T_83d49_row5_col1\" class=\"data row5 col1\" >31.911716</td>\n",
       "                        <td id=\"T_83d49_row5_col2\" class=\"data row5 col2\" >5.649046</td>\n",
       "            </tr>\n",
       "            <tr>\n",
       "                                <th id=\"T_83d49_level1_row6\" class=\"row_heading level1 row6\" >7</th>\n",
       "                        <td id=\"T_83d49_row6_col0\" class=\"data row6 col0\" >15.875622</td>\n",
       "                        <td id=\"T_83d49_row6_col1\" class=\"data row6 col1\" >33.419453</td>\n",
       "                        <td id=\"T_83d49_row6_col2\" class=\"data row6 col2\" >5.780956</td>\n",
       "            </tr>\n",
       "            <tr>\n",
       "                                <th id=\"T_83d49_level1_row7\" class=\"row_heading level1 row7\" >8</th>\n",
       "                        <td id=\"T_83d49_row7_col0\" class=\"data row7 col0\" >16.736170</td>\n",
       "                        <td id=\"T_83d49_row7_col1\" class=\"data row7 col1\" >30.041207</td>\n",
       "                        <td id=\"T_83d49_row7_col2\" class=\"data row7 col2\" >5.480986</td>\n",
       "            </tr>\n",
       "            <tr>\n",
       "                                <th id=\"T_83d49_level1_row8\" class=\"row_heading level1 row8\" >9</th>\n",
       "                        <td id=\"T_83d49_row8_col0\" class=\"data row8 col0\" >16.392308</td>\n",
       "                        <td id=\"T_83d49_row8_col1\" class=\"data row8 col1\" >25.884110</td>\n",
       "                        <td id=\"T_83d49_row8_col2\" class=\"data row8 col2\" >5.087643</td>\n",
       "            </tr>\n",
       "            <tr>\n",
       "                                <th id=\"T_83d49_level1_row9\" class=\"row_heading level1 row9\" >10</th>\n",
       "                        <td id=\"T_83d49_row9_col0\" class=\"data row9 col0\" >16.880952</td>\n",
       "                        <td id=\"T_83d49_row9_col1\" class=\"data row9 col1\" >32.897042</td>\n",
       "                        <td id=\"T_83d49_row9_col2\" class=\"data row9 col2\" >5.735594</td>\n",
       "            </tr>\n",
       "            <tr>\n",
       "                                <th id=\"T_83d49_level1_row10\" class=\"row_heading level1 row10\" >11</th>\n",
       "                        <td id=\"T_83d49_row10_col0\" class=\"data row10 col0\" >17.000000</td>\n",
       "                        <td id=\"T_83d49_row10_col1\" class=\"data row10 col1\" >27.180952</td>\n",
       "                        <td id=\"T_83d49_row10_col2\" class=\"data row10 col2\" >5.213535</td>\n",
       "            </tr>\n",
       "            <tr>\n",
       "                                <th id=\"T_83d49_level1_row11\" class=\"row_heading level1 row11\" >12</th>\n",
       "                        <td id=\"T_83d49_row11_col0\" class=\"data row11 col0\" >18.201780</td>\n",
       "                        <td id=\"T_83d49_row11_col1\" class=\"data row11 col1\" >29.786544</td>\n",
       "                        <td id=\"T_83d49_row11_col2\" class=\"data row11 col2\" >5.457705</td>\n",
       "            </tr>\n",
       "            <tr>\n",
       "                        <th id=\"T_83d49_level0_row12\" class=\"row_heading level0 row12\" rowspan=\"12\">ultra</th>\n",
       "                        <th id=\"T_83d49_level1_row12\" class=\"row_heading level1 row12\" >1</th>\n",
       "                        <td id=\"T_83d49_row12_col0\" class=\"data row12 col0\" >13.222222</td>\n",
       "                        <td id=\"T_83d49_row12_col1\" class=\"data row12 col1\" >44.444444</td>\n",
       "                        <td id=\"T_83d49_row12_col2\" class=\"data row12 col2\" >6.666667</td>\n",
       "            </tr>\n",
       "            <tr>\n",
       "                                <th id=\"T_83d49_level1_row13\" class=\"row_heading level1 row13\" >2</th>\n",
       "                        <td id=\"T_83d49_row13_col0\" class=\"data row13 col0\" >12.000000</td>\n",
       "                        <td id=\"T_83d49_row13_col1\" class=\"data row13 col1\" >109.130435</td>\n",
       "                        <td id=\"T_83d49_row13_col2\" class=\"data row13 col2\" >10.446551</td>\n",
       "            </tr>\n",
       "            <tr>\n",
       "                                <th id=\"T_83d49_level1_row14\" class=\"row_heading level1 row14\" >3</th>\n",
       "                        <td id=\"T_83d49_row14_col0\" class=\"data row14 col0\" >17.648649</td>\n",
       "                        <td id=\"T_83d49_row14_col1\" class=\"data row14 col1\" >114.345345</td>\n",
       "                        <td id=\"T_83d49_row14_col2\" class=\"data row14 col2\" >10.693238</td>\n",
       "            </tr>\n",
       "            <tr>\n",
       "                                <th id=\"T_83d49_level1_row15\" class=\"row_heading level1 row15\" >4</th>\n",
       "                        <td id=\"T_83d49_row15_col0\" class=\"data row15 col0\" >16.963636</td>\n",
       "                        <td id=\"T_83d49_row15_col1\" class=\"data row15 col1\" >89.443098</td>\n",
       "                        <td id=\"T_83d49_row15_col2\" class=\"data row15 col2\" >9.457436</td>\n",
       "            </tr>\n",
       "            <tr>\n",
       "                                <th id=\"T_83d49_level1_row16\" class=\"row_heading level1 row16\" >5</th>\n",
       "                        <td id=\"T_83d49_row16_col0\" class=\"data row16 col0\" >19.373134</td>\n",
       "                        <td id=\"T_83d49_row16_col1\" class=\"data row16 col1\" >95.631389</td>\n",
       "                        <td id=\"T_83d49_row16_col2\" class=\"data row16 col2\" >9.779130</td>\n",
       "            </tr>\n",
       "            <tr>\n",
       "                                <th id=\"T_83d49_level1_row17\" class=\"row_heading level1 row17\" >6</th>\n",
       "                        <td id=\"T_83d49_row17_col0\" class=\"data row17 col0\" >18.940476</td>\n",
       "                        <td id=\"T_83d49_row17_col1\" class=\"data row17 col1\" >82.394005</td>\n",
       "                        <td id=\"T_83d49_row17_col2\" class=\"data row17 col2\" >9.077114</td>\n",
       "            </tr>\n",
       "            <tr>\n",
       "                                <th id=\"T_83d49_level1_row18\" class=\"row_heading level1 row18\" >7</th>\n",
       "                        <td id=\"T_83d49_row18_col0\" class=\"data row18 col0\" >20.505495</td>\n",
       "                        <td id=\"T_83d49_row18_col1\" class=\"data row18 col1\" >96.430525</td>\n",
       "                        <td id=\"T_83d49_row18_col2\" class=\"data row18 col2\" >9.819905</td>\n",
       "            </tr>\n",
       "            <tr>\n",
       "                                <th id=\"T_83d49_level1_row19\" class=\"row_heading level1 row19\" >8</th>\n",
       "                        <td id=\"T_83d49_row19_col0\" class=\"data row19 col0\" >19.598131</td>\n",
       "                        <td id=\"T_83d49_row19_col1\" class=\"data row19 col1\" >105.148298</td>\n",
       "                        <td id=\"T_83d49_row19_col2\" class=\"data row19 col2\" >10.254184</td>\n",
       "            </tr>\n",
       "            <tr>\n",
       "                                <th id=\"T_83d49_level1_row20\" class=\"row_heading level1 row20\" >9</th>\n",
       "                        <td id=\"T_83d49_row20_col0\" class=\"data row20 col0\" >19.243478</td>\n",
       "                        <td id=\"T_83d49_row20_col1\" class=\"data row20 col1\" >86.255988</td>\n",
       "                        <td id=\"T_83d49_row20_col2\" class=\"data row20 col2\" >9.287410</td>\n",
       "            </tr>\n",
       "            <tr>\n",
       "                                <th id=\"T_83d49_level1_row21\" class=\"row_heading level1 row21\" >10</th>\n",
       "                        <td id=\"T_83d49_row21_col0\" class=\"data row21 col0\" >20.065041</td>\n",
       "                        <td id=\"T_83d49_row21_col1\" class=\"data row21 col1\" >91.258030</td>\n",
       "                        <td id=\"T_83d49_row21_col2\" class=\"data row21 col2\" >9.552907</td>\n",
       "            </tr>\n",
       "            <tr>\n",
       "                                <th id=\"T_83d49_level1_row22\" class=\"row_heading level1 row22\" >11</th>\n",
       "                        <td id=\"T_83d49_row22_col0\" class=\"data row22 col0\" >19.805970</td>\n",
       "                        <td id=\"T_83d49_row22_col1\" class=\"data row22 col1\" >93.796656</td>\n",
       "                        <td id=\"T_83d49_row22_col2\" class=\"data row22 col2\" >9.684867</td>\n",
       "            </tr>\n",
       "            <tr>\n",
       "                                <th id=\"T_83d49_level1_row23\" class=\"row_heading level1 row23\" >12</th>\n",
       "                        <td id=\"T_83d49_row23_col0\" class=\"data row23 col0\" >21.741007</td>\n",
       "                        <td id=\"T_83d49_row23_col1\" class=\"data row23 col1\" >103.236784</td>\n",
       "                        <td id=\"T_83d49_row23_col2\" class=\"data row23 col2\" >10.160550</td>\n",
       "            </tr>\n",
       "    </tbody></table>"
      ],
      "text/plain": [
       "<pandas.io.formats.style.Styler at 0x7efddea52670>"
      ]
     },
     "execution_count": 49,
     "metadata": {},
     "output_type": "execute_result"
    }
   ],
   "source": [
    "# Посчитаем среднее количество, дисперсию и стандартное отклонение.\n",
    "df_values_internet = df_values.pivot_table(index=['tariff','month'],\n",
    "                             values='gb_used',\n",
    "                             aggfunc=['mean', 'var', 'std'])\n",
    "df_values_internet.columns = ['mean', 'var', 'std']\n",
    "df_values_internet.reset_index()\n",
    "df_values_internet.style.background_gradient(cmap = 'Greens').set_caption(\"Объем интернет - трафика в месяц\")\n",
    "#df_values_internet"
   ]
  },
  {
   "cell_type": "markdown",
   "metadata": {},
   "source": [
    "### Объем интернет трафика в год "
   ]
  },
  {
   "cell_type": "code",
   "execution_count": 50,
   "metadata": {},
   "outputs": [
    {
     "data": {
      "text/html": [
       "<style  type=\"text/css\" >\n",
       "#T_835f5_row0_col0,#T_835f5_row0_col1,#T_835f5_row0_col2{\n",
       "            background-color:  #f7fcf5;\n",
       "            color:  #000000;\n",
       "        }#T_835f5_row1_col0,#T_835f5_row1_col1,#T_835f5_row1_col2{\n",
       "            background-color:  #00441b;\n",
       "            color:  #f1f1f1;\n",
       "        }</style><table id=\"T_835f5_\" ><caption>Объем интернет трафика за год</caption><thead>    <tr>        <th class=\"blank level0\" ></th>        <th class=\"col_heading level0 col0\" >mean</th>        <th class=\"col_heading level0 col1\" >var</th>        <th class=\"col_heading level0 col2\" >std</th>    </tr>    <tr>        <th class=\"index_name level0\" >tariff</th>        <th class=\"blank\" ></th>        <th class=\"blank\" ></th>        <th class=\"blank\" ></th>    </tr></thead><tbody>\n",
       "                <tr>\n",
       "                        <th id=\"T_835f5_level0_row0\" class=\"row_heading level0 row0\" >smart</th>\n",
       "                        <td id=\"T_835f5_row0_col0\" class=\"data row0 col0\" >16.328847</td>\n",
       "                        <td id=\"T_835f5_row0_col1\" class=\"data row0 col1\" >33.028705</td>\n",
       "                        <td id=\"T_835f5_row0_col2\" class=\"data row0 col2\" >5.747061</td>\n",
       "            </tr>\n",
       "            <tr>\n",
       "                        <th id=\"T_835f5_level0_row1\" class=\"row_heading level0 row1\" >ultra</th>\n",
       "                        <td id=\"T_835f5_row1_col0\" class=\"data row1 col0\" >19.494416</td>\n",
       "                        <td id=\"T_835f5_row1_col1\" class=\"data row1 col1\" >97.091686</td>\n",
       "                        <td id=\"T_835f5_row1_col2\" class=\"data row1 col2\" >9.853511</td>\n",
       "            </tr>\n",
       "    </tbody></table>"
      ],
      "text/plain": [
       "<pandas.io.formats.style.Styler at 0x7efdde9c7790>"
      ]
     },
     "execution_count": 50,
     "metadata": {},
     "output_type": "execute_result"
    }
   ],
   "source": [
    "# Посчитаем среднее количество, дисперсию и стандартное отклонение.\n",
    "df_values_internet_year = df_values.pivot_table(index=['tariff'],\n",
    "                             values='gb_used',\n",
    "                             aggfunc=['mean', 'var', 'std'])\n",
    "df_values_internet_year.columns = ['mean', 'var', 'std']\n",
    "df_values_internet_year.reset_index()\n",
    "df_values_internet_year.style.background_gradient(cmap = 'Greens').set_caption(\"Объем интернет трафика за год\")\n",
    "#df_values_calls"
   ]
  },
  {
   "cell_type": "markdown",
   "metadata": {},
   "source": [
    "#### Наблюдения\n",
    "\n",
    "\n",
    "##### **Тариф смарт**\n",
    "- Среднее значение: аномалий не обнаружено, в декабре наибольшие значения \n",
    "- Дисперсия: аномалий не обнаружено\n",
    "- Стандартное отклонение: аномалий не обнаружено\n",
    "\n",
    "##### **Тариф ультра**\n",
    "- Среднее значение: аномалий не обнаружено, в декабре наибольшие значения \n",
    "- Дисперсия: наибольшее значение в марте\n",
    "- Стандартное отклонение: наибольшее значение в марте \n",
    "\n",
    "Средний объем потребляемого трафика у пользователей тарифа ультра выше, чем у пользователей тарифа смарт"
   ]
  },
  {
   "cell_type": "markdown",
   "metadata": {},
   "source": [
    "#### Гистограмма распределение объема интернет трафика"
   ]
  },
  {
   "cell_type": "code",
   "execution_count": 51,
   "metadata": {
    "scrolled": false
   },
   "outputs": [
    {
     "data": {
      "image/png": "[encoded data removed]",
      "text/plain": [
       "<Figure size 864x504 with 1 Axes>"
      ]
     },
     "metadata": {
      "needs_background": "light"
     },
     "output_type": "display_data"
    }
   ],
   "source": [
    "df_ultra['gb_used'].hist(bins=40, \n",
    "                             alpha=0.3, \n",
    "                             label='ultra',\n",
    "                       figsize=(12,7),\n",
    "                       ec='grey')\n",
    "df_smart['gb_used'].hist(bins=40,\n",
    "                             alpha=0.3,\n",
    "                             label='smart',\n",
    "                       figsize=(12,7),\n",
    "                       ec='grey')\n",
    "plt.legend()\n",
    "plt.xlabel(\"Объем трафика\")\n",
    "plt.ylabel(\"Количество клиентов\")\n",
    "plt.title('Распределение объема интернет трафика между тарифами по месяцам')\n",
    "plt.show()\n"
   ]
  },
  {
   "cell_type": "markdown",
   "metadata": {},
   "source": [
    "#### Наблюдения\n",
    "\n",
    "- Биноминальное распределение стремится к нормальному"
   ]
  },
  {
   "cell_type": "markdown",
   "metadata": {},
   "source": [
    "#### Гистограмма распределения объема интернет трафика между переплатившими и непереплатившими"
   ]
  },
  {
   "cell_type": "code",
   "execution_count": 52,
   "metadata": {
    "scrolled": true
   },
   "outputs": [
    {
     "data": {
      "image/png": "[encoded data removed]",
      "text/plain": [
       "<Figure size 864x504 with 2 Axes>"
      ]
     },
     "metadata": {
      "needs_background": "light"
     },
     "output_type": "display_data"
    }
   ],
   "source": [
    "plt.subplot(2, 2, 1)\n",
    "df_smart['gb_used'].hist(bins=40, \n",
    "                             alpha=0.3, \n",
    "                             label='smart',\n",
    "                             figsize=(12,7),\n",
    "                       ec='grey'\n",
    "                            )\n",
    "df_smart_internet_extra = df_smart.query('gb_used > 15')\n",
    "df_smart_internet_extra['gb_used'].hist(bins=40, \n",
    "                             alpha=0.3, \n",
    "                             label='smart_extra',\n",
    "                             figsize=(12,7),\n",
    "                       ec='grey'\n",
    "                            )\n",
    "plt.legend()\n",
    "plt.xlabel(\"Объем трафика\")\n",
    "plt.ylabel(\"Количество клиентов\")\n",
    "plt.title('Распределение объема интернет трафика по тарифам смарт и ультра между видами абонентов')\n",
    "plt.subplot(2, 2, 2)\n",
    "df_ultra['gb_used'].hist(bins=40, \n",
    "                             alpha=0.3, \n",
    "                             label='ultra',\n",
    "                             figsize=(12,7),\n",
    "                       ec='grey'\n",
    "                            )\n",
    "df_ultra_internet_extra = df_ultra.query('gb_used > 30')\n",
    "df_ultra_internet_extra['gb_used'].hist(bins=40, \n",
    "                             alpha=0.3, \n",
    "                             label='ultra_extra',\n",
    "                             figsize=(12,7),\n",
    "                       ec='grey'\n",
    "                            )\n",
    "plt.xlabel(\"Объем трафика\")\n",
    "plt.ylabel(\"Количество клиентов\")\n",
    "plt.legend()\n",
    "#plt.title('Распределение длительности звоноков по тарифам смарт и ультра между видами абонентов')\n",
    "plt.show()"
   ]
  },
  {
   "cell_type": "markdown",
   "metadata": {},
   "source": [
    "#### Наблюдения\n",
    "\n",
    "\n",
    "##### **Тариф смарт**\n",
    "- Клиенты склонны к превышению лимита по трафику\n",
    "\n",
    "##### **Тариф ультра**\n",
    "- Клиенты **склонны** к превышению лимита по трафику"
   ]
  },
  {
   "cell_type": "markdown",
   "metadata": {},
   "source": [
    "#### Вывод по объему интернет трафика \n",
    "\n",
    "##### **Тариф смарт**\n",
    "- Среднее значение: аномалий не обнаружено, в декабре наибольшие значения \n",
    "- Дисперсия: аномалий не обнаружено\n",
    "- Стандартное отклонение: аномалий не обнаружено\n",
    "- Клиенты склонны к превышению лимита по трафику\n",
    "\n",
    "##### **Тариф ультра**\n",
    "- Среднее значение: аномалий не обнаружено, в декабре наибольшие значения \n",
    "- Дисперсия: наибольшее значение в марте\n",
    "- Стандартное отклонение: наибольшее значение в марте \n",
    "- Клиенты **склонны** к превышению лимита по трафику\n",
    "\n",
    "Средний объем потребляемого трафика у пользователей тарифа ультра выше, чем у пользователей тарифа смарт. Пользователи тарифа ультра превышают лимит по количеству потребляемого интернет трафика\n",
    "##### Распределение \n",
    "- Биноминальное распределение стремится к нормальному"
   ]
  },
  {
   "cell_type": "markdown",
   "metadata": {},
   "source": [
    "### Анализ выручки в разрезе тарифа"
   ]
  },
  {
   "cell_type": "markdown",
   "metadata": {},
   "source": [
    "#### Объем выручки по тарифам за каждый месяц "
   ]
  },
  {
   "cell_type": "code",
   "execution_count": 53,
   "metadata": {
    "scrolled": false
   },
   "outputs": [
    {
     "data": {
      "text/html": [
       "<style  type=\"text/css\" >\n",
       "#T_cd7a2_row0_col0{\n",
       "            background-color:  #d6e6f4;\n",
       "            color:  #000000;\n",
       "        }#T_cd7a2_row0_col1,#T_cd7a2_row1_col1,#T_cd7a2_row12_col0,#T_cd7a2_row12_col1,#T_cd7a2_row12_col2,#T_cd7a2_row12_col3,#T_cd7a2_row12_col4,#T_cd7a2_row13_col1,#T_cd7a2_row13_col4,#T_cd7a2_row14_col1,#T_cd7a2_row15_col1,#T_cd7a2_row16_col1,#T_cd7a2_row17_col1,#T_cd7a2_row18_col1,#T_cd7a2_row19_col1,#T_cd7a2_row20_col1,#T_cd7a2_row21_col1,#T_cd7a2_row22_col1,#T_cd7a2_row23_col1{\n",
       "            background-color:  #f7fbff;\n",
       "            color:  #000000;\n",
       "        }#T_cd7a2_row0_col2{\n",
       "            background-color:  #d3e4f3;\n",
       "            color:  #000000;\n",
       "        }#T_cd7a2_row0_col3{\n",
       "            background-color:  #8abfdd;\n",
       "            color:  #000000;\n",
       "        }#T_cd7a2_row0_col4{\n",
       "            background-color:  #f4f9fe;\n",
       "            color:  #000000;\n",
       "        }#T_cd7a2_row1_col0,#T_cd7a2_row1_col2{\n",
       "            background-color:  #bfd8ed;\n",
       "            color:  #000000;\n",
       "        }#T_cd7a2_row1_col3,#T_cd7a2_row7_col4{\n",
       "            background-color:  #64a9d3;\n",
       "            color:  #000000;\n",
       "        }#T_cd7a2_row1_col4,#T_cd7a2_row15_col0,#T_cd7a2_row18_col4{\n",
       "            background-color:  #eef5fc;\n",
       "            color:  #000000;\n",
       "        }#T_cd7a2_row2_col0{\n",
       "            background-color:  #4b98ca;\n",
       "            color:  #000000;\n",
       "        }#T_cd7a2_row2_col1{\n",
       "            background-color:  #7ab6d9;\n",
       "            color:  #000000;\n",
       "        }#T_cd7a2_row2_col2{\n",
       "            background-color:  #7db8da;\n",
       "            color:  #000000;\n",
       "        }#T_cd7a2_row2_col3{\n",
       "            background-color:  #3585bf;\n",
       "            color:  #000000;\n",
       "        }#T_cd7a2_row2_col4,#T_cd7a2_row3_col4{\n",
       "            background-color:  #dceaf6;\n",
       "            color:  #000000;\n",
       "        }#T_cd7a2_row3_col0{\n",
       "            background-color:  #94c4df;\n",
       "            color:  #000000;\n",
       "        }#T_cd7a2_row3_col1{\n",
       "            background-color:  #e4eff9;\n",
       "            color:  #000000;\n",
       "        }#T_cd7a2_row3_col2{\n",
       "            background-color:  #b8d5ea;\n",
       "            color:  #000000;\n",
       "        }#T_cd7a2_row3_col3{\n",
       "            background-color:  #5ca4d0;\n",
       "            color:  #000000;\n",
       "        }#T_cd7a2_row4_col0{\n",
       "            background-color:  #4090c5;\n",
       "            color:  #000000;\n",
       "        }#T_cd7a2_row4_col1{\n",
       "            background-color:  #4a98c9;\n",
       "            color:  #000000;\n",
       "        }#T_cd7a2_row4_col2{\n",
       "            background-color:  #71b1d7;\n",
       "            color:  #000000;\n",
       "        }#T_cd7a2_row4_col3{\n",
       "            background-color:  #2f7fbc;\n",
       "            color:  #000000;\n",
       "        }#T_cd7a2_row4_col4{\n",
       "            background-color:  #c2d9ee;\n",
       "            color:  #000000;\n",
       "        }#T_cd7a2_row5_col0{\n",
       "            background-color:  #3f8fc5;\n",
       "            color:  #000000;\n",
       "        }#T_cd7a2_row5_col1{\n",
       "            background-color:  #5ba3d0;\n",
       "            color:  #000000;\n",
       "        }#T_cd7a2_row5_col2{\n",
       "            background-color:  #65aad4;\n",
       "            color:  #000000;\n",
       "        }#T_cd7a2_row5_col3{\n",
       "            background-color:  #2979b9;\n",
       "            color:  #000000;\n",
       "        }#T_cd7a2_row5_col4{\n",
       "            background-color:  #b3d3e8;\n",
       "            color:  #000000;\n",
       "        }#T_cd7a2_row6_col0{\n",
       "            background-color:  #3a8ac2;\n",
       "            color:  #000000;\n",
       "        }#T_cd7a2_row6_col1,#T_cd7a2_row10_col2{\n",
       "            background-color:  #4d99ca;\n",
       "            color:  #000000;\n",
       "        }#T_cd7a2_row6_col2{\n",
       "            background-color:  #68acd5;\n",
       "            color:  #000000;\n",
       "        }#T_cd7a2_row6_col3{\n",
       "            background-color:  #2b7bba;\n",
       "            color:  #000000;\n",
       "        }#T_cd7a2_row6_col4{\n",
       "            background-color:  #97c6df;\n",
       "            color:  #000000;\n",
       "        }#T_cd7a2_row7_col0{\n",
       "            background-color:  #2171b5;\n",
       "            color:  #f1f1f1;\n",
       "        }#T_cd7a2_row7_col1{\n",
       "            background-color:  #2676b8;\n",
       "            color:  #000000;\n",
       "        }#T_cd7a2_row7_col2{\n",
       "            background-color:  #4e9acb;\n",
       "            color:  #000000;\n",
       "        }#T_cd7a2_row7_col3,#T_cd7a2_row10_col3{\n",
       "            background-color:  #1d6cb1;\n",
       "            color:  #f1f1f1;\n",
       "        }#T_cd7a2_row8_col0{\n",
       "            background-color:  #3383be;\n",
       "            color:  #000000;\n",
       "        }#T_cd7a2_row8_col1{\n",
       "            background-color:  #57a0ce;\n",
       "            color:  #000000;\n",
       "        }#T_cd7a2_row8_col2{\n",
       "            background-color:  #6aaed6;\n",
       "            color:  #000000;\n",
       "        }#T_cd7a2_row8_col3{\n",
       "            background-color:  #2c7cba;\n",
       "            color:  #000000;\n",
       "        }#T_cd7a2_row8_col4{\n",
       "            background-color:  #63a8d3;\n",
       "            color:  #000000;\n",
       "        }#T_cd7a2_row9_col0{\n",
       "            background-color:  #1966ad;\n",
       "            color:  #f1f1f1;\n",
       "        }#T_cd7a2_row9_col1,#T_cd7a2_row10_col1{\n",
       "            background-color:  #125da6;\n",
       "            color:  #f1f1f1;\n",
       "        }#T_cd7a2_row9_col2{\n",
       "            background-color:  #3888c1;\n",
       "            color:  #000000;\n",
       "        }#T_cd7a2_row9_col3{\n",
       "            background-color:  #1460a8;\n",
       "            color:  #f1f1f1;\n",
       "        }#T_cd7a2_row9_col4{\n",
       "            background-color:  #3181bd;\n",
       "            color:  #000000;\n",
       "        }#T_cd7a2_row10_col0{\n",
       "            background-color:  #1c6bb0;\n",
       "            color:  #f1f1f1;\n",
       "        }#T_cd7a2_row10_col4{\n",
       "            background-color:  #2777b8;\n",
       "            color:  #000000;\n",
       "        }#T_cd7a2_row11_col0,#T_cd7a2_row11_col1,#T_cd7a2_row11_col2,#T_cd7a2_row11_col3,#T_cd7a2_row11_col4{\n",
       "            background-color:  #08306b;\n",
       "            color:  #f1f1f1;\n",
       "        }#T_cd7a2_row13_col0,#T_cd7a2_row20_col4{\n",
       "            background-color:  #f2f8fd;\n",
       "            color:  #000000;\n",
       "        }#T_cd7a2_row13_col2,#T_cd7a2_row14_col4{\n",
       "            background-color:  #f6faff;\n",
       "            color:  #000000;\n",
       "        }#T_cd7a2_row13_col3{\n",
       "            background-color:  #e7f1fa;\n",
       "            color:  #000000;\n",
       "        }#T_cd7a2_row14_col0{\n",
       "            background-color:  #eaf3fb;\n",
       "            color:  #000000;\n",
       "        }#T_cd7a2_row14_col2,#T_cd7a2_row19_col4,#T_cd7a2_row21_col4{\n",
       "            background-color:  #eff6fc;\n",
       "            color:  #000000;\n",
       "        }#T_cd7a2_row14_col3{\n",
       "            background-color:  #d0e1f2;\n",
       "            color:  #000000;\n",
       "        }#T_cd7a2_row15_col2{\n",
       "            background-color:  #f0f6fd;\n",
       "            color:  #000000;\n",
       "        }#T_cd7a2_row15_col3{\n",
       "            background-color:  #d2e3f3;\n",
       "            color:  #000000;\n",
       "        }#T_cd7a2_row15_col4{\n",
       "            background-color:  #f5fafe;\n",
       "            color:  #000000;\n",
       "        }#T_cd7a2_row16_col0{\n",
       "            background-color:  #e2edf8;\n",
       "            color:  #000000;\n",
       "        }#T_cd7a2_row16_col2,#T_cd7a2_row19_col2{\n",
       "            background-color:  #d9e8f5;\n",
       "            color:  #000000;\n",
       "        }#T_cd7a2_row16_col3{\n",
       "            background-color:  #99c7e0;\n",
       "            color:  #000000;\n",
       "        }#T_cd7a2_row16_col4,#T_cd7a2_row17_col4{\n",
       "            background-color:  #f3f8fe;\n",
       "            color:  #000000;\n",
       "        }#T_cd7a2_row17_col0{\n",
       "            background-color:  #e6f0f9;\n",
       "            color:  #000000;\n",
       "        }#T_cd7a2_row17_col2{\n",
       "            background-color:  #e5eff9;\n",
       "            color:  #000000;\n",
       "        }#T_cd7a2_row17_col3{\n",
       "            background-color:  #b4d3e9;\n",
       "            color:  #000000;\n",
       "        }#T_cd7a2_row18_col0{\n",
       "            background-color:  #d7e6f5;\n",
       "            color:  #000000;\n",
       "        }#T_cd7a2_row18_col2,#T_cd7a2_row23_col0{\n",
       "            background-color:  #d3e3f3;\n",
       "            color:  #000000;\n",
       "        }#T_cd7a2_row18_col3{\n",
       "            background-color:  #87bddc;\n",
       "            color:  #000000;\n",
       "        }#T_cd7a2_row19_col0{\n",
       "            background-color:  #ddeaf7;\n",
       "            color:  #000000;\n",
       "        }#T_cd7a2_row19_col3{\n",
       "            background-color:  #9ac8e0;\n",
       "            color:  #000000;\n",
       "        }#T_cd7a2_row20_col0{\n",
       "            background-color:  #e9f2fa;\n",
       "            color:  #000000;\n",
       "        }#T_cd7a2_row20_col2,#T_cd7a2_row22_col4{\n",
       "            background-color:  #ecf4fb;\n",
       "            color:  #000000;\n",
       "        }#T_cd7a2_row20_col3{\n",
       "            background-color:  #c8dcf0;\n",
       "            color:  #000000;\n",
       "        }#T_cd7a2_row21_col0{\n",
       "            background-color:  #e1edf8;\n",
       "            color:  #000000;\n",
       "        }#T_cd7a2_row21_col2,#T_cd7a2_row22_col0{\n",
       "            background-color:  #dce9f6;\n",
       "            color:  #000000;\n",
       "        }#T_cd7a2_row21_col3{\n",
       "            background-color:  #9fcae1;\n",
       "            color:  #000000;\n",
       "        }#T_cd7a2_row22_col2{\n",
       "            background-color:  #d8e7f5;\n",
       "            color:  #000000;\n",
       "        }#T_cd7a2_row22_col3{\n",
       "            background-color:  #95c5df;\n",
       "            color:  #000000;\n",
       "        }#T_cd7a2_row23_col2{\n",
       "            background-color:  #cddff1;\n",
       "            color:  #000000;\n",
       "        }#T_cd7a2_row23_col3{\n",
       "            background-color:  #79b5d9;\n",
       "            color:  #000000;\n",
       "        }#T_cd7a2_row23_col4{\n",
       "            background-color:  #e8f1fa;\n",
       "            color:  #000000;\n",
       "        }</style><table id=\"T_cd7a2_\" ><caption>Объем выручки в месяц</caption><thead>    <tr>        <th class=\"blank\" ></th>        <th class=\"blank level0\" ></th>        <th class=\"col_heading level0 col0\" >mean</th>        <th class=\"col_heading level0 col1\" >median</th>        <th class=\"col_heading level0 col2\" >var</th>        <th class=\"col_heading level0 col3\" >std</th>        <th class=\"col_heading level0 col4\" >sum</th>    </tr>    <tr>        <th class=\"index_name level0\" >tariff</th>        <th class=\"index_name level1\" >month</th>        <th class=\"blank\" ></th>        <th class=\"blank\" ></th>        <th class=\"blank\" ></th>        <th class=\"blank\" ></th>        <th class=\"blank\" ></th>    </tr></thead><tbody>\n",
       "                <tr>\n",
       "                        <th id=\"T_cd7a2_level0_row0\" class=\"row_heading level0 row0\" rowspan=\"12\">smart</th>\n",
       "                        <th id=\"T_cd7a2_level1_row0\" class=\"row_heading level1 row0\" >1</th>\n",
       "                        <td id=\"T_cd7a2_row0_col0\" class=\"data row0 col0\" >171.323529</td>\n",
       "                        <td id=\"T_cd7a2_row0_col1\" class=\"data row0 col1\" >0.000000</td>\n",
       "                        <td id=\"T_cd7a2_row0_col2\" class=\"data row0 col2\" >192516.164884</td>\n",
       "                        <td id=\"T_cd7a2_row0_col3\" class=\"data row0 col3\" >438.766641</td>\n",
       "                        <td id=\"T_cd7a2_row0_col4\" class=\"data row0 col4\" >5825</td>\n",
       "            </tr>\n",
       "            <tr>\n",
       "                                <th id=\"T_cd7a2_level1_row1\" class=\"row_heading level1 row1\" >2</th>\n",
       "                        <td id=\"T_cd7a2_row1_col0\" class=\"data row1 col0\" >277.603448</td>\n",
       "                        <td id=\"T_cd7a2_row1_col1\" class=\"data row1 col1\" >0.000000</td>\n",
       "                        <td id=\"T_cd7a2_row1_col2\" class=\"data row1 col2\" >292358.664549</td>\n",
       "                        <td id=\"T_cd7a2_row1_col3\" class=\"data row1 col3\" >540.702011</td>\n",
       "                        <td id=\"T_cd7a2_row1_col4\" class=\"data row1 col4\" >16101</td>\n",
       "            </tr>\n",
       "            <tr>\n",
       "                                <th id=\"T_cd7a2_level1_row2\" class=\"row_heading level1 row2\" >3</th>\n",
       "                        <td id=\"T_cd7a2_row2_col0\" class=\"data row2 col0\" >614.623377</td>\n",
       "                        <td id=\"T_cd7a2_row2_col1\" class=\"data row2 col1\" >336.000000</td>\n",
       "                        <td id=\"T_cd7a2_row2_col2\" class=\"data row2 col2\" >487239.027341</td>\n",
       "                        <td id=\"T_cd7a2_row2_col3\" class=\"data row2 col3\" >698.025091</td>\n",
       "                        <td id=\"T_cd7a2_row2_col4\" class=\"data row2 col4\" >47326</td>\n",
       "            </tr>\n",
       "            <tr>\n",
       "                                <th id=\"T_cd7a2_level1_row3\" class=\"row_heading level1 row3\" >4</th>\n",
       "                        <td id=\"T_cd7a2_row3_col0\" class=\"data row3 col0\" >413.089286</td>\n",
       "                        <td id=\"T_cd7a2_row3_col1\" class=\"data row3 col1\" >70.500000</td>\n",
       "                        <td id=\"T_cd7a2_row3_col2\" class=\"data row3 col2\" >315916.550515</td>\n",
       "                        <td id=\"T_cd7a2_row3_col3\" class=\"data row3 col3\" >562.064543</td>\n",
       "                        <td id=\"T_cd7a2_row3_col4\" class=\"data row3 col4\" >46266</td>\n",
       "            </tr>\n",
       "            <tr>\n",
       "                                <th id=\"T_cd7a2_level1_row4\" class=\"row_heading level1 row4\" >5</th>\n",
       "                        <td id=\"T_cd7a2_row4_col0\" class=\"data row4 col0\" >647.510638</td>\n",
       "                        <td id=\"T_cd7a2_row4_col1\" class=\"data row4 col1\" >436.000000</td>\n",
       "                        <td id=\"T_cd7a2_row4_col2\" class=\"data row4 col2\" >522690.180243</td>\n",
       "                        <td id=\"T_cd7a2_row4_col3\" class=\"data row4 col3\" >722.973153</td>\n",
       "                        <td id=\"T_cd7a2_row4_col4\" class=\"data row4 col4\" >91299</td>\n",
       "            </tr>\n",
       "            <tr>\n",
       "                                <th id=\"T_cd7a2_level1_row5\" class=\"row_heading level1 row5\" >6</th>\n",
       "                        <td id=\"T_cd7a2_row5_col0\" class=\"data row5 col0\" >654.018293</td>\n",
       "                        <td id=\"T_cd7a2_row5_col1\" class=\"data row5 col1\" >400.000000</td>\n",
       "                        <td id=\"T_cd7a2_row5_col2\" class=\"data row5 col2\" >556125.171442</td>\n",
       "                        <td id=\"T_cd7a2_row5_col3\" class=\"data row5 col3\" >745.738005</td>\n",
       "                        <td id=\"T_cd7a2_row5_col4\" class=\"data row5 col4\" >107259</td>\n",
       "            </tr>\n",
       "            <tr>\n",
       "                                <th id=\"T_cd7a2_level1_row6\" class=\"row_heading level1 row6\" >7</th>\n",
       "                        <td id=\"T_cd7a2_row6_col0\" class=\"data row6 col0\" >673.950249</td>\n",
       "                        <td id=\"T_cd7a2_row6_col1\" class=\"data row6 col1\" >431.000000</td>\n",
       "                        <td id=\"T_cd7a2_row6_col2\" class=\"data row6 col2\" >545338.247512</td>\n",
       "                        <td id=\"T_cd7a2_row6_col3\" class=\"data row6 col3\" >738.470208</td>\n",
       "                        <td id=\"T_cd7a2_row6_col4\" class=\"data row6 col4\" >135464</td>\n",
       "            </tr>\n",
       "            <tr>\n",
       "                                <th id=\"T_cd7a2_level1_row7\" class=\"row_heading level1 row7\" >8</th>\n",
       "                        <td id=\"T_cd7a2_row7_col0\" class=\"data row7 col0\" >770.595745</td>\n",
       "                        <td id=\"T_cd7a2_row7_col1\" class=\"data row7 col1\" >529.000000</td>\n",
       "                        <td id=\"T_cd7a2_row7_col2\" class=\"data row7 col2\" >627619.370067</td>\n",
       "                        <td id=\"T_cd7a2_row7_col3\" class=\"data row7 col3\" >792.224318</td>\n",
       "                        <td id=\"T_cd7a2_row7_col4\" class=\"data row7 col4\" >181090</td>\n",
       "            </tr>\n",
       "            <tr>\n",
       "                                <th id=\"T_cd7a2_level1_row8\" class=\"row_heading level1 row8\" >9</th>\n",
       "                        <td id=\"T_cd7a2_row8_col0\" class=\"data row8 col0\" >699.946154</td>\n",
       "                        <td id=\"T_cd7a2_row8_col1\" class=\"data row8 col1\" >408.500000</td>\n",
       "                        <td id=\"T_cd7a2_row8_col2\" class=\"data row8 col2\" >536688.491298</td>\n",
       "                        <td id=\"T_cd7a2_row8_col3\" class=\"data row8 col3\" >732.590262</td>\n",
       "                        <td id=\"T_cd7a2_row8_col4\" class=\"data row8 col4\" >181986</td>\n",
       "            </tr>\n",
       "            <tr>\n",
       "                                <th id=\"T_cd7a2_level1_row9\" class=\"row_heading level1 row9\" >10</th>\n",
       "                        <td id=\"T_cd7a2_row9_col0\" class=\"data row9 col0\" >814.853741</td>\n",
       "                        <td id=\"T_cd7a2_row9_col1\" class=\"data row9 col1\" >600.000000</td>\n",
       "                        <td id=\"T_cd7a2_row9_col2\" class=\"data row9 col2\" >710266.391505</td>\n",
       "                        <td id=\"T_cd7a2_row9_col3\" class=\"data row9 col3\" >842.773037</td>\n",
       "                        <td id=\"T_cd7a2_row9_col4\" class=\"data row9 col4\" >239567</td>\n",
       "            </tr>\n",
       "            <tr>\n",
       "                                <th id=\"T_cd7a2_level1_row10\" class=\"row_heading level1 row10\" >11</th>\n",
       "                        <td id=\"T_cd7a2_row10_col0\" class=\"data row10 col0\" >793.047468</td>\n",
       "                        <td id=\"T_cd7a2_row10_col1\" class=\"data row10 col1\" >600.000000</td>\n",
       "                        <td id=\"T_cd7a2_row10_col2\" class=\"data row10 col2\" >633185.797740</td>\n",
       "                        <td id=\"T_cd7a2_row10_col3\" class=\"data row10 col3\" >795.729727</td>\n",
       "                        <td id=\"T_cd7a2_row10_col4\" class=\"data row10 col4\" >250603</td>\n",
       "            </tr>\n",
       "            <tr>\n",
       "                                <th id=\"T_cd7a2_level1_row11\" class=\"row_heading level1 row11\" >12</th>\n",
       "                        <td id=\"T_cd7a2_row11_col0\" class=\"data row11 col0\" >1028.531157</td>\n",
       "                        <td id=\"T_cd7a2_row11_col1\" class=\"data row11 col1\" >727.000000</td>\n",
       "                        <td id=\"T_cd7a2_row11_col2\" class=\"data row11 col2\" >1070678.487866</td>\n",
       "                        <td id=\"T_cd7a2_row11_col3\" class=\"data row11 col3\" >1034.735951</td>\n",
       "                        <td id=\"T_cd7a2_row11_col4\" class=\"data row11 col4\" >346615</td>\n",
       "            </tr>\n",
       "            <tr>\n",
       "                        <th id=\"T_cd7a2_level0_row12\" class=\"row_heading level0 row12\" rowspan=\"12\">ultra</th>\n",
       "                        <th id=\"T_cd7a2_level1_row12\" class=\"row_heading level1 row12\" >1</th>\n",
       "                        <td id=\"T_cd7a2_row12_col0\" class=\"data row12 col0\" >0.000000</td>\n",
       "                        <td id=\"T_cd7a2_row12_col1\" class=\"data row12 col1\" >0.000000</td>\n",
       "                        <td id=\"T_cd7a2_row12_col2\" class=\"data row12 col2\" >0.000000</td>\n",
       "                        <td id=\"T_cd7a2_row12_col3\" class=\"data row12 col3\" >0.000000</td>\n",
       "                        <td id=\"T_cd7a2_row12_col4\" class=\"data row12 col4\" >0</td>\n",
       "            </tr>\n",
       "            <tr>\n",
       "                                <th id=\"T_cd7a2_level1_row13\" class=\"row_heading level1 row13\" >2</th>\n",
       "                        <td id=\"T_cd7a2_row13_col0\" class=\"data row13 col0\" >25.000000</td>\n",
       "                        <td id=\"T_cd7a2_row13_col1\" class=\"data row13 col1\" >0.000000</td>\n",
       "                        <td id=\"T_cd7a2_row13_col2\" class=\"data row13 col2\" >7173.913043</td>\n",
       "                        <td id=\"T_cd7a2_row13_col3\" class=\"data row13 col3\" >84.698955</td>\n",
       "                        <td id=\"T_cd7a2_row13_col4\" class=\"data row13 col4\" >600</td>\n",
       "            </tr>\n",
       "            <tr>\n",
       "                                <th id=\"T_cd7a2_level1_row14\" class=\"row_heading level1 row14\" >3</th>\n",
       "                        <td id=\"T_cd7a2_row14_col0\" class=\"data row14 col0\" >64.864865</td>\n",
       "                        <td id=\"T_cd7a2_row14_col1\" class=\"data row14 col1\" >0.000000</td>\n",
       "                        <td id=\"T_cd7a2_row14_col2\" class=\"data row14 col2\" >43175.675676</td>\n",
       "                        <td id=\"T_cd7a2_row14_col3\" class=\"data row14 col3\" >207.787573</td>\n",
       "                        <td id=\"T_cd7a2_row14_col4\" class=\"data row14 col4\" >2400</td>\n",
       "            </tr>\n",
       "            <tr>\n",
       "                                <th id=\"T_cd7a2_level1_row15\" class=\"row_heading level1 row15\" >4</th>\n",
       "                        <td id=\"T_cd7a2_row15_col0\" class=\"data row15 col0\" >51.818182</td>\n",
       "                        <td id=\"T_cd7a2_row15_col1\" class=\"data row15 col1\" >0.000000</td>\n",
       "                        <td id=\"T_cd7a2_row15_col2\" class=\"data row15 col2\" >38515.151515</td>\n",
       "                        <td id=\"T_cd7a2_row15_col3\" class=\"data row15 col3\" >196.252775</td>\n",
       "                        <td id=\"T_cd7a2_row15_col4\" class=\"data row15 col4\" >2850</td>\n",
       "            </tr>\n",
       "            <tr>\n",
       "                                <th id=\"T_cd7a2_level1_row16\" class=\"row_heading level1 row16\" >5</th>\n",
       "                        <td id=\"T_cd7a2_row16_col0\" class=\"data row16 col0\" >109.701493</td>\n",
       "                        <td id=\"T_cd7a2_row16_col1\" class=\"data row16 col1\" >0.000000</td>\n",
       "                        <td id=\"T_cd7a2_row16_col2\" class=\"data row16 col2\" >162669.606513</td>\n",
       "                        <td id=\"T_cd7a2_row16_col3\" class=\"data row16 col3\" >403.323204</td>\n",
       "                        <td id=\"T_cd7a2_row16_col4\" class=\"data row16 col4\" >7350</td>\n",
       "            </tr>\n",
       "            <tr>\n",
       "                                <th id=\"T_cd7a2_level1_row17\" class=\"row_heading level1 row17\" >6</th>\n",
       "                        <td id=\"T_cd7a2_row17_col0\" class=\"data row17 col0\" >89.285714</td>\n",
       "                        <td id=\"T_cd7a2_row17_col1\" class=\"data row17 col1\" >0.000000</td>\n",
       "                        <td id=\"T_cd7a2_row17_col2\" class=\"data row17 col2\" >99823.580034</td>\n",
       "                        <td id=\"T_cd7a2_row17_col3\" class=\"data row17 col3\" >315.948698</td>\n",
       "                        <td id=\"T_cd7a2_row17_col4\" class=\"data row17 col4\" >7500</td>\n",
       "            </tr>\n",
       "            <tr>\n",
       "                                <th id=\"T_cd7a2_level1_row18\" class=\"row_heading level1 row18\" >7</th>\n",
       "                        <td id=\"T_cd7a2_row18_col0\" class=\"data row18 col0\" >168.131868</td>\n",
       "                        <td id=\"T_cd7a2_row18_col1\" class=\"data row18 col1\" >0.000000</td>\n",
       "                        <td id=\"T_cd7a2_row18_col2\" class=\"data row18 col2\" >198917.582418</td>\n",
       "                        <td id=\"T_cd7a2_row18_col3\" class=\"data row18 col3\" >446.001774</td>\n",
       "                        <td id=\"T_cd7a2_row18_col4\" class=\"data row18 col4\" >15300</td>\n",
       "            </tr>\n",
       "            <tr>\n",
       "                                <th id=\"T_cd7a2_level1_row19\" class=\"row_heading level1 row19\" >8</th>\n",
       "                        <td id=\"T_cd7a2_row19_col0\" class=\"data row19 col0\" >133.177570</td>\n",
       "                        <td id=\"T_cd7a2_row19_col1\" class=\"data row19 col1\" >0.000000</td>\n",
       "                        <td id=\"T_cd7a2_row19_col2\" class=\"data row19 col2\" >159761.505907</td>\n",
       "                        <td id=\"T_cd7a2_row19_col3\" class=\"data row19 col3\" >399.701771</td>\n",
       "                        <td id=\"T_cd7a2_row19_col4\" class=\"data row19 col4\" >14250</td>\n",
       "            </tr>\n",
       "            <tr>\n",
       "                                <th id=\"T_cd7a2_level1_row20\" class=\"row_heading level1 row20\" >9</th>\n",
       "                        <td id=\"T_cd7a2_row20_col0\" class=\"data row20 col0\" >74.347826</td>\n",
       "                        <td id=\"T_cd7a2_row20_col1\" class=\"data row20 col1\" >0.000000</td>\n",
       "                        <td id=\"T_cd7a2_row20_col2\" class=\"data row20 col2\" >60937.070938</td>\n",
       "                        <td id=\"T_cd7a2_row20_col3\" class=\"data row20 col3\" >246.854352</td>\n",
       "                        <td id=\"T_cd7a2_row20_col4\" class=\"data row20 col4\" >8550</td>\n",
       "            </tr>\n",
       "            <tr>\n",
       "                                <th id=\"T_cd7a2_level1_row21\" class=\"row_heading level1 row21\" >10</th>\n",
       "                        <td id=\"T_cd7a2_row21_col0\" class=\"data row21 col0\" >115.853659</td>\n",
       "                        <td id=\"T_cd7a2_row21_col1\" class=\"data row21 col1\" >0.000000</td>\n",
       "                        <td id=\"T_cd7a2_row21_col2\" class=\"data row21 col2\" >149685.125950</td>\n",
       "                        <td id=\"T_cd7a2_row21_col3\" class=\"data row21 col3\" >386.891620</td>\n",
       "                        <td id=\"T_cd7a2_row21_col4\" class=\"data row21 col4\" >14250</td>\n",
       "            </tr>\n",
       "            <tr>\n",
       "                                <th id=\"T_cd7a2_level1_row22\" class=\"row_heading level1 row22\" >11</th>\n",
       "                        <td id=\"T_cd7a2_row22_col0\" class=\"data row22 col0\" >142.164179</td>\n",
       "                        <td id=\"T_cd7a2_row22_col1\" class=\"data row22 col1\" >0.000000</td>\n",
       "                        <td id=\"T_cd7a2_row22_col2\" class=\"data row22 col2\" >167588.514196</td>\n",
       "                        <td id=\"T_cd7a2_row22_col3\" class=\"data row22 col3\" >409.375762</td>\n",
       "                        <td id=\"T_cd7a2_row22_col4\" class=\"data row22 col4\" >19050</td>\n",
       "            </tr>\n",
       "            <tr>\n",
       "                                <th id=\"T_cd7a2_level1_row23\" class=\"row_heading level1 row23\" >12</th>\n",
       "                        <td id=\"T_cd7a2_row23_col0\" class=\"data row23 col0\" >188.848921</td>\n",
       "                        <td id=\"T_cd7a2_row23_col1\" class=\"data row23 col1\" >0.000000</td>\n",
       "                        <td id=\"T_cd7a2_row23_col2\" class=\"data row23 col2\" >232610.259618</td>\n",
       "                        <td id=\"T_cd7a2_row23_col3\" class=\"data row23 col3\" >482.296858</td>\n",
       "                        <td id=\"T_cd7a2_row23_col4\" class=\"data row23 col4\" >26250</td>\n",
       "            </tr>\n",
       "    </tbody></table>"
      ],
      "text/plain": [
       "<pandas.io.formats.style.Styler at 0x7efdde75d2e0>"
      ]
     },
     "execution_count": 53,
     "metadata": {},
     "output_type": "execute_result"
    }
   ],
   "source": [
    "# Посчитаем среднее количество, дисперсию и стандартное отклонение.\n",
    "df_values_payment = df_values.pivot_table(index=['tariff','month'],\n",
    "                             values='payment_extra',\n",
    "                             aggfunc=['mean',\n",
    "                                      'median',\n",
    "                                      'var',\n",
    "                                      'std',\n",
    "                                      'sum'])\n",
    "df_values_payment.columns = ['mean',\n",
    "                              'median',\n",
    "                              'var',\n",
    "                              'std',\n",
    "                              'sum']\n",
    "df_values_payment.reset_index()\n",
    "df_values_payment.style.background_gradient(cmap = 'Blues').set_caption(\"Объем выручки в месяц\")\n",
    "#df_values_internet"
   ]
  },
  {
   "cell_type": "markdown",
   "metadata": {},
   "source": [
    "#### Объем выручки по тарифам за год"
   ]
  },
  {
   "cell_type": "code",
   "execution_count": 54,
   "metadata": {},
   "outputs": [
    {
     "data": {
      "text/html": [
       "<style  type=\"text/css\" >\n",
       "#T_91d59_row0_col0,#T_91d59_row0_col1,#T_91d59_row0_col2,#T_91d59_row0_col3,#T_91d59_row0_col4{\n",
       "            background-color:  #08306b;\n",
       "            color:  #f1f1f1;\n",
       "        }#T_91d59_row1_col0,#T_91d59_row1_col1,#T_91d59_row1_col2,#T_91d59_row1_col3,#T_91d59_row1_col4{\n",
       "            background-color:  #f7fbff;\n",
       "            color:  #000000;\n",
       "        }</style><table id=\"T_91d59_\" ><caption>Объем выручки за год</caption><thead>    <tr>        <th class=\"blank level0\" ></th>        <th class=\"col_heading level0 col0\" >mean</th>        <th class=\"col_heading level0 col1\" >median</th>        <th class=\"col_heading level0 col2\" >var</th>        <th class=\"col_heading level0 col3\" >std</th>        <th class=\"col_heading level0 col4\" >sum</th>    </tr>    <tr>        <th class=\"index_name level0\" >tariff</th>        <th class=\"blank\" ></th>        <th class=\"blank\" ></th>        <th class=\"blank\" ></th>        <th class=\"blank\" ></th>        <th class=\"blank\" ></th>    </tr></thead><tbody>\n",
       "                <tr>\n",
       "                        <th id=\"T_91d59_level0_row0\" class=\"row_heading level0 row0\" >smart</th>\n",
       "                        <td id=\"T_91d59_row0_col0\" class=\"data row0 col0\" >739.973531</td>\n",
       "                        <td id=\"T_91d59_row0_col1\" class=\"data row0 col1\" >473</td>\n",
       "                        <td id=\"T_91d59_row0_col2\" class=\"data row0 col2\" >669785.708006</td>\n",
       "                        <td id=\"T_91d59_row0_col3\" class=\"data row0 col3\" >818.404367</td>\n",
       "                        <td id=\"T_91d59_row0_col4\" class=\"data row0 col4\" >1649401</td>\n",
       "            </tr>\n",
       "            <tr>\n",
       "                        <th id=\"T_91d59_level0_row1\" class=\"row_heading level0 row1\" >ultra</th>\n",
       "                        <td id=\"T_91d59_row1_col0\" class=\"data row1 col0\" >120.152284</td>\n",
       "                        <td id=\"T_91d59_row1_col1\" class=\"data row1 col1\" >0</td>\n",
       "                        <td id=\"T_91d59_row1_col2\" class=\"data row1 col2\" >141516.745079</td>\n",
       "                        <td id=\"T_91d59_row1_col3\" class=\"data row1 col3\" >376.187114</td>\n",
       "                        <td id=\"T_91d59_row1_col4\" class=\"data row1 col4\" >118350</td>\n",
       "            </tr>\n",
       "    </tbody></table>"
      ],
      "text/plain": [
       "<pandas.io.formats.style.Styler at 0x7efdde75d970>"
      ]
     },
     "execution_count": 54,
     "metadata": {},
     "output_type": "execute_result"
    }
   ],
   "source": [
    "# Посчитаем среднее количество, дисперсию и стандартное отклонение.\n",
    "df_values_payment_year = df_values.pivot_table(index=['tariff'],\n",
    "                             values='payment_extra',\n",
    "                             aggfunc=['mean',\n",
    "                                      'median',\n",
    "                                      'var',\n",
    "                                      'std',\n",
    "                                      'sum'])\n",
    "df_values_payment_year.columns = ['mean',\n",
    "                              'median',\n",
    "                              'var',\n",
    "                              'std',\n",
    "                              'sum']\n",
    "df_values_payment_year.reset_index()\n",
    "df_values_payment_year.style.background_gradient(cmap = 'Blues').set_caption(\"Объем выручки за год\")\n",
    "#df_values_internet"
   ]
  },
  {
   "cell_type": "markdown",
   "metadata": {},
   "source": [
    "#### Наблюдения \n",
    "- Выручка по тарифу смарт значительно выше выручки по тарифу ультра"
   ]
  },
  {
   "cell_type": "markdown",
   "metadata": {},
   "source": [
    "#### График распределения выручки по месяцам между тарифами смарт и ультра"
   ]
  },
  {
   "cell_type": "code",
   "execution_count": 55,
   "metadata": {},
   "outputs": [
    {
     "data": {
      "image/png": "[encoded data removed]",
      "text/plain": [
       "<Figure size 432x288 with 1 Axes>"
      ]
     },
     "metadata": {
      "needs_background": "light"
     },
     "output_type": "display_data"
    }
   ],
   "source": [
    "#построим на одном графике медиану по двум выборкам \n",
    "plt.bar('month', 'payment_extra', data= df_smart, label='smart', alpha=0.5)\n",
    "plt.bar('month', 'payment_extra', data= df_ultra, label='ultra', alpha=0.5)\n",
    "plt.legend()\n",
    "plt.xlabel(\"месяц\")\n",
    "plt.title('Общая выручка по тарифам')\n",
    "plt.show()"
   ]
  },
  {
   "cell_type": "markdown",
   "metadata": {},
   "source": [
    "#### Наблюдения по графику (динамика)\n",
    "\n",
    "##### Smart\n",
    "- зима = активный рост \n",
    "- весна = незначительное снижение \n",
    "- лето = рост скачками\n",
    "- осень = резкий рост \n",
    "- зима (декабрь) наивасшая точка ростка\n",
    "\n",
    "##### Ultra \n",
    "- зима = активный рост \n",
    "- весна = активный рост\n",
    "- лето = снижение, затем рост\n",
    "- осень = резкое снижение \n",
    "- зима (декабрь) в районе среднего значения по всему графику"
   ]
  },
  {
   "cell_type": "markdown",
   "metadata": {},
   "source": [
    "#### Вывод\n",
    "- Объем выручки по тарифу смарт значительно больше объема выручки от пользователей тарифа ультра\n",
    "- Тенденция значительного роста у тарифа смарт наблюдается к концу года"
   ]
  },
  {
   "cell_type": "markdown",
   "metadata": {},
   "source": [
    "<font color='DarkBlue'><b>Комментарий ревьюера</b></font><br>\n",
    "<font color='DarkMagenta'>👉 Как инструкция на выполнение проекта, так и технические задания на проведение исследования не всегда содержат всю информацию, что необходимо сделать. Но указывается задача исследования, у нас это: \"коммерческий департамент хочет понять, какой тариф приносит больше денег\". Но мы ограничиваемся в анализе только количеством сообщений, длительностью звонков и интернет-трафиком. При этом у нас уже посчитано сколько пользователи платят за эти услуги, но сам анализ выручки в разрезе тарифа мы не делаем. Тогда, как мы получим ответ на вопрос какой тариф выгоднее?</font><br>\n",
    "<font color='Red'>🛠 Надо сделать расчет статистики и построение гистограмм по выручке в разрезе тарифов. Хорошо?</font>"
   ]
  },
  {
   "cell_type": "markdown",
   "metadata": {},
   "source": [
    "## Проверка гипотез"
   ]
  },
  {
   "cell_type": "markdown",
   "metadata": {},
   "source": [
    "### Средняя выручка пользователей тарифов «Ультра» и «Смарт» различаются"
   ]
  },
  {
   "cell_type": "markdown",
   "metadata": {},
   "source": [
    "#### Нулевая гипотеза H0 :\n",
    "- средняя выручка тарифов \"Ультра\" и \"Смарт\" равны.\n",
    "\n",
    "#### Альтернативная двухстороняя гипотеза H1 :\n",
    "- средняя выручка тарифов \"Ультра\" и \"Смарт\" различается.\n",
    "\n",
    "Критический уровень значимости - 0.05"
   ]
  },
  {
   "cell_type": "markdown",
   "metadata": {},
   "source": [
    "<font color='DarkBlue'><b>Комментарий ревьюера</b></font><br>\n",
    "<font color='DarkGreen'>👌 Хорошо, правильно сформулированы гипотезы.</font>"
   ]
  },
  {
   "cell_type": "code",
   "execution_count": 56,
   "metadata": {},
   "outputs": [
    {
     "data": {
      "text/html": [
       "<div>\n",
       "<style scoped>\n",
       "    .dataframe tbody tr th:only-of-type {\n",
       "        vertical-align: middle;\n",
       "    }\n",
       "\n",
       "    .dataframe tbody tr th {\n",
       "        vertical-align: top;\n",
       "    }\n",
       "\n",
       "    .dataframe thead th {\n",
       "        text-align: right;\n",
       "    }\n",
       "</style>\n",
       "<table border=\"1\" class=\"dataframe\">\n",
       "  <thead>\n",
       "    <tr style=\"text-align: right;\">\n",
       "      <th></th>\n",
       "      <th>user_id</th>\n",
       "      <th>month</th>\n",
       "      <th>call_count</th>\n",
       "      <th>minutes_sum</th>\n",
       "      <th>sms_count</th>\n",
       "      <th>gb_used</th>\n",
       "      <th>tariff</th>\n",
       "      <th>city</th>\n",
       "      <th>month_name</th>\n",
       "      <th>subscription fee</th>\n",
       "      <th>minutes_extra</th>\n",
       "      <th>sms_extra</th>\n",
       "      <th>gb_extra</th>\n",
       "      <th>payment_extra</th>\n",
       "      <th>month_summ</th>\n",
       "    </tr>\n",
       "  </thead>\n",
       "  <tbody>\n",
       "    <tr>\n",
       "      <th>8</th>\n",
       "      <td>1001</td>\n",
       "      <td>11</td>\n",
       "      <td>59.0</td>\n",
       "      <td>430.0</td>\n",
       "      <td>0.0</td>\n",
       "      <td>18.0</td>\n",
       "      <td>smart</td>\n",
       "      <td>Москва</td>\n",
       "      <td>Nov</td>\n",
       "      <td>550</td>\n",
       "      <td>0.0</td>\n",
       "      <td>0</td>\n",
       "      <td>3.0</td>\n",
       "      <td>600</td>\n",
       "      <td>1150</td>\n",
       "    </tr>\n",
       "    <tr>\n",
       "      <th>9</th>\n",
       "      <td>1001</td>\n",
       "      <td>12</td>\n",
       "      <td>63.0</td>\n",
       "      <td>414.0</td>\n",
       "      <td>0.0</td>\n",
       "      <td>14.0</td>\n",
       "      <td>smart</td>\n",
       "      <td>Москва</td>\n",
       "      <td>Dec</td>\n",
       "      <td>550</td>\n",
       "      <td>0.0</td>\n",
       "      <td>0</td>\n",
       "      <td>0.0</td>\n",
       "      <td>0</td>\n",
       "      <td>550</td>\n",
       "    </tr>\n",
       "    <tr>\n",
       "      <th>10</th>\n",
       "      <td>1002</td>\n",
       "      <td>6</td>\n",
       "      <td>15.0</td>\n",
       "      <td>117.0</td>\n",
       "      <td>4.0</td>\n",
       "      <td>11.0</td>\n",
       "      <td>smart</td>\n",
       "      <td>Стерлитамак</td>\n",
       "      <td>Jun</td>\n",
       "      <td>550</td>\n",
       "      <td>0.0</td>\n",
       "      <td>0</td>\n",
       "      <td>0.0</td>\n",
       "      <td>0</td>\n",
       "      <td>550</td>\n",
       "    </tr>\n",
       "    <tr>\n",
       "      <th>11</th>\n",
       "      <td>1002</td>\n",
       "      <td>7</td>\n",
       "      <td>26.0</td>\n",
       "      <td>214.0</td>\n",
       "      <td>11.0</td>\n",
       "      <td>18.0</td>\n",
       "      <td>smart</td>\n",
       "      <td>Стерлитамак</td>\n",
       "      <td>Jul</td>\n",
       "      <td>550</td>\n",
       "      <td>0.0</td>\n",
       "      <td>0</td>\n",
       "      <td>3.0</td>\n",
       "      <td>600</td>\n",
       "      <td>1150</td>\n",
       "    </tr>\n",
       "    <tr>\n",
       "      <th>12</th>\n",
       "      <td>1002</td>\n",
       "      <td>8</td>\n",
       "      <td>42.0</td>\n",
       "      <td>289.0</td>\n",
       "      <td>13.0</td>\n",
       "      <td>20.0</td>\n",
       "      <td>smart</td>\n",
       "      <td>Стерлитамак</td>\n",
       "      <td>Aug</td>\n",
       "      <td>550</td>\n",
       "      <td>0.0</td>\n",
       "      <td>0</td>\n",
       "      <td>5.0</td>\n",
       "      <td>1000</td>\n",
       "      <td>1550</td>\n",
       "    </tr>\n",
       "    <tr>\n",
       "      <th>...</th>\n",
       "      <td>...</td>\n",
       "      <td>...</td>\n",
       "      <td>...</td>\n",
       "      <td>...</td>\n",
       "      <td>...</td>\n",
       "      <td>...</td>\n",
       "      <td>...</td>\n",
       "      <td>...</td>\n",
       "      <td>...</td>\n",
       "      <td>...</td>\n",
       "      <td>...</td>\n",
       "      <td>...</td>\n",
       "      <td>...</td>\n",
       "      <td>...</td>\n",
       "      <td>...</td>\n",
       "    </tr>\n",
       "    <tr>\n",
       "      <th>3209</th>\n",
       "      <td>1498</td>\n",
       "      <td>10</td>\n",
       "      <td>41.0</td>\n",
       "      <td>247.0</td>\n",
       "      <td>42.0</td>\n",
       "      <td>21.0</td>\n",
       "      <td>smart</td>\n",
       "      <td>Владикавказ</td>\n",
       "      <td>Oct</td>\n",
       "      <td>550</td>\n",
       "      <td>0.0</td>\n",
       "      <td>0</td>\n",
       "      <td>6.0</td>\n",
       "      <td>1200</td>\n",
       "      <td>1750</td>\n",
       "    </tr>\n",
       "    <tr>\n",
       "      <th>3210</th>\n",
       "      <td>1499</td>\n",
       "      <td>9</td>\n",
       "      <td>9.0</td>\n",
       "      <td>70.0</td>\n",
       "      <td>11.0</td>\n",
       "      <td>2.0</td>\n",
       "      <td>smart</td>\n",
       "      <td>Пермь</td>\n",
       "      <td>Sep</td>\n",
       "      <td>550</td>\n",
       "      <td>0.0</td>\n",
       "      <td>0</td>\n",
       "      <td>0.0</td>\n",
       "      <td>0</td>\n",
       "      <td>550</td>\n",
       "    </tr>\n",
       "    <tr>\n",
       "      <th>3211</th>\n",
       "      <td>1499</td>\n",
       "      <td>10</td>\n",
       "      <td>68.0</td>\n",
       "      <td>449.0</td>\n",
       "      <td>48.0</td>\n",
       "      <td>18.0</td>\n",
       "      <td>smart</td>\n",
       "      <td>Пермь</td>\n",
       "      <td>Oct</td>\n",
       "      <td>550</td>\n",
       "      <td>0.0</td>\n",
       "      <td>0</td>\n",
       "      <td>3.0</td>\n",
       "      <td>600</td>\n",
       "      <td>1150</td>\n",
       "    </tr>\n",
       "    <tr>\n",
       "      <th>3212</th>\n",
       "      <td>1499</td>\n",
       "      <td>11</td>\n",
       "      <td>74.0</td>\n",
       "      <td>612.0</td>\n",
       "      <td>59.0</td>\n",
       "      <td>18.0</td>\n",
       "      <td>smart</td>\n",
       "      <td>Пермь</td>\n",
       "      <td>Nov</td>\n",
       "      <td>550</td>\n",
       "      <td>112.0</td>\n",
       "      <td>9</td>\n",
       "      <td>3.0</td>\n",
       "      <td>963</td>\n",
       "      <td>1513</td>\n",
       "    </tr>\n",
       "    <tr>\n",
       "      <th>3213</th>\n",
       "      <td>1499</td>\n",
       "      <td>12</td>\n",
       "      <td>69.0</td>\n",
       "      <td>492.0</td>\n",
       "      <td>66.0</td>\n",
       "      <td>13.0</td>\n",
       "      <td>smart</td>\n",
       "      <td>Пермь</td>\n",
       "      <td>Dec</td>\n",
       "      <td>550</td>\n",
       "      <td>0.0</td>\n",
       "      <td>16</td>\n",
       "      <td>0.0</td>\n",
       "      <td>48</td>\n",
       "      <td>598</td>\n",
       "    </tr>\n",
       "  </tbody>\n",
       "</table>\n",
       "<p>2229 rows × 15 columns</p>\n",
       "</div>"
      ],
      "text/plain": [
       "      user_id  month  call_count  minutes_sum  sms_count  gb_used tariff  \\\n",
       "8        1001     11        59.0        430.0        0.0     18.0  smart   \n",
       "9        1001     12        63.0        414.0        0.0     14.0  smart   \n",
       "10       1002      6        15.0        117.0        4.0     11.0  smart   \n",
       "11       1002      7        26.0        214.0       11.0     18.0  smart   \n",
       "12       1002      8        42.0        289.0       13.0     20.0  smart   \n",
       "...       ...    ...         ...          ...        ...      ...    ...   \n",
       "3209     1498     10        41.0        247.0       42.0     21.0  smart   \n",
       "3210     1499      9         9.0         70.0       11.0      2.0  smart   \n",
       "3211     1499     10        68.0        449.0       48.0     18.0  smart   \n",
       "3212     1499     11        74.0        612.0       59.0     18.0  smart   \n",
       "3213     1499     12        69.0        492.0       66.0     13.0  smart   \n",
       "\n",
       "             city month_name  subscription fee  minutes_extra  sms_extra  \\\n",
       "8          Москва        Nov               550            0.0          0   \n",
       "9          Москва        Dec               550            0.0          0   \n",
       "10    Стерлитамак        Jun               550            0.0          0   \n",
       "11    Стерлитамак        Jul               550            0.0          0   \n",
       "12    Стерлитамак        Aug               550            0.0          0   \n",
       "...           ...        ...               ...            ...        ...   \n",
       "3209  Владикавказ        Oct               550            0.0          0   \n",
       "3210        Пермь        Sep               550            0.0          0   \n",
       "3211        Пермь        Oct               550            0.0          0   \n",
       "3212        Пермь        Nov               550          112.0          9   \n",
       "3213        Пермь        Dec               550            0.0         16   \n",
       "\n",
       "      gb_extra  payment_extra  month_summ  \n",
       "8          3.0            600        1150  \n",
       "9          0.0              0         550  \n",
       "10         0.0              0         550  \n",
       "11         3.0            600        1150  \n",
       "12         5.0           1000        1550  \n",
       "...        ...            ...         ...  \n",
       "3209       6.0           1200        1750  \n",
       "3210       0.0              0         550  \n",
       "3211       3.0            600        1150  \n",
       "3212       3.0            963        1513  \n",
       "3213       0.0             48         598  \n",
       "\n",
       "[2229 rows x 15 columns]"
      ]
     },
     "execution_count": 56,
     "metadata": {},
     "output_type": "execute_result"
    }
   ],
   "source": [
    "df_smart"
   ]
  },
  {
   "cell_type": "code",
   "execution_count": 57,
   "metadata": {},
   "outputs": [
    {
     "name": "stdout",
     "output_type": "stream",
     "text": [
      "pvalue: 4.2606313931076085e-250\n",
      "Отвергаем нулевую гипотезу\n"
     ]
    }
   ],
   "source": [
    "# Задаем критический уровень\n",
    "alpha = 0.05\n",
    "# Задаем параметр искомого результата\n",
    "results = st.ttest_ind(df_smart['month_summ'],\n",
    "                       df_ultra['month_summ'],\n",
    "                       equal_var = False)\n",
    "# Выводим значение pvalue\n",
    "print('pvalue:', results.pvalue)\n",
    "# Создаем условие\n",
    "if (results.pvalue < alpha):\n",
    "    print(\"Отвергаем нулевую гипотезу\")\n",
    "else:\n",
    "    print(\"Не получилось отвергнуть нулевую гипотезу\")"
   ]
  },
  {
   "cell_type": "markdown",
   "metadata": {},
   "source": [
    "<font color='DarkBlue'><b>Комментарий ревьюера</b></font><br>\n",
    "<font color='DarkGreen'>👌 Хорошо, что для тестирования гипотез использован двусторонний t-тест Стьюдента.</font>"
   ]
  },
  {
   "cell_type": "markdown",
   "metadata": {},
   "source": [
    "Какая средняя выручка выше?"
   ]
  },
  {
   "cell_type": "code",
   "execution_count": 58,
   "metadata": {},
   "outputs": [
    {
     "name": "stdout",
     "output_type": "stream",
     "text": [
      "Средняя выручка по тарифу \"Смарт\" - 1289.97\n",
      "Средняя выручка по тарифу \"Ультра\" - 2070.15\n"
     ]
    }
   ],
   "source": [
    "print('Средняя выручка по тарифу \"Смарт\" - {:.2f}'.format(df_smart['month_summ']\n",
    "                                                          .mean()\n",
    "                                                         )\n",
    "     )\n",
    "print('Средняя выручка по тарифу \"Ультра\" - {:.2f}'.format(df_ultra['month_summ']\n",
    "                                                       .mean()\n",
    "                                                      )\n",
    "     )"
   ]
  },
  {
   "cell_type": "markdown",
   "metadata": {},
   "source": [
    "#### Вывод\n",
    "- Нулевая гипотеза не подтвердилась\n",
    "- Клиенты, использующие тариф \"Ультра\" приносят в среднем меньше денег компании"
   ]
  },
  {
   "cell_type": "markdown",
   "metadata": {},
   "source": [
    "### Cредняя выручка пользователей из Москвы отличается от выручки пользователей из других регионов."
   ]
  },
  {
   "cell_type": "markdown",
   "metadata": {},
   "source": [
    "#### Нулевая гипотеза H0 :\n",
    "- средняя выручка пользователей из Москвы не отличается от выручки пользователей из других регионов.\n",
    "\n",
    "#### Альтернативная двухстороняя гипотеза H1 :\n",
    "- средняя выручка пользователей из Москвы отличается от выручки пользователей из других регионов.\n",
    "\n",
    "Критический уровень значимости - 0.05"
   ]
  },
  {
   "cell_type": "code",
   "execution_count": 59,
   "metadata": {},
   "outputs": [
    {
     "name": "stdout",
     "output_type": "stream",
     "text": [
      "pvalue: 0.5257376663729298\n",
      "Не получилось отвергнуть нулевую гипотезу\n"
     ]
    }
   ],
   "source": [
    "# Применяем филтры методом query\n",
    "df_moscow = df_values.query('city == \"Москва\"')\n",
    "df_other = df_values.query('city != \"Москва\"')\n",
    "# Задаем критический уровень\n",
    "alpha = 0.05\n",
    "# Задаем параметр искомого результата\n",
    "results = st.ttest_ind(df_moscow['month_summ'],\n",
    "                       df_other['month_summ'],\n",
    "                       equal_var = False)\n",
    "# Выводим значение pvalue\n",
    "print('pvalue:', results.pvalue)\n",
    "# Создаем условие\n",
    "if (results.pvalue < alpha):\n",
    "    print(\"Отвергаем нулевую гипотезу\")\n",
    "else:\n",
    "    print(\"Не получилось отвергнуть нулевую гипотезу\")"
   ]
  },
  {
   "cell_type": "markdown",
   "metadata": {},
   "source": [
    "Посмотрим на средние выручки по таблицам"
   ]
  },
  {
   "cell_type": "code",
   "execution_count": 60,
   "metadata": {
    "scrolled": true
   },
   "outputs": [
    {
     "name": "stdout",
     "output_type": "stream",
     "text": [
      "Средняя выручка по Москве - 1546.71\n",
      "Средняя выручка по регионам кроме Москвы - 1524.94\n"
     ]
    }
   ],
   "source": [
    "print('Средняя выручка по Москве - {:.2f}'.format(df_moscow['month_summ']\n",
    "                                                          .mean()\n",
    "                                                         )\n",
    "     )\n",
    "print('Средняя выручка по регионам кроме Москвы - {:.2f}'.format(df_other['month_summ']\n",
    "                                                       .mean()\n",
    "                                                                )\n",
    "     )"
   ]
  },
  {
   "cell_type": "markdown",
   "metadata": {},
   "source": [
    "#### Вывод\n",
    "- Нулевая гипотеза подтвердилась\n",
    "- Средние выручки практически не отличаются для выбранного уровня значимости"
   ]
  },
  {
   "cell_type": "markdown",
   "metadata": {},
   "source": [
    "<font color='DarkBlue'><b>Комментарий ревьюера</b></font><br>\n",
    "<font color='DarkGreen'>👌 Хорошо, что дополнительно показаны средние выручки, как иллюстрация не противоречивости нашей проверки гипотез. 👍</font>"
   ]
  },
  {
   "cell_type": "markdown",
   "metadata": {},
   "source": [
    "## Общий вывод \n",
    "\n",
    "### 1 Загрузка и изучение таблиц:\n",
    "**calls**\n",
    "- явных пропусков в столбцах нет \n",
    "- call_date из object  в datetime\n",
    "- данные преобразованы\n",
    "\n",
    "**internet**\n",
    "- '0   Unnamed: 0' странный столбец, его нет в документации к данным\n",
    "- явных пропусков в столбцах нет \n",
    "- данные преобразованы\n",
    "\n",
    "**messages**\n",
    "- message_date из object в datetime\n",
    "- явных пропусков в столбцах нет  \n",
    "\n",
    "**tariffs**\n",
    "- явных пропусков в столбцах нет \n",
    "- таблица носит справочный характер\n",
    "\n",
    "**users**\n",
    "- churn_date из object в datetime\n",
    "- reg_date из object в datetime\n",
    "- нужно добавить столбцы с месяцем и годом\n",
    "- явных пропусков в столбцах нет \n",
    "\n",
    "### 2 Предобработка данных\n",
    "\n",
    "Мы создали таблицу **df_values** со столбцами, в которых посчитали: \n",
    "\n",
    "- Кол-во звонков, минут разговора, смс, мб интернета по месяцам и пользователям\n",
    "- Сумму привышения лимитов по звонкам, минутам разговора, смс, мб интернета по месяцам и пользователям\n",
    "- Помесячную выручку с каждого пользователя\n",
    "\n",
    "### 3 Анализ данных\n",
    "\n",
    "#### Вывод по длительности звонков\n",
    "\n",
    "##### **Тариф смарт**\n",
    "- Среднее значение: не привышает лимит\n",
    "- Клиенты склонны превышать лимит по длительности звонков\n",
    "- Много звонков\n",
    "\n",
    "##### **Тариф ультра**\n",
    "- Среднее значение: не превышает лимит\n",
    "- Дисперсия: Значительно преобладает над значениями тарифа смарт\n",
    "- Стандартное отклонение: в марте значение максимальное\n",
    "- Клиенты **не** склонны превышать лимит по длительности звонков\n",
    "\n",
    "Звонки по тарифу ультра по длительности предобладают над звонками по тарифу смарт. Наибольшая длителельность по обоим тарифам наблюдается в декабре. Возможно, это обусловленно новогодними праздниками.\n",
    "\n",
    "##### Распределение \n",
    "- Скошено вправо, биноминальное\n",
    "- Количество звонков по тарифу смарт значительно превышает количество звонков по тарифу ультра\n",
    "\n",
    "#### Вывод по количеству сообщений\n",
    "\n",
    "##### **Тариф смарт**\n",
    "- Среднее значение: не превышает лимит\n",
    "- Дисперсия: наибольшие значения к концу года\n",
    "- Клиенты склонны превышать лимит по сообщениям\n",
    "\n",
    "##### **Тариф ультра**\n",
    "- Среднее значение: не превышает лимит\n",
    "- Дисперсия: высокие значения к концу года, наибольшее значение в октябре\n",
    "- Стандартное отклонение: аномалий не обнаружено, максимальное значение в октябре \n",
    "- Клиенты **не** склонны превышать лимит по сообщениям\n",
    " \n",
    "Смс по тарифу ультра по по среднему количество предобладают над звонками по тарифу смарт. Наибольшее количество по обоим тарифам наблюдается в декабре. Возможно, это обусловленно новогодними праздниками.\n",
    "\n",
    "##### Распределение \n",
    "- Биноминальное распределение скошено вправо\n",
    "- Количество сообщений по тарифу смарт превышает количество сообщений по тарифу ультра\n",
    "\n",
    "#### Вывод по объему интернет трафика \n",
    "\n",
    "##### **Тариф смарт**\n",
    "- Среднее значение: аномалий не обнаружено, в декабре наибольшие значения \n",
    "- Дисперсия: аномалий не обнаружено\n",
    "- Стандартное отклонение: аномалий не обнаружено\n",
    "- Клиенты склонны к превышению лимита по трафику\n",
    "\n",
    "##### **Тариф ультра**\n",
    "- Среднее значение: аномалий не обнаружено, в декабре наибольшие значения \n",
    "- Дисперсия: наибольшее значение в марте\n",
    "- Стандартное отклонение: наибольшее значение в марте \n",
    "- Клиенты **склонны** к превышению лимита по трафику\n",
    "\n",
    "Средний объем потребляемого трафика у пользователей тарифа ультра выше, чем у пользователей тарифа смарт. Пользователи тарифа ультра превышают лимит по количеству потребляемого интернет трафика\n",
    "##### Распределение \n",
    "- Биноминальное распределение стремится к нормальному\n",
    "\n",
    "#### Вывод по объему выручки\n",
    "- Объем выручки по тарифу смарт значительно больше объема выручки от пользователей тарифа ультра\n",
    "- Тенденция значительного роста у тарифа смарт наблюдается к концу года"
   ]
  },
  {
   "cell_type": "code",
   "execution_count": 61,
   "metadata": {},
   "outputs": [
    {
     "data": {
      "image/png": "[encoded data removed]",
      "text/plain": [
       "<Figure size 432x288 with 1 Axes>"
      ]
     },
     "metadata": {
      "needs_background": "light"
     },
     "output_type": "display_data"
    }
   ],
   "source": [
    "plt.bar('month', 'payment_extra', data= df_smart, label='smart', alpha=0.5)\n",
    "plt.bar('month', 'payment_extra', data= df_ultra, label='ultra', alpha=0.5)\n",
    "plt.legend()\n",
    "plt.xlabel(\"месяц\")\n",
    "plt.title('Общая выручка по тарифам')\n",
    "plt.show()"
   ]
  },
  {
   "cell_type": "markdown",
   "metadata": {},
   "source": [
    "<font color='DarkBlue'><b>Комментарий ревьюера 2</b></font><br>\n",
    "<font color='DarkGreen'>👌 Очень хорошо, но мы построили динамику выручки в абсолютном выражении, а у нас в течение года идет рост новых клиентов. И здесь не понятно, рост обеспечивается увеличением пользования услугами клиентов или их количеством. По этому лучше строить динамику выручку по средним значениям, см. ниже.</font>"
   ]
  },
  {
   "cell_type": "code",
   "execution_count": 62,
   "metadata": {},
   "outputs": [
    {
     "data": {
      "text/plain": [
       "Text(0, 0.5, 'Рубли')"
      ]
     },
     "execution_count": 62,
     "metadata": {},
     "output_type": "execute_result"
    },
    {
     "data": {
      "image/png": "[encoded data removed]",
      "text/plain": [
       "<Figure size 432x288 with 1 Axes>"
      ]
     },
     "metadata": {
      "needs_background": "light"
     },
     "output_type": "display_data"
    }
   ],
   "source": [
    "# Комментарий ревьюера 2\n",
    "df_values.pivot_table(index='tariff', columns='month', values='month_summ', aggfunc='mean').T.plot(kind='bar', alpha=0.5)\n",
    "plt.title('Средняя ежемесячная выручка по 2-м тарифам за год'+ \"\\n\")\n",
    "plt.xlabel('Месяц')\n",
    "plt.ylabel('Рубли')"
   ]
  },
  {
   "cell_type": "markdown",
   "metadata": {},
   "source": [
    "<font color='DarkBlue'><b>Комментарий ревьюера 2</b></font><br>\n",
    "<font color='DarkGreen'>👌 Вот такой ожидался график. <br>\n",
    "Что теперь получается. Мы провели исследование в соответствии с заданием, но если бы мы показали динамику выручки. То обнаружили бы, что в течение года выручка по тарифу Смарт растет быстрее Ультра. И это надо было отразить в выводах исследования. <br>Реклама это все-таки вложение в будущее, то есть отдача от нее не будет мгновенной. Тогда может рекламой стимулировать растущий тариф? <br>На основе нашего исследования может быть принято обоснованное решение по рекламе тарифа, это повышает ценность нашей работы и наш авторитет, как профессионала. И это повод и зарплату поднять. 😄</font>\n",
    "\n",
    "<font color='Blue'><b>Комментарий студента</b></font><br>\n",
    "<font color='Blue'> Спасибо)</font>"
   ]
  },
  {
   "cell_type": "markdown",
   "metadata": {},
   "source": [
    "<font color='DarkBlue'><b>Комментарий ревьюера 3</b></font><br>\n",
    "<font color='DarkGreen'>👌 Стараемся данные анализировать с разных сторон, появляются совсем не ожиданные результаты. И в следующем проекте рекомендую этот же подход, там многое очевидное не является правильным. </font>"
   ]
  },
  {
   "cell_type": "markdown",
   "metadata": {},
   "source": [
    "### 4 Проверка гипотез\n",
    "\n",
    "#### Средняя выручка пользователей тарифов «Ультра» и «Смарт» различаются\n",
    "\n",
    "##### Вывод по первой гипотезе: \n",
    "- Нулевая гипотеза не подтвердилась\n",
    "- Клиенты, использующие тариф \"Ультра\" приносят в среднем больше денег компании\n",
    "\n",
    "#### Cредняя выручка пользователей из Москвы отличается от выручки пользователей из других регионов.\n",
    " \n",
    "##### Вывод по второй гипотезе: \n",
    "- Нулевая гипотеза подтвердилась\n",
    "- Средние выручки практически не отличаются для выбранного уровня значимости"
   ]
  },
  {
   "cell_type": "markdown",
   "metadata": {},
   "source": [
    "<font color='DarkBlue'><b>Комментарий ревьюера</b></font><br>\n",
    "<font color='Red'>🛠 У нас была цель исследования и в общих выводах мы должны ее отразить.</font><br>\n",
    "<font color='DarkMagenta'>👉 И очень пригодился бы график динамики выручки по месяцам в разрезе тарифов. Есть ли там тренды, выручка по какому-то тарифу растет или падает? Сделаем?</font>"
   ]
  },
  {
   "cell_type": "markdown",
   "metadata": {},
   "source": [
    "<font color='DarkBlue'><b>Заключительный комментарий ревьюера</b></font><br><br>\n",
    "<font color='DarkGreen'>👌 Даниил, проект очень хорошо и детально проработан. И дальше так держать!<br></font>\n",
    "<font color='Red'>🛠 А что бы еще лучше сделать проект нам надо:</font><br>\n",
    "<font color='Red'>🛠 Исправить округление интернет-сессий до целого. Необходимо округлить длительность звонков до минут перед группировкой по месяцам. Перевести интернет-трафик в гигабайты и округлить. Проанализировать пропажу пользователей после объединения таблиц. Надо проверить на пропуски итоговую таблицу после объединения и принять решение по ним. Необходимо провести анализ выручки в разрезе тарифов. В итоговом выводе должна найти свое отражение цель исследования. <br></font>\n",
    "<font color='DarkMagenta'>👉 При исправлении ошибок и недочетов мы приобретем дополнительный опыт и навыки!</font><br>\n",
    "<font color='DarkGreen'>👌 Жду окончательный вариант! Удачи. </font>"
   ]
  },
  {
   "cell_type": "markdown",
   "metadata": {},
   "source": [
    "<font color='DarkBlue'><b>Заключительный комментарий ревьюера 2</b></font><br><br>\n",
    "<font color='DarkGreen'>👌 Даниил, у нас осталась одна ошибка и мы победим проект.<br></font>\n",
    "<font color='Red'>🛠 А что осталось:</font><br>\n",
    "<font color='Red'>🛠 Исправить округление интернет-сессий до целого гигабайта.</font><br>\n",
    "<font color='DarkGreen'>👌 Жду окончательный вариант! Удачи. </font>\n",
    "\n",
    "<font color='Blue'><b>Комментарий студента</b></font><br>\n",
    "<font color='Blue'> Спасибо за ващи комменатрии и замечания, изменил округление</font>"
   ]
  },
  {
   "attachments": {
    "image.png": {
     "image/png": "[encoded data removed]"
    }
   },
   "cell_type": "markdown",
   "metadata": {},
   "source": [
    "<font color='DarkBlue'><b>Заключительный комментарий ревьюера 3</b></font><br><br>\n",
    "<font color='DarkGreen'>👌 Даниил, не смотря на сопротивление проекта, мы его все равно победили! <br>Мы научились собирать из отдельных датасетов общую таблицу для дальнейшего анализа. Делать сравнительный анализ, для чего лучше визуализацию размещать на одной координатной сетке.  Разобрались в динамике выручки. Мы молодцы! 👍<br>Хочу обратить внимание на тщательность анализа данных, мы можем при этом найти информацию, которая для нашего исследования может быть не актуальной, но важной для заказчика исследования и ее лучше отражать в наших выводах.<br></font>\n",
    "<font color='DarkGreen'>👌 А теперь нас ждут новые знания в новом проекте! Удачи! 😉</font>\n",
    "![image.png](attachment:image.png)"
   ]
  }
 ],
 "metadata": {
  "ExecuteTimeLog": [
   {
    "duration": 4,
    "start_time": "2022-07-22T12:29:57.164Z"
   },
   {
    "duration": 380,
    "start_time": "2022-07-22T13:29:12.057Z"
   },
   {
    "duration": 3,
    "start_time": "2022-07-22T13:29:22.158Z"
   },
   {
    "duration": 476,
    "start_time": "2022-07-22T13:33:42.099Z"
   },
   {
    "duration": 471,
    "start_time": "2022-07-22T14:03:20.965Z"
   },
   {
    "duration": 87,
    "start_time": "2022-07-22T14:06:57.276Z"
   },
   {
    "duration": 105,
    "start_time": "2022-07-22T14:07:10.905Z"
   },
   {
    "duration": 1065,
    "start_time": "2022-07-22T14:07:40.890Z"
   },
   {
    "duration": 90,
    "start_time": "2022-07-22T14:17:10.959Z"
   },
   {
    "duration": 6,
    "start_time": "2022-07-22T14:18:48.059Z"
   },
   {
    "duration": 96,
    "start_time": "2022-07-22T14:18:53.267Z"
   },
   {
    "duration": 93,
    "start_time": "2022-07-22T14:18:53.565Z"
   },
   {
    "duration": 8,
    "start_time": "2022-07-22T14:18:53.881Z"
   },
   {
    "duration": 449,
    "start_time": "2022-07-22T14:39:48.382Z"
   },
   {
    "duration": 87,
    "start_time": "2022-07-22T15:23:20.974Z"
   },
   {
    "duration": 41,
    "start_time": "2022-07-22T15:23:55.397Z"
   },
   {
    "duration": 26,
    "start_time": "2022-07-22T15:23:55.780Z"
   },
   {
    "duration": 13,
    "start_time": "2022-07-22T15:23:56.076Z"
   },
   {
    "duration": 26,
    "start_time": "2022-07-22T15:23:56.469Z"
   },
   {
    "duration": 15,
    "start_time": "2022-07-22T15:23:57.676Z"
   },
   {
    "duration": 28,
    "start_time": "2022-07-22T15:37:09.937Z"
   },
   {
    "duration": 9,
    "start_time": "2022-07-22T15:40:05.461Z"
   },
   {
    "duration": 10,
    "start_time": "2022-07-22T15:40:23.860Z"
   },
   {
    "duration": 9,
    "start_time": "2022-07-22T15:40:31.538Z"
   },
   {
    "duration": 9,
    "start_time": "2022-07-22T15:40:32.143Z"
   },
   {
    "duration": 9,
    "start_time": "2022-07-22T15:40:37.434Z"
   },
   {
    "duration": 8,
    "start_time": "2022-07-22T15:40:48.164Z"
   },
   {
    "duration": 10,
    "start_time": "2022-07-22T15:40:48.540Z"
   },
   {
    "duration": 22,
    "start_time": "2022-07-22T15:41:18.417Z"
   },
   {
    "duration": 10,
    "start_time": "2022-07-22T15:41:18.611Z"
   },
   {
    "duration": 8,
    "start_time": "2022-07-22T15:41:21.361Z"
   },
   {
    "duration": 11,
    "start_time": "2022-07-22T15:41:21.531Z"
   },
   {
    "duration": 11,
    "start_time": "2022-07-22T15:41:21.691Z"
   },
   {
    "duration": 16,
    "start_time": "2022-07-22T15:43:13.716Z"
   },
   {
    "duration": 10,
    "start_time": "2022-07-22T15:44:04.562Z"
   },
   {
    "duration": 14,
    "start_time": "2022-07-22T15:44:28.412Z"
   },
   {
    "duration": 21,
    "start_time": "2022-07-22T15:44:37.081Z"
   },
   {
    "duration": 4,
    "start_time": "2022-07-22T15:58:10.228Z"
   },
   {
    "duration": 45,
    "start_time": "2022-07-22T16:28:34.631Z"
   },
   {
    "duration": 105,
    "start_time": "2022-07-22T16:29:17.787Z"
   },
   {
    "duration": 3333,
    "start_time": "2022-07-22T16:31:35.630Z"
   },
   {
    "duration": 2062,
    "start_time": "2022-07-22T16:31:48.147Z"
   },
   {
    "duration": 1965,
    "start_time": "2022-07-22T16:32:02.117Z"
   },
   {
    "duration": 199,
    "start_time": "2022-07-23T14:19:45.978Z"
   },
   {
    "duration": 178,
    "start_time": "2022-07-23T14:19:58.251Z"
   },
   {
    "duration": 193,
    "start_time": "2022-07-23T14:21:49.090Z"
   },
   {
    "duration": 216,
    "start_time": "2022-07-23T14:33:41.394Z"
   },
   {
    "duration": 196,
    "start_time": "2022-07-23T14:34:48.509Z"
   },
   {
    "duration": 293,
    "start_time": "2022-07-23T14:39:18.106Z"
   },
   {
    "duration": 199,
    "start_time": "2022-07-23T14:39:27.177Z"
   },
   {
    "duration": 17,
    "start_time": "2022-07-23T14:39:35.028Z"
   },
   {
    "duration": 32,
    "start_time": "2022-07-23T14:46:50.337Z"
   },
   {
    "duration": 28,
    "start_time": "2022-07-23T14:47:06.213Z"
   },
   {
    "duration": 283,
    "start_time": "2022-07-23T15:23:42.347Z"
   },
   {
    "duration": 199,
    "start_time": "2022-07-23T15:23:50.947Z"
   },
   {
    "duration": 42,
    "start_time": "2022-07-23T15:26:05.403Z"
   },
   {
    "duration": 289,
    "start_time": "2022-07-23T15:26:28.548Z"
   },
   {
    "duration": 41,
    "start_time": "2022-07-23T15:26:29.639Z"
   },
   {
    "duration": 307,
    "start_time": "2022-07-23T15:26:30.321Z"
   },
   {
    "duration": 23,
    "start_time": "2022-07-23T15:26:50.420Z"
   },
   {
    "duration": 299,
    "start_time": "2022-07-23T15:26:55.347Z"
   },
   {
    "duration": 318,
    "start_time": "2022-07-23T15:55:21.405Z"
   },
   {
    "duration": 34,
    "start_time": "2022-07-23T15:55:21.726Z"
   },
   {
    "duration": 4,
    "start_time": "2022-07-23T15:57:51.794Z"
   },
   {
    "duration": 33,
    "start_time": "2022-07-23T16:29:25.961Z"
   },
   {
    "duration": 188,
    "start_time": "2022-07-23T16:29:27.209Z"
   },
   {
    "duration": 3,
    "start_time": "2022-07-23T16:29:31.095Z"
   },
   {
    "duration": 3,
    "start_time": "2022-07-23T16:30:23.764Z"
   },
   {
    "duration": 1613,
    "start_time": "2022-07-23T16:31:47.646Z"
   },
   {
    "duration": 11,
    "start_time": "2022-07-23T16:31:59.154Z"
   },
   {
    "duration": 3,
    "start_time": "2022-07-23T16:38:03.985Z"
   },
   {
    "duration": 826,
    "start_time": "2022-07-23T16:38:12.916Z"
   },
   {
    "duration": 1002,
    "start_time": "2022-07-23T16:38:22.970Z"
   },
   {
    "duration": 846,
    "start_time": "2022-07-23T16:38:49.477Z"
   },
   {
    "duration": 10,
    "start_time": "2022-07-23T16:38:55.053Z"
   },
   {
    "duration": 4351,
    "start_time": "2022-07-25T15:56:47.162Z"
   },
   {
    "duration": 1017,
    "start_time": "2022-07-25T15:56:51.514Z"
   },
   {
    "duration": 57,
    "start_time": "2022-07-25T15:56:52.533Z"
   },
   {
    "duration": 44,
    "start_time": "2022-07-25T15:56:52.592Z"
   },
   {
    "duration": 25,
    "start_time": "2022-07-25T15:56:52.637Z"
   },
   {
    "duration": 11,
    "start_time": "2022-07-25T15:56:52.663Z"
   },
   {
    "duration": 26,
    "start_time": "2022-07-25T15:56:52.675Z"
   },
   {
    "duration": 35,
    "start_time": "2022-07-25T15:56:52.702Z"
   },
   {
    "duration": 7,
    "start_time": "2022-07-25T15:56:52.738Z"
   },
   {
    "duration": 14,
    "start_time": "2022-07-25T15:56:52.748Z"
   },
   {
    "duration": 18,
    "start_time": "2022-07-25T15:56:52.763Z"
   },
   {
    "duration": 56,
    "start_time": "2022-07-25T15:56:52.783Z"
   },
   {
    "duration": 27,
    "start_time": "2022-07-25T15:56:52.841Z"
   },
   {
    "duration": 221,
    "start_time": "2022-07-25T15:56:52.870Z"
   },
   {
    "duration": 29,
    "start_time": "2022-07-25T15:56:53.092Z"
   },
   {
    "duration": 176,
    "start_time": "2022-07-25T15:56:53.130Z"
   },
   {
    "duration": 27,
    "start_time": "2022-07-25T15:56:53.308Z"
   },
   {
    "duration": 3,
    "start_time": "2022-07-25T15:56:53.337Z"
   },
   {
    "duration": 1319,
    "start_time": "2022-07-25T15:56:53.341Z"
   },
   {
    "duration": 3,
    "start_time": "2022-07-25T15:56:54.661Z"
   },
   {
    "duration": 9,
    "start_time": "2022-07-25T16:23:46.858Z"
   },
   {
    "duration": 97,
    "start_time": "2022-07-25T17:03:28.501Z"
   },
   {
    "duration": 22,
    "start_time": "2022-07-25T17:03:37.514Z"
   },
   {
    "duration": 21,
    "start_time": "2022-07-25T17:03:59.047Z"
   },
   {
    "duration": 14,
    "start_time": "2022-07-25T17:05:41.700Z"
   },
   {
    "duration": 14,
    "start_time": "2022-07-25T17:08:53.721Z"
   },
   {
    "duration": 11,
    "start_time": "2022-07-25T17:09:03.907Z"
   },
   {
    "duration": 109,
    "start_time": "2022-07-25T17:09:07.630Z"
   },
   {
    "duration": 11,
    "start_time": "2022-07-25T17:09:11.276Z"
   },
   {
    "duration": 19,
    "start_time": "2022-07-25T17:13:45.728Z"
   },
   {
    "duration": 19,
    "start_time": "2022-07-25T17:16:17.083Z"
   },
   {
    "duration": 99,
    "start_time": "2022-07-25T17:16:46.144Z"
   },
   {
    "duration": 17,
    "start_time": "2022-07-25T17:16:51.248Z"
   },
   {
    "duration": 14,
    "start_time": "2022-07-25T17:16:53.738Z"
   },
   {
    "duration": 16,
    "start_time": "2022-07-25T17:16:54.083Z"
   },
   {
    "duration": 20,
    "start_time": "2022-07-25T17:16:54.946Z"
   },
   {
    "duration": 26,
    "start_time": "2022-07-25T17:17:03.839Z"
   },
   {
    "duration": 24,
    "start_time": "2022-07-25T17:17:13.244Z"
   },
   {
    "duration": 21,
    "start_time": "2022-07-25T17:17:30.578Z"
   },
   {
    "duration": 18,
    "start_time": "2022-07-25T17:17:43.227Z"
   },
   {
    "duration": 8,
    "start_time": "2022-07-25T17:23:53.803Z"
   },
   {
    "duration": 6,
    "start_time": "2022-07-25T17:24:01.670Z"
   },
   {
    "duration": 8,
    "start_time": "2022-07-25T17:24:12.901Z"
   },
   {
    "duration": 19,
    "start_time": "2022-07-25T17:24:17.918Z"
   },
   {
    "duration": 7,
    "start_time": "2022-07-25T17:24:40.126Z"
   },
   {
    "duration": 20,
    "start_time": "2022-07-25T17:25:52.611Z"
   },
   {
    "duration": 13,
    "start_time": "2022-07-25T17:26:04.226Z"
   },
   {
    "duration": 13,
    "start_time": "2022-07-25T17:26:05.148Z"
   },
   {
    "duration": 13,
    "start_time": "2022-07-25T17:26:05.795Z"
   },
   {
    "duration": 21,
    "start_time": "2022-07-25T17:26:06.706Z"
   },
   {
    "duration": 22,
    "start_time": "2022-07-25T17:26:29.706Z"
   },
   {
    "duration": 21,
    "start_time": "2022-07-25T17:26:36.649Z"
   },
   {
    "duration": 20,
    "start_time": "2022-07-25T17:26:45.906Z"
   },
   {
    "duration": 75,
    "start_time": "2022-07-25T17:27:19.952Z"
   },
   {
    "duration": 74,
    "start_time": "2022-07-25T17:27:22.413Z"
   },
   {
    "duration": 32,
    "start_time": "2022-07-25T17:27:27.002Z"
   },
   {
    "duration": 3,
    "start_time": "2022-07-25T17:28:00.088Z"
   },
   {
    "duration": 1405,
    "start_time": "2022-07-25T17:28:01.379Z"
   },
   {
    "duration": 8,
    "start_time": "2022-07-25T17:28:58.606Z"
   },
   {
    "duration": 9,
    "start_time": "2022-07-25T17:29:07.421Z"
   },
   {
    "duration": 21,
    "start_time": "2022-07-25T17:31:47.061Z"
   },
   {
    "duration": 10,
    "start_time": "2022-07-25T17:31:47.610Z"
   },
   {
    "duration": 30,
    "start_time": "2022-07-25T17:32:19.087Z"
   },
   {
    "duration": 9,
    "start_time": "2022-07-25T17:32:19.244Z"
   },
   {
    "duration": 12,
    "start_time": "2022-07-25T17:32:46.976Z"
   },
   {
    "duration": 4344,
    "start_time": "2022-07-26T12:07:42.407Z"
   },
   {
    "duration": 921,
    "start_time": "2022-07-26T12:07:46.753Z"
   },
   {
    "duration": 61,
    "start_time": "2022-07-26T12:07:47.676Z"
   },
   {
    "duration": 32,
    "start_time": "2022-07-26T12:07:47.739Z"
   },
   {
    "duration": 27,
    "start_time": "2022-07-26T12:07:47.773Z"
   },
   {
    "duration": 11,
    "start_time": "2022-07-26T12:07:47.802Z"
   },
   {
    "duration": 23,
    "start_time": "2022-07-26T12:07:47.834Z"
   },
   {
    "duration": 12,
    "start_time": "2022-07-26T12:07:47.859Z"
   },
   {
    "duration": 9,
    "start_time": "2022-07-26T12:07:47.873Z"
   },
   {
    "duration": 10,
    "start_time": "2022-07-26T12:07:47.884Z"
   },
   {
    "duration": 11,
    "start_time": "2022-07-26T12:07:47.895Z"
   },
   {
    "duration": 32,
    "start_time": "2022-07-26T12:07:47.908Z"
   },
   {
    "duration": 11,
    "start_time": "2022-07-26T12:07:47.942Z"
   },
   {
    "duration": 188,
    "start_time": "2022-07-26T12:07:47.955Z"
   },
   {
    "duration": 28,
    "start_time": "2022-07-26T12:07:48.145Z"
   },
   {
    "duration": 165,
    "start_time": "2022-07-26T12:07:48.175Z"
   },
   {
    "duration": 23,
    "start_time": "2022-07-26T12:07:48.342Z"
   },
   {
    "duration": 3,
    "start_time": "2022-07-26T12:07:48.366Z"
   },
   {
    "duration": 1464,
    "start_time": "2022-07-26T12:07:48.371Z"
   },
   {
    "duration": 3,
    "start_time": "2022-07-26T12:07:49.836Z"
   },
   {
    "duration": 25,
    "start_time": "2022-07-26T12:07:49.840Z"
   },
   {
    "duration": 15,
    "start_time": "2022-07-26T12:07:49.866Z"
   },
   {
    "duration": 18,
    "start_time": "2022-07-26T12:07:49.882Z"
   },
   {
    "duration": 47,
    "start_time": "2022-07-26T12:07:49.902Z"
   },
   {
    "duration": 11,
    "start_time": "2022-07-26T12:07:49.950Z"
   },
   {
    "duration": 10,
    "start_time": "2022-07-26T12:21:16.758Z"
   },
   {
    "duration": 12,
    "start_time": "2022-07-26T12:21:36.908Z"
   },
   {
    "duration": 10,
    "start_time": "2022-07-26T12:21:37.258Z"
   },
   {
    "duration": 29,
    "start_time": "2022-07-26T14:03:21.048Z"
   },
   {
    "duration": 11,
    "start_time": "2022-07-26T14:03:23.172Z"
   },
   {
    "duration": 10,
    "start_time": "2022-07-26T14:03:26.573Z"
   },
   {
    "duration": 26,
    "start_time": "2022-07-26T14:03:45.243Z"
   },
   {
    "duration": 10,
    "start_time": "2022-07-26T14:03:45.708Z"
   },
   {
    "duration": 11,
    "start_time": "2022-07-26T14:03:46.165Z"
   },
   {
    "duration": 15,
    "start_time": "2022-07-26T15:47:26.702Z"
   },
   {
    "duration": 28,
    "start_time": "2022-07-26T15:51:20.669Z"
   },
   {
    "duration": 12,
    "start_time": "2022-07-26T15:51:21.308Z"
   },
   {
    "duration": 14,
    "start_time": "2022-07-26T15:51:23.092Z"
   },
   {
    "duration": 1985,
    "start_time": "2022-07-26T16:02:52.729Z"
   },
   {
    "duration": 147,
    "start_time": "2022-07-26T16:03:46.550Z"
   },
   {
    "duration": 36,
    "start_time": "2022-07-26T16:03:53.630Z"
   },
   {
    "duration": 33,
    "start_time": "2022-07-26T16:04:29.033Z"
   },
   {
    "duration": 36,
    "start_time": "2022-07-26T16:04:36.079Z"
   },
   {
    "duration": 3,
    "start_time": "2022-07-26T16:05:31.826Z"
   },
   {
    "duration": 3,
    "start_time": "2022-07-26T16:05:37.764Z"
   },
   {
    "duration": 3,
    "start_time": "2022-07-26T16:05:41.451Z"
   },
   {
    "duration": 67,
    "start_time": "2022-07-26T16:05:49.564Z"
   },
   {
    "duration": 38,
    "start_time": "2022-07-26T16:06:15.931Z"
   },
   {
    "duration": 232,
    "start_time": "2022-07-26T16:06:45.379Z"
   },
   {
    "duration": 52,
    "start_time": "2022-07-26T16:06:57.332Z"
   },
   {
    "duration": 270,
    "start_time": "2022-07-26T16:07:01.131Z"
   },
   {
    "duration": 236,
    "start_time": "2022-07-26T16:07:58.062Z"
   },
   {
    "duration": 92,
    "start_time": "2022-07-26T16:08:05.371Z"
   },
   {
    "duration": 11,
    "start_time": "2022-07-26T16:08:05.848Z"
   },
   {
    "duration": 26,
    "start_time": "2022-07-26T16:08:06.304Z"
   },
   {
    "duration": 49,
    "start_time": "2022-07-26T16:12:43.801Z"
   },
   {
    "duration": 34,
    "start_time": "2022-07-26T16:12:48.031Z"
   },
   {
    "duration": 46,
    "start_time": "2022-07-26T16:14:29.858Z"
   },
   {
    "duration": 3,
    "start_time": "2022-07-26T16:14:33.264Z"
   },
   {
    "duration": 37,
    "start_time": "2022-07-26T16:15:01.358Z"
   },
   {
    "duration": 35,
    "start_time": "2022-07-26T16:17:17.548Z"
   },
   {
    "duration": 766,
    "start_time": "2022-07-26T16:17:38.888Z"
   },
   {
    "duration": 32,
    "start_time": "2022-07-26T16:17:55.633Z"
   },
   {
    "duration": 35,
    "start_time": "2022-07-26T16:18:15.945Z"
   },
   {
    "duration": 530,
    "start_time": "2022-07-26T16:19:54.743Z"
   },
   {
    "duration": 275,
    "start_time": "2022-07-26T16:20:16.637Z"
   },
   {
    "duration": 12,
    "start_time": "2022-07-26T16:20:18.060Z"
   },
   {
    "duration": 15,
    "start_time": "2022-07-26T16:20:21.661Z"
   },
   {
    "duration": 32,
    "start_time": "2022-07-26T16:22:55.001Z"
   },
   {
    "duration": 43,
    "start_time": "2022-07-26T16:23:02.659Z"
   },
   {
    "duration": 88,
    "start_time": "2022-07-26T16:23:34.828Z"
   },
   {
    "duration": 33,
    "start_time": "2022-07-26T16:23:44.819Z"
   },
   {
    "duration": 42,
    "start_time": "2022-07-26T16:26:17.635Z"
   },
   {
    "duration": 38,
    "start_time": "2022-07-26T16:26:57.977Z"
   },
   {
    "duration": 267,
    "start_time": "2022-07-26T16:27:39.121Z"
   },
   {
    "duration": 10,
    "start_time": "2022-07-26T16:27:40.375Z"
   },
   {
    "duration": 15,
    "start_time": "2022-07-26T16:27:42.915Z"
   },
   {
    "duration": 11,
    "start_time": "2022-07-26T16:28:25.363Z"
   },
   {
    "duration": 4,
    "start_time": "2022-07-26T16:28:32.886Z"
   },
   {
    "duration": 50,
    "start_time": "2022-07-26T16:31:57.729Z"
   },
   {
    "duration": 1097,
    "start_time": "2022-07-26T16:33:34.527Z"
   },
   {
    "duration": 402,
    "start_time": "2022-07-26T16:33:35.625Z"
   },
   {
    "duration": 72,
    "start_time": "2022-07-26T16:33:36.028Z"
   },
   {
    "duration": 35,
    "start_time": "2022-07-26T16:33:36.101Z"
   },
   {
    "duration": 25,
    "start_time": "2022-07-26T16:33:36.138Z"
   },
   {
    "duration": 11,
    "start_time": "2022-07-26T16:33:36.165Z"
   },
   {
    "duration": 23,
    "start_time": "2022-07-26T16:33:36.178Z"
   },
   {
    "duration": 39,
    "start_time": "2022-07-26T16:33:36.202Z"
   },
   {
    "duration": 11,
    "start_time": "2022-07-26T16:33:36.242Z"
   },
   {
    "duration": 14,
    "start_time": "2022-07-26T16:33:36.255Z"
   },
   {
    "duration": 12,
    "start_time": "2022-07-26T16:33:36.270Z"
   },
   {
    "duration": 11,
    "start_time": "2022-07-26T16:33:36.283Z"
   },
   {
    "duration": 12,
    "start_time": "2022-07-26T16:33:36.295Z"
   },
   {
    "duration": 186,
    "start_time": "2022-07-26T16:33:36.309Z"
   },
   {
    "duration": 28,
    "start_time": "2022-07-26T16:33:36.497Z"
   },
   {
    "duration": 166,
    "start_time": "2022-07-26T16:33:36.533Z"
   },
   {
    "duration": 22,
    "start_time": "2022-07-26T16:33:36.701Z"
   },
   {
    "duration": 3,
    "start_time": "2022-07-26T16:33:36.733Z"
   },
   {
    "duration": 1400,
    "start_time": "2022-07-26T16:33:36.738Z"
   },
   {
    "duration": 4,
    "start_time": "2022-07-26T16:33:38.139Z"
   },
   {
    "duration": 23,
    "start_time": "2022-07-26T16:33:38.144Z"
   },
   {
    "duration": 13,
    "start_time": "2022-07-26T16:33:38.169Z"
   },
   {
    "duration": 18,
    "start_time": "2022-07-26T16:33:38.183Z"
   },
   {
    "duration": 327,
    "start_time": "2022-07-26T16:33:38.202Z"
   },
   {
    "duration": 11,
    "start_time": "2022-07-26T16:33:38.533Z"
   },
   {
    "duration": 15,
    "start_time": "2022-07-26T16:33:38.545Z"
   },
   {
    "duration": 6,
    "start_time": "2022-07-26T16:33:38.561Z"
   },
   {
    "duration": 249,
    "start_time": "2022-07-26T16:44:29.127Z"
   },
   {
    "duration": 11,
    "start_time": "2022-07-26T16:44:30.425Z"
   },
   {
    "duration": 16,
    "start_time": "2022-07-26T16:44:31.153Z"
   },
   {
    "duration": 247,
    "start_time": "2022-07-26T16:46:19.157Z"
   },
   {
    "duration": 11,
    "start_time": "2022-07-26T16:46:20.340Z"
   },
   {
    "duration": 15,
    "start_time": "2022-07-26T16:46:20.868Z"
   },
   {
    "duration": 293,
    "start_time": "2022-07-26T16:46:31.261Z"
   },
   {
    "duration": 12,
    "start_time": "2022-07-26T16:46:31.932Z"
   },
   {
    "duration": 20,
    "start_time": "2022-07-26T16:46:32.660Z"
   },
   {
    "duration": 4,
    "start_time": "2022-07-26T16:46:38.664Z"
   },
   {
    "duration": 257,
    "start_time": "2022-07-26T16:46:43.593Z"
   },
   {
    "duration": 10,
    "start_time": "2022-07-26T16:46:44.113Z"
   },
   {
    "duration": 14,
    "start_time": "2022-07-26T16:46:44.705Z"
   },
   {
    "duration": 5,
    "start_time": "2022-07-26T16:46:45.476Z"
   },
   {
    "duration": 261,
    "start_time": "2022-07-26T16:48:30.750Z"
   },
   {
    "duration": 12,
    "start_time": "2022-07-26T16:48:31.105Z"
   },
   {
    "duration": 26,
    "start_time": "2022-07-26T16:48:54.946Z"
   },
   {
    "duration": 10,
    "start_time": "2022-07-26T16:48:55.504Z"
   },
   {
    "duration": 14,
    "start_time": "2022-07-26T16:48:56.032Z"
   },
   {
    "duration": 928,
    "start_time": "2022-07-26T16:48:56.643Z"
   },
   {
    "duration": 8,
    "start_time": "2022-07-26T16:50:24.862Z"
   },
   {
    "duration": 7,
    "start_time": "2022-07-26T16:50:27.793Z"
   },
   {
    "duration": 9,
    "start_time": "2022-07-26T16:50:40.683Z"
   },
   {
    "duration": 16,
    "start_time": "2022-07-26T16:50:45.816Z"
   },
   {
    "duration": 828,
    "start_time": "2022-07-26T16:52:40.674Z"
   },
   {
    "duration": 0,
    "start_time": "2022-07-26T16:52:41.503Z"
   },
   {
    "duration": 35,
    "start_time": "2022-07-26T16:52:50.021Z"
   },
   {
    "duration": 11,
    "start_time": "2022-07-26T16:52:50.410Z"
   },
   {
    "duration": 15,
    "start_time": "2022-07-26T16:52:51.642Z"
   },
   {
    "duration": 84,
    "start_time": "2022-07-26T16:53:27.137Z"
   },
   {
    "duration": 11,
    "start_time": "2022-07-26T16:53:27.518Z"
   },
   {
    "duration": 15,
    "start_time": "2022-07-26T16:53:28.008Z"
   },
   {
    "duration": 37,
    "start_time": "2022-07-26T16:53:57.072Z"
   },
   {
    "duration": 11,
    "start_time": "2022-07-26T16:53:57.432Z"
   },
   {
    "duration": 15,
    "start_time": "2022-07-26T16:54:09.624Z"
   },
   {
    "duration": 16,
    "start_time": "2022-07-26T16:54:10.459Z"
   },
   {
    "duration": 8,
    "start_time": "2022-07-26T16:54:10.951Z"
   },
   {
    "duration": 7,
    "start_time": "2022-07-26T17:04:54.561Z"
   },
   {
    "duration": 10,
    "start_time": "2022-07-26T17:07:19.631Z"
   },
   {
    "duration": 5,
    "start_time": "2022-07-26T17:08:36.770Z"
   },
   {
    "duration": 17,
    "start_time": "2022-07-26T17:08:40.104Z"
   },
   {
    "duration": 37,
    "start_time": "2022-07-26T17:10:29.886Z"
   },
   {
    "duration": 12,
    "start_time": "2022-07-26T17:10:30.323Z"
   },
   {
    "duration": 18,
    "start_time": "2022-07-26T17:10:30.605Z"
   },
   {
    "duration": 20,
    "start_time": "2022-07-26T17:10:31.372Z"
   },
   {
    "duration": 3,
    "start_time": "2022-07-26T17:25:46.580Z"
   },
   {
    "duration": 374,
    "start_time": "2022-07-26T17:25:47.032Z"
   },
   {
    "duration": 59,
    "start_time": "2022-07-26T17:25:47.408Z"
   },
   {
    "duration": 25,
    "start_time": "2022-07-26T17:25:47.779Z"
   },
   {
    "duration": 24,
    "start_time": "2022-07-26T17:25:47.931Z"
   },
   {
    "duration": 13,
    "start_time": "2022-07-26T17:25:48.107Z"
   },
   {
    "duration": 24,
    "start_time": "2022-07-26T17:25:48.259Z"
   },
   {
    "duration": 13,
    "start_time": "2022-07-26T17:25:48.427Z"
   },
   {
    "duration": 8,
    "start_time": "2022-07-26T17:25:48.924Z"
   },
   {
    "duration": 9,
    "start_time": "2022-07-26T17:25:49.106Z"
   },
   {
    "duration": 7,
    "start_time": "2022-07-26T17:25:49.275Z"
   },
   {
    "duration": 7,
    "start_time": "2022-07-26T17:25:49.443Z"
   },
   {
    "duration": 10,
    "start_time": "2022-07-26T17:25:49.635Z"
   },
   {
    "duration": 163,
    "start_time": "2022-07-26T17:25:50.519Z"
   },
   {
    "duration": 25,
    "start_time": "2022-07-26T17:25:51.668Z"
   },
   {
    "duration": 150,
    "start_time": "2022-07-26T17:25:52.100Z"
   },
   {
    "duration": 22,
    "start_time": "2022-07-26T17:25:52.482Z"
   },
   {
    "duration": 3,
    "start_time": "2022-07-26T17:25:53.587Z"
   },
   {
    "duration": 1456,
    "start_time": "2022-07-26T17:25:53.773Z"
   },
   {
    "duration": 4,
    "start_time": "2022-07-26T17:25:55.231Z"
   },
   {
    "duration": 17,
    "start_time": "2022-07-26T17:25:55.971Z"
   },
   {
    "duration": 15,
    "start_time": "2022-07-26T17:25:56.339Z"
   },
   {
    "duration": 19,
    "start_time": "2022-07-26T17:25:56.685Z"
   },
   {
    "duration": 39,
    "start_time": "2022-07-26T17:25:57.020Z"
   },
   {
    "duration": 11,
    "start_time": "2022-07-26T17:25:57.194Z"
   },
   {
    "duration": 16,
    "start_time": "2022-07-26T17:25:57.379Z"
   },
   {
    "duration": 17,
    "start_time": "2022-07-26T17:25:57.762Z"
   },
   {
    "duration": 47,
    "start_time": "2022-07-27T15:48:23.834Z"
   },
   {
    "duration": 45,
    "start_time": "2022-07-27T15:49:50.142Z"
   },
   {
    "duration": 882,
    "start_time": "2022-07-27T15:50:01.981Z"
   },
   {
    "duration": 232,
    "start_time": "2022-07-27T15:50:11.949Z"
   },
   {
    "duration": 37,
    "start_time": "2022-07-27T15:50:19.965Z"
   },
   {
    "duration": 12,
    "start_time": "2022-07-27T15:50:20.743Z"
   },
   {
    "duration": 16,
    "start_time": "2022-07-27T15:50:21.144Z"
   },
   {
    "duration": 8,
    "start_time": "2022-07-27T16:02:27.236Z"
   },
   {
    "duration": 52,
    "start_time": "2022-07-30T17:53:09.932Z"
   },
   {
    "duration": 1213,
    "start_time": "2022-07-30T17:53:22.494Z"
   },
   {
    "duration": 919,
    "start_time": "2022-07-30T17:53:23.709Z"
   },
   {
    "duration": 79,
    "start_time": "2022-07-30T17:53:24.630Z"
   },
   {
    "duration": 46,
    "start_time": "2022-07-30T17:53:24.712Z"
   },
   {
    "duration": 29,
    "start_time": "2022-07-30T17:53:24.760Z"
   },
   {
    "duration": 12,
    "start_time": "2022-07-30T17:53:24.791Z"
   },
   {
    "duration": 46,
    "start_time": "2022-07-30T17:53:24.805Z"
   },
   {
    "duration": 15,
    "start_time": "2022-07-30T17:53:24.853Z"
   },
   {
    "duration": 11,
    "start_time": "2022-07-30T17:53:24.870Z"
   },
   {
    "duration": 15,
    "start_time": "2022-07-30T17:53:24.884Z"
   },
   {
    "duration": 12,
    "start_time": "2022-07-30T17:53:24.901Z"
   },
   {
    "duration": 10,
    "start_time": "2022-07-30T17:53:24.937Z"
   },
   {
    "duration": 12,
    "start_time": "2022-07-30T17:53:24.948Z"
   },
   {
    "duration": 207,
    "start_time": "2022-07-30T17:53:24.962Z"
   },
   {
    "duration": 31,
    "start_time": "2022-07-30T17:53:25.171Z"
   },
   {
    "duration": 212,
    "start_time": "2022-07-30T17:53:25.204Z"
   },
   {
    "duration": 32,
    "start_time": "2022-07-30T17:53:25.418Z"
   },
   {
    "duration": 6,
    "start_time": "2022-07-30T17:53:25.451Z"
   },
   {
    "duration": 1302,
    "start_time": "2022-07-30T17:53:25.459Z"
   },
   {
    "duration": 3,
    "start_time": "2022-07-30T17:53:26.763Z"
   },
   {
    "duration": 27,
    "start_time": "2022-07-30T17:53:26.767Z"
   },
   {
    "duration": 13,
    "start_time": "2022-07-30T17:53:26.796Z"
   },
   {
    "duration": 36,
    "start_time": "2022-07-30T17:53:26.811Z"
   },
   {
    "duration": 99,
    "start_time": "2022-07-30T17:53:26.849Z"
   },
   {
    "duration": 12,
    "start_time": "2022-07-30T17:53:26.949Z"
   },
   {
    "duration": 17,
    "start_time": "2022-07-30T17:53:26.963Z"
   },
   {
    "duration": 10,
    "start_time": "2022-07-30T17:53:26.982Z"
   },
   {
    "duration": 44,
    "start_time": "2022-07-30T17:53:26.995Z"
   },
   {
    "duration": 232,
    "start_time": "2022-07-30T17:53:27.041Z"
   },
   {
    "duration": 193,
    "start_time": "2022-07-30T17:54:17.224Z"
   },
   {
    "duration": 22,
    "start_time": "2022-07-30T17:54:32.054Z"
   },
   {
    "duration": 197,
    "start_time": "2022-07-30T18:16:18.271Z"
   },
   {
    "duration": 22,
    "start_time": "2022-07-30T18:16:18.693Z"
   },
   {
    "duration": 1223,
    "start_time": "2022-07-31T16:42:18.176Z"
   },
   {
    "duration": 870,
    "start_time": "2022-07-31T16:42:19.400Z"
   },
   {
    "duration": 66,
    "start_time": "2022-07-31T16:42:20.272Z"
   },
   {
    "duration": 32,
    "start_time": "2022-07-31T16:42:20.340Z"
   },
   {
    "duration": 27,
    "start_time": "2022-07-31T16:42:20.373Z"
   },
   {
    "duration": 31,
    "start_time": "2022-07-31T16:42:20.402Z"
   },
   {
    "duration": 24,
    "start_time": "2022-07-31T16:42:20.435Z"
   },
   {
    "duration": 15,
    "start_time": "2022-07-31T16:42:20.460Z"
   },
   {
    "duration": 13,
    "start_time": "2022-07-31T16:42:20.477Z"
   },
   {
    "duration": 13,
    "start_time": "2022-07-31T16:42:20.493Z"
   },
   {
    "duration": 29,
    "start_time": "2022-07-31T16:42:20.508Z"
   },
   {
    "duration": 10,
    "start_time": "2022-07-31T16:42:20.539Z"
   },
   {
    "duration": 14,
    "start_time": "2022-07-31T16:42:20.551Z"
   },
   {
    "duration": 186,
    "start_time": "2022-07-31T16:42:20.567Z"
   },
   {
    "duration": 30,
    "start_time": "2022-07-31T16:42:20.755Z"
   },
   {
    "duration": 176,
    "start_time": "2022-07-31T16:42:20.787Z"
   },
   {
    "duration": 24,
    "start_time": "2022-07-31T16:42:20.965Z"
   },
   {
    "duration": 5,
    "start_time": "2022-07-31T16:42:20.991Z"
   },
   {
    "duration": 1515,
    "start_time": "2022-07-31T16:42:20.997Z"
   },
   {
    "duration": 5,
    "start_time": "2022-07-31T16:42:22.513Z"
   },
   {
    "duration": 38,
    "start_time": "2022-07-31T16:42:22.521Z"
   },
   {
    "duration": 22,
    "start_time": "2022-07-31T16:42:22.561Z"
   },
   {
    "duration": 22,
    "start_time": "2022-07-31T16:42:22.585Z"
   },
   {
    "duration": 126,
    "start_time": "2022-07-31T16:42:22.610Z"
   },
   {
    "duration": 14,
    "start_time": "2022-07-31T16:42:22.738Z"
   },
   {
    "duration": 22,
    "start_time": "2022-07-31T16:42:22.754Z"
   },
   {
    "duration": 19,
    "start_time": "2022-07-31T16:42:22.778Z"
   },
   {
    "duration": 36,
    "start_time": "2022-07-31T16:42:22.800Z"
   },
   {
    "duration": 266,
    "start_time": "2022-07-31T16:42:22.837Z"
   },
   {
    "duration": 31,
    "start_time": "2022-07-31T16:42:23.105Z"
   },
   {
    "duration": 11,
    "start_time": "2022-07-31T16:42:59.888Z"
   },
   {
    "duration": 59,
    "start_time": "2022-07-31T16:45:36.789Z"
   },
   {
    "duration": 57,
    "start_time": "2022-07-31T16:46:24.038Z"
   },
   {
    "duration": 216,
    "start_time": "2022-07-31T16:47:10.876Z"
   },
   {
    "duration": 12,
    "start_time": "2022-07-31T16:47:12.016Z"
   },
   {
    "duration": 206,
    "start_time": "2022-07-31T16:47:32.967Z"
   },
   {
    "duration": 12,
    "start_time": "2022-07-31T16:47:33.502Z"
   },
   {
    "duration": 4,
    "start_time": "2022-07-31T16:48:41.477Z"
   },
   {
    "duration": 1687,
    "start_time": "2022-07-31T16:48:41.591Z"
   },
   {
    "duration": 1017,
    "start_time": "2022-07-31T16:48:43.280Z"
   },
   {
    "duration": 0,
    "start_time": "2022-07-31T16:48:44.298Z"
   },
   {
    "duration": 0,
    "start_time": "2022-07-31T16:48:44.300Z"
   },
   {
    "duration": 0,
    "start_time": "2022-07-31T16:48:44.301Z"
   },
   {
    "duration": 0,
    "start_time": "2022-07-31T16:48:44.302Z"
   },
   {
    "duration": 0,
    "start_time": "2022-07-31T16:48:44.304Z"
   },
   {
    "duration": 0,
    "start_time": "2022-07-31T16:48:44.305Z"
   },
   {
    "duration": 7,
    "start_time": "2022-07-31T16:48:44.692Z"
   },
   {
    "duration": 34,
    "start_time": "2022-07-31T16:48:45.171Z"
   },
   {
    "duration": 218,
    "start_time": "2022-07-31T16:48:45.853Z"
   },
   {
    "duration": 367,
    "start_time": "2022-07-31T16:54:14.522Z"
   },
   {
    "duration": 58,
    "start_time": "2022-07-31T16:55:42.361Z"
   },
   {
    "duration": 19,
    "start_time": "2022-07-31T16:55:46.056Z"
   },
   {
    "duration": 24,
    "start_time": "2022-07-31T16:55:57.322Z"
   },
   {
    "duration": 24,
    "start_time": "2022-07-31T16:56:08.960Z"
   },
   {
    "duration": 15,
    "start_time": "2022-07-31T16:57:05.711Z"
   },
   {
    "duration": 16,
    "start_time": "2022-07-31T16:57:10.358Z"
   },
   {
    "duration": 29,
    "start_time": "2022-07-31T16:59:58.490Z"
   },
   {
    "duration": 8,
    "start_time": "2022-07-31T17:00:07.787Z"
   },
   {
    "duration": 10,
    "start_time": "2022-07-31T17:00:23.265Z"
   },
   {
    "duration": 14,
    "start_time": "2022-07-31T17:01:54.192Z"
   },
   {
    "duration": 10,
    "start_time": "2022-07-31T17:02:12.874Z"
   },
   {
    "duration": 19,
    "start_time": "2022-07-31T17:02:53.153Z"
   },
   {
    "duration": 23,
    "start_time": "2022-07-31T17:03:06.662Z"
   },
   {
    "duration": 11,
    "start_time": "2022-07-31T17:03:38.591Z"
   },
   {
    "duration": 13,
    "start_time": "2022-07-31T17:03:48.751Z"
   },
   {
    "duration": 16,
    "start_time": "2022-07-31T17:04:04.644Z"
   },
   {
    "duration": 1427,
    "start_time": "2022-08-01T10:09:34.757Z"
   },
   {
    "duration": 1787,
    "start_time": "2022-08-01T10:09:36.186Z"
   },
   {
    "duration": 82,
    "start_time": "2022-08-01T10:09:37.975Z"
   },
   {
    "duration": 36,
    "start_time": "2022-08-01T10:09:38.059Z"
   },
   {
    "duration": 44,
    "start_time": "2022-08-01T10:09:38.096Z"
   },
   {
    "duration": 16,
    "start_time": "2022-08-01T10:09:38.147Z"
   },
   {
    "duration": 44,
    "start_time": "2022-08-01T10:09:38.166Z"
   },
   {
    "duration": 21,
    "start_time": "2022-08-01T10:09:38.227Z"
   },
   {
    "duration": 27,
    "start_time": "2022-08-01T10:09:38.250Z"
   },
   {
    "duration": 12,
    "start_time": "2022-08-01T10:09:38.282Z"
   },
   {
    "duration": 16,
    "start_time": "2022-08-01T10:09:38.295Z"
   },
   {
    "duration": 50,
    "start_time": "2022-08-01T10:09:38.313Z"
   },
   {
    "duration": 17,
    "start_time": "2022-08-01T10:09:38.365Z"
   },
   {
    "duration": 272,
    "start_time": "2022-08-01T10:09:38.386Z"
   },
   {
    "duration": 34,
    "start_time": "2022-08-01T10:09:38.659Z"
   },
   {
    "duration": 279,
    "start_time": "2022-08-01T10:09:38.694Z"
   },
   {
    "duration": 30,
    "start_time": "2022-08-01T10:09:38.976Z"
   },
   {
    "duration": 16,
    "start_time": "2022-08-01T10:09:39.009Z"
   },
   {
    "duration": 1683,
    "start_time": "2022-08-01T10:09:39.027Z"
   },
   {
    "duration": 4,
    "start_time": "2022-08-01T10:09:40.712Z"
   },
   {
    "duration": 53,
    "start_time": "2022-08-01T10:09:40.722Z"
   },
   {
    "duration": 15,
    "start_time": "2022-08-01T10:09:40.776Z"
   },
   {
    "duration": 21,
    "start_time": "2022-08-01T10:09:40.793Z"
   },
   {
    "duration": 118,
    "start_time": "2022-08-01T10:09:40.816Z"
   },
   {
    "duration": 16,
    "start_time": "2022-08-01T10:09:40.936Z"
   },
   {
    "duration": 24,
    "start_time": "2022-08-01T10:09:40.954Z"
   },
   {
    "duration": 11,
    "start_time": "2022-08-01T10:09:40.980Z"
   },
   {
    "duration": 19,
    "start_time": "2022-08-01T10:09:40.995Z"
   },
   {
    "duration": 258,
    "start_time": "2022-08-01T10:09:41.023Z"
   },
   {
    "duration": 17,
    "start_time": "2022-08-01T10:09:41.283Z"
   },
   {
    "duration": 22,
    "start_time": "2022-08-01T10:09:41.302Z"
   },
   {
    "duration": 445,
    "start_time": "2022-08-01T10:09:41.330Z"
   },
   {
    "duration": 1673,
    "start_time": "2022-08-01T14:17:12.081Z"
   },
   {
    "duration": 2182,
    "start_time": "2022-08-01T14:17:13.756Z"
   },
   {
    "duration": 135,
    "start_time": "2022-08-01T14:17:15.939Z"
   },
   {
    "duration": 69,
    "start_time": "2022-08-01T14:17:16.083Z"
   },
   {
    "duration": 78,
    "start_time": "2022-08-01T14:17:16.154Z"
   },
   {
    "duration": 51,
    "start_time": "2022-08-01T14:17:16.235Z"
   },
   {
    "duration": 83,
    "start_time": "2022-08-01T14:17:16.291Z"
   },
   {
    "duration": 54,
    "start_time": "2022-08-01T14:17:16.380Z"
   },
   {
    "duration": 12,
    "start_time": "2022-08-01T14:17:16.440Z"
   },
   {
    "duration": 45,
    "start_time": "2022-08-01T14:17:16.455Z"
   },
   {
    "duration": 74,
    "start_time": "2022-08-01T14:17:16.502Z"
   },
   {
    "duration": 74,
    "start_time": "2022-08-01T14:17:16.581Z"
   },
   {
    "duration": 112,
    "start_time": "2022-08-01T14:17:16.657Z"
   },
   {
    "duration": 382,
    "start_time": "2022-08-01T14:17:16.771Z"
   },
   {
    "duration": 73,
    "start_time": "2022-08-01T14:17:17.155Z"
   },
   {
    "duration": 268,
    "start_time": "2022-08-01T14:17:17.234Z"
   },
   {
    "duration": 42,
    "start_time": "2022-08-01T14:17:17.504Z"
   },
   {
    "duration": 59,
    "start_time": "2022-08-01T14:17:17.548Z"
   },
   {
    "duration": 2052,
    "start_time": "2022-08-01T14:17:17.608Z"
   },
   {
    "duration": 11,
    "start_time": "2022-08-01T14:17:19.667Z"
   },
   {
    "duration": 78,
    "start_time": "2022-08-01T14:17:19.680Z"
   },
   {
    "duration": 37,
    "start_time": "2022-08-01T14:17:19.760Z"
   },
   {
    "duration": 50,
    "start_time": "2022-08-01T14:17:19.805Z"
   },
   {
    "duration": 149,
    "start_time": "2022-08-01T14:17:19.857Z"
   },
   {
    "duration": 14,
    "start_time": "2022-08-01T14:17:20.007Z"
   },
   {
    "duration": 92,
    "start_time": "2022-08-01T14:17:20.023Z"
   },
   {
    "duration": 120,
    "start_time": "2022-08-01T14:17:20.117Z"
   },
   {
    "duration": 60,
    "start_time": "2022-08-01T14:17:20.241Z"
   },
   {
    "duration": 332,
    "start_time": "2022-08-01T14:17:20.303Z"
   },
   {
    "duration": 21,
    "start_time": "2022-08-01T14:17:20.638Z"
   },
   {
    "duration": 100,
    "start_time": "2022-08-01T14:17:20.667Z"
   },
   {
    "duration": 673,
    "start_time": "2022-08-01T14:17:20.769Z"
   },
   {
    "duration": 2063,
    "start_time": "2022-08-01T14:19:12.378Z"
   },
   {
    "duration": 268,
    "start_time": "2022-08-01T14:19:30.188Z"
   },
   {
    "duration": 3,
    "start_time": "2022-08-01T14:21:07.936Z"
   },
   {
    "duration": 15,
    "start_time": "2022-08-01T16:41:05.579Z"
   },
   {
    "duration": 8,
    "start_time": "2022-08-01T16:41:57.134Z"
   },
   {
    "duration": 10,
    "start_time": "2022-08-01T16:42:03.205Z"
   },
   {
    "duration": 13,
    "start_time": "2022-08-01T16:42:09.746Z"
   },
   {
    "duration": 8,
    "start_time": "2022-08-01T16:42:10.935Z"
   },
   {
    "duration": 18,
    "start_time": "2022-08-01T16:42:58.692Z"
   },
   {
    "duration": 9,
    "start_time": "2022-08-01T16:42:58.808Z"
   },
   {
    "duration": 10,
    "start_time": "2022-08-01T17:34:19.141Z"
   },
   {
    "duration": 24,
    "start_time": "2022-08-01T17:34:32.918Z"
   },
   {
    "duration": 25,
    "start_time": "2022-08-01T17:36:06.937Z"
   },
   {
    "duration": 27,
    "start_time": "2022-08-01T17:36:23.617Z"
   },
   {
    "duration": 33,
    "start_time": "2022-08-01T17:36:32.923Z"
   },
   {
    "duration": 18,
    "start_time": "2022-08-01T17:36:38.020Z"
   },
   {
    "duration": 24,
    "start_time": "2022-08-01T17:36:50.981Z"
   },
   {
    "duration": 25,
    "start_time": "2022-08-01T17:36:58.307Z"
   },
   {
    "duration": 23,
    "start_time": "2022-08-01T17:37:29.859Z"
   },
   {
    "duration": 26,
    "start_time": "2022-08-01T17:38:27.991Z"
   },
   {
    "duration": 10,
    "start_time": "2022-08-01T17:38:34.469Z"
   },
   {
    "duration": 8,
    "start_time": "2022-08-01T17:38:34.630Z"
   },
   {
    "duration": 33,
    "start_time": "2022-08-01T17:38:35.438Z"
   },
   {
    "duration": 25,
    "start_time": "2022-08-01T17:47:19.000Z"
   },
   {
    "duration": 25,
    "start_time": "2022-08-01T17:47:39.823Z"
   },
   {
    "duration": 27,
    "start_time": "2022-08-01T17:47:47.799Z"
   },
   {
    "duration": 23,
    "start_time": "2022-08-01T17:50:16.869Z"
   },
   {
    "duration": 24,
    "start_time": "2022-08-01T17:50:17.373Z"
   },
   {
    "duration": 26,
    "start_time": "2022-08-01T17:50:18.164Z"
   },
   {
    "duration": 9,
    "start_time": "2022-08-01T17:58:59.059Z"
   },
   {
    "duration": 7,
    "start_time": "2022-08-01T17:58:59.455Z"
   },
   {
    "duration": 25,
    "start_time": "2022-08-01T18:00:56.844Z"
   },
   {
    "duration": 32,
    "start_time": "2022-08-01T18:13:15.540Z"
   },
   {
    "duration": 30,
    "start_time": "2022-08-01T18:13:57.261Z"
   },
   {
    "duration": 74,
    "start_time": "2022-08-01T18:16:39.981Z"
   },
   {
    "duration": 40,
    "start_time": "2022-08-01T18:17:14.597Z"
   },
   {
    "duration": 35,
    "start_time": "2022-08-01T18:17:23.016Z"
   },
   {
    "duration": 36,
    "start_time": "2022-08-01T18:17:34.419Z"
   },
   {
    "duration": 1116,
    "start_time": "2022-08-01T18:17:38.861Z"
   },
   {
    "duration": 430,
    "start_time": "2022-08-01T18:17:39.979Z"
   },
   {
    "duration": 72,
    "start_time": "2022-08-01T18:17:40.411Z"
   },
   {
    "duration": 31,
    "start_time": "2022-08-01T18:17:40.484Z"
   },
   {
    "duration": 28,
    "start_time": "2022-08-01T18:17:40.517Z"
   },
   {
    "duration": 16,
    "start_time": "2022-08-01T18:17:40.560Z"
   },
   {
    "duration": 49,
    "start_time": "2022-08-01T18:17:40.578Z"
   },
   {
    "duration": 31,
    "start_time": "2022-08-01T18:17:40.629Z"
   },
   {
    "duration": 43,
    "start_time": "2022-08-01T18:17:40.662Z"
   },
   {
    "duration": 22,
    "start_time": "2022-08-01T18:17:40.708Z"
   },
   {
    "duration": 40,
    "start_time": "2022-08-01T18:17:40.732Z"
   },
   {
    "duration": 48,
    "start_time": "2022-08-01T18:17:40.775Z"
   },
   {
    "duration": 39,
    "start_time": "2022-08-01T18:17:40.824Z"
   },
   {
    "duration": 234,
    "start_time": "2022-08-01T18:17:40.865Z"
   },
   {
    "duration": 32,
    "start_time": "2022-08-01T18:17:41.101Z"
   },
   {
    "duration": 177,
    "start_time": "2022-08-01T18:17:41.134Z"
   },
   {
    "duration": 26,
    "start_time": "2022-08-01T18:17:41.313Z"
   },
   {
    "duration": 4,
    "start_time": "2022-08-01T18:17:41.341Z"
   },
   {
    "duration": 1455,
    "start_time": "2022-08-01T18:17:41.360Z"
   },
   {
    "duration": 4,
    "start_time": "2022-08-01T18:17:42.816Z"
   },
   {
    "duration": 62,
    "start_time": "2022-08-01T18:17:42.821Z"
   },
   {
    "duration": 16,
    "start_time": "2022-08-01T18:17:42.885Z"
   },
   {
    "duration": 33,
    "start_time": "2022-08-01T18:17:42.902Z"
   },
   {
    "duration": 98,
    "start_time": "2022-08-01T18:17:42.936Z"
   },
   {
    "duration": 27,
    "start_time": "2022-08-01T18:17:43.036Z"
   },
   {
    "duration": 24,
    "start_time": "2022-08-01T18:17:43.065Z"
   },
   {
    "duration": 13,
    "start_time": "2022-08-01T18:17:43.090Z"
   },
   {
    "duration": 32,
    "start_time": "2022-08-01T18:17:43.107Z"
   },
   {
    "duration": 246,
    "start_time": "2022-08-01T18:17:43.161Z"
   },
   {
    "duration": 18,
    "start_time": "2022-08-01T18:17:43.409Z"
   },
   {
    "duration": 13,
    "start_time": "2022-08-01T18:17:43.429Z"
   },
   {
    "duration": 23,
    "start_time": "2022-08-01T18:17:43.443Z"
   },
   {
    "duration": 72,
    "start_time": "2022-08-01T18:17:43.468Z"
   },
   {
    "duration": 54,
    "start_time": "2022-08-01T18:17:43.542Z"
   },
   {
    "duration": 38,
    "start_time": "2022-08-01T18:17:43.598Z"
   },
   {
    "duration": 37,
    "start_time": "2022-08-01T18:24:33.257Z"
   },
   {
    "duration": 38,
    "start_time": "2022-08-01T18:24:48.432Z"
   },
   {
    "duration": 122,
    "start_time": "2022-08-01T18:26:31.478Z"
   },
   {
    "duration": 32,
    "start_time": "2022-08-01T18:26:37.118Z"
   },
   {
    "duration": 68,
    "start_time": "2022-08-01T18:26:40.635Z"
   },
   {
    "duration": 32,
    "start_time": "2022-08-01T18:26:43.165Z"
   },
   {
    "duration": 51,
    "start_time": "2022-08-01T18:27:20.280Z"
   },
   {
    "duration": 32,
    "start_time": "2022-08-01T18:54:11.944Z"
   },
   {
    "duration": 34,
    "start_time": "2022-08-01T18:54:24.865Z"
   },
   {
    "duration": 38,
    "start_time": "2022-08-01T18:54:29.881Z"
   },
   {
    "duration": 37,
    "start_time": "2022-08-01T18:54:33.146Z"
   },
   {
    "duration": 49,
    "start_time": "2022-08-01T18:55:05.507Z"
   },
   {
    "duration": 64,
    "start_time": "2022-08-01T18:55:21.980Z"
   },
   {
    "duration": 39,
    "start_time": "2022-08-01T18:55:30.043Z"
   },
   {
    "duration": 48,
    "start_time": "2022-08-01T18:55:46.390Z"
   },
   {
    "duration": 50,
    "start_time": "2022-08-01T18:56:06.381Z"
   },
   {
    "duration": 47,
    "start_time": "2022-08-01T18:56:17.762Z"
   },
   {
    "duration": 35,
    "start_time": "2022-08-01T18:56:18.397Z"
   },
   {
    "duration": 36,
    "start_time": "2022-08-01T18:56:20.289Z"
   },
   {
    "duration": 836,
    "start_time": "2022-08-01T18:57:58.852Z"
   },
   {
    "duration": 241,
    "start_time": "2022-08-01T18:58:05.422Z"
   },
   {
    "duration": 230,
    "start_time": "2022-08-01T19:08:01.682Z"
   },
   {
    "duration": 227,
    "start_time": "2022-08-01T19:08:17.220Z"
   },
   {
    "duration": 310,
    "start_time": "2022-08-01T19:08:36.528Z"
   },
   {
    "duration": 228,
    "start_time": "2022-08-01T19:08:58.294Z"
   },
   {
    "duration": 206,
    "start_time": "2022-08-01T19:10:34.248Z"
   },
   {
    "duration": 165,
    "start_time": "2022-08-01T19:17:44.744Z"
   },
   {
    "duration": 203,
    "start_time": "2022-08-01T19:17:50.745Z"
   },
   {
    "duration": 182,
    "start_time": "2022-08-01T19:18:20.878Z"
   },
   {
    "duration": 222,
    "start_time": "2022-08-01T19:18:32.047Z"
   },
   {
    "duration": 84,
    "start_time": "2022-08-01T19:20:07.725Z"
   },
   {
    "duration": 345,
    "start_time": "2022-08-01T19:20:43.181Z"
   },
   {
    "duration": 243,
    "start_time": "2022-08-01T19:20:51.428Z"
   },
   {
    "duration": 210,
    "start_time": "2022-08-01T20:20:23.824Z"
   },
   {
    "duration": 151,
    "start_time": "2022-08-01T20:20:46.530Z"
   },
   {
    "duration": 161,
    "start_time": "2022-08-01T20:21:34.736Z"
   },
   {
    "duration": 172,
    "start_time": "2022-08-01T20:27:18.222Z"
   },
   {
    "duration": 256,
    "start_time": "2022-08-01T20:27:33.510Z"
   },
   {
    "duration": 164,
    "start_time": "2022-08-01T20:27:42.446Z"
   },
   {
    "duration": 201,
    "start_time": "2022-08-01T20:29:40.777Z"
   },
   {
    "duration": 191,
    "start_time": "2022-08-01T20:30:08.976Z"
   },
   {
    "duration": 178,
    "start_time": "2022-08-01T20:30:49.157Z"
   },
   {
    "duration": 224,
    "start_time": "2022-08-01T20:35:48.632Z"
   },
   {
    "duration": 218,
    "start_time": "2022-08-01T20:35:57.911Z"
   },
   {
    "duration": 342,
    "start_time": "2022-08-01T20:36:06.783Z"
   },
   {
    "duration": 258,
    "start_time": "2022-08-01T20:37:02.021Z"
   },
   {
    "duration": 252,
    "start_time": "2022-08-01T20:37:11.306Z"
   },
   {
    "duration": 264,
    "start_time": "2022-08-01T20:37:23.923Z"
   },
   {
    "duration": 260,
    "start_time": "2022-08-01T20:39:28.017Z"
   },
   {
    "duration": 316,
    "start_time": "2022-08-01T20:41:42.460Z"
   },
   {
    "duration": 378,
    "start_time": "2022-08-01T20:41:50.989Z"
   },
   {
    "duration": 293,
    "start_time": "2022-08-01T20:42:01.007Z"
   },
   {
    "duration": 307,
    "start_time": "2022-08-01T20:42:10.237Z"
   },
   {
    "duration": 266,
    "start_time": "2022-08-01T20:42:42.565Z"
   },
   {
    "duration": 281,
    "start_time": "2022-08-01T20:42:59.362Z"
   },
   {
    "duration": 397,
    "start_time": "2022-08-01T20:56:10.829Z"
   },
   {
    "duration": 295,
    "start_time": "2022-08-01T20:56:18.583Z"
   },
   {
    "duration": 288,
    "start_time": "2022-08-01T20:56:23.955Z"
   },
   {
    "duration": 296,
    "start_time": "2022-08-01T20:56:41.337Z"
   },
   {
    "duration": 268,
    "start_time": "2022-08-01T20:56:44.860Z"
   },
   {
    "duration": 285,
    "start_time": "2022-08-01T20:56:54.291Z"
   },
   {
    "duration": 417,
    "start_time": "2022-08-01T20:58:09.188Z"
   },
   {
    "duration": 416,
    "start_time": "2022-08-01T20:59:06.235Z"
   },
   {
    "duration": 171,
    "start_time": "2022-08-01T21:22:23.107Z"
   },
   {
    "duration": 184,
    "start_time": "2022-08-01T21:22:52.192Z"
   },
   {
    "duration": 292,
    "start_time": "2022-08-01T21:23:07.722Z"
   },
   {
    "duration": 374,
    "start_time": "2022-08-01T21:23:20.476Z"
   },
   {
    "duration": 543,
    "start_time": "2022-08-01T21:23:35.068Z"
   },
   {
    "duration": 59,
    "start_time": "2022-08-01T21:23:47.383Z"
   },
   {
    "duration": 69,
    "start_time": "2022-08-01T21:23:51.423Z"
   },
   {
    "duration": 54,
    "start_time": "2022-08-01T21:23:54.253Z"
   },
   {
    "duration": 180,
    "start_time": "2022-08-01T21:24:06.782Z"
   },
   {
    "duration": 350,
    "start_time": "2022-08-01T21:25:08.393Z"
   },
   {
    "duration": 48,
    "start_time": "2022-08-01T21:25:21.578Z"
   },
   {
    "duration": 261,
    "start_time": "2022-08-01T21:25:33.864Z"
   },
   {
    "duration": 23,
    "start_time": "2022-08-01T21:26:13.233Z"
   },
   {
    "duration": 24,
    "start_time": "2022-08-01T21:26:30.867Z"
   },
   {
    "duration": 30,
    "start_time": "2022-08-01T21:26:46.253Z"
   },
   {
    "duration": 297,
    "start_time": "2022-08-01T21:27:18.539Z"
   },
   {
    "duration": 94,
    "start_time": "2022-08-01T21:32:17.292Z"
   },
   {
    "duration": 129,
    "start_time": "2022-08-01T21:32:47.815Z"
   },
   {
    "duration": 142,
    "start_time": "2022-08-01T21:33:20.340Z"
   },
   {
    "duration": 341,
    "start_time": "2022-08-01T21:36:18.321Z"
   },
   {
    "duration": 311,
    "start_time": "2022-08-01T21:37:08.530Z"
   },
   {
    "duration": 43,
    "start_time": "2022-08-02T10:56:06.378Z"
   },
   {
    "duration": 1215,
    "start_time": "2022-08-02T10:56:12.343Z"
   },
   {
    "duration": 1095,
    "start_time": "2022-08-02T10:56:13.560Z"
   },
   {
    "duration": 59,
    "start_time": "2022-08-02T10:56:14.657Z"
   },
   {
    "duration": 30,
    "start_time": "2022-08-02T10:56:14.717Z"
   },
   {
    "duration": 27,
    "start_time": "2022-08-02T10:56:14.749Z"
   },
   {
    "duration": 12,
    "start_time": "2022-08-02T10:56:14.777Z"
   },
   {
    "duration": 43,
    "start_time": "2022-08-02T10:56:14.790Z"
   },
   {
    "duration": 12,
    "start_time": "2022-08-02T10:56:14.835Z"
   },
   {
    "duration": 7,
    "start_time": "2022-08-02T10:56:14.849Z"
   },
   {
    "duration": 9,
    "start_time": "2022-08-02T10:56:14.858Z"
   },
   {
    "duration": 8,
    "start_time": "2022-08-02T10:56:14.869Z"
   },
   {
    "duration": 19,
    "start_time": "2022-08-02T10:56:14.878Z"
   },
   {
    "duration": 18,
    "start_time": "2022-08-02T10:56:14.899Z"
   },
   {
    "duration": 190,
    "start_time": "2022-08-02T10:56:14.930Z"
   },
   {
    "duration": 28,
    "start_time": "2022-08-02T10:56:15.122Z"
   },
   {
    "duration": 170,
    "start_time": "2022-08-02T10:56:15.152Z"
   },
   {
    "duration": 27,
    "start_time": "2022-08-02T10:56:15.323Z"
   },
   {
    "duration": 3,
    "start_time": "2022-08-02T10:56:15.351Z"
   },
   {
    "duration": 1397,
    "start_time": "2022-08-02T10:56:15.355Z"
   },
   {
    "duration": 3,
    "start_time": "2022-08-02T10:56:16.754Z"
   },
   {
    "duration": 25,
    "start_time": "2022-08-02T10:56:16.758Z"
   },
   {
    "duration": 17,
    "start_time": "2022-08-02T10:56:16.784Z"
   },
   {
    "duration": 34,
    "start_time": "2022-08-02T10:56:16.803Z"
   },
   {
    "duration": 93,
    "start_time": "2022-08-02T10:56:16.838Z"
   },
   {
    "duration": 10,
    "start_time": "2022-08-02T10:56:16.932Z"
   },
   {
    "duration": 19,
    "start_time": "2022-08-02T10:56:16.943Z"
   },
   {
    "duration": 9,
    "start_time": "2022-08-02T10:56:16.963Z"
   },
   {
    "duration": 19,
    "start_time": "2022-08-02T10:56:16.973Z"
   },
   {
    "duration": 203,
    "start_time": "2022-08-02T10:56:16.993Z"
   },
   {
    "duration": 14,
    "start_time": "2022-08-02T10:56:17.198Z"
   },
   {
    "duration": 18,
    "start_time": "2022-08-02T10:56:17.214Z"
   },
   {
    "duration": 6,
    "start_time": "2022-08-02T10:56:17.233Z"
   },
   {
    "duration": 63,
    "start_time": "2022-08-02T10:56:17.241Z"
   },
   {
    "duration": 283,
    "start_time": "2022-08-02T10:56:17.305Z"
   },
   {
    "duration": 335,
    "start_time": "2022-08-02T10:56:17.590Z"
   },
   {
    "duration": 249,
    "start_time": "2022-08-02T10:56:17.926Z"
   },
   {
    "duration": 32,
    "start_time": "2022-08-02T10:56:18.177Z"
   },
   {
    "duration": 248,
    "start_time": "2022-08-02T10:56:18.210Z"
   },
   {
    "duration": 117,
    "start_time": "2022-08-02T10:56:18.460Z"
   },
   {
    "duration": 269,
    "start_time": "2022-08-02T10:56:18.578Z"
   },
   {
    "duration": 279,
    "start_time": "2022-08-02T10:59:27.069Z"
   },
   {
    "duration": 260,
    "start_time": "2022-08-02T10:59:45.643Z"
   },
   {
    "duration": 483,
    "start_time": "2022-08-02T11:19:08.234Z"
   },
   {
    "duration": 108,
    "start_time": "2022-08-02T11:19:25.402Z"
   },
   {
    "duration": 15,
    "start_time": "2022-08-02T11:19:31.853Z"
   },
   {
    "duration": 17,
    "start_time": "2022-08-02T11:19:37.239Z"
   },
   {
    "duration": 16,
    "start_time": "2022-08-02T11:20:16.162Z"
   },
   {
    "duration": 16,
    "start_time": "2022-08-02T11:21:55.136Z"
   },
   {
    "duration": 479,
    "start_time": "2022-08-02T11:23:43.406Z"
   },
   {
    "duration": 326,
    "start_time": "2022-08-02T11:24:08.795Z"
   },
   {
    "duration": 279,
    "start_time": "2022-08-02T11:24:17.829Z"
   },
   {
    "duration": 355,
    "start_time": "2022-08-02T11:24:23.733Z"
   },
   {
    "duration": 294,
    "start_time": "2022-08-02T11:24:35.494Z"
   },
   {
    "duration": 83,
    "start_time": "2022-08-02T11:26:30.833Z"
   },
   {
    "duration": 15,
    "start_time": "2022-08-02T11:26:34.303Z"
   },
   {
    "duration": 374,
    "start_time": "2022-08-02T11:26:55.359Z"
   },
   {
    "duration": 405,
    "start_time": "2022-08-02T11:27:15.733Z"
   },
   {
    "duration": 384,
    "start_time": "2022-08-02T11:27:19.893Z"
   },
   {
    "duration": 18,
    "start_time": "2022-08-02T11:27:52.878Z"
   },
   {
    "duration": 282,
    "start_time": "2022-08-02T11:27:59.333Z"
   },
   {
    "duration": 526,
    "start_time": "2022-08-02T11:28:08.455Z"
   },
   {
    "duration": 473,
    "start_time": "2022-08-02T11:28:49.341Z"
   },
   {
    "duration": 620,
    "start_time": "2022-08-02T11:29:11.837Z"
   },
   {
    "duration": 498,
    "start_time": "2022-08-02T11:29:15.395Z"
   },
   {
    "duration": 495,
    "start_time": "2022-08-02T11:29:48.853Z"
   },
   {
    "duration": 590,
    "start_time": "2022-08-02T11:29:58.533Z"
   },
   {
    "duration": 492,
    "start_time": "2022-08-02T11:30:21.607Z"
   },
   {
    "duration": 560,
    "start_time": "2022-08-02T11:30:28.035Z"
   },
   {
    "duration": 272,
    "start_time": "2022-08-02T11:30:35.497Z"
   },
   {
    "duration": 592,
    "start_time": "2022-08-02T11:30:39.753Z"
   },
   {
    "duration": 508,
    "start_time": "2022-08-02T11:30:45.130Z"
   },
   {
    "duration": 464,
    "start_time": "2022-08-02T11:30:49.874Z"
   },
   {
    "duration": 464,
    "start_time": "2022-08-02T11:30:58.631Z"
   },
   {
    "duration": 621,
    "start_time": "2022-08-02T11:31:15.805Z"
   },
   {
    "duration": 555,
    "start_time": "2022-08-02T11:34:24.205Z"
   },
   {
    "duration": 505,
    "start_time": "2022-08-02T11:36:16.437Z"
   },
   {
    "duration": 493,
    "start_time": "2022-08-02T11:36:27.142Z"
   },
   {
    "duration": 1145,
    "start_time": "2022-08-02T12:23:32.743Z"
   },
   {
    "duration": 878,
    "start_time": "2022-08-02T12:23:33.890Z"
   },
   {
    "duration": 59,
    "start_time": "2022-08-02T12:23:34.769Z"
   },
   {
    "duration": 38,
    "start_time": "2022-08-02T12:23:34.829Z"
   },
   {
    "duration": 27,
    "start_time": "2022-08-02T12:23:34.869Z"
   },
   {
    "duration": 12,
    "start_time": "2022-08-02T12:23:34.897Z"
   },
   {
    "duration": 41,
    "start_time": "2022-08-02T12:23:34.911Z"
   },
   {
    "duration": 13,
    "start_time": "2022-08-02T12:23:34.955Z"
   },
   {
    "duration": 8,
    "start_time": "2022-08-02T12:23:34.970Z"
   },
   {
    "duration": 22,
    "start_time": "2022-08-02T12:23:34.980Z"
   },
   {
    "duration": 12,
    "start_time": "2022-08-02T12:23:35.004Z"
   },
   {
    "duration": 28,
    "start_time": "2022-08-02T12:23:35.017Z"
   },
   {
    "duration": 12,
    "start_time": "2022-08-02T12:23:35.047Z"
   },
   {
    "duration": 227,
    "start_time": "2022-08-02T12:23:35.062Z"
   },
   {
    "duration": 28,
    "start_time": "2022-08-02T12:23:35.290Z"
   },
   {
    "duration": 189,
    "start_time": "2022-08-02T12:23:35.320Z"
   },
   {
    "duration": 35,
    "start_time": "2022-08-02T12:23:35.510Z"
   },
   {
    "duration": 3,
    "start_time": "2022-08-02T12:23:35.547Z"
   },
   {
    "duration": 1419,
    "start_time": "2022-08-02T12:23:35.552Z"
   },
   {
    "duration": 3,
    "start_time": "2022-08-02T12:23:36.973Z"
   },
   {
    "duration": 32,
    "start_time": "2022-08-02T12:23:36.977Z"
   },
   {
    "duration": 13,
    "start_time": "2022-08-02T12:23:37.011Z"
   },
   {
    "duration": 22,
    "start_time": "2022-08-02T12:23:37.037Z"
   },
   {
    "duration": 101,
    "start_time": "2022-08-02T12:23:37.061Z"
   },
   {
    "duration": 14,
    "start_time": "2022-08-02T12:23:37.163Z"
   },
   {
    "duration": 23,
    "start_time": "2022-08-02T12:23:37.179Z"
   },
   {
    "duration": 32,
    "start_time": "2022-08-02T12:23:37.204Z"
   },
   {
    "duration": 22,
    "start_time": "2022-08-02T12:23:37.238Z"
   },
   {
    "duration": 226,
    "start_time": "2022-08-02T12:23:37.261Z"
   },
   {
    "duration": 18,
    "start_time": "2022-08-02T12:23:37.489Z"
   },
   {
    "duration": 32,
    "start_time": "2022-08-02T12:23:37.509Z"
   },
   {
    "duration": 8,
    "start_time": "2022-08-02T12:23:37.543Z"
   },
   {
    "duration": 105,
    "start_time": "2022-08-02T12:23:37.553Z"
   },
   {
    "duration": 343,
    "start_time": "2022-08-02T12:23:37.660Z"
   },
   {
    "duration": 513,
    "start_time": "2022-08-02T12:23:38.005Z"
   },
   {
    "duration": 51,
    "start_time": "2022-08-02T12:23:38.520Z"
   },
   {
    "duration": 291,
    "start_time": "2022-08-02T12:23:38.573Z"
   },
   {
    "duration": 588,
    "start_time": "2022-08-02T12:23:38.865Z"
   },
   {
    "duration": 36,
    "start_time": "2022-08-02T12:23:39.455Z"
   },
   {
    "duration": 294,
    "start_time": "2022-08-02T12:23:39.493Z"
   },
   {
    "duration": 556,
    "start_time": "2022-08-02T12:23:39.792Z"
   },
   {
    "duration": 489,
    "start_time": "2022-08-02T13:48:35.077Z"
   },
   {
    "duration": 1420,
    "start_time": "2022-08-02T13:49:16.930Z"
   },
   {
    "duration": 294,
    "start_time": "2022-08-02T13:51:20.829Z"
   },
   {
    "duration": 570,
    "start_time": "2022-08-02T13:51:36.981Z"
   },
   {
    "duration": 9,
    "start_time": "2022-08-02T13:52:33.926Z"
   },
   {
    "duration": 493,
    "start_time": "2022-08-02T13:53:00.147Z"
   },
   {
    "duration": 497,
    "start_time": "2022-08-02T14:12:44.884Z"
   },
   {
    "duration": 631,
    "start_time": "2022-08-02T14:14:12.959Z"
   },
   {
    "duration": 7,
    "start_time": "2022-08-02T14:14:26.942Z"
   },
   {
    "duration": 484,
    "start_time": "2022-08-02T14:15:32.189Z"
   },
   {
    "duration": 543,
    "start_time": "2022-08-02T14:15:36.949Z"
   },
   {
    "duration": 542,
    "start_time": "2022-08-02T14:17:19.349Z"
   },
   {
    "duration": 1114,
    "start_time": "2022-08-02T14:17:49.442Z"
   },
   {
    "duration": 483,
    "start_time": "2022-08-02T14:18:40.125Z"
   },
   {
    "duration": 23,
    "start_time": "2022-08-02T14:18:48.654Z"
   },
   {
    "duration": 595,
    "start_time": "2022-08-02T14:19:23.226Z"
   },
   {
    "duration": 1074,
    "start_time": "2022-08-02T14:51:40.135Z"
   },
   {
    "duration": 386,
    "start_time": "2022-08-02T14:51:41.211Z"
   },
   {
    "duration": 62,
    "start_time": "2022-08-02T14:51:41.599Z"
   },
   {
    "duration": 29,
    "start_time": "2022-08-02T14:51:41.663Z"
   },
   {
    "duration": 43,
    "start_time": "2022-08-02T14:51:41.695Z"
   },
   {
    "duration": 13,
    "start_time": "2022-08-02T14:51:41.740Z"
   },
   {
    "duration": 25,
    "start_time": "2022-08-02T14:51:41.755Z"
   },
   {
    "duration": 13,
    "start_time": "2022-08-02T14:51:41.782Z"
   },
   {
    "duration": 40,
    "start_time": "2022-08-02T14:51:41.797Z"
   },
   {
    "duration": 11,
    "start_time": "2022-08-02T14:51:41.838Z"
   },
   {
    "duration": 8,
    "start_time": "2022-08-02T14:51:41.850Z"
   },
   {
    "duration": 9,
    "start_time": "2022-08-02T14:51:41.860Z"
   },
   {
    "duration": 14,
    "start_time": "2022-08-02T14:51:41.870Z"
   },
   {
    "duration": 193,
    "start_time": "2022-08-02T14:51:41.886Z"
   },
   {
    "duration": 27,
    "start_time": "2022-08-02T14:51:42.081Z"
   },
   {
    "duration": 183,
    "start_time": "2022-08-02T14:51:42.110Z"
   },
   {
    "duration": 23,
    "start_time": "2022-08-02T14:51:42.294Z"
   },
   {
    "duration": 14,
    "start_time": "2022-08-02T14:51:42.318Z"
   },
   {
    "duration": 1280,
    "start_time": "2022-08-02T14:51:42.333Z"
   },
   {
    "duration": 3,
    "start_time": "2022-08-02T14:51:43.615Z"
   },
   {
    "duration": 27,
    "start_time": "2022-08-02T14:51:43.619Z"
   },
   {
    "duration": 12,
    "start_time": "2022-08-02T14:51:43.648Z"
   },
   {
    "duration": 17,
    "start_time": "2022-08-02T14:51:43.662Z"
   },
   {
    "duration": 109,
    "start_time": "2022-08-02T14:51:43.681Z"
   },
   {
    "duration": 10,
    "start_time": "2022-08-02T14:51:43.791Z"
   },
   {
    "duration": 29,
    "start_time": "2022-08-02T14:51:43.803Z"
   },
   {
    "duration": 6,
    "start_time": "2022-08-02T14:51:43.834Z"
   },
   {
    "duration": 17,
    "start_time": "2022-08-02T14:51:43.842Z"
   },
   {
    "duration": 199,
    "start_time": "2022-08-02T14:51:43.860Z"
   },
   {
    "duration": 15,
    "start_time": "2022-08-02T14:51:44.061Z"
   },
   {
    "duration": 11,
    "start_time": "2022-08-02T14:51:44.078Z"
   },
   {
    "duration": 7,
    "start_time": "2022-08-02T14:51:44.091Z"
   },
   {
    "duration": 90,
    "start_time": "2022-08-02T14:51:44.099Z"
   },
   {
    "duration": 272,
    "start_time": "2022-08-02T14:51:44.190Z"
   },
   {
    "duration": 469,
    "start_time": "2022-08-02T14:51:44.464Z"
   },
   {
    "duration": 34,
    "start_time": "2022-08-02T14:51:44.935Z"
   },
   {
    "duration": 268,
    "start_time": "2022-08-02T14:51:44.971Z"
   },
   {
    "duration": 556,
    "start_time": "2022-08-02T14:51:45.241Z"
   },
   {
    "duration": 42,
    "start_time": "2022-08-02T14:51:45.799Z"
   },
   {
    "duration": 266,
    "start_time": "2022-08-02T14:51:45.842Z"
   },
   {
    "duration": 471,
    "start_time": "2022-08-02T14:51:46.111Z"
   },
   {
    "duration": 1069,
    "start_time": "2022-08-02T15:05:12.973Z"
   },
   {
    "duration": 403,
    "start_time": "2022-08-02T15:05:14.044Z"
   },
   {
    "duration": 60,
    "start_time": "2022-08-02T15:05:14.448Z"
   },
   {
    "duration": 36,
    "start_time": "2022-08-02T15:05:14.510Z"
   },
   {
    "duration": 29,
    "start_time": "2022-08-02T15:05:14.548Z"
   },
   {
    "duration": 13,
    "start_time": "2022-08-02T15:05:14.578Z"
   },
   {
    "duration": 48,
    "start_time": "2022-08-02T15:05:14.593Z"
   },
   {
    "duration": 15,
    "start_time": "2022-08-02T15:05:14.644Z"
   },
   {
    "duration": 16,
    "start_time": "2022-08-02T15:05:14.661Z"
   },
   {
    "duration": 11,
    "start_time": "2022-08-02T15:05:14.680Z"
   },
   {
    "duration": 8,
    "start_time": "2022-08-02T15:05:14.693Z"
   },
   {
    "duration": 33,
    "start_time": "2022-08-02T15:05:14.703Z"
   },
   {
    "duration": 14,
    "start_time": "2022-08-02T15:05:14.738Z"
   },
   {
    "duration": 208,
    "start_time": "2022-08-02T15:05:14.753Z"
   },
   {
    "duration": 33,
    "start_time": "2022-08-02T15:05:14.962Z"
   },
   {
    "duration": 188,
    "start_time": "2022-08-02T15:05:14.997Z"
   },
   {
    "duration": 25,
    "start_time": "2022-08-02T15:05:15.186Z"
   },
   {
    "duration": 3,
    "start_time": "2022-08-02T15:05:15.213Z"
   },
   {
    "duration": 1463,
    "start_time": "2022-08-02T15:05:15.231Z"
   },
   {
    "duration": 3,
    "start_time": "2022-08-02T15:05:16.696Z"
   },
   {
    "duration": 52,
    "start_time": "2022-08-02T15:05:16.701Z"
   },
   {
    "duration": 17,
    "start_time": "2022-08-02T15:05:16.755Z"
   },
   {
    "duration": 21,
    "start_time": "2022-08-02T15:05:16.773Z"
   },
   {
    "duration": 139,
    "start_time": "2022-08-02T15:05:16.796Z"
   },
   {
    "duration": 20,
    "start_time": "2022-08-02T15:05:16.936Z"
   },
   {
    "duration": 46,
    "start_time": "2022-08-02T15:05:16.958Z"
   },
   {
    "duration": 20,
    "start_time": "2022-08-02T15:05:17.006Z"
   },
   {
    "duration": 37,
    "start_time": "2022-08-02T15:05:17.030Z"
   },
   {
    "duration": 214,
    "start_time": "2022-08-02T15:05:17.069Z"
   },
   {
    "duration": 17,
    "start_time": "2022-08-02T15:05:17.285Z"
   },
   {
    "duration": 42,
    "start_time": "2022-08-02T15:05:17.304Z"
   },
   {
    "duration": 13,
    "start_time": "2022-08-02T15:05:17.348Z"
   },
   {
    "duration": 81,
    "start_time": "2022-08-02T15:05:17.362Z"
   },
   {
    "duration": 406,
    "start_time": "2022-08-02T15:05:17.444Z"
   },
   {
    "duration": 554,
    "start_time": "2022-08-02T15:05:17.852Z"
   },
   {
    "duration": 55,
    "start_time": "2022-08-02T15:05:18.408Z"
   },
   {
    "duration": 276,
    "start_time": "2022-08-02T15:05:18.465Z"
   },
   {
    "duration": 617,
    "start_time": "2022-08-02T15:05:18.742Z"
   },
   {
    "duration": 35,
    "start_time": "2022-08-02T15:05:19.360Z"
   },
   {
    "duration": 286,
    "start_time": "2022-08-02T15:05:19.397Z"
   },
   {
    "duration": 524,
    "start_time": "2022-08-02T15:05:19.685Z"
   },
   {
    "duration": 25,
    "start_time": "2022-08-02T15:30:36.541Z"
   },
   {
    "duration": 5,
    "start_time": "2022-08-02T15:30:56.306Z"
   },
   {
    "duration": 1319,
    "start_time": "2022-08-02T15:31:36.411Z"
   },
   {
    "duration": 7,
    "start_time": "2022-08-02T15:31:47.512Z"
   },
   {
    "duration": 14,
    "start_time": "2022-08-02T15:32:30.978Z"
   },
   {
    "duration": 10,
    "start_time": "2022-08-02T15:32:35.847Z"
   },
   {
    "duration": 4,
    "start_time": "2022-08-02T16:06:24.013Z"
   },
   {
    "duration": 5,
    "start_time": "2022-08-02T16:06:37.312Z"
   },
   {
    "duration": 3,
    "start_time": "2022-08-02T16:08:02.590Z"
   },
   {
    "duration": 4,
    "start_time": "2022-08-02T16:08:23.824Z"
   },
   {
    "duration": 4,
    "start_time": "2022-08-02T16:11:06.372Z"
   },
   {
    "duration": 5,
    "start_time": "2022-08-02T16:11:22.930Z"
   },
   {
    "duration": 1085,
    "start_time": "2022-08-02T16:17:20.920Z"
   },
   {
    "duration": 408,
    "start_time": "2022-08-02T16:17:22.007Z"
   },
   {
    "duration": 64,
    "start_time": "2022-08-02T16:17:22.416Z"
   },
   {
    "duration": 29,
    "start_time": "2022-08-02T16:17:22.481Z"
   },
   {
    "duration": 39,
    "start_time": "2022-08-02T16:17:22.513Z"
   },
   {
    "duration": 12,
    "start_time": "2022-08-02T16:17:22.554Z"
   },
   {
    "duration": 24,
    "start_time": "2022-08-02T16:17:22.568Z"
   },
   {
    "duration": 40,
    "start_time": "2022-08-02T16:17:22.594Z"
   },
   {
    "duration": 8,
    "start_time": "2022-08-02T16:17:22.636Z"
   },
   {
    "duration": 17,
    "start_time": "2022-08-02T16:17:22.645Z"
   },
   {
    "duration": 8,
    "start_time": "2022-08-02T16:17:22.663Z"
   },
   {
    "duration": 9,
    "start_time": "2022-08-02T16:17:22.672Z"
   },
   {
    "duration": 13,
    "start_time": "2022-08-02T16:17:22.682Z"
   },
   {
    "duration": 186,
    "start_time": "2022-08-02T16:17:22.698Z"
   },
   {
    "duration": 27,
    "start_time": "2022-08-02T16:17:22.886Z"
   },
   {
    "duration": 186,
    "start_time": "2022-08-02T16:17:22.914Z"
   },
   {
    "duration": 29,
    "start_time": "2022-08-02T16:17:23.102Z"
   },
   {
    "duration": 3,
    "start_time": "2022-08-02T16:17:23.133Z"
   },
   {
    "duration": 1273,
    "start_time": "2022-08-02T16:17:23.137Z"
   },
   {
    "duration": 3,
    "start_time": "2022-08-02T16:17:24.411Z"
   },
   {
    "duration": 34,
    "start_time": "2022-08-02T16:17:24.416Z"
   },
   {
    "duration": 14,
    "start_time": "2022-08-02T16:17:24.452Z"
   },
   {
    "duration": 18,
    "start_time": "2022-08-02T16:17:24.468Z"
   },
   {
    "duration": 110,
    "start_time": "2022-08-02T16:17:24.488Z"
   },
   {
    "duration": 11,
    "start_time": "2022-08-02T16:17:24.599Z"
   },
   {
    "duration": 28,
    "start_time": "2022-08-02T16:17:24.612Z"
   },
   {
    "duration": 18,
    "start_time": "2022-08-02T16:17:24.642Z"
   },
   {
    "duration": 19,
    "start_time": "2022-08-02T16:17:24.661Z"
   },
   {
    "duration": 188,
    "start_time": "2022-08-02T16:17:24.681Z"
   },
   {
    "duration": 17,
    "start_time": "2022-08-02T16:17:24.870Z"
   },
   {
    "duration": 12,
    "start_time": "2022-08-02T16:17:24.889Z"
   },
   {
    "duration": 6,
    "start_time": "2022-08-02T16:17:24.903Z"
   },
   {
    "duration": 94,
    "start_time": "2022-08-02T16:17:24.911Z"
   },
   {
    "duration": 282,
    "start_time": "2022-08-02T16:17:25.007Z"
   },
   {
    "duration": 478,
    "start_time": "2022-08-02T16:17:25.290Z"
   },
   {
    "duration": 37,
    "start_time": "2022-08-02T16:17:25.770Z"
   },
   {
    "duration": 271,
    "start_time": "2022-08-02T16:17:25.809Z"
   },
   {
    "duration": 570,
    "start_time": "2022-08-02T16:17:26.082Z"
   },
   {
    "duration": 36,
    "start_time": "2022-08-02T16:17:26.653Z"
   },
   {
    "duration": 278,
    "start_time": "2022-08-02T16:17:26.691Z"
   },
   {
    "duration": 477,
    "start_time": "2022-08-02T16:17:26.973Z"
   },
   {
    "duration": 23,
    "start_time": "2022-08-02T16:17:27.452Z"
   },
   {
    "duration": 7,
    "start_time": "2022-08-02T16:17:27.476Z"
   },
   {
    "duration": 6,
    "start_time": "2022-08-02T16:17:27.484Z"
   },
   {
    "duration": 1325,
    "start_time": "2022-08-02T16:19:00.340Z"
   },
   {
    "duration": 5,
    "start_time": "2022-08-02T16:19:17.835Z"
   },
   {
    "duration": 5,
    "start_time": "2022-08-02T16:19:25.941Z"
   },
   {
    "duration": 5,
    "start_time": "2022-08-02T16:20:41.676Z"
   },
   {
    "duration": 1046,
    "start_time": "2022-08-02T16:23:55.248Z"
   },
   {
    "duration": 381,
    "start_time": "2022-08-02T16:23:56.295Z"
   },
   {
    "duration": 60,
    "start_time": "2022-08-02T16:23:56.677Z"
   },
   {
    "duration": 30,
    "start_time": "2022-08-02T16:23:56.739Z"
   },
   {
    "duration": 26,
    "start_time": "2022-08-02T16:23:56.771Z"
   },
   {
    "duration": 34,
    "start_time": "2022-08-02T16:23:56.798Z"
   },
   {
    "duration": 25,
    "start_time": "2022-08-02T16:23:56.833Z"
   },
   {
    "duration": 13,
    "start_time": "2022-08-02T16:23:56.859Z"
   },
   {
    "duration": 11,
    "start_time": "2022-08-02T16:23:56.873Z"
   },
   {
    "duration": 8,
    "start_time": "2022-08-02T16:23:56.887Z"
   },
   {
    "duration": 38,
    "start_time": "2022-08-02T16:23:56.897Z"
   },
   {
    "duration": 9,
    "start_time": "2022-08-02T16:23:56.937Z"
   },
   {
    "duration": 11,
    "start_time": "2022-08-02T16:23:56.948Z"
   },
   {
    "duration": 185,
    "start_time": "2022-08-02T16:23:56.960Z"
   },
   {
    "duration": 29,
    "start_time": "2022-08-02T16:23:57.147Z"
   },
   {
    "duration": 174,
    "start_time": "2022-08-02T16:23:57.177Z"
   },
   {
    "duration": 24,
    "start_time": "2022-08-02T16:23:57.353Z"
   },
   {
    "duration": 4,
    "start_time": "2022-08-02T16:23:57.378Z"
   },
   {
    "duration": 1379,
    "start_time": "2022-08-02T16:23:57.384Z"
   },
   {
    "duration": 4,
    "start_time": "2022-08-02T16:23:58.765Z"
   },
   {
    "duration": 26,
    "start_time": "2022-08-02T16:23:58.770Z"
   },
   {
    "duration": 14,
    "start_time": "2022-08-02T16:23:58.798Z"
   },
   {
    "duration": 34,
    "start_time": "2022-08-02T16:23:58.813Z"
   },
   {
    "duration": 105,
    "start_time": "2022-08-02T16:23:58.848Z"
   },
   {
    "duration": 13,
    "start_time": "2022-08-02T16:23:58.955Z"
   },
   {
    "duration": 16,
    "start_time": "2022-08-02T16:23:58.969Z"
   },
   {
    "duration": 10,
    "start_time": "2022-08-02T16:23:58.986Z"
   },
   {
    "duration": 44,
    "start_time": "2022-08-02T16:23:59.000Z"
   },
   {
    "duration": 193,
    "start_time": "2022-08-02T16:23:59.045Z"
   },
   {
    "duration": 17,
    "start_time": "2022-08-02T16:23:59.240Z"
   },
   {
    "duration": 12,
    "start_time": "2022-08-02T16:23:59.259Z"
   },
   {
    "duration": 8,
    "start_time": "2022-08-02T16:23:59.273Z"
   },
   {
    "duration": 90,
    "start_time": "2022-08-02T16:23:59.282Z"
   },
   {
    "duration": 298,
    "start_time": "2022-08-02T16:23:59.373Z"
   },
   {
    "duration": 532,
    "start_time": "2022-08-02T16:23:59.673Z"
   },
   {
    "duration": 43,
    "start_time": "2022-08-02T16:24:00.206Z"
   },
   {
    "duration": 261,
    "start_time": "2022-08-02T16:24:00.250Z"
   },
   {
    "duration": 588,
    "start_time": "2022-08-02T16:24:00.512Z"
   },
   {
    "duration": 43,
    "start_time": "2022-08-02T16:24:01.102Z"
   },
   {
    "duration": 255,
    "start_time": "2022-08-02T16:24:01.146Z"
   },
   {
    "duration": 470,
    "start_time": "2022-08-02T16:24:01.403Z"
   },
   {
    "duration": 23,
    "start_time": "2022-08-02T16:24:01.874Z"
   },
   {
    "duration": 7,
    "start_time": "2022-08-02T16:24:01.898Z"
   },
   {
    "duration": 10,
    "start_time": "2022-08-02T16:24:01.907Z"
   },
   {
    "duration": 94,
    "start_time": "2022-08-02T16:32:28.921Z"
   },
   {
    "duration": 12,
    "start_time": "2022-08-02T16:32:41.953Z"
   },
   {
    "duration": 14,
    "start_time": "2022-08-02T16:32:45.264Z"
   },
   {
    "duration": 4,
    "start_time": "2022-08-02T16:33:55.010Z"
   },
   {
    "duration": 4,
    "start_time": "2022-08-02T16:34:31.573Z"
   },
   {
    "duration": 10,
    "start_time": "2022-08-02T16:34:32.189Z"
   },
   {
    "duration": 4,
    "start_time": "2022-08-02T16:34:32.514Z"
   },
   {
    "duration": 1056,
    "start_time": "2022-08-02T16:34:37.383Z"
   },
   {
    "duration": 401,
    "start_time": "2022-08-02T16:34:38.441Z"
   },
   {
    "duration": 70,
    "start_time": "2022-08-02T16:34:38.843Z"
   },
   {
    "duration": 38,
    "start_time": "2022-08-02T16:34:38.917Z"
   },
   {
    "duration": 27,
    "start_time": "2022-08-02T16:34:38.957Z"
   },
   {
    "duration": 13,
    "start_time": "2022-08-02T16:34:38.985Z"
   },
   {
    "duration": 43,
    "start_time": "2022-08-02T16:34:38.999Z"
   },
   {
    "duration": 12,
    "start_time": "2022-08-02T16:34:39.044Z"
   },
   {
    "duration": 11,
    "start_time": "2022-08-02T16:34:39.058Z"
   },
   {
    "duration": 10,
    "start_time": "2022-08-02T16:34:39.071Z"
   },
   {
    "duration": 8,
    "start_time": "2022-08-02T16:34:39.083Z"
   },
   {
    "duration": 10,
    "start_time": "2022-08-02T16:34:39.092Z"
   },
   {
    "duration": 32,
    "start_time": "2022-08-02T16:34:39.105Z"
   },
   {
    "duration": 188,
    "start_time": "2022-08-02T16:34:39.139Z"
   },
   {
    "duration": 28,
    "start_time": "2022-08-02T16:34:39.328Z"
   },
   {
    "duration": 177,
    "start_time": "2022-08-02T16:34:39.358Z"
   },
   {
    "duration": 25,
    "start_time": "2022-08-02T16:34:39.536Z"
   },
   {
    "duration": 4,
    "start_time": "2022-08-02T16:34:39.562Z"
   },
   {
    "duration": 1348,
    "start_time": "2022-08-02T16:34:39.567Z"
   },
   {
    "duration": 3,
    "start_time": "2022-08-02T16:34:40.917Z"
   },
   {
    "duration": 28,
    "start_time": "2022-08-02T16:34:40.921Z"
   },
   {
    "duration": 12,
    "start_time": "2022-08-02T16:34:40.951Z"
   },
   {
    "duration": 18,
    "start_time": "2022-08-02T16:34:40.965Z"
   },
   {
    "duration": 122,
    "start_time": "2022-08-02T16:34:40.986Z"
   },
   {
    "duration": 12,
    "start_time": "2022-08-02T16:34:41.109Z"
   },
   {
    "duration": 22,
    "start_time": "2022-08-02T16:34:41.122Z"
   },
   {
    "duration": 9,
    "start_time": "2022-08-02T16:34:41.146Z"
   },
   {
    "duration": 18,
    "start_time": "2022-08-02T16:34:41.158Z"
   },
   {
    "duration": 208,
    "start_time": "2022-08-02T16:34:41.178Z"
   },
   {
    "duration": 14,
    "start_time": "2022-08-02T16:34:41.388Z"
   },
   {
    "duration": 11,
    "start_time": "2022-08-02T16:34:41.403Z"
   },
   {
    "duration": 17,
    "start_time": "2022-08-02T16:34:41.416Z"
   },
   {
    "duration": 69,
    "start_time": "2022-08-02T16:34:41.435Z"
   },
   {
    "duration": 300,
    "start_time": "2022-08-02T16:34:41.506Z"
   },
   {
    "duration": 493,
    "start_time": "2022-08-02T16:34:41.807Z"
   },
   {
    "duration": 42,
    "start_time": "2022-08-02T16:34:42.301Z"
   },
   {
    "duration": 266,
    "start_time": "2022-08-02T16:34:42.344Z"
   },
   {
    "duration": 575,
    "start_time": "2022-08-02T16:34:42.612Z"
   },
   {
    "duration": 43,
    "start_time": "2022-08-02T16:34:43.189Z"
   },
   {
    "duration": 266,
    "start_time": "2022-08-02T16:34:43.233Z"
   },
   {
    "duration": 476,
    "start_time": "2022-08-02T16:34:43.501Z"
   },
   {
    "duration": 22,
    "start_time": "2022-08-02T16:34:43.979Z"
   },
   {
    "duration": 5,
    "start_time": "2022-08-02T16:34:44.002Z"
   },
   {
    "duration": 25,
    "start_time": "2022-08-02T16:34:44.008Z"
   },
   {
    "duration": 10,
    "start_time": "2022-08-02T16:34:44.034Z"
   },
   {
    "duration": 4,
    "start_time": "2022-08-02T16:34:44.046Z"
   },
   {
    "duration": 122,
    "start_time": "2022-08-02T16:36:10.376Z"
   },
   {
    "duration": 79,
    "start_time": "2022-08-02T16:36:16.835Z"
   },
   {
    "duration": 4,
    "start_time": "2022-08-02T16:36:22.950Z"
   },
   {
    "duration": 1163,
    "start_time": "2022-08-02T16:37:15.415Z"
   },
   {
    "duration": 407,
    "start_time": "2022-08-02T16:37:16.581Z"
   },
   {
    "duration": 60,
    "start_time": "2022-08-02T16:37:16.989Z"
   },
   {
    "duration": 30,
    "start_time": "2022-08-02T16:37:17.050Z"
   },
   {
    "duration": 26,
    "start_time": "2022-08-02T16:37:17.082Z"
   },
   {
    "duration": 26,
    "start_time": "2022-08-02T16:37:17.109Z"
   },
   {
    "duration": 23,
    "start_time": "2022-08-02T16:37:17.137Z"
   },
   {
    "duration": 14,
    "start_time": "2022-08-02T16:37:17.161Z"
   },
   {
    "duration": 10,
    "start_time": "2022-08-02T16:37:17.176Z"
   },
   {
    "duration": 11,
    "start_time": "2022-08-02T16:37:17.188Z"
   },
   {
    "duration": 32,
    "start_time": "2022-08-02T16:37:17.200Z"
   },
   {
    "duration": 9,
    "start_time": "2022-08-02T16:37:17.233Z"
   },
   {
    "duration": 11,
    "start_time": "2022-08-02T16:37:17.243Z"
   },
   {
    "duration": 190,
    "start_time": "2022-08-02T16:37:17.256Z"
   },
   {
    "duration": 29,
    "start_time": "2022-08-02T16:37:17.448Z"
   },
   {
    "duration": 212,
    "start_time": "2022-08-02T16:37:17.478Z"
   },
   {
    "duration": 29,
    "start_time": "2022-08-02T16:37:17.692Z"
   },
   {
    "duration": 11,
    "start_time": "2022-08-02T16:37:17.723Z"
   },
   {
    "duration": 1404,
    "start_time": "2022-08-02T16:37:17.735Z"
   },
   {
    "duration": 3,
    "start_time": "2022-08-02T16:37:19.141Z"
   },
   {
    "duration": 24,
    "start_time": "2022-08-02T16:37:19.145Z"
   },
   {
    "duration": 12,
    "start_time": "2022-08-02T16:37:19.171Z"
   },
   {
    "duration": 17,
    "start_time": "2022-08-02T16:37:19.185Z"
   },
   {
    "duration": 127,
    "start_time": "2022-08-02T16:37:19.204Z"
   },
   {
    "duration": 12,
    "start_time": "2022-08-02T16:37:19.333Z"
   },
   {
    "duration": 16,
    "start_time": "2022-08-02T16:37:19.346Z"
   },
   {
    "duration": 8,
    "start_time": "2022-08-02T16:37:19.363Z"
   },
   {
    "duration": 19,
    "start_time": "2022-08-02T16:37:19.372Z"
   },
   {
    "duration": 201,
    "start_time": "2022-08-02T16:37:19.393Z"
   },
   {
    "duration": 14,
    "start_time": "2022-08-02T16:37:19.596Z"
   },
   {
    "duration": 20,
    "start_time": "2022-08-02T16:37:19.612Z"
   },
   {
    "duration": 6,
    "start_time": "2022-08-02T16:37:19.633Z"
   },
   {
    "duration": 69,
    "start_time": "2022-08-02T16:37:19.640Z"
   },
   {
    "duration": 319,
    "start_time": "2022-08-02T16:37:19.710Z"
   },
   {
    "duration": 476,
    "start_time": "2022-08-02T16:37:20.030Z"
   },
   {
    "duration": 43,
    "start_time": "2022-08-02T16:37:20.508Z"
   },
   {
    "duration": 260,
    "start_time": "2022-08-02T16:37:20.552Z"
   },
   {
    "duration": 578,
    "start_time": "2022-08-02T16:37:20.814Z"
   },
   {
    "duration": 41,
    "start_time": "2022-08-02T16:37:21.394Z"
   },
   {
    "duration": 266,
    "start_time": "2022-08-02T16:37:21.436Z"
   },
   {
    "duration": 463,
    "start_time": "2022-08-02T16:37:21.705Z"
   },
   {
    "duration": 21,
    "start_time": "2022-08-02T16:37:22.170Z"
   },
   {
    "duration": 5,
    "start_time": "2022-08-02T16:37:22.192Z"
   },
   {
    "duration": 9,
    "start_time": "2022-08-02T16:37:22.198Z"
   },
   {
    "duration": 26,
    "start_time": "2022-08-02T16:37:22.209Z"
   },
   {
    "duration": 4,
    "start_time": "2022-08-02T16:37:22.237Z"
   },
   {
    "duration": 1085,
    "start_time": "2022-08-02T16:45:18.673Z"
   },
   {
    "duration": 455,
    "start_time": "2022-08-02T16:45:19.760Z"
   },
   {
    "duration": 65,
    "start_time": "2022-08-02T16:45:20.218Z"
   },
   {
    "duration": 48,
    "start_time": "2022-08-02T16:45:20.285Z"
   },
   {
    "duration": 31,
    "start_time": "2022-08-02T16:45:20.335Z"
   },
   {
    "duration": 14,
    "start_time": "2022-08-02T16:45:20.368Z"
   },
   {
    "duration": 52,
    "start_time": "2022-08-02T16:45:20.384Z"
   },
   {
    "duration": 17,
    "start_time": "2022-08-02T16:45:20.438Z"
   },
   {
    "duration": 13,
    "start_time": "2022-08-02T16:45:20.456Z"
   },
   {
    "duration": 10,
    "start_time": "2022-08-02T16:45:20.471Z"
   },
   {
    "duration": 9,
    "start_time": "2022-08-02T16:45:20.482Z"
   },
   {
    "duration": 11,
    "start_time": "2022-08-02T16:45:20.492Z"
   },
   {
    "duration": 11,
    "start_time": "2022-08-02T16:45:20.531Z"
   },
   {
    "duration": 203,
    "start_time": "2022-08-02T16:45:20.543Z"
   },
   {
    "duration": 30,
    "start_time": "2022-08-02T16:45:20.748Z"
   },
   {
    "duration": 204,
    "start_time": "2022-08-02T16:45:20.780Z"
   },
   {
    "duration": 29,
    "start_time": "2022-08-02T16:45:20.985Z"
   },
   {
    "duration": 4,
    "start_time": "2022-08-02T16:45:21.015Z"
   },
   {
    "duration": 1317,
    "start_time": "2022-08-02T16:45:21.020Z"
   },
   {
    "duration": 4,
    "start_time": "2022-08-02T16:45:22.339Z"
   },
   {
    "duration": 30,
    "start_time": "2022-08-02T16:45:22.345Z"
   },
   {
    "duration": 14,
    "start_time": "2022-08-02T16:45:22.376Z"
   },
   {
    "duration": 19,
    "start_time": "2022-08-02T16:45:22.392Z"
   },
   {
    "duration": 121,
    "start_time": "2022-08-02T16:45:22.413Z"
   },
   {
    "duration": 12,
    "start_time": "2022-08-02T16:45:22.535Z"
   },
   {
    "duration": 20,
    "start_time": "2022-08-02T16:45:22.549Z"
   },
   {
    "duration": 11,
    "start_time": "2022-08-02T16:45:22.571Z"
   },
   {
    "duration": 20,
    "start_time": "2022-08-02T16:45:22.585Z"
   },
   {
    "duration": 208,
    "start_time": "2022-08-02T16:45:22.631Z"
   },
   {
    "duration": 16,
    "start_time": "2022-08-02T16:45:22.841Z"
   },
   {
    "duration": 12,
    "start_time": "2022-08-02T16:45:22.859Z"
   },
   {
    "duration": 7,
    "start_time": "2022-08-02T16:45:22.873Z"
   },
   {
    "duration": 104,
    "start_time": "2022-08-02T16:45:22.882Z"
   },
   {
    "duration": 295,
    "start_time": "2022-08-02T16:45:22.988Z"
   },
   {
    "duration": 512,
    "start_time": "2022-08-02T16:45:23.284Z"
   },
   {
    "duration": 48,
    "start_time": "2022-08-02T16:45:23.797Z"
   },
   {
    "duration": 279,
    "start_time": "2022-08-02T16:45:23.847Z"
   },
   {
    "duration": 595,
    "start_time": "2022-08-02T16:45:24.128Z"
   },
   {
    "duration": 39,
    "start_time": "2022-08-02T16:45:24.725Z"
   },
   {
    "duration": 299,
    "start_time": "2022-08-02T16:45:24.765Z"
   },
   {
    "duration": 530,
    "start_time": "2022-08-02T16:45:25.066Z"
   },
   {
    "duration": 37,
    "start_time": "2022-08-02T16:45:25.597Z"
   },
   {
    "duration": 11,
    "start_time": "2022-08-02T16:45:25.636Z"
   },
   {
    "duration": 13,
    "start_time": "2022-08-02T16:45:25.649Z"
   },
   {
    "duration": 29,
    "start_time": "2022-08-02T16:45:25.665Z"
   },
   {
    "duration": 12,
    "start_time": "2022-08-02T16:45:25.696Z"
   },
   {
    "duration": 1278,
    "start_time": "2022-08-02T17:13:04.980Z"
   },
   {
    "duration": 896,
    "start_time": "2022-08-02T17:13:06.260Z"
   },
   {
    "duration": 61,
    "start_time": "2022-08-02T17:13:07.158Z"
   },
   {
    "duration": 31,
    "start_time": "2022-08-02T17:13:07.221Z"
   },
   {
    "duration": 28,
    "start_time": "2022-08-02T17:13:07.253Z"
   },
   {
    "duration": 27,
    "start_time": "2022-08-02T17:13:07.282Z"
   },
   {
    "duration": 24,
    "start_time": "2022-08-02T17:13:07.310Z"
   },
   {
    "duration": 13,
    "start_time": "2022-08-02T17:13:07.335Z"
   },
   {
    "duration": 9,
    "start_time": "2022-08-02T17:13:07.350Z"
   },
   {
    "duration": 8,
    "start_time": "2022-08-02T17:13:07.361Z"
   },
   {
    "duration": 35,
    "start_time": "2022-08-02T17:13:07.371Z"
   },
   {
    "duration": 10,
    "start_time": "2022-08-02T17:13:07.407Z"
   },
   {
    "duration": 11,
    "start_time": "2022-08-02T17:13:07.418Z"
   },
   {
    "duration": 188,
    "start_time": "2022-08-02T17:13:07.431Z"
   },
   {
    "duration": 29,
    "start_time": "2022-08-02T17:13:07.620Z"
   },
   {
    "duration": 187,
    "start_time": "2022-08-02T17:13:07.651Z"
   },
   {
    "duration": 33,
    "start_time": "2022-08-02T17:13:07.840Z"
   },
   {
    "duration": 4,
    "start_time": "2022-08-02T17:13:07.875Z"
   },
   {
    "duration": 1337,
    "start_time": "2022-08-02T17:13:07.881Z"
   },
   {
    "duration": 4,
    "start_time": "2022-08-02T17:13:09.220Z"
   },
   {
    "duration": 26,
    "start_time": "2022-08-02T17:13:09.226Z"
   },
   {
    "duration": 13,
    "start_time": "2022-08-02T17:13:09.254Z"
   },
   {
    "duration": 37,
    "start_time": "2022-08-02T17:13:09.269Z"
   },
   {
    "duration": 114,
    "start_time": "2022-08-02T17:13:09.308Z"
   },
   {
    "duration": 12,
    "start_time": "2022-08-02T17:13:09.423Z"
   },
   {
    "duration": 15,
    "start_time": "2022-08-02T17:13:09.437Z"
   },
   {
    "duration": 8,
    "start_time": "2022-08-02T17:13:09.454Z"
   },
   {
    "duration": 43,
    "start_time": "2022-08-02T17:13:09.464Z"
   },
   {
    "duration": 192,
    "start_time": "2022-08-02T17:13:09.508Z"
   },
   {
    "duration": 14,
    "start_time": "2022-08-02T17:13:09.702Z"
   },
   {
    "duration": 11,
    "start_time": "2022-08-02T17:13:09.718Z"
   },
   {
    "duration": 6,
    "start_time": "2022-08-02T17:13:09.731Z"
   },
   {
    "duration": 90,
    "start_time": "2022-08-02T17:13:09.738Z"
   },
   {
    "duration": 289,
    "start_time": "2022-08-02T17:13:09.829Z"
   },
   {
    "duration": 472,
    "start_time": "2022-08-02T17:13:10.120Z"
   },
   {
    "duration": 35,
    "start_time": "2022-08-02T17:13:10.594Z"
   },
   {
    "duration": 252,
    "start_time": "2022-08-02T17:13:10.630Z"
   },
   {
    "duration": 572,
    "start_time": "2022-08-02T17:13:10.883Z"
   },
   {
    "duration": 56,
    "start_time": "2022-08-02T17:13:11.457Z"
   },
   {
    "duration": 286,
    "start_time": "2022-08-02T17:13:11.514Z"
   },
   {
    "duration": 459,
    "start_time": "2022-08-02T17:13:11.801Z"
   },
   {
    "duration": 22,
    "start_time": "2022-08-02T17:13:12.262Z"
   },
   {
    "duration": 17,
    "start_time": "2022-08-02T17:13:12.286Z"
   },
   {
    "duration": 10,
    "start_time": "2022-08-02T17:13:12.305Z"
   },
   {
    "duration": 12,
    "start_time": "2022-08-02T17:13:12.317Z"
   },
   {
    "duration": 4,
    "start_time": "2022-08-02T17:13:12.330Z"
   },
   {
    "duration": 5,
    "start_time": "2022-08-02T18:15:23.945Z"
   },
   {
    "duration": 11,
    "start_time": "2022-08-02T18:19:35.893Z"
   },
   {
    "duration": 49,
    "start_time": "2022-08-04T11:08:16.739Z"
   },
   {
    "duration": 1235,
    "start_time": "2022-08-04T11:09:29.555Z"
   },
   {
    "duration": 1453,
    "start_time": "2022-08-04T11:09:33.315Z"
   },
   {
    "duration": 67,
    "start_time": "2022-08-04T11:09:36.405Z"
   },
   {
    "duration": 28,
    "start_time": "2022-08-04T11:09:42.416Z"
   },
   {
    "duration": 26,
    "start_time": "2022-08-04T11:09:42.621Z"
   },
   {
    "duration": 12,
    "start_time": "2022-08-04T11:09:42.890Z"
   },
   {
    "duration": 24,
    "start_time": "2022-08-04T11:09:44.832Z"
   },
   {
    "duration": 14,
    "start_time": "2022-08-04T11:09:45.020Z"
   },
   {
    "duration": 9,
    "start_time": "2022-08-04T11:09:46.972Z"
   },
   {
    "duration": 11,
    "start_time": "2022-08-04T11:09:47.373Z"
   },
   {
    "duration": 6,
    "start_time": "2022-08-04T11:09:49.218Z"
   },
   {
    "duration": 6,
    "start_time": "2022-08-04T11:09:49.525Z"
   },
   {
    "duration": 10,
    "start_time": "2022-08-04T11:09:49.901Z"
   },
   {
    "duration": 214,
    "start_time": "2022-08-04T11:09:54.278Z"
   },
   {
    "duration": 176,
    "start_time": "2022-08-04T11:11:08.187Z"
   },
   {
    "duration": 163,
    "start_time": "2022-08-04T11:11:31.185Z"
   },
   {
    "duration": 24,
    "start_time": "2022-08-04T11:11:32.716Z"
   },
   {
    "duration": 70,
    "start_time": "2022-08-04T11:19:29.198Z"
   },
   {
    "duration": 348,
    "start_time": "2022-08-04T11:21:53.184Z"
   },
   {
    "duration": 54,
    "start_time": "2022-08-04T11:21:54.425Z"
   },
   {
    "duration": 22,
    "start_time": "2022-08-04T11:21:56.128Z"
   },
   {
    "duration": 26,
    "start_time": "2022-08-04T11:21:56.330Z"
   },
   {
    "duration": 13,
    "start_time": "2022-08-04T11:21:56.542Z"
   },
   {
    "duration": 27,
    "start_time": "2022-08-04T11:21:56.737Z"
   },
   {
    "duration": 13,
    "start_time": "2022-08-04T11:21:56.944Z"
   },
   {
    "duration": 8,
    "start_time": "2022-08-04T11:21:57.528Z"
   },
   {
    "duration": 12,
    "start_time": "2022-08-04T11:21:57.784Z"
   },
   {
    "duration": 7,
    "start_time": "2022-08-04T11:21:58.032Z"
   },
   {
    "duration": 7,
    "start_time": "2022-08-04T11:21:58.272Z"
   },
   {
    "duration": 9,
    "start_time": "2022-08-04T11:21:58.529Z"
   },
   {
    "duration": 154,
    "start_time": "2022-08-04T11:21:59.304Z"
   },
   {
    "duration": 155,
    "start_time": "2022-08-04T11:22:05.118Z"
   },
   {
    "duration": 16,
    "start_time": "2022-08-04T11:22:06.021Z"
   },
   {
    "duration": 17,
    "start_time": "2022-08-04T11:22:18.922Z"
   },
   {
    "duration": 147,
    "start_time": "2022-08-04T11:22:21.887Z"
   },
   {
    "duration": 10,
    "start_time": "2022-08-04T11:31:23.594Z"
   },
   {
    "duration": 11,
    "start_time": "2022-08-04T11:31:41.626Z"
   },
   {
    "duration": 35,
    "start_time": "2022-08-04T11:32:35.639Z"
   },
   {
    "duration": 19,
    "start_time": "2022-08-04T11:32:39.489Z"
   },
   {
    "duration": 18,
    "start_time": "2022-08-04T11:32:41.529Z"
   },
   {
    "duration": 214,
    "start_time": "2022-08-04T11:32:56.787Z"
   },
   {
    "duration": 34,
    "start_time": "2022-08-04T11:33:09.855Z"
   },
   {
    "duration": 17,
    "start_time": "2022-08-04T11:33:12.702Z"
   },
   {
    "duration": 3,
    "start_time": "2022-08-04T11:33:23.431Z"
   },
   {
    "duration": 1469,
    "start_time": "2022-08-04T11:33:23.958Z"
   },
   {
    "duration": 2,
    "start_time": "2022-08-04T11:33:32.552Z"
   },
   {
    "duration": 11,
    "start_time": "2022-08-04T11:35:20.748Z"
   },
   {
    "duration": 1201,
    "start_time": "2022-08-04T13:34:38.514Z"
   },
   {
    "duration": 516,
    "start_time": "2022-08-04T13:34:42.298Z"
   },
   {
    "duration": 132,
    "start_time": "2022-08-04T13:34:44.989Z"
   },
   {
    "duration": 55,
    "start_time": "2022-08-04T13:34:47.322Z"
   },
   {
    "duration": 41,
    "start_time": "2022-08-04T13:34:49.702Z"
   },
   {
    "duration": 25,
    "start_time": "2022-08-04T13:34:50.338Z"
   },
   {
    "duration": 38,
    "start_time": "2022-08-04T13:34:52.799Z"
   },
   {
    "duration": 21,
    "start_time": "2022-08-04T13:34:57.193Z"
   },
   {
    "duration": 14,
    "start_time": "2022-08-04T13:34:59.880Z"
   },
   {
    "duration": 13,
    "start_time": "2022-08-04T13:35:01.843Z"
   },
   {
    "duration": 9,
    "start_time": "2022-08-04T13:35:02.025Z"
   },
   {
    "duration": 13,
    "start_time": "2022-08-04T13:35:02.207Z"
   },
   {
    "duration": 26,
    "start_time": "2022-08-04T13:35:03.347Z"
   },
   {
    "duration": 255,
    "start_time": "2022-08-04T13:35:05.290Z"
   },
   {
    "duration": 251,
    "start_time": "2022-08-04T13:35:10.798Z"
   },
   {
    "duration": 69,
    "start_time": "2022-08-04T13:35:12.346Z"
   },
   {
    "duration": 285,
    "start_time": "2022-08-04T13:35:16.650Z"
   },
   {
    "duration": 37,
    "start_time": "2022-08-04T13:35:20.181Z"
   },
   {
    "duration": 4,
    "start_time": "2022-08-04T13:36:06.398Z"
   },
   {
    "duration": 2257,
    "start_time": "2022-08-04T13:36:07.303Z"
   },
   {
    "duration": 3,
    "start_time": "2022-08-04T13:36:12.104Z"
   },
   {
    "duration": 8,
    "start_time": "2022-08-04T13:36:58.897Z"
   },
   {
    "duration": 690,
    "start_time": "2022-08-04T13:37:44.527Z"
   },
   {
    "duration": 6,
    "start_time": "2022-08-04T13:37:53.543Z"
   },
   {
    "duration": 11,
    "start_time": "2022-08-04T13:38:36.453Z"
   },
   {
    "duration": 25,
    "start_time": "2022-08-04T13:39:44.184Z"
   },
   {
    "duration": 15,
    "start_time": "2022-08-04T13:39:44.843Z"
   },
   {
    "duration": 24,
    "start_time": "2022-08-04T13:41:22.682Z"
   },
   {
    "duration": 13,
    "start_time": "2022-08-04T13:41:23.527Z"
   },
   {
    "duration": 126,
    "start_time": "2022-08-04T13:48:16.246Z"
   },
   {
    "duration": 1174,
    "start_time": "2022-08-04T13:48:46.835Z"
   },
   {
    "duration": 435,
    "start_time": "2022-08-04T13:48:48.087Z"
   },
   {
    "duration": 67,
    "start_time": "2022-08-04T13:48:48.897Z"
   },
   {
    "duration": 32,
    "start_time": "2022-08-04T13:48:50.104Z"
   },
   {
    "duration": 30,
    "start_time": "2022-08-04T13:48:50.404Z"
   },
   {
    "duration": 14,
    "start_time": "2022-08-04T13:48:50.680Z"
   },
   {
    "duration": 45,
    "start_time": "2022-08-04T13:48:51.026Z"
   },
   {
    "duration": 14,
    "start_time": "2022-08-04T13:48:51.294Z"
   },
   {
    "duration": 9,
    "start_time": "2022-08-04T13:48:52.382Z"
   },
   {
    "duration": 9,
    "start_time": "2022-08-04T13:48:52.696Z"
   },
   {
    "duration": 9,
    "start_time": "2022-08-04T13:48:53.119Z"
   },
   {
    "duration": 8,
    "start_time": "2022-08-04T13:48:54.040Z"
   },
   {
    "duration": 11,
    "start_time": "2022-08-04T13:48:54.727Z"
   },
   {
    "duration": 242,
    "start_time": "2022-08-04T13:48:58.289Z"
   },
   {
    "duration": 187,
    "start_time": "2022-08-04T13:49:03.559Z"
   },
   {
    "duration": 81,
    "start_time": "2022-08-04T13:49:06.633Z"
   },
   {
    "duration": 177,
    "start_time": "2022-08-04T13:49:10.369Z"
   },
   {
    "duration": 112,
    "start_time": "2022-08-04T13:49:11.894Z"
   },
   {
    "duration": 38,
    "start_time": "2022-08-04T13:49:19.963Z"
   },
   {
    "duration": 17,
    "start_time": "2022-08-04T13:49:30.752Z"
   },
   {
    "duration": 24,
    "start_time": "2022-08-04T13:50:26.149Z"
   },
   {
    "duration": 5,
    "start_time": "2022-08-04T13:50:50.205Z"
   },
   {
    "duration": 1758,
    "start_time": "2022-08-04T13:50:52.341Z"
   },
   {
    "duration": 3,
    "start_time": "2022-08-04T13:50:54.102Z"
   },
   {
    "duration": 41,
    "start_time": "2022-08-04T13:51:07.949Z"
   },
   {
    "duration": 20,
    "start_time": "2022-08-04T13:52:05.931Z"
   },
   {
    "duration": 14,
    "start_time": "2022-08-04T13:52:24.106Z"
   },
   {
    "duration": 33,
    "start_time": "2022-08-04T13:52:33.740Z"
   },
   {
    "duration": 28,
    "start_time": "2022-08-04T13:52:39.821Z"
   },
   {
    "duration": 8,
    "start_time": "2022-08-04T13:52:45.994Z"
   },
   {
    "duration": 6,
    "start_time": "2022-08-04T13:53:08.401Z"
   },
   {
    "duration": 14,
    "start_time": "2022-08-04T13:53:17.625Z"
   },
   {
    "duration": 17,
    "start_time": "2022-08-04T13:53:18.393Z"
   },
   {
    "duration": 38,
    "start_time": "2022-08-04T13:54:01.601Z"
   },
   {
    "duration": 12,
    "start_time": "2022-08-04T13:54:02.497Z"
   },
   {
    "duration": 17,
    "start_time": "2022-08-04T13:54:05.297Z"
   },
   {
    "duration": 1084,
    "start_time": "2022-08-04T16:08:38.649Z"
   },
   {
    "duration": 380,
    "start_time": "2022-08-04T16:08:39.734Z"
   },
   {
    "duration": 62,
    "start_time": "2022-08-04T16:08:42.809Z"
   },
   {
    "duration": 30,
    "start_time": "2022-08-04T16:08:44.553Z"
   },
   {
    "duration": 30,
    "start_time": "2022-08-04T16:08:45.088Z"
   },
   {
    "duration": 13,
    "start_time": "2022-08-04T16:08:45.569Z"
   },
   {
    "duration": 26,
    "start_time": "2022-08-04T16:08:47.872Z"
   },
   {
    "duration": 13,
    "start_time": "2022-08-04T16:08:48.057Z"
   },
   {
    "duration": 8,
    "start_time": "2022-08-04T16:08:50.961Z"
   },
   {
    "duration": 9,
    "start_time": "2022-08-04T16:08:51.135Z"
   },
   {
    "duration": 7,
    "start_time": "2022-08-04T16:08:51.289Z"
   },
   {
    "duration": 7,
    "start_time": "2022-08-04T16:08:51.457Z"
   },
   {
    "duration": 9,
    "start_time": "2022-08-04T16:08:51.632Z"
   },
   {
    "duration": 202,
    "start_time": "2022-08-04T16:08:52.209Z"
   },
   {
    "duration": 178,
    "start_time": "2022-08-04T16:08:55.032Z"
   },
   {
    "duration": 46,
    "start_time": "2022-08-04T16:08:56.001Z"
   },
   {
    "duration": 159,
    "start_time": "2022-08-04T16:08:56.882Z"
   },
   {
    "duration": 34,
    "start_time": "2022-08-04T16:08:59.627Z"
   },
   {
    "duration": 3,
    "start_time": "2022-08-04T16:23:43.894Z"
   },
   {
    "duration": 1447,
    "start_time": "2022-08-04T16:23:44.546Z"
   },
   {
    "duration": 2,
    "start_time": "2022-08-04T16:23:46.647Z"
   },
   {
    "duration": 27,
    "start_time": "2022-08-04T16:23:51.541Z"
   },
   {
    "duration": 12,
    "start_time": "2022-08-04T16:23:58.402Z"
   },
   {
    "duration": 25,
    "start_time": "2022-08-04T16:23:59.201Z"
   },
   {
    "duration": 88,
    "start_time": "2022-08-04T16:27:09.491Z"
   },
   {
    "duration": 19,
    "start_time": "2022-08-04T16:27:14.960Z"
   },
   {
    "duration": 40,
    "start_time": "2022-08-04T16:29:15.906Z"
   },
   {
    "duration": 12,
    "start_time": "2022-08-04T16:29:18.065Z"
   },
   {
    "duration": 5,
    "start_time": "2022-08-04T16:41:40.884Z"
   },
   {
    "duration": 5,
    "start_time": "2022-08-04T16:41:51.440Z"
   },
   {
    "duration": 5,
    "start_time": "2022-08-04T16:42:00.300Z"
   },
   {
    "duration": 12,
    "start_time": "2022-08-04T16:42:21.086Z"
   },
   {
    "duration": 1209,
    "start_time": "2022-08-04T16:42:41.244Z"
   },
   {
    "duration": 23,
    "start_time": "2022-08-04T16:42:58.133Z"
   },
   {
    "duration": 1691,
    "start_time": "2022-08-04T16:43:08.631Z"
   },
   {
    "duration": 10,
    "start_time": "2022-08-04T16:43:22.204Z"
   },
   {
    "duration": 11,
    "start_time": "2022-08-04T16:43:35.340Z"
   },
   {
    "duration": 8,
    "start_time": "2022-08-04T16:43:50.430Z"
   },
   {
    "duration": 9,
    "start_time": "2022-08-04T16:44:01.545Z"
   },
   {
    "duration": 5,
    "start_time": "2022-08-04T16:44:19.541Z"
   },
   {
    "duration": 10,
    "start_time": "2022-08-04T16:44:21.433Z"
   },
   {
    "duration": 9,
    "start_time": "2022-08-04T16:44:26.289Z"
   },
   {
    "duration": 6,
    "start_time": "2022-08-04T16:45:22.986Z"
   },
   {
    "duration": 5,
    "start_time": "2022-08-04T16:45:37.889Z"
   },
   {
    "duration": 4,
    "start_time": "2022-08-04T16:47:36.790Z"
   },
   {
    "duration": 4,
    "start_time": "2022-08-04T16:47:43.284Z"
   },
   {
    "duration": 8,
    "start_time": "2022-08-04T16:49:11.847Z"
   },
   {
    "duration": 11,
    "start_time": "2022-08-04T16:49:16.683Z"
   },
   {
    "duration": 8,
    "start_time": "2022-08-04T16:49:21.832Z"
   },
   {
    "duration": 10,
    "start_time": "2022-08-04T16:52:24.840Z"
   },
   {
    "duration": 10,
    "start_time": "2022-08-04T16:52:39.253Z"
   },
   {
    "duration": 5,
    "start_time": "2022-08-04T16:52:46.630Z"
   },
   {
    "duration": 4,
    "start_time": "2022-08-04T16:52:47.928Z"
   },
   {
    "duration": 4,
    "start_time": "2022-08-04T16:52:51.547Z"
   },
   {
    "duration": 5,
    "start_time": "2022-08-04T16:53:48.229Z"
   },
   {
    "duration": 21,
    "start_time": "2022-08-04T16:54:35.874Z"
   },
   {
    "duration": 14,
    "start_time": "2022-08-04T16:54:48.041Z"
   },
   {
    "duration": 19,
    "start_time": "2022-08-04T16:54:53.539Z"
   },
   {
    "duration": 12,
    "start_time": "2022-08-04T16:55:00.048Z"
   },
   {
    "duration": 17,
    "start_time": "2022-08-04T16:55:06.656Z"
   },
   {
    "duration": 4,
    "start_time": "2022-08-04T16:55:48.834Z"
   },
   {
    "duration": 6,
    "start_time": "2022-08-04T16:55:53.080Z"
   },
   {
    "duration": 12,
    "start_time": "2022-08-04T17:04:28.438Z"
   },
   {
    "duration": 9,
    "start_time": "2022-08-04T17:04:45.454Z"
   },
   {
    "duration": 10,
    "start_time": "2022-08-04T17:04:50.841Z"
   },
   {
    "duration": 9,
    "start_time": "2022-08-04T17:04:58.864Z"
   },
   {
    "duration": 27,
    "start_time": "2022-08-04T17:05:05.649Z"
   },
   {
    "duration": 9,
    "start_time": "2022-08-04T17:05:17.230Z"
   },
   {
    "duration": 4,
    "start_time": "2022-08-04T17:05:45.894Z"
   },
   {
    "duration": 9,
    "start_time": "2022-08-04T17:05:55.383Z"
   },
   {
    "duration": 9,
    "start_time": "2022-08-04T17:05:56.879Z"
   },
   {
    "duration": 9,
    "start_time": "2022-08-04T17:06:13.063Z"
   },
   {
    "duration": 7,
    "start_time": "2022-08-04T17:06:40.153Z"
   },
   {
    "duration": 10,
    "start_time": "2022-08-04T17:07:22.894Z"
   },
   {
    "duration": 1071,
    "start_time": "2022-08-04T17:07:33.987Z"
   },
   {
    "duration": 380,
    "start_time": "2022-08-04T17:07:35.060Z"
   },
   {
    "duration": 59,
    "start_time": "2022-08-04T17:07:35.441Z"
   },
   {
    "duration": 29,
    "start_time": "2022-08-04T17:07:35.502Z"
   },
   {
    "duration": 40,
    "start_time": "2022-08-04T17:07:35.533Z"
   },
   {
    "duration": 12,
    "start_time": "2022-08-04T17:07:35.574Z"
   },
   {
    "duration": 25,
    "start_time": "2022-08-04T17:07:35.588Z"
   },
   {
    "duration": 13,
    "start_time": "2022-08-04T17:07:35.614Z"
   },
   {
    "duration": 32,
    "start_time": "2022-08-04T17:07:35.629Z"
   },
   {
    "duration": 12,
    "start_time": "2022-08-04T17:07:35.663Z"
   },
   {
    "duration": 8,
    "start_time": "2022-08-04T17:07:35.677Z"
   },
   {
    "duration": 1053,
    "start_time": "2022-08-04T17:07:43.999Z"
   },
   {
    "duration": 371,
    "start_time": "2022-08-04T17:07:45.168Z"
   },
   {
    "duration": 60,
    "start_time": "2022-08-04T17:07:46.040Z"
   },
   {
    "duration": 38,
    "start_time": "2022-08-04T17:07:57.385Z"
   },
   {
    "duration": 26,
    "start_time": "2022-08-04T17:07:59.397Z"
   },
   {
    "duration": 13,
    "start_time": "2022-08-04T17:08:01.557Z"
   },
   {
    "duration": 24,
    "start_time": "2022-08-04T17:08:01.776Z"
   },
   {
    "duration": 13,
    "start_time": "2022-08-04T17:08:01.948Z"
   },
   {
    "duration": 8,
    "start_time": "2022-08-04T17:08:03.062Z"
   },
   {
    "duration": 9,
    "start_time": "2022-08-04T17:08:05.727Z"
   },
   {
    "duration": 8,
    "start_time": "2022-08-04T17:08:07.728Z"
   },
   {
    "duration": 8,
    "start_time": "2022-08-04T17:08:09.731Z"
   },
   {
    "duration": 12,
    "start_time": "2022-08-04T17:08:10.365Z"
   },
   {
    "duration": 199,
    "start_time": "2022-08-04T17:08:16.997Z"
   },
   {
    "duration": 167,
    "start_time": "2022-08-04T17:08:21.501Z"
   },
   {
    "duration": 48,
    "start_time": "2022-08-04T17:08:24.027Z"
   },
   {
    "duration": 166,
    "start_time": "2022-08-04T17:08:27.853Z"
   },
   {
    "duration": 37,
    "start_time": "2022-08-04T17:08:31.677Z"
   },
   {
    "duration": 4,
    "start_time": "2022-08-04T17:08:36.333Z"
   },
   {
    "duration": 1790,
    "start_time": "2022-08-04T17:08:36.546Z"
   },
   {
    "duration": 4,
    "start_time": "2022-08-04T17:08:39.500Z"
   },
   {
    "duration": 36,
    "start_time": "2022-08-04T17:08:42.060Z"
   },
   {
    "duration": 13,
    "start_time": "2022-08-04T17:08:45.338Z"
   },
   {
    "duration": 21,
    "start_time": "2022-08-04T17:08:46.228Z"
   },
   {
    "duration": 36,
    "start_time": "2022-08-04T17:08:50.128Z"
   },
   {
    "duration": 12,
    "start_time": "2022-08-04T17:08:51.670Z"
   },
   {
    "duration": 4,
    "start_time": "2022-08-04T17:08:54.692Z"
   },
   {
    "duration": 4,
    "start_time": "2022-08-04T17:08:58.492Z"
   },
   {
    "duration": 6,
    "start_time": "2022-08-04T17:08:59.126Z"
   },
   {
    "duration": 93,
    "start_time": "2022-08-04T17:08:59.678Z"
   },
   {
    "duration": 7,
    "start_time": "2022-08-04T17:09:18.749Z"
   },
   {
    "duration": 12,
    "start_time": "2022-08-04T17:09:19.498Z"
   },
   {
    "duration": 12,
    "start_time": "2022-08-04T17:09:20.164Z"
   },
   {
    "duration": 8,
    "start_time": "2022-08-04T17:09:23.854Z"
   },
   {
    "duration": 8,
    "start_time": "2022-08-04T17:09:24.644Z"
   },
   {
    "duration": 9,
    "start_time": "2022-08-04T17:29:33.827Z"
   },
   {
    "duration": 2,
    "start_time": "2022-08-04T17:32:13.123Z"
   },
   {
    "duration": 5,
    "start_time": "2022-08-04T17:35:35.345Z"
   },
   {
    "duration": 9,
    "start_time": "2022-08-04T17:35:45.127Z"
   },
   {
    "duration": 30,
    "start_time": "2022-08-04T17:35:45.258Z"
   },
   {
    "duration": 26,
    "start_time": "2022-08-04T17:37:47.629Z"
   },
   {
    "duration": 6,
    "start_time": "2022-08-04T17:42:04.979Z"
   },
   {
    "duration": 11,
    "start_time": "2022-08-04T17:43:26.930Z"
   },
   {
    "duration": 6,
    "start_time": "2022-08-04T17:43:56.989Z"
   },
   {
    "duration": 1427,
    "start_time": "2022-08-04T17:44:31.085Z"
   },
   {
    "duration": 1670,
    "start_time": "2022-08-04T17:44:49.196Z"
   },
   {
    "duration": 5,
    "start_time": "2022-08-04T17:44:53.751Z"
   },
   {
    "duration": 5,
    "start_time": "2022-08-04T17:45:26.348Z"
   },
   {
    "duration": 1244,
    "start_time": "2022-08-04T17:45:33.635Z"
   },
   {
    "duration": 4,
    "start_time": "2022-08-04T17:45:36.170Z"
   },
   {
    "duration": 4,
    "start_time": "2022-08-04T17:46:04.069Z"
   },
   {
    "duration": 23,
    "start_time": "2022-08-04T17:47:14.340Z"
   },
   {
    "duration": 13,
    "start_time": "2022-08-04T17:49:29.929Z"
   },
   {
    "duration": 20,
    "start_time": "2022-08-04T17:49:36.679Z"
   },
   {
    "duration": 14,
    "start_time": "2022-08-04T17:49:42.469Z"
   },
   {
    "duration": 4,
    "start_time": "2022-08-04T17:50:45.077Z"
   },
   {
    "duration": 22,
    "start_time": "2022-08-04T17:50:45.248Z"
   },
   {
    "duration": 7,
    "start_time": "2022-08-04T17:50:49.627Z"
   },
   {
    "duration": 14,
    "start_time": "2022-08-04T17:50:52.766Z"
   },
   {
    "duration": 204,
    "start_time": "2022-08-04T17:51:43.578Z"
   },
   {
    "duration": 18,
    "start_time": "2022-08-04T17:52:02.296Z"
   },
   {
    "duration": 10,
    "start_time": "2022-08-04T17:53:29.567Z"
   },
   {
    "duration": 7,
    "start_time": "2022-08-04T17:53:35.435Z"
   },
   {
    "duration": 68,
    "start_time": "2022-08-04T17:54:21.900Z"
   },
   {
    "duration": 25,
    "start_time": "2022-08-04T17:55:24.637Z"
   },
   {
    "duration": 286,
    "start_time": "2022-08-04T17:55:36.563Z"
   },
   {
    "duration": 27,
    "start_time": "2022-08-04T17:56:15.561Z"
   },
   {
    "duration": 350,
    "start_time": "2022-08-04T17:58:04.769Z"
   },
   {
    "duration": 455,
    "start_time": "2022-08-04T17:58:11.000Z"
   },
   {
    "duration": 478,
    "start_time": "2022-08-04T17:58:41.241Z"
   },
   {
    "duration": 28,
    "start_time": "2022-08-04T17:59:01.067Z"
   },
   {
    "duration": 498,
    "start_time": "2022-08-04T17:59:35.832Z"
   },
   {
    "duration": 164,
    "start_time": "2022-08-04T17:59:37.277Z"
   },
   {
    "duration": 239,
    "start_time": "2022-08-04T17:59:52.336Z"
   },
   {
    "duration": 244,
    "start_time": "2022-08-04T18:00:13.932Z"
   },
   {
    "duration": 445,
    "start_time": "2022-08-04T18:00:16.798Z"
   },
   {
    "duration": 464,
    "start_time": "2022-08-04T18:00:22.603Z"
   },
   {
    "duration": 550,
    "start_time": "2022-08-04T18:00:27.934Z"
   },
   {
    "duration": 13,
    "start_time": "2022-08-04T18:00:30.970Z"
   },
   {
    "duration": 11,
    "start_time": "2022-08-04T18:00:43.339Z"
   },
   {
    "duration": 27,
    "start_time": "2022-08-04T18:06:27.643Z"
   },
   {
    "duration": 29,
    "start_time": "2022-08-04T18:07:14.281Z"
   },
   {
    "duration": 28,
    "start_time": "2022-08-04T18:07:53.277Z"
   },
   {
    "duration": 27,
    "start_time": "2022-08-04T18:08:21.576Z"
   },
   {
    "duration": 267,
    "start_time": "2022-08-04T18:08:29.111Z"
   },
   {
    "duration": 469,
    "start_time": "2022-08-04T18:08:34.256Z"
   },
   {
    "duration": 12,
    "start_time": "2022-08-04T18:08:39.689Z"
   },
   {
    "duration": 34,
    "start_time": "2022-08-04T18:08:49.546Z"
   },
   {
    "duration": 29,
    "start_time": "2022-08-04T18:09:31.712Z"
   },
   {
    "duration": 28,
    "start_time": "2022-08-04T18:09:51.990Z"
   },
   {
    "duration": 27,
    "start_time": "2022-08-04T18:10:20.739Z"
   },
   {
    "duration": 263,
    "start_time": "2022-08-04T18:11:31.098Z"
   },
   {
    "duration": 154,
    "start_time": "2022-08-04T18:11:34.610Z"
   },
   {
    "duration": 541,
    "start_time": "2022-08-04T18:12:04.997Z"
   },
   {
    "duration": 718,
    "start_time": "2022-08-04T18:16:07.237Z"
   },
   {
    "duration": 17,
    "start_time": "2022-08-04T18:22:39.112Z"
   },
   {
    "duration": 9,
    "start_time": "2022-08-04T18:22:45.685Z"
   },
   {
    "duration": 7,
    "start_time": "2022-08-04T18:22:47.712Z"
   },
   {
    "duration": 35,
    "start_time": "2022-08-04T18:22:53.473Z"
   },
   {
    "duration": 29,
    "start_time": "2022-08-04T18:22:55.857Z"
   },
   {
    "duration": 326,
    "start_time": "2022-08-04T18:22:57.208Z"
   },
   {
    "duration": 505,
    "start_time": "2022-08-04T18:22:59.496Z"
   },
   {
    "duration": 34,
    "start_time": "2022-08-04T18:23:00.753Z"
   },
   {
    "duration": 27,
    "start_time": "2022-08-04T18:23:05.544Z"
   },
   {
    "duration": 370,
    "start_time": "2022-08-04T18:23:07.368Z"
   },
   {
    "duration": 472,
    "start_time": "2022-08-04T18:23:08.176Z"
   },
   {
    "duration": 35,
    "start_time": "2022-08-04T18:23:09.800Z"
   },
   {
    "duration": 27,
    "start_time": "2022-08-04T18:23:10.945Z"
   },
   {
    "duration": 249,
    "start_time": "2022-08-04T18:23:12.044Z"
   },
   {
    "duration": 435,
    "start_time": "2022-08-04T18:23:12.880Z"
   },
   {
    "duration": 21,
    "start_time": "2022-08-04T18:23:42.681Z"
   },
   {
    "duration": 4964,
    "start_time": "2022-08-04T18:25:53.703Z"
   },
   {
    "duration": 5169,
    "start_time": "2022-08-04T18:26:37.250Z"
   },
   {
    "duration": 37,
    "start_time": "2022-08-04T18:27:42.954Z"
   },
   {
    "duration": 5268,
    "start_time": "2022-08-04T18:28:06.347Z"
   },
   {
    "duration": 364,
    "start_time": "2022-08-04T18:29:05.644Z"
   },
   {
    "duration": 52,
    "start_time": "2022-08-04T18:29:26.690Z"
   },
   {
    "duration": 59,
    "start_time": "2022-08-04T18:30:01.560Z"
   },
   {
    "duration": 43,
    "start_time": "2022-08-04T18:31:26.647Z"
   },
   {
    "duration": 60,
    "start_time": "2022-08-04T18:33:40.656Z"
   },
   {
    "duration": 53,
    "start_time": "2022-08-04T18:33:45.152Z"
   },
   {
    "duration": 38,
    "start_time": "2022-08-04T18:33:57.552Z"
   },
   {
    "duration": 5072,
    "start_time": "2022-08-04T18:39:31.470Z"
   },
   {
    "duration": 43,
    "start_time": "2022-08-04T18:45:08.338Z"
   },
   {
    "duration": 49,
    "start_time": "2022-08-04T18:45:14.275Z"
   },
   {
    "duration": 38,
    "start_time": "2022-08-04T18:45:25.453Z"
   },
   {
    "duration": 37,
    "start_time": "2022-08-04T18:45:39.396Z"
   },
   {
    "duration": 1059,
    "start_time": "2022-08-04T18:45:44.242Z"
   },
   {
    "duration": 362,
    "start_time": "2022-08-04T18:45:45.303Z"
   },
   {
    "duration": 55,
    "start_time": "2022-08-04T18:45:45.666Z"
   },
   {
    "duration": 32,
    "start_time": "2022-08-04T18:45:45.723Z"
   },
   {
    "duration": 26,
    "start_time": "2022-08-04T18:45:45.756Z"
   },
   {
    "duration": 11,
    "start_time": "2022-08-04T18:45:45.784Z"
   },
   {
    "duration": 28,
    "start_time": "2022-08-04T18:45:45.797Z"
   },
   {
    "duration": 35,
    "start_time": "2022-08-04T18:45:45.827Z"
   },
   {
    "duration": 8,
    "start_time": "2022-08-04T18:45:45.863Z"
   },
   {
    "duration": 9,
    "start_time": "2022-08-04T18:45:45.873Z"
   },
   {
    "duration": 8,
    "start_time": "2022-08-04T18:45:45.883Z"
   },
   {
    "duration": 8,
    "start_time": "2022-08-04T18:45:45.893Z"
   },
   {
    "duration": 11,
    "start_time": "2022-08-04T18:45:45.903Z"
   },
   {
    "duration": 208,
    "start_time": "2022-08-04T18:45:45.917Z"
   },
   {
    "duration": 171,
    "start_time": "2022-08-04T18:45:46.126Z"
   },
   {
    "duration": 48,
    "start_time": "2022-08-04T18:45:46.298Z"
   },
   {
    "duration": 161,
    "start_time": "2022-08-04T18:45:46.355Z"
   },
   {
    "duration": 41,
    "start_time": "2022-08-04T18:45:46.517Z"
   },
   {
    "duration": 3,
    "start_time": "2022-08-04T18:45:46.559Z"
   },
   {
    "duration": 1496,
    "start_time": "2022-08-04T18:45:46.564Z"
   },
   {
    "duration": 3,
    "start_time": "2022-08-04T18:45:48.061Z"
   },
   {
    "duration": 37,
    "start_time": "2022-08-04T18:45:48.065Z"
   },
   {
    "duration": 10,
    "start_time": "2022-08-04T18:45:48.104Z"
   },
   {
    "duration": 40,
    "start_time": "2022-08-04T18:45:48.115Z"
   },
   {
    "duration": 35,
    "start_time": "2022-08-04T18:45:48.156Z"
   },
   {
    "duration": 11,
    "start_time": "2022-08-04T18:45:48.192Z"
   },
   {
    "duration": 3,
    "start_time": "2022-08-04T18:45:48.204Z"
   },
   {
    "duration": 4,
    "start_time": "2022-08-04T18:45:48.209Z"
   },
   {
    "duration": 7,
    "start_time": "2022-08-04T18:45:48.214Z"
   },
   {
    "duration": 34,
    "start_time": "2022-08-04T18:45:48.222Z"
   },
   {
    "duration": 2,
    "start_time": "2022-08-04T18:45:48.257Z"
   },
   {
    "duration": 6,
    "start_time": "2022-08-04T18:45:48.260Z"
   },
   {
    "duration": 6,
    "start_time": "2022-08-04T18:45:48.268Z"
   },
   {
    "duration": 13,
    "start_time": "2022-08-04T18:45:48.275Z"
   },
   {
    "duration": 193,
    "start_time": "2022-08-04T18:45:48.290Z"
   },
   {
    "duration": 16,
    "start_time": "2022-08-04T18:45:48.484Z"
   },
   {
    "duration": 11,
    "start_time": "2022-08-04T18:45:48.502Z"
   },
   {
    "duration": 7,
    "start_time": "2022-08-04T18:45:48.514Z"
   },
   {
    "duration": 90,
    "start_time": "2022-08-04T18:45:48.523Z"
   },
   {
    "duration": 25,
    "start_time": "2022-08-04T18:45:48.614Z"
   },
   {
    "duration": 280,
    "start_time": "2022-08-04T18:45:48.654Z"
   },
   {
    "duration": 552,
    "start_time": "2022-08-04T18:45:48.936Z"
   },
   {
    "duration": 33,
    "start_time": "2022-08-04T18:45:49.490Z"
   },
   {
    "duration": 39,
    "start_time": "2022-08-04T18:45:49.524Z"
   },
   {
    "duration": 275,
    "start_time": "2022-08-04T18:45:49.564Z"
   },
   {
    "duration": 467,
    "start_time": "2022-08-04T18:45:49.840Z"
   },
   {
    "duration": 33,
    "start_time": "2022-08-04T18:45:50.309Z"
   },
   {
    "duration": 34,
    "start_time": "2022-08-04T18:45:50.343Z"
   },
   {
    "duration": 287,
    "start_time": "2022-08-04T18:45:50.379Z"
   },
   {
    "duration": 654,
    "start_time": "2022-08-04T18:45:50.668Z"
   },
   {
    "duration": 63,
    "start_time": "2022-08-04T18:45:51.323Z"
   },
   {
    "duration": 45,
    "start_time": "2022-08-04T18:45:51.388Z"
   },
   {
    "duration": 4801,
    "start_time": "2022-08-04T18:45:51.435Z"
   },
   {
    "duration": 55,
    "start_time": "2022-08-04T18:45:56.238Z"
   },
   {
    "duration": 21,
    "start_time": "2022-08-04T18:45:56.294Z"
   },
   {
    "duration": 4,
    "start_time": "2022-08-04T18:45:56.316Z"
   },
   {
    "duration": 5,
    "start_time": "2022-08-04T18:45:56.322Z"
   },
   {
    "duration": 31,
    "start_time": "2022-08-04T18:45:56.328Z"
   },
   {
    "duration": 3,
    "start_time": "2022-08-04T18:45:56.360Z"
   },
   {
    "duration": 38,
    "start_time": "2022-08-04T18:46:34.090Z"
   },
   {
    "duration": 55,
    "start_time": "2022-08-04T18:46:36.302Z"
   },
   {
    "duration": 52,
    "start_time": "2022-08-04T18:46:45.886Z"
   },
   {
    "duration": 46,
    "start_time": "2022-08-04T18:46:46.678Z"
   },
   {
    "duration": 5084,
    "start_time": "2022-08-04T18:46:52.745Z"
   },
   {
    "duration": 277,
    "start_time": "2022-08-04T18:49:17.947Z"
   },
   {
    "duration": 9,
    "start_time": "2022-08-04T18:49:35.841Z"
   },
   {
    "duration": 5148,
    "start_time": "2022-08-04T18:49:48.306Z"
   },
   {
    "duration": 9,
    "start_time": "2022-08-04T18:52:26.292Z"
   },
   {
    "duration": 11,
    "start_time": "2022-08-04T18:52:57.575Z"
   },
   {
    "duration": 8,
    "start_time": "2022-08-04T18:53:21.639Z"
   },
   {
    "duration": 69,
    "start_time": "2022-08-04T18:53:33.274Z"
   },
   {
    "duration": 10,
    "start_time": "2022-08-04T18:53:36.787Z"
   },
   {
    "duration": 77,
    "start_time": "2022-08-04T18:53:48.477Z"
   },
   {
    "duration": 5196,
    "start_time": "2022-08-04T18:54:08.889Z"
   },
   {
    "duration": 1086,
    "start_time": "2022-08-04T19:02:58.480Z"
   },
   {
    "duration": 378,
    "start_time": "2022-08-04T19:02:59.568Z"
   },
   {
    "duration": 57,
    "start_time": "2022-08-04T19:02:59.947Z"
   },
   {
    "duration": 29,
    "start_time": "2022-08-04T19:03:00.006Z"
   },
   {
    "duration": 38,
    "start_time": "2022-08-04T19:03:00.037Z"
   },
   {
    "duration": 12,
    "start_time": "2022-08-04T19:03:00.077Z"
   },
   {
    "duration": 23,
    "start_time": "2022-08-04T19:03:00.090Z"
   },
   {
    "duration": 11,
    "start_time": "2022-08-04T19:03:00.115Z"
   },
   {
    "duration": 33,
    "start_time": "2022-08-04T19:03:00.128Z"
   },
   {
    "duration": 15,
    "start_time": "2022-08-04T19:03:00.164Z"
   },
   {
    "duration": 10,
    "start_time": "2022-08-04T19:03:00.180Z"
   },
   {
    "duration": 16,
    "start_time": "2022-08-04T19:03:00.192Z"
   },
   {
    "duration": 23,
    "start_time": "2022-08-04T19:03:00.209Z"
   },
   {
    "duration": 223,
    "start_time": "2022-08-04T19:03:00.233Z"
   },
   {
    "duration": 183,
    "start_time": "2022-08-04T19:03:00.457Z"
   },
   {
    "duration": 55,
    "start_time": "2022-08-04T19:03:00.642Z"
   },
   {
    "duration": 182,
    "start_time": "2022-08-04T19:03:00.698Z"
   },
   {
    "duration": 41,
    "start_time": "2022-08-04T19:03:00.882Z"
   },
   {
    "duration": 4,
    "start_time": "2022-08-04T19:03:00.924Z"
   },
   {
    "duration": 1476,
    "start_time": "2022-08-04T19:03:00.929Z"
   },
   {
    "duration": 3,
    "start_time": "2022-08-04T19:03:02.407Z"
   },
   {
    "duration": 44,
    "start_time": "2022-08-04T19:03:02.412Z"
   },
   {
    "duration": 11,
    "start_time": "2022-08-04T19:03:02.457Z"
   },
   {
    "duration": 37,
    "start_time": "2022-08-04T19:03:02.469Z"
   },
   {
    "duration": 35,
    "start_time": "2022-08-04T19:03:02.508Z"
   },
   {
    "duration": 16,
    "start_time": "2022-08-04T19:03:02.545Z"
   },
   {
    "duration": 26,
    "start_time": "2022-08-04T19:03:02.563Z"
   },
   {
    "duration": 5,
    "start_time": "2022-08-04T19:03:02.593Z"
   },
   {
    "duration": 8,
    "start_time": "2022-08-04T19:03:02.599Z"
   },
   {
    "duration": 7,
    "start_time": "2022-08-04T19:03:02.609Z"
   },
   {
    "duration": 2,
    "start_time": "2022-08-04T19:03:02.618Z"
   },
   {
    "duration": 10,
    "start_time": "2022-08-04T19:03:02.622Z"
   },
   {
    "duration": 11,
    "start_time": "2022-08-04T19:03:02.634Z"
   },
   {
    "duration": 19,
    "start_time": "2022-08-04T19:03:02.646Z"
   },
   {
    "duration": 191,
    "start_time": "2022-08-04T19:03:02.667Z"
   },
   {
    "duration": 22,
    "start_time": "2022-08-04T19:03:02.860Z"
   },
   {
    "duration": 12,
    "start_time": "2022-08-04T19:03:02.883Z"
   },
   {
    "duration": 6,
    "start_time": "2022-08-04T19:03:02.896Z"
   },
   {
    "duration": 102,
    "start_time": "2022-08-04T19:03:02.904Z"
   },
   {
    "duration": 48,
    "start_time": "2022-08-04T19:03:03.008Z"
   },
   {
    "duration": 283,
    "start_time": "2022-08-04T19:03:03.058Z"
   },
   {
    "duration": 568,
    "start_time": "2022-08-04T19:03:03.343Z"
   },
   {
    "duration": 43,
    "start_time": "2022-08-04T19:03:03.912Z"
   },
   {
    "duration": 26,
    "start_time": "2022-08-04T19:03:03.956Z"
   },
   {
    "duration": 267,
    "start_time": "2022-08-04T19:03:03.983Z"
   },
   {
    "duration": 478,
    "start_time": "2022-08-04T19:03:04.254Z"
   },
   {
    "duration": 43,
    "start_time": "2022-08-04T19:03:04.733Z"
   },
   {
    "duration": 33,
    "start_time": "2022-08-04T19:03:04.778Z"
   },
   {
    "duration": 333,
    "start_time": "2022-08-04T19:03:04.813Z"
   },
   {
    "duration": 545,
    "start_time": "2022-08-04T19:03:05.148Z"
   },
   {
    "duration": 61,
    "start_time": "2022-08-04T19:03:05.695Z"
   },
   {
    "duration": 45,
    "start_time": "2022-08-04T19:03:05.758Z"
   },
   {
    "duration": 5258,
    "start_time": "2022-08-04T19:03:05.805Z"
   },
   {
    "duration": 22,
    "start_time": "2022-08-04T19:03:11.065Z"
   },
   {
    "duration": 5,
    "start_time": "2022-08-04T19:03:11.088Z"
   },
   {
    "duration": 7,
    "start_time": "2022-08-04T19:03:11.094Z"
   },
   {
    "duration": 12,
    "start_time": "2022-08-04T19:03:11.102Z"
   },
   {
    "duration": 6,
    "start_time": "2022-08-04T19:03:11.116Z"
   },
   {
    "duration": 5152,
    "start_time": "2022-08-04T19:03:11.123Z"
   },
   {
    "duration": 1052,
    "start_time": "2022-08-05T13:38:26.513Z"
   },
   {
    "duration": 394,
    "start_time": "2022-08-05T13:38:27.567Z"
   },
   {
    "duration": 67,
    "start_time": "2022-08-05T13:38:27.963Z"
   },
   {
    "duration": 50,
    "start_time": "2022-08-05T13:38:28.032Z"
   },
   {
    "duration": 28,
    "start_time": "2022-08-05T13:38:28.085Z"
   },
   {
    "duration": 13,
    "start_time": "2022-08-05T13:38:28.114Z"
   },
   {
    "duration": 46,
    "start_time": "2022-08-05T13:38:28.129Z"
   },
   {
    "duration": 23,
    "start_time": "2022-08-05T13:38:28.176Z"
   },
   {
    "duration": 9,
    "start_time": "2022-08-05T13:38:28.200Z"
   },
   {
    "duration": 14,
    "start_time": "2022-08-05T13:38:28.211Z"
   },
   {
    "duration": 36,
    "start_time": "2022-08-05T13:38:28.226Z"
   },
   {
    "duration": 24,
    "start_time": "2022-08-05T13:38:28.263Z"
   },
   {
    "duration": 23,
    "start_time": "2022-08-05T13:38:28.289Z"
   },
   {
    "duration": 208,
    "start_time": "2022-08-05T13:38:28.314Z"
   },
   {
    "duration": 206,
    "start_time": "2022-08-05T13:38:28.523Z"
   },
   {
    "duration": 58,
    "start_time": "2022-08-05T13:38:28.730Z"
   },
   {
    "duration": 180,
    "start_time": "2022-08-05T13:38:28.790Z"
   },
   {
    "duration": 35,
    "start_time": "2022-08-05T13:38:28.971Z"
   },
   {
    "duration": 3,
    "start_time": "2022-08-05T13:38:29.008Z"
   },
   {
    "duration": 1552,
    "start_time": "2022-08-05T13:38:29.012Z"
   },
   {
    "duration": 4,
    "start_time": "2022-08-05T13:38:30.565Z"
   },
   {
    "duration": 53,
    "start_time": "2022-08-05T13:38:30.570Z"
   },
   {
    "duration": 10,
    "start_time": "2022-08-05T13:38:30.625Z"
   },
   {
    "duration": 52,
    "start_time": "2022-08-05T13:38:30.637Z"
   },
   {
    "duration": 41,
    "start_time": "2022-08-05T13:38:30.691Z"
   },
   {
    "duration": 12,
    "start_time": "2022-08-05T13:38:30.733Z"
   },
   {
    "duration": 14,
    "start_time": "2022-08-05T13:38:30.746Z"
   },
   {
    "duration": 28,
    "start_time": "2022-08-05T13:38:30.762Z"
   },
   {
    "duration": 29,
    "start_time": "2022-08-05T13:38:30.792Z"
   },
   {
    "duration": 18,
    "start_time": "2022-08-05T13:38:30.822Z"
   },
   {
    "duration": 24,
    "start_time": "2022-08-05T13:38:30.842Z"
   },
   {
    "duration": 21,
    "start_time": "2022-08-05T13:38:30.867Z"
   },
   {
    "duration": 14,
    "start_time": "2022-08-05T13:38:30.890Z"
   },
   {
    "duration": 27,
    "start_time": "2022-08-05T13:38:30.905Z"
   },
   {
    "duration": 184,
    "start_time": "2022-08-05T13:38:30.934Z"
   },
   {
    "duration": 15,
    "start_time": "2022-08-05T13:38:31.119Z"
   },
   {
    "duration": 22,
    "start_time": "2022-08-05T13:38:31.136Z"
   },
   {
    "duration": 7,
    "start_time": "2022-08-05T13:38:31.159Z"
   },
   {
    "duration": 71,
    "start_time": "2022-08-05T13:38:31.168Z"
   },
   {
    "duration": 39,
    "start_time": "2022-08-05T13:38:31.240Z"
   },
   {
    "duration": 297,
    "start_time": "2022-08-05T13:38:31.282Z"
   },
   {
    "duration": 598,
    "start_time": "2022-08-05T13:38:31.580Z"
   },
   {
    "duration": 35,
    "start_time": "2022-08-05T13:38:32.180Z"
   },
   {
    "duration": 49,
    "start_time": "2022-08-05T13:38:32.216Z"
   },
   {
    "duration": 292,
    "start_time": "2022-08-05T13:38:32.267Z"
   },
   {
    "duration": 509,
    "start_time": "2022-08-05T13:38:32.561Z"
   },
   {
    "duration": 35,
    "start_time": "2022-08-05T13:38:33.071Z"
   },
   {
    "duration": 25,
    "start_time": "2022-08-05T13:38:33.108Z"
   },
   {
    "duration": 314,
    "start_time": "2022-08-05T13:38:33.134Z"
   },
   {
    "duration": 573,
    "start_time": "2022-08-05T13:38:33.450Z"
   },
   {
    "duration": 63,
    "start_time": "2022-08-05T13:38:34.025Z"
   },
   {
    "duration": 40,
    "start_time": "2022-08-05T13:38:34.090Z"
   },
   {
    "duration": 5580,
    "start_time": "2022-08-05T13:38:34.132Z"
   },
   {
    "duration": 23,
    "start_time": "2022-08-05T13:38:39.714Z"
   },
   {
    "duration": 20,
    "start_time": "2022-08-05T13:38:39.739Z"
   },
   {
    "duration": 6,
    "start_time": "2022-08-05T13:38:39.760Z"
   },
   {
    "duration": 15,
    "start_time": "2022-08-05T13:38:39.768Z"
   },
   {
    "duration": 6,
    "start_time": "2022-08-05T13:38:39.785Z"
   },
   {
    "duration": 5921,
    "start_time": "2022-08-05T13:38:39.792Z"
   },
   {
    "duration": 17,
    "start_time": "2022-08-05T13:42:24.405Z"
   },
   {
    "duration": 1105,
    "start_time": "2022-08-05T13:42:47.978Z"
   },
   {
    "duration": 390,
    "start_time": "2022-08-05T13:42:49.085Z"
   },
   {
    "duration": 62,
    "start_time": "2022-08-05T13:42:49.477Z"
   },
   {
    "duration": 31,
    "start_time": "2022-08-05T13:42:49.541Z"
   },
   {
    "duration": 26,
    "start_time": "2022-08-05T13:42:49.574Z"
   },
   {
    "duration": 11,
    "start_time": "2022-08-05T13:42:49.602Z"
   },
   {
    "duration": 44,
    "start_time": "2022-08-05T13:42:49.614Z"
   },
   {
    "duration": 12,
    "start_time": "2022-08-05T13:42:49.660Z"
   },
   {
    "duration": 12,
    "start_time": "2022-08-05T13:42:49.674Z"
   },
   {
    "duration": 10,
    "start_time": "2022-08-05T13:42:49.688Z"
   },
   {
    "duration": 10,
    "start_time": "2022-08-05T13:42:49.699Z"
   },
   {
    "duration": 9,
    "start_time": "2022-08-05T13:42:49.710Z"
   },
   {
    "duration": 14,
    "start_time": "2022-08-05T13:42:49.720Z"
   },
   {
    "duration": 200,
    "start_time": "2022-08-05T13:42:49.759Z"
   },
   {
    "duration": 198,
    "start_time": "2022-08-05T13:42:49.961Z"
   },
   {
    "duration": 47,
    "start_time": "2022-08-05T13:42:50.160Z"
   },
   {
    "duration": 187,
    "start_time": "2022-08-05T13:42:50.208Z"
   },
   {
    "duration": 40,
    "start_time": "2022-08-05T13:42:50.397Z"
   },
   {
    "duration": 27,
    "start_time": "2022-08-05T13:42:50.438Z"
   },
   {
    "duration": 25,
    "start_time": "2022-08-05T13:42:50.466Z"
   },
   {
    "duration": 1564,
    "start_time": "2022-08-05T13:42:50.493Z"
   },
   {
    "duration": 3,
    "start_time": "2022-08-05T13:42:52.059Z"
   },
   {
    "duration": 75,
    "start_time": "2022-08-05T13:42:52.064Z"
   },
   {
    "duration": 12,
    "start_time": "2022-08-05T13:42:52.141Z"
   },
   {
    "duration": 32,
    "start_time": "2022-08-05T13:42:52.155Z"
   },
   {
    "duration": 39,
    "start_time": "2022-08-05T13:42:52.189Z"
   },
   {
    "duration": 12,
    "start_time": "2022-08-05T13:42:52.230Z"
   },
   {
    "duration": 22,
    "start_time": "2022-08-05T13:42:52.244Z"
   },
   {
    "duration": 22,
    "start_time": "2022-08-05T13:42:52.268Z"
   },
   {
    "duration": 16,
    "start_time": "2022-08-05T13:42:52.292Z"
   },
   {
    "duration": 22,
    "start_time": "2022-08-05T13:42:52.309Z"
   },
   {
    "duration": 19,
    "start_time": "2022-08-05T13:42:52.333Z"
   },
   {
    "duration": 25,
    "start_time": "2022-08-05T13:42:52.353Z"
   },
   {
    "duration": 18,
    "start_time": "2022-08-05T13:42:52.380Z"
   },
   {
    "duration": 18,
    "start_time": "2022-08-05T13:42:52.399Z"
   },
   {
    "duration": 191,
    "start_time": "2022-08-05T13:42:52.419Z"
   },
   {
    "duration": 17,
    "start_time": "2022-08-05T13:42:52.611Z"
   },
   {
    "duration": 29,
    "start_time": "2022-08-05T13:42:52.630Z"
   },
   {
    "duration": 20,
    "start_time": "2022-08-05T13:42:52.661Z"
   },
   {
    "duration": 80,
    "start_time": "2022-08-05T13:42:52.682Z"
   },
   {
    "duration": 28,
    "start_time": "2022-08-05T13:42:52.766Z"
   },
   {
    "duration": 319,
    "start_time": "2022-08-05T13:42:52.795Z"
   },
   {
    "duration": 596,
    "start_time": "2022-08-05T13:42:53.115Z"
   },
   {
    "duration": 44,
    "start_time": "2022-08-05T13:42:53.713Z"
   },
   {
    "duration": 27,
    "start_time": "2022-08-05T13:42:53.759Z"
   },
   {
    "duration": 294,
    "start_time": "2022-08-05T13:42:53.788Z"
   },
   {
    "duration": 536,
    "start_time": "2022-08-05T13:42:54.084Z"
   },
   {
    "duration": 45,
    "start_time": "2022-08-05T13:42:54.622Z"
   },
   {
    "duration": 28,
    "start_time": "2022-08-05T13:42:54.669Z"
   },
   {
    "duration": 311,
    "start_time": "2022-08-05T13:42:54.699Z"
   },
   {
    "duration": 682,
    "start_time": "2022-08-05T13:42:55.012Z"
   },
   {
    "duration": 77,
    "start_time": "2022-08-05T13:42:55.696Z"
   },
   {
    "duration": 83,
    "start_time": "2022-08-05T13:42:55.775Z"
   },
   {
    "duration": 6310,
    "start_time": "2022-08-05T13:42:55.859Z"
   },
   {
    "duration": 24,
    "start_time": "2022-08-05T13:43:02.171Z"
   },
   {
    "duration": 16,
    "start_time": "2022-08-05T13:43:02.196Z"
   },
   {
    "duration": 7,
    "start_time": "2022-08-05T13:43:02.213Z"
   },
   {
    "duration": 17,
    "start_time": "2022-08-05T13:43:02.222Z"
   },
   {
    "duration": 21,
    "start_time": "2022-08-05T13:43:02.241Z"
   },
   {
    "duration": 5651,
    "start_time": "2022-08-05T13:43:02.264Z"
   },
   {
    "duration": 12,
    "start_time": "2022-08-05T13:44:59.214Z"
   },
   {
    "duration": 1164,
    "start_time": "2022-08-05T13:45:24.505Z"
   },
   {
    "duration": 400,
    "start_time": "2022-08-05T13:45:25.672Z"
   },
   {
    "duration": 69,
    "start_time": "2022-08-05T13:45:26.074Z"
   },
   {
    "duration": 39,
    "start_time": "2022-08-05T13:45:26.145Z"
   },
   {
    "duration": 31,
    "start_time": "2022-08-05T13:45:26.187Z"
   },
   {
    "duration": 14,
    "start_time": "2022-08-05T13:45:26.221Z"
   },
   {
    "duration": 27,
    "start_time": "2022-08-05T13:45:26.258Z"
   },
   {
    "duration": 14,
    "start_time": "2022-08-05T13:45:26.287Z"
   },
   {
    "duration": 11,
    "start_time": "2022-08-05T13:45:26.303Z"
   },
   {
    "duration": 17,
    "start_time": "2022-08-05T13:45:26.316Z"
   },
   {
    "duration": 7,
    "start_time": "2022-08-05T13:45:26.358Z"
   },
   {
    "duration": 12,
    "start_time": "2022-08-05T13:45:26.367Z"
   },
   {
    "duration": 17,
    "start_time": "2022-08-05T13:45:26.381Z"
   },
   {
    "duration": 207,
    "start_time": "2022-08-05T13:45:26.401Z"
   },
   {
    "duration": 200,
    "start_time": "2022-08-05T13:45:26.609Z"
   },
   {
    "duration": 58,
    "start_time": "2022-08-05T13:45:26.811Z"
   },
   {
    "duration": 190,
    "start_time": "2022-08-05T13:45:26.870Z"
   },
   {
    "duration": 36,
    "start_time": "2022-08-05T13:45:27.062Z"
   },
   {
    "duration": 11,
    "start_time": "2022-08-05T13:45:27.100Z"
   },
   {
    "duration": 11,
    "start_time": "2022-08-05T13:45:27.113Z"
   },
   {
    "duration": 1578,
    "start_time": "2022-08-05T13:45:27.125Z"
   },
   {
    "duration": 4,
    "start_time": "2022-08-05T13:45:28.705Z"
   },
   {
    "duration": 49,
    "start_time": "2022-08-05T13:45:28.710Z"
   },
   {
    "duration": 13,
    "start_time": "2022-08-05T13:45:28.761Z"
   },
   {
    "duration": 22,
    "start_time": "2022-08-05T13:45:28.776Z"
   },
   {
    "duration": 59,
    "start_time": "2022-08-05T13:45:28.800Z"
   },
   {
    "duration": 11,
    "start_time": "2022-08-05T13:45:28.861Z"
   },
   {
    "duration": 4,
    "start_time": "2022-08-05T13:45:28.873Z"
   },
   {
    "duration": 22,
    "start_time": "2022-08-05T13:45:28.879Z"
   },
   {
    "duration": 11,
    "start_time": "2022-08-05T13:45:28.903Z"
   },
   {
    "duration": 6,
    "start_time": "2022-08-05T13:45:28.915Z"
   },
   {
    "duration": 6,
    "start_time": "2022-08-05T13:45:28.923Z"
   },
   {
    "duration": 7,
    "start_time": "2022-08-05T13:45:28.931Z"
   },
   {
    "duration": 18,
    "start_time": "2022-08-05T13:45:28.939Z"
   },
   {
    "duration": 13,
    "start_time": "2022-08-05T13:45:28.958Z"
   },
   {
    "duration": 203,
    "start_time": "2022-08-05T13:45:28.973Z"
   },
   {
    "duration": 16,
    "start_time": "2022-08-05T13:45:29.178Z"
   },
   {
    "duration": 14,
    "start_time": "2022-08-05T13:45:29.195Z"
   },
   {
    "duration": 11,
    "start_time": "2022-08-05T13:45:29.210Z"
   },
   {
    "duration": 87,
    "start_time": "2022-08-05T13:45:29.222Z"
   },
   {
    "duration": 28,
    "start_time": "2022-08-05T13:45:29.313Z"
   },
   {
    "duration": 317,
    "start_time": "2022-08-05T13:45:29.342Z"
   },
   {
    "duration": 735,
    "start_time": "2022-08-05T13:45:29.661Z"
   },
   {
    "duration": 90,
    "start_time": "2022-08-05T13:45:30.398Z"
   },
   {
    "duration": 76,
    "start_time": "2022-08-05T13:45:30.490Z"
   },
   {
    "duration": 615,
    "start_time": "2022-08-05T13:45:30.568Z"
   },
   {
    "duration": 943,
    "start_time": "2022-08-05T13:45:31.185Z"
   },
   {
    "duration": 42,
    "start_time": "2022-08-05T13:45:32.130Z"
   },
   {
    "duration": 29,
    "start_time": "2022-08-05T13:45:32.174Z"
   },
   {
    "duration": 340,
    "start_time": "2022-08-05T13:45:32.205Z"
   },
   {
    "duration": 599,
    "start_time": "2022-08-05T13:45:32.547Z"
   },
   {
    "duration": 57,
    "start_time": "2022-08-05T13:45:33.148Z"
   },
   {
    "duration": 53,
    "start_time": "2022-08-05T13:45:33.206Z"
   },
   {
    "duration": 5487,
    "start_time": "2022-08-05T13:45:33.260Z"
   },
   {
    "duration": 28,
    "start_time": "2022-08-05T13:45:38.749Z"
   },
   {
    "duration": 7,
    "start_time": "2022-08-05T13:45:38.780Z"
   },
   {
    "duration": 5,
    "start_time": "2022-08-05T13:45:38.789Z"
   },
   {
    "duration": 11,
    "start_time": "2022-08-05T13:45:38.795Z"
   },
   {
    "duration": 6,
    "start_time": "2022-08-05T13:45:38.808Z"
   },
   {
    "duration": 5821,
    "start_time": "2022-08-05T13:45:38.815Z"
   },
   {
    "duration": 213,
    "start_time": "2022-08-05T14:01:29.698Z"
   },
   {
    "duration": 222,
    "start_time": "2022-08-05T14:02:40.018Z"
   },
   {
    "duration": 1222,
    "start_time": "2022-08-06T17:18:54.858Z"
   },
   {
    "duration": 923,
    "start_time": "2022-08-06T17:18:56.082Z"
   },
   {
    "duration": 68,
    "start_time": "2022-08-06T17:18:57.007Z"
   },
   {
    "duration": 31,
    "start_time": "2022-08-06T17:18:57.395Z"
   },
   {
    "duration": 28,
    "start_time": "2022-08-06T17:18:57.578Z"
   },
   {
    "duration": 13,
    "start_time": "2022-08-06T17:18:57.752Z"
   },
   {
    "duration": 27,
    "start_time": "2022-08-06T17:18:57.930Z"
   },
   {
    "duration": 14,
    "start_time": "2022-08-06T17:18:58.113Z"
   },
   {
    "duration": 9,
    "start_time": "2022-08-06T17:18:58.639Z"
   },
   {
    "duration": 10,
    "start_time": "2022-08-06T17:18:58.816Z"
   },
   {
    "duration": 9,
    "start_time": "2022-08-06T17:18:58.986Z"
   },
   {
    "duration": 7,
    "start_time": "2022-08-06T17:18:59.163Z"
   },
   {
    "duration": 10,
    "start_time": "2022-08-06T17:18:59.357Z"
   },
   {
    "duration": 210,
    "start_time": "2022-08-06T17:19:00.686Z"
   },
   {
    "duration": 196,
    "start_time": "2022-08-06T17:19:09.338Z"
   },
   {
    "duration": 53,
    "start_time": "2022-08-06T17:19:12.978Z"
   },
   {
    "duration": 165,
    "start_time": "2022-08-06T17:19:18.553Z"
   },
   {
    "duration": 39,
    "start_time": "2022-08-06T17:20:00.151Z"
   },
   {
    "duration": 9,
    "start_time": "2022-08-06T17:20:01.922Z"
   },
   {
    "duration": 4,
    "start_time": "2022-08-06T17:20:06.504Z"
   },
   {
    "duration": 1571,
    "start_time": "2022-08-06T17:20:06.856Z"
   },
   {
    "duration": 3,
    "start_time": "2022-08-06T17:20:11.089Z"
   },
   {
    "duration": 40,
    "start_time": "2022-08-06T17:20:12.290Z"
   },
   {
    "duration": 14,
    "start_time": "2022-08-06T17:20:25.265Z"
   },
   {
    "duration": 25,
    "start_time": "2022-08-06T17:21:45.672Z"
   },
   {
    "duration": 39,
    "start_time": "2022-08-06T17:22:00.175Z"
   },
   {
    "duration": 13,
    "start_time": "2022-08-06T17:22:01.539Z"
   },
   {
    "duration": 19,
    "start_time": "2022-08-06T17:22:11.591Z"
   },
   {
    "duration": 1208,
    "start_time": "2022-08-07T13:41:40.940Z"
   },
   {
    "duration": 1121,
    "start_time": "2022-08-07T13:41:42.150Z"
   },
   {
    "duration": 65,
    "start_time": "2022-08-07T13:41:43.273Z"
   },
   {
    "duration": 43,
    "start_time": "2022-08-07T13:41:43.340Z"
   },
   {
    "duration": 31,
    "start_time": "2022-08-07T13:41:43.384Z"
   },
   {
    "duration": 15,
    "start_time": "2022-08-07T13:41:43.416Z"
   },
   {
    "duration": 57,
    "start_time": "2022-08-07T13:41:43.433Z"
   },
   {
    "duration": 15,
    "start_time": "2022-08-07T13:41:43.491Z"
   },
   {
    "duration": 12,
    "start_time": "2022-08-07T13:41:43.508Z"
   },
   {
    "duration": 15,
    "start_time": "2022-08-07T13:41:43.523Z"
   },
   {
    "duration": 9,
    "start_time": "2022-08-07T13:41:43.540Z"
   },
   {
    "duration": 9,
    "start_time": "2022-08-07T13:41:43.568Z"
   },
   {
    "duration": 13,
    "start_time": "2022-08-07T13:41:43.578Z"
   },
   {
    "duration": 231,
    "start_time": "2022-08-07T13:41:43.592Z"
   },
   {
    "duration": 207,
    "start_time": "2022-08-07T13:41:43.825Z"
   },
   {
    "duration": 56,
    "start_time": "2022-08-07T13:41:44.033Z"
   },
   {
    "duration": 189,
    "start_time": "2022-08-07T13:41:44.091Z"
   },
   {
    "duration": 40,
    "start_time": "2022-08-07T13:41:44.282Z"
   },
   {
    "duration": 10,
    "start_time": "2022-08-07T13:41:44.324Z"
   },
   {
    "duration": 5,
    "start_time": "2022-08-07T13:41:44.336Z"
   },
   {
    "duration": 1665,
    "start_time": "2022-08-07T13:41:44.342Z"
   },
   {
    "duration": 3,
    "start_time": "2022-08-07T13:41:46.009Z"
   },
   {
    "duration": 54,
    "start_time": "2022-08-07T13:41:46.014Z"
   },
   {
    "duration": 14,
    "start_time": "2022-08-07T13:41:46.070Z"
   },
   {
    "duration": 22,
    "start_time": "2022-08-07T13:41:46.085Z"
   },
   {
    "duration": 58,
    "start_time": "2022-08-07T13:41:46.109Z"
   },
   {
    "duration": 13,
    "start_time": "2022-08-07T13:41:46.169Z"
   },
   {
    "duration": 19,
    "start_time": "2022-08-07T13:41:46.185Z"
   },
   {
    "duration": 12,
    "start_time": "2022-08-07T13:41:46.206Z"
   },
   {
    "duration": 11,
    "start_time": "2022-08-07T13:41:46.220Z"
   },
   {
    "duration": 8,
    "start_time": "2022-08-07T13:41:46.233Z"
   },
   {
    "duration": 27,
    "start_time": "2022-08-07T13:41:46.242Z"
   },
   {
    "duration": 2,
    "start_time": "2022-08-07T13:41:46.271Z"
   },
   {
    "duration": 10,
    "start_time": "2022-08-07T13:41:46.274Z"
   },
   {
    "duration": 6,
    "start_time": "2022-08-07T13:41:46.286Z"
   },
   {
    "duration": 13,
    "start_time": "2022-08-07T13:41:46.294Z"
   },
   {
    "duration": 259,
    "start_time": "2022-08-07T13:41:46.309Z"
   },
   {
    "duration": 21,
    "start_time": "2022-08-07T13:41:46.569Z"
   },
   {
    "duration": 24,
    "start_time": "2022-08-07T13:41:46.592Z"
   },
   {
    "duration": 16,
    "start_time": "2022-08-07T13:41:46.618Z"
   },
   {
    "duration": 112,
    "start_time": "2022-08-07T13:41:46.637Z"
   },
   {
    "duration": 45,
    "start_time": "2022-08-07T13:41:46.750Z"
   },
   {
    "duration": 343,
    "start_time": "2022-08-07T13:41:46.797Z"
   },
   {
    "duration": 681,
    "start_time": "2022-08-07T13:41:47.141Z"
   },
   {
    "duration": 48,
    "start_time": "2022-08-07T13:41:47.824Z"
   },
   {
    "duration": 30,
    "start_time": "2022-08-07T13:41:47.875Z"
   },
   {
    "duration": 331,
    "start_time": "2022-08-07T13:41:47.907Z"
   },
   {
    "duration": 589,
    "start_time": "2022-08-07T13:41:48.240Z"
   },
   {
    "duration": 54,
    "start_time": "2022-08-07T13:41:48.831Z"
   },
   {
    "duration": 32,
    "start_time": "2022-08-07T13:41:48.887Z"
   },
   {
    "duration": 326,
    "start_time": "2022-08-07T13:41:48.921Z"
   },
   {
    "duration": 722,
    "start_time": "2022-08-07T13:41:49.249Z"
   },
   {
    "duration": 72,
    "start_time": "2022-08-07T13:41:49.973Z"
   },
   {
    "duration": 69,
    "start_time": "2022-08-07T13:41:50.047Z"
   },
   {
    "duration": 5789,
    "start_time": "2022-08-07T13:41:50.118Z"
   },
   {
    "duration": 25,
    "start_time": "2022-08-07T13:41:55.909Z"
   },
   {
    "duration": 5,
    "start_time": "2022-08-07T13:41:55.935Z"
   },
   {
    "duration": 27,
    "start_time": "2022-08-07T13:41:55.942Z"
   },
   {
    "duration": 12,
    "start_time": "2022-08-07T13:41:55.971Z"
   },
   {
    "duration": 7,
    "start_time": "2022-08-07T13:41:55.985Z"
   },
   {
    "duration": 5969,
    "start_time": "2022-08-07T13:41:55.993Z"
   },
   {
    "duration": 255,
    "start_time": "2022-08-07T13:42:01.968Z"
   }
  ],
  "kernelspec": {
   "display_name": "Python 3 (ipykernel)",
   "language": "python",
   "name": "python3"
  },
  "language_info": {
   "codemirror_mode": {
    "name": "ipython",
    "version": 3
   },
   "file_extension": ".py",
   "mimetype": "text/x-python",
   "name": "python",
   "nbconvert_exporter": "python",
   "pygments_lexer": "ipython3",
   "version": "3.9.5"
  },
  "toc": {
   "base_numbering": 1,
   "nav_menu": {},
   "number_sections": false,
   "sideBar": true,
   "skip_h1_title": true,
   "title_cell": "Содержание ",
   "title_sidebar": "Содержание",
   "toc_cell": true,
   "toc_position": {
    "height": "calc(100% - 180px)",
    "left": "10px",
    "top": "150px",
    "width": "225.773px"
   },
   "toc_section_display": true,
   "toc_window_display": true
  }
 },
 "nbformat": 4,
 "nbformat_minor": 2
}
