{
 "cells": [
  {
   "cell_type": "markdown",
   "metadata": {},
   "source": [
    "# Исследование надёжности заёмщиков\n",
    "\n",
    "Заказчик — кредитный отдел банка. Нужно разобраться, влияет ли семейное положение и количество детей клиента на факт погашения кредита в срок. Входные данные от банка — статистика о платёжеспособности клиентов.\n",
    "\n",
    "Результаты исследования будут учтены при построении модели **кредитного скоринга** — специальной системы, которая оценивает способность потенциального заёмщика вернуть кредит банку.\n",
    "# Описание данных\n",
    "* children — количество детей в семье\n",
    "* days_employed — общий трудовой стаж в днях\n",
    "* dob_years — возраст клиента в годах\n",
    "* education — уровень образования клиента\n",
    "* education_id — идентификатор уровня образования\n",
    "* family_status — семейное положение\n",
    "* family_status_id — идентификатор семейного положения\n",
    "* gender — пол клиента\n",
    "* income_type — тип занятости\n",
    "* debt — имел ли задолженность по возврату кредитов\n",
    "* total_income — ежемесячный доход\n",
    "* purpose — цель получения кредита"
   ]
  },
  {
   "cell_type": "markdown",
   "metadata": {},
   "source": [
    "## Шаг 1. Откроем файл с данными и изучим общую информацию"
   ]
  },
  {
   "cell_type": "code",
   "execution_count": 1,
   "metadata": {
    "scrolled": true
   },
   "outputs": [],
   "source": [
    "# Импортируем нужные библиотеки.\n",
    "import pandas as pd \n",
    "from pymystem3 import Mystem\n",
    "from nltk.stem import SnowballStemmer\n",
    "from collections import Counter"
   ]
  },
  {
   "cell_type": "code",
   "execution_count": 2,
   "metadata": {},
   "outputs": [],
   "source": [
    "path_to_db = '/users/danielnodelman/yandex_ds/yandex_projects/credit_score_project/'\n",
    "# Прочитываем и сохраняем исходный датафрейм в переменной df.\n",
    "df = pd.read_csv(path_to_db+'data.csv')"
   ]
  },
  {
   "cell_type": "code",
   "execution_count": 3,
   "metadata": {},
   "outputs": [
    {
     "name": "stdout",
     "output_type": "stream",
     "text": [
      "<class 'pandas.core.frame.DataFrame'>\n",
      "RangeIndex: 21525 entries, 0 to 21524\n",
      "Data columns (total 12 columns):\n",
      " #   Column            Non-Null Count  Dtype  \n",
      "---  ------            --------------  -----  \n",
      " 0   children          21525 non-null  int64  \n",
      " 1   days_employed     19351 non-null  float64\n",
      " 2   dob_years         21525 non-null  int64  \n",
      " 3   education         21525 non-null  object \n",
      " 4   education_id      21525 non-null  int64  \n",
      " 5   family_status     21525 non-null  object \n",
      " 6   family_status_id  21525 non-null  int64  \n",
      " 7   gender            21525 non-null  object \n",
      " 8   income_type       21525 non-null  object \n",
      " 9   debt              21525 non-null  int64  \n",
      " 10  total_income      19351 non-null  float64\n",
      " 11  purpose           21525 non-null  object \n",
      "dtypes: float64(2), int64(5), object(5)\n",
      "memory usage: 2.0+ MB\n"
     ]
    }
   ],
   "source": [
    "# Выводим общую информацию о датафрейме. \n",
    "df.info()"
   ]
  },
  {
   "cell_type": "markdown",
   "metadata": {},
   "source": [
    "Из информации узнаем о представленных типах данных и их объеме.\n",
    "Данные в столбцах 'total_income'и 'days_employed' нужно перевести в целочисленные. \n",
    "Отсутсвующие значения сразу заметны только в 'total_income' и 'days_employed'.\n",
    "Название одного из столбцов я переименую для удобства понимания значений внутри него:\n",
    "* 'total_income' **переименуем** в 'income_total' "
   ]
  },
  {
   "cell_type": "code",
   "execution_count": 4,
   "metadata": {},
   "outputs": [],
   "source": [
    "# Смена имени столбца 'total_income' на'income_total'\n",
    "df = df.rename(columns={'total_income':'income_total'}) "
   ]
  },
  {
   "cell_type": "markdown",
   "metadata": {},
   "source": [
    "Теперь можно вывести **первые строки**, чтобы рассмотреть данные внутри датафрейма нагляднее:"
   ]
  },
  {
   "cell_type": "code",
   "execution_count": 5,
   "metadata": {},
   "outputs": [
    {
     "data": {
      "text/html": [
       "<div>\n",
       "<style scoped>\n",
       "    .dataframe tbody tr th:only-of-type {\n",
       "        vertical-align: middle;\n",
       "    }\n",
       "\n",
       "    .dataframe tbody tr th {\n",
       "        vertical-align: top;\n",
       "    }\n",
       "\n",
       "    .dataframe thead th {\n",
       "        text-align: right;\n",
       "    }\n",
       "</style>\n",
       "<table border=\"1\" class=\"dataframe\">\n",
       "  <thead>\n",
       "    <tr style=\"text-align: right;\">\n",
       "      <th></th>\n",
       "      <th>children</th>\n",
       "      <th>days_employed</th>\n",
       "      <th>dob_years</th>\n",
       "      <th>education</th>\n",
       "      <th>education_id</th>\n",
       "      <th>family_status</th>\n",
       "      <th>family_status_id</th>\n",
       "      <th>gender</th>\n",
       "      <th>income_type</th>\n",
       "      <th>debt</th>\n",
       "      <th>income_total</th>\n",
       "      <th>purpose</th>\n",
       "    </tr>\n",
       "  </thead>\n",
       "  <tbody>\n",
       "    <tr>\n",
       "      <th>0</th>\n",
       "      <td>1</td>\n",
       "      <td>-8437.673028</td>\n",
       "      <td>42</td>\n",
       "      <td>высшее</td>\n",
       "      <td>0</td>\n",
       "      <td>женат / замужем</td>\n",
       "      <td>0</td>\n",
       "      <td>F</td>\n",
       "      <td>сотрудник</td>\n",
       "      <td>0</td>\n",
       "      <td>253875.639453</td>\n",
       "      <td>покупка жилья</td>\n",
       "    </tr>\n",
       "    <tr>\n",
       "      <th>1</th>\n",
       "      <td>1</td>\n",
       "      <td>-4024.803754</td>\n",
       "      <td>36</td>\n",
       "      <td>среднее</td>\n",
       "      <td>1</td>\n",
       "      <td>женат / замужем</td>\n",
       "      <td>0</td>\n",
       "      <td>F</td>\n",
       "      <td>сотрудник</td>\n",
       "      <td>0</td>\n",
       "      <td>112080.014102</td>\n",
       "      <td>приобретение автомобиля</td>\n",
       "    </tr>\n",
       "    <tr>\n",
       "      <th>2</th>\n",
       "      <td>0</td>\n",
       "      <td>-5623.422610</td>\n",
       "      <td>33</td>\n",
       "      <td>Среднее</td>\n",
       "      <td>1</td>\n",
       "      <td>женат / замужем</td>\n",
       "      <td>0</td>\n",
       "      <td>M</td>\n",
       "      <td>сотрудник</td>\n",
       "      <td>0</td>\n",
       "      <td>145885.952297</td>\n",
       "      <td>покупка жилья</td>\n",
       "    </tr>\n",
       "    <tr>\n",
       "      <th>3</th>\n",
       "      <td>3</td>\n",
       "      <td>-4124.747207</td>\n",
       "      <td>32</td>\n",
       "      <td>среднее</td>\n",
       "      <td>1</td>\n",
       "      <td>женат / замужем</td>\n",
       "      <td>0</td>\n",
       "      <td>M</td>\n",
       "      <td>сотрудник</td>\n",
       "      <td>0</td>\n",
       "      <td>267628.550329</td>\n",
       "      <td>дополнительное образование</td>\n",
       "    </tr>\n",
       "    <tr>\n",
       "      <th>4</th>\n",
       "      <td>0</td>\n",
       "      <td>340266.072047</td>\n",
       "      <td>53</td>\n",
       "      <td>среднее</td>\n",
       "      <td>1</td>\n",
       "      <td>гражданский брак</td>\n",
       "      <td>1</td>\n",
       "      <td>F</td>\n",
       "      <td>пенсионер</td>\n",
       "      <td>0</td>\n",
       "      <td>158616.077870</td>\n",
       "      <td>сыграть свадьбу</td>\n",
       "    </tr>\n",
       "    <tr>\n",
       "      <th>5</th>\n",
       "      <td>0</td>\n",
       "      <td>-926.185831</td>\n",
       "      <td>27</td>\n",
       "      <td>высшее</td>\n",
       "      <td>0</td>\n",
       "      <td>гражданский брак</td>\n",
       "      <td>1</td>\n",
       "      <td>M</td>\n",
       "      <td>компаньон</td>\n",
       "      <td>0</td>\n",
       "      <td>255763.565419</td>\n",
       "      <td>покупка жилья</td>\n",
       "    </tr>\n",
       "    <tr>\n",
       "      <th>6</th>\n",
       "      <td>0</td>\n",
       "      <td>-2879.202052</td>\n",
       "      <td>43</td>\n",
       "      <td>высшее</td>\n",
       "      <td>0</td>\n",
       "      <td>женат / замужем</td>\n",
       "      <td>0</td>\n",
       "      <td>F</td>\n",
       "      <td>компаньон</td>\n",
       "      <td>0</td>\n",
       "      <td>240525.971920</td>\n",
       "      <td>операции с жильем</td>\n",
       "    </tr>\n",
       "    <tr>\n",
       "      <th>7</th>\n",
       "      <td>0</td>\n",
       "      <td>-152.779569</td>\n",
       "      <td>50</td>\n",
       "      <td>СРЕДНЕЕ</td>\n",
       "      <td>1</td>\n",
       "      <td>женат / замужем</td>\n",
       "      <td>0</td>\n",
       "      <td>M</td>\n",
       "      <td>сотрудник</td>\n",
       "      <td>0</td>\n",
       "      <td>135823.934197</td>\n",
       "      <td>образование</td>\n",
       "    </tr>\n",
       "    <tr>\n",
       "      <th>8</th>\n",
       "      <td>2</td>\n",
       "      <td>-6929.865299</td>\n",
       "      <td>35</td>\n",
       "      <td>ВЫСШЕЕ</td>\n",
       "      <td>0</td>\n",
       "      <td>гражданский брак</td>\n",
       "      <td>1</td>\n",
       "      <td>F</td>\n",
       "      <td>сотрудник</td>\n",
       "      <td>0</td>\n",
       "      <td>95856.832424</td>\n",
       "      <td>на проведение свадьбы</td>\n",
       "    </tr>\n",
       "    <tr>\n",
       "      <th>9</th>\n",
       "      <td>0</td>\n",
       "      <td>-2188.756445</td>\n",
       "      <td>41</td>\n",
       "      <td>среднее</td>\n",
       "      <td>1</td>\n",
       "      <td>женат / замужем</td>\n",
       "      <td>0</td>\n",
       "      <td>M</td>\n",
       "      <td>сотрудник</td>\n",
       "      <td>0</td>\n",
       "      <td>144425.938277</td>\n",
       "      <td>покупка жилья для семьи</td>\n",
       "    </tr>\n",
       "    <tr>\n",
       "      <th>10</th>\n",
       "      <td>2</td>\n",
       "      <td>-4171.483647</td>\n",
       "      <td>36</td>\n",
       "      <td>высшее</td>\n",
       "      <td>0</td>\n",
       "      <td>женат / замужем</td>\n",
       "      <td>0</td>\n",
       "      <td>M</td>\n",
       "      <td>компаньон</td>\n",
       "      <td>0</td>\n",
       "      <td>113943.491460</td>\n",
       "      <td>покупка недвижимости</td>\n",
       "    </tr>\n",
       "    <tr>\n",
       "      <th>11</th>\n",
       "      <td>0</td>\n",
       "      <td>-792.701887</td>\n",
       "      <td>40</td>\n",
       "      <td>среднее</td>\n",
       "      <td>1</td>\n",
       "      <td>женат / замужем</td>\n",
       "      <td>0</td>\n",
       "      <td>F</td>\n",
       "      <td>сотрудник</td>\n",
       "      <td>0</td>\n",
       "      <td>77069.234271</td>\n",
       "      <td>покупка коммерческой недвижимости</td>\n",
       "    </tr>\n",
       "    <tr>\n",
       "      <th>12</th>\n",
       "      <td>0</td>\n",
       "      <td>NaN</td>\n",
       "      <td>65</td>\n",
       "      <td>среднее</td>\n",
       "      <td>1</td>\n",
       "      <td>гражданский брак</td>\n",
       "      <td>1</td>\n",
       "      <td>M</td>\n",
       "      <td>пенсионер</td>\n",
       "      <td>0</td>\n",
       "      <td>NaN</td>\n",
       "      <td>сыграть свадьбу</td>\n",
       "    </tr>\n",
       "    <tr>\n",
       "      <th>13</th>\n",
       "      <td>0</td>\n",
       "      <td>-1846.641941</td>\n",
       "      <td>54</td>\n",
       "      <td>неоконченное высшее</td>\n",
       "      <td>2</td>\n",
       "      <td>женат / замужем</td>\n",
       "      <td>0</td>\n",
       "      <td>F</td>\n",
       "      <td>сотрудник</td>\n",
       "      <td>0</td>\n",
       "      <td>130458.228857</td>\n",
       "      <td>приобретение автомобиля</td>\n",
       "    </tr>\n",
       "    <tr>\n",
       "      <th>14</th>\n",
       "      <td>0</td>\n",
       "      <td>-1844.956182</td>\n",
       "      <td>56</td>\n",
       "      <td>высшее</td>\n",
       "      <td>0</td>\n",
       "      <td>гражданский брак</td>\n",
       "      <td>1</td>\n",
       "      <td>F</td>\n",
       "      <td>компаньон</td>\n",
       "      <td>1</td>\n",
       "      <td>165127.911772</td>\n",
       "      <td>покупка жилой недвижимости</td>\n",
       "    </tr>\n",
       "  </tbody>\n",
       "</table>\n",
       "</div>"
      ],
      "text/plain": [
       "    children  days_employed  dob_years            education  education_id  \\\n",
       "0          1   -8437.673028         42               высшее             0   \n",
       "1          1   -4024.803754         36              среднее             1   \n",
       "2          0   -5623.422610         33              Среднее             1   \n",
       "3          3   -4124.747207         32              среднее             1   \n",
       "4          0  340266.072047         53              среднее             1   \n",
       "5          0    -926.185831         27               высшее             0   \n",
       "6          0   -2879.202052         43               высшее             0   \n",
       "7          0    -152.779569         50              СРЕДНЕЕ             1   \n",
       "8          2   -6929.865299         35               ВЫСШЕЕ             0   \n",
       "9          0   -2188.756445         41              среднее             1   \n",
       "10         2   -4171.483647         36               высшее             0   \n",
       "11         0    -792.701887         40              среднее             1   \n",
       "12         0            NaN         65              среднее             1   \n",
       "13         0   -1846.641941         54  неоконченное высшее             2   \n",
       "14         0   -1844.956182         56               высшее             0   \n",
       "\n",
       "       family_status  family_status_id gender income_type  debt  \\\n",
       "0    женат / замужем                 0      F   сотрудник     0   \n",
       "1    женат / замужем                 0      F   сотрудник     0   \n",
       "2    женат / замужем                 0      M   сотрудник     0   \n",
       "3    женат / замужем                 0      M   сотрудник     0   \n",
       "4   гражданский брак                 1      F   пенсионер     0   \n",
       "5   гражданский брак                 1      M   компаньон     0   \n",
       "6    женат / замужем                 0      F   компаньон     0   \n",
       "7    женат / замужем                 0      M   сотрудник     0   \n",
       "8   гражданский брак                 1      F   сотрудник     0   \n",
       "9    женат / замужем                 0      M   сотрудник     0   \n",
       "10   женат / замужем                 0      M   компаньон     0   \n",
       "11   женат / замужем                 0      F   сотрудник     0   \n",
       "12  гражданский брак                 1      M   пенсионер     0   \n",
       "13   женат / замужем                 0      F   сотрудник     0   \n",
       "14  гражданский брак                 1      F   компаньон     1   \n",
       "\n",
       "     income_total                            purpose  \n",
       "0   253875.639453                      покупка жилья  \n",
       "1   112080.014102            приобретение автомобиля  \n",
       "2   145885.952297                      покупка жилья  \n",
       "3   267628.550329         дополнительное образование  \n",
       "4   158616.077870                    сыграть свадьбу  \n",
       "5   255763.565419                      покупка жилья  \n",
       "6   240525.971920                  операции с жильем  \n",
       "7   135823.934197                        образование  \n",
       "8    95856.832424              на проведение свадьбы  \n",
       "9   144425.938277            покупка жилья для семьи  \n",
       "10  113943.491460               покупка недвижимости  \n",
       "11   77069.234271  покупка коммерческой недвижимости  \n",
       "12            NaN                    сыграть свадьбу  \n",
       "13  130458.228857            приобретение автомобиля  \n",
       "14  165127.911772         покупка жилой недвижимости  "
      ]
     },
     "execution_count": 5,
     "metadata": {},
     "output_type": "execute_result"
    }
   ],
   "source": [
    "# Вывод первых 15 строк таблицы.\n",
    "df.head(15) "
   ]
  },
  {
   "cell_type": "markdown",
   "metadata": {},
   "source": [
    "**Наблюдения**\n",
    "* Сразу бросаются в глаза **отрицательные значения** и в столбце 'days_employed'. Если рассмотреть подробно, можно заметить пропуск: 'NaN'\n",
    "* **Оформление** в столбце 'education' **некорректное**: нужно будет привести к общему виду неоднотипные значения.\n",
    "* Цели 'purpose' похожи между собой: нужно **лемматизировать** и создать **новый столбец с категориями**. \n",
    "* Пропущено значение в столбце 'income_total'. Нужно будет разобраться с пропусками.\n",
    "* Для ответа на поставленные в исследовании вопросы данные в столбце 'days_employed' не потребуются, **предпологаю**, что от него можно избавиться, но для начала, нужно узнать связан ли он со столбцом 'income_total'."
   ]
  },
  {
   "cell_type": "markdown",
   "metadata": {},
   "source": [
    "Получим **общую информацию о значениях** внутри таблицы:"
   ]
  },
  {
   "cell_type": "code",
   "execution_count": 6,
   "metadata": {},
   "outputs": [
    {
     "data": {
      "text/html": [
       "<div>\n",
       "<style scoped>\n",
       "    .dataframe tbody tr th:only-of-type {\n",
       "        vertical-align: middle;\n",
       "    }\n",
       "\n",
       "    .dataframe tbody tr th {\n",
       "        vertical-align: top;\n",
       "    }\n",
       "\n",
       "    .dataframe thead th {\n",
       "        text-align: right;\n",
       "    }\n",
       "</style>\n",
       "<table border=\"1\" class=\"dataframe\">\n",
       "  <thead>\n",
       "    <tr style=\"text-align: right;\">\n",
       "      <th></th>\n",
       "      <th>children</th>\n",
       "      <th>days_employed</th>\n",
       "      <th>dob_years</th>\n",
       "      <th>education_id</th>\n",
       "      <th>family_status_id</th>\n",
       "      <th>debt</th>\n",
       "      <th>income_total</th>\n",
       "    </tr>\n",
       "  </thead>\n",
       "  <tbody>\n",
       "    <tr>\n",
       "      <th>count</th>\n",
       "      <td>21525.000000</td>\n",
       "      <td>19351.000000</td>\n",
       "      <td>21525.000000</td>\n",
       "      <td>21525.000000</td>\n",
       "      <td>21525.000000</td>\n",
       "      <td>21525.000000</td>\n",
       "      <td>1.935100e+04</td>\n",
       "    </tr>\n",
       "    <tr>\n",
       "      <th>mean</th>\n",
       "      <td>0.538908</td>\n",
       "      <td>63046.497661</td>\n",
       "      <td>43.293380</td>\n",
       "      <td>0.817236</td>\n",
       "      <td>0.972544</td>\n",
       "      <td>0.080883</td>\n",
       "      <td>1.674223e+05</td>\n",
       "    </tr>\n",
       "    <tr>\n",
       "      <th>std</th>\n",
       "      <td>1.381587</td>\n",
       "      <td>140827.311974</td>\n",
       "      <td>12.574584</td>\n",
       "      <td>0.548138</td>\n",
       "      <td>1.420324</td>\n",
       "      <td>0.272661</td>\n",
       "      <td>1.029716e+05</td>\n",
       "    </tr>\n",
       "    <tr>\n",
       "      <th>min</th>\n",
       "      <td>-1.000000</td>\n",
       "      <td>-18388.949901</td>\n",
       "      <td>0.000000</td>\n",
       "      <td>0.000000</td>\n",
       "      <td>0.000000</td>\n",
       "      <td>0.000000</td>\n",
       "      <td>2.066726e+04</td>\n",
       "    </tr>\n",
       "    <tr>\n",
       "      <th>25%</th>\n",
       "      <td>0.000000</td>\n",
       "      <td>-2747.423625</td>\n",
       "      <td>33.000000</td>\n",
       "      <td>1.000000</td>\n",
       "      <td>0.000000</td>\n",
       "      <td>0.000000</td>\n",
       "      <td>1.030532e+05</td>\n",
       "    </tr>\n",
       "    <tr>\n",
       "      <th>50%</th>\n",
       "      <td>0.000000</td>\n",
       "      <td>-1203.369529</td>\n",
       "      <td>42.000000</td>\n",
       "      <td>1.000000</td>\n",
       "      <td>0.000000</td>\n",
       "      <td>0.000000</td>\n",
       "      <td>1.450179e+05</td>\n",
       "    </tr>\n",
       "    <tr>\n",
       "      <th>75%</th>\n",
       "      <td>1.000000</td>\n",
       "      <td>-291.095954</td>\n",
       "      <td>53.000000</td>\n",
       "      <td>1.000000</td>\n",
       "      <td>1.000000</td>\n",
       "      <td>0.000000</td>\n",
       "      <td>2.034351e+05</td>\n",
       "    </tr>\n",
       "    <tr>\n",
       "      <th>max</th>\n",
       "      <td>20.000000</td>\n",
       "      <td>401755.400475</td>\n",
       "      <td>75.000000</td>\n",
       "      <td>4.000000</td>\n",
       "      <td>4.000000</td>\n",
       "      <td>1.000000</td>\n",
       "      <td>2.265604e+06</td>\n",
       "    </tr>\n",
       "  </tbody>\n",
       "</table>\n",
       "</div>"
      ],
      "text/plain": [
       "           children  days_employed     dob_years  education_id  \\\n",
       "count  21525.000000   19351.000000  21525.000000  21525.000000   \n",
       "mean       0.538908   63046.497661     43.293380      0.817236   \n",
       "std        1.381587  140827.311974     12.574584      0.548138   \n",
       "min       -1.000000  -18388.949901      0.000000      0.000000   \n",
       "25%        0.000000   -2747.423625     33.000000      1.000000   \n",
       "50%        0.000000   -1203.369529     42.000000      1.000000   \n",
       "75%        1.000000    -291.095954     53.000000      1.000000   \n",
       "max       20.000000  401755.400475     75.000000      4.000000   \n",
       "\n",
       "       family_status_id          debt  income_total  \n",
       "count      21525.000000  21525.000000  1.935100e+04  \n",
       "mean           0.972544      0.080883  1.674223e+05  \n",
       "std            1.420324      0.272661  1.029716e+05  \n",
       "min            0.000000      0.000000  2.066726e+04  \n",
       "25%            0.000000      0.000000  1.030532e+05  \n",
       "50%            0.000000      0.000000  1.450179e+05  \n",
       "75%            1.000000      0.000000  2.034351e+05  \n",
       "max            4.000000      1.000000  2.265604e+06  "
      ]
     },
     "execution_count": 6,
     "metadata": {},
     "output_type": "execute_result"
    }
   ],
   "source": [
    "# Вывод описания значений\n",
    "df.describe() "
   ]
  },
  {
   "cell_type": "markdown",
   "metadata": {},
   "source": [
    "**Наблюдения**\n",
    "* Макимальное значениие внутри столбца 'children' - это  число '20'. Это может быть ошибкой, но кроме этого, минимальное значение это число  '-1'. Это может быть отсутвующая информация. \n",
    "* Нужно взять значения 'days_employed' по модулю, чтобы с ними можно было работать. Отметим среднее значение (63046 дней), которое не вписывается в общую картину данных. \n",
    "* В 'dob_years' минимальное значение 0. Это могут быть неуказанные данные"
   ]
  },
  {
   "cell_type": "markdown",
   "metadata": {},
   "source": [
    "Проверим, **существует ли связь** между пропусками в столбце 'days_employed' и в столбце 'income_total':\n",
    "Для этого создадим для наших данных логическое условие, по которому сделаем вывод о **взаимосвязи нулевых строк** внутри столбцов."
   ]
  },
  {
   "cell_type": "code",
   "execution_count": 7,
   "metadata": {},
   "outputs": [
    {
     "name": "stdout",
     "output_type": "stream",
     "text": [
      "<class 'pandas.core.frame.DataFrame'>\n",
      "Int64Index: 2174 entries, 12 to 21510\n",
      "Data columns (total 12 columns):\n",
      " #   Column            Non-Null Count  Dtype  \n",
      "---  ------            --------------  -----  \n",
      " 0   children          2174 non-null   int64  \n",
      " 1   days_employed     0 non-null      float64\n",
      " 2   dob_years         2174 non-null   int64  \n",
      " 3   education         2174 non-null   object \n",
      " 4   education_id      2174 non-null   int64  \n",
      " 5   family_status     2174 non-null   object \n",
      " 6   family_status_id  2174 non-null   int64  \n",
      " 7   gender            2174 non-null   object \n",
      " 8   income_type       2174 non-null   object \n",
      " 9   debt              2174 non-null   int64  \n",
      " 10  income_total      0 non-null      float64\n",
      " 11  purpose           2174 non-null   object \n",
      "dtypes: float64(2), int64(5), object(5)\n",
      "memory usage: 220.8+ KB\n"
     ]
    }
   ],
   "source": [
    "# Вывод общей информации по NULL-ячейкам таблицы.\n",
    "df[(df['income_total'].isnull() == True) & (df['days_employed'].isnull() == True)].info()"
   ]
  },
  {
   "cell_type": "markdown",
   "metadata": {},
   "source": [
    "Как мы можем заметить, в строках этих столбцов **взаимно отсуствуют данные**. Перед тем как перейти к заполнению NaN-значений средними, важно учесть, к какой **группе профессий** относятся эти данные. Если не к одной, то нужно будет заполнять пропуски по среднему значению для **каждой** группы. Также посмотрим на группы пофессий по столбцу'income_type' **без пропусков**. Сравним, похожи ли они между собой по распределению значений внутри строк."
   ]
  },
  {
   "cell_type": "code",
   "execution_count": 8,
   "metadata": {},
   "outputs": [
    {
     "data": {
      "text/plain": [
       "сотрудник          1105\n",
       "компаньон           508\n",
       "пенсионер           413\n",
       "госслужащий         147\n",
       "предприниматель       1\n",
       "Name: income_type, dtype: int64"
      ]
     },
     "execution_count": 8,
     "metadata": {},
     "output_type": "execute_result"
    }
   ],
   "source": [
    "# Вывод групп профессий с пропусками.\n",
    "df[(df['income_total'].isnull() == True) & (df['days_employed'].isnull() == True)]['income_type'].value_counts()"
   ]
  },
  {
   "cell_type": "code",
   "execution_count": 9,
   "metadata": {},
   "outputs": [
    {
     "data": {
      "text/plain": [
       "сотрудник          11119\n",
       "компаньон           5085\n",
       "пенсионер           3856\n",
       "госслужащий         1459\n",
       "безработный            2\n",
       "предприниматель        2\n",
       "студент                1\n",
       "в декрете              1\n",
       "Name: income_type, dtype: int64"
      ]
     },
     "execution_count": 9,
     "metadata": {},
     "output_type": "execute_result"
    }
   ],
   "source": [
    "#Вывод групп профессий без пропусков.\n",
    "df['income_type'].value_counts()"
   ]
  },
  {
   "cell_type": "markdown",
   "metadata": {},
   "source": [
    "Группы **оказались разными**. Взять среднее для заполнения по одной группе уже не получится. Кроме того, пропуски скорее всего носят случайный характер и распределены равномерно, так как распределение ненулевых значений похоже на распределние с нулевыми значениями. \n",
    "Теперь ответим на следущие вопросы:\n",
    "* Какое количество значений 'days_employed' больше и меньше '0'?\n",
    "Ответ на этот вопрос поможет нам определиться с модулем значений в столбце. Возможно отрицательные значения могут относится к пенсионерам. В таком случае нужно понять:\n",
    "* К кому относятся положительные значения в столбце 'days_employed'?"
   ]
  },
  {
   "cell_type": "markdown",
   "metadata": {},
   "source": [
    "Количество строк 'days_employed' **больше** 0: \n",
    "3445"
   ]
  },
  {
   "cell_type": "code",
   "execution_count": 10,
   "metadata": {},
   "outputs": [
    {
     "data": {
      "text/plain": [
       "3445"
      ]
     },
     "execution_count": 10,
     "metadata": {},
     "output_type": "execute_result"
    }
   ],
   "source": [
    "# Количество строк 'days_employed' > 0: 3445.\n",
    "df[df['days_employed']>0].shape[0]"
   ]
  },
  {
   "cell_type": "markdown",
   "metadata": {},
   "source": [
    "Количество строк 'days_employed' **меньше** 0: 15906"
   ]
  },
  {
   "cell_type": "code",
   "execution_count": 11,
   "metadata": {},
   "outputs": [
    {
     "data": {
      "text/plain": [
       "15906"
      ]
     },
     "execution_count": 11,
     "metadata": {},
     "output_type": "execute_result"
    }
   ],
   "source": [
    "# Количество строк 'days_employed' < 0: 15906.\n",
    "df[df['days_employed']<0].shape[0]"
   ]
  },
  {
   "cell_type": "markdown",
   "metadata": {},
   "source": [
    " Теперь создадим специальную переменную 'df_pension', куда поместим количество пенсионеров, у которых значение 'days_employed' > 0 и проверим, сколько из них работали больше 20 лет (33000 в метрике 'days_employed'). Затем посчитатем среднее количество отработанных дней пенсионеров, чтобы быть уверенными в наших выводах."
   ]
  },
  {
   "cell_type": "code",
   "execution_count": 12,
   "metadata": {},
   "outputs": [],
   "source": [
    "# Создаем переременную с условиями: значение больше 0 и значение == 'пенсионер'.\n",
    "df_pension = df[(df['days_employed'] > 0) & (df['income_type'] == 'пенсионер')]"
   ]
  },
  {
   "cell_type": "markdown",
   "metadata": {},
   "source": [
    "Количество пенсионеров со значением 'days_employed' **больше** 0: 3443"
   ]
  },
  {
   "cell_type": "code",
   "execution_count": 13,
   "metadata": {},
   "outputs": [
    {
     "data": {
      "text/plain": [
       "3443"
      ]
     },
     "execution_count": 13,
     "metadata": {},
     "output_type": "execute_result"
    }
   ],
   "source": [
    "# Количество пенсионеров со значением 'days_employed' > 0: 3443.\n",
    "df_pension.shape[0]"
   ]
  },
  {
   "cell_type": "markdown",
   "metadata": {},
   "source": [
    "Количество пенсионеров со значением 'days_employed' больше 0, отработавших больше 90 лет: 3443"
   ]
  },
  {
   "cell_type": "code",
   "execution_count": 14,
   "metadata": {},
   "outputs": [
    {
     "data": {
      "text/plain": [
       "3443"
      ]
     },
     "execution_count": 14,
     "metadata": {},
     "output_type": "execute_result"
    }
   ],
   "source": [
    "# Количество пенсионеров отработавших больше 90 лет: 3443.\n",
    "df_pension[df_pension['days_employed'] > 33000].shape[0]"
   ]
  },
  {
   "cell_type": "markdown",
   "metadata": {},
   "source": [
    "Значения совпали. Осталось посчитать среднее количество: ~365003,5"
   ]
  },
  {
   "cell_type": "code",
   "execution_count": 15,
   "metadata": {},
   "outputs": [
    {
     "data": {
      "text/plain": [
       "365003.49124486075"
      ]
     },
     "execution_count": 15,
     "metadata": {},
     "output_type": "execute_result"
    }
   ],
   "source": [
    "# Применяем .mean() для нахождения среднего числа (~365003,5).\n",
    "df_pension['days_employed'].mean()"
   ]
  },
  {
   "cell_type": "markdown",
   "metadata": {},
   "source": [
    "Исходя из полученных данных можем сделать следущие выводы:\n",
    "* Из 3445 значений больше 0 только двое не являются пенсионерами.\n",
    "* Не наблюдаем зависимости между отрицательным значением и пенсионерами.\n",
    "* **Общий вывод:** cтолбец **'days_employed' можно брать по модулю**, так как отрицательные значения являются ошибкой."
   ]
  },
  {
   "cell_type": "markdown",
   "metadata": {},
   "source": [
    "Теперь разберёмся подробнее со значениями в столбцах 'children' и 'dob_years':\n",
    "* Сравним количество уникальных клиентов с 20 детьми с количеством строк со значением 20. Если случай не уникальный, то скорее всего, клиент хотел ввести число 2, или же число 0. Если клиент заполнял форму с графой возраста, используя клавиатуру компьютера, то по нашему предположению, исходя из того что клавиша с цифрой '0' ближе к клавише 'Enter' чем с цифрой '2' , клиент мог ошибиться, следовательно в дальнейшем,мы заменим все значения '20' на '2'. \n",
    "* Узнаем больше о значении '-1' в столбце 'children': посчитаем количество. Если упоминается больше 2-х раз будем считать, что это ошибка.\n",
    "* То же самое что и с '-1' проделаем со значением '0' в столбце 'dob_years'."
   ]
  },
  {
   "cell_type": "markdown",
   "metadata": {},
   "source": [
    "* Количество строк со значением 20 в столбце 'children': 76"
   ]
  },
  {
   "cell_type": "code",
   "execution_count": 16,
   "metadata": {},
   "outputs": [
    {
     "data": {
      "text/plain": [
       "76"
      ]
     },
     "execution_count": 16,
     "metadata": {},
     "output_type": "execute_result"
    }
   ],
   "source": [
    "# Количество строк со значением 20 в столбце 'children': 76.\n",
    "df[df['children'] == 20].count()[0]"
   ]
  },
  {
   "cell_type": "markdown",
   "metadata": {},
   "source": [
    "* Количество уникальных клиентов с 20 детьми: 68"
   ]
  },
  {
   "cell_type": "code",
   "execution_count": 17,
   "metadata": {},
   "outputs": [
    {
     "data": {
      "text/plain": [
       "68"
      ]
     },
     "execution_count": 17,
     "metadata": {},
     "output_type": "execute_result"
    }
   ],
   "source": [
    "# Количество уникальных клиентов с 20 детьми: 68.\n",
    "len(df[df['children'] == 20]['income_total'].unique())"
   ]
  },
  {
   "cell_type": "markdown",
   "metadata": {},
   "source": [
    "* Количество значений '-1' в столбце 'children': 47"
   ]
  },
  {
   "cell_type": "code",
   "execution_count": 18,
   "metadata": {},
   "outputs": [
    {
     "data": {
      "text/plain": [
       "47"
      ]
     },
     "execution_count": 18,
     "metadata": {},
     "output_type": "execute_result"
    }
   ],
   "source": [
    "#Количество значений '-1' в столбце 'children': 47.\n",
    "df[df['children'] == -1].count()[0]"
   ]
  },
  {
   "cell_type": "markdown",
   "metadata": {},
   "source": [
    "* Количество значений '0' в столбце 'dob_years': 101"
   ]
  },
  {
   "cell_type": "code",
   "execution_count": 19,
   "metadata": {},
   "outputs": [
    {
     "data": {
      "text/plain": [
       "101"
      ]
     },
     "execution_count": 19,
     "metadata": {},
     "output_type": "execute_result"
    }
   ],
   "source": [
    "# Количество значений '0' в столбце 'dob_years': 101.\n",
    "df[df['dob_years'] == 0].count()[0]"
   ]
  },
  {
   "cell_type": "markdown",
   "metadata": {},
   "source": [
    "Наши предположения подтвердились.\n",
    "Значения '-1', '0', '20' являются ошибками и их нужно исправить."
   ]
  },
  {
   "cell_type": "markdown",
   "metadata": {},
   "source": [
    "После изучения информации нам удалось выяснить, что нужно исправить в данных для проведения исследования:\n",
    "* Обработать столбец 'days_employed', не смотря на то, что его информация является лишней для того, чтобы ответить на вопросы исследования. \n",
    "* Привести к общему виду неоднотипные значения в столбце 'education'.\n",
    "* Исправить минимальное значение в столбце 'children' с '-1' на '0'.\n",
    "* Обработать нулевой возраст в столбце 'dob_years'.\n",
    "* В столбце'children' значения '20' привести к '2'.\n",
    "* Столбу income_total присвоить целочисленные значения.\n",
    "* Обработать дубликаты.\n",
    "* Лемматизировать столбец 'purpose'.\n",
    "* Создать новый столбец по категориям данных в столбце 'purpose'.\n",
    "* Категоризировать заёмщиков\n",
    "* Категоризировать по заёмщиков возрасту\n"
   ]
  },
  {
   "cell_type": "markdown",
   "metadata": {},
   "source": [
    "## Шаг 2. Предобработка данных"
   ]
  },
  {
   "cell_type": "markdown",
   "metadata": {},
   "source": [
    "### Обработка пропусков"
   ]
  },
  {
   "cell_type": "markdown",
   "metadata": {},
   "source": [
    "Создадим таблицу из данных в столбце 'income_type'. Назовем ее 'income_type_grouped'. Из нее узнаем, кто создает перевес в среднем значении столбца 'days_employed'. Узнаем, можно ли использовать среднее значение и применить к данным метод abs()."
   ]
  },
  {
   "cell_type": "code",
   "execution_count": 20,
   "metadata": {},
   "outputs": [
    {
     "data": {
      "text/html": [
       "<div>\n",
       "<style scoped>\n",
       "    .dataframe tbody tr th:only-of-type {\n",
       "        vertical-align: middle;\n",
       "    }\n",
       "\n",
       "    .dataframe tbody tr th {\n",
       "        vertical-align: top;\n",
       "    }\n",
       "\n",
       "    .dataframe thead tr th {\n",
       "        text-align: left;\n",
       "    }\n",
       "\n",
       "    .dataframe thead tr:last-of-type th {\n",
       "        text-align: right;\n",
       "    }\n",
       "</style>\n",
       "<table border=\"1\" class=\"dataframe\">\n",
       "  <thead>\n",
       "    <tr>\n",
       "      <th></th>\n",
       "      <th colspan=\"3\" halign=\"left\">days_employed</th>\n",
       "    </tr>\n",
       "    <tr>\n",
       "      <th></th>\n",
       "      <th>Количество строк</th>\n",
       "      <th>Среднее значение</th>\n",
       "      <th>Значения больше 0</th>\n",
       "    </tr>\n",
       "    <tr>\n",
       "      <th>income_type</th>\n",
       "      <th></th>\n",
       "      <th></th>\n",
       "      <th></th>\n",
       "    </tr>\n",
       "  </thead>\n",
       "  <tbody>\n",
       "    <tr>\n",
       "      <th>безработный</th>\n",
       "      <td>2</td>\n",
       "      <td>366413.652744</td>\n",
       "      <td>2</td>\n",
       "    </tr>\n",
       "    <tr>\n",
       "      <th>в декрете</th>\n",
       "      <td>1</td>\n",
       "      <td>-3296.759962</td>\n",
       "      <td>0</td>\n",
       "    </tr>\n",
       "    <tr>\n",
       "      <th>госслужащий</th>\n",
       "      <td>1312</td>\n",
       "      <td>-3399.896902</td>\n",
       "      <td>0</td>\n",
       "    </tr>\n",
       "    <tr>\n",
       "      <th>компаньон</th>\n",
       "      <td>4577</td>\n",
       "      <td>-2111.524398</td>\n",
       "      <td>0</td>\n",
       "    </tr>\n",
       "    <tr>\n",
       "      <th>пенсионер</th>\n",
       "      <td>3443</td>\n",
       "      <td>365003.491245</td>\n",
       "      <td>3443</td>\n",
       "    </tr>\n",
       "    <tr>\n",
       "      <th>предприниматель</th>\n",
       "      <td>1</td>\n",
       "      <td>-520.848083</td>\n",
       "      <td>0</td>\n",
       "    </tr>\n",
       "    <tr>\n",
       "      <th>сотрудник</th>\n",
       "      <td>10014</td>\n",
       "      <td>-2326.499216</td>\n",
       "      <td>0</td>\n",
       "    </tr>\n",
       "    <tr>\n",
       "      <th>студент</th>\n",
       "      <td>1</td>\n",
       "      <td>-578.751554</td>\n",
       "      <td>0</td>\n",
       "    </tr>\n",
       "  </tbody>\n",
       "</table>\n",
       "</div>"
      ],
      "text/plain": [
       "                   days_employed                                   \n",
       "                Количество строк Среднее значение Значения больше 0\n",
       "income_type                                                        \n",
       "безработный                    2    366413.652744                 2\n",
       "в декрете                      1     -3296.759962                 0\n",
       "госслужащий                 1312     -3399.896902                 0\n",
       "компаньон                   4577     -2111.524398                 0\n",
       "пенсионер                   3443    365003.491245              3443\n",
       "предприниматель                1      -520.848083                 0\n",
       "сотрудник                  10014     -2326.499216                 0\n",
       "студент                        1      -578.751554                 0"
      ]
     },
     "execution_count": 20,
     "metadata": {},
     "output_type": "execute_result"
    }
   ],
   "source": [
    "# Создаем переменную и передаем ей в скобках функции для подсчета значений внутри датафрейма 'df'. \n",
    "income_type_grouped = df.groupby('income_type').agg({'days_employed':['count', 'mean', lambda x: sum(x > 0)]})\n",
    "# Создаем переменную с названиями столбцов таблицы для удобства восприятия информации.\n",
    "income_type_grouped_columns = dict(zip(income_type_grouped.columns.levels[1],['Количество строк','Среднее значение','Значения больше 0']))\n",
    "# Заменяем названия столбцов в таблице.\n",
    "income_type_grouped = income_type_grouped.rename(columns = income_type_grouped_columns, level = 1)\n",
    "# Выводим таблицу.\n",
    "income_type_grouped"
   ]
  },
  {
   "cell_type": "markdown",
   "metadata": {},
   "source": [
    "Как мы можем заметить, только в категориях 'безработный' и 'пенсионеры' значения больше '0'. Из этого следует, что мы можем считать среднее и применять метод abs() к данным. "
   ]
  },
  {
   "cell_type": "markdown",
   "metadata": {},
   "source": [
    "Теперь мы можем взять значения в столбцах 'days_employed' и 'income_total' по модулю, используя метод abs(). Затем посмотрим на изменения в 'df'."
   ]
  },
  {
   "cell_type": "code",
   "execution_count": 21,
   "metadata": {},
   "outputs": [
    {
     "data": {
      "text/html": [
       "<div>\n",
       "<style scoped>\n",
       "    .dataframe tbody tr th:only-of-type {\n",
       "        vertical-align: middle;\n",
       "    }\n",
       "\n",
       "    .dataframe tbody tr th {\n",
       "        vertical-align: top;\n",
       "    }\n",
       "\n",
       "    .dataframe thead th {\n",
       "        text-align: right;\n",
       "    }\n",
       "</style>\n",
       "<table border=\"1\" class=\"dataframe\">\n",
       "  <thead>\n",
       "    <tr style=\"text-align: right;\">\n",
       "      <th></th>\n",
       "      <th>children</th>\n",
       "      <th>days_employed</th>\n",
       "      <th>dob_years</th>\n",
       "      <th>education</th>\n",
       "      <th>education_id</th>\n",
       "      <th>family_status</th>\n",
       "      <th>family_status_id</th>\n",
       "      <th>gender</th>\n",
       "      <th>income_type</th>\n",
       "      <th>debt</th>\n",
       "      <th>income_total</th>\n",
       "      <th>purpose</th>\n",
       "    </tr>\n",
       "  </thead>\n",
       "  <tbody>\n",
       "    <tr>\n",
       "      <th>0</th>\n",
       "      <td>1</td>\n",
       "      <td>8437.673028</td>\n",
       "      <td>42</td>\n",
       "      <td>высшее</td>\n",
       "      <td>0</td>\n",
       "      <td>женат / замужем</td>\n",
       "      <td>0</td>\n",
       "      <td>F</td>\n",
       "      <td>сотрудник</td>\n",
       "      <td>0</td>\n",
       "      <td>253875.639453</td>\n",
       "      <td>покупка жилья</td>\n",
       "    </tr>\n",
       "    <tr>\n",
       "      <th>1</th>\n",
       "      <td>1</td>\n",
       "      <td>4024.803754</td>\n",
       "      <td>36</td>\n",
       "      <td>среднее</td>\n",
       "      <td>1</td>\n",
       "      <td>женат / замужем</td>\n",
       "      <td>0</td>\n",
       "      <td>F</td>\n",
       "      <td>сотрудник</td>\n",
       "      <td>0</td>\n",
       "      <td>112080.014102</td>\n",
       "      <td>приобретение автомобиля</td>\n",
       "    </tr>\n",
       "    <tr>\n",
       "      <th>2</th>\n",
       "      <td>0</td>\n",
       "      <td>5623.422610</td>\n",
       "      <td>33</td>\n",
       "      <td>Среднее</td>\n",
       "      <td>1</td>\n",
       "      <td>женат / замужем</td>\n",
       "      <td>0</td>\n",
       "      <td>M</td>\n",
       "      <td>сотрудник</td>\n",
       "      <td>0</td>\n",
       "      <td>145885.952297</td>\n",
       "      <td>покупка жилья</td>\n",
       "    </tr>\n",
       "    <tr>\n",
       "      <th>3</th>\n",
       "      <td>3</td>\n",
       "      <td>4124.747207</td>\n",
       "      <td>32</td>\n",
       "      <td>среднее</td>\n",
       "      <td>1</td>\n",
       "      <td>женат / замужем</td>\n",
       "      <td>0</td>\n",
       "      <td>M</td>\n",
       "      <td>сотрудник</td>\n",
       "      <td>0</td>\n",
       "      <td>267628.550329</td>\n",
       "      <td>дополнительное образование</td>\n",
       "    </tr>\n",
       "    <tr>\n",
       "      <th>4</th>\n",
       "      <td>0</td>\n",
       "      <td>340266.072047</td>\n",
       "      <td>53</td>\n",
       "      <td>среднее</td>\n",
       "      <td>1</td>\n",
       "      <td>гражданский брак</td>\n",
       "      <td>1</td>\n",
       "      <td>F</td>\n",
       "      <td>пенсионер</td>\n",
       "      <td>0</td>\n",
       "      <td>158616.077870</td>\n",
       "      <td>сыграть свадьбу</td>\n",
       "    </tr>\n",
       "    <tr>\n",
       "      <th>5</th>\n",
       "      <td>0</td>\n",
       "      <td>926.185831</td>\n",
       "      <td>27</td>\n",
       "      <td>высшее</td>\n",
       "      <td>0</td>\n",
       "      <td>гражданский брак</td>\n",
       "      <td>1</td>\n",
       "      <td>M</td>\n",
       "      <td>компаньон</td>\n",
       "      <td>0</td>\n",
       "      <td>255763.565419</td>\n",
       "      <td>покупка жилья</td>\n",
       "    </tr>\n",
       "    <tr>\n",
       "      <th>6</th>\n",
       "      <td>0</td>\n",
       "      <td>2879.202052</td>\n",
       "      <td>43</td>\n",
       "      <td>высшее</td>\n",
       "      <td>0</td>\n",
       "      <td>женат / замужем</td>\n",
       "      <td>0</td>\n",
       "      <td>F</td>\n",
       "      <td>компаньон</td>\n",
       "      <td>0</td>\n",
       "      <td>240525.971920</td>\n",
       "      <td>операции с жильем</td>\n",
       "    </tr>\n",
       "    <tr>\n",
       "      <th>7</th>\n",
       "      <td>0</td>\n",
       "      <td>152.779569</td>\n",
       "      <td>50</td>\n",
       "      <td>СРЕДНЕЕ</td>\n",
       "      <td>1</td>\n",
       "      <td>женат / замужем</td>\n",
       "      <td>0</td>\n",
       "      <td>M</td>\n",
       "      <td>сотрудник</td>\n",
       "      <td>0</td>\n",
       "      <td>135823.934197</td>\n",
       "      <td>образование</td>\n",
       "    </tr>\n",
       "    <tr>\n",
       "      <th>8</th>\n",
       "      <td>2</td>\n",
       "      <td>6929.865299</td>\n",
       "      <td>35</td>\n",
       "      <td>ВЫСШЕЕ</td>\n",
       "      <td>0</td>\n",
       "      <td>гражданский брак</td>\n",
       "      <td>1</td>\n",
       "      <td>F</td>\n",
       "      <td>сотрудник</td>\n",
       "      <td>0</td>\n",
       "      <td>95856.832424</td>\n",
       "      <td>на проведение свадьбы</td>\n",
       "    </tr>\n",
       "    <tr>\n",
       "      <th>9</th>\n",
       "      <td>0</td>\n",
       "      <td>2188.756445</td>\n",
       "      <td>41</td>\n",
       "      <td>среднее</td>\n",
       "      <td>1</td>\n",
       "      <td>женат / замужем</td>\n",
       "      <td>0</td>\n",
       "      <td>M</td>\n",
       "      <td>сотрудник</td>\n",
       "      <td>0</td>\n",
       "      <td>144425.938277</td>\n",
       "      <td>покупка жилья для семьи</td>\n",
       "    </tr>\n",
       "    <tr>\n",
       "      <th>10</th>\n",
       "      <td>2</td>\n",
       "      <td>4171.483647</td>\n",
       "      <td>36</td>\n",
       "      <td>высшее</td>\n",
       "      <td>0</td>\n",
       "      <td>женат / замужем</td>\n",
       "      <td>0</td>\n",
       "      <td>M</td>\n",
       "      <td>компаньон</td>\n",
       "      <td>0</td>\n",
       "      <td>113943.491460</td>\n",
       "      <td>покупка недвижимости</td>\n",
       "    </tr>\n",
       "    <tr>\n",
       "      <th>11</th>\n",
       "      <td>0</td>\n",
       "      <td>792.701887</td>\n",
       "      <td>40</td>\n",
       "      <td>среднее</td>\n",
       "      <td>1</td>\n",
       "      <td>женат / замужем</td>\n",
       "      <td>0</td>\n",
       "      <td>F</td>\n",
       "      <td>сотрудник</td>\n",
       "      <td>0</td>\n",
       "      <td>77069.234271</td>\n",
       "      <td>покупка коммерческой недвижимости</td>\n",
       "    </tr>\n",
       "    <tr>\n",
       "      <th>12</th>\n",
       "      <td>0</td>\n",
       "      <td>NaN</td>\n",
       "      <td>65</td>\n",
       "      <td>среднее</td>\n",
       "      <td>1</td>\n",
       "      <td>гражданский брак</td>\n",
       "      <td>1</td>\n",
       "      <td>M</td>\n",
       "      <td>пенсионер</td>\n",
       "      <td>0</td>\n",
       "      <td>NaN</td>\n",
       "      <td>сыграть свадьбу</td>\n",
       "    </tr>\n",
       "    <tr>\n",
       "      <th>13</th>\n",
       "      <td>0</td>\n",
       "      <td>1846.641941</td>\n",
       "      <td>54</td>\n",
       "      <td>неоконченное высшее</td>\n",
       "      <td>2</td>\n",
       "      <td>женат / замужем</td>\n",
       "      <td>0</td>\n",
       "      <td>F</td>\n",
       "      <td>сотрудник</td>\n",
       "      <td>0</td>\n",
       "      <td>130458.228857</td>\n",
       "      <td>приобретение автомобиля</td>\n",
       "    </tr>\n",
       "    <tr>\n",
       "      <th>14</th>\n",
       "      <td>0</td>\n",
       "      <td>1844.956182</td>\n",
       "      <td>56</td>\n",
       "      <td>высшее</td>\n",
       "      <td>0</td>\n",
       "      <td>гражданский брак</td>\n",
       "      <td>1</td>\n",
       "      <td>F</td>\n",
       "      <td>компаньон</td>\n",
       "      <td>1</td>\n",
       "      <td>165127.911772</td>\n",
       "      <td>покупка жилой недвижимости</td>\n",
       "    </tr>\n",
       "  </tbody>\n",
       "</table>\n",
       "</div>"
      ],
      "text/plain": [
       "    children  days_employed  dob_years            education  education_id  \\\n",
       "0          1    8437.673028         42               высшее             0   \n",
       "1          1    4024.803754         36              среднее             1   \n",
       "2          0    5623.422610         33              Среднее             1   \n",
       "3          3    4124.747207         32              среднее             1   \n",
       "4          0  340266.072047         53              среднее             1   \n",
       "5          0     926.185831         27               высшее             0   \n",
       "6          0    2879.202052         43               высшее             0   \n",
       "7          0     152.779569         50              СРЕДНЕЕ             1   \n",
       "8          2    6929.865299         35               ВЫСШЕЕ             0   \n",
       "9          0    2188.756445         41              среднее             1   \n",
       "10         2    4171.483647         36               высшее             0   \n",
       "11         0     792.701887         40              среднее             1   \n",
       "12         0            NaN         65              среднее             1   \n",
       "13         0    1846.641941         54  неоконченное высшее             2   \n",
       "14         0    1844.956182         56               высшее             0   \n",
       "\n",
       "       family_status  family_status_id gender income_type  debt  \\\n",
       "0    женат / замужем                 0      F   сотрудник     0   \n",
       "1    женат / замужем                 0      F   сотрудник     0   \n",
       "2    женат / замужем                 0      M   сотрудник     0   \n",
       "3    женат / замужем                 0      M   сотрудник     0   \n",
       "4   гражданский брак                 1      F   пенсионер     0   \n",
       "5   гражданский брак                 1      M   компаньон     0   \n",
       "6    женат / замужем                 0      F   компаньон     0   \n",
       "7    женат / замужем                 0      M   сотрудник     0   \n",
       "8   гражданский брак                 1      F   сотрудник     0   \n",
       "9    женат / замужем                 0      M   сотрудник     0   \n",
       "10   женат / замужем                 0      M   компаньон     0   \n",
       "11   женат / замужем                 0      F   сотрудник     0   \n",
       "12  гражданский брак                 1      M   пенсионер     0   \n",
       "13   женат / замужем                 0      F   сотрудник     0   \n",
       "14  гражданский брак                 1      F   компаньон     1   \n",
       "\n",
       "     income_total                            purpose  \n",
       "0   253875.639453                      покупка жилья  \n",
       "1   112080.014102            приобретение автомобиля  \n",
       "2   145885.952297                      покупка жилья  \n",
       "3   267628.550329         дополнительное образование  \n",
       "4   158616.077870                    сыграть свадьбу  \n",
       "5   255763.565419                      покупка жилья  \n",
       "6   240525.971920                  операции с жильем  \n",
       "7   135823.934197                        образование  \n",
       "8    95856.832424              на проведение свадьбы  \n",
       "9   144425.938277            покупка жилья для семьи  \n",
       "10  113943.491460               покупка недвижимости  \n",
       "11   77069.234271  покупка коммерческой недвижимости  \n",
       "12            NaN                    сыграть свадьбу  \n",
       "13  130458.228857            приобретение автомобиля  \n",
       "14  165127.911772         покупка жилой недвижимости  "
      ]
     },
     "execution_count": 21,
     "metadata": {},
     "output_type": "execute_result"
    }
   ],
   "source": [
    "# Применяем метод abs() к выбранным столбцам. \n",
    "df[['days_employed', 'income_total']] =  df[['days_employed', 'income_total']].abs()\n",
    "# Выводим первые 15 строк.\n",
    "df.head(15)"
   ]
  },
  {
   "cell_type": "markdown",
   "metadata": {},
   "source": [
    "Заполним NaN-пропуски в столбцах 'days_employed' и 'income_total'. В столбце 'days_employed' заменим на средний коэффицент по группе 'income_type', умноженнный на возраст в днях. В столбце 'income_total' заменим NaN на среднее значение по зарплате по группе 'income_type'."
   ]
  },
  {
   "cell_type": "code",
   "execution_count": 22,
   "metadata": {},
   "outputs": [],
   "source": [
    "# Заполняем пропуски в 'days_employed'.\n",
    "df['days_employed'] = df.groupby('income_type')['days_employed'].transform(lambda x: x.fillna(x.mean()))\n",
    "# Заполняем пропуски в 'income_total'.\n",
    "df['income_total'] = df.groupby('income_type')['income_total'].transform(lambda x: x.fillna(x.mean()))"
   ]
  },
  {
   "cell_type": "code",
   "execution_count": 23,
   "metadata": {},
   "outputs": [
    {
     "data": {
      "text/html": [
       "<div>\n",
       "<style scoped>\n",
       "    .dataframe tbody tr th:only-of-type {\n",
       "        vertical-align: middle;\n",
       "    }\n",
       "\n",
       "    .dataframe tbody tr th {\n",
       "        vertical-align: top;\n",
       "    }\n",
       "\n",
       "    .dataframe thead tr th {\n",
       "        text-align: left;\n",
       "    }\n",
       "\n",
       "    .dataframe thead tr:last-of-type th {\n",
       "        text-align: right;\n",
       "    }\n",
       "</style>\n",
       "<table border=\"1\" class=\"dataframe\">\n",
       "  <thead>\n",
       "    <tr>\n",
       "      <th></th>\n",
       "      <th colspan=\"3\" halign=\"left\">days_employed</th>\n",
       "    </tr>\n",
       "    <tr>\n",
       "      <th></th>\n",
       "      <th>Количество строк</th>\n",
       "      <th>Среднее значение</th>\n",
       "      <th>Значения больше 0</th>\n",
       "    </tr>\n",
       "    <tr>\n",
       "      <th>income_type</th>\n",
       "      <th></th>\n",
       "      <th></th>\n",
       "      <th></th>\n",
       "    </tr>\n",
       "  </thead>\n",
       "  <tbody>\n",
       "    <tr>\n",
       "      <th>безработный</th>\n",
       "      <td>2</td>\n",
       "      <td>366413.652744</td>\n",
       "      <td>2</td>\n",
       "    </tr>\n",
       "    <tr>\n",
       "      <th>в декрете</th>\n",
       "      <td>1</td>\n",
       "      <td>3296.759962</td>\n",
       "      <td>1</td>\n",
       "    </tr>\n",
       "    <tr>\n",
       "      <th>госслужащий</th>\n",
       "      <td>1459</td>\n",
       "      <td>3399.896902</td>\n",
       "      <td>1459</td>\n",
       "    </tr>\n",
       "    <tr>\n",
       "      <th>компаньон</th>\n",
       "      <td>5085</td>\n",
       "      <td>2111.524398</td>\n",
       "      <td>5085</td>\n",
       "    </tr>\n",
       "    <tr>\n",
       "      <th>пенсионер</th>\n",
       "      <td>3856</td>\n",
       "      <td>365003.491245</td>\n",
       "      <td>3856</td>\n",
       "    </tr>\n",
       "    <tr>\n",
       "      <th>предприниматель</th>\n",
       "      <td>2</td>\n",
       "      <td>520.848083</td>\n",
       "      <td>2</td>\n",
       "    </tr>\n",
       "    <tr>\n",
       "      <th>сотрудник</th>\n",
       "      <td>11119</td>\n",
       "      <td>2326.499216</td>\n",
       "      <td>11119</td>\n",
       "    </tr>\n",
       "    <tr>\n",
       "      <th>студент</th>\n",
       "      <td>1</td>\n",
       "      <td>578.751554</td>\n",
       "      <td>1</td>\n",
       "    </tr>\n",
       "  </tbody>\n",
       "</table>\n",
       "</div>"
      ],
      "text/plain": [
       "                   days_employed                                   \n",
       "                Количество строк Среднее значение Значения больше 0\n",
       "income_type                                                        \n",
       "безработный                    2    366413.652744                 2\n",
       "в декрете                      1      3296.759962                 1\n",
       "госслужащий                 1459      3399.896902              1459\n",
       "компаньон                   5085      2111.524398              5085\n",
       "пенсионер                   3856    365003.491245              3856\n",
       "предприниматель                2       520.848083                 2\n",
       "сотрудник                  11119      2326.499216             11119\n",
       "студент                        1       578.751554                 1"
      ]
     },
     "execution_count": 23,
     "metadata": {},
     "output_type": "execute_result"
    }
   ],
   "source": [
    "# Код ревьюера\n",
    "income_type_grouped = df.groupby('income_type').agg({'days_employed':['count', 'mean', lambda x: sum(x > 0)]})\n",
    "\n",
    "income_type_grouped_columns = dict(zip(income_type_grouped.columns.levels[1],['Количество строк','Среднее значение','Значения больше 0']))\n",
    "\n",
    "income_type_grouped = income_type_grouped.rename(columns = income_type_grouped_columns, level = 1)\n",
    "income_type_grouped"
   ]
  },
  {
   "cell_type": "code",
   "execution_count": 24,
   "metadata": {},
   "outputs": [
    {
     "name": "stdout",
     "output_type": "stream",
     "text": [
      "<class 'pandas.core.frame.DataFrame'>\n",
      "RangeIndex: 21525 entries, 0 to 21524\n",
      "Data columns (total 12 columns):\n",
      " #   Column            Non-Null Count  Dtype  \n",
      "---  ------            --------------  -----  \n",
      " 0   children          21525 non-null  int64  \n",
      " 1   days_employed     21525 non-null  float64\n",
      " 2   dob_years         21525 non-null  int64  \n",
      " 3   education         21525 non-null  object \n",
      " 4   education_id      21525 non-null  int64  \n",
      " 5   family_status     21525 non-null  object \n",
      " 6   family_status_id  21525 non-null  int64  \n",
      " 7   gender            21525 non-null  object \n",
      " 8   income_type       21525 non-null  object \n",
      " 9   debt              21525 non-null  int64  \n",
      " 10  income_total      21525 non-null  float64\n",
      " 11  purpose           21525 non-null  object \n",
      "dtypes: float64(2), int64(5), object(5)\n",
      "memory usage: 2.0+ MB\n"
     ]
    }
   ],
   "source": [
    "df.info()"
   ]
  },
  {
   "cell_type": "markdown",
   "metadata": {},
   "source": [
    "Теперь в столбце 'children' заменим значение '-1' на 0. По нашему предположению 20 - это опечатка. Все, что меньше числа 19 и больше числа 2, относим к  многодетным семьям. Поэтому заменяем 20 на 2."
   ]
  },
  {
   "cell_type": "code",
   "execution_count": 25,
   "metadata": {},
   "outputs": [],
   "source": [
    "# Замена значений в столбце ['children'].\n",
    "df['children'] = df['children'].replace(-1, 0)\n",
    "df['children'] = df['children'].replace(20, 2)"
   ]
  },
  {
   "cell_type": "markdown",
   "metadata": {},
   "source": [
    " Перейдем к нулевому возрасту в столбце 'dob_years'. Заполним нулевые значения средними по столбцу 'income_type'. Округлим значение, чтобы сохранить тип данных в этом столбце. "
   ]
  },
  {
   "cell_type": "code",
   "execution_count": 26,
   "metadata": {},
   "outputs": [],
   "source": [
    "# Замена значения 0 на среднее по 'income_type'\n",
    "df['dob_years'] = df.groupby('income_type')['dob_years'].apply(lambda x: x.replace(0, int(x.mean())))\n",
    "#df['dob_years'] = df.groupby('income_type')['dob_years'].transform(lambda x: x.replace(0, int(x.mean())))"
   ]
  },
  {
   "cell_type": "markdown",
   "metadata": {},
   "source": [
    "Теперь изменим формат записи значений в столбце 'education' методом lower(). Выведем информацию по данным после обработки пропусков."
   ]
  },
  {
   "cell_type": "code",
   "execution_count": 27,
   "metadata": {},
   "outputs": [
    {
     "name": "stdout",
     "output_type": "stream",
     "text": [
      "<class 'pandas.core.frame.DataFrame'>\n",
      "RangeIndex: 21525 entries, 0 to 21524\n",
      "Data columns (total 12 columns):\n",
      " #   Column            Non-Null Count  Dtype  \n",
      "---  ------            --------------  -----  \n",
      " 0   children          21525 non-null  int64  \n",
      " 1   days_employed     21525 non-null  float64\n",
      " 2   dob_years         21525 non-null  int64  \n",
      " 3   education         21525 non-null  object \n",
      " 4   education_id      21525 non-null  int64  \n",
      " 5   family_status     21525 non-null  object \n",
      " 6   family_status_id  21525 non-null  int64  \n",
      " 7   gender            21525 non-null  object \n",
      " 8   income_type       21525 non-null  object \n",
      " 9   debt              21525 non-null  int64  \n",
      " 10  income_total      21525 non-null  float64\n",
      " 11  purpose           21525 non-null  object \n",
      "dtypes: float64(2), int64(5), object(5)\n",
      "memory usage: 2.0+ MB\n"
     ]
    }
   ],
   "source": [
    "# Заменяем формат написания значений в столбце 'education'.\n",
    "df['education'] = df['education'].str.lower()\n",
    "# Выводим первые 15 строк датафрейма.\n",
    "#df.head(15)\n",
    "# Выводм общую информацию.\n",
    "df.info()\n",
    "# Выводим описание значений.\n",
    "#df.describe()"
   ]
  },
  {
   "cell_type": "markdown",
   "metadata": {},
   "source": [
    "**Вывод**\n",
    "Мы заменили все явные пропуски в таблице."
   ]
  },
  {
   "cell_type": "markdown",
   "metadata": {},
   "source": [
    "### Замена типа данных"
   ]
  },
  {
   "cell_type": "markdown",
   "metadata": {},
   "source": [
    "Заменим вещественный тип данных в столбцах 'income_total' и 'days_employed' на целочисленный. Для этого используем метод astype( ). "
   ]
  },
  {
   "cell_type": "code",
   "execution_count": 28,
   "metadata": {},
   "outputs": [],
   "source": [
    "# Замена типа данных методом astype().\n",
    "df['income_total'] = df['income_total'].astype(int)\n",
    "df['days_employed'] = df['days_employed'].astype(int)"
   ]
  },
  {
   "cell_type": "code",
   "execution_count": 29,
   "metadata": {},
   "outputs": [
    {
     "data": {
      "text/plain": [
       "children             int64\n",
       "days_employed        int64\n",
       "dob_years            int64\n",
       "education           object\n",
       "education_id         int64\n",
       "family_status       object\n",
       "family_status_id     int64\n",
       "gender              object\n",
       "income_type         object\n",
       "debt                 int64\n",
       "income_total         int64\n",
       "purpose             object\n",
       "dtype: object"
      ]
     },
     "execution_count": 29,
     "metadata": {},
     "output_type": "execute_result"
    }
   ],
   "source": [
    "# Вывод типа данных после обработки.\n",
    "df.dtypes"
   ]
  },
  {
   "cell_type": "markdown",
   "metadata": {},
   "source": [
    "**Вывод**\n",
    "Мы изменили тип данных, воспользовавшись методом astype()."
   ]
  },
  {
   "cell_type": "markdown",
   "metadata": {},
   "source": [
    "### Обработка дубликатов"
   ]
  },
  {
   "cell_type": "markdown",
   "metadata": {},
   "source": [
    "Дубликаты могут вызвать смещение финальных оценок данных. Их нужно удалить. Удалим явные дубликаты методом drop_duplicates. После чего выведем сумму дубликатов в таблице, чтобы проверить наши действия. Посмотрим на общее количство дубликатов."
   ]
  },
  {
   "cell_type": "code",
   "execution_count": 30,
   "metadata": {
    "scrolled": true
   },
   "outputs": [
    {
     "data": {
      "text/plain": [
       "71"
      ]
     },
     "execution_count": 30,
     "metadata": {},
     "output_type": "execute_result"
    }
   ],
   "source": [
    "# Проверим количество дубликатов\n",
    "df.duplicated().sum()"
   ]
  },
  {
   "cell_type": "markdown",
   "metadata": {},
   "source": [
    "В таблице 71 явный дубликат. Теперь применим к ней метод drop_duplicates(), чтобы удалить явные дубликаты. Скорее всего они возникили слуайно"
   ]
  },
  {
   "cell_type": "code",
   "execution_count": 31,
   "metadata": {},
   "outputs": [],
   "source": [
    "# Удаляем явные дубликаты.\n",
    "df = df.drop_duplicates()"
   ]
  },
  {
   "cell_type": "code",
   "execution_count": 32,
   "metadata": {},
   "outputs": [
    {
     "data": {
      "text/plain": [
       "0"
      ]
     },
     "execution_count": 32,
     "metadata": {},
     "output_type": "execute_result"
    }
   ],
   "source": [
    "# Проверим сколько явных дубликатов осталось : 0.\n",
    "df.duplicated().sum()"
   ]
  },
  {
   "cell_type": "markdown",
   "metadata": {},
   "source": [
    "Теперь выведем по очереди уникальные значения в столбцах, в которых возможны неявные дубликаты."
   ]
  },
  {
   "cell_type": "code",
   "execution_count": 33,
   "metadata": {},
   "outputs": [],
   "source": [
    "# Выводим уникальные значения и их количество в каждом столбце с возможными дубликатами.\n",
    "#df['education'].value_counts() #* Нет Неявиных дубликатов.\n",
    "#df['family_status'].value_counts() #* Нет неявных дубликатов.\n",
    "#df['gender'].value_counts() #* Есть странное значение XNA(1).\n",
    "#df['income_type'].value_counts() #* Нет Неявиных дубликатов.\n",
    "#df['purpose'].value_counts() #* Куча неявных дубликатов, поэтому лемматизируем этот столбец."
   ]
  },
  {
   "cell_type": "markdown",
   "metadata": {},
   "source": [
    "Выведем строку со значением 'XNA' в столбце 'gender'."
   ]
  },
  {
   "cell_type": "code",
   "execution_count": 34,
   "metadata": {},
   "outputs": [
    {
     "data": {
      "text/html": [
       "<div>\n",
       "<style scoped>\n",
       "    .dataframe tbody tr th:only-of-type {\n",
       "        vertical-align: middle;\n",
       "    }\n",
       "\n",
       "    .dataframe tbody tr th {\n",
       "        vertical-align: top;\n",
       "    }\n",
       "\n",
       "    .dataframe thead th {\n",
       "        text-align: right;\n",
       "    }\n",
       "</style>\n",
       "<table border=\"1\" class=\"dataframe\">\n",
       "  <thead>\n",
       "    <tr style=\"text-align: right;\">\n",
       "      <th></th>\n",
       "      <th>children</th>\n",
       "      <th>days_employed</th>\n",
       "      <th>dob_years</th>\n",
       "      <th>education</th>\n",
       "      <th>education_id</th>\n",
       "      <th>family_status</th>\n",
       "      <th>family_status_id</th>\n",
       "      <th>gender</th>\n",
       "      <th>income_type</th>\n",
       "      <th>debt</th>\n",
       "      <th>income_total</th>\n",
       "      <th>purpose</th>\n",
       "    </tr>\n",
       "  </thead>\n",
       "  <tbody>\n",
       "    <tr>\n",
       "      <th>10701</th>\n",
       "      <td>0</td>\n",
       "      <td>2358</td>\n",
       "      <td>24</td>\n",
       "      <td>неоконченное высшее</td>\n",
       "      <td>2</td>\n",
       "      <td>гражданский брак</td>\n",
       "      <td>1</td>\n",
       "      <td>XNA</td>\n",
       "      <td>компаньон</td>\n",
       "      <td>0</td>\n",
       "      <td>203905</td>\n",
       "      <td>покупка недвижимости</td>\n",
       "    </tr>\n",
       "  </tbody>\n",
       "</table>\n",
       "</div>"
      ],
      "text/plain": [
       "       children  days_employed  dob_years            education  education_id  \\\n",
       "10701         0           2358         24  неоконченное высшее             2   \n",
       "\n",
       "          family_status  family_status_id gender income_type  debt  \\\n",
       "10701  гражданский брак                 1    XNA   компаньон     0   \n",
       "\n",
       "       income_total               purpose  \n",
       "10701        203905  покупка недвижимости  "
      ]
     },
     "execution_count": 34,
     "metadata": {},
     "output_type": "execute_result"
    }
   ],
   "source": [
    "# Вывод строки со значением 'XNA'\n",
    "df.loc[df['gender'] == 'XNA']"
   ]
  },
  {
   "cell_type": "markdown",
   "metadata": {},
   "source": [
    "Возможно, мы недостаточно хорошо разбираемся в гендерах и значение корректное, но, перед тем как принять решение об исправлении, будем считать значение неопределенным. На ответы на вопросы исследования значение не влияет. На случай замены значения в строке с индексом 10701 создам действие с методом replace()."
   ]
  },
  {
   "cell_type": "code",
   "execution_count": 35,
   "metadata": {},
   "outputs": [],
   "source": [
    "## На случай замены значения в строке с индексом 10701 ##\n",
    "\n",
    "#df.loc[df['gender'] == 'M']['gender'].count() # 7280 значений Мale.\n",
    "#df.loc[df['gender'] == 'F']['gender'].count() # 14174 значений Female.\n",
    "\n",
    "#df['gender'] = df['gender'].replace('XNA', 'M') # Замена на Мale.\n",
    "#df['gender'] = df['gender'].replace('XNA', 'F') # Замена на Female."
   ]
  },
  {
   "cell_type": "markdown",
   "metadata": {},
   "source": [
    "**Вывод**\n",
    "Мы удалили все явные дубликаты, воспользовавшись методом drop_duplicates(). Мы можем предположить, что дубликаты были созданы ошибочно, при неаккуратном заполнении данных. Также мы обнаружили одно неявное значение 'XNA' в столбце 'gender'."
   ]
  },
  {
   "cell_type": "markdown",
   "metadata": {},
   "source": [
    "### Лемматизация"
   ]
  },
  {
   "cell_type": "markdown",
   "metadata": {},
   "source": [
    "Столбец 'purpose' нужно лемматизировать, так как в нем содержаться похожие друг на друга данные. Создадим отдельный столбец 'lemmas_purpose', в который поместим результаты для дальнейшей категоризации целей.  Создадим функцию, которая будет лемматизировать вводимые данные. "
   ]
  },
  {
   "cell_type": "code",
   "execution_count": 36,
   "metadata": {},
   "outputs": [
    {
     "data": {
      "text/html": [
       "<div>\n",
       "<style scoped>\n",
       "    .dataframe tbody tr th:only-of-type {\n",
       "        vertical-align: middle;\n",
       "    }\n",
       "\n",
       "    .dataframe tbody tr th {\n",
       "        vertical-align: top;\n",
       "    }\n",
       "\n",
       "    .dataframe thead th {\n",
       "        text-align: right;\n",
       "    }\n",
       "</style>\n",
       "<table border=\"1\" class=\"dataframe\">\n",
       "  <thead>\n",
       "    <tr style=\"text-align: right;\">\n",
       "      <th></th>\n",
       "      <th>children</th>\n",
       "      <th>days_employed</th>\n",
       "      <th>dob_years</th>\n",
       "      <th>education</th>\n",
       "      <th>education_id</th>\n",
       "      <th>family_status</th>\n",
       "      <th>family_status_id</th>\n",
       "      <th>gender</th>\n",
       "      <th>income_type</th>\n",
       "      <th>debt</th>\n",
       "      <th>income_total</th>\n",
       "      <th>purpose</th>\n",
       "      <th>lemmas_purpose</th>\n",
       "    </tr>\n",
       "  </thead>\n",
       "  <tbody>\n",
       "    <tr>\n",
       "      <th>0</th>\n",
       "      <td>1</td>\n",
       "      <td>8437</td>\n",
       "      <td>42</td>\n",
       "      <td>высшее</td>\n",
       "      <td>0</td>\n",
       "      <td>женат / замужем</td>\n",
       "      <td>0</td>\n",
       "      <td>F</td>\n",
       "      <td>сотрудник</td>\n",
       "      <td>0</td>\n",
       "      <td>253875</td>\n",
       "      <td>покупка жилья</td>\n",
       "      <td>[покупка,  , жилье, \\n]</td>\n",
       "    </tr>\n",
       "    <tr>\n",
       "      <th>1</th>\n",
       "      <td>1</td>\n",
       "      <td>4024</td>\n",
       "      <td>36</td>\n",
       "      <td>среднее</td>\n",
       "      <td>1</td>\n",
       "      <td>женат / замужем</td>\n",
       "      <td>0</td>\n",
       "      <td>F</td>\n",
       "      <td>сотрудник</td>\n",
       "      <td>0</td>\n",
       "      <td>112080</td>\n",
       "      <td>приобретение автомобиля</td>\n",
       "      <td>[приобретение,  , автомобиль, \\n]</td>\n",
       "    </tr>\n",
       "    <tr>\n",
       "      <th>2</th>\n",
       "      <td>0</td>\n",
       "      <td>5623</td>\n",
       "      <td>33</td>\n",
       "      <td>среднее</td>\n",
       "      <td>1</td>\n",
       "      <td>женат / замужем</td>\n",
       "      <td>0</td>\n",
       "      <td>M</td>\n",
       "      <td>сотрудник</td>\n",
       "      <td>0</td>\n",
       "      <td>145885</td>\n",
       "      <td>покупка жилья</td>\n",
       "      <td>[покупка,  , жилье, \\n]</td>\n",
       "    </tr>\n",
       "    <tr>\n",
       "      <th>3</th>\n",
       "      <td>3</td>\n",
       "      <td>4124</td>\n",
       "      <td>32</td>\n",
       "      <td>среднее</td>\n",
       "      <td>1</td>\n",
       "      <td>женат / замужем</td>\n",
       "      <td>0</td>\n",
       "      <td>M</td>\n",
       "      <td>сотрудник</td>\n",
       "      <td>0</td>\n",
       "      <td>267628</td>\n",
       "      <td>дополнительное образование</td>\n",
       "      <td>[дополнительный,  , образование, \\n]</td>\n",
       "    </tr>\n",
       "    <tr>\n",
       "      <th>4</th>\n",
       "      <td>0</td>\n",
       "      <td>340266</td>\n",
       "      <td>53</td>\n",
       "      <td>среднее</td>\n",
       "      <td>1</td>\n",
       "      <td>гражданский брак</td>\n",
       "      <td>1</td>\n",
       "      <td>F</td>\n",
       "      <td>пенсионер</td>\n",
       "      <td>0</td>\n",
       "      <td>158616</td>\n",
       "      <td>сыграть свадьбу</td>\n",
       "      <td>[сыграть,  , свадьба, \\n]</td>\n",
       "    </tr>\n",
       "    <tr>\n",
       "      <th>5</th>\n",
       "      <td>0</td>\n",
       "      <td>926</td>\n",
       "      <td>27</td>\n",
       "      <td>высшее</td>\n",
       "      <td>0</td>\n",
       "      <td>гражданский брак</td>\n",
       "      <td>1</td>\n",
       "      <td>M</td>\n",
       "      <td>компаньон</td>\n",
       "      <td>0</td>\n",
       "      <td>255763</td>\n",
       "      <td>покупка жилья</td>\n",
       "      <td>[покупка,  , жилье, \\n]</td>\n",
       "    </tr>\n",
       "    <tr>\n",
       "      <th>6</th>\n",
       "      <td>0</td>\n",
       "      <td>2879</td>\n",
       "      <td>43</td>\n",
       "      <td>высшее</td>\n",
       "      <td>0</td>\n",
       "      <td>женат / замужем</td>\n",
       "      <td>0</td>\n",
       "      <td>F</td>\n",
       "      <td>компаньон</td>\n",
       "      <td>0</td>\n",
       "      <td>240525</td>\n",
       "      <td>операции с жильем</td>\n",
       "      <td>[операция,  , с,  , жилье, \\n]</td>\n",
       "    </tr>\n",
       "    <tr>\n",
       "      <th>7</th>\n",
       "      <td>0</td>\n",
       "      <td>152</td>\n",
       "      <td>50</td>\n",
       "      <td>среднее</td>\n",
       "      <td>1</td>\n",
       "      <td>женат / замужем</td>\n",
       "      <td>0</td>\n",
       "      <td>M</td>\n",
       "      <td>сотрудник</td>\n",
       "      <td>0</td>\n",
       "      <td>135823</td>\n",
       "      <td>образование</td>\n",
       "      <td>[образование, \\n]</td>\n",
       "    </tr>\n",
       "    <tr>\n",
       "      <th>8</th>\n",
       "      <td>2</td>\n",
       "      <td>6929</td>\n",
       "      <td>35</td>\n",
       "      <td>высшее</td>\n",
       "      <td>0</td>\n",
       "      <td>гражданский брак</td>\n",
       "      <td>1</td>\n",
       "      <td>F</td>\n",
       "      <td>сотрудник</td>\n",
       "      <td>0</td>\n",
       "      <td>95856</td>\n",
       "      <td>на проведение свадьбы</td>\n",
       "      <td>[на,  , проведение,  , свадьба, \\n]</td>\n",
       "    </tr>\n",
       "    <tr>\n",
       "      <th>9</th>\n",
       "      <td>0</td>\n",
       "      <td>2188</td>\n",
       "      <td>41</td>\n",
       "      <td>среднее</td>\n",
       "      <td>1</td>\n",
       "      <td>женат / замужем</td>\n",
       "      <td>0</td>\n",
       "      <td>M</td>\n",
       "      <td>сотрудник</td>\n",
       "      <td>0</td>\n",
       "      <td>144425</td>\n",
       "      <td>покупка жилья для семьи</td>\n",
       "      <td>[покупка,  , жилье,  , для,  , семья, \\n]</td>\n",
       "    </tr>\n",
       "    <tr>\n",
       "      <th>10</th>\n",
       "      <td>2</td>\n",
       "      <td>4171</td>\n",
       "      <td>36</td>\n",
       "      <td>высшее</td>\n",
       "      <td>0</td>\n",
       "      <td>женат / замужем</td>\n",
       "      <td>0</td>\n",
       "      <td>M</td>\n",
       "      <td>компаньон</td>\n",
       "      <td>0</td>\n",
       "      <td>113943</td>\n",
       "      <td>покупка недвижимости</td>\n",
       "      <td>[покупка,  , недвижимость, \\n]</td>\n",
       "    </tr>\n",
       "    <tr>\n",
       "      <th>11</th>\n",
       "      <td>0</td>\n",
       "      <td>792</td>\n",
       "      <td>40</td>\n",
       "      <td>среднее</td>\n",
       "      <td>1</td>\n",
       "      <td>женат / замужем</td>\n",
       "      <td>0</td>\n",
       "      <td>F</td>\n",
       "      <td>сотрудник</td>\n",
       "      <td>0</td>\n",
       "      <td>77069</td>\n",
       "      <td>покупка коммерческой недвижимости</td>\n",
       "      <td>[покупка,  , коммерческий,  , недвижимость, \\n]</td>\n",
       "    </tr>\n",
       "    <tr>\n",
       "      <th>12</th>\n",
       "      <td>0</td>\n",
       "      <td>365003</td>\n",
       "      <td>65</td>\n",
       "      <td>среднее</td>\n",
       "      <td>1</td>\n",
       "      <td>гражданский брак</td>\n",
       "      <td>1</td>\n",
       "      <td>M</td>\n",
       "      <td>пенсионер</td>\n",
       "      <td>0</td>\n",
       "      <td>137127</td>\n",
       "      <td>сыграть свадьбу</td>\n",
       "      <td>[сыграть,  , свадьба, \\n]</td>\n",
       "    </tr>\n",
       "    <tr>\n",
       "      <th>13</th>\n",
       "      <td>0</td>\n",
       "      <td>1846</td>\n",
       "      <td>54</td>\n",
       "      <td>неоконченное высшее</td>\n",
       "      <td>2</td>\n",
       "      <td>женат / замужем</td>\n",
       "      <td>0</td>\n",
       "      <td>F</td>\n",
       "      <td>сотрудник</td>\n",
       "      <td>0</td>\n",
       "      <td>130458</td>\n",
       "      <td>приобретение автомобиля</td>\n",
       "      <td>[приобретение,  , автомобиль, \\n]</td>\n",
       "    </tr>\n",
       "    <tr>\n",
       "      <th>14</th>\n",
       "      <td>0</td>\n",
       "      <td>1844</td>\n",
       "      <td>56</td>\n",
       "      <td>высшее</td>\n",
       "      <td>0</td>\n",
       "      <td>гражданский брак</td>\n",
       "      <td>1</td>\n",
       "      <td>F</td>\n",
       "      <td>компаньон</td>\n",
       "      <td>1</td>\n",
       "      <td>165127</td>\n",
       "      <td>покупка жилой недвижимости</td>\n",
       "      <td>[покупка,  , жилой,  , недвижимость, \\n]</td>\n",
       "    </tr>\n",
       "  </tbody>\n",
       "</table>\n",
       "</div>"
      ],
      "text/plain": [
       "    children  days_employed  dob_years            education  education_id  \\\n",
       "0          1           8437         42               высшее             0   \n",
       "1          1           4024         36              среднее             1   \n",
       "2          0           5623         33              среднее             1   \n",
       "3          3           4124         32              среднее             1   \n",
       "4          0         340266         53              среднее             1   \n",
       "5          0            926         27               высшее             0   \n",
       "6          0           2879         43               высшее             0   \n",
       "7          0            152         50              среднее             1   \n",
       "8          2           6929         35               высшее             0   \n",
       "9          0           2188         41              среднее             1   \n",
       "10         2           4171         36               высшее             0   \n",
       "11         0            792         40              среднее             1   \n",
       "12         0         365003         65              среднее             1   \n",
       "13         0           1846         54  неоконченное высшее             2   \n",
       "14         0           1844         56               высшее             0   \n",
       "\n",
       "       family_status  family_status_id gender income_type  debt  income_total  \\\n",
       "0    женат / замужем                 0      F   сотрудник     0        253875   \n",
       "1    женат / замужем                 0      F   сотрудник     0        112080   \n",
       "2    женат / замужем                 0      M   сотрудник     0        145885   \n",
       "3    женат / замужем                 0      M   сотрудник     0        267628   \n",
       "4   гражданский брак                 1      F   пенсионер     0        158616   \n",
       "5   гражданский брак                 1      M   компаньон     0        255763   \n",
       "6    женат / замужем                 0      F   компаньон     0        240525   \n",
       "7    женат / замужем                 0      M   сотрудник     0        135823   \n",
       "8   гражданский брак                 1      F   сотрудник     0         95856   \n",
       "9    женат / замужем                 0      M   сотрудник     0        144425   \n",
       "10   женат / замужем                 0      M   компаньон     0        113943   \n",
       "11   женат / замужем                 0      F   сотрудник     0         77069   \n",
       "12  гражданский брак                 1      M   пенсионер     0        137127   \n",
       "13   женат / замужем                 0      F   сотрудник     0        130458   \n",
       "14  гражданский брак                 1      F   компаньон     1        165127   \n",
       "\n",
       "                              purpose  \\\n",
       "0                       покупка жилья   \n",
       "1             приобретение автомобиля   \n",
       "2                       покупка жилья   \n",
       "3          дополнительное образование   \n",
       "4                     сыграть свадьбу   \n",
       "5                       покупка жилья   \n",
       "6                   операции с жильем   \n",
       "7                         образование   \n",
       "8               на проведение свадьбы   \n",
       "9             покупка жилья для семьи   \n",
       "10               покупка недвижимости   \n",
       "11  покупка коммерческой недвижимости   \n",
       "12                    сыграть свадьбу   \n",
       "13            приобретение автомобиля   \n",
       "14         покупка жилой недвижимости   \n",
       "\n",
       "                                     lemmas_purpose  \n",
       "0                           [покупка,  , жилье, \\n]  \n",
       "1                 [приобретение,  , автомобиль, \\n]  \n",
       "2                           [покупка,  , жилье, \\n]  \n",
       "3              [дополнительный,  , образование, \\n]  \n",
       "4                         [сыграть,  , свадьба, \\n]  \n",
       "5                           [покупка,  , жилье, \\n]  \n",
       "6                    [операция,  , с,  , жилье, \\n]  \n",
       "7                                 [образование, \\n]  \n",
       "8               [на,  , проведение,  , свадьба, \\n]  \n",
       "9         [покупка,  , жилье,  , для,  , семья, \\n]  \n",
       "10                   [покупка,  , недвижимость, \\n]  \n",
       "11  [покупка,  , коммерческий,  , недвижимость, \\n]  \n",
       "12                        [сыграть,  , свадьба, \\n]  \n",
       "13                [приобретение,  , автомобиль, \\n]  \n",
       "14         [покупка,  , жилой,  , недвижимость, \\n]  "
      ]
     },
     "execution_count": 36,
     "metadata": {},
     "output_type": "execute_result"
    }
   ],
   "source": [
    "# Обозначили Mystem в переменной 'm'.\n",
    "m = Mystem()\n",
    "\n",
    "# Лемматизировали методом 'lemmatize' столбец и создали новый.\n",
    "df['lemmas_purpose'] = df['purpose'].apply(m.lemmatize)\n",
    "# Выводим первые 15 строк таблицы\n",
    "df.head(15)\n"
   ]
  },
  {
   "cell_type": "markdown",
   "metadata": {},
   "source": [
    "**Вывод**"
   ]
  },
  {
   "cell_type": "markdown",
   "metadata": {},
   "source": [
    "Мы произвели лемматизацию при помощи специальной функции. Создали отдельный столбец с ключевыми словами. Теперь можно перейти к категоризации данных."
   ]
  },
  {
   "cell_type": "markdown",
   "metadata": {},
   "source": [
    "### Категоризация данных"
   ]
  },
  {
   "cell_type": "markdown",
   "metadata": {},
   "source": [
    "Проведем категоризацию клиентов. Преобразуем столбец 'lemmas_purpouse', убрав из него предлоги, стоп значения и тд. \n",
    "Будем категоризировать возраст 'dob_years', доход 'total_income', и столбец 'purpose'. Категории 'purpose' в соответствии с леммами из столбца 'lemmas_purpose': свадьба, автомобиль, недвижимость, образование. Категории для дохода: низкий, средний, выше среднего, высокий, очень высокий. Здесь мы применяем личную оценку, на основе данных по df.discribe.round() которую в дальнейшем можно будет скорректировать. Категории для возраста: младше 30 , от 31 до 55 включительно , больше 56  включительно. Данные категории мы обозначим в таком виде, чтобы избежать эйджизма.\n",
    "Для того, чтобы категоризовать данные, мы создадим собственные функции для каждого столбца. "
   ]
  },
  {
   "cell_type": "code",
   "execution_count": 37,
   "metadata": {},
   "outputs": [
    {
     "data": {
      "text/plain": [
       "[автомобиль, \\n]                                          972\n",
       "[свадьба, \\n]                                             791\n",
       "[на,  , проведение,  , свадьба, \\n]                       768\n",
       "[сыграть,  , свадьба, \\n]                                 765\n",
       "[операция,  , с,  , недвижимость, \\n]                     675\n",
       "[покупка,  , коммерческий,  , недвижимость, \\n]           661\n",
       "[операция,  , с,  , жилье, \\n]                            652\n",
       "[покупка,  , жилье,  , для,  , сдача, \\n]                 651\n",
       "[операция,  , с,  , коммерческий,  , недвижимость, \\n]    650\n",
       "[покупка,  , жилье, \\n]                                   646\n",
       "[жилье, \\n]                                               646\n",
       "[покупка,  , жилье,  , для,  , семья, \\n]                 638\n",
       "[строительство,  , собственный,  , недвижимость, \\n]      635\n",
       "[недвижимость, \\n]                                        633\n",
       "[операция,  , со,  , свой,  , недвижимость, \\n]           627\n",
       "[строительство,  , жилой,  , недвижимость, \\n]            624\n",
       "[покупка,  , недвижимость, \\n]                            621\n",
       "[покупка,  , свой,  , жилье, \\n]                          620\n",
       "[строительство,  , недвижимость, \\n]                      619\n",
       "[ремонт,  , жилье, \\n]                                    607\n",
       "[покупка,  , жилой,  , недвижимость, \\n]                  606\n",
       "[на,  , покупка,  , свой,  , автомобиль, \\n]              505\n",
       "[заниматься,  , высокий,  , образование, \\n]              496\n",
       "[сделка,  , с,  , подержанный,  , автомобиль, \\n]         486\n",
       "[на,  , покупка,  , подержать,  , автомобиль, \\n]         478\n",
       "[свой,  , автомобиль, \\n]                                 478\n",
       "[на,  , покупка,  , автомобиль, \\n]                       471\n",
       "[приобретение,  , автомобиль, \\n]                         461\n",
       "[дополнительный,  , образование, \\n]                      460\n",
       "[сделка,  , с,  , автомобиль, \\n]                         455\n",
       "[высокий,  , образование, \\n]                             452\n",
       "[образование, \\n]                                         447\n",
       "[получение,  , дополнительный,  , образование, \\n]        446\n",
       "[получение,  , образование, \\n]                           442\n",
       "[профильный,  , образование, \\n]                          436\n",
       "[получение,  , высокий,  , образование, \\n]               426\n",
       "[заниматься,  , образование, \\n]                          408\n",
       "Name: lemmas_purpose, dtype: int64"
      ]
     },
     "execution_count": 37,
     "metadata": {},
     "output_type": "execute_result"
    }
   ],
   "source": [
    "# Посмотрим на все значения 'lemmas_purpose'.\n",
    "df['lemmas_purpose'].value_counts()\n"
   ]
  },
  {
   "cell_type": "code",
   "execution_count": 38,
   "metadata": {},
   "outputs": [
    {
     "data": {
      "text/html": [
       "<div>\n",
       "<style scoped>\n",
       "    .dataframe tbody tr th:only-of-type {\n",
       "        vertical-align: middle;\n",
       "    }\n",
       "\n",
       "    .dataframe tbody tr th {\n",
       "        vertical-align: top;\n",
       "    }\n",
       "\n",
       "    .dataframe thead th {\n",
       "        text-align: right;\n",
       "    }\n",
       "</style>\n",
       "<table border=\"1\" class=\"dataframe\">\n",
       "  <thead>\n",
       "    <tr style=\"text-align: right;\">\n",
       "      <th></th>\n",
       "      <th>children</th>\n",
       "      <th>days_employed</th>\n",
       "      <th>dob_years</th>\n",
       "      <th>education</th>\n",
       "      <th>education_id</th>\n",
       "      <th>family_status</th>\n",
       "      <th>family_status_id</th>\n",
       "      <th>gender</th>\n",
       "      <th>income_type</th>\n",
       "      <th>debt</th>\n",
       "      <th>income_total</th>\n",
       "      <th>purpose</th>\n",
       "      <th>lemmas_purpose</th>\n",
       "      <th>purpose_category</th>\n",
       "      <th>income_total_category</th>\n",
       "      <th>dob_years_category</th>\n",
       "    </tr>\n",
       "  </thead>\n",
       "  <tbody>\n",
       "    <tr>\n",
       "      <th>0</th>\n",
       "      <td>1</td>\n",
       "      <td>8437</td>\n",
       "      <td>42</td>\n",
       "      <td>высшее</td>\n",
       "      <td>0</td>\n",
       "      <td>женат / замужем</td>\n",
       "      <td>0</td>\n",
       "      <td>F</td>\n",
       "      <td>сотрудник</td>\n",
       "      <td>0</td>\n",
       "      <td>253875</td>\n",
       "      <td>покупка жилья</td>\n",
       "      <td>[покупка,  , жилье, \\n]</td>\n",
       "      <td>недвижимость</td>\n",
       "      <td>очень высокий</td>\n",
       "      <td>от 31 до 55 включительно</td>\n",
       "    </tr>\n",
       "    <tr>\n",
       "      <th>1</th>\n",
       "      <td>1</td>\n",
       "      <td>4024</td>\n",
       "      <td>36</td>\n",
       "      <td>среднее</td>\n",
       "      <td>1</td>\n",
       "      <td>женат / замужем</td>\n",
       "      <td>0</td>\n",
       "      <td>F</td>\n",
       "      <td>сотрудник</td>\n",
       "      <td>0</td>\n",
       "      <td>112080</td>\n",
       "      <td>приобретение автомобиля</td>\n",
       "      <td>[приобретение,  , автомобиль, \\n]</td>\n",
       "      <td>автомобиль</td>\n",
       "      <td>выше среднего</td>\n",
       "      <td>от 31 до 55 включительно</td>\n",
       "    </tr>\n",
       "    <tr>\n",
       "      <th>2</th>\n",
       "      <td>0</td>\n",
       "      <td>5623</td>\n",
       "      <td>33</td>\n",
       "      <td>среднее</td>\n",
       "      <td>1</td>\n",
       "      <td>женат / замужем</td>\n",
       "      <td>0</td>\n",
       "      <td>M</td>\n",
       "      <td>сотрудник</td>\n",
       "      <td>0</td>\n",
       "      <td>145885</td>\n",
       "      <td>покупка жилья</td>\n",
       "      <td>[покупка,  , жилье, \\n]</td>\n",
       "      <td>недвижимость</td>\n",
       "      <td>выше среднего</td>\n",
       "      <td>от 31 до 55 включительно</td>\n",
       "    </tr>\n",
       "    <tr>\n",
       "      <th>3</th>\n",
       "      <td>3</td>\n",
       "      <td>4124</td>\n",
       "      <td>32</td>\n",
       "      <td>среднее</td>\n",
       "      <td>1</td>\n",
       "      <td>женат / замужем</td>\n",
       "      <td>0</td>\n",
       "      <td>M</td>\n",
       "      <td>сотрудник</td>\n",
       "      <td>0</td>\n",
       "      <td>267628</td>\n",
       "      <td>дополнительное образование</td>\n",
       "      <td>[дополнительный,  , образование, \\n]</td>\n",
       "      <td>образование</td>\n",
       "      <td>очень высокий</td>\n",
       "      <td>от 31 до 55 включительно</td>\n",
       "    </tr>\n",
       "    <tr>\n",
       "      <th>4</th>\n",
       "      <td>0</td>\n",
       "      <td>340266</td>\n",
       "      <td>53</td>\n",
       "      <td>среднее</td>\n",
       "      <td>1</td>\n",
       "      <td>гражданский брак</td>\n",
       "      <td>1</td>\n",
       "      <td>F</td>\n",
       "      <td>пенсионер</td>\n",
       "      <td>0</td>\n",
       "      <td>158616</td>\n",
       "      <td>сыграть свадьбу</td>\n",
       "      <td>[сыграть,  , свадьба, \\n]</td>\n",
       "      <td>свадьба</td>\n",
       "      <td>выскокий</td>\n",
       "      <td>от 31 до 55 включительно</td>\n",
       "    </tr>\n",
       "    <tr>\n",
       "      <th>...</th>\n",
       "      <td>...</td>\n",
       "      <td>...</td>\n",
       "      <td>...</td>\n",
       "      <td>...</td>\n",
       "      <td>...</td>\n",
       "      <td>...</td>\n",
       "      <td>...</td>\n",
       "      <td>...</td>\n",
       "      <td>...</td>\n",
       "      <td>...</td>\n",
       "      <td>...</td>\n",
       "      <td>...</td>\n",
       "      <td>...</td>\n",
       "      <td>...</td>\n",
       "      <td>...</td>\n",
       "      <td>...</td>\n",
       "    </tr>\n",
       "    <tr>\n",
       "      <th>21520</th>\n",
       "      <td>1</td>\n",
       "      <td>4529</td>\n",
       "      <td>43</td>\n",
       "      <td>среднее</td>\n",
       "      <td>1</td>\n",
       "      <td>гражданский брак</td>\n",
       "      <td>1</td>\n",
       "      <td>F</td>\n",
       "      <td>компаньон</td>\n",
       "      <td>0</td>\n",
       "      <td>224791</td>\n",
       "      <td>операции с жильем</td>\n",
       "      <td>[операция,  , с,  , жилье, \\n]</td>\n",
       "      <td>недвижимость</td>\n",
       "      <td>очень высокий</td>\n",
       "      <td>от 31 до 55 включительно</td>\n",
       "    </tr>\n",
       "    <tr>\n",
       "      <th>21521</th>\n",
       "      <td>0</td>\n",
       "      <td>343937</td>\n",
       "      <td>67</td>\n",
       "      <td>среднее</td>\n",
       "      <td>1</td>\n",
       "      <td>женат / замужем</td>\n",
       "      <td>0</td>\n",
       "      <td>F</td>\n",
       "      <td>пенсионер</td>\n",
       "      <td>0</td>\n",
       "      <td>155999</td>\n",
       "      <td>сделка с автомобилем</td>\n",
       "      <td>[сделка,  , с,  , автомобиль, \\n]</td>\n",
       "      <td>автомобиль</td>\n",
       "      <td>выше среднего</td>\n",
       "      <td>больше 56 включительно</td>\n",
       "    </tr>\n",
       "    <tr>\n",
       "      <th>21522</th>\n",
       "      <td>1</td>\n",
       "      <td>2113</td>\n",
       "      <td>38</td>\n",
       "      <td>среднее</td>\n",
       "      <td>1</td>\n",
       "      <td>гражданский брак</td>\n",
       "      <td>1</td>\n",
       "      <td>M</td>\n",
       "      <td>сотрудник</td>\n",
       "      <td>1</td>\n",
       "      <td>89672</td>\n",
       "      <td>недвижимость</td>\n",
       "      <td>[недвижимость, \\n]</td>\n",
       "      <td>недвижимость</td>\n",
       "      <td>средний</td>\n",
       "      <td>от 31 до 55 включительно</td>\n",
       "    </tr>\n",
       "    <tr>\n",
       "      <th>21523</th>\n",
       "      <td>3</td>\n",
       "      <td>3112</td>\n",
       "      <td>38</td>\n",
       "      <td>среднее</td>\n",
       "      <td>1</td>\n",
       "      <td>женат / замужем</td>\n",
       "      <td>0</td>\n",
       "      <td>M</td>\n",
       "      <td>сотрудник</td>\n",
       "      <td>1</td>\n",
       "      <td>244093</td>\n",
       "      <td>на покупку своего автомобиля</td>\n",
       "      <td>[на,  , покупка,  , свой,  , автомобиль, \\n]</td>\n",
       "      <td>автомобиль</td>\n",
       "      <td>очень высокий</td>\n",
       "      <td>от 31 до 55 включительно</td>\n",
       "    </tr>\n",
       "    <tr>\n",
       "      <th>21524</th>\n",
       "      <td>2</td>\n",
       "      <td>1984</td>\n",
       "      <td>40</td>\n",
       "      <td>среднее</td>\n",
       "      <td>1</td>\n",
       "      <td>женат / замужем</td>\n",
       "      <td>0</td>\n",
       "      <td>F</td>\n",
       "      <td>сотрудник</td>\n",
       "      <td>0</td>\n",
       "      <td>82047</td>\n",
       "      <td>на покупку автомобиля</td>\n",
       "      <td>[на,  , покупка,  , автомобиль, \\n]</td>\n",
       "      <td>автомобиль</td>\n",
       "      <td>средний</td>\n",
       "      <td>от 31 до 55 включительно</td>\n",
       "    </tr>\n",
       "  </tbody>\n",
       "</table>\n",
       "<p>21454 rows × 16 columns</p>\n",
       "</div>"
      ],
      "text/plain": [
       "       children  days_employed  dob_years education  education_id  \\\n",
       "0             1           8437         42    высшее             0   \n",
       "1             1           4024         36   среднее             1   \n",
       "2             0           5623         33   среднее             1   \n",
       "3             3           4124         32   среднее             1   \n",
       "4             0         340266         53   среднее             1   \n",
       "...         ...            ...        ...       ...           ...   \n",
       "21520         1           4529         43   среднее             1   \n",
       "21521         0         343937         67   среднее             1   \n",
       "21522         1           2113         38   среднее             1   \n",
       "21523         3           3112         38   среднее             1   \n",
       "21524         2           1984         40   среднее             1   \n",
       "\n",
       "          family_status  family_status_id gender income_type  debt  \\\n",
       "0       женат / замужем                 0      F   сотрудник     0   \n",
       "1       женат / замужем                 0      F   сотрудник     0   \n",
       "2       женат / замужем                 0      M   сотрудник     0   \n",
       "3       женат / замужем                 0      M   сотрудник     0   \n",
       "4      гражданский брак                 1      F   пенсионер     0   \n",
       "...                 ...               ...    ...         ...   ...   \n",
       "21520  гражданский брак                 1      F   компаньон     0   \n",
       "21521   женат / замужем                 0      F   пенсионер     0   \n",
       "21522  гражданский брак                 1      M   сотрудник     1   \n",
       "21523   женат / замужем                 0      M   сотрудник     1   \n",
       "21524   женат / замужем                 0      F   сотрудник     0   \n",
       "\n",
       "       income_total                       purpose  \\\n",
       "0            253875                 покупка жилья   \n",
       "1            112080       приобретение автомобиля   \n",
       "2            145885                 покупка жилья   \n",
       "3            267628    дополнительное образование   \n",
       "4            158616               сыграть свадьбу   \n",
       "...             ...                           ...   \n",
       "21520        224791             операции с жильем   \n",
       "21521        155999          сделка с автомобилем   \n",
       "21522         89672                  недвижимость   \n",
       "21523        244093  на покупку своего автомобиля   \n",
       "21524         82047         на покупку автомобиля   \n",
       "\n",
       "                                     lemmas_purpose purpose_category  \\\n",
       "0                           [покупка,  , жилье, \\n]     недвижимость   \n",
       "1                 [приобретение,  , автомобиль, \\n]       автомобиль   \n",
       "2                           [покупка,  , жилье, \\n]     недвижимость   \n",
       "3              [дополнительный,  , образование, \\n]      образование   \n",
       "4                         [сыграть,  , свадьба, \\n]          свадьба   \n",
       "...                                             ...              ...   \n",
       "21520                [операция,  , с,  , жилье, \\n]     недвижимость   \n",
       "21521             [сделка,  , с,  , автомобиль, \\n]       автомобиль   \n",
       "21522                            [недвижимость, \\n]     недвижимость   \n",
       "21523  [на,  , покупка,  , свой,  , автомобиль, \\n]       автомобиль   \n",
       "21524           [на,  , покупка,  , автомобиль, \\n]       автомобиль   \n",
       "\n",
       "      income_total_category        dob_years_category  \n",
       "0             очень высокий  от 31 до 55 включительно  \n",
       "1             выше среднего  от 31 до 55 включительно  \n",
       "2             выше среднего  от 31 до 55 включительно  \n",
       "3             очень высокий  от 31 до 55 включительно  \n",
       "4                  выскокий  от 31 до 55 включительно  \n",
       "...                     ...                       ...  \n",
       "21520         очень высокий  от 31 до 55 включительно  \n",
       "21521         выше среднего    больше 56 включительно  \n",
       "21522               средний  от 31 до 55 включительно  \n",
       "21523         очень высокий  от 31 до 55 включительно  \n",
       "21524               средний  от 31 до 55 включительно  \n",
       "\n",
       "[21454 rows x 16 columns]"
      ]
     },
     "execution_count": 38,
     "metadata": {},
     "output_type": "execute_result"
    }
   ],
   "source": [
    "# Функция для категорий стобца 'purpose'.\n",
    "def purpose_cat(purpose_category):\n",
    "    if 'свадьба' in purpose_category:\n",
    "        return 'свадьба'\n",
    "    elif 'автомобиль' in purpose_category:\n",
    "        return 'автомобиль'\n",
    "    elif 'недвижимость' in purpose_category:\n",
    "        return'недвижимость'\n",
    "    elif 'образование' in purpose_category:\n",
    "        return 'образование'\n",
    "    else:\n",
    "        return 'недвижимость'\n",
    "# Функция для категорий столбца 'dob_years'.\n",
    "def dob_years_cat(age):\n",
    "    if age <= 30:\n",
    "        return 'младше 30'\n",
    "    if age >= 31 and age <=55:\n",
    "        return 'от 31 до 55 включительно'\n",
    "    if age >= 56:\n",
    "        return 'больше 56 включительно'\n",
    "# Функция для категории столбца 'total_income'.\n",
    "def income_total_cat (total_salary):\n",
    "    if total_salary >= 20677 and total_salary <= 64145:\n",
    "        return 'низкий'\n",
    "    if total_salary > 64145 and total_salary <= 107623:\n",
    "        return 'средний'\n",
    "    if total_salary > 107623 and total_salary <= 156044:\n",
    "        return 'выше среднего'\n",
    "    if total_salary > 156044 and total_salary <= 195813:\n",
    "        return 'выскокий'\n",
    "    if total_salary >= 195813:\n",
    "        return 'очень высокий'\n",
    "# Последовательно применяем наши функции к данным внутри табицы 'df'.\n",
    "df['purpose_category'] = df['lemmas_purpose'].apply(purpose_cat)\n",
    "df['income_total_category'] = df['income_total'].apply(income_total_cat)\n",
    "df['dob_years_category'] = df['dob_years'].apply(dob_years_cat)\n",
    "# Выводим таблицу 'df' после создания категорий.\n",
    "df"
   ]
  },
  {
   "cell_type": "markdown",
   "metadata": {},
   "source": [
    "**Вывод**"
   ]
  },
  {
   "cell_type": "markdown",
   "metadata": {},
   "source": [
    "Мы получили новые столбцы с категориями заёмщиков. Каждая из категорий помогает лучше вопринимать данные внутри таблицы. Эти категории помогут бизнесу проще разбираться в своих клиентах. Категории возраста могут помочь нам предположить уровень ответственности клиента, категории дохода определят состоятельность. Категория причины займа обобщает клиентов. Теперь можно перейти к ответам на вопросы исследования. "
   ]
  },
  {
   "cell_type": "code",
   "execution_count": 39,
   "metadata": {},
   "outputs": [
    {
     "data": {
      "text/plain": [
       "очень высокий    5866\n",
       "выше среднего    5749\n",
       "выскокий         4475\n",
       "средний          4323\n",
       "низкий           1040\n",
       "Name: income_total_category, dtype: int64"
      ]
     },
     "execution_count": 39,
     "metadata": {},
     "output_type": "execute_result"
    }
   ],
   "source": [
    "df['income_total_category'].value_counts()"
   ]
  },
  {
   "cell_type": "markdown",
   "metadata": {},
   "source": [
    "## Шаг 3. Ответим на вопросы"
   ]
  },
  {
   "cell_type": "markdown",
   "metadata": {},
   "source": [
    "- Есть ли зависимость между наличием детей и возвратом кредита в срок?"
   ]
  },
  {
   "cell_type": "markdown",
   "metadata": {},
   "source": [
    "Создадим pivot table с тремя столбцами. В первом будет количество детей, во втором будет количество заемщиков, в третьем будет процент возвратности кредита. Расположим даные в порядке убывания. Таким образом получим 'топ' по зависимости количества детей и возвратности. Чтобы упростить восприятия информации внутри таблицы, напишем функцию, которая будет переводить данные в процентах в удобный вид."
   ]
  },
  {
   "cell_type": "code",
   "execution_count": 40,
   "metadata": {},
   "outputs": [
    {
     "data": {
      "text/html": [
       "<div>\n",
       "<style scoped>\n",
       "    .dataframe tbody tr th:only-of-type {\n",
       "        vertical-align: middle;\n",
       "    }\n",
       "\n",
       "    .dataframe tbody tr th {\n",
       "        vertical-align: top;\n",
       "    }\n",
       "\n",
       "    .dataframe thead th {\n",
       "        text-align: right;\n",
       "    }\n",
       "</style>\n",
       "<table border=\"1\" class=\"dataframe\">\n",
       "  <thead>\n",
       "    <tr style=\"text-align: right;\">\n",
       "      <th></th>\n",
       "      <th></th>\n",
       "      <th>number of entries</th>\n",
       "      <th>average</th>\n",
       "      <th>debt_average</th>\n",
       "    </tr>\n",
       "    <tr>\n",
       "      <th>children</th>\n",
       "      <th>dob_years_category</th>\n",
       "      <th></th>\n",
       "      <th></th>\n",
       "      <th></th>\n",
       "    </tr>\n",
       "  </thead>\n",
       "  <tbody>\n",
       "    <tr>\n",
       "      <th rowspan=\"2\" valign=\"top\">0</th>\n",
       "      <th>от 31 до 55 включительно</th>\n",
       "      <td>7953</td>\n",
       "      <td>7.64%</td>\n",
       "      <td>8.12%</td>\n",
       "    </tr>\n",
       "    <tr>\n",
       "      <th>больше 56 включительно</th>\n",
       "      <td>4032</td>\n",
       "      <td>5.51%</td>\n",
       "      <td>8.12%</td>\n",
       "    </tr>\n",
       "    <tr>\n",
       "      <th>1</th>\n",
       "      <th>от 31 до 55 включительно</th>\n",
       "      <td>3467</td>\n",
       "      <td>9.06%</td>\n",
       "      <td>8.12%</td>\n",
       "    </tr>\n",
       "    <tr>\n",
       "      <th>0</th>\n",
       "      <th>младше 30</th>\n",
       "      <td>2153</td>\n",
       "      <td>10.87%</td>\n",
       "      <td>8.12%</td>\n",
       "    </tr>\n",
       "    <tr>\n",
       "      <th>2</th>\n",
       "      <th>от 31 до 55 включительно</th>\n",
       "      <td>1641</td>\n",
       "      <td>9.02%</td>\n",
       "      <td>8.12%</td>\n",
       "    </tr>\n",
       "    <tr>\n",
       "      <th>1</th>\n",
       "      <th>младше 30</th>\n",
       "      <td>1055</td>\n",
       "      <td>10.81%</td>\n",
       "      <td>8.12%</td>\n",
       "    </tr>\n",
       "    <tr>\n",
       "      <th>2</th>\n",
       "      <th>младше 30</th>\n",
       "      <td>453</td>\n",
       "      <td>11.26%</td>\n",
       "      <td>8.12%</td>\n",
       "    </tr>\n",
       "    <tr>\n",
       "      <th>1</th>\n",
       "      <th>больше 56 включительно</th>\n",
       "      <td>286</td>\n",
       "      <td>5.59%</td>\n",
       "      <td>8.12%</td>\n",
       "    </tr>\n",
       "    <tr>\n",
       "      <th rowspan=\"2\" valign=\"top\">3</th>\n",
       "      <th>от 31 до 55 включительно</th>\n",
       "      <td>277</td>\n",
       "      <td>8.66%</td>\n",
       "      <td>8.12%</td>\n",
       "    </tr>\n",
       "    <tr>\n",
       "      <th>младше 30</th>\n",
       "      <td>50</td>\n",
       "      <td>6.00%</td>\n",
       "      <td>8.12%</td>\n",
       "    </tr>\n",
       "    <tr>\n",
       "      <th>4</th>\n",
       "      <th>от 31 до 55 включительно</th>\n",
       "      <td>35</td>\n",
       "      <td>8.57%</td>\n",
       "      <td>8.12%</td>\n",
       "    </tr>\n",
       "    <tr>\n",
       "      <th>2</th>\n",
       "      <th>больше 56 включительно</th>\n",
       "      <td>34</td>\n",
       "      <td>8.82%</td>\n",
       "      <td>8.12%</td>\n",
       "    </tr>\n",
       "    <tr>\n",
       "      <th>5</th>\n",
       "      <th>от 31 до 55 включительно</th>\n",
       "      <td>8</td>\n",
       "      <td>0.00%</td>\n",
       "      <td>8.12%</td>\n",
       "    </tr>\n",
       "    <tr>\n",
       "      <th>4</th>\n",
       "      <th>младше 30</th>\n",
       "      <td>6</td>\n",
       "      <td>16.67%</td>\n",
       "      <td>8.12%</td>\n",
       "    </tr>\n",
       "    <tr>\n",
       "      <th>3</th>\n",
       "      <th>больше 56 включительно</th>\n",
       "      <td>3</td>\n",
       "      <td>0.00%</td>\n",
       "      <td>8.12%</td>\n",
       "    </tr>\n",
       "    <tr>\n",
       "      <th>5</th>\n",
       "      <th>больше 56 включительно</th>\n",
       "      <td>1</td>\n",
       "      <td>0.00%</td>\n",
       "      <td>8.12%</td>\n",
       "    </tr>\n",
       "  </tbody>\n",
       "</table>\n",
       "</div>"
      ],
      "text/plain": [
       "                                   number of entries average debt_average\n",
       "children dob_years_category                                              \n",
       "0        от 31 до 55 включительно               7953   7.64%        8.12%\n",
       "         больше 56 включительно                 4032   5.51%        8.12%\n",
       "1        от 31 до 55 включительно               3467   9.06%        8.12%\n",
       "0        младше 30                              2153  10.87%        8.12%\n",
       "2        от 31 до 55 включительно               1641   9.02%        8.12%\n",
       "1        младше 30                              1055  10.81%        8.12%\n",
       "2        младше 30                               453  11.26%        8.12%\n",
       "1        больше 56 включительно                  286   5.59%        8.12%\n",
       "3        от 31 до 55 включительно                277   8.66%        8.12%\n",
       "         младше 30                                50   6.00%        8.12%\n",
       "4        от 31 до 55 включительно                 35   8.57%        8.12%\n",
       "2        больше 56 включительно                   34   8.82%        8.12%\n",
       "5        от 31 до 55 включительно                  8   0.00%        8.12%\n",
       "4        младше 30                                 6  16.67%        8.12%\n",
       "3        больше 56 включительно                    3   0.00%        8.12%\n",
       "5        больше 56 включительно                    1   0.00%        8.12%"
      ]
     },
     "execution_count": 40,
     "metadata": {},
     "output_type": "execute_result"
    }
   ],
   "source": [
    "# Создаём таблицу с данными.\n",
    "children_statistic = df.pivot_table(index = ['children','dob_years_category'], values = 'debt', aggfunc = ('mean', lambda X: X.count()))\n",
    "\n",
    "# Создаём функцию для отображения процентов.\n",
    "#def percentation(number):\n",
    "    #return \"{0:.2%}\".format(number)\n",
    "\n",
    "# Создаёем столбец 'debt_average' со средним значением по столбцу 'debt' и приводим его к процентам.\n",
    "children_statistic['debt_average'] = df['debt'].mean()\n",
    "children_statistic['debt_average'] = children_statistic['debt_average'].map('{0:.2%}'.format)\n",
    "# Приводим к процентам\n",
    "children_statistic['mean'] = children_statistic['mean'].map('{0:.2%}'.format)\n",
    "# Меняем названия столбцов для удобства восприятия \n",
    "children_statistic = children_statistic.rename(columns ={\"<lambda_0>\":\"number of entries\", \"mean\":\"average\"})\n",
    "# Выводим данные в порядке убывания\n",
    "children_statistic.sort_values(by = \"number of entries\", ascending = False)"
   ]
  },
  {
   "cell_type": "markdown",
   "metadata": {},
   "source": [
    "**Вывод**"
   ]
  },
  {
   "cell_type": "markdown",
   "metadata": {},
   "source": [
    "Клиенты, берущие кредит возрастом больше 56 включительно без детей, являются самыми ответственными плательщиками (5.51%). Самыми безответственными явлляются клиенты младше 30 с 4 детьми. "
   ]
  },
  {
   "cell_type": "markdown",
   "metadata": {},
   "source": [
    "- Есть ли зависимость между семейным положением и возвратом кредита в срок?"
   ]
  },
  {
   "cell_type": "markdown",
   "metadata": {},
   "source": [
    "Чтобы ответить на этот вопрос, снова создадим таблицу. На этот раз мы внесем в неё данные из столбца 'family_status'. Принцип структуры таблицы не изменится. Посчитаем среднее значение возвращения кредита среди групп клиентов по семейному положению. "
   ]
  },
  {
   "cell_type": "code",
   "execution_count": 41,
   "metadata": {},
   "outputs": [
    {
     "data": {
      "text/html": [
       "<div>\n",
       "<style scoped>\n",
       "    .dataframe tbody tr th:only-of-type {\n",
       "        vertical-align: middle;\n",
       "    }\n",
       "\n",
       "    .dataframe tbody tr th {\n",
       "        vertical-align: top;\n",
       "    }\n",
       "\n",
       "    .dataframe thead th {\n",
       "        text-align: right;\n",
       "    }\n",
       "</style>\n",
       "<table border=\"1\" class=\"dataframe\">\n",
       "  <thead>\n",
       "    <tr style=\"text-align: right;\">\n",
       "      <th></th>\n",
       "      <th></th>\n",
       "      <th>number of entries</th>\n",
       "      <th>average</th>\n",
       "      <th>debt_average</th>\n",
       "    </tr>\n",
       "    <tr>\n",
       "      <th>family_status</th>\n",
       "      <th>dob_years_category</th>\n",
       "      <th></th>\n",
       "      <th></th>\n",
       "      <th></th>\n",
       "    </tr>\n",
       "  </thead>\n",
       "  <tbody>\n",
       "    <tr>\n",
       "      <th>женат / замужем</th>\n",
       "      <th>от 31 до 55 включительно</th>\n",
       "      <td>8167</td>\n",
       "      <td>7.55%</td>\n",
       "      <td>8.12%</td>\n",
       "    </tr>\n",
       "    <tr>\n",
       "      <th>гражданский брак</th>\n",
       "      <th>от 31 до 55 включительно</th>\n",
       "      <td>2665</td>\n",
       "      <td>9.83%</td>\n",
       "      <td>8.12%</td>\n",
       "    </tr>\n",
       "    <tr>\n",
       "      <th rowspan=\"2\" valign=\"top\">женат / замужем</th>\n",
       "      <th>больше 56 включительно</th>\n",
       "      <td>2378</td>\n",
       "      <td>5.34%</td>\n",
       "      <td>8.12%</td>\n",
       "    </tr>\n",
       "    <tr>\n",
       "      <th>младше 30</th>\n",
       "      <td>1794</td>\n",
       "      <td>10.42%</td>\n",
       "      <td>8.12%</td>\n",
       "    </tr>\n",
       "    <tr>\n",
       "      <th rowspan=\"2\" valign=\"top\">Не женат / не замужем</th>\n",
       "      <th>от 31 до 55 включительно</th>\n",
       "      <td>1389</td>\n",
       "      <td>10.37%</td>\n",
       "      <td>8.12%</td>\n",
       "    </tr>\n",
       "    <tr>\n",
       "      <th>младше 30</th>\n",
       "      <td>1014</td>\n",
       "      <td>11.24%</td>\n",
       "      <td>8.12%</td>\n",
       "    </tr>\n",
       "    <tr>\n",
       "      <th>в разводе</th>\n",
       "      <th>от 31 до 55 включительно</th>\n",
       "      <td>815</td>\n",
       "      <td>6.38%</td>\n",
       "      <td>8.12%</td>\n",
       "    </tr>\n",
       "    <tr>\n",
       "      <th rowspan=\"2\" valign=\"top\">гражданский брак</th>\n",
       "      <th>младше 30</th>\n",
       "      <td>785</td>\n",
       "      <td>10.70%</td>\n",
       "      <td>8.12%</td>\n",
       "    </tr>\n",
       "    <tr>\n",
       "      <th>больше 56 включительно</th>\n",
       "      <td>701</td>\n",
       "      <td>5.99%</td>\n",
       "      <td>8.12%</td>\n",
       "    </tr>\n",
       "    <tr>\n",
       "      <th>вдовец / вдова</th>\n",
       "      <th>больше 56 включительно</th>\n",
       "      <td>607</td>\n",
       "      <td>6.59%</td>\n",
       "      <td>8.12%</td>\n",
       "    </tr>\n",
       "    <tr>\n",
       "      <th>Не женат / не замужем</th>\n",
       "      <th>больше 56 включительно</th>\n",
       "      <td>407</td>\n",
       "      <td>3.93%</td>\n",
       "      <td>8.12%</td>\n",
       "    </tr>\n",
       "    <tr>\n",
       "      <th>вдовец / вдова</th>\n",
       "      <th>от 31 до 55 включительно</th>\n",
       "      <td>345</td>\n",
       "      <td>6.38%</td>\n",
       "      <td>8.12%</td>\n",
       "    </tr>\n",
       "    <tr>\n",
       "      <th rowspan=\"2\" valign=\"top\">в разводе</th>\n",
       "      <th>больше 56 включительно</th>\n",
       "      <td>263</td>\n",
       "      <td>6.08%</td>\n",
       "      <td>8.12%</td>\n",
       "    </tr>\n",
       "    <tr>\n",
       "      <th>младше 30</th>\n",
       "      <td>117</td>\n",
       "      <td>14.53%</td>\n",
       "      <td>8.12%</td>\n",
       "    </tr>\n",
       "    <tr>\n",
       "      <th>вдовец / вдова</th>\n",
       "      <th>младше 30</th>\n",
       "      <td>7</td>\n",
       "      <td>14.29%</td>\n",
       "      <td>8.12%</td>\n",
       "    </tr>\n",
       "  </tbody>\n",
       "</table>\n",
       "</div>"
      ],
      "text/plain": [
       "                                                number of entries average  \\\n",
       "family_status         dob_years_category                                    \n",
       "женат / замужем       от 31 до 55 включительно               8167   7.55%   \n",
       "гражданский брак      от 31 до 55 включительно               2665   9.83%   \n",
       "женат / замужем       больше 56 включительно                 2378   5.34%   \n",
       "                      младше 30                              1794  10.42%   \n",
       "Не женат / не замужем от 31 до 55 включительно               1389  10.37%   \n",
       "                      младше 30                              1014  11.24%   \n",
       "в разводе             от 31 до 55 включительно                815   6.38%   \n",
       "гражданский брак      младше 30                               785  10.70%   \n",
       "                      больше 56 включительно                  701   5.99%   \n",
       "вдовец / вдова        больше 56 включительно                  607   6.59%   \n",
       "Не женат / не замужем больше 56 включительно                  407   3.93%   \n",
       "вдовец / вдова        от 31 до 55 включительно                345   6.38%   \n",
       "в разводе             больше 56 включительно                  263   6.08%   \n",
       "                      младше 30                               117  14.53%   \n",
       "вдовец / вдова        младше 30                                 7  14.29%   \n",
       "\n",
       "                                               debt_average  \n",
       "family_status         dob_years_category                     \n",
       "женат / замужем       от 31 до 55 включительно        8.12%  \n",
       "гражданский брак      от 31 до 55 включительно        8.12%  \n",
       "женат / замужем       больше 56 включительно          8.12%  \n",
       "                      младше 30                       8.12%  \n",
       "Не женат / не замужем от 31 до 55 включительно        8.12%  \n",
       "                      младше 30                       8.12%  \n",
       "в разводе             от 31 до 55 включительно        8.12%  \n",
       "гражданский брак      младше 30                       8.12%  \n",
       "                      больше 56 включительно          8.12%  \n",
       "вдовец / вдова        больше 56 включительно          8.12%  \n",
       "Не женат / не замужем больше 56 включительно          8.12%  \n",
       "вдовец / вдова        от 31 до 55 включительно        8.12%  \n",
       "в разводе             больше 56 включительно          8.12%  \n",
       "                      младше 30                       8.12%  \n",
       "вдовец / вдова        младше 30                       8.12%  "
      ]
     },
     "execution_count": 41,
     "metadata": {},
     "output_type": "execute_result"
    }
   ],
   "source": [
    "# Создаём таблицу с данными.\n",
    "family_statistic = df.pivot_table(index = ['family_status', 'dob_years_category'], values = 'debt', aggfunc = ('mean', lambda X: X.count()))\n",
    "# Приводим к процентам\n",
    "family_statistic['mean'] = family_statistic['mean'].map('{0:.2%}'.format)\n",
    "# Создаёем столбец 'debt_average' со средним значением по столбцу 'debt' и приводим его к процентам.\n",
    "family_statistic['debt_average'] = df['debt'].mean()\n",
    "family_statistic['debt_average'] = family_statistic['debt_average'].map('{0:.2%}'.format)\n",
    "# Меняем названия столбцов для удобства восприятия \n",
    "family_statistic = family_statistic.rename(columns ={\"<lambda_0>\":\"number of entries\", \"mean\":\"average\"})\n",
    "# Выводим данные в порядке убывания\n",
    "family_statistic.sort_values(by = \"number of entries\", ascending = False)\n"
   ]
  },
  {
   "cell_type": "markdown",
   "metadata": {},
   "source": [
    "**Вывод**"
   ]
  },
  {
   "cell_type": "markdown",
   "metadata": {},
   "source": [
    "Клиенты, берущие кредит возрастом больше 56 включительно в статусе не женат / не замужем, являются самыми ответственными плательщиками (3.93%). Самыми безответственными явлляются клиенты младше 30 в разводе (14.53%). "
   ]
  },
  {
   "cell_type": "markdown",
   "metadata": {},
   "source": [
    "- Есть ли зависимость между уровнем дохода и возвратом кредита в срок?"
   ]
  },
  {
   "cell_type": "markdown",
   "metadata": {},
   "source": [
    "Построим аналогичную таблицу и в этот раз. Будем использовать данные из столбца категорий дохода 'income_total_category', который мы создали ранее. "
   ]
  },
  {
   "cell_type": "code",
   "execution_count": 42,
   "metadata": {},
   "outputs": [
    {
     "data": {
      "text/html": [
       "<div>\n",
       "<style scoped>\n",
       "    .dataframe tbody tr th:only-of-type {\n",
       "        vertical-align: middle;\n",
       "    }\n",
       "\n",
       "    .dataframe tbody tr th {\n",
       "        vertical-align: top;\n",
       "    }\n",
       "\n",
       "    .dataframe thead th {\n",
       "        text-align: right;\n",
       "    }\n",
       "</style>\n",
       "<table border=\"1\" class=\"dataframe\">\n",
       "  <thead>\n",
       "    <tr style=\"text-align: right;\">\n",
       "      <th></th>\n",
       "      <th></th>\n",
       "      <th>number of entries</th>\n",
       "      <th>average</th>\n",
       "      <th>debt_average</th>\n",
       "    </tr>\n",
       "    <tr>\n",
       "      <th>income_total_category</th>\n",
       "      <th>dob_years_category</th>\n",
       "      <th></th>\n",
       "      <th></th>\n",
       "      <th></th>\n",
       "    </tr>\n",
       "  </thead>\n",
       "  <tbody>\n",
       "    <tr>\n",
       "      <th>очень высокий</th>\n",
       "      <th>от 31 до 55 включительно</th>\n",
       "      <td>4047</td>\n",
       "      <td>7.09%</td>\n",
       "      <td>8.12%</td>\n",
       "    </tr>\n",
       "    <tr>\n",
       "      <th>выше среднего</th>\n",
       "      <th>от 31 до 55 включительно</th>\n",
       "      <td>3392</td>\n",
       "      <td>9.02%</td>\n",
       "      <td>8.12%</td>\n",
       "    </tr>\n",
       "    <tr>\n",
       "      <th>выскокий</th>\n",
       "      <th>от 31 до 55 включительно</th>\n",
       "      <td>2925</td>\n",
       "      <td>8.68%</td>\n",
       "      <td>8.12%</td>\n",
       "    </tr>\n",
       "    <tr>\n",
       "      <th>средний</th>\n",
       "      <th>от 31 до 55 включительно</th>\n",
       "      <td>2500</td>\n",
       "      <td>8.68%</td>\n",
       "      <td>8.12%</td>\n",
       "    </tr>\n",
       "    <tr>\n",
       "      <th>выше среднего</th>\n",
       "      <th>больше 56 включительно</th>\n",
       "      <td>1367</td>\n",
       "      <td>5.63%</td>\n",
       "      <td>8.12%</td>\n",
       "    </tr>\n",
       "    <tr>\n",
       "      <th>средний</th>\n",
       "      <th>больше 56 включительно</th>\n",
       "      <td>1026</td>\n",
       "      <td>4.97%</td>\n",
       "      <td>8.12%</td>\n",
       "    </tr>\n",
       "    <tr>\n",
       "      <th>выше среднего</th>\n",
       "      <th>младше 30</th>\n",
       "      <td>990</td>\n",
       "      <td>12.12%</td>\n",
       "      <td>8.12%</td>\n",
       "    </tr>\n",
       "    <tr>\n",
       "      <th rowspan=\"2\" valign=\"top\">очень высокий</th>\n",
       "      <th>младше 30</th>\n",
       "      <td>928</td>\n",
       "      <td>8.51%</td>\n",
       "      <td>8.12%</td>\n",
       "    </tr>\n",
       "    <tr>\n",
       "      <th>больше 56 включительно</th>\n",
       "      <td>891</td>\n",
       "      <td>5.27%</td>\n",
       "      <td>8.12%</td>\n",
       "    </tr>\n",
       "    <tr>\n",
       "      <th>выскокий</th>\n",
       "      <th>младше 30</th>\n",
       "      <td>862</td>\n",
       "      <td>11.37%</td>\n",
       "      <td>8.12%</td>\n",
       "    </tr>\n",
       "    <tr>\n",
       "      <th>средний</th>\n",
       "      <th>младше 30</th>\n",
       "      <td>797</td>\n",
       "      <td>11.29%</td>\n",
       "      <td>8.12%</td>\n",
       "    </tr>\n",
       "    <tr>\n",
       "      <th>выскокий</th>\n",
       "      <th>больше 56 включительно</th>\n",
       "      <td>688</td>\n",
       "      <td>6.69%</td>\n",
       "      <td>8.12%</td>\n",
       "    </tr>\n",
       "    <tr>\n",
       "      <th rowspan=\"3\" valign=\"top\">низкий</th>\n",
       "      <th>от 31 до 55 включительно</th>\n",
       "      <td>517</td>\n",
       "      <td>6.38%</td>\n",
       "      <td>8.12%</td>\n",
       "    </tr>\n",
       "    <tr>\n",
       "      <th>больше 56 включительно</th>\n",
       "      <td>383</td>\n",
       "      <td>4.96%</td>\n",
       "      <td>8.12%</td>\n",
       "    </tr>\n",
       "    <tr>\n",
       "      <th>младше 30</th>\n",
       "      <td>140</td>\n",
       "      <td>11.43%</td>\n",
       "      <td>8.12%</td>\n",
       "    </tr>\n",
       "  </tbody>\n",
       "</table>\n",
       "</div>"
      ],
      "text/plain": [
       "                                                number of entries average  \\\n",
       "income_total_category dob_years_category                                    \n",
       "очень высокий         от 31 до 55 включительно               4047   7.09%   \n",
       "выше среднего         от 31 до 55 включительно               3392   9.02%   \n",
       "выскокий              от 31 до 55 включительно               2925   8.68%   \n",
       "средний               от 31 до 55 включительно               2500   8.68%   \n",
       "выше среднего         больше 56 включительно                 1367   5.63%   \n",
       "средний               больше 56 включительно                 1026   4.97%   \n",
       "выше среднего         младше 30                               990  12.12%   \n",
       "очень высокий         младше 30                               928   8.51%   \n",
       "                      больше 56 включительно                  891   5.27%   \n",
       "выскокий              младше 30                               862  11.37%   \n",
       "средний               младше 30                               797  11.29%   \n",
       "выскокий              больше 56 включительно                  688   6.69%   \n",
       "низкий                от 31 до 55 включительно                517   6.38%   \n",
       "                      больше 56 включительно                  383   4.96%   \n",
       "                      младше 30                               140  11.43%   \n",
       "\n",
       "                                               debt_average  \n",
       "income_total_category dob_years_category                     \n",
       "очень высокий         от 31 до 55 включительно        8.12%  \n",
       "выше среднего         от 31 до 55 включительно        8.12%  \n",
       "выскокий              от 31 до 55 включительно        8.12%  \n",
       "средний               от 31 до 55 включительно        8.12%  \n",
       "выше среднего         больше 56 включительно          8.12%  \n",
       "средний               больше 56 включительно          8.12%  \n",
       "выше среднего         младше 30                       8.12%  \n",
       "очень высокий         младше 30                       8.12%  \n",
       "                      больше 56 включительно          8.12%  \n",
       "выскокий              младше 30                       8.12%  \n",
       "средний               младше 30                       8.12%  \n",
       "выскокий              больше 56 включительно          8.12%  \n",
       "низкий                от 31 до 55 включительно        8.12%  \n",
       "                      больше 56 включительно          8.12%  \n",
       "                      младше 30                       8.12%  "
      ]
     },
     "execution_count": 42,
     "metadata": {},
     "output_type": "execute_result"
    }
   ],
   "source": [
    "# Создаём таблицу с данными.\n",
    "income_statistic = df.pivot_table(index = ['income_total_category', 'dob_years_category'], values = 'debt', aggfunc = ('mean', lambda X: X.count()))\n",
    "# Приводим к процентам\n",
    "income_statistic['mean'] = income_statistic['mean'].map('{0:.2%}'.format)\n",
    "# Создаёем столбец 'debt_average' со средним значением по столбцу 'debt' и приводим его к процентам.\n",
    "income_statistic['debt_average'] = df['debt'].mean()\n",
    "income_statistic['debt_average'] = income_statistic['debt_average'].map('{0:.2%}'.format)\n",
    "# Меняем названия столбцов для удобства восприятия \n",
    "income_statistic = income_statistic.rename(columns ={\"<lambda_0>\":\"number of entries\", \"mean\":\"average\"})\n",
    "# Выводим данные в порядке убывания\n",
    "income_statistic.sort_values(by = \"number of entries\", ascending = False)\n"
   ]
  },
  {
   "cell_type": "markdown",
   "metadata": {},
   "source": [
    "**Вывод**"
   ]
  },
  {
   "cell_type": "markdown",
   "metadata": {},
   "source": [
    "Клиенты, берущие кредит с низким доходом возрастом больше 56 включительно, являются самыми ответственными плательщиками (4.96%). Самыми безответственными явлляются клиенты младше 30 с доходом выше среднего (12.12%). "
   ]
  },
  {
   "cell_type": "markdown",
   "metadata": {},
   "source": [
    "- Как разные цели кредита влияют на его возврат в срок?"
   ]
  },
  {
   "cell_type": "markdown",
   "metadata": {},
   "source": [
    "Снова построим таблицу. В этот раз будем использовать данные из столбца с категориями причины заёма 'purpose_category'"
   ]
  },
  {
   "cell_type": "code",
   "execution_count": 43,
   "metadata": {},
   "outputs": [
    {
     "data": {
      "text/html": [
       "<div>\n",
       "<style scoped>\n",
       "    .dataframe tbody tr th:only-of-type {\n",
       "        vertical-align: middle;\n",
       "    }\n",
       "\n",
       "    .dataframe tbody tr th {\n",
       "        vertical-align: top;\n",
       "    }\n",
       "\n",
       "    .dataframe thead th {\n",
       "        text-align: right;\n",
       "    }\n",
       "</style>\n",
       "<table border=\"1\" class=\"dataframe\">\n",
       "  <thead>\n",
       "    <tr style=\"text-align: right;\">\n",
       "      <th></th>\n",
       "      <th></th>\n",
       "      <th>number of entries</th>\n",
       "      <th>average</th>\n",
       "      <th>debt_average</th>\n",
       "    </tr>\n",
       "    <tr>\n",
       "      <th>purpose_category</th>\n",
       "      <th>dob_years_category</th>\n",
       "      <th></th>\n",
       "      <th></th>\n",
       "      <th></th>\n",
       "    </tr>\n",
       "  </thead>\n",
       "  <tbody>\n",
       "    <tr>\n",
       "      <th>недвижимость</th>\n",
       "      <th>от 31 до 55 включительно</th>\n",
       "      <td>6763</td>\n",
       "      <td>7.29%</td>\n",
       "      <td>8.12%</td>\n",
       "    </tr>\n",
       "    <tr>\n",
       "      <th>автомобиль</th>\n",
       "      <th>от 31 до 55 включительно</th>\n",
       "      <td>2723</td>\n",
       "      <td>9.62%</td>\n",
       "      <td>8.12%</td>\n",
       "    </tr>\n",
       "    <tr>\n",
       "      <th>образование</th>\n",
       "      <th>от 31 до 55 включительно</th>\n",
       "      <td>2431</td>\n",
       "      <td>9.09%</td>\n",
       "      <td>8.12%</td>\n",
       "    </tr>\n",
       "    <tr>\n",
       "      <th rowspan=\"2\" valign=\"top\">недвижимость</th>\n",
       "      <th>больше 56 включительно</th>\n",
       "      <td>2128</td>\n",
       "      <td>4.75%</td>\n",
       "      <td>8.12%</td>\n",
       "    </tr>\n",
       "    <tr>\n",
       "      <th>младше 30</th>\n",
       "      <td>1920</td>\n",
       "      <td>9.79%</td>\n",
       "      <td>8.12%</td>\n",
       "    </tr>\n",
       "    <tr>\n",
       "      <th>свадьба</th>\n",
       "      <th>от 31 до 55 включительно</th>\n",
       "      <td>1464</td>\n",
       "      <td>8.27%</td>\n",
       "      <td>8.12%</td>\n",
       "    </tr>\n",
       "    <tr>\n",
       "      <th>автомобиль</th>\n",
       "      <th>больше 56 включительно</th>\n",
       "      <td>897</td>\n",
       "      <td>6.35%</td>\n",
       "      <td>8.12%</td>\n",
       "    </tr>\n",
       "    <tr>\n",
       "      <th rowspan=\"2\" valign=\"top\">образование</th>\n",
       "      <th>больше 56 включительно</th>\n",
       "      <td>863</td>\n",
       "      <td>6.49%</td>\n",
       "      <td>8.12%</td>\n",
       "    </tr>\n",
       "    <tr>\n",
       "      <th>младше 30</th>\n",
       "      <td>719</td>\n",
       "      <td>12.93%</td>\n",
       "      <td>8.12%</td>\n",
       "    </tr>\n",
       "    <tr>\n",
       "      <th>автомобиль</th>\n",
       "      <th>младше 30</th>\n",
       "      <td>686</td>\n",
       "      <td>12.24%</td>\n",
       "      <td>8.12%</td>\n",
       "    </tr>\n",
       "    <tr>\n",
       "      <th rowspan=\"2\" valign=\"top\">свадьба</th>\n",
       "      <th>больше 56 включительно</th>\n",
       "      <td>468</td>\n",
       "      <td>5.77%</td>\n",
       "      <td>8.12%</td>\n",
       "    </tr>\n",
       "    <tr>\n",
       "      <th>младше 30</th>\n",
       "      <td>392</td>\n",
       "      <td>9.69%</td>\n",
       "      <td>8.12%</td>\n",
       "    </tr>\n",
       "  </tbody>\n",
       "</table>\n",
       "</div>"
      ],
      "text/plain": [
       "                                           number of entries average  \\\n",
       "purpose_category dob_years_category                                    \n",
       "недвижимость     от 31 до 55 включительно               6763   7.29%   \n",
       "автомобиль       от 31 до 55 включительно               2723   9.62%   \n",
       "образование      от 31 до 55 включительно               2431   9.09%   \n",
       "недвижимость     больше 56 включительно                 2128   4.75%   \n",
       "                 младше 30                              1920   9.79%   \n",
       "свадьба          от 31 до 55 включительно               1464   8.27%   \n",
       "автомобиль       больше 56 включительно                  897   6.35%   \n",
       "образование      больше 56 включительно                  863   6.49%   \n",
       "                 младше 30                               719  12.93%   \n",
       "автомобиль       младше 30                               686  12.24%   \n",
       "свадьба          больше 56 включительно                  468   5.77%   \n",
       "                 младше 30                               392   9.69%   \n",
       "\n",
       "                                          debt_average  \n",
       "purpose_category dob_years_category                     \n",
       "недвижимость     от 31 до 55 включительно        8.12%  \n",
       "автомобиль       от 31 до 55 включительно        8.12%  \n",
       "образование      от 31 до 55 включительно        8.12%  \n",
       "недвижимость     больше 56 включительно          8.12%  \n",
       "                 младше 30                       8.12%  \n",
       "свадьба          от 31 до 55 включительно        8.12%  \n",
       "автомобиль       больше 56 включительно          8.12%  \n",
       "образование      больше 56 включительно          8.12%  \n",
       "                 младше 30                       8.12%  \n",
       "автомобиль       младше 30                       8.12%  \n",
       "свадьба          больше 56 включительно          8.12%  \n",
       "                 младше 30                       8.12%  "
      ]
     },
     "execution_count": 43,
     "metadata": {},
     "output_type": "execute_result"
    }
   ],
   "source": [
    "# Создаём таблицу с данными.\n",
    "purpose_statistic = df.pivot_table(index = ['purpose_category', 'dob_years_category',], values = 'debt', aggfunc = ('mean', lambda X: X.count()))\n",
    "# Приводим к процентам\n",
    "purpose_statistic['mean'] = purpose_statistic['mean'].map('{0:.2%}'.format)\n",
    "# Создаёем столбец 'debt_average' со средним значением по столбцу 'debt' и приводим его к процентам.\n",
    "purpose_statistic['debt_average'] = df['debt'].mean()\n",
    "purpose_statistic['debt_average'] = purpose_statistic['debt_average'].map('{0:.2%}'.format)\n",
    "# Меняем названия столбцов для удобства восприятия \n",
    "purpose_statistic = purpose_statistic.rename(columns ={\"<lambda_0>\":\"number of entries\", \"mean\":\"average\"})\n",
    "# Выводим данные в порядке убывания\n",
    "purpose_statistic.sort_values(by = \"number of entries\", ascending = False)\n"
   ]
  },
  {
   "cell_type": "markdown",
   "metadata": {},
   "source": [
    "**Вывод**"
   ]
  },
  {
   "cell_type": "markdown",
   "metadata": {},
   "source": [
    "Клиенты, берущие кредит на недвижимость возрастом больше 56 включительно, являются самыми ответственными плательщиками (4.75%). Самыми безответственными явлляются клиенты младше 30, берущие кредит на образование (12.93%). "
   ]
  },
  {
   "cell_type": "markdown",
   "metadata": {},
   "source": [
    "## Шаг 4. Общий вывод"
   ]
  },
  {
   "cell_type": "markdown",
   "metadata": {},
   "source": [
    "В среднем, клиенты возрастом больше 56 включительно отвественно подходят к возрату кредита. Это обусловленно зрелостью, а также устоявшимся статусом в жизни. Безотвественно подходят к возрату кредита клиенты младше 30. Им сложнее всего распределить свой бюджет, чтобы вовремя погасить долг. "
   ]
  }
 ],
 "metadata": {
  "ExecuteTimeLog": [
   {
    "duration": 842,
    "start_time": "2021-09-15T17:25:43.958Z"
   },
   {
    "duration": 76,
    "start_time": "2021-09-15T17:27:51.088Z"
   },
   {
    "duration": 122,
    "start_time": "2021-09-15T17:28:01.611Z"
   },
   {
    "duration": 89,
    "start_time": "2021-09-15T17:33:22.611Z"
   },
   {
    "duration": 90,
    "start_time": "2021-09-15T17:33:28.688Z"
   },
   {
    "duration": 88,
    "start_time": "2021-09-15T17:33:37.493Z"
   },
   {
    "duration": 12,
    "start_time": "2021-09-15T17:39:01.192Z"
   },
   {
    "duration": 10,
    "start_time": "2021-09-15T17:39:20.015Z"
   },
   {
    "duration": 8,
    "start_time": "2021-09-15T17:40:57.261Z"
   },
   {
    "duration": 10,
    "start_time": "2021-09-15T17:41:15.580Z"
   },
   {
    "duration": 11,
    "start_time": "2021-09-15T17:41:46.357Z"
   },
   {
    "duration": 10,
    "start_time": "2021-09-15T17:43:05.626Z"
   },
   {
    "duration": 9,
    "start_time": "2021-09-15T17:43:42.296Z"
   },
   {
    "duration": 15,
    "start_time": "2021-09-15T17:43:58.848Z"
   },
   {
    "duration": 27,
    "start_time": "2021-09-15T17:45:54.367Z"
   },
   {
    "duration": 38,
    "start_time": "2021-09-15T17:46:01.669Z"
   },
   {
    "duration": 19,
    "start_time": "2021-09-15T17:46:09.366Z"
   },
   {
    "duration": 493,
    "start_time": "2021-09-15T18:00:09.831Z"
   },
   {
    "duration": 88,
    "start_time": "2021-09-15T18:01:16.211Z"
   },
   {
    "duration": 366,
    "start_time": "2021-09-15T18:01:19.251Z"
   },
   {
    "duration": 681,
    "start_time": "2021-09-15T18:01:22.339Z"
   },
   {
    "duration": 94,
    "start_time": "2021-09-15T18:01:23.661Z"
   },
   {
    "duration": 873,
    "start_time": "2021-09-15T18:01:59.089Z"
   },
   {
    "duration": 88,
    "start_time": "2021-09-15T18:02:03.116Z"
   },
   {
    "duration": 1788,
    "start_time": "2021-09-15T18:02:26.019Z"
   },
   {
    "duration": 4,
    "start_time": "2021-09-15T18:02:29.092Z"
   },
   {
    "duration": 63,
    "start_time": "2021-09-15T18:06:36.438Z"
   },
   {
    "duration": 60,
    "start_time": "2021-09-15T18:06:58.064Z"
   },
   {
    "duration": 15,
    "start_time": "2021-09-15T18:07:14.132Z"
   },
   {
    "duration": 4,
    "start_time": "2021-09-15T18:08:28.257Z"
   },
   {
    "duration": 66,
    "start_time": "2021-09-15T18:08:28.979Z"
   },
   {
    "duration": 16,
    "start_time": "2021-09-15T18:08:30.130Z"
   },
   {
    "duration": 9,
    "start_time": "2021-09-15T18:57:34.563Z"
   },
   {
    "duration": 31,
    "start_time": "2021-09-15T18:58:14.952Z"
   },
   {
    "duration": 7,
    "start_time": "2021-09-15T19:07:04.109Z"
   },
   {
    "duration": 20,
    "start_time": "2021-09-15T19:07:08.640Z"
   },
   {
    "duration": 462,
    "start_time": "2021-09-15T19:23:24.386Z"
   },
   {
    "duration": 48,
    "start_time": "2021-09-15T19:23:29.097Z"
   },
   {
    "duration": 57,
    "start_time": "2021-09-15T19:23:50.731Z"
   },
   {
    "duration": 47,
    "start_time": "2021-09-15T19:42:01.308Z"
   },
   {
    "duration": 13,
    "start_time": "2021-09-15T19:42:03.945Z"
   },
   {
    "duration": 10,
    "start_time": "2021-09-15T19:45:27.163Z"
   },
   {
    "duration": 19,
    "start_time": "2021-09-15T19:45:30.524Z"
   },
   {
    "duration": 328,
    "start_time": "2021-09-17T18:43:19.328Z"
   },
   {
    "duration": 1932,
    "start_time": "2021-09-17T18:43:23.093Z"
   },
   {
    "duration": 229,
    "start_time": "2021-09-17T18:43:26.107Z"
   },
   {
    "duration": 4,
    "start_time": "2021-09-17T18:43:30.464Z"
   },
   {
    "duration": 64,
    "start_time": "2021-09-17T18:43:32.264Z"
   },
   {
    "duration": 15,
    "start_time": "2021-09-17T18:43:33.144Z"
   },
   {
    "duration": 9,
    "start_time": "2021-09-17T18:43:36.007Z"
   },
   {
    "duration": 32,
    "start_time": "2021-09-17T18:43:36.790Z"
   },
   {
    "duration": 48,
    "start_time": "2021-09-17T18:44:03.416Z"
   },
   {
    "duration": 48,
    "start_time": "2021-09-17T18:54:01.667Z"
   },
   {
    "duration": 22,
    "start_time": "2021-09-17T18:54:23.248Z"
   },
   {
    "duration": 7,
    "start_time": "2021-09-17T18:55:04.513Z"
   },
   {
    "duration": 10,
    "start_time": "2021-09-17T18:55:27.076Z"
   },
   {
    "duration": 60,
    "start_time": "2021-09-17T18:56:12.173Z"
   },
   {
    "duration": 15,
    "start_time": "2021-09-17T18:56:22.029Z"
   },
   {
    "duration": 8,
    "start_time": "2021-09-17T18:56:35.350Z"
   },
   {
    "duration": 21,
    "start_time": "2021-09-17T18:56:44.375Z"
   },
   {
    "duration": 47,
    "start_time": "2021-09-17T18:56:53.386Z"
   },
   {
    "duration": 14,
    "start_time": "2021-09-17T19:17:38.810Z"
   },
   {
    "duration": 13,
    "start_time": "2021-09-17T19:17:46.951Z"
   },
   {
    "duration": 15,
    "start_time": "2021-09-17T19:17:59.933Z"
   },
   {
    "duration": 14,
    "start_time": "2021-09-17T19:23:43.197Z"
   },
   {
    "duration": 12,
    "start_time": "2021-09-17T19:36:30.498Z"
   },
   {
    "duration": 14,
    "start_time": "2021-09-17T19:37:08.335Z"
   },
   {
    "duration": 12,
    "start_time": "2021-09-17T19:39:19.556Z"
   },
   {
    "duration": 1918,
    "start_time": "2021-09-17T19:44:41.765Z"
   },
   {
    "duration": 64,
    "start_time": "2021-09-17T19:44:43.686Z"
   },
   {
    "duration": 25,
    "start_time": "2021-09-17T19:44:43.753Z"
   },
   {
    "duration": 10,
    "start_time": "2021-09-17T19:44:43.781Z"
   },
   {
    "duration": 31,
    "start_time": "2021-09-17T19:44:43.794Z"
   },
   {
    "duration": 77,
    "start_time": "2021-09-17T19:44:43.828Z"
   },
   {
    "duration": 15,
    "start_time": "2021-09-17T19:44:44.349Z"
   },
   {
    "duration": 13,
    "start_time": "2021-09-17T19:44:45.629Z"
   },
   {
    "duration": 9,
    "start_time": "2021-09-17T20:29:05.173Z"
   },
   {
    "duration": 8,
    "start_time": "2021-09-17T20:29:08.966Z"
   },
   {
    "duration": 9,
    "start_time": "2021-09-17T20:29:25.244Z"
   },
   {
    "duration": 9,
    "start_time": "2021-09-17T20:29:39.540Z"
   },
   {
    "duration": 10,
    "start_time": "2021-09-17T20:31:15.356Z"
   },
   {
    "duration": 9,
    "start_time": "2021-09-17T20:31:20.363Z"
   },
   {
    "duration": 8,
    "start_time": "2021-09-17T20:31:48.761Z"
   },
   {
    "duration": 9,
    "start_time": "2021-09-17T20:31:51.816Z"
   },
   {
    "duration": 8,
    "start_time": "2021-09-17T20:32:42.088Z"
   },
   {
    "duration": 9,
    "start_time": "2021-09-17T20:32:43.259Z"
   },
   {
    "duration": 10,
    "start_time": "2021-09-17T20:32:55.757Z"
   },
   {
    "duration": 9,
    "start_time": "2021-09-17T20:33:05.053Z"
   },
   {
    "duration": 8,
    "start_time": "2021-09-17T20:33:46.543Z"
   },
   {
    "duration": 10,
    "start_time": "2021-09-17T20:33:46.892Z"
   },
   {
    "duration": 424,
    "start_time": "2021-09-17T20:45:19.992Z"
   },
   {
    "duration": 9,
    "start_time": "2021-09-17T20:46:29.915Z"
   },
   {
    "duration": 9,
    "start_time": "2021-09-17T20:47:16.925Z"
   },
   {
    "duration": 5,
    "start_time": "2021-09-17T20:48:26.379Z"
   },
   {
    "duration": 6,
    "start_time": "2021-09-17T20:49:19.961Z"
   },
   {
    "duration": 5,
    "start_time": "2021-09-17T20:49:32.658Z"
   },
   {
    "duration": 8,
    "start_time": "2021-09-17T20:52:03.013Z"
   },
   {
    "duration": 7,
    "start_time": "2021-09-17T20:52:52.956Z"
   },
   {
    "duration": 9,
    "start_time": "2021-09-17T20:54:54.040Z"
   },
   {
    "duration": 5,
    "start_time": "2021-09-17T20:54:55.281Z"
   },
   {
    "duration": 8,
    "start_time": "2021-09-17T20:54:56.114Z"
   },
   {
    "duration": 8,
    "start_time": "2021-09-17T20:57:14.108Z"
   },
   {
    "duration": 8,
    "start_time": "2021-09-17T21:00:02.945Z"
   },
   {
    "duration": 6,
    "start_time": "2021-09-17T21:02:00.500Z"
   },
   {
    "duration": 8,
    "start_time": "2021-09-17T21:07:52.363Z"
   },
   {
    "duration": 6,
    "start_time": "2021-09-17T21:07:56.224Z"
   },
   {
    "duration": 48,
    "start_time": "2021-09-17T21:14:19.868Z"
   },
   {
    "duration": 15,
    "start_time": "2021-09-17T21:14:22.127Z"
   },
   {
    "duration": 14,
    "start_time": "2021-09-17T21:14:24.485Z"
   },
   {
    "duration": 7,
    "start_time": "2021-09-17T21:14:27.063Z"
   },
   {
    "duration": 9,
    "start_time": "2021-09-17T21:14:27.968Z"
   },
   {
    "duration": 10,
    "start_time": "2021-09-17T21:14:28.727Z"
   },
   {
    "duration": 6,
    "start_time": "2021-09-17T21:14:30.876Z"
   },
   {
    "duration": 9,
    "start_time": "2021-09-17T21:16:43.364Z"
   },
   {
    "duration": 6,
    "start_time": "2021-09-17T21:17:04.337Z"
   },
   {
    "duration": 9,
    "start_time": "2021-09-17T21:34:40.976Z"
   },
   {
    "duration": 9,
    "start_time": "2021-09-17T21:34:41.277Z"
   },
   {
    "duration": 5,
    "start_time": "2021-09-17T21:34:41.584Z"
   },
   {
    "duration": 9,
    "start_time": "2021-09-17T21:34:41.876Z"
   },
   {
    "duration": 7,
    "start_time": "2021-09-17T21:34:42.197Z"
   },
   {
    "duration": 10,
    "start_time": "2021-09-17T21:42:48.711Z"
   },
   {
    "duration": 10,
    "start_time": "2021-09-17T21:43:14.686Z"
   },
   {
    "duration": 10,
    "start_time": "2021-09-17T21:44:51.693Z"
   },
   {
    "duration": 7,
    "start_time": "2021-09-17T21:46:41.825Z"
   },
   {
    "duration": 9,
    "start_time": "2021-09-17T21:47:09.046Z"
   },
   {
    "duration": 19,
    "start_time": "2021-09-17T21:47:09.403Z"
   },
   {
    "duration": 9,
    "start_time": "2021-09-17T21:52:18.439Z"
   },
   {
    "duration": 9,
    "start_time": "2021-09-17T21:54:56.304Z"
   },
   {
    "duration": 8,
    "start_time": "2021-09-17T21:55:15.082Z"
   },
   {
    "duration": 9,
    "start_time": "2021-09-17T22:00:32.945Z"
   },
   {
    "duration": 22,
    "start_time": "2021-09-17T22:00:33.235Z"
   },
   {
    "duration": 48,
    "start_time": "2021-09-17T22:00:33.696Z"
   },
   {
    "duration": 14,
    "start_time": "2021-09-17T22:00:34.144Z"
   },
   {
    "duration": 12,
    "start_time": "2021-09-17T22:00:34.417Z"
   },
   {
    "duration": 9,
    "start_time": "2021-09-17T22:00:35.006Z"
   },
   {
    "duration": 10,
    "start_time": "2021-09-17T22:00:35.314Z"
   },
   {
    "duration": 10,
    "start_time": "2021-09-17T22:00:35.996Z"
   },
   {
    "duration": 6,
    "start_time": "2021-09-17T22:00:36.337Z"
   },
   {
    "duration": 9,
    "start_time": "2021-09-17T22:00:36.669Z"
   },
   {
    "duration": 6,
    "start_time": "2021-09-17T22:00:37.089Z"
   },
   {
    "duration": 11,
    "start_time": "2021-09-17T22:00:37.785Z"
   },
   {
    "duration": 8,
    "start_time": "2021-09-17T22:00:38.167Z"
   },
   {
    "duration": 10,
    "start_time": "2021-09-17T22:00:38.513Z"
   },
   {
    "duration": 9,
    "start_time": "2021-09-17T22:00:38.847Z"
   },
   {
    "duration": 14,
    "start_time": "2021-09-17T22:00:39.712Z"
   },
   {
    "duration": 47,
    "start_time": "2021-09-18T12:59:44.739Z"
   },
   {
    "duration": 9,
    "start_time": "2021-09-18T13:06:19.169Z"
   },
   {
    "duration": 11,
    "start_time": "2021-09-18T13:06:21.177Z"
   },
   {
    "duration": 13,
    "start_time": "2021-09-18T13:06:25.638Z"
   },
   {
    "duration": 9,
    "start_time": "2021-09-18T13:06:26.608Z"
   },
   {
    "duration": 9,
    "start_time": "2021-09-18T13:06:26.910Z"
   },
   {
    "duration": 9,
    "start_time": "2021-09-18T13:06:27.191Z"
   },
   {
    "duration": 12,
    "start_time": "2021-09-18T13:06:27.472Z"
   },
   {
    "duration": 33,
    "start_time": "2021-09-18T13:06:29.000Z"
   },
   {
    "duration": 7,
    "start_time": "2021-09-18T13:07:52.431Z"
   },
   {
    "duration": 25,
    "start_time": "2021-09-18T13:08:58.843Z"
   },
   {
    "duration": 34,
    "start_time": "2021-09-18T13:20:12.153Z"
   },
   {
    "duration": 49,
    "start_time": "2021-09-18T13:24:11.777Z"
   },
   {
    "duration": 44,
    "start_time": "2021-09-18T13:25:06.865Z"
   },
   {
    "duration": 123,
    "start_time": "2021-09-18T13:36:50.328Z"
   },
   {
    "duration": 5,
    "start_time": "2021-09-18T13:39:17.169Z"
   },
   {
    "duration": 21,
    "start_time": "2021-09-18T13:45:35.512Z"
   },
   {
    "duration": 6,
    "start_time": "2021-09-18T13:50:12.009Z"
   },
   {
    "duration": 21,
    "start_time": "2021-09-18T13:50:12.847Z"
   },
   {
    "duration": 19,
    "start_time": "2021-09-18T13:51:38.494Z"
   },
   {
    "duration": 6,
    "start_time": "2021-09-18T13:54:12.992Z"
   },
   {
    "duration": 19,
    "start_time": "2021-09-18T13:54:14.258Z"
   },
   {
    "duration": 45,
    "start_time": "2021-09-18T13:59:36.782Z"
   },
   {
    "duration": 44,
    "start_time": "2021-09-18T13:59:41.200Z"
   },
   {
    "duration": 7,
    "start_time": "2021-09-18T13:59:41.659Z"
   },
   {
    "duration": 20,
    "start_time": "2021-09-18T13:59:41.951Z"
   },
   {
    "duration": 17,
    "start_time": "2021-09-18T13:59:42.261Z"
   },
   {
    "duration": 74,
    "start_time": "2021-09-18T14:00:11.671Z"
   },
   {
    "duration": 79,
    "start_time": "2021-09-18T14:00:13.991Z"
   },
   {
    "duration": 29,
    "start_time": "2021-09-18T14:01:43.412Z"
   },
   {
    "duration": 37,
    "start_time": "2021-09-18T14:01:48.140Z"
   },
   {
    "duration": 29,
    "start_time": "2021-09-18T14:02:06.202Z"
   },
   {
    "duration": 30,
    "start_time": "2021-09-18T14:02:11.744Z"
   },
   {
    "duration": 22,
    "start_time": "2021-09-18T14:07:08.296Z"
   },
   {
    "duration": 30,
    "start_time": "2021-09-18T14:07:09.919Z"
   },
   {
    "duration": 7,
    "start_time": "2021-09-18T14:10:07.824Z"
   },
   {
    "duration": 7,
    "start_time": "2021-09-18T14:10:47.737Z"
   },
   {
    "duration": 27,
    "start_time": "2021-09-18T14:21:51.049Z"
   },
   {
    "duration": 3,
    "start_time": "2021-09-18T14:22:08.311Z"
   },
   {
    "duration": 1097,
    "start_time": "2021-09-18T14:22:27.400Z"
   },
   {
    "duration": 24,
    "start_time": "2021-09-18T14:22:34.377Z"
   },
   {
    "duration": 8,
    "start_time": "2021-09-18T14:23:41.080Z"
   },
   {
    "duration": 9,
    "start_time": "2021-09-18T14:23:41.366Z"
   },
   {
    "duration": 6,
    "start_time": "2021-09-18T14:23:41.639Z"
   },
   {
    "duration": 9,
    "start_time": "2021-09-18T14:23:41.903Z"
   },
   {
    "duration": 7,
    "start_time": "2021-09-18T14:23:42.189Z"
   },
   {
    "duration": 9,
    "start_time": "2021-09-18T14:23:42.768Z"
   },
   {
    "duration": 8,
    "start_time": "2021-09-18T14:23:43.760Z"
   },
   {
    "duration": 8,
    "start_time": "2021-09-18T14:23:44.062Z"
   },
   {
    "duration": 9,
    "start_time": "2021-09-18T14:23:44.369Z"
   },
   {
    "duration": 38,
    "start_time": "2021-09-18T14:23:47.009Z"
   },
   {
    "duration": 22,
    "start_time": "2021-09-18T14:23:47.467Z"
   },
   {
    "duration": 40,
    "start_time": "2021-09-18T14:23:47.783Z"
   },
   {
    "duration": 6,
    "start_time": "2021-09-18T14:23:48.079Z"
   },
   {
    "duration": 21,
    "start_time": "2021-09-18T14:23:48.400Z"
   },
   {
    "duration": 28,
    "start_time": "2021-09-18T14:23:48.711Z"
   },
   {
    "duration": 5,
    "start_time": "2021-09-18T14:23:49.312Z"
   },
   {
    "duration": 8,
    "start_time": "2021-09-18T14:23:49.468Z"
   },
   {
    "duration": 29,
    "start_time": "2021-09-18T14:23:51.240Z"
   },
   {
    "duration": 25,
    "start_time": "2021-09-18T14:23:51.598Z"
   },
   {
    "duration": 27,
    "start_time": "2021-09-18T14:25:42.772Z"
   },
   {
    "duration": 1429,
    "start_time": "2021-09-18T15:51:20.921Z"
   },
   {
    "duration": 1180,
    "start_time": "2021-09-18T15:51:46.769Z"
   },
   {
    "duration": 2450,
    "start_time": "2021-09-18T15:52:31.103Z"
   },
   {
    "duration": 4603,
    "start_time": "2021-09-18T15:53:02.790Z"
   },
   {
    "duration": 1233,
    "start_time": "2021-09-18T15:53:12.368Z"
   },
   {
    "duration": 1208,
    "start_time": "2021-09-18T15:53:18.171Z"
   },
   {
    "duration": 4735,
    "start_time": "2021-09-18T15:53:28.165Z"
   },
   {
    "duration": 9,
    "start_time": "2021-09-20T15:07:28.280Z"
   },
   {
    "duration": 1243,
    "start_time": "2021-09-20T19:40:22.692Z"
   },
   {
    "duration": 391,
    "start_time": "2021-09-20T19:40:23.937Z"
   },
   {
    "duration": 10,
    "start_time": "2021-09-20T19:40:24.330Z"
   },
   {
    "duration": 8,
    "start_time": "2021-09-20T19:40:24.611Z"
   },
   {
    "duration": 20,
    "start_time": "2021-09-20T19:40:25.260Z"
   },
   {
    "duration": 31,
    "start_time": "2021-09-20T19:40:26.245Z"
   },
   {
    "duration": 9,
    "start_time": "2021-09-20T19:40:26.941Z"
   },
   {
    "duration": 11,
    "start_time": "2021-09-20T19:40:27.531Z"
   },
   {
    "duration": 7,
    "start_time": "2021-09-20T19:40:28.068Z"
   },
   {
    "duration": 7,
    "start_time": "2021-09-20T19:40:28.450Z"
   },
   {
    "duration": 7,
    "start_time": "2021-09-20T19:40:28.818Z"
   },
   {
    "duration": 4,
    "start_time": "2021-09-20T19:40:29.211Z"
   },
   {
    "duration": 5,
    "start_time": "2021-09-20T19:40:29.620Z"
   },
   {
    "duration": 5,
    "start_time": "2021-09-20T19:40:29.987Z"
   },
   {
    "duration": 8,
    "start_time": "2021-09-20T19:40:30.730Z"
   },
   {
    "duration": 6,
    "start_time": "2021-09-20T19:40:31.124Z"
   },
   {
    "duration": 7,
    "start_time": "2021-09-20T19:40:31.507Z"
   },
   {
    "duration": 8,
    "start_time": "2021-09-20T19:40:31.908Z"
   },
   {
    "duration": 22,
    "start_time": "2021-09-20T19:40:33.084Z"
   },
   {
    "duration": 16,
    "start_time": "2021-09-20T19:40:33.677Z"
   },
   {
    "duration": 32,
    "start_time": "2021-09-20T19:40:34.082Z"
   },
   {
    "duration": 5,
    "start_time": "2021-09-21T12:05:29.409Z"
   },
   {
    "duration": 6994,
    "start_time": "2021-09-21T12:10:06.368Z"
   },
   {
    "duration": 7751,
    "start_time": "2021-09-21T12:11:09.153Z"
   },
   {
    "duration": 1253,
    "start_time": "2021-09-21T12:12:43.871Z"
   },
   {
    "duration": 54,
    "start_time": "2021-09-21T12:12:45.846Z"
   },
   {
    "duration": 12,
    "start_time": "2021-09-21T12:12:46.453Z"
   },
   {
    "duration": 8,
    "start_time": "2021-09-21T12:12:47.301Z"
   },
   {
    "duration": 21,
    "start_time": "2021-09-21T12:12:47.672Z"
   },
   {
    "duration": 32,
    "start_time": "2021-09-21T12:12:48.160Z"
   },
   {
    "duration": 12,
    "start_time": "2021-09-21T12:12:48.611Z"
   },
   {
    "duration": 9,
    "start_time": "2021-09-21T12:12:48.934Z"
   },
   {
    "duration": 6,
    "start_time": "2021-09-21T12:12:49.452Z"
   },
   {
    "duration": 7,
    "start_time": "2021-09-21T12:12:49.805Z"
   },
   {
    "duration": 8,
    "start_time": "2021-09-21T12:12:50.155Z"
   },
   {
    "duration": 4,
    "start_time": "2021-09-21T12:12:50.515Z"
   },
   {
    "duration": 7,
    "start_time": "2021-09-21T12:12:50.882Z"
   },
   {
    "duration": 4,
    "start_time": "2021-09-21T12:12:51.237Z"
   },
   {
    "duration": 7,
    "start_time": "2021-09-21T12:12:51.965Z"
   },
   {
    "duration": 6,
    "start_time": "2021-09-21T12:12:52.317Z"
   },
   {
    "duration": 9,
    "start_time": "2021-09-21T12:12:52.663Z"
   },
   {
    "duration": 8,
    "start_time": "2021-09-21T12:12:53.014Z"
   },
   {
    "duration": 24,
    "start_time": "2021-09-21T12:12:54.100Z"
   },
   {
    "duration": 17,
    "start_time": "2021-09-21T12:12:54.703Z"
   },
   {
    "duration": 35,
    "start_time": "2021-09-21T12:12:55.095Z"
   },
   {
    "duration": 5,
    "start_time": "2021-09-21T12:12:55.474Z"
   },
   {
    "duration": 15,
    "start_time": "2021-09-21T12:12:55.852Z"
   },
   {
    "duration": 20,
    "start_time": "2021-09-21T12:12:56.231Z"
   },
   {
    "duration": 5,
    "start_time": "2021-09-21T12:12:56.963Z"
   },
   {
    "duration": 10,
    "start_time": "2021-09-21T12:12:57.162Z"
   },
   {
    "duration": 19,
    "start_time": "2021-09-21T12:12:57.938Z"
   },
   {
    "duration": 17,
    "start_time": "2021-09-21T12:12:58.132Z"
   },
   {
    "duration": 4091,
    "start_time": "2021-09-21T12:12:59.268Z"
   },
   {
    "duration": 49,
    "start_time": "2021-09-21T12:13:03.361Z"
   },
   {
    "duration": 51,
    "start_time": "2021-09-21T12:13:58.513Z"
   },
   {
    "duration": 74,
    "start_time": "2021-09-21T12:14:22.516Z"
   },
   {
    "duration": 61,
    "start_time": "2021-09-21T12:15:57.192Z"
   },
   {
    "duration": 40,
    "start_time": "2021-09-21T12:16:00.892Z"
   },
   {
    "duration": 46,
    "start_time": "2021-09-21T12:16:03.787Z"
   },
   {
    "duration": 47,
    "start_time": "2021-09-21T12:16:43.390Z"
   },
   {
    "duration": 51,
    "start_time": "2021-09-21T12:45:28.542Z"
   },
   {
    "duration": 39,
    "start_time": "2021-09-21T13:24:34.585Z"
   },
   {
    "duration": 26,
    "start_time": "2021-09-21T13:26:57.929Z"
   },
   {
    "duration": 26,
    "start_time": "2021-09-21T13:27:35.327Z"
   },
   {
    "duration": 27,
    "start_time": "2021-09-21T13:28:04.114Z"
   },
   {
    "duration": 25,
    "start_time": "2021-09-21T13:32:54.025Z"
   },
   {
    "duration": 369,
    "start_time": "2021-09-21T13:38:08.963Z"
   },
   {
    "duration": 31,
    "start_time": "2021-09-21T13:39:40.244Z"
   },
   {
    "duration": 396,
    "start_time": "2021-09-21T19:16:45.255Z"
   },
   {
    "duration": 1235,
    "start_time": "2021-09-21T19:17:02.622Z"
   },
   {
    "duration": 61,
    "start_time": "2021-09-21T19:17:03.858Z"
   },
   {
    "duration": 14,
    "start_time": "2021-09-21T19:17:03.922Z"
   },
   {
    "duration": 6,
    "start_time": "2021-09-21T19:17:03.938Z"
   },
   {
    "duration": 37,
    "start_time": "2021-09-21T19:17:03.946Z"
   },
   {
    "duration": 32,
    "start_time": "2021-09-21T19:17:04.068Z"
   },
   {
    "duration": 10,
    "start_time": "2021-09-21T19:17:04.548Z"
   },
   {
    "duration": 9,
    "start_time": "2021-09-21T19:17:04.859Z"
   },
   {
    "duration": 5,
    "start_time": "2021-09-21T19:17:05.359Z"
   },
   {
    "duration": 6,
    "start_time": "2021-09-21T19:17:05.722Z"
   },
   {
    "duration": 7,
    "start_time": "2021-09-21T19:17:06.049Z"
   },
   {
    "duration": 4,
    "start_time": "2021-09-21T19:17:06.393Z"
   },
   {
    "duration": 6,
    "start_time": "2021-09-21T19:17:06.746Z"
   },
   {
    "duration": 4,
    "start_time": "2021-09-21T19:17:07.113Z"
   },
   {
    "duration": 7,
    "start_time": "2021-09-21T19:17:07.780Z"
   },
   {
    "duration": 6,
    "start_time": "2021-09-21T19:17:08.260Z"
   },
   {
    "duration": 6,
    "start_time": "2021-09-21T19:17:08.605Z"
   },
   {
    "duration": 8,
    "start_time": "2021-09-21T19:17:08.956Z"
   },
   {
    "duration": 23,
    "start_time": "2021-09-21T19:17:10.003Z"
   },
   {
    "duration": 17,
    "start_time": "2021-09-21T19:17:10.543Z"
   },
   {
    "duration": 34,
    "start_time": "2021-09-21T19:17:10.892Z"
   },
   {
    "duration": 4,
    "start_time": "2021-09-21T19:17:11.252Z"
   },
   {
    "duration": 15,
    "start_time": "2021-09-21T19:17:11.604Z"
   },
   {
    "duration": 21,
    "start_time": "2021-09-21T19:17:11.962Z"
   },
   {
    "duration": 5,
    "start_time": "2021-09-21T19:17:12.699Z"
   },
   {
    "duration": 5,
    "start_time": "2021-09-21T19:17:12.860Z"
   },
   {
    "duration": 19,
    "start_time": "2021-09-21T19:17:14.644Z"
   },
   {
    "duration": 16,
    "start_time": "2021-09-21T19:17:14.665Z"
   },
   {
    "duration": 3779,
    "start_time": "2021-09-21T19:17:14.683Z"
   },
   {
    "duration": 56,
    "start_time": "2021-09-21T19:17:18.464Z"
   },
   {
    "duration": 33,
    "start_time": "2021-09-21T19:17:18.522Z"
   },
   {
    "duration": 26,
    "start_time": "2021-09-21T19:17:19.635Z"
   },
   {
    "duration": 24,
    "start_time": "2021-09-21T19:23:35.842Z"
   },
   {
    "duration": 25,
    "start_time": "2021-09-21T19:28:15.277Z"
   },
   {
    "duration": 10989,
    "start_time": "2021-09-21T19:29:07.405Z"
   },
   {
    "duration": 391,
    "start_time": "2021-09-21T19:29:51.806Z"
   },
   {
    "duration": 1237,
    "start_time": "2021-09-21T19:29:58.278Z"
   },
   {
    "duration": 70,
    "start_time": "2021-09-21T19:29:59.518Z"
   },
   {
    "duration": 13,
    "start_time": "2021-09-21T19:29:59.591Z"
   },
   {
    "duration": 8,
    "start_time": "2021-09-21T19:29:59.606Z"
   },
   {
    "duration": 21,
    "start_time": "2021-09-21T19:29:59.616Z"
   },
   {
    "duration": 33,
    "start_time": "2021-09-21T19:29:59.714Z"
   },
   {
    "duration": 10,
    "start_time": "2021-09-21T19:30:00.133Z"
   },
   {
    "duration": 9,
    "start_time": "2021-09-21T19:30:00.435Z"
   },
   {
    "duration": 6,
    "start_time": "2021-09-21T19:30:00.906Z"
   },
   {
    "duration": 6,
    "start_time": "2021-09-21T19:30:01.372Z"
   },
   {
    "duration": 7,
    "start_time": "2021-09-21T19:30:01.682Z"
   },
   {
    "duration": 3,
    "start_time": "2021-09-21T19:30:02.006Z"
   },
   {
    "duration": 5,
    "start_time": "2021-09-21T19:30:02.312Z"
   },
   {
    "duration": 5,
    "start_time": "2021-09-21T19:30:02.641Z"
   },
   {
    "duration": 7,
    "start_time": "2021-09-21T19:30:03.273Z"
   },
   {
    "duration": 7,
    "start_time": "2021-09-21T19:30:03.589Z"
   },
   {
    "duration": 8,
    "start_time": "2021-09-21T19:30:03.925Z"
   },
   {
    "duration": 7,
    "start_time": "2021-09-21T19:30:04.275Z"
   },
   {
    "duration": 22,
    "start_time": "2021-09-21T19:30:05.476Z"
   },
   {
    "duration": 17,
    "start_time": "2021-09-21T19:30:06.214Z"
   },
   {
    "duration": 33,
    "start_time": "2021-09-21T19:30:06.516Z"
   },
   {
    "duration": 5,
    "start_time": "2021-09-21T19:30:06.813Z"
   },
   {
    "duration": 14,
    "start_time": "2021-09-21T19:30:07.117Z"
   },
   {
    "duration": 22,
    "start_time": "2021-09-21T19:30:07.414Z"
   },
   {
    "duration": 5,
    "start_time": "2021-09-21T19:30:08.038Z"
   },
   {
    "duration": 5,
    "start_time": "2021-09-21T19:30:08.187Z"
   },
   {
    "duration": 18,
    "start_time": "2021-09-21T19:30:08.796Z"
   },
   {
    "duration": 17,
    "start_time": "2021-09-21T19:30:08.969Z"
   },
   {
    "duration": 3630,
    "start_time": "2021-09-21T19:30:09.598Z"
   },
   {
    "duration": 62,
    "start_time": "2021-09-21T19:30:13.230Z"
   },
   {
    "duration": 33,
    "start_time": "2021-09-21T19:30:13.294Z"
   },
   {
    "duration": 25,
    "start_time": "2021-09-21T19:30:13.963Z"
   },
   {
    "duration": 25,
    "start_time": "2021-09-21T19:30:16.791Z"
   },
   {
    "duration": 26,
    "start_time": "2021-09-21T19:32:47.736Z"
   },
   {
    "duration": 25,
    "start_time": "2021-09-21T19:36:52.791Z"
   },
   {
    "duration": 24,
    "start_time": "2021-09-21T19:37:38.820Z"
   },
   {
    "duration": 39,
    "start_time": "2021-09-21T19:59:18.901Z"
   },
   {
    "duration": 25,
    "start_time": "2021-09-21T20:01:02.746Z"
   },
   {
    "duration": 31,
    "start_time": "2021-09-21T20:01:21.028Z"
   },
   {
    "duration": 31,
    "start_time": "2021-09-21T20:01:26.553Z"
   },
   {
    "duration": 42,
    "start_time": "2021-09-21T20:01:27.320Z"
   },
   {
    "duration": 30,
    "start_time": "2021-09-21T20:01:28.111Z"
   },
   {
    "duration": 32,
    "start_time": "2021-09-21T20:30:39.286Z"
   },
   {
    "duration": 9,
    "start_time": "2021-09-21T20:30:39.927Z"
   },
   {
    "duration": 8,
    "start_time": "2021-09-21T20:30:40.667Z"
   },
   {
    "duration": 9,
    "start_time": "2021-09-21T20:30:41.288Z"
   },
   {
    "duration": 6,
    "start_time": "2021-09-21T20:30:41.650Z"
   },
   {
    "duration": 7,
    "start_time": "2021-09-21T20:30:42.029Z"
   },
   {
    "duration": 4,
    "start_time": "2021-09-21T20:30:42.396Z"
   },
   {
    "duration": 7,
    "start_time": "2021-09-21T20:30:42.994Z"
   },
   {
    "duration": 5,
    "start_time": "2021-09-21T20:30:43.163Z"
   },
   {
    "duration": 6,
    "start_time": "2021-09-21T20:30:44.068Z"
   },
   {
    "duration": 7,
    "start_time": "2021-09-21T20:30:44.290Z"
   },
   {
    "duration": 6,
    "start_time": "2021-09-21T20:30:44.660Z"
   },
   {
    "duration": 6,
    "start_time": "2021-09-21T20:30:45.088Z"
   },
   {
    "duration": 22,
    "start_time": "2021-09-21T20:30:46.232Z"
   },
   {
    "duration": 28,
    "start_time": "2021-09-21T20:30:46.770Z"
   },
   {
    "duration": 28,
    "start_time": "2021-09-21T20:30:47.188Z"
   },
   {
    "duration": 6,
    "start_time": "2021-09-21T20:30:47.579Z"
   },
   {
    "duration": 17,
    "start_time": "2021-09-21T20:30:47.897Z"
   },
   {
    "duration": 29,
    "start_time": "2021-09-21T20:30:48.280Z"
   },
   {
    "duration": 5,
    "start_time": "2021-09-21T20:30:48.928Z"
   },
   {
    "duration": 6,
    "start_time": "2021-09-21T20:30:49.285Z"
   },
   {
    "duration": 2605,
    "start_time": "2021-09-21T20:30:49.760Z"
   },
   {
    "duration": -155,
    "start_time": "2021-09-21T20:30:52.523Z"
   },
   {
    "duration": -156,
    "start_time": "2021-09-21T20:30:52.526Z"
   },
   {
    "duration": -157,
    "start_time": "2021-09-21T20:30:52.528Z"
   },
   {
    "duration": 34,
    "start_time": "2021-09-21T20:30:52.551Z"
   },
   {
    "duration": 32,
    "start_time": "2021-09-21T20:30:53.497Z"
   },
   {
    "duration": 36,
    "start_time": "2021-09-21T20:30:54.449Z"
   },
   {
    "duration": 33,
    "start_time": "2021-09-21T20:30:55.418Z"
   },
   {
    "duration": 31,
    "start_time": "2021-09-21T20:46:06.598Z"
   },
   {
    "duration": 44,
    "start_time": "2021-09-21T20:46:07.599Z"
   },
   {
    "duration": 42,
    "start_time": "2021-09-21T20:46:08.404Z"
   },
   {
    "duration": 3,
    "start_time": "2021-09-21T20:52:30.326Z"
   },
   {
    "duration": 3,
    "start_time": "2021-09-21T20:52:38.307Z"
   },
   {
    "duration": 49,
    "start_time": "2021-09-21T20:52:38.505Z"
   },
   {
    "duration": 12,
    "start_time": "2021-09-21T20:52:38.657Z"
   },
   {
    "duration": 6,
    "start_time": "2021-09-21T20:52:38.955Z"
   },
   {
    "duration": 14,
    "start_time": "2021-09-21T20:52:39.259Z"
   },
   {
    "duration": 11,
    "start_time": "2021-09-21T20:54:08.799Z"
   },
   {
    "duration": 12,
    "start_time": "2021-09-21T20:54:09.184Z"
   },
   {
    "duration": 7,
    "start_time": "2021-09-21T20:54:10.599Z"
   },
   {
    "duration": 8,
    "start_time": "2021-09-21T20:54:10.910Z"
   },
   {
    "duration": 7,
    "start_time": "2021-09-21T20:54:11.239Z"
   },
   {
    "duration": 23,
    "start_time": "2021-09-21T20:54:11.560Z"
   },
   {
    "duration": 32,
    "start_time": "2021-09-21T20:56:49.899Z"
   },
   {
    "duration": 9,
    "start_time": "2021-09-21T20:58:17.105Z"
   },
   {
    "duration": 6,
    "start_time": "2021-09-21T20:59:29.360Z"
   },
   {
    "duration": 28,
    "start_time": "2021-09-21T21:02:27.070Z"
   },
   {
    "duration": 18,
    "start_time": "2021-09-21T21:04:07.600Z"
   },
   {
    "duration": 17,
    "start_time": "2021-09-21T21:04:10.702Z"
   },
   {
    "duration": 4164,
    "start_time": "2021-09-21T21:04:34.904Z"
   },
   {
    "duration": 59,
    "start_time": "2021-09-21T21:05:49.466Z"
   },
   {
    "duration": 36,
    "start_time": "2021-09-21T21:08:09.285Z"
   },
   {
    "duration": 31,
    "start_time": "2021-09-21T21:09:21.799Z"
   },
   {
    "duration": 32,
    "start_time": "2021-09-21T21:10:26.062Z"
   },
   {
    "duration": 1513,
    "start_time": "2021-09-22T17:25:12.575Z"
   },
   {
    "duration": 66,
    "start_time": "2021-09-22T17:25:14.090Z"
   },
   {
    "duration": 15,
    "start_time": "2021-09-22T17:25:14.160Z"
   },
   {
    "duration": 11,
    "start_time": "2021-09-22T17:25:14.177Z"
   },
   {
    "duration": 39,
    "start_time": "2021-09-22T17:25:14.190Z"
   },
   {
    "duration": 64,
    "start_time": "2021-09-22T17:25:14.232Z"
   },
   {
    "duration": 14,
    "start_time": "2021-09-22T17:25:14.298Z"
   },
   {
    "duration": 42,
    "start_time": "2021-09-22T17:25:14.316Z"
   },
   {
    "duration": 8,
    "start_time": "2021-09-22T17:25:14.361Z"
   },
   {
    "duration": 12,
    "start_time": "2021-09-22T17:25:14.371Z"
   },
   {
    "duration": 12,
    "start_time": "2021-09-22T17:25:14.385Z"
   },
   {
    "duration": 11,
    "start_time": "2021-09-22T17:25:14.400Z"
   },
   {
    "duration": 12,
    "start_time": "2021-09-22T17:25:14.414Z"
   },
   {
    "duration": 6,
    "start_time": "2021-09-22T17:25:14.456Z"
   },
   {
    "duration": 14,
    "start_time": "2021-09-22T17:25:14.465Z"
   },
   {
    "duration": 10,
    "start_time": "2021-09-22T17:25:14.481Z"
   },
   {
    "duration": 13,
    "start_time": "2021-09-22T17:25:14.493Z"
   },
   {
    "duration": 12,
    "start_time": "2021-09-22T17:25:14.509Z"
   },
   {
    "duration": 63,
    "start_time": "2021-09-22T17:25:14.523Z"
   },
   {
    "duration": 25,
    "start_time": "2021-09-22T17:25:14.589Z"
   },
   {
    "duration": 74,
    "start_time": "2021-09-22T17:25:14.617Z"
   },
   {
    "duration": 6,
    "start_time": "2021-09-22T17:25:14.693Z"
   },
   {
    "duration": 28,
    "start_time": "2021-09-22T17:25:14.704Z"
   },
   {
    "duration": 42,
    "start_time": "2021-09-22T17:25:14.735Z"
   },
   {
    "duration": 18,
    "start_time": "2021-09-22T17:25:14.780Z"
   },
   {
    "duration": 16,
    "start_time": "2021-09-22T17:25:14.801Z"
   },
   {
    "duration": 31,
    "start_time": "2021-09-22T17:25:14.819Z"
   },
   {
    "duration": 23,
    "start_time": "2021-09-22T17:25:14.852Z"
   },
   {
    "duration": 4477,
    "start_time": "2021-09-22T17:25:14.878Z"
   },
   {
    "duration": 80,
    "start_time": "2021-09-22T17:25:19.358Z"
   },
   {
    "duration": 60,
    "start_time": "2021-09-22T17:25:19.455Z"
   },
   {
    "duration": 68,
    "start_time": "2021-09-22T17:25:19.517Z"
   },
   {
    "duration": 46,
    "start_time": "2021-09-22T17:25:19.588Z"
   },
   {
    "duration": 48,
    "start_time": "2021-09-22T17:25:19.655Z"
   },
   {
    "duration": 4,
    "start_time": "2021-09-22T17:30:09.768Z"
   },
   {
    "duration": 81,
    "start_time": "2021-09-22T17:30:09.775Z"
   },
   {
    "duration": 15,
    "start_time": "2021-09-22T17:30:09.859Z"
   },
   {
    "duration": 11,
    "start_time": "2021-09-22T17:30:09.878Z"
   },
   {
    "duration": 22,
    "start_time": "2021-09-22T17:30:09.891Z"
   },
   {
    "duration": 81,
    "start_time": "2021-09-22T17:30:09.915Z"
   },
   {
    "duration": 15,
    "start_time": "2021-09-22T17:30:09.998Z"
   },
   {
    "duration": 40,
    "start_time": "2021-09-22T17:30:10.017Z"
   },
   {
    "duration": 8,
    "start_time": "2021-09-22T17:30:10.060Z"
   },
   {
    "duration": 15,
    "start_time": "2021-09-22T17:30:10.071Z"
   },
   {
    "duration": 18,
    "start_time": "2021-09-22T17:30:10.088Z"
   },
   {
    "duration": 16,
    "start_time": "2021-09-22T17:30:10.108Z"
   },
   {
    "duration": 29,
    "start_time": "2021-09-22T17:30:10.127Z"
   },
   {
    "duration": 6,
    "start_time": "2021-09-22T17:30:10.159Z"
   },
   {
    "duration": 16,
    "start_time": "2021-09-22T17:30:10.167Z"
   },
   {
    "duration": 10,
    "start_time": "2021-09-22T17:30:10.185Z"
   },
   {
    "duration": 11,
    "start_time": "2021-09-22T17:30:10.197Z"
   },
   {
    "duration": 20,
    "start_time": "2021-09-22T17:30:10.210Z"
   },
   {
    "duration": 56,
    "start_time": "2021-09-22T17:30:10.233Z"
   },
   {
    "duration": 31,
    "start_time": "2021-09-22T17:30:10.292Z"
   },
   {
    "duration": 75,
    "start_time": "2021-09-22T17:30:10.326Z"
   },
   {
    "duration": 55,
    "start_time": "2021-09-22T17:30:10.404Z"
   },
   {
    "duration": 6,
    "start_time": "2021-09-22T17:30:10.463Z"
   },
   {
    "duration": 29,
    "start_time": "2021-09-22T17:30:10.471Z"
   },
   {
    "duration": 27,
    "start_time": "2021-09-22T17:30:10.503Z"
   },
   {
    "duration": 26,
    "start_time": "2021-09-22T17:30:10.533Z"
   },
   {
    "duration": 7,
    "start_time": "2021-09-22T17:30:10.562Z"
   },
   {
    "duration": 31,
    "start_time": "2021-09-22T17:30:10.571Z"
   },
   {
    "duration": 51,
    "start_time": "2021-09-22T17:30:10.605Z"
   },
   {
    "duration": 4630,
    "start_time": "2021-09-22T17:30:10.658Z"
   },
   {
    "duration": 92,
    "start_time": "2021-09-22T17:30:15.290Z"
   },
   {
    "duration": 56,
    "start_time": "2021-09-22T17:30:15.384Z"
   },
   {
    "duration": 45,
    "start_time": "2021-09-22T17:30:15.456Z"
   },
   {
    "duration": 66,
    "start_time": "2021-09-22T17:30:15.503Z"
   },
   {
    "duration": 48,
    "start_time": "2021-09-22T17:30:15.571Z"
   },
   {
    "duration": 22,
    "start_time": "2021-09-22T17:31:30.910Z"
   },
   {
    "duration": 10,
    "start_time": "2021-09-22T17:40:56.703Z"
   },
   {
    "duration": 219,
    "start_time": "2021-09-23T13:21:26.602Z"
   },
   {
    "duration": 178,
    "start_time": "2021-09-23T13:21:28.106Z"
   },
   {
    "duration": 181,
    "start_time": "2021-09-23T13:21:40.442Z"
   },
   {
    "duration": 191,
    "start_time": "2021-09-23T13:21:42.615Z"
   },
   {
    "duration": 1174,
    "start_time": "2021-09-23T13:22:43.083Z"
   },
   {
    "duration": 51,
    "start_time": "2021-09-23T13:22:44.259Z"
   },
   {
    "duration": 12,
    "start_time": "2021-09-23T13:22:44.312Z"
   },
   {
    "duration": 18,
    "start_time": "2021-09-23T13:22:44.325Z"
   },
   {
    "duration": 20,
    "start_time": "2021-09-23T13:22:44.344Z"
   },
   {
    "duration": 31,
    "start_time": "2021-09-23T13:22:44.565Z"
   },
   {
    "duration": 9,
    "start_time": "2021-09-23T13:22:45.027Z"
   },
   {
    "duration": 8,
    "start_time": "2021-09-23T13:22:45.340Z"
   },
   {
    "duration": 5,
    "start_time": "2021-09-23T13:22:45.974Z"
   },
   {
    "duration": 6,
    "start_time": "2021-09-23T13:22:46.283Z"
   },
   {
    "duration": 7,
    "start_time": "2021-09-23T13:22:46.619Z"
   },
   {
    "duration": 4,
    "start_time": "2021-09-23T13:22:46.973Z"
   },
   {
    "duration": 7,
    "start_time": "2021-09-23T13:22:47.436Z"
   },
   {
    "duration": 4,
    "start_time": "2021-09-23T13:22:47.772Z"
   },
   {
    "duration": 59,
    "start_time": "2021-09-23T13:23:48.508Z"
   },
   {
    "duration": 62,
    "start_time": "2021-09-23T13:23:52.146Z"
   },
   {
    "duration": 5,
    "start_time": "2021-09-23T13:23:52.779Z"
   },
   {
    "duration": 59,
    "start_time": "2021-09-23T13:24:36.514Z"
   },
   {
    "duration": 64,
    "start_time": "2021-09-23T13:24:39.910Z"
   },
   {
    "duration": 5,
    "start_time": "2021-09-23T13:25:42.575Z"
   },
   {
    "duration": 1351,
    "start_time": "2021-09-23T13:31:45.397Z"
   },
   {
    "duration": 9,
    "start_time": "2021-09-23T13:31:51.822Z"
   },
   {
    "duration": 1181,
    "start_time": "2021-09-23T13:31:53.054Z"
   },
   {
    "duration": 8,
    "start_time": "2021-09-23T13:32:19.190Z"
   },
   {
    "duration": 8,
    "start_time": "2021-09-23T13:32:23.773Z"
   },
   {
    "duration": 1273,
    "start_time": "2021-09-23T13:34:23.529Z"
   },
   {
    "duration": 8,
    "start_time": "2021-09-23T13:34:45.983Z"
   },
   {
    "duration": 7,
    "start_time": "2021-09-23T13:38:00.104Z"
   },
   {
    "duration": 9,
    "start_time": "2021-09-23T13:38:34.514Z"
   },
   {
    "duration": 8,
    "start_time": "2021-09-23T13:38:35.338Z"
   },
   {
    "duration": 5,
    "start_time": "2021-09-23T14:38:45.508Z"
   },
   {
    "duration": 28,
    "start_time": "2021-09-23T14:42:37.569Z"
   },
   {
    "duration": 20,
    "start_time": "2021-09-23T14:42:38.955Z"
   },
   {
    "duration": 42,
    "start_time": "2021-09-23T14:42:54.057Z"
   },
   {
    "duration": 20,
    "start_time": "2021-09-23T14:42:56.205Z"
   },
   {
    "duration": 22,
    "start_time": "2021-09-23T14:42:59.136Z"
   },
   {
    "duration": 26,
    "start_time": "2021-09-23T14:43:38.400Z"
   },
   {
    "duration": 20,
    "start_time": "2021-09-23T14:43:39.080Z"
   },
   {
    "duration": 11,
    "start_time": "2021-09-23T14:43:43.438Z"
   },
   {
    "duration": 5,
    "start_time": "2021-09-23T14:43:44.850Z"
   },
   {
    "duration": 12,
    "start_time": "2021-09-23T14:43:45.621Z"
   },
   {
    "duration": 27,
    "start_time": "2021-09-23T14:44:45.702Z"
   },
   {
    "duration": 21,
    "start_time": "2021-09-23T14:44:46.972Z"
   },
   {
    "duration": 10,
    "start_time": "2021-09-23T14:44:48.069Z"
   },
   {
    "duration": 21,
    "start_time": "2021-09-23T14:45:24.541Z"
   },
   {
    "duration": 21,
    "start_time": "2021-09-23T14:45:25.436Z"
   },
   {
    "duration": 10,
    "start_time": "2021-09-23T14:45:27.468Z"
   },
   {
    "duration": 1101,
    "start_time": "2021-09-23T14:45:38.737Z"
   },
   {
    "duration": 50,
    "start_time": "2021-09-23T14:45:39.840Z"
   },
   {
    "duration": 11,
    "start_time": "2021-09-23T14:45:39.891Z"
   },
   {
    "duration": 7,
    "start_time": "2021-09-23T14:45:39.904Z"
   },
   {
    "duration": 21,
    "start_time": "2021-09-23T14:45:39.912Z"
   },
   {
    "duration": 32,
    "start_time": "2021-09-23T14:45:40.317Z"
   },
   {
    "duration": 10,
    "start_time": "2021-09-23T14:45:40.856Z"
   },
   {
    "duration": 8,
    "start_time": "2021-09-23T14:45:41.360Z"
   },
   {
    "duration": 9,
    "start_time": "2021-09-23T14:45:41.617Z"
   },
   {
    "duration": 6,
    "start_time": "2021-09-23T14:45:42.736Z"
   },
   {
    "duration": 6,
    "start_time": "2021-09-23T14:45:43.328Z"
   },
   {
    "duration": 6,
    "start_time": "2021-09-23T14:45:44.104Z"
   },
   {
    "duration": 4,
    "start_time": "2021-09-23T14:45:44.688Z"
   },
   {
    "duration": 6,
    "start_time": "2021-09-23T14:45:45.733Z"
   },
   {
    "duration": 5,
    "start_time": "2021-09-23T14:45:46.176Z"
   },
   {
    "duration": 7,
    "start_time": "2021-09-23T14:45:49.785Z"
   },
   {
    "duration": 6,
    "start_time": "2021-09-23T14:45:51.607Z"
   },
   {
    "duration": 7,
    "start_time": "2021-09-23T14:45:51.975Z"
   },
   {
    "duration": 6,
    "start_time": "2021-09-23T14:45:52.336Z"
   },
   {
    "duration": 20,
    "start_time": "2021-09-23T14:45:53.953Z"
   },
   {
    "duration": 16,
    "start_time": "2021-09-23T14:45:54.600Z"
   },
   {
    "duration": 21,
    "start_time": "2021-09-23T14:45:55.503Z"
   },
   {
    "duration": 19,
    "start_time": "2021-09-23T14:45:56.970Z"
   },
   {
    "duration": 26,
    "start_time": "2021-09-23T14:46:12.320Z"
   },
   {
    "duration": 20,
    "start_time": "2021-09-23T14:46:13.569Z"
   },
   {
    "duration": 1512,
    "start_time": "2021-09-23T14:46:34.114Z"
   },
   {
    "duration": 49,
    "start_time": "2021-09-23T14:46:35.628Z"
   },
   {
    "duration": 10,
    "start_time": "2021-09-23T14:46:35.679Z"
   },
   {
    "duration": 12,
    "start_time": "2021-09-23T14:46:35.690Z"
   },
   {
    "duration": 18,
    "start_time": "2021-09-23T14:46:35.703Z"
   },
   {
    "duration": 29,
    "start_time": "2021-09-23T14:46:35.723Z"
   },
   {
    "duration": 9,
    "start_time": "2021-09-23T14:46:36.658Z"
   },
   {
    "duration": 8,
    "start_time": "2021-09-23T14:46:37.140Z"
   },
   {
    "duration": 7,
    "start_time": "2021-09-23T14:46:37.300Z"
   },
   {
    "duration": 6,
    "start_time": "2021-09-23T14:46:37.939Z"
   },
   {
    "duration": 6,
    "start_time": "2021-09-23T14:46:38.277Z"
   },
   {
    "duration": 7,
    "start_time": "2021-09-23T14:46:38.667Z"
   },
   {
    "duration": 3,
    "start_time": "2021-09-23T14:46:39.199Z"
   },
   {
    "duration": 6,
    "start_time": "2021-09-23T14:46:39.779Z"
   },
   {
    "duration": 4,
    "start_time": "2021-09-23T14:46:40.210Z"
   },
   {
    "duration": 7,
    "start_time": "2021-09-23T14:46:41.155Z"
   },
   {
    "duration": 5,
    "start_time": "2021-09-23T14:46:41.547Z"
   },
   {
    "duration": 7,
    "start_time": "2021-09-23T14:46:41.986Z"
   },
   {
    "duration": 7,
    "start_time": "2021-09-23T14:46:42.347Z"
   },
   {
    "duration": 22,
    "start_time": "2021-09-23T14:46:44.084Z"
   },
   {
    "duration": 15,
    "start_time": "2021-09-23T14:46:45.429Z"
   },
   {
    "duration": 29,
    "start_time": "2021-09-23T14:46:46.731Z"
   },
   {
    "duration": 20,
    "start_time": "2021-09-23T14:46:47.875Z"
   },
   {
    "duration": 21,
    "start_time": "2021-09-23T14:46:59.100Z"
   },
   {
    "duration": 20,
    "start_time": "2021-09-23T14:46:59.477Z"
   },
   {
    "duration": 10,
    "start_time": "2021-09-23T14:46:59.636Z"
   },
   {
    "duration": 1096,
    "start_time": "2021-09-23T14:47:08.531Z"
   },
   {
    "duration": 48,
    "start_time": "2021-09-23T14:47:09.629Z"
   },
   {
    "duration": 10,
    "start_time": "2021-09-23T14:47:09.678Z"
   },
   {
    "duration": 29,
    "start_time": "2021-09-23T14:47:09.690Z"
   },
   {
    "duration": 35,
    "start_time": "2021-09-23T14:47:09.720Z"
   },
   {
    "duration": 31,
    "start_time": "2021-09-23T14:47:10.032Z"
   },
   {
    "duration": 9,
    "start_time": "2021-09-23T14:47:10.490Z"
   },
   {
    "duration": 9,
    "start_time": "2021-09-23T14:47:10.819Z"
   },
   {
    "duration": 8,
    "start_time": "2021-09-23T14:47:10.986Z"
   },
   {
    "duration": 6,
    "start_time": "2021-09-23T14:47:11.635Z"
   },
   {
    "duration": 8,
    "start_time": "2021-09-23T14:47:11.973Z"
   },
   {
    "duration": 7,
    "start_time": "2021-09-23T14:47:12.325Z"
   },
   {
    "duration": 4,
    "start_time": "2021-09-23T14:47:12.667Z"
   },
   {
    "duration": 7,
    "start_time": "2021-09-23T14:47:13.185Z"
   },
   {
    "duration": 5,
    "start_time": "2021-09-23T14:47:13.541Z"
   },
   {
    "duration": 7,
    "start_time": "2021-09-23T14:47:14.420Z"
   },
   {
    "duration": 6,
    "start_time": "2021-09-23T14:47:14.755Z"
   },
   {
    "duration": 7,
    "start_time": "2021-09-23T14:47:15.080Z"
   },
   {
    "duration": 7,
    "start_time": "2021-09-23T14:47:15.426Z"
   },
   {
    "duration": 22,
    "start_time": "2021-09-23T14:47:16.693Z"
   },
   {
    "duration": 16,
    "start_time": "2021-09-23T14:47:17.268Z"
   },
   {
    "duration": 22,
    "start_time": "2021-09-23T14:47:18.146Z"
   },
   {
    "duration": 19,
    "start_time": "2021-09-23T14:47:18.779Z"
   },
   {
    "duration": 11,
    "start_time": "2021-09-23T14:47:19.763Z"
   },
   {
    "duration": 4,
    "start_time": "2021-09-23T14:47:27.364Z"
   },
   {
    "duration": 13,
    "start_time": "2021-09-23T14:47:27.739Z"
   },
   {
    "duration": 19,
    "start_time": "2021-09-23T14:47:38.131Z"
   },
   {
    "duration": 5,
    "start_time": "2021-09-23T14:47:39.795Z"
   },
   {
    "duration": 5,
    "start_time": "2021-09-23T14:47:40.515Z"
   },
   {
    "duration": 19,
    "start_time": "2021-09-23T14:47:43.354Z"
   },
   {
    "duration": 307,
    "start_time": "2021-09-23T14:48:50.979Z"
   },
   {
    "duration": 198,
    "start_time": "2021-09-23T14:50:22.254Z"
   },
   {
    "duration": 16,
    "start_time": "2021-09-23T14:50:36.005Z"
   },
   {
    "duration": 17,
    "start_time": "2021-09-23T14:50:39.575Z"
   },
   {
    "duration": 1084,
    "start_time": "2021-09-23T14:50:51.540Z"
   },
   {
    "duration": 49,
    "start_time": "2021-09-23T14:50:52.626Z"
   },
   {
    "duration": 10,
    "start_time": "2021-09-23T14:50:52.677Z"
   },
   {
    "duration": 10,
    "start_time": "2021-09-23T14:50:52.689Z"
   },
   {
    "duration": 19,
    "start_time": "2021-09-23T14:50:52.701Z"
   },
   {
    "duration": 31,
    "start_time": "2021-09-23T14:50:53.161Z"
   },
   {
    "duration": 9,
    "start_time": "2021-09-23T14:50:53.668Z"
   },
   {
    "duration": 8,
    "start_time": "2021-09-23T14:50:54.037Z"
   },
   {
    "duration": 7,
    "start_time": "2021-09-23T14:50:54.203Z"
   },
   {
    "duration": 5,
    "start_time": "2021-09-23T14:50:54.932Z"
   },
   {
    "duration": 6,
    "start_time": "2021-09-23T14:50:55.510Z"
   },
   {
    "duration": 6,
    "start_time": "2021-09-23T14:50:55.844Z"
   },
   {
    "duration": 4,
    "start_time": "2021-09-23T14:50:56.179Z"
   },
   {
    "duration": 6,
    "start_time": "2021-09-23T14:50:56.688Z"
   },
   {
    "duration": 4,
    "start_time": "2021-09-23T14:51:00.215Z"
   },
   {
    "duration": 7,
    "start_time": "2021-09-23T14:51:05.055Z"
   },
   {
    "duration": 6,
    "start_time": "2021-09-23T14:51:06.420Z"
   },
   {
    "duration": 6,
    "start_time": "2021-09-23T14:51:06.794Z"
   },
   {
    "duration": 6,
    "start_time": "2021-09-23T14:51:08.932Z"
   },
   {
    "duration": 20,
    "start_time": "2021-09-23T14:51:12.631Z"
   },
   {
    "duration": 16,
    "start_time": "2021-09-23T14:51:14.476Z"
   },
   {
    "duration": 21,
    "start_time": "2021-09-23T14:51:28.949Z"
   },
   {
    "duration": 20,
    "start_time": "2021-09-23T14:51:30.479Z"
   },
   {
    "duration": 12,
    "start_time": "2021-09-23T14:51:34.771Z"
   },
   {
    "duration": 5,
    "start_time": "2021-09-23T14:51:37.100Z"
   },
   {
    "duration": 13,
    "start_time": "2021-09-23T14:51:37.788Z"
   },
   {
    "duration": 20,
    "start_time": "2021-09-23T14:51:43.586Z"
   },
   {
    "duration": 4,
    "start_time": "2021-09-23T14:51:47.829Z"
   },
   {
    "duration": 5,
    "start_time": "2021-09-23T14:51:48.027Z"
   },
   {
    "duration": 17,
    "start_time": "2021-09-23T14:51:51.051Z"
   },
   {
    "duration": 15,
    "start_time": "2021-09-23T14:57:05.297Z"
   },
   {
    "duration": 16,
    "start_time": "2021-09-23T14:57:07.849Z"
   },
   {
    "duration": 17,
    "start_time": "2021-09-23T15:00:23.213Z"
   },
   {
    "duration": 5,
    "start_time": "2021-09-23T15:01:41.597Z"
   },
   {
    "duration": 8,
    "start_time": "2021-09-23T15:01:58.495Z"
   },
   {
    "duration": -89,
    "start_time": "2021-09-23T15:02:52.526Z"
   },
   {
    "duration": 8,
    "start_time": "2021-09-23T15:02:54.481Z"
   },
   {
    "duration": 7,
    "start_time": "2021-09-23T15:03:34.705Z"
   },
   {
    "duration": 7,
    "start_time": "2021-09-23T15:04:06.889Z"
   },
   {
    "duration": 2,
    "start_time": "2021-09-23T15:06:05.135Z"
   },
   {
    "duration": 8,
    "start_time": "2021-09-23T15:06:08.321Z"
   },
   {
    "duration": 12,
    "start_time": "2021-09-23T15:07:26.514Z"
   },
   {
    "duration": 2,
    "start_time": "2021-09-23T15:09:53.415Z"
   },
   {
    "duration": 5,
    "start_time": "2021-09-23T15:13:15.905Z"
   },
   {
    "duration": 414,
    "start_time": "2021-09-23T15:14:19.862Z"
   },
   {
    "duration": 12,
    "start_time": "2021-09-23T15:18:45.741Z"
   },
   {
    "duration": 12,
    "start_time": "2021-09-23T15:19:21.029Z"
   },
   {
    "duration": 3561,
    "start_time": "2021-09-23T15:29:18.772Z"
   },
   {
    "duration": 6,
    "start_time": "2021-09-23T15:33:32.702Z"
   },
   {
    "duration": 16,
    "start_time": "2021-09-23T15:33:38.510Z"
   },
   {
    "duration": 5,
    "start_time": "2021-09-23T15:33:44.972Z"
   },
   {
    "duration": 9,
    "start_time": "2021-09-23T15:33:51.247Z"
   },
   {
    "duration": 190,
    "start_time": "2021-09-23T15:39:05.669Z"
   },
   {
    "duration": 195,
    "start_time": "2021-09-23T15:39:36.324Z"
   },
   {
    "duration": 25,
    "start_time": "2021-09-23T15:39:52.085Z"
   },
   {
    "duration": 11,
    "start_time": "2021-09-23T15:40:11.090Z"
   },
   {
    "duration": 9,
    "start_time": "2021-09-23T15:40:34.865Z"
   },
   {
    "duration": 9,
    "start_time": "2021-09-23T15:40:50.370Z"
   },
   {
    "duration": 9,
    "start_time": "2021-09-23T15:41:18.569Z"
   },
   {
    "duration": 9,
    "start_time": "2021-09-23T15:41:27.473Z"
   },
   {
    "duration": 11,
    "start_time": "2021-09-23T15:41:46.403Z"
   },
   {
    "duration": 3,
    "start_time": "2021-09-23T15:42:09.197Z"
   },
   {
    "duration": 3517,
    "start_time": "2021-09-23T15:43:36.566Z"
   },
   {
    "duration": 249,
    "start_time": "2021-09-23T15:46:00.088Z"
   },
   {
    "duration": 1103,
    "start_time": "2021-09-23T15:46:17.864Z"
   },
   {
    "duration": 54,
    "start_time": "2021-09-23T15:46:18.969Z"
   },
   {
    "duration": 10,
    "start_time": "2021-09-23T15:46:19.025Z"
   },
   {
    "duration": 7,
    "start_time": "2021-09-23T15:46:19.036Z"
   },
   {
    "duration": 20,
    "start_time": "2021-09-23T15:46:19.045Z"
   },
   {
    "duration": 38,
    "start_time": "2021-09-23T15:46:19.180Z"
   },
   {
    "duration": 10,
    "start_time": "2021-09-23T15:46:19.671Z"
   },
   {
    "duration": 10,
    "start_time": "2021-09-23T15:46:19.909Z"
   },
   {
    "duration": 8,
    "start_time": "2021-09-23T15:46:20.225Z"
   },
   {
    "duration": 7,
    "start_time": "2021-09-23T15:46:20.718Z"
   },
   {
    "duration": 7,
    "start_time": "2021-09-23T15:46:21.021Z"
   },
   {
    "duration": 7,
    "start_time": "2021-09-23T15:46:21.353Z"
   },
   {
    "duration": 3,
    "start_time": "2021-09-23T15:46:21.771Z"
   },
   {
    "duration": 6,
    "start_time": "2021-09-23T15:46:22.161Z"
   },
   {
    "duration": 4,
    "start_time": "2021-09-23T15:46:22.924Z"
   },
   {
    "duration": 10,
    "start_time": "2021-09-23T15:46:24.596Z"
   },
   {
    "duration": 8,
    "start_time": "2021-09-23T15:46:27.013Z"
   },
   {
    "duration": 8,
    "start_time": "2021-09-23T15:46:27.407Z"
   },
   {
    "duration": 7,
    "start_time": "2021-09-23T15:46:28.060Z"
   },
   {
    "duration": 28,
    "start_time": "2021-09-23T15:46:29.501Z"
   },
   {
    "duration": 17,
    "start_time": "2021-09-23T15:46:31.462Z"
   },
   {
    "duration": 22,
    "start_time": "2021-09-23T15:46:33.858Z"
   },
   {
    "duration": 21,
    "start_time": "2021-09-23T15:46:37.238Z"
   },
   {
    "duration": 11,
    "start_time": "2021-09-23T15:46:38.980Z"
   },
   {
    "duration": 5,
    "start_time": "2021-09-23T15:46:40.971Z"
   },
   {
    "duration": 14,
    "start_time": "2021-09-23T15:46:42.893Z"
   },
   {
    "duration": 21,
    "start_time": "2021-09-23T15:46:54.724Z"
   },
   {
    "duration": 5,
    "start_time": "2021-09-23T15:46:59.042Z"
   },
   {
    "duration": 5,
    "start_time": "2021-09-23T15:46:59.367Z"
   },
   {
    "duration": 18,
    "start_time": "2021-09-23T15:47:02.101Z"
   },
   {
    "duration": 15,
    "start_time": "2021-09-23T15:47:02.429Z"
   },
   {
    "duration": 16,
    "start_time": "2021-09-23T15:47:02.766Z"
   },
   {
    "duration": 3,
    "start_time": "2021-09-23T15:47:03.110Z"
   },
   {
    "duration": 13,
    "start_time": "2021-09-23T15:47:03.889Z"
   },
   {
    "duration": 3,
    "start_time": "2021-09-23T15:47:08.884Z"
   },
   {
    "duration": 3621,
    "start_time": "2021-09-23T15:47:10.666Z"
   },
   {
    "duration": 49,
    "start_time": "2021-09-23T15:47:22.302Z"
   },
   {
    "duration": 7,
    "start_time": "2021-09-23T15:47:29.225Z"
   },
   {
    "duration": 62,
    "start_time": "2021-09-23T15:47:33.163Z"
   },
   {
    "duration": 37,
    "start_time": "2021-09-23T15:47:37.803Z"
   },
   {
    "duration": 30,
    "start_time": "2021-09-23T15:47:49.067Z"
   },
   {
    "duration": 29,
    "start_time": "2021-09-23T15:47:50.762Z"
   },
   {
    "duration": 315,
    "start_time": "2021-09-23T15:56:22.030Z"
   },
   {
    "duration": 39,
    "start_time": "2021-09-23T15:57:00.950Z"
   },
   {
    "duration": 34,
    "start_time": "2021-09-23T15:58:40.302Z"
   },
   {
    "duration": 5,
    "start_time": "2021-09-23T16:06:13.261Z"
   },
   {
    "duration": 168,
    "start_time": "2021-09-23T16:06:39.831Z"
   },
   {
    "duration": 5,
    "start_time": "2021-09-23T16:12:22.380Z"
   },
   {
    "duration": 30,
    "start_time": "2021-09-23T16:13:49.420Z"
   },
   {
    "duration": 30,
    "start_time": "2021-09-23T16:15:12.329Z"
   },
   {
    "duration": 4,
    "start_time": "2021-09-23T16:16:37.353Z"
   },
   {
    "duration": 30,
    "start_time": "2021-09-23T16:16:44.926Z"
   },
   {
    "duration": 31,
    "start_time": "2021-09-23T16:16:45.926Z"
   },
   {
    "duration": 34,
    "start_time": "2021-09-23T16:16:46.741Z"
   },
   {
    "duration": 31,
    "start_time": "2021-09-23T16:23:55.153Z"
   },
   {
    "duration": 1093,
    "start_time": "2021-09-23T16:24:19.271Z"
   },
   {
    "duration": 56,
    "start_time": "2021-09-23T16:24:20.366Z"
   },
   {
    "duration": 10,
    "start_time": "2021-09-23T16:24:20.425Z"
   },
   {
    "duration": 10,
    "start_time": "2021-09-23T16:24:20.437Z"
   },
   {
    "duration": 18,
    "start_time": "2021-09-23T16:24:20.449Z"
   },
   {
    "duration": 35,
    "start_time": "2021-09-23T16:24:20.832Z"
   },
   {
    "duration": 10,
    "start_time": "2021-09-23T16:24:21.313Z"
   },
   {
    "duration": 9,
    "start_time": "2021-09-23T16:24:21.683Z"
   },
   {
    "duration": 7,
    "start_time": "2021-09-23T16:24:21.857Z"
   },
   {
    "duration": 9,
    "start_time": "2021-09-23T16:24:22.597Z"
   },
   {
    "duration": 9,
    "start_time": "2021-09-23T16:24:23.103Z"
   },
   {
    "duration": 9,
    "start_time": "2021-09-23T16:24:23.543Z"
   },
   {
    "duration": 4,
    "start_time": "2021-09-23T16:24:23.934Z"
   },
   {
    "duration": 7,
    "start_time": "2021-09-23T16:24:24.439Z"
   },
   {
    "duration": 4,
    "start_time": "2021-09-23T16:24:24.783Z"
   },
   {
    "duration": 7,
    "start_time": "2021-09-23T16:24:25.663Z"
   },
   {
    "duration": 6,
    "start_time": "2021-09-23T16:24:26.016Z"
   },
   {
    "duration": 7,
    "start_time": "2021-09-23T16:24:26.344Z"
   },
   {
    "duration": 10,
    "start_time": "2021-09-23T16:24:26.698Z"
   },
   {
    "duration": 19,
    "start_time": "2021-09-23T16:24:27.752Z"
   },
   {
    "duration": 15,
    "start_time": "2021-09-23T16:24:28.245Z"
   },
   {
    "duration": 56,
    "start_time": "2021-09-23T16:24:28.644Z"
   },
   {
    "duration": 20,
    "start_time": "2021-09-23T16:24:28.985Z"
   },
   {
    "duration": 10,
    "start_time": "2021-09-23T16:24:29.168Z"
   },
   {
    "duration": 5,
    "start_time": "2021-09-23T16:24:29.544Z"
   },
   {
    "duration": 13,
    "start_time": "2021-09-23T16:24:29.935Z"
   },
   {
    "duration": 20,
    "start_time": "2021-09-23T16:24:30.449Z"
   },
   {
    "duration": 5,
    "start_time": "2021-09-23T16:24:31.183Z"
   },
   {
    "duration": 5,
    "start_time": "2021-09-23T16:24:31.376Z"
   },
   {
    "duration": 16,
    "start_time": "2021-09-23T16:24:32.273Z"
   },
   {
    "duration": 15,
    "start_time": "2021-09-23T16:24:32.646Z"
   },
   {
    "duration": 16,
    "start_time": "2021-09-23T16:24:33.215Z"
   },
   {
    "duration": 3,
    "start_time": "2021-09-23T16:24:35.279Z"
   },
   {
    "duration": 11,
    "start_time": "2021-09-23T16:24:35.656Z"
   },
   {
    "duration": 2,
    "start_time": "2021-09-23T16:24:35.935Z"
   },
   {
    "duration": 3444,
    "start_time": "2021-09-23T16:24:36.566Z"
   },
   {
    "duration": 54,
    "start_time": "2021-09-23T16:24:40.012Z"
   },
   {
    "duration": 7,
    "start_time": "2021-09-23T16:24:40.067Z"
   },
   {
    "duration": 348,
    "start_time": "2021-09-23T16:24:40.075Z"
   },
   {
    "duration": 30,
    "start_time": "2021-09-23T16:25:02.856Z"
   },
   {
    "duration": 45,
    "start_time": "2021-09-23T16:25:21.318Z"
   },
   {
    "duration": 209,
    "start_time": "2021-09-23T16:25:33.279Z"
   },
   {
    "duration": 39,
    "start_time": "2021-09-23T16:25:38.890Z"
   },
   {
    "duration": 32,
    "start_time": "2021-09-23T16:25:42.262Z"
   },
   {
    "duration": 194,
    "start_time": "2021-09-23T17:04:02.416Z"
   },
   {
    "duration": 1904,
    "start_time": "2021-09-23T17:04:14.183Z"
   },
   {
    "duration": 25,
    "start_time": "2021-09-23T17:04:37.551Z"
   },
   {
    "duration": 387,
    "start_time": "2021-09-23T17:05:10.766Z"
   },
   {
    "duration": 25,
    "start_time": "2021-09-23T17:05:39.035Z"
   },
   {
    "duration": 5,
    "start_time": "2021-09-23T17:07:37.875Z"
   },
   {
    "duration": 24,
    "start_time": "2021-09-23T17:07:59.465Z"
   },
   {
    "duration": 24,
    "start_time": "2021-09-23T17:08:09.476Z"
   },
   {
    "duration": 5,
    "start_time": "2021-09-23T17:08:15.401Z"
   },
   {
    "duration": 25,
    "start_time": "2021-09-23T17:08:20.643Z"
   },
   {
    "duration": 1261,
    "start_time": "2021-09-23T17:09:02.367Z"
   },
   {
    "duration": 179,
    "start_time": "2021-09-23T17:09:52.289Z"
   },
   {
    "duration": 204,
    "start_time": "2021-09-23T17:11:48.275Z"
   },
   {
    "duration": 214,
    "start_time": "2021-09-23T17:12:53.035Z"
   },
   {
    "duration": 6,
    "start_time": "2021-09-23T17:12:58.247Z"
   },
   {
    "duration": 27,
    "start_time": "2021-09-23T17:13:22.588Z"
   },
   {
    "duration": 71,
    "start_time": "2021-09-23T17:13:29.077Z"
   },
   {
    "duration": 59,
    "start_time": "2021-09-23T17:13:35.285Z"
   },
   {
    "duration": 29,
    "start_time": "2021-09-23T17:13:40.975Z"
   },
   {
    "duration": 27,
    "start_time": "2021-09-23T17:13:44.577Z"
   },
   {
    "duration": 40,
    "start_time": "2021-09-23T17:13:51.625Z"
   },
   {
    "duration": 26,
    "start_time": "2021-09-23T17:14:10.558Z"
   },
   {
    "duration": 27,
    "start_time": "2021-09-23T17:14:22.362Z"
   },
   {
    "duration": 179,
    "start_time": "2021-09-23T17:14:54.532Z"
   },
   {
    "duration": 35,
    "start_time": "2021-09-23T17:16:18.644Z"
   },
   {
    "duration": 45,
    "start_time": "2021-09-23T17:17:09.285Z"
   },
   {
    "duration": 36,
    "start_time": "2021-09-23T17:19:53.965Z"
   },
   {
    "duration": 44,
    "start_time": "2021-09-23T17:20:09.245Z"
   },
   {
    "duration": 43,
    "start_time": "2021-09-23T17:20:12.565Z"
   },
   {
    "duration": 44,
    "start_time": "2021-09-23T17:20:31.675Z"
   },
   {
    "duration": 41,
    "start_time": "2021-09-23T17:20:46.340Z"
   },
   {
    "duration": 195,
    "start_time": "2021-09-23T17:21:07.885Z"
   },
   {
    "duration": 41,
    "start_time": "2021-09-23T17:21:37.268Z"
   },
   {
    "duration": 40,
    "start_time": "2021-09-23T17:21:46.420Z"
   },
   {
    "duration": 41,
    "start_time": "2021-09-23T17:21:54.595Z"
   },
   {
    "duration": 58,
    "start_time": "2021-09-23T17:22:28.865Z"
   },
   {
    "duration": 57,
    "start_time": "2021-09-23T17:22:33.801Z"
   },
   {
    "duration": 24,
    "start_time": "2021-09-23T17:23:24.801Z"
   },
   {
    "duration": 34,
    "start_time": "2021-09-23T17:28:58.470Z"
   },
   {
    "duration": 32,
    "start_time": "2021-09-23T17:29:18.942Z"
   },
   {
    "duration": 32,
    "start_time": "2021-09-23T17:29:31.164Z"
   },
   {
    "duration": 32,
    "start_time": "2021-09-23T17:29:53.440Z"
   },
   {
    "duration": 32,
    "start_time": "2021-09-23T17:32:37.936Z"
   },
   {
    "duration": 30,
    "start_time": "2021-09-23T17:32:59.164Z"
   },
   {
    "duration": 31,
    "start_time": "2021-09-23T17:33:06.122Z"
   },
   {
    "duration": 32,
    "start_time": "2021-09-23T17:34:10.853Z"
   },
   {
    "duration": 1211,
    "start_time": "2021-09-23T17:34:56.143Z"
   },
   {
    "duration": 51,
    "start_time": "2021-09-23T17:34:57.355Z"
   },
   {
    "duration": 10,
    "start_time": "2021-09-23T17:34:57.408Z"
   },
   {
    "duration": 7,
    "start_time": "2021-09-23T17:34:57.420Z"
   },
   {
    "duration": 19,
    "start_time": "2021-09-23T17:34:57.429Z"
   },
   {
    "duration": 34,
    "start_time": "2021-09-23T17:34:57.807Z"
   },
   {
    "duration": 10,
    "start_time": "2021-09-23T17:34:58.292Z"
   },
   {
    "duration": 8,
    "start_time": "2021-09-23T17:34:58.652Z"
   },
   {
    "duration": 8,
    "start_time": "2021-09-23T17:34:58.797Z"
   },
   {
    "duration": 6,
    "start_time": "2021-09-23T17:34:59.452Z"
   },
   {
    "duration": 7,
    "start_time": "2021-09-23T17:34:59.796Z"
   },
   {
    "duration": 7,
    "start_time": "2021-09-23T17:35:00.143Z"
   },
   {
    "duration": 4,
    "start_time": "2021-09-23T17:35:00.453Z"
   },
   {
    "duration": 6,
    "start_time": "2021-09-23T17:35:00.946Z"
   },
   {
    "duration": 4,
    "start_time": "2021-09-23T17:35:01.285Z"
   },
   {
    "duration": 6,
    "start_time": "2021-09-23T17:35:02.142Z"
   },
   {
    "duration": 5,
    "start_time": "2021-09-23T17:35:02.479Z"
   },
   {
    "duration": 7,
    "start_time": "2021-09-23T17:35:02.815Z"
   },
   {
    "duration": 7,
    "start_time": "2021-09-23T17:35:03.150Z"
   },
   {
    "duration": 20,
    "start_time": "2021-09-23T17:35:04.199Z"
   },
   {
    "duration": 17,
    "start_time": "2021-09-23T17:35:04.711Z"
   },
   {
    "duration": 22,
    "start_time": "2021-09-23T17:35:05.069Z"
   },
   {
    "duration": 21,
    "start_time": "2021-09-23T17:35:05.422Z"
   },
   {
    "duration": 11,
    "start_time": "2021-09-23T17:35:05.598Z"
   },
   {
    "duration": 5,
    "start_time": "2021-09-23T17:35:05.966Z"
   },
   {
    "duration": 14,
    "start_time": "2021-09-23T17:35:06.327Z"
   },
   {
    "duration": 19,
    "start_time": "2021-09-23T17:35:06.846Z"
   },
   {
    "duration": 5,
    "start_time": "2021-09-23T17:35:07.551Z"
   },
   {
    "duration": 7,
    "start_time": "2021-09-23T17:35:07.725Z"
   },
   {
    "duration": 16,
    "start_time": "2021-09-23T17:35:08.430Z"
   },
   {
    "duration": 16,
    "start_time": "2021-09-23T17:35:08.782Z"
   },
   {
    "duration": 16,
    "start_time": "2021-09-23T17:35:09.153Z"
   },
   {
    "duration": 2,
    "start_time": "2021-09-23T17:35:09.498Z"
   },
   {
    "duration": 11,
    "start_time": "2021-09-23T17:35:09.838Z"
   },
   {
    "duration": 3,
    "start_time": "2021-09-23T17:35:10.190Z"
   },
   {
    "duration": 3504,
    "start_time": "2021-09-23T17:35:10.916Z"
   },
   {
    "duration": 24,
    "start_time": "2021-09-23T17:35:14.422Z"
   },
   {
    "duration": 59,
    "start_time": "2021-09-23T17:35:14.448Z"
   },
   {
    "duration": 6,
    "start_time": "2021-09-23T17:35:14.509Z"
   },
   {
    "duration": 44,
    "start_time": "2021-09-23T17:35:14.517Z"
   },
   {
    "duration": 56,
    "start_time": "2021-09-23T17:35:14.563Z"
   },
   {
    "duration": 33,
    "start_time": "2021-09-23T17:35:15.566Z"
   },
   {
    "duration": 34,
    "start_time": "2021-09-23T17:35:16.454Z"
   },
   {
    "duration": 11,
    "start_time": "2021-09-23T17:38:55.484Z"
   },
   {
    "duration": 23,
    "start_time": "2021-09-23T17:38:59.561Z"
   },
   {
    "duration": 4,
    "start_time": "2021-09-23T17:39:02.471Z"
   },
   {
    "duration": 5,
    "start_time": "2021-09-23T17:39:02.656Z"
   },
   {
    "duration": 1369,
    "start_time": "2021-09-23T17:39:04.402Z"
   },
   {
    "duration": 1250,
    "start_time": "2021-09-23T17:39:08.821Z"
   },
   {
    "duration": 1298,
    "start_time": "2021-09-23T17:39:15.272Z"
   },
   {
    "duration": 1184,
    "start_time": "2021-09-23T17:39:16.588Z"
   },
   {
    "duration": -120,
    "start_time": "2021-09-23T17:39:17.895Z"
   },
   {
    "duration": 13,
    "start_time": "2021-09-23T17:39:17.991Z"
   },
   {
    "duration": 1138,
    "start_time": "2021-09-23T17:39:26.835Z"
   },
   {
    "duration": 52,
    "start_time": "2021-09-23T17:39:27.975Z"
   },
   {
    "duration": 10,
    "start_time": "2021-09-23T17:39:28.029Z"
   },
   {
    "duration": 7,
    "start_time": "2021-09-23T17:39:28.041Z"
   },
   {
    "duration": 20,
    "start_time": "2021-09-23T17:39:28.050Z"
   },
   {
    "duration": 32,
    "start_time": "2021-09-23T17:39:28.892Z"
   },
   {
    "duration": 10,
    "start_time": "2021-09-23T17:39:32.327Z"
   },
   {
    "duration": 18,
    "start_time": "2021-09-23T17:39:32.339Z"
   },
   {
    "duration": 8,
    "start_time": "2021-09-23T17:39:32.364Z"
   },
   {
    "duration": 6,
    "start_time": "2021-09-23T17:39:36.475Z"
   },
   {
    "duration": 7,
    "start_time": "2021-09-23T17:39:36.844Z"
   },
   {
    "duration": 6,
    "start_time": "2021-09-23T17:39:37.648Z"
   },
   {
    "duration": 4,
    "start_time": "2021-09-23T17:39:38.499Z"
   },
   {
    "duration": 7,
    "start_time": "2021-09-23T17:39:40.595Z"
   },
   {
    "duration": 5,
    "start_time": "2021-09-23T17:39:41.676Z"
   },
   {
    "duration": 8,
    "start_time": "2021-09-23T17:39:47.652Z"
   },
   {
    "duration": 7,
    "start_time": "2021-09-23T17:39:48.434Z"
   },
   {
    "duration": 8,
    "start_time": "2021-09-23T17:39:50.050Z"
   },
   {
    "duration": 7,
    "start_time": "2021-09-23T17:39:50.586Z"
   },
   {
    "duration": 23,
    "start_time": "2021-09-23T17:39:55.275Z"
   },
   {
    "duration": 18,
    "start_time": "2021-09-23T17:39:57.733Z"
   },
   {
    "duration": 22,
    "start_time": "2021-09-23T17:40:05.098Z"
   },
   {
    "duration": 21,
    "start_time": "2021-09-23T17:40:09.011Z"
   },
   {
    "duration": 11,
    "start_time": "2021-09-23T17:40:10.131Z"
   },
   {
    "duration": 5,
    "start_time": "2021-09-23T17:40:14.546Z"
   },
   {
    "duration": 12,
    "start_time": "2021-09-23T17:40:17.290Z"
   },
   {
    "duration": 20,
    "start_time": "2021-09-23T17:40:21.336Z"
   },
   {
    "duration": 5,
    "start_time": "2021-09-23T17:40:25.394Z"
   },
   {
    "duration": 5,
    "start_time": "2021-09-23T17:40:26.405Z"
   },
   {
    "duration": 18,
    "start_time": "2021-09-23T17:40:33.089Z"
   },
   {
    "duration": 16,
    "start_time": "2021-09-23T17:40:34.786Z"
   },
   {
    "duration": 15,
    "start_time": "2021-09-23T17:40:37.530Z"
   },
   {
    "duration": 3,
    "start_time": "2021-09-23T17:40:39.424Z"
   },
   {
    "duration": 12,
    "start_time": "2021-09-23T17:40:41.498Z"
   },
   {
    "duration": 3,
    "start_time": "2021-09-23T17:40:42.665Z"
   },
   {
    "duration": 3333,
    "start_time": "2021-09-23T17:40:44.787Z"
   },
   {
    "duration": 24,
    "start_time": "2021-09-23T17:40:55.530Z"
   },
   {
    "duration": 47,
    "start_time": "2021-09-23T17:40:55.715Z"
   },
   {
    "duration": 8,
    "start_time": "2021-09-23T17:40:59.352Z"
   },
   {
    "duration": 45,
    "start_time": "2021-09-23T17:40:59.995Z"
   },
   {
    "duration": 32,
    "start_time": "2021-09-23T17:41:00.947Z"
   },
   {
    "duration": 32,
    "start_time": "2021-09-23T17:41:01.974Z"
   },
   {
    "duration": 33,
    "start_time": "2021-09-23T17:41:02.859Z"
   }
  ],
  "kernelspec": {
   "display_name": "Python 3 (ipykernel)",
   "language": "python",
   "name": "python3"
  },
  "language_info": {
   "codemirror_mode": {
    "name": "ipython",
    "version": 3
   },
   "file_extension": ".py",
   "mimetype": "text/x-python",
   "name": "python",
   "nbconvert_exporter": "python",
   "pygments_lexer": "ipython3",
   "version": "3.8.2"
  },
  "toc": {
   "base_numbering": 1,
   "nav_menu": {},
   "number_sections": true,
   "sideBar": true,
   "skip_h1_title": true,
   "title_cell": "Table of Contents",
   "title_sidebar": "Contents",
   "toc_cell": false,
   "toc_position": {},
   "toc_section_display": true,
   "toc_window_display": true
  }
 },
 "nbformat": 4,
 "nbformat_minor": 2
}
