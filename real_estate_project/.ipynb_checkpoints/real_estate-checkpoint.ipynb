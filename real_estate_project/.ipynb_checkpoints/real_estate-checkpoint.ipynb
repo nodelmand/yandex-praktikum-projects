{
 "cells": [
  {
   "cell_type": "markdown",
   "metadata": {
    "toc": true
   },
   "source": [
    "<h1>Содержание<span class=\"tocSkip\"></span></h1>\n",
    "<div class=\"toc\"><ul class=\"toc-item\"><li><span><a href=\"#Изучение-данных-из-файла\" data-toc-modified-id=\"Изучение-данных-из-файла-1\"><span class=\"toc-item-num\">1&nbsp;&nbsp;</span>Изучение данных из файла</a></span><ul class=\"toc-item\"><li><ul class=\"toc-item\"><li><span><a href=\"#Наблюдения-по-методу-info()\" data-toc-modified-id=\"Наблюдения-по-методу-info()-1.0.1\"><span class=\"toc-item-num\">1.0.1&nbsp;&nbsp;</span>Наблюдения по методу info()</a></span></li><li><span><a href=\"#Наблюдения-по-методу-describe()\" data-toc-modified-id=\"Наблюдения-по-методу-describe()-1.0.2\"><span class=\"toc-item-num\">1.0.2&nbsp;&nbsp;</span>Наблюдения по методу describe()</a></span></li><li><span><a href=\"#Предположения\" data-toc-modified-id=\"Предположения-1.0.3\"><span class=\"toc-item-num\">1.0.3&nbsp;&nbsp;</span>Предположения</a></span></li></ul></li><li><span><a href=\"#Вывод\" data-toc-modified-id=\"Вывод-1.1\"><span class=\"toc-item-num\">1.1&nbsp;&nbsp;</span>Вывод</a></span></li></ul></li><li><span><a href=\"#Предобработка-данных\" data-toc-modified-id=\"Предобработка-данных-2\"><span class=\"toc-item-num\">2&nbsp;&nbsp;</span>Предобработка данных</a></span><ul class=\"toc-item\"><li><ul class=\"toc-item\"><li><span><a href=\"#is_apartment\" data-toc-modified-id=\"is_apartment-2.0.1\"><span class=\"toc-item-num\">2.0.1&nbsp;&nbsp;</span>is_apartment</a></span></li><li><span><a href=\"#parks_nearest,-ponds_nearest-parks_around3000,-ponds_around3000\" data-toc-modified-id=\"parks_nearest,-ponds_nearest-parks_around3000,-ponds_around3000-2.0.2\"><span class=\"toc-item-num\">2.0.2&nbsp;&nbsp;</span>parks_nearest, ponds_nearest parks_around3000, ponds_around3000</a></span></li><li><span><a href=\"#balcony\" data-toc-modified-id=\"balcony-2.0.3\"><span class=\"toc-item-num\">2.0.3&nbsp;&nbsp;</span>balcony</a></span></li><li><span><a href=\"#first_day_exposition\" data-toc-modified-id=\"first_day_exposition-2.0.4\"><span class=\"toc-item-num\">2.0.4&nbsp;&nbsp;</span>first_day_exposition</a></span></li><li><span><a href=\"#last_price\" data-toc-modified-id=\"last_price-2.0.5\"><span class=\"toc-item-num\">2.0.5&nbsp;&nbsp;</span>last_price</a></span></li><li><span><a href=\"#days_exposition\" data-toc-modified-id=\"days_exposition-2.0.6\"><span class=\"toc-item-num\">2.0.6&nbsp;&nbsp;</span>days_exposition</a></span></li><li><span><a href=\"#airports_nearest,-cityCenters_nearest\" data-toc-modified-id=\"airports_nearest,-cityCenters_nearest-2.0.7\"><span class=\"toc-item-num\">2.0.7&nbsp;&nbsp;</span>airports_nearest, cityCenters_nearest</a></span></li><li><span><a href=\"#ceiling_height\" data-toc-modified-id=\"ceiling_height-2.0.8\"><span class=\"toc-item-num\">2.0.8&nbsp;&nbsp;</span>ceiling_height</a></span></li><li><span><a href=\"#rooms\" data-toc-modified-id=\"rooms-2.0.9\"><span class=\"toc-item-num\">2.0.9&nbsp;&nbsp;</span>rooms</a></span></li><li><span><a href=\"#kitchen_area,-living_area\" data-toc-modified-id=\"kitchen_area,-living_area-2.0.10\"><span class=\"toc-item-num\">2.0.10&nbsp;&nbsp;</span>kitchen_area, living_area</a></span></li><li><span><a href=\"#floors_total\" data-toc-modified-id=\"floors_total-2.0.11\"><span class=\"toc-item-num\">2.0.11&nbsp;&nbsp;</span>floors_total</a></span></li><li><span><a href=\"#Изменение-типов-данных.\" data-toc-modified-id=\"Изменение-типов-данных.-2.0.12\"><span class=\"toc-item-num\">2.0.12&nbsp;&nbsp;</span>Изменение типов данных.</a></span></li><li><span><a href=\"#Категоризация-по-удаленности-от-центра.\" data-toc-modified-id=\"Категоризация-по-удаленности-от-центра.-2.0.13\"><span class=\"toc-item-num\">2.0.13&nbsp;&nbsp;</span>Категоризация по удаленности от центра.</a></span></li><li><span><a href=\"#Категоризация-по-этажам.\" data-toc-modified-id=\"Категоризация-по-этажам.-2.0.14\"><span class=\"toc-item-num\">2.0.14&nbsp;&nbsp;</span>Категоризация по этажам.</a></span></li><li><span><a href=\"#Категоризация-по-размеру-квартиры.\" data-toc-modified-id=\"Категоризация-по-размеру-квартиры.-2.0.15\"><span class=\"toc-item-num\">2.0.15&nbsp;&nbsp;</span>Категоризация по размеру квартиры.</a></span></li><li><span><a href=\"#Добавляем-столбцы--(понеделник---воскресенье),-год,-месяц,-день.\" data-toc-modified-id=\"Добавляем-столбцы--(понеделник---воскресенье),-год,-месяц,-день.-2.0.16\"><span class=\"toc-item-num\">2.0.16&nbsp;&nbsp;</span>Добавляем столбцы  (понеделник - воскресенье), год, месяц, день.</a></span></li></ul></li><li><span><a href=\"#Вывод\" data-toc-modified-id=\"Вывод-2.1\"><span class=\"toc-item-num\">2.1&nbsp;&nbsp;</span>Вывод</a></span></li></ul></li><li><span><a href=\"#Расчёты-и-добавление-результатов-в-таблицу.\" data-toc-modified-id=\"Расчёты-и-добавление-результатов-в-таблицу.-3\"><span class=\"toc-item-num\">3&nbsp;&nbsp;</span>Расчёты и добавление результатов в таблицу.</a></span><ul class=\"toc-item\"><li><ul class=\"toc-item\"><li><span><a href=\"#Цена-квадратного-метра\" data-toc-modified-id=\"Цена-квадратного-метра-3.0.1\"><span class=\"toc-item-num\">3.0.1&nbsp;&nbsp;</span>Цена квадратного метра</a></span></li><li><span><a href=\"#День-недели,-месяц-и-год-публикации-объявления\" data-toc-modified-id=\"День-недели,-месяц-и-год-публикации-объявления-3.0.2\"><span class=\"toc-item-num\">3.0.2&nbsp;&nbsp;</span>День недели, месяц и год публикации объявления</a></span></li><li><span><a href=\"#Категоризация-этажей\" data-toc-modified-id=\"Категоризация-этажей-3.0.3\"><span class=\"toc-item-num\">3.0.3&nbsp;&nbsp;</span>Категоризация этажей</a></span></li><li><span><a href=\"#Cоотношение-жилой-и-общей-площади,-отношение-площади-кухни-к-общей.\" data-toc-modified-id=\"Cоотношение-жилой-и-общей-площади,-отношение-площади-кухни-к-общей.-3.0.4\"><span class=\"toc-item-num\">3.0.4&nbsp;&nbsp;</span>Cоотношение жилой и общей площади, отношение площади кухни к общей.</a></span></li></ul></li><li><span><a href=\"#Вывод\" data-toc-modified-id=\"Вывод-3.1\"><span class=\"toc-item-num\">3.1&nbsp;&nbsp;</span>Вывод</a></span></li></ul></li><li><span><a href=\"#Исследовательский-анализ-данных\" data-toc-modified-id=\"Исследовательский-анализ-данных-4\"><span class=\"toc-item-num\">4&nbsp;&nbsp;</span>Исследовательский анализ данных</a></span><ul class=\"toc-item\"><li><span><a href=\"#Гистограммы-:-площадь,-цена,-число-комнат,-высота-потолков.\" data-toc-modified-id=\"Гистограммы-:-площадь,-цена,-число-комнат,-высота-потолков.-4.1\"><span class=\"toc-item-num\">4.1&nbsp;&nbsp;</span>Гистограммы : площадь, цена, число комнат, высота потолков.</a></span><ul class=\"toc-item\"><li><span><a href=\"#Описание-данных\" data-toc-modified-id=\"Описание-данных-4.1.1\"><span class=\"toc-item-num\">4.1.1&nbsp;&nbsp;</span>Описание данных</a></span></li><li><span><a href=\"#Ящики-с-усами\" data-toc-modified-id=\"Ящики-с-усами-4.1.2\"><span class=\"toc-item-num\">4.1.2&nbsp;&nbsp;</span>Ящики с усами</a></span></li><li><span><a href=\"#total_area-гистограмма\" data-toc-modified-id=\"total_area-гистограмма-4.1.3\"><span class=\"toc-item-num\">4.1.3&nbsp;&nbsp;</span>total_area гистограмма</a></span></li><li><span><a href=\"#total_area-комментарии\" data-toc-modified-id=\"total_area-комментарии-4.1.4\"><span class=\"toc-item-num\">4.1.4&nbsp;&nbsp;</span>total_area комментарии</a></span></li><li><span><a href=\"#last_price-гистограмма\" data-toc-modified-id=\"last_price-гистограмма-4.1.5\"><span class=\"toc-item-num\">4.1.5&nbsp;&nbsp;</span>last_price гистограмма</a></span></li><li><span><a href=\"#last_price-комментарии\" data-toc-modified-id=\"last_price-комментарии-4.1.6\"><span class=\"toc-item-num\">4.1.6&nbsp;&nbsp;</span>last_price комментарии</a></span></li><li><span><a href=\"#rooms-круговая-диаграмма\" data-toc-modified-id=\"rooms-круговая-диаграмма-4.1.7\"><span class=\"toc-item-num\">4.1.7&nbsp;&nbsp;</span>rooms круговая диаграмма</a></span></li><li><span><a href=\"#rooms-комментарии\" data-toc-modified-id=\"rooms-комментарии-4.1.8\"><span class=\"toc-item-num\">4.1.8&nbsp;&nbsp;</span>rooms комментарии</a></span></li><li><span><a href=\"#ceiling_height-гистограмма\" data-toc-modified-id=\"ceiling_height-гистограмма-4.1.9\"><span class=\"toc-item-num\">4.1.9&nbsp;&nbsp;</span>ceiling_height гистограмма</a></span></li><li><span><a href=\"#ceiling_height-комментарии\" data-toc-modified-id=\"ceiling_height-комментарии-4.1.10\"><span class=\"toc-item-num\">4.1.10&nbsp;&nbsp;</span>ceiling_height комментарии</a></span></li></ul></li><li><span><a href=\"#Время-продажи-квартиры.\" data-toc-modified-id=\"Время-продажи-квартиры.-4.2\"><span class=\"toc-item-num\">4.2&nbsp;&nbsp;</span>Время продажи квартиры.</a></span><ul class=\"toc-item\"><li><span><a href=\"#Метод-describe()-'days_exposition'\" data-toc-modified-id=\"Метод-describe()-'days_exposition'-4.2.1\"><span class=\"toc-item-num\">4.2.1&nbsp;&nbsp;</span>Метод describe() 'days_exposition'</a></span></li><li><span><a href=\"#Ящик-с-усами-'days_exposition'.\" data-toc-modified-id=\"Ящик-с-усами-'days_exposition'.-4.2.2\"><span class=\"toc-item-num\">4.2.2&nbsp;&nbsp;</span>Ящик с усами 'days_exposition'.</a></span></li><li><span><a href=\"#Медиана\" data-toc-modified-id=\"Медиана-4.2.3\"><span class=\"toc-item-num\">4.2.3&nbsp;&nbsp;</span>Медиана</a></span></li><li><span><a href=\"#Гистограмма-времени-продажи-недвижимости-без-ограничений.\" data-toc-modified-id=\"Гистограмма-времени-продажи-недвижимости-без-ограничений.-4.2.4\"><span class=\"toc-item-num\">4.2.4&nbsp;&nbsp;</span>Гистограмма времени продажи недвижимости без ограничений.</a></span></li><li><span><a href=\"#Гистограмма-времени-продажи-недвижимости-с-ограничением-в-500-дней.\" data-toc-modified-id=\"Гистограмма-времени-продажи-недвижимости-с-ограничением-в-500-дней.-4.2.5\"><span class=\"toc-item-num\">4.2.5&nbsp;&nbsp;</span>Гистограмма времени продажи недвижимости с ограничением в 500 дней.</a></span></li><li><span><a href=\"#Гистограмма-времени-продажи-недвижимости-с-подробностями-пиков-45-и-60\" data-toc-modified-id=\"Гистограмма-времени-продажи-недвижимости-с-подробностями-пиков-45-и-60-4.2.6\"><span class=\"toc-item-num\">4.2.6&nbsp;&nbsp;</span>Гистограмма времени продажи недвижимости с подробностями пиков 45 и 60</a></span></li><li><span><a href=\"#Гипотеза\" data-toc-modified-id=\"Гипотеза-4.2.7\"><span class=\"toc-item-num\">4.2.7&nbsp;&nbsp;</span>Гипотеза</a></span></li><li><span><a href=\"#Гистограмма-по-гипотезе\" data-toc-modified-id=\"Гистограмма-по-гипотезе-4.2.8\"><span class=\"toc-item-num\">4.2.8&nbsp;&nbsp;</span>Гистограмма по гипотезе</a></span></li><li><span><a href=\"#Объективная-реальность.\" data-toc-modified-id=\"Объективная-реальность.-4.2.9\"><span class=\"toc-item-num\">4.2.9&nbsp;&nbsp;</span>Объективная реальность.</a></span></li></ul></li><li><span><a href=\"#Убираем-редкие-и-выбивающиеся-значения.\" data-toc-modified-id=\"Убираем-редкие-и-выбивающиеся-значения.-4.3\"><span class=\"toc-item-num\">4.3&nbsp;&nbsp;</span>Убираем редкие и выбивающиеся значения.</a></span><ul class=\"toc-item\"><li><span><a href=\"#'ceiling_height'-и-ящики-с-усами.\" data-toc-modified-id=\"'ceiling_height'-и-ящики-с-усами.-4.3.1\"><span class=\"toc-item-num\">4.3.1&nbsp;&nbsp;</span>'ceiling_height' и ящики с усами.</a></span></li></ul></li><li><span><a href=\"#Факторы-наибольшего-влияния-на-стоимость-квартиры.\" data-toc-modified-id=\"Факторы-наибольшего-влияния-на-стоимость-квартиры.-4.4\"><span class=\"toc-item-num\">4.4&nbsp;&nbsp;</span>Факторы наибольшего влияния на стоимость квартиры.</a></span><ul class=\"toc-item\"><li><span><a href=\"#Функция-подсчета-зависимости-цены-от-столбца.\" data-toc-modified-id=\"Функция-подсчета-зависимости-цены-от-столбца.-4.4.1\"><span class=\"toc-item-num\">4.4.1&nbsp;&nbsp;</span>Функция подсчета зависимости цены от столбца.</a></span></li><li><span><a href=\"#Зависимость-от-цены-от-числа-комнат.\" data-toc-modified-id=\"Зависимость-от-цены-от-числа-комнат.-4.4.2\"><span class=\"toc-item-num\">4.4.2&nbsp;&nbsp;</span>Зависимость от цены от числа комнат.</a></span></li><li><span><a href=\"#Зависимость-цены-от-удалённости-от-центра.\" data-toc-modified-id=\"Зависимость-цены-от-удалённости-от-центра.-4.4.3\"><span class=\"toc-item-num\">4.4.3&nbsp;&nbsp;</span>Зависимость цены от удалённости от центра.</a></span></li><li><span><a href=\"#Зависимость-от-этажа.\" data-toc-modified-id=\"Зависимость-от-этажа.-4.4.4\"><span class=\"toc-item-num\">4.4.4&nbsp;&nbsp;</span>Зависимость от этажа.</a></span></li><li><span><a href=\"#Зависимость-цены-от-площади-квартиры.\" data-toc-modified-id=\"Зависимость-цены-от-площади-квартиры.-4.4.5\"><span class=\"toc-item-num\">4.4.5&nbsp;&nbsp;</span>Зависимость цены от площади квартиры.</a></span></li><li><span><a href=\"#Функция-для-дня-недели-месяца-и-года.\" data-toc-modified-id=\"Функция-для-дня-недели-месяца-и-года.-4.4.6\"><span class=\"toc-item-num\">4.4.6&nbsp;&nbsp;</span>Функция для дня недели месяца и года.</a></span></li><li><span><a href=\"#Гистограммы-зависимости-цены-от-даты.\" data-toc-modified-id=\"Гистограммы-зависимости-цены-от-даты.-4.4.7\"><span class=\"toc-item-num\">4.4.7&nbsp;&nbsp;</span>Гистограммы зависимости цены от даты.</a></span></li></ul></li><li><span><a href=\"#10-населённых-пунктов-с-наибольшим-числом-объявлений.\" data-toc-modified-id=\"10-населённых-пунктов-с-наибольшим-числом-объявлений.-4.5\"><span class=\"toc-item-num\">4.5&nbsp;&nbsp;</span>10 населённых пунктов с наибольшим числом объявлений.</a></span><ul class=\"toc-item\"><li><span><a href=\"#Топ-10-городов.\" data-toc-modified-id=\"Топ-10-городов.-4.5.1\"><span class=\"toc-item-num\">4.5.1&nbsp;&nbsp;</span>Топ 10 городов.</a></span></li></ul></li><li><span><a href=\"#Как-цена-зависит-от-удалённости-от-центра.\" data-toc-modified-id=\"Как-цена-зависит-от-удалённости-от-центра.-4.6\"><span class=\"toc-item-num\">4.6&nbsp;&nbsp;</span>Как цена зависит от удалённости от центра.</a></span></li><li><span><a href=\"#Площадь,-цена,-число-комнат,-высота-потолков-в-центре.\" data-toc-modified-id=\"Площадь,-цена,-число-комнат,-высота-потолков-в-центре.-4.7\"><span class=\"toc-item-num\">4.7&nbsp;&nbsp;</span>Площадь, цена, число комнат, высота потолков в центре.</a></span><ul class=\"toc-item\"><li><span><a href=\"#Две-выборки.\" data-toc-modified-id=\"Две-выборки.-4.7.1\"><span class=\"toc-item-num\">4.7.1&nbsp;&nbsp;</span>Две выборки.</a></span></li><li><span><a href=\"#Выводы-по-графикам.\" data-toc-modified-id=\"Выводы-по-графикам.-4.7.2\"><span class=\"toc-item-num\">4.7.2&nbsp;&nbsp;</span>Выводы по графикам.</a></span></li></ul></li></ul></li><li><span><a href=\"#Общий-вывод\" data-toc-modified-id=\"Общий-вывод-5\"><span class=\"toc-item-num\">5&nbsp;&nbsp;</span>Общий вывод</a></span><ul class=\"toc-item\"><li><ul class=\"toc-item\"><li><span><a href=\"#Очевидные-выводы\" data-toc-modified-id=\"Очевидные-выводы-5.0.1\"><span class=\"toc-item-num\">5.0.1&nbsp;&nbsp;</span>Очевидные выводы</a></span></li><li><span><a href=\"#Неочевидные-выводы\" data-toc-modified-id=\"Неочевидные-выводы-5.0.2\"><span class=\"toc-item-num\">5.0.2&nbsp;&nbsp;</span>Неочевидные выводы</a></span></li></ul></li></ul></li></ul></div>"
   ]
  },
  {
   "cell_type": "markdown",
   "metadata": {},
   "source": [
    "# Исследование объявлений о продаже квартир\n",
    "\n",
    "В вашем распоряжении данные сервиса Яндекс.Недвижимость — архив объявлений о продаже квартир в Санкт-Петербурге и соседних населённых пунктах за несколько лет. Нужно научиться определять рыночную стоимость объектов недвижимости. Ваша задача — установить параметры. Это позволит построить автоматизированную систему: она отследит аномалии и мошенническую деятельность. \n",
    "\n",
    "По каждой квартире на продажу доступны два вида данных. Первые вписаны пользователем, вторые получены автоматически на основе картографических данных. Например, расстояние до центра, аэропорта, ближайшего парка и водоёма. "
   ]
  },
  {
   "cell_type": "markdown",
   "metadata": {},
   "source": [
    "# Описание данных\n",
    "- airports_nearest — расстояние до ближайшего аэропорта в метрах (м)\n",
    "- balcony — число балконов\n",
    "- ceiling_height — высота потолков (м)\n",
    "- cityCenters_nearest — расстояние до центра города (м)\n",
    "- days_exposition — сколько дней было размещено объявление (от публикации до снятия)\n",
    "- first_day_exposition — дата публикации\n",
    "- floor — этаж\n",
    "- floors_total — всего этажей в доме\n",
    "- is_apartment — апартаменты (булев тип)\n",
    "- kitchen_area — площадь кухни в квадратных метрах (м²)\n",
    "- last_price — цена на момент снятия с публикации\n",
    "- living_area — жилая площадь в квадратных метрах(м²)\n",
    "- locality_name — название населённого пункта\n",
    "- open_plan — свободная планировка (булев тип)\n",
    "- parks_around3000 — число парков в радиусе 3 км\n",
    "- parks_nearest — расстояние до ближайшего парка (м)\n",
    "- ponds_around3000 — число водоёмов в радиусе 3 км\n",
    "- ponds_nearest — расстояние до ближайшего водоёма (м)\n",
    "- rooms — число комнат\n",
    "- studio — квартира-студия (булев тип)\n",
    "- total_area — площадь квартиры в квадратных метрах (м²)\n",
    "- total_images — число фотографий квартиры в объявлении\n",
    " \n",
    " **Пояснение: апартаменты — это нежилые помещения, не относящиеся к жилому фонду, но имеющие необходимые условия для проживания.**\n"
   ]
  },
  {
   "cell_type": "markdown",
   "metadata": {},
   "source": [
    "## Изучение данных из файла"
   ]
  },
  {
   "cell_type": "markdown",
   "metadata": {},
   "source": [
    "Импортируем библиотеки, прочитаем и сохраним файл в переменной. Выведем общую информацию о таблице и ее значениях."
   ]
  },
  {
   "cell_type": "code",
   "execution_count": 1,
   "metadata": {},
   "outputs": [],
   "source": [
    "# Импортируем библиотеки.\n",
    "import pandas as pd\n",
    "import matplotlib.pyplot as plt\n",
    "import numpy as np\n",
    "import seaborn as sb\n",
    "import warnings\n",
    "\n",
    "warnings.simplefilter('ignore')"
   ]
  },
  {
   "cell_type": "code",
   "execution_count": 2,
   "metadata": {},
   "outputs": [],
   "source": [
    "# Переменная-путь к базе данных\n",
    "path_to_db = '/users/danielnodelman/yandex_ds/yandex_projects/real_estate_project/'\n",
    "# Прочитаем файл. Сохраним его в переменной\n",
    "df = pd.read_csv(path_to_db+'real_estate_data.csv', sep='\\t')"
   ]
  },
  {
   "cell_type": "markdown",
   "metadata": {},
   "source": [
    "Визуально оценим первые 15 строк таблицы."
   ]
  },
  {
   "cell_type": "code",
   "execution_count": 3,
   "metadata": {
    "scrolled": true
   },
   "outputs": [
    {
     "data": {
      "text/html": [
       "<div>\n",
       "<style scoped>\n",
       "    .dataframe tbody tr th:only-of-type {\n",
       "        vertical-align: middle;\n",
       "    }\n",
       "\n",
       "    .dataframe tbody tr th {\n",
       "        vertical-align: top;\n",
       "    }\n",
       "\n",
       "    .dataframe thead th {\n",
       "        text-align: right;\n",
       "    }\n",
       "</style>\n",
       "<table border=\"1\" class=\"dataframe\">\n",
       "  <thead>\n",
       "    <tr style=\"text-align: right;\">\n",
       "      <th></th>\n",
       "      <th>total_images</th>\n",
       "      <th>last_price</th>\n",
       "      <th>total_area</th>\n",
       "      <th>first_day_exposition</th>\n",
       "      <th>rooms</th>\n",
       "      <th>ceiling_height</th>\n",
       "      <th>floors_total</th>\n",
       "      <th>living_area</th>\n",
       "      <th>floor</th>\n",
       "      <th>is_apartment</th>\n",
       "      <th>...</th>\n",
       "      <th>kitchen_area</th>\n",
       "      <th>balcony</th>\n",
       "      <th>locality_name</th>\n",
       "      <th>airports_nearest</th>\n",
       "      <th>cityCenters_nearest</th>\n",
       "      <th>parks_around3000</th>\n",
       "      <th>parks_nearest</th>\n",
       "      <th>ponds_around3000</th>\n",
       "      <th>ponds_nearest</th>\n",
       "      <th>days_exposition</th>\n",
       "    </tr>\n",
       "  </thead>\n",
       "  <tbody>\n",
       "    <tr>\n",
       "      <th>0</th>\n",
       "      <td>20</td>\n",
       "      <td>13000000.0</td>\n",
       "      <td>108.00</td>\n",
       "      <td>2019-03-07T00:00:00</td>\n",
       "      <td>3</td>\n",
       "      <td>2.70</td>\n",
       "      <td>16.0</td>\n",
       "      <td>51.00</td>\n",
       "      <td>8</td>\n",
       "      <td>NaN</td>\n",
       "      <td>...</td>\n",
       "      <td>25.00</td>\n",
       "      <td>NaN</td>\n",
       "      <td>Санкт-Петербург</td>\n",
       "      <td>18863.0</td>\n",
       "      <td>16028.0</td>\n",
       "      <td>1.0</td>\n",
       "      <td>482.0</td>\n",
       "      <td>2.0</td>\n",
       "      <td>755.0</td>\n",
       "      <td>NaN</td>\n",
       "    </tr>\n",
       "    <tr>\n",
       "      <th>1</th>\n",
       "      <td>7</td>\n",
       "      <td>3350000.0</td>\n",
       "      <td>40.40</td>\n",
       "      <td>2018-12-04T00:00:00</td>\n",
       "      <td>1</td>\n",
       "      <td>NaN</td>\n",
       "      <td>11.0</td>\n",
       "      <td>18.60</td>\n",
       "      <td>1</td>\n",
       "      <td>NaN</td>\n",
       "      <td>...</td>\n",
       "      <td>11.00</td>\n",
       "      <td>2.0</td>\n",
       "      <td>посёлок Шушары</td>\n",
       "      <td>12817.0</td>\n",
       "      <td>18603.0</td>\n",
       "      <td>0.0</td>\n",
       "      <td>NaN</td>\n",
       "      <td>0.0</td>\n",
       "      <td>NaN</td>\n",
       "      <td>81.0</td>\n",
       "    </tr>\n",
       "    <tr>\n",
       "      <th>2</th>\n",
       "      <td>10</td>\n",
       "      <td>5196000.0</td>\n",
       "      <td>56.00</td>\n",
       "      <td>2015-08-20T00:00:00</td>\n",
       "      <td>2</td>\n",
       "      <td>NaN</td>\n",
       "      <td>5.0</td>\n",
       "      <td>34.30</td>\n",
       "      <td>4</td>\n",
       "      <td>NaN</td>\n",
       "      <td>...</td>\n",
       "      <td>8.30</td>\n",
       "      <td>0.0</td>\n",
       "      <td>Санкт-Петербург</td>\n",
       "      <td>21741.0</td>\n",
       "      <td>13933.0</td>\n",
       "      <td>1.0</td>\n",
       "      <td>90.0</td>\n",
       "      <td>2.0</td>\n",
       "      <td>574.0</td>\n",
       "      <td>558.0</td>\n",
       "    </tr>\n",
       "    <tr>\n",
       "      <th>3</th>\n",
       "      <td>0</td>\n",
       "      <td>64900000.0</td>\n",
       "      <td>159.00</td>\n",
       "      <td>2015-07-24T00:00:00</td>\n",
       "      <td>3</td>\n",
       "      <td>NaN</td>\n",
       "      <td>14.0</td>\n",
       "      <td>NaN</td>\n",
       "      <td>9</td>\n",
       "      <td>NaN</td>\n",
       "      <td>...</td>\n",
       "      <td>NaN</td>\n",
       "      <td>0.0</td>\n",
       "      <td>Санкт-Петербург</td>\n",
       "      <td>28098.0</td>\n",
       "      <td>6800.0</td>\n",
       "      <td>2.0</td>\n",
       "      <td>84.0</td>\n",
       "      <td>3.0</td>\n",
       "      <td>234.0</td>\n",
       "      <td>424.0</td>\n",
       "    </tr>\n",
       "    <tr>\n",
       "      <th>4</th>\n",
       "      <td>2</td>\n",
       "      <td>10000000.0</td>\n",
       "      <td>100.00</td>\n",
       "      <td>2018-06-19T00:00:00</td>\n",
       "      <td>2</td>\n",
       "      <td>3.03</td>\n",
       "      <td>14.0</td>\n",
       "      <td>32.00</td>\n",
       "      <td>13</td>\n",
       "      <td>NaN</td>\n",
       "      <td>...</td>\n",
       "      <td>41.00</td>\n",
       "      <td>NaN</td>\n",
       "      <td>Санкт-Петербург</td>\n",
       "      <td>31856.0</td>\n",
       "      <td>8098.0</td>\n",
       "      <td>2.0</td>\n",
       "      <td>112.0</td>\n",
       "      <td>1.0</td>\n",
       "      <td>48.0</td>\n",
       "      <td>121.0</td>\n",
       "    </tr>\n",
       "    <tr>\n",
       "      <th>5</th>\n",
       "      <td>10</td>\n",
       "      <td>2890000.0</td>\n",
       "      <td>30.40</td>\n",
       "      <td>2018-09-10T00:00:00</td>\n",
       "      <td>1</td>\n",
       "      <td>NaN</td>\n",
       "      <td>12.0</td>\n",
       "      <td>14.40</td>\n",
       "      <td>5</td>\n",
       "      <td>NaN</td>\n",
       "      <td>...</td>\n",
       "      <td>9.10</td>\n",
       "      <td>NaN</td>\n",
       "      <td>городской посёлок Янино-1</td>\n",
       "      <td>NaN</td>\n",
       "      <td>NaN</td>\n",
       "      <td>NaN</td>\n",
       "      <td>NaN</td>\n",
       "      <td>NaN</td>\n",
       "      <td>NaN</td>\n",
       "      <td>55.0</td>\n",
       "    </tr>\n",
       "    <tr>\n",
       "      <th>6</th>\n",
       "      <td>6</td>\n",
       "      <td>3700000.0</td>\n",
       "      <td>37.30</td>\n",
       "      <td>2017-11-02T00:00:00</td>\n",
       "      <td>1</td>\n",
       "      <td>NaN</td>\n",
       "      <td>26.0</td>\n",
       "      <td>10.60</td>\n",
       "      <td>6</td>\n",
       "      <td>NaN</td>\n",
       "      <td>...</td>\n",
       "      <td>14.40</td>\n",
       "      <td>1.0</td>\n",
       "      <td>посёлок Парголово</td>\n",
       "      <td>52996.0</td>\n",
       "      <td>19143.0</td>\n",
       "      <td>0.0</td>\n",
       "      <td>NaN</td>\n",
       "      <td>0.0</td>\n",
       "      <td>NaN</td>\n",
       "      <td>155.0</td>\n",
       "    </tr>\n",
       "    <tr>\n",
       "      <th>7</th>\n",
       "      <td>5</td>\n",
       "      <td>7915000.0</td>\n",
       "      <td>71.60</td>\n",
       "      <td>2019-04-18T00:00:00</td>\n",
       "      <td>2</td>\n",
       "      <td>NaN</td>\n",
       "      <td>24.0</td>\n",
       "      <td>NaN</td>\n",
       "      <td>22</td>\n",
       "      <td>NaN</td>\n",
       "      <td>...</td>\n",
       "      <td>18.90</td>\n",
       "      <td>2.0</td>\n",
       "      <td>Санкт-Петербург</td>\n",
       "      <td>23982.0</td>\n",
       "      <td>11634.0</td>\n",
       "      <td>0.0</td>\n",
       "      <td>NaN</td>\n",
       "      <td>0.0</td>\n",
       "      <td>NaN</td>\n",
       "      <td>NaN</td>\n",
       "    </tr>\n",
       "    <tr>\n",
       "      <th>8</th>\n",
       "      <td>20</td>\n",
       "      <td>2900000.0</td>\n",
       "      <td>33.16</td>\n",
       "      <td>2018-05-23T00:00:00</td>\n",
       "      <td>1</td>\n",
       "      <td>NaN</td>\n",
       "      <td>27.0</td>\n",
       "      <td>15.43</td>\n",
       "      <td>26</td>\n",
       "      <td>NaN</td>\n",
       "      <td>...</td>\n",
       "      <td>8.81</td>\n",
       "      <td>NaN</td>\n",
       "      <td>посёлок Мурино</td>\n",
       "      <td>NaN</td>\n",
       "      <td>NaN</td>\n",
       "      <td>NaN</td>\n",
       "      <td>NaN</td>\n",
       "      <td>NaN</td>\n",
       "      <td>NaN</td>\n",
       "      <td>189.0</td>\n",
       "    </tr>\n",
       "    <tr>\n",
       "      <th>9</th>\n",
       "      <td>18</td>\n",
       "      <td>5400000.0</td>\n",
       "      <td>61.00</td>\n",
       "      <td>2017-02-26T00:00:00</td>\n",
       "      <td>3</td>\n",
       "      <td>2.50</td>\n",
       "      <td>9.0</td>\n",
       "      <td>43.60</td>\n",
       "      <td>7</td>\n",
       "      <td>NaN</td>\n",
       "      <td>...</td>\n",
       "      <td>6.50</td>\n",
       "      <td>2.0</td>\n",
       "      <td>Санкт-Петербург</td>\n",
       "      <td>50898.0</td>\n",
       "      <td>15008.0</td>\n",
       "      <td>0.0</td>\n",
       "      <td>NaN</td>\n",
       "      <td>0.0</td>\n",
       "      <td>NaN</td>\n",
       "      <td>289.0</td>\n",
       "    </tr>\n",
       "    <tr>\n",
       "      <th>10</th>\n",
       "      <td>5</td>\n",
       "      <td>5050000.0</td>\n",
       "      <td>39.60</td>\n",
       "      <td>2017-11-16T00:00:00</td>\n",
       "      <td>1</td>\n",
       "      <td>2.67</td>\n",
       "      <td>12.0</td>\n",
       "      <td>20.30</td>\n",
       "      <td>3</td>\n",
       "      <td>NaN</td>\n",
       "      <td>...</td>\n",
       "      <td>8.50</td>\n",
       "      <td>NaN</td>\n",
       "      <td>Санкт-Петербург</td>\n",
       "      <td>38357.0</td>\n",
       "      <td>13878.0</td>\n",
       "      <td>1.0</td>\n",
       "      <td>310.0</td>\n",
       "      <td>2.0</td>\n",
       "      <td>553.0</td>\n",
       "      <td>137.0</td>\n",
       "    </tr>\n",
       "    <tr>\n",
       "      <th>11</th>\n",
       "      <td>9</td>\n",
       "      <td>3300000.0</td>\n",
       "      <td>44.00</td>\n",
       "      <td>2018-08-27T00:00:00</td>\n",
       "      <td>2</td>\n",
       "      <td>NaN</td>\n",
       "      <td>5.0</td>\n",
       "      <td>31.00</td>\n",
       "      <td>4</td>\n",
       "      <td>False</td>\n",
       "      <td>...</td>\n",
       "      <td>6.00</td>\n",
       "      <td>1.0</td>\n",
       "      <td>Ломоносов</td>\n",
       "      <td>48252.0</td>\n",
       "      <td>51677.0</td>\n",
       "      <td>0.0</td>\n",
       "      <td>NaN</td>\n",
       "      <td>0.0</td>\n",
       "      <td>NaN</td>\n",
       "      <td>7.0</td>\n",
       "    </tr>\n",
       "    <tr>\n",
       "      <th>12</th>\n",
       "      <td>10</td>\n",
       "      <td>3890000.0</td>\n",
       "      <td>54.00</td>\n",
       "      <td>2016-06-30T00:00:00</td>\n",
       "      <td>2</td>\n",
       "      <td>NaN</td>\n",
       "      <td>5.0</td>\n",
       "      <td>30.00</td>\n",
       "      <td>5</td>\n",
       "      <td>NaN</td>\n",
       "      <td>...</td>\n",
       "      <td>9.00</td>\n",
       "      <td>0.0</td>\n",
       "      <td>Сертолово</td>\n",
       "      <td>NaN</td>\n",
       "      <td>NaN</td>\n",
       "      <td>NaN</td>\n",
       "      <td>NaN</td>\n",
       "      <td>NaN</td>\n",
       "      <td>NaN</td>\n",
       "      <td>90.0</td>\n",
       "    </tr>\n",
       "    <tr>\n",
       "      <th>13</th>\n",
       "      <td>20</td>\n",
       "      <td>3550000.0</td>\n",
       "      <td>42.80</td>\n",
       "      <td>2017-07-01T00:00:00</td>\n",
       "      <td>2</td>\n",
       "      <td>2.56</td>\n",
       "      <td>5.0</td>\n",
       "      <td>27.00</td>\n",
       "      <td>5</td>\n",
       "      <td>NaN</td>\n",
       "      <td>...</td>\n",
       "      <td>5.20</td>\n",
       "      <td>1.0</td>\n",
       "      <td>Петергоф</td>\n",
       "      <td>37868.0</td>\n",
       "      <td>33058.0</td>\n",
       "      <td>1.0</td>\n",
       "      <td>294.0</td>\n",
       "      <td>3.0</td>\n",
       "      <td>298.0</td>\n",
       "      <td>366.0</td>\n",
       "    </tr>\n",
       "    <tr>\n",
       "      <th>14</th>\n",
       "      <td>1</td>\n",
       "      <td>4400000.0</td>\n",
       "      <td>36.00</td>\n",
       "      <td>2016-06-23T00:00:00</td>\n",
       "      <td>1</td>\n",
       "      <td>NaN</td>\n",
       "      <td>6.0</td>\n",
       "      <td>17.00</td>\n",
       "      <td>1</td>\n",
       "      <td>NaN</td>\n",
       "      <td>...</td>\n",
       "      <td>8.00</td>\n",
       "      <td>0.0</td>\n",
       "      <td>Пушкин</td>\n",
       "      <td>20782.0</td>\n",
       "      <td>30759.0</td>\n",
       "      <td>0.0</td>\n",
       "      <td>NaN</td>\n",
       "      <td>1.0</td>\n",
       "      <td>96.0</td>\n",
       "      <td>203.0</td>\n",
       "    </tr>\n",
       "  </tbody>\n",
       "</table>\n",
       "<p>15 rows × 22 columns</p>\n",
       "</div>"
      ],
      "text/plain": [
       "    total_images  last_price  total_area first_day_exposition  rooms  \\\n",
       "0             20  13000000.0      108.00  2019-03-07T00:00:00      3   \n",
       "1              7   3350000.0       40.40  2018-12-04T00:00:00      1   \n",
       "2             10   5196000.0       56.00  2015-08-20T00:00:00      2   \n",
       "3              0  64900000.0      159.00  2015-07-24T00:00:00      3   \n",
       "4              2  10000000.0      100.00  2018-06-19T00:00:00      2   \n",
       "5             10   2890000.0       30.40  2018-09-10T00:00:00      1   \n",
       "6              6   3700000.0       37.30  2017-11-02T00:00:00      1   \n",
       "7              5   7915000.0       71.60  2019-04-18T00:00:00      2   \n",
       "8             20   2900000.0       33.16  2018-05-23T00:00:00      1   \n",
       "9             18   5400000.0       61.00  2017-02-26T00:00:00      3   \n",
       "10             5   5050000.0       39.60  2017-11-16T00:00:00      1   \n",
       "11             9   3300000.0       44.00  2018-08-27T00:00:00      2   \n",
       "12            10   3890000.0       54.00  2016-06-30T00:00:00      2   \n",
       "13            20   3550000.0       42.80  2017-07-01T00:00:00      2   \n",
       "14             1   4400000.0       36.00  2016-06-23T00:00:00      1   \n",
       "\n",
       "    ceiling_height  floors_total  living_area  floor is_apartment  ...  \\\n",
       "0             2.70          16.0        51.00      8          NaN  ...   \n",
       "1              NaN          11.0        18.60      1          NaN  ...   \n",
       "2              NaN           5.0        34.30      4          NaN  ...   \n",
       "3              NaN          14.0          NaN      9          NaN  ...   \n",
       "4             3.03          14.0        32.00     13          NaN  ...   \n",
       "5              NaN          12.0        14.40      5          NaN  ...   \n",
       "6              NaN          26.0        10.60      6          NaN  ...   \n",
       "7              NaN          24.0          NaN     22          NaN  ...   \n",
       "8              NaN          27.0        15.43     26          NaN  ...   \n",
       "9             2.50           9.0        43.60      7          NaN  ...   \n",
       "10            2.67          12.0        20.30      3          NaN  ...   \n",
       "11             NaN           5.0        31.00      4        False  ...   \n",
       "12             NaN           5.0        30.00      5          NaN  ...   \n",
       "13            2.56           5.0        27.00      5          NaN  ...   \n",
       "14             NaN           6.0        17.00      1          NaN  ...   \n",
       "\n",
       "    kitchen_area  balcony              locality_name  airports_nearest  \\\n",
       "0          25.00      NaN            Санкт-Петербург           18863.0   \n",
       "1          11.00      2.0             посёлок Шушары           12817.0   \n",
       "2           8.30      0.0            Санкт-Петербург           21741.0   \n",
       "3            NaN      0.0            Санкт-Петербург           28098.0   \n",
       "4          41.00      NaN            Санкт-Петербург           31856.0   \n",
       "5           9.10      NaN  городской посёлок Янино-1               NaN   \n",
       "6          14.40      1.0          посёлок Парголово           52996.0   \n",
       "7          18.90      2.0            Санкт-Петербург           23982.0   \n",
       "8           8.81      NaN             посёлок Мурино               NaN   \n",
       "9           6.50      2.0            Санкт-Петербург           50898.0   \n",
       "10          8.50      NaN            Санкт-Петербург           38357.0   \n",
       "11          6.00      1.0                  Ломоносов           48252.0   \n",
       "12          9.00      0.0                  Сертолово               NaN   \n",
       "13          5.20      1.0                   Петергоф           37868.0   \n",
       "14          8.00      0.0                     Пушкин           20782.0   \n",
       "\n",
       "   cityCenters_nearest  parks_around3000  parks_nearest  ponds_around3000  \\\n",
       "0              16028.0               1.0          482.0               2.0   \n",
       "1              18603.0               0.0            NaN               0.0   \n",
       "2              13933.0               1.0           90.0               2.0   \n",
       "3               6800.0               2.0           84.0               3.0   \n",
       "4               8098.0               2.0          112.0               1.0   \n",
       "5                  NaN               NaN            NaN               NaN   \n",
       "6              19143.0               0.0            NaN               0.0   \n",
       "7              11634.0               0.0            NaN               0.0   \n",
       "8                  NaN               NaN            NaN               NaN   \n",
       "9              15008.0               0.0            NaN               0.0   \n",
       "10             13878.0               1.0          310.0               2.0   \n",
       "11             51677.0               0.0            NaN               0.0   \n",
       "12                 NaN               NaN            NaN               NaN   \n",
       "13             33058.0               1.0          294.0               3.0   \n",
       "14             30759.0               0.0            NaN               1.0   \n",
       "\n",
       "    ponds_nearest  days_exposition  \n",
       "0           755.0              NaN  \n",
       "1             NaN             81.0  \n",
       "2           574.0            558.0  \n",
       "3           234.0            424.0  \n",
       "4            48.0            121.0  \n",
       "5             NaN             55.0  \n",
       "6             NaN            155.0  \n",
       "7             NaN              NaN  \n",
       "8             NaN            189.0  \n",
       "9             NaN            289.0  \n",
       "10          553.0            137.0  \n",
       "11            NaN              7.0  \n",
       "12            NaN             90.0  \n",
       "13          298.0            366.0  \n",
       "14           96.0            203.0  \n",
       "\n",
       "[15 rows x 22 columns]"
      ]
     },
     "execution_count": 3,
     "metadata": {},
     "output_type": "execute_result"
    }
   ],
   "source": [
    "df.head(15)"
   ]
  },
  {
   "cell_type": "markdown",
   "metadata": {},
   "source": [
    "Выведем общую информацию о таблице методом info()"
   ]
  },
  {
   "cell_type": "code",
   "execution_count": 4,
   "metadata": {
    "scrolled": true
   },
   "outputs": [
    {
     "name": "stdout",
     "output_type": "stream",
     "text": [
      "<class 'pandas.core.frame.DataFrame'>\n",
      "RangeIndex: 23699 entries, 0 to 23698\n",
      "Data columns (total 22 columns):\n",
      " #   Column                Non-Null Count  Dtype  \n",
      "---  ------                --------------  -----  \n",
      " 0   total_images          23699 non-null  int64  \n",
      " 1   last_price            23699 non-null  float64\n",
      " 2   total_area            23699 non-null  float64\n",
      " 3   first_day_exposition  23699 non-null  object \n",
      " 4   rooms                 23699 non-null  int64  \n",
      " 5   ceiling_height        14504 non-null  float64\n",
      " 6   floors_total          23613 non-null  float64\n",
      " 7   living_area           21796 non-null  float64\n",
      " 8   floor                 23699 non-null  int64  \n",
      " 9   is_apartment          2775 non-null   object \n",
      " 10  studio                23699 non-null  bool   \n",
      " 11  open_plan             23699 non-null  bool   \n",
      " 12  kitchen_area          21421 non-null  float64\n",
      " 13  balcony               12180 non-null  float64\n",
      " 14  locality_name         23650 non-null  object \n",
      " 15  airports_nearest      18157 non-null  float64\n",
      " 16  cityCenters_nearest   18180 non-null  float64\n",
      " 17  parks_around3000      18181 non-null  float64\n",
      " 18  parks_nearest         8079 non-null   float64\n",
      " 19  ponds_around3000      18181 non-null  float64\n",
      " 20  ponds_nearest         9110 non-null   float64\n",
      " 21  days_exposition       20518 non-null  float64\n",
      "dtypes: bool(2), float64(14), int64(3), object(3)\n",
      "memory usage: 3.7+ MB\n"
     ]
    }
   ],
   "source": [
    "# Выводим общую информацию.\n",
    "df.info()"
   ]
  },
  {
   "cell_type": "markdown",
   "metadata": {},
   "source": [
    "#### Наблюдения по методу info()\n",
    "- Тип данных в столбце first_day_exposition нужно заменить на datetime. Воспринимать данные будет удобнее.\n",
    "- В столбцах ceiling_height, floors_total, living_area, is_apartment, kitchen_area, balcony, locality_name, airports_nearest, cityCenters_nearest, parks_around3000, ponds_around300, ponds_nearest, days_exposition, days_exposition присутсвуют нулевые значения. Некоторые из них обоснованы , некоторые являются ошибкой. \n",
    "- Тип данных в столбцах floors_total, parks_around3000, ponds_around3000, days_exposition нужно заменить на int.\n",
    "- Тип данных в  столбце is_apartment нужно заменить на bool.\n",
    " "
   ]
  },
  {
   "cell_type": "code",
   "execution_count": 5,
   "metadata": {
    "scrolled": false
   },
   "outputs": [
    {
     "data": {
      "text/html": [
       "<div>\n",
       "<style scoped>\n",
       "    .dataframe tbody tr th:only-of-type {\n",
       "        vertical-align: middle;\n",
       "    }\n",
       "\n",
       "    .dataframe tbody tr th {\n",
       "        vertical-align: top;\n",
       "    }\n",
       "\n",
       "    .dataframe thead th {\n",
       "        text-align: right;\n",
       "    }\n",
       "</style>\n",
       "<table border=\"1\" class=\"dataframe\">\n",
       "  <thead>\n",
       "    <tr style=\"text-align: right;\">\n",
       "      <th></th>\n",
       "      <th>total_images</th>\n",
       "      <th>last_price</th>\n",
       "      <th>total_area</th>\n",
       "      <th>rooms</th>\n",
       "      <th>ceiling_height</th>\n",
       "      <th>floors_total</th>\n",
       "      <th>living_area</th>\n",
       "      <th>floor</th>\n",
       "      <th>kitchen_area</th>\n",
       "      <th>balcony</th>\n",
       "      <th>airports_nearest</th>\n",
       "      <th>cityCenters_nearest</th>\n",
       "      <th>parks_around3000</th>\n",
       "      <th>parks_nearest</th>\n",
       "      <th>ponds_around3000</th>\n",
       "      <th>ponds_nearest</th>\n",
       "      <th>days_exposition</th>\n",
       "    </tr>\n",
       "  </thead>\n",
       "  <tbody>\n",
       "    <tr>\n",
       "      <th>count</th>\n",
       "      <td>23699.000000</td>\n",
       "      <td>2.369900e+04</td>\n",
       "      <td>23699.000000</td>\n",
       "      <td>23699.000000</td>\n",
       "      <td>14504.000000</td>\n",
       "      <td>23613.000000</td>\n",
       "      <td>21796.000000</td>\n",
       "      <td>23699.000000</td>\n",
       "      <td>21421.000000</td>\n",
       "      <td>12180.000000</td>\n",
       "      <td>18157.000000</td>\n",
       "      <td>18180.000000</td>\n",
       "      <td>18181.000000</td>\n",
       "      <td>8079.000000</td>\n",
       "      <td>18181.000000</td>\n",
       "      <td>9110.000000</td>\n",
       "      <td>20518.000000</td>\n",
       "    </tr>\n",
       "    <tr>\n",
       "      <th>mean</th>\n",
       "      <td>9.858475</td>\n",
       "      <td>6.541549e+06</td>\n",
       "      <td>60.348651</td>\n",
       "      <td>2.070636</td>\n",
       "      <td>2.771499</td>\n",
       "      <td>10.673824</td>\n",
       "      <td>34.457852</td>\n",
       "      <td>5.892358</td>\n",
       "      <td>10.569807</td>\n",
       "      <td>1.150082</td>\n",
       "      <td>28793.672193</td>\n",
       "      <td>14191.277833</td>\n",
       "      <td>0.611408</td>\n",
       "      <td>490.804555</td>\n",
       "      <td>0.770255</td>\n",
       "      <td>517.980900</td>\n",
       "      <td>180.888634</td>\n",
       "    </tr>\n",
       "    <tr>\n",
       "      <th>std</th>\n",
       "      <td>5.682529</td>\n",
       "      <td>1.088701e+07</td>\n",
       "      <td>35.654083</td>\n",
       "      <td>1.078405</td>\n",
       "      <td>1.261056</td>\n",
       "      <td>6.597173</td>\n",
       "      <td>22.030445</td>\n",
       "      <td>4.885249</td>\n",
       "      <td>5.905438</td>\n",
       "      <td>1.071300</td>\n",
       "      <td>12630.880622</td>\n",
       "      <td>8608.386210</td>\n",
       "      <td>0.802074</td>\n",
       "      <td>342.317995</td>\n",
       "      <td>0.938346</td>\n",
       "      <td>277.720643</td>\n",
       "      <td>219.727988</td>\n",
       "    </tr>\n",
       "    <tr>\n",
       "      <th>min</th>\n",
       "      <td>0.000000</td>\n",
       "      <td>1.219000e+04</td>\n",
       "      <td>12.000000</td>\n",
       "      <td>0.000000</td>\n",
       "      <td>1.000000</td>\n",
       "      <td>1.000000</td>\n",
       "      <td>2.000000</td>\n",
       "      <td>1.000000</td>\n",
       "      <td>1.300000</td>\n",
       "      <td>0.000000</td>\n",
       "      <td>0.000000</td>\n",
       "      <td>181.000000</td>\n",
       "      <td>0.000000</td>\n",
       "      <td>1.000000</td>\n",
       "      <td>0.000000</td>\n",
       "      <td>13.000000</td>\n",
       "      <td>1.000000</td>\n",
       "    </tr>\n",
       "    <tr>\n",
       "      <th>25%</th>\n",
       "      <td>6.000000</td>\n",
       "      <td>3.400000e+06</td>\n",
       "      <td>40.000000</td>\n",
       "      <td>1.000000</td>\n",
       "      <td>2.520000</td>\n",
       "      <td>5.000000</td>\n",
       "      <td>18.600000</td>\n",
       "      <td>2.000000</td>\n",
       "      <td>7.000000</td>\n",
       "      <td>0.000000</td>\n",
       "      <td>18585.000000</td>\n",
       "      <td>9238.000000</td>\n",
       "      <td>0.000000</td>\n",
       "      <td>288.000000</td>\n",
       "      <td>0.000000</td>\n",
       "      <td>294.000000</td>\n",
       "      <td>45.000000</td>\n",
       "    </tr>\n",
       "    <tr>\n",
       "      <th>50%</th>\n",
       "      <td>9.000000</td>\n",
       "      <td>4.650000e+06</td>\n",
       "      <td>52.000000</td>\n",
       "      <td>2.000000</td>\n",
       "      <td>2.650000</td>\n",
       "      <td>9.000000</td>\n",
       "      <td>30.000000</td>\n",
       "      <td>4.000000</td>\n",
       "      <td>9.100000</td>\n",
       "      <td>1.000000</td>\n",
       "      <td>26726.000000</td>\n",
       "      <td>13098.500000</td>\n",
       "      <td>0.000000</td>\n",
       "      <td>455.000000</td>\n",
       "      <td>1.000000</td>\n",
       "      <td>502.000000</td>\n",
       "      <td>95.000000</td>\n",
       "    </tr>\n",
       "    <tr>\n",
       "      <th>75%</th>\n",
       "      <td>14.000000</td>\n",
       "      <td>6.800000e+06</td>\n",
       "      <td>69.900000</td>\n",
       "      <td>3.000000</td>\n",
       "      <td>2.800000</td>\n",
       "      <td>16.000000</td>\n",
       "      <td>42.300000</td>\n",
       "      <td>8.000000</td>\n",
       "      <td>12.000000</td>\n",
       "      <td>2.000000</td>\n",
       "      <td>37273.000000</td>\n",
       "      <td>16293.000000</td>\n",
       "      <td>1.000000</td>\n",
       "      <td>612.000000</td>\n",
       "      <td>1.000000</td>\n",
       "      <td>729.000000</td>\n",
       "      <td>232.000000</td>\n",
       "    </tr>\n",
       "    <tr>\n",
       "      <th>max</th>\n",
       "      <td>50.000000</td>\n",
       "      <td>7.630000e+08</td>\n",
       "      <td>900.000000</td>\n",
       "      <td>19.000000</td>\n",
       "      <td>100.000000</td>\n",
       "      <td>60.000000</td>\n",
       "      <td>409.700000</td>\n",
       "      <td>33.000000</td>\n",
       "      <td>112.000000</td>\n",
       "      <td>5.000000</td>\n",
       "      <td>84869.000000</td>\n",
       "      <td>65968.000000</td>\n",
       "      <td>3.000000</td>\n",
       "      <td>3190.000000</td>\n",
       "      <td>3.000000</td>\n",
       "      <td>1344.000000</td>\n",
       "      <td>1580.000000</td>\n",
       "    </tr>\n",
       "  </tbody>\n",
       "</table>\n",
       "</div>"
      ],
      "text/plain": [
       "       total_images    last_price    total_area         rooms  ceiling_height  \\\n",
       "count  23699.000000  2.369900e+04  23699.000000  23699.000000    14504.000000   \n",
       "mean       9.858475  6.541549e+06     60.348651      2.070636        2.771499   \n",
       "std        5.682529  1.088701e+07     35.654083      1.078405        1.261056   \n",
       "min        0.000000  1.219000e+04     12.000000      0.000000        1.000000   \n",
       "25%        6.000000  3.400000e+06     40.000000      1.000000        2.520000   \n",
       "50%        9.000000  4.650000e+06     52.000000      2.000000        2.650000   \n",
       "75%       14.000000  6.800000e+06     69.900000      3.000000        2.800000   \n",
       "max       50.000000  7.630000e+08    900.000000     19.000000      100.000000   \n",
       "\n",
       "       floors_total   living_area         floor  kitchen_area       balcony  \\\n",
       "count  23613.000000  21796.000000  23699.000000  21421.000000  12180.000000   \n",
       "mean      10.673824     34.457852      5.892358     10.569807      1.150082   \n",
       "std        6.597173     22.030445      4.885249      5.905438      1.071300   \n",
       "min        1.000000      2.000000      1.000000      1.300000      0.000000   \n",
       "25%        5.000000     18.600000      2.000000      7.000000      0.000000   \n",
       "50%        9.000000     30.000000      4.000000      9.100000      1.000000   \n",
       "75%       16.000000     42.300000      8.000000     12.000000      2.000000   \n",
       "max       60.000000    409.700000     33.000000    112.000000      5.000000   \n",
       "\n",
       "       airports_nearest  cityCenters_nearest  parks_around3000  parks_nearest  \\\n",
       "count      18157.000000         18180.000000      18181.000000    8079.000000   \n",
       "mean       28793.672193         14191.277833          0.611408     490.804555   \n",
       "std        12630.880622          8608.386210          0.802074     342.317995   \n",
       "min            0.000000           181.000000          0.000000       1.000000   \n",
       "25%        18585.000000          9238.000000          0.000000     288.000000   \n",
       "50%        26726.000000         13098.500000          0.000000     455.000000   \n",
       "75%        37273.000000         16293.000000          1.000000     612.000000   \n",
       "max        84869.000000         65968.000000          3.000000    3190.000000   \n",
       "\n",
       "       ponds_around3000  ponds_nearest  days_exposition  \n",
       "count      18181.000000    9110.000000     20518.000000  \n",
       "mean           0.770255     517.980900       180.888634  \n",
       "std            0.938346     277.720643       219.727988  \n",
       "min            0.000000      13.000000         1.000000  \n",
       "25%            0.000000     294.000000        45.000000  \n",
       "50%            1.000000     502.000000        95.000000  \n",
       "75%            1.000000     729.000000       232.000000  \n",
       "max            3.000000    1344.000000      1580.000000  "
      ]
     },
     "execution_count": 5,
     "metadata": {},
     "output_type": "execute_result"
    }
   ],
   "source": [
    "# Выводим стандартное отклонение набора данных.\n",
    "df.describe()"
   ]
  },
  {
   "cell_type": "markdown",
   "metadata": {},
   "source": [
    "#### Наблюдения по методу describe()\n",
    " - Максимальное значение 100 в столбце ceiling_high: потолки высотой 100 метров.\n",
    " - Максималное значение 19 в столбце rooms: 19 комнат в квартире: с одной стороны похоже на ошибку, с другой стороны - это может быть частный дом.\n",
    " -  Минимальное значение в количестве комнат 0. Не похоже на правду."
   ]
  },
  {
   "cell_type": "markdown",
   "metadata": {},
   "source": [
    "#### Предположения\n",
    "\n",
    "NaN значений много.\n",
    "- В столбце 'is_apartment' больше всего пропусков. Скорее всего, этот пункт заполнялся пользователями вручную. Пользователи просто пропускали этот пункт, так как не знали в чем разница между квартирой и апартаментами.\n",
    "- В столбце 'balcony' максимальное число балконов 5, так что вряд-ли пропущенные значения являются отсутвием балкона, если число 1 присутвие (аналогия с bool).\n",
    "- В столбце 'ceiling_height' много пропущенных значений. Скорее всего он заполнялся пользователями вручную, они сочли информацию неважной.\n",
    "- Значения столбцов с инфраструктурой вокруг недвижимости скорее всего заполнялись автоматически. Пропущенные значения это отсутвие объектов в обозначеной зоне. Эти значения можно попробовать определить использовав внешние ресурсы, geopy и Yandex Геокод. Написать цикл, который будет автоматически заполнять данные. Исходя из этих данных, можно будет категоризовать квартиры по удаленности от центра города. Нужно проконсультироваться с коллегами перед тем как приступить!"
   ]
  },
  {
   "cell_type": "markdown",
   "metadata": {},
   "source": [
    "### Вывод"
   ]
  },
  {
   "cell_type": "markdown",
   "metadata": {},
   "source": [
    "В данных много пропусков. Некоторые из них пропущены пользователями, некоторые пропущены автоматически. Есть странные значения: потолок высотой 100 метров, 19 комнатная квартира. Преобразуем данные. "
   ]
  },
  {
   "cell_type": "markdown",
   "metadata": {},
   "source": [
    "## Предобработка данных"
   ]
  },
  {
   "cell_type": "markdown",
   "metadata": {},
   "source": [
    "Заполним пропуски и приведем данные к нужным типам."
   ]
  },
  {
   "cell_type": "markdown",
   "metadata": {},
   "source": [
    "#### is_apartment"
   ]
  },
  {
   "cell_type": "code",
   "execution_count": 6,
   "metadata": {},
   "outputs": [],
   "source": [
    "#NaN в столбце is_apartment\n",
    "df['is_apartment'].isnull().sum()\n",
    "df['is_apartment'].value_counts()\n",
    "df['is_apartment'] = df['is_apartment'].astype(bool)\n"
   ]
  },
  {
   "cell_type": "markdown",
   "metadata": {},
   "source": [
    "#### parks_nearest, ponds_nearest parks_around3000, ponds_around3000"
   ]
  },
  {
   "cell_type": "markdown",
   "metadata": {},
   "source": [
    "Значения в столбцах parks_nearest, ponds_nearest parks_around3000, ponds_around3000 изменять не будем, так как они были заполнены автоматически. Можно попробовать заполнить их используя вышеописанные методы, используя интернет."
   ]
  },
  {
   "cell_type": "markdown",
   "metadata": {},
   "source": [
    "#### balcony"
   ]
  },
  {
   "cell_type": "markdown",
   "metadata": {},
   "source": [
    "В столбце 'balcony' значения не являются булевыми (0 - нет балкона, 1 - есть), так как максимальным значением является число 5. Пропуски в значениях свидетельствуют об отсутсвии балконов. Заполним пустые значения в столбце 'balcony' числом 0. "
   ]
  },
  {
   "cell_type": "code",
   "execution_count": 7,
   "metadata": {},
   "outputs": [
    {
     "data": {
      "text/plain": [
       "0"
      ]
     },
     "execution_count": 7,
     "metadata": {},
     "output_type": "execute_result"
    }
   ],
   "source": [
    "# Заполняем NaN числом 0.\n",
    "df['balcony'] = df['balcony'].fillna(0)\n",
    "# Проверяем сколько NaN осталось в столбце. \n",
    "df['balcony'].isnull().sum()"
   ]
  },
  {
   "cell_type": "markdown",
   "metadata": {},
   "source": [
    "#### first_day_exposition"
   ]
  },
  {
   "cell_type": "markdown",
   "metadata": {},
   "source": [
    "Приводим данные в столбце first_day_exposition к удобному для восприятия формату."
   ]
  },
  {
   "cell_type": "code",
   "execution_count": 8,
   "metadata": {
    "scrolled": true
   },
   "outputs": [],
   "source": [
    "# Применяем метод pd.to_datetime к столбцу.\n",
    "df['first_day_exposition'] = pd.to_datetime(df['first_day_exposition'], format='%Y-%m-%dT%H:%M:%S')"
   ]
  },
  {
   "cell_type": "markdown",
   "metadata": {},
   "source": [
    "#### last_price"
   ]
  },
  {
   "cell_type": "markdown",
   "metadata": {},
   "source": [
    "Приведем 'last_price' к типу int для удобства воприятия данных внутри стобца. Сделаем это через список столбцов, по которому пройдет цикл."
   ]
  },
  {
   "cell_type": "markdown",
   "metadata": {},
   "source": [
    "#### days_exposition"
   ]
  },
  {
   "cell_type": "markdown",
   "metadata": {},
   "source": [
    "Посмотрим сколько всего NaN значений по этому столбцу."
   ]
  },
  {
   "cell_type": "code",
   "execution_count": 9,
   "metadata": {},
   "outputs": [
    {
     "data": {
      "text/plain": [
       "3181"
      ]
     },
     "execution_count": 9,
     "metadata": {},
     "output_type": "execute_result"
    }
   ],
   "source": [
    "# Считаем количество пропусков.\n",
    "df['days_exposition'].isnull().sum()"
   ]
  },
  {
   "cell_type": "markdown",
   "metadata": {},
   "source": [
    "Пропущенных значений много, но заменять их средними будет неправильно с точки зрения чистоты данных."
   ]
  },
  {
   "cell_type": "markdown",
   "metadata": {},
   "source": [
    "#### airports_nearest, cityCenters_nearest"
   ]
  },
  {
   "cell_type": "markdown",
   "metadata": {},
   "source": [
    "Эти столбцы наиболее интересные с точки зрения обработки. Мы можем оставить их такими как есть, или же, попробовать написать цикл, который будет обрабатывать их при помощи Yandex Геокод и geopy. Затем можно было бы категоризовать квартиры по удаленности от центра. На основании этих категорий можно заполнить оставшиеся столбцы, такие как 'ceiling_height'. Для начала посмотрим сколько значений пропущено, связаны ли они между собой."
   ]
  },
  {
   "cell_type": "code",
   "execution_count": 10,
   "metadata": {},
   "outputs": [
    {
     "data": {
      "text/plain": [
       "5542"
      ]
     },
     "execution_count": 10,
     "metadata": {},
     "output_type": "execute_result"
    }
   ],
   "source": [
    "# Вывод пропущенных значений в airports_nearest.\n",
    "df['airports_nearest'].isnull().sum()"
   ]
  },
  {
   "cell_type": "code",
   "execution_count": 11,
   "metadata": {},
   "outputs": [
    {
     "data": {
      "text/plain": [
       "5519"
      ]
     },
     "execution_count": 11,
     "metadata": {},
     "output_type": "execute_result"
    }
   ],
   "source": [
    "# Вывод пропущенных значений в cityCenters_nearest.\n",
    "df['cityCenters_nearest'].isnull().sum()"
   ]
  },
  {
   "cell_type": "code",
   "execution_count": 12,
   "metadata": {},
   "outputs": [
    {
     "data": {
      "text/html": [
       "<div>\n",
       "<style scoped>\n",
       "    .dataframe tbody tr th:only-of-type {\n",
       "        vertical-align: middle;\n",
       "    }\n",
       "\n",
       "    .dataframe tbody tr th {\n",
       "        vertical-align: top;\n",
       "    }\n",
       "\n",
       "    .dataframe thead th {\n",
       "        text-align: right;\n",
       "    }\n",
       "</style>\n",
       "<table border=\"1\" class=\"dataframe\">\n",
       "  <thead>\n",
       "    <tr style=\"text-align: right;\">\n",
       "      <th></th>\n",
       "      <th>total_images</th>\n",
       "      <th>last_price</th>\n",
       "      <th>total_area</th>\n",
       "      <th>first_day_exposition</th>\n",
       "      <th>rooms</th>\n",
       "      <th>ceiling_height</th>\n",
       "      <th>floors_total</th>\n",
       "      <th>living_area</th>\n",
       "      <th>floor</th>\n",
       "      <th>is_apartment</th>\n",
       "      <th>...</th>\n",
       "      <th>kitchen_area</th>\n",
       "      <th>balcony</th>\n",
       "      <th>locality_name</th>\n",
       "      <th>airports_nearest</th>\n",
       "      <th>cityCenters_nearest</th>\n",
       "      <th>parks_around3000</th>\n",
       "      <th>parks_nearest</th>\n",
       "      <th>ponds_around3000</th>\n",
       "      <th>ponds_nearest</th>\n",
       "      <th>days_exposition</th>\n",
       "    </tr>\n",
       "  </thead>\n",
       "  <tbody>\n",
       "    <tr>\n",
       "      <th>5</th>\n",
       "      <td>10</td>\n",
       "      <td>2890000.0</td>\n",
       "      <td>30.40</td>\n",
       "      <td>2018-09-10</td>\n",
       "      <td>1</td>\n",
       "      <td>NaN</td>\n",
       "      <td>12.0</td>\n",
       "      <td>14.40</td>\n",
       "      <td>5</td>\n",
       "      <td>True</td>\n",
       "      <td>...</td>\n",
       "      <td>9.10</td>\n",
       "      <td>0.0</td>\n",
       "      <td>городской посёлок Янино-1</td>\n",
       "      <td>NaN</td>\n",
       "      <td>NaN</td>\n",
       "      <td>NaN</td>\n",
       "      <td>NaN</td>\n",
       "      <td>NaN</td>\n",
       "      <td>NaN</td>\n",
       "      <td>55.0</td>\n",
       "    </tr>\n",
       "    <tr>\n",
       "      <th>8</th>\n",
       "      <td>20</td>\n",
       "      <td>2900000.0</td>\n",
       "      <td>33.16</td>\n",
       "      <td>2018-05-23</td>\n",
       "      <td>1</td>\n",
       "      <td>NaN</td>\n",
       "      <td>27.0</td>\n",
       "      <td>15.43</td>\n",
       "      <td>26</td>\n",
       "      <td>True</td>\n",
       "      <td>...</td>\n",
       "      <td>8.81</td>\n",
       "      <td>0.0</td>\n",
       "      <td>посёлок Мурино</td>\n",
       "      <td>NaN</td>\n",
       "      <td>NaN</td>\n",
       "      <td>NaN</td>\n",
       "      <td>NaN</td>\n",
       "      <td>NaN</td>\n",
       "      <td>NaN</td>\n",
       "      <td>189.0</td>\n",
       "    </tr>\n",
       "    <tr>\n",
       "      <th>12</th>\n",
       "      <td>10</td>\n",
       "      <td>3890000.0</td>\n",
       "      <td>54.00</td>\n",
       "      <td>2016-06-30</td>\n",
       "      <td>2</td>\n",
       "      <td>NaN</td>\n",
       "      <td>5.0</td>\n",
       "      <td>30.00</td>\n",
       "      <td>5</td>\n",
       "      <td>True</td>\n",
       "      <td>...</td>\n",
       "      <td>9.00</td>\n",
       "      <td>0.0</td>\n",
       "      <td>Сертолово</td>\n",
       "      <td>NaN</td>\n",
       "      <td>NaN</td>\n",
       "      <td>NaN</td>\n",
       "      <td>NaN</td>\n",
       "      <td>NaN</td>\n",
       "      <td>NaN</td>\n",
       "      <td>90.0</td>\n",
       "    </tr>\n",
       "    <tr>\n",
       "      <th>22</th>\n",
       "      <td>20</td>\n",
       "      <td>5000000.0</td>\n",
       "      <td>58.00</td>\n",
       "      <td>2017-04-24</td>\n",
       "      <td>2</td>\n",
       "      <td>2.75</td>\n",
       "      <td>25.0</td>\n",
       "      <td>30.00</td>\n",
       "      <td>15</td>\n",
       "      <td>True</td>\n",
       "      <td>...</td>\n",
       "      <td>11.00</td>\n",
       "      <td>2.0</td>\n",
       "      <td>деревня Кудрово</td>\n",
       "      <td>NaN</td>\n",
       "      <td>NaN</td>\n",
       "      <td>NaN</td>\n",
       "      <td>NaN</td>\n",
       "      <td>NaN</td>\n",
       "      <td>NaN</td>\n",
       "      <td>60.0</td>\n",
       "    </tr>\n",
       "    <tr>\n",
       "      <th>30</th>\n",
       "      <td>12</td>\n",
       "      <td>2200000.0</td>\n",
       "      <td>32.80</td>\n",
       "      <td>2018-02-19</td>\n",
       "      <td>1</td>\n",
       "      <td>NaN</td>\n",
       "      <td>9.0</td>\n",
       "      <td>NaN</td>\n",
       "      <td>2</td>\n",
       "      <td>True</td>\n",
       "      <td>...</td>\n",
       "      <td>NaN</td>\n",
       "      <td>0.0</td>\n",
       "      <td>Коммунар</td>\n",
       "      <td>NaN</td>\n",
       "      <td>NaN</td>\n",
       "      <td>NaN</td>\n",
       "      <td>NaN</td>\n",
       "      <td>NaN</td>\n",
       "      <td>NaN</td>\n",
       "      <td>63.0</td>\n",
       "    </tr>\n",
       "    <tr>\n",
       "      <th>...</th>\n",
       "      <td>...</td>\n",
       "      <td>...</td>\n",
       "      <td>...</td>\n",
       "      <td>...</td>\n",
       "      <td>...</td>\n",
       "      <td>...</td>\n",
       "      <td>...</td>\n",
       "      <td>...</td>\n",
       "      <td>...</td>\n",
       "      <td>...</td>\n",
       "      <td>...</td>\n",
       "      <td>...</td>\n",
       "      <td>...</td>\n",
       "      <td>...</td>\n",
       "      <td>...</td>\n",
       "      <td>...</td>\n",
       "      <td>...</td>\n",
       "      <td>...</td>\n",
       "      <td>...</td>\n",
       "      <td>...</td>\n",
       "      <td>...</td>\n",
       "    </tr>\n",
       "    <tr>\n",
       "      <th>23683</th>\n",
       "      <td>16</td>\n",
       "      <td>2100000.0</td>\n",
       "      <td>62.80</td>\n",
       "      <td>2018-09-18</td>\n",
       "      <td>4</td>\n",
       "      <td>2.50</td>\n",
       "      <td>5.0</td>\n",
       "      <td>45.50</td>\n",
       "      <td>3</td>\n",
       "      <td>True</td>\n",
       "      <td>...</td>\n",
       "      <td>5.50</td>\n",
       "      <td>0.0</td>\n",
       "      <td>посёлок Дзержинского</td>\n",
       "      <td>NaN</td>\n",
       "      <td>NaN</td>\n",
       "      <td>NaN</td>\n",
       "      <td>NaN</td>\n",
       "      <td>NaN</td>\n",
       "      <td>NaN</td>\n",
       "      <td>NaN</td>\n",
       "    </tr>\n",
       "    <tr>\n",
       "      <th>23692</th>\n",
       "      <td>2</td>\n",
       "      <td>1350000.0</td>\n",
       "      <td>30.00</td>\n",
       "      <td>2017-07-07</td>\n",
       "      <td>1</td>\n",
       "      <td>NaN</td>\n",
       "      <td>5.0</td>\n",
       "      <td>17.50</td>\n",
       "      <td>4</td>\n",
       "      <td>True</td>\n",
       "      <td>...</td>\n",
       "      <td>6.00</td>\n",
       "      <td>0.0</td>\n",
       "      <td>Тихвин</td>\n",
       "      <td>NaN</td>\n",
       "      <td>NaN</td>\n",
       "      <td>NaN</td>\n",
       "      <td>NaN</td>\n",
       "      <td>NaN</td>\n",
       "      <td>NaN</td>\n",
       "      <td>413.0</td>\n",
       "    </tr>\n",
       "    <tr>\n",
       "      <th>23695</th>\n",
       "      <td>14</td>\n",
       "      <td>3100000.0</td>\n",
       "      <td>59.00</td>\n",
       "      <td>2018-01-15</td>\n",
       "      <td>3</td>\n",
       "      <td>NaN</td>\n",
       "      <td>5.0</td>\n",
       "      <td>38.00</td>\n",
       "      <td>4</td>\n",
       "      <td>True</td>\n",
       "      <td>...</td>\n",
       "      <td>8.50</td>\n",
       "      <td>0.0</td>\n",
       "      <td>Тосно</td>\n",
       "      <td>NaN</td>\n",
       "      <td>NaN</td>\n",
       "      <td>NaN</td>\n",
       "      <td>NaN</td>\n",
       "      <td>NaN</td>\n",
       "      <td>NaN</td>\n",
       "      <td>45.0</td>\n",
       "    </tr>\n",
       "    <tr>\n",
       "      <th>23696</th>\n",
       "      <td>18</td>\n",
       "      <td>2500000.0</td>\n",
       "      <td>56.70</td>\n",
       "      <td>2018-02-11</td>\n",
       "      <td>2</td>\n",
       "      <td>NaN</td>\n",
       "      <td>3.0</td>\n",
       "      <td>29.70</td>\n",
       "      <td>1</td>\n",
       "      <td>True</td>\n",
       "      <td>...</td>\n",
       "      <td>NaN</td>\n",
       "      <td>0.0</td>\n",
       "      <td>село Рождествено</td>\n",
       "      <td>NaN</td>\n",
       "      <td>NaN</td>\n",
       "      <td>NaN</td>\n",
       "      <td>NaN</td>\n",
       "      <td>NaN</td>\n",
       "      <td>NaN</td>\n",
       "      <td>NaN</td>\n",
       "    </tr>\n",
       "    <tr>\n",
       "      <th>23698</th>\n",
       "      <td>4</td>\n",
       "      <td>1350000.0</td>\n",
       "      <td>32.30</td>\n",
       "      <td>2017-07-21</td>\n",
       "      <td>1</td>\n",
       "      <td>2.50</td>\n",
       "      <td>5.0</td>\n",
       "      <td>12.30</td>\n",
       "      <td>1</td>\n",
       "      <td>True</td>\n",
       "      <td>...</td>\n",
       "      <td>9.00</td>\n",
       "      <td>0.0</td>\n",
       "      <td>поселок Новый Учхоз</td>\n",
       "      <td>NaN</td>\n",
       "      <td>NaN</td>\n",
       "      <td>NaN</td>\n",
       "      <td>NaN</td>\n",
       "      <td>NaN</td>\n",
       "      <td>NaN</td>\n",
       "      <td>NaN</td>\n",
       "    </tr>\n",
       "  </tbody>\n",
       "</table>\n",
       "<p>5518 rows × 22 columns</p>\n",
       "</div>"
      ],
      "text/plain": [
       "       total_images  last_price  total_area first_day_exposition  rooms  \\\n",
       "5                10   2890000.0       30.40           2018-09-10      1   \n",
       "8                20   2900000.0       33.16           2018-05-23      1   \n",
       "12               10   3890000.0       54.00           2016-06-30      2   \n",
       "22               20   5000000.0       58.00           2017-04-24      2   \n",
       "30               12   2200000.0       32.80           2018-02-19      1   \n",
       "...             ...         ...         ...                  ...    ...   \n",
       "23683            16   2100000.0       62.80           2018-09-18      4   \n",
       "23692             2   1350000.0       30.00           2017-07-07      1   \n",
       "23695            14   3100000.0       59.00           2018-01-15      3   \n",
       "23696            18   2500000.0       56.70           2018-02-11      2   \n",
       "23698             4   1350000.0       32.30           2017-07-21      1   \n",
       "\n",
       "       ceiling_height  floors_total  living_area  floor  is_apartment  ...  \\\n",
       "5                 NaN          12.0        14.40      5          True  ...   \n",
       "8                 NaN          27.0        15.43     26          True  ...   \n",
       "12                NaN           5.0        30.00      5          True  ...   \n",
       "22               2.75          25.0        30.00     15          True  ...   \n",
       "30                NaN           9.0          NaN      2          True  ...   \n",
       "...               ...           ...          ...    ...           ...  ...   \n",
       "23683            2.50           5.0        45.50      3          True  ...   \n",
       "23692             NaN           5.0        17.50      4          True  ...   \n",
       "23695             NaN           5.0        38.00      4          True  ...   \n",
       "23696             NaN           3.0        29.70      1          True  ...   \n",
       "23698            2.50           5.0        12.30      1          True  ...   \n",
       "\n",
       "       kitchen_area  balcony              locality_name  airports_nearest  \\\n",
       "5              9.10      0.0  городской посёлок Янино-1               NaN   \n",
       "8              8.81      0.0             посёлок Мурино               NaN   \n",
       "12             9.00      0.0                  Сертолово               NaN   \n",
       "22            11.00      2.0            деревня Кудрово               NaN   \n",
       "30              NaN      0.0                   Коммунар               NaN   \n",
       "...             ...      ...                        ...               ...   \n",
       "23683          5.50      0.0       посёлок Дзержинского               NaN   \n",
       "23692          6.00      0.0                     Тихвин               NaN   \n",
       "23695          8.50      0.0                      Тосно               NaN   \n",
       "23696           NaN      0.0           село Рождествено               NaN   \n",
       "23698          9.00      0.0        поселок Новый Учхоз               NaN   \n",
       "\n",
       "      cityCenters_nearest  parks_around3000  parks_nearest  ponds_around3000  \\\n",
       "5                     NaN               NaN            NaN               NaN   \n",
       "8                     NaN               NaN            NaN               NaN   \n",
       "12                    NaN               NaN            NaN               NaN   \n",
       "22                    NaN               NaN            NaN               NaN   \n",
       "30                    NaN               NaN            NaN               NaN   \n",
       "...                   ...               ...            ...               ...   \n",
       "23683                 NaN               NaN            NaN               NaN   \n",
       "23692                 NaN               NaN            NaN               NaN   \n",
       "23695                 NaN               NaN            NaN               NaN   \n",
       "23696                 NaN               NaN            NaN               NaN   \n",
       "23698                 NaN               NaN            NaN               NaN   \n",
       "\n",
       "       ponds_nearest  days_exposition  \n",
       "5                NaN             55.0  \n",
       "8                NaN            189.0  \n",
       "12               NaN             90.0  \n",
       "22               NaN             60.0  \n",
       "30               NaN             63.0  \n",
       "...              ...              ...  \n",
       "23683            NaN              NaN  \n",
       "23692            NaN            413.0  \n",
       "23695            NaN             45.0  \n",
       "23696            NaN              NaN  \n",
       "23698            NaN              NaN  \n",
       "\n",
       "[5518 rows x 22 columns]"
      ]
     },
     "execution_count": 12,
     "metadata": {},
     "output_type": "execute_result"
    }
   ],
   "source": [
    "# Проверим связаны ли пропуски в данных между собой при помощи метода loc.\n",
    "df.loc[(df['airports_nearest']!= df['airports_nearest']) &(df['cityCenters_nearest'] != df['cityCenters_nearest'])]  \n"
   ]
  },
  {
   "cell_type": "markdown",
   "metadata": {},
   "source": [
    "5518 Совпадений! \n",
    "Это означает что данные связаны между собой."
   ]
  },
  {
   "cell_type": "markdown",
   "metadata": {},
   "source": [
    "#### ceiling_height"
   ]
  },
  {
   "cell_type": "markdown",
   "metadata": {},
   "source": [
    "Если мы создадим категории по удаленности от центра (как было описано выше), мы сможем более точно заполнить пропуски, так как в центре потолкти выше, чем в обычных панельных постройках. Построим гистограмму по значениям столбца."
   ]
  },
  {
   "cell_type": "code",
   "execution_count": 13,
   "metadata": {
    "scrolled": true
   },
   "outputs": [
    {
     "data": {
      "text/plain": [
       "Text(0, 0.5, 'Количество')"
      ]
     },
     "execution_count": 13,
     "metadata": {},
     "output_type": "execute_result"
    },
    {
     "data": {
      "image/png": "[encoded data removed]",
      "text/plain": [
       "<Figure size 432x288 with 1 Axes>"
      ]
     },
     "metadata": {
      "needs_background": "light"
     },
     "output_type": "display_data"
    }
   ],
   "source": [
    "# Построим гистограммы по промежуткам внутри ceiling_height.\n",
    "df['ceiling_height'].sort_values().plot(y = '3ceiling_height', kind = 'hist', bins = 30, range=(10,30), title = '3начения ceiling_height от 10 до 30')\n",
    "plt.xlabel('Значение')\n",
    "plt.ylabel('Количество')"
   ]
  },
  {
   "cell_type": "code",
   "execution_count": 14,
   "metadata": {},
   "outputs": [
    {
     "data": {
      "text/plain": [
       "Text(0, 0.5, 'Количество')"
      ]
     },
     "execution_count": 14,
     "metadata": {},
     "output_type": "execute_result"
    },
    {
     "data": {
      "image/png": "[encoded data removed]",
      "text/plain": [
       "<Figure size 432x288 with 1 Axes>"
      ]
     },
     "metadata": {
      "needs_background": "light"
     },
     "output_type": "display_data"
    }
   ],
   "source": [
    "df['ceiling_height'].sort_values().plot(y = 'ceiling_height', kind = 'hist', bins = 30, range=(50,100),title = '3начения ceiling_height от 50 до 100')\n",
    "plt.xlabel('Значение')\n",
    "plt.ylabel('Количество')"
   ]
  },
  {
   "cell_type": "code",
   "execution_count": 15,
   "metadata": {},
   "outputs": [
    {
     "data": {
      "text/plain": [
       "Text(0, 0.5, 'Количество')"
      ]
     },
     "execution_count": 15,
     "metadata": {},
     "output_type": "execute_result"
    },
    {
     "data": {
      "image/png": "[encoded data removed]",
      "text/plain": [
       "<Figure size 432x288 with 1 Axes>"
      ]
     },
     "metadata": {
      "needs_background": "light"
     },
     "output_type": "display_data"
    }
   ],
   "source": [
    "df['ceiling_height'].sort_values().plot(y = 'ceiling_height', kind = 'hist', bins = 30, range=(0,50), title = '3начения ceiling_height от 0 до 50')\n",
    "plt.xlabel('Значение')\n",
    "plt.ylabel('Количество')"
   ]
  },
  {
   "cell_type": "code",
   "execution_count": 16,
   "metadata": {
    "scrolled": true
   },
   "outputs": [
    {
     "data": {
      "text/plain": [
       "Text(0, 0.5, 'Количество')"
      ]
     },
     "execution_count": 16,
     "metadata": {},
     "output_type": "execute_result"
    },
    {
     "data": {
      "image/png": "[encoded data removed]",
      "text/plain": [
       "<Figure size 432x288 with 1 Axes>"
      ]
     },
     "metadata": {
      "needs_background": "light"
     },
     "output_type": "display_data"
    }
   ],
   "source": [
    "df['ceiling_height'].sort_values().plot(y = 'ceiling_height', kind = 'hist', bins = 30, range=(0,5), title = '3начения ceiling_height от 0 до 5')\n",
    "plt.xlabel('Значение')\n",
    "plt.ylabel('Количество')"
   ]
  },
  {
   "cell_type": "markdown",
   "metadata": {},
   "source": [
    "В столбце присутсвуют необоснованно большие и маленькие значения. Попробуем узнать что за квартира с потолком 100 метров."
   ]
  },
  {
   "cell_type": "code",
   "execution_count": 17,
   "metadata": {},
   "outputs": [
    {
     "data": {
      "text/html": [
       "<div>\n",
       "<style scoped>\n",
       "    .dataframe tbody tr th:only-of-type {\n",
       "        vertical-align: middle;\n",
       "    }\n",
       "\n",
       "    .dataframe tbody tr th {\n",
       "        vertical-align: top;\n",
       "    }\n",
       "\n",
       "    .dataframe thead th {\n",
       "        text-align: right;\n",
       "    }\n",
       "</style>\n",
       "<table border=\"1\" class=\"dataframe\">\n",
       "  <thead>\n",
       "    <tr style=\"text-align: right;\">\n",
       "      <th></th>\n",
       "      <th>total_images</th>\n",
       "      <th>last_price</th>\n",
       "      <th>total_area</th>\n",
       "      <th>first_day_exposition</th>\n",
       "      <th>rooms</th>\n",
       "      <th>ceiling_height</th>\n",
       "      <th>floors_total</th>\n",
       "      <th>living_area</th>\n",
       "      <th>floor</th>\n",
       "      <th>is_apartment</th>\n",
       "      <th>...</th>\n",
       "      <th>kitchen_area</th>\n",
       "      <th>balcony</th>\n",
       "      <th>locality_name</th>\n",
       "      <th>airports_nearest</th>\n",
       "      <th>cityCenters_nearest</th>\n",
       "      <th>parks_around3000</th>\n",
       "      <th>parks_nearest</th>\n",
       "      <th>ponds_around3000</th>\n",
       "      <th>ponds_nearest</th>\n",
       "      <th>days_exposition</th>\n",
       "    </tr>\n",
       "  </thead>\n",
       "  <tbody>\n",
       "    <tr>\n",
       "      <th>22869</th>\n",
       "      <td>0</td>\n",
       "      <td>15000000.0</td>\n",
       "      <td>25.0</td>\n",
       "      <td>2018-07-25</td>\n",
       "      <td>1</td>\n",
       "      <td>100.0</td>\n",
       "      <td>5.0</td>\n",
       "      <td>14.0</td>\n",
       "      <td>5</td>\n",
       "      <td>True</td>\n",
       "      <td>...</td>\n",
       "      <td>11.0</td>\n",
       "      <td>5.0</td>\n",
       "      <td>Санкт-Петербург</td>\n",
       "      <td>34963.0</td>\n",
       "      <td>8283.0</td>\n",
       "      <td>1.0</td>\n",
       "      <td>223.0</td>\n",
       "      <td>3.0</td>\n",
       "      <td>30.0</td>\n",
       "      <td>19.0</td>\n",
       "    </tr>\n",
       "  </tbody>\n",
       "</table>\n",
       "<p>1 rows × 22 columns</p>\n",
       "</div>"
      ],
      "text/plain": [
       "       total_images  last_price  total_area first_day_exposition  rooms  \\\n",
       "22869             0  15000000.0        25.0           2018-07-25      1   \n",
       "\n",
       "       ceiling_height  floors_total  living_area  floor  is_apartment  ...  \\\n",
       "22869           100.0           5.0         14.0      5          True  ...   \n",
       "\n",
       "       kitchen_area  balcony    locality_name  airports_nearest  \\\n",
       "22869          11.0      5.0  Санкт-Петербург           34963.0   \n",
       "\n",
       "      cityCenters_nearest  parks_around3000  parks_nearest  ponds_around3000  \\\n",
       "22869              8283.0               1.0          223.0               3.0   \n",
       "\n",
       "       ponds_nearest  days_exposition  \n",
       "22869           30.0             19.0  \n",
       "\n",
       "[1 rows x 22 columns]"
      ]
     },
     "execution_count": 17,
     "metadata": {},
     "output_type": "execute_result"
    }
   ],
   "source": [
    "# Макисмальная высота потолка\n",
    "df.query('ceiling_height == 100')"
   ]
  },
  {
   "cell_type": "markdown",
   "metadata": {},
   "source": [
    "Это значение может относиться к мошенничеству, или же быть шуткой, поводом для вирусной новости."
   ]
  },
  {
   "cell_type": "code",
   "execution_count": 18,
   "metadata": {
    "scrolled": false
   },
   "outputs": [
    {
     "data": {
      "text/html": [
       "<div>\n",
       "<style scoped>\n",
       "    .dataframe tbody tr th:only-of-type {\n",
       "        vertical-align: middle;\n",
       "    }\n",
       "\n",
       "    .dataframe tbody tr th {\n",
       "        vertical-align: top;\n",
       "    }\n",
       "\n",
       "    .dataframe thead th {\n",
       "        text-align: right;\n",
       "    }\n",
       "</style>\n",
       "<table border=\"1\" class=\"dataframe\">\n",
       "  <thead>\n",
       "    <tr style=\"text-align: right;\">\n",
       "      <th></th>\n",
       "      <th>total_images</th>\n",
       "      <th>last_price</th>\n",
       "      <th>total_area</th>\n",
       "      <th>first_day_exposition</th>\n",
       "      <th>rooms</th>\n",
       "      <th>ceiling_height</th>\n",
       "      <th>floors_total</th>\n",
       "      <th>living_area</th>\n",
       "      <th>floor</th>\n",
       "      <th>is_apartment</th>\n",
       "      <th>...</th>\n",
       "      <th>kitchen_area</th>\n",
       "      <th>balcony</th>\n",
       "      <th>locality_name</th>\n",
       "      <th>airports_nearest</th>\n",
       "      <th>cityCenters_nearest</th>\n",
       "      <th>parks_around3000</th>\n",
       "      <th>parks_nearest</th>\n",
       "      <th>ponds_around3000</th>\n",
       "      <th>ponds_nearest</th>\n",
       "      <th>days_exposition</th>\n",
       "    </tr>\n",
       "  </thead>\n",
       "  <tbody>\n",
       "    <tr>\n",
       "      <th>22590</th>\n",
       "      <td>16</td>\n",
       "      <td>6000000.0</td>\n",
       "      <td>55.0</td>\n",
       "      <td>2018-10-31</td>\n",
       "      <td>2</td>\n",
       "      <td>1.0</td>\n",
       "      <td>12.0</td>\n",
       "      <td>32.4</td>\n",
       "      <td>7</td>\n",
       "      <td>True</td>\n",
       "      <td>...</td>\n",
       "      <td>10.0</td>\n",
       "      <td>0.0</td>\n",
       "      <td>Санкт-Петербург</td>\n",
       "      <td>33053.0</td>\n",
       "      <td>14217.0</td>\n",
       "      <td>2.0</td>\n",
       "      <td>293.0</td>\n",
       "      <td>2.0</td>\n",
       "      <td>289.0</td>\n",
       "      <td>13.0</td>\n",
       "    </tr>\n",
       "  </tbody>\n",
       "</table>\n",
       "<p>1 rows × 22 columns</p>\n",
       "</div>"
      ],
      "text/plain": [
       "       total_images  last_price  total_area first_day_exposition  rooms  \\\n",
       "22590            16   6000000.0        55.0           2018-10-31      2   \n",
       "\n",
       "       ceiling_height  floors_total  living_area  floor  is_apartment  ...  \\\n",
       "22590             1.0          12.0         32.4      7          True  ...   \n",
       "\n",
       "       kitchen_area  balcony    locality_name  airports_nearest  \\\n",
       "22590          10.0      0.0  Санкт-Петербург           33053.0   \n",
       "\n",
       "      cityCenters_nearest  parks_around3000  parks_nearest  ponds_around3000  \\\n",
       "22590             14217.0               2.0          293.0               2.0   \n",
       "\n",
       "       ponds_nearest  days_exposition  \n",
       "22590          289.0             13.0  \n",
       "\n",
       "[1 rows x 22 columns]"
      ]
     },
     "execution_count": 18,
     "metadata": {},
     "output_type": "execute_result"
    }
   ],
   "source": [
    "# Минимальная высотка потолка\n",
    "df.query('ceiling_height == 1')"
   ]
  },
  {
   "cell_type": "markdown",
   "metadata": {},
   "source": [
    "Заменим минимальное значение с 1 на mean(), все что находится между 2 метрами и 1,2 будем считать чердаком и тп."
   ]
  },
  {
   "cell_type": "code",
   "execution_count": 19,
   "metadata": {},
   "outputs": [],
   "source": [
    "df['ceiling_height'] = df['ceiling_height'].replace(1 , df['ceiling_height'].mean())"
   ]
  },
  {
   "cell_type": "markdown",
   "metadata": {},
   "source": [
    "Узнаем какое среднее значение в столбце."
   ]
  },
  {
   "cell_type": "code",
   "execution_count": 20,
   "metadata": {
    "scrolled": true
   },
   "outputs": [
    {
     "data": {
      "text/plain": [
       "count    14504.000000\n",
       "mean         2.771621\n",
       "std          1.260970\n",
       "min          1.200000\n",
       "25%          2.520000\n",
       "50%          2.650000\n",
       "75%          2.800000\n",
       "max        100.000000\n",
       "Name: ceiling_height, dtype: float64"
      ]
     },
     "execution_count": 20,
     "metadata": {},
     "output_type": "execute_result"
    }
   ],
   "source": [
    "df['ceiling_height'].describe()"
   ]
  },
  {
   "cell_type": "markdown",
   "metadata": {},
   "source": [
    "Напишем цикл, который будет заменять все потолки выше 4,5 метров (если поискать в интернете, такие в Питере на мансардах) на значением mean()"
   ]
  },
  {
   "cell_type": "code",
   "execution_count": 21,
   "metadata": {
    "scrolled": true
   },
   "outputs": [],
   "source": [
    "# цикл Замены огромных значений \n",
    "for value in df['ceiling_height']:\n",
    "    if value > 4.5:\n",
    "        df['ceiling_height'] = df['ceiling_height'].replace(value, df['ceiling_height'].mean())"
   ]
  },
  {
   "cell_type": "markdown",
   "metadata": {},
   "source": [
    "Посмотрим на то, как гистограмма изменится полсе замены."
   ]
  },
  {
   "cell_type": "code",
   "execution_count": 22,
   "metadata": {},
   "outputs": [
    {
     "data": {
      "text/plain": [
       "count    14504.000000\n",
       "mean         2.724493\n",
       "std          0.268579\n",
       "min          1.200000\n",
       "25%          2.520000\n",
       "50%          2.650000\n",
       "75%          2.800000\n",
       "max          4.500000\n",
       "Name: ceiling_height, dtype: float64"
      ]
     },
     "execution_count": 22,
     "metadata": {},
     "output_type": "execute_result"
    }
   ],
   "source": [
    "df['ceiling_height'].describe()"
   ]
  },
  {
   "cell_type": "markdown",
   "metadata": {},
   "source": [
    "От обозримых выбросов в потолках мы избавились, теперь потолки не превышают 4,5 метра."
   ]
  },
  {
   "cell_type": "markdown",
   "metadata": {},
   "source": [
    "#### rooms"
   ]
  },
  {
   "cell_type": "markdown",
   "metadata": {},
   "source": [
    "Давайте посмотрим на значения внутри столбца."
   ]
  },
  {
   "cell_type": "code",
   "execution_count": 23,
   "metadata": {},
   "outputs": [
    {
     "data": {
      "text/plain": [
       "count    23699.000000\n",
       "mean         2.070636\n",
       "std          1.078405\n",
       "min          0.000000\n",
       "25%          1.000000\n",
       "50%          2.000000\n",
       "75%          3.000000\n",
       "max         19.000000\n",
       "Name: rooms, dtype: float64"
      ]
     },
     "execution_count": 23,
     "metadata": {},
     "output_type": "execute_result"
    }
   ],
   "source": [
    "df['rooms'].describe()"
   ]
  },
  {
   "cell_type": "markdown",
   "metadata": {},
   "source": [
    "Посмотрим что за 0 и 19 комнатные квартиры, а так же построим гистограммы. \n",
    "Нас интересуют значения (0,1), (1,5), (5,10),(10, 19)"
   ]
  },
  {
   "cell_type": "code",
   "execution_count": 24,
   "metadata": {},
   "outputs": [
    {
     "data": {
      "text/plain": [
       "Text(0, 0.5, 'Количество')"
      ]
     },
     "execution_count": 24,
     "metadata": {},
     "output_type": "execute_result"
    },
    {
     "data": {
      "image/png": "[encoded data removed]",
      "text/plain": [
       "<Figure size 432x288 with 1 Axes>"
      ]
     },
     "metadata": {
      "needs_background": "light"
     },
     "output_type": "display_data"
    }
   ],
   "source": [
    "# Гистограмма\n",
    "#df['rooms'].sort_values().plot(y = 'rooms', kind = 'hist', bins = 30, range=(0,1),title = 'Значения rooms от 0 до 1')\n",
    "#df['rooms'].sort_values().plot(y = 'rooms', kind = 'hist', bins = 30, range=(1,5),title = 'Значения rooms от 1 до 5')\n",
    "#df['rooms'].sort_values().plot(y = 'rooms', kind = 'hist', bins = 30, range=(5,10),title = 'Значения rooms от 5 до 10')\n",
    "df['rooms'].sort_values().plot(y = 'rooms', kind = 'hist', bins = 30, range=(10,19),title = 'Значения rooms от 10 до 19')\n",
    "plt.xlabel('Значение')\n",
    "plt.ylabel('Количество')"
   ]
  },
  {
   "cell_type": "code",
   "execution_count": 25,
   "metadata": {},
   "outputs": [
    {
     "data": {
      "image/png": "[encoded data removed]",
      "text/plain": [
       "<Figure size 432x288 with 1 Axes>"
      ]
     },
     "metadata": {
      "needs_background": "light"
     },
     "output_type": "display_data"
    }
   ],
   "source": [
    "df['rooms'].sort_values().plot(\n",
    "    y = 'rooms', kind = 'hist', bins = 30, range=(10,19))\n",
    "plt.xlabel('Значение')\n",
    "plt.ylabel('Количество')\n",
    "plt.title('Значения rooms от 10 до 19')\n",
    "plt.show()"
   ]
  },
  {
   "cell_type": "markdown",
   "metadata": {},
   "source": [
    "Будем считать, что 0 это недостаточно, 19 допустимое значение. Стоит обсудить это с коллегами."
   ]
  },
  {
   "cell_type": "code",
   "execution_count": 26,
   "metadata": {},
   "outputs": [],
   "source": [
    "# Замена 0 на среднее.\n",
    "df['ceiling_height'] = df['ceiling_height'].replace(0 , df['ceiling_height'].mean())\n"
   ]
  },
  {
   "cell_type": "markdown",
   "metadata": {},
   "source": [
    "#### kitchen_area, living_area"
   ]
  },
  {
   "cell_type": "markdown",
   "metadata": {},
   "source": [
    "Посмотрим на количество NaN в этих столбцах."
   ]
  },
  {
   "cell_type": "code",
   "execution_count": 27,
   "metadata": {
    "scrolled": true
   },
   "outputs": [
    {
     "data": {
      "text/plain": [
       "2278"
      ]
     },
     "execution_count": 27,
     "metadata": {},
     "output_type": "execute_result"
    }
   ],
   "source": [
    "# NaN в kitchen_area\n",
    "df['kitchen_area'].isnull().sum()"
   ]
  },
  {
   "cell_type": "code",
   "execution_count": 28,
   "metadata": {},
   "outputs": [
    {
     "data": {
      "text/plain": [
       "1903"
      ]
     },
     "execution_count": 28,
     "metadata": {},
     "output_type": "execute_result"
    }
   ],
   "source": [
    "# NaN в living_area\n",
    "df['living_area'].isnull().sum()"
   ]
  },
  {
   "cell_type": "markdown",
   "metadata": {},
   "source": [
    "Будет неправильно заполнять пропуски средним так как это важные значения, оставим как есть "
   ]
  },
  {
   "cell_type": "markdown",
   "metadata": {},
   "source": [
    "#### floors_total"
   ]
  },
  {
   "cell_type": "markdown",
   "metadata": {},
   "source": [
    "Можно заполнить пропуски, если категоризовать данные по удаленности от центра(описано выше)."
   ]
  },
  {
   "cell_type": "markdown",
   "metadata": {},
   "source": [
    "#### Изменение типов данных."
   ]
  },
  {
   "cell_type": "markdown",
   "metadata": {},
   "source": [
    "Создадим список со столбцами, в которых поменяем тип данных через цикл, затем уменьшим количество знаков после запятой для удобства восприятия."
   ]
  },
  {
   "cell_type": "code",
   "execution_count": 29,
   "metadata": {},
   "outputs": [],
   "source": [
    "# Создаем список столбцов, которые нужно привести к int.\n",
    "int_list = ['last_price','balcony', 'airports_nearest', 'cityCenters_nearest', 'parks_around3000','floors_total', 'parks_nearest', 'ponds_around3000', 'ponds_nearest', 'days_exposition']\n",
    "# Цикл, меняюший тип данных.\n",
    "for column in int_list:\n",
    "    df[column] = df[df[column].notnull()][column].astype('int')"
   ]
  },
  {
   "cell_type": "markdown",
   "metadata": {},
   "source": [
    "Тип данных поменяли, теперь разберемся со знаком после запятой\n"
   ]
  },
  {
   "cell_type": "code",
   "execution_count": 30,
   "metadata": {},
   "outputs": [],
   "source": [
    "# До 1 знака после запятой\n",
    "float_list1 = ['total_area', 'ceiling_height', 'living_area', 'kitchen_area']\n",
    "for column in float_list1:\n",
    "    df[column] = df[df[column].notnull()][column].round(1)"
   ]
  },
  {
   "cell_type": "markdown",
   "metadata": {},
   "source": [
    "#### Категоризация по удаленности от центра."
   ]
  },
  {
   "cell_type": "markdown",
   "metadata": {},
   "source": [
    "Создадим функцию, которая поделит данные внутри столбца на категории удаленности от центра. Этот столбец поможет нам в дальнейшем посчитать то, как цена и прочие данные по будут зависеть от удаленности от центра."
   ]
  },
  {
   "cell_type": "code",
   "execution_count": 31,
   "metadata": {},
   "outputs": [],
   "source": [
    "def center_category_maker(value):\n",
    "    if value['cityCenters_nearest'] < 3000:\n",
    "        return 'центр'\n",
    "    elif value['cityCenters_nearest'] < 5000:\n",
    "        return 'рядом с центром'\n",
    "    elif value['cityCenters_nearest'] < 18000:\n",
    "        return 'в пределах города'\n",
    "    elif value['cityCenters_nearest'] >= 18000:\n",
    "        return 'область'  "
   ]
  },
  {
   "cell_type": "code",
   "execution_count": 32,
   "metadata": {},
   "outputs": [],
   "source": [
    "df['center_category'] = df.apply(center_category_maker, axis=1)"
   ]
  },
  {
   "cell_type": "markdown",
   "metadata": {},
   "source": [
    "#### Категоризация по этажам."
   ]
  },
  {
   "cell_type": "markdown",
   "metadata": {},
   "source": [
    "Добавим столбец с категориями этажей. Он также в дальнейшем поможет нам ответить на вопросы исследования."
   ]
  },
  {
   "cell_type": "code",
   "execution_count": 33,
   "metadata": {},
   "outputs": [],
   "source": [
    "df['floor_category'] = np.where(df['floor'] == 1, 'первый', 'другой')\n",
    "df['floor_category'] = np.where(df['floor'] == df['floors_total'], 'последний', df['floor_category'])"
   ]
  },
  {
   "cell_type": "markdown",
   "metadata": {},
   "source": [
    "#### Категоризация по размеру квартиры."
   ]
  },
  {
   "cell_type": "markdown",
   "metadata": {},
   "source": [
    "Создаем отдельную функцию с категориями и применяем ее к таблице. Создаем новый столбец с категориями. Он также в дальнейшем поможет нам ответить на вопросы исследования."
   ]
  },
  {
   "cell_type": "code",
   "execution_count": 34,
   "metadata": {},
   "outputs": [],
   "source": [
    "#df['total_area'].describe()\n",
    "#df['total_area'].plot(kind = 'hist', bins = 100)\n",
    "def total_area_category_maker(value):\n",
    "    if value['total_area'] < 39:\n",
    "        return 'очень маленькая'\n",
    "    elif value['total_area'] < 45:\n",
    "        return 'маленькая'\n",
    "    elif value['total_area'] < 80:\n",
    "        return 'средняя'\n",
    "    elif value['total_area'] >80:\n",
    "        return 'большая'  "
   ]
  },
  {
   "cell_type": "markdown",
   "metadata": {},
   "source": [
    "Применяем"
   ]
  },
  {
   "cell_type": "code",
   "execution_count": 35,
   "metadata": {},
   "outputs": [],
   "source": [
    "df['total_area_category'] = df.apply(total_area_category_maker, axis=1)"
   ]
  },
  {
   "cell_type": "markdown",
   "metadata": {},
   "source": [
    "#### Добавляем столбцы  (понеделник - воскресенье), год, месяц, день."
   ]
  },
  {
   "cell_type": "markdown",
   "metadata": {},
   "source": [
    "Создадим отдельные столбцы с этими данными. Они также в дальнейшем помогут нам ответить на вопросы исследования."
   ]
  },
  {
   "cell_type": "code",
   "execution_count": 36,
   "metadata": {},
   "outputs": [],
   "source": [
    "# Год и месяц\n",
    "df['year'] = df['first_day_exposition'].dt.year\n",
    "df['month'] = df['first_day_exposition'].dt.month"
   ]
  },
  {
   "cell_type": "code",
   "execution_count": 37,
   "metadata": {},
   "outputs": [
    {
     "data": {
      "text/plain": [
       "0         3\n",
       "1        12\n",
       "2         8\n",
       "3         7\n",
       "4         6\n",
       "         ..\n",
       "23694     3\n",
       "23695     1\n",
       "23696     2\n",
       "23697     3\n",
       "23698     7\n",
       "Name: first_day_exposition, Length: 23699, dtype: int64"
      ]
     },
     "execution_count": 37,
     "metadata": {},
     "output_type": "execute_result"
    }
   ],
   "source": [
    "df['first_day_exposition'].dt.month"
   ]
  },
  {
   "cell_type": "markdown",
   "metadata": {},
   "source": [
    "Для дней созадаим отдельный словарь с названиями дней недели. Применим его к столбцу 'day'."
   ]
  },
  {
   "cell_type": "code",
   "execution_count": 38,
   "metadata": {},
   "outputs": [],
   "source": [
    "df['day'] = df['first_day_exposition'].apply(lambda x: x.isoweekday())\n",
    "weekdays = {1: '1 - понедельник', 2: '2 - вторник', 3: '3 - среда', 4: '4 - четверг', 5: '5 - пятница', 6: '6 - суббота', 7: '7 - воскресенье'}\n",
    "df['day'] = df['day'].map(weekdays)"
   ]
  },
  {
   "cell_type": "markdown",
   "metadata": {},
   "source": []
  },
  {
   "cell_type": "markdown",
   "metadata": {},
   "source": [
    "### Вывод"
   ]
  },
  {
   "cell_type": "markdown",
   "metadata": {},
   "source": [
    "Мы изменили типы данных в столбцах. Убрали некоторые выбросы из данных, округлили значения до 1 знака после запятой. Обозначили возможный путь решений в пропусках. Поделили данные на категории по удаленности от центра и этажу."
   ]
  },
  {
   "cell_type": "markdown",
   "metadata": {},
   "source": [
    "## Расчёты и добавление результатов в таблицу."
   ]
  },
  {
   "cell_type": "markdown",
   "metadata": {},
   "source": [
    "#### Цена квадратного метра "
   ]
  },
  {
   "cell_type": "markdown",
   "metadata": {},
   "source": [
    "Посчитаем цену квадратного метра. Добавим ее в столбец 'm2_price'. Сразу же приведем его к int."
   ]
  },
  {
   "cell_type": "code",
   "execution_count": 39,
   "metadata": {},
   "outputs": [],
   "source": [
    "# Создаем столбец и добавляем его в таблицу.\n",
    "df['m2_price'] = df['last_price']/df['total_area']\n",
    "# Приводим int.\n",
    "df['m2_price'] = df['m2_price'].astype(int)"
   ]
  },
  {
   "cell_type": "markdown",
   "metadata": {},
   "source": [
    "#### День недели, месяц и год публикации объявления"
   ]
  },
  {
   "cell_type": "markdown",
   "metadata": {},
   "source": [
    "Создаем отдельные столбцы и применяем к ним методы."
   ]
  },
  {
   "cell_type": "code",
   "execution_count": 40,
   "metadata": {},
   "outputs": [],
   "source": [
    "# День недели\n",
    "df['weekday'] = df['first_day_exposition'].dt.weekday\n",
    "# Месяц\n",
    "df['month'] = df['first_day_exposition'].dt.month\n",
    "# Год\n",
    "df['year_exposition'] = df['first_day_exposition'].dt.year\n"
   ]
  },
  {
   "cell_type": "markdown",
   "metadata": {},
   "source": [
    "#### Категоризация этажей"
   ]
  },
  {
   "cell_type": "markdown",
   "metadata": {},
   "source": [
    "Категоризируем квартиры по этажам: варианты — первый, последний, другой. Для этого испольузуем метод where() из библиотеки numpy."
   ]
  },
  {
   "cell_type": "code",
   "execution_count": 41,
   "metadata": {},
   "outputs": [],
   "source": [
    "# Условие для категорий 'первый', 'другой'.\n",
    "df['floor_category'] = np.where(df['floor'] == 1, 'первый', 'другой')\n",
    "# Условие для категорий 'последний'.\n",
    "df['floor_category'] = np.where(df['floor'] == df['floors_total'], 'последний', df['floor_category'])"
   ]
  },
  {
   "cell_type": "markdown",
   "metadata": {},
   "source": [
    "#### Cоотношение жилой и общей площади, отношение площади кухни к общей."
   ]
  },
  {
   "cell_type": "markdown",
   "metadata": {},
   "source": [
    "Создаем два столбца, округляем данные до 2 знаков после запятой для удобства восприятия."
   ]
  },
  {
   "cell_type": "code",
   "execution_count": 42,
   "metadata": {},
   "outputs": [],
   "source": [
    "# Создаем столбцы с нужными нам соотношениями данных внутри табицы.\n",
    "df['living_area_ratio'] = df['living_area']/df['total_area']\n",
    "df['kitchen_area_ratio'] = df['kitchen_area']/df['total_area']\n",
    "# Список столбцов к округлению до двух знаков после запятой.\n",
    "float_list2 = ['living_area_ratio', 'kitchen_area_ratio']\n",
    "# Цикл округления \n",
    "for column in float_list2:\n",
    "    df[column] = df[df[column].notnull()][column].round(2)"
   ]
  },
  {
   "cell_type": "markdown",
   "metadata": {},
   "source": [
    "### Вывод"
   ]
  },
  {
   "cell_type": "markdown",
   "metadata": {},
   "source": [
    "Мы добавили столбцы с ценой за квадратный метр, днем недели, годом, месяцем, категоризовали этажи и посчитали отношения площадей. Округлили данные до двух знаков после запятой."
   ]
  },
  {
   "cell_type": "markdown",
   "metadata": {},
   "source": [
    "## Исследовательский анализ данных"
   ]
  },
  {
   "cell_type": "markdown",
   "metadata": {},
   "source": [
    "### Гистограммы : площадь, цена, число комнат, высота потолков."
   ]
  },
  {
   "cell_type": "markdown",
   "metadata": {},
   "source": [
    "Изучим площадь, цену, число комнат, высоту потолков. построим гистограммы по этим данным. Для начала выведем методом describe() значения внутри столбцов. Затем построим 'ящики с усами' методом plot по всем сотлбцам, чтобы понаблюдать за отклонениями и выбросами."
   ]
  },
  {
   "cell_type": "markdown",
   "metadata": {},
   "source": [
    "#### Описание данных"
   ]
  },
  {
   "cell_type": "code",
   "execution_count": 43,
   "metadata": {},
   "outputs": [
    {
     "data": {
      "text/html": [
       "<div>\n",
       "<style scoped>\n",
       "    .dataframe tbody tr th:only-of-type {\n",
       "        vertical-align: middle;\n",
       "    }\n",
       "\n",
       "    .dataframe tbody tr th {\n",
       "        vertical-align: top;\n",
       "    }\n",
       "\n",
       "    .dataframe thead th {\n",
       "        text-align: right;\n",
       "    }\n",
       "</style>\n",
       "<table border=\"1\" class=\"dataframe\">\n",
       "  <thead>\n",
       "    <tr style=\"text-align: right;\">\n",
       "      <th></th>\n",
       "      <th>total_area</th>\n",
       "      <th>last_price</th>\n",
       "      <th>rooms</th>\n",
       "      <th>ceiling_height</th>\n",
       "    </tr>\n",
       "  </thead>\n",
       "  <tbody>\n",
       "    <tr>\n",
       "      <th>count</th>\n",
       "      <td>23699.000000</td>\n",
       "      <td>2.369900e+04</td>\n",
       "      <td>23699.000000</td>\n",
       "      <td>14504.000000</td>\n",
       "    </tr>\n",
       "    <tr>\n",
       "      <th>mean</th>\n",
       "      <td>60.348635</td>\n",
       "      <td>6.541549e+06</td>\n",
       "      <td>2.070636</td>\n",
       "      <td>2.728758</td>\n",
       "    </tr>\n",
       "    <tr>\n",
       "      <th>std</th>\n",
       "      <td>35.654086</td>\n",
       "      <td>1.088701e+07</td>\n",
       "      <td>1.078405</td>\n",
       "      <td>0.268865</td>\n",
       "    </tr>\n",
       "    <tr>\n",
       "      <th>min</th>\n",
       "      <td>12.000000</td>\n",
       "      <td>1.219000e+04</td>\n",
       "      <td>0.000000</td>\n",
       "      <td>1.200000</td>\n",
       "    </tr>\n",
       "    <tr>\n",
       "      <th>25%</th>\n",
       "      <td>40.000000</td>\n",
       "      <td>3.400000e+06</td>\n",
       "      <td>1.000000</td>\n",
       "      <td>2.500000</td>\n",
       "    </tr>\n",
       "    <tr>\n",
       "      <th>50%</th>\n",
       "      <td>52.000000</td>\n",
       "      <td>4.650000e+06</td>\n",
       "      <td>2.000000</td>\n",
       "      <td>2.600000</td>\n",
       "    </tr>\n",
       "    <tr>\n",
       "      <th>75%</th>\n",
       "      <td>69.900000</td>\n",
       "      <td>6.800000e+06</td>\n",
       "      <td>3.000000</td>\n",
       "      <td>2.800000</td>\n",
       "    </tr>\n",
       "    <tr>\n",
       "      <th>max</th>\n",
       "      <td>900.000000</td>\n",
       "      <td>7.630000e+08</td>\n",
       "      <td>19.000000</td>\n",
       "      <td>4.500000</td>\n",
       "    </tr>\n",
       "  </tbody>\n",
       "</table>\n",
       "</div>"
      ],
      "text/plain": [
       "         total_area    last_price         rooms  ceiling_height\n",
       "count  23699.000000  2.369900e+04  23699.000000    14504.000000\n",
       "mean      60.348635  6.541549e+06      2.070636        2.728758\n",
       "std       35.654086  1.088701e+07      1.078405        0.268865\n",
       "min       12.000000  1.219000e+04      0.000000        1.200000\n",
       "25%       40.000000  3.400000e+06      1.000000        2.500000\n",
       "50%       52.000000  4.650000e+06      2.000000        2.600000\n",
       "75%       69.900000  6.800000e+06      3.000000        2.800000\n",
       "max      900.000000  7.630000e+08     19.000000        4.500000"
      ]
     },
     "execution_count": 43,
     "metadata": {},
     "output_type": "execute_result"
    }
   ],
   "source": [
    "# Переменная со списком столбцов\n",
    "columns_for_hist = ['total_area', 'last_price', 'rooms', 'ceiling_height']\n",
    "# Описание значений внутри столбцов.\n",
    "df[['total_area', 'last_price', 'rooms', 'ceiling_height']].describe()"
   ]
  },
  {
   "cell_type": "markdown",
   "metadata": {},
   "source": [
    "Давайте оценим данные.\n",
    "\n",
    "- total_area минимальное значение 12 допустимо. Максимальное 900 стоит изучить. \n",
    "- last_price не замечаю ничего подозрительного.\n",
    "- rooms минимальное значение 0 - нужно изучить, максимальное 19 стоит проверить методом query.\n",
    "- Выбросы из столбца 'celling_height' мы преобразовали ещё во время предобработки.\n",
    "\n",
    "Пойдем по порядку. Построим графики 'ящики', чтобы определить выбросы по каждому столбцу. Определим границы."
   ]
  },
  {
   "cell_type": "markdown",
   "metadata": {},
   "source": [
    "#### Ящики с усами"
   ]
  },
  {
   "cell_type": "code",
   "execution_count": 44,
   "metadata": {},
   "outputs": [
    {
     "data": {
      "image/png": "[encoded data removed]",
      "text/plain": [
       "<Figure size 3600x1800 with 4 Axes>"
      ]
     },
     "metadata": {
      "needs_background": "light"
     },
     "output_type": "display_data"
    }
   ],
   "source": [
    "rows = 2\n",
    "columns = 2\n",
    "fig, axes = plt.subplots(rows, columns, figsize=(50,25))\n",
    "column_list = ['total_area', 'last_price', 'rooms', 'ceiling_height']\n",
    "ylims = [600, 13000000, 10, 5]\n",
    "count = 0\n",
    "for r in range(rows):\n",
    "    for c in range(columns):\n",
    "        ax = df.boxplot(column=column_list[count], ax=axes[r,c], fontsize=40)\n",
    "        ax.set_ylim([0, ylims[count]])\n",
    "        count += 1"
   ]
  },
  {
   "cell_type": "markdown",
   "metadata": {},
   "source": [
    "Примерные границы по каждому столбцу:\n",
    "\n",
    "- total_area - 20-130 квадратных метров.\n",
    "- last_price - 0-12 миллионов рублей.\n",
    "- rooms - 0-6 комнат;\n",
    "- ceiling_height - 2,4-3,20 метров\n",
    "\n",
    "Мы узнали границы, теперь можем основываясь на них, построить гистограммы. Попробуем сделать выводы по ним."
   ]
  },
  {
   "cell_type": "markdown",
   "metadata": {},
   "source": [
    "#### total_area гистограмма "
   ]
  },
  {
   "cell_type": "code",
   "execution_count": 45,
   "metadata": {
    "scrolled": true
   },
   "outputs": [
    {
     "data": {
      "text/plain": [
       "Text(0, 0.5, 'Количество')"
      ]
     },
     "execution_count": 45,
     "metadata": {},
     "output_type": "execute_result"
    },
    {
     "data": {
      "image/png": "[encoded data removed]",
      "text/plain": [
       "<Figure size 720x504 with 1 Axes>"
      ]
     },
     "metadata": {
      "needs_background": "light"
     },
     "output_type": "display_data"
    }
   ],
   "source": [
    "df.plot(y = 'total_area', kind = 'hist', bins = 100, grid=True, figsize = (10,7), range = (0,130), title = 'Распределение total_area')\n",
    "plt.xlabel('Значение')\n",
    "plt.ylabel('Количество')"
   ]
  },
  {
   "cell_type": "markdown",
   "metadata": {},
   "source": [
    "#### total_area комментарии\n",
    "\n"
   ]
  },
  {
   "cell_type": "markdown",
   "metadata": {},
   "source": [
    "Большинство квартир имеют площадь от 30 до 80 квадратных метров, пиком являются квартиры с площадью 50 квадратных метров. Есть квартиры с площадью по 800 квадратных метров, но это редкие случаи (выбросы)."
   ]
  },
  {
   "cell_type": "markdown",
   "metadata": {},
   "source": [
    "#### last_price гистограмма"
   ]
  },
  {
   "cell_type": "code",
   "execution_count": 46,
   "metadata": {},
   "outputs": [
    {
     "data": {
      "text/plain": [
       "Text(0, 0.5, 'Количество')"
      ]
     },
     "execution_count": 46,
     "metadata": {},
     "output_type": "execute_result"
    },
    {
     "data": {
      "image/png": "[encoded data removed]",
      "text/plain": [
       "<Figure size 360x216 with 1 Axes>"
      ]
     },
     "metadata": {
      "needs_background": "light"
     },
     "output_type": "display_data"
    }
   ],
   "source": [
    "df.plot(y = 'last_price', kind = 'hist', bins = 100, grid=True, range = (0,12000000), figsize = (5,3), title = 'Распределение last_price')\n",
    "plt.xlabel('Значение')\n",
    "plt.ylabel('Количество')"
   ]
  },
  {
   "cell_type": "markdown",
   "metadata": {},
   "source": [
    "#### last_price комментарии"
   ]
  },
  {
   "cell_type": "markdown",
   "metadata": {},
   "source": [
    "Большинство квартир продаются за 3 и 6 миллионов рублей. Квартир ценой 12млн значительно меньше, заметны выбросы."
   ]
  },
  {
   "cell_type": "markdown",
   "metadata": {},
   "source": [
    "#### rooms круговая диаграмма"
   ]
  },
  {
   "cell_type": "code",
   "execution_count": 47,
   "metadata": {},
   "outputs": [
    {
     "data": {
      "text/plain": [
       "<AxesSubplot:title={'center':'Распределение rooms'}, ylabel='last_price'>"
      ]
     },
     "execution_count": 47,
     "metadata": {},
     "output_type": "execute_result"
    },
    {
     "data": {
      "image/png": "[encoded data removed]",
      "text/plain": [
       "<Figure size 432x288 with 1 Axes>"
      ]
     },
     "metadata": {},
     "output_type": "display_data"
    }
   ],
   "source": [
    "# создаем pivot - table для rooms.\n",
    "df_rooms = df.pivot_table(index='rooms', values='last_price', aggfunc='count')\n",
    "colors = sb.color_palette('pastel')[0:5]\n",
    "df_rooms.plot(kind = 'pie',y=\"last_price\", colors = colors, labels = None,  title = 'Распределение rooms')"
   ]
  },
  {
   "cell_type": "markdown",
   "metadata": {},
   "source": [
    "#### rooms комментарии"
   ]
  },
  {
   "cell_type": "markdown",
   "metadata": {},
   "source": [
    "Квартиры с одной и двумя комнатами состовляют 2/3 диаграммы, немного меньше квартир имеют 3 комнаты и совсем немного - 4. Квартиры с колличеством комнат больше 4 составляют меньшенство. Также на диаграмме присуствуют квартиры с нулевым количеством комнат6 что по моему является либо ошибкой, либо недопониманием."
   ]
  },
  {
   "cell_type": "markdown",
   "metadata": {},
   "source": [
    "#### ceiling_height гистограмма"
   ]
  },
  {
   "cell_type": "code",
   "execution_count": 48,
   "metadata": {},
   "outputs": [
    {
     "data": {
      "text/plain": [
       "<AxesSubplot:title={'center':'Распределение ceiling_heigh'}, ylabel='Frequency'>"
      ]
     },
     "execution_count": 48,
     "metadata": {},
     "output_type": "execute_result"
    },
    {
     "data": {
      "image/png": "[encoded data removed]",
      "text/plain": [
       "<Figure size 360x216 with 1 Axes>"
      ]
     },
     "metadata": {
      "needs_background": "light"
     },
     "output_type": "display_data"
    }
   ],
   "source": [
    "df.plot(y = 'ceiling_height', kind = 'hist', bins = 30, grid = True, range = (2, 4.5), figsize = (5,3), title ='Распределение ceiling_heigh')"
   ]
  },
  {
   "cell_type": "markdown",
   "metadata": {},
   "source": [
    "#### ceiling_height комментарии"
   ]
  },
  {
   "cell_type": "markdown",
   "metadata": {},
   "source": [
    "Большинство квартир имеют потолки 2,5 - 2,7 метров. Наблюдается сегмет от 3 до 3,3. Все остальное - уникальные случаи."
   ]
  },
  {
   "cell_type": "markdown",
   "metadata": {},
   "source": [
    "### Время продажи квартиры.\n"
   ]
  },
  {
   "cell_type": "markdown",
   "metadata": {},
   "source": [
    "#### Метод describe() 'days_exposition'"
   ]
  },
  {
   "cell_type": "markdown",
   "metadata": {},
   "source": [
    "При помощи метода describe90 выводим информацию о данных внутри столбца 'days_exposition'."
   ]
  },
  {
   "cell_type": "code",
   "execution_count": 49,
   "metadata": {},
   "outputs": [
    {
     "data": {
      "text/plain": [
       "count    20518.000000\n",
       "mean       180.888634\n",
       "std        219.727988\n",
       "min          1.000000\n",
       "25%         45.000000\n",
       "50%         95.000000\n",
       "75%        232.000000\n",
       "max       1580.000000\n",
       "Name: days_exposition, dtype: float64"
      ]
     },
     "execution_count": 49,
     "metadata": {},
     "output_type": "execute_result"
    }
   ],
   "source": [
    "df['days_exposition'].describe()"
   ]
  },
  {
   "cell_type": "markdown",
   "metadata": {},
   "source": [
    "Обратим внимание на максимальное число. Оно говорит о том, что существуют квартиры, которые продавались 5 лет. Это может быть реальный срок продажи, например очень дорогой, или же наоборот неликвидной недвижимости. Также могу предположить, что величина значения обусловлено тем, что владелец не удалил объявление после продажи недвижимости. Среднее время продажи - полгода. Значение вполне соответвуент объективной реальности, не слишком быстро, не слишком долго. Теперь посмотрим на ограничения, затем обратимся к медиане."
   ]
  },
  {
   "cell_type": "markdown",
   "metadata": {},
   "source": [
    "#### Ящик с усами 'days_exposition'."
   ]
  },
  {
   "cell_type": "code",
   "execution_count": 50,
   "metadata": {},
   "outputs": [
    {
     "data": {
      "text/plain": [
       "<AxesSubplot:>"
      ]
     },
     "execution_count": 50,
     "metadata": {},
     "output_type": "execute_result"
    },
    {
     "data": {
      "image/png": "[encoded data removed]",
      "text/plain": [
       "<Figure size 432x288 with 1 Axes>"
      ]
     },
     "metadata": {
      "needs_background": "light"
     },
     "output_type": "display_data"
    }
   ],
   "source": [
    "df.boxplot(column='days_exposition')"
   ]
  },
  {
   "cell_type": "markdown",
   "metadata": {},
   "source": [
    "При построении гистограммы нужно будет ограничиться значением 500, чтобы избежать выбросов."
   ]
  },
  {
   "cell_type": "markdown",
   "metadata": {},
   "source": [
    "#### Медиана"
   ]
  },
  {
   "cell_type": "code",
   "execution_count": 51,
   "metadata": {},
   "outputs": [
    {
     "data": {
      "text/plain": [
       "95.0"
      ]
     },
     "execution_count": 51,
     "metadata": {},
     "output_type": "execute_result"
    }
   ],
   "source": [
    "df['days_exposition'].median()"
   ]
  },
  {
   "cell_type": "markdown",
   "metadata": {},
   "source": [
    "3 месяца. Хороший срок продолжительности продажи недвижимости. Теперь построим гистограмму без ограничений. Попробуем оценить ее показатели."
   ]
  },
  {
   "cell_type": "markdown",
   "metadata": {},
   "source": [
    "#### Гистограмма времени продажи недвижимости без ограничений."
   ]
  },
  {
   "cell_type": "code",
   "execution_count": 52,
   "metadata": {
    "scrolled": false
   },
   "outputs": [
    {
     "data": {
      "text/plain": [
       "<AxesSubplot:ylabel='Frequency'>"
      ]
     },
     "execution_count": 52,
     "metadata": {},
     "output_type": "execute_result"
    },
    {
     "data": {
      "image/png": "[encoded data removed]",
      "text/plain": [
       "<Figure size 720x288 with 1 Axes>"
      ]
     },
     "metadata": {
      "needs_background": "light"
     },
     "output_type": "display_data"
    }
   ],
   "source": [
    "df['days_exposition'].plot(kind = 'hist', bins=70, figsize=(10,4), ec='white')"
   ]
  },
  {
   "cell_type": "markdown",
   "metadata": {},
   "source": [
    "Большая часть квартир продавалась за первые 50 дней. Долгие продажи в меньшинстве. Теперь построим гистограмму, в которой будут остуствовать выбросы. Ограничим её 500 днями, как было описано выше. Для среза используем метод query()"
   ]
  },
  {
   "cell_type": "markdown",
   "metadata": {},
   "source": [
    "#### Гистограмма времени продажи недвижимости с ограничением в 500 дней."
   ]
  },
  {
   "cell_type": "code",
   "execution_count": 53,
   "metadata": {},
   "outputs": [
    {
     "data": {
      "text/plain": [
       "<AxesSubplot:>"
      ]
     },
     "execution_count": 53,
     "metadata": {},
     "output_type": "execute_result"
    },
    {
     "data": {
      "image/png": "[encoded data removed]",
      "text/plain": [
       "<Figure size 720x216 with 1 Axes>"
      ]
     },
     "metadata": {
      "needs_background": "light"
     },
     "output_type": "display_data"
    }
   ],
   "source": [
    "df.query('days_exposition<500')['days_exposition'].hist(bins=70, figsize=(10,3), ec='white')"
   ]
  },
  {
   "cell_type": "markdown",
   "metadata": {},
   "source": [
    "График плавный, напоминает распределение Пуассона, мы можем наблюдать странные пиковые значения на точках 45 - 60. Давайте посмотрим на них подробнее, попробуем выдвинуть гипотезу."
   ]
  },
  {
   "cell_type": "markdown",
   "metadata": {},
   "source": [
    "#### Гистограмма времени продажи недвижимости с подробностями пиков 45 и 60"
   ]
  },
  {
   "cell_type": "code",
   "execution_count": 54,
   "metadata": {},
   "outputs": [
    {
     "data": {
      "text/plain": [
       "<AxesSubplot:>"
      ]
     },
     "execution_count": 54,
     "metadata": {},
     "output_type": "execute_result"
    },
    {
     "data": {
      "image/png": "[encoded data removed]",
      "text/plain": [
       "<Figure size 720x288 with 1 Axes>"
      ]
     },
     "metadata": {
      "needs_background": "light"
     },
     "output_type": "display_data"
    }
   ],
   "source": [
    "df.query('40<days_exposition<65')['days_exposition'].hist(bins=70, figsize=(10,4), ec='white')"
   ]
  },
  {
   "cell_type": "markdown",
   "metadata": {},
   "source": [
    "#### Гипотеза "
   ]
  },
  {
   "cell_type": "markdown",
   "metadata": {},
   "source": [
    "Между значениями 45 и 60 промежуток в 15 отметок. Скорее всего, по такому принципу работает система оповещений о продаже квартиры. Она уточняет у клиента факт продажи раз в 15 дней. Попробуем подтвердить гипотезу еще одной гистограммой. Если наше предположение верное - на отметке 30 должен присуствовать пик, так как он будет отделять промежуток от 30 до 45."
   ]
  },
  {
   "cell_type": "markdown",
   "metadata": {},
   "source": [
    "#### Гистограмма по гипотезе"
   ]
  },
  {
   "cell_type": "code",
   "execution_count": 55,
   "metadata": {},
   "outputs": [
    {
     "data": {
      "text/plain": [
       "<AxesSubplot:>"
      ]
     },
     "execution_count": 55,
     "metadata": {},
     "output_type": "execute_result"
    },
    {
     "data": {
      "image/png": "[encoded data removed]",
      "text/plain": [
       "<Figure size 720x288 with 1 Axes>"
      ]
     },
     "metadata": {
      "needs_background": "light"
     },
     "output_type": "display_data"
    }
   ],
   "source": [
    "df.query('20<days_exposition<65')['days_exposition'].hist(bins=70, figsize=(10,4), ec='white')"
   ]
  },
  {
   "cell_type": "markdown",
   "metadata": {},
   "source": [
    "Наша гипотеза подтвердилась. Пиковые значения действительно имеют промежуток в 15 дней."
   ]
  },
  {
   "cell_type": "markdown",
   "metadata": {},
   "source": [
    "#### Объективная реальность. "
   ]
  },
  {
   "cell_type": "markdown",
   "metadata": {},
   "source": [
    "Воспользовавшись интернетом находим правила размещения объявлений. (https://yandex.ru/support/realty/owner/home/add-ads-housing.html)\n",
    "Существуют сроки, после которых объявление считается неактуальным. \n",
    "\n",
    "Они соотвествуют нашим пиковым значениям."
   ]
  },
  {
   "cell_type": "markdown",
   "metadata": {},
   "source": [
    "### Убираем редкие и выбивающиеся значения."
   ]
  },
  {
   "cell_type": "markdown",
   "metadata": {},
   "source": [
    "#### 'ceiling_height' и ящики с усами."
   ]
  },
  {
   "cell_type": "markdown",
   "metadata": {},
   "source": [
    "Мы перезаписали данные в 'ceiling_height' во время предобработки, в остальном все значения соотвествуют реальности. Существуют границы, которые мы обозначили на ящике с усами по столбцам 'rooms'6 'ceiling_height', 'last_price', 'total_area'. Можем применить их к датафрейму и создать новый, но нужно проконсультироваться с коллегами перед этим. Неадекватные значения (потолок 100 метров) были устранены. "
   ]
  },
  {
   "cell_type": "markdown",
   "metadata": {},
   "source": [
    "### Факторы наибольшего влияния на стоимость квартиры."
   ]
  },
  {
   "cell_type": "markdown",
   "metadata": {},
   "source": [
    "Для того, чтобы нарисовать графики напишем единую функцию. Она будет визуализировать при помощи гистограммы отношение между ценой и выбранным столбцом."
   ]
  },
  {
   "cell_type": "markdown",
   "metadata": {},
   "source": [
    "#### Функция подсчета зависимости цены от столбца."
   ]
  },
  {
   "cell_type": "code",
   "execution_count": 56,
   "metadata": {},
   "outputs": [],
   "source": [
    "def price_ratio(df, column):\n",
    "    if column == 'floor_category' or column == 'center_category' or column == 'total_area_category':\n",
    "        sort_key = 'last_price'\n",
    "    else:\n",
    "        sort_key = column\n",
    "    if column == 'fromcenter_category':\n",
    "        fontsize = 10\n",
    "    else:\n",
    "        fontsize = 13\n",
    "    df_filtered = df.groupby(column).median()['last_price'].reset_index().sort_values(by=sort_key)\n",
    "    plot = df_filtered.plot(x=column, y=\"last_price\", kind='bar', ec='white', legend=None, \n",
    "                            fontsize=fontsize, figsize=(10,3))\n",
    "    return plot"
   ]
  },
  {
   "cell_type": "markdown",
   "metadata": {},
   "source": [
    "#### Зависимость от цены от числа комнат."
   ]
  },
  {
   "cell_type": "code",
   "execution_count": 57,
   "metadata": {},
   "outputs": [
    {
     "data": {
      "text/plain": [
       "<AxesSubplot:xlabel='rooms'>"
      ]
     },
     "execution_count": 57,
     "metadata": {},
     "output_type": "execute_result"
    },
    {
     "data": {
      "image/png": "[encoded data removed]",
      "text/plain": [
       "<Figure size 720x216 with 1 Axes>"
      ]
     },
     "metadata": {
      "needs_background": "light"
     },
     "output_type": "display_data"
    }
   ],
   "source": [
    "price_ratio(df, 'rooms')"
   ]
  },
  {
   "cell_type": "markdown",
   "metadata": {},
   "source": [
    "На гистограмме можем заметить тенденцию увеличения цены до 12 комнат. 12 - пиковое значение. После 12 цена падает, скорее всего это могут быть коммунальные помещения. В данных много выбросов. посмотрим на гистограмму без них."
   ]
  },
  {
   "cell_type": "code",
   "execution_count": 58,
   "metadata": {},
   "outputs": [
    {
     "data": {
      "text/plain": [
       "<AxesSubplot:xlabel='rooms'>"
      ]
     },
     "execution_count": 58,
     "metadata": {},
     "output_type": "execute_result"
    },
    {
     "data": {
      "image/png": "[encoded data removed]",
      "text/plain": [
       "<Figure size 720x216 with 1 Axes>"
      ]
     },
     "metadata": {
      "needs_background": "light"
     },
     "output_type": "display_data"
    }
   ],
   "source": [
    "price_ratio(df.query('rooms <= 6'), 'rooms')"
   ]
  },
  {
   "cell_type": "markdown",
   "metadata": {},
   "source": [
    "#### Зависимость цены от удалённости от центра."
   ]
  },
  {
   "cell_type": "code",
   "execution_count": 59,
   "metadata": {
    "scrolled": false
   },
   "outputs": [
    {
     "data": {
      "text/plain": [
       "<AxesSubplot:xlabel='center_category'>"
      ]
     },
     "execution_count": 59,
     "metadata": {},
     "output_type": "execute_result"
    },
    {
     "data": {
      "image/png": "[encoded data removed]",
      "text/plain": [
       "<Figure size 720x216 with 1 Axes>"
      ]
     },
     "metadata": {
      "needs_background": "light"
     },
     "output_type": "display_data"
    }
   ],
   "source": [
    "price_ratio(df, 'center_category')"
   ]
  },
  {
   "cell_type": "markdown",
   "metadata": {},
   "source": [
    "По мере удаленности от центра города недвижимость падает в цене. "
   ]
  },
  {
   "cell_type": "markdown",
   "metadata": {},
   "source": [
    "#### Зависимость от этажа."
   ]
  },
  {
   "cell_type": "code",
   "execution_count": 60,
   "metadata": {
    "scrolled": true
   },
   "outputs": [
    {
     "data": {
      "text/plain": [
       "<AxesSubplot:xlabel='floor_category'>"
      ]
     },
     "execution_count": 60,
     "metadata": {},
     "output_type": "execute_result"
    },
    {
     "data": {
      "image/png": "[encoded data removed]",
      "text/plain": [
       "<Figure size 720x216 with 1 Axes>"
      ]
     },
     "metadata": {
      "needs_background": "light"
     },
     "output_type": "display_data"
    }
   ],
   "source": [
    "price_ratio(df, 'floor_category')"
   ]
  },
  {
   "cell_type": "markdown",
   "metadata": {},
   "source": [
    "На первом и на последнем этаже квартиры дешевле, чем на всех остальных. Это обусловленно комфортом и доступом в квартиру."
   ]
  },
  {
   "cell_type": "markdown",
   "metadata": {},
   "source": [
    "#### Зависимость цены от площади квартиры.\n"
   ]
  },
  {
   "cell_type": "code",
   "execution_count": 61,
   "metadata": {},
   "outputs": [
    {
     "data": {
      "text/plain": [
       "<AxesSubplot:xlabel='total_area_category'>"
      ]
     },
     "execution_count": 61,
     "metadata": {},
     "output_type": "execute_result"
    },
    {
     "data": {
      "image/png": "[encoded data removed]",
      "text/plain": [
       "<Figure size 720x216 with 1 Axes>"
      ]
     },
     "metadata": {
      "needs_background": "light"
     },
     "output_type": "display_data"
    }
   ],
   "source": [
    "price_ratio(df, 'total_area_category')"
   ]
  },
  {
   "cell_type": "markdown",
   "metadata": {},
   "source": [
    "Чем больше квартира, тем выше цена."
   ]
  },
  {
   "cell_type": "markdown",
   "metadata": {},
   "source": [
    "#### Функция для дня недели месяца и года."
   ]
  },
  {
   "cell_type": "markdown",
   "metadata": {},
   "source": [
    "Чтобы построить гистограммы зависимости цены от вышеуказанных факторов, напишем новую функцию."
   ]
  },
  {
   "cell_type": "code",
   "execution_count": 62,
   "metadata": {},
   "outputs": [],
   "source": [
    "def datatime_price(df, ylims=None):\n",
    "    dmy_to_plot = ['day', 'month', 'year']\n",
    "    titles = ['День недели', 'Месяц', 'Год']\n",
    "\n",
    "    for i in range(len(dmy_to_plot)):\n",
    "        df_to_plot = df.groupby(dmy_to_plot[i]).median()['last_price'].reset_index().sort_values(by=dmy_to_plot[i])\n",
    "        if ylims is None:\n",
    "            plot = df_to_plot.plot(x=dmy_to_plot[i], y=\"last_price\", kind='bar', figsize=(10,5), ec='black',\n",
    "                                   legend=False, title=titles[i], fontsize=15)\n",
    "        else:\n",
    "            plot = df_to_plot.plot(x=dmy_to_plot[i], y=\"last_price\", kind='bar', figsize=(10,5), ec='black',\n",
    "                               legend=False, title=titles[i], fontsize=15, ylim=ylims[i])\n",
    "        ax2 = plt.gca()\n",
    "        x_axis = ax2.xaxis\n",
    "        x_axis.label.set_visible(False)\n",
    "        if dmy_to_plot[i] != 'day':\n",
    "            plt.xticks(rotation=0)\n",
    "    return plot"
   ]
  },
  {
   "cell_type": "markdown",
   "metadata": {},
   "source": [
    "Применим функцию к датафрейму."
   ]
  },
  {
   "cell_type": "markdown",
   "metadata": {},
   "source": [
    "#### Гистограммы зависимости цены от даты."
   ]
  },
  {
   "cell_type": "code",
   "execution_count": 63,
   "metadata": {
    "scrolled": true
   },
   "outputs": [
    {
     "data": {
      "text/plain": [
       "<AxesSubplot:title={'center':'Год'}, xlabel='year'>"
      ]
     },
     "execution_count": 63,
     "metadata": {},
     "output_type": "execute_result"
    },
    {
     "data": {
      "image/png": "[encoded data removed]",
      "text/plain": [
       "<Figure size 720x360 with 1 Axes>"
      ]
     },
     "metadata": {
      "needs_background": "light"
     },
     "output_type": "display_data"
    },
    {
     "data": {
      "image/png": "[encoded data removed]",
      "text/plain": [
       "<Figure size 720x360 with 1 Axes>"
      ]
     },
     "metadata": {
      "needs_background": "light"
     },
     "output_type": "display_data"
    },
    {
     "data": {
      "image/png": "[encoded data removed]",
      "text/plain": [
       "<Figure size 720x360 with 1 Axes>"
      ]
     },
     "metadata": {
      "needs_background": "light"
     },
     "output_type": "display_data"
    }
   ],
   "source": [
    "datatime_price(df, ylims=[(4000000, 4900000), (4000000, 4900000), (4000000, 8000000)])"
   ]
  },
  {
   "cell_type": "markdown",
   "metadata": {},
   "source": [
    "Как мы можем заметить в 2014 году цены были выше всего. Это связано с курсом валют. Зависимость цены от дня недели не прослеживается. 4 месяц апрель - месяц высоких цен на недвижимость, июнь, самых низких. "
   ]
  },
  {
   "cell_type": "markdown",
   "metadata": {},
   "source": [
    "### 10 населённых пунктов с наибольшим числом объявлений."
   ]
  },
  {
   "cell_type": "markdown",
   "metadata": {},
   "source": [
    "#### Топ 10 городов."
   ]
  },
  {
   "cell_type": "markdown",
   "metadata": {},
   "source": [
    "Создадим DataFrame в который поместим топ-10 городов."
   ]
  },
  {
   "cell_type": "code",
   "execution_count": 64,
   "metadata": {},
   "outputs": [
    {
     "data": {
      "text/html": [
       "<div>\n",
       "<style scoped>\n",
       "    .dataframe tbody tr th:only-of-type {\n",
       "        vertical-align: middle;\n",
       "    }\n",
       "\n",
       "    .dataframe tbody tr th {\n",
       "        vertical-align: top;\n",
       "    }\n",
       "\n",
       "    .dataframe thead th {\n",
       "        text-align: right;\n",
       "    }\n",
       "</style>\n",
       "<table border=\"1\" class=\"dataframe\">\n",
       "  <thead>\n",
       "    <tr style=\"text-align: right;\">\n",
       "      <th></th>\n",
       "      <th>Город</th>\n",
       "      <th>Средняя цена кв.м.</th>\n",
       "      <th>Средняя цена квартиры</th>\n",
       "    </tr>\n",
       "  </thead>\n",
       "  <tbody>\n",
       "    <tr>\n",
       "      <th>0</th>\n",
       "      <td>Санкт-Петербург</td>\n",
       "      <td>104761.0</td>\n",
       "      <td>5500000.0</td>\n",
       "    </tr>\n",
       "    <tr>\n",
       "      <th>4</th>\n",
       "      <td>Пушкин</td>\n",
       "      <td>100000.0</td>\n",
       "      <td>5180000.0</td>\n",
       "    </tr>\n",
       "    <tr>\n",
       "      <th>8</th>\n",
       "      <td>деревня Кудрово</td>\n",
       "      <td>91860.0</td>\n",
       "      <td>3790000.0</td>\n",
       "    </tr>\n",
       "    <tr>\n",
       "      <th>6</th>\n",
       "      <td>посёлок Парголово</td>\n",
       "      <td>91642.0</td>\n",
       "      <td>4100000.0</td>\n",
       "    </tr>\n",
       "    <tr>\n",
       "      <th>1</th>\n",
       "      <td>посёлок Мурино</td>\n",
       "      <td>85890.0</td>\n",
       "      <td>3400000.0</td>\n",
       "    </tr>\n",
       "    <tr>\n",
       "      <th>2</th>\n",
       "      <td>посёлок Шушары</td>\n",
       "      <td>76876.0</td>\n",
       "      <td>3950000.0</td>\n",
       "    </tr>\n",
       "    <tr>\n",
       "      <th>5</th>\n",
       "      <td>Колпино</td>\n",
       "      <td>74723.5</td>\n",
       "      <td>3600000.0</td>\n",
       "    </tr>\n",
       "    <tr>\n",
       "      <th>7</th>\n",
       "      <td>Гатчина</td>\n",
       "      <td>67796.0</td>\n",
       "      <td>3100000.0</td>\n",
       "    </tr>\n",
       "    <tr>\n",
       "      <th>3</th>\n",
       "      <td>Всеволожск</td>\n",
       "      <td>65789.0</td>\n",
       "      <td>3450000.0</td>\n",
       "    </tr>\n",
       "    <tr>\n",
       "      <th>9</th>\n",
       "      <td>Выборг</td>\n",
       "      <td>58158.0</td>\n",
       "      <td>2897000.0</td>\n",
       "    </tr>\n",
       "  </tbody>\n",
       "</table>\n",
       "</div>"
      ],
      "text/plain": [
       "               Город  Средняя цена кв.м.  Средняя цена квартиры\n",
       "0    Санкт-Петербург            104761.0              5500000.0\n",
       "4             Пушкин            100000.0              5180000.0\n",
       "8    деревня Кудрово             91860.0              3790000.0\n",
       "6  посёлок Парголово             91642.0              4100000.0\n",
       "1     посёлок Мурино             85890.0              3400000.0\n",
       "2     посёлок Шушары             76876.0              3950000.0\n",
       "5            Колпино             74723.5              3600000.0\n",
       "7            Гатчина             67796.0              3100000.0\n",
       "3         Всеволожск             65789.0              3450000.0\n",
       "9             Выборг             58158.0              2897000.0"
      ]
     },
     "execution_count": 64,
     "metadata": {},
     "output_type": "execute_result"
    }
   ],
   "source": [
    "top_10_city = df['locality_name'].value_counts().index.tolist()[:10]\n",
    "mean10_metrics = [df[df['locality_name'] == city]['m2_price'].median() for city in top_10_city]\n",
    "mean10_prices = [df[df['locality_name'] == city]['last_price'].median() for city in top_10_city]\n",
    "frame = {'Город': top_10_city, 'Средняя цена кв.м.': mean10_metrics, 'Средняя цена квартиры': mean10_prices}\n",
    "top10frame = pd.DataFrame(frame).sort_values(by='Средняя цена кв.м.', ascending=False)\n",
    "top10frame"
   ]
  },
  {
   "cell_type": "markdown",
   "metadata": {},
   "source": [
    "Cамая высокая стоимость жилья в Санкт-Петербурге,самая низкая стоимость в Выборге."
   ]
  },
  {
   "cell_type": "markdown",
   "metadata": {},
   "source": [
    "### Как цена зависит от удалённости от центра."
   ]
  },
  {
   "cell_type": "markdown",
   "metadata": {},
   "source": [
    "Создадим новый столбец с ценой за км. Построим график. По нему сможем определить где центр."
   ]
  },
  {
   "cell_type": "code",
   "execution_count": 65,
   "metadata": {
    "scrolled": true
   },
   "outputs": [
    {
     "data": {
      "text/html": [
       "<div>\n",
       "<style scoped>\n",
       "    .dataframe tbody tr th:only-of-type {\n",
       "        vertical-align: middle;\n",
       "    }\n",
       "\n",
       "    .dataframe tbody tr th {\n",
       "        vertical-align: top;\n",
       "    }\n",
       "\n",
       "    .dataframe thead th {\n",
       "        text-align: right;\n",
       "    }\n",
       "</style>\n",
       "<table border=\"1\" class=\"dataframe\">\n",
       "  <thead>\n",
       "    <tr style=\"text-align: right;\">\n",
       "      <th></th>\n",
       "      <th>total_images</th>\n",
       "      <th>last_price</th>\n",
       "      <th>total_area</th>\n",
       "      <th>first_day_exposition</th>\n",
       "      <th>rooms</th>\n",
       "      <th>ceiling_height</th>\n",
       "      <th>floors_total</th>\n",
       "      <th>living_area</th>\n",
       "      <th>floor</th>\n",
       "      <th>is_apartment</th>\n",
       "      <th>...</th>\n",
       "      <th>total_area_category</th>\n",
       "      <th>year</th>\n",
       "      <th>month</th>\n",
       "      <th>day</th>\n",
       "      <th>m2_price</th>\n",
       "      <th>weekday</th>\n",
       "      <th>year_exposition</th>\n",
       "      <th>living_area_ratio</th>\n",
       "      <th>kitchen_area_ratio</th>\n",
       "      <th>cityCenters_km</th>\n",
       "    </tr>\n",
       "  </thead>\n",
       "  <tbody>\n",
       "    <tr>\n",
       "      <th>0</th>\n",
       "      <td>20</td>\n",
       "      <td>13000000</td>\n",
       "      <td>108.0</td>\n",
       "      <td>2019-03-07</td>\n",
       "      <td>3</td>\n",
       "      <td>2.7</td>\n",
       "      <td>16.0</td>\n",
       "      <td>51.0</td>\n",
       "      <td>8</td>\n",
       "      <td>True</td>\n",
       "      <td>...</td>\n",
       "      <td>большая</td>\n",
       "      <td>2019</td>\n",
       "      <td>3</td>\n",
       "      <td>4 - четверг</td>\n",
       "      <td>120370</td>\n",
       "      <td>3</td>\n",
       "      <td>2019</td>\n",
       "      <td>0.47</td>\n",
       "      <td>0.23</td>\n",
       "      <td>16.0</td>\n",
       "    </tr>\n",
       "    <tr>\n",
       "      <th>2</th>\n",
       "      <td>10</td>\n",
       "      <td>5196000</td>\n",
       "      <td>56.0</td>\n",
       "      <td>2015-08-20</td>\n",
       "      <td>2</td>\n",
       "      <td>NaN</td>\n",
       "      <td>5.0</td>\n",
       "      <td>34.3</td>\n",
       "      <td>4</td>\n",
       "      <td>True</td>\n",
       "      <td>...</td>\n",
       "      <td>средняя</td>\n",
       "      <td>2015</td>\n",
       "      <td>8</td>\n",
       "      <td>4 - четверг</td>\n",
       "      <td>92785</td>\n",
       "      <td>3</td>\n",
       "      <td>2015</td>\n",
       "      <td>0.61</td>\n",
       "      <td>0.15</td>\n",
       "      <td>14.0</td>\n",
       "    </tr>\n",
       "    <tr>\n",
       "      <th>3</th>\n",
       "      <td>0</td>\n",
       "      <td>64900000</td>\n",
       "      <td>159.0</td>\n",
       "      <td>2015-07-24</td>\n",
       "      <td>3</td>\n",
       "      <td>NaN</td>\n",
       "      <td>14.0</td>\n",
       "      <td>NaN</td>\n",
       "      <td>9</td>\n",
       "      <td>True</td>\n",
       "      <td>...</td>\n",
       "      <td>большая</td>\n",
       "      <td>2015</td>\n",
       "      <td>7</td>\n",
       "      <td>5 - пятница</td>\n",
       "      <td>408176</td>\n",
       "      <td>4</td>\n",
       "      <td>2015</td>\n",
       "      <td>NaN</td>\n",
       "      <td>NaN</td>\n",
       "      <td>7.0</td>\n",
       "    </tr>\n",
       "    <tr>\n",
       "      <th>4</th>\n",
       "      <td>2</td>\n",
       "      <td>10000000</td>\n",
       "      <td>100.0</td>\n",
       "      <td>2018-06-19</td>\n",
       "      <td>2</td>\n",
       "      <td>3.0</td>\n",
       "      <td>14.0</td>\n",
       "      <td>32.0</td>\n",
       "      <td>13</td>\n",
       "      <td>True</td>\n",
       "      <td>...</td>\n",
       "      <td>большая</td>\n",
       "      <td>2018</td>\n",
       "      <td>6</td>\n",
       "      <td>2 - вторник</td>\n",
       "      <td>100000</td>\n",
       "      <td>1</td>\n",
       "      <td>2018</td>\n",
       "      <td>0.32</td>\n",
       "      <td>0.41</td>\n",
       "      <td>8.0</td>\n",
       "    </tr>\n",
       "    <tr>\n",
       "      <th>7</th>\n",
       "      <td>5</td>\n",
       "      <td>7915000</td>\n",
       "      <td>71.6</td>\n",
       "      <td>2019-04-18</td>\n",
       "      <td>2</td>\n",
       "      <td>NaN</td>\n",
       "      <td>24.0</td>\n",
       "      <td>NaN</td>\n",
       "      <td>22</td>\n",
       "      <td>True</td>\n",
       "      <td>...</td>\n",
       "      <td>средняя</td>\n",
       "      <td>2019</td>\n",
       "      <td>4</td>\n",
       "      <td>4 - четверг</td>\n",
       "      <td>110544</td>\n",
       "      <td>3</td>\n",
       "      <td>2019</td>\n",
       "      <td>NaN</td>\n",
       "      <td>0.26</td>\n",
       "      <td>12.0</td>\n",
       "    </tr>\n",
       "  </tbody>\n",
       "</table>\n",
       "<p>5 rows × 34 columns</p>\n",
       "</div>"
      ],
      "text/plain": [
       "   total_images  last_price  total_area first_day_exposition  rooms  \\\n",
       "0            20    13000000       108.0           2019-03-07      3   \n",
       "2            10     5196000        56.0           2015-08-20      2   \n",
       "3             0    64900000       159.0           2015-07-24      3   \n",
       "4             2    10000000       100.0           2018-06-19      2   \n",
       "7             5     7915000        71.6           2019-04-18      2   \n",
       "\n",
       "   ceiling_height  floors_total  living_area  floor  is_apartment  ...  \\\n",
       "0             2.7          16.0         51.0      8          True  ...   \n",
       "2             NaN           5.0         34.3      4          True  ...   \n",
       "3             NaN          14.0          NaN      9          True  ...   \n",
       "4             3.0          14.0         32.0     13          True  ...   \n",
       "7             NaN          24.0          NaN     22          True  ...   \n",
       "\n",
       "   total_area_category  year  month          day m2_price  weekday  \\\n",
       "0              большая  2019      3  4 - четверг   120370        3   \n",
       "2              средняя  2015      8  4 - четверг    92785        3   \n",
       "3              большая  2015      7  5 - пятница   408176        4   \n",
       "4              большая  2018      6  2 - вторник   100000        1   \n",
       "7              средняя  2019      4  4 - четверг   110544        3   \n",
       "\n",
       "   year_exposition  living_area_ratio  kitchen_area_ratio  cityCenters_km  \n",
       "0             2019               0.47                0.23            16.0  \n",
       "2             2015               0.61                0.15            14.0  \n",
       "3             2015                NaN                 NaN             7.0  \n",
       "4             2018               0.32                0.41             8.0  \n",
       "7             2019                NaN                0.26            12.0  \n",
       "\n",
       "[5 rows x 34 columns]"
      ]
     },
     "execution_count": 65,
     "metadata": {},
     "output_type": "execute_result"
    }
   ],
   "source": [
    "df = df.query('locality_name == \"Санкт-Петербург\"')\n",
    "df.loc[:, 'cityCenters_km'] = (df.loc[:, 'cityCenters_nearest']/1000).round()\n",
    "df.head(5)"
   ]
  },
  {
   "cell_type": "code",
   "execution_count": 66,
   "metadata": {
    "scrolled": true
   },
   "outputs": [
    {
     "data": {
      "text/plain": [
       "<AxesSubplot:xlabel='cityCenters_km'>"
      ]
     },
     "execution_count": 66,
     "metadata": {},
     "output_type": "execute_result"
    },
    {
     "data": {
      "image/png": "[encoded data removed]",
      "text/plain": [
       "<Figure size 720x216 with 1 Axes>"
      ]
     },
     "metadata": {
      "needs_background": "light"
     },
     "output_type": "display_data"
    }
   ],
   "source": [
    "price_ratio(df, 'cityCenters_km')"
   ]
  },
  {
   "cell_type": "markdown",
   "metadata": {},
   "source": [
    "Радиус центра - 8 км. Следующий пик цены на 27 км. Это может быть дорогой район."
   ]
  },
  {
   "cell_type": "markdown",
   "metadata": {},
   "source": [
    "### Площадь, цена, число комнат, высота потолков в центре."
   ]
  },
  {
   "cell_type": "markdown",
   "metadata": {},
   "source": [
    "#### Две выборки."
   ]
  },
  {
   "cell_type": "markdown",
   "metadata": {},
   "source": [
    "Создадим два среза. В переменной df_center сохраним результаты которые соответсвуют центру города, в df_not_center все, что за пределами. Построим методом corr() столбцы, по ним сможем определить какие параметры максимально влияют на цену в этих частях города. Синий цвет - за центром, зеленый - в пределах центра. "
   ]
  },
  {
   "cell_type": "code",
   "execution_count": 67,
   "metadata": {},
   "outputs": [],
   "source": [
    "df_center = df.query('cityCenters_km <= 8')\n",
    "df_not_center = df.query('cityCenters_km > 8')"
   ]
  },
  {
   "cell_type": "code",
   "execution_count": 68,
   "metadata": {
    "scrolled": true
   },
   "outputs": [
    {
     "data": {
      "text/plain": [
       "<AxesSubplot:title={'center':'Факторы, влияющие на цену в центре'}>"
      ]
     },
     "execution_count": 68,
     "metadata": {},
     "output_type": "execute_result"
    },
    {
     "data": {
      "image/png": "[encoded data removed]",
      "text/plain": [
       "<Figure size 72x576 with 2 Axes>"
      ]
     },
     "metadata": {
      "needs_background": "light"
     },
     "output_type": "display_data"
    },
    {
     "data": {
      "image/png": "[encoded data removed]",
      "text/plain": [
       "<Figure size 72x576 with 2 Axes>"
      ]
     },
     "metadata": {
      "needs_background": "light"
     },
     "output_type": "display_data"
    }
   ],
   "source": [
    "plt.figure(figsize=(1,8))\n",
    "plt.title('Факторы, влияющие на цену за пределом центра')\n",
    "sb.heatmap(df_not_center.corr()[['last_price']].sort_values(by='last_price', ascending=False), cmap=\"Blues\", \n",
    "            annot=True, annot_kws={'size':12})\n",
    "df_center\n",
    "plt.figure(figsize=(1,8))\n",
    "plt.title('Факторы, влияющие на цену в центре')\n",
    "sb.heatmap(df_center.corr()[['last_price']].sort_values(by='last_price', ascending=False), cmap=\"Greens\", \n",
    "            annot=True, annot_kws={'size':12})"
   ]
  },
  {
   "cell_type": "markdown",
   "metadata": {},
   "source": [
    "#### Выводы по графикам."
   ]
  },
  {
   "cell_type": "markdown",
   "metadata": {},
   "source": [
    "В центре главную роль играет цена за квадртаный метр, за центром определяющую роль играет площадь. Наименьшую роль в образовании цены в центре играет размер кухни, за центром ситуация такая же."
   ]
  },
  {
   "cell_type": "markdown",
   "metadata": {},
   "source": [
    "## Общий вывод"
   ]
  },
  {
   "cell_type": "markdown",
   "metadata": {},
   "source": [
    "#### Очевидные выводы"
   ]
  },
  {
   "cell_type": "markdown",
   "metadata": {},
   "source": [
    "- Чем ближе к центру, тем выше цены.\n",
    "- Чем больше площадь, тем выше цена.\n",
    "- Чем больше доля жилой площади, тем выше цена.\n",
    "- Чем больше цена за квадратный метр, тем дороже квартира.\n",
    "- Большинство квартир имеют потолки 2,5 - 2,7 метров. Наблюдается сегмет от 3 до 3,3. Все остальное - уникальные случаи."
   ]
  },
  {
   "cell_type": "markdown",
   "metadata": {},
   "source": [
    "#### Неочевидные выводы"
   ]
  },
  {
   "cell_type": "markdown",
   "metadata": {},
   "source": [
    "- В апреле самые высокие цены на недвижимость, в июне самые низкие.\n",
    "- Самые высокие цены на недвижимость были в 2014 году.\n",
    "- На первом этаже квартира дешевле, чем на других, но на последнем дороже, чем на первом, но дешевле чем на других этажах.\n",
    "- Cамая высокая стоимость жилья в Санкт-Петербурге,самая низкая стоимость в Выборге.\n"
   ]
  }
 ],
 "metadata": {
  "ExecuteTimeLog": [
   {
    "duration": 3,
    "start_time": "2021-10-25T09:32:16.611Z"
   },
   {
    "duration": 69,
    "start_time": "2021-10-25T09:33:02.133Z"
   },
   {
    "duration": 438,
    "start_time": "2021-10-25T13:51:45.628Z"
   },
   {
    "duration": 815,
    "start_time": "2021-10-25T13:51:48.873Z"
   },
   {
    "duration": 90,
    "start_time": "2021-10-25T13:51:49.690Z"
   },
   {
    "duration": 3,
    "start_time": "2021-10-25T13:55:08.461Z"
   },
   {
    "duration": 83,
    "start_time": "2021-10-25T13:55:09.047Z"
   },
   {
    "duration": 85,
    "start_time": "2021-10-25T13:58:48.135Z"
   },
   {
    "duration": 4,
    "start_time": "2021-10-25T13:58:51.733Z"
   },
   {
    "duration": 84,
    "start_time": "2021-10-25T13:58:51.925Z"
   },
   {
    "duration": 125,
    "start_time": "2021-10-25T13:59:28.612Z"
   },
   {
    "duration": 202,
    "start_time": "2021-10-25T14:00:53.061Z"
   },
   {
    "duration": 86,
    "start_time": "2021-10-25T14:04:41.487Z"
   },
   {
    "duration": 19,
    "start_time": "2021-10-25T14:05:48.113Z"
   },
   {
    "duration": 13,
    "start_time": "2021-10-25T14:05:58.304Z"
   },
   {
    "duration": 113,
    "start_time": "2021-10-25T14:06:00.201Z"
   },
   {
    "duration": 14,
    "start_time": "2021-10-25T15:00:48.338Z"
   },
   {
    "duration": 125,
    "start_time": "2021-10-25T15:28:05.591Z"
   },
   {
    "duration": 4,
    "start_time": "2021-10-25T16:03:39.617Z"
   },
   {
    "duration": 98,
    "start_time": "2021-10-25T16:03:39.623Z"
   },
   {
    "duration": 15,
    "start_time": "2021-10-25T16:03:39.724Z"
   },
   {
    "duration": 127,
    "start_time": "2021-10-25T16:03:39.742Z"
   },
   {
    "duration": 107,
    "start_time": "2021-10-25T16:07:22.775Z"
   },
   {
    "duration": 396,
    "start_time": "2021-10-25T16:17:05.000Z"
   },
   {
    "duration": 1381,
    "start_time": "2021-10-25T16:17:41.723Z"
   },
   {
    "duration": 4,
    "start_time": "2021-10-25T16:18:11.782Z"
   },
   {
    "duration": 88,
    "start_time": "2021-10-25T16:18:12.133Z"
   },
   {
    "duration": 15,
    "start_time": "2021-10-25T16:18:12.558Z"
   },
   {
    "duration": 115,
    "start_time": "2021-10-25T16:18:14.389Z"
   },
   {
    "duration": 762,
    "start_time": "2021-10-25T16:18:16.270Z"
   },
   {
    "duration": 949,
    "start_time": "2021-10-25T21:21:38.283Z"
   },
   {
    "duration": 95,
    "start_time": "2021-10-25T21:21:39.235Z"
   },
   {
    "duration": 15,
    "start_time": "2021-10-25T21:21:39.333Z"
   },
   {
    "duration": 109,
    "start_time": "2021-10-25T21:21:40.534Z"
   },
   {
    "duration": 12,
    "start_time": "2021-10-25T21:24:47.315Z"
   },
   {
    "duration": 7,
    "start_time": "2021-10-25T21:25:04.006Z"
   },
   {
    "duration": 12,
    "start_time": "2021-10-25T21:25:10.500Z"
   },
   {
    "duration": 7,
    "start_time": "2021-10-25T21:25:13.810Z"
   },
   {
    "duration": 10,
    "start_time": "2021-10-25T21:25:21.773Z"
   },
   {
    "duration": 11,
    "start_time": "2021-10-25T21:31:25.518Z"
   },
   {
    "duration": 12,
    "start_time": "2021-10-25T21:31:31.741Z"
   },
   {
    "duration": 8,
    "start_time": "2021-10-26T15:49:19.624Z"
   },
   {
    "duration": 12,
    "start_time": "2021-10-26T15:56:08.976Z"
   },
   {
    "duration": 496,
    "start_time": "2021-10-26T16:03:40.463Z"
   },
   {
    "duration": 3,
    "start_time": "2021-10-26T16:03:49.853Z"
   },
   {
    "duration": 87,
    "start_time": "2021-10-26T16:03:50.112Z"
   },
   {
    "duration": 20,
    "start_time": "2021-10-26T16:03:50.289Z"
   },
   {
    "duration": 109,
    "start_time": "2021-10-26T16:03:50.647Z"
   },
   {
    "duration": 12,
    "start_time": "2021-10-26T16:03:51.999Z"
   },
   {
    "duration": 11,
    "start_time": "2021-10-26T16:03:53.378Z"
   },
   {
    "duration": 399,
    "start_time": "2021-10-26T16:03:55.288Z"
   },
   {
    "duration": 12,
    "start_time": "2021-10-26T16:04:39.491Z"
   },
   {
    "duration": 125,
    "start_time": "2021-10-26T16:08:17.422Z"
   },
   {
    "duration": 6,
    "start_time": "2021-10-26T16:08:31.001Z"
   },
   {
    "duration": 4,
    "start_time": "2021-10-26T16:08:37.148Z"
   },
   {
    "duration": 5,
    "start_time": "2021-10-26T16:16:49.067Z"
   },
   {
    "duration": 4,
    "start_time": "2021-10-26T16:17:07.955Z"
   },
   {
    "duration": 85,
    "start_time": "2021-10-26T16:17:31.268Z"
   },
   {
    "duration": 44,
    "start_time": "2021-10-26T16:18:09.311Z"
   },
   {
    "duration": 906,
    "start_time": "2021-10-26T16:18:28.789Z"
   },
   {
    "duration": 87,
    "start_time": "2021-10-26T16:18:29.698Z"
   },
   {
    "duration": 53,
    "start_time": "2021-10-26T16:18:29.788Z"
   },
   {
    "duration": 15,
    "start_time": "2021-10-26T16:19:17.547Z"
   },
   {
    "duration": 108,
    "start_time": "2021-10-26T16:19:24.876Z"
   },
   {
    "duration": 12,
    "start_time": "2021-10-26T16:19:27.019Z"
   },
   {
    "duration": 11,
    "start_time": "2021-10-26T16:19:28.024Z"
   },
   {
    "duration": 13,
    "start_time": "2021-10-26T16:19:29.714Z"
   },
   {
    "duration": 8,
    "start_time": "2021-10-26T16:19:31.530Z"
   },
   {
    "duration": 43,
    "start_time": "2021-10-26T16:19:42.820Z"
   },
   {
    "duration": 6,
    "start_time": "2021-10-26T16:22:20.999Z"
   },
   {
    "duration": 5,
    "start_time": "2021-10-26T16:24:12.671Z"
   },
   {
    "duration": 9,
    "start_time": "2021-10-26T16:47:33.241Z"
   },
   {
    "duration": 5,
    "start_time": "2021-10-26T16:47:57.011Z"
   },
   {
    "duration": 7,
    "start_time": "2021-10-26T16:49:01.947Z"
   },
   {
    "duration": 7,
    "start_time": "2021-10-26T16:50:15.280Z"
   },
   {
    "duration": 6,
    "start_time": "2021-10-26T16:50:17.596Z"
   },
   {
    "duration": 8,
    "start_time": "2021-10-26T17:00:32.686Z"
   },
   {
    "duration": 8,
    "start_time": "2021-10-26T17:00:35.003Z"
   },
   {
    "duration": 7,
    "start_time": "2021-10-26T17:00:49.788Z"
   },
   {
    "duration": 7,
    "start_time": "2021-10-26T17:00:53.742Z"
   },
   {
    "duration": 7,
    "start_time": "2021-10-26T17:01:00.969Z"
   },
   {
    "duration": 4,
    "start_time": "2021-10-26T17:01:39.606Z"
   },
   {
    "duration": 74,
    "start_time": "2021-10-26T17:16:35.526Z"
   },
   {
    "duration": 60,
    "start_time": "2021-10-26T17:16:38.828Z"
   },
   {
    "duration": 7,
    "start_time": "2021-10-26T18:30:39.415Z"
   },
   {
    "duration": 10,
    "start_time": "2021-10-26T18:30:39.425Z"
   },
   {
    "duration": 70,
    "start_time": "2021-10-26T18:30:39.438Z"
   },
   {
    "duration": 395,
    "start_time": "2021-10-26T18:35:18.918Z"
   },
   {
    "duration": 484,
    "start_time": "2021-10-26T18:36:00.899Z"
   },
   {
    "duration": 9,
    "start_time": "2021-10-26T18:36:08.218Z"
   },
   {
    "duration": 11,
    "start_time": "2021-10-26T18:37:49.439Z"
   },
   {
    "duration": 415,
    "start_time": "2021-10-26T18:38:10.583Z"
   },
   {
    "duration": 53,
    "start_time": "2021-10-26T18:38:19.328Z"
   },
   {
    "duration": 37,
    "start_time": "2021-10-26T18:38:40.253Z"
   },
   {
    "duration": 35,
    "start_time": "2021-10-26T18:42:39.604Z"
   },
   {
    "duration": 8,
    "start_time": "2021-10-26T18:43:32.458Z"
   },
   {
    "duration": 38,
    "start_time": "2021-10-26T18:44:03.737Z"
   },
   {
    "duration": 36,
    "start_time": "2021-10-26T18:44:31.823Z"
   },
   {
    "duration": 37,
    "start_time": "2021-10-26T18:44:39.640Z"
   },
   {
    "duration": 44,
    "start_time": "2021-10-26T18:45:17.887Z"
   },
   {
    "duration": 350,
    "start_time": "2021-10-26T18:46:23.102Z"
   },
   {
    "duration": 13,
    "start_time": "2021-10-26T18:46:28.990Z"
   },
   {
    "duration": 1040,
    "start_time": "2021-10-26T18:49:05.973Z"
   },
   {
    "duration": 1022,
    "start_time": "2021-10-26T18:49:48.533Z"
   },
   {
    "duration": 1069,
    "start_time": "2021-10-26T18:49:56.703Z"
   },
   {
    "duration": 54,
    "start_time": "2021-10-26T18:50:16.352Z"
   },
   {
    "duration": 36,
    "start_time": "2021-10-26T18:51:00.661Z"
   },
   {
    "duration": 120,
    "start_time": "2021-10-26T18:53:41.652Z"
   },
   {
    "duration": 10,
    "start_time": "2021-10-26T18:54:13.293Z"
   },
   {
    "duration": 28,
    "start_time": "2021-10-26T18:54:15.475Z"
   },
   {
    "duration": 370,
    "start_time": "2021-10-26T18:54:41.459Z"
   },
   {
    "duration": 373,
    "start_time": "2021-10-26T18:54:46.802Z"
   },
   {
    "duration": 878,
    "start_time": "2021-10-26T18:55:05.926Z"
   },
   {
    "duration": 102,
    "start_time": "2021-10-26T18:55:06.807Z"
   },
   {
    "duration": 50,
    "start_time": "2021-10-26T18:55:06.913Z"
   },
   {
    "duration": 16,
    "start_time": "2021-10-26T18:55:07.127Z"
   },
   {
    "duration": 120,
    "start_time": "2021-10-26T18:55:07.490Z"
   },
   {
    "duration": 11,
    "start_time": "2021-10-26T18:55:08.835Z"
   },
   {
    "duration": 10,
    "start_time": "2021-10-26T18:55:09.810Z"
   },
   {
    "duration": 9695,
    "start_time": "2021-10-26T18:55:10.272Z"
   },
   {
    "duration": -151,
    "start_time": "2021-10-26T18:55:20.121Z"
   },
   {
    "duration": -152,
    "start_time": "2021-10-26T18:55:20.124Z"
   },
   {
    "duration": 8770,
    "start_time": "2021-10-26T18:55:20.313Z"
   },
   {
    "duration": -155,
    "start_time": "2021-10-26T18:55:29.241Z"
   },
   {
    "duration": -155,
    "start_time": "2021-10-26T18:55:29.243Z"
   },
   {
    "duration": 7,
    "start_time": "2021-10-26T18:55:30.420Z"
   },
   {
    "duration": 6,
    "start_time": "2021-10-26T18:55:31.367Z"
   },
   {
    "duration": 70,
    "start_time": "2021-10-26T18:55:32.294Z"
   },
   {
    "duration": 361,
    "start_time": "2021-10-26T18:55:38.664Z"
   },
   {
    "duration": 38,
    "start_time": "2021-10-26T18:55:41.636Z"
   },
   {
    "duration": 54,
    "start_time": "2021-10-26T18:55:43.414Z"
   },
   {
    "duration": 17,
    "start_time": "2021-10-26T18:55:45.124Z"
   },
   {
    "duration": 7,
    "start_time": "2021-10-26T18:55:47.472Z"
   },
   {
    "duration": 357,
    "start_time": "2021-10-26T18:55:49.128Z"
   },
   {
    "duration": 13,
    "start_time": "2021-10-26T18:56:06.576Z"
   },
   {
    "duration": 9,
    "start_time": "2021-10-26T18:56:33.772Z"
   },
   {
    "duration": 12,
    "start_time": "2021-10-26T18:56:35.078Z"
   },
   {
    "duration": 13,
    "start_time": "2021-10-26T18:56:47.295Z"
   },
   {
    "duration": 12,
    "start_time": "2021-10-26T18:56:48.685Z"
   },
   {
    "duration": 11,
    "start_time": "2021-10-26T18:57:04.695Z"
   },
   {
    "duration": 12,
    "start_time": "2021-10-26T18:57:05.453Z"
   },
   {
    "duration": 40,
    "start_time": "2021-10-26T19:01:11.502Z"
   },
   {
    "duration": 14,
    "start_time": "2021-10-26T19:01:13.819Z"
   },
   {
    "duration": 29,
    "start_time": "2021-10-26T19:03:20.809Z"
   },
   {
    "duration": 28,
    "start_time": "2021-10-26T19:03:21.006Z"
   },
   {
    "duration": 12,
    "start_time": "2021-10-26T19:03:21.934Z"
   },
   {
    "duration": 11,
    "start_time": "2021-10-26T19:03:24.322Z"
   },
   {
    "duration": 12,
    "start_time": "2021-10-26T19:03:25.434Z"
   },
   {
    "duration": 367,
    "start_time": "2021-10-26T19:03:37.036Z"
   },
   {
    "duration": 2038,
    "start_time": "2021-10-26T19:04:01.565Z"
   },
   {
    "duration": 104,
    "start_time": "2021-10-26T19:04:03.607Z"
   },
   {
    "duration": 56,
    "start_time": "2021-10-26T19:04:03.715Z"
   },
   {
    "duration": 36,
    "start_time": "2021-10-26T19:04:03.773Z"
   },
   {
    "duration": 110,
    "start_time": "2021-10-26T19:04:03.834Z"
   },
   {
    "duration": 16,
    "start_time": "2021-10-26T19:04:04.014Z"
   },
   {
    "duration": 12,
    "start_time": "2021-10-26T19:04:05.062Z"
   },
   {
    "duration": 9045,
    "start_time": "2021-10-26T19:04:05.567Z"
   },
   {
    "duration": -154,
    "start_time": "2021-10-26T19:04:14.770Z"
   },
   {
    "duration": -154,
    "start_time": "2021-10-26T19:04:14.772Z"
   },
   {
    "duration": -153,
    "start_time": "2021-10-26T19:04:14.774Z"
   },
   {
    "duration": -154,
    "start_time": "2021-10-26T19:04:14.777Z"
   },
   {
    "duration": -154,
    "start_time": "2021-10-26T19:04:14.779Z"
   },
   {
    "duration": 511,
    "start_time": "2021-10-26T19:04:26.968Z"
   },
   {
    "duration": 44,
    "start_time": "2021-10-26T19:04:31.838Z"
   },
   {
    "duration": 41,
    "start_time": "2021-10-26T19:04:32.930Z"
   },
   {
    "duration": 498,
    "start_time": "2021-10-26T19:04:53.455Z"
   },
   {
    "duration": 492,
    "start_time": "2021-10-26T19:05:07.557Z"
   },
   {
    "duration": 464,
    "start_time": "2021-10-26T19:05:16.563Z"
   },
   {
    "duration": 403,
    "start_time": "2021-10-26T19:05:26.065Z"
   },
   {
    "duration": 387,
    "start_time": "2021-10-26T19:06:32.085Z"
   },
   {
    "duration": 371,
    "start_time": "2021-10-26T19:06:41.141Z"
   },
   {
    "duration": 406,
    "start_time": "2021-10-26T19:06:58.587Z"
   },
   {
    "duration": 370,
    "start_time": "2021-10-26T19:07:07.550Z"
   },
   {
    "duration": 409,
    "start_time": "2021-10-26T19:07:18.060Z"
   },
   {
    "duration": 6,
    "start_time": "2021-10-26T19:11:00.624Z"
   },
   {
    "duration": 13,
    "start_time": "2021-10-26T19:11:02.063Z"
   },
   {
    "duration": 39,
    "start_time": "2021-10-26T19:11:05.920Z"
   },
   {
    "duration": 13,
    "start_time": "2021-10-26T19:11:07.169Z"
   },
   {
    "duration": 385,
    "start_time": "2021-10-26T19:11:08.800Z"
   },
   {
    "duration": 368,
    "start_time": "2021-10-26T19:11:19.505Z"
   },
   {
    "duration": 357,
    "start_time": "2021-10-26T19:11:25.281Z"
   },
   {
    "duration": 14,
    "start_time": "2021-10-26T19:13:29.188Z"
   },
   {
    "duration": 12,
    "start_time": "2021-10-26T19:13:54.836Z"
   },
   {
    "duration": 8822,
    "start_time": "2021-10-26T19:14:43.851Z"
   },
   {
    "duration": 6,
    "start_time": "2021-10-26T19:14:56.667Z"
   },
   {
    "duration": 9,
    "start_time": "2021-10-26T19:15:01.210Z"
   },
   {
    "duration": 7,
    "start_time": "2021-10-26T19:15:04.051Z"
   },
   {
    "duration": 6,
    "start_time": "2021-10-26T19:15:12.979Z"
   },
   {
    "duration": 10,
    "start_time": "2021-10-26T19:15:13.208Z"
   },
   {
    "duration": 61,
    "start_time": "2021-10-26T19:15:13.409Z"
   },
   {
    "duration": 391,
    "start_time": "2021-10-26T19:15:47.879Z"
   },
   {
    "duration": 377,
    "start_time": "2021-10-26T19:15:52.104Z"
   },
   {
    "duration": 407,
    "start_time": "2021-10-26T19:15:52.484Z"
   },
   {
    "duration": 467,
    "start_time": "2021-10-26T19:15:52.905Z"
   },
   {
    "duration": 27,
    "start_time": "2021-10-26T19:15:54.449Z"
   },
   {
    "duration": 25,
    "start_time": "2021-10-26T19:15:54.721Z"
   },
   {
    "duration": 6,
    "start_time": "2021-10-26T19:15:57.751Z"
   },
   {
    "duration": 15,
    "start_time": "2021-10-26T19:15:58.124Z"
   },
   {
    "duration": 10,
    "start_time": "2021-10-26T19:15:59.752Z"
   },
   {
    "duration": 15,
    "start_time": "2021-10-26T19:16:00.128Z"
   },
   {
    "duration": 13,
    "start_time": "2021-10-26T19:16:03.959Z"
   },
   {
    "duration": 384,
    "start_time": "2021-10-26T19:17:31.472Z"
   },
   {
    "duration": 382,
    "start_time": "2021-10-26T19:17:41.663Z"
   },
   {
    "duration": 370,
    "start_time": "2021-10-26T19:17:48.944Z"
   },
   {
    "duration": 376,
    "start_time": "2021-10-26T19:17:57.530Z"
   },
   {
    "duration": 381,
    "start_time": "2021-10-26T19:18:09.674Z"
   },
   {
    "duration": 730,
    "start_time": "2021-10-26T19:20:14.407Z"
   },
   {
    "duration": 375,
    "start_time": "2021-10-26T19:20:25.289Z"
   },
   {
    "duration": 383,
    "start_time": "2021-10-26T19:22:18.542Z"
   },
   {
    "duration": 395,
    "start_time": "2021-10-26T19:22:32.694Z"
   },
   {
    "duration": 9,
    "start_time": "2021-10-26T19:22:36.207Z"
   },
   {
    "duration": 8,
    "start_time": "2021-10-26T19:22:40.180Z"
   },
   {
    "duration": 9,
    "start_time": "2021-10-26T19:24:50.394Z"
   },
   {
    "duration": 6,
    "start_time": "2021-10-26T19:25:15.984Z"
   },
   {
    "duration": 4,
    "start_time": "2021-10-26T19:26:52.388Z"
   },
   {
    "duration": 91,
    "start_time": "2021-10-26T19:26:52.588Z"
   },
   {
    "duration": 46,
    "start_time": "2021-10-26T19:26:53.958Z"
   },
   {
    "duration": 16,
    "start_time": "2021-10-26T19:26:54.322Z"
   },
   {
    "duration": 220,
    "start_time": "2021-10-26T19:26:54.605Z"
   },
   {
    "duration": 12,
    "start_time": "2021-10-26T19:26:55.853Z"
   },
   {
    "duration": 10,
    "start_time": "2021-10-26T19:26:56.766Z"
   },
   {
    "duration": 5,
    "start_time": "2021-10-26T19:30:28.224Z"
   },
   {
    "duration": 8,
    "start_time": "2021-10-26T19:30:38.257Z"
   },
   {
    "duration": 7,
    "start_time": "2021-10-26T19:30:39.069Z"
   },
   {
    "duration": 7,
    "start_time": "2021-10-26T19:30:57.012Z"
   },
   {
    "duration": 13,
    "start_time": "2021-10-26T19:31:04.126Z"
   },
   {
    "duration": 11,
    "start_time": "2021-10-26T19:36:02.216Z"
   },
   {
    "duration": 7,
    "start_time": "2021-10-26T19:36:02.828Z"
   },
   {
    "duration": 958,
    "start_time": "2021-10-26T19:52:07.089Z"
   },
   {
    "duration": 98,
    "start_time": "2021-10-26T19:52:16.234Z"
   },
   {
    "duration": 56,
    "start_time": "2021-10-26T19:52:35.452Z"
   },
   {
    "duration": 19,
    "start_time": "2021-10-26T19:54:22.289Z"
   },
   {
    "duration": 13,
    "start_time": "2021-10-26T20:04:46.257Z"
   },
   {
    "duration": 14,
    "start_time": "2021-10-26T20:04:59.945Z"
   },
   {
    "duration": 114,
    "start_time": "2021-10-26T20:04:59.962Z"
   },
   {
    "duration": 21,
    "start_time": "2021-10-26T20:05:00.079Z"
   },
   {
    "duration": 15,
    "start_time": "2021-10-26T20:05:00.105Z"
   },
   {
    "duration": 12,
    "start_time": "2021-10-26T20:05:02.087Z"
   },
   {
    "duration": 8,
    "start_time": "2021-10-26T20:05:22.274Z"
   },
   {
    "duration": 6,
    "start_time": "2021-10-26T20:05:54.776Z"
   },
   {
    "duration": 7,
    "start_time": "2021-10-26T20:06:03.776Z"
   },
   {
    "duration": 6,
    "start_time": "2021-10-26T20:06:20.923Z"
   },
   {
    "duration": 7,
    "start_time": "2021-10-26T20:06:40.414Z"
   },
   {
    "duration": 6,
    "start_time": "2021-10-26T20:07:25.558Z"
   },
   {
    "duration": 8,
    "start_time": "2021-10-26T20:07:28.957Z"
   },
   {
    "duration": 65,
    "start_time": "2021-10-26T20:07:59.903Z"
   },
   {
    "duration": 397,
    "start_time": "2021-10-26T20:09:35.625Z"
   },
   {
    "duration": 365,
    "start_time": "2021-10-26T20:09:56.434Z"
   },
   {
    "duration": 372,
    "start_time": "2021-10-26T20:10:11.201Z"
   },
   {
    "duration": 406,
    "start_time": "2021-10-26T20:10:28.449Z"
   },
   {
    "duration": 368,
    "start_time": "2021-10-26T20:10:31.906Z"
   },
   {
    "duration": 40,
    "start_time": "2021-10-26T20:11:10.751Z"
   },
   {
    "duration": 36,
    "start_time": "2021-10-26T20:11:52.863Z"
   },
   {
    "duration": 37,
    "start_time": "2021-10-26T20:13:10.725Z"
   },
   {
    "duration": 6,
    "start_time": "2021-10-26T20:13:46.693Z"
   },
   {
    "duration": 12,
    "start_time": "2021-10-26T20:13:52.870Z"
   },
   {
    "duration": 377,
    "start_time": "2021-10-26T20:15:25.896Z"
   },
   {
    "duration": 382,
    "start_time": "2021-10-26T20:15:26.276Z"
   },
   {
    "duration": 37,
    "start_time": "2021-10-26T20:15:33.446Z"
   },
   {
    "duration": 25,
    "start_time": "2021-10-26T20:15:41.799Z"
   },
   {
    "duration": 6,
    "start_time": "2021-10-26T20:15:43.588Z"
   },
   {
    "duration": 13,
    "start_time": "2021-10-26T20:15:45.089Z"
   },
   {
    "duration": 36,
    "start_time": "2021-10-26T20:15:46.167Z"
   },
   {
    "duration": 12,
    "start_time": "2021-10-26T20:15:48.481Z"
   },
   {
    "duration": 12,
    "start_time": "2021-10-26T20:15:55.448Z"
   },
   {
    "duration": 366,
    "start_time": "2021-10-26T20:16:01.224Z"
   },
   {
    "duration": 6,
    "start_time": "2021-10-26T20:16:04.279Z"
   },
   {
    "duration": 7,
    "start_time": "2021-10-26T20:16:09.448Z"
   },
   {
    "duration": 7,
    "start_time": "2021-10-26T20:16:11.456Z"
   },
   {
    "duration": 5,
    "start_time": "2021-10-26T21:35:11.176Z"
   },
   {
    "duration": 4,
    "start_time": "2021-10-26T21:35:12.734Z"
   },
   {
    "duration": 6,
    "start_time": "2021-10-26T21:35:13.215Z"
   },
   {
    "duration": 7,
    "start_time": "2021-10-26T21:35:13.850Z"
   },
   {
    "duration": 7,
    "start_time": "2021-10-26T21:35:14.011Z"
   },
   {
    "duration": 59,
    "start_time": "2021-10-26T21:35:14.184Z"
   },
   {
    "duration": 359,
    "start_time": "2021-10-26T21:35:14.859Z"
   },
   {
    "duration": 388,
    "start_time": "2021-10-26T21:35:15.222Z"
   },
   {
    "duration": 377,
    "start_time": "2021-10-26T21:35:15.613Z"
   },
   {
    "duration": 379,
    "start_time": "2021-10-26T21:35:15.992Z"
   },
   {
    "duration": 40,
    "start_time": "2021-10-26T21:35:16.374Z"
   },
   {
    "duration": 23,
    "start_time": "2021-10-26T21:35:16.418Z"
   },
   {
    "duration": 5,
    "start_time": "2021-10-26T21:35:16.474Z"
   },
   {
    "duration": 12,
    "start_time": "2021-10-26T21:35:17.047Z"
   },
   {
    "duration": 9,
    "start_time": "2021-10-26T21:35:17.395Z"
   },
   {
    "duration": 14,
    "start_time": "2021-10-26T21:35:17.755Z"
   },
   {
    "duration": 11,
    "start_time": "2021-10-26T21:35:18.459Z"
   },
   {
    "duration": 345,
    "start_time": "2021-10-26T21:35:18.840Z"
   },
   {
    "duration": 14,
    "start_time": "2021-10-26T21:35:19.190Z"
   },
   {
    "duration": 7,
    "start_time": "2021-10-26T21:35:19.746Z"
   },
   {
    "duration": 6,
    "start_time": "2021-10-26T21:35:19.942Z"
   },
   {
    "duration": 7,
    "start_time": "2021-10-26T21:38:23.555Z"
   },
   {
    "duration": 4,
    "start_time": "2021-10-26T21:44:45.394Z"
   },
   {
    "duration": 54,
    "start_time": "2021-10-26T21:45:50.629Z"
   },
   {
    "duration": 13,
    "start_time": "2021-10-26T21:48:05.762Z"
   },
   {
    "duration": 15,
    "start_time": "2021-10-26T21:48:11.855Z"
   },
   {
    "duration": 11,
    "start_time": "2021-10-26T21:48:57.526Z"
   },
   {
    "duration": 7,
    "start_time": "2021-10-26T21:49:03.452Z"
   },
   {
    "duration": 8,
    "start_time": "2021-10-26T21:49:07.330Z"
   },
   {
    "duration": 11,
    "start_time": "2021-10-26T21:49:10.356Z"
   },
   {
    "duration": 8,
    "start_time": "2021-10-26T21:49:44.123Z"
   },
   {
    "duration": 26,
    "start_time": "2021-10-26T21:52:31.668Z"
   },
   {
    "duration": 24,
    "start_time": "2021-10-26T21:52:49.207Z"
   },
   {
    "duration": 3,
    "start_time": "2021-10-26T21:57:26.053Z"
   },
   {
    "duration": 7,
    "start_time": "2021-10-26T21:57:43.894Z"
   },
   {
    "duration": 6,
    "start_time": "2021-10-26T21:59:12.499Z"
   },
   {
    "duration": 13,
    "start_time": "2021-10-26T22:03:26.267Z"
   },
   {
    "duration": 10,
    "start_time": "2021-10-26T22:03:35.090Z"
   },
   {
    "duration": 137,
    "start_time": "2021-10-26T22:03:40.691Z"
   },
   {
    "duration": 69,
    "start_time": "2021-10-26T22:03:42.595Z"
   },
   {
    "duration": 8,
    "start_time": "2021-10-26T22:04:09.123Z"
   },
   {
    "duration": 19,
    "start_time": "2021-10-26T22:09:23.969Z"
   },
   {
    "duration": 51,
    "start_time": "2021-10-26T22:09:34.225Z"
   },
   {
    "duration": 21,
    "start_time": "2021-10-26T22:09:42.882Z"
   },
   {
    "duration": 499,
    "start_time": "2021-10-26T22:12:28.284Z"
   },
   {
    "duration": 4,
    "start_time": "2021-10-26T22:12:52.422Z"
   },
   {
    "duration": 28,
    "start_time": "2021-10-26T22:12:58.531Z"
   },
   {
    "duration": 12,
    "start_time": "2021-10-26T22:13:06.133Z"
   },
   {
    "duration": 35,
    "start_time": "2021-10-26T22:13:29.036Z"
   },
   {
    "duration": 58,
    "start_time": "2021-10-26T22:13:34.009Z"
   },
   {
    "duration": 11,
    "start_time": "2021-10-26T22:13:42.131Z"
   },
   {
    "duration": 13,
    "start_time": "2021-10-26T22:15:31.735Z"
   },
   {
    "duration": 29,
    "start_time": "2021-10-26T22:20:44.086Z"
   },
   {
    "duration": 3,
    "start_time": "2021-10-26T22:33:16.993Z"
   },
   {
    "duration": 14,
    "start_time": "2021-10-26T22:36:44.314Z"
   },
   {
    "duration": 848,
    "start_time": "2021-10-26T22:36:59.730Z"
   },
   {
    "duration": 34,
    "start_time": "2021-10-26T22:38:43.829Z"
   },
   {
    "duration": 615,
    "start_time": "2021-10-26T22:39:58.837Z"
   },
   {
    "duration": 642,
    "start_time": "2021-10-26T22:40:18.205Z"
   },
   {
    "duration": 665,
    "start_time": "2021-10-26T22:40:26.475Z"
   },
   {
    "duration": 4,
    "start_time": "2021-10-26T22:43:04.793Z"
   },
   {
    "duration": 40,
    "start_time": "2021-10-26T22:43:29.917Z"
   },
   {
    "duration": 520,
    "start_time": "2021-10-27T11:09:29.578Z"
   },
   {
    "duration": 386,
    "start_time": "2021-10-27T11:09:41.286Z"
   },
   {
    "duration": 380,
    "start_time": "2021-10-27T11:09:46.361Z"
   },
   {
    "duration": 737,
    "start_time": "2021-10-27T11:10:04.220Z"
   },
   {
    "duration": 402,
    "start_time": "2021-10-27T11:10:06.325Z"
   },
   {
    "duration": 342,
    "start_time": "2021-10-28T14:36:31.173Z"
   },
   {
    "duration": 862,
    "start_time": "2021-10-28T14:36:42.493Z"
   },
   {
    "duration": 86,
    "start_time": "2021-10-28T14:36:43.358Z"
   },
   {
    "duration": 47,
    "start_time": "2021-10-28T14:36:43.555Z"
   },
   {
    "duration": 15,
    "start_time": "2021-10-28T14:36:45.896Z"
   },
   {
    "duration": 106,
    "start_time": "2021-10-28T14:36:46.250Z"
   },
   {
    "duration": 11,
    "start_time": "2021-10-28T14:36:49.184Z"
   },
   {
    "duration": 7,
    "start_time": "2021-10-28T14:36:50.106Z"
   },
   {
    "duration": 11,
    "start_time": "2021-10-28T14:36:52.033Z"
   },
   {
    "duration": 6,
    "start_time": "2021-10-28T14:36:53.098Z"
   },
   {
    "duration": 6,
    "start_time": "2021-10-28T14:36:53.927Z"
   },
   {
    "duration": 6,
    "start_time": "2021-10-28T14:36:54.144Z"
   },
   {
    "duration": 63,
    "start_time": "2021-10-28T14:37:01.820Z"
   },
   {
    "duration": 386,
    "start_time": "2021-10-28T14:38:40.086Z"
   },
   {
    "duration": 355,
    "start_time": "2021-10-28T14:38:49.262Z"
   },
   {
    "duration": 362,
    "start_time": "2021-10-28T14:38:59.845Z"
   },
   {
    "duration": 411,
    "start_time": "2021-10-28T14:39:01.191Z"
   },
   {
    "duration": 38,
    "start_time": "2021-10-28T14:39:07.712Z"
   },
   {
    "duration": 36,
    "start_time": "2021-10-28T14:39:08.854Z"
   },
   {
    "duration": 7,
    "start_time": "2021-10-28T14:39:11.515Z"
   },
   {
    "duration": 14,
    "start_time": "2021-10-28T14:39:12.637Z"
   },
   {
    "duration": 35,
    "start_time": "2021-10-28T14:39:15.323Z"
   },
   {
    "duration": 17,
    "start_time": "2021-10-28T14:39:16.270Z"
   },
   {
    "duration": 12,
    "start_time": "2021-10-28T14:39:22.588Z"
   },
   {
    "duration": 355,
    "start_time": "2021-10-28T14:39:26.175Z"
   },
   {
    "duration": 6,
    "start_time": "2021-10-28T14:39:30.679Z"
   },
   {
    "duration": 6,
    "start_time": "2021-10-28T14:39:33.107Z"
   },
   {
    "duration": 6,
    "start_time": "2021-10-28T14:39:38.052Z"
   },
   {
    "duration": 58,
    "start_time": "2021-10-28T14:39:42.565Z"
   },
   {
    "duration": 23,
    "start_time": "2021-10-28T14:39:43.870Z"
   },
   {
    "duration": 7,
    "start_time": "2021-10-28T14:39:46.060Z"
   },
   {
    "duration": 18,
    "start_time": "2021-10-28T14:39:48.340Z"
   },
   {
    "duration": 8558,
    "start_time": "2021-10-28T14:39:50.444Z"
   },
   {
    "duration": 7160,
    "start_time": "2021-10-28T14:40:01.706Z"
   },
   {
    "duration": 9,
    "start_time": "2021-10-28T14:40:31.094Z"
   },
   {
    "duration": 28,
    "start_time": "2021-10-28T14:40:41.892Z"
   },
   {
    "duration": 11,
    "start_time": "2021-10-28T14:41:47.811Z"
   },
   {
    "duration": 20,
    "start_time": "2021-10-28T14:41:57.804Z"
   },
   {
    "duration": 21,
    "start_time": "2021-10-28T14:42:57.009Z"
   },
   {
    "duration": 630,
    "start_time": "2021-10-28T17:47:30.720Z"
   },
   {
    "duration": 28,
    "start_time": "2021-10-28T18:25:08.991Z"
   },
   {
    "duration": 27,
    "start_time": "2021-10-28T18:25:14.176Z"
   },
   {
    "duration": 36,
    "start_time": "2021-10-28T18:25:22.432Z"
   },
   {
    "duration": 953,
    "start_time": "2021-10-29T13:11:52.061Z"
   },
   {
    "duration": 835,
    "start_time": "2021-10-29T13:12:06.869Z"
   },
   {
    "duration": 91,
    "start_time": "2021-10-29T13:12:07.707Z"
   },
   {
    "duration": 52,
    "start_time": "2021-10-29T13:12:07.801Z"
   },
   {
    "duration": 15,
    "start_time": "2021-10-29T13:12:07.856Z"
   },
   {
    "duration": 104,
    "start_time": "2021-10-29T13:12:08.120Z"
   },
   {
    "duration": 10,
    "start_time": "2021-10-29T13:12:09.421Z"
   },
   {
    "duration": 8,
    "start_time": "2021-10-29T13:12:10.251Z"
   },
   {
    "duration": 12,
    "start_time": "2021-10-29T13:12:10.754Z"
   },
   {
    "duration": 6,
    "start_time": "2021-10-29T13:12:11.601Z"
   },
   {
    "duration": 7,
    "start_time": "2021-10-29T13:12:12.320Z"
   },
   {
    "duration": 6,
    "start_time": "2021-10-29T13:12:12.469Z"
   },
   {
    "duration": 64,
    "start_time": "2021-10-29T13:12:12.647Z"
   },
   {
    "duration": 394,
    "start_time": "2021-10-29T13:12:13.353Z"
   },
   {
    "duration": 361,
    "start_time": "2021-10-29T13:12:13.750Z"
   },
   {
    "duration": 380,
    "start_time": "2021-10-29T13:12:14.114Z"
   },
   {
    "duration": 411,
    "start_time": "2021-10-29T13:12:14.497Z"
   },
   {
    "duration": 43,
    "start_time": "2021-10-29T13:12:14.910Z"
   },
   {
    "duration": 66,
    "start_time": "2021-10-29T13:12:14.956Z"
   },
   {
    "duration": 6,
    "start_time": "2021-10-29T13:12:15.025Z"
   },
   {
    "duration": 13,
    "start_time": "2021-10-29T13:12:15.298Z"
   },
   {
    "duration": 36,
    "start_time": "2021-10-29T13:12:15.661Z"
   },
   {
    "duration": 13,
    "start_time": "2021-10-29T13:12:16.038Z"
   },
   {
    "duration": 12,
    "start_time": "2021-10-29T13:12:16.786Z"
   },
   {
    "duration": 535,
    "start_time": "2021-10-29T13:12:17.131Z"
   },
   {
    "duration": 7,
    "start_time": "2021-10-29T13:12:17.669Z"
   },
   {
    "duration": 9,
    "start_time": "2021-10-29T13:12:18.074Z"
   },
   {
    "duration": 9,
    "start_time": "2021-10-29T13:12:18.264Z"
   },
   {
    "duration": 74,
    "start_time": "2021-10-29T13:12:19.297Z"
   },
   {
    "duration": 24,
    "start_time": "2021-10-29T13:12:19.667Z"
   },
   {
    "duration": 9,
    "start_time": "2021-10-29T13:12:20.788Z"
   },
   {
    "duration": 24,
    "start_time": "2021-10-29T13:12:21.379Z"
   },
   {
    "duration": 14,
    "start_time": "2021-10-29T13:12:21.955Z"
   },
   {
    "duration": 27,
    "start_time": "2021-10-29T13:12:22.547Z"
   },
   {
    "duration": 38,
    "start_time": "2021-10-29T13:12:26.198Z"
   },
   {
    "duration": 3545,
    "start_time": "2021-10-29T13:12:29.496Z"
   },
   {
    "duration": 2674,
    "start_time": "2021-10-29T13:12:53.917Z"
   },
   {
    "duration": 2579,
    "start_time": "2021-10-29T13:13:25.789Z"
   },
   {
    "duration": 2588,
    "start_time": "2021-10-29T13:15:52.111Z"
   },
   {
    "duration": 57,
    "start_time": "2021-10-29T13:22:10.379Z"
   },
   {
    "duration": 28,
    "start_time": "2021-10-29T13:22:11.202Z"
   },
   {
    "duration": 7,
    "start_time": "2021-10-29T13:22:12.585Z"
   },
   {
    "duration": 18,
    "start_time": "2021-10-29T13:22:13.106Z"
   },
   {
    "duration": 11,
    "start_time": "2021-10-29T13:22:13.603Z"
   },
   {
    "duration": 22,
    "start_time": "2021-10-29T13:22:14.113Z"
   },
   {
    "duration": 35,
    "start_time": "2021-10-29T13:22:15.462Z"
   },
   {
    "duration": 2721,
    "start_time": "2021-10-29T13:22:16.851Z"
   },
   {
    "duration": 2697,
    "start_time": "2021-10-29T13:23:08.066Z"
   },
   {
    "duration": 2824,
    "start_time": "2021-10-29T13:28:34.706Z"
   },
   {
    "duration": 3766,
    "start_time": "2021-10-29T13:28:45.118Z"
   },
   {
    "duration": 2658,
    "start_time": "2021-10-29T13:29:22.277Z"
   },
   {
    "duration": 620,
    "start_time": "2021-10-29T13:30:00.505Z"
   },
   {
    "duration": 675,
    "start_time": "2021-10-29T14:27:34.462Z"
   },
   {
    "duration": 590,
    "start_time": "2021-10-29T14:27:53.187Z"
   },
   {
    "duration": 593,
    "start_time": "2021-10-29T14:33:05.092Z"
   },
   {
    "duration": 617,
    "start_time": "2021-10-29T15:00:05.982Z"
   },
   {
    "duration": 611,
    "start_time": "2021-10-29T15:00:37.636Z"
   },
   {
    "duration": 286,
    "start_time": "2021-10-29T15:17:21.775Z"
   },
   {
    "duration": 700,
    "start_time": "2021-10-29T15:17:26.847Z"
   },
   {
    "duration": 866,
    "start_time": "2021-10-29T15:25:45.356Z"
   },
   {
    "duration": 656,
    "start_time": "2021-10-29T15:25:48.969Z"
   },
   {
    "duration": 622,
    "start_time": "2021-10-29T15:25:59.537Z"
   },
   {
    "duration": 880,
    "start_time": "2021-10-29T15:31:00.871Z"
   },
   {
    "duration": 96,
    "start_time": "2021-10-29T15:31:01.755Z"
   },
   {
    "duration": 65,
    "start_time": "2021-10-29T15:31:01.857Z"
   },
   {
    "duration": 18,
    "start_time": "2021-10-29T15:31:01.925Z"
   },
   {
    "duration": 150,
    "start_time": "2021-10-29T15:31:01.946Z"
   },
   {
    "duration": 16,
    "start_time": "2021-10-29T15:31:03.125Z"
   },
   {
    "duration": 7,
    "start_time": "2021-10-29T15:31:04.046Z"
   },
   {
    "duration": 11,
    "start_time": "2021-10-29T15:31:04.507Z"
   },
   {
    "duration": 6,
    "start_time": "2021-10-29T15:31:05.369Z"
   },
   {
    "duration": 6,
    "start_time": "2021-10-29T15:31:06.078Z"
   },
   {
    "duration": 7,
    "start_time": "2021-10-29T15:31:06.196Z"
   },
   {
    "duration": 70,
    "start_time": "2021-10-29T15:31:06.411Z"
   },
   {
    "duration": 399,
    "start_time": "2021-10-29T15:31:07.341Z"
   },
   {
    "duration": 429,
    "start_time": "2021-10-29T15:31:07.744Z"
   },
   {
    "duration": 377,
    "start_time": "2021-10-29T15:31:08.176Z"
   },
   {
    "duration": 416,
    "start_time": "2021-10-29T15:31:08.556Z"
   },
   {
    "duration": 65,
    "start_time": "2021-10-29T15:31:08.975Z"
   },
   {
    "duration": 37,
    "start_time": "2021-10-29T15:31:09.043Z"
   },
   {
    "duration": 12,
    "start_time": "2021-10-29T15:31:09.083Z"
   },
   {
    "duration": 14,
    "start_time": "2021-10-29T15:31:09.452Z"
   },
   {
    "duration": 37,
    "start_time": "2021-10-29T15:31:09.865Z"
   },
   {
    "duration": 14,
    "start_time": "2021-10-29T15:31:13.413Z"
   },
   {
    "duration": 11,
    "start_time": "2021-10-29T15:31:14.161Z"
   },
   {
    "duration": 342,
    "start_time": "2021-10-29T15:31:14.476Z"
   },
   {
    "duration": 6,
    "start_time": "2021-10-29T15:31:14.835Z"
   },
   {
    "duration": 6,
    "start_time": "2021-10-29T15:31:15.401Z"
   },
   {
    "duration": 9,
    "start_time": "2021-10-29T15:31:15.577Z"
   },
   {
    "duration": 59,
    "start_time": "2021-10-29T15:31:16.731Z"
   },
   {
    "duration": 27,
    "start_time": "2021-10-29T15:31:17.128Z"
   },
   {
    "duration": 13,
    "start_time": "2021-10-29T15:31:27.106Z"
   },
   {
    "duration": 360,
    "start_time": "2021-10-29T15:31:27.443Z"
   },
   {
    "duration": 6,
    "start_time": "2021-10-29T15:31:27.806Z"
   },
   {
    "duration": 7,
    "start_time": "2021-10-29T15:31:28.291Z"
   },
   {
    "duration": 7,
    "start_time": "2021-10-29T15:31:28.496Z"
   },
   {
    "duration": 50,
    "start_time": "2021-10-29T15:31:29.532Z"
   },
   {
    "duration": 25,
    "start_time": "2021-10-29T15:31:29.874Z"
   },
   {
    "duration": 8,
    "start_time": "2021-10-29T15:31:30.979Z"
   },
   {
    "duration": 18,
    "start_time": "2021-10-29T15:31:31.555Z"
   },
   {
    "duration": 14,
    "start_time": "2021-10-29T15:31:32.114Z"
   },
   {
    "duration": 47,
    "start_time": "2021-10-29T15:31:32.664Z"
   },
   {
    "duration": 39,
    "start_time": "2021-10-29T15:31:33.837Z"
   },
   {
    "duration": 2804,
    "start_time": "2021-10-29T15:31:34.425Z"
   },
   {
    "duration": 644,
    "start_time": "2021-10-29T15:31:37.232Z"
   },
   {
    "duration": 733,
    "start_time": "2021-10-29T15:31:37.878Z"
   },
   {
    "duration": 396,
    "start_time": "2021-10-29T15:31:41.609Z"
   },
   {
    "duration": 252,
    "start_time": "2021-10-29T15:31:52.245Z"
   },
   {
    "duration": 550,
    "start_time": "2021-10-29T15:33:53.831Z"
   },
   {
    "duration": 674,
    "start_time": "2021-10-29T15:35:16.997Z"
   },
   {
    "duration": 262,
    "start_time": "2021-10-29T15:35:26.650Z"
   },
   {
    "duration": 256,
    "start_time": "2021-10-29T15:36:49.379Z"
   },
   {
    "duration": 273,
    "start_time": "2021-10-29T15:37:19.559Z"
   },
   {
    "duration": 106,
    "start_time": "2021-10-29T15:49:52.485Z"
   },
   {
    "duration": 1069,
    "start_time": "2021-10-29T15:50:26.997Z"
   },
   {
    "duration": 249,
    "start_time": "2021-10-29T15:51:11.878Z"
   },
   {
    "duration": 818,
    "start_time": "2021-10-29T15:54:45.435Z"
   },
   {
    "duration": 1902,
    "start_time": "2021-10-29T15:54:55.344Z"
   },
   {
    "duration": 640,
    "start_time": "2021-10-29T15:55:16.645Z"
   },
   {
    "duration": 619,
    "start_time": "2021-10-29T15:55:19.534Z"
   },
   {
    "duration": 400,
    "start_time": "2021-10-29T15:55:38.908Z"
   },
   {
    "duration": 700,
    "start_time": "2021-10-29T15:55:41.678Z"
   },
   {
    "duration": 595,
    "start_time": "2021-10-29T15:55:54.019Z"
   },
   {
    "duration": 954,
    "start_time": "2021-10-29T15:56:35.179Z"
   },
   {
    "duration": 385,
    "start_time": "2021-10-29T15:57:19.074Z"
   },
   {
    "duration": 12,
    "start_time": "2021-10-29T16:18:58.719Z"
   },
   {
    "duration": 8,
    "start_time": "2021-10-29T16:37:26.987Z"
   },
   {
    "duration": 8,
    "start_time": "2021-10-29T16:42:18.376Z"
   },
   {
    "duration": 7,
    "start_time": "2021-10-29T16:43:01.909Z"
   },
   {
    "duration": 6,
    "start_time": "2021-10-29T16:43:25.596Z"
   },
   {
    "duration": 506,
    "start_time": "2021-10-29T16:46:00.335Z"
   },
   {
    "duration": 704,
    "start_time": "2021-10-29T16:46:09.129Z"
   },
   {
    "duration": 934,
    "start_time": "2021-10-29T16:46:20.111Z"
   },
   {
    "duration": 516,
    "start_time": "2021-10-29T16:46:31.523Z"
   },
   {
    "duration": 240,
    "start_time": "2021-10-29T16:50:56.911Z"
   },
   {
    "duration": 8,
    "start_time": "2021-10-29T16:51:57.139Z"
   },
   {
    "duration": 760,
    "start_time": "2021-10-29T16:52:47.094Z"
   },
   {
    "duration": 490,
    "start_time": "2021-10-29T16:57:52.080Z"
   },
   {
    "duration": 483,
    "start_time": "2021-10-29T16:58:51.076Z"
   },
   {
    "duration": 462,
    "start_time": "2021-10-29T17:16:44.933Z"
   },
   {
    "duration": 651,
    "start_time": "2021-10-29T17:21:35.847Z"
   },
   {
    "duration": 463,
    "start_time": "2021-10-29T17:29:23.092Z"
   },
   {
    "duration": 91,
    "start_time": "2021-10-29T17:32:11.892Z"
   },
   {
    "duration": 663,
    "start_time": "2021-10-29T17:34:39.072Z"
   },
   {
    "duration": 57,
    "start_time": "2021-10-29T17:56:30.064Z"
   },
   {
    "duration": 10,
    "start_time": "2021-10-29T18:26:20.720Z"
   },
   {
    "duration": 5,
    "start_time": "2021-10-29T18:26:29.700Z"
   },
   {
    "duration": 6,
    "start_time": "2021-10-29T18:26:54.338Z"
   },
   {
    "duration": 1083,
    "start_time": "2021-10-29T18:27:45.934Z"
   },
   {
    "duration": 1319,
    "start_time": "2021-10-29T18:27:55.180Z"
   },
   {
    "duration": 8,
    "start_time": "2021-10-29T18:28:12.339Z"
   },
   {
    "duration": 10,
    "start_time": "2021-10-29T18:30:26.043Z"
   },
   {
    "duration": 638,
    "start_time": "2021-10-29T18:34:36.818Z"
   },
   {
    "duration": 6,
    "start_time": "2021-10-29T18:35:07.853Z"
   },
   {
    "duration": 385,
    "start_time": "2021-10-29T18:35:10.642Z"
   },
   {
    "duration": 96,
    "start_time": "2021-10-29T18:35:24.483Z"
   },
   {
    "duration": 372,
    "start_time": "2021-10-29T18:35:24.770Z"
   },
   {
    "duration": 94,
    "start_time": "2021-10-29T18:35:27.874Z"
   },
   {
    "duration": 367,
    "start_time": "2021-10-29T18:35:29.458Z"
   },
   {
    "duration": 104,
    "start_time": "2021-10-29T18:35:50.915Z"
   },
   {
    "duration": 397,
    "start_time": "2021-10-29T18:35:51.954Z"
   },
   {
    "duration": 7,
    "start_time": "2021-10-29T18:37:06.496Z"
   },
   {
    "duration": 569,
    "start_time": "2021-10-29T18:37:07.896Z"
   },
   {
    "duration": 7,
    "start_time": "2021-10-29T18:37:20.343Z"
   },
   {
    "duration": 330,
    "start_time": "2021-10-29T18:37:21.820Z"
   },
   {
    "duration": 329,
    "start_time": "2021-10-29T18:37:52.775Z"
   },
   {
    "duration": 281,
    "start_time": "2021-10-29T18:41:05.267Z"
   },
   {
    "duration": 91,
    "start_time": "2021-10-29T18:42:21.933Z"
   },
   {
    "duration": 291,
    "start_time": "2021-10-29T18:42:26.626Z"
   },
   {
    "duration": 102,
    "start_time": "2021-10-29T18:42:33.141Z"
   },
   {
    "duration": 281,
    "start_time": "2021-10-29T18:42:35.208Z"
   },
   {
    "duration": 248,
    "start_time": "2021-10-29T18:43:50.366Z"
   },
   {
    "duration": 1446,
    "start_time": "2021-10-29T18:50:51.833Z"
   },
   {
    "duration": 87,
    "start_time": "2021-10-29T18:50:53.283Z"
   },
   {
    "duration": 60,
    "start_time": "2021-10-29T18:50:53.375Z"
   },
   {
    "duration": 15,
    "start_time": "2021-10-29T18:50:53.437Z"
   },
   {
    "duration": 126,
    "start_time": "2021-10-29T18:50:53.455Z"
   },
   {
    "duration": 11,
    "start_time": "2021-10-29T18:50:53.945Z"
   },
   {
    "duration": 8,
    "start_time": "2021-10-29T18:50:54.781Z"
   },
   {
    "duration": 12,
    "start_time": "2021-10-29T18:50:55.321Z"
   },
   {
    "duration": 6,
    "start_time": "2021-10-29T18:50:56.176Z"
   },
   {
    "duration": 6,
    "start_time": "2021-10-29T18:50:56.890Z"
   },
   {
    "duration": 6,
    "start_time": "2021-10-29T18:50:57.056Z"
   },
   {
    "duration": 60,
    "start_time": "2021-10-29T18:50:57.222Z"
   },
   {
    "duration": 372,
    "start_time": "2021-10-29T18:50:57.913Z"
   },
   {
    "duration": 354,
    "start_time": "2021-10-29T18:50:58.289Z"
   },
   {
    "duration": 361,
    "start_time": "2021-10-29T18:50:58.647Z"
   },
   {
    "duration": 368,
    "start_time": "2021-10-29T18:50:59.012Z"
   },
   {
    "duration": 57,
    "start_time": "2021-10-29T18:50:59.383Z"
   },
   {
    "duration": 38,
    "start_time": "2021-10-29T18:50:59.442Z"
   },
   {
    "duration": 12,
    "start_time": "2021-10-29T18:50:59.483Z"
   },
   {
    "duration": 14,
    "start_time": "2021-10-29T18:50:59.793Z"
   },
   {
    "duration": 35,
    "start_time": "2021-10-29T18:51:00.134Z"
   },
   {
    "duration": 12,
    "start_time": "2021-10-29T18:51:00.481Z"
   },
   {
    "duration": 11,
    "start_time": "2021-10-29T18:51:01.192Z"
   },
   {
    "duration": 337,
    "start_time": "2021-10-29T18:51:01.537Z"
   },
   {
    "duration": 5,
    "start_time": "2021-10-29T18:51:01.876Z"
   },
   {
    "duration": 6,
    "start_time": "2021-10-29T18:51:02.377Z"
   },
   {
    "duration": 6,
    "start_time": "2021-10-29T18:51:02.552Z"
   },
   {
    "duration": 59,
    "start_time": "2021-10-29T18:51:03.578Z"
   },
   {
    "duration": 23,
    "start_time": "2021-10-29T18:51:03.920Z"
   },
   {
    "duration": 5,
    "start_time": "2021-10-29T18:51:04.452Z"
   },
   {
    "duration": 1197,
    "start_time": "2021-10-29T18:51:04.647Z"
   },
   {
    "duration": 7,
    "start_time": "2021-10-29T18:51:05.847Z"
   },
   {
    "duration": 18,
    "start_time": "2021-10-29T18:51:06.345Z"
   },
   {
    "duration": 11,
    "start_time": "2021-10-29T18:51:06.913Z"
   },
   {
    "duration": 27,
    "start_time": "2021-10-29T18:51:07.462Z"
   },
   {
    "duration": 37,
    "start_time": "2021-10-29T18:51:08.761Z"
   },
   {
    "duration": 2679,
    "start_time": "2021-10-29T18:51:09.320Z"
   },
   {
    "duration": 622,
    "start_time": "2021-10-29T18:51:12.003Z"
   },
   {
    "duration": 837,
    "start_time": "2021-10-29T18:51:12.629Z"
   },
   {
    "duration": 249,
    "start_time": "2021-10-29T18:51:14.352Z"
   },
   {
    "duration": 394,
    "start_time": "2021-10-29T18:51:15.116Z"
   },
   {
    "duration": 13,
    "start_time": "2021-10-29T18:51:16.132Z"
   },
   {
    "duration": 225,
    "start_time": "2021-10-29T18:51:16.671Z"
   },
   {
    "duration": 7,
    "start_time": "2021-10-29T18:51:17.194Z"
   },
   {
    "duration": 634,
    "start_time": "2021-10-29T18:51:17.746Z"
   },
   {
    "duration": 467,
    "start_time": "2021-10-29T18:51:18.425Z"
   },
   {
    "duration": 461,
    "start_time": "2021-10-29T18:51:19.563Z"
   },
   {
    "duration": 445,
    "start_time": "2021-10-29T18:51:20.879Z"
   },
   {
    "duration": 7,
    "start_time": "2021-10-29T18:51:26.980Z"
   },
   {
    "duration": 335,
    "start_time": "2021-10-29T18:51:29.193Z"
   },
   {
    "duration": 295,
    "start_time": "2021-10-29T18:51:32.009Z"
   },
   {
    "duration": 270,
    "start_time": "2021-10-29T18:51:35.616Z"
   },
   {
    "duration": 22670,
    "start_time": "2021-10-29T18:51:39.511Z"
   },
   {
    "duration": 7,
    "start_time": "2021-10-29T18:52:52.192Z"
   },
   {
    "duration": 561,
    "start_time": "2021-10-29T18:52:53.478Z"
   },
   {
    "duration": 7,
    "start_time": "2021-10-29T18:53:01.343Z"
   },
   {
    "duration": 351,
    "start_time": "2021-10-29T18:53:02.171Z"
   },
   {
    "duration": 284,
    "start_time": "2021-10-29T18:53:05.406Z"
   },
   {
    "duration": 263,
    "start_time": "2021-10-29T18:53:08.224Z"
   },
   {
    "duration": 25529,
    "start_time": "2021-10-29T18:53:43.993Z"
   },
   {
    "duration": 7,
    "start_time": "2021-10-29T18:54:29.941Z"
   },
   {
    "duration": 461,
    "start_time": "2021-10-29T18:54:30.843Z"
   },
   {
    "duration": 9,
    "start_time": "2021-10-29T18:56:06.577Z"
   },
   {
    "duration": 343,
    "start_time": "2021-10-29T18:56:08.271Z"
   },
   {
    "duration": 383,
    "start_time": "2021-10-29T18:56:11.643Z"
   },
   {
    "duration": 256,
    "start_time": "2021-10-29T18:56:12.894Z"
   },
   {
    "duration": 23263,
    "start_time": "2021-10-29T18:56:15.680Z"
   },
   {
    "duration": 7,
    "start_time": "2021-10-29T18:57:18.463Z"
   },
   {
    "duration": 338,
    "start_time": "2021-10-29T18:57:19.480Z"
   },
   {
    "duration": 286,
    "start_time": "2021-10-29T18:57:20.573Z"
   },
   {
    "duration": 255,
    "start_time": "2021-10-29T18:57:20.982Z"
   },
   {
    "duration": 23454,
    "start_time": "2021-10-29T18:57:21.597Z"
   },
   {
    "duration": 6,
    "start_time": "2021-10-29T18:58:45.546Z"
   },
   {
    "duration": 346,
    "start_time": "2021-10-29T18:58:46.788Z"
   },
   {
    "duration": 287,
    "start_time": "2021-10-29T18:58:49.909Z"
   },
   {
    "duration": 295,
    "start_time": "2021-10-29T18:58:53.373Z"
   },
   {
    "duration": 23676,
    "start_time": "2021-10-29T18:59:01.552Z"
   },
   {
    "duration": 694,
    "start_time": "2021-10-29T19:09:15.610Z"
   },
   {
    "duration": 282,
    "start_time": "2021-10-29T19:12:10.853Z"
   },
   {
    "duration": 9,
    "start_time": "2021-10-29T19:12:26.820Z"
   },
   {
    "duration": 8,
    "start_time": "2021-10-29T19:13:12.741Z"
   },
   {
    "duration": 357,
    "start_time": "2021-10-29T19:13:15.315Z"
   },
   {
    "duration": 290,
    "start_time": "2021-10-29T19:13:15.692Z"
   },
   {
    "duration": 276,
    "start_time": "2021-10-29T19:13:16.908Z"
   },
   {
    "duration": 256,
    "start_time": "2021-10-29T19:13:22.944Z"
   },
   {
    "duration": 8,
    "start_time": "2021-10-29T19:26:19.040Z"
   },
   {
    "duration": 13,
    "start_time": "2021-10-29T19:27:54.541Z"
   },
   {
    "duration": 12,
    "start_time": "2021-10-29T19:31:49.642Z"
   },
   {
    "duration": 527,
    "start_time": "2021-10-29T19:37:14.617Z"
   },
   {
    "duration": 338,
    "start_time": "2021-10-29T19:37:33.556Z"
   },
   {
    "duration": 475,
    "start_time": "2021-10-29T19:38:14.262Z"
   },
   {
    "duration": 484,
    "start_time": "2021-10-29T19:38:18.509Z"
   },
   {
    "duration": 358,
    "start_time": "2021-10-29T19:38:30.979Z"
   },
   {
    "duration": 12,
    "start_time": "2021-10-29T19:38:57.300Z"
   },
   {
    "duration": 10,
    "start_time": "2021-10-29T19:44:10.642Z"
   },
   {
    "duration": 868,
    "start_time": "2021-10-29T19:46:16.092Z"
   },
   {
    "duration": 885,
    "start_time": "2021-10-29T19:46:34.860Z"
   },
   {
    "duration": 870,
    "start_time": "2021-10-29T19:46:45.304Z"
   },
   {
    "duration": 5,
    "start_time": "2021-10-29T19:47:18.393Z"
   },
   {
    "duration": 340,
    "start_time": "2021-10-29T19:47:18.982Z"
   },
   {
    "duration": 388,
    "start_time": "2021-10-29T19:47:20.051Z"
   },
   {
    "duration": 264,
    "start_time": "2021-10-29T19:47:20.487Z"
   },
   {
    "duration": 353,
    "start_time": "2021-10-29T19:47:23.867Z"
   },
   {
    "duration": 894,
    "start_time": "2021-10-29T19:48:30.783Z"
   },
   {
    "duration": 280,
    "start_time": "2021-10-29T19:48:44.506Z"
   },
   {
    "duration": 278,
    "start_time": "2021-10-29T19:49:04.515Z"
   },
   {
    "duration": 9,
    "start_time": "2021-10-29T20:02:47.446Z"
   },
   {
    "duration": 599,
    "start_time": "2021-10-29T20:06:46.206Z"
   },
   {
    "duration": 8,
    "start_time": "2021-10-29T20:06:48.927Z"
   },
   {
    "duration": 676,
    "start_time": "2021-10-29T20:06:49.408Z"
   },
   {
    "duration": 8,
    "start_time": "2021-10-29T20:07:14.900Z"
   },
   {
    "duration": 569,
    "start_time": "2021-10-29T20:07:16.696Z"
   },
   {
    "duration": 10,
    "start_time": "2021-10-29T20:07:30.369Z"
   },
   {
    "duration": 11,
    "start_time": "2021-10-29T20:07:34.094Z"
   },
   {
    "duration": 560,
    "start_time": "2021-10-29T20:07:34.505Z"
   },
   {
    "duration": 9,
    "start_time": "2021-10-29T20:07:40.728Z"
   },
   {
    "duration": 551,
    "start_time": "2021-10-29T20:07:41.524Z"
   },
   {
    "duration": 794,
    "start_time": "2021-10-29T20:08:18.166Z"
   },
   {
    "duration": 9,
    "start_time": "2021-10-29T20:08:50.964Z"
   },
   {
    "duration": 8,
    "start_time": "2021-10-29T20:08:53.797Z"
   },
   {
    "duration": 552,
    "start_time": "2021-10-29T20:08:54.328Z"
   },
   {
    "duration": 875,
    "start_time": "2021-10-29T20:10:54.286Z"
   },
   {
    "duration": 227,
    "start_time": "2021-10-29T20:13:49.742Z"
   },
   {
    "duration": 220,
    "start_time": "2021-10-29T20:14:56.816Z"
   },
   {
    "duration": 1401,
    "start_time": "2021-10-29T20:15:49.323Z"
   },
   {
    "duration": 116,
    "start_time": "2021-10-29T20:16:01.573Z"
   },
   {
    "duration": 818,
    "start_time": "2021-10-29T20:17:28.436Z"
   },
   {
    "duration": 398,
    "start_time": "2021-10-29T20:17:40.593Z"
   },
   {
    "duration": 589,
    "start_time": "2021-10-29T20:17:45.251Z"
   },
   {
    "duration": 120,
    "start_time": "2021-10-29T20:17:54.698Z"
   },
   {
    "duration": 1094,
    "start_time": "2021-10-29T20:18:07.491Z"
   },
   {
    "duration": 1070,
    "start_time": "2021-10-29T20:18:43.187Z"
   },
   {
    "duration": 9,
    "start_time": "2021-10-29T20:18:58.403Z"
   },
   {
    "duration": 9,
    "start_time": "2021-10-29T20:19:02.162Z"
   },
   {
    "duration": 905,
    "start_time": "2021-10-29T20:19:02.732Z"
   },
   {
    "duration": 8,
    "start_time": "2021-10-29T20:19:10.320Z"
   },
   {
    "duration": 1134,
    "start_time": "2021-10-29T20:19:10.860Z"
   },
   {
    "duration": 9,
    "start_time": "2021-10-29T20:20:56.908Z"
   },
   {
    "duration": 1045,
    "start_time": "2021-10-29T20:20:57.910Z"
   },
   {
    "duration": 9,
    "start_time": "2021-10-29T20:21:26.059Z"
   },
   {
    "duration": 1080,
    "start_time": "2021-10-29T20:21:30.007Z"
   },
   {
    "duration": 1536,
    "start_time": "2021-10-29T20:22:09.501Z"
   },
   {
    "duration": 91,
    "start_time": "2021-10-29T20:22:11.040Z"
   },
   {
    "duration": 49,
    "start_time": "2021-10-29T20:22:11.134Z"
   },
   {
    "duration": 16,
    "start_time": "2021-10-29T20:22:11.185Z"
   },
   {
    "duration": 134,
    "start_time": "2021-10-29T20:22:12.175Z"
   },
   {
    "duration": 25,
    "start_time": "2021-10-29T20:22:12.313Z"
   },
   {
    "duration": 8,
    "start_time": "2021-10-29T20:22:13.037Z"
   },
   {
    "duration": 12,
    "start_time": "2021-10-29T20:22:13.556Z"
   },
   {
    "duration": 6,
    "start_time": "2021-10-29T20:22:14.468Z"
   },
   {
    "duration": 6,
    "start_time": "2021-10-29T20:22:15.156Z"
   },
   {
    "duration": 7,
    "start_time": "2021-10-29T20:22:15.336Z"
   },
   {
    "duration": 60,
    "start_time": "2021-10-29T20:22:15.485Z"
   },
   {
    "duration": 377,
    "start_time": "2021-10-29T20:22:16.212Z"
   },
   {
    "duration": 356,
    "start_time": "2021-10-29T20:22:16.592Z"
   },
   {
    "duration": 383,
    "start_time": "2021-10-29T20:22:16.951Z"
   },
   {
    "duration": 366,
    "start_time": "2021-10-29T20:22:17.336Z"
   },
   {
    "duration": 45,
    "start_time": "2021-10-29T20:22:17.705Z"
   },
   {
    "duration": 40,
    "start_time": "2021-10-29T20:22:17.753Z"
   },
   {
    "duration": 6,
    "start_time": "2021-10-29T20:22:17.822Z"
   },
   {
    "duration": 13,
    "start_time": "2021-10-29T20:22:18.125Z"
   },
   {
    "duration": 36,
    "start_time": "2021-10-29T20:22:18.477Z"
   },
   {
    "duration": 13,
    "start_time": "2021-10-29T20:22:18.843Z"
   },
   {
    "duration": 13,
    "start_time": "2021-10-29T20:22:19.564Z"
   },
   {
    "duration": 336,
    "start_time": "2021-10-29T20:22:19.939Z"
   },
   {
    "duration": 6,
    "start_time": "2021-10-29T20:22:20.313Z"
   },
   {
    "duration": 7,
    "start_time": "2021-10-29T20:22:20.843Z"
   },
   {
    "duration": 7,
    "start_time": "2021-10-29T20:22:21.021Z"
   },
   {
    "duration": 61,
    "start_time": "2021-10-29T20:22:22.145Z"
   },
   {
    "duration": 24,
    "start_time": "2021-10-29T20:22:22.525Z"
   },
   {
    "duration": 5,
    "start_time": "2021-10-29T20:22:23.085Z"
   },
   {
    "duration": 1108,
    "start_time": "2021-10-29T20:22:23.285Z"
   },
   {
    "duration": 10,
    "start_time": "2021-10-29T20:22:24.396Z"
   },
   {
    "duration": 5,
    "start_time": "2021-10-29T20:22:24.438Z"
   },
   {
    "duration": 883,
    "start_time": "2021-10-29T20:22:24.854Z"
   },
   {
    "duration": 341,
    "start_time": "2021-10-29T20:22:25.739Z"
   },
   {
    "duration": 210,
    "start_time": "2021-10-29T20:22:26.083Z"
   },
   {
    "duration": 7,
    "start_time": "2021-10-29T20:22:27.217Z"
   },
   {
    "duration": 18,
    "start_time": "2021-10-29T20:22:27.777Z"
   },
   {
    "duration": 11,
    "start_time": "2021-10-29T20:22:28.332Z"
   },
   {
    "duration": 32,
    "start_time": "2021-10-29T20:22:28.919Z"
   },
   {
    "duration": 37,
    "start_time": "2021-10-29T20:22:30.264Z"
   },
   {
    "duration": 2687,
    "start_time": "2021-10-29T20:22:30.845Z"
   },
   {
    "duration": 633,
    "start_time": "2021-10-29T20:22:33.534Z"
   },
   {
    "duration": 746,
    "start_time": "2021-10-29T20:22:34.170Z"
   },
   {
    "duration": 269,
    "start_time": "2021-10-29T20:22:34.922Z"
   },
   {
    "duration": 400,
    "start_time": "2021-10-29T20:22:35.194Z"
   },
   {
    "duration": 12,
    "start_time": "2021-10-29T20:22:38.402Z"
   },
   {
    "duration": 231,
    "start_time": "2021-10-29T20:22:41.268Z"
   },
   {
    "duration": 7,
    "start_time": "2021-10-29T20:22:42.567Z"
   },
   {
    "duration": 601,
    "start_time": "2021-10-29T20:22:43.971Z"
   },
   {
    "duration": 497,
    "start_time": "2021-10-29T20:22:45.975Z"
   },
   {
    "duration": 470,
    "start_time": "2021-10-29T20:22:48.427Z"
   },
   {
    "duration": 478,
    "start_time": "2021-10-29T20:22:50.448Z"
   },
   {
    "duration": 6,
    "start_time": "2021-10-29T20:22:57.436Z"
   },
   {
    "duration": 349,
    "start_time": "2021-10-29T20:22:59.240Z"
   },
   {
    "duration": 296,
    "start_time": "2021-10-29T20:23:01.158Z"
   },
   {
    "duration": 280,
    "start_time": "2021-10-29T20:23:03.218Z"
   },
   {
    "duration": 285,
    "start_time": "2021-10-29T20:23:05.437Z"
   },
   {
    "duration": 287,
    "start_time": "2021-10-29T20:23:06.836Z"
   },
   {
    "duration": 9,
    "start_time": "2021-10-29T20:23:10.490Z"
   },
   {
    "duration": 1195,
    "start_time": "2021-10-29T20:23:11.972Z"
   },
   {
    "duration": 12,
    "start_time": "2021-10-29T20:24:43.393Z"
   },
   {
    "duration": 1628,
    "start_time": "2021-10-29T20:24:46.297Z"
   },
   {
    "duration": 1017,
    "start_time": "2021-10-29T20:25:08.960Z"
   },
   {
    "duration": 1034,
    "start_time": "2021-10-29T20:28:09.044Z"
   },
   {
    "duration": 1051,
    "start_time": "2021-10-29T20:28:35.685Z"
   },
   {
    "duration": 9,
    "start_time": "2021-10-29T20:31:30.365Z"
   },
   {
    "duration": 1060,
    "start_time": "2021-10-29T20:31:31.722Z"
   },
   {
    "duration": 1195,
    "start_time": "2021-10-29T20:47:16.077Z"
   },
   {
    "duration": 614,
    "start_time": "2021-10-29T20:57:01.824Z"
   },
   {
    "duration": 94,
    "start_time": "2021-10-29T20:57:33.148Z"
   },
   {
    "duration": 374,
    "start_time": "2021-10-29T20:59:24.833Z"
   },
   {
    "duration": 407,
    "start_time": "2021-10-29T21:00:03.124Z"
   },
   {
    "duration": 364,
    "start_time": "2021-10-29T21:00:13.973Z"
   },
   {
    "duration": 366,
    "start_time": "2021-10-29T21:00:36.535Z"
   },
   {
    "duration": 91,
    "start_time": "2021-10-29T21:00:45.090Z"
   },
   {
    "duration": 89,
    "start_time": "2021-10-29T21:00:54.588Z"
   },
   {
    "duration": 91,
    "start_time": "2021-10-29T21:01:16.829Z"
   },
   {
    "duration": 91,
    "start_time": "2021-10-29T21:01:26.210Z"
   },
   {
    "duration": 8,
    "start_time": "2021-10-29T21:03:09.573Z"
   },
   {
    "duration": 1041,
    "start_time": "2021-10-29T21:03:11.609Z"
   },
   {
    "duration": 325,
    "start_time": "2021-10-29T21:34:44.846Z"
   },
   {
    "duration": 303,
    "start_time": "2021-10-29T21:34:56.274Z"
   },
   {
    "duration": 304,
    "start_time": "2021-10-29T21:35:18.432Z"
   },
   {
    "duration": 1418,
    "start_time": "2021-10-29T21:39:23.766Z"
   },
   {
    "duration": 89,
    "start_time": "2021-10-29T21:39:25.187Z"
   },
   {
    "duration": 57,
    "start_time": "2021-10-29T21:39:25.280Z"
   },
   {
    "duration": 15,
    "start_time": "2021-10-29T21:39:25.340Z"
   },
   {
    "duration": 129,
    "start_time": "2021-10-29T21:39:25.358Z"
   },
   {
    "duration": 10,
    "start_time": "2021-10-29T21:39:26.444Z"
   },
   {
    "duration": 8,
    "start_time": "2021-10-29T21:39:27.265Z"
   },
   {
    "duration": 12,
    "start_time": "2021-10-29T21:39:27.772Z"
   },
   {
    "duration": 7,
    "start_time": "2021-10-29T21:39:28.652Z"
   },
   {
    "duration": 7,
    "start_time": "2021-10-29T21:39:29.300Z"
   },
   {
    "duration": 7,
    "start_time": "2021-10-29T21:39:29.483Z"
   },
   {
    "duration": 60,
    "start_time": "2021-10-29T21:39:29.646Z"
   },
   {
    "duration": 362,
    "start_time": "2021-10-29T21:39:30.341Z"
   },
   {
    "duration": 379,
    "start_time": "2021-10-29T21:39:30.706Z"
   },
   {
    "duration": 369,
    "start_time": "2021-10-29T21:39:31.089Z"
   },
   {
    "duration": 366,
    "start_time": "2021-10-29T21:39:31.461Z"
   },
   {
    "duration": 36,
    "start_time": "2021-10-29T21:39:31.829Z"
   },
   {
    "duration": 58,
    "start_time": "2021-10-29T21:39:31.868Z"
   },
   {
    "duration": 5,
    "start_time": "2021-10-29T21:39:31.929Z"
   },
   {
    "duration": 12,
    "start_time": "2021-10-29T21:39:32.247Z"
   },
   {
    "duration": 35,
    "start_time": "2021-10-29T21:39:32.604Z"
   },
   {
    "duration": 17,
    "start_time": "2021-10-29T21:39:32.948Z"
   },
   {
    "duration": 12,
    "start_time": "2021-10-29T21:39:33.651Z"
   },
   {
    "duration": 321,
    "start_time": "2021-10-29T21:39:34.037Z"
   },
   {
    "duration": 6,
    "start_time": "2021-10-29T21:39:34.423Z"
   },
   {
    "duration": 7,
    "start_time": "2021-10-29T21:39:34.938Z"
   },
   {
    "duration": 6,
    "start_time": "2021-10-29T21:39:35.125Z"
   },
   {
    "duration": 57,
    "start_time": "2021-10-29T21:39:36.364Z"
   },
   {
    "duration": 24,
    "start_time": "2021-10-29T21:39:36.723Z"
   },
   {
    "duration": 4,
    "start_time": "2021-10-29T21:39:37.234Z"
   },
   {
    "duration": 1130,
    "start_time": "2021-10-29T21:39:37.403Z"
   },
   {
    "duration": 10,
    "start_time": "2021-10-29T21:39:38.536Z"
   },
   {
    "duration": 5,
    "start_time": "2021-10-29T21:39:38.549Z"
   },
   {
    "duration": 909,
    "start_time": "2021-10-29T21:39:38.766Z"
   },
   {
    "duration": 225,
    "start_time": "2021-10-29T21:39:39.677Z"
   },
   {
    "duration": 202,
    "start_time": "2021-10-29T21:39:39.905Z"
   },
   {
    "duration": 8,
    "start_time": "2021-10-29T21:39:40.847Z"
   },
   {
    "duration": 17,
    "start_time": "2021-10-29T21:39:41.387Z"
   },
   {
    "duration": 11,
    "start_time": "2021-10-29T21:39:41.951Z"
   },
   {
    "duration": 32,
    "start_time": "2021-10-29T21:39:42.493Z"
   },
   {
    "duration": 36,
    "start_time": "2021-10-29T21:39:43.740Z"
   },
   {
    "duration": 2784,
    "start_time": "2021-10-29T21:39:44.274Z"
   },
   {
    "duration": 597,
    "start_time": "2021-10-29T21:39:47.061Z"
   },
   {
    "duration": 623,
    "start_time": "2021-10-29T21:39:47.662Z"
   },
   {
    "duration": 258,
    "start_time": "2021-10-29T21:39:48.288Z"
   },
   {
    "duration": 394,
    "start_time": "2021-10-29T21:39:48.548Z"
   },
   {
    "duration": 12,
    "start_time": "2021-10-29T21:39:48.944Z"
   },
   {
    "duration": 259,
    "start_time": "2021-10-29T21:39:48.960Z"
   },
   {
    "duration": 7,
    "start_time": "2021-10-29T21:39:49.251Z"
   },
   {
    "duration": 580,
    "start_time": "2021-10-29T21:39:49.830Z"
   },
   {
    "duration": 483,
    "start_time": "2021-10-29T21:39:50.413Z"
   },
   {
    "duration": 463,
    "start_time": "2021-10-29T21:39:51.001Z"
   },
   {
    "duration": 467,
    "start_time": "2021-10-29T21:39:51.698Z"
   },
   {
    "duration": 6,
    "start_time": "2021-10-29T21:39:53.539Z"
   },
   {
    "duration": 343,
    "start_time": "2021-10-29T21:39:53.935Z"
   },
   {
    "duration": 289,
    "start_time": "2021-10-29T21:39:54.335Z"
   },
   {
    "duration": 259,
    "start_time": "2021-10-29T21:39:54.697Z"
   },
   {
    "duration": 246,
    "start_time": "2021-10-29T21:39:55.276Z"
   },
   {
    "duration": 276,
    "start_time": "2021-10-29T21:39:55.866Z"
   },
   {
    "duration": 9,
    "start_time": "2021-10-29T21:39:58.534Z"
   },
   {
    "duration": 1261,
    "start_time": "2021-10-29T21:39:59.999Z"
   },
   {
    "duration": 90,
    "start_time": "2021-10-29T21:40:04.216Z"
   },
   {
    "duration": 51,
    "start_time": "2021-10-29T21:42:01.203Z"
   },
   {
    "duration": 45,
    "start_time": "2021-10-29T21:42:18.573Z"
   },
   {
    "duration": 47,
    "start_time": "2021-10-29T21:42:22.576Z"
   },
   {
    "duration": 44,
    "start_time": "2021-10-29T21:42:25.583Z"
   },
   {
    "duration": 49,
    "start_time": "2021-10-29T21:42:39.377Z"
   },
   {
    "duration": 474,
    "start_time": "2021-10-29T21:43:50.900Z"
   },
   {
    "duration": 43,
    "start_time": "2021-10-29T21:45:44.516Z"
   },
   {
    "duration": 20,
    "start_time": "2021-10-29T21:46:18.861Z"
   },
   {
    "duration": 44,
    "start_time": "2021-10-29T21:46:32.392Z"
   },
   {
    "duration": 3,
    "start_time": "2021-10-29T21:49:27.686Z"
   },
   {
    "duration": 416,
    "start_time": "2021-10-29T21:49:45.336Z"
   },
   {
    "duration": 5005,
    "start_time": "2021-10-29T21:49:57.968Z"
   },
   {
    "duration": 5526,
    "start_time": "2021-10-29T21:50:08.254Z"
   },
   {
    "duration": 285,
    "start_time": "2021-10-29T21:51:45.313Z"
   },
   {
    "duration": 908,
    "start_time": "2021-10-29T21:51:55.980Z"
   },
   {
    "duration": 11,
    "start_time": "2021-10-29T21:55:02.915Z"
   },
   {
    "duration": 1713,
    "start_time": "2021-10-29T21:55:59.972Z"
   },
   {
    "duration": 304,
    "start_time": "2021-10-29T21:57:26.559Z"
   },
   {
    "duration": 15,
    "start_time": "2021-10-29T21:57:30.665Z"
   },
   {
    "duration": 930,
    "start_time": "2021-10-29T21:57:32.063Z"
   },
   {
    "duration": 1574,
    "start_time": "2021-10-29T21:57:43.172Z"
   },
   {
    "duration": 1596,
    "start_time": "2021-10-29T21:57:45.874Z"
   },
   {
    "duration": 15,
    "start_time": "2021-10-29T22:03:52.721Z"
   },
   {
    "duration": 1610,
    "start_time": "2021-10-29T22:03:53.133Z"
   },
   {
    "duration": 1482,
    "start_time": "2021-10-29T22:19:34.903Z"
   },
   {
    "duration": 88,
    "start_time": "2021-10-29T22:19:36.388Z"
   },
   {
    "duration": 59,
    "start_time": "2021-10-29T22:19:36.479Z"
   },
   {
    "duration": 29,
    "start_time": "2021-10-29T22:19:36.540Z"
   },
   {
    "duration": 110,
    "start_time": "2021-10-29T22:19:36.571Z"
   },
   {
    "duration": 10,
    "start_time": "2021-10-29T22:19:37.645Z"
   },
   {
    "duration": 7,
    "start_time": "2021-10-29T22:19:38.552Z"
   },
   {
    "duration": 12,
    "start_time": "2021-10-29T22:19:39.077Z"
   },
   {
    "duration": 6,
    "start_time": "2021-10-29T22:19:39.926Z"
   },
   {
    "duration": 6,
    "start_time": "2021-10-29T22:19:40.598Z"
   },
   {
    "duration": 6,
    "start_time": "2021-10-29T22:19:40.754Z"
   },
   {
    "duration": 69,
    "start_time": "2021-10-29T22:19:40.925Z"
   },
   {
    "duration": 361,
    "start_time": "2021-10-29T22:19:41.646Z"
   },
   {
    "duration": 357,
    "start_time": "2021-10-29T22:19:42.011Z"
   },
   {
    "duration": 359,
    "start_time": "2021-10-29T22:19:42.371Z"
   },
   {
    "duration": 362,
    "start_time": "2021-10-29T22:19:42.733Z"
   },
   {
    "duration": 45,
    "start_time": "2021-10-29T22:19:43.098Z"
   },
   {
    "duration": 34,
    "start_time": "2021-10-29T22:19:43.146Z"
   },
   {
    "duration": 5,
    "start_time": "2021-10-29T22:19:43.247Z"
   },
   {
    "duration": 12,
    "start_time": "2021-10-29T22:19:43.596Z"
   },
   {
    "duration": 37,
    "start_time": "2021-10-29T22:19:43.978Z"
   },
   {
    "duration": 12,
    "start_time": "2021-10-29T22:19:44.354Z"
   },
   {
    "duration": 11,
    "start_time": "2021-10-29T22:19:45.076Z"
   },
   {
    "duration": 333,
    "start_time": "2021-10-29T22:19:45.421Z"
   },
   {
    "duration": 5,
    "start_time": "2021-10-29T22:19:45.773Z"
   },
   {
    "duration": 6,
    "start_time": "2021-10-29T22:19:46.310Z"
   },
   {
    "duration": 6,
    "start_time": "2021-10-29T22:19:46.484Z"
   },
   {
    "duration": 58,
    "start_time": "2021-10-29T22:19:47.493Z"
   },
   {
    "duration": 25,
    "start_time": "2021-10-29T22:19:47.869Z"
   },
   {
    "duration": 5,
    "start_time": "2021-10-29T22:19:48.381Z"
   },
   {
    "duration": 1133,
    "start_time": "2021-10-29T22:19:48.531Z"
   },
   {
    "duration": 10,
    "start_time": "2021-10-29T22:19:49.667Z"
   },
   {
    "duration": 5,
    "start_time": "2021-10-29T22:19:49.680Z"
   },
   {
    "duration": 921,
    "start_time": "2021-10-29T22:19:50.004Z"
   },
   {
    "duration": 230,
    "start_time": "2021-10-29T22:19:50.928Z"
   },
   {
    "duration": 204,
    "start_time": "2021-10-29T22:19:51.161Z"
   },
   {
    "duration": 7,
    "start_time": "2021-10-29T22:19:52.142Z"
   },
   {
    "duration": 18,
    "start_time": "2021-10-29T22:19:52.676Z"
   },
   {
    "duration": 11,
    "start_time": "2021-10-29T22:19:53.255Z"
   },
   {
    "duration": 33,
    "start_time": "2021-10-29T22:19:53.815Z"
   },
   {
    "duration": 35,
    "start_time": "2021-10-29T22:19:55.116Z"
   },
   {
    "duration": 2758,
    "start_time": "2021-10-29T22:19:55.679Z"
   },
   {
    "duration": 606,
    "start_time": "2021-10-29T22:19:58.440Z"
   },
   {
    "duration": 606,
    "start_time": "2021-10-29T22:19:59.049Z"
   },
   {
    "duration": 266,
    "start_time": "2021-10-29T22:19:59.657Z"
   },
   {
    "duration": 387,
    "start_time": "2021-10-29T22:19:59.926Z"
   },
   {
    "duration": 12,
    "start_time": "2021-10-29T22:20:00.323Z"
   },
   {
    "duration": 276,
    "start_time": "2021-10-29T22:20:00.338Z"
   },
   {
    "duration": 7,
    "start_time": "2021-10-29T22:20:04.176Z"
   },
   {
    "duration": 595,
    "start_time": "2021-10-29T22:20:04.751Z"
   },
   {
    "duration": 1507,
    "start_time": "2021-10-30T09:52:57.942Z"
   },
   {
    "duration": 87,
    "start_time": "2021-10-30T09:52:59.451Z"
   },
   {
    "duration": 49,
    "start_time": "2021-10-30T09:52:59.541Z"
   },
   {
    "duration": 14,
    "start_time": "2021-10-30T09:52:59.593Z"
   },
   {
    "duration": 128,
    "start_time": "2021-10-30T09:52:59.610Z"
   },
   {
    "duration": 10,
    "start_time": "2021-10-30T09:52:59.741Z"
   },
   {
    "duration": 28,
    "start_time": "2021-10-30T09:52:59.755Z"
   },
   {
    "duration": 11,
    "start_time": "2021-10-30T09:52:59.787Z"
   },
   {
    "duration": 7,
    "start_time": "2021-10-30T09:52:59.801Z"
   },
   {
    "duration": 6,
    "start_time": "2021-10-30T09:52:59.810Z"
   },
   {
    "duration": 6,
    "start_time": "2021-10-30T09:52:59.819Z"
   },
   {
    "duration": 100,
    "start_time": "2021-10-30T09:52:59.827Z"
   },
   {
    "duration": 378,
    "start_time": "2021-10-30T09:52:59.929Z"
   },
   {
    "duration": 347,
    "start_time": "2021-10-30T09:53:00.310Z"
   },
   {
    "duration": 392,
    "start_time": "2021-10-30T09:53:00.660Z"
   },
   {
    "duration": 346,
    "start_time": "2021-10-30T09:53:01.054Z"
   },
   {
    "duration": 37,
    "start_time": "2021-10-30T09:53:01.403Z"
   },
   {
    "duration": 54,
    "start_time": "2021-10-30T09:53:01.442Z"
   },
   {
    "duration": 6,
    "start_time": "2021-10-30T09:53:01.498Z"
   },
   {
    "duration": 13,
    "start_time": "2021-10-30T09:53:01.506Z"
   },
   {
    "duration": 34,
    "start_time": "2021-10-30T09:53:01.522Z"
   },
   {
    "duration": 12,
    "start_time": "2021-10-30T09:53:01.558Z"
   },
   {
    "duration": 10,
    "start_time": "2021-10-30T09:53:01.585Z"
   },
   {
    "duration": 342,
    "start_time": "2021-10-30T09:53:01.598Z"
   },
   {
    "duration": 6,
    "start_time": "2021-10-30T09:53:01.942Z"
   },
   {
    "duration": 14,
    "start_time": "2021-10-30T09:53:01.950Z"
   },
   {
    "duration": 6,
    "start_time": "2021-10-30T09:53:01.967Z"
   },
   {
    "duration": 67,
    "start_time": "2021-10-30T09:53:01.976Z"
   },
   {
    "duration": 55,
    "start_time": "2021-10-30T09:53:02.045Z"
   },
   {
    "duration": 4,
    "start_time": "2021-10-30T09:53:02.102Z"
   },
   {
    "duration": 1402,
    "start_time": "2021-10-30T09:53:02.109Z"
   },
   {
    "duration": 11,
    "start_time": "2021-10-30T09:53:03.513Z"
   },
   {
    "duration": 4,
    "start_time": "2021-10-30T09:53:03.527Z"
   },
   {
    "duration": 911,
    "start_time": "2021-10-30T09:53:03.533Z"
   },
   {
    "duration": 236,
    "start_time": "2021-10-30T09:53:04.446Z"
   },
   {
    "duration": 198,
    "start_time": "2021-10-30T09:53:04.684Z"
   },
   {
    "duration": 6,
    "start_time": "2021-10-30T09:53:04.884Z"
   },
   {
    "duration": 17,
    "start_time": "2021-10-30T09:53:04.892Z"
   },
   {
    "duration": 12,
    "start_time": "2021-10-30T09:53:04.911Z"
   },
   {
    "duration": 64,
    "start_time": "2021-10-30T09:53:04.926Z"
   },
   {
    "duration": 35,
    "start_time": "2021-10-30T09:53:04.993Z"
   },
   {
    "duration": 3173,
    "start_time": "2021-10-30T09:53:05.031Z"
   },
   {
    "duration": 620,
    "start_time": "2021-10-30T09:53:08.207Z"
   },
   {
    "duration": 616,
    "start_time": "2021-10-30T09:53:08.829Z"
   },
   {
    "duration": 261,
    "start_time": "2021-10-30T09:53:09.447Z"
   },
   {
    "duration": 401,
    "start_time": "2021-10-30T09:53:09.711Z"
   },
   {
    "duration": 11,
    "start_time": "2021-10-30T09:53:10.115Z"
   },
   {
    "duration": 257,
    "start_time": "2021-10-30T09:53:10.128Z"
   },
   {
    "duration": 7,
    "start_time": "2021-10-30T09:53:10.387Z"
   },
   {
    "duration": 603,
    "start_time": "2021-10-30T09:53:10.396Z"
   },
   {
    "duration": 488,
    "start_time": "2021-10-30T09:53:11.002Z"
   },
   {
    "duration": 572,
    "start_time": "2021-10-30T09:53:11.492Z"
   },
   {
    "duration": 463,
    "start_time": "2021-10-30T09:53:12.066Z"
   },
   {
    "duration": 6,
    "start_time": "2021-10-30T09:53:12.532Z"
   },
   {
    "duration": 370,
    "start_time": "2021-10-30T09:53:12.540Z"
   },
   {
    "duration": 304,
    "start_time": "2021-10-30T09:53:12.913Z"
   },
   {
    "duration": 283,
    "start_time": "2021-10-30T09:53:13.219Z"
   },
   {
    "duration": 266,
    "start_time": "2021-10-30T09:53:13.504Z"
   },
   {
    "duration": 487,
    "start_time": "2021-10-30T09:53:13.773Z"
   },
   {
    "duration": 9,
    "start_time": "2021-10-30T09:53:14.262Z"
   },
   {
    "duration": 1127,
    "start_time": "2021-10-30T09:53:14.282Z"
   },
   {
    "duration": 101,
    "start_time": "2021-10-30T09:53:15.412Z"
   },
   {
    "duration": 45,
    "start_time": "2021-10-30T09:53:15.516Z"
   },
   {
    "duration": 502,
    "start_time": "2021-10-30T09:53:15.564Z"
   },
   {
    "duration": 21,
    "start_time": "2021-10-30T09:53:16.069Z"
   },
   {
    "duration": 1816,
    "start_time": "2021-10-30T09:53:16.092Z"
   },
   {
    "duration": 9,
    "start_time": "2021-10-30T10:08:05.658Z"
   },
   {
    "duration": 1768,
    "start_time": "2021-10-31T11:24:58.852Z"
   },
   {
    "duration": 78,
    "start_time": "2021-10-31T11:25:00.622Z"
   },
   {
    "duration": 42,
    "start_time": "2021-10-31T11:25:21.833Z"
   },
   {
    "duration": 4670,
    "start_time": "2021-10-31T11:44:59.649Z"
   },
   {
    "duration": 3,
    "start_time": "2021-10-31T11:45:07.572Z"
   },
   {
    "duration": 72,
    "start_time": "2021-10-31T11:45:09.030Z"
   },
   {
    "duration": 25,
    "start_time": "2021-10-31T11:45:10.017Z"
   },
   {
    "duration": 13,
    "start_time": "2021-10-31T11:45:12.495Z"
   },
   {
    "duration": 69,
    "start_time": "2021-10-31T11:45:13.568Z"
   },
   {
    "duration": 9,
    "start_time": "2021-10-31T11:45:19.216Z"
   },
   {
    "duration": 6,
    "start_time": "2021-10-31T11:45:21.513Z"
   },
   {
    "duration": 9,
    "start_time": "2021-10-31T11:45:23.631Z"
   },
   {
    "duration": 5,
    "start_time": "2021-10-31T11:45:27.513Z"
   },
   {
    "duration": 5,
    "start_time": "2021-10-31T11:45:29.727Z"
   },
   {
    "duration": 5,
    "start_time": "2021-10-31T11:45:30.199Z"
   },
   {
    "duration": 4803,
    "start_time": "2021-10-31T11:45:30.784Z"
   },
   {
    "duration": 243,
    "start_time": "2021-10-31T11:46:44.711Z"
   },
   {
    "duration": 6316,
    "start_time": "2021-10-31T11:48:29.219Z"
   },
   {
    "duration": 5886,
    "start_time": "2021-10-31T11:48:46.603Z"
   },
   {
    "duration": 33,
    "start_time": "2021-10-31T11:49:48.572Z"
   },
   {
    "duration": 290,
    "start_time": "2021-10-31T11:50:12.827Z"
   },
   {
    "duration": 88,
    "start_time": "2021-10-31T11:50:20.448Z"
   },
   {
    "duration": 256,
    "start_time": "2021-10-31T11:50:27.360Z"
   },
   {
    "duration": 86,
    "start_time": "2021-10-31T11:51:03.144Z"
   },
   {
    "duration": 249,
    "start_time": "2021-10-31T11:51:11.246Z"
   },
   {
    "duration": 86,
    "start_time": "2021-10-31T11:51:27.455Z"
   },
   {
    "duration": 88,
    "start_time": "2021-10-31T11:51:33.135Z"
   },
   {
    "duration": 75,
    "start_time": "2021-10-31T11:51:47.366Z"
   },
   {
    "duration": 279,
    "start_time": "2021-10-31T11:51:59.334Z"
   },
   {
    "duration": 82,
    "start_time": "2021-10-31T11:52:02.822Z"
   },
   {
    "duration": 255,
    "start_time": "2021-10-31T11:52:08.006Z"
   },
   {
    "duration": 1742,
    "start_time": "2021-10-31T11:53:04.446Z"
   },
   {
    "duration": 1631,
    "start_time": "2021-10-31T11:53:58.204Z"
   },
   {
    "duration": 35,
    "start_time": "2021-10-31T11:54:10.115Z"
   },
   {
    "duration": 34,
    "start_time": "2021-10-31T11:54:22.754Z"
   },
   {
    "duration": 35,
    "start_time": "2021-10-31T11:54:30.690Z"
   },
   {
    "duration": 35,
    "start_time": "2021-10-31T11:54:34.058Z"
   },
   {
    "duration": 4967,
    "start_time": "2021-10-31T11:56:04.279Z"
   },
   {
    "duration": 41,
    "start_time": "2021-10-31T11:56:41.239Z"
   },
   {
    "duration": 33,
    "start_time": "2021-10-31T11:56:47.343Z"
   },
   {
    "duration": 33,
    "start_time": "2021-10-31T11:56:51.831Z"
   },
   {
    "duration": 31,
    "start_time": "2021-10-31T11:57:05.823Z"
   },
   {
    "duration": 216,
    "start_time": "2021-10-31T14:48:34.310Z"
   },
   {
    "duration": 247,
    "start_time": "2021-10-31T14:49:21.725Z"
   },
   {
    "duration": 251,
    "start_time": "2021-10-31T14:50:05.147Z"
   },
   {
    "duration": 345,
    "start_time": "2021-10-31T14:50:24.760Z"
   },
   {
    "duration": 238,
    "start_time": "2021-10-31T14:50:55.140Z"
   },
   {
    "duration": 94,
    "start_time": "2021-10-31T14:51:06.490Z"
   },
   {
    "duration": 228,
    "start_time": "2021-10-31T14:51:13.233Z"
   },
   {
    "duration": 78,
    "start_time": "2021-10-31T14:51:49.071Z"
   },
   {
    "duration": 219,
    "start_time": "2021-10-31T14:52:01.801Z"
   },
   {
    "duration": 239,
    "start_time": "2021-10-31T14:52:34.559Z"
   },
   {
    "duration": 213,
    "start_time": "2021-10-31T14:53:02.387Z"
   },
   {
    "duration": 10,
    "start_time": "2021-10-31T14:55:15.815Z"
   },
   {
    "duration": 8,
    "start_time": "2021-10-31T14:55:17.377Z"
   },
   {
    "duration": 89,
    "start_time": "2021-10-31T14:55:50.920Z"
   },
   {
    "duration": 241,
    "start_time": "2021-10-31T14:56:08.673Z"
   },
   {
    "duration": 263,
    "start_time": "2021-10-31T14:56:14.427Z"
   },
   {
    "duration": 263,
    "start_time": "2021-10-31T14:56:21.048Z"
   },
   {
    "duration": 257,
    "start_time": "2021-10-31T14:56:24.250Z"
   },
   {
    "duration": 96,
    "start_time": "2021-10-31T14:56:51.505Z"
   },
   {
    "duration": 618,
    "start_time": "2021-10-31T15:00:44.286Z"
   },
   {
    "duration": 261,
    "start_time": "2021-10-31T15:01:00.895Z"
   },
   {
    "duration": 463,
    "start_time": "2021-10-31T15:02:07.702Z"
   },
   {
    "duration": 455,
    "start_time": "2021-10-31T15:02:36.719Z"
   },
   {
    "duration": 465,
    "start_time": "2021-10-31T15:03:02.100Z"
   },
   {
    "duration": 77,
    "start_time": "2021-10-31T15:03:23.699Z"
   },
   {
    "duration": 474,
    "start_time": "2021-10-31T15:03:51.581Z"
   },
   {
    "duration": 401,
    "start_time": "2021-10-31T15:04:05.153Z"
   },
   {
    "duration": 683,
    "start_time": "2021-10-31T15:05:10.027Z"
   },
   {
    "duration": 229,
    "start_time": "2021-10-31T15:05:29.272Z"
   },
   {
    "duration": 625,
    "start_time": "2021-10-31T15:05:39.116Z"
   },
   {
    "duration": 229,
    "start_time": "2021-10-31T15:06:04.176Z"
   },
   {
    "duration": 230,
    "start_time": "2021-10-31T15:06:17.983Z"
   },
   {
    "duration": 221,
    "start_time": "2021-10-31T15:06:38.318Z"
   },
   {
    "duration": 224,
    "start_time": "2021-10-31T15:07:19.628Z"
   },
   {
    "duration": 209,
    "start_time": "2021-10-31T15:07:24.377Z"
   },
   {
    "duration": 220,
    "start_time": "2021-10-31T15:07:34.686Z"
   },
   {
    "duration": 83,
    "start_time": "2021-10-31T15:07:48.395Z"
   },
   {
    "duration": 236,
    "start_time": "2021-10-31T15:08:05.547Z"
   },
   {
    "duration": 231,
    "start_time": "2021-10-31T15:08:21.626Z"
   },
   {
    "duration": 305,
    "start_time": "2021-10-31T15:08:27.831Z"
   },
   {
    "duration": 243,
    "start_time": "2021-10-31T15:08:46.461Z"
   },
   {
    "duration": 422,
    "start_time": "2021-10-31T15:10:07.249Z"
   },
   {
    "duration": 457,
    "start_time": "2021-10-31T15:10:57.793Z"
   },
   {
    "duration": 372,
    "start_time": "2021-10-31T15:11:34.846Z"
   },
   {
    "duration": 295,
    "start_time": "2021-10-31T15:12:58.761Z"
   },
   {
    "duration": 88,
    "start_time": "2021-10-31T15:13:27.196Z"
   },
   {
    "duration": 162,
    "start_time": "2021-10-31T15:13:30.873Z"
   },
   {
    "duration": 185,
    "start_time": "2021-10-31T15:15:08.766Z"
   },
   {
    "duration": 187,
    "start_time": "2021-10-31T15:15:23.030Z"
   },
   {
    "duration": 451,
    "start_time": "2021-10-31T15:15:28.172Z"
   },
   {
    "duration": 254,
    "start_time": "2021-10-31T15:15:43.869Z"
   },
   {
    "duration": 616,
    "start_time": "2021-10-31T15:16:47.963Z"
   },
   {
    "duration": 615,
    "start_time": "2021-10-31T15:16:56.164Z"
   },
   {
    "duration": 400,
    "start_time": "2021-10-31T15:17:20.099Z"
   },
   {
    "duration": 247,
    "start_time": "2021-10-31T15:17:22.641Z"
   },
   {
    "duration": 1959,
    "start_time": "2021-10-31T15:17:28.617Z"
   },
   {
    "duration": 153,
    "start_time": "2021-10-31T15:17:43.434Z"
   },
   {
    "duration": 159,
    "start_time": "2021-10-31T15:17:54.897Z"
   },
   {
    "duration": 370,
    "start_time": "2021-10-31T15:25:26.747Z"
   },
   {
    "duration": 1122,
    "start_time": "2021-10-31T15:25:41.516Z"
   },
   {
    "duration": 74,
    "start_time": "2021-10-31T15:25:42.640Z"
   },
   {
    "duration": 29,
    "start_time": "2021-10-31T15:25:42.716Z"
   },
   {
    "duration": 26,
    "start_time": "2021-10-31T15:25:42.747Z"
   },
   {
    "duration": 70,
    "start_time": "2021-10-31T15:25:42.775Z"
   },
   {
    "duration": 21,
    "start_time": "2021-10-31T15:25:42.847Z"
   },
   {
    "duration": 8,
    "start_time": "2021-10-31T15:25:42.870Z"
   },
   {
    "duration": 8,
    "start_time": "2021-10-31T15:25:42.881Z"
   },
   {
    "duration": 5,
    "start_time": "2021-10-31T15:25:42.892Z"
   },
   {
    "duration": 7,
    "start_time": "2021-10-31T15:25:42.899Z"
   },
   {
    "duration": 7,
    "start_time": "2021-10-31T15:25:42.907Z"
   },
   {
    "duration": 72,
    "start_time": "2021-10-31T15:25:42.915Z"
   },
   {
    "duration": 258,
    "start_time": "2021-10-31T15:25:42.988Z"
   },
   {
    "duration": 221,
    "start_time": "2021-10-31T15:25:43.248Z"
   },
   {
    "duration": 228,
    "start_time": "2021-10-31T15:25:43.470Z"
   },
   {
    "duration": 244,
    "start_time": "2021-10-31T15:25:43.700Z"
   },
   {
    "duration": 37,
    "start_time": "2021-10-31T15:25:43.945Z"
   },
   {
    "duration": 23,
    "start_time": "2021-10-31T15:25:43.983Z"
   },
   {
    "duration": 5,
    "start_time": "2021-10-31T15:25:44.008Z"
   },
   {
    "duration": 11,
    "start_time": "2021-10-31T15:25:44.015Z"
   },
   {
    "duration": 55,
    "start_time": "2021-10-31T15:25:44.029Z"
   },
   {
    "duration": 11,
    "start_time": "2021-10-31T15:25:44.086Z"
   },
   {
    "duration": 9,
    "start_time": "2021-10-31T15:25:44.102Z"
   },
   {
    "duration": 249,
    "start_time": "2021-10-31T15:25:44.114Z"
   },
   {
    "duration": 4,
    "start_time": "2021-10-31T15:25:44.365Z"
   },
   {
    "duration": 8,
    "start_time": "2021-10-31T15:25:44.371Z"
   },
   {
    "duration": 6,
    "start_time": "2021-10-31T15:25:44.380Z"
   },
   {
    "duration": 50,
    "start_time": "2021-10-31T15:25:44.387Z"
   },
   {
    "duration": 19,
    "start_time": "2021-10-31T15:25:44.464Z"
   },
   {
    "duration": 3,
    "start_time": "2021-10-31T15:25:44.485Z"
   },
   {
    "duration": 767,
    "start_time": "2021-10-31T15:25:44.490Z"
   },
   {
    "duration": 11,
    "start_time": "2021-10-31T15:25:45.259Z"
   },
   {
    "duration": 4,
    "start_time": "2021-10-31T15:25:45.272Z"
   },
   {
    "duration": 552,
    "start_time": "2021-10-31T15:25:45.279Z"
   },
   {
    "duration": 11,
    "start_time": "2021-10-31T15:25:45.833Z"
   },
   {
    "duration": 21,
    "start_time": "2021-10-31T15:25:45.846Z"
   },
   {
    "duration": 78,
    "start_time": "2021-10-31T15:25:45.869Z"
   },
   {
    "duration": 19,
    "start_time": "2021-10-31T15:25:45.949Z"
   },
   {
    "duration": 15,
    "start_time": "2021-10-31T15:25:45.970Z"
   },
   {
    "duration": 9,
    "start_time": "2021-10-31T15:25:45.987Z"
   },
   {
    "duration": 22,
    "start_time": "2021-10-31T15:25:45.998Z"
   },
   {
    "duration": 56,
    "start_time": "2021-10-31T15:25:46.022Z"
   },
   {
    "duration": 1572,
    "start_time": "2021-10-31T15:25:46.080Z"
   },
   {
    "duration": 513,
    "start_time": "2021-10-31T15:25:47.655Z"
   },
   {
    "duration": 381,
    "start_time": "2021-10-31T15:25:48.170Z"
   },
   {
    "duration": 171,
    "start_time": "2021-10-31T15:25:48.553Z"
   },
   {
    "duration": 249,
    "start_time": "2021-10-31T15:25:48.726Z"
   },
   {
    "duration": 10,
    "start_time": "2021-10-31T15:25:48.978Z"
   },
   {
    "duration": 167,
    "start_time": "2021-10-31T15:25:48.990Z"
   },
   {
    "duration": 6,
    "start_time": "2021-10-31T15:25:49.159Z"
   },
   {
    "duration": 302,
    "start_time": "2021-10-31T15:25:49.167Z"
   },
   {
    "duration": 299,
    "start_time": "2021-10-31T15:25:49.471Z"
   },
   {
    "duration": 408,
    "start_time": "2021-10-31T15:25:49.772Z"
   },
   {
    "duration": 288,
    "start_time": "2021-10-31T15:25:50.182Z"
   },
   {
    "duration": 4,
    "start_time": "2021-10-31T15:25:50.471Z"
   },
   {
    "duration": 225,
    "start_time": "2021-10-31T15:25:50.477Z"
   },
   {
    "duration": 191,
    "start_time": "2021-10-31T15:25:50.704Z"
   },
   {
    "duration": 177,
    "start_time": "2021-10-31T15:25:50.896Z"
   },
   {
    "duration": 172,
    "start_time": "2021-10-31T15:25:51.074Z"
   },
   {
    "duration": 181,
    "start_time": "2021-10-31T15:25:51.247Z"
   },
   {
    "duration": 6,
    "start_time": "2021-10-31T15:25:51.430Z"
   },
   {
    "duration": 666,
    "start_time": "2021-10-31T15:25:51.437Z"
   },
   {
    "duration": 76,
    "start_time": "2021-10-31T15:25:52.104Z"
   },
   {
    "duration": 29,
    "start_time": "2021-10-31T15:25:52.182Z"
   },
   {
    "duration": 305,
    "start_time": "2021-10-31T15:25:52.213Z"
   },
   {
    "duration": 13,
    "start_time": "2021-10-31T15:25:52.519Z"
   },
   {
    "duration": 1252,
    "start_time": "2021-10-31T15:25:52.533Z"
   }
  ],
  "kernelspec": {
   "display_name": "Python 3 (ipykernel)",
   "language": "python",
   "name": "python3"
  },
  "language_info": {
   "codemirror_mode": {
    "name": "ipython",
    "version": 3
   },
   "file_extension": ".py",
   "mimetype": "text/x-python",
   "name": "python",
   "nbconvert_exporter": "python",
   "pygments_lexer": "ipython3",
   "version": "3.8.2"
  },
  "toc": {
   "base_numbering": 1,
   "nav_menu": {},
   "number_sections": true,
   "sideBar": true,
   "skip_h1_title": true,
   "title_cell": "Содержание",
   "title_sidebar": "Contents",
   "toc_cell": true,
   "toc_position": {
    "height": "calc(100% - 180px)",
    "left": "10px",
    "top": "150px",
    "width": "165px"
   },
   "toc_section_display": true,
   "toc_window_display": true
  }
 },
 "nbformat": 4,
 "nbformat_minor": 2
}
