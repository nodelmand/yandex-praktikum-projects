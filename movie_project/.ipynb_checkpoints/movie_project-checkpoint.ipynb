{
 "cells": [
  {
   "cell_type": "markdown",
   "metadata": {},
   "source": [
    "# Исследование данных о российском кинопрокате\n",
    "\n",
    "Заказчик этого исследования — Министерство культуры Российской Федерации.\n",
    "Нам нужно изучить рынок российского кинопроката и выявить текущие тренды. Уделим внимание фильмам, которые получили государственную поддержку. Попробуем ответить на вопрос, насколько такие фильмы интересны зрителю.\n",
    "Мы будем работать с данными, опубликованными на портале открытых данных Министерства культуры. Набор данных содержит информацию о прокатных удостоверениях, сборах и государственной поддержке фильмов, а также информацию с сайта КиноПоиск."
   ]
  },
  {
   "cell_type": "markdown",
   "metadata": {},
   "source": [
    "# Описание данных\n",
    "\n",
    "Таблица mkrf_movies содержит информацию из реестра прокатных удостоверений. У одного фильма может быть несколько прокатных удостоверений.\n",
    "- title — название фильма;\n",
    "- puNumber — номер прокатного удостоверения;\n",
    "- show_start_date — дата премьеры фильма;\n",
    "- type — тип фильма;\n",
    "- film_studio — студия-производитель;\n",
    "- production_country — страна-производитель;\n",
    "- director — режиссёр;\n",
    "- producer — продюсер;\n",
    "- age_restriction — возрастная категория;\n",
    "- refundable_support — объём возвратных средств государственной поддержки;\n",
    "- nonrefundable_support — объём невозвратных средств государственной поддержки;\n",
    "- financing_source — источник государственного финансирования;\n",
    "- budget — общий бюджет фильма;\n",
    "- ratings — рейтинг фильма на КиноПоиске;\n",
    "- genres — жанр фильма.\n",
    "\n",
    "\n",
    "Обратите внимание, что столбец budget уже включает в себя полный объём государственной поддержки. Данные в этом столбце указаны только для тех фильмов, которые получили государственную поддержку.\n",
    "Таблица mkrf_shows содержит сведения о показах фильмов в российских кинотеатрах.\n",
    "\n",
    "\n",
    "- puNumber — номер прокатного удостоверения;\n",
    "- box_office — сборы в рублях."
   ]
  },
  {
   "cell_type": "markdown",
   "metadata": {
    "toc": true
   },
   "source": [
    "<h1>Содержание<span class=\"tocSkip\"></span></h1>\n",
    "<div class=\"toc\"><ul class=\"toc-item\"><li><span><a href=\"#Исследование-данных-о-российском-кинопрокате\" data-toc-modified-id=\"Исследование-данных-о-российском-кинопрокате-1\"><span class=\"toc-item-num\">1&nbsp;&nbsp;</span>Исследование данных о российском кинопрокате</a></span><ul class=\"toc-item\"><li><span><a href=\"#Откроем-файлы-с-данными-и-объединим-их-в-один-датафрейм.\" data-toc-modified-id=\"Откроем-файлы-с-данными-и-объединим-их-в-один-датафрейм.-1.1\"><span class=\"toc-item-num\">1.1&nbsp;&nbsp;</span>Откроем файлы с данными и объединим их в один датафрейм.</a></span><ul class=\"toc-item\"><li><span><a href=\"#Импорт-библиотек.\" data-toc-modified-id=\"Импорт-библиотек.-1.1.1\"><span class=\"toc-item-num\">1.1.1&nbsp;&nbsp;</span>Импорт библиотек.</a></span></li><li><span><a href=\"#Прочитаем-файлы-и-сохраним-их-в-перменные.\" data-toc-modified-id=\"Прочитаем-файлы-и-сохраним-их-в-перменные.-1.1.2\"><span class=\"toc-item-num\">1.1.2&nbsp;&nbsp;</span>Прочитаем файлы и сохраним их в перменные.</a></span></li><li><span><a href=\"#Общая-информация-по-фреймам.\" data-toc-modified-id=\"Общая-информация-по-фреймам.-1.1.3\"><span class=\"toc-item-num\">1.1.3&nbsp;&nbsp;</span>Общая информация по фреймам.</a></span></li><li><span><a href=\"#Наблюдения-по-методам-info()-и-describe()\" data-toc-modified-id=\"Наблюдения-по-методам-info()-и-describe()-1.1.4\"><span class=\"toc-item-num\">1.1.4&nbsp;&nbsp;</span>Наблюдения по методам info() и describe()</a></span></li><li><span><a href=\"#Объединение-по-столбцу-puNumber.\" data-toc-modified-id=\"Объединение-по-столбцу-puNumber.-1.1.5\"><span class=\"toc-item-num\">1.1.5&nbsp;&nbsp;</span>Объединение по столбцу puNumber.</a></span></li><li><span><a href=\"#Вывод\" data-toc-modified-id=\"Вывод-1.1.6\"><span class=\"toc-item-num\">1.1.6&nbsp;&nbsp;</span>Вывод</a></span></li></ul></li><li><span><a href=\"#Шаг-2.-Предобработка-данных\" data-toc-modified-id=\"Шаг-2.-Предобработка-данных-1.2\"><span class=\"toc-item-num\">1.2&nbsp;&nbsp;</span>Шаг 2. Предобработка данных</a></span><ul class=\"toc-item\"><li><span><a href=\"#Стиль-заголовков.\" data-toc-modified-id=\"Стиль-заголовков.-1.2.1\"><span class=\"toc-item-num\">1.2.1&nbsp;&nbsp;</span>Стиль заголовков.</a></span></li><li><span><a href=\"#Шаг-2.1.-Проверьте-типы-данных\" data-toc-modified-id=\"Шаг-2.1.-Проверьте-типы-данных-1.2.2\"><span class=\"toc-item-num\">1.2.2&nbsp;&nbsp;</span>Шаг 2.1. Проверьте типы данных</a></span><ul class=\"toc-item\"><li><span><a href=\"#Наблюдения\" data-toc-modified-id=\"Наблюдения-1.2.2.1\"><span class=\"toc-item-num\">1.2.2.1&nbsp;&nbsp;</span>Наблюдения</a></span></li><li><span><a href=\"#box_office\" data-toc-modified-id=\"box_office-1.2.2.2\"><span class=\"toc-item-num\">1.2.2.2&nbsp;&nbsp;</span>box_office</a></span></li><li><span><a href=\"#raitings\" data-toc-modified-id=\"raitings-1.2.2.3\"><span class=\"toc-item-num\">1.2.2.3&nbsp;&nbsp;</span>raitings</a></span></li><li><span><a href=\"#realease_date\" data-toc-modified-id=\"realease_date-1.2.2.4\"><span class=\"toc-item-num\">1.2.2.4&nbsp;&nbsp;</span>realease_date</a></span></li><li><span><a href=\"#Вывод\" data-toc-modified-id=\"Вывод-1.2.2.5\"><span class=\"toc-item-num\">1.2.2.5&nbsp;&nbsp;</span>Вывод</a></span></li></ul></li></ul></li><li><span><a href=\"#Изучим-пропуски-в-датафрейме\" data-toc-modified-id=\"Изучим-пропуски-в-датафрейме-1.3\"><span class=\"toc-item-num\">1.3&nbsp;&nbsp;</span>Изучим пропуски в датафрейме</a></span><ul class=\"toc-item\"><li><ul class=\"toc-item\"><li><span><a href=\"#'production_country'\" data-toc-modified-id=\"'production_country'-1.3.0.1\"><span class=\"toc-item-num\">1.3.0.1&nbsp;&nbsp;</span>'production_country'</a></span></li><li><span><a href=\"#film_studio\" data-toc-modified-id=\"film_studio-1.3.0.2\"><span class=\"toc-item-num\">1.3.0.2&nbsp;&nbsp;</span>film_studio</a></span></li><li><span><a href=\"#producer\" data-toc-modified-id=\"producer-1.3.0.3\"><span class=\"toc-item-num\">1.3.0.3&nbsp;&nbsp;</span>producer</a></span></li><li><span><a href=\"#refundable_support,-nonrefundable_support,-budget,-financing_source\" data-toc-modified-id=\"refundable_support,-nonrefundable_support,-budget,-financing_source-1.3.0.4\"><span class=\"toc-item-num\">1.3.0.4&nbsp;&nbsp;</span>refundable_support, nonrefundable_support, budget, financing_source</a></span></li><li><span><a href=\"#genres\" data-toc-modified-id=\"genres-1.3.0.5\"><span class=\"toc-item-num\">1.3.0.5&nbsp;&nbsp;</span>genres</a></span></li><li><span><a href=\"#director\" data-toc-modified-id=\"director-1.3.0.6\"><span class=\"toc-item-num\">1.3.0.6&nbsp;&nbsp;</span>director</a></span></li><li><span><a href=\"#ratings\" data-toc-modified-id=\"ratings-1.3.0.7\"><span class=\"toc-item-num\">1.3.0.7&nbsp;&nbsp;</span>ratings</a></span></li><li><span><a href=\"#Вывод\" data-toc-modified-id=\"Вывод-1.3.0.8\"><span class=\"toc-item-num\">1.3.0.8&nbsp;&nbsp;</span>Вывод</a></span></li></ul></li><li><span><a href=\"#Изучим-дубликаты-в-датафрейме\" data-toc-modified-id=\"Изучим-дубликаты-в-датафрейме-1.3.1\"><span class=\"toc-item-num\">1.3.1&nbsp;&nbsp;</span>Изучим дубликаты в датафрейме</a></span><ul class=\"toc-item\"><li><span><a href=\"#Явные-дубликаты\" data-toc-modified-id=\"Явные-дубликаты-1.3.1.1\"><span class=\"toc-item-num\">1.3.1.1&nbsp;&nbsp;</span>Явные дубликаты</a></span></li><li><span><a href=\"#Вывод\" data-toc-modified-id=\"Вывод-1.3.1.2\"><span class=\"toc-item-num\">1.3.1.2&nbsp;&nbsp;</span>Вывод</a></span></li></ul></li><li><span><a href=\"#Изучим-категориальные-значения\" data-toc-modified-id=\"Изучим-категориальные-значения-1.3.2\"><span class=\"toc-item-num\">1.3.2&nbsp;&nbsp;</span>Изучим категориальные значения</a></span><ul class=\"toc-item\"><li><span><a href=\"#Вывод\" data-toc-modified-id=\"Вывод-1.3.2.1\"><span class=\"toc-item-num\">1.3.2.1&nbsp;&nbsp;</span>Вывод</a></span></li></ul></li><li><span><a href=\"#Проверим-количественные-значения\" data-toc-modified-id=\"Проверим-количественные-значения-1.3.3\"><span class=\"toc-item-num\">1.3.3&nbsp;&nbsp;</span>Проверим количественные значения</a></span><ul class=\"toc-item\"><li><span><a href=\"#Обзор-столбцов\" data-toc-modified-id=\"Обзор-столбцов-1.3.3.1\"><span class=\"toc-item-num\">1.3.3.1&nbsp;&nbsp;</span>Обзор столбцов</a></span></li><li><span><a href=\"#Замена-на-суммарную-гос-поддержку.\" data-toc-modified-id=\"Замена-на-суммарную-гос-поддержку.-1.3.3.2\"><span class=\"toc-item-num\">1.3.3.2&nbsp;&nbsp;</span>Замена на суммарную гос поддержку.</a></span></li><li><span><a href=\"#Вывод\" data-toc-modified-id=\"Вывод-1.3.3.3\"><span class=\"toc-item-num\">1.3.3.3&nbsp;&nbsp;</span>Вывод</a></span></li></ul></li><li><span><a href=\"#Добавим-новые-столбцы.\" data-toc-modified-id=\"Добавим-новые-столбцы.-1.3.4\"><span class=\"toc-item-num\">1.3.4&nbsp;&nbsp;</span>Добавим новые столбцы.</a></span><ul class=\"toc-item\"><li><span><a href=\"#Год-проката\" data-toc-modified-id=\"Год-проката-1.3.4.1\"><span class=\"toc-item-num\">1.3.4.1&nbsp;&nbsp;</span>Год проката</a></span></li><li><span><a href=\"#Главный-режиссер,-основной-жанр\" data-toc-modified-id=\"Главный-режиссер,-основной-жанр-1.3.4.2\"><span class=\"toc-item-num\">1.3.4.2&nbsp;&nbsp;</span>Главный режиссер, основной жанр</a></span></li><li><span><a href=\"#Доля-бюджета\" data-toc-modified-id=\"Доля-бюджета-1.3.4.3\"><span class=\"toc-item-num\">1.3.4.3&nbsp;&nbsp;</span>Доля бюджета</a></span></li><li><span><a href=\"#Вывод\" data-toc-modified-id=\"Вывод-1.3.4.4\"><span class=\"toc-item-num\">1.3.4.4&nbsp;&nbsp;</span>Вывод</a></span></li></ul></li></ul></li><li><span><a href=\"#Проведем-исследовательский-анализ-данных\" data-toc-modified-id=\"Проведем-исследовательский-анализ-данных-1.4\"><span class=\"toc-item-num\">1.4&nbsp;&nbsp;</span>Проведем исследовательский анализ данных</a></span><ul class=\"toc-item\"><li><ul class=\"toc-item\"><li><span><a href=\"#Столбчатый-график.-Количество-фильмов.\" data-toc-modified-id=\"Столбчатый-график.-Количество-фильмов.-1.4.0.1\"><span class=\"toc-item-num\">1.4.0.1&nbsp;&nbsp;</span>Столбчатый график. Количество фильмов.</a></span></li><li><span><a href=\"#Вывод\" data-toc-modified-id=\"Вывод-1.4.0.2\"><span class=\"toc-item-num\">1.4.0.2&nbsp;&nbsp;</span>Вывод</a></span></li><li><span><a href=\"#Столбчатый-график.-Динамика-проката-по-годам.\" data-toc-modified-id=\"Столбчатый-график.-Динамика-проката-по-годам.-1.4.0.3\"><span class=\"toc-item-num\">1.4.0.3&nbsp;&nbsp;</span>Столбчатый график. Динамика проката по годам.</a></span></li><li><span><a href=\"#Выводы\" data-toc-modified-id=\"Выводы-1.4.0.4\"><span class=\"toc-item-num\">1.4.0.4&nbsp;&nbsp;</span>Выводы</a></span></li><li><span><a href=\"#Средняя-и-медианная-сумма-сборов-для-каждого-года.\" data-toc-modified-id=\"Средняя-и-медианная-сумма-сборов-для-каждого-года.-1.4.0.5\"><span class=\"toc-item-num\">1.4.0.5&nbsp;&nbsp;</span>Средняя и медианная сумма сборов для каждого года.</a></span></li><li><span><a href=\"#Вывод\" data-toc-modified-id=\"Вывод-1.4.0.6\"><span class=\"toc-item-num\">1.4.0.6&nbsp;&nbsp;</span>Вывод</a></span></li><li><span><a href=\"#Влияние-возратсных-ограничений-на-прокат.\" data-toc-modified-id=\"Влияние-возратсных-ограничений-на-прокат.-1.4.0.7\"><span class=\"toc-item-num\">1.4.0.7&nbsp;&nbsp;</span>Влияние возратсных ограничений на прокат.</a></span></li><li><span><a href=\"#Вывод.\" data-toc-modified-id=\"Вывод.-1.4.0.8\"><span class=\"toc-item-num\">1.4.0.8&nbsp;&nbsp;</span>Вывод.</a></span></li></ul></li></ul></li><li><span><a href=\"#Исследуем-фильмы,-которые-получили-государственную-поддержку\" data-toc-modified-id=\"Исследуем-фильмы,-которые-получили-государственную-поддержку-1.5\"><span class=\"toc-item-num\">1.5&nbsp;&nbsp;</span>Исследуем фильмы, которые получили государственную поддержку</a></span><ul class=\"toc-item\"><li><ul class=\"toc-item\"><li><span><a href=\"#План-действий.\" data-toc-modified-id=\"План-действий.-1.5.0.1\"><span class=\"toc-item-num\">1.5.0.1&nbsp;&nbsp;</span>План действий.</a></span></li><li><span><a href=\"#Вывод\" data-toc-modified-id=\"Вывод-1.5.0.2\"><span class=\"toc-item-num\">1.5.0.2&nbsp;&nbsp;</span>Вывод</a></span></li></ul></li></ul></li><li><span><a href=\"#Общий-вывод\" data-toc-modified-id=\"Общий-вывод-1.6\"><span class=\"toc-item-num\">1.6&nbsp;&nbsp;</span>Общий вывод</a></span></li></ul></li></ul></div>"
   ]
  },
  {
   "cell_type": "markdown",
   "metadata": {
    "id": "sIfNaMOxgFyK"
   },
   "source": [
    "## Исследование данных о российском кинопрокате\n",
    "\n"
   ]
  },
  {
   "cell_type": "markdown",
   "metadata": {
    "id": "3bSlkCsbgFyL"
   },
   "source": [
    "### Откроем файлы с данными и объединим их в один датафрейм. \n",
    "\n"
   ]
  },
  {
   "cell_type": "markdown",
   "metadata": {},
   "source": [
    "#### Импорт библиотек."
   ]
  },
  {
   "cell_type": "markdown",
   "metadata": {},
   "source": [
    "Импортируем библиотеки для работы с данными, обозначим некоторые из них за переменные."
   ]
  },
  {
   "cell_type": "code",
   "execution_count": 1,
   "metadata": {},
   "outputs": [],
   "source": [
    "# Импортируем библиотеки и обозначим их за переменные.\n",
    "import pandas as pd\n",
    "import matplotlib.pyplot as plt\n",
    "import seaborn as sb\n",
    "# Отключаем предупреждения.\n",
    "import warnings\n",
    "warnings.filterwarnings('ignore')"
   ]
  },
  {
   "cell_type": "markdown",
   "metadata": {},
   "source": [
    "#### Прочитаем файлы и сохраним их в перменные."
   ]
  },
  {
   "cell_type": "code",
   "execution_count": 2,
   "metadata": {},
   "outputs": [],
   "source": [
    "path_to_db = '/users/danielnodelman/yandex_ds/yandex_projects/movie_project/'\n",
    "\n",
    "\n",
    "mkrf_movies = pd.read_csv(path_to_db+'mkrf_movies.csv')\n",
    "mkrf_shows = pd.read_csv(path_to_db+'mkrf_shows.csv')"
   ]
  },
  {
   "cell_type": "markdown",
   "metadata": {},
   "source": [
    "#### Общая информация по фреймам."
   ]
  },
  {
   "cell_type": "markdown",
   "metadata": {},
   "source": [
    "Выведем общую информацию по таблицам, используя методы info() и describe()."
   ]
  },
  {
   "cell_type": "code",
   "execution_count": 3,
   "metadata": {
    "scrolled": false
   },
   "outputs": [
    {
     "name": "stdout",
     "output_type": "stream",
     "text": [
      "<class 'pandas.core.frame.DataFrame'>\n",
      "RangeIndex: 7486 entries, 0 to 7485\n",
      "Data columns (total 15 columns):\n",
      " #   Column                 Non-Null Count  Dtype  \n",
      "---  ------                 --------------  -----  \n",
      " 0   title                  7486 non-null   object \n",
      " 1   puNumber               7486 non-null   object \n",
      " 2   show_start_date        7486 non-null   object \n",
      " 3   type                   7486 non-null   object \n",
      " 4   film_studio            7468 non-null   object \n",
      " 5   production_country     7484 non-null   object \n",
      " 6   director               7477 non-null   object \n",
      " 7   producer               6918 non-null   object \n",
      " 8   age_restriction        7486 non-null   object \n",
      " 9   refundable_support     332 non-null    float64\n",
      " 10  nonrefundable_support  332 non-null    float64\n",
      " 11  budget                 332 non-null    float64\n",
      " 12  financing_source       332 non-null    object \n",
      " 13  ratings                6519 non-null   object \n",
      " 14  genres                 6510 non-null   object \n",
      "dtypes: float64(3), object(12)\n",
      "memory usage: 877.4+ KB\n"
     ]
    },
    {
     "data": {
      "text/html": [
       "<div>\n",
       "<style scoped>\n",
       "    .dataframe tbody tr th:only-of-type {\n",
       "        vertical-align: middle;\n",
       "    }\n",
       "\n",
       "    .dataframe tbody tr th {\n",
       "        vertical-align: top;\n",
       "    }\n",
       "\n",
       "    .dataframe thead th {\n",
       "        text-align: right;\n",
       "    }\n",
       "</style>\n",
       "<table border=\"1\" class=\"dataframe\">\n",
       "  <thead>\n",
       "    <tr style=\"text-align: right;\">\n",
       "      <th></th>\n",
       "      <th>refundable_support</th>\n",
       "      <th>nonrefundable_support</th>\n",
       "      <th>budget</th>\n",
       "    </tr>\n",
       "  </thead>\n",
       "  <tbody>\n",
       "    <tr>\n",
       "      <th>count</th>\n",
       "      <td>3.320000e+02</td>\n",
       "      <td>3.320000e+02</td>\n",
       "      <td>3.320000e+02</td>\n",
       "    </tr>\n",
       "    <tr>\n",
       "      <th>mean</th>\n",
       "      <td>1.186446e+07</td>\n",
       "      <td>4.898099e+07</td>\n",
       "      <td>1.272297e+08</td>\n",
       "    </tr>\n",
       "    <tr>\n",
       "      <th>std</th>\n",
       "      <td>2.491656e+07</td>\n",
       "      <td>5.998012e+07</td>\n",
       "      <td>1.885883e+08</td>\n",
       "    </tr>\n",
       "    <tr>\n",
       "      <th>min</th>\n",
       "      <td>0.000000e+00</td>\n",
       "      <td>0.000000e+00</td>\n",
       "      <td>0.000000e+00</td>\n",
       "    </tr>\n",
       "    <tr>\n",
       "      <th>25%</th>\n",
       "      <td>0.000000e+00</td>\n",
       "      <td>2.500000e+07</td>\n",
       "      <td>4.200000e+07</td>\n",
       "    </tr>\n",
       "    <tr>\n",
       "      <th>50%</th>\n",
       "      <td>0.000000e+00</td>\n",
       "      <td>3.000000e+07</td>\n",
       "      <td>6.864992e+07</td>\n",
       "    </tr>\n",
       "    <tr>\n",
       "      <th>75%</th>\n",
       "      <td>1.500000e+07</td>\n",
       "      <td>4.037500e+07</td>\n",
       "      <td>1.419853e+08</td>\n",
       "    </tr>\n",
       "    <tr>\n",
       "      <th>max</th>\n",
       "      <td>1.800000e+08</td>\n",
       "      <td>4.000000e+08</td>\n",
       "      <td>2.305074e+09</td>\n",
       "    </tr>\n",
       "  </tbody>\n",
       "</table>\n",
       "</div>"
      ],
      "text/plain": [
       "       refundable_support  nonrefundable_support        budget\n",
       "count        3.320000e+02           3.320000e+02  3.320000e+02\n",
       "mean         1.186446e+07           4.898099e+07  1.272297e+08\n",
       "std          2.491656e+07           5.998012e+07  1.885883e+08\n",
       "min          0.000000e+00           0.000000e+00  0.000000e+00\n",
       "25%          0.000000e+00           2.500000e+07  4.200000e+07\n",
       "50%          0.000000e+00           3.000000e+07  6.864992e+07\n",
       "75%          1.500000e+07           4.037500e+07  1.419853e+08\n",
       "max          1.800000e+08           4.000000e+08  2.305074e+09"
      ]
     },
     "execution_count": 3,
     "metadata": {},
     "output_type": "execute_result"
    }
   ],
   "source": [
    "# Таблица mkrf_movies\n",
    "mkrf_movies.info()\n",
    "mkrf_movies.describe()"
   ]
  },
  {
   "cell_type": "code",
   "execution_count": 4,
   "metadata": {},
   "outputs": [
    {
     "name": "stdout",
     "output_type": "stream",
     "text": [
      "<class 'pandas.core.frame.DataFrame'>\n",
      "RangeIndex: 3158 entries, 0 to 3157\n",
      "Data columns (total 2 columns):\n",
      " #   Column      Non-Null Count  Dtype  \n",
      "---  ------      --------------  -----  \n",
      " 0   puNumber    3158 non-null   int64  \n",
      " 1   box_office  3158 non-null   float64\n",
      "dtypes: float64(1), int64(1)\n",
      "memory usage: 49.5 KB\n"
     ]
    },
    {
     "data": {
      "text/html": [
       "<div>\n",
       "<style scoped>\n",
       "    .dataframe tbody tr th:only-of-type {\n",
       "        vertical-align: middle;\n",
       "    }\n",
       "\n",
       "    .dataframe tbody tr th {\n",
       "        vertical-align: top;\n",
       "    }\n",
       "\n",
       "    .dataframe thead th {\n",
       "        text-align: right;\n",
       "    }\n",
       "</style>\n",
       "<table border=\"1\" class=\"dataframe\">\n",
       "  <thead>\n",
       "    <tr style=\"text-align: right;\">\n",
       "      <th></th>\n",
       "      <th>puNumber</th>\n",
       "      <th>box_office</th>\n",
       "    </tr>\n",
       "  </thead>\n",
       "  <tbody>\n",
       "    <tr>\n",
       "      <th>count</th>\n",
       "      <td>3.158000e+03</td>\n",
       "      <td>3.158000e+03</td>\n",
       "    </tr>\n",
       "    <tr>\n",
       "      <th>mean</th>\n",
       "      <td>1.201875e+08</td>\n",
       "      <td>7.647870e+07</td>\n",
       "    </tr>\n",
       "    <tr>\n",
       "      <th>std</th>\n",
       "      <td>1.238394e+07</td>\n",
       "      <td>2.403531e+08</td>\n",
       "    </tr>\n",
       "    <tr>\n",
       "      <th>min</th>\n",
       "      <td>1.110001e+08</td>\n",
       "      <td>0.000000e+00</td>\n",
       "    </tr>\n",
       "    <tr>\n",
       "      <th>25%</th>\n",
       "      <td>1.130002e+08</td>\n",
       "      <td>8.623900e+04</td>\n",
       "    </tr>\n",
       "    <tr>\n",
       "      <th>50%</th>\n",
       "      <td>1.210131e+08</td>\n",
       "      <td>2.327988e+06</td>\n",
       "    </tr>\n",
       "    <tr>\n",
       "      <th>75%</th>\n",
       "      <td>1.210283e+08</td>\n",
       "      <td>2.397967e+07</td>\n",
       "    </tr>\n",
       "    <tr>\n",
       "      <th>max</th>\n",
       "      <td>2.240264e+08</td>\n",
       "      <td>3.073569e+09</td>\n",
       "    </tr>\n",
       "  </tbody>\n",
       "</table>\n",
       "</div>"
      ],
      "text/plain": [
       "           puNumber    box_office\n",
       "count  3.158000e+03  3.158000e+03\n",
       "mean   1.201875e+08  7.647870e+07\n",
       "std    1.238394e+07  2.403531e+08\n",
       "min    1.110001e+08  0.000000e+00\n",
       "25%    1.130002e+08  8.623900e+04\n",
       "50%    1.210131e+08  2.327988e+06\n",
       "75%    1.210283e+08  2.397967e+07\n",
       "max    2.240264e+08  3.073569e+09"
      ]
     },
     "execution_count": 4,
     "metadata": {},
     "output_type": "execute_result"
    }
   ],
   "source": [
    "# Таблица mkrf_shows\n",
    "mkrf_shows.info()\n",
    "mkrf_shows.describe()"
   ]
  },
  {
   "cell_type": "markdown",
   "metadata": {},
   "source": [
    "#### Наблюдения по методам info() и describe()"
   ]
  },
  {
   "cell_type": "markdown",
   "metadata": {},
   "source": [
    "- 7485 значений в mkrf_movies, 3158 значений в mkrf_shows - количество не совпадает.\n",
    "- В mkrf_movies много пропущенных значений.\n",
    "- таблицы объединим по стобцу puNumber, который встречается в обеих таблицах()\n",
    "- В таблицах столбец puNumber имеет разный тип данных."
   ]
  },
  {
   "cell_type": "markdown",
   "metadata": {},
   "source": [
    "#### Объединение по столбцу puNumber."
   ]
  },
  {
   "cell_type": "markdown",
   "metadata": {},
   "source": [
    "Объединение будем производить по столбцу puNumber, который присутсвует в обоих таблицах. Нужно изменить тип данных на int() в этом столбце, чтобы соединить между собой таблицы (тип данных должен быть одинаковым в обеих таблицах). Изучим данные внутри столбца при помощи метода sort_values()"
   ]
  },
  {
   "cell_type": "code",
   "execution_count": 5,
   "metadata": {},
   "outputs": [
    {
     "data": {
      "text/plain": [
       "804      111004112\n",
       "3962     111000110\n",
       "4768     111000111\n",
       "729      111000112\n",
       "1128     111000113\n",
       "           ...    \n",
       "4355     226017410\n",
       "3992     226019110\n",
       "1011     231001012\n",
       "5249     231001111\n",
       "1797           нет\n",
       "Name: puNumber, Length: 7486, dtype: object"
      ]
     },
     "execution_count": 5,
     "metadata": {},
     "output_type": "execute_result"
    }
   ],
   "source": [
    "mkrf_movies['puNumber'].sort_values()"
   ]
  },
  {
   "cell_type": "markdown",
   "metadata": {},
   "source": [
    "Мы обнаружилили значение, которое является ошибкой. Это слово 'нет' в строке 1797. Это значение помешает нам привести данные к типу int()"
   ]
  },
  {
   "cell_type": "markdown",
   "metadata": {},
   "source": [
    "Давайте посмотрим, что это за строка"
   ]
  },
  {
   "cell_type": "code",
   "execution_count": 6,
   "metadata": {
    "scrolled": true
   },
   "outputs": [
    {
     "data": {
      "text/html": [
       "<div>\n",
       "<style scoped>\n",
       "    .dataframe tbody tr th:only-of-type {\n",
       "        vertical-align: middle;\n",
       "    }\n",
       "\n",
       "    .dataframe tbody tr th {\n",
       "        vertical-align: top;\n",
       "    }\n",
       "\n",
       "    .dataframe thead th {\n",
       "        text-align: right;\n",
       "    }\n",
       "</style>\n",
       "<table border=\"1\" class=\"dataframe\">\n",
       "  <thead>\n",
       "    <tr style=\"text-align: right;\">\n",
       "      <th></th>\n",
       "      <th>title</th>\n",
       "      <th>puNumber</th>\n",
       "      <th>show_start_date</th>\n",
       "      <th>type</th>\n",
       "      <th>film_studio</th>\n",
       "      <th>production_country</th>\n",
       "      <th>director</th>\n",
       "      <th>producer</th>\n",
       "      <th>age_restriction</th>\n",
       "      <th>refundable_support</th>\n",
       "      <th>nonrefundable_support</th>\n",
       "      <th>budget</th>\n",
       "      <th>financing_source</th>\n",
       "      <th>ratings</th>\n",
       "      <th>genres</th>\n",
       "    </tr>\n",
       "  </thead>\n",
       "  <tbody>\n",
       "    <tr>\n",
       "      <th>1797</th>\n",
       "      <td>Курбан-роман. (История с жертвой)</td>\n",
       "      <td>нет</td>\n",
       "      <td>2014-05-15T12:00:00.000Z</td>\n",
       "      <td>Художественный</td>\n",
       "      <td>ФОНД \"ИННОВАЦИЯ\"</td>\n",
       "      <td>Россия</td>\n",
       "      <td>С.Юзеев</td>\n",
       "      <td>М.Галицкая</td>\n",
       "      <td>«12+» - для детей старше 12 лет</td>\n",
       "      <td>NaN</td>\n",
       "      <td>NaN</td>\n",
       "      <td>NaN</td>\n",
       "      <td>NaN</td>\n",
       "      <td>NaN</td>\n",
       "      <td>NaN</td>\n",
       "    </tr>\n",
       "  </tbody>\n",
       "</table>\n",
       "</div>"
      ],
      "text/plain": [
       "                                  title puNumber           show_start_date  \\\n",
       "1797  Курбан-роман. (История с жертвой)      нет  2014-05-15T12:00:00.000Z   \n",
       "\n",
       "                type       film_studio production_country director  \\\n",
       "1797  Художественный  ФОНД \"ИННОВАЦИЯ\"             Россия  С.Юзеев   \n",
       "\n",
       "        producer                  age_restriction  refundable_support  \\\n",
       "1797  М.Галицкая  «12+» - для детей старше 12 лет                 NaN   \n",
       "\n",
       "      nonrefundable_support  budget financing_source ratings genres  \n",
       "1797                    NaN     NaN              NaN     NaN    NaN  "
      ]
     },
     "execution_count": 6,
     "metadata": {},
     "output_type": "execute_result"
    }
   ],
   "source": [
    "mkrf_movies.loc[mkrf_movies['puNumber'] == 'нет']"
   ]
  },
  {
   "cell_type": "markdown",
   "metadata": {},
   "source": [
    "Нужно проконсультироваться с коллегами. Если они не смогут предоставить нам номер прокатного удостоверения, на этом этапе удалим эту строку, чтобы можно было изменить тип данных и продолжить исследование. \n",
    "\n",
    "**Еще один вариант - в условии метода pd.to_numeric() прописать errors='coerce'. Этот параметр заменит значение на NaN.**"
   ]
  },
  {
   "cell_type": "code",
   "execution_count": 7,
   "metadata": {},
   "outputs": [],
   "source": [
    "# Удаление строки.\n",
    "mkrf_movies = mkrf_movies.drop(mkrf_movies.index[1797])"
   ]
  },
  {
   "cell_type": "markdown",
   "metadata": {},
   "source": [
    "Строка удалена, *либо* заменена на NaN. Теперь можно изменить тип данных на int и объединить таблицы. Новый датафрей обозначим за переменную df."
   ]
  },
  {
   "cell_type": "code",
   "execution_count": 8,
   "metadata": {},
   "outputs": [],
   "source": [
    "# Строка 1797 имеет NaN значение в новом датафрейме.\n",
    "#mkrf_movies['puNumber'] = pd.to_numeric(mkrf_movies['puNumber'],errors='coerce')\n",
    "# Строка 1797 удалена\n",
    "mkrf_movies['puNumber'] = pd.to_numeric(mkrf_movies['puNumber'])\n",
    "# Объединяем таблицы методом merge()\n",
    "df = mkrf_movies.merge(mkrf_shows, on = 'puNumber', how = 'outer')"
   ]
  },
  {
   "cell_type": "code",
   "execution_count": 9,
   "metadata": {
    "scrolled": true
   },
   "outputs": [
    {
     "name": "stdout",
     "output_type": "stream",
     "text": [
      "<class 'pandas.core.frame.DataFrame'>\n",
      "Int64Index: 7485 entries, 0 to 7484\n",
      "Data columns (total 16 columns):\n",
      " #   Column                 Non-Null Count  Dtype  \n",
      "---  ------                 --------------  -----  \n",
      " 0   title                  7485 non-null   object \n",
      " 1   puNumber               7485 non-null   int64  \n",
      " 2   show_start_date        7485 non-null   object \n",
      " 3   type                   7485 non-null   object \n",
      " 4   film_studio            7467 non-null   object \n",
      " 5   production_country     7483 non-null   object \n",
      " 6   director               7476 non-null   object \n",
      " 7   producer               6917 non-null   object \n",
      " 8   age_restriction        7485 non-null   object \n",
      " 9   refundable_support     332 non-null    float64\n",
      " 10  nonrefundable_support  332 non-null    float64\n",
      " 11  budget                 332 non-null    float64\n",
      " 12  financing_source       332 non-null    object \n",
      " 13  ratings                6519 non-null   object \n",
      " 14  genres                 6510 non-null   object \n",
      " 15  box_office             3158 non-null   float64\n",
      "dtypes: float64(4), int64(1), object(11)\n",
      "memory usage: 994.1+ KB\n"
     ]
    }
   ],
   "source": [
    "# Выводим информацию о новом датафрейме\n",
    "df.info()"
   ]
  },
  {
   "cell_type": "markdown",
   "metadata": {},
   "source": [
    "#### Вывод\n",
    "- Поменяли тип данных в столбце puNumber на int.\n",
    "- Строка 1797 *либо* удалена, *либо* имеет значение NaN\n",
    "- Мы объедини две таблицы по столбцу puNumber в одну, обозначили ее под переменной df. \n",
    "- В таблице 7485 строк, 16 столбцов. \n",
    "- В таблице есть множество пропущенных значений.  "
   ]
  },
  {
   "cell_type": "markdown",
   "metadata": {
    "id": "KLDGpPG0gFyM"
   },
   "source": [
    "### Шаг 2. Предобработка данных"
   ]
  },
  {
   "cell_type": "markdown",
   "metadata": {},
   "source": [
    "#### Стиль заголовков."
   ]
  },
  {
   "cell_type": "markdown",
   "metadata": {},
   "source": [
    "Посмотрим на названия заголовков, приведем их к единому стилю написания."
   ]
  },
  {
   "cell_type": "code",
   "execution_count": 10,
   "metadata": {},
   "outputs": [
    {
     "data": {
      "text/plain": [
       "Index(['title', 'puNumber', 'show_start_date', 'type', 'film_studio',\n",
       "       'production_country', 'director', 'producer', 'age_restriction',\n",
       "       'refundable_support', 'nonrefundable_support', 'budget',\n",
       "       'financing_source', 'ratings', 'genres', 'box_office'],\n",
       "      dtype='object')"
      ]
     },
     "execution_count": 10,
     "metadata": {},
     "output_type": "execute_result"
    }
   ],
   "source": [
    "# Выводим заголовки\n",
    "df.columns"
   ]
  },
  {
   "cell_type": "markdown",
   "metadata": {},
   "source": [
    "Имя столбца 'puNumber' приведем к 'змеиному регистру'. Так же поменяем названия столбцов для удобства их воспрития:\n",
    "\n",
    "- 'title' заменим на 'movie_title'.\n",
    "- 'show_start_date' заменим на 'release_date'.\n",
    "- 'type'заменим на 'movie_type'."
   ]
  },
  {
   "cell_type": "code",
   "execution_count": 11,
   "metadata": {},
   "outputs": [],
   "source": [
    "# Применим метод rename к названиям столбцов.\n",
    "df = df.rename(columns={\n",
    "    'title': 'movie_title',\n",
    "    'puNumber': 'pu_number',\n",
    "    'show_start_date': 'release_date',\n",
    "    'type': 'movie_type',\n",
    "})"
   ]
  },
  {
   "cell_type": "markdown",
   "metadata": {
    "id": "ssWwKXsxgFyO"
   },
   "source": [
    "#### Шаг 2.1. Проверьте типы данных\n",
    "\n",
    "- Проверьте типы данных в датафрейме и преобразуйте их там, где это необходимо."
   ]
  },
  {
   "cell_type": "markdown",
   "metadata": {},
   "source": [
    "Выведем общую информацию по df()."
   ]
  },
  {
   "cell_type": "code",
   "execution_count": 12,
   "metadata": {
    "id": "kVGSplJOgFyO",
    "scrolled": true
   },
   "outputs": [
    {
     "name": "stdout",
     "output_type": "stream",
     "text": [
      "<class 'pandas.core.frame.DataFrame'>\n",
      "Int64Index: 7485 entries, 0 to 7484\n",
      "Data columns (total 16 columns):\n",
      " #   Column                 Non-Null Count  Dtype  \n",
      "---  ------                 --------------  -----  \n",
      " 0   movie_title            7485 non-null   object \n",
      " 1   pu_number              7485 non-null   int64  \n",
      " 2   release_date           7485 non-null   object \n",
      " 3   movie_type             7485 non-null   object \n",
      " 4   film_studio            7467 non-null   object \n",
      " 5   production_country     7483 non-null   object \n",
      " 6   director               7476 non-null   object \n",
      " 7   producer               6917 non-null   object \n",
      " 8   age_restriction        7485 non-null   object \n",
      " 9   refundable_support     332 non-null    float64\n",
      " 10  nonrefundable_support  332 non-null    float64\n",
      " 11  budget                 332 non-null    float64\n",
      " 12  financing_source       332 non-null    object \n",
      " 13  ratings                6519 non-null   object \n",
      " 14  genres                 6510 non-null   object \n",
      " 15  box_office             3158 non-null   float64\n",
      "dtypes: float64(4), int64(1), object(11)\n",
      "memory usage: 994.1+ KB\n"
     ]
    }
   ],
   "source": [
    "df.info()"
   ]
  },
  {
   "cell_type": "markdown",
   "metadata": {},
   "source": [
    "##### Наблюдения\n",
    "- Столбец box_office заменим тип данных на int. В столбце присутсвуют пропуски, поэтому заменим их на 0, чтобы они не мешали преобразованию.\n",
    "- Столбец ratings заменим тип данных float. В столбце присутсвуют пропуски, поэтому заменим их на 0, чтобы они не мешали преобразованию.\n",
    "- Столбец release_date заменим тип данных на datetime. "
   ]
  },
  {
   "cell_type": "markdown",
   "metadata": {},
   "source": [
    "##### box_office"
   ]
  },
  {
   "cell_type": "markdown",
   "metadata": {},
   "source": [
    "Заменим тип данных на int. Заменим пропуски на 0."
   ]
  },
  {
   "cell_type": "code",
   "execution_count": 13,
   "metadata": {},
   "outputs": [],
   "source": [
    "df['box_office'] = df['box_office'].fillna(0).astype('int')"
   ]
  },
  {
   "cell_type": "markdown",
   "metadata": {},
   "source": [
    "##### raitings"
   ]
  },
  {
   "cell_type": "markdown",
   "metadata": {},
   "source": [
    "Посмотрим на уникальные значения."
   ]
  },
  {
   "cell_type": "code",
   "execution_count": 14,
   "metadata": {
    "scrolled": true
   },
   "outputs": [
    {
     "data": {
      "text/plain": [
       "array(['7.2', '6.6', '6.8', '7.7', '8.3', '8.0', '7.8', '8.1', '7.1',\n",
       "       '6.0', '7.4', '5.8', '8.7', '6.3', '6.9', '5.0', '4.3', '7.3',\n",
       "       '7.0', '6.4', nan, '8.2', '7.5', '6.7', '7.9', '5.9', '6.2', '5.6',\n",
       "       '6.5', '2.4', '7.6', '6.1', '8.6', '8.5', '8.8', '5.5', '5.1',\n",
       "       '5.7', '5.4', '99%', '4.4', '4.5', '5.3', '4.1', '8.4', '2.6',\n",
       "       '3.8', '4.6', '4.8', '4.0', '3.0', '1.6', '4.2', '5.2', '4.7',\n",
       "       '4.9', '3.9', '2.7', '3.3', '2.9', '28%', '3.7', '1.4', '3.1',\n",
       "       '97%', '3.5', '3.2', '2.8', '1.5', '2.1', '2.5', '9.2', '3.4',\n",
       "       '1.1', '3.6', '83%', '64%', '91%', '94%', '62%', '79%', '90%',\n",
       "       '19%', '88%', '1.0', '89%', '1.3', '1.9', '1.8', '1.2', '1.7',\n",
       "       '9.0', '98%', '8.9', '9.1'], dtype=object)"
      ]
     },
     "execution_count": 14,
     "metadata": {},
     "output_type": "execute_result"
    }
   ],
   "source": [
    "df['ratings'].unique()"
   ]
  },
  {
   "cell_type": "markdown",
   "metadata": {},
   "source": [
    "Помимо десятичных значений мы видим проценты. Напишем цикл, который приведет % к десятичным дробям."
   ]
  },
  {
   "cell_type": "code",
   "execution_count": 15,
   "metadata": {},
   "outputs": [],
   "source": [
    "for value in df[~ df['ratings'].isna()]['ratings']:\n",
    "    try:\n",
    "        if value[-1] == '%':\n",
    "            df.loc[df['ratings'] == value, 'ratings'] = int(value[:2])/10\n",
    "    except:\n",
    "         break"
   ]
  },
  {
   "cell_type": "markdown",
   "metadata": {},
   "source": [
    "Посмотрим на данные после применения "
   ]
  },
  {
   "cell_type": "code",
   "execution_count": 16,
   "metadata": {
    "scrolled": true
   },
   "outputs": [
    {
     "data": {
      "text/plain": [
       "array(['7.2', '6.6', '6.8', '7.7', '8.3', '8.0', '7.8', '8.1', '7.1',\n",
       "       '6.0', '7.4', '5.8', '8.7', '6.3', '6.9', '5.0', '4.3', '7.3',\n",
       "       '7.0', '6.4', nan, '8.2', '7.5', '6.7', '7.9', '5.9', '6.2', '5.6',\n",
       "       '6.5', '2.4', '7.6', '6.1', '8.6', '8.5', '8.8', '5.5', '5.1',\n",
       "       '5.7', '5.4', 9.9, '4.4', '4.5', '5.3', '4.1', '8.4', '2.6', '3.8',\n",
       "       '4.6', '4.8', '4.0', '3.0', '1.6', '4.2', '5.2', '4.7', '4.9',\n",
       "       '3.9', '2.7', '3.3', '2.9', 2.8, '3.7', '1.4', '3.1', 9.7, '3.5',\n",
       "       '3.2', '2.8', '1.5', '2.1', '2.5', '9.2', '3.4', '1.1', '3.6', 8.3,\n",
       "       6.4, 9.1, 9.4, 6.2, 7.9, 9.0, 1.9, 8.8, '1.0', 8.9, '1.3', '1.9',\n",
       "       '1.8', '1.2', '1.7', '9.0', 9.8, '8.9', '9.1'], dtype=object)"
      ]
     },
     "execution_count": 16,
     "metadata": {},
     "output_type": "execute_result"
    }
   ],
   "source": [
    "df['ratings'].unique()"
   ]
  },
  {
   "cell_type": "markdown",
   "metadata": {},
   "source": [
    "Мы заменили проценты на дробные значения. Теперь изменим тип данных на float."
   ]
  },
  {
   "cell_type": "code",
   "execution_count": 17,
   "metadata": {},
   "outputs": [],
   "source": [
    "df['ratings'] = df['ratings'].astype('float')"
   ]
  },
  {
   "cell_type": "markdown",
   "metadata": {},
   "source": [
    "##### realease_date"
   ]
  },
  {
   "cell_type": "markdown",
   "metadata": {},
   "source": [
    "Оставим внутри столбца только дату, так как время в каждой строке одинаковое."
   ]
  },
  {
   "cell_type": "code",
   "execution_count": 18,
   "metadata": {},
   "outputs": [],
   "source": [
    "df['release_date'] = pd.to_datetime(df[\n",
    "    'release_date']).apply(lambda x: x.strftime('%Y-%m-%d'))\n",
    "df['release_date'] = pd.to_datetime(df['release_date'])"
   ]
  },
  {
   "cell_type": "markdown",
   "metadata": {},
   "source": [
    "##### Вывод\n",
    "\n",
    "- Столбец box_office заменили тип данных на int. \n",
    "- Столбец ratings заменили тип данных float, преобразовали значения из процентов в десятичные дроби. \n",
    "- Столбец release_date заменили тип данных на datetime, удалили информацию о времени."
   ]
  },
  {
   "cell_type": "markdown",
   "metadata": {
    "id": "i0MOLbF-gFyP"
   },
   "source": [
    "### Изучим пропуски в датафрейме\n",
    "\n"
   ]
  },
  {
   "cell_type": "markdown",
   "metadata": {},
   "source": [
    "Посчитаем процентное соотношение пропусков в столбцах и выведем их на экран в виде таблицы."
   ]
  },
  {
   "cell_type": "code",
   "execution_count": 19,
   "metadata": {
    "scrolled": true
   },
   "outputs": [
    {
     "data": {
      "text/plain": [
       "movie_title                 0\n",
       "pu_number                   0\n",
       "release_date                0\n",
       "movie_type                  0\n",
       "film_studio                18\n",
       "production_country          2\n",
       "director                    9\n",
       "producer                  568\n",
       "age_restriction             0\n",
       "refundable_support       7153\n",
       "nonrefundable_support    7153\n",
       "budget                   7153\n",
       "financing_source         7153\n",
       "ratings                   966\n",
       "genres                    975\n",
       "box_office                  0\n",
       "dtype: int64"
      ]
     },
     "execution_count": 19,
     "metadata": {},
     "output_type": "execute_result"
    }
   ],
   "source": [
    "# Общее количество пропусков.\n",
    "df.isna().sum()"
   ]
  },
  {
   "cell_type": "code",
   "execution_count": 20,
   "metadata": {
    "scrolled": false
   },
   "outputs": [
    {
     "data": {
      "text/html": [
       "<style type=\"text/css\">\n",
       "#T_853c6_row0_col0, #T_853c6_row1_col0, #T_853c6_row2_col0, #T_853c6_row3_col0, #T_853c6_row4_col0, #T_853c6_row5_col0, #T_853c6_row6_col0, #T_853c6_row8_col0, #T_853c6_row15_col0 {\n",
       "  background-color: #f7fbff;\n",
       "  color: #000000;\n",
       "}\n",
       "#T_853c6_row7_col0 {\n",
       "  background-color: #e7f1fa;\n",
       "  color: #000000;\n",
       "}\n",
       "#T_853c6_row9_col0, #T_853c6_row10_col0, #T_853c6_row11_col0, #T_853c6_row12_col0 {\n",
       "  background-color: #08306b;\n",
       "  color: #f1f1f1;\n",
       "}\n",
       "#T_853c6_row13_col0, #T_853c6_row14_col0 {\n",
       "  background-color: #dceaf6;\n",
       "  color: #000000;\n",
       "}\n",
       "</style>\n",
       "<table id=\"T_853c6\">\n",
       "  <thead>\n",
       "    <tr>\n",
       "      <th class=\"blank level0\" >&nbsp;</th>\n",
       "      <th id=\"T_853c6_level0_col0\" class=\"col_heading level0 col0\" >0</th>\n",
       "    </tr>\n",
       "  </thead>\n",
       "  <tbody>\n",
       "    <tr>\n",
       "      <th id=\"T_853c6_level0_row0\" class=\"row_heading level0 row0\" >movie_title</th>\n",
       "      <td id=\"T_853c6_row0_col0\" class=\"data row0 col0\" >0.000000</td>\n",
       "    </tr>\n",
       "    <tr>\n",
       "      <th id=\"T_853c6_level0_row1\" class=\"row_heading level0 row1\" >pu_number</th>\n",
       "      <td id=\"T_853c6_row1_col0\" class=\"data row1 col0\" >0.000000</td>\n",
       "    </tr>\n",
       "    <tr>\n",
       "      <th id=\"T_853c6_level0_row2\" class=\"row_heading level0 row2\" >release_date</th>\n",
       "      <td id=\"T_853c6_row2_col0\" class=\"data row2 col0\" >0.000000</td>\n",
       "    </tr>\n",
       "    <tr>\n",
       "      <th id=\"T_853c6_level0_row3\" class=\"row_heading level0 row3\" >movie_type</th>\n",
       "      <td id=\"T_853c6_row3_col0\" class=\"data row3 col0\" >0.000000</td>\n",
       "    </tr>\n",
       "    <tr>\n",
       "      <th id=\"T_853c6_level0_row4\" class=\"row_heading level0 row4\" >film_studio</th>\n",
       "      <td id=\"T_853c6_row4_col0\" class=\"data row4 col0\" >0.240000</td>\n",
       "    </tr>\n",
       "    <tr>\n",
       "      <th id=\"T_853c6_level0_row5\" class=\"row_heading level0 row5\" >production_country</th>\n",
       "      <td id=\"T_853c6_row5_col0\" class=\"data row5 col0\" >0.030000</td>\n",
       "    </tr>\n",
       "    <tr>\n",
       "      <th id=\"T_853c6_level0_row6\" class=\"row_heading level0 row6\" >director</th>\n",
       "      <td id=\"T_853c6_row6_col0\" class=\"data row6 col0\" >0.120000</td>\n",
       "    </tr>\n",
       "    <tr>\n",
       "      <th id=\"T_853c6_level0_row7\" class=\"row_heading level0 row7\" >producer</th>\n",
       "      <td id=\"T_853c6_row7_col0\" class=\"data row7 col0\" >7.590000</td>\n",
       "    </tr>\n",
       "    <tr>\n",
       "      <th id=\"T_853c6_level0_row8\" class=\"row_heading level0 row8\" >age_restriction</th>\n",
       "      <td id=\"T_853c6_row8_col0\" class=\"data row8 col0\" >0.000000</td>\n",
       "    </tr>\n",
       "    <tr>\n",
       "      <th id=\"T_853c6_level0_row9\" class=\"row_heading level0 row9\" >refundable_support</th>\n",
       "      <td id=\"T_853c6_row9_col0\" class=\"data row9 col0\" >95.560000</td>\n",
       "    </tr>\n",
       "    <tr>\n",
       "      <th id=\"T_853c6_level0_row10\" class=\"row_heading level0 row10\" >nonrefundable_support</th>\n",
       "      <td id=\"T_853c6_row10_col0\" class=\"data row10 col0\" >95.560000</td>\n",
       "    </tr>\n",
       "    <tr>\n",
       "      <th id=\"T_853c6_level0_row11\" class=\"row_heading level0 row11\" >budget</th>\n",
       "      <td id=\"T_853c6_row11_col0\" class=\"data row11 col0\" >95.560000</td>\n",
       "    </tr>\n",
       "    <tr>\n",
       "      <th id=\"T_853c6_level0_row12\" class=\"row_heading level0 row12\" >financing_source</th>\n",
       "      <td id=\"T_853c6_row12_col0\" class=\"data row12 col0\" >95.560000</td>\n",
       "    </tr>\n",
       "    <tr>\n",
       "      <th id=\"T_853c6_level0_row13\" class=\"row_heading level0 row13\" >ratings</th>\n",
       "      <td id=\"T_853c6_row13_col0\" class=\"data row13 col0\" >12.910000</td>\n",
       "    </tr>\n",
       "    <tr>\n",
       "      <th id=\"T_853c6_level0_row14\" class=\"row_heading level0 row14\" >genres</th>\n",
       "      <td id=\"T_853c6_row14_col0\" class=\"data row14 col0\" >13.030000</td>\n",
       "    </tr>\n",
       "    <tr>\n",
       "      <th id=\"T_853c6_level0_row15\" class=\"row_heading level0 row15\" >box_office</th>\n",
       "      <td id=\"T_853c6_row15_col0\" class=\"data row15 col0\" >0.000000</td>\n",
       "    </tr>\n",
       "  </tbody>\n",
       "</table>\n"
      ],
      "text/plain": [
       "<pandas.io.formats.style.Styler at 0x1243eba00>"
      ]
     },
     "execution_count": 20,
     "metadata": {},
     "output_type": "execute_result"
    }
   ],
   "source": [
    "# Таблица процентного соотношения пропусков.\n",
    "pd.DataFrame(round(\n",
    "    df.isna().mean()*100, 2)).style.background_gradient('Blues')"
   ]
  },
  {
   "cell_type": "markdown",
   "metadata": {},
   "source": [
    "##### 'production_country'"
   ]
  },
  {
   "cell_type": "markdown",
   "metadata": {},
   "source": [
    "Всего два пропуска, по информации из интернета можно заменить на Россия."
   ]
  },
  {
   "cell_type": "code",
   "execution_count": 21,
   "metadata": {},
   "outputs": [],
   "source": [
    "# Заменим пропуски в стоолбце\n",
    "df.loc[df['production_country'].isna(),  'production_country'] = 'Россия'"
   ]
  },
  {
   "cell_type": "markdown",
   "metadata": {},
   "source": [
    "##### film_studio"
   ]
  },
  {
   "cell_type": "markdown",
   "metadata": {},
   "source": [
    "Чтобы ответить на вопросы исследования не придется искать пропущенные результаты, поэтому ничего не меняем в этом столбце."
   ]
  },
  {
   "cell_type": "markdown",
   "metadata": {},
   "source": [
    "##### producer"
   ]
  },
  {
   "cell_type": "markdown",
   "metadata": {},
   "source": [
    "Чтобы ответить на вопросы исследования не придется искать пропущенные результаты, поэтому ничего не меняем в этом столбце. Узнать пропуски сложно, удалить некорректно, поэтому заменим на 'Неизвестен'"
   ]
  },
  {
   "cell_type": "code",
   "execution_count": 22,
   "metadata": {},
   "outputs": [],
   "source": [
    "df.loc[df['producer'].isna(), 'producer'] = 'Неизвестен'"
   ]
  },
  {
   "cell_type": "markdown",
   "metadata": {},
   "source": [
    "##### refundable_support, nonrefundable_support, budget, financing_source "
   ]
  },
  {
   "cell_type": "markdown",
   "metadata": {},
   "source": [
    "Столбцы содержат  много пропусков. Они относятся только к фильмам, которые получили государственную поддержку, следовательно пропуски - отствуие поддержки."
   ]
  },
  {
   "cell_type": "markdown",
   "metadata": {},
   "source": [
    "##### genres"
   ]
  },
  {
   "cell_type": "code",
   "execution_count": 23,
   "metadata": {},
   "outputs": [],
   "source": [
    "# по аналогии с producer \n",
    "df.loc[df['genres'].isna(), 'genres'] = 'Неизвестен'"
   ]
  },
  {
   "cell_type": "markdown",
   "metadata": {},
   "source": [
    "##### director"
   ]
  },
  {
   "cell_type": "code",
   "execution_count": 24,
   "metadata": {},
   "outputs": [],
   "source": [
    "# по аналогии с producer, genres\n",
    "df.loc[df['director'].isna(), 'director'] = 'Неизвестен'"
   ]
  },
  {
   "cell_type": "markdown",
   "metadata": {},
   "source": [
    "##### ratings"
   ]
  },
  {
   "cell_type": "markdown",
   "metadata": {},
   "source": [
    "Заполнять средним некорректно."
   ]
  },
  {
   "cell_type": "markdown",
   "metadata": {},
   "source": [
    "##### Вывод\n",
    "\n",
    "Мы заполнили пропуски в данных, посмотрим на таблицу после заполнения."
   ]
  },
  {
   "cell_type": "code",
   "execution_count": 25,
   "metadata": {},
   "outputs": [
    {
     "data": {
      "text/plain": [
       "movie_title                 0\n",
       "pu_number                   0\n",
       "release_date                0\n",
       "movie_type                  0\n",
       "film_studio                18\n",
       "production_country          0\n",
       "director                    0\n",
       "producer                    0\n",
       "age_restriction             0\n",
       "refundable_support       7153\n",
       "nonrefundable_support    7153\n",
       "budget                   7153\n",
       "financing_source         7153\n",
       "ratings                   966\n",
       "genres                      0\n",
       "box_office                  0\n",
       "dtype: int64"
      ]
     },
     "execution_count": 25,
     "metadata": {},
     "output_type": "execute_result"
    }
   ],
   "source": [
    "# Общее количество пропусков.\n",
    "df.isna().sum()"
   ]
  },
  {
   "cell_type": "markdown",
   "metadata": {
    "id": "4c6k1t9ygFyQ"
   },
   "source": [
    "####  Изучим дубликаты в датафрейме\n"
   ]
  },
  {
   "cell_type": "markdown",
   "metadata": {
    "id": "aKck8RIdgFyQ"
   },
   "source": [
    "##### Явные дубликаты"
   ]
  },
  {
   "cell_type": "markdown",
   "metadata": {},
   "source": [
    "Посмотрим на наличие дубликатов между столбцами title, director."
   ]
  },
  {
   "cell_type": "code",
   "execution_count": 26,
   "metadata": {},
   "outputs": [
    {
     "data": {
      "text/plain": [
       "694"
      ]
     },
     "execution_count": 26,
     "metadata": {},
     "output_type": "execute_result"
    }
   ],
   "source": [
    "df[ (df['movie_title'].str.lower().duplicated()) & (df['director'].str.lower().duplicated()) ]['movie_title'].count()"
   ]
  },
  {
   "cell_type": "markdown",
   "metadata": {},
   "source": [
    "Обнаружено 694 дубликата, давайте избавимся от них"
   ]
  },
  {
   "cell_type": "code",
   "execution_count": 27,
   "metadata": {},
   "outputs": [],
   "source": [
    "df = df.drop(  df[( (df['movie_title'].str.lower().duplicated())  \\\n",
    "     & (df['director'].str.lower().duplicated())  )].index, inplace = False).reset_index(drop = True)"
   ]
  },
  {
   "cell_type": "markdown",
   "metadata": {},
   "source": [
    "Для удобноства работы с данными, приведем все категориальные значения к нижнему регистру, затем проверим датафрейм на наличие дубликатов. Для этого создадим цикл, который пройдет по списку столбцов."
   ]
  },
  {
   "cell_type": "code",
   "execution_count": 28,
   "metadata": {},
   "outputs": [
    {
     "data": {
      "text/plain": [
       "0"
      ]
     },
     "execution_count": 28,
     "metadata": {},
     "output_type": "execute_result"
    }
   ],
   "source": [
    "columns_list = ['movie_title', 'movie_type', 'film_studio',\n",
    "                       'production_country', 'director', 'producer',\n",
    "                       'age_restriction', 'genres']\n",
    "# Цикл\n",
    "for value in columns_list:\n",
    "    df[value] = df[value].str.lower()\n",
    "# Посмотрим сколько осталось дубликатов.\n",
    "df.duplicated().sum()"
   ]
  },
  {
   "cell_type": "markdown",
   "metadata": {},
   "source": [
    "##### Вывод\n",
    "\n",
    "Мы избавились от явных дубликатов, привели данные к нижнему регистру, для удобства их восприятия.\n",
    "Дубликаты могли возникнуть из за сбора данных об одинаковых фильмах из разных кинотеатров."
   ]
  },
  {
   "cell_type": "markdown",
   "metadata": {
    "id": "52fOPrEBgFyQ"
   },
   "source": [
    "#### Изучим категориальные значения\n"
   ]
  },
  {
   "cell_type": "markdown",
   "metadata": {
    "id": "PnXKIVdFgFyR"
   },
   "source": [
    "Мы уже создавали список с категориальными столбцами. Давайте добавим в него столбец financing_source и посмотрим на уникальные значения в этих столбцах. Пройдем циклом по ним. Цикл закомментирован, так как вывод очень длинный."
   ]
  },
  {
   "cell_type": "code",
   "execution_count": 29,
   "metadata": {},
   "outputs": [],
   "source": [
    "new_columns_list = ['movie_title', 'movie_type', 'film_studio',\n",
    "                       'production_country', 'director', 'producer',\n",
    "                       'age_restriction', 'genres', 'financing_source']\n",
    "# Цикл\n",
    "#for column in new_columns_list:\n",
    "    #print(column)\n",
    "    #print(df[column].sort_values().unique())"
   ]
  },
  {
   "cell_type": "markdown",
   "metadata": {},
   "source": [
    "Мы можем заметить интересную тенденцию. В столбцах присуствует разная или неправильная запись одних и тех же данных,они производят много дублирующихся по смылу ненужных категорий. Пройдем новым циклом по данных, в нем убрем лишние пробелы из них."
   ]
  },
  {
   "cell_type": "code",
   "execution_count": 30,
   "metadata": {},
   "outputs": [],
   "source": [
    "for column in new_columns_list:\n",
    "    df[column] = df[column].str.strip()"
   ]
  },
  {
   "cell_type": "markdown",
   "metadata": {},
   "source": [
    "##### Вывод \n",
    "\n",
    "Мы преобразовали категориальные данные внутри таблицы."
   ]
  },
  {
   "cell_type": "markdown",
   "metadata": {
    "id": "XFSN5lrEgFyR"
   },
   "source": [
    "#### Проверим количественные значения\n",
    "\n"
   ]
  },
  {
   "cell_type": "markdown",
   "metadata": {},
   "source": [
    "##### Обзор столбцов"
   ]
  },
  {
   "cell_type": "markdown",
   "metadata": {
    "id": "YbzClBxagFyS"
   },
   "source": [
    "Давайте посмотрим на данные внутри столбцов с количественными значениями при помощи метода describe(). Окргули значения до двух знаков после запятой, выведем количественные столбцы."
   ]
  },
  {
   "cell_type": "code",
   "execution_count": 31,
   "metadata": {},
   "outputs": [
    {
     "data": {
      "text/html": [
       "<div>\n",
       "<style scoped>\n",
       "    .dataframe tbody tr th:only-of-type {\n",
       "        vertical-align: middle;\n",
       "    }\n",
       "\n",
       "    .dataframe tbody tr th {\n",
       "        vertical-align: top;\n",
       "    }\n",
       "\n",
       "    .dataframe thead th {\n",
       "        text-align: right;\n",
       "    }\n",
       "</style>\n",
       "<table border=\"1\" class=\"dataframe\">\n",
       "  <thead>\n",
       "    <tr style=\"text-align: right;\">\n",
       "      <th></th>\n",
       "      <th>budget</th>\n",
       "      <th>refundable_support</th>\n",
       "      <th>nonrefundable_support</th>\n",
       "      <th>box_office</th>\n",
       "    </tr>\n",
       "  </thead>\n",
       "  <tbody>\n",
       "    <tr>\n",
       "      <th>count</th>\n",
       "      <td>330.00</td>\n",
       "      <td>330.00</td>\n",
       "      <td>330.00</td>\n",
       "      <td>6791.00</td>\n",
       "    </tr>\n",
       "    <tr>\n",
       "      <th>mean</th>\n",
       "      <td>127628078.60</td>\n",
       "      <td>11921212.12</td>\n",
       "      <td>49126328.22</td>\n",
       "      <td>33585477.93</td>\n",
       "    </tr>\n",
       "    <tr>\n",
       "      <th>std</th>\n",
       "      <td>189087896.27</td>\n",
       "      <td>24980682.22</td>\n",
       "      <td>60131650.61</td>\n",
       "      <td>162814007.52</td>\n",
       "    </tr>\n",
       "    <tr>\n",
       "      <th>min</th>\n",
       "      <td>0.00</td>\n",
       "      <td>0.00</td>\n",
       "      <td>0.00</td>\n",
       "      <td>0.00</td>\n",
       "    </tr>\n",
       "    <tr>\n",
       "      <th>25%</th>\n",
       "      <td>42000000.00</td>\n",
       "      <td>0.00</td>\n",
       "      <td>25000000.00</td>\n",
       "      <td>0.00</td>\n",
       "    </tr>\n",
       "    <tr>\n",
       "      <th>50%</th>\n",
       "      <td>68649916.00</td>\n",
       "      <td>0.00</td>\n",
       "      <td>30000000.00</td>\n",
       "      <td>0.00</td>\n",
       "    </tr>\n",
       "    <tr>\n",
       "      <th>75%</th>\n",
       "      <td>145905958.50</td>\n",
       "      <td>15000000.00</td>\n",
       "      <td>41125000.00</td>\n",
       "      <td>1473515.00</td>\n",
       "    </tr>\n",
       "    <tr>\n",
       "      <th>max</th>\n",
       "      <td>2305074303.00</td>\n",
       "      <td>180000000.00</td>\n",
       "      <td>400000000.00</td>\n",
       "      <td>3073568690.00</td>\n",
       "    </tr>\n",
       "  </tbody>\n",
       "</table>\n",
       "</div>"
      ],
      "text/plain": [
       "             budget  refundable_support  nonrefundable_support    box_office\n",
       "count        330.00              330.00                 330.00       6791.00\n",
       "mean   127628078.60         11921212.12            49126328.22   33585477.93\n",
       "std    189087896.27         24980682.22            60131650.61  162814007.52\n",
       "min            0.00                0.00                   0.00          0.00\n",
       "25%     42000000.00                0.00            25000000.00          0.00\n",
       "50%     68649916.00                0.00            30000000.00          0.00\n",
       "75%    145905958.50         15000000.00            41125000.00    1473515.00\n",
       "max   2305074303.00        180000000.00           400000000.00 3073568690.00"
      ]
     },
     "execution_count": 31,
     "metadata": {},
     "output_type": "execute_result"
    }
   ],
   "source": [
    "pd.options.display.float_format = '{:.2f}'.format\n",
    "df[['budget', 'refundable_support', 'nonrefundable_support',\n",
    "    'box_office']].describe()"
   ]
  },
  {
   "cell_type": "markdown",
   "metadata": {},
   "source": [
    "budget содержит в себе сумму столбцов refundable_support и nonrefundable_support по документации. В таблице присуствуют нулевые значения. Они являются аномалиями. Давайте посмотрим на значения таблицы применив к ней условие budget < (refundable_support + nonrefundable_support)."
   ]
  },
  {
   "cell_type": "code",
   "execution_count": 32,
   "metadata": {
    "scrolled": true
   },
   "outputs": [
    {
     "data": {
      "text/html": [
       "<div>\n",
       "<style scoped>\n",
       "    .dataframe tbody tr th:only-of-type {\n",
       "        vertical-align: middle;\n",
       "    }\n",
       "\n",
       "    .dataframe tbody tr th {\n",
       "        vertical-align: top;\n",
       "    }\n",
       "\n",
       "    .dataframe thead th {\n",
       "        text-align: right;\n",
       "    }\n",
       "</style>\n",
       "<table border=\"1\" class=\"dataframe\">\n",
       "  <thead>\n",
       "    <tr style=\"text-align: right;\">\n",
       "      <th></th>\n",
       "      <th>movie_title</th>\n",
       "      <th>pu_number</th>\n",
       "      <th>release_date</th>\n",
       "      <th>movie_type</th>\n",
       "      <th>film_studio</th>\n",
       "      <th>production_country</th>\n",
       "      <th>director</th>\n",
       "      <th>producer</th>\n",
       "      <th>age_restriction</th>\n",
       "      <th>refundable_support</th>\n",
       "      <th>nonrefundable_support</th>\n",
       "      <th>budget</th>\n",
       "      <th>financing_source</th>\n",
       "      <th>ratings</th>\n",
       "      <th>genres</th>\n",
       "      <th>box_office</th>\n",
       "    </tr>\n",
       "  </thead>\n",
       "  <tbody>\n",
       "    <tr>\n",
       "      <th>1871</th>\n",
       "      <td>14+</td>\n",
       "      <td>111023614</td>\n",
       "      <td>2014-12-19</td>\n",
       "      <td>художественный</td>\n",
       "      <td>ооо киностудия  \"сентябрь\"</td>\n",
       "      <td>россия</td>\n",
       "      <td>а.зайцев</td>\n",
       "      <td>о.гранина, а.зайцев</td>\n",
       "      <td>«16+» - для детей старше 16 лет</td>\n",
       "      <td>0.00</td>\n",
       "      <td>23000000.00</td>\n",
       "      <td>0.00</td>\n",
       "      <td>Министерство культуры, Фонд кино</td>\n",
       "      <td>6.60</td>\n",
       "      <td>мелодрама</td>\n",
       "      <td>10234016</td>\n",
       "    </tr>\n",
       "    <tr>\n",
       "      <th>1876</th>\n",
       "      <td>дуxless 2</td>\n",
       "      <td>111000415</td>\n",
       "      <td>2015-01-26</td>\n",
       "      <td>художественный</td>\n",
       "      <td>ооо \"киностудия \"слово\", ооо \"арт пикчерс студия\"</td>\n",
       "      <td>россия</td>\n",
       "      <td>р.прыгунов</td>\n",
       "      <td>п.ануров, ф.бондарчук, д.рудовский</td>\n",
       "      <td>«16+» - для детей старше 16 лет</td>\n",
       "      <td>0.00</td>\n",
       "      <td>75000000.00</td>\n",
       "      <td>0.00</td>\n",
       "      <td>Фонд кино</td>\n",
       "      <td>6.60</td>\n",
       "      <td>драма</td>\n",
       "      <td>446163511</td>\n",
       "    </tr>\n",
       "    <tr>\n",
       "      <th>2253</th>\n",
       "      <td>воин (2015)</td>\n",
       "      <td>111017315</td>\n",
       "      <td>2015-09-28</td>\n",
       "      <td>художественный</td>\n",
       "      <td>ооо \"форпост продакшн\", ооо \"арт пикчерс студия\"</td>\n",
       "      <td>россия</td>\n",
       "      <td>а.андрианов</td>\n",
       "      <td>ооо \"арт пикчерс студия\"</td>\n",
       "      <td>«12+» - для детей старше 12 лет</td>\n",
       "      <td>10000000.00</td>\n",
       "      <td>70000000.00</td>\n",
       "      <td>0.00</td>\n",
       "      <td>Фонд кино</td>\n",
       "      <td>7.80</td>\n",
       "      <td>боевик,драма,криминал</td>\n",
       "      <td>196572438</td>\n",
       "    </tr>\n",
       "    <tr>\n",
       "      <th>2311</th>\n",
       "      <td>бармен.</td>\n",
       "      <td>111009615</td>\n",
       "      <td>2015-05-26</td>\n",
       "      <td>художественный</td>\n",
       "      <td>ао \"вайт медиа\", ооо \"арт пикчерс студия\"</td>\n",
       "      <td>россия</td>\n",
       "      <td>д.штурманова</td>\n",
       "      <td>т.вайнштейн</td>\n",
       "      <td>«16+» - для детей старше 16 лет</td>\n",
       "      <td>20000000.00</td>\n",
       "      <td>0.00</td>\n",
       "      <td>0.00</td>\n",
       "      <td>Фонд кино</td>\n",
       "      <td>6.20</td>\n",
       "      <td>комедия,фэнтези</td>\n",
       "      <td>67418974</td>\n",
       "    </tr>\n",
       "    <tr>\n",
       "      <th>2385</th>\n",
       "      <td>савва. сердце воина</td>\n",
       "      <td>114001715</td>\n",
       "      <td>2015-07-21</td>\n",
       "      <td>анимационный</td>\n",
       "      <td>ооо \"глюкоза продакшн\", ооо \"арт пикчерс студия\"</td>\n",
       "      <td>россия</td>\n",
       "      <td>м.фадеев</td>\n",
       "      <td>а.чистяков</td>\n",
       "      <td>«6+» - для детей старше 6 лет</td>\n",
       "      <td>60000000.00</td>\n",
       "      <td>100000000.00</td>\n",
       "      <td>0.00</td>\n",
       "      <td>Фонд кино</td>\n",
       "      <td>4.60</td>\n",
       "      <td>мультфильм,приключения,фэнтези</td>\n",
       "      <td>184487551</td>\n",
       "    </tr>\n",
       "    <tr>\n",
       "      <th>2447</th>\n",
       "      <td>тряпичный союз</td>\n",
       "      <td>111010215</td>\n",
       "      <td>2015-06-08</td>\n",
       "      <td>художественный</td>\n",
       "      <td>ооо \"кинокомпания \"коктебель\"</td>\n",
       "      <td>россия</td>\n",
       "      <td>м.местецкий</td>\n",
       "      <td>р.борисевич, а.кушаев</td>\n",
       "      <td>«18+» - запрещено для детей</td>\n",
       "      <td>0.00</td>\n",
       "      <td>59000000.00</td>\n",
       "      <td>0.00</td>\n",
       "      <td>Фонд кино</td>\n",
       "      <td>6.30</td>\n",
       "      <td>комедия,драма</td>\n",
       "      <td>1957738</td>\n",
       "    </tr>\n",
       "    <tr>\n",
       "      <th>2543</th>\n",
       "      <td>срочно выйду замуж</td>\n",
       "      <td>111017115</td>\n",
       "      <td>2015-09-30</td>\n",
       "      <td>художественный</td>\n",
       "      <td>ао \"вайт медиа\", ооо \"арт пикчерс студия\"</td>\n",
       "      <td>россия</td>\n",
       "      <td>с чекалов</td>\n",
       "      <td>ф.бондарчук, т.вайнштейн, д.рудовский</td>\n",
       "      <td>«16+» - для детей старше 16 лет</td>\n",
       "      <td>0.00</td>\n",
       "      <td>35000000.00</td>\n",
       "      <td>0.00</td>\n",
       "      <td>Фонд кино</td>\n",
       "      <td>5.10</td>\n",
       "      <td>комедия,мелодрама</td>\n",
       "      <td>72937783</td>\n",
       "    </tr>\n",
       "    <tr>\n",
       "      <th>2623</th>\n",
       "      <td>помню - не помню!</td>\n",
       "      <td>111004916</td>\n",
       "      <td>2016-03-01</td>\n",
       "      <td>художественный</td>\n",
       "      <td>ооо \"кинофирма\"</td>\n",
       "      <td>россия</td>\n",
       "      <td>в.ровенский</td>\n",
       "      <td>ооо \"кинофирма\"</td>\n",
       "      <td>«12+» - для детей старше 12 лет</td>\n",
       "      <td>0.00</td>\n",
       "      <td>6000000.00</td>\n",
       "      <td>0.00</td>\n",
       "      <td>Министерство культуры</td>\n",
       "      <td>4.30</td>\n",
       "      <td>комедия</td>\n",
       "      <td>15362931</td>\n",
       "    </tr>\n",
       "    <tr>\n",
       "      <th>2788</th>\n",
       "      <td>любовь с ограничениями</td>\n",
       "      <td>111008216</td>\n",
       "      <td>2016-04-29</td>\n",
       "      <td>художественный</td>\n",
       "      <td>ао \"вайт медиа\", ооо \"арт пикчерс студия\"</td>\n",
       "      <td>россия</td>\n",
       "      <td>д.тюрин</td>\n",
       "      <td>ф.бондарчук, т.вайнштейн, д.рудовский</td>\n",
       "      <td>«16+» - для детей старше 16 лет</td>\n",
       "      <td>19000000.00</td>\n",
       "      <td>51000000.00</td>\n",
       "      <td>0.00</td>\n",
       "      <td>Фонд кино</td>\n",
       "      <td>6.30</td>\n",
       "      <td>комедия,мелодрама</td>\n",
       "      <td>70299052</td>\n",
       "    </tr>\n",
       "    <tr>\n",
       "      <th>3278</th>\n",
       "      <td>притяжение (2016)</td>\n",
       "      <td>111018116</td>\n",
       "      <td>2016-12-16</td>\n",
       "      <td>художественный</td>\n",
       "      <td>ооо \"водород 2011\",  ооо \"арт пикчерс студия\"</td>\n",
       "      <td>россия</td>\n",
       "      <td>ф.бондарчук</td>\n",
       "      <td>ооо \"арт пикчерс студия\"</td>\n",
       "      <td>«12+» - для детей старше 12 лет</td>\n",
       "      <td>0.00</td>\n",
       "      <td>250000000.00</td>\n",
       "      <td>0.00</td>\n",
       "      <td>Фонд кино</td>\n",
       "      <td>5.60</td>\n",
       "      <td>фантастика</td>\n",
       "      <td>1038321489</td>\n",
       "    </tr>\n",
       "    <tr>\n",
       "      <th>3387</th>\n",
       "      <td>чудо-юдо</td>\n",
       "      <td>114001817</td>\n",
       "      <td>2017-06-27</td>\n",
       "      <td>анимационный</td>\n",
       "      <td>ооо \"кинофирма\"</td>\n",
       "      <td>россия</td>\n",
       "      <td>а.лукичев</td>\n",
       "      <td>ооо \"кинофирма\"</td>\n",
       "      <td>«6+» - для детей старше 6 лет</td>\n",
       "      <td>20000000.00</td>\n",
       "      <td>20000000.00</td>\n",
       "      <td>0.00</td>\n",
       "      <td>Фонд кино</td>\n",
       "      <td>5.20</td>\n",
       "      <td>мультфильм,фэнтези,семейный</td>\n",
       "      <td>55108014</td>\n",
       "    </tr>\n",
       "    <tr>\n",
       "      <th>3450</th>\n",
       "      <td>мифы</td>\n",
       "      <td>111004317</td>\n",
       "      <td>2017-06-07</td>\n",
       "      <td>художественный</td>\n",
       "      <td>ооо \"хайпфилм\", ооо \"арт пикчерс студия\"</td>\n",
       "      <td>россия</td>\n",
       "      <td>а.молочников</td>\n",
       "      <td>ф.бондарчук, д.рудовский, и.стюарт, м.османн, ...</td>\n",
       "      <td>«16+» - для детей старше 16 лет</td>\n",
       "      <td>25000000.00</td>\n",
       "      <td>20000000.00</td>\n",
       "      <td>0.00</td>\n",
       "      <td>Фонд кино</td>\n",
       "      <td>4.80</td>\n",
       "      <td>комедия</td>\n",
       "      <td>50451949</td>\n",
       "    </tr>\n",
       "    <tr>\n",
       "      <th>5011</th>\n",
       "      <td>селфи</td>\n",
       "      <td>111012117</td>\n",
       "      <td>2018-02-01</td>\n",
       "      <td>художественный</td>\n",
       "      <td>ооо \"киностудия \"слово\", ооо \"арт пикчерс студия\"</td>\n",
       "      <td>россия</td>\n",
       "      <td>н.хомерики</td>\n",
       "      <td>п.ануров, ф.бондарчук, д.рудовский</td>\n",
       "      <td>«16+» - для детей старше 16 лет</td>\n",
       "      <td>20000000.00</td>\n",
       "      <td>40000000.00</td>\n",
       "      <td>0.00</td>\n",
       "      <td>Фонд кино</td>\n",
       "      <td>5.80</td>\n",
       "      <td>триллер,драма</td>\n",
       "      <td>225196400</td>\n",
       "    </tr>\n",
       "    <tr>\n",
       "      <th>5142</th>\n",
       "      <td>два хвоста</td>\n",
       "      <td>114001018</td>\n",
       "      <td>2018-05-31</td>\n",
       "      <td>анимационный</td>\n",
       "      <td>ооо \"лицензионные бренды\"</td>\n",
       "      <td>россия</td>\n",
       "      <td>в.ровенский, н.лопато, в.азеев</td>\n",
       "      <td>ооо \"лицензионные бренды\"</td>\n",
       "      <td>«6+» - для детей старше 6 лет</td>\n",
       "      <td>10000000.00</td>\n",
       "      <td>60000000.00</td>\n",
       "      <td>0.00</td>\n",
       "      <td>Фонд кино</td>\n",
       "      <td>5.00</td>\n",
       "      <td>мультфильм,детский</td>\n",
       "      <td>106514301</td>\n",
       "    </tr>\n",
       "    <tr>\n",
       "      <th>5344</th>\n",
       "      <td>принцесса и дракон</td>\n",
       "      <td>114003018</td>\n",
       "      <td>2018-08-23</td>\n",
       "      <td>анимационный</td>\n",
       "      <td>ооо \"лицензионные бренды\"</td>\n",
       "      <td>россия</td>\n",
       "      <td>м.нефедова</td>\n",
       "      <td>ооо \"лицензионные бренды\"</td>\n",
       "      <td>«6+» - для детей старше 6 лет</td>\n",
       "      <td>40000000.00</td>\n",
       "      <td>40000000.00</td>\n",
       "      <td>0.00</td>\n",
       "      <td>Фонд кино</td>\n",
       "      <td>5.20</td>\n",
       "      <td>мультфильм,фэнтези,детский</td>\n",
       "      <td>83366328</td>\n",
       "    </tr>\n",
       "    <tr>\n",
       "      <th>5655</th>\n",
       "      <td>баба яга</td>\n",
       "      <td>114006518</td>\n",
       "      <td>2018-11-08</td>\n",
       "      <td>анимационный</td>\n",
       "      <td>ооо \"арт пикчерс студия\"</td>\n",
       "      <td>россия</td>\n",
       "      <td>в.саков</td>\n",
       "      <td>ооо \"арт пикчерс студия\", ооо \"криэйтив анимэй...</td>\n",
       "      <td>«6+» - для детей старше 6 лет</td>\n",
       "      <td>0.00</td>\n",
       "      <td>138969465.00</td>\n",
       "      <td>0.00</td>\n",
       "      <td>Фонд кино</td>\n",
       "      <td>NaN</td>\n",
       "      <td>неизвестен</td>\n",
       "      <td>1334699</td>\n",
       "    </tr>\n",
       "    <tr>\n",
       "      <th>6147</th>\n",
       "      <td>большое путешествие</td>\n",
       "      <td>114002419</td>\n",
       "      <td>2019-04-20</td>\n",
       "      <td>анимационный</td>\n",
       "      <td>ооо \"лицензионные бренды\"</td>\n",
       "      <td>россия</td>\n",
       "      <td>н.лопато, в.ровенский</td>\n",
       "      <td>ооо \"лицензионные бренды\"</td>\n",
       "      <td>«6+» - для детей старше 6 лет</td>\n",
       "      <td>60000000.00</td>\n",
       "      <td>120000000.00</td>\n",
       "      <td>0.00</td>\n",
       "      <td>Фонд кино</td>\n",
       "      <td>6.20</td>\n",
       "      <td>мультфильм,комедия,приключения</td>\n",
       "      <td>147606826</td>\n",
       "    </tr>\n",
       "  </tbody>\n",
       "</table>\n",
       "</div>"
      ],
      "text/plain": [
       "                 movie_title  pu_number release_date      movie_type  \\\n",
       "1871                     14+  111023614   2014-12-19  художественный   \n",
       "1876               дуxless 2  111000415   2015-01-26  художественный   \n",
       "2253             воин (2015)  111017315   2015-09-28  художественный   \n",
       "2311                 бармен.  111009615   2015-05-26  художественный   \n",
       "2385     савва. сердце воина  114001715   2015-07-21    анимационный   \n",
       "2447          тряпичный союз  111010215   2015-06-08  художественный   \n",
       "2543      срочно выйду замуж  111017115   2015-09-30  художественный   \n",
       "2623       помню - не помню!  111004916   2016-03-01  художественный   \n",
       "2788  любовь с ограничениями  111008216   2016-04-29  художественный   \n",
       "3278       притяжение (2016)  111018116   2016-12-16  художественный   \n",
       "3387                чудо-юдо  114001817   2017-06-27    анимационный   \n",
       "3450                    мифы  111004317   2017-06-07  художественный   \n",
       "5011                   селфи  111012117   2018-02-01  художественный   \n",
       "5142              два хвоста  114001018   2018-05-31    анимационный   \n",
       "5344      принцесса и дракон  114003018   2018-08-23    анимационный   \n",
       "5655                баба яга  114006518   2018-11-08    анимационный   \n",
       "6147     большое путешествие  114002419   2019-04-20    анимационный   \n",
       "\n",
       "                                            film_studio production_country  \\\n",
       "1871                         ооо киностудия  \"сентябрь\"             россия   \n",
       "1876  ооо \"киностудия \"слово\", ооо \"арт пикчерс студия\"             россия   \n",
       "2253   ооо \"форпост продакшн\", ооо \"арт пикчерс студия\"             россия   \n",
       "2311          ао \"вайт медиа\", ооо \"арт пикчерс студия\"             россия   \n",
       "2385   ооо \"глюкоза продакшн\", ооо \"арт пикчерс студия\"             россия   \n",
       "2447                      ооо \"кинокомпания \"коктебель\"             россия   \n",
       "2543          ао \"вайт медиа\", ооо \"арт пикчерс студия\"             россия   \n",
       "2623                                    ооо \"кинофирма\"             россия   \n",
       "2788          ао \"вайт медиа\", ооо \"арт пикчерс студия\"             россия   \n",
       "3278      ооо \"водород 2011\",  ооо \"арт пикчерс студия\"             россия   \n",
       "3387                                    ооо \"кинофирма\"             россия   \n",
       "3450           ооо \"хайпфилм\", ооо \"арт пикчерс студия\"             россия   \n",
       "5011  ооо \"киностудия \"слово\", ооо \"арт пикчерс студия\"             россия   \n",
       "5142                          ооо \"лицензионные бренды\"             россия   \n",
       "5344                          ооо \"лицензионные бренды\"             россия   \n",
       "5655                           ооо \"арт пикчерс студия\"             россия   \n",
       "6147                          ооо \"лицензионные бренды\"             россия   \n",
       "\n",
       "                            director  \\\n",
       "1871                        а.зайцев   \n",
       "1876                      р.прыгунов   \n",
       "2253                     а.андрианов   \n",
       "2311                    д.штурманова   \n",
       "2385                        м.фадеев   \n",
       "2447                     м.местецкий   \n",
       "2543                       с чекалов   \n",
       "2623                     в.ровенский   \n",
       "2788                         д.тюрин   \n",
       "3278                     ф.бондарчук   \n",
       "3387                       а.лукичев   \n",
       "3450                    а.молочников   \n",
       "5011                      н.хомерики   \n",
       "5142  в.ровенский, н.лопато, в.азеев   \n",
       "5344                      м.нефедова   \n",
       "5655                         в.саков   \n",
       "6147           н.лопато, в.ровенский   \n",
       "\n",
       "                                               producer  \\\n",
       "1871                                о.гранина, а.зайцев   \n",
       "1876                 п.ануров, ф.бондарчук, д.рудовский   \n",
       "2253                           ооо \"арт пикчерс студия\"   \n",
       "2311                                        т.вайнштейн   \n",
       "2385                                         а.чистяков   \n",
       "2447                              р.борисевич, а.кушаев   \n",
       "2543              ф.бондарчук, т.вайнштейн, д.рудовский   \n",
       "2623                                    ооо \"кинофирма\"   \n",
       "2788              ф.бондарчук, т.вайнштейн, д.рудовский   \n",
       "3278                           ооо \"арт пикчерс студия\"   \n",
       "3387                                    ооо \"кинофирма\"   \n",
       "3450  ф.бондарчук, д.рудовский, и.стюарт, м.османн, ...   \n",
       "5011                 п.ануров, ф.бондарчук, д.рудовский   \n",
       "5142                          ооо \"лицензионные бренды\"   \n",
       "5344                          ооо \"лицензионные бренды\"   \n",
       "5655  ооо \"арт пикчерс студия\", ооо \"криэйтив анимэй...   \n",
       "6147                          ооо \"лицензионные бренды\"   \n",
       "\n",
       "                      age_restriction  refundable_support  \\\n",
       "1871  «16+» - для детей старше 16 лет                0.00   \n",
       "1876  «16+» - для детей старше 16 лет                0.00   \n",
       "2253  «12+» - для детей старше 12 лет         10000000.00   \n",
       "2311  «16+» - для детей старше 16 лет         20000000.00   \n",
       "2385    «6+» - для детей старше 6 лет         60000000.00   \n",
       "2447      «18+» - запрещено для детей                0.00   \n",
       "2543  «16+» - для детей старше 16 лет                0.00   \n",
       "2623  «12+» - для детей старше 12 лет                0.00   \n",
       "2788  «16+» - для детей старше 16 лет         19000000.00   \n",
       "3278  «12+» - для детей старше 12 лет                0.00   \n",
       "3387    «6+» - для детей старше 6 лет         20000000.00   \n",
       "3450  «16+» - для детей старше 16 лет         25000000.00   \n",
       "5011  «16+» - для детей старше 16 лет         20000000.00   \n",
       "5142    «6+» - для детей старше 6 лет         10000000.00   \n",
       "5344    «6+» - для детей старше 6 лет         40000000.00   \n",
       "5655    «6+» - для детей старше 6 лет                0.00   \n",
       "6147    «6+» - для детей старше 6 лет         60000000.00   \n",
       "\n",
       "      nonrefundable_support  budget                  financing_source  \\\n",
       "1871            23000000.00    0.00  Министерство культуры, Фонд кино   \n",
       "1876            75000000.00    0.00                         Фонд кино   \n",
       "2253            70000000.00    0.00                         Фонд кино   \n",
       "2311                   0.00    0.00                         Фонд кино   \n",
       "2385           100000000.00    0.00                         Фонд кино   \n",
       "2447            59000000.00    0.00                         Фонд кино   \n",
       "2543            35000000.00    0.00                         Фонд кино   \n",
       "2623             6000000.00    0.00             Министерство культуры   \n",
       "2788            51000000.00    0.00                         Фонд кино   \n",
       "3278           250000000.00    0.00                         Фонд кино   \n",
       "3387            20000000.00    0.00                         Фонд кино   \n",
       "3450            20000000.00    0.00                         Фонд кино   \n",
       "5011            40000000.00    0.00                         Фонд кино   \n",
       "5142            60000000.00    0.00                         Фонд кино   \n",
       "5344            40000000.00    0.00                         Фонд кино   \n",
       "5655           138969465.00    0.00                         Фонд кино   \n",
       "6147           120000000.00    0.00                         Фонд кино   \n",
       "\n",
       "      ratings                          genres  box_office  \n",
       "1871     6.60                       мелодрама    10234016  \n",
       "1876     6.60                           драма   446163511  \n",
       "2253     7.80           боевик,драма,криминал   196572438  \n",
       "2311     6.20                 комедия,фэнтези    67418974  \n",
       "2385     4.60  мультфильм,приключения,фэнтези   184487551  \n",
       "2447     6.30                   комедия,драма     1957738  \n",
       "2543     5.10               комедия,мелодрама    72937783  \n",
       "2623     4.30                         комедия    15362931  \n",
       "2788     6.30               комедия,мелодрама    70299052  \n",
       "3278     5.60                      фантастика  1038321489  \n",
       "3387     5.20     мультфильм,фэнтези,семейный    55108014  \n",
       "3450     4.80                         комедия    50451949  \n",
       "5011     5.80                   триллер,драма   225196400  \n",
       "5142     5.00              мультфильм,детский   106514301  \n",
       "5344     5.20      мультфильм,фэнтези,детский    83366328  \n",
       "5655      NaN                      неизвестен     1334699  \n",
       "6147     6.20  мультфильм,комедия,приключения   147606826  "
      ]
     },
     "metadata": {},
     "output_type": "display_data"
    }
   ],
   "source": [
    "display(df.query('budget < (refundable_support + nonrefundable_support)'))"
   ]
  },
  {
   "cell_type": "markdown",
   "metadata": {},
   "source": [
    " Всего 16 строк."
   ]
  },
  {
   "cell_type": "markdown",
   "metadata": {},
   "source": [
    "##### Замена на суммарную гос поддержку."
   ]
  },
  {
   "cell_type": "markdown",
   "metadata": {},
   "source": [
    "Заменим аномальные значения в строках на сумму гос поддержки."
   ]
  },
  {
   "cell_type": "code",
   "execution_count": 33,
   "metadata": {},
   "outputs": [],
   "source": [
    "df.loc[df['budget'] < (df['refundable_support'] + df['nonrefundable_support']),\n",
    "       'budget'] = df['refundable_support'] + df['nonrefundable_support']"
   ]
  },
  {
   "cell_type": "markdown",
   "metadata": {},
   "source": [
    "##### Вывод\n",
    "\n",
    "Мы заменили аномальные значения."
   ]
  },
  {
   "cell_type": "markdown",
   "metadata": {
    "id": "Eu6oWp2CgFyS"
   },
   "source": [
    "#### Добавим новые столбцы.\n",
    "\n",
    "\n",
    "\n"
   ]
  },
  {
   "cell_type": "markdown",
   "metadata": {
    "id": "I-yd1DkWgFyT"
   },
   "source": [
    "##### Год проката"
   ]
  },
  {
   "cell_type": "markdown",
   "metadata": {},
   "source": [
    "Выделим год проката из столбца realese_date, затем сохраним выделенное в новый столбец."
   ]
  },
  {
   "cell_type": "code",
   "execution_count": 34,
   "metadata": {},
   "outputs": [],
   "source": [
    "df['release_year'] = df['release_date'].dt.year"
   ]
  },
  {
   "cell_type": "markdown",
   "metadata": {},
   "source": [
    "##### Главный режиссер, основной жанр"
   ]
  },
  {
   "cell_type": "markdown",
   "metadata": {
    "id": "LSbRZKbMgFyU"
   },
   "source": [
    "Создадим функцию, которая будет выделять одно значение до первой запятой в ячейке столбца. Таким обращом, мы сможем выделить главные по-смыслу значения. Применим функцию к столбцам, результаты запишем в новые столбцы"
   ]
  },
  {
   "cell_type": "code",
   "execution_count": 35,
   "metadata": {},
   "outputs": [],
   "source": [
    "def before_comma(value):\n",
    "    result = value.split(',')\n",
    "    return result[0]\n",
    "#  cnj\n",
    "df['main_director'] = df['director'].apply(before_comma)\n",
    "# получим название жанра\n",
    "df['main_genre'] = df['genres'].apply(before_comma)"
   ]
  },
  {
   "cell_type": "markdown",
   "metadata": {
    "id": "LV6qFuZLgFyV"
   },
   "source": [
    "##### Доля бюджета"
   ]
  },
  {
   "cell_type": "markdown",
   "metadata": {},
   "source": [
    "Посчитаем долю и добавим её в новый столбец. Назовем его support_ratio."
   ]
  },
  {
   "cell_type": "code",
   "execution_count": 36,
   "metadata": {},
   "outputs": [],
   "source": [
    "df['support_ratio'] = (df['refundable_support'] +\n",
    "                       df['nonrefundable_support']) / df['budget']\n"
   ]
  },
  {
   "cell_type": "markdown",
   "metadata": {},
   "source": [
    "##### Вывод\n",
    "\n",
    "Мы создали новые столбцы."
   ]
  },
  {
   "cell_type": "markdown",
   "metadata": {
    "id": "6t4EukPLgFyV"
   },
   "source": [
    "### Проведем исследовательский анализ данных\n"
   ]
  },
  {
   "cell_type": "markdown",
   "metadata": {
    "id": "ABeV47y7gFyW"
   },
   "source": [
    "##### Столбчатый график. Количество фильмов."
   ]
  },
  {
   "cell_type": "markdown",
   "metadata": {},
   "source": [
    "Построим столбчатый график. Изобразим на нем количество релизов по годам. После графика выведем на экран долю фильмов с указанной информацией о прокате в кинотеатрах."
   ]
  },
  {
   "cell_type": "code",
   "execution_count": 37,
   "metadata": {
    "scrolled": false
   },
   "outputs": [
    {
     "data": {
      "image/png": "[encoded data removed]",
      "text/plain": [
       "<Figure size 864x360 with 1 Axes>"
      ]
     },
     "metadata": {
      "needs_background": "light"
     },
     "output_type": "display_data"
    },
    {
     "data": {
      "text/plain": [
       "2019    909\n",
       "2018    879\n",
       "2016    771\n",
       "2010    761\n",
       "2014    729\n",
       "2015    661\n",
       "2013    590\n",
       "2012    517\n",
       "2017    499\n",
       "2011    475\n",
       "Name: release_year, dtype: int64"
      ]
     },
     "execution_count": 37,
     "metadata": {},
     "output_type": "execute_result"
    }
   ],
   "source": [
    "\n",
    "df.plot.hist(\n",
    "             y='release_year',\n",
    "             grid=True, \n",
    "             title='Количество фильмов по годам',\n",
    "             bins=10,\n",
    "             range=(2010, df['release_year'].max()),\n",
    "             figsize=(12, 5)\n",
    "             ,fontsize = 15\n",
    "             , ec = 'black'\n",
    ")\n",
    "plt.xlabel('Год выпуска')\n",
    "plt.ylabel('Количество фильмов')\n",
    "plt.show()\n",
    "df['release_year'].value_counts()\n"
   ]
  },
  {
   "cell_type": "markdown",
   "metadata": {},
   "source": [
    "Посчитаем долю."
   ]
  },
  {
   "cell_type": "code",
   "execution_count": 38,
   "metadata": {
    "scrolled": true
   },
   "outputs": [
    {
     "name": "stdout",
     "output_type": "stream",
     "text": [
      "Доля фильмов с указанной информацией о прокате:\n",
      "44.15%\n"
     ]
    }
   ],
   "source": [
    "print(\"Доля фильмов с указанной информацией о прокате:\\n{:.2%}\"\n",
    "      .format(df[df['box_office'] > 1]['box_office'].count() /\n",
    "              df['box_office'].count()))"
   ]
  },
  {
   "cell_type": "markdown",
   "metadata": {},
   "source": [
    "##### Вывод\n",
    "- Доля меньше половины.\n",
    "- Лидером по количеству фильмов является 2019 год."
   ]
  },
  {
   "cell_type": "markdown",
   "metadata": {
    "id": "tfEhofYvgFyX"
   },
   "source": [
    "##### Столбчатый график. Динамика проката по годам."
   ]
  },
  {
   "cell_type": "markdown",
   "metadata": {},
   "source": [
    "Создадим pivot_table по столбцу box_office. Функцией будет sum. Затем построим столбчатую диаграмму."
   ]
  },
  {
   "cell_type": "code",
   "execution_count": 39,
   "metadata": {},
   "outputs": [
    {
     "data": {
      "image/png": "[encoded data removed]",
      "text/plain": [
       "<Figure size 864x360 with 1 Axes>"
      ]
     },
     "metadata": {
      "needs_background": "light"
     },
     "output_type": "display_data"
    }
   ],
   "source": [
    "box_office_year = df.pivot_table(\n",
    "    index='release_year',\n",
    "    values='box_office',\n",
    "    aggfunc='sum'\n",
    "    )\n",
    "box_office_year.plot(\n",
    "              kind='bar',\n",
    "              grid=True,\n",
    "              figsize=(12, 5),\n",
    "              alpha=0.8,\n",
    "              ec = 'Black',\n",
    "              title =('Общие сборы за каждый год'))\n",
    "plt.xlabel('Год')\n",
    "plt.ylabel('Количество')\n",
    "plt.show()"
   ]
  },
  {
   "cell_type": "markdown",
   "metadata": {},
   "source": [
    "#####  Выводы"
   ]
  },
  {
   "cell_type": "markdown",
   "metadata": {},
   "source": [
    "- Лидерами по сборам являются 2017 и 2019 годы. Динамика роста наблюдается с 2014 до 2017. До 2014 данных недостаточно."
   ]
  },
  {
   "cell_type": "markdown",
   "metadata": {},
   "source": [
    "##### Средняя и медианная сумма сборов для каждого года."
   ]
  },
  {
   "cell_type": "markdown",
   "metadata": {
    "id": "jmp-rgg9gFyY"
   },
   "source": [
    "Построим сводную таблицу, все данные в ней должны быть больше 0."
   ]
  },
  {
   "cell_type": "code",
   "execution_count": 40,
   "metadata": {},
   "outputs": [],
   "source": [
    "box_office_no_null = df.query('box_office > 0')\n",
    "box_office_year_no_null = box_office_no_null.pivot_table(\n",
    "    index='release_year',\n",
    "    values='box_office',\n",
    "    aggfunc=['sum', 'mean', 'median']\n",
    "    )"
   ]
  },
  {
   "cell_type": "markdown",
   "metadata": {},
   "source": [
    "Выводим таблицу."
   ]
  },
  {
   "cell_type": "code",
   "execution_count": 41,
   "metadata": {},
   "outputs": [
    {
     "data": {
      "text/html": [
       "<div>\n",
       "<style scoped>\n",
       "    .dataframe tbody tr th:only-of-type {\n",
       "        vertical-align: middle;\n",
       "    }\n",
       "\n",
       "    .dataframe tbody tr th {\n",
       "        vertical-align: top;\n",
       "    }\n",
       "\n",
       "    .dataframe thead tr th {\n",
       "        text-align: left;\n",
       "    }\n",
       "\n",
       "    .dataframe thead tr:last-of-type th {\n",
       "        text-align: right;\n",
       "    }\n",
       "</style>\n",
       "<table border=\"1\" class=\"dataframe\">\n",
       "  <thead>\n",
       "    <tr>\n",
       "      <th></th>\n",
       "      <th>sum</th>\n",
       "      <th>mean</th>\n",
       "      <th>median</th>\n",
       "    </tr>\n",
       "    <tr>\n",
       "      <th></th>\n",
       "      <th>box_office</th>\n",
       "      <th>box_office</th>\n",
       "      <th>box_office</th>\n",
       "    </tr>\n",
       "    <tr>\n",
       "      <th>release_year</th>\n",
       "      <th></th>\n",
       "      <th></th>\n",
       "      <th></th>\n",
       "    </tr>\n",
       "  </thead>\n",
       "  <tbody>\n",
       "    <tr>\n",
       "      <th>2010</th>\n",
       "      <td>2374340</td>\n",
       "      <td>28265.95</td>\n",
       "      <td>2085.00</td>\n",
       "    </tr>\n",
       "    <tr>\n",
       "      <th>2011</th>\n",
       "      <td>13944390</td>\n",
       "      <td>142289.69</td>\n",
       "      <td>3042.50</td>\n",
       "    </tr>\n",
       "    <tr>\n",
       "      <th>2012</th>\n",
       "      <td>6465111</td>\n",
       "      <td>58244.24</td>\n",
       "      <td>6900.00</td>\n",
       "    </tr>\n",
       "    <tr>\n",
       "      <th>2013</th>\n",
       "      <td>29768529</td>\n",
       "      <td>174084.96</td>\n",
       "      <td>3880.00</td>\n",
       "    </tr>\n",
       "    <tr>\n",
       "      <th>2014</th>\n",
       "      <td>7372598552</td>\n",
       "      <td>29372902.60</td>\n",
       "      <td>28150.00</td>\n",
       "    </tr>\n",
       "    <tr>\n",
       "      <th>2015</th>\n",
       "      <td>32084649739</td>\n",
       "      <td>74964134.90</td>\n",
       "      <td>4398303.50</td>\n",
       "    </tr>\n",
       "    <tr>\n",
       "      <th>2016</th>\n",
       "      <td>43731444552</td>\n",
       "      <td>87462889.10</td>\n",
       "      <td>3650260.50</td>\n",
       "    </tr>\n",
       "    <tr>\n",
       "      <th>2017</th>\n",
       "      <td>48561554263</td>\n",
       "      <td>136408860.29</td>\n",
       "      <td>10177833.50</td>\n",
       "    </tr>\n",
       "    <tr>\n",
       "      <th>2018</th>\n",
       "      <td>47857685370</td>\n",
       "      <td>101393401.21</td>\n",
       "      <td>8821498.50</td>\n",
       "    </tr>\n",
       "    <tr>\n",
       "      <th>2019</th>\n",
       "      <td>48418495755</td>\n",
       "      <td>91875703.52</td>\n",
       "      <td>4732610.00</td>\n",
       "    </tr>\n",
       "  </tbody>\n",
       "</table>\n",
       "</div>"
      ],
      "text/plain": [
       "                      sum         mean      median\n",
       "               box_office   box_office  box_office\n",
       "release_year                                      \n",
       "2010              2374340     28265.95     2085.00\n",
       "2011             13944390    142289.69     3042.50\n",
       "2012              6465111     58244.24     6900.00\n",
       "2013             29768529    174084.96     3880.00\n",
       "2014           7372598552  29372902.60    28150.00\n",
       "2015          32084649739  74964134.90  4398303.50\n",
       "2016          43731444552  87462889.10  3650260.50\n",
       "2017          48561554263 136408860.29 10177833.50\n",
       "2018          47857685370 101393401.21  8821498.50\n",
       "2019          48418495755  91875703.52  4732610.00"
      ]
     },
     "execution_count": 41,
     "metadata": {},
     "output_type": "execute_result"
    }
   ],
   "source": [
    "box_office_year_no_null"
   ]
  },
  {
   "cell_type": "markdown",
   "metadata": {},
   "source": [
    "Методом describe() узнаем о максимальных и минимальных значениях."
   ]
  },
  {
   "cell_type": "code",
   "execution_count": 42,
   "metadata": {},
   "outputs": [
    {
     "data": {
      "text/html": [
       "<div>\n",
       "<style scoped>\n",
       "    .dataframe tbody tr th:only-of-type {\n",
       "        vertical-align: middle;\n",
       "    }\n",
       "\n",
       "    .dataframe tbody tr th {\n",
       "        vertical-align: top;\n",
       "    }\n",
       "\n",
       "    .dataframe thead tr th {\n",
       "        text-align: left;\n",
       "    }\n",
       "</style>\n",
       "<table border=\"1\" class=\"dataframe\">\n",
       "  <thead>\n",
       "    <tr>\n",
       "      <th></th>\n",
       "      <th>sum</th>\n",
       "      <th>mean</th>\n",
       "      <th>median</th>\n",
       "    </tr>\n",
       "    <tr>\n",
       "      <th></th>\n",
       "      <th>box_office</th>\n",
       "      <th>box_office</th>\n",
       "      <th>box_office</th>\n",
       "    </tr>\n",
       "  </thead>\n",
       "  <tbody>\n",
       "    <tr>\n",
       "      <th>count</th>\n",
       "      <td>10.00</td>\n",
       "      <td>10.00</td>\n",
       "      <td>10.00</td>\n",
       "    </tr>\n",
       "    <tr>\n",
       "      <th>mean</th>\n",
       "      <td>22807898060.10</td>\n",
       "      <td>52188077.65</td>\n",
       "      <td>3182456.35</td>\n",
       "    </tr>\n",
       "    <tr>\n",
       "      <th>std</th>\n",
       "      <td>23063081422.54</td>\n",
       "      <td>51881692.37</td>\n",
       "      <td>3875776.45</td>\n",
       "    </tr>\n",
       "    <tr>\n",
       "      <th>min</th>\n",
       "      <td>2374340.00</td>\n",
       "      <td>28265.95</td>\n",
       "      <td>2085.00</td>\n",
       "    </tr>\n",
       "    <tr>\n",
       "      <th>25%</th>\n",
       "      <td>17900424.75</td>\n",
       "      <td>150238.51</td>\n",
       "      <td>4635.00</td>\n",
       "    </tr>\n",
       "    <tr>\n",
       "      <th>50%</th>\n",
       "      <td>19728624145.50</td>\n",
       "      <td>52168518.75</td>\n",
       "      <td>1839205.25</td>\n",
       "    </tr>\n",
       "    <tr>\n",
       "      <th>75%</th>\n",
       "      <td>46826125165.50</td>\n",
       "      <td>90772499.92</td>\n",
       "      <td>4649033.38</td>\n",
       "    </tr>\n",
       "    <tr>\n",
       "      <th>max</th>\n",
       "      <td>48561554263.00</td>\n",
       "      <td>136408860.29</td>\n",
       "      <td>10177833.50</td>\n",
       "    </tr>\n",
       "  </tbody>\n",
       "</table>\n",
       "</div>"
      ],
      "text/plain": [
       "                 sum         mean      median\n",
       "          box_office   box_office  box_office\n",
       "count          10.00        10.00       10.00\n",
       "mean  22807898060.10  52188077.65  3182456.35\n",
       "std   23063081422.54  51881692.37  3875776.45\n",
       "min       2374340.00     28265.95     2085.00\n",
       "25%      17900424.75    150238.51     4635.00\n",
       "50%   19728624145.50  52168518.75  1839205.25\n",
       "75%   46826125165.50  90772499.92  4649033.38\n",
       "max   48561554263.00 136408860.29 10177833.50"
      ]
     },
     "execution_count": 42,
     "metadata": {},
     "output_type": "execute_result"
    }
   ],
   "source": [
    "box_office_year_no_null.describe()"
   ]
  },
  {
   "cell_type": "markdown",
   "metadata": {},
   "source": [
    "##### Вывод\n",
    "- наибольшее среднее значение суммы сборов - 2017 год, наименьшее - 2010 год.\n",
    "- наибольшее медианное значение суммы сборов - 2017 год, наименьшее - 2010 год."
   ]
  },
  {
   "cell_type": "markdown",
   "metadata": {},
   "source": [
    "##### Влияние возратсных ограничений на прокат."
   ]
  },
  {
   "cell_type": "markdown",
   "metadata": {
    "id": "jsSbEqfjgFya"
   },
   "source": [
    "Отфильтруем таблицу. Условия: данные с 2014 года, без нулевых значений. Условия обусловденны прошлыми результатами. Выведем результат фильтрации на экран."
   ]
  },
  {
   "cell_type": "code",
   "execution_count": 43,
   "metadata": {},
   "outputs": [],
   "source": [
    "box_office_age = df.query('(box_office > 0)'                                    '& (release_year > 2014)')"
   ]
  },
  {
   "cell_type": "markdown",
   "metadata": {},
   "source": [
    "Выведем результат фильтрации на экран."
   ]
  },
  {
   "cell_type": "code",
   "execution_count": 44,
   "metadata": {
    "scrolled": false
   },
   "outputs": [
    {
     "data": {
      "text/html": [
       "<div>\n",
       "<style scoped>\n",
       "    .dataframe tbody tr th:only-of-type {\n",
       "        vertical-align: middle;\n",
       "    }\n",
       "\n",
       "    .dataframe tbody tr th {\n",
       "        vertical-align: top;\n",
       "    }\n",
       "\n",
       "    .dataframe thead tr th {\n",
       "        text-align: left;\n",
       "    }\n",
       "\n",
       "    .dataframe thead tr:last-of-type th {\n",
       "        text-align: right;\n",
       "    }\n",
       "</style>\n",
       "<table border=\"1\" class=\"dataframe\">\n",
       "  <thead>\n",
       "    <tr>\n",
       "      <th></th>\n",
       "      <th></th>\n",
       "      <th>sum</th>\n",
       "    </tr>\n",
       "    <tr>\n",
       "      <th></th>\n",
       "      <th></th>\n",
       "      <th>box_office</th>\n",
       "    </tr>\n",
       "    <tr>\n",
       "      <th>release_year</th>\n",
       "      <th>age_restriction</th>\n",
       "      <th></th>\n",
       "    </tr>\n",
       "  </thead>\n",
       "  <tbody>\n",
       "    <tr>\n",
       "      <th rowspan=\"5\" valign=\"top\">2015</th>\n",
       "      <th>«0+» - для любой зрительской аудитории</th>\n",
       "      <td>273367758</td>\n",
       "    </tr>\n",
       "    <tr>\n",
       "      <th>«12+» - для детей старше 12 лет</th>\n",
       "      <td>11957220564</td>\n",
       "    </tr>\n",
       "    <tr>\n",
       "      <th>«16+» - для детей старше 16 лет</th>\n",
       "      <td>8274253145</td>\n",
       "    </tr>\n",
       "    <tr>\n",
       "      <th>«18+» - запрещено для детей</th>\n",
       "      <td>3184097912</td>\n",
       "    </tr>\n",
       "    <tr>\n",
       "      <th>«6+» - для детей старше 6 лет</th>\n",
       "      <td>8395710360</td>\n",
       "    </tr>\n",
       "    <tr>\n",
       "      <th rowspan=\"5\" valign=\"top\">2016</th>\n",
       "      <th>«0+» - для любой зрительской аудитории</th>\n",
       "      <td>150183539</td>\n",
       "    </tr>\n",
       "    <tr>\n",
       "      <th>«12+» - для детей старше 12 лет</th>\n",
       "      <td>12178337032</td>\n",
       "    </tr>\n",
       "    <tr>\n",
       "      <th>«16+» - для детей старше 16 лет</th>\n",
       "      <td>14359349571</td>\n",
       "    </tr>\n",
       "    <tr>\n",
       "      <th>«18+» - запрещено для детей</th>\n",
       "      <td>4990430019</td>\n",
       "    </tr>\n",
       "    <tr>\n",
       "      <th>«6+» - для детей старше 6 лет</th>\n",
       "      <td>12053144391</td>\n",
       "    </tr>\n",
       "    <tr>\n",
       "      <th rowspan=\"5\" valign=\"top\">2017</th>\n",
       "      <th>«0+» - для любой зрительской аудитории</th>\n",
       "      <td>229598930</td>\n",
       "    </tr>\n",
       "    <tr>\n",
       "      <th>«12+» - для детей старше 12 лет</th>\n",
       "      <td>7851427659</td>\n",
       "    </tr>\n",
       "    <tr>\n",
       "      <th>«16+» - для детей старше 16 лет</th>\n",
       "      <td>18742889948</td>\n",
       "    </tr>\n",
       "    <tr>\n",
       "      <th>«18+» - запрещено для детей</th>\n",
       "      <td>9651495581</td>\n",
       "    </tr>\n",
       "    <tr>\n",
       "      <th>«6+» - для детей старше 6 лет</th>\n",
       "      <td>12086142145</td>\n",
       "    </tr>\n",
       "    <tr>\n",
       "      <th rowspan=\"5\" valign=\"top\">2018</th>\n",
       "      <th>«0+» - для любой зрительской аудитории</th>\n",
       "      <td>32449001</td>\n",
       "    </tr>\n",
       "    <tr>\n",
       "      <th>«12+» - для детей старше 12 лет</th>\n",
       "      <td>14267291636</td>\n",
       "    </tr>\n",
       "    <tr>\n",
       "      <th>«16+» - для детей старше 16 лет</th>\n",
       "      <td>14817362944</td>\n",
       "    </tr>\n",
       "    <tr>\n",
       "      <th>«18+» - запрещено для детей</th>\n",
       "      <td>8635607197</td>\n",
       "    </tr>\n",
       "    <tr>\n",
       "      <th>«6+» - для детей старше 6 лет</th>\n",
       "      <td>10104974592</td>\n",
       "    </tr>\n",
       "    <tr>\n",
       "      <th rowspan=\"5\" valign=\"top\">2019</th>\n",
       "      <th>«0+» - для любой зрительской аудитории</th>\n",
       "      <td>17746066</td>\n",
       "    </tr>\n",
       "    <tr>\n",
       "      <th>«12+» - для детей старше 12 лет</th>\n",
       "      <td>12677017525</td>\n",
       "    </tr>\n",
       "    <tr>\n",
       "      <th>«16+» - для детей старше 16 лет</th>\n",
       "      <td>12749387308</td>\n",
       "    </tr>\n",
       "    <tr>\n",
       "      <th>«18+» - запрещено для детей</th>\n",
       "      <td>10121796238</td>\n",
       "    </tr>\n",
       "    <tr>\n",
       "      <th>«6+» - для детей старше 6 лет</th>\n",
       "      <td>12852548618</td>\n",
       "    </tr>\n",
       "  </tbody>\n",
       "</table>\n",
       "</div>"
      ],
      "text/plain": [
       "                                                             sum\n",
       "                                                      box_office\n",
       "release_year age_restriction                                    \n",
       "2015         «0+» - для любой зрительской аудитории    273367758\n",
       "             «12+» - для детей старше 12 лет         11957220564\n",
       "             «16+» - для детей старше 16 лет          8274253145\n",
       "             «18+» - запрещено для детей              3184097912\n",
       "             «6+» - для детей старше 6 лет            8395710360\n",
       "2016         «0+» - для любой зрительской аудитории    150183539\n",
       "             «12+» - для детей старше 12 лет         12178337032\n",
       "             «16+» - для детей старше 16 лет         14359349571\n",
       "             «18+» - запрещено для детей              4990430019\n",
       "             «6+» - для детей старше 6 лет           12053144391\n",
       "2017         «0+» - для любой зрительской аудитории    229598930\n",
       "             «12+» - для детей старше 12 лет          7851427659\n",
       "             «16+» - для детей старше 16 лет         18742889948\n",
       "             «18+» - запрещено для детей              9651495581\n",
       "             «6+» - для детей старше 6 лет           12086142145\n",
       "2018         «0+» - для любой зрительской аудитории     32449001\n",
       "             «12+» - для детей старше 12 лет         14267291636\n",
       "             «16+» - для детей старше 16 лет         14817362944\n",
       "             «18+» - запрещено для детей              8635607197\n",
       "             «6+» - для детей старше 6 лет           10104974592\n",
       "2019         «0+» - для любой зрительской аудитории     17746066\n",
       "             «12+» - для детей старше 12 лет         12677017525\n",
       "             «16+» - для детей старше 16 лет         12749387308\n",
       "             «18+» - запрещено для детей             10121796238\n",
       "             «6+» - для детей старше 6 лет           12852548618"
      ]
     },
     "execution_count": 44,
     "metadata": {},
     "output_type": "execute_result"
    }
   ],
   "source": [
    "box_office_year_age = box_office_age.pivot_table(\n",
    "    index=['release_year', 'age_restriction'],\n",
    "    values='box_office',\n",
    "    aggfunc=['sum']\n",
    "    )\n",
    "box_office_year_age"
   ]
  },
  {
   "cell_type": "code",
   "execution_count": 45,
   "metadata": {},
   "outputs": [
    {
     "data": {
      "text/html": [
       "<div>\n",
       "<style scoped>\n",
       "    .dataframe tbody tr th:only-of-type {\n",
       "        vertical-align: middle;\n",
       "    }\n",
       "\n",
       "    .dataframe tbody tr th {\n",
       "        vertical-align: top;\n",
       "    }\n",
       "\n",
       "    .dataframe thead tr th {\n",
       "        text-align: left;\n",
       "    }\n",
       "</style>\n",
       "<table border=\"1\" class=\"dataframe\">\n",
       "  <thead>\n",
       "    <tr>\n",
       "      <th></th>\n",
       "      <th>sum</th>\n",
       "    </tr>\n",
       "    <tr>\n",
       "      <th></th>\n",
       "      <th>box_office</th>\n",
       "    </tr>\n",
       "  </thead>\n",
       "  <tbody>\n",
       "    <tr>\n",
       "      <th>count</th>\n",
       "      <td>25.00</td>\n",
       "    </tr>\n",
       "    <tr>\n",
       "      <th>mean</th>\n",
       "      <td>8826153187.16</td>\n",
       "    </tr>\n",
       "    <tr>\n",
       "      <th>std</th>\n",
       "      <td>5447593941.08</td>\n",
       "    </tr>\n",
       "    <tr>\n",
       "      <th>min</th>\n",
       "      <td>17746066.00</td>\n",
       "    </tr>\n",
       "    <tr>\n",
       "      <th>25%</th>\n",
       "      <td>4990430019.00</td>\n",
       "    </tr>\n",
       "    <tr>\n",
       "      <th>50%</th>\n",
       "      <td>10104974592.00</td>\n",
       "    </tr>\n",
       "    <tr>\n",
       "      <th>75%</th>\n",
       "      <td>12677017525.00</td>\n",
       "    </tr>\n",
       "    <tr>\n",
       "      <th>max</th>\n",
       "      <td>18742889948.00</td>\n",
       "    </tr>\n",
       "  </tbody>\n",
       "</table>\n",
       "</div>"
      ],
      "text/plain": [
       "                 sum\n",
       "          box_office\n",
       "count          25.00\n",
       "mean   8826153187.16\n",
       "std    5447593941.08\n",
       "min      17746066.00\n",
       "25%    4990430019.00\n",
       "50%   10104974592.00\n",
       "75%   12677017525.00\n",
       "max   18742889948.00"
      ]
     },
     "execution_count": 45,
     "metadata": {},
     "output_type": "execute_result"
    }
   ],
   "source": [
    "box_office_year_age.describe()"
   ]
  },
  {
   "cell_type": "markdown",
   "metadata": {},
   "source": [
    "##### Вывод."
   ]
  },
  {
   "cell_type": "markdown",
   "metadata": {},
   "source": [
    "- Максимальное значение - 18742889948 «16+» 2017 год, минимальное - 17746066 «0+» 2019 год.\n",
    "- Наблюдается тенденция роста.\n",
    "- «16+» самые ликвидные фильмы. Подростки ходят в кино чаще чем дети, помимо них эта категория включает и взрослых людей.\n"
   ]
  },
  {
   "cell_type": "markdown",
   "metadata": {
    "id": "l_Kg6Ku4gFya"
   },
   "source": [
    "### Исследуем фильмы, которые получили государственную поддержку\n",
    "\n"
   ]
  },
  {
   "cell_type": "markdown",
   "metadata": {},
   "source": [
    "##### План действий."
   ]
  },
  {
   "cell_type": "markdown",
   "metadata": {
    "id": "W9QKpjUdgFyb"
   },
   "source": [
    "- Отфильтруем данные по столбцу budget. Значения должны быть больше 0\n",
    "- Применим к фильтру метод describe()\n",
    "- Посчитаем соотношение государственного финансирования к размеру кассовых сборов, изучим квартили по методу describe()\n",
    "- Построим гистограмму по рейтингу кинопоиска и узнаем, какую оценку имеют фильмы с гос поддержкой."
   ]
  },
  {
   "cell_type": "code",
   "execution_count": 46,
   "metadata": {
    "scrolled": true
   },
   "outputs": [
    {
     "data": {
      "text/plain": [
       "count          330.00\n",
       "mean     131846167.89\n",
       "std      187633606.15\n",
       "min        6000000.00\n",
       "25%       45497088.50\n",
       "50%       71196901.50\n",
       "75%      150000000.00\n",
       "max     2305074303.00\n",
       "Name: budget, dtype: float64"
      ]
     },
     "execution_count": 46,
     "metadata": {},
     "output_type": "execute_result"
    }
   ],
   "source": [
    "df_budget = df.loc[df.loc[:, 'budget'] > 0]\n",
    "df_budget['budget'].describe()"
   ]
  },
  {
   "cell_type": "markdown",
   "metadata": {},
   "source": [
    "Макисмально выделялось 2305074303 рублей. Интересно, что за фильм с такой гос поддержкой."
   ]
  },
  {
   "cell_type": "code",
   "execution_count": 47,
   "metadata": {
    "scrolled": true
   },
   "outputs": [
    {
     "data": {
      "text/html": [
       "<div>\n",
       "<style scoped>\n",
       "    .dataframe tbody tr th:only-of-type {\n",
       "        vertical-align: middle;\n",
       "    }\n",
       "\n",
       "    .dataframe tbody tr th {\n",
       "        vertical-align: top;\n",
       "    }\n",
       "\n",
       "    .dataframe thead th {\n",
       "        text-align: right;\n",
       "    }\n",
       "</style>\n",
       "<table border=\"1\" class=\"dataframe\">\n",
       "  <thead>\n",
       "    <tr style=\"text-align: right;\">\n",
       "      <th></th>\n",
       "      <th>movie_title</th>\n",
       "      <th>pu_number</th>\n",
       "      <th>release_date</th>\n",
       "      <th>movie_type</th>\n",
       "      <th>film_studio</th>\n",
       "      <th>production_country</th>\n",
       "      <th>director</th>\n",
       "      <th>producer</th>\n",
       "      <th>age_restriction</th>\n",
       "      <th>refundable_support</th>\n",
       "      <th>nonrefundable_support</th>\n",
       "      <th>budget</th>\n",
       "      <th>financing_source</th>\n",
       "      <th>ratings</th>\n",
       "      <th>genres</th>\n",
       "      <th>box_office</th>\n",
       "      <th>release_year</th>\n",
       "      <th>main_director</th>\n",
       "      <th>main_genre</th>\n",
       "      <th>support_ratio</th>\n",
       "    </tr>\n",
       "  </thead>\n",
       "  <tbody>\n",
       "    <tr>\n",
       "      <th>6430</th>\n",
       "      <td>тайна печати дракона</td>\n",
       "      <td>111012819</td>\n",
       "      <td>2019-09-12</td>\n",
       "      <td>художественный</td>\n",
       "      <td>ооо \"кинокомпания \"ств\"; ооо \"рфг корп\"; ооо \"...</td>\n",
       "      <td>россия-китай</td>\n",
       "      <td>о.степченко</td>\n",
       "      <td>с.сельянов, а.петрухин</td>\n",
       "      <td>«6+» - для детей старше 6 лет</td>\n",
       "      <td>180000000.00</td>\n",
       "      <td>90000000.00</td>\n",
       "      <td>2305074303.00</td>\n",
       "      <td>Фонд кино</td>\n",
       "      <td>5.80</td>\n",
       "      <td>приключения,фэнтези</td>\n",
       "      <td>333597059</td>\n",
       "      <td>2019</td>\n",
       "      <td>о.степченко</td>\n",
       "      <td>приключения</td>\n",
       "      <td>0.12</td>\n",
       "    </tr>\n",
       "  </tbody>\n",
       "</table>\n",
       "</div>"
      ],
      "text/plain": [
       "               movie_title  pu_number release_date      movie_type  \\\n",
       "6430  тайна печати дракона  111012819   2019-09-12  художественный   \n",
       "\n",
       "                                            film_studio production_country  \\\n",
       "6430  ооо \"кинокомпания \"ств\"; ооо \"рфг корп\"; ооо \"...       россия-китай   \n",
       "\n",
       "         director                producer                age_restriction  \\\n",
       "6430  о.степченко  с.сельянов, а.петрухин  «6+» - для детей старше 6 лет   \n",
       "\n",
       "      refundable_support  nonrefundable_support        budget  \\\n",
       "6430        180000000.00            90000000.00 2305074303.00   \n",
       "\n",
       "     financing_source  ratings               genres  box_office  release_year  \\\n",
       "6430        Фонд кино     5.80  приключения,фэнтези   333597059          2019   \n",
       "\n",
       "     main_director   main_genre  support_ratio  \n",
       "6430   о.степченко  приключения           0.12  "
      ]
     },
     "execution_count": 47,
     "metadata": {},
     "output_type": "execute_result"
    }
   ],
   "source": [
    "df_budget.query('budget == 2305074303.00')"
   ]
  },
  {
   "cell_type": "markdown",
   "metadata": {},
   "source": [
    "Страна проивзодитель Россия - Китай. Вопросы о величине бюджета отпадают."
   ]
  },
  {
   "cell_type": "markdown",
   "metadata": {},
   "source": [
    "Минимально 6000000. Интересно, что за фильм с такой гос поддержкой."
   ]
  },
  {
   "cell_type": "code",
   "execution_count": 48,
   "metadata": {},
   "outputs": [
    {
     "data": {
      "text/html": [
       "<div>\n",
       "<style scoped>\n",
       "    .dataframe tbody tr th:only-of-type {\n",
       "        vertical-align: middle;\n",
       "    }\n",
       "\n",
       "    .dataframe tbody tr th {\n",
       "        vertical-align: top;\n",
       "    }\n",
       "\n",
       "    .dataframe thead th {\n",
       "        text-align: right;\n",
       "    }\n",
       "</style>\n",
       "<table border=\"1\" class=\"dataframe\">\n",
       "  <thead>\n",
       "    <tr style=\"text-align: right;\">\n",
       "      <th></th>\n",
       "      <th>movie_title</th>\n",
       "      <th>pu_number</th>\n",
       "      <th>release_date</th>\n",
       "      <th>movie_type</th>\n",
       "      <th>film_studio</th>\n",
       "      <th>production_country</th>\n",
       "      <th>director</th>\n",
       "      <th>producer</th>\n",
       "      <th>age_restriction</th>\n",
       "      <th>refundable_support</th>\n",
       "      <th>nonrefundable_support</th>\n",
       "      <th>budget</th>\n",
       "      <th>financing_source</th>\n",
       "      <th>ratings</th>\n",
       "      <th>genres</th>\n",
       "      <th>box_office</th>\n",
       "      <th>release_year</th>\n",
       "      <th>main_director</th>\n",
       "      <th>main_genre</th>\n",
       "      <th>support_ratio</th>\n",
       "    </tr>\n",
       "  </thead>\n",
       "  <tbody>\n",
       "    <tr>\n",
       "      <th>2623</th>\n",
       "      <td>помню - не помню!</td>\n",
       "      <td>111004916</td>\n",
       "      <td>2016-03-01</td>\n",
       "      <td>художественный</td>\n",
       "      <td>ооо \"кинофирма\"</td>\n",
       "      <td>россия</td>\n",
       "      <td>в.ровенский</td>\n",
       "      <td>ооо \"кинофирма\"</td>\n",
       "      <td>«12+» - для детей старше 12 лет</td>\n",
       "      <td>0.00</td>\n",
       "      <td>6000000.00</td>\n",
       "      <td>6000000.00</td>\n",
       "      <td>Министерство культуры</td>\n",
       "      <td>4.30</td>\n",
       "      <td>комедия</td>\n",
       "      <td>15362931</td>\n",
       "      <td>2016</td>\n",
       "      <td>в.ровенский</td>\n",
       "      <td>комедия</td>\n",
       "      <td>1.00</td>\n",
       "    </tr>\n",
       "  </tbody>\n",
       "</table>\n",
       "</div>"
      ],
      "text/plain": [
       "            movie_title  pu_number release_date      movie_type  \\\n",
       "2623  помню - не помню!  111004916   2016-03-01  художественный   \n",
       "\n",
       "          film_studio production_country     director         producer  \\\n",
       "2623  ооо \"кинофирма\"             россия  в.ровенский  ооо \"кинофирма\"   \n",
       "\n",
       "                      age_restriction  refundable_support  \\\n",
       "2623  «12+» - для детей старше 12 лет                0.00   \n",
       "\n",
       "      nonrefundable_support     budget       financing_source  ratings  \\\n",
       "2623             6000000.00 6000000.00  Министерство культуры     4.30   \n",
       "\n",
       "       genres  box_office  release_year main_director main_genre  \\\n",
       "2623  комедия    15362931          2016   в.ровенский    комедия   \n",
       "\n",
       "      support_ratio  \n",
       "2623           1.00  "
      ]
     },
     "execution_count": 48,
     "metadata": {},
     "output_type": "execute_result"
    }
   ],
   "source": [
    "df_budget.query('budget == 6000000')"
   ]
  },
  {
   "cell_type": "markdown",
   "metadata": {},
   "source": [
    "Описание с сайта Кинопоиск: 'Библиотекарша меняется телами с заносчивой блондинкой. Комедия об умении любить себя со звездой Comedy Woman.'\n",
    "\n",
    "Рейтинг всего на 1,3 ниже по сравнению с фильмом с максимальным бюджетом.\n"
   ]
  },
  {
   "cell_type": "markdown",
   "metadata": {},
   "source": [
    " Среднее значение 131846167. Теперь посчитаем соотношение государственного финансирования к размеру кассовых сборов, изучим квартили по методу describe()"
   ]
  },
  {
   "cell_type": "code",
   "execution_count": 49,
   "metadata": {},
   "outputs": [
    {
     "data": {
      "text/plain": [
       "count     316.00\n",
       "mean      373.56\n",
       "std      3429.99\n",
       "min         0.05\n",
       "25%         1.02\n",
       "50%         5.60\n",
       "75%        43.34\n",
       "max     58709.68\n",
       "Name: budget_ratio, dtype: float64"
      ]
     },
     "execution_count": 49,
     "metadata": {},
     "output_type": "execute_result"
    }
   ],
   "source": [
    "df_budget_box_office = df_budget[df_budget[\n",
    "    'box_office'] > 0]\n",
    "df_budget_box_office['budget_ratio'] = df_budget_box_office[\n",
    "    'budget'] / df_budget_box_office['box_office']\n",
    "df_budget_box_office['budget_ratio'].describe()"
   ]
  },
  {
   "cell_type": "markdown",
   "metadata": {},
   "source": [
    "1.02 - значение первого квартиля. Это означает, что большинство фильмов не окупаются. Отфильтруем рейтинги по принципу 'все кроме нулевых' и построим гистограмму зависимости оценки."
   ]
  },
  {
   "cell_type": "code",
   "execution_count": 50,
   "metadata": {},
   "outputs": [
    {
     "data": {
      "image/png": "[encoded data removed]",
      "text/plain": [
       "<Figure size 864x360 with 1 Axes>"
      ]
     },
     "metadata": {
      "needs_background": "light"
     },
     "output_type": "display_data"
    }
   ],
   "source": [
    "df_budget_ratings = df_budget.loc[\n",
    "    df_budget.loc[:, 'ratings'] > 0]\n",
    "df_budget_ratings.plot.hist(\n",
    "                                     y='ratings',\n",
    "                                     grid=True,\n",
    "                                     title='Рейтинги и количество оценок',\n",
    "                                     bins=10,\n",
    "                                     range=(0, 10),\n",
    "                                     figsize=(12, 5)\n",
    ")\n",
    "plt.xlabel('Рейтинг')\n",
    "plt.ylabel('Количество оценок')\n",
    "plt.show()"
   ]
  },
  {
   "cell_type": "markdown",
   "metadata": {},
   "source": [
    "##### Вывод"
   ]
  },
  {
   "cell_type": "markdown",
   "metadata": {},
   "source": [
    "- Менее четверти фильмов с гос поддержкой хорошо оценены зрителями, учитывая что рейтинг оценки 'хорошая' на Кинопоиске начинается с 7."
   ]
  },
  {
   "cell_type": "markdown",
   "metadata": {
    "id": "V2gYwMcPgFyd"
   },
   "source": [
    "### Общий вывод"
   ]
  },
  {
   "cell_type": "markdown",
   "metadata": {
    "id": "AYRg3dzXgFye"
   },
   "source": [
    "**Результаты исследования**"
   ]
  },
  {
   "cell_type": "markdown",
   "metadata": {},
   "source": [
    "Мы преобразовали данные, создали новые столбцы. Для данных верны утверждения:\n",
    "\n",
    "- Доля фильмов с указанной информацией о прокате: 44.15% это меньше, чем половина.\n",
    "- Лидером по количеству фильмов является 2019 год.\n",
    "- Лидерами по сборам являются 2017 и 2019 годы. Динамика роста наблюдается с 2014 до 2017. До 2014 данных недостаточно.\n",
    "- Наибольшее среднее значение суммы сборов - 2017 год, наименьшее - 2010 год.\n",
    "- Наибольшее медианное значение суммы сборов - 2017 год, наименьшее - 2010 год.\n",
    "- «16+» самые ликвидные фильмы. Подростки ходят в кино чаще чем дети, помимо них эта категория включает и взрослых людей.\n",
    "- Менее четверти фильмов с гос поддержкой хорошо оценены зрителями, учитывая что рейтинг оценки 'хорошая' на Кинопоиске начинается с 7."
   ]
  }
 ],
 "metadata": {
  "ExecuteTimeLog": [
   {
    "duration": 537,
    "start_time": "2021-07-07T10:12:08.634Z"
   },
   {
    "duration": 206,
    "start_time": "2021-07-07T10:12:30.191Z"
   },
   {
    "duration": 227,
    "start_time": "2021-07-07T10:12:33.078Z"
   },
   {
    "duration": 153,
    "start_time": "2021-07-07T10:13:42.146Z"
   },
   {
    "duration": 233,
    "start_time": "2021-07-07T10:30:09.252Z"
   },
   {
    "duration": 19,
    "start_time": "2021-07-07T10:30:15.577Z"
   },
   {
    "duration": 18,
    "start_time": "2021-07-07T10:30:57.348Z"
   },
   {
    "duration": 19,
    "start_time": "2021-07-07T10:31:17.452Z"
   },
   {
    "duration": 21,
    "start_time": "2021-07-07T10:31:32.227Z"
   },
   {
    "duration": 27,
    "start_time": "2021-07-07T10:32:06.588Z"
   },
   {
    "duration": 23,
    "start_time": "2021-07-07T10:32:43.645Z"
   },
   {
    "duration": 24,
    "start_time": "2021-07-07T10:33:06.948Z"
   },
   {
    "duration": 7,
    "start_time": "2021-07-07T10:33:28.558Z"
   },
   {
    "duration": 23,
    "start_time": "2021-07-07T10:33:43.761Z"
   },
   {
    "duration": 28,
    "start_time": "2021-07-07T10:34:13.466Z"
   },
   {
    "duration": 23,
    "start_time": "2021-07-07T10:35:56.187Z"
   },
   {
    "duration": 6,
    "start_time": "2021-07-07T10:36:48.182Z"
   },
   {
    "duration": 14,
    "start_time": "2021-07-07T10:37:49.641Z"
   },
   {
    "duration": 6,
    "start_time": "2021-07-07T10:38:06.694Z"
   },
   {
    "duration": 6,
    "start_time": "2021-07-07T10:38:13.493Z"
   },
   {
    "duration": 19,
    "start_time": "2021-07-07T10:38:44.056Z"
   },
   {
    "duration": 186,
    "start_time": "2021-07-07T10:48:35.618Z"
   },
   {
    "duration": 24,
    "start_time": "2021-07-07T10:48:51.498Z"
   },
   {
    "duration": 20,
    "start_time": "2021-07-07T10:48:59.415Z"
   },
   {
    "duration": 20,
    "start_time": "2021-07-07T10:53:02.195Z"
   },
   {
    "duration": 188,
    "start_time": "2021-07-07T10:54:40.486Z"
   },
   {
    "duration": 115,
    "start_time": "2021-07-07T10:54:52.552Z"
   },
   {
    "duration": 214,
    "start_time": "2021-07-07T10:54:56.354Z"
   },
   {
    "duration": 47,
    "start_time": "2021-07-07T10:54:58.282Z"
   },
   {
    "duration": 217,
    "start_time": "2021-07-07T10:59:16.075Z"
   },
   {
    "duration": 51,
    "start_time": "2021-07-07T10:59:16.243Z"
   },
   {
    "duration": 578,
    "start_time": "2021-07-07T10:59:18.774Z"
   },
   {
    "duration": 161,
    "start_time": "2021-07-07T10:59:21.238Z"
   },
   {
    "duration": 59,
    "start_time": "2021-07-07T10:59:21.453Z"
   },
   {
    "duration": 3,
    "start_time": "2021-07-07T11:02:10.786Z"
   },
   {
    "duration": 13,
    "start_time": "2021-07-07T11:07:07.722Z"
   },
   {
    "duration": 26,
    "start_time": "2021-07-07T11:07:17.958Z"
   },
   {
    "duration": 22,
    "start_time": "2021-07-07T11:08:17.939Z"
   },
   {
    "duration": 212,
    "start_time": "2021-07-07T11:08:19.665Z"
   },
   {
    "duration": 21,
    "start_time": "2021-07-07T11:08:29.945Z"
   },
   {
    "duration": 31,
    "start_time": "2021-07-07T11:08:38.899Z"
   },
   {
    "duration": 23,
    "start_time": "2021-07-07T11:08:54.527Z"
   },
   {
    "duration": 8,
    "start_time": "2021-07-07T11:18:55.974Z"
   },
   {
    "duration": 7,
    "start_time": "2021-07-07T11:19:03.639Z"
   },
   {
    "duration": 7,
    "start_time": "2021-07-07T11:19:06.444Z"
   },
   {
    "duration": 578,
    "start_time": "2021-07-07T12:09:59.576Z"
   },
   {
    "duration": 195,
    "start_time": "2021-07-07T12:10:00.156Z"
   },
   {
    "duration": 115,
    "start_time": "2021-07-07T12:10:00.353Z"
   },
   {
    "duration": 3,
    "start_time": "2021-07-07T12:10:00.470Z"
   },
   {
    "duration": 32,
    "start_time": "2021-07-07T12:10:00.474Z"
   },
   {
    "duration": 23,
    "start_time": "2021-07-07T12:10:00.508Z"
   },
   {
    "duration": 19,
    "start_time": "2021-07-07T12:10:00.533Z"
   },
   {
    "duration": 44,
    "start_time": "2021-07-07T12:10:00.553Z"
   },
   {
    "duration": 7,
    "start_time": "2021-07-07T12:10:00.600Z"
   },
   {
    "duration": 7,
    "start_time": "2021-07-07T12:19:45.761Z"
   },
   {
    "duration": 21,
    "start_time": "2021-07-07T12:21:35.482Z"
   },
   {
    "duration": 21,
    "start_time": "2021-07-07T12:29:23.569Z"
   },
   {
    "duration": 525,
    "start_time": "2021-07-07T12:29:44.542Z"
   },
   {
    "duration": 214,
    "start_time": "2021-07-07T12:29:45.069Z"
   },
   {
    "duration": 92,
    "start_time": "2021-07-07T12:29:45.285Z"
   },
   {
    "duration": 3,
    "start_time": "2021-07-07T12:29:45.379Z"
   },
   {
    "duration": 28,
    "start_time": "2021-07-07T12:29:45.384Z"
   },
   {
    "duration": 23,
    "start_time": "2021-07-07T12:29:45.413Z"
   },
   {
    "duration": 21,
    "start_time": "2021-07-07T12:29:45.437Z"
   },
   {
    "duration": 41,
    "start_time": "2021-07-07T12:29:45.460Z"
   },
   {
    "duration": 7,
    "start_time": "2021-07-07T12:29:45.502Z"
   },
   {
    "duration": 20,
    "start_time": "2021-07-07T12:29:45.511Z"
   },
   {
    "duration": 12,
    "start_time": "2021-07-07T12:34:02.800Z"
   },
   {
    "duration": 7,
    "start_time": "2021-07-07T12:35:10.479Z"
   },
   {
    "duration": 8,
    "start_time": "2021-07-07T12:35:22.440Z"
   },
   {
    "duration": 6,
    "start_time": "2021-07-07T12:35:35.649Z"
   },
   {
    "duration": 6,
    "start_time": "2021-07-07T12:35:43.107Z"
   },
   {
    "duration": 22,
    "start_time": "2021-07-07T12:38:03.029Z"
   },
   {
    "duration": 10,
    "start_time": "2021-07-07T12:38:06.592Z"
   },
   {
    "duration": 563,
    "start_time": "2021-07-07T12:38:46.493Z"
   },
   {
    "duration": 265,
    "start_time": "2021-07-07T12:38:47.058Z"
   },
   {
    "duration": 94,
    "start_time": "2021-07-07T12:38:47.325Z"
   },
   {
    "duration": 3,
    "start_time": "2021-07-07T12:38:47.422Z"
   },
   {
    "duration": 30,
    "start_time": "2021-07-07T12:38:47.427Z"
   },
   {
    "duration": 16,
    "start_time": "2021-07-07T12:38:53.305Z"
   },
   {
    "duration": 10,
    "start_time": "2021-07-07T12:38:53.499Z"
   },
   {
    "duration": 8,
    "start_time": "2021-07-07T12:39:48.161Z"
   },
   {
    "duration": 27,
    "start_time": "2021-07-07T12:41:17.629Z"
   },
   {
    "duration": 17,
    "start_time": "2021-07-07T12:41:17.867Z"
   },
   {
    "duration": 21,
    "start_time": "2021-07-07T12:41:19.310Z"
   },
   {
    "duration": 7,
    "start_time": "2021-07-07T12:41:19.544Z"
   },
   {
    "duration": 20,
    "start_time": "2021-07-07T12:41:20.504Z"
   },
   {
    "duration": 554,
    "start_time": "2021-07-07T12:56:23.696Z"
   },
   {
    "duration": 200,
    "start_time": "2021-07-07T12:56:25.234Z"
   },
   {
    "duration": 119,
    "start_time": "2021-07-07T12:56:25.480Z"
   },
   {
    "duration": 4,
    "start_time": "2021-07-07T12:56:25.762Z"
   },
   {
    "duration": 26,
    "start_time": "2021-07-07T12:56:27.172Z"
   },
   {
    "duration": 12,
    "start_time": "2021-07-07T12:56:29.051Z"
   },
   {
    "duration": 10,
    "start_time": "2021-07-07T12:56:29.291Z"
   },
   {
    "duration": 8,
    "start_time": "2021-07-07T12:56:29.623Z"
   },
   {
    "duration": 28,
    "start_time": "2021-07-07T12:56:32.137Z"
   },
   {
    "duration": 19,
    "start_time": "2021-07-07T12:56:39.785Z"
   },
   {
    "duration": 20,
    "start_time": "2021-07-07T12:56:44.297Z"
   },
   {
    "duration": 7,
    "start_time": "2021-07-07T12:56:45.392Z"
   },
   {
    "duration": 23,
    "start_time": "2021-07-07T12:56:46.615Z"
   },
   {
    "duration": 4,
    "start_time": "2021-07-07T12:57:06.625Z"
   },
   {
    "duration": 32,
    "start_time": "2021-07-07T12:57:36.690Z"
   },
   {
    "duration": 18,
    "start_time": "2021-07-07T12:58:00.149Z"
   },
   {
    "duration": 15,
    "start_time": "2021-07-07T12:59:16.793Z"
   },
   {
    "duration": 7,
    "start_time": "2021-07-07T13:19:22.624Z"
   },
   {
    "duration": 6,
    "start_time": "2021-07-07T14:17:33.527Z"
   },
   {
    "duration": 9,
    "start_time": "2021-07-07T14:17:48.409Z"
   },
   {
    "duration": 8,
    "start_time": "2021-07-07T14:20:13.060Z"
   },
   {
    "duration": 8,
    "start_time": "2021-07-07T14:20:37.957Z"
   },
   {
    "duration": 8,
    "start_time": "2021-07-07T14:20:47.470Z"
   },
   {
    "duration": 9,
    "start_time": "2021-07-07T14:20:54.503Z"
   },
   {
    "duration": 10,
    "start_time": "2021-07-07T14:28:57.763Z"
   },
   {
    "duration": 3,
    "start_time": "2021-07-07T14:30:23.377Z"
   },
   {
    "duration": 3,
    "start_time": "2021-07-07T14:30:36.489Z"
   },
   {
    "duration": 103,
    "start_time": "2021-07-07T14:30:52.351Z"
   },
   {
    "duration": 8,
    "start_time": "2021-07-07T14:30:54.763Z"
   },
   {
    "duration": 8,
    "start_time": "2021-07-07T14:31:29.301Z"
   },
   {
    "duration": 13,
    "start_time": "2021-07-07T14:31:44.516Z"
   },
   {
    "duration": 7,
    "start_time": "2021-07-07T14:33:10.972Z"
   },
   {
    "duration": 11,
    "start_time": "2021-07-07T14:33:27.780Z"
   },
   {
    "duration": 8,
    "start_time": "2021-07-07T14:34:44.588Z"
   },
   {
    "duration": 57,
    "start_time": "2021-07-07T14:35:59.042Z"
   },
   {
    "duration": 3,
    "start_time": "2021-07-07T14:36:28.168Z"
   },
   {
    "duration": 5,
    "start_time": "2021-07-07T14:36:46.254Z"
   },
   {
    "duration": 4,
    "start_time": "2021-07-07T14:36:52.714Z"
   },
   {
    "duration": 3,
    "start_time": "2021-07-07T14:36:56.612Z"
   },
   {
    "duration": 4,
    "start_time": "2021-07-07T14:36:57.049Z"
   },
   {
    "duration": 3,
    "start_time": "2021-07-07T14:39:21.214Z"
   },
   {
    "duration": 7,
    "start_time": "2021-07-07T14:39:52.406Z"
   },
   {
    "duration": 11,
    "start_time": "2021-07-07T14:39:58.576Z"
   },
   {
    "duration": 9,
    "start_time": "2021-07-07T14:40:26.301Z"
   },
   {
    "duration": 10,
    "start_time": "2021-07-07T14:40:31.704Z"
   },
   {
    "duration": 11,
    "start_time": "2021-07-07T14:40:36.249Z"
   },
   {
    "duration": 10,
    "start_time": "2021-07-07T14:40:39.783Z"
   },
   {
    "duration": 9,
    "start_time": "2021-07-07T14:40:48.558Z"
   },
   {
    "duration": 10,
    "start_time": "2021-07-07T14:40:57.143Z"
   },
   {
    "duration": 9,
    "start_time": "2021-07-07T14:41:06.074Z"
   },
   {
    "duration": 4324,
    "start_time": "2021-07-07T14:41:22.004Z"
   },
   {
    "duration": 11,
    "start_time": "2021-07-07T14:41:33.392Z"
   },
   {
    "duration": 9,
    "start_time": "2021-07-07T14:41:39.288Z"
   },
   {
    "duration": 569,
    "start_time": "2021-07-07T14:42:14.387Z"
   },
   {
    "duration": 197,
    "start_time": "2021-07-07T14:42:14.959Z"
   },
   {
    "duration": 84,
    "start_time": "2021-07-07T14:42:16.052Z"
   },
   {
    "duration": 4,
    "start_time": "2021-07-07T14:42:16.900Z"
   },
   {
    "duration": 27,
    "start_time": "2021-07-07T14:42:19.898Z"
   },
   {
    "duration": 12,
    "start_time": "2021-07-07T14:42:21.577Z"
   },
   {
    "duration": 9,
    "start_time": "2021-07-07T14:42:21.813Z"
   },
   {
    "duration": 9,
    "start_time": "2021-07-07T14:42:22.569Z"
   },
   {
    "duration": 29,
    "start_time": "2021-07-07T14:42:25.837Z"
   },
   {
    "duration": 20,
    "start_time": "2021-07-07T14:42:27.003Z"
   },
   {
    "duration": 21,
    "start_time": "2021-07-07T14:42:28.767Z"
   },
   {
    "duration": 7,
    "start_time": "2021-07-07T14:42:29.838Z"
   },
   {
    "duration": 4,
    "start_time": "2021-07-07T14:43:25.493Z"
   },
   {
    "duration": 7,
    "start_time": "2021-07-07T14:43:26.573Z"
   },
   {
    "duration": 10,
    "start_time": "2021-07-07T14:43:31.639Z"
   },
   {
    "duration": 9,
    "start_time": "2021-07-07T14:43:32.046Z"
   },
   {
    "duration": 10,
    "start_time": "2021-07-07T14:43:33.301Z"
   },
   {
    "duration": 12,
    "start_time": "2021-07-07T14:43:33.658Z"
   },
   {
    "duration": 8,
    "start_time": "2021-07-07T14:43:34.552Z"
   },
   {
    "duration": 9,
    "start_time": "2021-07-07T14:43:35.058Z"
   },
   {
    "duration": 12,
    "start_time": "2021-07-07T14:43:35.914Z"
   },
   {
    "duration": 17,
    "start_time": "2021-07-07T14:45:34.368Z"
   },
   {
    "duration": 512,
    "start_time": "2021-07-07T14:51:58.236Z"
   },
   {
    "duration": 223,
    "start_time": "2021-07-07T14:51:58.750Z"
   },
   {
    "duration": 93,
    "start_time": "2021-07-07T14:51:58.977Z"
   },
   {
    "duration": 4,
    "start_time": "2021-07-07T14:51:59.071Z"
   },
   {
    "duration": 37,
    "start_time": "2021-07-07T14:51:59.077Z"
   },
   {
    "duration": 18,
    "start_time": "2021-07-07T14:51:59.116Z"
   },
   {
    "duration": 10,
    "start_time": "2021-07-07T14:51:59.137Z"
   },
   {
    "duration": 8,
    "start_time": "2021-07-07T14:51:59.149Z"
   },
   {
    "duration": 54,
    "start_time": "2021-07-07T14:51:59.158Z"
   },
   {
    "duration": 18,
    "start_time": "2021-07-07T14:51:59.213Z"
   },
   {
    "duration": 22,
    "start_time": "2021-07-07T14:51:59.232Z"
   },
   {
    "duration": 36,
    "start_time": "2021-07-07T14:51:59.255Z"
   },
   {
    "duration": 7,
    "start_time": "2021-07-07T14:51:59.293Z"
   },
   {
    "duration": 10,
    "start_time": "2021-07-07T14:51:59.302Z"
   },
   {
    "duration": 9,
    "start_time": "2021-07-07T14:51:59.313Z"
   },
   {
    "duration": 11,
    "start_time": "2021-07-07T14:51:59.324Z"
   },
   {
    "duration": 8,
    "start_time": "2021-07-07T14:51:59.337Z"
   },
   {
    "duration": 46,
    "start_time": "2021-07-07T14:51:59.347Z"
   },
   {
    "duration": 22,
    "start_time": "2021-07-07T14:51:59.395Z"
   },
   {
    "duration": 24,
    "start_time": "2021-07-07T14:57:32.911Z"
   },
   {
    "duration": 7,
    "start_time": "2021-07-07T14:58:22.070Z"
   },
   {
    "duration": 4,
    "start_time": "2021-07-07T14:59:11.239Z"
   },
   {
    "duration": 25,
    "start_time": "2021-07-07T15:07:22.208Z"
   },
   {
    "duration": 16,
    "start_time": "2021-07-07T15:08:25.560Z"
   },
   {
    "duration": 15,
    "start_time": "2021-07-07T15:08:40.647Z"
   },
   {
    "duration": 14,
    "start_time": "2021-07-07T15:08:46.669Z"
   },
   {
    "duration": 533,
    "start_time": "2021-07-07T15:18:07.440Z"
   },
   {
    "duration": 173,
    "start_time": "2021-07-07T15:18:07.974Z"
   },
   {
    "duration": 84,
    "start_time": "2021-07-07T15:18:08.149Z"
   },
   {
    "duration": 3,
    "start_time": "2021-07-07T15:18:08.235Z"
   },
   {
    "duration": 30,
    "start_time": "2021-07-07T15:18:08.240Z"
   },
   {
    "duration": 22,
    "start_time": "2021-07-07T15:18:08.272Z"
   },
   {
    "duration": 11,
    "start_time": "2021-07-07T15:18:08.295Z"
   },
   {
    "duration": 11,
    "start_time": "2021-07-07T15:18:08.309Z"
   },
   {
    "duration": 40,
    "start_time": "2021-07-07T15:18:08.322Z"
   },
   {
    "duration": 42,
    "start_time": "2021-07-07T15:18:08.364Z"
   },
   {
    "duration": 22,
    "start_time": "2021-07-07T15:18:08.408Z"
   },
   {
    "duration": 5,
    "start_time": "2021-07-07T15:18:08.432Z"
   },
   {
    "duration": 13,
    "start_time": "2021-07-07T15:18:08.439Z"
   },
   {
    "duration": 9,
    "start_time": "2021-07-07T15:18:08.454Z"
   },
   {
    "duration": 32,
    "start_time": "2021-07-07T15:18:08.465Z"
   },
   {
    "duration": 10,
    "start_time": "2021-07-07T15:18:08.501Z"
   },
   {
    "duration": 7,
    "start_time": "2021-07-07T15:18:08.513Z"
   },
   {
    "duration": 11,
    "start_time": "2021-07-07T15:18:08.521Z"
   },
   {
    "duration": 17,
    "start_time": "2021-07-07T15:18:08.534Z"
   },
   {
    "duration": 44,
    "start_time": "2021-07-07T15:18:08.553Z"
   },
   {
    "duration": 22,
    "start_time": "2021-07-07T15:18:08.599Z"
   },
   {
    "duration": 61,
    "start_time": "2021-07-07T15:18:08.622Z"
   },
   {
    "duration": 7,
    "start_time": "2021-07-07T15:18:39.457Z"
   },
   {
    "duration": 5,
    "start_time": "2021-07-07T16:05:17.020Z"
   },
   {
    "duration": 5,
    "start_time": "2021-07-07T16:51:28.794Z"
   },
   {
    "duration": 546,
    "start_time": "2021-07-07T16:52:26.306Z"
   },
   {
    "duration": 203,
    "start_time": "2021-07-07T16:52:27.523Z"
   },
   {
    "duration": 85,
    "start_time": "2021-07-07T16:52:27.736Z"
   },
   {
    "duration": 4,
    "start_time": "2021-07-07T16:52:27.899Z"
   },
   {
    "duration": 25,
    "start_time": "2021-07-07T16:52:28.674Z"
   },
   {
    "duration": 8,
    "start_time": "2021-07-07T16:52:32.956Z"
   },
   {
    "duration": 18,
    "start_time": "2021-07-07T16:52:35.616Z"
   },
   {
    "duration": 6,
    "start_time": "2021-07-07T16:52:36.913Z"
   },
   {
    "duration": 11,
    "start_time": "2021-07-07T16:52:40.258Z"
   },
   {
    "duration": 10,
    "start_time": "2021-07-07T16:52:46.251Z"
   },
   {
    "duration": 8,
    "start_time": "2021-07-07T16:52:47.182Z"
   },
   {
    "duration": 27,
    "start_time": "2021-07-07T16:53:20.391Z"
   },
   {
    "duration": 20,
    "start_time": "2021-07-07T16:53:22.022Z"
   },
   {
    "duration": 23,
    "start_time": "2021-07-07T16:53:23.690Z"
   },
   {
    "duration": 8,
    "start_time": "2021-07-07T16:53:24.261Z"
   },
   {
    "duration": 4,
    "start_time": "2021-07-07T16:53:38.733Z"
   },
   {
    "duration": 7,
    "start_time": "2021-07-07T16:53:40.445Z"
   },
   {
    "duration": 11,
    "start_time": "2021-07-07T16:53:41.348Z"
   },
   {
    "duration": 13,
    "start_time": "2021-07-07T16:53:45.250Z"
   },
   {
    "duration": 12,
    "start_time": "2021-07-07T16:53:45.467Z"
   },
   {
    "duration": 4,
    "start_time": "2021-07-07T16:55:32.704Z"
   },
   {
    "duration": 12,
    "start_time": "2021-07-07T16:55:49.012Z"
   },
   {
    "duration": 18,
    "start_time": "2021-07-07T16:55:49.547Z"
   },
   {
    "duration": 611,
    "start_time": "2021-07-07T16:58:35.156Z"
   },
   {
    "duration": 200,
    "start_time": "2021-07-07T16:58:35.770Z"
   },
   {
    "duration": 86,
    "start_time": "2021-07-07T16:58:35.972Z"
   },
   {
    "duration": 3,
    "start_time": "2021-07-07T16:58:36.060Z"
   },
   {
    "duration": 27,
    "start_time": "2021-07-07T16:58:36.065Z"
   },
   {
    "duration": 8,
    "start_time": "2021-07-07T16:58:36.094Z"
   },
   {
    "duration": 17,
    "start_time": "2021-07-07T16:58:36.103Z"
   },
   {
    "duration": 5,
    "start_time": "2021-07-07T16:58:36.123Z"
   },
   {
    "duration": 11,
    "start_time": "2021-07-07T16:58:36.130Z"
   },
   {
    "duration": 7,
    "start_time": "2021-07-07T16:58:36.143Z"
   },
   {
    "duration": 37,
    "start_time": "2021-07-07T16:58:36.152Z"
   },
   {
    "duration": 27,
    "start_time": "2021-07-07T16:58:36.191Z"
   },
   {
    "duration": 19,
    "start_time": "2021-07-07T16:58:36.219Z"
   },
   {
    "duration": 49,
    "start_time": "2021-07-07T16:58:36.240Z"
   },
   {
    "duration": 6,
    "start_time": "2021-07-07T16:58:36.291Z"
   },
   {
    "duration": 3,
    "start_time": "2021-07-07T16:58:36.299Z"
   },
   {
    "duration": 13,
    "start_time": "2021-07-07T16:58:36.304Z"
   },
   {
    "duration": 10,
    "start_time": "2021-07-07T16:58:36.319Z"
   },
   {
    "duration": 10,
    "start_time": "2021-07-07T16:58:36.331Z"
   },
   {
    "duration": 44,
    "start_time": "2021-07-07T16:58:36.343Z"
   },
   {
    "duration": 4,
    "start_time": "2021-07-07T16:58:36.388Z"
   },
   {
    "duration": 13,
    "start_time": "2021-07-07T16:58:36.394Z"
   },
   {
    "duration": 16,
    "start_time": "2021-07-07T16:58:36.410Z"
   },
   {
    "duration": 8,
    "start_time": "2021-07-07T17:02:31.629Z"
   },
   {
    "duration": 8,
    "start_time": "2021-07-07T17:02:34.308Z"
   },
   {
    "duration": 6,
    "start_time": "2021-07-07T17:05:13.483Z"
   },
   {
    "duration": 17,
    "start_time": "2021-07-07T17:05:20.606Z"
   },
   {
    "duration": 7,
    "start_time": "2021-07-07T17:05:34.638Z"
   },
   {
    "duration": 3,
    "start_time": "2021-07-07T17:06:31.883Z"
   },
   {
    "duration": 570,
    "start_time": "2021-07-07T17:06:37.165Z"
   },
   {
    "duration": 174,
    "start_time": "2021-07-07T17:06:37.737Z"
   },
   {
    "duration": 47,
    "start_time": "2021-07-07T17:06:37.913Z"
   },
   {
    "duration": 3,
    "start_time": "2021-07-07T17:06:37.962Z"
   },
   {
    "duration": 27,
    "start_time": "2021-07-07T17:06:37.967Z"
   },
   {
    "duration": 7,
    "start_time": "2021-07-07T17:06:37.996Z"
   },
   {
    "duration": 16,
    "start_time": "2021-07-07T17:06:38.005Z"
   },
   {
    "duration": 6,
    "start_time": "2021-07-07T17:06:38.024Z"
   },
   {
    "duration": 12,
    "start_time": "2021-07-07T17:06:38.031Z"
   },
   {
    "duration": 41,
    "start_time": "2021-07-07T17:06:38.045Z"
   },
   {
    "duration": 8,
    "start_time": "2021-07-07T17:06:38.088Z"
   },
   {
    "duration": 26,
    "start_time": "2021-07-07T17:06:38.098Z"
   },
   {
    "duration": 17,
    "start_time": "2021-07-07T17:06:38.126Z"
   },
   {
    "duration": 43,
    "start_time": "2021-07-07T17:06:38.144Z"
   },
   {
    "duration": 6,
    "start_time": "2021-07-07T17:06:38.188Z"
   },
   {
    "duration": 5,
    "start_time": "2021-07-07T17:06:38.195Z"
   },
   {
    "duration": 9,
    "start_time": "2021-07-07T17:06:38.201Z"
   },
   {
    "duration": 12,
    "start_time": "2021-07-07T17:06:38.212Z"
   },
   {
    "duration": 11,
    "start_time": "2021-07-07T17:06:38.226Z"
   },
   {
    "duration": 47,
    "start_time": "2021-07-07T17:06:38.239Z"
   },
   {
    "duration": 4,
    "start_time": "2021-07-07T17:06:38.288Z"
   },
   {
    "duration": 13,
    "start_time": "2021-07-07T17:06:38.293Z"
   },
   {
    "duration": 5,
    "start_time": "2021-07-07T17:06:38.309Z"
   },
   {
    "duration": 18,
    "start_time": "2021-07-07T17:06:38.325Z"
   },
   {
    "duration": 20,
    "start_time": "2021-07-07T17:07:02.805Z"
   },
   {
    "duration": 19,
    "start_time": "2021-07-07T17:07:08.527Z"
   },
   {
    "duration": 19,
    "start_time": "2021-07-07T17:07:12.758Z"
   },
   {
    "duration": 22,
    "start_time": "2021-07-07T17:07:17.497Z"
   },
   {
    "duration": 19,
    "start_time": "2021-07-07T17:07:19.645Z"
   },
   {
    "duration": 10,
    "start_time": "2021-07-07T17:07:34.239Z"
   },
   {
    "duration": 17,
    "start_time": "2021-07-07T17:07:54.144Z"
   },
   {
    "duration": 14,
    "start_time": "2021-07-07T17:08:14.357Z"
   },
   {
    "duration": 616,
    "start_time": "2021-07-07T17:08:45.254Z"
   },
   {
    "duration": 178,
    "start_time": "2021-07-07T17:08:45.872Z"
   },
   {
    "duration": 60,
    "start_time": "2021-07-07T17:08:46.054Z"
   },
   {
    "duration": 3,
    "start_time": "2021-07-07T17:08:46.116Z"
   },
   {
    "duration": 26,
    "start_time": "2021-07-07T17:08:46.121Z"
   },
   {
    "duration": 7,
    "start_time": "2021-07-07T17:08:46.149Z"
   },
   {
    "duration": 17,
    "start_time": "2021-07-07T17:08:46.158Z"
   },
   {
    "duration": 14,
    "start_time": "2021-07-07T17:08:46.176Z"
   },
   {
    "duration": 17,
    "start_time": "2021-07-07T17:08:46.193Z"
   },
   {
    "duration": 9,
    "start_time": "2021-07-07T17:08:46.211Z"
   },
   {
    "duration": 21,
    "start_time": "2021-07-07T17:08:46.221Z"
   },
   {
    "duration": 49,
    "start_time": "2021-07-07T17:08:46.244Z"
   },
   {
    "duration": 24,
    "start_time": "2021-07-07T17:08:46.295Z"
   },
   {
    "duration": 22,
    "start_time": "2021-07-07T17:08:46.321Z"
   },
   {
    "duration": 6,
    "start_time": "2021-07-07T17:08:46.345Z"
   },
   {
    "duration": 5,
    "start_time": "2021-07-07T17:08:46.353Z"
   },
   {
    "duration": 13,
    "start_time": "2021-07-07T17:08:46.386Z"
   },
   {
    "duration": 12,
    "start_time": "2021-07-07T17:08:46.402Z"
   },
   {
    "duration": 10,
    "start_time": "2021-07-07T17:08:46.415Z"
   },
   {
    "duration": 7,
    "start_time": "2021-07-07T17:08:46.427Z"
   },
   {
    "duration": 8,
    "start_time": "2021-07-07T17:08:46.435Z"
   },
   {
    "duration": 68,
    "start_time": "2021-07-07T17:08:46.446Z"
   },
   {
    "duration": 13,
    "start_time": "2021-07-07T17:08:46.516Z"
   },
   {
    "duration": 78,
    "start_time": "2021-07-07T17:08:46.530Z"
   },
   {
    "duration": 40,
    "start_time": "2021-07-07T17:09:08.185Z"
   },
   {
    "duration": 16,
    "start_time": "2021-07-07T17:09:19.324Z"
   },
   {
    "duration": 21,
    "start_time": "2021-07-07T17:09:23.290Z"
   },
   {
    "duration": 13,
    "start_time": "2021-07-07T17:09:54.812Z"
   },
   {
    "duration": 13,
    "start_time": "2021-07-07T17:10:02.039Z"
   },
   {
    "duration": 10,
    "start_time": "2021-07-07T17:10:29.632Z"
   },
   {
    "duration": 13,
    "start_time": "2021-07-07T17:10:52.372Z"
   },
   {
    "duration": 13,
    "start_time": "2021-07-07T17:11:17.270Z"
   },
   {
    "duration": 13,
    "start_time": "2021-07-07T17:14:59.284Z"
   },
   {
    "duration": 547,
    "start_time": "2021-07-07T17:18:52.403Z"
   },
   {
    "duration": 163,
    "start_time": "2021-07-07T17:18:52.952Z"
   },
   {
    "duration": 44,
    "start_time": "2021-07-07T17:18:53.117Z"
   },
   {
    "duration": 3,
    "start_time": "2021-07-07T17:18:53.162Z"
   },
   {
    "duration": 26,
    "start_time": "2021-07-07T17:18:53.167Z"
   },
   {
    "duration": 6,
    "start_time": "2021-07-07T17:18:53.195Z"
   },
   {
    "duration": 15,
    "start_time": "2021-07-07T17:18:53.203Z"
   },
   {
    "duration": 5,
    "start_time": "2021-07-07T17:18:53.220Z"
   },
   {
    "duration": 11,
    "start_time": "2021-07-07T17:18:53.228Z"
   },
   {
    "duration": 9,
    "start_time": "2021-07-07T17:18:53.241Z"
   },
   {
    "duration": 41,
    "start_time": "2021-07-07T17:18:53.252Z"
   },
   {
    "duration": 33,
    "start_time": "2021-07-07T17:18:53.295Z"
   },
   {
    "duration": 19,
    "start_time": "2021-07-07T17:18:53.330Z"
   },
   {
    "duration": 49,
    "start_time": "2021-07-07T17:18:53.350Z"
   },
   {
    "duration": 5,
    "start_time": "2021-07-07T17:18:53.401Z"
   },
   {
    "duration": 5,
    "start_time": "2021-07-07T17:18:53.408Z"
   },
   {
    "duration": 11,
    "start_time": "2021-07-07T17:18:53.414Z"
   },
   {
    "duration": 9,
    "start_time": "2021-07-07T17:18:53.427Z"
   },
   {
    "duration": 10,
    "start_time": "2021-07-07T17:18:53.437Z"
   },
   {
    "duration": 39,
    "start_time": "2021-07-07T17:18:53.448Z"
   },
   {
    "duration": 26,
    "start_time": "2021-07-07T17:18:55.799Z"
   },
   {
    "duration": 598,
    "start_time": "2021-07-07T17:20:17.862Z"
   },
   {
    "duration": 161,
    "start_time": "2021-07-07T17:20:18.462Z"
   },
   {
    "duration": 45,
    "start_time": "2021-07-07T17:20:18.626Z"
   },
   {
    "duration": 4,
    "start_time": "2021-07-07T17:20:18.673Z"
   },
   {
    "duration": 38,
    "start_time": "2021-07-07T17:20:26.877Z"
   },
   {
    "duration": 7,
    "start_time": "2021-07-07T17:20:37.405Z"
   },
   {
    "duration": 19,
    "start_time": "2021-07-07T17:20:51.534Z"
   },
   {
    "duration": 5,
    "start_time": "2021-07-07T17:20:57.228Z"
   },
   {
    "duration": 7,
    "start_time": "2021-07-07T17:21:08.235Z"
   },
   {
    "duration": 19,
    "start_time": "2021-07-07T17:21:42.158Z"
   },
   {
    "duration": 14,
    "start_time": "2021-07-07T17:21:50.225Z"
   },
   {
    "duration": 22,
    "start_time": "2021-07-07T17:22:54.104Z"
   },
   {
    "duration": 5,
    "start_time": "2021-07-07T17:22:56.371Z"
   },
   {
    "duration": 14,
    "start_time": "2021-07-07T17:22:58.316Z"
   },
   {
    "duration": 5,
    "start_time": "2021-07-07T17:22:58.493Z"
   },
   {
    "duration": 35,
    "start_time": "2021-07-07T17:22:59.666Z"
   },
   {
    "duration": 6,
    "start_time": "2021-07-07T17:23:02.410Z"
   },
   {
    "duration": 611,
    "start_time": "2021-07-07T17:24:59.664Z"
   },
   {
    "duration": 178,
    "start_time": "2021-07-07T17:25:01.945Z"
   },
   {
    "duration": 47,
    "start_time": "2021-07-07T17:25:02.125Z"
   },
   {
    "duration": 2,
    "start_time": "2021-07-07T17:25:07.903Z"
   },
   {
    "duration": 254,
    "start_time": "2021-07-07T17:25:08.232Z"
   },
   {
    "duration": 182,
    "start_time": "2021-07-07T17:25:08.671Z"
   },
   {
    "duration": 6,
    "start_time": "2021-07-07T17:25:13.104Z"
   },
   {
    "duration": 36,
    "start_time": "2021-07-07T17:25:13.662Z"
   },
   {
    "duration": 7,
    "start_time": "2021-07-07T17:25:14.528Z"
   },
   {
    "duration": 24,
    "start_time": "2021-07-07T17:25:27.982Z"
   },
   {
    "duration": 3,
    "start_time": "2021-07-07T17:25:48.982Z"
   },
   {
    "duration": 165,
    "start_time": "2021-07-07T17:25:48.987Z"
   },
   {
    "duration": 50,
    "start_time": "2021-07-07T17:25:49.154Z"
   },
   {
    "duration": 4,
    "start_time": "2021-07-07T17:25:49.206Z"
   },
   {
    "duration": 26,
    "start_time": "2021-07-07T17:25:49.212Z"
   },
   {
    "duration": 7,
    "start_time": "2021-07-07T17:25:49.240Z"
   },
   {
    "duration": 16,
    "start_time": "2021-07-07T17:25:49.249Z"
   },
   {
    "duration": 22,
    "start_time": "2021-07-07T17:25:49.266Z"
   },
   {
    "duration": 16,
    "start_time": "2021-07-07T17:25:49.291Z"
   },
   {
    "duration": 9,
    "start_time": "2021-07-07T17:25:49.309Z"
   },
   {
    "duration": 7,
    "start_time": "2021-07-07T17:25:49.319Z"
   },
   {
    "duration": 28,
    "start_time": "2021-07-07T17:25:49.328Z"
   },
   {
    "duration": 44,
    "start_time": "2021-07-07T17:25:49.357Z"
   },
   {
    "duration": 22,
    "start_time": "2021-07-07T17:25:49.403Z"
   },
   {
    "duration": 7,
    "start_time": "2021-07-07T17:25:49.427Z"
   },
   {
    "duration": 3,
    "start_time": "2021-07-07T17:25:49.436Z"
   },
   {
    "duration": 44,
    "start_time": "2021-07-07T17:25:49.441Z"
   },
   {
    "duration": 12,
    "start_time": "2021-07-07T17:25:49.488Z"
   },
   {
    "duration": 13,
    "start_time": "2021-07-07T17:25:49.502Z"
   },
   {
    "duration": 10,
    "start_time": "2021-07-07T17:25:49.516Z"
   },
   {
    "duration": 62,
    "start_time": "2021-07-07T17:25:49.527Z"
   },
   {
    "duration": 26,
    "start_time": "2021-07-07T17:26:51.809Z"
   },
   {
    "duration": 26,
    "start_time": "2021-07-07T17:26:55.759Z"
   },
   {
    "duration": 26,
    "start_time": "2021-07-07T17:27:04.501Z"
   },
   {
    "duration": 25,
    "start_time": "2021-07-07T17:28:24.859Z"
   },
   {
    "duration": 21,
    "start_time": "2021-07-07T17:28:55.250Z"
   },
   {
    "duration": 21,
    "start_time": "2021-07-07T17:28:58.885Z"
   },
   {
    "duration": 7,
    "start_time": "2021-07-07T17:45:40.972Z"
   },
   {
    "duration": 13,
    "start_time": "2021-07-07T17:45:42.529Z"
   },
   {
    "duration": 27,
    "start_time": "2021-07-07T17:45:51.026Z"
   },
   {
    "duration": 518,
    "start_time": "2021-07-07T17:46:15.532Z"
   },
   {
    "duration": 235,
    "start_time": "2021-07-07T17:46:16.053Z"
   },
   {
    "duration": 80,
    "start_time": "2021-07-07T17:46:16.292Z"
   },
   {
    "duration": 5,
    "start_time": "2021-07-07T17:46:16.373Z"
   },
   {
    "duration": 26,
    "start_time": "2021-07-07T17:46:16.380Z"
   },
   {
    "duration": 7,
    "start_time": "2021-07-07T17:46:16.408Z"
   },
   {
    "duration": 16,
    "start_time": "2021-07-07T17:46:16.418Z"
   },
   {
    "duration": 5,
    "start_time": "2021-07-07T17:46:16.436Z"
   },
   {
    "duration": 13,
    "start_time": "2021-07-07T17:46:16.442Z"
   },
   {
    "duration": 35,
    "start_time": "2021-07-07T17:46:16.456Z"
   },
   {
    "duration": 8,
    "start_time": "2021-07-07T17:46:16.493Z"
   },
   {
    "duration": 28,
    "start_time": "2021-07-07T17:46:16.502Z"
   },
   {
    "duration": 17,
    "start_time": "2021-07-07T17:46:16.532Z"
   },
   {
    "duration": 44,
    "start_time": "2021-07-07T17:46:16.551Z"
   },
   {
    "duration": 6,
    "start_time": "2021-07-07T17:46:16.597Z"
   },
   {
    "duration": 4,
    "start_time": "2021-07-07T17:46:16.605Z"
   },
   {
    "duration": 9,
    "start_time": "2021-07-07T17:46:16.610Z"
   },
   {
    "duration": 9,
    "start_time": "2021-07-07T17:46:16.621Z"
   },
   {
    "duration": 10,
    "start_time": "2021-07-07T17:46:16.632Z"
   },
   {
    "duration": 43,
    "start_time": "2021-07-07T17:46:16.644Z"
   },
   {
    "duration": 26,
    "start_time": "2021-07-07T17:46:16.689Z"
   },
   {
    "duration": 19,
    "start_time": "2021-07-07T17:46:16.718Z"
   },
   {
    "duration": 8,
    "start_time": "2021-07-07T17:46:16.738Z"
   },
   {
    "duration": 43,
    "start_time": "2021-07-07T17:46:16.747Z"
   },
   {
    "duration": 19,
    "start_time": "2021-07-07T17:46:16.791Z"
   },
   {
    "duration": 9,
    "start_time": "2021-07-07T17:46:16.812Z"
   },
   {
    "duration": 60,
    "start_time": "2021-07-07T17:46:16.822Z"
   },
   {
    "duration": -8,
    "start_time": "2021-07-07T17:46:16.892Z"
   },
   {
    "duration": 12,
    "start_time": "2021-07-07T17:48:47.707Z"
   },
   {
    "duration": 553,
    "start_time": "2021-07-07T18:10:09.350Z"
   },
   {
    "duration": 230,
    "start_time": "2021-07-07T18:10:09.905Z"
   },
   {
    "duration": 97,
    "start_time": "2021-07-07T18:10:10.137Z"
   },
   {
    "duration": 5,
    "start_time": "2021-07-07T18:10:10.236Z"
   },
   {
    "duration": 29,
    "start_time": "2021-07-07T18:10:10.242Z"
   },
   {
    "duration": 7,
    "start_time": "2021-07-07T18:10:10.272Z"
   },
   {
    "duration": 15,
    "start_time": "2021-07-07T18:10:10.281Z"
   },
   {
    "duration": 4,
    "start_time": "2021-07-07T18:10:10.299Z"
   },
   {
    "duration": 14,
    "start_time": "2021-07-07T18:10:10.305Z"
   },
   {
    "duration": 8,
    "start_time": "2021-07-07T18:10:10.321Z"
   },
   {
    "duration": 8,
    "start_time": "2021-07-07T18:10:10.331Z"
   },
   {
    "duration": 56,
    "start_time": "2021-07-07T18:10:10.341Z"
   },
   {
    "duration": 19,
    "start_time": "2021-07-07T18:10:10.399Z"
   },
   {
    "duration": 23,
    "start_time": "2021-07-07T18:10:10.419Z"
   },
   {
    "duration": 6,
    "start_time": "2021-07-07T18:10:10.444Z"
   },
   {
    "duration": 9,
    "start_time": "2021-07-07T18:10:10.451Z"
   },
   {
    "duration": 30,
    "start_time": "2021-07-07T18:10:10.462Z"
   },
   {
    "duration": 9,
    "start_time": "2021-07-07T18:10:10.494Z"
   },
   {
    "duration": 14,
    "start_time": "2021-07-07T18:10:10.505Z"
   },
   {
    "duration": 7,
    "start_time": "2021-07-07T18:10:10.521Z"
   },
   {
    "duration": 26,
    "start_time": "2021-07-07T18:10:10.530Z"
   },
   {
    "duration": 44,
    "start_time": "2021-07-07T18:10:10.558Z"
   },
   {
    "duration": 7,
    "start_time": "2021-07-07T18:10:10.605Z"
   },
   {
    "duration": 11,
    "start_time": "2021-07-07T18:10:10.614Z"
   },
   {
    "duration": 19,
    "start_time": "2021-07-07T18:10:10.626Z"
   },
   {
    "duration": 44,
    "start_time": "2021-07-07T18:10:10.646Z"
   },
   {
    "duration": 516,
    "start_time": "2021-07-07T18:14:00.826Z"
   },
   {
    "duration": 230,
    "start_time": "2021-07-07T18:14:01.344Z"
   },
   {
    "duration": 105,
    "start_time": "2021-07-07T18:14:01.576Z"
   },
   {
    "duration": 5,
    "start_time": "2021-07-07T18:14:01.683Z"
   },
   {
    "duration": 46,
    "start_time": "2021-07-07T18:14:01.690Z"
   },
   {
    "duration": 7,
    "start_time": "2021-07-07T18:14:01.738Z"
   },
   {
    "duration": 20,
    "start_time": "2021-07-07T18:14:01.747Z"
   },
   {
    "duration": 16,
    "start_time": "2021-07-07T18:14:01.769Z"
   },
   {
    "duration": 14,
    "start_time": "2021-07-07T18:14:01.787Z"
   },
   {
    "duration": 15,
    "start_time": "2021-07-07T18:14:01.803Z"
   },
   {
    "duration": 12,
    "start_time": "2021-07-07T18:14:01.820Z"
   },
   {
    "duration": 35,
    "start_time": "2021-07-07T18:14:01.833Z"
   },
   {
    "duration": 31,
    "start_time": "2021-07-07T18:14:01.869Z"
   },
   {
    "duration": 37,
    "start_time": "2021-07-07T18:14:01.902Z"
   },
   {
    "duration": 8,
    "start_time": "2021-07-07T18:14:01.942Z"
   },
   {
    "duration": 16,
    "start_time": "2021-07-07T18:14:01.952Z"
   },
   {
    "duration": 13,
    "start_time": "2021-07-07T18:14:01.970Z"
   },
   {
    "duration": 32,
    "start_time": "2021-07-07T18:14:01.985Z"
   },
   {
    "duration": 11,
    "start_time": "2021-07-07T18:14:02.019Z"
   },
   {
    "duration": 22,
    "start_time": "2021-07-07T18:14:02.031Z"
   },
   {
    "duration": 27,
    "start_time": "2021-07-07T18:14:02.055Z"
   },
   {
    "duration": 18,
    "start_time": "2021-07-07T18:14:02.084Z"
   },
   {
    "duration": 18,
    "start_time": "2021-07-07T18:14:02.106Z"
   },
   {
    "duration": 11,
    "start_time": "2021-07-07T18:14:02.126Z"
   },
   {
    "duration": 21,
    "start_time": "2021-07-07T18:14:02.138Z"
   },
   {
    "duration": 32,
    "start_time": "2021-07-07T18:14:02.161Z"
   },
   {
    "duration": 28,
    "start_time": "2021-07-07T18:14:44.295Z"
   },
   {
    "duration": 6,
    "start_time": "2021-07-07T18:15:05.834Z"
   },
   {
    "duration": 511,
    "start_time": "2021-07-07T18:15:41.541Z"
   },
   {
    "duration": 183,
    "start_time": "2021-07-07T18:15:42.054Z"
   },
   {
    "duration": 50,
    "start_time": "2021-07-07T18:15:42.239Z"
   },
   {
    "duration": 5,
    "start_time": "2021-07-07T18:15:42.291Z"
   },
   {
    "duration": 48,
    "start_time": "2021-07-07T18:15:42.297Z"
   },
   {
    "duration": 8,
    "start_time": "2021-07-07T18:15:42.346Z"
   },
   {
    "duration": 17,
    "start_time": "2021-07-07T18:15:42.356Z"
   },
   {
    "duration": 15,
    "start_time": "2021-07-07T18:15:42.375Z"
   },
   {
    "duration": 12,
    "start_time": "2021-07-07T18:15:42.392Z"
   },
   {
    "duration": 7,
    "start_time": "2021-07-07T18:15:42.406Z"
   },
   {
    "duration": 7,
    "start_time": "2021-07-07T18:15:42.415Z"
   },
   {
    "duration": 29,
    "start_time": "2021-07-07T18:15:42.423Z"
   },
   {
    "duration": 43,
    "start_time": "2021-07-07T18:15:42.453Z"
   },
   {
    "duration": 18,
    "start_time": "2021-07-07T18:15:42.497Z"
   },
   {
    "duration": 6,
    "start_time": "2021-07-07T18:15:42.516Z"
   },
   {
    "duration": 3,
    "start_time": "2021-07-07T18:15:42.523Z"
   },
   {
    "duration": 18,
    "start_time": "2021-07-07T18:15:42.528Z"
   },
   {
    "duration": 10,
    "start_time": "2021-07-07T18:15:42.547Z"
   },
   {
    "duration": 36,
    "start_time": "2021-07-07T18:15:42.559Z"
   },
   {
    "duration": 8,
    "start_time": "2021-07-07T18:15:42.597Z"
   },
   {
    "duration": 28,
    "start_time": "2021-07-07T18:15:42.606Z"
   },
   {
    "duration": 52,
    "start_time": "2021-07-07T18:15:42.635Z"
   },
   {
    "duration": 7,
    "start_time": "2021-07-07T18:15:42.690Z"
   },
   {
    "duration": 10,
    "start_time": "2021-07-07T18:15:42.699Z"
   },
   {
    "duration": 19,
    "start_time": "2021-07-07T18:15:42.711Z"
   },
   {
    "duration": 9,
    "start_time": "2021-07-07T18:15:42.732Z"
   },
   {
    "duration": 5,
    "start_time": "2021-07-07T18:15:42.743Z"
   },
   {
    "duration": 1450,
    "start_time": "2021-07-07T18:15:51.984Z"
   },
   {
    "duration": 161,
    "start_time": "2021-07-07T18:15:53.435Z"
   },
   {
    "duration": 124,
    "start_time": "2021-07-07T18:15:53.598Z"
   },
   {
    "duration": 5,
    "start_time": "2021-07-07T18:15:53.724Z"
   },
   {
    "duration": 34,
    "start_time": "2021-07-07T18:15:53.730Z"
   },
   {
    "duration": 7,
    "start_time": "2021-07-07T18:15:53.765Z"
   },
   {
    "duration": 15,
    "start_time": "2021-07-07T18:15:53.773Z"
   },
   {
    "duration": 5,
    "start_time": "2021-07-07T18:15:53.791Z"
   },
   {
    "duration": 19,
    "start_time": "2021-07-07T18:15:53.798Z"
   },
   {
    "duration": 9,
    "start_time": "2021-07-07T18:15:53.818Z"
   },
   {
    "duration": 19,
    "start_time": "2021-07-07T18:15:53.828Z"
   },
   {
    "duration": 27,
    "start_time": "2021-07-07T18:15:53.848Z"
   },
   {
    "duration": 16,
    "start_time": "2021-07-07T18:15:53.884Z"
   },
   {
    "duration": 29,
    "start_time": "2021-07-07T18:15:53.901Z"
   },
   {
    "duration": 5,
    "start_time": "2021-07-07T18:15:53.932Z"
   },
   {
    "duration": 15,
    "start_time": "2021-07-07T18:15:53.939Z"
   },
   {
    "duration": 13,
    "start_time": "2021-07-07T18:15:53.956Z"
   },
   {
    "duration": 20,
    "start_time": "2021-07-07T18:15:53.971Z"
   },
   {
    "duration": 14,
    "start_time": "2021-07-07T18:15:53.992Z"
   },
   {
    "duration": 9,
    "start_time": "2021-07-07T18:15:54.009Z"
   },
   {
    "duration": 28,
    "start_time": "2021-07-07T18:15:54.020Z"
   },
   {
    "duration": 50,
    "start_time": "2021-07-07T18:15:54.051Z"
   },
   {
    "duration": 8,
    "start_time": "2021-07-07T18:15:54.105Z"
   },
   {
    "duration": 11,
    "start_time": "2021-07-07T18:15:54.115Z"
   },
   {
    "duration": 20,
    "start_time": "2021-07-07T18:15:54.128Z"
   },
   {
    "duration": 13,
    "start_time": "2021-07-07T18:15:54.184Z"
   },
   {
    "duration": 7,
    "start_time": "2021-07-07T18:15:54.199Z"
   },
   {
    "duration": 7,
    "start_time": "2021-07-07T18:17:08.042Z"
   },
   {
    "duration": 8,
    "start_time": "2021-07-07T18:17:21.008Z"
   },
   {
    "duration": 7,
    "start_time": "2021-07-07T18:17:29.003Z"
   },
   {
    "duration": 8,
    "start_time": "2021-07-07T18:17:32.492Z"
   },
   {
    "duration": 9,
    "start_time": "2021-07-07T18:17:41.758Z"
   },
   {
    "duration": 255,
    "start_time": "2021-07-07T18:20:20.897Z"
   },
   {
    "duration": 173,
    "start_time": "2021-07-07T18:20:26.636Z"
   },
   {
    "duration": 7,
    "start_time": "2021-07-07T18:21:47.164Z"
   },
   {
    "duration": 254,
    "start_time": "2021-07-07T18:23:08.703Z"
   },
   {
    "duration": 21,
    "start_time": "2021-07-07T18:23:22.506Z"
   },
   {
    "duration": 315,
    "start_time": "2021-07-07T18:25:54.801Z"
   },
   {
    "duration": 34,
    "start_time": "2021-07-07T18:26:51.817Z"
   },
   {
    "duration": 327,
    "start_time": "2021-07-07T18:26:56.147Z"
   },
   {
    "duration": 342,
    "start_time": "2021-07-07T18:27:15.887Z"
   },
   {
    "duration": 302,
    "start_time": "2021-07-07T18:28:18.569Z"
   },
   {
    "duration": 226,
    "start_time": "2021-07-07T18:29:20.879Z"
   },
   {
    "duration": 207,
    "start_time": "2021-07-07T18:29:58.114Z"
   },
   {
    "duration": 140,
    "start_time": "2021-07-07T18:32:04.372Z"
   },
   {
    "duration": 158,
    "start_time": "2021-07-07T18:32:32.508Z"
   },
   {
    "duration": 145,
    "start_time": "2021-07-07T18:32:41.365Z"
   },
   {
    "duration": 132,
    "start_time": "2021-07-07T18:32:45.199Z"
   },
   {
    "duration": 11,
    "start_time": "2021-07-07T18:35:24.679Z"
   },
   {
    "duration": 268,
    "start_time": "2021-07-07T18:36:16.145Z"
   },
   {
    "duration": 227,
    "start_time": "2021-07-07T18:37:04.918Z"
   },
   {
    "duration": 3,
    "start_time": "2021-07-07T18:37:33.012Z"
   },
   {
    "duration": 671,
    "start_time": "2021-07-07T18:37:38.295Z"
   },
   {
    "duration": 54,
    "start_time": "2021-07-07T18:37:53.406Z"
   },
   {
    "duration": 631,
    "start_time": "2021-07-07T18:37:56.463Z"
   },
   {
    "duration": 19,
    "start_time": "2021-07-07T18:39:40.535Z"
   },
   {
    "duration": 20,
    "start_time": "2021-07-07T18:40:12.236Z"
   },
   {
    "duration": 633,
    "start_time": "2021-07-07T18:42:00.398Z"
   },
   {
    "duration": 218,
    "start_time": "2021-07-07T18:42:01.033Z"
   },
   {
    "duration": 49,
    "start_time": "2021-07-07T18:42:01.253Z"
   },
   {
    "duration": 5,
    "start_time": "2021-07-07T18:42:01.303Z"
   },
   {
    "duration": 27,
    "start_time": "2021-07-07T18:42:01.310Z"
   },
   {
    "duration": 8,
    "start_time": "2021-07-07T18:42:01.339Z"
   },
   {
    "duration": 20,
    "start_time": "2021-07-07T18:42:01.348Z"
   },
   {
    "duration": 6,
    "start_time": "2021-07-07T18:42:01.386Z"
   },
   {
    "duration": 16,
    "start_time": "2021-07-07T18:42:01.394Z"
   },
   {
    "duration": 9,
    "start_time": "2021-07-07T18:42:01.411Z"
   },
   {
    "duration": 11,
    "start_time": "2021-07-07T18:42:01.421Z"
   },
   {
    "duration": 31,
    "start_time": "2021-07-07T18:42:01.434Z"
   },
   {
    "duration": 18,
    "start_time": "2021-07-07T18:42:01.485Z"
   },
   {
    "duration": 23,
    "start_time": "2021-07-07T18:42:01.505Z"
   },
   {
    "duration": 6,
    "start_time": "2021-07-07T18:42:01.530Z"
   },
   {
    "duration": 10,
    "start_time": "2021-07-07T18:42:01.538Z"
   },
   {
    "duration": 13,
    "start_time": "2021-07-07T18:42:01.550Z"
   },
   {
    "duration": 24,
    "start_time": "2021-07-07T18:42:01.564Z"
   },
   {
    "duration": 20,
    "start_time": "2021-07-07T18:42:01.590Z"
   },
   {
    "duration": 8,
    "start_time": "2021-07-07T18:42:01.611Z"
   },
   {
    "duration": 31,
    "start_time": "2021-07-07T18:42:01.620Z"
   },
   {
    "duration": 39,
    "start_time": "2021-07-07T18:42:01.653Z"
   },
   {
    "duration": 8,
    "start_time": "2021-07-07T18:42:01.696Z"
   },
   {
    "duration": 13,
    "start_time": "2021-07-07T18:42:01.705Z"
   },
   {
    "duration": 20,
    "start_time": "2021-07-07T18:42:01.720Z"
   },
   {
    "duration": 12,
    "start_time": "2021-07-07T18:42:01.741Z"
   },
   {
    "duration": 35,
    "start_time": "2021-07-07T18:42:01.755Z"
   },
   {
    "duration": 14,
    "start_time": "2021-07-07T18:42:01.792Z"
   },
   {
    "duration": 188,
    "start_time": "2021-07-07T18:42:01.808Z"
   },
   {
    "duration": 19,
    "start_time": "2021-07-07T18:42:01.998Z"
   },
   {
    "duration": 175,
    "start_time": "2021-07-07T18:42:02.019Z"
   },
   {
    "duration": 134,
    "start_time": "2021-07-07T18:42:02.196Z"
   },
   {
    "duration": 10,
    "start_time": "2021-07-07T18:42:02.331Z"
   },
   {
    "duration": 19,
    "start_time": "2021-07-07T18:42:02.343Z"
   },
   {
    "duration": 628,
    "start_time": "2021-07-07T18:46:30.701Z"
   },
   {
    "duration": 183,
    "start_time": "2021-07-07T18:46:31.331Z"
   },
   {
    "duration": 48,
    "start_time": "2021-07-07T18:46:31.516Z"
   },
   {
    "duration": 5,
    "start_time": "2021-07-07T18:46:31.566Z"
   },
   {
    "duration": 28,
    "start_time": "2021-07-07T18:46:31.572Z"
   },
   {
    "duration": 8,
    "start_time": "2021-07-07T18:46:31.602Z"
   },
   {
    "duration": 19,
    "start_time": "2021-07-07T18:46:31.611Z"
   },
   {
    "duration": 6,
    "start_time": "2021-07-07T18:46:31.633Z"
   },
   {
    "duration": 17,
    "start_time": "2021-07-07T18:46:31.642Z"
   },
   {
    "duration": 10,
    "start_time": "2021-07-07T18:46:31.684Z"
   },
   {
    "duration": 9,
    "start_time": "2021-07-07T18:46:31.695Z"
   },
   {
    "duration": 28,
    "start_time": "2021-07-07T18:46:31.705Z"
   },
   {
    "duration": 18,
    "start_time": "2021-07-07T18:46:31.735Z"
   },
   {
    "duration": 48,
    "start_time": "2021-07-07T18:46:31.755Z"
   },
   {
    "duration": 6,
    "start_time": "2021-07-07T18:46:31.804Z"
   },
   {
    "duration": 4,
    "start_time": "2021-07-07T18:46:31.812Z"
   },
   {
    "duration": 9,
    "start_time": "2021-07-07T18:46:31.817Z"
   },
   {
    "duration": 10,
    "start_time": "2021-07-07T18:46:31.827Z"
   },
   {
    "duration": 12,
    "start_time": "2021-07-07T18:46:31.838Z"
   },
   {
    "duration": 39,
    "start_time": "2021-07-07T18:46:31.851Z"
   },
   {
    "duration": 24,
    "start_time": "2021-07-07T18:46:31.892Z"
   },
   {
    "duration": 15,
    "start_time": "2021-07-07T18:46:31.918Z"
   },
   {
    "duration": 7,
    "start_time": "2021-07-07T18:46:31.936Z"
   },
   {
    "duration": 8,
    "start_time": "2021-07-07T18:46:31.944Z"
   },
   {
    "duration": 19,
    "start_time": "2021-07-07T18:46:31.984Z"
   },
   {
    "duration": 10,
    "start_time": "2021-07-07T18:46:32.004Z"
   },
   {
    "duration": 5,
    "start_time": "2021-07-07T18:46:32.016Z"
   },
   {
    "duration": 9,
    "start_time": "2021-07-07T18:46:32.023Z"
   },
   {
    "duration": 199,
    "start_time": "2021-07-07T18:46:32.033Z"
   },
   {
    "duration": 19,
    "start_time": "2021-07-07T18:46:32.234Z"
   },
   {
    "duration": 159,
    "start_time": "2021-07-07T18:46:32.255Z"
   },
   {
    "duration": 134,
    "start_time": "2021-07-07T18:46:32.416Z"
   },
   {
    "duration": 10,
    "start_time": "2021-07-07T18:46:32.552Z"
   },
   {
    "duration": 34,
    "start_time": "2021-07-07T18:46:32.563Z"
   },
   {
    "duration": 1039,
    "start_time": "2021-07-08T08:41:09.419Z"
   },
   {
    "duration": 333,
    "start_time": "2021-07-08T08:41:10.459Z"
   },
   {
    "duration": 173,
    "start_time": "2021-07-08T08:41:10.794Z"
   },
   {
    "duration": 5,
    "start_time": "2021-07-08T08:41:10.968Z"
   },
   {
    "duration": 25,
    "start_time": "2021-07-08T08:41:10.975Z"
   },
   {
    "duration": 9,
    "start_time": "2021-07-08T08:41:11.002Z"
   },
   {
    "duration": 18,
    "start_time": "2021-07-08T08:41:11.013Z"
   },
   {
    "duration": 6,
    "start_time": "2021-07-08T08:41:11.033Z"
   },
   {
    "duration": 44,
    "start_time": "2021-07-08T08:41:11.042Z"
   },
   {
    "duration": 10,
    "start_time": "2021-07-08T08:41:11.088Z"
   },
   {
    "duration": 9,
    "start_time": "2021-07-08T08:41:11.100Z"
   },
   {
    "duration": 27,
    "start_time": "2021-07-08T08:41:11.111Z"
   },
   {
    "duration": 46,
    "start_time": "2021-07-08T08:41:11.140Z"
   },
   {
    "duration": 17,
    "start_time": "2021-07-08T08:41:11.187Z"
   },
   {
    "duration": 6,
    "start_time": "2021-07-08T08:41:11.206Z"
   },
   {
    "duration": 5,
    "start_time": "2021-07-08T08:41:11.213Z"
   },
   {
    "duration": 10,
    "start_time": "2021-07-08T08:41:11.219Z"
   },
   {
    "duration": 9,
    "start_time": "2021-07-08T08:41:11.230Z"
   },
   {
    "duration": 45,
    "start_time": "2021-07-08T08:41:11.241Z"
   },
   {
    "duration": 7,
    "start_time": "2021-07-08T08:41:11.287Z"
   },
   {
    "duration": 24,
    "start_time": "2021-07-08T08:41:11.296Z"
   },
   {
    "duration": 16,
    "start_time": "2021-07-08T08:41:11.322Z"
   },
   {
    "duration": 7,
    "start_time": "2021-07-08T08:41:11.341Z"
   },
   {
    "duration": 41,
    "start_time": "2021-07-08T08:41:11.349Z"
   },
   {
    "duration": 17,
    "start_time": "2021-07-08T08:41:11.391Z"
   },
   {
    "duration": 9,
    "start_time": "2021-07-08T08:41:11.410Z"
   },
   {
    "duration": 5,
    "start_time": "2021-07-08T08:41:11.421Z"
   },
   {
    "duration": 6,
    "start_time": "2021-07-08T08:41:11.428Z"
   },
   {
    "duration": 198,
    "start_time": "2021-07-08T08:41:11.435Z"
   },
   {
    "duration": 18,
    "start_time": "2021-07-08T08:41:11.635Z"
   },
   {
    "duration": 155,
    "start_time": "2021-07-08T08:41:11.655Z"
   },
   {
    "duration": 138,
    "start_time": "2021-07-08T08:41:11.811Z"
   },
   {
    "duration": 10,
    "start_time": "2021-07-08T08:41:11.950Z"
   },
   {
    "duration": 29,
    "start_time": "2021-07-08T08:41:11.961Z"
   },
   {
    "duration": 171,
    "start_time": "2021-07-08T08:47:44.522Z"
   },
   {
    "duration": 124,
    "start_time": "2021-07-08T08:47:46.872Z"
   },
   {
    "duration": 191,
    "start_time": "2021-07-08T08:47:58.148Z"
   },
   {
    "duration": 191,
    "start_time": "2021-07-08T08:48:07.412Z"
   },
   {
    "duration": 261,
    "start_time": "2021-07-08T08:48:10.385Z"
   },
   {
    "duration": 255,
    "start_time": "2021-07-08T08:48:14.494Z"
   },
   {
    "duration": 219,
    "start_time": "2021-07-08T08:48:22.752Z"
   },
   {
    "duration": 173,
    "start_time": "2021-07-08T08:49:06.395Z"
   },
   {
    "duration": 180,
    "start_time": "2021-07-08T08:49:21.011Z"
   },
   {
    "duration": 6,
    "start_time": "2021-07-08T08:50:31.697Z"
   },
   {
    "duration": 10,
    "start_time": "2021-07-08T08:50:47.394Z"
   },
   {
    "duration": 11,
    "start_time": "2021-07-08T08:53:49.332Z"
   },
   {
    "duration": 171,
    "start_time": "2021-07-08T08:54:28.408Z"
   },
   {
    "duration": 636,
    "start_time": "2021-07-08T09:02:48.385Z"
   },
   {
    "duration": 227,
    "start_time": "2021-07-08T09:02:49.023Z"
   },
   {
    "duration": 104,
    "start_time": "2021-07-08T09:02:49.252Z"
   },
   {
    "duration": 5,
    "start_time": "2021-07-08T09:02:49.358Z"
   },
   {
    "duration": 27,
    "start_time": "2021-07-08T09:02:49.365Z"
   },
   {
    "duration": 8,
    "start_time": "2021-07-08T09:02:49.394Z"
   },
   {
    "duration": 18,
    "start_time": "2021-07-08T09:02:49.404Z"
   },
   {
    "duration": 6,
    "start_time": "2021-07-08T09:02:49.424Z"
   },
   {
    "duration": 11,
    "start_time": "2021-07-08T09:02:49.433Z"
   },
   {
    "duration": 13,
    "start_time": "2021-07-08T09:02:49.485Z"
   },
   {
    "duration": 9,
    "start_time": "2021-07-08T09:02:49.500Z"
   },
   {
    "duration": 38,
    "start_time": "2021-07-08T09:02:49.511Z"
   },
   {
    "duration": 42,
    "start_time": "2021-07-08T09:02:49.551Z"
   },
   {
    "duration": 21,
    "start_time": "2021-07-08T09:02:49.594Z"
   },
   {
    "duration": 6,
    "start_time": "2021-07-08T09:02:49.616Z"
   },
   {
    "duration": 3,
    "start_time": "2021-07-08T09:02:49.623Z"
   },
   {
    "duration": 9,
    "start_time": "2021-07-08T09:02:49.628Z"
   },
   {
    "duration": 52,
    "start_time": "2021-07-08T09:02:49.638Z"
   },
   {
    "duration": 11,
    "start_time": "2021-07-08T09:02:49.692Z"
   },
   {
    "duration": 8,
    "start_time": "2021-07-08T09:02:49.704Z"
   },
   {
    "duration": 27,
    "start_time": "2021-07-08T09:02:49.713Z"
   },
   {
    "duration": 59,
    "start_time": "2021-07-08T09:02:49.741Z"
   },
   {
    "duration": 8,
    "start_time": "2021-07-08T09:02:49.803Z"
   },
   {
    "duration": 14,
    "start_time": "2021-07-08T09:02:49.813Z"
   },
   {
    "duration": 20,
    "start_time": "2021-07-08T09:02:49.829Z"
   },
   {
    "duration": 44,
    "start_time": "2021-07-08T09:02:49.851Z"
   },
   {
    "duration": 14,
    "start_time": "2021-07-08T09:02:49.896Z"
   },
   {
    "duration": 221,
    "start_time": "2021-07-08T09:02:49.912Z"
   },
   {
    "duration": 6,
    "start_time": "2021-07-08T09:02:50.134Z"
   },
   {
    "duration": 206,
    "start_time": "2021-07-08T09:02:50.142Z"
   },
   {
    "duration": 19,
    "start_time": "2021-07-08T09:02:50.350Z"
   },
   {
    "duration": 21,
    "start_time": "2021-07-08T09:02:50.370Z"
   },
   {
    "duration": 20,
    "start_time": "2021-07-08T09:02:50.393Z"
   },
   {
    "duration": 5,
    "start_time": "2021-07-08T09:02:50.414Z"
   },
   {
    "duration": 5,
    "start_time": "2021-07-08T09:03:34.173Z"
   },
   {
    "duration": 6,
    "start_time": "2021-07-08T09:04:49.062Z"
   },
   {
    "duration": 9,
    "start_time": "2021-07-08T09:04:50.118Z"
   },
   {
    "duration": 14,
    "start_time": "2021-07-08T09:04:58.512Z"
   },
   {
    "duration": 9,
    "start_time": "2021-07-08T09:05:10.988Z"
   },
   {
    "duration": 11,
    "start_time": "2021-07-08T09:05:11.743Z"
   },
   {
    "duration": 7,
    "start_time": "2021-07-08T09:05:25.677Z"
   },
   {
    "duration": 13,
    "start_time": "2021-07-08T09:05:47.189Z"
   },
   {
    "duration": 13,
    "start_time": "2021-07-08T09:05:54.755Z"
   },
   {
    "duration": 4,
    "start_time": "2021-07-08T09:06:29.189Z"
   },
   {
    "duration": 244,
    "start_time": "2021-07-08T09:06:29.195Z"
   },
   {
    "duration": 91,
    "start_time": "2021-07-08T09:06:29.441Z"
   },
   {
    "duration": 4,
    "start_time": "2021-07-08T09:06:29.534Z"
   },
   {
    "duration": 28,
    "start_time": "2021-07-08T09:06:29.540Z"
   },
   {
    "duration": 6,
    "start_time": "2021-07-08T09:06:29.570Z"
   },
   {
    "duration": 18,
    "start_time": "2021-07-08T09:06:29.578Z"
   },
   {
    "duration": 5,
    "start_time": "2021-07-08T09:06:29.597Z"
   },
   {
    "duration": 13,
    "start_time": "2021-07-08T09:06:29.605Z"
   },
   {
    "duration": 8,
    "start_time": "2021-07-08T09:06:29.620Z"
   },
   {
    "duration": 7,
    "start_time": "2021-07-08T09:06:29.630Z"
   },
   {
    "duration": 63,
    "start_time": "2021-07-08T09:06:29.639Z"
   },
   {
    "duration": 17,
    "start_time": "2021-07-08T09:06:29.704Z"
   },
   {
    "duration": 20,
    "start_time": "2021-07-08T09:06:29.723Z"
   },
   {
    "duration": 6,
    "start_time": "2021-07-08T09:06:29.745Z"
   },
   {
    "duration": 3,
    "start_time": "2021-07-08T09:06:29.752Z"
   },
   {
    "duration": 7,
    "start_time": "2021-07-08T09:06:29.785Z"
   },
   {
    "duration": 11,
    "start_time": "2021-07-08T09:06:29.794Z"
   },
   {
    "duration": 15,
    "start_time": "2021-07-08T09:06:29.807Z"
   },
   {
    "duration": 8,
    "start_time": "2021-07-08T09:06:29.823Z"
   },
   {
    "duration": 70,
    "start_time": "2021-07-08T09:06:29.832Z"
   },
   {
    "duration": 17,
    "start_time": "2021-07-08T09:06:29.903Z"
   },
   {
    "duration": 9,
    "start_time": "2021-07-08T09:06:29.921Z"
   },
   {
    "duration": 9,
    "start_time": "2021-07-08T09:06:29.932Z"
   },
   {
    "duration": 57,
    "start_time": "2021-07-08T09:06:29.942Z"
   },
   {
    "duration": 11,
    "start_time": "2021-07-08T09:06:30.001Z"
   },
   {
    "duration": 19,
    "start_time": "2021-07-08T09:06:30.016Z"
   },
   {
    "duration": 217,
    "start_time": "2021-07-08T09:06:30.037Z"
   },
   {
    "duration": 6,
    "start_time": "2021-07-08T09:06:30.255Z"
   },
   {
    "duration": 205,
    "start_time": "2021-07-08T09:06:30.263Z"
   },
   {
    "duration": 27,
    "start_time": "2021-07-08T09:06:30.470Z"
   },
   {
    "duration": 11,
    "start_time": "2021-07-08T09:06:30.500Z"
   },
   {
    "duration": 31,
    "start_time": "2021-07-08T09:06:30.513Z"
   },
   {
    "duration": 18,
    "start_time": "2021-07-08T09:06:30.546Z"
   },
   {
    "duration": 11,
    "start_time": "2021-07-08T09:06:30.566Z"
   },
   {
    "duration": 19,
    "start_time": "2021-07-08T09:06:30.579Z"
   },
   {
    "duration": 20,
    "start_time": "2021-07-08T09:06:49.466Z"
   },
   {
    "duration": 9,
    "start_time": "2021-07-08T09:06:51.994Z"
   },
   {
    "duration": 20,
    "start_time": "2021-07-08T09:06:52.273Z"
   },
   {
    "duration": 246,
    "start_time": "2021-07-08T09:10:21.272Z"
   },
   {
    "duration": 84,
    "start_time": "2021-07-08T09:10:21.436Z"
   },
   {
    "duration": 7,
    "start_time": "2021-07-08T09:10:37.608Z"
   },
   {
    "duration": 189,
    "start_time": "2021-07-08T09:10:38.573Z"
   },
   {
    "duration": 185,
    "start_time": "2021-07-08T09:10:53.181Z"
   },
   {
    "duration": 11,
    "start_time": "2021-07-08T09:10:59.549Z"
   },
   {
    "duration": 42,
    "start_time": "2021-07-08T09:10:59.709Z"
   },
   {
    "duration": 12,
    "start_time": "2021-07-08T09:11:02.857Z"
   },
   {
    "duration": 28,
    "start_time": "2021-07-08T09:11:10.062Z"
   },
   {
    "duration": 249,
    "start_time": "2021-07-08T09:11:37.388Z"
   },
   {
    "duration": 232,
    "start_time": "2021-07-08T09:11:49.485Z"
   },
   {
    "duration": 453,
    "start_time": "2021-07-08T09:12:01.546Z"
   },
   {
    "duration": 440,
    "start_time": "2021-07-08T09:12:12.347Z"
   },
   {
    "duration": 213,
    "start_time": "2021-07-08T09:13:32.196Z"
   },
   {
    "duration": 172,
    "start_time": "2021-07-08T09:14:07.400Z"
   },
   {
    "duration": 185,
    "start_time": "2021-07-08T09:14:14.905Z"
   },
   {
    "duration": 209,
    "start_time": "2021-07-08T09:14:40.109Z"
   },
   {
    "duration": 201,
    "start_time": "2021-07-08T09:14:54.506Z"
   },
   {
    "duration": 622,
    "start_time": "2021-07-08T09:18:14.497Z"
   },
   {
    "duration": 220,
    "start_time": "2021-07-08T09:18:15.121Z"
   },
   {
    "duration": 79,
    "start_time": "2021-07-08T09:18:15.343Z"
   },
   {
    "duration": 4,
    "start_time": "2021-07-08T09:18:15.425Z"
   },
   {
    "duration": 24,
    "start_time": "2021-07-08T09:18:15.431Z"
   },
   {
    "duration": 8,
    "start_time": "2021-07-08T09:18:15.457Z"
   },
   {
    "duration": 16,
    "start_time": "2021-07-08T09:18:15.466Z"
   },
   {
    "duration": 5,
    "start_time": "2021-07-08T09:18:15.484Z"
   },
   {
    "duration": 10,
    "start_time": "2021-07-08T09:18:15.493Z"
   },
   {
    "duration": 8,
    "start_time": "2021-07-08T09:18:15.504Z"
   },
   {
    "duration": 7,
    "start_time": "2021-07-08T09:18:15.513Z"
   },
   {
    "duration": 26,
    "start_time": "2021-07-08T09:18:15.522Z"
   },
   {
    "duration": 49,
    "start_time": "2021-07-08T09:18:15.550Z"
   },
   {
    "duration": 21,
    "start_time": "2021-07-08T09:18:15.601Z"
   },
   {
    "duration": 8,
    "start_time": "2021-07-08T09:18:15.624Z"
   },
   {
    "duration": 3,
    "start_time": "2021-07-08T09:18:15.634Z"
   },
   {
    "duration": 8,
    "start_time": "2021-07-08T09:18:15.639Z"
   },
   {
    "duration": 45,
    "start_time": "2021-07-08T09:18:15.649Z"
   },
   {
    "duration": 13,
    "start_time": "2021-07-08T09:18:15.696Z"
   },
   {
    "duration": 10,
    "start_time": "2021-07-08T09:18:15.711Z"
   },
   {
    "duration": 64,
    "start_time": "2021-07-08T09:18:15.722Z"
   },
   {
    "duration": 19,
    "start_time": "2021-07-08T09:18:15.788Z"
   },
   {
    "duration": 9,
    "start_time": "2021-07-08T09:18:15.809Z"
   },
   {
    "duration": 9,
    "start_time": "2021-07-08T09:18:15.820Z"
   },
   {
    "duration": 18,
    "start_time": "2021-07-08T09:18:15.831Z"
   },
   {
    "duration": 43,
    "start_time": "2021-07-08T09:18:15.851Z"
   },
   {
    "duration": 12,
    "start_time": "2021-07-08T09:18:15.897Z"
   },
   {
    "duration": 219,
    "start_time": "2021-07-08T09:18:15.911Z"
   },
   {
    "duration": 8,
    "start_time": "2021-07-08T09:18:16.132Z"
   },
   {
    "duration": 199,
    "start_time": "2021-07-08T09:18:16.141Z"
   },
   {
    "duration": 18,
    "start_time": "2021-07-08T09:18:16.341Z"
   },
   {
    "duration": 24,
    "start_time": "2021-07-08T09:18:16.361Z"
   },
   {
    "duration": 24,
    "start_time": "2021-07-08T09:18:16.387Z"
   },
   {
    "duration": 211,
    "start_time": "2021-07-08T09:18:16.413Z"
   },
   {
    "duration": 18,
    "start_time": "2021-07-08T09:18:16.626Z"
   },
   {
    "duration": 596,
    "start_time": "2021-07-08T10:06:33.623Z"
   },
   {
    "duration": 181,
    "start_time": "2021-07-08T10:06:34.221Z"
   },
   {
    "duration": 176,
    "start_time": "2021-07-08T10:06:34.635Z"
   },
   {
    "duration": 239,
    "start_time": "2021-07-08T10:06:55.572Z"
   },
   {
    "duration": 6,
    "start_time": "2021-07-08T10:06:57.687Z"
   },
   {
    "duration": 4,
    "start_time": "2021-07-08T10:07:03.956Z"
   },
   {
    "duration": 4,
    "start_time": "2021-07-08T10:07:10.376Z"
   },
   {
    "duration": 4,
    "start_time": "2021-07-08T10:17:19.889Z"
   },
   {
    "duration": 3,
    "start_time": "2021-07-08T10:19:19.407Z"
   },
   {
    "duration": 197,
    "start_time": "2021-07-08T10:19:19.412Z"
   },
   {
    "duration": 127,
    "start_time": "2021-07-08T10:19:19.611Z"
   },
   {
    "duration": 4,
    "start_time": "2021-07-08T10:19:19.740Z"
   },
   {
    "duration": 27,
    "start_time": "2021-07-08T10:19:19.746Z"
   },
   {
    "duration": 7,
    "start_time": "2021-07-08T10:19:19.775Z"
   },
   {
    "duration": 30,
    "start_time": "2021-07-08T10:19:19.784Z"
   },
   {
    "duration": 7,
    "start_time": "2021-07-08T10:19:19.817Z"
   },
   {
    "duration": 26,
    "start_time": "2021-07-08T10:19:19.826Z"
   },
   {
    "duration": 18,
    "start_time": "2021-07-08T10:19:19.854Z"
   },
   {
    "duration": 14,
    "start_time": "2021-07-08T10:19:19.874Z"
   },
   {
    "duration": 48,
    "start_time": "2021-07-08T10:19:19.890Z"
   },
   {
    "duration": 17,
    "start_time": "2021-07-08T10:19:19.940Z"
   },
   {
    "duration": 38,
    "start_time": "2021-07-08T10:19:19.959Z"
   },
   {
    "duration": 8,
    "start_time": "2021-07-08T10:19:19.999Z"
   },
   {
    "duration": 15,
    "start_time": "2021-07-08T10:19:20.009Z"
   },
   {
    "duration": 22,
    "start_time": "2021-07-08T10:19:20.026Z"
   },
   {
    "duration": 10,
    "start_time": "2021-07-08T10:19:20.050Z"
   },
   {
    "duration": 10,
    "start_time": "2021-07-08T10:19:20.062Z"
   },
   {
    "duration": 20,
    "start_time": "2021-07-08T10:19:20.073Z"
   },
   {
    "duration": 29,
    "start_time": "2021-07-08T10:19:20.095Z"
   },
   {
    "duration": 17,
    "start_time": "2021-07-08T10:19:20.126Z"
   },
   {
    "duration": 40,
    "start_time": "2021-07-08T10:19:20.146Z"
   },
   {
    "duration": 15,
    "start_time": "2021-07-08T10:19:20.189Z"
   },
   {
    "duration": 19,
    "start_time": "2021-07-08T10:19:20.206Z"
   },
   {
    "duration": 10,
    "start_time": "2021-07-08T10:19:20.226Z"
   },
   {
    "duration": 11,
    "start_time": "2021-07-08T10:19:20.238Z"
   },
   {
    "duration": 297,
    "start_time": "2021-07-08T10:19:20.250Z"
   },
   {
    "duration": 6,
    "start_time": "2021-07-08T10:19:20.549Z"
   },
   {
    "duration": 191,
    "start_time": "2021-07-08T10:19:20.557Z"
   },
   {
    "duration": 19,
    "start_time": "2021-07-08T10:19:20.750Z"
   },
   {
    "duration": 20,
    "start_time": "2021-07-08T10:19:20.771Z"
   },
   {
    "duration": 15,
    "start_time": "2021-07-08T10:19:20.793Z"
   },
   {
    "duration": 222,
    "start_time": "2021-07-08T10:19:20.809Z"
   },
   {
    "duration": 20,
    "start_time": "2021-07-08T10:19:21.033Z"
   },
   {
    "duration": 27,
    "start_time": "2021-07-08T10:45:04.055Z"
   },
   {
    "duration": 8,
    "start_time": "2021-07-08T10:45:08.478Z"
   },
   {
    "duration": 8,
    "start_time": "2021-07-08T10:45:31.982Z"
   },
   {
    "duration": 10,
    "start_time": "2021-07-08T10:46:01.221Z"
   },
   {
    "duration": 17,
    "start_time": "2021-07-08T10:46:40.011Z"
   },
   {
    "duration": 193,
    "start_time": "2021-07-08T10:48:19.471Z"
   },
   {
    "duration": 225,
    "start_time": "2021-07-08T10:49:26.480Z"
   },
   {
    "duration": 204,
    "start_time": "2021-07-08T10:49:59.992Z"
   },
   {
    "duration": 435,
    "start_time": "2021-07-08T10:50:06.779Z"
   },
   {
    "duration": 199,
    "start_time": "2021-07-08T10:50:14.891Z"
   },
   {
    "duration": 204,
    "start_time": "2021-07-08T10:50:18.501Z"
   },
   {
    "duration": 244,
    "start_time": "2021-07-08T10:50:23.359Z"
   },
   {
    "duration": 192,
    "start_time": "2021-07-08T10:50:29.135Z"
   },
   {
    "duration": 218,
    "start_time": "2021-07-08T10:50:33.092Z"
   },
   {
    "duration": 207,
    "start_time": "2021-07-08T10:52:45.381Z"
   },
   {
    "duration": 5,
    "start_time": "2021-07-08T10:53:34.641Z"
   },
   {
    "duration": 196,
    "start_time": "2021-07-08T10:53:41.478Z"
   },
   {
    "duration": 43,
    "start_time": "2021-07-08T10:53:50.335Z"
   },
   {
    "duration": 32,
    "start_time": "2021-07-08T10:53:55.294Z"
   },
   {
    "duration": 55,
    "start_time": "2021-07-08T10:54:09.675Z"
   },
   {
    "duration": 16,
    "start_time": "2021-07-08T10:54:12.260Z"
   },
   {
    "duration": 15,
    "start_time": "2021-07-08T10:54:49.150Z"
   },
   {
    "duration": 20,
    "start_time": "2021-07-08T10:56:07.596Z"
   },
   {
    "duration": 16,
    "start_time": "2021-07-08T10:58:26.276Z"
   },
   {
    "duration": 22,
    "start_time": "2021-07-08T10:59:00.486Z"
   },
   {
    "duration": 18,
    "start_time": "2021-07-08T11:02:09.653Z"
   },
   {
    "duration": 10,
    "start_time": "2021-07-08T11:03:44.331Z"
   },
   {
    "duration": 10,
    "start_time": "2021-07-08T11:03:54.055Z"
   },
   {
    "duration": 12,
    "start_time": "2021-07-08T11:04:41.967Z"
   },
   {
    "duration": 24,
    "start_time": "2021-07-08T11:07:30.732Z"
   },
   {
    "duration": 6,
    "start_time": "2021-07-08T11:07:37.364Z"
   },
   {
    "duration": 16,
    "start_time": "2021-07-08T11:08:01.819Z"
   },
   {
    "duration": 17,
    "start_time": "2021-07-08T11:09:47.488Z"
   },
   {
    "duration": 246,
    "start_time": "2021-07-08T11:10:00.830Z"
   },
   {
    "duration": 18,
    "start_time": "2021-07-08T11:13:55.195Z"
   },
   {
    "duration": 204,
    "start_time": "2021-07-08T11:14:04.951Z"
   },
   {
    "duration": 19,
    "start_time": "2021-07-08T11:15:10.613Z"
   },
   {
    "duration": 680,
    "start_time": "2021-07-08T11:16:25.793Z"
   },
   {
    "duration": 451,
    "start_time": "2021-07-08T11:16:40.313Z"
   },
   {
    "duration": 469,
    "start_time": "2021-07-08T11:17:21.286Z"
   },
   {
    "duration": 20,
    "start_time": "2021-07-08T11:19:12.554Z"
   },
   {
    "duration": 35,
    "start_time": "2021-07-08T11:20:05.484Z"
   },
   {
    "duration": 53,
    "start_time": "2021-07-08T11:21:40.050Z"
   },
   {
    "duration": 13,
    "start_time": "2021-07-08T11:22:26.059Z"
   },
   {
    "duration": 19,
    "start_time": "2021-07-08T11:22:47.419Z"
   },
   {
    "duration": 25,
    "start_time": "2021-07-08T11:23:19.958Z"
   },
   {
    "duration": 29,
    "start_time": "2021-07-08T11:23:25.415Z"
   },
   {
    "duration": 10,
    "start_time": "2021-07-08T11:24:45.138Z"
   },
   {
    "duration": 19,
    "start_time": "2021-07-08T11:24:54.498Z"
   },
   {
    "duration": 12,
    "start_time": "2021-07-08T11:25:32.225Z"
   },
   {
    "duration": 19,
    "start_time": "2021-07-08T11:25:37.092Z"
   },
   {
    "duration": 17,
    "start_time": "2021-07-08T11:25:58.116Z"
   },
   {
    "duration": 15,
    "start_time": "2021-07-08T11:26:02.258Z"
   },
   {
    "duration": 8,
    "start_time": "2021-07-08T11:26:59.682Z"
   },
   {
    "duration": 184,
    "start_time": "2021-07-08T11:27:21.894Z"
   },
   {
    "duration": 8,
    "start_time": "2021-07-08T11:27:23.824Z"
   },
   {
    "duration": 202,
    "start_time": "2021-07-08T11:27:23.962Z"
   },
   {
    "duration": 360,
    "start_time": "2021-07-08T11:28:33.215Z"
   },
   {
    "duration": 231,
    "start_time": "2021-07-08T11:32:05.542Z"
   },
   {
    "duration": 607,
    "start_time": "2021-07-08T11:36:27.854Z"
   },
   {
    "duration": 241,
    "start_time": "2021-07-08T11:36:28.463Z"
   },
   {
    "duration": 67,
    "start_time": "2021-07-08T11:36:28.709Z"
   },
   {
    "duration": 5,
    "start_time": "2021-07-08T11:36:28.778Z"
   },
   {
    "duration": 32,
    "start_time": "2021-07-08T11:36:28.784Z"
   },
   {
    "duration": 11,
    "start_time": "2021-07-08T11:36:28.819Z"
   },
   {
    "duration": 20,
    "start_time": "2021-07-08T11:36:28.834Z"
   },
   {
    "duration": 36,
    "start_time": "2021-07-08T11:36:28.857Z"
   },
   {
    "duration": 16,
    "start_time": "2021-07-08T11:36:28.895Z"
   },
   {
    "duration": 14,
    "start_time": "2021-07-08T11:36:28.913Z"
   },
   {
    "duration": 9,
    "start_time": "2021-07-08T11:36:28.930Z"
   },
   {
    "duration": 55,
    "start_time": "2021-07-08T11:36:28.941Z"
   },
   {
    "duration": 27,
    "start_time": "2021-07-08T11:36:28.999Z"
   },
   {
    "duration": 30,
    "start_time": "2021-07-08T11:36:29.028Z"
   },
   {
    "duration": 31,
    "start_time": "2021-07-08T11:36:29.060Z"
   },
   {
    "duration": 3,
    "start_time": "2021-07-08T11:36:29.093Z"
   },
   {
    "duration": 12,
    "start_time": "2021-07-08T11:36:29.099Z"
   },
   {
    "duration": 11,
    "start_time": "2021-07-08T11:36:29.112Z"
   },
   {
    "duration": 12,
    "start_time": "2021-07-08T11:36:29.125Z"
   },
   {
    "duration": 9,
    "start_time": "2021-07-08T11:36:29.139Z"
   },
   {
    "duration": 31,
    "start_time": "2021-07-08T11:36:29.191Z"
   },
   {
    "duration": 17,
    "start_time": "2021-07-08T11:36:29.226Z"
   },
   {
    "duration": 7,
    "start_time": "2021-07-08T11:36:29.245Z"
   },
   {
    "duration": 10,
    "start_time": "2021-07-08T11:36:29.254Z"
   },
   {
    "duration": 30,
    "start_time": "2021-07-08T11:36:29.292Z"
   },
   {
    "duration": 11,
    "start_time": "2021-07-08T11:36:29.324Z"
   },
   {
    "duration": 11,
    "start_time": "2021-07-08T11:36:29.337Z"
   },
   {
    "duration": 230,
    "start_time": "2021-07-08T11:36:29.349Z"
   },
   {
    "duration": 13,
    "start_time": "2021-07-08T11:36:29.588Z"
   },
   {
    "duration": 205,
    "start_time": "2021-07-08T11:36:29.603Z"
   },
   {
    "duration": 20,
    "start_time": "2021-07-08T11:36:29.810Z"
   },
   {
    "duration": 9,
    "start_time": "2021-07-08T11:36:29.832Z"
   },
   {
    "duration": 16,
    "start_time": "2021-07-08T11:36:29.843Z"
   },
   {
    "duration": 283,
    "start_time": "2021-07-08T11:36:29.861Z"
   },
   {
    "duration": 50,
    "start_time": "2021-07-08T11:36:30.146Z"
   },
   {
    "duration": 14,
    "start_time": "2021-07-08T11:36:30.198Z"
   },
   {
    "duration": 11,
    "start_time": "2021-07-08T11:36:30.214Z"
   },
   {
    "duration": 245,
    "start_time": "2021-07-08T11:36:30.227Z"
   },
   {
    "duration": 439,
    "start_time": "2021-07-08T11:36:30.474Z"
   },
   {
    "duration": 210,
    "start_time": "2021-07-08T11:36:30.915Z"
   },
   {
    "duration": 15,
    "start_time": "2021-07-08T11:36:31.127Z"
   },
   {
    "duration": 17,
    "start_time": "2021-07-08T11:38:20.451Z"
   },
   {
    "duration": 642,
    "start_time": "2021-07-08T11:46:17.881Z"
   },
   {
    "duration": 210,
    "start_time": "2021-07-08T11:46:18.525Z"
   },
   {
    "duration": 104,
    "start_time": "2021-07-08T11:46:18.741Z"
   },
   {
    "duration": 8,
    "start_time": "2021-07-08T11:46:18.847Z"
   },
   {
    "duration": 25,
    "start_time": "2021-07-08T11:46:18.857Z"
   },
   {
    "duration": 14,
    "start_time": "2021-07-08T11:46:18.884Z"
   },
   {
    "duration": 22,
    "start_time": "2021-07-08T11:46:18.900Z"
   },
   {
    "duration": 5,
    "start_time": "2021-07-08T11:46:18.924Z"
   },
   {
    "duration": 13,
    "start_time": "2021-07-08T11:46:18.931Z"
   },
   {
    "duration": 45,
    "start_time": "2021-07-08T11:46:18.946Z"
   },
   {
    "duration": 12,
    "start_time": "2021-07-08T11:46:18.993Z"
   },
   {
    "duration": 38,
    "start_time": "2021-07-08T11:46:19.006Z"
   },
   {
    "duration": 50,
    "start_time": "2021-07-08T11:46:19.046Z"
   },
   {
    "duration": 29,
    "start_time": "2021-07-08T11:46:19.099Z"
   },
   {
    "duration": 7,
    "start_time": "2021-07-08T11:46:19.130Z"
   },
   {
    "duration": 3,
    "start_time": "2021-07-08T11:46:19.139Z"
   },
   {
    "duration": 11,
    "start_time": "2021-07-08T11:46:19.144Z"
   },
   {
    "duration": 40,
    "start_time": "2021-07-08T11:46:19.157Z"
   },
   {
    "duration": 15,
    "start_time": "2021-07-08T11:46:19.199Z"
   },
   {
    "duration": 10,
    "start_time": "2021-07-08T11:46:19.217Z"
   },
   {
    "duration": 68,
    "start_time": "2021-07-08T11:46:19.230Z"
   },
   {
    "duration": 17,
    "start_time": "2021-07-08T11:46:19.301Z"
   },
   {
    "duration": 7,
    "start_time": "2021-07-08T11:46:19.321Z"
   },
   {
    "duration": 11,
    "start_time": "2021-07-08T11:46:19.330Z"
   },
   {
    "duration": 59,
    "start_time": "2021-07-08T11:46:19.343Z"
   },
   {
    "duration": 17,
    "start_time": "2021-07-08T11:46:19.405Z"
   },
   {
    "duration": 16,
    "start_time": "2021-07-08T11:46:19.424Z"
   },
   {
    "duration": 252,
    "start_time": "2021-07-08T11:46:19.443Z"
   },
   {
    "duration": 9,
    "start_time": "2021-07-08T11:46:19.697Z"
   },
   {
    "duration": 224,
    "start_time": "2021-07-08T11:46:19.708Z"
   },
   {
    "duration": 21,
    "start_time": "2021-07-08T11:46:19.934Z"
   },
   {
    "duration": 9,
    "start_time": "2021-07-08T11:46:19.956Z"
   },
   {
    "duration": 32,
    "start_time": "2021-07-08T11:46:19.967Z"
   },
   {
    "duration": 288,
    "start_time": "2021-07-08T11:46:20.004Z"
   },
   {
    "duration": 23,
    "start_time": "2021-07-08T11:46:20.300Z"
   },
   {
    "duration": 11,
    "start_time": "2021-07-08T11:46:20.325Z"
   },
   {
    "duration": 11,
    "start_time": "2021-07-08T11:46:20.339Z"
   },
   {
    "duration": 259,
    "start_time": "2021-07-08T11:46:20.352Z"
   },
   {
    "duration": 438,
    "start_time": "2021-07-08T11:46:20.613Z"
   },
   {
    "duration": 207,
    "start_time": "2021-07-08T11:46:21.054Z"
   },
   {
    "duration": 27,
    "start_time": "2021-07-08T11:46:21.262Z"
   },
   {
    "duration": 19,
    "start_time": "2021-07-08T11:46:21.291Z"
   },
   {
    "duration": 820,
    "start_time": "2021-07-08T11:49:01.655Z"
   },
   {
    "duration": 372,
    "start_time": "2021-07-08T11:49:02.478Z"
   },
   {
    "duration": 98,
    "start_time": "2021-07-08T11:49:02.853Z"
   },
   {
    "duration": 6,
    "start_time": "2021-07-08T11:49:02.953Z"
   },
   {
    "duration": 39,
    "start_time": "2021-07-08T11:49:02.960Z"
   },
   {
    "duration": 9,
    "start_time": "2021-07-08T11:49:03.003Z"
   },
   {
    "duration": 23,
    "start_time": "2021-07-08T11:49:03.014Z"
   },
   {
    "duration": 6,
    "start_time": "2021-07-08T11:49:03.041Z"
   },
   {
    "duration": 20,
    "start_time": "2021-07-08T11:49:03.049Z"
   },
   {
    "duration": 18,
    "start_time": "2021-07-08T11:49:03.084Z"
   },
   {
    "duration": 14,
    "start_time": "2021-07-08T11:49:03.104Z"
   },
   {
    "duration": 39,
    "start_time": "2021-07-08T11:49:03.119Z"
   },
   {
    "duration": 38,
    "start_time": "2021-07-08T11:49:03.160Z"
   },
   {
    "duration": 26,
    "start_time": "2021-07-08T11:49:03.200Z"
   },
   {
    "duration": 7,
    "start_time": "2021-07-08T11:49:03.227Z"
   },
   {
    "duration": 4,
    "start_time": "2021-07-08T11:49:03.236Z"
   },
   {
    "duration": 15,
    "start_time": "2021-07-08T11:49:03.243Z"
   },
   {
    "duration": 21,
    "start_time": "2021-07-08T11:49:03.285Z"
   },
   {
    "duration": 17,
    "start_time": "2021-07-08T11:49:03.309Z"
   },
   {
    "duration": 10,
    "start_time": "2021-07-08T11:49:03.328Z"
   },
   {
    "duration": 65,
    "start_time": "2021-07-08T11:49:03.340Z"
   },
   {
    "duration": 18,
    "start_time": "2021-07-08T11:49:03.407Z"
   },
   {
    "duration": 8,
    "start_time": "2021-07-08T11:49:03.428Z"
   },
   {
    "duration": 15,
    "start_time": "2021-07-08T11:49:03.438Z"
   },
   {
    "duration": 40,
    "start_time": "2021-07-08T11:49:03.455Z"
   },
   {
    "duration": 12,
    "start_time": "2021-07-08T11:49:03.497Z"
   },
   {
    "duration": 29,
    "start_time": "2021-07-08T11:49:03.511Z"
   },
   {
    "duration": 285,
    "start_time": "2021-07-08T11:49:03.542Z"
   },
   {
    "duration": 8,
    "start_time": "2021-07-08T11:49:03.829Z"
   },
   {
    "duration": 227,
    "start_time": "2021-07-08T11:49:03.838Z"
   },
   {
    "duration": 40,
    "start_time": "2021-07-08T11:49:04.066Z"
   },
   {
    "duration": 10,
    "start_time": "2021-07-08T11:49:04.108Z"
   },
   {
    "duration": 26,
    "start_time": "2021-07-08T11:49:04.121Z"
   },
   {
    "duration": 290,
    "start_time": "2021-07-08T11:49:04.149Z"
   },
   {
    "duration": 26,
    "start_time": "2021-07-08T11:49:04.441Z"
   },
   {
    "duration": 31,
    "start_time": "2021-07-08T11:49:04.470Z"
   },
   {
    "duration": 14,
    "start_time": "2021-07-08T11:49:04.503Z"
   },
   {
    "duration": 259,
    "start_time": "2021-07-08T11:49:04.521Z"
   },
   {
    "duration": 480,
    "start_time": "2021-07-08T11:49:04.782Z"
   },
   {
    "duration": 225,
    "start_time": "2021-07-08T11:49:05.264Z"
   },
   {
    "duration": 22,
    "start_time": "2021-07-08T11:49:05.491Z"
   },
   {
    "duration": 24,
    "start_time": "2021-07-08T11:49:05.515Z"
   },
   {
    "duration": 634,
    "start_time": "2021-07-08T11:52:24.960Z"
   },
   {
    "duration": 199,
    "start_time": "2021-07-08T11:52:25.599Z"
   },
   {
    "duration": 106,
    "start_time": "2021-07-08T11:52:25.803Z"
   },
   {
    "duration": 7,
    "start_time": "2021-07-08T11:52:25.911Z"
   },
   {
    "duration": 29,
    "start_time": "2021-07-08T11:52:25.920Z"
   },
   {
    "duration": 7,
    "start_time": "2021-07-08T11:52:25.951Z"
   },
   {
    "duration": 26,
    "start_time": "2021-07-08T11:52:25.961Z"
   },
   {
    "duration": 11,
    "start_time": "2021-07-08T11:52:25.990Z"
   },
   {
    "duration": 29,
    "start_time": "2021-07-08T11:52:26.005Z"
   },
   {
    "duration": 9,
    "start_time": "2021-07-08T11:52:26.036Z"
   },
   {
    "duration": 8,
    "start_time": "2021-07-08T11:52:26.047Z"
   },
   {
    "duration": 63,
    "start_time": "2021-07-08T11:52:26.057Z"
   },
   {
    "duration": 17,
    "start_time": "2021-07-08T11:52:26.122Z"
   },
   {
    "duration": 43,
    "start_time": "2021-07-08T11:52:26.142Z"
   },
   {
    "duration": 17,
    "start_time": "2021-07-08T11:52:26.187Z"
   },
   {
    "duration": 5,
    "start_time": "2021-07-08T11:52:26.206Z"
   },
   {
    "duration": 12,
    "start_time": "2021-07-08T11:52:26.212Z"
   },
   {
    "duration": 11,
    "start_time": "2021-07-08T11:52:26.226Z"
   },
   {
    "duration": 12,
    "start_time": "2021-07-08T11:52:26.238Z"
   },
   {
    "duration": 38,
    "start_time": "2021-07-08T11:52:26.252Z"
   },
   {
    "duration": 40,
    "start_time": "2021-07-08T11:52:26.292Z"
   },
   {
    "duration": 17,
    "start_time": "2021-07-08T11:52:26.336Z"
   },
   {
    "duration": 39,
    "start_time": "2021-07-08T11:52:26.355Z"
   },
   {
    "duration": 11,
    "start_time": "2021-07-08T11:52:26.395Z"
   },
   {
    "duration": 23,
    "start_time": "2021-07-08T11:52:26.408Z"
   },
   {
    "duration": 12,
    "start_time": "2021-07-08T11:52:26.432Z"
   },
   {
    "duration": 41,
    "start_time": "2021-07-08T11:52:26.446Z"
   },
   {
    "duration": 215,
    "start_time": "2021-07-08T11:52:26.493Z"
   },
   {
    "duration": 8,
    "start_time": "2021-07-08T11:52:26.710Z"
   },
   {
    "duration": 228,
    "start_time": "2021-07-08T11:52:26.720Z"
   },
   {
    "duration": 18,
    "start_time": "2021-07-08T11:52:26.950Z"
   },
   {
    "duration": 35,
    "start_time": "2021-07-08T11:52:26.969Z"
   },
   {
    "duration": 23,
    "start_time": "2021-07-08T11:52:27.006Z"
   },
   {
    "duration": 258,
    "start_time": "2021-07-08T11:52:27.030Z"
   },
   {
    "duration": 24,
    "start_time": "2021-07-08T11:52:27.290Z"
   },
   {
    "duration": 12,
    "start_time": "2021-07-08T11:52:27.316Z"
   },
   {
    "duration": 10,
    "start_time": "2021-07-08T11:52:27.329Z"
   },
   {
    "duration": 298,
    "start_time": "2021-07-08T11:52:27.341Z"
   },
   {
    "duration": 436,
    "start_time": "2021-07-08T11:52:27.641Z"
   },
   {
    "duration": 216,
    "start_time": "2021-07-08T11:52:28.079Z"
   },
   {
    "duration": 20,
    "start_time": "2021-07-08T11:52:28.297Z"
   },
   {
    "duration": 17,
    "start_time": "2021-07-08T11:52:28.319Z"
   },
   {
    "duration": 108,
    "start_time": "2021-11-01T18:02:52.748Z"
   },
   {
    "duration": 94,
    "start_time": "2021-11-01T18:03:17.318Z"
   },
   {
    "duration": 322,
    "start_time": "2021-11-01T18:08:29.988Z"
   },
   {
    "duration": 81,
    "start_time": "2021-11-01T18:13:10.141Z"
   },
   {
    "duration": 73,
    "start_time": "2021-11-01T18:13:34.053Z"
   },
   {
    "duration": 5,
    "start_time": "2021-11-01T20:23:37.663Z"
   },
   {
    "duration": 759,
    "start_time": "2021-11-01T20:23:47.296Z"
   },
   {
    "duration": 3,
    "start_time": "2021-11-01T20:24:58.937Z"
   },
   {
    "duration": 735,
    "start_time": "2021-11-01T20:50:16.816Z"
   },
   {
    "duration": 4,
    "start_time": "2021-11-01T20:55:00.829Z"
   },
   {
    "duration": 104,
    "start_time": "2021-11-02T16:28:45.355Z"
   },
   {
    "duration": 4,
    "start_time": "2021-11-02T16:29:20.126Z"
   },
   {
    "duration": 44,
    "start_time": "2021-11-02T16:31:10.793Z"
   },
   {
    "duration": 38,
    "start_time": "2021-11-02T16:31:30.463Z"
   },
   {
    "duration": 39,
    "start_time": "2021-11-02T16:32:12.062Z"
   },
   {
    "duration": 28,
    "start_time": "2021-11-02T16:32:12.597Z"
   },
   {
    "duration": 3,
    "start_time": "2021-11-02T18:29:59.435Z"
   },
   {
    "duration": 104,
    "start_time": "2021-11-02T18:29:59.791Z"
   },
   {
    "duration": 38,
    "start_time": "2021-11-02T18:30:00.293Z"
   },
   {
    "duration": 25,
    "start_time": "2021-11-02T18:30:00.459Z"
   },
   {
    "duration": 401,
    "start_time": "2021-11-02T18:38:40.773Z"
   },
   {
    "duration": 264,
    "start_time": "2021-11-02T18:38:44.702Z"
   },
   {
    "duration": 16,
    "start_time": "2021-11-02T18:38:54.608Z"
   },
   {
    "duration": 364,
    "start_time": "2021-11-02T19:41:43.544Z"
   },
   {
    "duration": 4,
    "start_time": "2021-11-02T19:41:50.079Z"
   },
   {
    "duration": 104,
    "start_time": "2021-11-02T19:41:50.399Z"
   },
   {
    "duration": 40,
    "start_time": "2021-11-02T19:41:50.976Z"
   },
   {
    "duration": 29,
    "start_time": "2021-11-02T19:41:51.519Z"
   },
   {
    "duration": 17,
    "start_time": "2021-11-02T19:41:54.342Z"
   },
   {
    "duration": 336,
    "start_time": "2021-11-02T19:41:57.892Z"
   },
   {
    "duration": 307,
    "start_time": "2021-11-02T19:42:06.480Z"
   },
   {
    "duration": 302,
    "start_time": "2021-11-02T19:42:42.215Z"
   },
   {
    "duration": 17,
    "start_time": "2021-11-02T19:42:46.343Z"
   },
   {
    "duration": 17,
    "start_time": "2021-11-02T19:42:51.892Z"
   },
   {
    "duration": 6,
    "start_time": "2021-11-02T19:43:04.125Z"
   },
   {
    "duration": 6,
    "start_time": "2021-11-02T19:45:27.518Z"
   },
   {
    "duration": 30,
    "start_time": "2021-11-02T19:46:13.912Z"
   },
   {
    "duration": 8,
    "start_time": "2021-11-02T19:51:17.278Z"
   },
   {
    "duration": 7,
    "start_time": "2021-11-02T19:51:20.671Z"
   },
   {
    "duration": 8,
    "start_time": "2021-11-02T19:51:36.484Z"
   },
   {
    "duration": 11,
    "start_time": "2021-11-02T19:52:55.069Z"
   },
   {
    "duration": 4,
    "start_time": "2021-11-02T19:53:04.981Z"
   },
   {
    "duration": 19,
    "start_time": "2021-11-02T19:53:34.554Z"
   },
   {
    "duration": 3,
    "start_time": "2021-11-02T19:53:54.725Z"
   },
   {
    "duration": 25,
    "start_time": "2021-11-02T19:54:01.411Z"
   },
   {
    "duration": 26,
    "start_time": "2021-11-02T19:57:07.605Z"
   },
   {
    "duration": 50,
    "start_time": "2021-11-02T20:00:24.057Z"
   },
   {
    "duration": 4,
    "start_time": "2021-11-02T20:14:57.271Z"
   },
   {
    "duration": 102,
    "start_time": "2021-11-02T20:14:57.575Z"
   },
   {
    "duration": 39,
    "start_time": "2021-11-02T20:14:58.040Z"
   },
   {
    "duration": 26,
    "start_time": "2021-11-02T20:14:58.202Z"
   },
   {
    "duration": 18,
    "start_time": "2021-11-02T20:15:00.335Z"
   },
   {
    "duration": 22,
    "start_time": "2021-11-02T20:15:01.818Z"
   },
   {
    "duration": 8,
    "start_time": "2021-11-02T20:15:03.659Z"
   },
   {
    "duration": 25,
    "start_time": "2021-11-02T20:15:05.214Z"
   },
   {
    "duration": 50,
    "start_time": "2021-11-02T20:15:05.378Z"
   },
   {
    "duration": 9,
    "start_time": "2021-11-02T20:22:37.803Z"
   },
   {
    "duration": 8,
    "start_time": "2021-11-02T20:23:01.353Z"
   },
   {
    "duration": 22,
    "start_time": "2021-11-02T20:25:00.384Z"
   },
   {
    "duration": 52,
    "start_time": "2021-11-02T20:25:00.589Z"
   },
   {
    "duration": 21,
    "start_time": "2021-11-02T20:25:54.615Z"
   },
   {
    "duration": 8,
    "start_time": "2021-11-02T20:27:44.403Z"
   },
   {
    "duration": 20,
    "start_time": "2021-11-02T20:27:45.393Z"
   },
   {
    "duration": 51,
    "start_time": "2021-11-02T20:27:45.548Z"
   },
   {
    "duration": 5,
    "start_time": "2021-11-02T20:48:20.859Z"
   },
   {
    "duration": 149,
    "start_time": "2021-11-02T20:48:21.750Z"
   },
   {
    "duration": 39,
    "start_time": "2021-11-02T20:48:24.072Z"
   },
   {
    "duration": 27,
    "start_time": "2021-11-02T20:48:26.127Z"
   },
   {
    "duration": 20,
    "start_time": "2021-11-02T20:48:41.504Z"
   },
   {
    "duration": 22,
    "start_time": "2021-11-02T20:48:44.172Z"
   },
   {
    "duration": 8,
    "start_time": "2021-11-02T20:49:04.153Z"
   },
   {
    "duration": 28,
    "start_time": "2021-11-02T20:49:04.743Z"
   },
   {
    "duration": 52,
    "start_time": "2021-11-02T20:49:07.875Z"
   },
   {
    "duration": 287,
    "start_time": "2021-11-02T21:04:57.988Z"
   },
   {
    "duration": 5,
    "start_time": "2021-11-02T21:05:01.581Z"
   },
   {
    "duration": 5,
    "start_time": "2021-11-02T21:05:12.221Z"
   },
   {
    "duration": 3,
    "start_time": "2021-11-02T21:10:24.185Z"
   },
   {
    "duration": 9,
    "start_time": "2021-11-02T21:11:59.489Z"
   },
   {
    "duration": 8,
    "start_time": "2021-11-02T21:12:13.140Z"
   },
   {
    "duration": 14,
    "start_time": "2021-11-02T21:13:25.256Z"
   },
   {
    "duration": 15,
    "start_time": "2021-11-02T21:13:33.439Z"
   },
   {
    "duration": 3,
    "start_time": "2021-11-02T21:27:18.236Z"
   },
   {
    "duration": 3,
    "start_time": "2021-11-02T21:28:43.006Z"
   },
   {
    "duration": 6,
    "start_time": "2021-11-02T21:30:40.681Z"
   },
   {
    "duration": 6972,
    "start_time": "2021-11-02T21:32:38.890Z"
   },
   {
    "duration": 6,
    "start_time": "2021-11-02T21:32:49.844Z"
   },
   {
    "duration": 6,
    "start_time": "2021-11-02T21:32:54.040Z"
   },
   {
    "duration": 7,
    "start_time": "2021-11-02T21:33:08.862Z"
   },
   {
    "duration": 286,
    "start_time": "2021-11-02T21:33:26.728Z"
   },
   {
    "duration": 306,
    "start_time": "2021-11-02T21:33:34.597Z"
   },
   {
    "duration": 7,
    "start_time": "2021-11-02T21:33:51.938Z"
   },
   {
    "duration": 104,
    "start_time": "2021-11-02T21:36:22.541Z"
   },
   {
    "duration": 7,
    "start_time": "2021-11-02T21:36:28.518Z"
   },
   {
    "duration": 11,
    "start_time": "2021-11-02T21:39:22.447Z"
   },
   {
    "duration": 6,
    "start_time": "2021-11-02T21:39:24.301Z"
   },
   {
    "duration": 6,
    "start_time": "2021-11-02T21:39:35.159Z"
   },
   {
    "duration": 5,
    "start_time": "2021-11-02T21:39:40.943Z"
   },
   {
    "duration": 9,
    "start_time": "2021-11-02T21:44:44.748Z"
   },
   {
    "duration": 77,
    "start_time": "2021-11-02T21:48:05.436Z"
   },
   {
    "duration": 741,
    "start_time": "2021-11-02T21:53:23.739Z"
   },
   {
    "duration": 40,
    "start_time": "2021-11-02T21:53:30.140Z"
   },
   {
    "duration": 31,
    "start_time": "2021-11-02T21:53:35.923Z"
   },
   {
    "duration": 665,
    "start_time": "2021-11-02T21:57:23.045Z"
   },
   {
    "duration": 351,
    "start_time": "2021-11-03T11:24:14.805Z"
   },
   {
    "duration": 1532,
    "start_time": "2021-11-03T11:24:22.326Z"
   },
   {
    "duration": 124,
    "start_time": "2021-11-03T11:24:23.861Z"
   },
   {
    "duration": 46,
    "start_time": "2021-11-03T11:24:23.988Z"
   },
   {
    "duration": 36,
    "start_time": "2021-11-03T11:24:24.037Z"
   },
   {
    "duration": 17,
    "start_time": "2021-11-03T11:24:24.075Z"
   },
   {
    "duration": 21,
    "start_time": "2021-11-03T11:24:24.095Z"
   },
   {
    "duration": 7,
    "start_time": "2021-11-03T11:24:24.119Z"
   },
   {
    "duration": 24,
    "start_time": "2021-11-03T11:24:24.167Z"
   },
   {
    "duration": 17,
    "start_time": "2021-11-03T11:24:24.194Z"
   },
   {
    "duration": 6,
    "start_time": "2021-11-03T11:24:24.213Z"
   },
   {
    "duration": 8,
    "start_time": "2021-11-03T11:24:24.221Z"
   },
   {
    "duration": 49,
    "start_time": "2021-11-03T11:24:24.231Z"
   },
   {
    "duration": 7,
    "start_time": "2021-11-03T11:24:24.282Z"
   },
   {
    "duration": 13,
    "start_time": "2021-11-03T11:24:24.291Z"
   },
   {
    "duration": 127,
    "start_time": "2021-11-03T11:24:24.306Z"
   },
   {
    "duration": 6,
    "start_time": "2021-11-03T11:24:24.436Z"
   },
   {
    "duration": 25,
    "start_time": "2021-11-03T11:24:24.444Z"
   },
   {
    "duration": 77,
    "start_time": "2021-11-03T11:24:24.472Z"
   },
   {
    "duration": 666,
    "start_time": "2021-11-03T11:24:24.552Z"
   },
   {
    "duration": 24,
    "start_time": "2021-11-03T11:25:04.324Z"
   },
   {
    "duration": 12,
    "start_time": "2021-11-03T11:25:16.661Z"
   },
   {
    "duration": 29,
    "start_time": "2021-11-03T11:25:21.359Z"
   },
   {
    "duration": 106,
    "start_time": "2021-11-03T11:26:43.491Z"
   },
   {
    "duration": 144,
    "start_time": "2021-11-03T11:26:47.774Z"
   },
   {
    "duration": 12,
    "start_time": "2021-11-03T11:27:03.423Z"
   },
   {
    "duration": 8,
    "start_time": "2021-11-03T11:31:18.822Z"
   },
   {
    "duration": 28,
    "start_time": "2021-11-03T11:32:40.014Z"
   },
   {
    "duration": 7,
    "start_time": "2021-11-03T11:32:41.366Z"
   },
   {
    "duration": 12,
    "start_time": "2021-11-03T11:34:03.535Z"
   },
   {
    "duration": 29,
    "start_time": "2021-11-03T11:34:03.687Z"
   },
   {
    "duration": 8,
    "start_time": "2021-11-03T11:34:14.666Z"
   },
   {
    "duration": 8,
    "start_time": "2021-11-03T11:36:59.181Z"
   },
   {
    "duration": 8,
    "start_time": "2021-11-03T11:37:20.015Z"
   },
   {
    "duration": 8,
    "start_time": "2021-11-03T11:37:22.530Z"
   },
   {
    "duration": 7,
    "start_time": "2021-11-03T11:37:36.025Z"
   },
   {
    "duration": 7,
    "start_time": "2021-11-03T11:37:43.009Z"
   },
   {
    "duration": 8,
    "start_time": "2021-11-03T11:40:54.080Z"
   },
   {
    "duration": 12,
    "start_time": "2021-11-03T11:41:07.602Z"
   },
   {
    "duration": 11,
    "start_time": "2021-11-03T11:41:21.732Z"
   },
   {
    "duration": 34,
    "start_time": "2021-11-03T11:41:23.470Z"
   },
   {
    "duration": 9,
    "start_time": "2021-11-03T11:41:25.200Z"
   },
   {
    "duration": 9,
    "start_time": "2021-11-03T11:41:34.985Z"
   },
   {
    "duration": 22,
    "start_time": "2021-11-03T11:41:38.667Z"
   },
   {
    "duration": 7,
    "start_time": "2021-11-03T11:41:43.605Z"
   },
   {
    "duration": 3,
    "start_time": "2021-11-03T11:41:55.722Z"
   },
   {
    "duration": 8,
    "start_time": "2021-11-03T11:42:23.849Z"
   },
   {
    "duration": 8,
    "start_time": "2021-11-03T11:42:24.903Z"
   },
   {
    "duration": 8,
    "start_time": "2021-11-03T11:42:25.182Z"
   },
   {
    "duration": 9,
    "start_time": "2021-11-03T11:43:48.960Z"
   },
   {
    "duration": 10,
    "start_time": "2021-11-03T11:43:49.287Z"
   },
   {
    "duration": 16,
    "start_time": "2021-11-03T11:43:57.417Z"
   },
   {
    "duration": 3,
    "start_time": "2021-11-03T11:44:23.677Z"
   },
   {
    "duration": 14,
    "start_time": "2021-11-03T11:45:02.925Z"
   },
   {
    "duration": 11,
    "start_time": "2021-11-03T11:45:26.088Z"
   },
   {
    "duration": 11,
    "start_time": "2021-11-03T11:45:33.685Z"
   },
   {
    "duration": 3,
    "start_time": "2021-11-03T11:47:02.728Z"
   },
   {
    "duration": 102,
    "start_time": "2021-11-03T11:49:41.317Z"
   },
   {
    "duration": 95,
    "start_time": "2021-11-03T11:50:05.245Z"
   },
   {
    "duration": 7620,
    "start_time": "2021-11-03T11:50:21.283Z"
   },
   {
    "duration": 95,
    "start_time": "2021-11-03T11:50:35.025Z"
   },
   {
    "duration": 24,
    "start_time": "2021-11-03T11:51:15.317Z"
   },
   {
    "duration": 51,
    "start_time": "2021-11-03T11:51:29.390Z"
   },
   {
    "duration": 23,
    "start_time": "2021-11-03T11:52:22.205Z"
   },
   {
    "duration": 31,
    "start_time": "2021-11-03T11:53:04.762Z"
   },
   {
    "duration": 27,
    "start_time": "2021-11-03T11:53:10.838Z"
   },
   {
    "duration": 31,
    "start_time": "2021-11-03T11:54:05.663Z"
   },
   {
    "duration": 23,
    "start_time": "2021-11-03T11:54:07.793Z"
   },
   {
    "duration": 34,
    "start_time": "2021-11-03T11:54:47.348Z"
   },
   {
    "duration": 84,
    "start_time": "2021-11-03T11:59:38.549Z"
   },
   {
    "duration": 135,
    "start_time": "2021-11-03T12:00:30.902Z"
   },
   {
    "duration": 107,
    "start_time": "2021-11-03T12:16:15.370Z"
   },
   {
    "duration": 102,
    "start_time": "2021-11-03T12:17:03.506Z"
   },
   {
    "duration": 37,
    "start_time": "2021-11-03T12:19:48.207Z"
   },
   {
    "duration": 46,
    "start_time": "2021-11-03T12:33:32.917Z"
   },
   {
    "duration": 320,
    "start_time": "2021-11-03T12:33:50.106Z"
   },
   {
    "duration": 44,
    "start_time": "2021-11-03T12:33:54.785Z"
   },
   {
    "duration": 53,
    "start_time": "2021-11-03T12:38:07.336Z"
   },
   {
    "duration": 9,
    "start_time": "2021-11-03T12:40:41.578Z"
   },
   {
    "duration": 9,
    "start_time": "2021-11-03T12:42:31.990Z"
   },
   {
    "duration": 8,
    "start_time": "2021-11-03T13:24:30.283Z"
   },
   {
    "duration": 18,
    "start_time": "2021-11-03T13:45:03.478Z"
   },
   {
    "duration": 1549,
    "start_time": "2021-11-03T13:47:23.731Z"
   },
   {
    "duration": 119,
    "start_time": "2021-11-03T13:47:25.283Z"
   },
   {
    "duration": 45,
    "start_time": "2021-11-03T13:47:25.405Z"
   },
   {
    "duration": 27,
    "start_time": "2021-11-03T13:47:25.452Z"
   },
   {
    "duration": 16,
    "start_time": "2021-11-03T13:47:25.481Z"
   },
   {
    "duration": 22,
    "start_time": "2021-11-03T13:47:25.499Z"
   },
   {
    "duration": 10,
    "start_time": "2021-11-03T13:47:25.524Z"
   },
   {
    "duration": 53,
    "start_time": "2021-11-03T13:47:25.538Z"
   },
   {
    "duration": 16,
    "start_time": "2021-11-03T13:47:25.594Z"
   },
   {
    "duration": 6,
    "start_time": "2021-11-03T13:47:25.612Z"
   },
   {
    "duration": 46,
    "start_time": "2021-11-03T13:47:25.621Z"
   },
   {
    "duration": 15,
    "start_time": "2021-11-03T13:47:25.670Z"
   },
   {
    "duration": 5,
    "start_time": "2021-11-03T13:47:25.688Z"
   },
   {
    "duration": 18,
    "start_time": "2021-11-03T13:47:25.696Z"
   },
   {
    "duration": 133,
    "start_time": "2021-11-03T13:47:25.717Z"
   },
   {
    "duration": 19,
    "start_time": "2021-11-03T13:47:25.853Z"
   },
   {
    "duration": 7,
    "start_time": "2021-11-03T13:47:25.874Z"
   },
   {
    "duration": 94,
    "start_time": "2021-11-03T13:47:25.883Z"
   },
   {
    "duration": 11,
    "start_time": "2021-11-03T13:47:25.980Z"
   },
   {
    "duration": 681,
    "start_time": "2021-11-03T13:47:25.993Z"
   },
   {
    "duration": 9,
    "start_time": "2021-11-03T13:47:26.676Z"
   },
   {
    "duration": 16,
    "start_time": "2021-11-03T13:47:26.688Z"
   },
   {
    "duration": 11,
    "start_time": "2021-11-03T13:47:26.709Z"
   },
   {
    "duration": 12,
    "start_time": "2021-11-03T13:47:26.723Z"
   },
   {
    "duration": 42,
    "start_time": "2021-11-03T13:47:26.738Z"
   },
   {
    "duration": 24,
    "start_time": "2021-11-03T13:47:26.782Z"
   },
   {
    "duration": 25,
    "start_time": "2021-11-03T13:47:26.809Z"
   },
   {
    "duration": 109,
    "start_time": "2021-11-03T13:47:26.836Z"
   },
   {
    "duration": 122,
    "start_time": "2021-11-03T13:47:26.948Z"
   },
   {
    "duration": 38,
    "start_time": "2021-11-03T13:47:27.073Z"
   },
   {
    "duration": 65,
    "start_time": "2021-11-03T13:47:27.114Z"
   },
   {
    "duration": 37,
    "start_time": "2021-11-03T13:47:27.182Z"
   },
   {
    "duration": 11,
    "start_time": "2021-11-03T13:47:27.222Z"
   },
   {
    "duration": 32,
    "start_time": "2021-11-03T13:47:27.236Z"
   },
   {
    "duration": 16,
    "start_time": "2021-11-03T13:47:27.271Z"
   },
   {
    "duration": 6,
    "start_time": "2021-11-03T13:52:44.372Z"
   },
   {
    "duration": 98,
    "start_time": "2021-11-03T14:31:41.166Z"
   },
   {
    "duration": 97,
    "start_time": "2021-11-03T14:31:46.208Z"
   },
   {
    "duration": 403,
    "start_time": "2021-11-03T14:32:08.156Z"
   },
   {
    "duration": 408,
    "start_time": "2021-11-03T14:33:38.360Z"
   },
   {
    "duration": 402,
    "start_time": "2021-11-03T14:34:04.115Z"
   },
   {
    "duration": 409,
    "start_time": "2021-11-03T14:34:09.163Z"
   },
   {
    "duration": 487,
    "start_time": "2021-11-03T14:34:19.544Z"
   },
   {
    "duration": 449,
    "start_time": "2021-11-03T14:34:43.433Z"
   },
   {
    "duration": 433,
    "start_time": "2021-11-03T14:34:48.834Z"
   },
   {
    "duration": 114,
    "start_time": "2021-11-03T14:35:29.398Z"
   },
   {
    "duration": 9,
    "start_time": "2021-11-03T14:35:34.903Z"
   },
   {
    "duration": 110,
    "start_time": "2021-11-03T14:35:48.121Z"
   },
   {
    "duration": 99,
    "start_time": "2021-11-03T14:35:50.674Z"
   },
   {
    "duration": 99,
    "start_time": "2021-11-03T14:35:55.665Z"
   },
   {
    "duration": 155,
    "start_time": "2021-11-03T14:36:06.424Z"
   },
   {
    "duration": 10,
    "start_time": "2021-11-03T14:36:43.913Z"
   },
   {
    "duration": 413,
    "start_time": "2021-11-03T14:37:01.346Z"
   },
   {
    "duration": 882,
    "start_time": "2021-11-03T14:37:28.048Z"
   },
   {
    "duration": 534,
    "start_time": "2021-11-03T14:37:38.192Z"
   },
   {
    "duration": 469,
    "start_time": "2021-11-03T14:37:43.643Z"
   },
   {
    "duration": 418,
    "start_time": "2021-11-03T14:37:53.523Z"
   },
   {
    "duration": 397,
    "start_time": "2021-11-03T14:38:35.329Z"
   },
   {
    "duration": 9,
    "start_time": "2021-11-03T14:38:46.381Z"
   },
   {
    "duration": 394,
    "start_time": "2021-11-03T14:42:28.797Z"
   },
   {
    "duration": 385,
    "start_time": "2021-11-03T14:42:39.024Z"
   },
   {
    "duration": 486,
    "start_time": "2021-11-03T14:57:29.089Z"
   },
   {
    "duration": 9,
    "start_time": "2021-11-03T14:57:32.139Z"
   },
   {
    "duration": 93,
    "start_time": "2021-11-03T14:57:34.653Z"
   },
   {
    "duration": 111,
    "start_time": "2021-11-03T14:57:41.939Z"
   },
   {
    "duration": 131,
    "start_time": "2021-11-03T14:57:52.175Z"
   },
   {
    "duration": 111,
    "start_time": "2021-11-03T14:57:59.808Z"
   },
   {
    "duration": 95,
    "start_time": "2021-11-03T14:58:17.050Z"
   },
   {
    "duration": 566,
    "start_time": "2021-11-03T14:58:27.078Z"
   },
   {
    "duration": -124,
    "start_time": "2021-11-03T14:59:41.248Z"
   },
   {
    "duration": 7600,
    "start_time": "2021-11-03T14:59:43.481Z"
   },
   {
    "duration": 437,
    "start_time": "2021-11-03T15:00:12.959Z"
   },
   {
    "duration": -53,
    "start_time": "2021-11-03T15:00:39.370Z"
   },
   {
    "duration": 699,
    "start_time": "2021-11-03T15:00:41.913Z"
   },
   {
    "duration": 402,
    "start_time": "2021-11-03T15:00:47.265Z"
   },
   {
    "duration": 381,
    "start_time": "2021-11-03T15:00:50.431Z"
   },
   {
    "duration": 389,
    "start_time": "2021-11-03T15:04:42.981Z"
   },
   {
    "duration": 4,
    "start_time": "2021-11-03T15:13:18.692Z"
   },
   {
    "duration": 37,
    "start_time": "2021-11-03T15:13:20.326Z"
   },
   {
    "duration": 764,
    "start_time": "2021-11-03T15:19:01.748Z"
   },
   {
    "duration": 40,
    "start_time": "2021-11-03T15:19:30.723Z"
   },
   {
    "duration": 12,
    "start_time": "2021-11-03T15:19:50.810Z"
   },
   {
    "duration": 16,
    "start_time": "2021-11-03T15:21:16.584Z"
   },
   {
    "duration": 348,
    "start_time": "2021-11-03T15:21:31.427Z"
   },
   {
    "duration": 301,
    "start_time": "2021-11-03T15:21:52.004Z"
   },
   {
    "duration": 757,
    "start_time": "2021-11-03T15:22:05.151Z"
   },
   {
    "duration": 623,
    "start_time": "2021-11-03T15:22:08.748Z"
   },
   {
    "duration": 318,
    "start_time": "2021-11-03T15:23:09.797Z"
   },
   {
    "duration": 526,
    "start_time": "2021-11-03T15:23:51.184Z"
   },
   {
    "duration": 769,
    "start_time": "2021-11-03T15:24:00.280Z"
   },
   {
    "duration": 598,
    "start_time": "2021-11-03T15:24:05.205Z"
   },
   {
    "duration": 636,
    "start_time": "2021-11-03T15:24:15.027Z"
   },
   {
    "duration": 686,
    "start_time": "2021-11-03T15:24:17.842Z"
   },
   {
    "duration": 99,
    "start_time": "2021-11-03T15:24:45.854Z"
   },
   {
    "duration": 294,
    "start_time": "2021-11-03T15:24:51.928Z"
   },
   {
    "duration": 91,
    "start_time": "2021-11-03T15:25:13.111Z"
   },
   {
    "duration": 300,
    "start_time": "2021-11-03T15:25:16.922Z"
   },
   {
    "duration": 1108,
    "start_time": "2021-11-03T15:25:39.925Z"
   },
   {
    "duration": 13,
    "start_time": "2021-11-03T15:25:51.514Z"
   },
   {
    "duration": 44,
    "start_time": "2021-11-03T15:28:23.182Z"
   },
   {
    "duration": 34,
    "start_time": "2021-11-03T15:28:43.083Z"
   },
   {
    "duration": 33,
    "start_time": "2021-11-03T15:30:36.811Z"
   },
   {
    "duration": 13,
    "start_time": "2021-11-03T15:30:51.773Z"
   },
   {
    "duration": 34,
    "start_time": "2021-11-03T15:31:57.214Z"
   },
   {
    "duration": 11,
    "start_time": "2021-11-03T15:45:06.825Z"
   },
   {
    "duration": 29,
    "start_time": "2021-11-03T15:48:13.377Z"
   },
   {
    "duration": 32,
    "start_time": "2021-11-03T15:51:27.240Z"
   },
   {
    "duration": 31,
    "start_time": "2021-11-03T15:52:07.091Z"
   },
   {
    "duration": 10,
    "start_time": "2021-11-03T15:55:22.707Z"
   },
   {
    "duration": 13,
    "start_time": "2021-11-03T16:04:31.655Z"
   },
   {
    "duration": 297,
    "start_time": "2021-11-03T16:08:13.108Z"
   },
   {
    "duration": 274,
    "start_time": "2021-11-03T16:08:22.065Z"
   },
   {
    "duration": 14,
    "start_time": "2021-11-03T16:08:25.598Z"
   },
   {
    "duration": 291,
    "start_time": "2021-11-03T16:12:32.417Z"
   },
   {
    "duration": 298,
    "start_time": "2021-11-03T16:12:41.611Z"
   },
   {
    "duration": 302,
    "start_time": "2021-11-03T16:12:52.350Z"
   },
   {
    "duration": 18,
    "start_time": "2021-11-03T16:12:57.246Z"
   },
   {
    "duration": 1936,
    "start_time": "2021-11-03T16:12:57.829Z"
   },
   {
    "duration": 45,
    "start_time": "2021-11-03T16:13:14.634Z"
   },
   {
    "duration": 24,
    "start_time": "2021-11-03T16:14:40.035Z"
   },
   {
    "duration": 39,
    "start_time": "2021-11-03T16:16:47.360Z"
   },
   {
    "duration": 24,
    "start_time": "2021-11-03T16:17:05.519Z"
   },
   {
    "duration": 16,
    "start_time": "2021-11-03T16:19:01.282Z"
   },
   {
    "duration": 413,
    "start_time": "2021-11-03T16:21:43.431Z"
   },
   {
    "duration": 412,
    "start_time": "2021-11-03T16:24:02.304Z"
   },
   {
    "duration": 11,
    "start_time": "2021-11-03T16:31:30.645Z"
   },
   {
    "duration": 1889,
    "start_time": "2021-11-04T10:32:28.141Z"
   },
   {
    "duration": 124,
    "start_time": "2021-11-04T10:32:30.033Z"
   },
   {
    "duration": 46,
    "start_time": "2021-11-04T10:32:30.160Z"
   },
   {
    "duration": 60,
    "start_time": "2021-11-04T10:32:30.209Z"
   },
   {
    "duration": 18,
    "start_time": "2021-11-04T10:32:30.272Z"
   },
   {
    "duration": 23,
    "start_time": "2021-11-04T10:32:30.293Z"
   },
   {
    "duration": 47,
    "start_time": "2021-11-04T10:32:30.319Z"
   },
   {
    "duration": 26,
    "start_time": "2021-11-04T10:32:30.372Z"
   },
   {
    "duration": 33,
    "start_time": "2021-11-04T10:32:30.405Z"
   },
   {
    "duration": 11,
    "start_time": "2021-11-04T10:32:30.466Z"
   },
   {
    "duration": 16,
    "start_time": "2021-11-04T10:32:30.481Z"
   },
   {
    "duration": 36,
    "start_time": "2021-11-04T10:32:30.501Z"
   },
   {
    "duration": 5,
    "start_time": "2021-11-04T10:32:30.539Z"
   },
   {
    "duration": 9,
    "start_time": "2021-11-04T10:32:30.568Z"
   },
   {
    "duration": 130,
    "start_time": "2021-11-04T10:32:30.580Z"
   },
   {
    "duration": 7,
    "start_time": "2021-11-04T10:32:30.713Z"
   },
   {
    "duration": 19,
    "start_time": "2021-11-04T10:32:30.723Z"
   },
   {
    "duration": 144,
    "start_time": "2021-11-04T10:32:30.745Z"
   },
   {
    "duration": 17,
    "start_time": "2021-11-04T10:32:30.891Z"
   },
   {
    "duration": 1384,
    "start_time": "2021-11-04T10:32:30.910Z"
   },
   {
    "duration": 9,
    "start_time": "2021-11-04T10:32:32.297Z"
   },
   {
    "duration": 12,
    "start_time": "2021-11-04T10:32:32.308Z"
   },
   {
    "duration": 8,
    "start_time": "2021-11-04T10:32:32.326Z"
   },
   {
    "duration": 15,
    "start_time": "2021-11-04T10:32:32.368Z"
   },
   {
    "duration": 24,
    "start_time": "2021-11-04T10:32:32.387Z"
   },
   {
    "duration": 78,
    "start_time": "2021-11-04T10:32:32.414Z"
   },
   {
    "duration": 50,
    "start_time": "2021-11-04T10:32:32.495Z"
   },
   {
    "duration": 193,
    "start_time": "2021-11-04T10:32:32.549Z"
   },
   {
    "duration": 4,
    "start_time": "2021-11-04T10:32:32.745Z"
   },
   {
    "duration": 67,
    "start_time": "2021-11-04T10:32:32.752Z"
   },
   {
    "duration": 75,
    "start_time": "2021-11-04T10:32:32.822Z"
   },
   {
    "duration": 36,
    "start_time": "2021-11-04T10:32:32.899Z"
   },
   {
    "duration": 33,
    "start_time": "2021-11-04T10:32:32.937Z"
   },
   {
    "duration": 8,
    "start_time": "2021-11-04T10:32:32.973Z"
   },
   {
    "duration": 15,
    "start_time": "2021-11-04T10:32:32.984Z"
   },
   {
    "duration": 11,
    "start_time": "2021-11-04T10:32:33.001Z"
   },
   {
    "duration": 462,
    "start_time": "2021-11-04T10:32:33.014Z"
   },
   {
    "duration": 10,
    "start_time": "2021-11-04T10:32:33.479Z"
   },
   {
    "duration": 456,
    "start_time": "2021-11-04T10:32:33.493Z"
   },
   {
    "duration": 62,
    "start_time": "2021-11-04T10:32:33.952Z"
   },
   {
    "duration": 17,
    "start_time": "2021-11-04T10:32:34.018Z"
   },
   {
    "duration": 60,
    "start_time": "2021-11-04T10:32:34.037Z"
   },
   {
    "duration": 9,
    "start_time": "2021-11-04T10:32:34.099Z"
   },
   {
    "duration": 29,
    "start_time": "2021-11-04T10:32:34.111Z"
   },
   {
    "duration": 43,
    "start_time": "2021-11-04T10:32:34.142Z"
   },
   {
    "duration": 13,
    "start_time": "2021-11-04T10:32:34.187Z"
   },
   {
    "duration": 24,
    "start_time": "2021-11-04T10:32:34.202Z"
   },
   {
    "duration": 27,
    "start_time": "2021-11-04T10:32:34.268Z"
   },
   {
    "duration": 27,
    "start_time": "2021-11-04T10:32:34.299Z"
   },
   {
    "duration": 816,
    "start_time": "2021-11-04T10:32:34.329Z"
   },
   {
    "duration": 437,
    "start_time": "2021-11-04T10:53:06.024Z"
   },
   {
    "duration": 510,
    "start_time": "2021-11-04T10:53:15.183Z"
   },
   {
    "duration": 43,
    "start_time": "2021-11-04T11:00:09.990Z"
   }
  ],
  "colab": {
   "name": "DA+. Сборный проект 1. Шаблон (1).ipynb",
   "provenance": []
  },
  "kernelspec": {
   "display_name": "Python 3 (ipykernel)",
   "language": "python",
   "name": "python3"
  },
  "language_info": {
   "codemirror_mode": {
    "name": "ipython",
    "version": 3
   },
   "file_extension": ".py",
   "mimetype": "text/x-python",
   "name": "python",
   "nbconvert_exporter": "python",
   "pygments_lexer": "ipython3",
   "version": "3.8.2"
  },
  "toc": {
   "base_numbering": 1,
   "nav_menu": {},
   "number_sections": true,
   "sideBar": true,
   "skip_h1_title": true,
   "title_cell": "Содержание",
   "title_sidebar": "Содержание",
   "toc_cell": true,
   "toc_position": {
    "height": "550px",
    "left": "142px",
    "top": "136px",
    "width": "308.391px"
   },
   "toc_section_display": true,
   "toc_window_display": true
  }
 },
 "nbformat": 4,
 "nbformat_minor": 1
}
