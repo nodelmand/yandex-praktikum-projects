{
 "cells": [
  {
   "cell_type": "markdown",
   "id": "47a39a22",
   "metadata": {
    "toc": true
   },
   "source": [
    "<h1>Содержание<span class=\"tocSkip\"></span></h1>\n",
    "<div class=\"toc\"><ul class=\"toc-item\"><li><span><a href=\"#Текущий-уровень-потребительской-лояльности-(Net-Promoter-Score)\" data-toc-modified-id=\"Текущий-уровень-потребительской-лояльности-(Net-Promoter-Score)-1\"><span class=\"toc-item-num\">1&nbsp;&nbsp;</span>Текущий уровень потребительской лояльности (Net Promoter Score)</a></span><ul class=\"toc-item\"><li><span><a href=\"#Описание-проекта\" data-toc-modified-id=\"Описание-проекта-1.1\"><span class=\"toc-item-num\">1.1&nbsp;&nbsp;</span>Описание проекта</a></span></li><li><span><a href=\"#Установка-библиотек-и-загрузка-данных.\" data-toc-modified-id=\"Установка-библиотек-и-загрузка-данных.-1.2\"><span class=\"toc-item-num\">1.2&nbsp;&nbsp;</span>Установка библиотек и загрузка данных.</a></span><ul class=\"toc-item\"><li><span><a href=\"#Установка-библиотек.\" data-toc-modified-id=\"Установка-библиотек.-1.2.1\"><span class=\"toc-item-num\">1.2.1&nbsp;&nbsp;</span>Установка библиотек.</a></span></li><li><span><a href=\"#Загрузка-данных\" data-toc-modified-id=\"Загрузка-данных-1.2.2\"><span class=\"toc-item-num\">1.2.2&nbsp;&nbsp;</span>Загрузка данных</a></span></li><li><span><a href=\"#Формирование-SQL-запроса.\" data-toc-modified-id=\"Формирование-SQL-запроса.-1.2.3\"><span class=\"toc-item-num\">1.2.3&nbsp;&nbsp;</span>Формирование SQL запроса.</a></span></li><li><span><a href=\"#Создание-таблицы.\" data-toc-modified-id=\"Создание-таблицы.-1.2.4\"><span class=\"toc-item-num\">1.2.4&nbsp;&nbsp;</span>Создание таблицы.</a></span></li><li><span><a href=\"#Вывод:\" data-toc-modified-id=\"Вывод:-1.2.5\"><span class=\"toc-item-num\">1.2.5&nbsp;&nbsp;</span>Вывод:</a></span></li></ul></li></ul></li><li><span><a href=\"#Ссылка-на-дашборд-на-сайте-Tableau-Public:\" data-toc-modified-id=\"Ссылка-на-дашборд-на-сайте-Tableau-Public:-2\"><span class=\"toc-item-num\">2&nbsp;&nbsp;</span>Ссылка на дашборд на сайте Tableau Public:</a></span></li><li><span><a href=\"#Ссылка-на-pdf-файл-с-презентацией:\" data-toc-modified-id=\"Ссылка-на-pdf-файл-с-презентацией:-3\"><span class=\"toc-item-num\">3&nbsp;&nbsp;</span>Ссылка на pdf-файл с презентацией:</a></span></li></ul></div>"
   ]
  },
  {
   "cell_type": "markdown",
   "id": "b5863a3f",
   "metadata": {},
   "source": [
    "# Текущий уровень потребительской лояльности (Net Promoter Score)"
   ]
  },
  {
   "cell_type": "markdown",
   "id": "2d6ac940",
   "metadata": {},
   "source": [
    "## Описание проекта"
   ]
  },
  {
   "cell_type": "markdown",
   "id": "87e9884c",
   "metadata": {},
   "source": [
    "Заказчик этого исследования — большая телекоммуникационная компания, которая оказывает услуги на территории всего СНГ. Перед компанией стоит задача определить текущий уровень потребительской лояльности, или NPS (от англ. Net Promoter Score), среди клиентов из России.\n",
    "\n",
    "Чтобы определить уровень лояльности, клиентам задавали классический вопрос: «Оцените по шкале от 1 до 10 вероятность того, что вы порекомендуете компанию друзьям и знакомым».\n",
    "\n",
    "Компания провела опрос и попросила вас подготовить дашборд с его итогами. Большую базу данных для такой задачи разворачивать не стали и выгрузили данные в SQLite.\n",
    "\n",
    "Чтобы оценить результаты опроса, оценки обычно делят на три группы:\n",
    "- 9-10 баллов — «cторонники» (англ. promoters);\n",
    "- 7-8 баллов — «нейтралы» (англ. passives);\n",
    "- 0-6 баллов — «критики» (англ. detractors).\n",
    "Итоговое значение NPS рассчитывается по формуле: % «сторонников» - % «критиков».\n",
    "\n",
    "Таким образом, значение этого показателя варьируется от -100% (когда все клиенты «критики») до 100% (когда все клиенты лояльны к сервису). Но это крайние случаи, которые редко встретишь на практике.\n",
    "\n",
    "Интерпретируя результаты NPS-опросов, следует также помнить, что само значение мало о чём говорит. Однако исследования показывают, что клиенты-сторонники полезны любому бизнесу. Они чаще других повторно совершают покупки, активнее тестируют обновления и приводят в сервис своих друзей и знакомых. Поэтому NPS остаётся одной из важнейших метрик бизнеса."
   ]
  },
  {
   "cell_type": "markdown",
   "id": "6275db76",
   "metadata": {},
   "source": [
    "## Установка библиотек и загрузка данных."
   ]
  },
  {
   "cell_type": "markdown",
   "id": "4ea53eca",
   "metadata": {},
   "source": [
    "### Установка библиотек."
   ]
  },
  {
   "cell_type": "markdown",
   "id": "2fd81e87",
   "metadata": {},
   "source": [
    "Для работы с данными будем использовать представленные ниже библиотеки."
   ]
  },
  {
   "cell_type": "code",
   "execution_count": 1,
   "id": "18832599",
   "metadata": {},
   "outputs": [],
   "source": [
    "# Установка библиотек\n",
    "import pandas as pd\n",
    "import numpy as np\n",
    "from sqlalchemy import create_engine\n",
    "import plotly.express as px "
   ]
  },
  {
   "cell_type": "markdown",
   "id": "2c4fe102",
   "metadata": {},
   "source": [
    "### Загрузка данных"
   ]
  },
  {
   "cell_type": "markdown",
   "id": "761062de",
   "metadata": {},
   "source": [
    "В переменной path_to_db содержится путь к файлу на локальном устройстве во время выполнения проекта, вы можете указать свой, заменив значение."
   ]
  },
  {
   "cell_type": "code",
   "execution_count": 2,
   "id": "39969e32",
   "metadata": {},
   "outputs": [],
   "source": [
    "path_to_db = '/users/danielnodelman/yandex_ds/yandex_projects/telecomm_project/telecomm_csi.db' # путь к файлу (можно заменить) #/datasets/telecomm_csi.db\n",
    "engine = create_engine(f'sqlite:///{path_to_db}', echo = False)"
   ]
  },
  {
   "cell_type": "markdown",
   "id": "34e771c2",
   "metadata": {},
   "source": [
    "### Формирование SQL запроса."
   ]
  },
  {
   "cell_type": "markdown",
   "id": "1b463e2c",
   "metadata": {},
   "source": [
    "Формируем запрос на языке SQL. Сохраняем его у переменной query."
   ]
  },
  {
   "cell_type": "code",
   "execution_count": 3,
   "id": "7c9fec1e",
   "metadata": {},
   "outputs": [],
   "source": [
    "# Переменная с запросом\n",
    "query = \"\"\" \n",
    "SELECT user_id,\n",
    "       ABS(lt_day) AS lt_day,\n",
    "       CASE WHEN lt_day < 365 THEN 'new'\n",
    "            ELSE 'old'\n",
    "            END as is_new,\n",
    "       age,\n",
    "       CASE WHEN gender_segment = 1 THEN 'man'\n",
    "            WHEN gender_segment = 0 THEN 'woman'\n",
    "            ELSE 'n/a'\n",
    "            END as gender_segment,\n",
    "       LOWER(os_name) AS os_name,\n",
    "       LOWER(cpe_type_name) AS cpe_type_name,\n",
    "       country,\n",
    "       city,\n",
    "       SUBSTR(age_segment.title,3) as age_segment,\n",
    "       SUBSTR(traffic_segment.title,3) as traffic_segment,\n",
    "       SUBSTR(lifetime_segment.title,3) as life_time_segment,\n",
    "       nps_score,\n",
    "       CASE WHEN nps_score > 8 THEN 'promoters'\n",
    "            WHEN nps_score > 6 THEN 'passives'\n",
    "            ELSE 'detractors'\n",
    "            END as nps_group\n",
    "FROM user\n",
    "INNER JOIN location USING(location_id)\n",
    "INNER JOIN age_segment USING(age_gr_id)\n",
    "INNER JOIN traffic_segment USING(tr_gr_id)\n",
    "INNER JOIN lifetime_segment USING(lt_gr_id)\n",
    "\"\"\" "
   ]
  },
  {
   "cell_type": "markdown",
   "id": "98ef02bf",
   "metadata": {},
   "source": [
    "### Создание таблицы."
   ]
  },
  {
   "cell_type": "markdown",
   "id": "8a143a9f",
   "metadata": {},
   "source": [
    "Таблица будет сохранена в переменной df. Изменим формат файла на csv. Выводим первые 15 строк."
   ]
  },
  {
   "cell_type": "code",
   "execution_count": 4,
   "id": "5cdbe940",
   "metadata": {
    "scrolled": false
   },
   "outputs": [
    {
     "data": {
      "text/html": [
       "<div>\n",
       "<style scoped>\n",
       "    .dataframe tbody tr th:only-of-type {\n",
       "        vertical-align: middle;\n",
       "    }\n",
       "\n",
       "    .dataframe tbody tr th {\n",
       "        vertical-align: top;\n",
       "    }\n",
       "\n",
       "    .dataframe thead th {\n",
       "        text-align: right;\n",
       "    }\n",
       "</style>\n",
       "<table border=\"1\" class=\"dataframe\">\n",
       "  <thead>\n",
       "    <tr style=\"text-align: right;\">\n",
       "      <th></th>\n",
       "      <th>user_id</th>\n",
       "      <th>lt_day</th>\n",
       "      <th>is_new</th>\n",
       "      <th>age</th>\n",
       "      <th>gender_segment</th>\n",
       "      <th>os_name</th>\n",
       "      <th>cpe_type_name</th>\n",
       "      <th>country</th>\n",
       "      <th>city</th>\n",
       "      <th>age_segment</th>\n",
       "      <th>traffic_segment</th>\n",
       "      <th>life_time_segment</th>\n",
       "      <th>nps_score</th>\n",
       "      <th>nps_group</th>\n",
       "    </tr>\n",
       "  </thead>\n",
       "  <tbody>\n",
       "    <tr>\n",
       "      <th>0</th>\n",
       "      <td>A001A2</td>\n",
       "      <td>2320</td>\n",
       "      <td>old</td>\n",
       "      <td>45.0</td>\n",
       "      <td>man</td>\n",
       "      <td>android</td>\n",
       "      <td>smartphone</td>\n",
       "      <td>Россия</td>\n",
       "      <td>Уфа</td>\n",
       "      <td>45-54</td>\n",
       "      <td>1-5</td>\n",
       "      <td>36+</td>\n",
       "      <td>10</td>\n",
       "      <td>promoters</td>\n",
       "    </tr>\n",
       "    <tr>\n",
       "      <th>1</th>\n",
       "      <td>A001WF</td>\n",
       "      <td>2344</td>\n",
       "      <td>old</td>\n",
       "      <td>53.0</td>\n",
       "      <td>woman</td>\n",
       "      <td>android</td>\n",
       "      <td>smartphone</td>\n",
       "      <td>Россия</td>\n",
       "      <td>Киров</td>\n",
       "      <td>45-54</td>\n",
       "      <td>1-5</td>\n",
       "      <td>36+</td>\n",
       "      <td>10</td>\n",
       "      <td>promoters</td>\n",
       "    </tr>\n",
       "    <tr>\n",
       "      <th>2</th>\n",
       "      <td>A003Q7</td>\n",
       "      <td>467</td>\n",
       "      <td>old</td>\n",
       "      <td>57.0</td>\n",
       "      <td>woman</td>\n",
       "      <td>android</td>\n",
       "      <td>smartphone</td>\n",
       "      <td>Россия</td>\n",
       "      <td>Москва</td>\n",
       "      <td>55-64</td>\n",
       "      <td>20-25</td>\n",
       "      <td>13-24</td>\n",
       "      <td>10</td>\n",
       "      <td>promoters</td>\n",
       "    </tr>\n",
       "    <tr>\n",
       "      <th>3</th>\n",
       "      <td>A004TB</td>\n",
       "      <td>4190</td>\n",
       "      <td>old</td>\n",
       "      <td>44.0</td>\n",
       "      <td>man</td>\n",
       "      <td>ios</td>\n",
       "      <td>smartphone</td>\n",
       "      <td>Россия</td>\n",
       "      <td>РостовнаДону</td>\n",
       "      <td>35-44</td>\n",
       "      <td>0.1-1</td>\n",
       "      <td>36+</td>\n",
       "      <td>10</td>\n",
       "      <td>promoters</td>\n",
       "    </tr>\n",
       "    <tr>\n",
       "      <th>4</th>\n",
       "      <td>A004XT</td>\n",
       "      <td>1163</td>\n",
       "      <td>old</td>\n",
       "      <td>24.0</td>\n",
       "      <td>woman</td>\n",
       "      <td>android</td>\n",
       "      <td>smartphone</td>\n",
       "      <td>Россия</td>\n",
       "      <td>Рязань</td>\n",
       "      <td>16-24</td>\n",
       "      <td>5-10</td>\n",
       "      <td>36+</td>\n",
       "      <td>10</td>\n",
       "      <td>promoters</td>\n",
       "    </tr>\n",
       "    <tr>\n",
       "      <th>5</th>\n",
       "      <td>A005O0</td>\n",
       "      <td>5501</td>\n",
       "      <td>old</td>\n",
       "      <td>42.0</td>\n",
       "      <td>man</td>\n",
       "      <td>android</td>\n",
       "      <td>smartphone</td>\n",
       "      <td>Россия</td>\n",
       "      <td>Омск</td>\n",
       "      <td>35-44</td>\n",
       "      <td>5-10</td>\n",
       "      <td>36+</td>\n",
       "      <td>6</td>\n",
       "      <td>detractors</td>\n",
       "    </tr>\n",
       "    <tr>\n",
       "      <th>6</th>\n",
       "      <td>A0061R</td>\n",
       "      <td>1236</td>\n",
       "      <td>old</td>\n",
       "      <td>45.0</td>\n",
       "      <td>woman</td>\n",
       "      <td>android</td>\n",
       "      <td>smartphone</td>\n",
       "      <td>Россия</td>\n",
       "      <td>Уфа</td>\n",
       "      <td>45-54</td>\n",
       "      <td>10-15</td>\n",
       "      <td>36+</td>\n",
       "      <td>10</td>\n",
       "      <td>promoters</td>\n",
       "    </tr>\n",
       "    <tr>\n",
       "      <th>7</th>\n",
       "      <td>A009KS</td>\n",
       "      <td>313</td>\n",
       "      <td>new</td>\n",
       "      <td>35.0</td>\n",
       "      <td>woman</td>\n",
       "      <td>android</td>\n",
       "      <td>smartphone</td>\n",
       "      <td>Россия</td>\n",
       "      <td>Москва</td>\n",
       "      <td>35-44</td>\n",
       "      <td>45-50</td>\n",
       "      <td>7-12</td>\n",
       "      <td>10</td>\n",
       "      <td>promoters</td>\n",
       "    </tr>\n",
       "    <tr>\n",
       "      <th>8</th>\n",
       "      <td>A00AES</td>\n",
       "      <td>3238</td>\n",
       "      <td>old</td>\n",
       "      <td>36.0</td>\n",
       "      <td>man</td>\n",
       "      <td>android</td>\n",
       "      <td>smartphone</td>\n",
       "      <td>Россия</td>\n",
       "      <td>СанктПетербург</td>\n",
       "      <td>35-44</td>\n",
       "      <td>1-5</td>\n",
       "      <td>36+</td>\n",
       "      <td>10</td>\n",
       "      <td>promoters</td>\n",
       "    </tr>\n",
       "    <tr>\n",
       "      <th>9</th>\n",
       "      <td>A00F70</td>\n",
       "      <td>4479</td>\n",
       "      <td>old</td>\n",
       "      <td>54.0</td>\n",
       "      <td>man</td>\n",
       "      <td>android</td>\n",
       "      <td>smartphone</td>\n",
       "      <td>Россия</td>\n",
       "      <td>Волгоград</td>\n",
       "      <td>45-54</td>\n",
       "      <td>15-20</td>\n",
       "      <td>36+</td>\n",
       "      <td>9</td>\n",
       "      <td>promoters</td>\n",
       "    </tr>\n",
       "    <tr>\n",
       "      <th>10</th>\n",
       "      <td>A00HL5</td>\n",
       "      <td>5297</td>\n",
       "      <td>old</td>\n",
       "      <td>39.0</td>\n",
       "      <td>woman</td>\n",
       "      <td>android</td>\n",
       "      <td>smartphone</td>\n",
       "      <td>Россия</td>\n",
       "      <td>Тольятти</td>\n",
       "      <td>35-44</td>\n",
       "      <td>25-30</td>\n",
       "      <td>36+</td>\n",
       "      <td>10</td>\n",
       "      <td>promoters</td>\n",
       "    </tr>\n",
       "    <tr>\n",
       "      <th>11</th>\n",
       "      <td>A00NDN</td>\n",
       "      <td>1374</td>\n",
       "      <td>old</td>\n",
       "      <td>21.0</td>\n",
       "      <td>woman</td>\n",
       "      <td>android</td>\n",
       "      <td>smartphone</td>\n",
       "      <td>Россия</td>\n",
       "      <td>Рязань</td>\n",
       "      <td>16-24</td>\n",
       "      <td>10-15</td>\n",
       "      <td>36+</td>\n",
       "      <td>2</td>\n",
       "      <td>detractors</td>\n",
       "    </tr>\n",
       "    <tr>\n",
       "      <th>12</th>\n",
       "      <td>A00P46</td>\n",
       "      <td>179</td>\n",
       "      <td>new</td>\n",
       "      <td>27.0</td>\n",
       "      <td>woman</td>\n",
       "      <td>android</td>\n",
       "      <td>smartphone</td>\n",
       "      <td>Россия</td>\n",
       "      <td>Казань</td>\n",
       "      <td>25-34</td>\n",
       "      <td>45-50</td>\n",
       "      <td>4-6</td>\n",
       "      <td>10</td>\n",
       "      <td>promoters</td>\n",
       "    </tr>\n",
       "    <tr>\n",
       "      <th>13</th>\n",
       "      <td>A00SA7</td>\n",
       "      <td>667</td>\n",
       "      <td>old</td>\n",
       "      <td>60.0</td>\n",
       "      <td>woman</td>\n",
       "      <td>android</td>\n",
       "      <td>tablet</td>\n",
       "      <td>Россия</td>\n",
       "      <td>Казань</td>\n",
       "      <td>55-64</td>\n",
       "      <td>5-10</td>\n",
       "      <td>13-24</td>\n",
       "      <td>5</td>\n",
       "      <td>detractors</td>\n",
       "    </tr>\n",
       "    <tr>\n",
       "      <th>14</th>\n",
       "      <td>A00U8A</td>\n",
       "      <td>2908</td>\n",
       "      <td>old</td>\n",
       "      <td>44.0</td>\n",
       "      <td>man</td>\n",
       "      <td>android</td>\n",
       "      <td>smartphone</td>\n",
       "      <td>Россия</td>\n",
       "      <td>СанктПетербург</td>\n",
       "      <td>35-44</td>\n",
       "      <td>5-10</td>\n",
       "      <td>36+</td>\n",
       "      <td>10</td>\n",
       "      <td>promoters</td>\n",
       "    </tr>\n",
       "  </tbody>\n",
       "</table>\n",
       "</div>"
      ],
      "text/plain": [
       "   user_id  lt_day is_new   age gender_segment  os_name cpe_type_name country  \\\n",
       "0   A001A2    2320    old  45.0            man  android    smartphone  Россия   \n",
       "1   A001WF    2344    old  53.0          woman  android    smartphone  Россия   \n",
       "2   A003Q7     467    old  57.0          woman  android    smartphone  Россия   \n",
       "3   A004TB    4190    old  44.0            man      ios    smartphone  Россия   \n",
       "4   A004XT    1163    old  24.0          woman  android    smartphone  Россия   \n",
       "5   A005O0    5501    old  42.0            man  android    smartphone  Россия   \n",
       "6   A0061R    1236    old  45.0          woman  android    smartphone  Россия   \n",
       "7   A009KS     313    new  35.0          woman  android    smartphone  Россия   \n",
       "8   A00AES    3238    old  36.0            man  android    smartphone  Россия   \n",
       "9   A00F70    4479    old  54.0            man  android    smartphone  Россия   \n",
       "10  A00HL5    5297    old  39.0          woman  android    smartphone  Россия   \n",
       "11  A00NDN    1374    old  21.0          woman  android    smartphone  Россия   \n",
       "12  A00P46     179    new  27.0          woman  android    smartphone  Россия   \n",
       "13  A00SA7     667    old  60.0          woman  android        tablet  Россия   \n",
       "14  A00U8A    2908    old  44.0            man  android    smartphone  Россия   \n",
       "\n",
       "              city age_segment traffic_segment life_time_segment  nps_score  \\\n",
       "0              Уфа       45-54             1-5               36+         10   \n",
       "1            Киров       45-54             1-5               36+         10   \n",
       "2           Москва       55-64           20-25             13-24         10   \n",
       "3     РостовнаДону       35-44           0.1-1               36+         10   \n",
       "4           Рязань       16-24            5-10               36+         10   \n",
       "5             Омск       35-44            5-10               36+          6   \n",
       "6              Уфа       45-54           10-15               36+         10   \n",
       "7           Москва       35-44           45-50              7-12         10   \n",
       "8   СанктПетербург       35-44             1-5               36+         10   \n",
       "9        Волгоград       45-54           15-20               36+          9   \n",
       "10        Тольятти       35-44           25-30               36+         10   \n",
       "11          Рязань       16-24           10-15               36+          2   \n",
       "12          Казань       25-34           45-50               4-6         10   \n",
       "13          Казань       55-64            5-10             13-24          5   \n",
       "14  СанктПетербург       35-44            5-10               36+         10   \n",
       "\n",
       "     nps_group  \n",
       "0    promoters  \n",
       "1    promoters  \n",
       "2    promoters  \n",
       "3    promoters  \n",
       "4    promoters  \n",
       "5   detractors  \n",
       "6    promoters  \n",
       "7    promoters  \n",
       "8    promoters  \n",
       "9    promoters  \n",
       "10   promoters  \n",
       "11  detractors  \n",
       "12   promoters  \n",
       "13  detractors  \n",
       "14   promoters  "
      ]
     },
     "execution_count": 4,
     "metadata": {},
     "output_type": "execute_result"
    }
   ],
   "source": [
    "# Прочитываем таблицу и сохраняем её в переменной.\n",
    "df = pd.read_sql(query, engine)\n",
    "# Записываем как csv\n",
    "df.to_csv('telecomm_csi_tableau.csv', index=False)\n",
    "# Выводим первые 15 строк\n",
    "df.head(15)"
   ]
  },
  {
   "cell_type": "markdown",
   "id": "bd793402",
   "metadata": {},
   "source": [
    "### Вывод:"
   ]
  },
  {
   "cell_type": "markdown",
   "id": "c13f86e4",
   "metadata": {},
   "source": [
    " - Данные выгружены \n",
    " - Таблицы объединены\n",
    " - Формат таблицы соответсвует ТЗ"
   ]
  },
  {
   "cell_type": "markdown",
   "id": "b6549746",
   "metadata": {},
   "source": [
    "- Отрицательные значения заменены на модуль\n",
    "- Занчения в столбцах преведены к единому стилю."
   ]
  },
  {
   "cell_type": "markdown",
   "id": "8e7c2e43",
   "metadata": {},
   "source": [
    "# Ссылка на дашборд на сайте Tableau Public:"
   ]
  },
  {
   "cell_type": "markdown",
   "id": "8bbcb157",
   "metadata": {},
   "source": [
    "https://public.tableau.com/views/TelecommunicationcompanyNetPromoterScore/sheet7?:language=en-US&publish=yes&:display_count=n&:origin=viz_share_link"
   ]
  },
  {
   "cell_type": "markdown",
   "id": "9f36248c",
   "metadata": {},
   "source": [
    "# Ссылка на pdf-файл с презентацией:"
   ]
  },
  {
   "cell_type": "markdown",
   "id": "5128f39d",
   "metadata": {},
   "source": [
    "https://drive.google.com/file/d/1dajhES0K3Su-UOaA-dhaiBnQ4NiEKQG1/view?usp=sharing"
   ]
  }
 ],
 "metadata": {
  "ExecuteTimeLog": [
   {
    "duration": 19751,
    "start_time": "2022-02-23T03:46:12.785Z"
   },
   {
    "duration": 19,
    "start_time": "2022-02-23T03:46:32.539Z"
   },
   {
    "duration": 3,
    "start_time": "2022-02-23T03:46:32.561Z"
   },
   {
    "duration": 462,
    "start_time": "2022-02-23T03:46:32.567Z"
   },
   {
    "duration": 88,
    "start_time": "2022-02-23T03:46:32.945Z"
   },
   {
    "duration": 83,
    "start_time": "2022-02-23T03:46:32.951Z"
   },
   {
    "duration": 80,
    "start_time": "2022-02-23T03:46:32.956Z"
   },
   {
    "duration": 77,
    "start_time": "2022-02-23T03:46:32.960Z"
   },
   {
    "duration": 74,
    "start_time": "2022-02-23T03:46:32.964Z"
   },
   {
    "duration": 73,
    "start_time": "2022-02-23T03:46:32.967Z"
   },
   {
    "duration": 71,
    "start_time": "2022-02-23T03:46:32.971Z"
   },
   {
    "duration": 69,
    "start_time": "2022-02-23T03:46:32.974Z"
   },
   {
    "duration": 67,
    "start_time": "2022-02-23T03:46:32.977Z"
   },
   {
    "duration": 21227,
    "start_time": "2022-02-23T04:08:33.301Z"
   },
   {
    "duration": 10,
    "start_time": "2022-02-23T04:08:54.531Z"
   },
   {
    "duration": 3,
    "start_time": "2022-02-23T04:08:54.544Z"
   },
   {
    "duration": 14050,
    "start_time": "2022-02-23T04:08:54.550Z"
   },
   {
    "duration": 659,
    "start_time": "2022-02-23T04:09:08.603Z"
   },
   {
    "duration": 816,
    "start_time": "2022-02-23T04:09:09.264Z"
   },
   {
    "duration": 166,
    "start_time": "2022-02-23T04:09:10.083Z"
   },
   {
    "duration": 5017,
    "start_time": "2022-02-23T04:09:10.253Z"
   },
   {
    "duration": 311,
    "start_time": "2022-02-23T04:09:15.273Z"
   },
   {
    "duration": 4331,
    "start_time": "2022-02-23T04:09:15.586Z"
   },
   {
    "duration": 1192,
    "start_time": "2022-02-23T04:09:19.921Z"
   },
   {
    "duration": 6696,
    "start_time": "2022-02-23T04:09:21.115Z"
   },
   {
    "duration": 2,
    "start_time": "2022-02-23T04:09:27.814Z"
   },
   {
    "duration": 85,
    "start_time": "2022-02-23T09:20:30.345Z"
   },
   {
    "duration": 5,
    "start_time": "2022-02-24T14:40:17.466Z"
   },
   {
    "duration": 386,
    "start_time": "2022-02-24T14:40:21.048Z"
   },
   {
    "duration": 1945,
    "start_time": "2022-02-24T14:40:30.993Z"
   },
   {
    "duration": 13,
    "start_time": "2022-02-24T14:40:32.941Z"
   },
   {
    "duration": 12,
    "start_time": "2022-02-24T14:40:32.958Z"
   },
   {
    "duration": 756,
    "start_time": "2022-02-24T14:40:32.973Z"
   },
   {
    "duration": -72,
    "start_time": "2022-02-24T14:40:33.806Z"
   },
   {
    "duration": -72,
    "start_time": "2022-02-24T14:40:33.808Z"
   },
   {
    "duration": -70,
    "start_time": "2022-02-24T14:40:33.809Z"
   },
   {
    "duration": -70,
    "start_time": "2022-02-24T14:40:33.812Z"
   },
   {
    "duration": -69,
    "start_time": "2022-02-24T14:40:33.813Z"
   },
   {
    "duration": -69,
    "start_time": "2022-02-24T14:40:33.815Z"
   },
   {
    "duration": -68,
    "start_time": "2022-02-24T14:40:33.816Z"
   },
   {
    "duration": -68,
    "start_time": "2022-02-24T14:40:33.818Z"
   },
   {
    "duration": -67,
    "start_time": "2022-02-24T14:40:33.820Z"
   },
   {
    "duration": 4,
    "start_time": "2022-02-24T14:41:06.213Z"
   },
   {
    "duration": 1318,
    "start_time": "2022-02-24T14:41:26.027Z"
   },
   {
    "duration": 11,
    "start_time": "2022-02-24T14:41:27.349Z"
   },
   {
    "duration": 4,
    "start_time": "2022-02-24T14:41:27.363Z"
   },
   {
    "duration": 13311,
    "start_time": "2022-02-24T14:41:27.370Z"
   },
   {
    "duration": 718,
    "start_time": "2022-02-24T14:41:40.683Z"
   },
   {
    "duration": 881,
    "start_time": "2022-02-24T14:41:41.403Z"
   },
   {
    "duration": 145,
    "start_time": "2022-02-24T14:41:42.287Z"
   },
   {
    "duration": 5236,
    "start_time": "2022-02-24T14:41:42.435Z"
   },
   {
    "duration": 279,
    "start_time": "2022-02-24T14:41:47.675Z"
   },
   {
    "duration": 4774,
    "start_time": "2022-02-24T14:41:47.957Z"
   },
   {
    "duration": 1279,
    "start_time": "2022-02-24T14:41:52.734Z"
   },
   {
    "duration": 7048,
    "start_time": "2022-02-24T14:41:54.016Z"
   },
   {
    "duration": 4,
    "start_time": "2022-02-24T14:42:01.066Z"
   },
   {
    "duration": 4,
    "start_time": "2022-02-24T15:07:32.794Z"
   },
   {
    "duration": 13562,
    "start_time": "2022-02-24T15:07:35.172Z"
   },
   {
    "duration": 4,
    "start_time": "2022-02-24T15:14:06.561Z"
   },
   {
    "duration": 1431,
    "start_time": "2022-02-24T15:14:14.437Z"
   },
   {
    "duration": 11,
    "start_time": "2022-02-24T15:14:15.871Z"
   },
   {
    "duration": 4,
    "start_time": "2022-02-24T15:14:15.885Z"
   },
   {
    "duration": 14751,
    "start_time": "2022-02-24T15:14:15.891Z"
   },
   {
    "duration": 811,
    "start_time": "2022-02-24T15:14:30.644Z"
   },
   {
    "duration": 793,
    "start_time": "2022-02-24T15:14:31.458Z"
   },
   {
    "duration": -119,
    "start_time": "2022-02-24T15:14:32.373Z"
   },
   {
    "duration": -120,
    "start_time": "2022-02-24T15:14:32.376Z"
   },
   {
    "duration": -121,
    "start_time": "2022-02-24T15:14:32.378Z"
   },
   {
    "duration": -122,
    "start_time": "2022-02-24T15:14:32.380Z"
   },
   {
    "duration": -123,
    "start_time": "2022-02-24T15:14:32.382Z"
   },
   {
    "duration": -123,
    "start_time": "2022-02-24T15:14:32.384Z"
   },
   {
    "duration": -125,
    "start_time": "2022-02-24T15:14:32.387Z"
   },
   {
    "duration": 2056,
    "start_time": "2022-02-24T15:17:02.162Z"
   },
   {
    "duration": 11,
    "start_time": "2022-02-24T15:17:04.221Z"
   },
   {
    "duration": 5,
    "start_time": "2022-02-24T15:17:04.234Z"
   },
   {
    "duration": 15320,
    "start_time": "2022-02-24T15:17:04.242Z"
   },
   {
    "duration": 691,
    "start_time": "2022-02-24T15:17:19.565Z"
   },
   {
    "duration": 1360,
    "start_time": "2022-02-24T15:17:24.304Z"
   },
   {
    "duration": 11,
    "start_time": "2022-02-24T15:17:25.670Z"
   },
   {
    "duration": 4,
    "start_time": "2022-02-24T15:17:25.685Z"
   },
   {
    "duration": 13492,
    "start_time": "2022-02-24T15:17:25.691Z"
   },
   {
    "duration": 736,
    "start_time": "2022-02-24T15:17:39.185Z"
   },
   {
    "duration": 1826,
    "start_time": "2022-02-24T15:29:34.678Z"
   },
   {
    "duration": 10,
    "start_time": "2022-02-24T15:29:36.507Z"
   },
   {
    "duration": 4,
    "start_time": "2022-02-24T15:29:36.520Z"
   },
   {
    "duration": 14651,
    "start_time": "2022-02-24T15:29:36.527Z"
   }
  ],
  "kernelspec": {
   "display_name": "Python 3 (ipykernel)",
   "language": "python",
   "name": "python3"
  },
  "language_info": {
   "codemirror_mode": {
    "name": "ipython",
    "version": 3
   },
   "file_extension": ".py",
   "mimetype": "text/x-python",
   "name": "python",
   "nbconvert_exporter": "python",
   "pygments_lexer": "ipython3",
   "version": "3.8.2"
  },
  "toc": {
   "base_numbering": 1,
   "nav_menu": {},
   "number_sections": true,
   "sideBar": true,
   "skip_h1_title": false,
   "title_cell": "Содержание",
   "title_sidebar": "Contents",
   "toc_cell": true,
   "toc_position": {
    "height": "calc(100% - 180px)",
    "left": "10px",
    "top": "150px",
    "width": "346.391px"
   },
   "toc_section_display": true,
   "toc_window_display": true
  }
 },
 "nbformat": 4,
 "nbformat_minor": 5
}
