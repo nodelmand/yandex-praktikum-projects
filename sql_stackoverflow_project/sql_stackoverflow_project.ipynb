{
 "cells": [
  {
   "cell_type": "markdown",
   "metadata": {},
   "source": [
    "# SQL запросы к базе данных StackOverflow"
   ]
  },
  {
   "cell_type": "code",
   "execution_count": 1,
   "metadata": {
    "id": "nlZBlglMDWKe"
   },
   "outputs": [],
   "source": [
    "import pandas as pd\n",
    "import matplotlib.pyplot as plt\n",
    "from sqlalchemy import create_engine \n",
    "import seaborn as sns"
   ]
  },
  {
   "cell_type": "markdown",
   "metadata": {
    "id": "XnOE3n28DWKg"
   },
   "source": [
    "### Конфигурация для подключения к базе данных `data-analyst-advanced-sql`\n",
    "Эта база данных содержит схему `stackoverflow`, с которой вы будете работать в проекте"
   ]
  },
  {
   "cell_type": "code",
   "execution_count": 2,
   "metadata": {
    "id": "6p-yGp7qDWKg"
   },
   "outputs": [],
   "source": [
    "db_config = {\n",
    "    'user': 'praktikum_student', # имя пользователя\n",
    "    'pwd': 'Sdf4$2;d-d30pp', # пароль\n",
    "    'host': 'rc1b-wcoijxj3yxfsf3fs.mdb.yandexcloud.net',\n",
    "    'port': 6432, # порт подключения\n",
    "    'db': 'data-analyst-advanced-sql' # название базы данных\n",
    "}  \n",
    "\n",
    "connection_string = 'postgresql://{}:{}@{}:{}/{}'.format(\n",
    "    db_config['user'],\n",
    "    db_config['pwd'],\n",
    "    db_config['host'],\n",
    "    db_config['port'],\n",
    "    db_config['db'],\n",
    ")"
   ]
  },
  {
   "cell_type": "markdown",
   "metadata": {
    "id": "2Rg8ZpS0DWKh"
   },
   "source": [
    "Создание подключения"
   ]
  },
  {
   "cell_type": "code",
   "execution_count": 3,
   "metadata": {
    "id": "DamCUTR6DWKi"
   },
   "outputs": [],
   "source": [
    "engine = create_engine(connection_string) "
   ]
  },
  {
   "cell_type": "markdown",
   "metadata": {
    "id": "bel8XeSlDWKj"
   },
   "source": [
    "Пример запроса к базе данных\n",
    "\n",
    "`sample_df` является pandas-датафреймом."
   ]
  },
  {
   "cell_type": "code",
   "execution_count": 4,
   "metadata": {
    "id": "6Z_fw0yLDWKk"
   },
   "outputs": [],
   "source": [
    "query = '''\n",
    "SELECT *\n",
    "FROM stackoverflow.users\n",
    "LIMIT 10;\n",
    "'''\n",
    "\n",
    "sample_df = pd.read_sql_query(query, con=engine) "
   ]
  },
  {
   "cell_type": "code",
   "execution_count": 5,
   "metadata": {
    "id": "ZpuZ290oDWKk",
    "outputId": "22785a0a-e2bc-4559-ec3c-4879c4b377eb",
    "scrolled": true
   },
   "outputs": [
    {
     "data": {
      "text/html": [
       "<div>\n",
       "<style scoped>\n",
       "    .dataframe tbody tr th:only-of-type {\n",
       "        vertical-align: middle;\n",
       "    }\n",
       "\n",
       "    .dataframe tbody tr th {\n",
       "        vertical-align: top;\n",
       "    }\n",
       "\n",
       "    .dataframe thead th {\n",
       "        text-align: right;\n",
       "    }\n",
       "</style>\n",
       "<table border=\"1\" class=\"dataframe\">\n",
       "  <thead>\n",
       "    <tr style=\"text-align: right;\">\n",
       "      <th></th>\n",
       "      <th>id</th>\n",
       "      <th>creation_date</th>\n",
       "      <th>display_name</th>\n",
       "      <th>last_access_date</th>\n",
       "      <th>location</th>\n",
       "      <th>reputation</th>\n",
       "      <th>views</th>\n",
       "    </tr>\n",
       "  </thead>\n",
       "  <tbody>\n",
       "    <tr>\n",
       "      <th>0</th>\n",
       "      <td>1</td>\n",
       "      <td>2008-07-31 14:22:31</td>\n",
       "      <td>Jeff Atwood</td>\n",
       "      <td>2018-08-29 02:34:23</td>\n",
       "      <td>El Cerrito, CA</td>\n",
       "      <td>44300</td>\n",
       "      <td>408587</td>\n",
       "    </tr>\n",
       "    <tr>\n",
       "      <th>1</th>\n",
       "      <td>2</td>\n",
       "      <td>2008-07-31 14:22:31</td>\n",
       "      <td>Geoff Dalgas</td>\n",
       "      <td>2018-08-23 17:31:56</td>\n",
       "      <td>Corvallis, OR</td>\n",
       "      <td>3491</td>\n",
       "      <td>23966</td>\n",
       "    </tr>\n",
       "    <tr>\n",
       "      <th>2</th>\n",
       "      <td>3</td>\n",
       "      <td>2008-07-31 14:22:31</td>\n",
       "      <td>Jarrod Dixon</td>\n",
       "      <td>2018-08-30 20:56:24</td>\n",
       "      <td>Raleigh, NC, United States</td>\n",
       "      <td>13418</td>\n",
       "      <td>24396</td>\n",
       "    </tr>\n",
       "    <tr>\n",
       "      <th>3</th>\n",
       "      <td>4</td>\n",
       "      <td>2008-07-31 14:22:31</td>\n",
       "      <td>Joel Spolsky</td>\n",
       "      <td>2018-08-14 22:18:15</td>\n",
       "      <td>New York, NY</td>\n",
       "      <td>28768</td>\n",
       "      <td>73755</td>\n",
       "    </tr>\n",
       "    <tr>\n",
       "      <th>4</th>\n",
       "      <td>5</td>\n",
       "      <td>2008-07-31 14:22:31</td>\n",
       "      <td>Jon Galloway</td>\n",
       "      <td>2018-08-29 16:48:36</td>\n",
       "      <td>San Diego, CA</td>\n",
       "      <td>39172</td>\n",
       "      <td>11700</td>\n",
       "    </tr>\n",
       "    <tr>\n",
       "      <th>5</th>\n",
       "      <td>8</td>\n",
       "      <td>2008-07-31 21:33:24</td>\n",
       "      <td>Eggs McLaren</td>\n",
       "      <td>2018-04-09 02:04:56</td>\n",
       "      <td>None</td>\n",
       "      <td>942</td>\n",
       "      <td>6372</td>\n",
       "    </tr>\n",
       "    <tr>\n",
       "      <th>6</th>\n",
       "      <td>9</td>\n",
       "      <td>2008-07-31 21:35:27</td>\n",
       "      <td>Kevin Dente</td>\n",
       "      <td>2018-08-30 18:18:03</td>\n",
       "      <td>Oakland, CA</td>\n",
       "      <td>14337</td>\n",
       "      <td>4949</td>\n",
       "    </tr>\n",
       "    <tr>\n",
       "      <th>7</th>\n",
       "      <td>11</td>\n",
       "      <td>2008-08-01 00:59:11</td>\n",
       "      <td>Anonymous User</td>\n",
       "      <td>2008-08-01 00:59:11</td>\n",
       "      <td>None</td>\n",
       "      <td>1890</td>\n",
       "      <td>2123</td>\n",
       "    </tr>\n",
       "    <tr>\n",
       "      <th>8</th>\n",
       "      <td>13</td>\n",
       "      <td>2008-08-01 04:18:05</td>\n",
       "      <td>Chris Jester-Young</td>\n",
       "      <td>2018-08-30 02:47:23</td>\n",
       "      <td>Raleigh, NC, United States</td>\n",
       "      <td>177138</td>\n",
       "      <td>35414</td>\n",
       "    </tr>\n",
       "    <tr>\n",
       "      <th>9</th>\n",
       "      <td>17</td>\n",
       "      <td>2008-08-01 12:02:22</td>\n",
       "      <td>Nick Berardi</td>\n",
       "      <td>2018-01-22 01:35:38</td>\n",
       "      <td>Issaquah, WA</td>\n",
       "      <td>44443</td>\n",
       "      <td>4786</td>\n",
       "    </tr>\n",
       "  </tbody>\n",
       "</table>\n",
       "</div>"
      ],
      "text/plain": [
       "   id       creation_date        display_name    last_access_date  \\\n",
       "0   1 2008-07-31 14:22:31         Jeff Atwood 2018-08-29 02:34:23   \n",
       "1   2 2008-07-31 14:22:31        Geoff Dalgas 2018-08-23 17:31:56   \n",
       "2   3 2008-07-31 14:22:31        Jarrod Dixon 2018-08-30 20:56:24   \n",
       "3   4 2008-07-31 14:22:31        Joel Spolsky 2018-08-14 22:18:15   \n",
       "4   5 2008-07-31 14:22:31        Jon Galloway 2018-08-29 16:48:36   \n",
       "5   8 2008-07-31 21:33:24        Eggs McLaren 2018-04-09 02:04:56   \n",
       "6   9 2008-07-31 21:35:27         Kevin Dente 2018-08-30 18:18:03   \n",
       "7  11 2008-08-01 00:59:11      Anonymous User 2008-08-01 00:59:11   \n",
       "8  13 2008-08-01 04:18:05  Chris Jester-Young 2018-08-30 02:47:23   \n",
       "9  17 2008-08-01 12:02:22        Nick Berardi 2018-01-22 01:35:38   \n",
       "\n",
       "                     location  reputation   views  \n",
       "0              El Cerrito, CA       44300  408587  \n",
       "1               Corvallis, OR        3491   23966  \n",
       "2  Raleigh, NC, United States       13418   24396  \n",
       "3                New York, NY       28768   73755  \n",
       "4               San Diego, CA       39172   11700  \n",
       "5                        None         942    6372  \n",
       "6                 Oakland, CA       14337    4949  \n",
       "7                        None        1890    2123  \n",
       "8  Raleigh, NC, United States      177138   35414  \n",
       "9                Issaquah, WA       44443    4786  "
      ]
     },
     "execution_count": 5,
     "metadata": {},
     "output_type": "execute_result"
    }
   ],
   "source": [
    "sample_df"
   ]
  },
  {
   "cell_type": "markdown",
   "metadata": {
    "id": "gnBMXkDBDWKm"
   },
   "source": [
    "# Задание 1"
   ]
  },
  {
   "cell_type": "markdown",
   "metadata": {
    "id": "vHsfOrrNDWKn"
   },
   "source": [
    "Выведите общую сумму просмотров постов за каждый месяц 2008 года. Если данных за какой-либо месяц в базе нет, такой месяц можно пропустить. Результат отсортируйте по убыванию общего количества просмотров."
   ]
  },
  {
   "cell_type": "markdown",
   "metadata": {
    "id": "N5rTgGNmDWKn"
   },
   "source": [
    "| month_date  | total_views |\n",
    "| ------------- | ------------- |\n",
    "| 2008-09-01  | 452928568  |\n",
    "| 2008-10-01  | 365400138  |\n",
    "| ...         | ... |"
   ]
  },
  {
   "cell_type": "code",
   "execution_count": 6,
   "metadata": {
    "id": "eWvykcXTDWKo"
   },
   "outputs": [],
   "source": [
    "# напишите запрос\n",
    "query = '''\n",
    "SELECT  \n",
    "       DISTINCT CAST(DATE_TRUNC('month', creation_date) AS date) AS month_date,\n",
    "       SUM(views_count) OVER (PARTITION BY CAST(DATE_TRUNC('month', creation_date) AS date)) AS total_views\n",
    "FROM stackoverflow.posts\n",
    "WHERE EXTRACT(YEAR FROM creation_date) = 2008\n",
    "ORDER BY total_views DESC;\n",
    "'''\n",
    "\n",
    "# выполните запрос\n",
    "posts_count_df = pd.read_sql_query(query, con=engine) "
   ]
  },
  {
   "cell_type": "markdown",
   "metadata": {
    "id": "XMr_UeU6DWKo"
   },
   "source": [
    "<details>\n",
    "\n",
    "<summary>Подсказка</summary>\n",
    "Используйте функцию для усечения даты, а затем сгруппируйте и отсортируйте данные.\n",
    "</details>"
   ]
  },
  {
   "cell_type": "code",
   "execution_count": 7,
   "metadata": {},
   "outputs": [
    {
     "data": {
      "text/html": [
       "<div>\n",
       "<style scoped>\n",
       "    .dataframe tbody tr th:only-of-type {\n",
       "        vertical-align: middle;\n",
       "    }\n",
       "\n",
       "    .dataframe tbody tr th {\n",
       "        vertical-align: top;\n",
       "    }\n",
       "\n",
       "    .dataframe thead th {\n",
       "        text-align: right;\n",
       "    }\n",
       "</style>\n",
       "<table border=\"1\" class=\"dataframe\">\n",
       "  <thead>\n",
       "    <tr style=\"text-align: right;\">\n",
       "      <th></th>\n",
       "      <th>month_date</th>\n",
       "      <th>total_views</th>\n",
       "    </tr>\n",
       "  </thead>\n",
       "  <tbody>\n",
       "    <tr>\n",
       "      <th>0</th>\n",
       "      <td>2008-09-01</td>\n",
       "      <td>452928568</td>\n",
       "    </tr>\n",
       "    <tr>\n",
       "      <th>1</th>\n",
       "      <td>2008-10-01</td>\n",
       "      <td>365400138</td>\n",
       "    </tr>\n",
       "    <tr>\n",
       "      <th>2</th>\n",
       "      <td>2008-11-01</td>\n",
       "      <td>221759651</td>\n",
       "    </tr>\n",
       "    <tr>\n",
       "      <th>3</th>\n",
       "      <td>2008-12-01</td>\n",
       "      <td>197792841</td>\n",
       "    </tr>\n",
       "    <tr>\n",
       "      <th>4</th>\n",
       "      <td>2008-08-01</td>\n",
       "      <td>131367083</td>\n",
       "    </tr>\n",
       "    <tr>\n",
       "      <th>5</th>\n",
       "      <td>2008-07-01</td>\n",
       "      <td>669895</td>\n",
       "    </tr>\n",
       "  </tbody>\n",
       "</table>\n",
       "</div>"
      ],
      "text/plain": [
       "   month_date  total_views\n",
       "0  2008-09-01    452928568\n",
       "1  2008-10-01    365400138\n",
       "2  2008-11-01    221759651\n",
       "3  2008-12-01    197792841\n",
       "4  2008-08-01    131367083\n",
       "5  2008-07-01       669895"
      ]
     },
     "execution_count": 7,
     "metadata": {},
     "output_type": "execute_result"
    }
   ],
   "source": [
    "posts_count_df"
   ]
  },
  {
   "cell_type": "markdown",
   "metadata": {
    "id": "I_ZvhOxkDWKp"
   },
   "source": [
    "Проанализируйте итоговую таблицу. Отличаются ли данные за разные месяцы? С чем могут быть связаны отличия?"
   ]
  },
  {
   "cell_type": "markdown",
   "metadata": {
    "id": "luxSj17oDWKq"
   },
   "source": [
    "\n",
    "- Данные отличаются: с июля по август просмотров было немного. С сентября по декабрь количество просмотров резко выросло. \n",
    "    - Такая динамика обусловлена тем, что сайт был запущен 5 сентября 2008 г (Данные из wikipedia)."
   ]
  },
  {
   "cell_type": "markdown",
   "metadata": {
    "id": "FziIXkn5DWKr"
   },
   "source": [
    "# Задание 2"
   ]
  },
  {
   "cell_type": "markdown",
   "metadata": {
    "id": "fTGESZvYDWKr"
   },
   "source": [
    "Выведите имена самых активных пользователей, которые в первый месяц после регистрации (включая день регистрации) дали больше 100 ответов. Вопросы, которые задавали пользователи, не учитывайте. Для каждого имени пользователя выведите количество уникальных значений `user_id`. Отсортируйте результат по полю с именами в лексикографическом порядке."
   ]
  },
  {
   "cell_type": "markdown",
   "metadata": {
    "id": "W5-tv6Y3DWKs"
   },
   "source": [
    "| display_name | count |\n",
    "| ------------ | ----- |\n",
    "| 1800 INFORMATION | 1 |\n",
    "| Adam Bellaire | 1 |\n",
    "| Adam Davis | 1 |\n",
    "| ... | ... |"
   ]
  },
  {
   "cell_type": "code",
   "execution_count": 8,
   "metadata": {
    "id": "fIO-y-YjDWKt"
   },
   "outputs": [],
   "source": [
    "# напишите запрос\n",
    "query = '''\n",
    "SELECT u.display_name, COUNT(DISTINCT u.id)\n",
    "FROM stackoverflow.posts p\n",
    "JOIN stackoverflow.users u ON p.user_id=u.id\n",
    "JOIN stackoverflow.post_types pt ON p.post_type_id=pt.id\n",
    "WHERE pt.type='Answer' AND DATE_TRUNC('day', u.creation_date)+ INTERVAL '1 month' >= p.creation_date \n",
    "                       AND p.creation_date >= DATE_TRUNC('day', u.creation_date)\n",
    "GROUP BY u.display_name\n",
    "HAVING COUNT(p.id)>100\n",
    "ORDER BY u.display_name\n",
    ";\n",
    "'''\n",
    "# p.creation_date >= DATE_TRUNC('day', u.creation_date)\n",
    "# выполните запрос\n",
    "active_user_df = pd.read_sql_query(query, con=engine) "
   ]
  },
  {
   "cell_type": "markdown",
   "metadata": {
    "id": "YIqqc-7HDWKt"
   },
   "source": [
    "<details>\n",
    "\n",
    "<summary>Подсказка</summary>\n",
    "Вам нужно присоединить несколько таблиц — изучите внимательнее описание базы. Чтобы добавить промежуток времени к дате, используйте ключевое слово INTERVAL, например, так: <дата> + INTERVAL '1 year 2 months 3 days'\n",
    ".</details>"
   ]
  },
  {
   "cell_type": "code",
   "execution_count": 9,
   "metadata": {},
   "outputs": [
    {
     "data": {
      "text/html": [
       "<div>\n",
       "<style scoped>\n",
       "    .dataframe tbody tr th:only-of-type {\n",
       "        vertical-align: middle;\n",
       "    }\n",
       "\n",
       "    .dataframe tbody tr th {\n",
       "        vertical-align: top;\n",
       "    }\n",
       "\n",
       "    .dataframe thead th {\n",
       "        text-align: right;\n",
       "    }\n",
       "</style>\n",
       "<table border=\"1\" class=\"dataframe\">\n",
       "  <thead>\n",
       "    <tr style=\"text-align: right;\">\n",
       "      <th></th>\n",
       "      <th>display_name</th>\n",
       "      <th>count</th>\n",
       "    </tr>\n",
       "  </thead>\n",
       "  <tbody>\n",
       "    <tr>\n",
       "      <th>0</th>\n",
       "      <td>1800 INFORMATION</td>\n",
       "      <td>1</td>\n",
       "    </tr>\n",
       "    <tr>\n",
       "      <th>1</th>\n",
       "      <td>Adam Bellaire</td>\n",
       "      <td>1</td>\n",
       "    </tr>\n",
       "    <tr>\n",
       "      <th>2</th>\n",
       "      <td>Adam Davis</td>\n",
       "      <td>1</td>\n",
       "    </tr>\n",
       "    <tr>\n",
       "      <th>3</th>\n",
       "      <td>Adam Liss</td>\n",
       "      <td>1</td>\n",
       "    </tr>\n",
       "    <tr>\n",
       "      <th>4</th>\n",
       "      <td>Alan</td>\n",
       "      <td>8</td>\n",
       "    </tr>\n",
       "    <tr>\n",
       "      <th>...</th>\n",
       "      <td>...</td>\n",
       "      <td>...</td>\n",
       "    </tr>\n",
       "    <tr>\n",
       "      <th>71</th>\n",
       "      <td>leppie</td>\n",
       "      <td>1</td>\n",
       "    </tr>\n",
       "    <tr>\n",
       "      <th>72</th>\n",
       "      <td>lomaxx</td>\n",
       "      <td>1</td>\n",
       "    </tr>\n",
       "    <tr>\n",
       "      <th>73</th>\n",
       "      <td>mattlant</td>\n",
       "      <td>1</td>\n",
       "    </tr>\n",
       "    <tr>\n",
       "      <th>74</th>\n",
       "      <td>paxdiablo</td>\n",
       "      <td>1</td>\n",
       "    </tr>\n",
       "    <tr>\n",
       "      <th>75</th>\n",
       "      <td>tzot</td>\n",
       "      <td>1</td>\n",
       "    </tr>\n",
       "  </tbody>\n",
       "</table>\n",
       "<p>76 rows × 2 columns</p>\n",
       "</div>"
      ],
      "text/plain": [
       "        display_name  count\n",
       "0   1800 INFORMATION      1\n",
       "1      Adam Bellaire      1\n",
       "2         Adam Davis      1\n",
       "3          Adam Liss      1\n",
       "4               Alan      8\n",
       "..               ...    ...\n",
       "71            leppie      1\n",
       "72            lomaxx      1\n",
       "73          mattlant      1\n",
       "74         paxdiablo      1\n",
       "75              tzot      1\n",
       "\n",
       "[76 rows x 2 columns]"
      ]
     },
     "execution_count": 9,
     "metadata": {},
     "output_type": "execute_result"
    }
   ],
   "source": [
    "active_user_df"
   ]
  },
  {
   "cell_type": "code",
   "execution_count": 10,
   "metadata": {},
   "outputs": [
    {
     "data": {
      "text/plain": [
       "array([ 1,  8, 15, 29, 10, 21, 12,  7,  9, 16,  5, 11,  3, 14, 19])"
      ]
     },
     "execution_count": 10,
     "metadata": {},
     "output_type": "execute_result"
    }
   ],
   "source": [
    "active_user_df['count'].unique()"
   ]
  },
  {
   "cell_type": "markdown",
   "metadata": {
    "id": "I3Wr82TplKpI"
   },
   "source": [
    "Какие аномалии наблюдаются в данных? О чём они говорят?"
   ]
  },
  {
   "cell_type": "markdown",
   "metadata": {
    "id": "CEIGGQ6ODWKy"
   },
   "source": [
    "\n",
    "- Обратим внимание на количество дублирующихся индефикаторов пользователей. \n",
    "- Я думаю что это техническая ошибка, в частности дублирующиеся никнеймы у разных пользователей. На момент создания сайта не было привязки user_id к отображаемому имени"
   ]
  },
  {
   "cell_type": "markdown",
   "metadata": {
    "id": "JhM2xXj5DWKu"
   },
   "source": [
    "# Задание 3"
   ]
  },
  {
   "cell_type": "markdown",
   "metadata": {
    "id": "IS6xPqyyDWKu"
   },
   "source": [
    "Выведите количество постов за 2008 год по месяцам. Отберите посты от пользователей, которые зарегистрировались в сентябре 2008 года и сделали хотя бы один пост в декабре того же года. Отсортируйте таблицу по значению месяца по убыванию."
   ]
  },
  {
   "cell_type": "markdown",
   "metadata": {
    "id": "WmjhjV2xDWKv"
   },
   "source": [
    "| month | count |\n",
    "| ------|------ |\n",
    "| 2008-12-01 | 17641 |\n",
    "| 2008-11-01 | 18294 |\n",
    "| ... | ... |"
   ]
  },
  {
   "cell_type": "code",
   "execution_count": 11,
   "metadata": {
    "id": "kVu0FB8WDWKv"
   },
   "outputs": [],
   "source": [
    "# напишите запрос\n",
    "query = '''\n",
    "WITH users_slice AS\n",
    "    (SELECT DISTINCT u.id\n",
    "    FROM stackoverflow.posts p\n",
    "    JOIN stackoverflow.users u ON p.user_id=u.id\n",
    "    WHERE DATE_TRUNC('month', u.creation_date)::date = '2008-09-01'\n",
    "          AND DATE_TRUNC('month', p.creation_date)::date = '2008-12-01')\n",
    "SELECT DATE_TRUNC('month', p.creation_date)::date  AS month, COUNT(p.id)\n",
    "FROM users_slice us\n",
    "JOIN stackoverflow.posts p ON us.id=p.user_id\n",
    "WHERE DATE_TRUNC('year', creation_date)::date = '2008-01-01' \n",
    "GROUP BY month\n",
    "ORDER BY month DESC\n",
    "'''\n",
    "# выполните запрос\n",
    "september_users_df = pd.read_sql_query(query, con=engine) "
   ]
  },
  {
   "cell_type": "markdown",
   "metadata": {
    "id": "nWf0JsTMDWKx"
   },
   "source": [
    "<details>\n",
    "\n",
    "<summary>Подсказка</summary>\n",
    "Сначала найдите идентификаторы пользователей, которые зарегистрировались в сентябре 2008 года и оставили хотя бы один пост в декабре. Затем используйте результат для среза и посчитайте посты по месяцам.</details>"
   ]
  },
  {
   "cell_type": "code",
   "execution_count": 12,
   "metadata": {},
   "outputs": [
    {
     "data": {
      "text/html": [
       "<div>\n",
       "<style scoped>\n",
       "    .dataframe tbody tr th:only-of-type {\n",
       "        vertical-align: middle;\n",
       "    }\n",
       "\n",
       "    .dataframe tbody tr th {\n",
       "        vertical-align: top;\n",
       "    }\n",
       "\n",
       "    .dataframe thead th {\n",
       "        text-align: right;\n",
       "    }\n",
       "</style>\n",
       "<table border=\"1\" class=\"dataframe\">\n",
       "  <thead>\n",
       "    <tr style=\"text-align: right;\">\n",
       "      <th></th>\n",
       "      <th>month</th>\n",
       "      <th>count</th>\n",
       "    </tr>\n",
       "  </thead>\n",
       "  <tbody>\n",
       "    <tr>\n",
       "      <th>0</th>\n",
       "      <td>2008-12-01</td>\n",
       "      <td>17641</td>\n",
       "    </tr>\n",
       "    <tr>\n",
       "      <th>1</th>\n",
       "      <td>2008-11-01</td>\n",
       "      <td>18294</td>\n",
       "    </tr>\n",
       "    <tr>\n",
       "      <th>2</th>\n",
       "      <td>2008-10-01</td>\n",
       "      <td>27171</td>\n",
       "    </tr>\n",
       "    <tr>\n",
       "      <th>3</th>\n",
       "      <td>2008-09-01</td>\n",
       "      <td>24870</td>\n",
       "    </tr>\n",
       "    <tr>\n",
       "      <th>4</th>\n",
       "      <td>2008-08-01</td>\n",
       "      <td>32</td>\n",
       "    </tr>\n",
       "  </tbody>\n",
       "</table>\n",
       "</div>"
      ],
      "text/plain": [
       "        month  count\n",
       "0  2008-12-01  17641\n",
       "1  2008-11-01  18294\n",
       "2  2008-10-01  27171\n",
       "3  2008-09-01  24870\n",
       "4  2008-08-01     32"
      ]
     },
     "execution_count": 12,
     "metadata": {},
     "output_type": "execute_result"
    }
   ],
   "source": [
    "september_users_df"
   ]
  },
  {
   "cell_type": "markdown",
   "metadata": {
    "id": "Vnxn9DVHDWKx"
   },
   "source": [
    "Изучите данные: есть ли в них аномалии? Предположите, почему могли появиться аномальные значения."
   ]
  },
  {
   "cell_type": "markdown",
   "metadata": {
    "id": "MMVIz4yMlKpN"
   },
   "source": [
    "\n",
    "- Те пользователи, что относятся к августу были до в режиме тестировки сайта, затем официально зарегистрировались, когда сайт был официально запущен."
   ]
  },
  {
   "cell_type": "markdown",
   "metadata": {
    "id": "5Pcizm0DDWKz"
   },
   "source": [
    "# Задание 4"
   ]
  },
  {
   "cell_type": "markdown",
   "metadata": {
    "id": "KUZPF6vHDWKz"
   },
   "source": [
    "Используя данные о постах, выведите несколько полей:\n",
    "\n",
    "- идентификатор пользователя, который написал пост;\n",
    "- дата создания поста;\n",
    "- количество просмотров у текущего поста;\n",
    "- сумму просмотров постов автора с накоплением.\n",
    "\n",
    "Данные в таблице должны быть отсортированы по возрастанию идентификаторов пользователей, а данные об одном и том же пользователе — по возрастанию даты создания поста."
   ]
  },
  {
   "cell_type": "markdown",
   "metadata": {
    "id": "ZpsTUVDYDWK0"
   },
   "source": [
    "| user_id | creation_date | views_count | cumulative_count |\n",
    "| ------ | -------------- | ----------- | ---------------- |\n",
    "| 1 | 2008-07-31 23:41:00  | 480476   | 480476  |\n",
    "| 1 | 2008-07-31 23:55:38  | 136033 | 616509  | \n",
    "| 1 | 2008-07-31 23:56:41  | 0 |  616509  |\n",
    "| ... | ... | ... | ... |\n",
    "| 2 | 2008-07-31 23:56:41 | 79087  | 79087 |\n",
    "| 2 | 2008-08-01 05:09:56 | 65443 | 144530 |\n",
    "| ... | ...  | ...  | ...  |"
   ]
  },
  {
   "cell_type": "code",
   "execution_count": 13,
   "metadata": {
    "id": "hDoJhMzfDWK0"
   },
   "outputs": [],
   "source": [
    "# напишите запрос\n",
    "query = '''\n",
    "SELECT user_id,\n",
    "creation_date,\n",
    "views_count, \n",
    "SUM(views_count) OVER(PARTITION BY user_id ORDER BY creation_date)\n",
    "FROM stackoverflow.posts\n",
    "ORDER BY user_id\n",
    ";\n",
    "'''\n",
    "\n",
    "# выполните запрос\n",
    "cumulative_count_df = pd.read_sql_query(query, con=engine) "
   ]
  },
  {
   "cell_type": "markdown",
   "metadata": {
    "id": "toidOivXDWK1"
   },
   "source": [
    "<details>\n",
    "\n",
    "<summary>Подсказка</summary>\n",
    "Для подсчёта суммы с накоплением используйте оконную функцию.\n",
    "</details>"
   ]
  },
  {
   "cell_type": "code",
   "execution_count": 14,
   "metadata": {},
   "outputs": [
    {
     "data": {
      "text/html": [
       "<div>\n",
       "<style scoped>\n",
       "    .dataframe tbody tr th:only-of-type {\n",
       "        vertical-align: middle;\n",
       "    }\n",
       "\n",
       "    .dataframe tbody tr th {\n",
       "        vertical-align: top;\n",
       "    }\n",
       "\n",
       "    .dataframe thead th {\n",
       "        text-align: right;\n",
       "    }\n",
       "</style>\n",
       "<table border=\"1\" class=\"dataframe\">\n",
       "  <thead>\n",
       "    <tr style=\"text-align: right;\">\n",
       "      <th></th>\n",
       "      <th>user_id</th>\n",
       "      <th>creation_date</th>\n",
       "      <th>views_count</th>\n",
       "      <th>sum</th>\n",
       "    </tr>\n",
       "  </thead>\n",
       "  <tbody>\n",
       "    <tr>\n",
       "      <th>0</th>\n",
       "      <td>1</td>\n",
       "      <td>2008-07-31 23:41:00</td>\n",
       "      <td>480476</td>\n",
       "      <td>480476</td>\n",
       "    </tr>\n",
       "    <tr>\n",
       "      <th>1</th>\n",
       "      <td>1</td>\n",
       "      <td>2008-07-31 23:55:38</td>\n",
       "      <td>136033</td>\n",
       "      <td>616509</td>\n",
       "    </tr>\n",
       "    <tr>\n",
       "      <th>2</th>\n",
       "      <td>1</td>\n",
       "      <td>2008-07-31 23:56:41</td>\n",
       "      <td>0</td>\n",
       "      <td>616509</td>\n",
       "    </tr>\n",
       "    <tr>\n",
       "      <th>3</th>\n",
       "      <td>1</td>\n",
       "      <td>2008-08-04 02:45:08</td>\n",
       "      <td>0</td>\n",
       "      <td>616509</td>\n",
       "    </tr>\n",
       "    <tr>\n",
       "      <th>4</th>\n",
       "      <td>1</td>\n",
       "      <td>2008-08-04 04:31:03</td>\n",
       "      <td>0</td>\n",
       "      <td>616509</td>\n",
       "    </tr>\n",
       "    <tr>\n",
       "      <th>...</th>\n",
       "      <td>...</td>\n",
       "      <td>...</td>\n",
       "      <td>...</td>\n",
       "      <td>...</td>\n",
       "    </tr>\n",
       "    <tr>\n",
       "      <th>243791</th>\n",
       "      <td>5696608</td>\n",
       "      <td>2008-12-23 16:00:37</td>\n",
       "      <td>0</td>\n",
       "      <td>2804</td>\n",
       "    </tr>\n",
       "    <tr>\n",
       "      <th>243792</th>\n",
       "      <td>5696608</td>\n",
       "      <td>2008-12-23 17:35:09</td>\n",
       "      <td>0</td>\n",
       "      <td>2804</td>\n",
       "    </tr>\n",
       "    <tr>\n",
       "      <th>243793</th>\n",
       "      <td>5696608</td>\n",
       "      <td>2008-12-24 01:02:48</td>\n",
       "      <td>0</td>\n",
       "      <td>2804</td>\n",
       "    </tr>\n",
       "    <tr>\n",
       "      <th>243794</th>\n",
       "      <td>5696608</td>\n",
       "      <td>2008-12-30 14:34:45</td>\n",
       "      <td>0</td>\n",
       "      <td>2804</td>\n",
       "    </tr>\n",
       "    <tr>\n",
       "      <th>243795</th>\n",
       "      <td>5696608</td>\n",
       "      <td>2008-12-30 16:32:12</td>\n",
       "      <td>0</td>\n",
       "      <td>2804</td>\n",
       "    </tr>\n",
       "  </tbody>\n",
       "</table>\n",
       "<p>243796 rows × 4 columns</p>\n",
       "</div>"
      ],
      "text/plain": [
       "        user_id       creation_date  views_count     sum\n",
       "0             1 2008-07-31 23:41:00       480476  480476\n",
       "1             1 2008-07-31 23:55:38       136033  616509\n",
       "2             1 2008-07-31 23:56:41            0  616509\n",
       "3             1 2008-08-04 02:45:08            0  616509\n",
       "4             1 2008-08-04 04:31:03            0  616509\n",
       "...         ...                 ...          ...     ...\n",
       "243791  5696608 2008-12-23 16:00:37            0    2804\n",
       "243792  5696608 2008-12-23 17:35:09            0    2804\n",
       "243793  5696608 2008-12-24 01:02:48            0    2804\n",
       "243794  5696608 2008-12-30 14:34:45            0    2804\n",
       "243795  5696608 2008-12-30 16:32:12            0    2804\n",
       "\n",
       "[243796 rows x 4 columns]"
      ]
     },
     "execution_count": 14,
     "metadata": {},
     "output_type": "execute_result"
    }
   ],
   "source": [
    "cumulative_count_df"
   ]
  },
  {
   "cell_type": "markdown",
   "metadata": {
    "id": "N0kHRHvIDWK2"
   },
   "source": [
    "# Задание 5"
   ]
  },
  {
   "cell_type": "markdown",
   "metadata": {
    "id": "gBgvmPtODWK2"
   },
   "source": [
    "Найдите среднее количество постов пользователей в день за август 2008 года. Отберите данные о пользователях, которые опубликовали больше 120 постов за август. Дни без публикаций не учитывайте. \n",
    "\n",
    "Отсортируйте результат по возрастанию среднего количества постов. Значения можно не округлять."
   ]
  },
  {
   "cell_type": "markdown",
   "metadata": {
    "id": "nfzR08BODWK3"
   },
   "source": [
    "| user_id | avg_daily |\n",
    "| ------- | --------- |\n",
    "| 116     | 4.777778  |\n",
    "| 234     | 5.208333  |\n",
    "| ...     | ... |"
   ]
  },
  {
   "cell_type": "code",
   "execution_count": 15,
   "metadata": {
    "id": "YFyPNz5GDWK3"
   },
   "outputs": [],
   "source": [
    "# напишите запрос\n",
    "query = '''\n",
    "WITH users_slice AS\n",
    "    (SELECT user_id,\n",
    "    COUNT(id) posts_cnt,\n",
    "    COUNT(DISTINCT creation_date::date) day_cnt\n",
    "    FROM stackoverflow.posts\n",
    "    WHERE DATE_TRUNC('month', creation_date)::date = '2008-08-01'\n",
    "    GROUP BY user_id\n",
    "    HAVING COUNT(id)>120)\n",
    "SELECT user_id, posts_cnt::numeric/day_cnt avg_daily\n",
    "FROM users_slice\n",
    "ORDER BY avg_daily\n",
    "'''\n",
    "\n",
    "# выполните запрос\n",
    "august_avg_users_df = pd.read_sql_query(query, con=engine) "
   ]
  },
  {
   "cell_type": "code",
   "execution_count": 16,
   "metadata": {},
   "outputs": [
    {
     "data": {
      "text/html": [
       "<div>\n",
       "<style scoped>\n",
       "    .dataframe tbody tr th:only-of-type {\n",
       "        vertical-align: middle;\n",
       "    }\n",
       "\n",
       "    .dataframe tbody tr th {\n",
       "        vertical-align: top;\n",
       "    }\n",
       "\n",
       "    .dataframe thead th {\n",
       "        text-align: right;\n",
       "    }\n",
       "</style>\n",
       "<table border=\"1\" class=\"dataframe\">\n",
       "  <thead>\n",
       "    <tr style=\"text-align: right;\">\n",
       "      <th></th>\n",
       "      <th>user_id</th>\n",
       "      <th>avg_daily</th>\n",
       "    </tr>\n",
       "  </thead>\n",
       "  <tbody>\n",
       "    <tr>\n",
       "      <th>0</th>\n",
       "      <td>116</td>\n",
       "      <td>4.777778</td>\n",
       "    </tr>\n",
       "    <tr>\n",
       "      <th>1</th>\n",
       "      <td>234</td>\n",
       "      <td>5.208333</td>\n",
       "    </tr>\n",
       "    <tr>\n",
       "      <th>2</th>\n",
       "      <td>91</td>\n",
       "      <td>5.681818</td>\n",
       "    </tr>\n",
       "    <tr>\n",
       "      <th>3</th>\n",
       "      <td>905</td>\n",
       "      <td>7.000000</td>\n",
       "    </tr>\n",
       "    <tr>\n",
       "      <th>4</th>\n",
       "      <td>383</td>\n",
       "      <td>7.277778</td>\n",
       "    </tr>\n",
       "  </tbody>\n",
       "</table>\n",
       "</div>"
      ],
      "text/plain": [
       "   user_id  avg_daily\n",
       "0      116   4.777778\n",
       "1      234   5.208333\n",
       "2       91   5.681818\n",
       "3      905   7.000000\n",
       "4      383   7.277778"
      ]
     },
     "execution_count": 16,
     "metadata": {},
     "output_type": "execute_result"
    }
   ],
   "source": [
    "august_avg_users_df"
   ]
  },
  {
   "cell_type": "markdown",
   "metadata": {
    "id": "5Gs8kiJvDWK4"
   },
   "source": [
    "<details>\n",
    "\n",
    "<summary>Подсказка</summary>\n",
    "Сначала найдите идентификаторы пользователей, которые написали более 120 постов за август. Используя этот запрос в качестве подзапроса для среза, найдите и сохраните во временную таблицу идентификаторы нужных пользователей, дни августа и количество постов в день. В основном запросе сгруппируйте данные по пользователям и найдите для каждого из них среднее количество постов.\n",
    "</details>"
   ]
  },
  {
   "cell_type": "markdown",
   "metadata": {
    "id": "EQ0dcFH4DWK5"
   },
   "source": [
    "# Задание 6"
   ]
  },
  {
   "cell_type": "markdown",
   "metadata": {
    "id": "c7flfg_hDWK5"
   },
   "source": [
    "Сколько в среднем дней в период с 1 по 7 декабря 2008 года пользователи взаимодействовали с платформой? Для каждого пользователя отберите дни, в которые он или она опубликовали хотя бы один пост. Нужно получить одно целое число — не забудьте округлить результат. "
   ]
  },
  {
   "cell_type": "markdown",
   "metadata": {
    "id": "RC1Ibzm9DWK6"
   },
   "source": [
    "| result |\n",
    "| -----  |\n",
    "| <целое число> |"
   ]
  },
  {
   "cell_type": "code",
   "execution_count": 17,
   "metadata": {
    "id": "kZ7LXTr6DWK6"
   },
   "outputs": [],
   "source": [
    "# напишите запрос\n",
    "query = '''\n",
    "WITH users_day_cnt AS\n",
    "    (SELECT user_id, COUNT(DISTINCT creation_date::date) day_cnt\n",
    "    FROM stackoverflow.posts\n",
    "    WHERE creation_date::date BETWEEN '2008-12-01' AND '2008-12-07'\n",
    "    GROUP BY user_id)\n",
    "SELECT ROUND(AVG(day_cnt)) result\n",
    "FROM users_day_cnt\n",
    "'''\n",
    "\n",
    "# выполните запрос\n",
    "avg_december = pd.read_sql_query(query, con=engine) "
   ]
  },
  {
   "cell_type": "markdown",
   "metadata": {
    "id": "2K5G3xuBDWK7"
   },
   "source": [
    "<details>\n",
    "\n",
    "<summary>Подсказка</summary>\n",
    "Посчитайте, сколько активных дней было у каждого пользователя. Добавьте данные во временную таблицу и используйте в основном запросе.\n",
    "</details>"
   ]
  },
  {
   "cell_type": "code",
   "execution_count": 18,
   "metadata": {},
   "outputs": [
    {
     "data": {
      "text/html": [
       "<div>\n",
       "<style scoped>\n",
       "    .dataframe tbody tr th:only-of-type {\n",
       "        vertical-align: middle;\n",
       "    }\n",
       "\n",
       "    .dataframe tbody tr th {\n",
       "        vertical-align: top;\n",
       "    }\n",
       "\n",
       "    .dataframe thead th {\n",
       "        text-align: right;\n",
       "    }\n",
       "</style>\n",
       "<table border=\"1\" class=\"dataframe\">\n",
       "  <thead>\n",
       "    <tr style=\"text-align: right;\">\n",
       "      <th></th>\n",
       "      <th>result</th>\n",
       "    </tr>\n",
       "  </thead>\n",
       "  <tbody>\n",
       "    <tr>\n",
       "      <th>0</th>\n",
       "      <td>2.0</td>\n",
       "    </tr>\n",
       "  </tbody>\n",
       "</table>\n",
       "</div>"
      ],
      "text/plain": [
       "   result\n",
       "0     2.0"
      ]
     },
     "execution_count": 18,
     "metadata": {},
     "output_type": "execute_result"
    }
   ],
   "source": [
    "avg_december"
   ]
  },
  {
   "cell_type": "markdown",
   "metadata": {
    "id": "UJFtNNggDWK7"
   },
   "source": [
    "Проанализируйте итоговую таблицу — какие выводы можно сделать?"
   ]
  },
  {
   "cell_type": "markdown",
   "metadata": {
    "id": "LfUuYz-1DWK8"
   },
   "source": [
    "Средняя продолжительность взаимодействия пользователя и сайта два дня."
   ]
  },
  {
   "cell_type": "markdown",
   "metadata": {
    "id": "wfOmqmfLDWK8"
   },
   "source": [
    "# Задание 7"
   ]
  },
  {
   "cell_type": "markdown",
   "metadata": {
    "id": "X4ARQimADWK9"
   },
   "source": [
    "Выведите историю активности каждого пользователя в таком виде: идентификатор пользователя, дата публикации поста. Отсортируйте вывод по возрастанию идентификаторов пользователей, а для каждого пользователя — по возрастанию даты публикации.\n",
    "\n",
    "Добавьте в таблицу новое поле: для каждого поста в нём будет указано название месяца предпоследней публикации пользователя относительно текущей. Если такой публикации нет, укажите `NULL`.  Python автоматически поменяет `NULL` на `None`, но дополнительно преобразовывать значения `None` вам не нужно.\n",
    "\n",
    "Посмотрите внимательно на образец таблицы: для первых двух постов предпоследней публикации нет, но, начиная с третьего поста, в новое поле входит нужный месяц. Для следующего пользователя в первые две записи поля `second_last_month` тоже войдёт `NULL`."
   ]
  },
  {
   "cell_type": "markdown",
   "metadata": {
    "id": "IGPjRP01DWK9"
   },
   "source": [
    "| user_id | creation_date | second_last_month |\n",
    "| ------- | ------------- | ----------------- |\n",
    "| 1       | 2008-07-31 23:41:00 | None |\n",
    "| 1       | 2008-07-31 23:55:38 | None |\n",
    "| 1       | 2008-07-31 23:56:41 | July |\n",
    "| 1       | 2008-08-04 02:45:08 | July |\n",
    "| 1       | 2008-08-04 04:31:03 | July |\n",
    "| 1       | 2008-08-04 08:04:42 | August |\n",
    "| ... | ... | ... |"
   ]
  },
  {
   "cell_type": "code",
   "execution_count": 19,
   "metadata": {
    "id": "HzI1vhaMDWK-"
   },
   "outputs": [],
   "source": [
    "# напишите запрос\n",
    "query = '''\n",
    "WITH users_dt AS\n",
    "    (SELECT user_id,\n",
    "            creation_date, \n",
    "            LAG(EXTRACT(MONTH FROM creation_date::date), 2, NULL) OVER (PARTITION BY user_id ORDER BY creation_date) AS second_last_month\n",
    "    FROM stackoverflow.posts\n",
    "    ORDER BY user_id, creation_date)\n",
    "SELECT user_id,\n",
    "       creation_date,\n",
    "       CASE\n",
    "           WHEN second_last_month = 1 THEN 'January'\n",
    "           WHEN second_last_month = 2 THEN 'February'\n",
    "           WHEN second_last_month = 3 THEN 'March'\n",
    "           WHEN second_last_month = 4 THEN 'April'\n",
    "           WHEN second_last_month = 5 THEN 'May'\n",
    "           WHEN second_last_month = 6 THEN 'June'\n",
    "           WHEN second_last_month = 7 THEN 'July'\n",
    "           WHEN second_last_month = 8 THEN 'August'\n",
    "           WHEN second_last_month = 9 THEN 'September'\n",
    "           WHEN second_last_month = 10 THEN 'October'\n",
    "           WHEN second_last_month = 11 THEN 'November'\n",
    "           WHEN second_last_month = 12 THEN 'December'\n",
    "       END second_last_month\n",
    "FROM users_dt\n",
    "'''\n",
    "\n",
    "# выполните запрос\n",
    "second_last_month_df = pd.read_sql_query(query, con=engine) "
   ]
  },
  {
   "cell_type": "code",
   "execution_count": 20,
   "metadata": {},
   "outputs": [
    {
     "data": {
      "text/html": [
       "<div>\n",
       "<style scoped>\n",
       "    .dataframe tbody tr th:only-of-type {\n",
       "        vertical-align: middle;\n",
       "    }\n",
       "\n",
       "    .dataframe tbody tr th {\n",
       "        vertical-align: top;\n",
       "    }\n",
       "\n",
       "    .dataframe thead th {\n",
       "        text-align: right;\n",
       "    }\n",
       "</style>\n",
       "<table border=\"1\" class=\"dataframe\">\n",
       "  <thead>\n",
       "    <tr style=\"text-align: right;\">\n",
       "      <th></th>\n",
       "      <th>user_id</th>\n",
       "      <th>creation_date</th>\n",
       "      <th>second_last_month</th>\n",
       "    </tr>\n",
       "  </thead>\n",
       "  <tbody>\n",
       "    <tr>\n",
       "      <th>0</th>\n",
       "      <td>1</td>\n",
       "      <td>2008-07-31 23:41:00</td>\n",
       "      <td>None</td>\n",
       "    </tr>\n",
       "    <tr>\n",
       "      <th>1</th>\n",
       "      <td>1</td>\n",
       "      <td>2008-07-31 23:55:38</td>\n",
       "      <td>None</td>\n",
       "    </tr>\n",
       "    <tr>\n",
       "      <th>2</th>\n",
       "      <td>1</td>\n",
       "      <td>2008-07-31 23:56:41</td>\n",
       "      <td>July</td>\n",
       "    </tr>\n",
       "    <tr>\n",
       "      <th>3</th>\n",
       "      <td>1</td>\n",
       "      <td>2008-08-04 02:45:08</td>\n",
       "      <td>July</td>\n",
       "    </tr>\n",
       "    <tr>\n",
       "      <th>4</th>\n",
       "      <td>1</td>\n",
       "      <td>2008-08-04 04:31:03</td>\n",
       "      <td>July</td>\n",
       "    </tr>\n",
       "    <tr>\n",
       "      <th>...</th>\n",
       "      <td>...</td>\n",
       "      <td>...</td>\n",
       "      <td>...</td>\n",
       "    </tr>\n",
       "    <tr>\n",
       "      <th>243791</th>\n",
       "      <td>5696608</td>\n",
       "      <td>2008-12-23 16:00:37</td>\n",
       "      <td>December</td>\n",
       "    </tr>\n",
       "    <tr>\n",
       "      <th>243792</th>\n",
       "      <td>5696608</td>\n",
       "      <td>2008-12-23 17:35:09</td>\n",
       "      <td>December</td>\n",
       "    </tr>\n",
       "    <tr>\n",
       "      <th>243793</th>\n",
       "      <td>5696608</td>\n",
       "      <td>2008-12-24 01:02:48</td>\n",
       "      <td>December</td>\n",
       "    </tr>\n",
       "    <tr>\n",
       "      <th>243794</th>\n",
       "      <td>5696608</td>\n",
       "      <td>2008-12-30 14:34:45</td>\n",
       "      <td>December</td>\n",
       "    </tr>\n",
       "    <tr>\n",
       "      <th>243795</th>\n",
       "      <td>5696608</td>\n",
       "      <td>2008-12-30 16:32:12</td>\n",
       "      <td>December</td>\n",
       "    </tr>\n",
       "  </tbody>\n",
       "</table>\n",
       "<p>243796 rows × 3 columns</p>\n",
       "</div>"
      ],
      "text/plain": [
       "        user_id       creation_date second_last_month\n",
       "0             1 2008-07-31 23:41:00              None\n",
       "1             1 2008-07-31 23:55:38              None\n",
       "2             1 2008-07-31 23:56:41              July\n",
       "3             1 2008-08-04 02:45:08              July\n",
       "4             1 2008-08-04 04:31:03              July\n",
       "...         ...                 ...               ...\n",
       "243791  5696608 2008-12-23 16:00:37          December\n",
       "243792  5696608 2008-12-23 17:35:09          December\n",
       "243793  5696608 2008-12-24 01:02:48          December\n",
       "243794  5696608 2008-12-30 14:34:45          December\n",
       "243795  5696608 2008-12-30 16:32:12          December\n",
       "\n",
       "[243796 rows x 3 columns]"
      ]
     },
     "execution_count": 20,
     "metadata": {},
     "output_type": "execute_result"
    }
   ],
   "source": [
    "second_last_month_df"
   ]
  },
  {
   "cell_type": "markdown",
   "metadata": {
    "id": "tf9qq2yzDWK_"
   },
   "source": [
    "# Задание 8"
   ]
  },
  {
   "cell_type": "markdown",
   "metadata": {
    "id": "gfwLVXBYDWLA"
   },
   "source": [
    "Рассчитайте аналог Retention Rate по месяцам для пользователей StackOverflow. Объедините пользователей в когорты по месяцу их первого поста. Возвращение определяйте по наличию поста в текущем месяце. "
   ]
  },
  {
   "cell_type": "markdown",
   "metadata": {
    "id": "kN2ic39WlKpl"
   },
   "source": [
    "| cohort_dt | session_date | users_cnt | cohort_users_cnt | retention_rate |\n",
    "| --- | --- | --- | --- | --- |\n",
    "| 2008-07-01 00:00:00 | 2008-07-01 00:00:00 | 3 | 3 | 100 |\n",
    "| 2008-07-01 00:00:00 | 2008-08-01 00:00:00 | 2 | 3 | 66,67 |\n",
    "| 2008-07-01 00:00:00 | 2008-09-01 00:00:00 | 1 | 3 | 33,33 |\n",
    "| 2008-07-01 00:00:00 | 2008-10-01 00:00:00 | 2 | 3 | 66,67 |\n",
    "| 2008-07-01 00:00:00 | 2008-11-01 00:00:00 | 1 | 3 | 33,33 |\n",
    "| 2008-07-01 00:00:00 | 2008-12-01 00:00:00 | 2 | 3 | 66,67 |\n",
    "| 2008-08-01 00:00:00 | 2008-08-01 00:00:00 | 2151 | 2151 | 100 |\n",
    "| ... | ... | ... | ... | ... |"
   ]
  },
  {
   "cell_type": "code",
   "execution_count": 21,
   "metadata": {
    "id": "LUgFmwmTDWLB"
   },
   "outputs": [],
   "source": [
    "# напишите запрос\n",
    "query = '''\n",
    "WITH profile AS\n",
    "  (SELECT id AS user_id,\n",
    "          DATE_TRUNC('month', T.start_dt) AS dt,\n",
    "          COUNT(*) OVER (PARTITION BY DATE_TRUNC('month', T.start_dt)) AS cohort_users_cnt\n",
    "   FROM\n",
    "     (SELECT u1.id,\n",
    "             DATE_TRUNC('month', p1.creation_date) AS creation_date,\n",
    "             MIN(p1.creation_date) OVER (PARTITION BY u1.id\n",
    "                                         ORDER BY p1.creation_date) AS start_dt\n",
    "      FROM stackoverflow.users u1\n",
    "      JOIN stackoverflow.posts p1 ON u1.id = p1.user_id) T\n",
    "   GROUP BY id,\n",
    "            dt),\n",
    "sessions AS\n",
    "  (SELECT user_id,\n",
    "          DATE_TRUNC('month', creation_date) AS session_date\n",
    "   FROM stackoverflow.posts\n",
    "   GROUP BY user_id,\n",
    "            session_date)\n",
    "SELECT p.dt AS cohort_dt,\n",
    "       s.session_date,\n",
    "       COUNT(p.user_id) AS users_cnt,\n",
    "       p.cohort_users_cnt,\n",
    "       ROUND(COUNT(p.user_id) * 100.0 / cohort_users_cnt, 2) AS retention_rate\n",
    "FROM profile p\n",
    "JOIN sessions s ON p.user_id = s.user_id\n",
    "GROUP BY 1,\n",
    "         2,\n",
    "         4;\n",
    "'''\n",
    "\n",
    "# выполните запрос\n",
    "retention_rate_df = pd.read_sql_query(query, con=engine) "
   ]
  },
  {
   "cell_type": "markdown",
   "metadata": {},
   "source": [
    "<div class=\"alert alert-success\">\n",
    "<b>Комментарий ревьюера ✔️:</b> Честно говоря, скрипт тут довольно накрученный, но написал ты его безошибочно, молодец!"
   ]
  },
  {
   "cell_type": "markdown",
   "metadata": {},
   "source": [
    "<div class=\"alert alert-warning\">\n",
    "<b>Комментарий ревьюера ⚠️:</b> Но все же спрошу на всякий случай. Может быть ты сам недостаточно в чем-то разобрался и нашел где-то уже готовое решение или все-таки ты полностью писал этот скрипт сам?"
   ]
  },
  {
   "cell_type": "markdown",
   "metadata": {},
   "source": [
    "<div class=\"alert alert-info\"> <b>Комментарий студента:</b> После множества неудачных попыток скрипт был списан из слака и подробно изучен .</div>"
   ]
  },
  {
   "cell_type": "markdown",
   "metadata": {},
   "source": [
    "<div class=\"alert alert-success\">\n",
    "<b>Комментарий ревьюера v 2.0 ✔️:</b> Ок"
   ]
  },
  {
   "cell_type": "code",
   "execution_count": 22,
   "metadata": {},
   "outputs": [
    {
     "data": {
      "text/html": [
       "<div>\n",
       "<style scoped>\n",
       "    .dataframe tbody tr th:only-of-type {\n",
       "        vertical-align: middle;\n",
       "    }\n",
       "\n",
       "    .dataframe tbody tr th {\n",
       "        vertical-align: top;\n",
       "    }\n",
       "\n",
       "    .dataframe thead th {\n",
       "        text-align: right;\n",
       "    }\n",
       "</style>\n",
       "<table border=\"1\" class=\"dataframe\">\n",
       "  <thead>\n",
       "    <tr style=\"text-align: right;\">\n",
       "      <th></th>\n",
       "      <th>cohort_dt</th>\n",
       "      <th>session_date</th>\n",
       "      <th>users_cnt</th>\n",
       "      <th>cohort_users_cnt</th>\n",
       "      <th>retention_rate</th>\n",
       "    </tr>\n",
       "  </thead>\n",
       "  <tbody>\n",
       "    <tr>\n",
       "      <th>0</th>\n",
       "      <td>2008-07-01</td>\n",
       "      <td>2008-07-01</td>\n",
       "      <td>3</td>\n",
       "      <td>3</td>\n",
       "      <td>100.00</td>\n",
       "    </tr>\n",
       "    <tr>\n",
       "      <th>1</th>\n",
       "      <td>2008-07-01</td>\n",
       "      <td>2008-08-01</td>\n",
       "      <td>2</td>\n",
       "      <td>3</td>\n",
       "      <td>66.67</td>\n",
       "    </tr>\n",
       "    <tr>\n",
       "      <th>2</th>\n",
       "      <td>2008-07-01</td>\n",
       "      <td>2008-09-01</td>\n",
       "      <td>1</td>\n",
       "      <td>3</td>\n",
       "      <td>33.33</td>\n",
       "    </tr>\n",
       "    <tr>\n",
       "      <th>3</th>\n",
       "      <td>2008-07-01</td>\n",
       "      <td>2008-10-01</td>\n",
       "      <td>2</td>\n",
       "      <td>3</td>\n",
       "      <td>66.67</td>\n",
       "    </tr>\n",
       "    <tr>\n",
       "      <th>4</th>\n",
       "      <td>2008-07-01</td>\n",
       "      <td>2008-11-01</td>\n",
       "      <td>1</td>\n",
       "      <td>3</td>\n",
       "      <td>33.33</td>\n",
       "    </tr>\n",
       "    <tr>\n",
       "      <th>5</th>\n",
       "      <td>2008-07-01</td>\n",
       "      <td>2008-12-01</td>\n",
       "      <td>2</td>\n",
       "      <td>3</td>\n",
       "      <td>66.67</td>\n",
       "    </tr>\n",
       "    <tr>\n",
       "      <th>6</th>\n",
       "      <td>2008-08-01</td>\n",
       "      <td>2008-08-01</td>\n",
       "      <td>2151</td>\n",
       "      <td>2151</td>\n",
       "      <td>100.00</td>\n",
       "    </tr>\n",
       "    <tr>\n",
       "      <th>7</th>\n",
       "      <td>2008-08-01</td>\n",
       "      <td>2008-09-01</td>\n",
       "      <td>1571</td>\n",
       "      <td>2151</td>\n",
       "      <td>73.04</td>\n",
       "    </tr>\n",
       "    <tr>\n",
       "      <th>8</th>\n",
       "      <td>2008-08-01</td>\n",
       "      <td>2008-10-01</td>\n",
       "      <td>1275</td>\n",
       "      <td>2151</td>\n",
       "      <td>59.27</td>\n",
       "    </tr>\n",
       "    <tr>\n",
       "      <th>9</th>\n",
       "      <td>2008-08-01</td>\n",
       "      <td>2008-11-01</td>\n",
       "      <td>1050</td>\n",
       "      <td>2151</td>\n",
       "      <td>48.81</td>\n",
       "    </tr>\n",
       "    <tr>\n",
       "      <th>10</th>\n",
       "      <td>2008-08-01</td>\n",
       "      <td>2008-12-01</td>\n",
       "      <td>894</td>\n",
       "      <td>2151</td>\n",
       "      <td>41.56</td>\n",
       "    </tr>\n",
       "    <tr>\n",
       "      <th>11</th>\n",
       "      <td>2008-09-01</td>\n",
       "      <td>2008-09-01</td>\n",
       "      <td>7678</td>\n",
       "      <td>7678</td>\n",
       "      <td>100.00</td>\n",
       "    </tr>\n",
       "    <tr>\n",
       "      <th>12</th>\n",
       "      <td>2008-09-01</td>\n",
       "      <td>2008-10-01</td>\n",
       "      <td>4132</td>\n",
       "      <td>7678</td>\n",
       "      <td>53.82</td>\n",
       "    </tr>\n",
       "    <tr>\n",
       "      <th>13</th>\n",
       "      <td>2008-09-01</td>\n",
       "      <td>2008-11-01</td>\n",
       "      <td>2966</td>\n",
       "      <td>7678</td>\n",
       "      <td>38.63</td>\n",
       "    </tr>\n",
       "    <tr>\n",
       "      <th>14</th>\n",
       "      <td>2008-09-01</td>\n",
       "      <td>2008-12-01</td>\n",
       "      <td>2500</td>\n",
       "      <td>7678</td>\n",
       "      <td>32.56</td>\n",
       "    </tr>\n",
       "    <tr>\n",
       "      <th>15</th>\n",
       "      <td>2008-10-01</td>\n",
       "      <td>2008-10-01</td>\n",
       "      <td>3629</td>\n",
       "      <td>3629</td>\n",
       "      <td>100.00</td>\n",
       "    </tr>\n",
       "    <tr>\n",
       "      <th>16</th>\n",
       "      <td>2008-10-01</td>\n",
       "      <td>2008-11-01</td>\n",
       "      <td>1640</td>\n",
       "      <td>3629</td>\n",
       "      <td>45.19</td>\n",
       "    </tr>\n",
       "    <tr>\n",
       "      <th>17</th>\n",
       "      <td>2008-10-01</td>\n",
       "      <td>2008-12-01</td>\n",
       "      <td>1221</td>\n",
       "      <td>3629</td>\n",
       "      <td>33.65</td>\n",
       "    </tr>\n",
       "    <tr>\n",
       "      <th>18</th>\n",
       "      <td>2008-11-01</td>\n",
       "      <td>2008-11-01</td>\n",
       "      <td>2852</td>\n",
       "      <td>2852</td>\n",
       "      <td>100.00</td>\n",
       "    </tr>\n",
       "    <tr>\n",
       "      <th>19</th>\n",
       "      <td>2008-11-01</td>\n",
       "      <td>2008-12-01</td>\n",
       "      <td>1151</td>\n",
       "      <td>2852</td>\n",
       "      <td>40.36</td>\n",
       "    </tr>\n",
       "    <tr>\n",
       "      <th>20</th>\n",
       "      <td>2008-12-01</td>\n",
       "      <td>2008-12-01</td>\n",
       "      <td>2536</td>\n",
       "      <td>2536</td>\n",
       "      <td>100.00</td>\n",
       "    </tr>\n",
       "  </tbody>\n",
       "</table>\n",
       "</div>"
      ],
      "text/plain": [
       "    cohort_dt session_date  users_cnt  cohort_users_cnt  retention_rate\n",
       "0  2008-07-01   2008-07-01          3                 3          100.00\n",
       "1  2008-07-01   2008-08-01          2                 3           66.67\n",
       "2  2008-07-01   2008-09-01          1                 3           33.33\n",
       "3  2008-07-01   2008-10-01          2                 3           66.67\n",
       "4  2008-07-01   2008-11-01          1                 3           33.33\n",
       "5  2008-07-01   2008-12-01          2                 3           66.67\n",
       "6  2008-08-01   2008-08-01       2151              2151          100.00\n",
       "7  2008-08-01   2008-09-01       1571              2151           73.04\n",
       "8  2008-08-01   2008-10-01       1275              2151           59.27\n",
       "9  2008-08-01   2008-11-01       1050              2151           48.81\n",
       "10 2008-08-01   2008-12-01        894              2151           41.56\n",
       "11 2008-09-01   2008-09-01       7678              7678          100.00\n",
       "12 2008-09-01   2008-10-01       4132              7678           53.82\n",
       "13 2008-09-01   2008-11-01       2966              7678           38.63\n",
       "14 2008-09-01   2008-12-01       2500              7678           32.56\n",
       "15 2008-10-01   2008-10-01       3629              3629          100.00\n",
       "16 2008-10-01   2008-11-01       1640              3629           45.19\n",
       "17 2008-10-01   2008-12-01       1221              3629           33.65\n",
       "18 2008-11-01   2008-11-01       2852              2852          100.00\n",
       "19 2008-11-01   2008-12-01       1151              2852           40.36\n",
       "20 2008-12-01   2008-12-01       2536              2536          100.00"
      ]
     },
     "execution_count": 22,
     "metadata": {},
     "output_type": "execute_result"
    }
   ],
   "source": [
    "retention_rate_df"
   ]
  },
  {
   "cell_type": "markdown",
   "metadata": {
    "id": "Yavb5o9JDWLB"
   },
   "source": [
    "<details>\n",
    "\n",
    "<summary>Подсказка</summary>\n",
    "Вспомните, как выглядел запрос для расчёта Retention Rate в теории. Создайте две временные таблицы: `profile` и `sessions` (в ней будет информация о публикациях), а затем используйте их в основном запросе.\n",
    "\n",
    "Во временной таблице `profile` вам понадобятся три поля:\n",
    "\n",
    "- идентификатор пользователя;\n",
    "- дата первого поста пользователя, усечённая до месяца (признак начала когорты);\n",
    "- количество пользователей этой когорты.\n",
    "</details>"
   ]
  },
  {
   "cell_type": "markdown",
   "metadata": {
    "id": "_msBtnb2DWLC"
   },
   "source": [
    "Постройте тепловую карту Retention Rate. Какие аномалии или другие необычные явления удалось выявить? Сформулируйте гипотезы о возможных причинах."
   ]
  },
  {
   "cell_type": "code",
   "execution_count": 23,
   "metadata": {
    "id": "qAEJc8H1DWLC"
   },
   "outputs": [
    {
     "data": {
      "image/png": "[encoded data removed]",
      "text/plain": [
       "<Figure size 1152x1152 with 2 Axes>"
      ]
     },
     "metadata": {
      "needs_background": "light"
     },
     "output_type": "display_data"
    }
   ],
   "source": [
    "# постройте тепловую карту Retention Rate\n",
    "# создаём сводную таблицу с результатами\n",
    "retention = retention_rate_df.pivot('cohort_dt', 'session_date','retention_rate')\n",
    "retention.index = [str(x)[0:10] for x in retention.index]\n",
    "retention.columns = [str(x)[0:10] for x in retention.columns]\n",
    "\n",
    "# строим хитмэп\n",
    "plt.figure(figsize=(16, 16)) # задаём размер графика\n",
    "sns.heatmap(retention, # датафрейм с данными\n",
    "            annot=True, # добавляем подписи\n",
    "            fmt='') # задаём исходный формат\n",
    "plt.title('Тепловая карта') # название графика\n",
    "plt.show()"
   ]
  },
  {
   "cell_type": "code",
   "execution_count": 24,
   "metadata": {
    "id": "EgOfIsI4DWLC"
   },
   "outputs": [],
   "source": [
    "# опишите аномалии или другие необычные явления и сформулируйте гипотезы"
   ]
  },
  {
   "cell_type": "markdown",
   "metadata": {},
   "source": [
    "- Июльская когорта состоит из 3х человек,а значит ее результаты не ликвидны. Важно отметить, что сайт не был официально запущен.\n",
    "- Самые лучшие результаты удержания у августовской когорты\n",
    "- Пик приходится на сентрябрь, так как сайт тогда официально запустился"
   ]
  },
  {
   "cell_type": "markdown",
   "metadata": {
    "id": "1k7oPWt5DWLK"
   },
   "source": [
    "# Задание 9\n"
   ]
  },
  {
   "cell_type": "markdown",
   "metadata": {
    "id": "ALsYVSyRDWLM"
   },
   "source": [
    "На сколько процентов менялось количество постов ежемесячно с 1 сентября по 31 декабря 2008 года? Отобразите таблицу со следующими полями:\n",
    "\n",
    "- номер месяца;\n",
    "- количество постов за месяц;\n",
    "- процент, который показывает, насколько изменилось количество постов в текущем месяце по сравнению с предыдущим.\n",
    "\n",
    "Если постов стало меньше, значение процента должно быть отрицательным, если больше — положительным. Округлите значение процента до двух знаков после запятой.\n",
    "\n",
    "Напомним, что при делении одного целого числа на другое в PostgreSQL в результате получится целое число, округлённое до ближайшего целого вниз. Чтобы этого избежать, переведите делимое в тип `numeric`."
   ]
  },
  {
   "cell_type": "markdown",
   "metadata": {
    "id": "u4E2zF8DDWLM"
   },
   "source": [
    "| creation_month | posts_count | percentage |\n",
    "| -------------- | ----------- | ---------- |\n",
    "| 9 | 70731 | Nan |\n",
    "| 10 | 63102 | -10.33 |\n",
    "| ... | ... | ... |"
   ]
  },
  {
   "cell_type": "code",
   "execution_count": 25,
   "metadata": {
    "id": "Mb5pShStDWLN"
   },
   "outputs": [],
   "source": [
    "# напишите запрос\n",
    "query = '''\n",
    "SELECT EXTRACT(MONTH FROM creation_date::date) AS creation_month,\n",
    "       COUNT(id) AS posts_count, \n",
    "       ROUND((COUNT(id) - LAG(COUNT(id), 1, NULL) OVER (ORDER BY EXTRACT(MONTH FROM creation_date::date)))*100.0/LAG(COUNT(id), 1, NULL) OVER (ORDER BY EXTRACT(MONTH FROM creation_date::date)),2) AS percentage\n",
    "FROM stackoverflow.posts\n",
    "WHERE EXTRACT(MONTH FROM creation_date::date) BETWEEN 9 AND 12\n",
    "GROUP BY creation_month\n",
    "'''\n",
    "\n",
    "# выполните запрос\n",
    "percentage_df = pd.read_sql_query(query, con=engine) "
   ]
  },
  {
   "cell_type": "code",
   "execution_count": 26,
   "metadata": {},
   "outputs": [
    {
     "data": {
      "text/html": [
       "<div>\n",
       "<style scoped>\n",
       "    .dataframe tbody tr th:only-of-type {\n",
       "        vertical-align: middle;\n",
       "    }\n",
       "\n",
       "    .dataframe tbody tr th {\n",
       "        vertical-align: top;\n",
       "    }\n",
       "\n",
       "    .dataframe thead th {\n",
       "        text-align: right;\n",
       "    }\n",
       "</style>\n",
       "<table border=\"1\" class=\"dataframe\">\n",
       "  <thead>\n",
       "    <tr style=\"text-align: right;\">\n",
       "      <th></th>\n",
       "      <th>creation_month</th>\n",
       "      <th>posts_count</th>\n",
       "      <th>percentage</th>\n",
       "    </tr>\n",
       "  </thead>\n",
       "  <tbody>\n",
       "    <tr>\n",
       "      <th>0</th>\n",
       "      <td>9.0</td>\n",
       "      <td>70371</td>\n",
       "      <td>NaN</td>\n",
       "    </tr>\n",
       "    <tr>\n",
       "      <th>1</th>\n",
       "      <td>10.0</td>\n",
       "      <td>63102</td>\n",
       "      <td>-10.33</td>\n",
       "    </tr>\n",
       "    <tr>\n",
       "      <th>2</th>\n",
       "      <td>11.0</td>\n",
       "      <td>46975</td>\n",
       "      <td>-25.56</td>\n",
       "    </tr>\n",
       "    <tr>\n",
       "      <th>3</th>\n",
       "      <td>12.0</td>\n",
       "      <td>44592</td>\n",
       "      <td>-5.07</td>\n",
       "    </tr>\n",
       "  </tbody>\n",
       "</table>\n",
       "</div>"
      ],
      "text/plain": [
       "   creation_month  posts_count  percentage\n",
       "0             9.0        70371         NaN\n",
       "1            10.0        63102      -10.33\n",
       "2            11.0        46975      -25.56\n",
       "3            12.0        44592       -5.07"
      ]
     },
     "execution_count": 26,
     "metadata": {},
     "output_type": "execute_result"
    }
   ],
   "source": [
    "percentage_df"
   ]
  },
  {
   "cell_type": "markdown",
   "metadata": {
    "id": "G0VSDL4HDWLO"
   },
   "source": [
    "<details>\n",
    "\n",
    "<summary>Подсказка</summary>\n",
    "Эту задачу стоит декомпозировать. Сформируйте запрос, который отобразит номер месяца и количество постов. Затем можно использовать оконную функцию, которая вернёт значение за предыдущий месяц, и посчитать процент.\n",
    "</details>"
   ]
  },
  {
   "cell_type": "markdown",
   "metadata": {
    "id": "9NQE2y_MDWLP"
   },
   "source": [
    "Постройте круговую диаграмму с количеством постов по месяцам."
   ]
  },
  {
   "cell_type": "code",
   "execution_count": 27,
   "metadata": {
    "id": "377ABjiVDWLP"
   },
   "outputs": [
    {
     "data": {
      "image/png": "[encoded data removed]",
      "text/plain": [
       "<Figure size 432x288 with 1 Axes>"
      ]
     },
     "metadata": {},
     "output_type": "display_data"
    }
   ],
   "source": [
    "# постройте круговую диаграмму с количеством постов по месяцам\n",
    "#from plotly import graph_objects as go\n",
    "\n",
    "#fig = go.Figure(data=[go.Pie(labels=['September', 'October', 'November', 'December'], values=percentage_df['posts_count'])])\n",
    "#fig.show() \n",
    "labels='September', 'October', 'November', 'December'\n",
    "fig1, ax1 = plt.subplots()\n",
    "ax1.pie(percentage_df['posts_count'], labels=labels, autopct='%1.1f%%',\n",
    "         startangle=90)\n",
    "ax1.axis('equal') \n",
    "\n",
    "plt.show()"
   ]
  },
  {
   "cell_type": "markdown",
   "metadata": {},
   "source": [
    "- Наибольшее количество постов приходится на начало осени, ведь именно тогда платформа была запущена впервые."
   ]
  },
  {
   "cell_type": "markdown",
   "metadata": {
    "id": "uw7qMtafDWLP"
   },
   "source": [
    "# Задание 10"
   ]
  },
  {
   "cell_type": "markdown",
   "metadata": {
    "id": "oRBpWKx3DWLQ"
   },
   "source": [
    "Выгрузите данные активности пользователя, который опубликовал больше всего постов за всё время. Выведите данные за октябрь 2008 года в таком виде:\n",
    "\n",
    "- номер недели;\n",
    "- дата и время последнего поста, опубликованного на этой неделе."
   ]
  },
  {
   "cell_type": "markdown",
   "metadata": {
    "id": "XjAWSn_3DWLQ"
   },
   "source": [
    "| week_creation | creation_date |\n",
    "| ------------- | ------------- |\n",
    "| 40 | 2008-10-05 09:00:58 |\n",
    "| 41 | 2008-10-12 21:22:23 |\n",
    "| ... | ... |"
   ]
  },
  {
   "cell_type": "code",
   "execution_count": 28,
   "metadata": {
    "id": "r5F5fSkwDWLQ"
   },
   "outputs": [],
   "source": [
    "# напишите запрос\n",
    "query = '''\n",
    "SELECT EXTRACT(WEEK FROM creation_date::date) AS week_creation,\n",
    "       MAX(creation_date) AS creation_date\n",
    "FROM stackoverflow.posts\n",
    "WHERE DATE_TRUNC('month', creation_date)::date = '2008-10-01' AND user_id IN (SELECT user_id\n",
    "                                                                              FROM stackoverflow.posts\n",
    "                                                                              GROUP BY user_id \n",
    "                                                                              ORDER BY COUNT(id) DESC\n",
    "                                                                              LIMIT 1) \n",
    "GROUP BY week_creation\n",
    "'''\n",
    "\n",
    "# выполните запрос\n",
    "the_most_active_user_df = pd.read_sql_query(query, con=engine) "
   ]
  },
  {
   "cell_type": "code",
   "execution_count": 29,
   "metadata": {},
   "outputs": [
    {
     "data": {
      "text/html": [
       "<div>\n",
       "<style scoped>\n",
       "    .dataframe tbody tr th:only-of-type {\n",
       "        vertical-align: middle;\n",
       "    }\n",
       "\n",
       "    .dataframe tbody tr th {\n",
       "        vertical-align: top;\n",
       "    }\n",
       "\n",
       "    .dataframe thead th {\n",
       "        text-align: right;\n",
       "    }\n",
       "</style>\n",
       "<table border=\"1\" class=\"dataframe\">\n",
       "  <thead>\n",
       "    <tr style=\"text-align: right;\">\n",
       "      <th></th>\n",
       "      <th>week_creation</th>\n",
       "      <th>creation_date</th>\n",
       "    </tr>\n",
       "  </thead>\n",
       "  <tbody>\n",
       "    <tr>\n",
       "      <th>0</th>\n",
       "      <td>40.0</td>\n",
       "      <td>2008-10-05 09:00:58</td>\n",
       "    </tr>\n",
       "    <tr>\n",
       "      <th>1</th>\n",
       "      <td>41.0</td>\n",
       "      <td>2008-10-12 21:22:23</td>\n",
       "    </tr>\n",
       "    <tr>\n",
       "      <th>2</th>\n",
       "      <td>42.0</td>\n",
       "      <td>2008-10-19 06:49:30</td>\n",
       "    </tr>\n",
       "    <tr>\n",
       "      <th>3</th>\n",
       "      <td>43.0</td>\n",
       "      <td>2008-10-26 21:44:36</td>\n",
       "    </tr>\n",
       "    <tr>\n",
       "      <th>4</th>\n",
       "      <td>44.0</td>\n",
       "      <td>2008-10-31 22:16:01</td>\n",
       "    </tr>\n",
       "  </tbody>\n",
       "</table>\n",
       "</div>"
      ],
      "text/plain": [
       "   week_creation       creation_date\n",
       "0           40.0 2008-10-05 09:00:58\n",
       "1           41.0 2008-10-12 21:22:23\n",
       "2           42.0 2008-10-19 06:49:30\n",
       "3           43.0 2008-10-26 21:44:36\n",
       "4           44.0 2008-10-31 22:16:01"
      ]
     },
     "execution_count": 29,
     "metadata": {},
     "output_type": "execute_result"
    }
   ],
   "source": [
    "the_most_active_user_df"
   ]
  },
  {
   "cell_type": "markdown",
   "metadata": {},
   "source": [
    "# Вывод"
   ]
  },
  {
   "cell_type": "markdown",
   "metadata": {},
   "source": [
    "### Притоки и оттоки клиентов осенью и летом \n",
    "- С июля по август просмотров было немного. С сентября по декабрь количество просмотров резко выросло.\n",
    "Такая динамика обусловлена тем, что сайт был запущен 5 сентября 2008 г (Данные из wikipedia). Наибольшее количество постов приходится на начало осени, ведь именно тогда платформа была запущена впервые. Июльская когорта состоит из 3х человек,а значит ее результаты не ликвидны (участники - тестировщики). \n",
    "- Самые лучшие результаты удержания у августовской когорты\n",
    "Пик приходится на сентрябрь, так как сайт тогда официально запустился.\n",
    "\n",
    "### Пользователи. \n",
    "- Пользователи, что относятся к августу были до в режиме тестировки сайта, затем официально зарегистрировались, когда сайт был официально запущен.\n",
    "- Дублирующиеся никнеймы у разных пользователей. На момент создания сайта не было привязки user_id к отображаемому имени\n"
   ]
  }
 ],
 "metadata": {
  "ExecuteTimeLog": [
   {
    "duration": 852,
    "start_time": "2022-04-27T18:44:09.210Z"
   },
   {
    "duration": 3,
    "start_time": "2022-04-27T18:44:10.065Z"
   },
   {
    "duration": 6291,
    "start_time": "2022-04-27T18:44:11.290Z"
   },
   {
    "duration": 213,
    "start_time": "2022-04-27T18:44:17.583Z"
   },
   {
    "duration": 14,
    "start_time": "2022-04-27T18:44:17.798Z"
   },
   {
    "duration": 220,
    "start_time": "2022-04-27T18:57:40.748Z"
   },
   {
    "duration": 1662,
    "start_time": "2022-04-27T18:57:48.993Z"
   },
   {
    "duration": 7,
    "start_time": "2022-04-27T18:58:18.493Z"
   },
   {
    "duration": 362,
    "start_time": "2022-04-27T18:58:43.499Z"
   },
   {
    "duration": 7,
    "start_time": "2022-04-27T18:58:45.029Z"
   },
   {
    "duration": 355,
    "start_time": "2022-04-27T18:58:57.597Z"
   },
   {
    "duration": 7,
    "start_time": "2022-04-27T18:58:58.900Z"
   },
   {
    "duration": 367,
    "start_time": "2022-04-27T18:59:03.221Z"
   },
   {
    "duration": 6,
    "start_time": "2022-04-27T18:59:04.147Z"
   },
   {
    "duration": 1064,
    "start_time": "2022-04-27T18:59:21.625Z"
   },
   {
    "duration": 9,
    "start_time": "2022-04-27T18:59:22.691Z"
   },
   {
    "duration": 166,
    "start_time": "2022-04-27T18:59:29.707Z"
   },
   {
    "duration": 9,
    "start_time": "2022-04-27T18:59:30.820Z"
   },
   {
    "duration": 355,
    "start_time": "2022-04-27T18:59:44.484Z"
   },
   {
    "duration": 7,
    "start_time": "2022-04-27T18:59:46.072Z"
   },
   {
    "duration": 175,
    "start_time": "2022-04-27T19:00:24.620Z"
   },
   {
    "duration": 241,
    "start_time": "2022-04-27T19:00:40.239Z"
   },
   {
    "duration": 6,
    "start_time": "2022-04-27T19:00:41.441Z"
   },
   {
    "duration": 245,
    "start_time": "2022-04-27T19:01:10.825Z"
   },
   {
    "duration": 6,
    "start_time": "2022-04-27T19:01:11.521Z"
   },
   {
    "duration": 116,
    "start_time": "2022-04-27T19:06:00.354Z"
   },
   {
    "duration": 126,
    "start_time": "2022-04-27T19:07:31.959Z"
   },
   {
    "duration": 4932,
    "start_time": "2022-04-27T19:11:39.954Z"
   },
   {
    "duration": 24,
    "start_time": "2022-04-27T19:11:54.986Z"
   },
   {
    "duration": 165,
    "start_time": "2022-04-27T19:13:24.675Z"
   },
   {
    "duration": 160,
    "start_time": "2022-04-27T19:13:29.673Z"
   },
   {
    "duration": 289,
    "start_time": "2022-04-27T19:13:44.641Z"
   },
   {
    "duration": 158,
    "start_time": "2022-04-27T19:14:10.275Z"
   },
   {
    "duration": 192,
    "start_time": "2022-04-27T19:14:18.475Z"
   },
   {
    "duration": 9,
    "start_time": "2022-04-27T19:14:19.679Z"
   },
   {
    "duration": 166,
    "start_time": "2022-04-27T19:14:28.875Z"
   },
   {
    "duration": 994,
    "start_time": "2022-04-27T19:14:37.436Z"
   },
   {
    "duration": 9,
    "start_time": "2022-04-27T19:14:39.210Z"
   },
   {
    "duration": 163,
    "start_time": "2022-04-27T19:15:42.569Z"
   },
   {
    "duration": 160,
    "start_time": "2022-04-27T19:15:46.625Z"
   },
   {
    "duration": 373,
    "start_time": "2022-04-27T19:15:56.465Z"
   },
   {
    "duration": 9,
    "start_time": "2022-04-27T19:15:58.176Z"
   },
   {
    "duration": 1699,
    "start_time": "2022-04-27T19:16:07.367Z"
   },
   {
    "duration": 10,
    "start_time": "2022-04-27T19:16:09.777Z"
   },
   {
    "duration": 480,
    "start_time": "2022-04-27T19:16:19.946Z"
   },
   {
    "duration": 8,
    "start_time": "2022-04-27T19:16:21.480Z"
   },
   {
    "duration": 183,
    "start_time": "2022-04-27T19:16:33.136Z"
   },
   {
    "duration": 9,
    "start_time": "2022-04-27T19:16:34.319Z"
   },
   {
    "duration": 177,
    "start_time": "2022-04-27T19:17:28.254Z"
   },
   {
    "duration": 10,
    "start_time": "2022-04-27T19:17:31.086Z"
   },
   {
    "duration": 2722,
    "start_time": "2022-04-27T19:17:42.008Z"
   },
   {
    "duration": 10,
    "start_time": "2022-04-27T19:17:46.021Z"
   },
   {
    "duration": 189,
    "start_time": "2022-04-27T19:25:07.949Z"
   },
   {
    "duration": 9,
    "start_time": "2022-04-27T19:25:08.970Z"
   },
   {
    "duration": 162,
    "start_time": "2022-04-27T19:25:19.141Z"
   },
   {
    "duration": 184,
    "start_time": "2022-04-27T19:25:37.265Z"
   },
   {
    "duration": 179,
    "start_time": "2022-04-27T19:28:14.447Z"
   },
   {
    "duration": 8,
    "start_time": "2022-04-27T19:28:16.956Z"
   },
   {
    "duration": 122,
    "start_time": "2022-04-27T19:30:59.539Z"
   },
   {
    "duration": 112,
    "start_time": "2022-04-27T19:31:48.937Z"
   },
   {
    "duration": 4,
    "start_time": "2022-04-27T19:31:54.871Z"
   },
   {
    "duration": 4,
    "start_time": "2022-04-27T19:32:07.616Z"
   },
   {
    "duration": 8,
    "start_time": "2022-04-27T19:32:12.047Z"
   },
   {
    "duration": 759,
    "start_time": "2022-04-27T19:33:48.627Z"
   },
   {
    "duration": 1128,
    "start_time": "2022-04-27T19:34:15.668Z"
   },
   {
    "duration": 7,
    "start_time": "2022-04-27T19:34:22.641Z"
   },
   {
    "duration": 10,
    "start_time": "2022-04-27T19:37:36.927Z"
   },
   {
    "duration": 110,
    "start_time": "2022-04-27T19:37:45.888Z"
   },
   {
    "duration": 9,
    "start_time": "2022-04-27T19:37:51.136Z"
   },
   {
    "duration": 5,
    "start_time": "2022-04-27T19:37:57.644Z"
   },
   {
    "duration": 128,
    "start_time": "2022-04-27T19:40:35.130Z"
   },
   {
    "duration": 1118,
    "start_time": "2022-04-27T19:50:56.553Z"
   },
   {
    "duration": 7,
    "start_time": "2022-04-27T19:51:32.830Z"
   },
   {
    "duration": 2749,
    "start_time": "2022-04-27T19:51:35.607Z"
   },
   {
    "duration": 11,
    "start_time": "2022-04-27T19:51:38.358Z"
   },
   {
    "duration": 1223,
    "start_time": "2022-04-27T19:52:09.293Z"
   },
   {
    "duration": 10,
    "start_time": "2022-04-27T19:52:10.518Z"
   },
   {
    "duration": 1310,
    "start_time": "2022-04-27T19:52:35.957Z"
   },
   {
    "duration": 11,
    "start_time": "2022-04-27T19:52:38.470Z"
   },
   {
    "duration": 1290,
    "start_time": "2022-04-27T19:53:36.380Z"
   },
   {
    "duration": 9,
    "start_time": "2022-04-27T19:53:37.672Z"
   },
   {
    "duration": 163,
    "start_time": "2022-04-27T19:54:22.214Z"
   },
   {
    "duration": 155,
    "start_time": "2022-04-27T19:54:29.581Z"
   },
   {
    "duration": 181,
    "start_time": "2022-04-27T19:54:35.914Z"
   },
   {
    "duration": 1277,
    "start_time": "2022-04-27T19:54:42.309Z"
   },
   {
    "duration": 10,
    "start_time": "2022-04-27T19:54:43.809Z"
   },
   {
    "duration": 3303,
    "start_time": "2022-04-27T19:55:08.496Z"
   },
   {
    "duration": 12,
    "start_time": "2022-04-27T19:55:11.802Z"
   },
   {
    "duration": 1055,
    "start_time": "2022-04-27T19:55:43.396Z"
   },
   {
    "duration": 12,
    "start_time": "2022-04-27T19:55:45.610Z"
   },
   {
    "duration": 1614,
    "start_time": "2022-04-27T19:56:24.774Z"
   },
   {
    "duration": 11,
    "start_time": "2022-04-27T19:56:26.855Z"
   },
   {
    "duration": 1288,
    "start_time": "2022-04-27T19:56:36.310Z"
   },
   {
    "duration": 12,
    "start_time": "2022-04-27T19:56:37.599Z"
   },
   {
    "duration": 1036,
    "start_time": "2022-04-27T19:56:53.389Z"
   },
   {
    "duration": 1154,
    "start_time": "2022-04-27T19:57:02.067Z"
   },
   {
    "duration": 11,
    "start_time": "2022-04-27T19:57:04.414Z"
   },
   {
    "duration": 103,
    "start_time": "2022-04-27T19:57:55.760Z"
   },
   {
    "duration": 8,
    "start_time": "2022-04-27T19:58:26.001Z"
   },
   {
    "duration": 97,
    "start_time": "2022-04-27T19:58:28.082Z"
   },
   {
    "duration": 10,
    "start_time": "2022-04-27T19:58:28.578Z"
   },
   {
    "duration": 3031,
    "start_time": "2022-04-27T20:03:04.395Z"
   },
   {
    "duration": 1279,
    "start_time": "2022-04-27T20:03:27.742Z"
   },
   {
    "duration": 15,
    "start_time": "2022-04-27T20:03:31.771Z"
   },
   {
    "duration": 598,
    "start_time": "2022-04-27T20:03:52.306Z"
   },
   {
    "duration": 7,
    "start_time": "2022-04-27T20:04:14.406Z"
   },
   {
    "duration": 589,
    "start_time": "2022-04-27T20:04:17.288Z"
   },
   {
    "duration": 10,
    "start_time": "2022-04-27T20:04:17.880Z"
   },
   {
    "duration": 571,
    "start_time": "2022-04-27T20:05:09.984Z"
   },
   {
    "duration": 677,
    "start_time": "2022-04-27T20:07:22.317Z"
   },
   {
    "duration": 10,
    "start_time": "2022-04-27T20:07:22.996Z"
   },
   {
    "duration": 2010,
    "start_time": "2022-04-27T20:07:27.712Z"
   },
   {
    "duration": 16,
    "start_time": "2022-04-27T20:08:26.076Z"
   },
   {
    "duration": 11,
    "start_time": "2022-04-27T20:08:28.988Z"
   },
   {
    "duration": 467,
    "start_time": "2022-04-27T20:08:30.347Z"
   },
   {
    "duration": 152,
    "start_time": "2022-04-27T20:10:51.069Z"
   },
   {
    "duration": 7,
    "start_time": "2022-04-27T20:10:52.118Z"
   },
   {
    "duration": 1118,
    "start_time": "2022-04-27T20:11:11.529Z"
   },
   {
    "duration": 11,
    "start_time": "2022-04-27T20:11:13.798Z"
   },
   {
    "duration": 69,
    "start_time": "2022-04-27T20:11:30.273Z"
   },
   {
    "duration": 7,
    "start_time": "2022-04-27T20:11:31.023Z"
   },
   {
    "duration": 62,
    "start_time": "2022-04-27T20:11:46.802Z"
   },
   {
    "duration": 63,
    "start_time": "2022-04-27T20:12:26.377Z"
   },
   {
    "duration": 6,
    "start_time": "2022-04-27T20:12:35.079Z"
   },
   {
    "duration": 106,
    "start_time": "2022-04-27T20:15:08.560Z"
   },
   {
    "duration": 19,
    "start_time": "2022-04-27T20:15:19.248Z"
   },
   {
    "duration": 9,
    "start_time": "2022-04-27T20:15:33.476Z"
   },
   {
    "duration": 163,
    "start_time": "2022-04-27T20:15:48.526Z"
   },
   {
    "duration": 136,
    "start_time": "2022-04-27T20:15:57.685Z"
   },
   {
    "duration": 8,
    "start_time": "2022-04-27T20:22:25.768Z"
   },
   {
    "duration": 131,
    "start_time": "2022-04-27T20:22:27.805Z"
   },
   {
    "duration": 6,
    "start_time": "2022-04-27T20:22:27.972Z"
   },
   {
    "duration": 102,
    "start_time": "2022-04-27T20:23:52.737Z"
   },
   {
    "duration": 7,
    "start_time": "2022-04-27T20:24:07.354Z"
   },
   {
    "duration": 145,
    "start_time": "2022-04-27T20:27:57.206Z"
   },
   {
    "duration": 1222,
    "start_time": "2022-04-27T20:32:40.246Z"
   },
   {
    "duration": 10,
    "start_time": "2022-04-27T20:32:41.470Z"
   },
   {
    "duration": 63,
    "start_time": "2022-04-27T20:32:59.466Z"
   },
   {
    "duration": 6,
    "start_time": "2022-04-27T20:33:00.212Z"
   },
   {
    "duration": 60,
    "start_time": "2022-04-27T20:33:42.699Z"
   },
   {
    "duration": 6,
    "start_time": "2022-04-27T20:33:43.017Z"
   },
   {
    "duration": 69,
    "start_time": "2022-04-27T20:35:52.095Z"
   },
   {
    "duration": 7,
    "start_time": "2022-04-27T20:35:52.702Z"
   },
   {
    "duration": 1158,
    "start_time": "2022-04-27T20:36:07.879Z"
   },
   {
    "duration": 16,
    "start_time": "2022-04-27T20:36:09.040Z"
   },
   {
    "duration": 1600,
    "start_time": "2022-04-27T20:37:37.048Z"
   },
   {
    "duration": 3,
    "start_time": "2022-04-27T20:37:38.650Z"
   },
   {
    "duration": 6204,
    "start_time": "2022-04-27T20:37:38.655Z"
   },
   {
    "duration": 201,
    "start_time": "2022-04-27T20:37:44.861Z"
   },
   {
    "duration": 14,
    "start_time": "2022-04-27T20:37:45.064Z"
   },
   {
    "duration": 241,
    "start_time": "2022-04-27T20:37:45.080Z"
   },
   {
    "duration": 7,
    "start_time": "2022-04-27T20:37:45.322Z"
   },
   {
    "duration": 178,
    "start_time": "2022-04-27T20:37:45.330Z"
   },
   {
    "duration": 10,
    "start_time": "2022-04-27T20:37:45.509Z"
   },
   {
    "duration": 5,
    "start_time": "2022-04-27T20:37:45.522Z"
   },
   {
    "duration": 155,
    "start_time": "2022-04-27T20:37:45.529Z"
   },
   {
    "duration": 6,
    "start_time": "2022-04-27T20:37:45.686Z"
   },
   {
    "duration": 2067,
    "start_time": "2022-04-27T20:37:45.694Z"
   },
   {
    "duration": 12,
    "start_time": "2022-04-27T20:37:47.762Z"
   },
   {
    "duration": 69,
    "start_time": "2022-04-27T20:37:47.776Z"
   },
   {
    "duration": 6,
    "start_time": "2022-04-27T20:37:47.847Z"
   },
   {
    "duration": 66,
    "start_time": "2022-04-27T20:37:47.855Z"
   },
   {
    "duration": 6,
    "start_time": "2022-04-27T20:37:47.923Z"
   },
   {
    "duration": 1271,
    "start_time": "2022-04-27T20:37:47.931Z"
   },
   {
    "duration": 10,
    "start_time": "2022-04-27T20:37:49.203Z"
   },
   {
    "duration": 1491,
    "start_time": "2022-04-27T20:37:49.214Z"
   },
   {
    "duration": 10,
    "start_time": "2022-04-27T20:37:50.707Z"
   },
   {
    "duration": 433,
    "start_time": "2022-04-27T20:37:50.719Z"
   },
   {
    "duration": 3,
    "start_time": "2022-04-27T20:37:51.154Z"
   },
   {
    "duration": 106,
    "start_time": "2022-04-27T20:37:51.159Z"
   },
   {
    "duration": 10,
    "start_time": "2022-04-27T20:37:51.267Z"
   },
   {
    "duration": 161,
    "start_time": "2022-04-27T20:37:51.279Z"
   },
   {
    "duration": 131,
    "start_time": "2022-04-27T20:37:51.443Z"
   },
   {
    "duration": 7,
    "start_time": "2022-04-27T20:37:51.576Z"
   },
   {
    "duration": 50,
    "start_time": "2022-04-30T11:46:15.170Z"
   },
   {
    "duration": 1479,
    "start_time": "2022-04-30T11:46:19.875Z"
   },
   {
    "duration": 4,
    "start_time": "2022-04-30T11:46:21.356Z"
   },
   {
    "duration": 19099,
    "start_time": "2022-04-30T11:46:21.362Z"
   },
   {
    "duration": 28,
    "start_time": "2022-04-30T11:46:40.463Z"
   },
   {
    "duration": 16,
    "start_time": "2022-04-30T11:46:40.492Z"
   },
   {
    "duration": 222,
    "start_time": "2022-04-30T11:46:40.510Z"
   },
   {
    "duration": 8,
    "start_time": "2022-04-30T11:46:40.733Z"
   },
   {
    "duration": 134,
    "start_time": "2022-04-30T11:46:40.742Z"
   },
   {
    "duration": 11,
    "start_time": "2022-04-30T11:46:40.877Z"
   },
   {
    "duration": 4,
    "start_time": "2022-04-30T11:46:40.891Z"
   },
   {
    "duration": 128,
    "start_time": "2022-04-30T11:46:40.897Z"
   },
   {
    "duration": 6,
    "start_time": "2022-04-30T11:46:41.027Z"
   },
   {
    "duration": 1156,
    "start_time": "2022-04-30T11:46:41.035Z"
   },
   {
    "duration": 10,
    "start_time": "2022-04-30T11:46:42.193Z"
   },
   {
    "duration": 41,
    "start_time": "2022-04-30T11:46:42.205Z"
   },
   {
    "duration": 7,
    "start_time": "2022-04-30T11:46:42.248Z"
   },
   {
    "duration": 35,
    "start_time": "2022-04-30T11:46:42.257Z"
   },
   {
    "duration": 6,
    "start_time": "2022-04-30T11:46:42.293Z"
   },
   {
    "duration": 2606,
    "start_time": "2022-04-30T11:46:42.301Z"
   },
   {
    "duration": 11,
    "start_time": "2022-04-30T11:46:44.909Z"
   },
   {
    "duration": 601,
    "start_time": "2022-04-30T11:46:44.934Z"
   },
   {
    "duration": 10,
    "start_time": "2022-04-30T11:46:45.537Z"
   },
   {
    "duration": 471,
    "start_time": "2022-04-30T11:46:45.549Z"
   },
   {
    "duration": 2,
    "start_time": "2022-04-30T11:46:46.022Z"
   },
   {
    "duration": 73,
    "start_time": "2022-04-30T11:46:46.033Z"
   },
   {
    "duration": 8,
    "start_time": "2022-04-30T11:46:46.108Z"
   },
   {
    "duration": 167,
    "start_time": "2022-04-30T11:46:46.118Z"
   },
   {
    "duration": 103,
    "start_time": "2022-04-30T11:46:46.289Z"
   },
   {
    "duration": 9,
    "start_time": "2022-04-30T11:46:46.394Z"
   },
   {
    "duration": 126,
    "start_time": "2022-04-30T11:48:09.717Z"
   },
   {
    "duration": 10,
    "start_time": "2022-04-30T11:48:11.255Z"
   },
   {
    "duration": 107,
    "start_time": "2022-04-30T12:31:19.569Z"
   },
   {
    "duration": 125,
    "start_time": "2022-04-30T12:31:27.749Z"
   },
   {
    "duration": 125,
    "start_time": "2022-04-30T12:31:43.454Z"
   },
   {
    "duration": 109,
    "start_time": "2022-04-30T12:31:54.694Z"
   },
   {
    "duration": 315,
    "start_time": "2022-04-30T12:34:55.788Z"
   },
   {
    "duration": 305,
    "start_time": "2022-04-30T12:35:55.814Z"
   },
   {
    "duration": 1165,
    "start_time": "2022-04-30T12:36:14.831Z"
   },
   {
    "duration": 11,
    "start_time": "2022-04-30T12:36:15.998Z"
   },
   {
    "duration": 88,
    "start_time": "2022-04-30T12:36:49.899Z"
   },
   {
    "duration": 45,
    "start_time": "2022-05-01T09:55:35.634Z"
   },
   {
    "duration": 1433,
    "start_time": "2022-05-01T09:55:41.272Z"
   },
   {
    "duration": 3,
    "start_time": "2022-05-01T09:55:42.707Z"
   },
   {
    "duration": 7680,
    "start_time": "2022-05-01T09:55:42.712Z"
   },
   {
    "duration": 188,
    "start_time": "2022-05-01T09:55:50.393Z"
   },
   {
    "duration": 13,
    "start_time": "2022-05-01T09:55:50.584Z"
   },
   {
    "duration": 244,
    "start_time": "2022-05-01T09:55:50.599Z"
   },
   {
    "duration": 7,
    "start_time": "2022-05-01T09:55:50.845Z"
   },
   {
    "duration": 332,
    "start_time": "2022-05-01T09:55:50.853Z"
   },
   {
    "duration": 0,
    "start_time": "2022-05-01T09:55:51.187Z"
   },
   {
    "duration": 0,
    "start_time": "2022-05-01T09:55:51.189Z"
   },
   {
    "duration": 0,
    "start_time": "2022-05-01T09:55:51.190Z"
   },
   {
    "duration": 0,
    "start_time": "2022-05-01T09:55:51.191Z"
   },
   {
    "duration": 0,
    "start_time": "2022-05-01T09:55:51.192Z"
   },
   {
    "duration": 0,
    "start_time": "2022-05-01T09:55:51.193Z"
   },
   {
    "duration": 0,
    "start_time": "2022-05-01T09:55:51.194Z"
   },
   {
    "duration": 0,
    "start_time": "2022-05-01T09:55:51.195Z"
   },
   {
    "duration": 0,
    "start_time": "2022-05-01T09:55:51.196Z"
   },
   {
    "duration": 0,
    "start_time": "2022-05-01T09:55:51.198Z"
   },
   {
    "duration": 0,
    "start_time": "2022-05-01T09:55:51.199Z"
   },
   {
    "duration": 0,
    "start_time": "2022-05-01T09:55:51.200Z"
   },
   {
    "duration": 0,
    "start_time": "2022-05-01T09:55:51.201Z"
   },
   {
    "duration": 1,
    "start_time": "2022-05-01T09:55:51.201Z"
   },
   {
    "duration": 0,
    "start_time": "2022-05-01T09:55:51.203Z"
   },
   {
    "duration": 0,
    "start_time": "2022-05-01T09:55:51.204Z"
   },
   {
    "duration": 0,
    "start_time": "2022-05-01T09:55:51.205Z"
   },
   {
    "duration": 0,
    "start_time": "2022-05-01T09:55:51.206Z"
   },
   {
    "duration": 0,
    "start_time": "2022-05-01T09:55:51.208Z"
   },
   {
    "duration": 0,
    "start_time": "2022-05-01T09:55:51.209Z"
   },
   {
    "duration": 0,
    "start_time": "2022-05-01T09:55:51.210Z"
   },
   {
    "duration": 1500,
    "start_time": "2022-05-01T16:25:43.459Z"
   },
   {
    "duration": 4,
    "start_time": "2022-05-01T16:25:44.961Z"
   },
   {
    "duration": 8022,
    "start_time": "2022-05-01T16:25:44.967Z"
   },
   {
    "duration": 187,
    "start_time": "2022-05-01T16:25:52.991Z"
   },
   {
    "duration": 13,
    "start_time": "2022-05-01T16:25:53.181Z"
   },
   {
    "duration": 238,
    "start_time": "2022-05-01T16:25:53.195Z"
   },
   {
    "duration": 6,
    "start_time": "2022-05-01T16:25:53.435Z"
   },
   {
    "duration": 268,
    "start_time": "2022-05-01T16:25:53.442Z"
   },
   {
    "duration": 0,
    "start_time": "2022-05-01T16:25:53.713Z"
   },
   {
    "duration": 0,
    "start_time": "2022-05-01T16:25:53.714Z"
   },
   {
    "duration": 0,
    "start_time": "2022-05-01T16:25:53.715Z"
   },
   {
    "duration": 0,
    "start_time": "2022-05-01T16:25:53.716Z"
   },
   {
    "duration": 0,
    "start_time": "2022-05-01T16:25:53.717Z"
   },
   {
    "duration": 0,
    "start_time": "2022-05-01T16:25:53.718Z"
   },
   {
    "duration": 0,
    "start_time": "2022-05-01T16:25:53.719Z"
   },
   {
    "duration": 0,
    "start_time": "2022-05-01T16:25:53.719Z"
   },
   {
    "duration": 0,
    "start_time": "2022-05-01T16:25:53.720Z"
   },
   {
    "duration": 0,
    "start_time": "2022-05-01T16:25:53.721Z"
   },
   {
    "duration": 0,
    "start_time": "2022-05-01T16:25:53.722Z"
   },
   {
    "duration": 0,
    "start_time": "2022-05-01T16:25:53.723Z"
   },
   {
    "duration": 0,
    "start_time": "2022-05-01T16:25:53.724Z"
   },
   {
    "duration": 0,
    "start_time": "2022-05-01T16:25:53.725Z"
   },
   {
    "duration": 0,
    "start_time": "2022-05-01T16:25:53.726Z"
   },
   {
    "duration": 0,
    "start_time": "2022-05-01T16:25:53.727Z"
   },
   {
    "duration": 0,
    "start_time": "2022-05-01T16:25:53.728Z"
   },
   {
    "duration": 0,
    "start_time": "2022-05-01T16:25:53.729Z"
   },
   {
    "duration": 0,
    "start_time": "2022-05-01T16:25:53.731Z"
   },
   {
    "duration": 0,
    "start_time": "2022-05-01T16:25:53.732Z"
   },
   {
    "duration": 0,
    "start_time": "2022-05-01T16:25:53.733Z"
   },
   {
    "duration": 158,
    "start_time": "2022-05-01T16:26:53.642Z"
   },
   {
    "duration": 9,
    "start_time": "2022-05-01T16:26:55.052Z"
   },
   {
    "duration": 167,
    "start_time": "2022-05-01T16:45:11.848Z"
   },
   {
    "duration": 9,
    "start_time": "2022-05-01T16:45:13.028Z"
   },
   {
    "duration": 210,
    "start_time": "2022-05-01T16:46:43.922Z"
   },
   {
    "duration": 149,
    "start_time": "2022-05-01T16:47:15.634Z"
   },
   {
    "duration": 8,
    "start_time": "2022-05-01T16:47:18.256Z"
   },
   {
    "duration": 175,
    "start_time": "2022-05-01T16:48:16.854Z"
   },
   {
    "duration": 180,
    "start_time": "2022-05-01T16:49:08.671Z"
   },
   {
    "duration": 193,
    "start_time": "2022-05-01T16:49:53.984Z"
   },
   {
    "duration": 158,
    "start_time": "2022-05-01T16:49:57.958Z"
   },
   {
    "duration": 8,
    "start_time": "2022-05-01T16:50:01.704Z"
   },
   {
    "duration": 173,
    "start_time": "2022-05-01T16:50:23.106Z"
   },
   {
    "duration": 169,
    "start_time": "2022-05-01T16:50:34.501Z"
   },
   {
    "duration": 10,
    "start_time": "2022-05-01T16:50:35.751Z"
   },
   {
    "duration": 5,
    "start_time": "2022-05-01T16:50:39.900Z"
   },
   {
    "duration": 1268,
    "start_time": "2022-05-01T16:50:45.290Z"
   },
   {
    "duration": 4,
    "start_time": "2022-05-01T16:50:46.560Z"
   },
   {
    "duration": 7533,
    "start_time": "2022-05-01T16:50:46.566Z"
   },
   {
    "duration": 208,
    "start_time": "2022-05-01T16:50:54.101Z"
   },
   {
    "duration": 13,
    "start_time": "2022-05-01T16:50:54.312Z"
   },
   {
    "duration": 269,
    "start_time": "2022-05-01T16:50:54.326Z"
   },
   {
    "duration": 7,
    "start_time": "2022-05-01T16:50:54.597Z"
   },
   {
    "duration": 175,
    "start_time": "2022-05-01T16:50:54.605Z"
   },
   {
    "duration": 9,
    "start_time": "2022-05-01T16:50:54.781Z"
   },
   {
    "duration": 5,
    "start_time": "2022-05-01T16:50:54.792Z"
   },
   {
    "duration": 152,
    "start_time": "2022-05-01T16:50:54.799Z"
   },
   {
    "duration": 6,
    "start_time": "2022-05-01T16:50:54.953Z"
   },
   {
    "duration": 1154,
    "start_time": "2022-05-01T16:50:54.961Z"
   },
   {
    "duration": 13,
    "start_time": "2022-05-01T16:50:56.118Z"
   },
   {
    "duration": 72,
    "start_time": "2022-05-01T16:50:56.133Z"
   },
   {
    "duration": 8,
    "start_time": "2022-05-01T16:50:56.207Z"
   },
   {
    "duration": 65,
    "start_time": "2022-05-01T16:50:56.217Z"
   },
   {
    "duration": 6,
    "start_time": "2022-05-01T16:50:56.284Z"
   },
   {
    "duration": 1160,
    "start_time": "2022-05-01T16:50:56.292Z"
   },
   {
    "duration": 11,
    "start_time": "2022-05-01T16:50:57.453Z"
   },
   {
    "duration": 607,
    "start_time": "2022-05-01T16:50:57.465Z"
   },
   {
    "duration": 11,
    "start_time": "2022-05-01T16:50:58.073Z"
   },
   {
    "duration": 553,
    "start_time": "2022-05-01T16:50:58.086Z"
   },
   {
    "duration": 2,
    "start_time": "2022-05-01T16:50:58.641Z"
   },
   {
    "duration": 108,
    "start_time": "2022-05-01T16:50:58.645Z"
   },
   {
    "duration": 7,
    "start_time": "2022-05-01T16:50:58.755Z"
   },
   {
    "duration": 77,
    "start_time": "2022-05-01T16:50:58.763Z"
   },
   {
    "duration": 137,
    "start_time": "2022-05-01T16:50:58.842Z"
   },
   {
    "duration": 7,
    "start_time": "2022-05-01T16:50:58.980Z"
   }
  ],
  "colab": {
   "name": "AdvansedSQLProjectTemplate.ipynb",
   "provenance": []
  },
  "kernelspec": {
   "display_name": "Python 3 (ipykernel)",
   "language": "python",
   "name": "python3"
  },
  "language_info": {
   "codemirror_mode": {
    "name": "ipython",
    "version": 3
   },
   "file_extension": ".py",
   "mimetype": "text/x-python",
   "name": "python",
   "nbconvert_exporter": "python",
   "pygments_lexer": "ipython3",
   "version": "3.8.2"
  },
  "toc": {
   "base_numbering": 1,
   "nav_menu": {},
   "number_sections": false,
   "sideBar": true,
   "skip_h1_title": true,
   "title_cell": "Table of Contents",
   "title_sidebar": "Contents",
   "toc_cell": false,
   "toc_position": {},
   "toc_section_display": true,
   "toc_window_display": false
  }
 },
 "nbformat": 4,
 "nbformat_minor": 1
}
