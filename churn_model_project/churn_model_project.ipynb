{
 "cells": [
  {
   "cell_type": "markdown",
   "metadata": {},
   "source": [
    "# Прогнозирование вероятности оттока и кластеризация клиентов фитнес - клуба"
   ]
  },
  {
   "cell_type": "markdown",
   "metadata": {},
   "source": [
    "## Описание проекта "
   ]
  },
  {
   "cell_type": "markdown",
   "metadata": {},
   "source": [
    "Сеть фитнес-центров «Культурист-датасаентист» разрабатывает стратегию взаимодействия с клиентами на основе аналитических данных.\n",
    "\n",
    "\n",
    "Распространённая проблема фитнес-клубов и других сервисов — отток клиентов. Как понять, что клиент больше не с вами? Можно записать в отток тех, кто попросил закрыть договор или удалил аккаунт. Однако клиенты не всегда уходят демонстративно: чаще перестают пользоваться сервисом тихо.\n",
    "\n",
    "\n",
    "Индикаторы оттока зависят от специфики отрасли. Когда пользователь редко, но стабильно закупается в интернет-магазине — не похоже, что он «отвалился». А вот если две недели не заходит на канал с ежедневно обновляемым контентом, дела плохи: подписчик заскучал и, кажется, оставил вас.\n",
    "\n",
    "\n",
    "Для фитнес-центра можно считать, что клиент попал в отток, если за последний месяц ни разу не посетил спортзал. Конечно, не исключено, что он уехал на Бали и по приезде обязательно продолжит ходить на фитнес. Однако чаще бывает наоборот. Если клиент начал новую жизнь с понедельника, немного походил в спортзал, а потом пропал — скорее всего, он не вернётся.\n",
    "\n",
    "\n",
    "Чтобы бороться с оттоком, отдел по работе с клиентами «Культуриста-датасаентиста» перевёл в электронный вид множество клиентских анкет. Ваша задача — провести анализ и подготовить план действий по удержанию клиентов.\n",
    "\n",
    "\n",
    "А именно:\n",
    "\n",
    "\n",
    "- научиться прогнозировать вероятность оттока (на уровне следующего месяца) для каждого клиента;\n",
    "\n",
    "\n",
    "- сформировать типичные портреты клиентов: выделить несколько наиболее ярких групп и охарактеризовать их основные свойства;\n",
    "\n",
    "\n",
    "- проанализировать основные признаки, наиболее сильно влияющие на отток;\n",
    "\n",
    "\n",
    "- сформулировать основные выводы и разработать рекомендации по повышению качества работы с клиентами:\n",
    "\n",
    "\n",
    "      1) выделить целевые группы клиентов;\n",
    "\n",
    "      2) предложить меры по снижению оттока;\n",
    "  \n",
    "      3) определить другие особенности взаимодействия с клиентами.\n"
   ]
  },
  {
   "cell_type": "markdown",
   "metadata": {
    "toc": true
   },
   "source": [
    "<h1>Содержание<span class=\"tocSkip\"></span></h1>\n",
    "<div class=\"toc\"><ul class=\"toc-item\"><li><span><a href=\"#Описание-проекта\" data-toc-modified-id=\"Описание-проекта-1\">Описание проекта</a></span></li><li><span><a href=\"#Описание-данных\" data-toc-modified-id=\"Описание-данных-2\">Описание данных</a></span><ul class=\"toc-item\"><li><ul class=\"toc-item\"><li><span><a href=\"#Таблица-gym_churn-(данные-на-месяц-до-оттока-и-факт-оттока-на-определённый-месяц):\" data-toc-modified-id=\"Таблица-gym_churn-(данные-на-месяц-до-оттока-и-факт-оттока-на-определённый-месяц):-2.0.1\">Таблица gym_churn (данные на месяц до оттока и факт оттока на определённый месяц):</a></span></li></ul></li><li><span><a href=\"#Импорт-библиотек\" data-toc-modified-id=\"Импорт-библиотек-2.1\">Импорт библиотек</a></span></li></ul></li><li><span><a href=\"#Загружаем-и-изучаем-таблицу\" data-toc-modified-id=\"Загружаем-и-изучаем-таблицу-3\">Загружаем и изучаем таблицу</a></span><ul class=\"toc-item\"><li><span><a href=\"#Загружаем-данные-и-сохраняем-их-в-переменные\" data-toc-modified-id=\"Загружаем-данные-и-сохраняем-их-в-переменные-3.1\">Загружаем данные и сохраняем их в переменные</a></span></li><li><span><a href=\"#Метод--info()\" data-toc-modified-id=\"Метод--info()-3.2\">Метод  info()</a></span><ul class=\"toc-item\"><li><span><a href=\"#Наблюдения-по-методу-info-()\" data-toc-modified-id=\"Наблюдения-по-методу-info-()-3.2.1\">Наблюдения по методу info ()</a></span></li></ul></li><li><span><a href=\"#Метод-head()\" data-toc-modified-id=\"Метод-head()-3.3\">Метод head()</a></span><ul class=\"toc-item\"><li><span><a href=\"#Наблюдения-по-методу-head-()\" data-toc-modified-id=\"Наблюдения-по-методу-head-()-3.3.1\">Наблюдения по методу head ()</a></span></li></ul></li><li><span><a href=\"#Предобработка-столбцов-(нижний-регистр)\" data-toc-modified-id=\"Предобработка-столбцов-(нижний-регистр)-3.4\">Предобработка столбцов (нижний регистр)</a></span></li><li><span><a href=\"#Изменения-типа-данных\" data-toc-modified-id=\"Изменения-типа-данных-3.5\">Изменения типа данных</a></span></li><li><span><a href=\"#Проверка-на-дубликаты\" data-toc-modified-id=\"Проверка-на-дубликаты-3.6\">Проверка на дубликаты</a></span><ul class=\"toc-item\"><li><span><a href=\"#Наблюдения-по-методу-duplicated()\" data-toc-modified-id=\"Наблюдения-по-методу-duplicated()-3.6.1\">Наблюдения по методу duplicated()</a></span></li></ul></li><li><span><a href=\"#Метод-pandas_profiling\" data-toc-modified-id=\"Метод-pandas_profiling-3.7\">Метод pandas_profiling</a></span></li><li><span><a href=\"#Вывод-по-изучению-таблицы\" data-toc-modified-id=\"Вывод-по-изучению-таблицы-3.8\">Вывод по изучению таблицы</a></span></li></ul></li><li><span><a href=\"#Исследовательский-анализ-данных-(EDA)\" data-toc-modified-id=\"Исследовательский-анализ-данных-(EDA)-4\">Исследовательский анализ данных (EDA)</a></span><ul class=\"toc-item\"><li><span><a href=\"#Метод-describe()\" data-toc-modified-id=\"Метод-describe()-4.1\">Метод describe()</a></span><ul class=\"toc-item\"><li><span><a href=\"#Наблюдения-по-методу-describe-()\" data-toc-modified-id=\"Наблюдения-по-методу-describe-()-4.1.1\">Наблюдения по методу describe ()</a></span></li><li><span><a href=\"#Виды-переменных-в-таблице\" data-toc-modified-id=\"Виды-переменных-в-таблице-4.1.2\">Виды переменных в таблице</a></span></li><li><span><a href=\"#Наблюдения-по-числам-внутри-таблицы\" data-toc-modified-id=\"Наблюдения-по-числам-внутри-таблицы-4.1.3\">Наблюдения по числам внутри таблицы</a></span></li></ul></li><li><span><a href=\"#Средние-значения-признаков-в-двух-группах\" data-toc-modified-id=\"Средние-значения-признаков-в-двух-группах-4.2\">Средние значения признаков в двух группах</a></span></li><li><span><a href=\"#Наблюдения-по-методу-groupby()\" data-toc-modified-id=\"Наблюдения-по-методу-groupby()-4.3\">Наблюдения по методу groupby()</a></span></li><li><span><a href=\"#Вывод-по-методу-groupby()\" data-toc-modified-id=\"Вывод-по-методу-groupby()-4.4\">Вывод по методу groupby()</a></span></li><li><span><a href=\"#Гистограмма-количества-пользователей-целевой-перменной-(оттока)\" data-toc-modified-id=\"Гистограмма-количества-пользователей-целевой-перменной-(оттока)-4.5\">Гистограмма количества пользователей целевой перменной (оттока)</a></span></li><li><span><a href=\"#Наблюдения-по-гистограмме-количества-пользователей-целевой-перменной-(оттока)\" data-toc-modified-id=\"Наблюдения-по-гистограмме-количества-пользователей-целевой-перменной-(оттока)-4.6\">Наблюдения по гистограмме количества пользователей целевой перменной (оттока)</a></span></li><li><span><a href=\"#Гистограмма-распределения-булевых-признаков-для-групп-клиентов\" data-toc-modified-id=\"Гистограмма-распределения-булевых-признаков-для-групп-клиентов-4.7\">Гистограмма распределения булевых признаков для групп клиентов</a></span></li><li><span><a href=\"#Наблюдения-по-гистограмме-распределения-признаков-для-тех,-кто-ушёл-(отток)-и-тех,-кто-остался-(не-попали-в-отток)\" data-toc-modified-id=\"Наблюдения-по-гистограмме-распределения-признаков-для-тех,-кто-ушёл-(отток)-и-тех,-кто-остался-(не-попали-в-отток)-4.8\">Наблюдения по гистограмме распределения признаков для тех, кто ушёл (отток) и тех, кто остался (не попали в отток)</a></span></li><li><span><a href=\"#Интересное-наблюдение-зависимости-между-распределением-promo_friends-и-распределением-оттока\" data-toc-modified-id=\"Интересное-наблюдение-зависимости-между-распределением-promo_friends-и-распределением-оттока-4.9\">Интересное наблюдение зависимости между распределением promo_friends и распределением оттока</a></span></li><li><span><a href=\"#Выводы-по-зависимости-между-распределением-promo_friends-и-распределением-оттока\" data-toc-modified-id=\"Выводы-по-зависимости-между-распределением-promo_friends-и-распределением-оттока-4.10\">Выводы по зависимости между распределением promo_friends и распределением оттока</a></span></li><li><span><a href=\"#Гистограммы-сравнения-качественных-признаков-по-оставшимся-и-ушедшим-а-также-'lifetime',-'month_to_end_contract',-'contract_period'\" data-toc-modified-id=\"Гистограммы-сравнения-качественных-признаков-по-оставшимся-и-ушедшим-а-также-'lifetime',-'month_to_end_contract',-'contract_period'-4.11\">Гистограммы сравнения качественных признаков по оставшимся и ушедшим а также 'lifetime', 'month_to_end_contract', 'contract_period'</a></span></li><li><span><a href=\"#Наблюдения-по-гистограммам\" data-toc-modified-id=\"Наблюдения-по-гистограммам-4.12\">Наблюдения по гистограммам</a></span></li><li><span><a href=\"#Матрица-корреляционных-связей-между-признаками\" data-toc-modified-id=\"Матрица-корреляционных-связей-между-признаками-4.13\">Матрица корреляционных связей между признаками</a></span></li><li><span><a href=\"#Наблюдения-по-матрице-корреляционных-связей-между-признаками\" data-toc-modified-id=\"Наблюдения-по-матрице-корреляционных-связей-между-признаками-4.14\">Наблюдения по матрице корреляционных связей между признаками</a></span></li><li><span><a href=\"#Вывод-по-EDA\" data-toc-modified-id=\"Вывод-по-EDA-4.15\">Вывод по EDA</a></span></li></ul></li><li><span><a href=\"#Построение-модели-прогнозирования-оттока-клиентов\" data-toc-modified-id=\"Построение-модели-прогнозирования-оттока-клиентов-5\">Построение модели прогнозирования оттока клиентов</a></span><ul class=\"toc-item\"><li><span><a href=\"#Разделим-данные-на-признаки-и-целевую-переменную\" data-toc-modified-id=\"Разделим-данные-на-признаки-и-целевую-переменную-5.1\">Разделим данные на признаки и целевую переменную</a></span></li><li><span><a href=\"#Разделим-данные-на-обучающую-и-валидационную-выборку\" data-toc-modified-id=\"Разделим-данные-на-обучающую-и-валидационную-выборку-5.2\">Разделим данные на обучающую и валидационную выборку</a></span></li><li><span><a href=\"#Модель-LogisticRegression-и-оценка-ее-результатов\" data-toc-modified-id=\"Модель-LogisticRegression-и-оценка-ее-результатов-5.3\">Модель LogisticRegression и оценка ее результатов</a></span></li><li><span><a href=\"#Модель-RandomForestClassifier-и-оценка-ее-результатов\" data-toc-modified-id=\"Модель-RandomForestClassifier-и-оценка-ее-результатов-5.4\">Модель RandomForestClassifier и оценка ее результатов</a></span></li><li><span><a href=\"#Модель-GradientBoostingClassifier-и-оценка-ее-результатов\" data-toc-modified-id=\"Модель-GradientBoostingClassifier-и-оценка-ее-результатов-5.5\">Модель GradientBoostingClassifier и оценка ее результатов</a></span></li><li><span><a href=\"#Построим-график-ROC\" data-toc-modified-id=\"Построим-график-ROC-5.6\">Построим график ROC</a></span></li><li><span><a href=\"#Наблюдения\" data-toc-modified-id=\"Наблюдения-5.7\">Наблюдения</a></span></li><li><span><a href=\"#GradientBoostingClassifier-фичи\" data-toc-modified-id=\"GradientBoostingClassifier-фичи-5.8\">GradientBoostingClassifier фичи</a></span></li><li><span><a href=\"#LogisticRegression-фичи\" data-toc-modified-id=\"LogisticRegression-фичи-5.9\">LogisticRegression фичи</a></span></li><li><span><a href=\"#Вывод-по-построению-модели-прогнозирования-оттока-клиентов\" data-toc-modified-id=\"Вывод-по-построению-модели-прогнозирования-оттока-клиентов-5.10\">Вывод по построению модели прогнозирования оттока клиентов</a></span></li></ul></li><li><span><a href=\"#Кластеризация-клиентов\" data-toc-modified-id=\"Кластеризация-клиентов-6\">Кластеризация клиентов</a></span><ul class=\"toc-item\"><li><span><a href=\"#Стандартизируем-данные\" data-toc-modified-id=\"Стандартизируем-данные-6.1\">Стандартизируем данные</a></span></li><li><span><a href=\"#Строим-дендограмму-матрицы-расстояний\" data-toc-modified-id=\"Строим-дендограмму-матрицы-расстояний-6.2\">Строим дендограмму матрицы расстояний</a></span></li><li><span><a href=\"#Наблюдения-по-дендограмме\" data-toc-modified-id=\"Наблюдения-по-дендограмме-6.3\">Наблюдения по дендограмме</a></span></li><li><span><a href=\"#Выделяем-кластеры-и-обучаем-модель-кластеризации-на-основании-алгоритма-K-means\" data-toc-modified-id=\"Выделяем-кластеры-и-обучаем-модель-кластеризации-на-основании-алгоритма-K-means-6.4\">Выделяем кластеры и обучаем модель кластеризации на основании алгоритма K-means</a></span></li><li><span><a href=\"#Наблюдения-по-таблице-кластеров\" data-toc-modified-id=\"Наблюдения-по-таблице-кластеров-6.5\">Наблюдения по таблице кластеров</a></span><ul class=\"toc-item\"><li><span><a href=\"#Кластер-1\" data-toc-modified-id=\"Кластер-1-6.5.1\">Кластер 1</a></span></li><li><span><a href=\"#Кластер-2\" data-toc-modified-id=\"Кластер-2-6.5.2\">Кластер 2</a></span></li><li><span><a href=\"#Кластер-3\" data-toc-modified-id=\"Кластер-3-6.5.3\">Кластер 3</a></span></li><li><span><a href=\"#Кластер-4\" data-toc-modified-id=\"Кластер-4-6.5.4\">Кластер 4</a></span></li><li><span><a href=\"#Кластер-5\" data-toc-modified-id=\"Кластер-5-6.5.5\">Кластер 5</a></span></li></ul></li><li><span><a href=\"#Распределения-признаков-кластеров\" data-toc-modified-id=\"Распределения-признаков-кластеров-6.6\">Распределения признаков кластеров</a></span></li><li><span><a href=\"#Наблюдения\" data-toc-modified-id=\"Наблюдения-6.7\">Наблюдения</a></span></li><li><span><a href=\"#Гистограмма-доли-оттока-по-кластерам\" data-toc-modified-id=\"Гистограмма-доли-оттока-по-кластерам-6.8\">Гистограмма доли оттока по кластерам</a></span></li><li><span><a href=\"#Наблюдения-по-гистограмме-оттока-по-кластерам\" data-toc-modified-id=\"Наблюдения-по-гистограмме-оттока-по-кластерам-6.9\">Наблюдения по гистограмме оттока по кластерам</a></span></li><li><span><a href=\"#Вывод-по-кластеризации\" data-toc-modified-id=\"Вывод-по-кластеризации-6.10\">Вывод по кластеризации</a></span><ul class=\"toc-item\"><li><span><a href=\"#Кластер-1\" data-toc-modified-id=\"Кластер-1-6.10.1\">Кластер 1</a></span></li><li><span><a href=\"#Кластер-2\" data-toc-modified-id=\"Кластер-2-6.10.2\">Кластер 2</a></span></li><li><span><a href=\"#Кластер-3\" data-toc-modified-id=\"Кластер-3-6.10.3\">Кластер 3</a></span></li><li><span><a href=\"#Кластер-4\" data-toc-modified-id=\"Кластер-4-6.10.4\">Кластер 4</a></span></li><li><span><a href=\"#Кластер-5\" data-toc-modified-id=\"Кластер-5-6.10.5\">Кластер 5</a></span></li></ul></li></ul></li><li><span><a href=\"#Общий-вывод\" data-toc-modified-id=\"Общий-вывод-7\">Общий вывод</a></span><ul class=\"toc-item\"><li><span><a href=\"#Вывод-по-EDA\" data-toc-modified-id=\"Вывод-по-EDA-7.1\">Вывод по EDA</a></span></li><li><span><a href=\"#Вывод-по-построению-модели-прогнозирования-оттока-клиентов\" data-toc-modified-id=\"Вывод-по-построению-модели-прогнозирования-оттока-клиентов-7.2\">Вывод по построению модели прогнозирования оттока клиентов</a></span></li><li><span><a href=\"#Вывод-по-кластеризации\" data-toc-modified-id=\"Вывод-по-кластеризации-7.3\">Вывод по кластеризации</a></span><ul class=\"toc-item\"><li><span><a href=\"#Кластер-1\" data-toc-modified-id=\"Кластер-1-7.3.1\">Кластер 1</a></span></li><li><span><a href=\"#Кластер-2\" data-toc-modified-id=\"Кластер-2-7.3.2\">Кластер 2</a></span></li><li><span><a href=\"#Кластер-3\" data-toc-modified-id=\"Кластер-3-7.3.3\">Кластер 3</a></span></li><li><span><a href=\"#Кластер-4\" data-toc-modified-id=\"Кластер-4-7.3.4\">Кластер 4</a></span></li><li><span><a href=\"#Кластер-5\" data-toc-modified-id=\"Кластер-5-7.3.5\">Кластер 5</a></span></li></ul></li></ul></li><li><span><a href=\"#Рекомендации\" data-toc-modified-id=\"Рекомендации-8\">Рекомендации</a></span><ul class=\"toc-item\"><li><ul class=\"toc-item\"><li><span><a href=\"#Кластер-1\" data-toc-modified-id=\"Кластер-1-8.0.1\">Кластер 1</a></span></li><li><span><a href=\"#Кластер-2\" data-toc-modified-id=\"Кластер-2-8.0.2\">Кластер 2</a></span></li></ul></li></ul></li><li><span><a href=\"#Рекомендации\" data-toc-modified-id=\"Рекомендации-9\">Рекомендации</a></span><ul class=\"toc-item\"><li><ul class=\"toc-item\"><li><span><a href=\"#Кластер-1\" data-toc-modified-id=\"Кластер-1-9.0.1\">Кластер 1</a></span></li><li><span><a href=\"#Кластер-2\" data-toc-modified-id=\"Кластер-2-9.0.2\">Кластер 2</a></span></li><li><span><a href=\"#Кластер-3\" data-toc-modified-id=\"Кластер-3-9.0.3\">Кластер 3</a></span></li><li><span><a href=\"#Кластер-4\" data-toc-modified-id=\"Кластер-4-9.0.4\">Кластер 4</a></span></li><li><span><a href=\"#Кластер-5\" data-toc-modified-id=\"Кластер-5-9.0.5\">Кластер 5</a></span></li></ul></li></ul></li></ul></div>"
   ]
  },
  {
   "cell_type": "markdown",
   "metadata": {},
   "source": [
    "## Описание данных"
   ]
  },
  {
   "cell_type": "markdown",
   "metadata": {},
   "source": [
    "#### Таблица gym_churn (данные на месяц до оттока и факт оттока на определённый месяц):\n",
    "Данные клиента за предыдущий до проверки факта оттока месяц:\n",
    "\n",
    "\n",
    "    - 'gender' — пол;\n",
    "    - 'Near_Location' — проживание или работа в районе, где находится фитнес-центр;\n",
    "    - 'Partner' — сотрудник компании-партнёра клуба (сотрудничество с компаниями, чьи сотрудники могут получать скидки на абонемент — в таком случае фитнес-центр хранит информацию о работодателе клиента);\n",
    "    - Promo_friends — факт первоначальной записи в рамках акции «приведи друга» (использовал промо-код от знакомого при оплате первого абонемента);\n",
    "    - 'Phone' — наличие контактного телефона;\n",
    "    - 'Age' — возраст;\n",
    "    - 'Lifetime' — время с момента первого обращения в фитнес-центр (в месяцах).\n",
    "\n",
    "\n",
    "Информация на основе журнала посещений, покупок и информация о текущем статусе абонемента клиента:\n",
    "\n",
    "\n",
    "    - 'Contract_period' — длительность текущего действующего абонемента (месяц, 6 месяцев, год);\n",
    "    - 'Month_to_end_contract' — срок до окончания текущего действующего абонемента (в месяцах);\n",
    "    - 'Group_visits' — факт посещения групповых занятий;\n",
    "    - 'Avg_class_frequency_total' — средняя частота посещений в неделю за все время с начала действия абонемента;\n",
    "    - 'Avg_class_frequency_current_month' — средняя частота посещений в неделю за предыдущий месяц;\n",
    "    - 'Avg_additional_charges_total' — суммарная выручка от других услуг фитнес-центра: кафе, спорттовары, косметический и массажный салон.\n",
    "    - 'Churn' — факт оттока в текущем месяце.\n"
   ]
  },
  {
   "cell_type": "markdown",
   "metadata": {},
   "source": [
    "### Импорт библиотек"
   ]
  },
  {
   "cell_type": "code",
   "execution_count": 9,
   "metadata": {},
   "outputs": [],
   "source": [
    "import pandas as pd\n",
    "import numpy as np\n",
    "import os\n",
    "import matplotlib.pyplot as plt\n",
    "import seaborn as sns\n",
    "from sklearn.model_selection import train_test_split\n",
    "from sklearn.preprocessing import StandardScaler\n",
    "from sklearn.linear_model import LogisticRegression\n",
    "from sklearn.ensemble import RandomForestClassifier\n",
    "from sklearn.metrics import confusion_matrix\n",
    "from sklearn.metrics import accuracy_score, precision_score, recall_score, f1_score, roc_auc_score \n",
    "import sklearn.metrics as metrics\n",
    "from scipy.cluster.hierarchy import dendrogram, linkage\n",
    "from sklearn.cluster import KMeans\n",
    "from sklearn.metrics import silhouette_score\n",
    "import warnings\n",
    "from sklearn.model_selection import train_test_split, GridSearchCV\n",
    "from sklearn.linear_model import LogisticRegression\n",
    "from sklearn.ensemble import RandomForestClassifier, GradientBoostingClassifier\n",
    "from sklearn.neighbors import KNeighborsClassifier"
   ]
  },
  {
   "cell_type": "markdown",
   "metadata": {},
   "source": [
    "## Загружаем и изучаем таблицу"
   ]
  },
  {
   "cell_type": "markdown",
   "metadata": {},
   "source": [
    "### Загружаем данные и сохраняем их в переменные"
   ]
  },
  {
   "cell_type": "code",
   "execution_count": 10,
   "metadata": {},
   "outputs": [],
   "source": [
    "# Создаем переменную путь к файлу\n",
    "#(можно заменить на свои при работе на локальном устройстве)\n",
    "file_path = '/Users/danielnodelman/Downloads/'\n",
    "try:\n",
    "# Загружаем данные в переменные на локальном утройстве \n",
    "    gym_churn = (pd.read_csv('/datasets/gym_churn.csv', index_col=False))\n",
    "                                   \n",
    "except:\n",
    "# Загружаем данные в переменные \n",
    "    gym_churn = (pd.read_csv(file_path + 'gym_churn.csv', index_col=False))"
   ]
  },
  {
   "cell_type": "markdown",
   "metadata": {},
   "source": [
    "### Метод  info()"
   ]
  },
  {
   "cell_type": "code",
   "execution_count": 11,
   "metadata": {},
   "outputs": [
    {
     "name": "stdout",
     "output_type": "stream",
     "text": [
      "<class 'pandas.core.frame.DataFrame'>\n",
      "RangeIndex: 4000 entries, 0 to 3999\n",
      "Data columns (total 14 columns):\n",
      " #   Column                             Non-Null Count  Dtype  \n",
      "---  ------                             --------------  -----  \n",
      " 0   gender                             4000 non-null   int64  \n",
      " 1   Near_Location                      4000 non-null   int64  \n",
      " 2   Partner                            4000 non-null   int64  \n",
      " 3   Promo_friends                      4000 non-null   int64  \n",
      " 4   Phone                              4000 non-null   int64  \n",
      " 5   Contract_period                    4000 non-null   int64  \n",
      " 6   Group_visits                       4000 non-null   int64  \n",
      " 7   Age                                4000 non-null   int64  \n",
      " 8   Avg_additional_charges_total       4000 non-null   float64\n",
      " 9   Month_to_end_contract              4000 non-null   float64\n",
      " 10  Lifetime                           4000 non-null   int64  \n",
      " 11  Avg_class_frequency_total          4000 non-null   float64\n",
      " 12  Avg_class_frequency_current_month  4000 non-null   float64\n",
      " 13  Churn                              4000 non-null   int64  \n",
      "dtypes: float64(4), int64(10)\n",
      "memory usage: 437.6 KB\n"
     ]
    },
    {
     "data": {
      "text/plain": [
       "(4000, 14)"
      ]
     },
     "execution_count": 11,
     "metadata": {},
     "output_type": "execute_result"
    }
   ],
   "source": [
    "gym_churn.info()\n",
    "gym_churn.shape"
   ]
  },
  {
   "cell_type": "markdown",
   "metadata": {},
   "source": [
    "#### Наблюдения по методу info () "
   ]
  },
  {
   "cell_type": "markdown",
   "metadata": {},
   "source": [
    "- Таблица  содержит 14 столбцов по 4000 строк\n",
    "\n",
    "\n",
    "- Пропуски отсутствуют \n",
    "\n",
    "\n",
    "- Все значения числовые\n",
    "\n",
    "\n",
    "- тип данных переменной month_to_end_contract нужно изменить на int"
   ]
  },
  {
   "cell_type": "markdown",
   "metadata": {},
   "source": [
    "### Метод head()"
   ]
  },
  {
   "cell_type": "code",
   "execution_count": 12,
   "metadata": {
    "scrolled": false
   },
   "outputs": [
    {
     "data": {
      "text/html": [
       "<div>\n",
       "<style scoped>\n",
       "    .dataframe tbody tr th:only-of-type {\n",
       "        vertical-align: middle;\n",
       "    }\n",
       "\n",
       "    .dataframe tbody tr th {\n",
       "        vertical-align: top;\n",
       "    }\n",
       "\n",
       "    .dataframe thead th {\n",
       "        text-align: right;\n",
       "    }\n",
       "</style>\n",
       "<table border=\"1\" class=\"dataframe\">\n",
       "  <thead>\n",
       "    <tr style=\"text-align: right;\">\n",
       "      <th></th>\n",
       "      <th>gender</th>\n",
       "      <th>Near_Location</th>\n",
       "      <th>Partner</th>\n",
       "      <th>Promo_friends</th>\n",
       "      <th>Phone</th>\n",
       "      <th>Contract_period</th>\n",
       "      <th>Group_visits</th>\n",
       "      <th>Age</th>\n",
       "      <th>Avg_additional_charges_total</th>\n",
       "      <th>Month_to_end_contract</th>\n",
       "      <th>Lifetime</th>\n",
       "      <th>Avg_class_frequency_total</th>\n",
       "      <th>Avg_class_frequency_current_month</th>\n",
       "      <th>Churn</th>\n",
       "    </tr>\n",
       "  </thead>\n",
       "  <tbody>\n",
       "    <tr>\n",
       "      <th>0</th>\n",
       "      <td>1</td>\n",
       "      <td>1</td>\n",
       "      <td>1</td>\n",
       "      <td>1</td>\n",
       "      <td>0</td>\n",
       "      <td>6</td>\n",
       "      <td>1</td>\n",
       "      <td>29</td>\n",
       "      <td>14.227470</td>\n",
       "      <td>5.0</td>\n",
       "      <td>3</td>\n",
       "      <td>0.020398</td>\n",
       "      <td>0.000000</td>\n",
       "      <td>0</td>\n",
       "    </tr>\n",
       "    <tr>\n",
       "      <th>1</th>\n",
       "      <td>0</td>\n",
       "      <td>1</td>\n",
       "      <td>0</td>\n",
       "      <td>0</td>\n",
       "      <td>1</td>\n",
       "      <td>12</td>\n",
       "      <td>1</td>\n",
       "      <td>31</td>\n",
       "      <td>113.202938</td>\n",
       "      <td>12.0</td>\n",
       "      <td>7</td>\n",
       "      <td>1.922936</td>\n",
       "      <td>1.910244</td>\n",
       "      <td>0</td>\n",
       "    </tr>\n",
       "    <tr>\n",
       "      <th>2</th>\n",
       "      <td>0</td>\n",
       "      <td>1</td>\n",
       "      <td>1</td>\n",
       "      <td>0</td>\n",
       "      <td>1</td>\n",
       "      <td>1</td>\n",
       "      <td>0</td>\n",
       "      <td>28</td>\n",
       "      <td>129.448479</td>\n",
       "      <td>1.0</td>\n",
       "      <td>2</td>\n",
       "      <td>1.859098</td>\n",
       "      <td>1.736502</td>\n",
       "      <td>0</td>\n",
       "    </tr>\n",
       "    <tr>\n",
       "      <th>3</th>\n",
       "      <td>0</td>\n",
       "      <td>1</td>\n",
       "      <td>1</td>\n",
       "      <td>1</td>\n",
       "      <td>1</td>\n",
       "      <td>12</td>\n",
       "      <td>1</td>\n",
       "      <td>33</td>\n",
       "      <td>62.669863</td>\n",
       "      <td>12.0</td>\n",
       "      <td>2</td>\n",
       "      <td>3.205633</td>\n",
       "      <td>3.357215</td>\n",
       "      <td>0</td>\n",
       "    </tr>\n",
       "    <tr>\n",
       "      <th>4</th>\n",
       "      <td>1</td>\n",
       "      <td>1</td>\n",
       "      <td>1</td>\n",
       "      <td>1</td>\n",
       "      <td>1</td>\n",
       "      <td>1</td>\n",
       "      <td>0</td>\n",
       "      <td>26</td>\n",
       "      <td>198.362265</td>\n",
       "      <td>1.0</td>\n",
       "      <td>3</td>\n",
       "      <td>1.113884</td>\n",
       "      <td>1.120078</td>\n",
       "      <td>0</td>\n",
       "    </tr>\n",
       "    <tr>\n",
       "      <th>5</th>\n",
       "      <td>1</td>\n",
       "      <td>1</td>\n",
       "      <td>0</td>\n",
       "      <td>0</td>\n",
       "      <td>1</td>\n",
       "      <td>1</td>\n",
       "      <td>1</td>\n",
       "      <td>34</td>\n",
       "      <td>450.743960</td>\n",
       "      <td>1.0</td>\n",
       "      <td>3</td>\n",
       "      <td>2.623477</td>\n",
       "      <td>2.637007</td>\n",
       "      <td>0</td>\n",
       "    </tr>\n",
       "    <tr>\n",
       "      <th>6</th>\n",
       "      <td>1</td>\n",
       "      <td>1</td>\n",
       "      <td>1</td>\n",
       "      <td>1</td>\n",
       "      <td>0</td>\n",
       "      <td>6</td>\n",
       "      <td>1</td>\n",
       "      <td>32</td>\n",
       "      <td>94.266389</td>\n",
       "      <td>6.0</td>\n",
       "      <td>2</td>\n",
       "      <td>1.138941</td>\n",
       "      <td>1.277242</td>\n",
       "      <td>0</td>\n",
       "    </tr>\n",
       "    <tr>\n",
       "      <th>7</th>\n",
       "      <td>0</td>\n",
       "      <td>1</td>\n",
       "      <td>0</td>\n",
       "      <td>0</td>\n",
       "      <td>1</td>\n",
       "      <td>1</td>\n",
       "      <td>0</td>\n",
       "      <td>30</td>\n",
       "      <td>217.786641</td>\n",
       "      <td>1.0</td>\n",
       "      <td>0</td>\n",
       "      <td>1.213502</td>\n",
       "      <td>1.049387</td>\n",
       "      <td>1</td>\n",
       "    </tr>\n",
       "    <tr>\n",
       "      <th>8</th>\n",
       "      <td>1</td>\n",
       "      <td>1</td>\n",
       "      <td>1</td>\n",
       "      <td>1</td>\n",
       "      <td>1</td>\n",
       "      <td>1</td>\n",
       "      <td>1</td>\n",
       "      <td>23</td>\n",
       "      <td>45.409909</td>\n",
       "      <td>1.0</td>\n",
       "      <td>1</td>\n",
       "      <td>1.106239</td>\n",
       "      <td>1.059333</td>\n",
       "      <td>0</td>\n",
       "    </tr>\n",
       "    <tr>\n",
       "      <th>9</th>\n",
       "      <td>0</td>\n",
       "      <td>1</td>\n",
       "      <td>0</td>\n",
       "      <td>0</td>\n",
       "      <td>1</td>\n",
       "      <td>1</td>\n",
       "      <td>0</td>\n",
       "      <td>31</td>\n",
       "      <td>65.310836</td>\n",
       "      <td>1.0</td>\n",
       "      <td>11</td>\n",
       "      <td>1.810852</td>\n",
       "      <td>1.951368</td>\n",
       "      <td>0</td>\n",
       "    </tr>\n",
       "  </tbody>\n",
       "</table>\n",
       "</div>"
      ],
      "text/plain": [
       "   gender  Near_Location  Partner  Promo_friends  Phone  Contract_period  \\\n",
       "0       1              1        1              1      0                6   \n",
       "1       0              1        0              0      1               12   \n",
       "2       0              1        1              0      1                1   \n",
       "3       0              1        1              1      1               12   \n",
       "4       1              1        1              1      1                1   \n",
       "5       1              1        0              0      1                1   \n",
       "6       1              1        1              1      0                6   \n",
       "7       0              1        0              0      1                1   \n",
       "8       1              1        1              1      1                1   \n",
       "9       0              1        0              0      1                1   \n",
       "\n",
       "   Group_visits  Age  Avg_additional_charges_total  Month_to_end_contract  \\\n",
       "0             1   29                     14.227470                    5.0   \n",
       "1             1   31                    113.202938                   12.0   \n",
       "2             0   28                    129.448479                    1.0   \n",
       "3             1   33                     62.669863                   12.0   \n",
       "4             0   26                    198.362265                    1.0   \n",
       "5             1   34                    450.743960                    1.0   \n",
       "6             1   32                     94.266389                    6.0   \n",
       "7             0   30                    217.786641                    1.0   \n",
       "8             1   23                     45.409909                    1.0   \n",
       "9             0   31                     65.310836                    1.0   \n",
       "\n",
       "   Lifetime  Avg_class_frequency_total  Avg_class_frequency_current_month  \\\n",
       "0         3                   0.020398                           0.000000   \n",
       "1         7                   1.922936                           1.910244   \n",
       "2         2                   1.859098                           1.736502   \n",
       "3         2                   3.205633                           3.357215   \n",
       "4         3                   1.113884                           1.120078   \n",
       "5         3                   2.623477                           2.637007   \n",
       "6         2                   1.138941                           1.277242   \n",
       "7         0                   1.213502                           1.049387   \n",
       "8         1                   1.106239                           1.059333   \n",
       "9        11                   1.810852                           1.951368   \n",
       "\n",
       "   Churn  \n",
       "0      0  \n",
       "1      0  \n",
       "2      0  \n",
       "3      0  \n",
       "4      0  \n",
       "5      0  \n",
       "6      0  \n",
       "7      1  \n",
       "8      0  \n",
       "9      0  "
      ]
     },
     "execution_count": 12,
     "metadata": {},
     "output_type": "execute_result"
    }
   ],
   "source": [
    "gym_churn.head(10)"
   ]
  },
  {
   "cell_type": "markdown",
   "metadata": {},
   "source": [
    "#### Наблюдения по методу head () "
   ]
  },
  {
   "cell_type": "markdown",
   "metadata": {},
   "source": [
    "- Аномалий не обнаружено, нужно привести столбцы к нижнему (змеиному) регистру"
   ]
  },
  {
   "cell_type": "markdown",
   "metadata": {},
   "source": [
    "### Предобработка столбцов (нижний регистр)"
   ]
  },
  {
   "cell_type": "code",
   "execution_count": 13,
   "metadata": {},
   "outputs": [],
   "source": [
    "gym_churn.columns = gym_churn.columns.str.lower()"
   ]
  },
  {
   "cell_type": "markdown",
   "metadata": {},
   "source": [
    "### Изменения типа данных"
   ]
  },
  {
   "cell_type": "code",
   "execution_count": 14,
   "metadata": {},
   "outputs": [],
   "source": [
    "gym_churn['month_to_end_contract'] = gym_churn['month_to_end_contract'].astype(int)"
   ]
  },
  {
   "cell_type": "markdown",
   "metadata": {},
   "source": [
    "### Проверка на дубликаты"
   ]
  },
  {
   "cell_type": "code",
   "execution_count": 15,
   "metadata": {},
   "outputs": [
    {
     "name": "stdout",
     "output_type": "stream",
     "text": [
      "Количество дубликатов в таблице gym_churn: 0\n"
     ]
    }
   ],
   "source": [
    "print(\"Количество дубликатов в таблице gym_churn:\", \n",
    "      gym_churn.duplicated().sum()\n",
    "     )"
   ]
  },
  {
   "cell_type": "markdown",
   "metadata": {},
   "source": [
    "#### Наблюдения по методу duplicated()\n",
    "\n",
    "- явных дубликатов не обнаружено"
   ]
  },
  {
   "cell_type": "markdown",
   "metadata": {},
   "source": [
    "### Метод pandas_profiling"
   ]
  },
  {
   "cell_type": "code",
   "execution_count": 28,
   "metadata": {
    "scrolled": false
   },
   "outputs": [],
   "source": [
    "#pip install pandas-profiling\n",
    "#import pandas_profiling\n",
    "#pandas_profiling.ProfileReport(gym_churn)"
   ]
  },
  {
   "cell_type": "markdown",
   "metadata": {},
   "source": [
    "### Вывод по изучению таблицы"
   ]
  },
  {
   "cell_type": "markdown",
   "metadata": {},
   "source": [
    "- Таблица  содержит 14 столбцов по 4000 строк\n",
    "\n",
    "\n",
    "- Все значения числовые\n",
    "\n",
    "\n",
    "- Пропуски отсутствуют \n",
    "\n",
    "\n",
    "- Явных дубликатов не обнаружено\n",
    "\n",
    "\n",
    "- Названия столбцов приведены к нижнему регистру\n",
    "\n",
    "\n",
    "- Столбец month_to_end_contract тип данных приведен к int"
   ]
  },
  {
   "cell_type": "markdown",
   "metadata": {},
   "source": [
    "## Исследовательский анализ данных (EDA)"
   ]
  },
  {
   "cell_type": "markdown",
   "metadata": {},
   "source": [
    "### Метод describe()"
   ]
  },
  {
   "cell_type": "code",
   "execution_count": 27,
   "metadata": {
    "scrolled": true
   },
   "outputs": [
    {
     "data": {
      "text/html": [
       "<div>\n",
       "<style scoped>\n",
       "    .dataframe tbody tr th:only-of-type {\n",
       "        vertical-align: middle;\n",
       "    }\n",
       "\n",
       "    .dataframe tbody tr th {\n",
       "        vertical-align: top;\n",
       "    }\n",
       "\n",
       "    .dataframe thead th {\n",
       "        text-align: right;\n",
       "    }\n",
       "</style>\n",
       "<table border=\"1\" class=\"dataframe\">\n",
       "  <thead>\n",
       "    <tr style=\"text-align: right;\">\n",
       "      <th></th>\n",
       "      <th>gender</th>\n",
       "      <th>near_location</th>\n",
       "      <th>partner</th>\n",
       "      <th>promo_friends</th>\n",
       "      <th>phone</th>\n",
       "      <th>contract_period</th>\n",
       "      <th>group_visits</th>\n",
       "      <th>age</th>\n",
       "      <th>avg_additional_charges_total</th>\n",
       "      <th>month_to_end_contract</th>\n",
       "      <th>lifetime</th>\n",
       "      <th>avg_class_frequency_total</th>\n",
       "      <th>avg_class_frequency_current_month</th>\n",
       "      <th>churn</th>\n",
       "    </tr>\n",
       "  </thead>\n",
       "  <tbody>\n",
       "    <tr>\n",
       "      <th>count</th>\n",
       "      <td>4000.000000</td>\n",
       "      <td>4000.000000</td>\n",
       "      <td>4000.000000</td>\n",
       "      <td>4000.000000</td>\n",
       "      <td>4000.000000</td>\n",
       "      <td>4000.000000</td>\n",
       "      <td>4000.000000</td>\n",
       "      <td>4000.000000</td>\n",
       "      <td>4000.000000</td>\n",
       "      <td>4000.000000</td>\n",
       "      <td>4000.000000</td>\n",
       "      <td>4000.000000</td>\n",
       "      <td>4000.000000</td>\n",
       "      <td>4000.000000</td>\n",
       "    </tr>\n",
       "    <tr>\n",
       "      <th>mean</th>\n",
       "      <td>0.510250</td>\n",
       "      <td>0.845250</td>\n",
       "      <td>0.486750</td>\n",
       "      <td>0.308500</td>\n",
       "      <td>0.903500</td>\n",
       "      <td>4.681250</td>\n",
       "      <td>0.412250</td>\n",
       "      <td>29.184250</td>\n",
       "      <td>146.943728</td>\n",
       "      <td>4.322750</td>\n",
       "      <td>3.724750</td>\n",
       "      <td>1.879020</td>\n",
       "      <td>1.767052</td>\n",
       "      <td>0.265250</td>\n",
       "    </tr>\n",
       "    <tr>\n",
       "      <th>std</th>\n",
       "      <td>0.499957</td>\n",
       "      <td>0.361711</td>\n",
       "      <td>0.499887</td>\n",
       "      <td>0.461932</td>\n",
       "      <td>0.295313</td>\n",
       "      <td>4.549706</td>\n",
       "      <td>0.492301</td>\n",
       "      <td>3.258367</td>\n",
       "      <td>96.355602</td>\n",
       "      <td>4.191297</td>\n",
       "      <td>3.749267</td>\n",
       "      <td>0.972245</td>\n",
       "      <td>1.052906</td>\n",
       "      <td>0.441521</td>\n",
       "    </tr>\n",
       "    <tr>\n",
       "      <th>min</th>\n",
       "      <td>0.000000</td>\n",
       "      <td>0.000000</td>\n",
       "      <td>0.000000</td>\n",
       "      <td>0.000000</td>\n",
       "      <td>0.000000</td>\n",
       "      <td>1.000000</td>\n",
       "      <td>0.000000</td>\n",
       "      <td>18.000000</td>\n",
       "      <td>0.148205</td>\n",
       "      <td>1.000000</td>\n",
       "      <td>0.000000</td>\n",
       "      <td>0.000000</td>\n",
       "      <td>0.000000</td>\n",
       "      <td>0.000000</td>\n",
       "    </tr>\n",
       "    <tr>\n",
       "      <th>25%</th>\n",
       "      <td>0.000000</td>\n",
       "      <td>1.000000</td>\n",
       "      <td>0.000000</td>\n",
       "      <td>0.000000</td>\n",
       "      <td>1.000000</td>\n",
       "      <td>1.000000</td>\n",
       "      <td>0.000000</td>\n",
       "      <td>27.000000</td>\n",
       "      <td>68.868830</td>\n",
       "      <td>1.000000</td>\n",
       "      <td>1.000000</td>\n",
       "      <td>1.180875</td>\n",
       "      <td>0.963003</td>\n",
       "      <td>0.000000</td>\n",
       "    </tr>\n",
       "    <tr>\n",
       "      <th>50%</th>\n",
       "      <td>1.000000</td>\n",
       "      <td>1.000000</td>\n",
       "      <td>0.000000</td>\n",
       "      <td>0.000000</td>\n",
       "      <td>1.000000</td>\n",
       "      <td>1.000000</td>\n",
       "      <td>0.000000</td>\n",
       "      <td>29.000000</td>\n",
       "      <td>136.220159</td>\n",
       "      <td>1.000000</td>\n",
       "      <td>3.000000</td>\n",
       "      <td>1.832768</td>\n",
       "      <td>1.719574</td>\n",
       "      <td>0.000000</td>\n",
       "    </tr>\n",
       "    <tr>\n",
       "      <th>75%</th>\n",
       "      <td>1.000000</td>\n",
       "      <td>1.000000</td>\n",
       "      <td>1.000000</td>\n",
       "      <td>1.000000</td>\n",
       "      <td>1.000000</td>\n",
       "      <td>6.000000</td>\n",
       "      <td>1.000000</td>\n",
       "      <td>31.000000</td>\n",
       "      <td>210.949625</td>\n",
       "      <td>6.000000</td>\n",
       "      <td>5.000000</td>\n",
       "      <td>2.536078</td>\n",
       "      <td>2.510336</td>\n",
       "      <td>1.000000</td>\n",
       "    </tr>\n",
       "    <tr>\n",
       "      <th>max</th>\n",
       "      <td>1.000000</td>\n",
       "      <td>1.000000</td>\n",
       "      <td>1.000000</td>\n",
       "      <td>1.000000</td>\n",
       "      <td>1.000000</td>\n",
       "      <td>12.000000</td>\n",
       "      <td>1.000000</td>\n",
       "      <td>41.000000</td>\n",
       "      <td>552.590740</td>\n",
       "      <td>12.000000</td>\n",
       "      <td>31.000000</td>\n",
       "      <td>6.023668</td>\n",
       "      <td>6.146783</td>\n",
       "      <td>1.000000</td>\n",
       "    </tr>\n",
       "  </tbody>\n",
       "</table>\n",
       "</div>"
      ],
      "text/plain": [
       "            gender  near_location      partner  promo_friends        phone  \\\n",
       "count  4000.000000    4000.000000  4000.000000    4000.000000  4000.000000   \n",
       "mean      0.510250       0.845250     0.486750       0.308500     0.903500   \n",
       "std       0.499957       0.361711     0.499887       0.461932     0.295313   \n",
       "min       0.000000       0.000000     0.000000       0.000000     0.000000   \n",
       "25%       0.000000       1.000000     0.000000       0.000000     1.000000   \n",
       "50%       1.000000       1.000000     0.000000       0.000000     1.000000   \n",
       "75%       1.000000       1.000000     1.000000       1.000000     1.000000   \n",
       "max       1.000000       1.000000     1.000000       1.000000     1.000000   \n",
       "\n",
       "       contract_period  group_visits          age  \\\n",
       "count      4000.000000   4000.000000  4000.000000   \n",
       "mean          4.681250      0.412250    29.184250   \n",
       "std           4.549706      0.492301     3.258367   \n",
       "min           1.000000      0.000000    18.000000   \n",
       "25%           1.000000      0.000000    27.000000   \n",
       "50%           1.000000      0.000000    29.000000   \n",
       "75%           6.000000      1.000000    31.000000   \n",
       "max          12.000000      1.000000    41.000000   \n",
       "\n",
       "       avg_additional_charges_total  month_to_end_contract     lifetime  \\\n",
       "count                   4000.000000            4000.000000  4000.000000   \n",
       "mean                     146.943728               4.322750     3.724750   \n",
       "std                       96.355602               4.191297     3.749267   \n",
       "min                        0.148205               1.000000     0.000000   \n",
       "25%                       68.868830               1.000000     1.000000   \n",
       "50%                      136.220159               1.000000     3.000000   \n",
       "75%                      210.949625               6.000000     5.000000   \n",
       "max                      552.590740              12.000000    31.000000   \n",
       "\n",
       "       avg_class_frequency_total  avg_class_frequency_current_month  \\\n",
       "count                4000.000000                        4000.000000   \n",
       "mean                    1.879020                           1.767052   \n",
       "std                     0.972245                           1.052906   \n",
       "min                     0.000000                           0.000000   \n",
       "25%                     1.180875                           0.963003   \n",
       "50%                     1.832768                           1.719574   \n",
       "75%                     2.536078                           2.510336   \n",
       "max                     6.023668                           6.146783   \n",
       "\n",
       "             churn  \n",
       "count  4000.000000  \n",
       "mean      0.265250  \n",
       "std       0.441521  \n",
       "min       0.000000  \n",
       "25%       0.000000  \n",
       "50%       0.000000  \n",
       "75%       1.000000  \n",
       "max       1.000000  "
      ]
     },
     "execution_count": 27,
     "metadata": {},
     "output_type": "execute_result"
    }
   ],
   "source": [
    "gym_churn.describe()"
   ]
  },
  {
   "cell_type": "markdown",
   "metadata": {},
   "source": [
    "#### Наблюдения по методу describe () \n",
    "#### Виды переменных в таблице\n",
    "- к переменным типа 0/1 относятся данные в столбцах gender, near_location,partner, promo_friends, phone, group_visits, churn\n",
    "\n",
    "\n",
    "- к категориальным перменным относятся contract_period, lifetime, month_to_end_contract \n",
    "\n",
    "\n",
    "- к количественным переменным относятся  age, avg_additional_charges_total, avg_class_frequency_total, avg_class_frequency_current_month\n",
    "\n",
    "\n",
    "#### Наблюдения по числам внутри таблицы \n",
    "- По столбцу age средний возраст клиентов - 29 лет\n",
    "\n",
    "\n",
    "- По столбцу gender примерно одинаковое количество мужчин и женщин.\n",
    "\n",
    "\n",
    "- По столбцу group_visits 41,2% клиентов посещают групповые занятия \n",
    "\n",
    "\n",
    "- По столбцу partner 48,7% клиентов являются партнерскими\n",
    "\n",
    "\n",
    "- По столбцу avg_class_frequency_total клиенты посещают зал 2 раза в неделю \n",
    "\n",
    "\n",
    "- По столбцу near_location 84,5% клиентов часто бывают рядом с фитнес центром \n",
    "\n",
    "\n",
    "- По столбцу promo_friends 30,8% составляют приглашенные друзьями клиенты \n",
    "\n",
    "\n",
    "- По столбцу churn 26,5% клиентов уходят в отток\n",
    "\n",
    "\n",
    "- По столбцу avg_additional_charges_total 136,2 у.е клиенты тратят на доп услуги "
   ]
  },
  {
   "cell_type": "markdown",
   "metadata": {},
   "source": [
    "### Средние значения признаков в двух группах \n",
    "Выводим средние значения по всем признакам между группами тех, кто ушел в отток и тех, кто остался"
   ]
  },
  {
   "cell_type": "code",
   "execution_count": 32,
   "metadata": {
    "scrolled": true
   },
   "outputs": [
    {
     "data": {
      "text/html": [
       "<div>\n",
       "<style scoped>\n",
       "    .dataframe tbody tr th:only-of-type {\n",
       "        vertical-align: middle;\n",
       "    }\n",
       "\n",
       "    .dataframe tbody tr th {\n",
       "        vertical-align: top;\n",
       "    }\n",
       "\n",
       "    .dataframe thead th {\n",
       "        text-align: right;\n",
       "    }\n",
       "</style>\n",
       "<table border=\"1\" class=\"dataframe\">\n",
       "  <thead>\n",
       "    <tr style=\"text-align: right;\">\n",
       "      <th></th>\n",
       "      <th>gender</th>\n",
       "      <th>near_location</th>\n",
       "      <th>partner</th>\n",
       "      <th>promo_friends</th>\n",
       "      <th>phone</th>\n",
       "      <th>contract_period</th>\n",
       "      <th>group_visits</th>\n",
       "      <th>age</th>\n",
       "      <th>avg_additional_charges_total</th>\n",
       "      <th>month_to_end_contract</th>\n",
       "      <th>lifetime</th>\n",
       "      <th>avg_class_frequency_total</th>\n",
       "      <th>avg_class_frequency_current_month</th>\n",
       "    </tr>\n",
       "    <tr>\n",
       "      <th>churn</th>\n",
       "      <th></th>\n",
       "      <th></th>\n",
       "      <th></th>\n",
       "      <th></th>\n",
       "      <th></th>\n",
       "      <th></th>\n",
       "      <th></th>\n",
       "      <th></th>\n",
       "      <th></th>\n",
       "      <th></th>\n",
       "      <th></th>\n",
       "      <th></th>\n",
       "      <th></th>\n",
       "    </tr>\n",
       "  </thead>\n",
       "  <tbody>\n",
       "    <tr>\n",
       "      <th>0</th>\n",
       "      <td>0.510037</td>\n",
       "      <td>0.873086</td>\n",
       "      <td>0.534195</td>\n",
       "      <td>0.353522</td>\n",
       "      <td>0.903709</td>\n",
       "      <td>5.747193</td>\n",
       "      <td>0.464103</td>\n",
       "      <td>29.976523</td>\n",
       "      <td>158.445715</td>\n",
       "      <td>5.283089</td>\n",
       "      <td>4.711807</td>\n",
       "      <td>2.024876</td>\n",
       "      <td>2.027882</td>\n",
       "    </tr>\n",
       "    <tr>\n",
       "      <th>1</th>\n",
       "      <td>0.510839</td>\n",
       "      <td>0.768143</td>\n",
       "      <td>0.355325</td>\n",
       "      <td>0.183789</td>\n",
       "      <td>0.902922</td>\n",
       "      <td>1.728558</td>\n",
       "      <td>0.268615</td>\n",
       "      <td>26.989632</td>\n",
       "      <td>115.082899</td>\n",
       "      <td>1.662582</td>\n",
       "      <td>0.990575</td>\n",
       "      <td>1.474995</td>\n",
       "      <td>1.044546</td>\n",
       "    </tr>\n",
       "  </tbody>\n",
       "</table>\n",
       "</div>"
      ],
      "text/plain": [
       "         gender  near_location   partner  promo_friends     phone  \\\n",
       "churn                                                               \n",
       "0      0.510037       0.873086  0.534195       0.353522  0.903709   \n",
       "1      0.510839       0.768143  0.355325       0.183789  0.902922   \n",
       "\n",
       "       contract_period  group_visits        age  avg_additional_charges_total  \\\n",
       "churn                                                                           \n",
       "0             5.747193      0.464103  29.976523                    158.445715   \n",
       "1             1.728558      0.268615  26.989632                    115.082899   \n",
       "\n",
       "       month_to_end_contract  lifetime  avg_class_frequency_total  \\\n",
       "churn                                                               \n",
       "0                   5.283089  4.711807                   2.024876   \n",
       "1                   1.662582  0.990575                   1.474995   \n",
       "\n",
       "       avg_class_frequency_current_month  \n",
       "churn                                     \n",
       "0                               2.027882  \n",
       "1                               1.044546  "
      ]
     },
     "execution_count": 32,
     "metadata": {},
     "output_type": "execute_result"
    }
   ],
   "source": [
    "# выводим метоод groupby по 'churn'\n",
    "(gym_churn\n",
    "        .groupby('churn')\n",
    "        .mean()\n",
    "       )"
   ]
  },
  {
   "cell_type": "markdown",
   "metadata": {},
   "source": [
    "### Наблюдения по методу groupby()\n",
    "\n",
    "- По столбцу gender: сильных различий не наблюдается \n",
    "\n",
    "\n",
    "- По столбцу near_location: незначительное различие в пользу оставшихся клиентов\n",
    "\n",
    "\n",
    "- По столбцу partner: незначительное различие в пользу оставшихся клиентов\n",
    "\n",
    "\n",
    "- По столбцу promo_friends: незначительное различие в пользу оставшихся клиентов\n",
    "\n",
    "\n",
    "- По столбцу phone:сильных различий не наблюдается \n",
    "\n",
    "\n",
    "- По столбцу contract_period: значительное различие в пользу оставшихся клиентов\n",
    "\n",
    " \n",
    "- По столбцу group_visits: значительное различие в пользу оставшихся клиентов\n",
    "\n",
    "\n",
    "- По столбцу age: в среднем оставшиеся клиенты на 3 года старше чем ушедшие в отток\n",
    "\n",
    "\n",
    "- По столбцу avg_additional_charges_total: значительное различие в пользу оставшихся клиентов \n",
    "\n",
    "\n",
    "- По столбцу month_to_end_contract: значительное различие в пользу оставшихся клиентов \n",
    "\n",
    "\n",
    "- По столбцу lifetime: значительное различие в пользу оставшихся клиентов (логично)\n",
    "\n",
    "\n",
    "- По столбцу avg_class_frequency_total: значительное различие в пользу оставшихся клиентов \n",
    "\n",
    "\n",
    "- По столбцу avg_class_frequency_current_month: значительное различие в пользу оставшихся клиентов \n",
    "\n",
    "\n",
    "### Вывод по методу groupby()\n",
    "\n",
    "\n",
    "Оставшиеся клиенты старше в среднем на 3 года, то есть возраст играет роль, их метрики выше. Разницы в поле нет."
   ]
  },
  {
   "cell_type": "markdown",
   "metadata": {},
   "source": [
    "### Гистограмма количества пользователей целевой перменной (оттока)\n",
    "\n",
    "Посмотрим, как распределились клиенты по группам 'отток/остались' по общему количесту в процентном соотношении. Для этого построим гистограмму и изучим ее результаты."
   ]
  },
  {
   "cell_type": "code",
   "execution_count": 34,
   "metadata": {
    "scrolled": true
   },
   "outputs": [
    {
     "data": {
      "image/png": "[encoded data removed]",
      "text/plain": [
       "<Figure size 1080x288 with 1 Axes>"
      ]
     },
     "metadata": {
      "needs_background": "light"
     },
     "output_type": "display_data"
    }
   ],
   "source": [
    "# Цветовая палетка для парных значений\n",
    "sns.set_palette(\"Paired\")\n",
    "# Определяем размер графика\n",
    "fig = plt.figure(figsize=(15,4)\n",
    "                )\n",
    "# Создаем переменную с гистограммой\n",
    "ax_churn = sns.countplot(y = 'churn',\n",
    "                         data = gym_churn\n",
    "                        )\n",
    "# Задаем параметры сетки на графике\n",
    "ax_churn.grid(b=True,\n",
    "              color = 'grey',\n",
    "              linestyle = '-',\n",
    "              axis = 'x',\n",
    "              dashes = (1,5),\n",
    "              alpha = 4\n",
    "             )\n",
    "# Подписываем график\n",
    "ax_churn.set_title('Распределение оттока клиентов', \n",
    "                    fontsize = 20,\n",
    "                    fontweight = 'bold', \n",
    "                    color = 'darkgrey'\n",
    "                  )\n",
    "# Подписываем график\n",
    "ax_churn.set_xlabel('Кол-во клиентов')\n",
    "# Подписываем график\n",
    "ax_churn.set_ylabel('Вид клиентов')\n",
    "ax_churn.set_yticklabels(['Остались','Ушли в отток'],\n",
    "                         fontweight = 'bold'\n",
    "                        )\n",
    "# Выделяем переменную для подсчета метрик \n",
    "total = gym_churn.shape[0]\n",
    "# Создаем цикл для подсчета процентов\n",
    "for p in ax_churn.patches:\n",
    "        percentage = '{:.1f}%'.format(100 * p.get_width() / total)\n",
    "        x = p.get_x() + p.get_width()\n",
    "        y = p.get_y() + p.get_height() / 2\n",
    "        ax_churn.annotate(percentage,\n",
    "                          (x, y\n",
    "                          )\n",
    "                         )"
   ]
  },
  {
   "cell_type": "markdown",
   "metadata": {},
   "source": [
    "### Наблюдения по гистограмме количества пользователей целевой перменной (оттока)\n",
    "\n",
    "- Больше 1/4 клиентов (26,5%) попали в отток.\n",
    "\n",
    "\n",
    "- 73.5% остались с бизнесом\n",
    "\n",
    "\n",
    "Посмотрим на распределение признаков между клиентами по булевым признакам"
   ]
  },
  {
   "cell_type": "markdown",
   "metadata": {},
   "source": [
    "###  Гистограмма распределения булевых признаков для групп клиентов"
   ]
  },
  {
   "cell_type": "code",
   "execution_count": 47,
   "metadata": {},
   "outputs": [
    {
     "data": {
      "image/png": "[encoded data removed]",
      "text/plain": [
       "<Figure size 1080x504 with 6 Axes>"
      ]
     },
     "metadata": {
      "needs_background": "light"
     },
     "output_type": "display_data"
    },
    {
     "data": {
      "image/png": "[encoded data removed]",
      "text/plain": [
       "<Figure size 1080x792 with 6 Axes>"
      ]
     },
     "metadata": {
      "needs_background": "light"
     },
     "output_type": "display_data"
    }
   ],
   "source": [
    "# Задаем размер графика\n",
    "fig = plt.figure(figsize=(15, 7)\n",
    "                )\n",
    "# Создаем список с признаками, содержащими \n",
    "# bool переменные\n",
    "boolean_columns = ('gender', \n",
    "                   'near_location',\n",
    "                   'partner',\n",
    "                   'promo_friends',\n",
    "                   'phone', \n",
    "                   'group_visits',\n",
    "                  )\n",
    "# Подписываем график\n",
    "fig.suptitle('Распределение булевых признаков среди видов клиентов',\n",
    "             fontsize = 20,\n",
    "             fontweight = 'bold',\n",
    "             color = 'darkgrey'\n",
    "            )\n",
    "# Создаем цикл, который проходит по колонкам \n",
    "# и строит графики с заданными параметрами, \n",
    "# а также подписывает их\n",
    "for i, col in enumerate(boolean_columns):\n",
    "    ax = fig.add_subplot(5,\n",
    "                         2,\n",
    "                         i+1\n",
    "                        )\n",
    "    ax = sns.countplot(y = col,\n",
    "                       data = gym_churn,\n",
    "                       alpha = 0.8\n",
    "                      )\n",
    "    ax.grid(b=True,\n",
    "            color='grey',\n",
    "            linestyle='-',\n",
    "            axis='x',\n",
    "            dashes = (1,5),\n",
    "            alpha = 0.5\n",
    "           )\n",
    "    ax.set_title('Распределение признака {}'\n",
    "                 .format(col\n",
    "                        )\n",
    "                )\n",
    "    ax.set_xlabel('')\n",
    "    ax.set_ylabel('')\n",
    "    ax_churn.set_yticklabels(['Остались','Ушли в отток'],\n",
    "                         fontweight = 'bold'\n",
    "                        )\n",
    "\n",
    "    for p in ax.patches:\n",
    "        percentage = '{:.1f}%'.format(100 *\n",
    "                                      p.get_width()\n",
    "                                      / total\n",
    "                                     )\n",
    "        x = (p.get_x() + \n",
    "             p.get_width()\n",
    "            )\n",
    "        y = (p.get_y() + \n",
    "             p.get_height()\n",
    "             / 2)\n",
    "        ax.annotate(percentage,\n",
    "                    (x, y)\n",
    "                   )\n",
    "\n",
    "fig.tight_layout()\n",
    "sns.despine()\n",
    "plt.show()\n",
    "\n",
    "fig = plt.figure(figsize = (15, 11))\n",
    "\n",
    "for i, column in enumerate(boolean_columns):\n",
    "    ax_quan=fig.add_subplot(4,2,i+1)\n",
    "    sns.histplot(x = column,\n",
    "                 hue = 'churn',\n",
    "                 stat=\"density\",\n",
    "                  common_norm=False,\n",
    "                 data = gym_churn,\n",
    "                 kde = True\n",
    "                )\n",
    "    ax.set_yticklabels(['Остались','Ушли в отток'],\n",
    "                       fontweight = 'bold'\n",
    "                      )\n",
    "    plt.title('Распределение признаков в разрезе оттока' \n",
    "              + column,\n",
    "              fontweight = 'bold') \n",
    "    plt.xlabel('')\n",
    "    plt.ylabel('Кол-во')\n",
    "    plt.subplots_adjust(hspace = 0.3)\n",
    "plt.show()"
   ]
  },
  {
   "cell_type": "markdown",
   "metadata": {},
   "source": [
    "### Наблюдения по гистограмме распределения признаков для тех, кто ушёл (отток) и тех, кто остался (не попали в отток)\n",
    "\n",
    "- к выводам по groupby выше добавились процентные значения \n",
    "\n",
    "\n",
    "- обратим внимание на интересную закономерность между графиками 'Распределение оттока клиентов' и 'Распределение признака promote_friends': визуально они очень похожи\n",
    "\n",
    "\n",
    "Посмотрим на то, как последные признаки (churn, promote_friends) сочетаются между собой "
   ]
  },
  {
   "cell_type": "markdown",
   "metadata": {},
   "source": [
    "### Интересное наблюдение зависимости между распределением promo_friends и распределением оттока"
   ]
  },
  {
   "cell_type": "markdown",
   "metadata": {},
   "source": [
    "Два графика похожи между собой посмотрим сколько корпоративных клиентов среди приглашенных друзьями и наоборот"
   ]
  },
  {
   "cell_type": "code",
   "execution_count": 44,
   "metadata": {},
   "outputs": [
    {
     "data": {
      "text/html": [
       "<div>\n",
       "<style scoped>\n",
       "    .dataframe tbody tr th:only-of-type {\n",
       "        vertical-align: middle;\n",
       "    }\n",
       "\n",
       "    .dataframe tbody tr th {\n",
       "        vertical-align: top;\n",
       "    }\n",
       "\n",
       "    .dataframe thead th {\n",
       "        text-align: right;\n",
       "    }\n",
       "</style>\n",
       "<table border=\"1\" class=\"dataframe\">\n",
       "  <thead>\n",
       "    <tr style=\"text-align: right;\">\n",
       "      <th></th>\n",
       "      <th>promo_friends</th>\n",
       "      <th>partner</th>\n",
       "      <th>gender</th>\n",
       "    </tr>\n",
       "  </thead>\n",
       "  <tbody>\n",
       "    <tr>\n",
       "      <th>0</th>\n",
       "      <td>0</td>\n",
       "      <td>0</td>\n",
       "      <td>1837</td>\n",
       "    </tr>\n",
       "    <tr>\n",
       "      <th>1</th>\n",
       "      <td>0</td>\n",
       "      <td>1</td>\n",
       "      <td>929</td>\n",
       "    </tr>\n",
       "    <tr>\n",
       "      <th>2</th>\n",
       "      <td>1</td>\n",
       "      <td>0</td>\n",
       "      <td>216</td>\n",
       "    </tr>\n",
       "    <tr>\n",
       "      <th>3</th>\n",
       "      <td>1</td>\n",
       "      <td>1</td>\n",
       "      <td>1018</td>\n",
       "    </tr>\n",
       "  </tbody>\n",
       "</table>\n",
       "</div>"
      ],
      "text/plain": [
       "   promo_friends  partner  gender\n",
       "0              0        0    1837\n",
       "1              0        1     929\n",
       "2              1        0     216\n",
       "3              1        1    1018"
      ]
     },
     "execution_count": 44,
     "metadata": {},
     "output_type": "execute_result"
    }
   ],
   "source": [
    "# Группируем по признакам и считаем кол-во клиентов\n",
    "gym_churn.groupby(['promo_friends',\n",
    "                   'partner'],\n",
    "                  as_index=False)['gender'].count()"
   ]
  },
  {
   "cell_type": "markdown",
   "metadata": {},
   "source": [
    "### Выводы по зависимости между распределением promo_friends и распределением оттока\n",
    "\n",
    "- Существует 1018 клиетов, которых пригласили друзья, а также они являются членами партнерской программы.\n",
    "\n",
    "Ситуация типичная, ведь часто сотрудники партнерской компании советуют друг другу фитнес центры на которые им выделяется скидка. Часто система приглашения друзей создает персональные скидки и выгодные условия для владельцев абонемента за каждого приглашенного друга.\n",
    "\n",
    "\n",
    "Посмотрим как распределяются качественные признаки среди видов клиентов"
   ]
  },
  {
   "cell_type": "markdown",
   "metadata": {},
   "source": [
    "### Гистограммы сравнения качественных признаков по оставшимся и ушедшим а также 'lifetime', 'month_to_end_contract', 'contract_period'"
   ]
  },
  {
   "cell_type": "code",
   "execution_count": 46,
   "metadata": {},
   "outputs": [
    {
     "data": {
      "image/png": "[encoded data removed]",
      "text/plain": [
       "<Figure size 1152x864 with 7 Axes>"
      ]
     },
     "metadata": {
      "needs_background": "light"
     },
     "output_type": "display_data"
    }
   ],
   "source": [
    "# Столбцы с качественными признаками\n",
    "quantitative_variables = ['age', \n",
    "                          'avg_additional_charges_total', \n",
    "                          'avg_class_frequency_total', \n",
    "                          'avg_class_frequency_current_month',\n",
    "                         'lifetime',\n",
    "                         'month_to_end_contract',\n",
    "                          'contract_period'\n",
    "                         ]\n",
    "# Задаем размер графиков\n",
    "fig = plt.figure(figsize = (16,12)\n",
    "              )\n",
    "# Cоздаем цикл для построения графиков \n",
    "for i, column in enumerate(quantitative_variables):\n",
    "    ax_quan=fig.add_subplot(4,2,i+1)\n",
    "    sns.histplot(x = column,\n",
    "                 stat=\"density\",\n",
    "                 hue = 'churn',\n",
    "                 common_norm=False, \n",
    "                 data = gym_churn,\n",
    "                 kde = True\n",
    "                )\n",
    "    ax.set_yticklabels(['Остались','Ушли в отток'],\n",
    "                       fontweight = 'bold'\n",
    "                      )\n",
    "    plt.title('Распределение признака ' \n",
    "              + column,\n",
    "              fontweight = 'bold') \n",
    "    plt.xlabel('')\n",
    "    plt.ylabel('Кол-во')\n",
    "    plt.subplots_adjust(hspace = 0.3)\n",
    "plt.show()"
   ]
  },
  {
   "cell_type": "markdown",
   "metadata": {},
   "source": [
    "###  Наблюдения по гистограммам\n",
    "\n",
    "-  Признак age распределен нормально для обеих типов клиентов\n",
    "\n",
    "\n",
    "- Распределение признаков avg_class_frequency_total, avg_class_frequency_current_month близко к нормальному\n",
    "\n",
    "\n",
    "- Признак avg_class_frequency_total  отклоняется от нормального распределения \n",
    "\n",
    "\n",
    "- Большинство клиентов уходит в первый месяц по признаку month_to_end_contract\n",
    "\n",
    "\n",
    "- lifetime у ушедших клиентов короткий\n",
    "\n",
    "\n",
    "- по признаку contract_period у ушедших клиентов контракт чаще всего подписан на месяц"
   ]
  },
  {
   "cell_type": "markdown",
   "metadata": {},
   "source": [
    "### Матрица корреляционных связей между признаками"
   ]
  },
  {
   "cell_type": "markdown",
   "metadata": {},
   "source": [
    "Посмотрим, как признаки коррелируют между собой. Построим матрицу корреляционных связей и сделаем выводы на ее основании."
   ]
  },
  {
   "cell_type": "code",
   "execution_count": 52,
   "metadata": {},
   "outputs": [
    {
     "data": {
      "image/png": "[encoded data removed]",
      "text/plain": [
       "<Figure size 864x432 with 2 Axes>"
      ]
     },
     "metadata": {
      "needs_background": "light"
     },
     "output_type": "display_data"
    }
   ],
   "source": [
    "# Определяяем размер матрицы\n",
    "plt.figure(figsize=(12, 6)\n",
    "          ) \n",
    "# Задаем параметры корреляции\n",
    "matrix = np.triu(gym_churn\n",
    "                 .corr('spearman')\n",
    "                )\n",
    "# Строим график, задаем параметры отображения данных\n",
    "sns.heatmap(gym_churn.corr('spearman')\n",
    "            .iloc[1:, :-1],\n",
    "            mask = matrix[1:, :-1],\n",
    "            annot = True, \n",
    "            cmap = 'vlag',\n",
    "            square = False, \n",
    "            linewidths = 6, \n",
    "            linecolor ='white',\n",
    "            vmin = -1,\n",
    "            vmax = 1,\n",
    "            center = 0,\n",
    "            fmt = '.2f'\n",
    "           )\n",
    "# Подписываем график\n",
    "plt.title('Корреляционная матрица\\n',\n",
    "             fontsize = 20,\n",
    "             fontweight = 'bold',\n",
    "             color = 'darkgrey'\n",
    "            )\n",
    "# Выводим график\n",
    "plt.show()"
   ]
  },
  {
   "cell_type": "markdown",
   "metadata": {},
   "source": [
    "### Наблюдения по матрице корреляционных связей между признаками\n",
    "\n",
    "- Отток пользователей обратно коррелирует со средней частотой посещений в неделю за пред. месяц, с кол-во месяцев первого обращения, возраст. \n",
    "\n",
    "\n",
    "- Наибольшая корреляция по признакам длительности абонемента и среднего посещения, это логично\n",
    "\n",
    "\n",
    "- Прямая корреляция наблюдается между средней частотой посещений в неделю за все время с начала действия абонемента и средней частотой посещений в неделю за предыдущий месяц (0,95).\n",
    "\n",
    "\n",
    "- Средняя отрицательная корреляция (-0,583) наблюдается между оттоком клиентов и временем с момента первого обращения в фитнес-центр. \n",
    "\n",
    "\n",
    "- Сильная корреляция наблюдается между длительностью текущего действующего абонемента и сроком до окончания текущего действующего абонемента (0,99).\n",
    "\n",
    "\n",
    "- Чтобы исключить частично мультиколлинеарность один из пары сильно коррелирующих признаков нужно удалить или применить регуляризацию.\n"
   ]
  },
  {
   "cell_type": "markdown",
   "metadata": {},
   "source": [
    "### Вывод по EDA\n",
    "\n",
    "- Больше 1/4 клиентов (26,5%) попали в отток.\n",
    "\n",
    " \n",
    "- Существует 1018 клиетов, которых пригласили друзья, а также они являются членами партнерской программы.\n",
    "\n",
    "Ситуация типичная, ведь часто сотрудники партнерской компании советуют друг другу фитнес центры на которые им выделяется скидка. Часто система приглашения друзей создает персональные скидки и выгодные условия для владельцев абонемента за каждого приглашенного друга.\n",
    "\n",
    "\n",
    "- Большинство клиентов уходит в первый месяц по признаку month_to_end_contract\n",
    "\n",
    "\n",
    "- Отток пользователей обратно коррелирует со средней частотой посещений в неделю за пред. месяц, с кол-во месяцев первого обращения, возраст. \n",
    "\n",
    "\n",
    "- Наибольшая корреляция по признакам длительности абонемента и среднего посещения, это логично\n",
    "\n",
    "\n",
    "- Чтобы исключить частично мультиколлинеарность один из пары сильно коррелирующих признаков нужно удалить или применить регуляризацию.\n"
   ]
  },
  {
   "cell_type": "markdown",
   "metadata": {},
   "source": [
    "## Построение модели прогнозирования оттока клиентов"
   ]
  },
  {
   "cell_type": "markdown",
   "metadata": {},
   "source": [
    "Построим модели бинарной классификации клиентов. Целевым прищнаком будет являться отток клиентов в след месяце\n",
    "\n",
    "\n",
    "Для этого будем использовать:\n",
    "\n",
    "\n",
    "- модель логистической регрессии - Logistic Regression\n",
    "\n",
    "\n",
    "- модель случайного леса - Random Forest Classifier\n",
    "\n",
    "\n",
    "- Градиентный бустинг GradientBoostingClassifier"
   ]
  },
  {
   "cell_type": "markdown",
   "metadata": {},
   "source": [
    "### Разделим данные на признаки и целевую переменную"
   ]
  },
  {
   "cell_type": "code",
   "execution_count": 54,
   "metadata": {},
   "outputs": [],
   "source": [
    "X = gym_churn.drop('churn', axis =1)\n",
    "y = gym_churn['churn']"
   ]
  },
  {
   "cell_type": "markdown",
   "metadata": {},
   "source": [
    "### Разделим данные на обучающую и валидационную выборку "
   ]
  },
  {
   "cell_type": "markdown",
   "metadata": {},
   "source": [
    "Разделяем модели 20/80 на обучающую и валидационную функцией train_test_split()."
   ]
  },
  {
   "cell_type": "code",
   "execution_count": 55,
   "metadata": {},
   "outputs": [],
   "source": [
    "X_train, X_test, y_train, y_test = train_test_split(X,\n",
    "                                                    y,\n",
    "                                                    test_size = 0.2,\n",
    "                                                    stratify = y,\n",
    "                                                    random_state = 0\n",
    "                                                   )"
   ]
  },
  {
   "cell_type": "markdown",
   "metadata": {},
   "source": [
    "### Модель LogisticRegression и оценка ее результатов "
   ]
  },
  {
   "cell_type": "code",
   "execution_count": 56,
   "metadata": {},
   "outputs": [
    {
     "name": "stdout",
     "output_type": "stream",
     "text": [
      "Accuracy: 0.94\n",
      "Precision: 0.89\n",
      "Recall: 0.86\n",
      "F1: 0.88\n",
      "ROC_AUC: 0.98\n"
     ]
    }
   ],
   "source": [
    "# Создаем модель\n",
    "model_lr = LogisticRegression(solver='liblinear', \n",
    "                              random_state=0, \n",
    "                              penalty='l1',\n",
    "                              C=1.0\n",
    "                             )\n",
    "# Обучаем\n",
    "model_lr.fit(X_train, y_train)\n",
    "# Предполагаем\n",
    "predictions_lr = model_lr.predict(X_test)\n",
    "probabilities_lr = model_lr.predict_proba(X_test)[:,1]\n",
    "# Выводим метрики\n",
    "print('Accuracy: {:.2f}' .format(accuracy_score(y_test,\n",
    "                                                predictions_lr)\n",
    "                                )\n",
    "     )\n",
    "print('Precision: {:.2f}' .format(precision_score(y_test,\n",
    "                                                  predictions_lr)\n",
    "                                 )\n",
    "     )\n",
    "print('Recall: {:.2f}' .format(recall_score(y_test,\n",
    "                                            predictions_lr)\n",
    "                              )\n",
    "     )\n",
    "print('F1: {:.2f}' .format(f1_score(y_test,\n",
    "                                    predictions_lr)\n",
    "                          )\n",
    "     )\n",
    "print('ROC_AUC: {:.2f}'.format(roc_auc_score(y_test,\n",
    "                                             probabilities_lr)\n",
    "                              )\n",
    "     )"
   ]
  },
  {
   "cell_type": "markdown",
   "metadata": {},
   "source": [
    "### Модель RandomForestClassifier и оценка ее результатов "
   ]
  },
  {
   "cell_type": "code",
   "execution_count": 57,
   "metadata": {},
   "outputs": [
    {
     "name": "stdout",
     "output_type": "stream",
     "text": [
      "Accuracy: 0.92\n",
      "Precision: 0.88\n",
      "Recall: 0.83\n",
      "F1: 0.85\n",
      "ROC_AUC: 0.97\n"
     ]
    }
   ],
   "source": [
    "# Создаем модель\n",
    "model_rf = RandomForestClassifier(#n_estimators = 100,\n",
    "                                  random_state = 0 \n",
    "                                 )\n",
    "# Обучаем\n",
    "model_rf.fit(X_train, y_train)\n",
    "# Предполагаем\n",
    "predictions_rf = model_rf.predict(X_test)\n",
    "probabilities_rf = model_rf.predict_proba(X_test)[:,1]\n",
    "# Выводим метрики\n",
    "print('Accuracy: {:.2f}' .format(accuracy_score(y_test,\n",
    "                                                predictions_rf)\n",
    "                                )\n",
    "     )\n",
    "print('Precision: {:.2f}' .format(precision_score(y_test,\n",
    "                                                  predictions_rf)\n",
    "                                 )\n",
    "     )\n",
    "print('Recall: {:.2f}' .format(recall_score(y_test,\n",
    "                                            predictions_rf)\n",
    "                              )\n",
    "     )\n",
    "print('F1: {:.2f}' .format(f1_score(y_test,\n",
    "                                    predictions_rf)\n",
    "                          )\n",
    "     )\n",
    "print('ROC_AUC: {:.2f}'.format(roc_auc_score(y_test,\n",
    "                                             probabilities_rf)\n",
    "                              )\n",
    "     )"
   ]
  },
  {
   "cell_type": "markdown",
   "metadata": {},
   "source": [
    "### Модель GradientBoostingClassifier и оценка ее результатов "
   ]
  },
  {
   "cell_type": "code",
   "execution_count": 59,
   "metadata": {},
   "outputs": [
    {
     "name": "stdout",
     "output_type": "stream",
     "text": [
      "Accuracy: 0.95\n",
      "Precision: 0.94\n",
      "Recall: 0.86\n",
      "F1: 0.90\n",
      "ROC_AUC: 0.99\n"
     ]
    }
   ],
   "source": [
    "# Создаем модель и устанавливаем порог 0.3\n",
    "model_gb = GradientBoostingClassifier(learning_rate=0.3,\n",
    "                                      random_state = 0 \n",
    "                                     )\n",
    "# Обучаем\n",
    "model_gb.fit(X_train, y_train)\n",
    "# Предполагаем\n",
    "predictions_gb = model_gb.predict(X_test)\n",
    "probabilities_gb = model_gb.predict_proba(X_test)[:,1]\n",
    "# Выводим метрики\n",
    "print('Accuracy: {:.2f}' .format(accuracy_score(y_test,\n",
    "                                                predictions_gb)\n",
    "                                )\n",
    "     )\n",
    "print('Precision: {:.2f}' .format(precision_score(y_test,\n",
    "                                                  predictions_gb)\n",
    "                                 )\n",
    "     )\n",
    "print('Recall: {:.2f}' .format(recall_score(y_test,\n",
    "                                            predictions_gb)\n",
    "                              )\n",
    "     )\n",
    "print('F1: {:.2f}' .format(f1_score(y_test,\n",
    "                                    predictions_gb)\n",
    "                          )\n",
    "     )\n",
    "print('ROC_AUC: {:.2f}'.format(roc_auc_score(y_test,\n",
    "                                             probabilities_gb)\n",
    "                              )\n",
    "     )"
   ]
  },
  {
   "cell_type": "markdown",
   "metadata": {},
   "source": [
    "### Построим график ROC"
   ]
  },
  {
   "cell_type": "code",
   "execution_count": 60,
   "metadata": {
    "scrolled": true
   },
   "outputs": [
    {
     "data": {
      "image/png": "[encoded data removed]",
      "text/plain": [
       "<Figure size 432x288 with 1 Axes>"
      ]
     },
     "metadata": {
      "needs_background": "light"
     },
     "output_type": "display_data"
    }
   ],
   "source": [
    "plt.figure(0).clf()\n",
    "fpr, tpr, thresh = metrics.roc_curve(y_test,\n",
    "                                     probabilities_lr)\n",
    "plt.plot(fpr,\n",
    "         tpr,\n",
    "         label = \"LogisticRegression\")\n",
    "fpr, tpr, thresh = metrics.roc_curve(y_test,\n",
    "                                     probabilities_rf)\n",
    "plt.plot(fpr,\n",
    "         tpr,\n",
    "         label = \"RandomForestClassifier\")\n",
    "fpr, tpr, thresh = metrics.roc_curve(y_test,\n",
    "                                     probabilities_gb)\n",
    "plt.plot(fpr,\n",
    "         tpr,\n",
    "         label = \"GradientBoostingClassifier\")\n",
    "plt.xlabel('False Positive Rate')\n",
    "plt.ylabel('True Positive Rate')\n",
    "plt.title('ROC_AUC',\n",
    "          fontsize = 20,\n",
    "                    fontweight = 'bold', \n",
    "                    color = 'darkgrey'\n",
    "                  )\n",
    "plt.legend(loc = 0)\n",
    "plt.show()"
   ]
  },
  {
   "cell_type": "markdown",
   "metadata": {},
   "source": [
    "### Наблюдения \n",
    "\n",
    "Наилучшие показатели у модели GradientBoostingClassifier\n",
    "\n",
    "- Accuracy: 0.95\n",
    "- Precision: 0.94\n",
    "- Recall: 0.86\n",
    "- F1: 0.90\n",
    "- ROC_AUC: 0.99\n",
    "\n",
    "На втором месте показатели модели логической регресии LogisticRegression"
   ]
  },
  {
   "cell_type": "markdown",
   "metadata": {},
   "source": [
    "Посмотрим на фичи"
   ]
  },
  {
   "cell_type": "markdown",
   "metadata": {},
   "source": [
    "### GradientBoostingClassifier фичи\n",
    "\n"
   ]
  },
  {
   "cell_type": "code",
   "execution_count": 61,
   "metadata": {},
   "outputs": [
    {
     "data": {
      "text/html": [
       "<div>\n",
       "<style scoped>\n",
       "    .dataframe tbody tr th:only-of-type {\n",
       "        vertical-align: middle;\n",
       "    }\n",
       "\n",
       "    .dataframe tbody tr th {\n",
       "        vertical-align: top;\n",
       "    }\n",
       "\n",
       "    .dataframe thead th {\n",
       "        text-align: right;\n",
       "    }\n",
       "</style>\n",
       "<table border=\"1\" class=\"dataframe\">\n",
       "  <thead>\n",
       "    <tr style=\"text-align: right;\">\n",
       "      <th></th>\n",
       "      <th>feature</th>\n",
       "      <th>coeff</th>\n",
       "    </tr>\n",
       "  </thead>\n",
       "  <tbody>\n",
       "    <tr>\n",
       "      <th>0</th>\n",
       "      <td>lifetime</td>\n",
       "      <td>0.42</td>\n",
       "    </tr>\n",
       "    <tr>\n",
       "      <th>1</th>\n",
       "      <td>avg_class_frequency_current_month</td>\n",
       "      <td>0.16</td>\n",
       "    </tr>\n",
       "    <tr>\n",
       "      <th>2</th>\n",
       "      <td>avg_class_frequency_total</td>\n",
       "      <td>0.15</td>\n",
       "    </tr>\n",
       "    <tr>\n",
       "      <th>3</th>\n",
       "      <td>age</td>\n",
       "      <td>0.10</td>\n",
       "    </tr>\n",
       "    <tr>\n",
       "      <th>4</th>\n",
       "      <td>month_to_end_contract</td>\n",
       "      <td>0.08</td>\n",
       "    </tr>\n",
       "    <tr>\n",
       "      <th>5</th>\n",
       "      <td>contract_period</td>\n",
       "      <td>0.04</td>\n",
       "    </tr>\n",
       "    <tr>\n",
       "      <th>6</th>\n",
       "      <td>avg_additional_charges_total</td>\n",
       "      <td>0.03</td>\n",
       "    </tr>\n",
       "    <tr>\n",
       "      <th>7</th>\n",
       "      <td>group_visits</td>\n",
       "      <td>0.01</td>\n",
       "    </tr>\n",
       "    <tr>\n",
       "      <th>8</th>\n",
       "      <td>gender</td>\n",
       "      <td>0.00</td>\n",
       "    </tr>\n",
       "    <tr>\n",
       "      <th>9</th>\n",
       "      <td>promo_friends</td>\n",
       "      <td>0.00</td>\n",
       "    </tr>\n",
       "    <tr>\n",
       "      <th>10</th>\n",
       "      <td>near_location</td>\n",
       "      <td>0.00</td>\n",
       "    </tr>\n",
       "    <tr>\n",
       "      <th>11</th>\n",
       "      <td>phone</td>\n",
       "      <td>0.00</td>\n",
       "    </tr>\n",
       "    <tr>\n",
       "      <th>12</th>\n",
       "      <td>partner</td>\n",
       "      <td>0.00</td>\n",
       "    </tr>\n",
       "  </tbody>\n",
       "</table>\n",
       "</div>"
      ],
      "text/plain": [
       "                              feature  coeff\n",
       "0                            lifetime   0.42\n",
       "1   avg_class_frequency_current_month   0.16\n",
       "2           avg_class_frequency_total   0.15\n",
       "3                                 age   0.10\n",
       "4               month_to_end_contract   0.08\n",
       "5                     contract_period   0.04\n",
       "6        avg_additional_charges_total   0.03\n",
       "7                        group_visits   0.01\n",
       "8                              gender   0.00\n",
       "9                       promo_friends   0.00\n",
       "10                      near_location   0.00\n",
       "11                              phone   0.00\n",
       "12                            partner   0.00"
      ]
     },
     "execution_count": 61,
     "metadata": {},
     "output_type": "execute_result"
    }
   ],
   "source": [
    "# Форматирование чисел\n",
    "pd.set_option('display.float_format', lambda x: '%.2f' % x)\n",
    "# Создаем фрейм\n",
    "gb_features = pd.DataFrame({\n",
    "            'feature' : list(X_train.columns),\n",
    "            'coeff' : model_gb.feature_importances_\n",
    "        }).sort_values('coeff', ascending=False).reset_index(drop=True)\n",
    "gb_features"
   ]
  },
  {
   "cell_type": "markdown",
   "metadata": {},
   "source": [
    "### LogisticRegression фичи"
   ]
  },
  {
   "cell_type": "code",
   "execution_count": 62,
   "metadata": {},
   "outputs": [
    {
     "data": {
      "text/html": [
       "<div>\n",
       "<style scoped>\n",
       "    .dataframe tbody tr th:only-of-type {\n",
       "        vertical-align: middle;\n",
       "    }\n",
       "\n",
       "    .dataframe tbody tr th {\n",
       "        vertical-align: top;\n",
       "    }\n",
       "\n",
       "    .dataframe thead th {\n",
       "        text-align: right;\n",
       "    }\n",
       "</style>\n",
       "<table border=\"1\" class=\"dataframe\">\n",
       "  <thead>\n",
       "    <tr style=\"text-align: right;\">\n",
       "      <th></th>\n",
       "      <th>feature</th>\n",
       "      <th>coeff</th>\n",
       "    </tr>\n",
       "  </thead>\n",
       "  <tbody>\n",
       "    <tr>\n",
       "      <th>0</th>\n",
       "      <td>avg_class_frequency_total</td>\n",
       "      <td>3.62</td>\n",
       "    </tr>\n",
       "    <tr>\n",
       "      <th>1</th>\n",
       "      <td>gender</td>\n",
       "      <td>0.00</td>\n",
       "    </tr>\n",
       "    <tr>\n",
       "      <th>2</th>\n",
       "      <td>phone</td>\n",
       "      <td>0.00</td>\n",
       "    </tr>\n",
       "    <tr>\n",
       "      <th>3</th>\n",
       "      <td>avg_additional_charges_total</td>\n",
       "      <td>-0.01</td>\n",
       "    </tr>\n",
       "    <tr>\n",
       "      <th>4</th>\n",
       "      <td>near_location</td>\n",
       "      <td>-0.08</td>\n",
       "    </tr>\n",
       "    <tr>\n",
       "      <th>5</th>\n",
       "      <td>partner</td>\n",
       "      <td>-0.09</td>\n",
       "    </tr>\n",
       "    <tr>\n",
       "      <th>6</th>\n",
       "      <td>month_to_end_contract</td>\n",
       "      <td>-0.14</td>\n",
       "    </tr>\n",
       "    <tr>\n",
       "      <th>7</th>\n",
       "      <td>contract_period</td>\n",
       "      <td>-0.17</td>\n",
       "    </tr>\n",
       "    <tr>\n",
       "      <th>8</th>\n",
       "      <td>promo_friends</td>\n",
       "      <td>-0.31</td>\n",
       "    </tr>\n",
       "    <tr>\n",
       "      <th>9</th>\n",
       "      <td>age</td>\n",
       "      <td>-0.34</td>\n",
       "    </tr>\n",
       "    <tr>\n",
       "      <th>10</th>\n",
       "      <td>group_visits</td>\n",
       "      <td>-0.81</td>\n",
       "    </tr>\n",
       "    <tr>\n",
       "      <th>11</th>\n",
       "      <td>lifetime</td>\n",
       "      <td>-1.01</td>\n",
       "    </tr>\n",
       "    <tr>\n",
       "      <th>12</th>\n",
       "      <td>avg_class_frequency_current_month</td>\n",
       "      <td>-4.40</td>\n",
       "    </tr>\n",
       "  </tbody>\n",
       "</table>\n",
       "</div>"
      ],
      "text/plain": [
       "                              feature  coeff\n",
       "0           avg_class_frequency_total   3.62\n",
       "1                              gender   0.00\n",
       "2                               phone   0.00\n",
       "3        avg_additional_charges_total  -0.01\n",
       "4                       near_location  -0.08\n",
       "5                             partner  -0.09\n",
       "6               month_to_end_contract  -0.14\n",
       "7                     contract_period  -0.17\n",
       "8                       promo_friends  -0.31\n",
       "9                                 age  -0.34\n",
       "10                       group_visits  -0.81\n",
       "11                           lifetime  -1.01\n",
       "12  avg_class_frequency_current_month  -4.40"
      ]
     },
     "execution_count": 62,
     "metadata": {},
     "output_type": "execute_result"
    }
   ],
   "source": [
    "# Создаем фрейм\n",
    "lr_features = pd.DataFrame({\n",
    "    'feature': list(X_train.columns)\n",
    "    , 'coeff': model_lr.coef_[0]\n",
    "}).sort_values(by='coeff', ascending=False).reset_index(drop = True)\n",
    "lr_features"
   ]
  },
  {
   "cell_type": "code",
   "execution_count": 63,
   "metadata": {},
   "outputs": [
    {
     "data": {
      "image/png": "[encoded data removed]",
      "text/plain": [
       "<Figure size 432x288 with 1 Axes>"
      ]
     },
     "metadata": {
      "needs_background": "light"
     },
     "output_type": "display_data"
    }
   ],
   "source": [
    "### КОД РЕВЬЮЕРА\n",
    "\n",
    "pd.Series(model_rf.feature_importances_,index=X.columns).sort_values().plot(kind=\"barh\");"
   ]
  },
  {
   "cell_type": "markdown",
   "metadata": {},
   "source": [
    "### Вывод по построению модели прогнозирования оттока клиентов\n",
    "\n",
    "- По показателям лучшая модель - GradientBoostingClassifier\n",
    "\n",
    "\n",
    "Ее показатели по метрикам: \n",
    "\n",
    "- Accuracy: 0.95\n",
    "- Precision: 0.94\n",
    "- Recall: 0.86\n",
    "- F1: 0.90\n",
    "- ROC_AUC: 0.99\n",
    "\n",
    "По топ - 3 фич:\n",
    "\n",
    "- lifetime\n",
    "- avg_class_frequency_current_month\n",
    "- avg_class_frequency_total\n",
    "\n",
    "\n",
    "Влияние лайфтайма на отток логично - чем больше человек ходит, тем больше у него мотивации\n",
    "\n",
    "\n",
    "\n",
    "\n",
    "\n",
    "Чаще всего уходят молодые пользователи, это может быть обусловленно нестабильностью доходов, отсутсвием мотивации. \n",
    "\n",
    "\n",
    "Влияние лайфтайма на отток логично - чем больше человек ходит, тем больше"
   ]
  },
  {
   "cell_type": "markdown",
   "metadata": {},
   "source": [
    "## Кластеризация клиентов"
   ]
  },
  {
   "cell_type": "markdown",
   "metadata": {},
   "source": [
    "### Стандартизируем данные"
   ]
  },
  {
   "cell_type": "code",
   "execution_count": 67,
   "metadata": {},
   "outputs": [],
   "source": [
    "# В переменной сохраняем метод\n",
    "scaler = StandardScaler()\n",
    "# Стандартизируем\n",
    "X_sc = scaler.fit_transform(gym_churn.drop(columns = \n",
    "                                           ['churn']\n",
    "                                          )\n",
    "                           )"
   ]
  },
  {
   "cell_type": "markdown",
   "metadata": {},
   "source": [
    "### Строим дендограмму матрицы расстояний"
   ]
  },
  {
   "cell_type": "code",
   "execution_count": 68,
   "metadata": {
    "scrolled": false
   },
   "outputs": [
    {
     "data": {
      "image/png": "[encoded data removed]",
      "text/plain": [
       "<Figure size 1440x720 with 1 Axes>"
      ]
     },
     "metadata": {
      "needs_background": "light"
     },
     "output_type": "display_data"
    }
   ],
   "source": [
    "# Передаем значения методу linkage\n",
    "linked = linkage(X_sc, \n",
    "                 method = 'ward')\n",
    "#Построение дендрограмы\n",
    "plt.figure(figsize=(20, 10))  \n",
    "dendrogram(linked,\n",
    "           truncate_mode = 'lastp',\n",
    "           orientation = 'top')\n",
    "plt.title('Дендрограмма иерархической кластеризации',\n",
    "          fontsize = 20,\n",
    "                    fontweight = 'bold', \n",
    "                    color = 'darkgrey'\n",
    "                  )\n",
    "plt.xlabel(\"Размер\")\n",
    "plt.ylabel(\"Расстояние\")\n",
    "plt.show() "
   ]
  },
  {
   "cell_type": "markdown",
   "metadata": {},
   "source": [
    "### Наблюдения по дендограмме\n",
    "\n",
    "\n",
    "- Наблюдаются 4 кластера, последний стоит разделить на 2 т.к. он большой"
   ]
  },
  {
   "cell_type": "markdown",
   "metadata": {},
   "source": [
    "### Выделяем кластеры и обучаем модель кластеризации на основании алгоритма K-means"
   ]
  },
  {
   "cell_type": "code",
   "execution_count": 69,
   "metadata": {
    "scrolled": false
   },
   "outputs": [
    {
     "data": {
      "text/html": [
       "<div>\n",
       "<style scoped>\n",
       "    .dataframe tbody tr th:only-of-type {\n",
       "        vertical-align: middle;\n",
       "    }\n",
       "\n",
       "    .dataframe tbody tr th {\n",
       "        vertical-align: top;\n",
       "    }\n",
       "\n",
       "    .dataframe thead th {\n",
       "        text-align: right;\n",
       "    }\n",
       "</style>\n",
       "<table border=\"1\" class=\"dataframe\">\n",
       "  <thead>\n",
       "    <tr style=\"text-align: right;\">\n",
       "      <th>clusters_km</th>\n",
       "      <th>кластер 1</th>\n",
       "      <th>кластер 2</th>\n",
       "      <th>кластер 3</th>\n",
       "      <th>кластер 4</th>\n",
       "      <th>кластер 5</th>\n",
       "    </tr>\n",
       "  </thead>\n",
       "  <tbody>\n",
       "    <tr>\n",
       "      <th>age</th>\n",
       "      <td>29.98</td>\n",
       "      <td>28.17</td>\n",
       "      <td>28.48</td>\n",
       "      <td>29.30</td>\n",
       "      <td>30.12</td>\n",
       "    </tr>\n",
       "    <tr>\n",
       "      <th>avg_additional_charges_total</th>\n",
       "      <td>160.76</td>\n",
       "      <td>131.62</td>\n",
       "      <td>135.46</td>\n",
       "      <td>143.96</td>\n",
       "      <td>161.66</td>\n",
       "    </tr>\n",
       "    <tr>\n",
       "      <th>avg_class_frequency_current_month</th>\n",
       "      <td>1.98</td>\n",
       "      <td>1.01</td>\n",
       "      <td>1.48</td>\n",
       "      <td>1.72</td>\n",
       "      <td>2.85</td>\n",
       "    </tr>\n",
       "    <tr>\n",
       "      <th>avg_class_frequency_total</th>\n",
       "      <td>1.98</td>\n",
       "      <td>1.25</td>\n",
       "      <td>1.66</td>\n",
       "      <td>1.85</td>\n",
       "      <td>2.85</td>\n",
       "    </tr>\n",
       "    <tr>\n",
       "      <th>contract_period</th>\n",
       "      <td>10.89</td>\n",
       "      <td>1.95</td>\n",
       "      <td>2.35</td>\n",
       "      <td>4.79</td>\n",
       "      <td>2.67</td>\n",
       "    </tr>\n",
       "    <tr>\n",
       "      <th>gender</th>\n",
       "      <td>0.50</td>\n",
       "      <td>0.49</td>\n",
       "      <td>0.49</td>\n",
       "      <td>0.52</td>\n",
       "      <td>0.56</td>\n",
       "    </tr>\n",
       "    <tr>\n",
       "      <th>group_visits</th>\n",
       "      <td>0.54</td>\n",
       "      <td>0.34</td>\n",
       "      <td>0.22</td>\n",
       "      <td>0.43</td>\n",
       "      <td>0.47</td>\n",
       "    </tr>\n",
       "    <tr>\n",
       "      <th>lifetime</th>\n",
       "      <td>4.74</td>\n",
       "      <td>2.44</td>\n",
       "      <td>2.81</td>\n",
       "      <td>3.92</td>\n",
       "      <td>4.90</td>\n",
       "    </tr>\n",
       "    <tr>\n",
       "      <th>month_to_end_contract</th>\n",
       "      <td>9.95</td>\n",
       "      <td>1.86</td>\n",
       "      <td>2.20</td>\n",
       "      <td>4.47</td>\n",
       "      <td>2.46</td>\n",
       "    </tr>\n",
       "    <tr>\n",
       "      <th>near_location</th>\n",
       "      <td>0.96</td>\n",
       "      <td>1.00</td>\n",
       "      <td>0.00</td>\n",
       "      <td>0.86</td>\n",
       "      <td>0.98</td>\n",
       "    </tr>\n",
       "    <tr>\n",
       "      <th>partner</th>\n",
       "      <td>0.78</td>\n",
       "      <td>0.35</td>\n",
       "      <td>0.46</td>\n",
       "      <td>0.47</td>\n",
       "      <td>0.36</td>\n",
       "    </tr>\n",
       "    <tr>\n",
       "      <th>phone</th>\n",
       "      <td>1.00</td>\n",
       "      <td>1.00</td>\n",
       "      <td>1.00</td>\n",
       "      <td>0.00</td>\n",
       "      <td>1.00</td>\n",
       "    </tr>\n",
       "    <tr>\n",
       "      <th>promo_friends</th>\n",
       "      <td>0.57</td>\n",
       "      <td>0.24</td>\n",
       "      <td>0.08</td>\n",
       "      <td>0.31</td>\n",
       "      <td>0.23</td>\n",
       "    </tr>\n",
       "  </tbody>\n",
       "</table>\n",
       "</div>"
      ],
      "text/plain": [
       "clusters_km                        кластер 1  кластер 2  кластер 3  кластер 4  \\\n",
       "age                                    29.98      28.17      28.48      29.30   \n",
       "avg_additional_charges_total          160.76     131.62     135.46     143.96   \n",
       "avg_class_frequency_current_month       1.98       1.01       1.48       1.72   \n",
       "avg_class_frequency_total               1.98       1.25       1.66       1.85   \n",
       "contract_period                        10.89       1.95       2.35       4.79   \n",
       "gender                                  0.50       0.49       0.49       0.52   \n",
       "group_visits                            0.54       0.34       0.22       0.43   \n",
       "lifetime                                4.74       2.44       2.81       3.92   \n",
       "month_to_end_contract                   9.95       1.86       2.20       4.47   \n",
       "near_location                           0.96       1.00       0.00       0.86   \n",
       "partner                                 0.78       0.35       0.46       0.47   \n",
       "phone                                   1.00       1.00       1.00       0.00   \n",
       "promo_friends                           0.57       0.24       0.08       0.31   \n",
       "\n",
       "clusters_km                        кластер 5  \n",
       "age                                    30.12  \n",
       "avg_additional_charges_total          161.66  \n",
       "avg_class_frequency_current_month       2.85  \n",
       "avg_class_frequency_total               2.85  \n",
       "contract_period                         2.67  \n",
       "gender                                  0.56  \n",
       "group_visits                            0.47  \n",
       "lifetime                                4.90  \n",
       "month_to_end_contract                   2.46  \n",
       "near_location                           0.98  \n",
       "partner                                 0.36  \n",
       "phone                                   1.00  \n",
       "promo_friends                           0.23  "
      ]
     },
     "execution_count": 69,
     "metadata": {},
     "output_type": "execute_result"
    }
   ],
   "source": [
    "# Число кластеров, равное 5\n",
    "km = KMeans(random_state = 0,\n",
    "            n_clusters = 5\n",
    "           )  \n",
    "\n",
    "# Применение алгоритма к данным и формирование вектора кластеров\n",
    "labels = km.fit_predict(X_sc) \n",
    "\n",
    "# Сохранение меток кластера в поле датасета\n",
    "gym_churn['clusters_km'] = labels\n",
    "# Создаем перемнную со столбцами кроме churn для создания \n",
    "# таблицы с кластерами \n",
    "cols = gym_churn.columns.difference(['churn'])\n",
    "gym_churn[cols].groupby(['clusters_km']).mean().round(3)\\\n",
    ".T.rename(columns={0: 'кластер 1', \n",
    "                   1: 'кластер 2',\n",
    "                   2: 'кластер 3', \n",
    "                   3: 'кластер 4',\n",
    "                   4: 'кластер 5'}\n",
    "         )"
   ]
  },
  {
   "cell_type": "code",
   "execution_count": 70,
   "metadata": {},
   "outputs": [
    {
     "data": {
      "text/plain": [
       "Index(['age', 'avg_additional_charges_total',\n",
       "       'avg_class_frequency_current_month', 'avg_class_frequency_total',\n",
       "       'clusters_km', 'contract_period', 'gender', 'group_visits', 'lifetime',\n",
       "       'month_to_end_contract', 'near_location', 'partner', 'phone',\n",
       "       'promo_friends'],\n",
       "      dtype='object')"
      ]
     },
     "execution_count": 70,
     "metadata": {},
     "output_type": "execute_result"
    }
   ],
   "source": [
    "### КОД РЕВЬЮЕРА\n",
    "gym_churn.columns.difference(['churn'])"
   ]
  },
  {
   "cell_type": "markdown",
   "metadata": {},
   "source": [
    "### Наблюдения по таблице кластеров\n",
    "\n",
    "\n",
    "#### Кластер 1 \n",
    "- Срок действия абонементов 10,9 месяцев (много)\n",
    "\n",
    "\n",
    "- Посещают зал давно 4.7 месяцев\n",
    "\n",
    "\n",
    "- Возраст 29.9\n",
    "\n",
    "\n",
    "- 78,3% пришли по партнерским программам и 57,5% по рекомендации друзей\n",
    "\n",
    "\n",
    "- Ходят в зал 2 раза в неделю\n",
    "\n",
    "\n",
    "- Посещают групповые занятия \n",
    "\n",
    "\n",
    "- Не любят оставлять контактный номер\n",
    "\n",
    "\n",
    "#### Кластер 2 \n",
    "\n",
    "- 86,2% живут и/или работают рядом с фитнес центром \n",
    "\n",
    "\n",
    "- Отсутствие контактного номера\n",
    "\n",
    "\n",
    "- Ходят в зал 2 раза в неделю\n",
    "\n",
    "\n",
    "- 47% клиентов пришли по партнерским программам и 30,6% по рекомендации друзей\n",
    "\n",
    "#### Кластер 3\n",
    "\n",
    "- 100% не живут и/или работают рядом с фитнес центром\n",
    "\n",
    "\n",
    "- 46,3% приходят по партнерским программам, 7,9% по рекомендации друзей\n",
    "\n",
    "\n",
    "- мало тратят на доп услуги, редко посещают групповые тренировки\n",
    "\n",
    "\n",
    "- начали посещать центр недавно  2,4 месяца назад\n",
    "\n",
    "\n",
    "#### Кластер 4 \n",
    "\n",
    "-  приобретают абонементы с самым коротким сроком действия \n",
    "\n",
    "\n",
    "- начали посещать центр недавно  2,4 месяца назад\n",
    "\n",
    "\n",
    "- ходят один раз в неделю\n",
    "\n",
    "#### Кластер 5 \n",
    "\n",
    "-  приобретают абонементы с самым коротким сроком действия \n",
    "\n",
    "\n",
    "- часто ходят на групповые занятия \n",
    "\n",
    "\n",
    "- много тратят на дополнительные услуги - 161,7 у.е.,"
   ]
  },
  {
   "cell_type": "markdown",
   "metadata": {},
   "source": [
    "### Распределения признаков кластеров"
   ]
  },
  {
   "cell_type": "code",
   "execution_count": 71,
   "metadata": {},
   "outputs": [
    {
     "data": {
      "image/png": "[encoded data removed]",
      "text/plain": [
       "<Figure size 1152x1224 with 11 Axes>"
      ]
     },
     "metadata": {
      "needs_background": "light"
     },
     "output_type": "display_data"
    },
    {
     "data": {
      "image/png": "[encoded data removed]",
      "text/plain": [
       "<Figure size 1152x504 with 4 Axes>"
      ]
     },
     "metadata": {
      "needs_background": "light"
     },
     "output_type": "display_data"
    }
   ],
   "source": [
    "# Создаем список с качественными переменными \n",
    "quality = ['gender',\n",
    "           'near_location',\n",
    "           'partner',\n",
    "           'promo_friends',\n",
    "           'phone',\n",
    "           'contract_period',\n",
    "           'group_visits',\n",
    "            'lifetime',\n",
    "            'month_to_end_contract',\n",
    "           'churn'\n",
    "          ]\n",
    "# Создаем список с количественными переменными \n",
    "quantity = ['age',\n",
    "          'avg_additional_charges_total',\n",
    "          'avg_class_frequency_total',\n",
    "          'avg_class_frequency_current_month',\n",
    "          ]\n",
    "# Задаем размер графика\n",
    "fig=plt.figure(figsize=(16,17))\n",
    "# Задаем название\n",
    "plt.title('Качественные признаки',\n",
    "             fontsize = 20,\n",
    "             fontweight = 'bold',\n",
    "             color = 'darkgrey',\n",
    "             pad = 30\n",
    "            )\n",
    "# Создаем цикл для отрисовки\n",
    "for i, column_cl in enumerate(quality):\n",
    "    ax = fig.add_subplot(5,\n",
    "                         2,\n",
    "                         i+1\n",
    "                        )\n",
    "    sns.countplot(x = column_cl,\n",
    "                  hue = 'clusters_km',\n",
    "                  data = gym_churn\n",
    "                 )\n",
    "    ax.margins(0.03, 0.2)\n",
    "    ax.legend(title = 'Clusters:',\n",
    "              labels = [1,\n",
    "                        2,\n",
    "                        3,\n",
    "                        4,\n",
    "                        5\n",
    "                       ],\n",
    "              loc = 'upper right'\n",
    "             )\n",
    "    plt.title('Распределение  '\n",
    "              + column_cl,\n",
    "              fontweight = 'bold') \n",
    "    plt.xlabel('')\n",
    "    plt.ylabel('Количество')\n",
    "    plt.subplots_adjust(hspace=0.3)\n",
    "plt.show()\n",
    "# Задаем размер графика\n",
    "fig=plt.figure(figsize=(16,7))\n",
    "# Задаем название\n",
    "plt.title('Количественные признаки',\n",
    "             fontsize = 20,\n",
    "             fontweight = 'bold',\n",
    "             color = 'darkgrey',\n",
    "             pad = 30\n",
    "            )\n",
    "# Создаем цикл для отрисовки\n",
    "for i, column_cl in enumerate(quantity[:-1]):\n",
    "    ax=fig.add_subplot(2,\n",
    "                       2,\n",
    "                       i+1\n",
    "                      )\n",
    "    sns.boxplot(x=gym_churn['clusters_km'], \n",
    "                y=gym_churn[column_cl],\n",
    "                showfliers=False\n",
    "               )\n",
    "    plt.title('Диаграммы размаха ' \n",
    "              + column_cl,\n",
    "              fontweight='bold'\n",
    "             ) \n",
    "    plt.xlabel('Clusters')\n",
    "    plt.ylabel('Количество')\n",
    "    plt.xticks([0,\n",
    "                1, \n",
    "                2, \n",
    "                3, \n",
    "                4\n",
    "               ],\n",
    "               [1,\n",
    "                2,\n",
    "                3,\n",
    "                4,\n",
    "                5\n",
    "               ]\n",
    "              )\n",
    "    plt.subplots_adjust(hspace=0.4)\n",
    "plt.show()"
   ]
  },
  {
   "cell_type": "markdown",
   "metadata": {},
   "source": [
    "### Наблюдения\n",
    "\n",
    "- Графики подтверждают описанное выше\n",
    "\n",
    "\n",
    "Рассмотрим отток по кластерам"
   ]
  },
  {
   "cell_type": "markdown",
   "metadata": {},
   "source": [
    "### Гистограмма доли оттока по кластерам"
   ]
  },
  {
   "cell_type": "code",
   "execution_count": 72,
   "metadata": {},
   "outputs": [
    {
     "data": {
      "image/png": "[encoded data removed]",
      "text/plain": [
       "<Figure size 1080x144 with 1 Axes>"
      ]
     },
     "metadata": {
      "needs_background": "light"
     },
     "output_type": "display_data"
    },
    {
     "data": {
      "image/png": "[encoded data removed]",
      "text/plain": [
       "<Figure size 1080x144 with 1 Axes>"
      ]
     },
     "metadata": {
      "needs_background": "light"
     },
     "output_type": "display_data"
    },
    {
     "data": {
      "image/png": "[encoded data removed]",
      "text/plain": [
       "<Figure size 1080x144 with 1 Axes>"
      ]
     },
     "metadata": {
      "needs_background": "light"
     },
     "output_type": "display_data"
    },
    {
     "data": {
      "image/png": "[encoded data removed]",
      "text/plain": [
       "<Figure size 1080x144 with 1 Axes>"
      ]
     },
     "metadata": {
      "needs_background": "light"
     },
     "output_type": "display_data"
    },
    {
     "data": {
      "image/png": "[encoded data removed]",
      "text/plain": [
       "<Figure size 1080x144 with 1 Axes>"
      ]
     },
     "metadata": {
      "needs_background": "light"
     },
     "output_type": "display_data"
    }
   ],
   "source": [
    "for i in range(5):\n",
    "    fig = plt.figure(figsize=(15, 2)\n",
    "                    )\n",
    "    ax = sns.countplot(y = 'churn', \n",
    "                       data = gym_churn[gym_churn['clusters_km'] == i],\n",
    "                       alpha=0.8\n",
    "                      )\n",
    "    total = gym_churn[gym_churn['clusters_km'] == i].shape[0]\n",
    "    ax.grid(b= True,\n",
    "            color='grey',\n",
    "            linestyle='-', \n",
    "            axis='x',\n",
    "            dashes=(1,5),\n",
    "            alpha=0.8\n",
    "           )\n",
    "    ax.set_title('Распределение оттока пользователей в {} кластере'.format(i+1)\n",
    "                )\n",
    "\n",
    "    for p in ax.patches:\n",
    "        percentage = '{:.1f}%'.format(100 * \n",
    "                                      p.get_width() \n",
    "                                      / total\n",
    "                                     )\n",
    "        x = (p.get_x()\n",
    "             + p.get_width()\n",
    "            )\n",
    "        y = (p.get_y() \n",
    "             + p.get_height() \n",
    "             / 2\n",
    "            )\n",
    "        ax.annotate(percentage,\n",
    "                    (x, y)\n",
    "                   )\n",
    "\n",
    "    ax.set_xlabel('Кол-во пользователей')\n",
    "    ax.set_yticklabels(['Остались','Ушли в отток'],\n",
    "                         fontweight = 'bold'\n",
    "                        )\n",
    "    sns.despine()\n",
    "    plt.show()"
   ]
  },
  {
   "cell_type": "markdown",
   "metadata": {},
   "source": [
    "### Наблюдения по гистограмме оттока по кластерам\n",
    "\n",
    "Высокий уровень оттока:\n",
    "\n",
    "- 4 кластер - самый высокий\n",
    " \n",
    " \n",
    "- 3 кластер \n",
    "\n",
    "\n",
    "Средний среднего уровень оттока \n",
    "\n",
    "- 2 кластер\n",
    "\n",
    "\n",
    "Низкий уровень оттока:\n",
    "\n",
    "- 1 кластер \n",
    "\n",
    "\n",
    "- 5 кластер\n"
   ]
  },
  {
   "cell_type": "markdown",
   "metadata": {},
   "source": [
    "### Вывод по кластеризации\n",
    "\n",
    "- Создано 5 кластеров \n",
    "\n",
    "По уровню оттока можно выделить: \n",
    "\n",
    "\n",
    "Высокий уровень оттока:\n",
    "\n",
    "- 4 кластер - самый высокий\n",
    " \n",
    " \n",
    "- 3 кластер \n",
    "\n",
    "\n",
    "Ниже среднего уровень оттока \n",
    "\n",
    "- 2 кластер\n",
    "\n",
    "\n",
    "Низкий уровень оттока:\n",
    "\n",
    "- 1 кластер \n",
    "\n",
    "\n",
    "- 5 кластер\n",
    "\n",
    "\n",
    "Общая картина клиентов по кластерам \n",
    "\n",
    "\n",
    "#### Кластер 1 \n",
    "Самые верные клиенты: ходят давно и долго, средний возраст, большинство ходят по партнерсим программам т.е. их устраивает цена, ходят в зал часто, посещают групповые занятия, но любят конфеденциальность (не оставляют номера)\n",
    "\n",
    "\n",
    "\n",
    "#### Кластер 2 \n",
    "\n",
    "Работают либо живут рядом с залом, им удобно посещать, предпочитают в принципе не давать контакты, ходят в зал два раза в неделю, почти половина - партнерская программа, средний отток (возможно пропадает мотивация)\n",
    "\n",
    "\n",
    "#### Кластер 3\n",
    "\n",
    "Им неудобно ходить в зал, так как они живут далеко от него, чуть меньше половины - имеют партнерскую программу, друзья практически не рекомендуют, не любят тратить лишние деньги, ходят недавно,групповые тренеровки не любят, высокий уровень оттока (второе место)\n",
    "\n",
    "\n",
    "#### Кластер 4 \n",
    "\n",
    "Ходят мало, недавно покупают абонементы с самым коротким сроком действия, самый выскоий уровень оттока \n",
    "\n",
    "\n",
    "#### Кластер 5 \n",
    "\n",
    "Ходят часто и посещают групповые, покупают абонемент с коротким сроком, много тратят на доп услуги, низкий уровень оттока"
   ]
  },
  {
   "cell_type": "markdown",
   "metadata": {},
   "source": [
    "## Общий вывод\n",
    "\n",
    "### Вывод по EDA\n",
    "\n",
    "- Больше 1/4 клиентов (26,5%) попали в отток.\n",
    "\n",
    " \n",
    "- Существует 1018 клиетов, которых пригласили друзья, а также они являются членами партнерской программы.\n",
    "\n",
    "Ситуация типичная, ведь часто сотрудники партнерской компании советуют друг другу фитнес центры на которые им выделяется скидка. Часто система приглашения друзей создает персональные скидки и выгодные условия для владельцев абонемента за каждого приглашенного друга.\n",
    "\n",
    "\n",
    "- Большинство клиентов уходит в первый месяц по признаку month_to_end_contract\n",
    "\n",
    "\n",
    "- Отток пользователей обратно коррелирует со средней частотой посещений в неделю за пред. месяц, с кол-во месяцев первого обращения, возраст. \n",
    "\n",
    "\n",
    "- Наибольшая корреляция по признакам длительности абонемента и среднего посещения, это логично\n",
    "\n",
    "\n",
    "### Вывод по построению модели прогнозирования оттока клиентов\n",
    "\n",
    "- По показателям лучшая модель - GradientBoostingClassifier\n",
    "\n",
    "\n",
    "Ее показатели по метрикам: \n",
    "\n",
    "- Accuracy: 0.95\n",
    "- Precision: 0.94\n",
    "- Recall: 0.86\n",
    "- F1: 0.90\n",
    "- ROC_AUC: 0.99\n",
    "\n",
    "По топ - 3 фич:\n",
    "\n",
    "- lifetime\n",
    "- avg_class_frequency_current_month\n",
    "- avg_class_frequency_total\n",
    "\n",
    "\n",
    "Влияние лайфтайма на отток логично - чем больше человек ходит, тем больше у него мотивации\n",
    "\n",
    "\n",
    "\n",
    "\n",
    "\n",
    "Чаще всего уходят молодые пользователи, это может быть обусловленно нестабильностью доходов, отсутсвием мотивации. \n",
    "\n",
    "\n",
    "Влияние лайфтайма на отток логично - чем больше человек ходит, тем больше\n",
    "\n",
    "\n",
    "### Вывод по кластеризации\n",
    "\n",
    "- Создано 5 кластеров \n",
    "\n",
    "По уровню оттока можно выделить: \n",
    "\n",
    "\n",
    "Высокий уровень оттока:\n",
    "\n",
    "- 4 кластер - самый высокий\n",
    " \n",
    " \n",
    "- 3 кластер \n",
    "\n",
    "\n",
    "Ниже среднего уровень оттока \n",
    "\n",
    "- 2 кластер\n",
    "\n",
    "\n",
    "Низкий уровень оттока:\n",
    "\n",
    "- 1 кластер \n",
    "\n",
    "\n",
    "- 5 кластер\n",
    "\n",
    "\n",
    "Общая картина клиентов по кластерам \n",
    "\n",
    "\n",
    "#### Кластер 1 \n",
    "Самые верные клиенты: ходят давно и долго, средний возраст, большинство ходят по партнерсим программам т.е. их устраивает цена, ходят в зал часто, посещают групповые занятия, но любят конфеденциальность (не оставляют номера)\n",
    "\n",
    "\n",
    "\n",
    "#### Кластер 2 \n",
    "\n",
    "Работают либо живут рядом с залом, им удобно посещать, предпочитают в принципе не давать контакты, ходят в зал два раза в неделю, почти половина - партнерская программа, средний отток (возможно пропадает мотивация)\n",
    "\n",
    "\n",
    "#### Кластер 3\n",
    "\n",
    "Им неудобно ходить в зал, так как они живут далеко от него, чуть меньше половины - имеют партнерскую программу, друзья практически не рекомендуют, не любят тратить лишние деньги, ходят недавно,групповые тренеровки не любят, высокий уровень оттока (второе место)\n",
    "\n",
    "\n",
    "#### Кластер 4 \n",
    "\n",
    "Ходят мало, недавно покупают абонементы с самым коротким сроком действия, самый выскоий уровень оттока \n",
    "\n",
    "\n",
    "#### Кластер 5 \n",
    "\n",
    "Ходят часто и посещают групповые, покупают абонемент с коротким сроком, много тратят на доп услуги, низкий уровень оттока"
   ]
  },
  {
   "cell_type": "markdown",
   "metadata": {},
   "source": [
    "## Рекомендации\n",
    "\n",
    "#### Кластер 1 \n",
    "Регулярно проводить опросы по качеству обслуживания \n",
    "\n",
    "\n",
    "\n",
    "#### Кластер 2 \n",
    "\n",
    "## Рекомендации\n",
    "\n",
    "#### Кластер 1 \n",
    "Возможно стоит регулярно проводить опросы по качеству обслуживания \n",
    "\n",
    "\n",
    "\n",
    "#### Кластер 2 \n",
    "\n",
    "Возможно стоит повысить мотивацию посещения занятиями с тренером (персональная программа)\n",
    "\n",
    "\n",
    "#### Кластер 3\n",
    "\n",
    "Возможно стоит привлечь скидками и чем то необычным, например меропреятия, конкурсы, тематические ивенты, чтобы была мотивация приехать \n",
    "\n",
    "\n",
    "#### Кластер 4 \n",
    "\n",
    "То же что и с кластером 3, но рекоммендуется уделить особое внимание, так как это самая рисковая группа по оттоку\n",
    "Маленькие приятные сюрпризы доставят им массу положительных впечатлений. Главное, они поймут, что компания ценит их вклад в развитие бренда.\n",
    "\n",
    "\n",
    "#### Кластер 5 \n",
    "\n",
    "Возможно стоит ввести специальные скидки, уникальные предложения на товары "
   ]
  }
 ],
 "metadata": {
  "ExecuteTimeLog": [
   {
    "duration": 52,
    "start_time": "2022-08-27T19:44:20.995Z"
   },
   {
    "duration": 408,
    "start_time": "2022-08-27T19:44:42.071Z"
   },
   {
    "duration": 232,
    "start_time": "2022-08-27T19:44:44.438Z"
   },
   {
    "duration": 13,
    "start_time": "2022-08-27T19:44:51.875Z"
   },
   {
    "duration": 54,
    "start_time": "2022-08-27T19:45:02.092Z"
   },
   {
    "duration": 11,
    "start_time": "2022-08-27T19:45:07.073Z"
   },
   {
    "duration": 9,
    "start_time": "2022-08-27T19:45:17.355Z"
   },
   {
    "duration": 13,
    "start_time": "2022-08-27T19:46:23.003Z"
   },
   {
    "duration": 46,
    "start_time": "2022-08-27T19:46:58.673Z"
   },
   {
    "duration": 446,
    "start_time": "2022-08-28T09:41:40.271Z"
   },
   {
    "duration": 84,
    "start_time": "2022-08-28T10:11:14.556Z"
   },
   {
    "duration": 5,
    "start_time": "2022-08-28T10:11:18.655Z"
   },
   {
    "duration": 96,
    "start_time": "2022-08-28T10:11:19.177Z"
   },
   {
    "duration": 17,
    "start_time": "2022-08-28T10:11:19.274Z"
   },
   {
    "duration": 25,
    "start_time": "2022-08-28T10:11:19.605Z"
   },
   {
    "duration": 7,
    "start_time": "2022-08-28T10:11:20.383Z"
   },
   {
    "duration": 1278,
    "start_time": "2022-08-28T11:52:18.072Z"
   },
   {
    "duration": 40,
    "start_time": "2022-08-28T11:52:24.704Z"
   },
   {
    "duration": 18,
    "start_time": "2022-08-28T11:52:25.039Z"
   },
   {
    "duration": 20,
    "start_time": "2022-08-28T11:52:25.714Z"
   },
   {
    "duration": 11,
    "start_time": "2022-08-28T11:52:26.409Z"
   },
   {
    "duration": 65,
    "start_time": "2022-08-28T11:52:27.487Z"
   },
   {
    "duration": 14,
    "start_time": "2022-08-28T13:25:05.423Z"
   },
   {
    "duration": 3,
    "start_time": "2022-08-28T13:25:22.232Z"
   },
   {
    "duration": 13,
    "start_time": "2022-08-28T13:25:25.163Z"
   },
   {
    "duration": 3,
    "start_time": "2022-08-28T13:28:32.577Z"
   },
   {
    "duration": 16,
    "start_time": "2022-08-28T13:29:20.088Z"
   },
   {
    "duration": 63,
    "start_time": "2022-08-28T14:34:50.882Z"
   },
   {
    "duration": 3,
    "start_time": "2022-08-28T14:41:01.321Z"
   },
   {
    "duration": 41,
    "start_time": "2022-08-28T14:41:02.358Z"
   },
   {
    "duration": 12,
    "start_time": "2022-08-28T14:41:04.856Z"
   },
   {
    "duration": 1316,
    "start_time": "2022-08-28T14:42:12.027Z"
   },
   {
    "duration": 13,
    "start_time": "2022-08-28T14:42:19.425Z"
   },
   {
    "duration": 4,
    "start_time": "2022-08-28T14:42:20.374Z"
   },
   {
    "duration": 4,
    "start_time": "2022-08-28T14:42:20.829Z"
   },
   {
    "duration": 14,
    "start_time": "2022-08-28T14:43:00.813Z"
   },
   {
    "duration": 9,
    "start_time": "2022-08-28T18:07:31.146Z"
   },
   {
    "duration": 12,
    "start_time": "2022-08-28T18:07:41.632Z"
   },
   {
    "duration": 16,
    "start_time": "2022-08-28T18:07:48.816Z"
   },
   {
    "duration": 17,
    "start_time": "2022-08-28T18:08:02.471Z"
   },
   {
    "duration": 17,
    "start_time": "2022-08-28T18:09:23.365Z"
   },
   {
    "duration": 64,
    "start_time": "2022-08-28T18:13:45.942Z"
   },
   {
    "duration": 16,
    "start_time": "2022-08-28T18:14:12.356Z"
   },
   {
    "duration": 12,
    "start_time": "2022-08-28T18:14:37.154Z"
   },
   {
    "duration": 16,
    "start_time": "2022-08-28T18:14:47.347Z"
   },
   {
    "duration": 7,
    "start_time": "2022-08-28T19:03:22.575Z"
   },
   {
    "duration": 209,
    "start_time": "2022-08-28T19:03:51.095Z"
   },
   {
    "duration": 217,
    "start_time": "2022-08-28T19:04:50.678Z"
   },
   {
    "duration": 298,
    "start_time": "2022-08-28T19:05:06.411Z"
   },
   {
    "duration": 257,
    "start_time": "2022-08-28T19:05:14.438Z"
   },
   {
    "duration": 221,
    "start_time": "2022-08-28T19:05:50.739Z"
   },
   {
    "duration": 252,
    "start_time": "2022-08-28T19:05:57.082Z"
   },
   {
    "duration": 237,
    "start_time": "2022-08-28T19:06:37.476Z"
   },
   {
    "duration": 332,
    "start_time": "2022-08-28T19:07:50.035Z"
   },
   {
    "duration": 1132,
    "start_time": "2022-08-28T19:20:18.057Z"
   },
   {
    "duration": 48,
    "start_time": "2022-08-28T19:30:42.627Z"
   },
   {
    "duration": 269,
    "start_time": "2022-08-28T19:30:47.831Z"
   },
   {
    "duration": 909,
    "start_time": "2022-08-28T19:31:56.819Z"
   },
   {
    "duration": 333,
    "start_time": "2022-08-28T19:38:33.862Z"
   },
   {
    "duration": 58,
    "start_time": "2022-08-28T20:12:08.132Z"
   },
   {
    "duration": 984,
    "start_time": "2022-08-28T20:12:14.682Z"
   },
   {
    "duration": 969,
    "start_time": "2022-08-28T20:12:41.035Z"
   },
   {
    "duration": 1111,
    "start_time": "2022-08-28T20:13:06.128Z"
   },
   {
    "duration": 1016,
    "start_time": "2022-08-28T20:13:10.547Z"
   },
   {
    "duration": 949,
    "start_time": "2022-08-28T20:13:38.092Z"
   },
   {
    "duration": 1079,
    "start_time": "2022-08-28T20:13:53.154Z"
   },
   {
    "duration": 997,
    "start_time": "2022-08-28T20:14:06.896Z"
   },
   {
    "duration": 984,
    "start_time": "2022-08-28T20:14:13.577Z"
   },
   {
    "duration": 967,
    "start_time": "2022-08-28T20:14:19.882Z"
   },
   {
    "duration": 975,
    "start_time": "2022-08-28T20:14:30.863Z"
   },
   {
    "duration": 1048,
    "start_time": "2022-08-28T20:14:42.525Z"
   },
   {
    "duration": 938,
    "start_time": "2022-08-28T20:15:09.880Z"
   },
   {
    "duration": 208,
    "start_time": "2022-08-28T20:15:52.359Z"
   },
   {
    "duration": 225,
    "start_time": "2022-08-28T20:16:02.937Z"
   },
   {
    "duration": 224,
    "start_time": "2022-08-28T20:18:20.428Z"
   },
   {
    "duration": 221,
    "start_time": "2022-08-28T20:18:39.246Z"
   },
   {
    "duration": 361,
    "start_time": "2022-08-28T20:18:44.527Z"
   },
   {
    "duration": 217,
    "start_time": "2022-08-28T20:18:51.224Z"
   },
   {
    "duration": 216,
    "start_time": "2022-08-28T20:19:14.226Z"
   },
   {
    "duration": 225,
    "start_time": "2022-08-28T20:19:23.554Z"
   },
   {
    "duration": 236,
    "start_time": "2022-08-28T20:19:28.633Z"
   },
   {
    "duration": 231,
    "start_time": "2022-08-28T20:19:39.024Z"
   },
   {
    "duration": 134,
    "start_time": "2022-08-28T20:20:11.848Z"
   },
   {
    "duration": 358,
    "start_time": "2022-08-28T20:20:25.745Z"
   },
   {
    "duration": 49,
    "start_time": "2022-08-28T20:20:35.625Z"
   },
   {
    "duration": 135,
    "start_time": "2022-08-28T20:20:38.129Z"
   },
   {
    "duration": 169,
    "start_time": "2022-08-28T20:20:49.822Z"
   },
   {
    "duration": 184,
    "start_time": "2022-08-28T20:20:56.144Z"
   },
   {
    "duration": 154,
    "start_time": "2022-08-28T20:21:06.152Z"
   },
   {
    "duration": 138,
    "start_time": "2022-08-28T20:21:16.787Z"
   },
   {
    "duration": 125,
    "start_time": "2022-08-28T20:21:39.214Z"
   },
   {
    "duration": 12,
    "start_time": "2022-08-28T20:22:01.326Z"
   },
   {
    "duration": 170,
    "start_time": "2022-08-28T20:22:06.174Z"
   },
   {
    "duration": 123,
    "start_time": "2022-08-28T20:22:32.813Z"
   },
   {
    "duration": 125,
    "start_time": "2022-08-28T20:23:39.324Z"
   },
   {
    "duration": 117,
    "start_time": "2022-08-28T20:23:45.251Z"
   },
   {
    "duration": 120,
    "start_time": "2022-08-28T20:23:59.347Z"
   },
   {
    "duration": 124,
    "start_time": "2022-08-28T20:24:24.579Z"
   },
   {
    "duration": 5,
    "start_time": "2022-08-28T20:25:10.746Z"
   },
   {
    "duration": 146,
    "start_time": "2022-08-28T20:25:16.087Z"
   },
   {
    "duration": 124,
    "start_time": "2022-08-28T20:25:41.722Z"
   },
   {
    "duration": 19,
    "start_time": "2022-08-28T20:28:08.327Z"
   },
   {
    "duration": 585,
    "start_time": "2022-08-28T20:29:07.100Z"
   },
   {
    "duration": 959,
    "start_time": "2022-08-28T20:30:33.368Z"
   },
   {
    "duration": 845,
    "start_time": "2022-08-28T20:31:04.583Z"
   },
   {
    "duration": 735,
    "start_time": "2022-08-28T20:31:24.218Z"
   },
   {
    "duration": 19,
    "start_time": "2022-08-28T20:32:09.771Z"
   },
   {
    "duration": 974,
    "start_time": "2022-08-28T20:32:30.218Z"
   },
   {
    "duration": 847,
    "start_time": "2022-08-28T20:33:04.718Z"
   },
   {
    "duration": 785,
    "start_time": "2022-08-28T20:33:41.570Z"
   },
   {
    "duration": 150,
    "start_time": "2022-08-28T20:34:10.194Z"
   },
   {
    "duration": 142,
    "start_time": "2022-08-28T20:35:05.975Z"
   },
   {
    "duration": 136,
    "start_time": "2022-08-28T20:36:06.742Z"
   },
   {
    "duration": 156,
    "start_time": "2022-08-28T20:36:18.919Z"
   },
   {
    "duration": 258,
    "start_time": "2022-08-28T20:37:52.756Z"
   },
   {
    "duration": 153,
    "start_time": "2022-08-28T20:37:59.127Z"
   },
   {
    "duration": 1042,
    "start_time": "2022-08-28T20:38:06.563Z"
   },
   {
    "duration": 457,
    "start_time": "2022-08-28T20:38:15.797Z"
   },
   {
    "duration": 177,
    "start_time": "2022-08-28T20:39:16.482Z"
   },
   {
    "duration": 152,
    "start_time": "2022-08-28T20:39:50.691Z"
   },
   {
    "duration": 165,
    "start_time": "2022-08-28T20:40:03.449Z"
   },
   {
    "duration": 170,
    "start_time": "2022-08-28T20:40:43.602Z"
   },
   {
    "duration": 168,
    "start_time": "2022-08-28T20:40:48.325Z"
   },
   {
    "duration": 1361,
    "start_time": "2022-08-28T20:40:56.664Z"
   },
   {
    "duration": 39,
    "start_time": "2022-08-28T20:40:58.028Z"
   },
   {
    "duration": 26,
    "start_time": "2022-08-28T20:40:58.069Z"
   },
   {
    "duration": 17,
    "start_time": "2022-08-28T20:40:58.100Z"
   },
   {
    "duration": 3,
    "start_time": "2022-08-28T20:40:58.119Z"
   },
   {
    "duration": 3,
    "start_time": "2022-08-28T20:40:58.205Z"
   },
   {
    "duration": 8,
    "start_time": "2022-08-28T20:40:58.439Z"
   },
   {
    "duration": 49,
    "start_time": "2022-08-28T20:40:58.869Z"
   },
   {
    "duration": 20,
    "start_time": "2022-08-28T20:40:59.670Z"
   },
   {
    "duration": 284,
    "start_time": "2022-08-28T20:41:00.818Z"
   },
   {
    "duration": 141,
    "start_time": "2022-08-28T20:41:42.522Z"
   },
   {
    "duration": 152,
    "start_time": "2022-08-28T20:42:17.510Z"
   },
   {
    "duration": 145,
    "start_time": "2022-08-28T20:42:21.795Z"
   },
   {
    "duration": 202,
    "start_time": "2022-08-28T20:44:38.926Z"
   },
   {
    "duration": 882,
    "start_time": "2022-08-28T20:44:47.644Z"
   },
   {
    "duration": 839,
    "start_time": "2022-08-28T20:46:01.642Z"
   },
   {
    "duration": 813,
    "start_time": "2022-08-28T20:46:18.759Z"
   },
   {
    "duration": 896,
    "start_time": "2022-08-28T20:46:23.880Z"
   },
   {
    "duration": 780,
    "start_time": "2022-08-28T20:46:27.798Z"
   },
   {
    "duration": 786,
    "start_time": "2022-08-28T20:46:32.760Z"
   },
   {
    "duration": 50,
    "start_time": "2022-08-28T20:46:55.111Z"
   },
   {
    "duration": 803,
    "start_time": "2022-08-28T20:47:00.429Z"
   },
   {
    "duration": 915,
    "start_time": "2022-08-28T20:47:12.774Z"
   },
   {
    "duration": 804,
    "start_time": "2022-08-28T20:47:20.365Z"
   },
   {
    "duration": 839,
    "start_time": "2022-08-28T20:47:47.732Z"
   },
   {
    "duration": 148,
    "start_time": "2022-08-28T20:47:54.885Z"
   },
   {
    "duration": 132,
    "start_time": "2022-08-28T20:48:30.240Z"
   },
   {
    "duration": 232,
    "start_time": "2022-08-28T20:48:38.627Z"
   },
   {
    "duration": 794,
    "start_time": "2022-08-28T20:54:38.289Z"
   },
   {
    "duration": 701,
    "start_time": "2022-08-28T20:54:55.808Z"
   },
   {
    "duration": 748,
    "start_time": "2022-08-28T20:56:56.278Z"
   },
   {
    "duration": 778,
    "start_time": "2022-08-28T20:58:38.372Z"
   },
   {
    "duration": 673,
    "start_time": "2022-08-28T20:59:16.442Z"
   },
   {
    "duration": 997,
    "start_time": "2022-08-28T21:03:08.957Z"
   },
   {
    "duration": 122,
    "start_time": "2022-08-28T21:05:44.583Z"
   },
   {
    "duration": 126,
    "start_time": "2022-08-28T21:05:48.745Z"
   },
   {
    "duration": 132,
    "start_time": "2022-08-28T21:06:07.743Z"
   },
   {
    "duration": 140,
    "start_time": "2022-08-28T21:11:00.851Z"
   },
   {
    "duration": 224,
    "start_time": "2022-08-28T21:11:06.839Z"
   },
   {
    "duration": 132,
    "start_time": "2022-08-28T21:12:09.646Z"
   },
   {
    "duration": 997,
    "start_time": "2022-08-28T21:15:03.419Z"
   },
   {
    "duration": 444,
    "start_time": "2022-08-28T21:15:47.400Z"
   },
   {
    "duration": 302,
    "start_time": "2022-08-28T21:17:27.414Z"
   },
   {
    "duration": 15,
    "start_time": "2022-08-28T21:17:34.367Z"
   },
   {
    "duration": 16,
    "start_time": "2022-08-28T21:18:43.858Z"
   },
   {
    "duration": 633,
    "start_time": "2022-08-28T22:04:15.225Z"
   },
   {
    "duration": 754,
    "start_time": "2022-08-28T22:05:38.375Z"
   },
   {
    "duration": 655,
    "start_time": "2022-08-28T22:36:10.695Z"
   },
   {
    "duration": 10,
    "start_time": "2022-08-28T22:37:04.519Z"
   },
   {
    "duration": 810,
    "start_time": "2022-08-28T22:48:04.669Z"
   },
   {
    "duration": 517,
    "start_time": "2022-08-28T22:49:50.099Z"
   },
   {
    "duration": 615,
    "start_time": "2022-08-28T22:50:38.703Z"
   },
   {
    "duration": 398,
    "start_time": "2022-08-28T22:50:58.313Z"
   },
   {
    "duration": 10,
    "start_time": "2022-08-28T22:53:13.900Z"
   },
   {
    "duration": 4,
    "start_time": "2022-08-28T22:54:24.863Z"
   },
   {
    "duration": 461,
    "start_time": "2022-08-28T22:55:03.854Z"
   },
   {
    "duration": 891,
    "start_time": "2022-08-28T22:57:03.512Z"
   },
   {
    "duration": 1042,
    "start_time": "2022-08-28T22:57:37.046Z"
   },
   {
    "duration": 319,
    "start_time": "2022-08-28T22:58:30.662Z"
   },
   {
    "duration": 774,
    "start_time": "2022-08-28T23:00:10.914Z"
   },
   {
    "duration": 1215,
    "start_time": "2022-08-28T23:02:09.904Z"
   },
   {
    "duration": 1032,
    "start_time": "2022-08-28T23:02:38.973Z"
   },
   {
    "duration": 1179,
    "start_time": "2022-08-28T23:04:18.884Z"
   },
   {
    "duration": 600,
    "start_time": "2022-08-28T23:07:09.557Z"
   },
   {
    "duration": 702,
    "start_time": "2022-08-28T23:08:20.673Z"
   },
   {
    "duration": 505,
    "start_time": "2022-08-28T23:09:46.450Z"
   },
   {
    "duration": 613,
    "start_time": "2022-08-28T23:10:40.843Z"
   },
   {
    "duration": 5,
    "start_time": "2022-08-28T23:11:25.385Z"
   },
   {
    "duration": 136,
    "start_time": "2022-08-28T23:11:55.975Z"
   },
   {
    "duration": 1945,
    "start_time": "2022-08-28T23:12:06.712Z"
   },
   {
    "duration": 1812,
    "start_time": "2022-08-28T23:12:52.825Z"
   },
   {
    "duration": 1788,
    "start_time": "2022-08-28T23:14:08.653Z"
   },
   {
    "duration": 1913,
    "start_time": "2022-08-28T23:14:36.812Z"
   },
   {
    "duration": 2008,
    "start_time": "2022-08-28T23:14:56.510Z"
   },
   {
    "duration": 2275,
    "start_time": "2022-08-28T23:15:10.480Z"
   },
   {
    "duration": 1295,
    "start_time": "2022-08-28T23:16:14.145Z"
   },
   {
    "duration": 33,
    "start_time": "2022-08-28T23:16:15.442Z"
   },
   {
    "duration": 16,
    "start_time": "2022-08-28T23:16:15.476Z"
   },
   {
    "duration": 19,
    "start_time": "2022-08-28T23:16:15.494Z"
   },
   {
    "duration": 21,
    "start_time": "2022-08-28T23:16:15.514Z"
   },
   {
    "duration": 10,
    "start_time": "2022-08-28T23:16:15.537Z"
   },
   {
    "duration": 10,
    "start_time": "2022-08-28T23:16:15.549Z"
   },
   {
    "duration": 54,
    "start_time": "2022-08-28T23:16:15.560Z"
   },
   {
    "duration": 15,
    "start_time": "2022-08-28T23:16:15.615Z"
   },
   {
    "duration": 155,
    "start_time": "2022-08-28T23:16:15.632Z"
   },
   {
    "duration": 2210,
    "start_time": "2022-08-28T23:16:15.790Z"
   },
   {
    "duration": 12,
    "start_time": "2022-08-28T23:16:18.002Z"
   },
   {
    "duration": 5,
    "start_time": "2022-08-28T23:16:18.019Z"
   },
   {
    "duration": 444,
    "start_time": "2022-08-28T23:16:18.025Z"
   },
   {
    "duration": 0,
    "start_time": "2022-08-28T23:16:18.471Z"
   },
   {
    "duration": 1019,
    "start_time": "2022-08-28T23:16:54.621Z"
   },
   {
    "duration": 1040,
    "start_time": "2022-08-28T23:16:58.252Z"
   },
   {
    "duration": 1173,
    "start_time": "2022-08-28T23:17:13.570Z"
   },
   {
    "duration": 826,
    "start_time": "2022-08-28T23:17:24.850Z"
   },
   {
    "duration": 821,
    "start_time": "2022-08-28T23:17:43.601Z"
   },
   {
    "duration": 131,
    "start_time": "2022-08-28T23:17:47.698Z"
   },
   {
    "duration": 810,
    "start_time": "2022-08-28T23:17:48.323Z"
   },
   {
    "duration": 11,
    "start_time": "2022-08-28T23:17:50.902Z"
   },
   {
    "duration": 4,
    "start_time": "2022-08-28T23:17:53.131Z"
   },
   {
    "duration": 1206,
    "start_time": "2022-08-28T23:17:53.593Z"
   },
   {
    "duration": 987,
    "start_time": "2022-08-28T23:17:59.769Z"
   },
   {
    "duration": 657,
    "start_time": "2022-08-28T23:19:04.712Z"
   },
   {
    "duration": 804,
    "start_time": "2022-08-28T23:19:09.149Z"
   },
   {
    "duration": 10,
    "start_time": "2022-08-28T23:19:09.956Z"
   },
   {
    "duration": 1289,
    "start_time": "2022-08-28T23:19:13.241Z"
   },
   {
    "duration": 34,
    "start_time": "2022-08-28T23:19:14.531Z"
   },
   {
    "duration": 14,
    "start_time": "2022-08-28T23:19:14.567Z"
   },
   {
    "duration": 15,
    "start_time": "2022-08-28T23:19:14.582Z"
   },
   {
    "duration": 2,
    "start_time": "2022-08-28T23:19:14.599Z"
   },
   {
    "duration": 8,
    "start_time": "2022-08-28T23:19:14.603Z"
   },
   {
    "duration": 8,
    "start_time": "2022-08-28T23:19:14.613Z"
   },
   {
    "duration": 42,
    "start_time": "2022-08-28T23:19:14.623Z"
   },
   {
    "duration": 32,
    "start_time": "2022-08-28T23:19:14.667Z"
   },
   {
    "duration": 158,
    "start_time": "2022-08-28T23:19:14.700Z"
   },
   {
    "duration": 656,
    "start_time": "2022-08-28T23:19:14.860Z"
   },
   {
    "duration": 11,
    "start_time": "2022-08-28T23:19:15.517Z"
   },
   {
    "duration": 11,
    "start_time": "2022-08-28T23:19:15.529Z"
   },
   {
    "duration": 1231,
    "start_time": "2022-08-28T23:19:15.542Z"
   },
   {
    "duration": 956,
    "start_time": "2022-08-28T23:19:16.776Z"
   },
   {
    "duration": 1312,
    "start_time": "2022-08-28T23:20:09.934Z"
   },
   {
    "duration": 1328,
    "start_time": "2022-08-28T23:20:35.074Z"
   },
   {
    "duration": 1799,
    "start_time": "2022-08-28T23:22:02.284Z"
   },
   {
    "duration": 1932,
    "start_time": "2022-08-28T23:23:04.976Z"
   },
   {
    "duration": 1814,
    "start_time": "2022-08-28T23:23:20.324Z"
   },
   {
    "duration": 1843,
    "start_time": "2022-08-28T23:23:26.895Z"
   },
   {
    "duration": 1745,
    "start_time": "2022-08-28T23:23:35.161Z"
   },
   {
    "duration": 1903,
    "start_time": "2022-08-28T23:24:56.695Z"
   },
   {
    "duration": 1369,
    "start_time": "2022-08-28T23:25:21.165Z"
   },
   {
    "duration": 34,
    "start_time": "2022-08-28T23:25:22.536Z"
   },
   {
    "duration": 17,
    "start_time": "2022-08-28T23:25:22.572Z"
   },
   {
    "duration": 16,
    "start_time": "2022-08-28T23:25:22.591Z"
   },
   {
    "duration": 3,
    "start_time": "2022-08-28T23:25:22.609Z"
   },
   {
    "duration": 9,
    "start_time": "2022-08-28T23:25:22.614Z"
   },
   {
    "duration": 12,
    "start_time": "2022-08-28T23:25:22.625Z"
   },
   {
    "duration": 62,
    "start_time": "2022-08-28T23:25:22.638Z"
   },
   {
    "duration": 15,
    "start_time": "2022-08-28T23:25:22.701Z"
   },
   {
    "duration": 169,
    "start_time": "2022-08-28T23:25:22.718Z"
   },
   {
    "duration": 648,
    "start_time": "2022-08-28T23:25:22.888Z"
   },
   {
    "duration": 10,
    "start_time": "2022-08-28T23:25:23.537Z"
   },
   {
    "duration": 1873,
    "start_time": "2022-08-28T23:25:23.549Z"
   },
   {
    "duration": 985,
    "start_time": "2022-08-28T23:25:25.424Z"
   },
   {
    "duration": 1045,
    "start_time": "2022-08-28T23:32:42.039Z"
   },
   {
    "duration": 3231,
    "start_time": "2022-08-28T23:44:19.771Z"
   },
   {
    "duration": 34,
    "start_time": "2022-08-28T23:44:23.003Z"
   },
   {
    "duration": 14,
    "start_time": "2022-08-28T23:44:23.039Z"
   },
   {
    "duration": 14,
    "start_time": "2022-08-28T23:44:23.055Z"
   },
   {
    "duration": 3,
    "start_time": "2022-08-28T23:44:23.071Z"
   },
   {
    "duration": 9,
    "start_time": "2022-08-28T23:44:23.075Z"
   },
   {
    "duration": 10,
    "start_time": "2022-08-28T23:44:23.086Z"
   },
   {
    "duration": 42,
    "start_time": "2022-08-28T23:44:23.097Z"
   },
   {
    "duration": 14,
    "start_time": "2022-08-28T23:44:23.140Z"
   },
   {
    "duration": 153,
    "start_time": "2022-08-28T23:44:23.156Z"
   },
   {
    "duration": 630,
    "start_time": "2022-08-28T23:44:23.311Z"
   },
   {
    "duration": 9,
    "start_time": "2022-08-28T23:44:23.943Z"
   },
   {
    "duration": 1795,
    "start_time": "2022-08-28T23:44:23.954Z"
   },
   {
    "duration": 1010,
    "start_time": "2022-08-28T23:44:25.751Z"
   },
   {
    "duration": 4,
    "start_time": "2022-08-28T23:46:04.465Z"
   },
   {
    "duration": 6,
    "start_time": "2022-08-28T23:46:29.274Z"
   },
   {
    "duration": 5,
    "start_time": "2022-08-28T23:48:06.214Z"
   },
   {
    "duration": 8,
    "start_time": "2022-08-28T23:48:06.558Z"
   },
   {
    "duration": 7,
    "start_time": "2022-08-28T23:48:33.598Z"
   },
   {
    "duration": 6,
    "start_time": "2022-08-28T23:49:22.218Z"
   },
   {
    "duration": 5,
    "start_time": "2022-08-28T23:51:22.187Z"
   },
   {
    "duration": 103,
    "start_time": "2022-08-28T23:58:14.645Z"
   },
   {
    "duration": 7,
    "start_time": "2022-08-29T00:04:22.783Z"
   },
   {
    "duration": 102,
    "start_time": "2022-08-29T00:04:23.310Z"
   },
   {
    "duration": 523,
    "start_time": "2022-08-29T00:04:26.997Z"
   },
   {
    "duration": 382,
    "start_time": "2022-08-29T00:04:36.311Z"
   },
   {
    "duration": 461,
    "start_time": "2022-08-29T00:04:43.367Z"
   },
   {
    "duration": 11,
    "start_time": "2022-08-29T00:04:59.598Z"
   },
   {
    "duration": 363,
    "start_time": "2022-08-29T00:05:04.549Z"
   },
   {
    "duration": 356,
    "start_time": "2022-08-29T00:05:08.598Z"
   },
   {
    "duration": 12,
    "start_time": "2022-08-29T00:05:13.981Z"
   },
   {
    "duration": 113,
    "start_time": "2022-08-29T00:05:17.486Z"
   },
   {
    "duration": 462,
    "start_time": "2022-08-29T00:05:21.043Z"
   },
   {
    "duration": 465,
    "start_time": "2022-08-29T00:05:24.444Z"
   },
   {
    "duration": 459,
    "start_time": "2022-08-29T00:05:34.236Z"
   },
   {
    "duration": 7,
    "start_time": "2022-08-29T00:13:23.302Z"
   },
   {
    "duration": 113,
    "start_time": "2022-08-29T00:13:23.675Z"
   },
   {
    "duration": 368,
    "start_time": "2022-08-29T00:13:23.988Z"
   },
   {
    "duration": 452,
    "start_time": "2022-08-29T00:13:24.358Z"
   },
   {
    "duration": 6,
    "start_time": "2022-08-29T00:15:20.709Z"
   },
   {
    "duration": 233,
    "start_time": "2022-08-29T00:15:21.157Z"
   },
   {
    "duration": 371,
    "start_time": "2022-08-29T00:15:23.469Z"
   },
   {
    "duration": 515,
    "start_time": "2022-08-29T00:15:26.002Z"
   },
   {
    "duration": 152,
    "start_time": "2022-08-29T00:19:07.792Z"
   },
   {
    "duration": 161,
    "start_time": "2022-08-29T00:19:49.967Z"
   },
   {
    "duration": 9,
    "start_time": "2022-08-29T00:22:41.875Z"
   },
   {
    "duration": 6,
    "start_time": "2022-08-29T00:22:58.337Z"
   },
   {
    "duration": 13,
    "start_time": "2022-08-29T00:23:03.187Z"
   },
   {
    "duration": 11,
    "start_time": "2022-08-29T00:23:17.898Z"
   },
   {
    "duration": 11,
    "start_time": "2022-08-29T00:23:48.212Z"
   },
   {
    "duration": 11,
    "start_time": "2022-08-29T00:24:02.064Z"
   },
   {
    "duration": 466,
    "start_time": "2022-08-29T00:28:21.409Z"
   },
   {
    "duration": 163,
    "start_time": "2022-08-29T00:28:21.878Z"
   },
   {
    "duration": 11,
    "start_time": "2022-08-29T00:28:23.177Z"
   },
   {
    "duration": 9,
    "start_time": "2022-08-29T00:36:09.710Z"
   },
   {
    "duration": 16,
    "start_time": "2022-08-29T00:36:55.811Z"
   },
   {
    "duration": 9,
    "start_time": "2022-08-29T00:37:08.596Z"
   },
   {
    "duration": 8,
    "start_time": "2022-08-29T00:39:40.451Z"
   },
   {
    "duration": 11,
    "start_time": "2022-08-29T00:39:54.547Z"
   },
   {
    "duration": 12,
    "start_time": "2022-08-29T00:39:56.747Z"
   },
   {
    "duration": 10,
    "start_time": "2022-08-29T00:39:57.598Z"
   },
   {
    "duration": 9,
    "start_time": "2022-08-29T00:40:04.608Z"
   },
   {
    "duration": 11,
    "start_time": "2022-08-29T00:40:08.783Z"
   },
   {
    "duration": 10,
    "start_time": "2022-08-29T00:40:10.182Z"
   },
   {
    "duration": 16,
    "start_time": "2022-08-29T00:43:44.993Z"
   },
   {
    "duration": 570,
    "start_time": "2022-08-29T00:43:50.344Z"
   },
   {
    "duration": 10,
    "start_time": "2022-08-29T00:45:05.006Z"
   },
   {
    "duration": 9,
    "start_time": "2022-08-29T00:45:18.296Z"
   },
   {
    "duration": 8,
    "start_time": "2022-08-29T00:45:21.494Z"
   },
   {
    "duration": 9,
    "start_time": "2022-08-29T00:47:13.379Z"
   },
   {
    "duration": 564,
    "start_time": "2022-08-29T00:47:18.455Z"
   },
   {
    "duration": 10,
    "start_time": "2022-08-29T00:47:30.812Z"
   },
   {
    "duration": 8,
    "start_time": "2022-08-29T00:47:33.268Z"
   },
   {
    "duration": 581,
    "start_time": "2022-08-29T00:47:33.611Z"
   },
   {
    "duration": 1384,
    "start_time": "2022-08-29T00:47:37.751Z"
   },
   {
    "duration": 34,
    "start_time": "2022-08-29T00:47:39.137Z"
   },
   {
    "duration": 17,
    "start_time": "2022-08-29T00:47:39.172Z"
   },
   {
    "duration": 15,
    "start_time": "2022-08-29T00:47:39.190Z"
   },
   {
    "duration": 5,
    "start_time": "2022-08-29T00:47:39.206Z"
   },
   {
    "duration": 17,
    "start_time": "2022-08-29T00:47:39.213Z"
   },
   {
    "duration": 11,
    "start_time": "2022-08-29T00:47:39.231Z"
   },
   {
    "duration": 51,
    "start_time": "2022-08-29T00:47:39.243Z"
   },
   {
    "duration": 16,
    "start_time": "2022-08-29T00:47:39.295Z"
   },
   {
    "duration": 159,
    "start_time": "2022-08-29T00:47:39.314Z"
   },
   {
    "duration": 664,
    "start_time": "2022-08-29T00:47:39.474Z"
   },
   {
    "duration": 10,
    "start_time": "2022-08-29T00:47:40.140Z"
   },
   {
    "duration": 1870,
    "start_time": "2022-08-29T00:47:40.152Z"
   },
   {
    "duration": 972,
    "start_time": "2022-08-29T00:47:42.024Z"
   },
   {
    "duration": 4,
    "start_time": "2022-08-29T00:47:42.998Z"
   },
   {
    "duration": 10,
    "start_time": "2022-08-29T00:47:43.003Z"
   },
   {
    "duration": 374,
    "start_time": "2022-08-29T00:47:43.015Z"
   },
   {
    "duration": 463,
    "start_time": "2022-08-29T00:47:43.391Z"
   },
   {
    "duration": 475,
    "start_time": "2022-08-29T00:47:43.856Z"
   },
   {
    "duration": 160,
    "start_time": "2022-08-29T00:47:44.333Z"
   },
   {
    "duration": 10,
    "start_time": "2022-08-29T00:47:44.494Z"
   },
   {
    "duration": 9,
    "start_time": "2022-08-29T00:47:44.506Z"
   },
   {
    "duration": 18,
    "start_time": "2022-08-29T00:47:44.516Z"
   },
   {
    "duration": 572,
    "start_time": "2022-08-29T00:47:44.535Z"
   },
   {
    "duration": 931,
    "start_time": "2022-08-29T00:48:24.126Z"
   },
   {
    "duration": 911,
    "start_time": "2022-08-29T00:48:44.366Z"
   },
   {
    "duration": 1040,
    "start_time": "2022-08-29T00:49:01.861Z"
   },
   {
    "duration": 1039,
    "start_time": "2022-08-29T00:50:38.707Z"
   },
   {
    "duration": 990,
    "start_time": "2022-08-29T00:51:09.538Z"
   },
   {
    "duration": 1506,
    "start_time": "2022-08-29T00:53:37.789Z"
   },
   {
    "duration": 4,
    "start_time": "2022-08-29T00:59:22.534Z"
   },
   {
    "duration": 1642,
    "start_time": "2022-08-29T01:00:41.563Z"
   },
   {
    "duration": 1701,
    "start_time": "2022-08-29T01:01:19.697Z"
   },
   {
    "duration": 873,
    "start_time": "2022-08-29T01:03:45.740Z"
   },
   {
    "duration": 1602,
    "start_time": "2022-08-29T01:04:02.294Z"
   },
   {
    "duration": 1573,
    "start_time": "2022-08-29T01:04:09.119Z"
   },
   {
    "duration": 852,
    "start_time": "2022-08-29T01:04:15.638Z"
   },
   {
    "duration": 1531,
    "start_time": "2022-08-29T01:05:48.567Z"
   },
   {
    "duration": 3650,
    "start_time": "2022-08-29T01:06:52.823Z"
   },
   {
    "duration": 562,
    "start_time": "2022-08-29T01:08:44.958Z"
   },
   {
    "duration": 746,
    "start_time": "2022-08-29T01:11:17.698Z"
   },
   {
    "duration": 591,
    "start_time": "2022-08-29T01:12:09.256Z"
   },
   {
    "duration": 586,
    "start_time": "2022-08-29T01:12:27.973Z"
   },
   {
    "duration": 11,
    "start_time": "2022-08-29T01:17:22.423Z"
   },
   {
    "duration": 4772,
    "start_time": "2022-08-29T01:17:33.526Z"
   },
   {
    "duration": 1594,
    "start_time": "2022-08-29T01:19:33.605Z"
   },
   {
    "duration": 1454,
    "start_time": "2022-08-29T01:19:41.339Z"
   },
   {
    "duration": 1629,
    "start_time": "2022-08-29T01:19:48.467Z"
   },
   {
    "duration": 5,
    "start_time": "2022-08-29T01:20:37.778Z"
   },
   {
    "duration": 6,
    "start_time": "2022-08-29T01:20:48.668Z"
   },
   {
    "duration": 3,
    "start_time": "2022-08-29T01:53:26.291Z"
   },
   {
    "duration": 1764,
    "start_time": "2022-08-29T01:55:06.314Z"
   },
   {
    "duration": 1875,
    "start_time": "2022-08-29T01:55:19.650Z"
   },
   {
    "duration": 1849,
    "start_time": "2022-08-29T01:56:19.346Z"
   },
   {
    "duration": 1895,
    "start_time": "2022-08-29T01:56:35.705Z"
   },
   {
    "duration": 1623,
    "start_time": "2022-08-29T01:56:41.231Z"
   },
   {
    "duration": 54,
    "start_time": "2022-08-29T01:56:54.824Z"
   },
   {
    "duration": 2094,
    "start_time": "2022-08-29T01:57:02.872Z"
   },
   {
    "duration": 1978,
    "start_time": "2022-08-29T01:57:17.736Z"
   },
   {
    "duration": 1980,
    "start_time": "2022-08-29T01:57:40.518Z"
   },
   {
    "duration": 2450,
    "start_time": "2022-08-29T01:58:30.175Z"
   },
   {
    "duration": 2243,
    "start_time": "2022-08-29T02:04:46.851Z"
   },
   {
    "duration": 2438,
    "start_time": "2022-08-29T02:05:40.922Z"
   },
   {
    "duration": 2653,
    "start_time": "2022-08-29T02:07:00.364Z"
   },
   {
    "duration": 1964,
    "start_time": "2022-08-29T02:26:16.451Z"
   },
   {
    "duration": 32,
    "start_time": "2022-08-29T02:26:18.417Z"
   },
   {
    "duration": 15,
    "start_time": "2022-08-29T02:26:18.451Z"
   },
   {
    "duration": 15,
    "start_time": "2022-08-29T02:26:18.468Z"
   },
   {
    "duration": 3,
    "start_time": "2022-08-29T02:26:18.484Z"
   },
   {
    "duration": 11,
    "start_time": "2022-08-29T02:26:18.489Z"
   },
   {
    "duration": 9,
    "start_time": "2022-08-29T02:26:18.502Z"
   },
   {
    "duration": 41,
    "start_time": "2022-08-29T02:26:18.512Z"
   },
   {
    "duration": 15,
    "start_time": "2022-08-29T02:26:18.554Z"
   },
   {
    "duration": 146,
    "start_time": "2022-08-29T02:26:18.571Z"
   },
   {
    "duration": 622,
    "start_time": "2022-08-29T02:26:18.719Z"
   },
   {
    "duration": 10,
    "start_time": "2022-08-29T02:26:19.343Z"
   },
   {
    "duration": 1783,
    "start_time": "2022-08-29T02:26:19.354Z"
   },
   {
    "duration": 948,
    "start_time": "2022-08-29T02:26:21.139Z"
   },
   {
    "duration": 4,
    "start_time": "2022-08-29T02:26:22.089Z"
   },
   {
    "duration": 9,
    "start_time": "2022-08-29T02:26:22.095Z"
   },
   {
    "duration": 290,
    "start_time": "2022-08-29T02:26:22.105Z"
   },
   {
    "duration": 362,
    "start_time": "2022-08-29T02:26:22.486Z"
   },
   {
    "duration": 464,
    "start_time": "2022-08-29T02:26:22.849Z"
   },
   {
    "duration": 151,
    "start_time": "2022-08-29T02:26:23.315Z"
   },
   {
    "duration": 20,
    "start_time": "2022-08-29T02:26:23.468Z"
   },
   {
    "duration": 8,
    "start_time": "2022-08-29T02:26:23.489Z"
   },
   {
    "duration": 10,
    "start_time": "2022-08-29T02:26:23.499Z"
   },
   {
    "duration": 991,
    "start_time": "2022-08-29T02:26:23.511Z"
   },
   {
    "duration": 1495,
    "start_time": "2022-08-29T02:26:24.503Z"
   },
   {
    "duration": 2907,
    "start_time": "2022-08-29T02:26:26.000Z"
   },
   {
    "duration": 1031,
    "start_time": "2022-08-29T02:26:28.908Z"
   },
   {
    "duration": 83,
    "start_time": "2022-08-29T13:35:59.854Z"
   },
   {
    "duration": 2300,
    "start_time": "2022-08-29T13:58:12.294Z"
   },
   {
    "duration": 72,
    "start_time": "2022-08-29T13:58:14.596Z"
   },
   {
    "duration": 16,
    "start_time": "2022-08-29T13:58:14.669Z"
   },
   {
    "duration": 16,
    "start_time": "2022-08-29T13:58:14.687Z"
   },
   {
    "duration": 4,
    "start_time": "2022-08-29T13:58:14.705Z"
   },
   {
    "duration": 14,
    "start_time": "2022-08-29T13:58:14.710Z"
   },
   {
    "duration": 11,
    "start_time": "2022-08-29T13:58:14.726Z"
   },
   {
    "duration": 43,
    "start_time": "2022-08-29T13:58:14.738Z"
   },
   {
    "duration": 30,
    "start_time": "2022-08-29T13:58:14.783Z"
   },
   {
    "duration": 143,
    "start_time": "2022-08-29T13:58:14.815Z"
   },
   {
    "duration": 718,
    "start_time": "2022-08-29T13:58:14.960Z"
   },
   {
    "duration": 10,
    "start_time": "2022-08-29T13:58:15.680Z"
   },
   {
    "duration": 1893,
    "start_time": "2022-08-29T13:58:15.700Z"
   },
   {
    "duration": 899,
    "start_time": "2022-08-29T13:58:17.595Z"
   },
   {
    "duration": 6,
    "start_time": "2022-08-29T13:58:18.496Z"
   },
   {
    "duration": 21,
    "start_time": "2022-08-29T13:58:18.504Z"
   },
   {
    "duration": 278,
    "start_time": "2022-08-29T13:58:18.527Z"
   },
   {
    "duration": 441,
    "start_time": "2022-08-29T13:58:18.807Z"
   },
   {
    "duration": 423,
    "start_time": "2022-08-29T13:58:19.250Z"
   },
   {
    "duration": 153,
    "start_time": "2022-08-29T13:58:19.675Z"
   },
   {
    "duration": 12,
    "start_time": "2022-08-29T13:58:19.830Z"
   },
   {
    "duration": 33,
    "start_time": "2022-08-29T13:58:19.843Z"
   },
   {
    "duration": 36,
    "start_time": "2022-08-29T13:58:19.878Z"
   },
   {
    "duration": 190,
    "start_time": "2022-08-29T13:58:37.021Z"
   },
   {
    "duration": 169,
    "start_time": "2022-08-29T13:58:42.550Z"
   },
   {
    "duration": 5,
    "start_time": "2022-08-29T14:04:00.584Z"
   },
   {
    "duration": 1695,
    "start_time": "2022-08-29T14:06:49.244Z"
   },
   {
    "duration": 35,
    "start_time": "2022-08-29T14:06:50.941Z"
   },
   {
    "duration": 17,
    "start_time": "2022-08-29T14:06:50.978Z"
   },
   {
    "duration": 23,
    "start_time": "2022-08-29T14:06:50.998Z"
   },
   {
    "duration": 3,
    "start_time": "2022-08-29T14:06:51.023Z"
   },
   {
    "duration": 7,
    "start_time": "2022-08-29T14:06:51.027Z"
   },
   {
    "duration": 9,
    "start_time": "2022-08-29T14:06:51.036Z"
   },
   {
    "duration": 56,
    "start_time": "2022-08-29T14:06:51.047Z"
   },
   {
    "duration": 14,
    "start_time": "2022-08-29T14:06:51.104Z"
   },
   {
    "duration": 148,
    "start_time": "2022-08-29T14:06:51.121Z"
   },
   {
    "duration": 684,
    "start_time": "2022-08-29T14:06:51.271Z"
   },
   {
    "duration": 9,
    "start_time": "2022-08-29T14:06:51.957Z"
   },
   {
    "duration": 1883,
    "start_time": "2022-08-29T14:06:51.968Z"
   },
   {
    "duration": 987,
    "start_time": "2022-08-29T14:06:53.852Z"
   },
   {
    "duration": 5,
    "start_time": "2022-08-29T14:06:54.841Z"
   },
   {
    "duration": 9,
    "start_time": "2022-08-29T14:06:54.848Z"
   },
   {
    "duration": 341,
    "start_time": "2022-08-29T14:06:54.859Z"
   },
   {
    "duration": 449,
    "start_time": "2022-08-29T14:06:55.202Z"
   },
   {
    "duration": 443,
    "start_time": "2022-08-29T14:06:55.653Z"
   },
   {
    "duration": 155,
    "start_time": "2022-08-29T14:06:56.100Z"
   },
   {
    "duration": 10,
    "start_time": "2022-08-29T14:06:56.257Z"
   },
   {
    "duration": 14,
    "start_time": "2022-08-29T14:06:56.269Z"
   },
   {
    "duration": 174,
    "start_time": "2022-08-29T14:06:56.285Z"
   },
   {
    "duration": 10,
    "start_time": "2022-08-29T14:06:56.460Z"
   },
   {
    "duration": 984,
    "start_time": "2022-08-29T14:06:56.471Z"
   },
   {
    "duration": 1244,
    "start_time": "2022-08-29T14:06:57.457Z"
   },
   {
    "duration": 4,
    "start_time": "2022-08-29T14:06:58.703Z"
   },
   {
    "duration": 2606,
    "start_time": "2022-08-29T14:06:58.710Z"
   },
   {
    "duration": 639,
    "start_time": "2022-08-29T14:07:01.319Z"
   },
   {
    "duration": 94,
    "start_time": "2022-08-29T19:37:59.263Z"
   },
   {
    "duration": 151,
    "start_time": "2022-08-29T19:38:17.373Z"
   },
   {
    "duration": 134,
    "start_time": "2022-08-29T19:38:31.839Z"
   },
   {
    "duration": 1937,
    "start_time": "2022-08-29T19:59:16.192Z"
   },
   {
    "duration": 13,
    "start_time": "2022-08-29T19:59:32.611Z"
   },
   {
    "duration": 11,
    "start_time": "2022-08-29T19:59:36.147Z"
   },
   {
    "duration": 7,
    "start_time": "2022-08-29T19:59:58.794Z"
   },
   {
    "duration": 246,
    "start_time": "2022-08-29T20:00:54.307Z"
   },
   {
    "duration": 5,
    "start_time": "2022-08-29T20:17:49.527Z"
   },
   {
    "duration": 36,
    "start_time": "2022-08-29T20:17:58.206Z"
   },
   {
    "duration": 22,
    "start_time": "2022-08-29T20:18:00.182Z"
   },
   {
    "duration": 24,
    "start_time": "2022-08-29T20:18:01.645Z"
   },
   {
    "duration": 3,
    "start_time": "2022-08-29T20:18:03.029Z"
   },
   {
    "duration": 4,
    "start_time": "2022-08-29T20:18:10.307Z"
   },
   {
    "duration": 11,
    "start_time": "2022-08-29T20:18:10.668Z"
   },
   {
    "duration": 12,
    "start_time": "2022-08-29T20:18:43.564Z"
   },
   {
    "duration": 14,
    "start_time": "2022-08-29T20:18:58.932Z"
   },
   {
    "duration": 14,
    "start_time": "2022-08-29T20:19:02.244Z"
   },
   {
    "duration": 12,
    "start_time": "2022-08-29T20:19:03.289Z"
   },
   {
    "duration": 10,
    "start_time": "2022-08-29T20:22:19.048Z"
   },
   {
    "duration": 9,
    "start_time": "2022-08-29T20:22:20.167Z"
   },
   {
    "duration": 15,
    "start_time": "2022-08-29T20:22:39.525Z"
   },
   {
    "duration": 16140,
    "start_time": "2022-08-29T20:22:43.716Z"
   },
   {
    "duration": 617,
    "start_time": "2022-08-29T20:22:59.859Z"
   },
   {
    "duration": 18168,
    "start_time": "2022-08-29T20:23:01.580Z"
   },
   {
    "duration": 3,
    "start_time": "2022-08-29T20:25:29.081Z"
   },
   {
    "duration": 57,
    "start_time": "2022-08-29T20:26:00.442Z"
   },
   {
    "duration": 2,
    "start_time": "2022-08-29T20:26:24.280Z"
   },
   {
    "duration": 26,
    "start_time": "2022-08-29T20:26:34.680Z"
   },
   {
    "duration": 18,
    "start_time": "2022-08-29T20:26:46.369Z"
   },
   {
    "duration": 18,
    "start_time": "2022-08-29T20:26:48.566Z"
   },
   {
    "duration": 19,
    "start_time": "2022-08-29T20:27:16.054Z"
   },
   {
    "duration": 219,
    "start_time": "2022-08-29T20:36:01.418Z"
   },
   {
    "duration": 158,
    "start_time": "2022-08-29T20:36:09.912Z"
   },
   {
    "duration": 1615,
    "start_time": "2022-08-29T20:36:11.850Z"
   },
   {
    "duration": 531,
    "start_time": "2022-08-29T20:36:32.920Z"
   },
   {
    "duration": 1579,
    "start_time": "2022-08-29T20:36:39.639Z"
   },
   {
    "duration": 2322,
    "start_time": "2022-08-29T20:36:54.072Z"
   },
   {
    "duration": 2184,
    "start_time": "2022-08-29T20:37:15.506Z"
   },
   {
    "duration": 2047,
    "start_time": "2022-08-29T20:37:30.040Z"
   },
   {
    "duration": 2344,
    "start_time": "2022-08-29T20:37:37.463Z"
   },
   {
    "duration": 2351,
    "start_time": "2022-08-29T20:37:49.329Z"
   },
   {
    "duration": 2137,
    "start_time": "2022-08-29T20:38:11.907Z"
   },
   {
    "duration": 23,
    "start_time": "2022-08-29T20:38:21.188Z"
   },
   {
    "duration": 2492,
    "start_time": "2022-08-29T20:46:01.330Z"
   },
   {
    "duration": 2509,
    "start_time": "2022-08-29T20:46:32.904Z"
   },
   {
    "duration": 2118,
    "start_time": "2022-08-29T20:48:02.290Z"
   },
   {
    "duration": 1150,
    "start_time": "2022-08-29T20:48:36.739Z"
   },
   {
    "duration": 1113,
    "start_time": "2022-08-29T20:48:47.940Z"
   },
   {
    "duration": 1140,
    "start_time": "2022-08-29T20:48:59.452Z"
   },
   {
    "duration": 1532,
    "start_time": "2022-08-29T20:49:31.453Z"
   },
   {
    "duration": 1162,
    "start_time": "2022-08-29T20:49:56.038Z"
   },
   {
    "duration": 16,
    "start_time": "2022-08-29T21:00:46.704Z"
   },
   {
    "duration": 4,
    "start_time": "2022-08-29T21:00:50.729Z"
   },
   {
    "duration": 7,
    "start_time": "2022-08-29T21:00:51.560Z"
   },
   {
    "duration": 173,
    "start_time": "2022-08-29T21:00:53.737Z"
   },
   {
    "duration": 401,
    "start_time": "2022-08-29T21:02:55.006Z"
   },
   {
    "duration": 136,
    "start_time": "2022-08-29T21:04:15.394Z"
   },
   {
    "duration": 502,
    "start_time": "2022-08-29T21:04:22.052Z"
   },
   {
    "duration": 159,
    "start_time": "2022-08-29T21:04:25.524Z"
   },
   {
    "duration": 12,
    "start_time": "2022-08-29T21:05:23.163Z"
   },
   {
    "duration": 12,
    "start_time": "2022-08-29T21:05:33.583Z"
   },
   {
    "duration": 232,
    "start_time": "2022-08-29T21:06:11.980Z"
   },
   {
    "duration": 12,
    "start_time": "2022-08-29T21:06:39.379Z"
   },
   {
    "duration": 1091,
    "start_time": "2022-08-29T21:06:39.742Z"
   },
   {
    "duration": 1553,
    "start_time": "2022-08-29T21:12:27.349Z"
   },
   {
    "duration": 9,
    "start_time": "2022-08-29T21:12:52.112Z"
   },
   {
    "duration": 1031,
    "start_time": "2022-08-29T21:12:52.123Z"
   },
   {
    "duration": 1454,
    "start_time": "2022-08-29T21:12:53.156Z"
   },
   {
    "duration": 5,
    "start_time": "2022-08-29T21:12:54.612Z"
   },
   {
    "duration": 3012,
    "start_time": "2022-08-29T21:12:54.619Z"
   },
   {
    "duration": 631,
    "start_time": "2022-08-29T21:13:26.996Z"
   }
  ],
  "kernelspec": {
   "display_name": "Python 3 (ipykernel)",
   "language": "python",
   "name": "python3"
  },
  "language_info": {
   "codemirror_mode": {
    "name": "ipython",
    "version": 3
   },
   "file_extension": ".py",
   "mimetype": "text/x-python",
   "name": "python",
   "nbconvert_exporter": "python",
   "pygments_lexer": "ipython3",
   "version": "3.9.13"
  },
  "toc": {
   "base_numbering": 1,
   "nav_menu": {},
   "number_sections": false,
   "sideBar": true,
   "skip_h1_title": true,
   "title_cell": "Содержание",
   "title_sidebar": "Содержание",
   "toc_cell": true,
   "toc_position": {
    "height": "calc(100% - 180px)",
    "left": "10px",
    "top": "150px",
    "width": "165px"
   },
   "toc_section_display": true,
   "toc_window_display": true
  }
 },
 "nbformat": 4,
 "nbformat_minor": 2
}
